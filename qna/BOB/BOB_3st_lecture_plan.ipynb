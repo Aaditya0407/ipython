{
 "metadata": {
  "name": "",
  "signature": "sha256:61b2db0a98426a6d64f26ee6d38569e072eb58c6d0b12997de6075b049344f57"
 },
 "nbformat": 3,
 "nbformat_minor": 0,
 "worksheets": [
  {
   "cells": [
    {
     "cell_type": "markdown",
     "metadata": {},
     "source": [
      "# BOB 3\uae30 \uac15\uc758 \uc77c\uc815"
     ]
    },
    {
     "cell_type": "code",
     "collapsed": false,
     "input": [
      "from IPython.display import IFrame"
     ],
     "language": "python",
     "metadata": {},
     "outputs": [],
     "prompt_number": 1
    },
    {
     "cell_type": "markdown",
     "metadata": {},
     "source": [
      "## \uacf5\ud1b5 \uad50\uc721"
     ]
    },
    {
     "cell_type": "code",
     "collapsed": false,
     "input": [
      "IFrame('https://www.google.com/calendar/embed?src=dtimhio5nc36kab4bfo16m2pik%40group.calendar.google.com&ctz=Asia/Seoul', width=800, height=600)"
     ],
     "language": "python",
     "metadata": {},
     "outputs": [
      {
       "html": [
        "\n",
        "        <iframe\n",
        "            width=\"800\"\n",
        "            height=600\"\n",
        "            src=\"https://www.google.com/calendar/embed?src=dtimhio5nc36kab4bfo16m2pik%40group.calendar.google.com&ctz=Asia/Seoul\"\n",
        "            frameborder=\"0\"\n",
        "            allowfullscreen\n",
        "        ></iframe>\n",
        "        "
       ],
       "metadata": {},
       "output_type": "pyout",
       "prompt_number": 9,
       "text": [
        "<IPython.lib.display.IFrame at 0x10e42c410>"
       ]
      }
     ],
     "prompt_number": 9
    },
    {
     "cell_type": "markdown",
     "metadata": {},
     "source": [
      "## \ubaa8\uc758 \uce68\ud22c \uc2dc\uac04\ud45c"
     ]
    },
    {
     "cell_type": "code",
     "collapsed": false,
     "input": [
      "IFrame('https://www.google.com/calendar/embed?src=c7a53n6hqakskueggvaimals8g%40group.calendar.google.com&ctz=Asia/Seoul', width=800, height=600)"
     ],
     "language": "python",
     "metadata": {},
     "outputs": [
      {
       "html": [
        "\n",
        "        <iframe\n",
        "            width=\"800\"\n",
        "            height=600\"\n",
        "            src=\"https://www.google.com/calendar/embed?src=c7a53n6hqakskueggvaimals8g%40group.calendar.google.com&ctz=Asia/Seoul\"\n",
        "            frameborder=\"0\"\n",
        "            allowfullscreen\n",
        "        ></iframe>\n",
        "        "
       ],
       "metadata": {},
       "output_type": "pyout",
       "prompt_number": 12,
       "text": [
        "<IPython.lib.display.IFrame at 0x10e42c4d0>"
       ]
      }
     ],
     "prompt_number": 12
    },
    {
     "cell_type": "markdown",
     "metadata": {},
     "source": [
      "## \ub514\uc9c0\ud138 \ud3ec\ub80c\uc2dd \uc2dc\uac04\ud45c"
     ]
    },
    {
     "cell_type": "code",
     "collapsed": false,
     "input": [
      "IFrame('https://www.google.com/calendar/embed?src=pgo4mnt04qr08sun9g99g0vdc0%40group.calendar.google.com&ctz=Asia/Seoul', width=800, height=600)"
     ],
     "language": "python",
     "metadata": {},
     "outputs": [
      {
       "html": [
        "\n",
        "        <iframe\n",
        "            width=\"800\"\n",
        "            height=600\"\n",
        "            src=\"https://www.google.com/calendar/embed?src=pgo4mnt04qr08sun9g99g0vdc0%40group.calendar.google.com&ctz=Asia/Seoul\"\n",
        "            frameborder=\"0\"\n",
        "            allowfullscreen\n",
        "        ></iframe>\n",
        "        "
       ],
       "metadata": {},
       "output_type": "pyout",
       "prompt_number": 13,
       "text": [
        "<IPython.lib.display.IFrame at 0x10e42c150>"
       ]
      }
     ],
     "prompt_number": 13
    },
    {
     "cell_type": "markdown",
     "metadata": {},
     "source": [
      "## \uc81c\ud488\ubcf4\uc548 \uc2dc\uac04\ud45c"
     ]
    },
    {
     "cell_type": "code",
     "collapsed": false,
     "input": [
      "IFrame('https://www.google.com/calendar/embed?src=s8urlg16h5u4lak0kra9oq8p30%40group.calendar.google.com&ctz=Asia/Seoul', width=800, height=600)"
     ],
     "language": "python",
     "metadata": {},
     "outputs": [
      {
       "html": [
        "\n",
        "        <iframe\n",
        "            width=\"800\"\n",
        "            height=600\"\n",
        "            src=\"https://www.google.com/calendar/embed?src=s8urlg16h5u4lak0kra9oq8p30%40group.calendar.google.com&ctz=Asia/Seoul\"\n",
        "            frameborder=\"0\"\n",
        "            allowfullscreen\n",
        "        ></iframe>\n",
        "        "
       ],
       "metadata": {},
       "output_type": "pyout",
       "prompt_number": 14,
       "text": [
        "<IPython.lib.display.IFrame at 0x10e42c490>"
       ]
      }
     ],
     "prompt_number": 14
    },
    {
     "cell_type": "markdown",
     "metadata": {},
     "source": [
      "## \ucee8\uc124\ud305 \uc2dc\uac04\ud45c"
     ]
    },
    {
     "cell_type": "code",
     "collapsed": false,
     "input": [
      "IFrame('https://www.google.com/calendar/embed?src=v5h2hgpicjbd07g39ndl1scflc%40group.calendar.google.com&ctz=Asia/Seoul', width=800, height=600)"
     ],
     "language": "python",
     "metadata": {},
     "outputs": [
      {
       "html": [
        "\n",
        "        <iframe\n",
        "            width=\"800\"\n",
        "            height=600\"\n",
        "            src=\"https://www.google.com/calendar/embed?src=v5h2hgpicjbd07g39ndl1scflc%40group.calendar.google.com&ctz=Asia/Seoul\"\n",
        "            frameborder=\"0\"\n",
        "            allowfullscreen\n",
        "        ></iframe>\n",
        "        "
       ],
       "metadata": {},
       "output_type": "pyout",
       "prompt_number": 15,
       "text": [
        "<IPython.lib.display.IFrame at 0x10e42c050>"
       ]
      }
     ],
     "prompt_number": 15
    },
    {
     "cell_type": "markdown",
     "metadata": {},
     "source": [
      "### IFrame \uc0c1\uc18d \ubc1b\uc544\uc11c width, height \uc548 \uc918\ub3c4 default\ub85c \ub4e4\uc5b4\uac00\uac8c \ud558\uae30(~ing)"
     ]
    },
    {
     "cell_type": "code",
     "collapsed": false,
     "input": [
      "class iframe(IFrame):\n",
      "    def __init__(self, src, width=800, height=600):\n",
      "        self.src = src\n",
      "        self.width = width\n",
      "        self.height = height\n",
      "        IFrame(self.src, self.width, self.height)"
     ],
     "language": "python",
     "metadata": {},
     "outputs": [],
     "prompt_number": 20
    },
    {
     "cell_type": "code",
     "collapsed": false,
     "input": [
      "iframe(src='https://www.google.com/calendar/embed?src=dtimhio5nc36kab4bfo16m2pik%40group.calendar.google.com&ctz=Asia/Seoul')"
     ],
     "language": "python",
     "metadata": {},
     "outputs": [
      {
       "metadata": {},
       "output_type": "pyout",
       "prompt_number": 21,
       "text": [
        "<__main__.iframe at 0x10e42c7d0>"
       ]
      }
     ],
     "prompt_number": 21
    },
    {
     "cell_type": "code",
     "collapsed": false,
     "input": [],
     "language": "python",
     "metadata": {},
     "outputs": []
    }
   ],
   "metadata": {}
  }
 ]
}