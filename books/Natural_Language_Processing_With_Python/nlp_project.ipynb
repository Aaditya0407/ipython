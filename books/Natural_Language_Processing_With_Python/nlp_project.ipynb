{
 "metadata": {
  "celltoolbar": "Slideshow",
  "name": "",
  "signature": "sha256:4360bbc9bb64602a570be23777a0cca3fcc5e32ad812c83794d99f3641062277"
 },
 "nbformat": 3,
 "nbformat_minor": 0,
 "worksheets": [
  {
   "cells": [
    {
     "cell_type": "markdown",
     "metadata": {
      "slideshow": {
       "slide_type": "slide"
      }
     },
     "source": [
      "# Obfuscated characters detect"
     ]
    },
    {
     "cell_type": "markdown",
     "metadata": {
      "slideshow": {
       "slide_type": "slide"
      }
     },
     "source": [
      "## \uac1c\uc694\n",
      "\n",
      "1. \ubaa9\uc801\n",
      "2. \uac1c\ub150\ub3c4\n",
      "3. \uad6c\uc131\ub3c4\n",
      "4. \uc900\ube44\ubb3c\n",
      "5. \ub2e8\uacc4\n",
      "6. \ub370\ubaa8\n",
      "7. \ucc38\uace0\uc790\ub8cc"
     ]
    },
    {
     "cell_type": "markdown",
     "metadata": {
      "slideshow": {
       "slide_type": "slide"
      }
     },
     "source": [
      "### \ubaa9\uc801\n",
      "\n",
      "- \uba85\uc0ac \ubd80\ubd84\ub9cc \ub5bc\ub0b4\uc5b4\n",
      "- \uba85\uc0ac \ubd80\ubd84\ub9cc \ub5bc\ub0b4\uc5b4 \ud3ec\ud401\ucc98\ub7fc \ub9cc\ub4e4 \uc218 \uc788\uc744\uac83 \uac19\ub2e4.\n",
      "- \uc5b4\ub5a4 \ub2e8\uc5b4\uac00 \ub9ce\uc774 \uc4f0\uc774\ub294\uc9c0 \ud30c\uc545\ud574\uc11c \ud604\uc7ac\uc758 \ud750\ub984\uc744 \ud30c\uc545?\n",
      "- \uc545\uc131\ucf54\ub4dc \ud398\uc774\uc9c0\uc5d0\uc11c \uc815\uc0c1\uc801\uc778 \ub2e8\uc5b4\uac00 \ub9ce\uc740 \ud398\uc774\uc9c0 vs \ub09c\ub3c5\ud654 \uc2dc\ucf1c\ub193\uc740 \ud398\uc774\uc9c0(\uc54c \uc218 \uc5c6\ub294 \ub2e8\uc5b4\uc758 \uc5f0\uc18d, 3234488acnajd881nabakjh328akjasld \ub4f1)\n",
      "- [\ubcf4\uc548\ucd08\ubcf4 \uad11\uac8c\ubc14\ub77c :: \ub09c\ub3c5\ud654 \uac15\uc88c](http://kwangguevara.tistory.com/category/%EB%82%9C%EB%8F%85%ED%99%94/%EB%82%9C%EB%8F%85%ED%99%94%20%EA%B0%95%EC%A2%8C)\n",
      "- [\uc790\ubc14\uc2a4\ud06c\ub9bd\ud2b8 \ub09c\ub3c5\ud654 \uac15\uc88c](http://image.ahnlab.com/file_upload/tech/javascript.pdf)\n",
      "- [\ub09c\ub3c5\ud654 \uacf5\uaca9\ucf54\ub4dc \uc0ac\ub840](cfile4.uf.tistory.com/attach/1101F1404EB8857C138F76)"
     ]
    },
    {
     "cell_type": "markdown",
     "metadata": {
      "slideshow": {
       "slide_type": "slide"
      }
     },
     "source": [
      "### \uac1c\ub150\ub3c4(\ud3ec\ud401)\n",
      "\n",
      "<img src=\"images/word_cloud.png\" />"
     ]
    },
    {
     "cell_type": "markdown",
     "metadata": {
      "slideshow": {
       "slide_type": "slide"
      }
     },
     "source": [
      "### \uac1c\ub150\ub3c4(\ud3ec\ud401)\n",
      "\n",
      "<img src=\"images/word_cloud2.png\" />"
     ]
    },
    {
     "cell_type": "markdown",
     "metadata": {
      "slideshow": {
       "slide_type": "slide"
      }
     },
     "source": [
      "### \ud1b5\uacc4\uc801 \uc694\uc18c\n",
      "\n",
      "- \ub09c\ub3c5\ud654 \ub41c \ubb38\uc790\ub4e4\uc758 \ud1b5\uacc4\ub97c \ubf51\uc544\uc11c \ucd9c\ub825\n",
      "- \uc5ec\uae30\uc5d0\uc11c \ud2b9\uc815\ud55c \ud328\ud134\ub4e4\uc774 \ubc1c\uc0dd\ud560 \uc218 \uc788\uc73c\ub2c8 \uadf8\uac83\ub4e4\uc758 \ud2b9\uc9d5\ub4e4\uc744 \ubf51\uc544\ub0b4\uc11c \ud655\ub960\uc801\uc73c\ub85c \uc545\uc131\ub9c1\ud06c\uc778\uc9c0 \ud310\ub2e8"
     ]
    },
    {
     "cell_type": "markdown",
     "metadata": {
      "slideshow": {
       "slide_type": "slide"
      }
     },
     "source": [
      "### \uc900\ube44\ubb3c\n",
      "\n",
      "1. Python \uc9c0\uc2dd\n",
      "2. NLTK\ub97c \ud65c\uc6a9\ud55c \ud1b5\uacc4\uc801 \ubd84\uc11d\n",
      "3. \ub09c\ub3c5\ud654\uc5d0 \ub300\ud55c \uae30\ubcf8 \uc9c0\uc2dd"
     ]
    },
    {
     "cell_type": "markdown",
     "metadata": {
      "slideshow": {
       "slide_type": "slide"
      }
     },
     "source": [
      "### \ub370\ubaa8"
     ]
    },
    {
     "cell_type": "markdown",
     "metadata": {
      "slideshow": {
       "slide_type": "slide"
      }
     },
     "source": [
      "### \ucc38\uace0\uc790\ub8cc"
     ]
    }
   ],
   "metadata": {}
  }
 ]
}