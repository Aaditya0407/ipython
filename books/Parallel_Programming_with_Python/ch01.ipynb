{
 "cells": [
  {
   "cell_type": "markdown",
   "metadata": {},
   "source": [
    "# ch01 Contextualizing Parallel, Concurrent, and Distributed Programming\n",
    "\n",
    "- [멀티코어 CPU 이야기](http://www.yes24.com/24/goods/3858484?scode=032&OzSrank=1): 시작하는 에피소드로 딱"
   ]
  },
  {
   "cell_type": "markdown",
   "metadata": {},
   "source": [
    "## References\n",
    "\n",
    "- [H3 2011 파이썬으로 클라우드 하고 싶어요](http://www.slideshare.net/devparan/h3-2011-c6-python-and-cloud)\n",
    "\n"
   ]
  },
  {
   "cell_type": "markdown",
   "metadata": {},
   "source": [
    "- 병렬 프로그래밍은 실행하기 위기 위한 환경.\n",
    "- 몇 년동안 싱글 Arithmetic Logic Unit 으로 구동되었음.\n",
    "- hertz로 측정되었다. KHz, MHz, GHz\n",
    "- 80년대에는 80386이 혁신적이었다. task를 선점할 수 있게 되었다. \n",
    "- 정기적으로 실행되는 프로그램을 간섭할 수 있게 됐다.\n",
    "- 병렬 프로그래밍은 타임 슬라이싱 기반에 있다. 시간을 나눠서 사랑을 준다는 이야기\n",
    "![바람둥이](http://blog.joins.com/usr/y/j/yj651215/12/%EB%B0%94%EB%9E%8C%EB%91%A5%EC%9D%B4.JPG)\n"
   ]
  },
  {
   "cell_type": "markdown",
   "metadata": {},
   "source": [
    "- 80년대 후반에는 intel 80486이 나왔다. 파이프라인 시스템을 실행했다. 실행하는 장소를 나누어 별개의 substage에 넣는다.\n",
    "- 실제 용어에서는 processor의 cycle이 각 substage에 따라 다른 명령어가 실행된다. \n",
    "- 선행하는 부분의 결과는 여러가지 증가되는 성능 앞에 있다. \n",
    "- 그러나 이것만으로 충분하지 않았다. Moore's law 는 끝났다. \n",
    "- [Moore's Law](http://www.mooreslaw.org/)\n",
    "- [무어의 법칙 \\- 엔하위키 미러](https://mirror.enha.kr/wiki/%EB%AC%B4%EC%96%B4%EC%9D%98%20%EB%B2%95%EC%B9%99)\n",
    "![moore's law limit](http://img.deusm.com/eetimes/2014/02/1320994/asynchronous-fpga-logic-jag-0002-01.gif)\n",
    "\n",
    "\n",
    "    \"나는 20년 후의 세계에서 왔다. 최신 OS를 보여줄까?\"\n",
    "    \"굉장해!\"\n",
    "    \"이 OS를 사용하려면 니 컴퓨터 몇 대로도 모자라\"\n",
    "    \"그렇겠지\"\n",
    "    \"이 OS를 돌리려면 니 하드디스크가 무려 1만대는 있어야 한다\"\n",
    "    \"우와, 그런 엄청난 걸로 미래 사람들은 도대체 뭘 하는데?\"\n",
    "    \"야동을 보거나, 140자 이내의 짧은 텍스트를 쓰기도 하고...\"\n",
    "    \"돌아가\"\n",
    "    \n",
    "\n",
    "### 무어의 법칙 아류작\n",
    "\n",
    "- [황의 법칙 \\- 위키백과, 우리 모두의 백과사전](http://ko.wikipedia.org/wiki/%ED%99%A9%EC%9D%98_%EB%B2%95%EC%B9%99)\n",
    "- [中 BOE, `왕의 법칙` 주창…\"LCD 패널가 3년마다 50% 하락\" \\- 대한민국 IT포털의 중심! 이티뉴스](http://www.etnews.com/201205040257)\n",
    "\n",
    "\n",
    "- [멀티코어 프로세서 \\- 엔하위키 미러](https://mirror.enha.kr/wiki/%EB%A9%80%ED%8B%B0%EC%BD%94%EC%96%B4%20%ED%94%84%EB%A1%9C%EC%84%B8%EC%84%9C)\n",
    "<img src=\"https://rv.wkcdn.net/http://rigvedawiki.net/r1/pds/_eb_a9_80_ed_8b_b0_ec_bd_94_ec_96_b4_20_ed_94_84_eb_a1_9c_ec_84_b8_ec_84_9c/multicore.jpg\" width=500px> \n",
    "\n",
    "- [4GHz의 벽 \\- 엔하위키 미러](https://mirror.enha.kr/wiki/4GHz%EC%9D%98%20%EB%B2%BD)\n",
    "<img src=\"http://5gnews.org/wp-content/uploads/2014/05/clocktrends.jpg\" width=500px>\n",
    "- [양자컴퓨터 \\- 엔하위키 미러](https://mirror.enha.kr/wiki/%EC%96%91%EC%9E%90%EC%BB%B4%ED%93%A8%ED%84%B0)"
   ]
  },
  {
   "cell_type": "markdown",
   "metadata": {},
   "source": [
    "## 클럭 속도의 한계\n",
    "\n",
    "- 클럭 속도를 높이는 것으로 CPU 속도를 높이는 시절은 이제 끝. 에너지, 발열 때문에\n",
    "- 90년대에는 \n",
    "- core: processor는 여러가지 인텔의 변화와 특징 컴포넌트들을 core라고 부른다.\n",
    "- CPU 속도를 높이기 위해서 대신\n",
    "- ALU, caches L2, L3를 가지고 있다. Logical processor 라고 부른다."
   ]
  },
  {
   "cell_type": "markdown",
   "metadata": {},
   "source": [
    "## 이 챕터에서 커버하고 있는 주제\n",
    "\n",
    "- 왜 병렬 프로그래밍을 사용하나?\n",
    "- 공통 병렬 폼 소개\n",
    "- 병렬 프로그래밍의 의사소통\n",
    "- 병렬 프로그래밍의 문제점 확인\n",
    "- 파이썬 프로그래밍 툴 찾기\n",
    "- GIL을 어떻게 해결할 것인가?\n"
   ]
  },
  {
   "cell_type": "markdown",
   "metadata": {},
   "source": [
    "### Why use parallel programming?\n",
    "\n",
    "- 복잡한 업무를 성취하기 위해 적은 프로세싱 타임.\n",
    "- 데이터베이스는 사이즈를 고려해야 한다.\n",
    "- 애플리케이션은 연속하여 실행됨. \n",
    "- 유저가 데이터를 요청하면 다른 요청이 처리될 수 없게 block 된다. 하지만 병렬 프로그래밍에서는 새로운 worker를 만들 수 있게 허락한다. blocking없이 데이터베이스에서 정보를 찾을 수 있다. 사용을 증가시킴"
   ]
  },
  {
   "cell_type": "markdown",
   "metadata": {},
   "source": [
    "### Exploring common forms of parallelization\n",
    "\n",
    "- 병렬 프로그램의 메인 주제를 정의하기 위해 노력한다. 병렬과 동시의 시스템에서 인용문을 찾기 위해  공통된 현상이다. \n",
    "- 같은 일이라면 \n",
    "- 그것들 사이가 꽤 다르다.\n",
    "- concurrent 프로그래밍은 여러가지 워커를 동시에 처리한다.\n",
    "- 그것들은 task를 실행하기 위해서 어떻게 CPU를 사용할지 의논한다. \n",
    "- CPU 스케줄러에 의해 제어된다. 어떤 워커가 특정한 순간에 리소스를 사용할지 결정한다.\n",
    "- 대부분의 경우, 의사 패러럴리즘이 \n",
    "- concurrent programming은 패러럴 프로그래밍에서의 추상화다.\n",
    "- **[Concurrent systems dispute over the same CPU to run tasks.]**\n",
    "- **[Parallel systems run tasks simultaneously.]**\n",
    "- 동시성 시스템은 동일한 CPU가 task를 실행하기 위해 논쟁한다.\n",
    "- [DEVIEW 2014](http://deview.kr/2014/session?seq=47)\n",
    "- [art.oriented](http://egloos.zum.com/minjang/v/2517211): Concurrent와 Parallel의 차이. 한글로 잘 설명되어 있음\n",
    "- [블로그 K. :: 병행프로그래밍과 병렬프로그래밍](http://devsw.tistory.com/4)\n",
    "  - 병행: 멀티 스레드\n",
    "  - 병렬: 멀티 프로세싱\n",
    "- [language agnostic \\- Difference between concurrent programming and parallel programming \\- Stack Overflow](http://stackoverflow.com/questions/1897993/difference-between-concurrent-programming-and-parallel-programming)\n",
    "- [Concurrent와 Parallel 차이 \\- ILHWAN'S BLOG](http://www.ilhwan.com/concurrent%EC%99%80-parallel-%EC%B0%A8%EC%9D%B4/)\n",
    "- [서광열의 프로그래밍 언어 이야기 :: ](http://skyul.tistory.com/category/Concurrency)\n",
    "  - 병렬: 하나의 프로그램이 동시에 여러 일을 수행하게 만드는 방법 통칭\n",
    "  - 병렬 프로그래밍은 성능 향상을 목적으로 명시적으로 멀티 프로세서를 사용함을 의미합니다. 반대로 동시성 프로그래밍은 동시성 자체가 명세에 포함되는 개념입니다. 프로그램이 여러 개의 동시적인 쓰레드로 실행이 되고 따라서 결과가 비결정적이다라는 사실까지 말입니다. 병렬 프로그래밍과 마찬가지로 멀티 프로세서를 사용할 수도 있지만 이는 필수적인 것이 아니라 구현 세부사항일 뿐입니다.\n",
    "  - 여기까지는 지난 번에 보여드렸던 설명과 동일합니다. 위 정의에는 여기에 덧붙여 더 중요한 정의가 나오는데, 바로 시멘틱에 관한 부분입니다. 병렬 프로그래밍은 프로그램의 시멘틱에 전혀 영향을 미치지 않습니다. 병렬 프로그래밍에서는 e1 + e2를 계산할 때 e1과 e2를 각각의 프로세서에서 실행을 하던 하나의 프로세서에서 실행을 하던 겉으로 보이는 결과는 반드시 같아야 합니다.\n",
    "  - 하지만 동시성 프로그래밍에서는 멀티쓰레드 사용 자체가 시멘틱에 포함되어 있기 때문에 쓰레드가 어떻게 수행되느냐에 따라서 결과가 달리나올 수 있음을 내포하고 있습니다. 즉, 시멘틱이 달라질 수 있다는 사실이 깔려있습니다.\n",
    "\n",
    "#### Concurrenty\n",
    "\n",
    "- 먼저 concurrency부터 이야기를 하면, 어떤 프로그램이나 알고리즘이 순서에 상관없이 동시에 수행될 수 있다면 concurrent하다고 말한다. 예를 들어, 1부터 100까지 숫자를 더하는 과정을 생각해보면 숫자 100개를 여러 부분 집합으로 나눈 뒤 동시에 부분합을 구한다. 그리고 이 부분합을 다시 더하면 원래 얻고자 하는 값을 얻을 수 있다. 이 때 이 알고리즘은 concurrent하다라고 말한다.\n",
    "\n",
    "#### 분산 프로그래밍을 사용하는 이유\n",
    "\n",
    "- Fault-tolerance\n",
    "- Horizontal scalability\n",
    "- Cloud computing\n",
    "- **[Distributed systems run tasks within physically-separated nodes.]**"
   ]
  },
  {
   "cell_type": "markdown",
   "metadata": {},
   "source": [
    "### Communicating in parallel programming\n",
    "\n",
    "- wrokers는 task를 자주 실행하기 위해 커뮤니케이션을 수립하기 위해 보내졌다. 그것들은 협력한다. 태글의 문제가 있다. 대부분의 경우 communication은 성립됐다. 워커들 사이에서 데이터가 교환되기 위해.\n",
    "- 상태 공유와 메시징 패싱. 2가지가 있다."
   ]
  },
  {
   "cell_type": "markdown",
   "metadata": {},
   "source": [
    "### Understanding shared state\n",
    "\n",
    "- 굉장히 많은 문제가 있다.\n",
    "- 병약한 명령들이 만들어진다. 공유된 리소스들을\n",
    "- 하나에 적용하면 나머지에도 적용되어 나쁜 결과를 만든다.\n",
    "- 특정 은행의 고객이라 치면\n",
    "- 뱅크는 오직 한 명의 고객만 있다.\n",
    "- 컴퓨팅이 제공하는 의미는 mutex라고 부른다.\n",
    "- mutex는 특별한 프로세스 변수다. 데이터를 접근하기 위한 레벨을 가르친다. \n",
    "- [There are cases in which data has a constant value in a variable while the program is running, and the data is shared only for reading purposes. So, access control is not necessary because it will never present integrity problems.]\n",
    "- 프로그래밍이 실행중일 떄는 오직 읽는 목적으로만 사용해라."
   ]
  },
  {
   "cell_type": "markdown",
   "metadata": {},
   "source": [
    "### Understanding message passing\n",
    "\n",
    "- shared state에서 data access control과 synchronizing을 피하기 위해 만들어졌다.\n",
    "- Message passing은 실행되는 프로세스에서 메시지 교환을 위해 구성되어 있다.\n",
    "- 분산된 아키텍쳐에서 프로그램을 개발할 때 많이 사용한다.\n",
    "- concurrence 접근에서는 문제가 발생하지 않는다.\n",
    "- 공유 메모리보다 메모리는 더 많이 사용한다.\n",
    "- 모델을 사용하는 장점\n",
    "  - 데이터 동시 접속이 부재\n",
    "  - 분산된 환경에서 지역적으로 교환\n",
    "  - 확장성 이슈가 적게 발생함. 각 다른 시스템의 정보처리가 설정되었을 때\n",
    "  - 보통 프로그래머에게 쉬운 유지보수 가능하게 함"
   ]
  },
  {
   "cell_type": "markdown",
   "metadata": {},
   "source": [
    "### Identifying parallel programming problems\n",
    "\n",
    "- 용감한 키보드 워리들이 싸운다. 페러럴 프로그래밍 \n",
    "- 많은 프로그램들은 경험없는 프로그래머들이 결합된 worked를 공유 자원과 함께 사용하는데서 발생한다."
   ]
  },
  {
   "cell_type": "markdown",
   "metadata": {},
   "source": [
    "### Deadlock\n",
    "\n",
    "- 2개 이상의 worker들이 막연히 풀어지는 리소스들을 기다린다.\n",
    "- 같은 그랩의 워크들이 블록된다.\n",
    "- [Deadlock is a phenomenon in which processes wait for a condition to free their tasks, but this condition will never occur.]"
   ]
  },
  {
   "cell_type": "markdown",
   "metadata": {},
   "source": [
    "### Starvation\n",
    "\n",
    "- 사이드 이팩트 효과. 공평하지 않은 하나나 그 이상의 프로세스가 랭킹할 때 발생.\n",
    "- 그 프로세스를 실행시키기 위해 많은 시간이 필요로 하낟.\n",
    "- process gorup을 상상해봐라. 무거운 임무를 실행하고 데이터 프로세서 우선순위를 가지고 있음\n",
    "- 높은 우선순위를 가지고 지속적으로 CPU를 소모한다. 낮은 우선순위 프로세스 B는 영원히 찬스를 얻을 수 없다.\n",
    "- 부익부 빈익빈\n",
    "- 우리나라 사회구조와 유사\n",
    "- 실질적으로 '개천에서 용난다' 라는 구절이 점점 사라지고 있음\n",
    "- ![개천에서 용난다?](http://cfile215.uf.daum.net/image/110B7F134B9097195C2684)\n",
    "- 가장 문제인건 '난 가난하니까 안돼' 라는 이 마인드 때문 -> 악순환 구조 반복\n",
    "- 우리나라는 기본적으로 학벌사회이기 때문에 학벌이 뒷받침되야 하지만 '인터넷'이라는 시대의 패러다임이 바뀌는 시대에 있기 때문에 굳이 학벌사회가 아니라 '서비스'를 잘만하면 인생이 바뀔 수도 있다.\n",
    "- 어떻게 보면 '기회'일 수도 있다. \n",
    "- 시대의 흐름이 어떻게 흘러가는지 관심있게 지켜보자.\n",
    "- [한계비용 제로 사회](http://www.yes24.com/24/goods/14602855?scode=032&OzSrank=1): 이 책에도 이 시대가 어떻게 흘러갈지 나와있음\n",
    "- [Starvation is caused by badly adjusted policies of process ranking.]"
   ]
  },
  {
   "cell_type": "markdown",
   "metadata": {},
   "source": [
    "### Race conditions\n",
    "\n",
    "- 레이스를 하는데 서로 경쟁한다.\n",
    "- 선의의 경쟁?\n",
    "![race condition](http://wiki.ccs.tulane.edu/images/2/23/Data-race.png)\n",
    "![race condition2](http://cfile24.uf.tistory.com/image/255B093752F1CA7A2566E9)\n",
    "\n",
    "\n",
    "- 프로세스 결과는 fact의 순서에 달려져 있다. 이 순서는 부족한 동기화 매커니즘에 의해 깨진다. \n",
    "- 큰 시스템에서 그것을 필터하기는 정말 어렵다.\n",
    "- 예를 들어 커플은 동일한 계좌를 가지고 있다. 읽는 순서를 바꾸면 결과가 달라지게 된다.\n",
    "- lock을 걸어서 같은 부분을 접근할 때는 딱 1명만 접근하게 해야한다.\n",
    "- [**Non-determinism**, if combined with lack of synchronization mechanisms, may lead to reace condition issues.]\n",
    "- [프로그래머가 몰랐던 멀티코어 CPU 이야기 \\- 김민장 \\- Google 도서](https://books.google.co.kr/books?id=OUyyBQAAQBAJ&pg=PT531&lpg=PT531&dq=nondeterminism&source=bl&ots=b_Eh0SriJJ&sig=_v_MeawyqukdOnEPR2QuCcOphg0&hl=ko&sa=X&ei=yAf4VLmfFOHWmAWbxoGgAg&ved=0CG0Q6AEwEg#v=onepage&q=nondeterminism&f=false)\n",
    "  - 버그를 잡으려면 가장 먼저 발견한 버그를 확실히 재현할 수 있어야 한다. 버그가 어떠한 상황에서 일어나는지 정확하게만 알아도 디버깅의 절반은 성공한 셈\n",
    "  - 여기서 pinrtf처럼 막강한 디버깅 도구는 없을 것이다. gdb나 VC++의 디버거는 프로그래밍 생산성에서 도저히 빼놓을 수 없다. 그런데 이 전천후 디버깅 도구 printf가 멀티스레드 프로그램에서 발생하는 버그에서는 무용지물이 된다.\n",
    "  - 김팀장과 미숙양의 대화에서 보았듯이, 멀티스레드 버그에서는 printf를 넣어 문제점을 확인하려 하면 그 버그 자체에 영향을 주어 정확한 버그 확인이나 재현이 매우 어렵다.\n",
    "  - 디버깅의 첫번째 단추부터 안 마즌ㄴ 것\n",
    "  - 이러한 이유로 멀티스레드 버그 또는 병행성 버그(concurrency bug)를 비결정론(non-deterministic) 버그라고 부르기도 한다.\n",
    "  - 먼저 이런 재현이 어려운 멀티스레드 버그 중 가장 큰 원인인 데이터 레이스에 대해 알아보자\n",
    "  - 결정론적(determinisitic)과 비결정론적(non-deterministic)이라는 개념은 오토마타 이론을 배우면 확실히 알 수 있는데, 여기서 간략히 설명하낟.\n",
    "  - 어떤 알고리즘이 결정론적이라는 뜻은 어떠한 상태에서 어떤 입력이 주어지면 반드시 한 상태로만 전이할 수 있는 것을 의미한다. 일반적인 컴퓨터 함수의 작동이 이러하다.\n",
    "  - 반면 비결정론적 알고리즘은 한 상태에서 전이할 수 있는 상태가 여러 개가 되므로 수학에서 정의하는 함수가 아니다. 간단히 서렴앟면 결정론적 함수는 입력값이 같다면 항상 같은 결과를 만드는데, 비결정성(non-determinisism)은 이랬다 저랬다 할 수 있다. 비결정론적 알고리즘은 바로 컴퓨터 알고리즘으로 쓰기가 어렵다. 데이터 레이스 같은 버그를 비결정론적 버그라고 하는 것도 이러한 이유에서다.\n",
    "  - 데이터 레이스는 어떤 공유 데이터가 두 스레드 이상에게서 동시에 접근되는 상황을, 단 여기서 적어도 하나의 접근이 쓰기인 것을 가리킨다. 만약 모든 스레드가 데이터를 읽기만 같이 한다면 데이터 레이스는 없다.\n",
    "  - 그런데 데이터 레이스 자체가 항상 프로그램의 버그를 의미하는 것은 아니다.\n",
    "  - 데이터 레이스중 상당수가 별 문제를 일으키지 않을 수 있다. 또, 고의로 데이터 레이스를 이용해야 할 때도 있다. 대표적으로 뮤텍스 같은 락을 만들 때는 필연적으로 데이터 레이스를 이용한다.\n",
    "  - lock_var라는 변수에서 데이터 레이스가 일어난다. 이 락 변수에 여러 스레드가 서로 경쟁적으로 값을 쓰려고 해서 성공항 스레드가 락을 차지하는 것이다.\n",
    "  - 따라서 데이터 레이스가 항상 프로그램에 오류를 만드는 것은 아니다.\n",
    "  \n",
    "#### non-determinism\n",
    "\n",
    "  - ![여자의 마음](http://cfile4.uf.tistory.com/image/122B7E4F51186BDD21A3EA)\n",
    "\n",
    "\n",
    "- [IT Story & Cloud Computing :: 레이스 컨디션(Race Condition) 공격](http://kkd927.tistory.com/25)\n",
    "- [심볼릭링크 취약성 공격 : 레이스컨디션(race condition) 실습::taeho's life logger](http://cybercafe.tistory.com/363)\n"
   ]
  },
  {
   "cell_type": "markdown",
   "metadata": {},
   "source": [
    "### Discovering Python's parallel programming tools\n",
    "\n",
    "- threading\n",
    "- multiprocessing\n",
    "\n",
    "### The parallel Python module\n",
    "\n",
    "- http://parallelpython.com\n",
    "- optimal configuration을 자동으로 찾는다.\n",
    "- worker process는 실행되는 시간에 바뀐다.\n",
    "- 다이나믹 로드 밸런스\n",
    "- Fault tolerance(장애 허용 시스템)\n",
    "- [장애 허용 시스템 \\- 위키백과, 우리 모두의 백과사전](http://ko.wikipedia.org/wiki/%EC%9E%A5%EC%95%A0_%ED%97%88%EC%9A%A9_%EC%8B%9C%EC%8A%A4%ED%85%9C)\n",
    "- 자동으로 계산 리소스를 찾는다.\n",
    "\n",
    "### Celery - 분산된 task queue\n",
    "\n",
    "- Celery는 우수한 파이썬 모듈이다. 분산된 시스템을 만들기 위한다. 훌륭한 문서를 가지고 있다.\n",
    "- concurrent form에서 임무를 실행하기 위해  최소한 3개의 다른 접근을 가지고 있다. \n",
    "- multiprocessing, Eventlet, Gevent\n",
    "- 이것은 할 수 있다. 그러나 멀티프로세싱 접근에서 모으는 효과가 있다. \n",
    "- 또한 하나와 또 다른 링크 사이가 설정되어 있다.\n",
    "- 그것은 study로 남겨졌다. 그래서 reader는 출판될 것이다. 그들만의 경험으로\n",
    "- http://celeryproject.org\n",
    "- [Celery를 이용한 긴 작업 처리 - Spoqa Tech Blog](http://spoqa.github.io/2012/05/29/distribute-task-with-celery.html)\n",
    "- [Celery를 이용한 분산처리 프로세스 작성하기 — Sunhyoup’s Story — Medium](https://medium.com/sunhyoups-story/celery-b96eb337b9cf)\n"
   ]
  },
  {
   "cell_type": "markdown",
   "metadata": {},
   "source": [
    "### Taking care of Python GIL\n",
    "\n",
    "- GIL은 표준 파이썬에서 사용된다. \n",
    "- 다른 쓰레드에 의해 동시에 실행될 때  bytecode를 피하기 위해 실행됨.\n",
    "- GIL은 선택됐다. CPython interpretr에 의해 내부 메모리를 보호하기 위해.\n",
    "- 동시 접근을 위해 동기화 메커니즘을 지원하지 않는다. 오직 CPU-bound만 해당\n",
    "- I/O Thread는 GIL 영역에서 벗어난다.\n",
    "- 그것을 사용하지 않을 때보다 좀 더 많은 효과가 있다. \n",
    "- [GIL과 multiprocessing - 지훈현서](http://egloos.zum.com/mcchae/v/11099578)\n"
   ]
  },
  {
   "cell_type": "markdown",
   "metadata": {},
   "source": [
    "### Summary\n",
    "\n",
    "- 몇 가지 병렬 프로그램 개념을 배웠다.\n",
    "- some model, 장점, 단점\n",
    "- 몇 가지 문제와 잠재적인 이슈\n",
    "- 어떻게 패러러럴 알고리즘을 설계할지 배울 것"
   ]
  },
  {
   "cell_type": "markdown",
   "metadata": {},
   "source": [
    "### 레퍼런스\n",
    "\n",
    "- [멀티쓰레드 프로그래밍이 왜 이리 힘드나요? 1](http://deview.kr/2013/detail.nhn?topicSeq=64)\n",
    "- [멀티쓰레드 프로그래밍이 왜 이리 힘드나요? 2 - DEVIEW 2014](http://deview.kr/2014/session?seq=38)"
   ]
  },
  {
   "cell_type": "code",
   "execution_count": 6,
   "metadata": {
    "collapsed": false
   },
   "outputs": [],
   "source": [
    "import urllib2\n",
    "import urlparse"
   ]
  },
  {
   "cell_type": "code",
   "execution_count": 8,
   "metadata": {
    "collapsed": false
   },
   "outputs": [],
   "source": [
    "url = 'netstreambasepath=http%3A%2F%2Folc.oss.kr%2Flec%2Fdetail.jsp%3Flecid%3D388&id=mediaplayer&skin=%2Fcommon%2Fmodule%2Fjwplayer%2Fskin%2Fslim.zip&file=http%3A%2F%2F58.229.150.14%3A3113%2Folc.mp4%3Fstart%3D0%26vod_idx%3D13957%26code%3DF38813291143CB09768185F60B9E9481&bufferlength=2&autostart=true&start=0&duration=1080&controlbar.position=over'"
   ]
  },
  {
   "cell_type": "code",
   "execution_count": 23,
   "metadata": {
    "collapsed": false
   },
   "outputs": [],
   "source": [
    "urls = urllib2.urlparse.unquote(url)\n",
    "urls = urls.split('netstreambasepath=')[1]"
   ]
  },
  {
   "cell_type": "code",
   "execution_count": 29,
   "metadata": {
    "collapsed": false
   },
   "outputs": [
    {
     "data": {
      "text/plain": [
       "'http://58.229.150.14:3113/olc.mp4?start=0'"
      ]
     },
     "execution_count": 29,
     "metadata": {},
     "output_type": "execute_result"
    }
   ],
   "source": [
    "f_url = urlparse.parse_qs(urls)['file'][0]\n",
    "f_url"
   ]
  },
  {
   "cell_type": "code",
   "execution_count": 30,
   "metadata": {
    "collapsed": false
   },
   "outputs": [],
   "source": [
    "import requests"
   ]
  },
  {
   "cell_type": "code",
   "execution_count": 31,
   "metadata": {
    "collapsed": false
   },
   "outputs": [],
   "source": [
    "resp = requests.get(f_url)\n",
    "with open('olc.mp4', 'wb') as f:\n",
    "    f.write(resp.content)"
   ]
  },
  {
   "cell_type": "code",
   "execution_count": 33,
   "metadata": {
    "collapsed": false
   },
   "outputs": [
    {
     "name": "stdout",
     "output_type": "stream",
     "text": [
      "total 40\r\n",
      "-rw-------  1 re4lfl0w  staff  18544  3  5 15:41 ch01-03.ipynb\r\n",
      "-rw-r--r--  1 re4lfl0w  staff      0  3  5 15:41 olc.mp4\r\n"
     ]
    }
   ],
   "source": [
    "!ls -l"
   ]
  },
  {
   "cell_type": "code",
   "execution_count": null,
   "metadata": {
    "collapsed": false
   },
   "outputs": [],
   "source": []
  }
 ],
 "metadata": {
  "kernelspec": {
   "display_name": "Python 2",
   "language": "python",
   "name": "python2"
  },
  "language_info": {
   "codemirror_mode": {
    "name": "ipython",
    "version": 2
   },
   "file_extension": ".py",
   "mimetype": "text/x-python",
   "name": "python",
   "nbconvert_exporter": "python",
   "pygments_lexer": "ipython2",
   "version": "2.7.6"
  }
 },
 "nbformat": 4,
 "nbformat_minor": 0
}
