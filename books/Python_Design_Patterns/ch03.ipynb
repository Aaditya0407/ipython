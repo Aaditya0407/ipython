{
 "cells": [
  {
   "cell_type": "markdown",
   "metadata": {},
   "source": [
    "# ch03 객체 생성 팩토리 만들기"
   ]
  },
  {
   "cell_type": "markdown",
   "metadata": {},
   "source": [
    "- 팩토리\n",
    "  - 객체 지향 개발 용어\n",
    "  - 다른 객체를 생성하기 위한 클래스를 의미\n",
    "  - 이 클래스는 파라미터를 받고, 그 파라미터에 따라 객체를 반환하는 메소드를 가지고 있음\n",
    "  \n",
    "### 이 장에서 다룰 내용\n",
    "\n",
    "- 간단한 팩토리를 만드는 방법\n",
    "- 팩토리 메소드가 무엇이고, 언제 사용하는지, 다양한 웹 자원과 연결하는 도구를 만들기 위한 구현 방법\n",
    "- 추상 팩토리가 무엇이고, 언제 사용하는지, 그리고 팩토리 메소드 패턴과 다른점은 무엇인지?"
   ]
  },
  {
   "cell_type": "markdown",
   "metadata": {},
   "source": [
    "### 객체를 직접 인스턴스화하기보다 팩토리를 사용해야 할 이유는?\n",
    "\n",
    "- 팩토리는 객체 생성과 클래스 구현을 구별해서 의존성을 낮춤\n",
    "- 생성된 객체를 사용하는 클래스는 정확히 어떤 클래스에서 객체를 생성했는지 알 필요 없음. 생성된 클래스의 인터페이스인, 어떤 속성으로 어떤 생성 클래스의 메소드를 호출할 수 있는지만 알면 됨\n",
    "- 새로운 클래스가 인터페이스에 부합하기만 한다면, 클라이언트 코드를 수정하지 않고 팩토리에서 새로운 클래스를 추가할 수 있음\n",
    "- Factory 클래스는 기존 객체를 재사용할 수 있지만, 직접 인스턴스화하기는 언제나 새로운 객체를 생성한다."
   ]
  },
  {
   "cell_type": "code",
   "execution_count": 7,
   "metadata": {
    "collapsed": false
   },
   "outputs": [
    {
     "name": "stdout",
     "output_type": "stream",
     "text": [
      "Overwriting src/simple_factory.py\n"
     ]
    }
   ],
   "source": [
    "%%writefile src/simple_factory.py\n",
    "\n",
    "# coding: utf-8\n",
    "\n",
    "class SimpleFactory(object):\n",
    "    # 이 데코레이터는 메소드가 클래스 인스턴스없이 실행할 수 있게 한다.\n",
    "    # ex: SimpleFactory.build_connection\n",
    "    @staticmethod \n",
    "    def build_connection(protocol):\n",
    "        if protocol == 'http':\n",
    "            return HTTPConnection()\n",
    "        elif protocol == 'ftp':\n",
    "            return FTPConnection()\n",
    "        else:\n",
    "            raise RuntimeError('Unknown protocol')\n",
    "            \n",
    "\n",
    "if __name__ == '__main__':\n",
    "    protocol = raw_input('Which Protocol to use? (http or ftp): ')\n",
    "    protocol = SimpleFactory.build_connection(protocol)\n",
    "    protocol.connect()\n",
    "    print protocol.get_response()"
   ]
  },
  {
   "cell_type": "code",
   "execution_count": 8,
   "metadata": {
    "collapsed": false
   },
   "outputs": [
    {
     "name": "stdout",
     "output_type": "stream",
     "text": [
      "Which Protocol to use? (http or ftp): http\n"
     ]
    },
    {
     "ename": "NameError",
     "evalue": "global name 'HTTPConnection' is not defined",
     "output_type": "error",
     "traceback": [
      "\u001b[0;31m---------------------------------------------------------------------------\u001b[0m",
      "\u001b[0;31mNameError\u001b[0m                                 Traceback (most recent call last)",
      "\u001b[0;32m/Users/re4lfl0w/Documents/ipython/books/Python_Design_Patterns/src/simple_factory.py\u001b[0m in \u001b[0;36m<module>\u001b[0;34m()\u001b[0m\n\u001b[1;32m     17\u001b[0m \u001b[0;32mif\u001b[0m \u001b[0m__name__\u001b[0m \u001b[0;34m==\u001b[0m \u001b[0;34m'__main__'\u001b[0m\u001b[0;34m:\u001b[0m\u001b[0;34m\u001b[0m\u001b[0m\n\u001b[1;32m     18\u001b[0m     \u001b[0mprotocol\u001b[0m \u001b[0;34m=\u001b[0m \u001b[0mraw_input\u001b[0m\u001b[0;34m(\u001b[0m\u001b[0;34m'Which Protocol to use? (http or ftp): '\u001b[0m\u001b[0;34m)\u001b[0m\u001b[0;34m\u001b[0m\u001b[0m\n\u001b[0;32m---> 19\u001b[0;31m     \u001b[0mprotocol\u001b[0m \u001b[0;34m=\u001b[0m \u001b[0mSimpleFactory\u001b[0m\u001b[0;34m.\u001b[0m\u001b[0mbuild_connection\u001b[0m\u001b[0;34m(\u001b[0m\u001b[0mprotocol\u001b[0m\u001b[0;34m)\u001b[0m\u001b[0;34m\u001b[0m\u001b[0m\n\u001b[0m\u001b[1;32m     20\u001b[0m     \u001b[0mprotocol\u001b[0m\u001b[0;34m.\u001b[0m\u001b[0mconnect\u001b[0m\u001b[0;34m(\u001b[0m\u001b[0;34m)\u001b[0m\u001b[0;34m\u001b[0m\u001b[0m\n\u001b[1;32m     21\u001b[0m     \u001b[0;32mprint\u001b[0m \u001b[0mprotocol\u001b[0m\u001b[0;34m.\u001b[0m\u001b[0mget_response\u001b[0m\u001b[0;34m(\u001b[0m\u001b[0;34m)\u001b[0m\u001b[0;34m\u001b[0m\u001b[0m\n",
      "\u001b[0;32m/Users/re4lfl0w/Documents/ipython/books/Python_Design_Patterns/src/simple_factory.py\u001b[0m in \u001b[0;36mbuild_connection\u001b[0;34m(protocol)\u001b[0m\n\u001b[1;32m      8\u001b[0m     \u001b[0;32mdef\u001b[0m \u001b[0mbuild_connection\u001b[0m\u001b[0;34m(\u001b[0m\u001b[0mprotocol\u001b[0m\u001b[0;34m)\u001b[0m\u001b[0;34m:\u001b[0m\u001b[0;34m\u001b[0m\u001b[0m\n\u001b[1;32m      9\u001b[0m         \u001b[0;32mif\u001b[0m \u001b[0mprotocol\u001b[0m \u001b[0;34m==\u001b[0m \u001b[0;34m'http'\u001b[0m\u001b[0;34m:\u001b[0m\u001b[0;34m\u001b[0m\u001b[0m\n\u001b[0;32m---> 10\u001b[0;31m             \u001b[0;32mreturn\u001b[0m \u001b[0mHTTPConnection\u001b[0m\u001b[0;34m(\u001b[0m\u001b[0;34m)\u001b[0m\u001b[0;34m\u001b[0m\u001b[0m\n\u001b[0m\u001b[1;32m     11\u001b[0m         \u001b[0;32melif\u001b[0m \u001b[0mprotocol\u001b[0m \u001b[0;34m==\u001b[0m \u001b[0;34m'ftp'\u001b[0m\u001b[0;34m:\u001b[0m\u001b[0;34m\u001b[0m\u001b[0m\n\u001b[1;32m     12\u001b[0m             \u001b[0;32mreturn\u001b[0m \u001b[0mFTPConnection\u001b[0m\u001b[0;34m(\u001b[0m\u001b[0;34m)\u001b[0m\u001b[0;34m\u001b[0m\u001b[0m\n",
      "\u001b[0;31mNameError\u001b[0m: global name 'HTTPConnection' is not defined"
     ]
    }
   ],
   "source": [
    "%run src/simple_factory.py"
   ]
  },
  {
   "cell_type": "markdown",
   "metadata": {},
   "source": [
    "## 팩토리 메소드\n",
    "\n",
    "- 객체 생성을 책임지는 factory\\_method를 포함한 추상 클래스 Creator를 가지고 있음\n",
    "- some\\_operation 메소드는 생성된 객체를 가지고 작업을 함\n",
    "- ConcreateCreator 클래스는 factory\\_method를 재정의해서 생성된 객체를 실행시간에 변경함\n",
    "- some\\_operation 메소드는 Product 인터페이스를 구현하고 모든 메소드에 이를 제공하기만 한다면 어떤 객체가 생성되었는지에는 관여하지 않음\n",
    "- 핵심: 객체 생성을 위한 인터페이스를 정의하는 것이지만, 인터페이스를 구현하는 클래스에게 어떤 클래스를 인스턴스화 할 것인지 결정하도록 함\n",
    "- 이 인터페이스는 Creator와 ConcreateCreator 클래스의 factory\\_method이고, 생성할 Product의 서브클래스를 결정함\n",
    "- 팩토리 메소드는 상속에 기반을 함. 객체 생성은 Factory 메소드를 구현하는 서브 클래스에 위임함"
   ]
  },
  {
   "cell_type": "markdown",
   "metadata": {},
   "source": [
    "### 팩토리 메소드 패턴의 장점\n",
    "\n",
    "- 코드를 좀 더 일반적으로 만들어 실제 클래스(ConcreteProduct)에 묶이지 않고 인터페이스(Product)의 의존도를 낮춤. 인터페이스를 구현으로부터 분리\n",
    "- 객체를 생성하는 코드와 사용하는 코드를 분리해서 관리가 쉽도록 함\n",
    "- 새로운 클래스를 추가하려면 elif 구문 하나만 추가하면 됨"
   ]
  },
  {
   "cell_type": "markdown",
   "metadata": {},
   "source": [
    "### 팩토리 메소드 구현\n",
    "\n",
    "- HTTP와 FTP 프로토콜을 사용해서 웹 자원에 접근하는 도구를 만들어 본다.\n",
    "- 추상 클래스 Creator를 만들고 Connector 라고 이름 붙임\n",
    "- 이 클래스는 원격 자원(HTTP 혹은 FTP)에 연결을 하고, 응답을 읽고, 파싱하는 역할을 함\n",
    "- 이 추상 클래스는 어떤 포트와 프로토콜을 사용해야 할지 모름\n",
    "- 왜냐하면 HTTP의 표준 포트는 80이고 FTP는 21이기 때문\n",
    "- 또한 HTTP의 프로토콜을 http 이거나 https가 되고 FTP의 프로토콜을 ftp가 됨\n",
    "- 따라서 어떤 포트를 사용해야 할지는 실행 시간에 자식 클래스에서 결정"
   ]
  },
  {
   "cell_type": "code",
   "execution_count": 24,
   "metadata": {
    "collapsed": true
   },
   "outputs": [],
   "source": [
    "\n",
    "# coding: utf-8\n",
    "import abc\n",
    "import urllib2\n",
    "from BeautifulSoup import BeautifulSoup\n",
    "from urlparse import urlparse\n",
    "from urlparse import urlunparse\n",
    "\n",
    "\n",
    "class Connector(object):\n",
    "    \"\"\"원격 서버에 연결하기 위한 추상 클래스\"\"\"\n",
    "    __metaclass__ = abc.ABCMeta # Declare class as abstract class\n",
    "    \n",
    "    def __init__(self, is_secure):\n",
    "        self.is_secure = is_secure\n",
    "        self.port = self.port_factory_method()\n",
    "        self.protocol = self.protocol_factory_method()\n",
    "        \n",
    "    @abc.abstractmethod\n",
    "    def parse(self):\n",
    "        \"\"\"웹 콘텐츠를 파싱한다.\n",
    "        이 메소든느 실행 시간에 재정의 해야만 한다.\"\"\"\n",
    "        pass\n",
    "    \n",
    "    def read(self, host, path):\n",
    "        \"\"\"모든 서브클래스에 대한 일반 메소드로, 웹 콘텐츠를 읽는다.\"\"\"\n",
    "        url = urlunparse((self.protocol, host+':'+str(self.port), path, \n",
    "                         '', '', ''))\n",
    "#         url = self.protocol + '://' + host + ':' + str(self.port) + path\n",
    "        print('Connecting to ', url)\n",
    "        return urllib2.urlopen(url, timeout=2).read()\n",
    "    \n",
    "    @abc.abstractmethod\n",
    "    def protocol_factory_method(self):\n",
    "        \"\"\"서브클래스에서 반드시 재정의해야 하는 팩토리 메소드\"\"\"\n",
    "        pass\n",
    "    \n",
    "    @abc.abstractmethod\n",
    "    def port_factory_method(self):\n",
    "        \"\"\"서브클래스에서 반드시 재정의해야 하는 또 다른 팩토리 메소드\"\"\"\n",
    "        return FTPPort()"
   ]
  },
  {
   "cell_type": "code",
   "execution_count": 25,
   "metadata": {
    "collapsed": true
   },
   "outputs": [],
   "source": [
    "class HTTPConnector(Connector):\n",
    "    \"\"\"HTTP 커넥터를 생성하고 모든 속성을 실행 시간에 설정하는 실제 생성자\"\"\"\n",
    "    def protocol_factory_method(self):\n",
    "        if self.is_secure:\n",
    "            return 'https'\n",
    "        return 'http'\n",
    "    \n",
    "    def port_factory_method(self):\n",
    "        \"\"\"HTTPPort와 HTTPSecurePort는 실제 객체로, 팩토리 메소드에서 생성한 것이다.\"\"\"\n",
    "        if self.is_secure:\n",
    "            return HTTPSecurePort()\n",
    "        return HTTPPort()\n",
    "    \n",
    "    def parse(self, content):\n",
    "        \"\"\"웹 콘텐츠 파싱\"\"\"\n",
    "        soup = BeautifulSoup(content)\n",
    "        links = soup.table.findAll('a')\n",
    "        filenames = [link['href'] for link in links]\n",
    "        return '\\n'.join(filenames)\n",
    "    \n",
    "\n",
    "class FTPConnector(Connector):\n",
    "    \"\"\"FTP 커넥터를 생성하고 모든 속성을 실행 시간에 설정하는 실제 생성자\"\"\"\n",
    "    def protocol_factory_method(self):\n",
    "        return 'ftp'\n",
    "    \n",
    "    def port_factory_method(self):\n",
    "        return FTPPort()\n",
    "    \n",
    "    def parse(self, content):\n",
    "        lines = content.split('\\n')\n",
    "        filenames = []\n",
    "        for line in lines:\n",
    "            # 일반적으로 FTP 포맷은 열을 8개 가지고 있음. 이것을 나누어 주자.\n",
    "            splitted_line = line.split(None, 8)\n",
    "            if len(splitted_line) == 9:\n",
    "                filenames.append(splitted_line[-1])\n",
    "        return '\\n'.join(filenames)"
   ]
  },
  {
   "cell_type": "code",
   "execution_count": 26,
   "metadata": {
    "collapsed": true
   },
   "outputs": [],
   "source": [
    "class Port(object):\n",
    "    __metaclass__ = abc.ABCMeta\n",
    "    \"\"\"추상 생성물. 이 중 하나의 서브클래스는 팩토리 메소드에서 생성된다.\"\"\"\n",
    "    \n",
    "    @abc.abstractmethod\n",
    "    def __str__(self):\n",
    "        pass\n",
    "    \n",
    "\n",
    "class HTTPPort(Port):\n",
    "    \"\"\"http 포트를 나타내는 실제 생성물\"\"\"\n",
    "    def __str__(self):\n",
    "        return '80'\n",
    "    \n",
    "    \n",
    "class HTTPSecurePort(Port):\n",
    "    \"\"\"https 포트를 나타내는 실제 생성물\"\"\"\n",
    "    def __str__(self):\n",
    "        return '443'\n",
    "    \n",
    "    \n",
    "class FTPPort(Port):\n",
    "    \"\"\"ftp 포트를 나타내는 실제 생성물\"\"\"\n",
    "    def __str__(self):\n",
    "        return '21'"
   ]
  },
  {
   "cell_type": "code",
   "execution_count": 28,
   "metadata": {
    "collapsed": false
   },
   "outputs": [
    {
     "name": "stdout",
     "output_type": "stream",
     "text": [
      "Connecting to ftp.freebsd.org. Which Protocol to use? (0-http, 1-ftp): 1\n",
      "('Connecting to ', 'ftp://ftp.freebsd.org:21/pub/FreeBSD/')\n",
      "README.TXT\n",
      "TIMESTAMP\n",
      "development\n",
      "dir.sizes\n",
      "doc\n",
      "ports\n",
      "releases\n",
      "\n"
     ]
    }
   ],
   "source": [
    "if __name__== '__main__':\n",
    "    domain = 'ftp.freebsd.org'\n",
    "    path = '/pub/FreeBSD/'\n",
    "    \n",
    "    protocol = input('Connecting to {}. Which Protocol to use? (0-http, 1-ftp): '.format(domain))\n",
    "    \n",
    "    if protocol == 0:\n",
    "        is_secure = bool(input('Use secure connection? (1-yes, 0-no): '))\n",
    "        connector = HTTPConnector(is_secure)\n",
    "    else:\n",
    "        is_secure = False\n",
    "        connector = FTPConnector(is_secure)\n",
    "        \n",
    "    try:\n",
    "        content = connector.read(domain, path)\n",
    "    except urllib2.URLError as e:\n",
    "        print('Can not access resource with this method')\n",
    "    else:\n",
    "        print(connector.parse(content))"
   ]
  },
  {
   "cell_type": "markdown",
   "metadata": {
    "collapsed": true
   },
   "source": [
    "## 추상 팩토리\n",
    "\n",
    "- 팩토리 메소드의 목적: 인스턴스 생성 과정을 서브클래스로 이동시키는 것\n",
    "- 추상 팩토리의 목적: 특정 클래스에 의존하지 않고 연관 객체의 가족을 만드는 것\n",
    "- AbstractFactory 인터페이스에서 상속받은 모든 팩토리는 AbstractProduct와 AnotherAbstractProduct 인터페이스를 생성하기 위한 메소드를 가지고 있음\n",
    "- 추상 팩토리에서 생성한 객체는 동일한 인터페이스를 가져야 하지만 생성한 실제 객체는 팩토리마다 달라야 함을 전제로 함\n",
    "- 따라서 서로 다른 동작성을 원한다면, 실행 시간에 팩토리를 변경하고 변경된 객체를 얻을 수 있음\n",
    "- 추상 팩토리는 서로 협업하는 객체 가족을 만들 때 주로 사용함\n",
    "- 추상 팩토리를 사용하면 클라이언트로부터 객체 생성을 분리해서, 클라이언트가 인터페이스를 통해서만 접근할 수 있도록 만들어 추후 조작이 용이하다는 장점이 있음\n",
    "- 만약 생성한 객체들이 서로 협업해야 한다면, AbstractFactory 클래스가 동시에 하나의 객체만 사용해서 작업을 쉽게 만든다. \n",
    "- 한편으로 기존 팩토리에 새로운 것을 추가하기는 쉽지 않은데, 이는 AbstractFactory 인터페이스가 사용하는 생성물 집합이 고정적이기 때문\n",
    "- 따라서 새로운 생성물을 추가하기 위해서는 팩토리 인터페이스를 확장해야 하고, AbstractFactory 클래스와 그 서브클래스를 모두 수정해야 함"
   ]
  },
  {
   "cell_type": "markdown",
   "metadata": {},
   "source": [
    "### 추상 팩토리 패턴의 장점\n",
    "\n",
    "- 생성물 가족을 치환하는 과정을 쉽게 만듦\n",
    "- 생성물 가족의 요소 간 호환성을 높임\n",
    "- 실제 클래스와 클라이언트를 분리함"
   ]
  },
  {
   "cell_type": "markdown",
   "metadata": {},
   "source": [
    "### 추상 팩토리 구현"
   ]
  },
  {
   "cell_type": "code",
   "execution_count": 29,
   "metadata": {
    "collapsed": true
   },
   "outputs": [],
   "source": [
    "import abc\n",
    "import urllib2\n",
    "from BeautifulSoup import BeautifulStoneSoup\n",
    "\n",
    "\n",
    "class AbstractFactory(object):\n",
    "    \"\"\"추상 팩토리 인터페이스는 서브클래스에서 3 가지 메소드를 제공함\n",
    "    create_protocol, create_port, create_parser.\"\"\"\n",
    "    __metaclass__ = abc.ABCMeta\n",
    "    \n",
    "    def __init__(self, is_secure):\n",
    "        \"\"\"is_secure가 True라면, 팩토리는 보안 연결을 사용함\"\"\"\n",
    "        self.is_secure = is_secure\n",
    "        \n",
    "    @abc.abstractmethod\n",
    "    def create_protocol(self):\n",
    "        pass\n",
    "    \n",
    "    @abc.abstractmethod\n",
    "    def create_port(self):\n",
    "        pass\n",
    "    \n",
    "    @abc.abstractmethod\n",
    "    def create_parser(self):\n",
    "        pass"
   ]
  },
  {
   "cell_type": "code",
   "execution_count": 30,
   "metadata": {
    "collapsed": true
   },
   "outputs": [],
   "source": [
    "class HTTPFactory(AbstractFactory):\n",
    "    \"\"\"HTTP 연결을 위한 실제 팩토리\"\"\"\n",
    "    def create_protocol(self):\n",
    "        if self.is_secure:\n",
    "            return 'https'\n",
    "        return 'http'\n",
    "    \n",
    "    def create_port(self):\n",
    "        if self.is_secure:\n",
    "            return HTTPSecurePort()\n",
    "        return HTTPPort()\n",
    "    \n",
    "    def create_parser(self):\n",
    "        return HTTPParser()"
   ]
  },
  {
   "cell_type": "code",
   "execution_count": 31,
   "metadata": {
    "collapsed": true
   },
   "outputs": [],
   "source": [
    "class FTPFactory(AbstractFactory):\n",
    "    \"\"\"FTP 연결을 위한 실제 팩토리\"\"\"\n",
    "    def create_protocol(self):\n",
    "        return 'ftp'\n",
    "    \n",
    "    def create_port(self):\n",
    "        return FTPPort()\n",
    "    \n",
    "    def create_parser(self):\n",
    "        return FTPParser()"
   ]
  },
  {
   "cell_type": "code",
   "execution_count": 36,
   "metadata": {
    "collapsed": false
   },
   "outputs": [],
   "source": [
    "class Port(object):\n",
    "    __metaclass_ = abc.ABCMeta\n",
    "    \"\"\"연결할 포트를 나타내는 추상 생성물. 팩토리 메소드에서 이것의 서브클래스를 생성한다.\"\"\"\n",
    "    \n",
    "    @abc.abstractmethod\n",
    "    def __str__(self):\n",
    "        pass\n",
    "    \n",
    "\n",
    "class HTTPPort(Port):\n",
    "    \"\"\"http 포트를 나타내는 실제 생성물\"\"\"\n",
    "    def __str__(self):\n",
    "        return '80'\n",
    "\n",
    "\n",
    "class HTTPSecurePort(Port):\n",
    "    \"\"\"https 포트를 나타내는 실제 생성물\"\"\"\n",
    "    def __str__(self):\n",
    "        return '443'\n",
    "\n",
    "\n",
    "class FTPPort(Port):\n",
    "    \"\"\"ftp 포트를 나타내는 실제 생성물\"\"\"\n",
    "    def __str__(self):\n",
    "        return '21'"
   ]
  },
  {
   "cell_type": "code",
   "execution_count": 37,
   "metadata": {
    "collapsed": true
   },
   "outputs": [],
   "source": [
    "class Parser(object):\n",
    "    \"\"\"웹 콘텐츠를 파싱하는 파서를 나타내는 추상 생성물.\n",
    "    이것의 서브클래스가 팩토리 메소드에서 생성된다.\"\"\"\n",
    "    __metaclass__ = abc.ABCMeta\n",
    "    \n",
    "    @abc.abstractmethod\n",
    "    def __call__(self, content):\n",
    "        pass\n",
    "    \n",
    "\n",
    "class HTTPParser(Parser):\n",
    "    def __call__(self, content):\n",
    "        soup = BeautifulStoneSoup(content)\n",
    "        links = soup.table.findAll('a')\n",
    "        filenames = [link.text for link in links]\n",
    "        return '\\n'.join(filenames)\n",
    "    \n",
    "    \n",
    "class FTPParser(Parser):\n",
    "    def __call__(self, content):\n",
    "        lines = content.split('\\n')\n",
    "        filenames = []\n",
    "        for line in lines:\n",
    "            splitted_line = line.split(None, 8)\n",
    "            if len(splitted_line) == 9:\n",
    "                filenames.append(splitted_line[-1])\n",
    "        return '\\n'.join(filenames)"
   ]
  },
  {
   "cell_type": "code",
   "execution_count": 39,
   "metadata": {
    "collapsed": false
   },
   "outputs": [],
   "source": [
    "class Connector(object):\n",
    "    \"\"\"클라이언트\"\"\"\n",
    "    def __init__(self, factory):\n",
    "        \"\"\"팩토리는 AbstractFactory 인스턴스로, 팩토리 클래스에 따라 \n",
    "        커넥터의 모든 속성을 생성한다.\"\"\"\n",
    "        self.protocol = factory.create_protocol()\n",
    "        self.port = factory.create_port()\n",
    "        self.parse = factory.create_parser()\n",
    "        \n",
    "    def read(self, host, path):\n",
    "        url = self.protocol + '://' + host + ':' + str(self.port) + path\n",
    "        print('Connecting to ', url)\n",
    "        return urllib2.urlopen(url, timeout=2).read()\n",
    "    \n",
    "    @abc.abstractmethod\n",
    "    def parse(self):\n",
    "        pass    "
   ]
  },
  {
   "cell_type": "code",
   "execution_count": 43,
   "metadata": {
    "collapsed": false
   },
   "outputs": [
    {
     "name": "stdout",
     "output_type": "stream",
     "text": [
      "Connecting to ftp.freebsd.org. Which Protocol to use? (0-http, 1-ftp): 0\n",
      "Use secure connection? (1-yes, 0-no): 0\n",
      "('Connecting to ', 'http://ftp.freebsd.org:80/pub/FreeBSD/')\n",
      "File Name\n",
      "&nbsp;↓&nbsp;\n",
      "File Size\n",
      "&nbsp;↓&nbsp;\n",
      "Date\n",
      "&nbsp;↓&nbsp;\n",
      "Parent directory/\n",
      "development/\n",
      "doc/\n",
      "ports/\n",
      "releases/\n",
      "snapshots/\n",
      "README.TXT\n",
      "TIMESTAMP\n",
      "dir.sizes\n"
     ]
    }
   ],
   "source": [
    "if __name__ == '__main__':\n",
    "    domain = 'ftp.freebsd.org'\n",
    "    path = '/pub/FreeBSD/'\n",
    "    \n",
    "    protocol = input('Connecting to {}. Which Protocol to use? (0-http, 1-ftp): '.format(domain))\n",
    "    \n",
    "    if protocol == 0:\n",
    "        is_secure = bool(input('Use secure connection? (1-yes, 0-no): '))\n",
    "        factory = HTTPFactory(is_secure)\n",
    "    elif protocol == 1:\n",
    "        is_secure = False\n",
    "        factory = FTPFactory(is_secure)\n",
    "    else:\n",
    "        print('Sorry, wrong answer')\n",
    "        \n",
    "    connector = Connector(factory)\n",
    "    try:\n",
    "        content = connector.read(domain, path)\n",
    "    except urllib2.URLError as e:\n",
    "        print('Can not access resource with this method')\n",
    "    else:\n",
    "        print(connector.parse(content))"
   ]
  },
  {
   "cell_type": "markdown",
   "metadata": {},
   "source": [
    "## 추상 팩토리와 팩토리 메소드\n",
    "\n",
    "- 팩토리 메소드 패턴 \n",
    "  - 클라이언트와 클라이언트가 사용하는 생성물을 구분지어야 할 때 사용함\n",
    "  - 클라이언트로 하여금 인스턴스의 생성과 설정의 책임을 갖지 않게 할 때 팩토리 메소드를 사용함\n",
    "- 추상 팩토리 패턴\n",
    "  - 클라이언트를 생성물 클래스에서 반드시 분리해야 할 때 사용함\n",
    "  - 또한 추상 팩토리 패턴은 어떤 클래스를 객체의 독립적 가족 생성과 함께 사용해야 할지 강제할 수 있음"
   ]
  },
  {
   "cell_type": "markdown",
   "metadata": {},
   "source": [
    "## 요약\n",
    "\n",
    "- 객체지향 개발 용어중 팩토리란 다른 클래스를 생성하는 클래스를 가리킴\n",
    "- 팩토리 메소드는 객체 생성을 위한 인터페이스를 정의하지만, 어떤 클래스를 인스턴스화할지는 인터페이스를 구현하는 클래스에서 결정함\n",
    "- 팩토리 메소드는 코드를 실제 클래스가 아닌 인터페이스에 묶어 좀 더 보편적으로 사용할 수 있게 만듦\n",
    "- 추상 팩토리는 실제 클래스를 명시하지 않은 상태로 관련있는 가족이나 의존된 객체를 생성하는 인터페이스를 제공함\n",
    "- 생성물 가족의 대체품을 단순화하고 가족을 이루는 생성물의 호환성을 보장함"
   ]
  }
 ],
 "metadata": {
  "kernelspec": {
   "display_name": "Python 2",
   "language": "python",
   "name": "python2"
  },
  "language_info": {
   "codemirror_mode": {
    "name": "ipython",
    "version": 2
   },
   "file_extension": ".py",
   "mimetype": "text/x-python",
   "name": "python",
   "nbconvert_exporter": "python",
   "pygments_lexer": "ipython2",
   "version": "2.7.10"
  }
 },
 "nbformat": 4,
 "nbformat_minor": 0
}
