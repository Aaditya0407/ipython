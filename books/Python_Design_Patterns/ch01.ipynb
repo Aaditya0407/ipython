{
 "cells": [
  {
   "cell_type": "markdown",
   "metadata": {},
   "source": [
    "# ch01 Model-View-Control\n",
    "\n",
    "- 소프트웨어 구조를 더 쉽게 유지하고 수정하기 위한 용도\n",
    "- 애플리케이션을 Model, View, Contoler 3부분으로 나누는 것\n",
    "- 모델은 데이터이자 비즈니스 로직\n",
    "- 뷰는 화면상의 윈도우\n",
    "- 컨트롤러는 이 둘을 연결\n",
    "- 뷰와 컨트롤러는 모델의 의존하지만, 모델은 화면 표시나 컨트롤러와는 독립적"
   ]
  },
  {
   "cell_type": "markdown",
   "metadata": {},
   "source": [
    "## 모델: 애플리케이션의 지식\n",
    "\n",
    "- 모델은 애플리케이션의 주춧돌\n",
    "- 뷰와 컨트롤러는 모델에 의존하지만 모델은 화면 표시나 컨트롤러에 독립적\n",
    "- 모델은 데이터와 데이터가 동작하는 방식을 제공\n",
    "- 모델에는 상태 정보와 이 상태를 변경하는 메소드가 있지만, 이 정보가 시각화되는 기능은 없다\n",
    "- 이런 독립성으로 인해 애플리케이션의 뷰나 컨트롤러를 테스트하거나 변경할 때 애플리케이션 로직은 변경하지 않아도 된다.\n",
    "- 모델은 프로그램 데이터의 무결성을 유지하는 책임을 진다. 데이터의 무결성이 깨지면 모두에게 좋지 않음\n",
    "\n",
    "\n",
    "### 모델 작업시 주의사항\n",
    "\n",
    "- 데이터 모델을 생성하고 이를 다루는 인터페이스를 만든다.\n",
    "- 데이터를 검증하고 모든 에러를 컨트롤러에 보고한다.\n",
    "- 유저 인터페이스를 직접 다루지 않는다."
   ]
  },
  {
   "cell_type": "markdown",
   "metadata": {},
   "source": [
    "## 뷰: 지식의 표현\n",
    "\n",
    "- 뷰는 컨트롤러를 통해 모델로부터 데이터를 받고 이를 시각화\n",
    "- 여기에는 복잡한 로직이 포함되지 않아야 함\n",
    "- 복잡한 로직은 모델이나 컨트롤러에 어울림\n",
    "- 사용자가 스마트폰이나 PC를 사용하는 상황에 따라 화면 표시를 달리해야 하는 애플리케이션의 시각화 메소드를 수정해야 한다면 뷰를 수정하면 됨\n",
    "\n",
    "### 뷰 작업시 주의사항\n",
    "\n",
    "- 최대한 간결하게 유지. 간단한 비교문과 반복문만 사용\n",
    "- 데이터베이스에 직접 접근 X\n",
    "- 순환문과 비교문 이외의 로직 X. 이를 분리시키려면 모든 복잡한 로직을 모델에서 수행하도록 해야 하기 때문"
   ]
  },
  {
   "cell_type": "markdown",
   "metadata": {},
   "source": [
    "## 컨트롤러: 모델과 뷰의 연결고리\n",
    "\n",
    "- 컨트롤러의 직접적인 책임은 요청을 통해 데이터를 받고 시스템의 달느 부분에 전달하는 것\n",
    "- 컨트롤러는 '얇게', 그리고 시스템 요소의 연결고리(glue layer)로만 사용해야 함\n",
    "\n",
    "### 컨트롤러 사용시 주의사항\n",
    "\n",
    "- 사용자의 요청으로부터 데이터를 받고 모델에 전달해서 이를 처리하고 저장한다\n",
    "- 뷰에 데이터를 전달해서 화면에 표시한다\n",
    "- 모든 요청 에러와 모델 에러를 처리한다\n",
    "- 데이터를 화면 표시X\n",
    "- 데이터 베이스와 로직을 직접 다루기X"
   ]
  },
  {
   "cell_type": "markdown",
   "metadata": {},
   "source": [
    "## MVC 사용의 장점\n",
    "\n",
    "1. 로직과 데이터 등 애플리케이션을 3 부분으로 분리함으로써 더 이해하기 쉬워지고 부속간 의존성이 낮아짐\n",
    "2. 개발자들은 특정 영역에 특화된 경우가 많음. 어떤 개발자는 사용자 인터페이스만 만들고 어떤 개발자는 로직만 개발하는 식. 따라서 특정 코드에만 집중하도록 업무를 분할할 수 있음\n",
    "3. MVC를 사용하면 로직에 전혀 영향을 주지 않고 화면 표시를 수정할 수 있음\n",
    "4. MVC를 사용하면 화면 표시에 전혀 영향을 주지 않고 로직을 수정할 수 있음\n",
    "5. MVC를 사용하면 뷰 구현을 수정하지 않고 사용자 동작(버튼을 클릭하는 등)에 반응하는 코드를 수정할 수 있음"
   ]
  },
  {
   "cell_type": "markdown",
   "metadata": {},
   "source": [
    "## 파이썬 구현\n",
    "\n",
    "- flask를 활용해서 URL 압축기 만들기\n",
    "\n",
    "### flask 활용처\n",
    "\n",
    "- 간단하고 짧은 애플리케이션을 만들 때 사용하는 Micro Framework로, 일반적인 웹 개발 API를 제공\n",
    "- 객체 관계형 매핑, 폼 검증, 장고, 피라미드와 같이 더 큰 프레임워크가 제공하는 일반적인 기능은 가지고 있지 않음\n",
    "- MVC를 자체적으로 사용하지는 않지만, 고수준의 사용자화의 이점을 누리면서 MVC 패턴을 직접 사용해 볼 수 있음\n",
    "- URL entity를 나타내는 Url 클래스를 만든다. 이 클래스는 full_url, short_url 2가지 속성을 갖는다. 사용자가 짧은 URL로 웹 사이트에 접속하면 Url 인스턴스를 찾아서 원래 주소로 연결\n",
    "- shorten 메소드는 컨트롤러의 인터페이스 메소드 제공. 컨트롤러가 이 메소드를 호출할 때 URL 전체를 전달함. 모델이 짧은 URL을 생성하고 추후 사용을 위해 저장해둠\n",
    "- get_by_short_url 메소드는 컨트롤러에 대한 두번째 인터페이스를 제공한다. 컨트롤러가 short_url 값을 전달하며 이 메소드를 호출하고 모델이 Url 인스턴스를 받아서 컨트롤러에게 반환함\n",
    "- 다른 메소드는 뒤에서 나오는 코드와 같이 짧은 URL을 생성하는 등 로직을 처리하거나 Url 인스턴스를 저장하거나 불러오는 헬퍼다"
   ]
  },
  {
   "cell_type": "code",
   "execution_count": 38,
   "metadata": {
    "collapsed": false
   },
   "outputs": [
    {
     "name": "stdout",
     "output_type": "stream",
     "text": [
      "Overwriting src/models.py\n"
     ]
    }
   ],
   "source": [
    "%%writefile src/models.py\n",
    "\n",
    "# coding: utf-8\n",
    "import pickle\n",
    "\n",
    "\n",
    "class Url(object):\n",
    "    @classmethod\n",
    "    def shorten(cls, full_url):\n",
    "        \"\"\"전체 URL 줄이기\"\"\"\n",
    "        \n",
    "        # Url 클래스의 인스턴스 생성\n",
    "        instance = cls()\n",
    "        instance.full_url = full_url\n",
    "        instance.short_url = instance.__create_short_url()\n",
    "        Url.__save_url_mapping(instance)\n",
    "        return instance\n",
    "    \n",
    "    @classmethod\n",
    "    def get_by_short_url(cls, short_url):\n",
    "        \"\"\"short_url에 일치하는 Url 인스턴스 반환\"\"\"\n",
    "        # __를 붙여줘야 된다.\n",
    "        url_mapping = Url.__load_url_mapping()\n",
    "        return url_mapping.get(short_url)\n",
    "    \n",
    "    def __create_short_url(self):\n",
    "        \"\"\"짧은 url 생성, 저장 후 반환\"\"\"\n",
    "        last_short_url = Url.__load_last_short_url()\n",
    "        short_url = self.__increment_string(last_short_url)\n",
    "        Url.__save_last_short_url(short_url)\n",
    "        return short_url\n",
    "    \n",
    "    def __increment_string(self, string):\n",
    "        \"\"\"문자열 증가:\n",
    "        a -> b\n",
    "        z -> aa\n",
    "        az -> ba\n",
    "        빈 문자열 -> a\n",
    "        \"\"\"\n",
    "        if string == '':\n",
    "            return 'a'\n",
    "        \n",
    "        last_char = string[-1]\n",
    "        \n",
    "        if last_char != 'z':\n",
    "            return string[-1] + chr(ord(last_char) + 1)\n",
    "        \n",
    "    @staticmethod\n",
    "    def __load_last_short_url():\n",
    "        \"\"\"마지막으로 생성한 짧은 url 반환\"\"\"\n",
    "        try:\n",
    "            return pickle.load(open('last_short.p', 'rb'))\n",
    "        except IOError:\n",
    "            return ''\n",
    "        \n",
    "    @staticmethod\n",
    "    def __save_last_short_url(url):\n",
    "        \"\"\"마지막으로 생성한 짧은 url 저장\"\"\"\n",
    "        pickle.dump(url, open('last_short.p', 'wb'))\n",
    "        \n",
    "    @staticmethod\n",
    "    def __load_url_mapping():\n",
    "        \"\"\"Url 인스턴스에 매핑하는 short_url 반환\"\"\"\n",
    "        try:\n",
    "            return pickle.load(open('short_to_url.p', 'rb'))\n",
    "        except IOError:\n",
    "            return {}\n",
    "        \n",
    "    @staticmethod\n",
    "    def __save_url_mapping(instance):\n",
    "        \"\"\"Url 인스턴스에 매핑하는 short_url 저장\"\"\"\n",
    "        short_to_url = Url.__load_url_mapping()\n",
    "        short_to_url[instance.short_url] = instance\n",
    "        pickle.dump(short_to_url, open('short_to_url.p', 'wb'))"
   ]
  },
  {
   "cell_type": "code",
   "execution_count": 5,
   "metadata": {
    "collapsed": true
   },
   "outputs": [],
   "source": [
    "!mkdir src/views"
   ]
  },
  {
   "cell_type": "code",
   "execution_count": 6,
   "metadata": {
    "collapsed": false
   },
   "outputs": [
    {
     "name": "stdout",
     "output_type": "stream",
     "text": [
      "Writing src/views/main_page.html\n"
     ]
    }
   ],
   "source": [
    "%%writefile src/views/main_page.html\n",
    "<form action='/shorten/'>\n",
    "    <label>\n",
    "        <input type=\"text\" name=\"url\" value=\"\" />\n",
    "        Link to shorten\n",
    "    </label>\n",
    "    <input type=\"submit\" value=\"OK\" />\n",
    "</form>"
   ]
  },
  {
   "cell_type": "code",
   "execution_count": 7,
   "metadata": {
    "collapsed": false
   },
   "outputs": [
    {
     "name": "stdout",
     "output_type": "stream",
     "text": [
      "Writing src/views/success.html\n"
     ]
    }
   ],
   "source": [
    "%%writefile src/views/success.html\n",
    "Congratulations! <br />\n",
    "Your url: {{ short_url }}"
   ]
  },
  {
   "cell_type": "code",
   "execution_count": 26,
   "metadata": {
    "collapsed": false
   },
   "outputs": [
    {
     "name": "stdout",
     "output_type": "stream",
     "text": [
      "Overwriting src/controller.py\n"
     ]
    }
   ],
   "source": [
    "%%writefile src/controller.py\n",
    "\n",
    "# coding: utf-8\n",
    "# 사용자가 압축된 URL을 가지고 오면 Redirect 함수를 사용해서 원래 주소로 연결한다.\n",
    "# Request는 HTTP 요청을 캡슐화 하는데 사용한다.\n",
    "# 여기에 요청 메소드, 요청 속성, 관련 정보를 갖고있다.\n",
    "from flask import redirect, render_template, request, Flask\n",
    "from werkzeug.exceptions import BadRequest, NotFound\n",
    "\n",
    "import models\n",
    "\n",
    "\n",
    "# Flask 애플리케이션 초기화\n",
    "app = Flask(__name__, template_folder='views')\n",
    "\n",
    "\n",
    "@app.route('/')\n",
    "def index():\n",
    "    \"\"\"메인 페이지 표시\"\"\"\n",
    "    return render_template('main_page.html')\n",
    "\n",
    "\n",
    "@app.route('/shorten/')\n",
    "def shorten():\n",
    "    \"\"\"요청받은 full_url를 가지고 short_url를 반환한다.\"\"\"\n",
    "    # 사용자 입력 검증\n",
    "    full_url = request.args.get('url')\n",
    "    if not full_url:\n",
    "        raise BadRequest\n",
    "        \n",
    "\n",
    "    # short_url 프로퍼티와 함께 객체를 반환하는 모델\n",
    "    url_model = models.Url.shorten(full_url)\n",
    "\n",
    "    # 뷰에 데이터를 전달하고 화면 표시 메소드를 호출\n",
    "    short_url = request.host + '/' + url_model.short_url\n",
    "    return render_template('success.html', short_url=short_url)\n",
    "\n",
    "\n",
    "@app.route('/<path:path>')\n",
    "def redirect_to_full(path=''):\n",
    "    \"\"\"압축된 URL을 받아와서 일치하는 원래 주소가 있다면 그 곳으로 사용자를 연결한다.\"\"\"\n",
    "    # full_url 프로퍼티와 함께 객체를 반환하는 모델\n",
    "    url_model = models.Url.get_by_short_url(path)\n",
    "    # 검증 모델 반환\n",
    "    if not url_model:\n",
    "        raise NotFound()\n",
    "        \n",
    "    return redirect(url_model.full_url)\n",
    "\n",
    "\n",
    "if __name__== '__main__':\n",
    "    app.run(debug=True)"
   ]
  },
  {
   "cell_type": "code",
   "execution_count": 36,
   "metadata": {
    "collapsed": false
   },
   "outputs": [],
   "source": [
    "%run src/controller.py"
   ]
  },
  {
   "cell_type": "markdown",
   "metadata": {},
   "source": [
    "## 요약\n",
    "\n",
    "- 애플리케이션의 각 영역을 분리해서 서로의 의존성을 낮추는 것이 소프트웨어 관리에 유리\n",
    "- MVC는 애플리케이션을 상대적으로 모델, 뷰, 컨트롤러 세 영역으로 분리함\n",
    "- 모델은 지식(Knowledge)과 데이터, 로직을 포함함\n",
    "- 뷰는 사용자가 볼 수 있도록 화면에 표시하는 역할을 하므로 최대한 간결하게 유지해야 함\n",
    "- 컨트롤러는 모델과 뷰를 연결하는 통로 역할을 하므로 레이어를 두껍게 만들지 말아야 함. 마지막으로 현실적인 에제로 MVC 패턴을 사용한 URL 압축기를 구현해 봤음\n",
    "- pickle 모델을 사용해서 애플리케이션 데이터를 보존함. 하지만 데이터 베이스를 사용하고 싶다면 어떻게 해야 할까? 우선 데이터 베이스에 연결을 해야 함\n",
    "- 데이터 베이스에 연결하는 작업 자체에 많은 부하가 있으므로 애플리케이션을 실행할 때 한 번만 연결하도록 만드는 것이 좋음\n",
    "- Singleton 패턴을 사용해서 초기화를 여러번 수행하더라도 객체를 하나만 생성하는 방법을 배움"
   ]
  }
 ],
 "metadata": {
  "kernelspec": {
   "display_name": "Python 2",
   "language": "python",
   "name": "python2"
  },
  "language_info": {
   "codemirror_mode": {
    "name": "ipython",
    "version": 2
   },
   "file_extension": ".py",
   "mimetype": "text/x-python",
   "name": "python",
   "nbconvert_exporter": "python",
   "pygments_lexer": "ipython2",
   "version": "2.7.10"
  }
 },
 "nbformat": 4,
 "nbformat_minor": 0
}
