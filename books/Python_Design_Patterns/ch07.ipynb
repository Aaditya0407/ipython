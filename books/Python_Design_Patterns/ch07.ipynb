{
 "cells": [
  {
   "cell_type": "markdown",
   "metadata": {},
   "source": [
    "# ch07 템플릿 메소드로 알고리즘 재정의하기"
   ]
  },
  {
   "cell_type": "markdown",
   "metadata": {},
   "source": [
    "- 가끔은 약간만 수정해서 사용해야 하는 알고리즘\n",
    "- 둘은 서로 다른 URL을 사용하고 전달하는 데이터도 다르다."
   ]
  },
  {
   "cell_type": "markdown",
   "metadata": {},
   "source": [
    "## 템플릿 메소드 디자인 패턴\n",
    "\n",
    "- 핵심: 어떤 목표를 달성하기 위한 알고리즘에 대해 작업 단계(기초 작업)를 담아둔 메소드를 만드는 것\n",
    "- 이 기초 작업은 별도의 메소드로 구현됨. 모든 알고리즘에 동일하게 사용하는 메소드도 있고, 서로 다른 메소드도 있다.\n",
    "- 동일한 메소드는 추상 클래스로 구현하지만, 서로 다른 메소드는 알고리즘마다 별도의 클래스로 구현함"
   ]
  },
  {
   "cell_type": "markdown",
   "metadata": {},
   "source": [
    "### 템플릿 메소드 구현 순서\n",
    "\n",
    "1. 알고리즘에 대한 메소드를 만듦\n",
    "2. 알고리즘 구현을 여러 메소드로 나눔\n",
    "3. 모든 클래스에 동일한 메소드는 상위 클래스에서 구현하고, 특정 메소드는 상속받은 클래스에서 구현한다."
   ]
  },
  {
   "cell_type": "markdown",
   "metadata": {},
   "source": [
    "### 템플릿 메소드 디자인 패턴의 장점\n",
    "\n",
    "- 클래스의 일부를 노출하거나 제어하게 해서 확장성이 좋다는 점\n",
    "- 코드 중복을 최소화함. 비슷한 코드를 반복적으로 작성할 필요가 없음\n",
    "- 알고리즘 자체는 한 곳에 위치하므로, 여러 부분에서 수정할 필요가 없음\n",
    "- 코드 수정이 수월해짐. 알고리즘을 처음부터 재작성할 필요없이 클래스를 새로 만들고 필요한 메소드만 구현하면 됨"
   ]
  },
  {
   "cell_type": "markdown",
   "metadata": {},
   "source": [
    "### 후크 사용\n",
    "\n",
    "- Hook는 추상 클래스에서 정의 가능하고 실제 클래스에서 오버라이드 할 수 있는 메소드\n",
    "- 후크는 하위 클래스에서 오버라이드 가능하지만 강제사항은 아님\n",
    "- 하지만 실제 작업은 반드시 구현해야 하고, 구현이 빠지면 NotImplementedError 예외가 발생한다는 차이점\n",
    "- 후크는 코드 중복을 피하기 위해 알고리즘을 살짝 수정할 때 사용함"
   ]
  },
  {
   "cell_type": "markdown",
   "metadata": {},
   "source": [
    "## 파이썬 구현\n",
    "\n",
    "- 여러 뉴스 사이트에서 최신 뉴스를 모아주는 수집기를 만든다고 가정\n",
    "- 뉴스 사이트는 대게 RSS와 Atom 프로토콜로 뉴스를 제공함\n",
    "- 이런 프로토콜은 XML을 기반으로 한 비슷한 형식으로 약간의 차이점이 존재"
   ]
  },
  {
   "cell_type": "markdown",
   "metadata": {},
   "source": [
    "#### RSS Feed\n",
    "\n",
    "```xml\n",
    "<?xml version=\"1.0\" encoding=\"ISO-8859-1\" ?>\n",
    "     <rss version=\"2.0\">\n",
    "       <channel>\n",
    "         <title>A RSS example</title>\n",
    "         <link>http://example.com</link>\n",
    "         <description>Description of RSS example</description>\n",
    "         <item>\n",
    "           <title>The first news</title>\n",
    "           <link>http://example.com/first</link>\n",
    "           <description>Some description of the first\n",
    "             news</description>\n",
    "         </item>\n",
    "         <item>\n",
    "           <guid>urn:uuid:1225c695-cfb8-4ebb-aaaa-80da344efa6a</id>\n",
    "           <title>The second news</title>\n",
    "           <link>example.com/second</link>\n",
    "           <description>Some description of the second\n",
    "             news</description>\n",
    "           <pubDate>Wed, 30 Sep 2013 13:00:00 GMT</pubDate>\n",
    "    </item>\n",
    "  </channel>\n",
    "</rss>\n",
    "```\n",
    "\n",
    "#### Atom Feed\n",
    "\n",
    "```xml\n",
    "<?xml version=\"1.0\" encoding=\"utf-8\"?>\n",
    "<feed xmlns=\"http://www.w3.org/2005/Atom\">\n",
    "<title>A RSS example</title>\n",
    "<subtitle>Description of RSS example</subtitle>\n",
    "<link href=\"http://example.org/\"/>\n",
    "<entry>\n",
    " <id>urn:uuid:1225c695-cfb8-4ebb-aaaa-80da344efa6a</id>\n",
    " <title>The first news</title>\n",
    " <link href=\"http://example.com/first\"/>\n",
    " <summary>Some description of the second news</summary>\n",
    " <updated>2013-09-30T13:00:00Z</updated>\n",
    "</entry>\n",
    "</feed>\n",
    "```"
   ]
  },
  {
   "cell_type": "markdown",
   "metadata": {},
   "source": [
    "- 서로 다른 두 피드를 파싱하기 위해서는 별도의 알고리즘이 필요하지만, 그외 요청, 응답 얻기, 파싱한 내용 출력 등에는 동일한 코드 사용 가능\n",
    "- Atom 서식을 사용하는 피드로 구글 뉴스, RSS 서식을 사용하는 피드로 야후 뉴스를 사용\n",
    "- 우리의 고객은 stdout에 최신 뉴스를 출력하고 싶어한다."
   ]
  },
  {
   "cell_type": "markdown",
   "metadata": {},
   "source": [
    "### 파싱 알고리즘\n",
    "\n",
    "1. URL을 얻고 피드 서버에 요청을 보낸다.(특별)\n",
    "2. 가공되지 않은 콘텐츠를 얻는다.(동일)\n",
    "3. 파싱한다.(특별)\n",
    "4. 사용자에게 출력해서 보여준다.(동일)"
   ]
  },
  {
   "cell_type": "code",
   "execution_count": 13,
   "metadata": {
    "collapsed": true
   },
   "outputs": [],
   "source": [
    "import urllib2 # RSS, ATOM 피드에 http 요청을 보내기 위해서\n",
    "\n",
    "\n",
    "class AbstractNewsParser(object):\n",
    "    def __init__(self):\n",
    "        # 클래스 인스턴스 생성 방지\n",
    "        if self.__class__ is AbstractNewsParser:\n",
    "            raise TypeError('abstract class cannot be instantiated')\n",
    "            \n",
    "    def print_top_news(self):\n",
    "        \"\"\"템플릿 메소드. 모든 웹사이트에서 3개의 최신 뉴스를 반환한다.\"\"\"\n",
    "        url = self.get_url()\n",
    "        raw_content = self.get_raw_content(url)\n",
    "        content = self.parse_content(raw_content)\n",
    "        cropped = self.crop(content)\n",
    "        \n",
    "        for item in cropped:\n",
    "            print('Title: ', item['title'])\n",
    "            print('Content: ', item['content'])\n",
    "            print('Link: ', item['link'])\n",
    "            print('Published: ', item['published'])\n",
    "            print('Id: ', item['id'])\n",
    "            \n",
    "    def get_url(self):\n",
    "        raise NotImplementedError()\n",
    "        \n",
    "    def get_raw_content(self, url):\n",
    "        return urllib2.urlopen(url).read()\n",
    "    \n",
    "    def parse_content(self, content):\n",
    "        raise NotImplementedError\n",
    "        \n",
    "    def crop(self, parsed_content, max_items=3):\n",
    "        return parsed_content[:max_items]"
   ]
  },
  {
   "cell_type": "code",
   "execution_count": 40,
   "metadata": {
    "collapsed": false
   },
   "outputs": [],
   "source": [
    "from xml.dom import minidom\n",
    "\n",
    "\n",
    "class YahooParser(AbstractNewsParser):\n",
    "    def get_url(self):\n",
    "        return 'http://news.yahoo.com/rss/'\n",
    "    \n",
    "    def parse_content(self, raw_content):\n",
    "        parsed_content = []\n",
    "        dom = minidom.parseString(raw_content)\n",
    "        for node in dom.getElementsByTagName('item'):\n",
    "            parsed_item = {}\n",
    "            try:\n",
    "                parsed_item['title'] = node.getElementsByTagName('title')[0].childNodes[0].nodeValue\n",
    "            except IndexError:\n",
    "                parsed_item['title'] = None\n",
    "                \n",
    "            try:\n",
    "                parsed_item['content'] = \\\n",
    "                node.getElementsByTagName('description')[0].childNodes[0].nodeValue\n",
    "            except IndexError:\n",
    "                parsed_item['content'] = None\n",
    "                \n",
    "            try:\n",
    "                parsed_item['link'] = \\\n",
    "                node.getElementsByTagName('link')[0].childNodes[0].nodeValue\n",
    "            except IndexError:\n",
    "                parsed_item['link'] = None\n",
    "                \n",
    "            try:\n",
    "                parsed_item['id'] = \\\n",
    "                node.getElementsByTagName('guid')[0].childNodes[0].nodeValue\n",
    "            except IndexError:\n",
    "                parsed_item['id'] = None\n",
    "                \n",
    "            try:\n",
    "                parsed_item['published'] = \\\n",
    "                node.getElementsByTagName('pubDate')[0].childNodes[0].nodeValue\n",
    "            except IndexError:\n",
    "                parsed_item['published'] = None\n",
    "                \n",
    "            parsed_content.append(parsed_item)\n",
    "        return parsed_content"
   ]
  },
  {
   "cell_type": "code",
   "execution_count": 18,
   "metadata": {
    "collapsed": true
   },
   "outputs": [],
   "source": [
    "class GoogleParser(AbstractNewsParser):\n",
    "    def get_url(self):\n",
    "        return 'http://news.google.com/news/feeds?output=atom'\n",
    "    \n",
    "    def parse_content(self, raw_content):\n",
    "        parsed_content = []\n",
    "        dom = minidom.parseString(raw_content)\n",
    "        \n",
    "        for node in dom.getElementsByTagName('entry'):\n",
    "            parsed_item = {}\n",
    "            try:\n",
    "                parsed_item['title'] = \\\n",
    "                node.getElementsByTagName('title')[0].childNodes[0].nodeValue\n",
    "            except IndexError:\n",
    "                parsed_item['title'] = None\n",
    "                \n",
    "            try:\n",
    "                parsed_item['content'] = \\\n",
    "                node.getElementsByTagName('content')[0].childNodes[0].nodeValue\n",
    "            except IndexError:\n",
    "                parsed_item['content'] = None\n",
    "                \n",
    "            try:\n",
    "                parsed_item['link'] = \\\n",
    "                node.getElementsByTagName('link')[0].getAttribute('href')\n",
    "            except IndexError:\n",
    "                parsed_item['link'] = None\n",
    "                \n",
    "            try:\n",
    "                parsed_item['id'] = \\\n",
    "                node.getElementsByTagName('id')[0].childNodes[0].nodeValue\n",
    "            except IndexError:\n",
    "                parsed_item['id'] = None\n",
    "                \n",
    "            try:\n",
    "                parsed_item['published'] = \\\n",
    "                node.getElementsByTagName('updated')[0].childNodes[0].nodeValue\n",
    "            except IndexError:\n",
    "                parsed_item['published'] = None\n",
    "                \n",
    "            parsed_content.append(parsed_item)\n",
    "        return parsed_content"
   ]
  },
  {
   "cell_type": "code",
   "execution_count": 45,
   "metadata": {
    "collapsed": false,
    "scrolled": false
   },
   "outputs": [
    {
     "name": "stdout",
     "output_type": "stream",
     "text": [
      "Google: \n",
      "('Title: ', u'Pope to meet prisoners at end of immigration-focused US visit - Reuters')\n",
      "('Content: ', u'<table border=\"0\" cellpadding=\"2\" cellspacing=\"7\" style=\"vertical-align:top;\"><tr><td width=\"80\" align=\"center\" valign=\"top\"><font style=\"font-size:85%;font-family:arial,sans-serif\"><a href=\"http://news.google.com/news/url?sa=t&amp;fd=R&amp;ct2=us&amp;usg=AFQjCNGQz4gL81op7p48ZdB-FyfQbXYW3A&amp;clid=c3a7d30bb8a4878e06b80cf16b898331&amp;cid=52778958855938&amp;ei=1OUHVpjcMsOl4AKRp7iYAQ&amp;url=http://www.reuters.com/article/2015/09/27/us-pope-usa-idUSKCN0RP11X20150927\"><img src=\"//t3.gstatic.com/images?q=tbn:ANd9GcTh4CiqzLDRlZuGK_m1Fh1ambpISqtBwEhYPvvAxtRecv3pavP37tkJyKIDbU_KFoxS5OJM6kzr\" alt=\"\" border=\"1\" width=\"80\" height=\"80\"><br><font size=\"-2\">Reuters</font></a></font></td><td valign=\"top\" class=\"j\"><font style=\"font-size:85%;font-family:arial,sans-serif\"><br><div style=\"padding-top:0.8em;\"><img alt=\"\" height=\"1\" width=\"1\"></div><div class=\"lh\"><a href=\"http://news.google.com/news/url?sa=t&amp;fd=R&amp;ct2=us&amp;usg=AFQjCNGQz4gL81op7p48ZdB-FyfQbXYW3A&amp;clid=c3a7d30bb8a4878e06b80cf16b898331&amp;cid=52778958855938&amp;ei=1OUHVpjcMsOl4AKRp7iYAQ&amp;url=http://www.reuters.com/article/2015/09/27/us-pope-usa-idUSKCN0RP11X20150927\"><b>Pope to meet prisoners at end of immigration-focused US visit</b></a><br><font size=\"-1\"><b><font color=\"#6f6f6f\">Reuters</font></b></font><br><font size=\"-1\">PHILADELPHIA Pope Francis was set to meet with his bishops and a group of inmates at a Pennsylvania prison on Sunday before saying Mass for an expected crowd of 1.5 million people on the final day of his historic visit to the United States. The first <b>...</b></font><br><font size=\"-1\"><a href=\"http://news.google.com/news/url?sa=t&amp;fd=R&amp;ct2=us&amp;usg=AFQjCNHL2nBDegGo61pFLVsYCiwcWKhN1A&amp;clid=c3a7d30bb8a4878e06b80cf16b898331&amp;cid=52778958855938&amp;ei=1OUHVpjcMsOl4AKRp7iYAQ&amp;url=http://www.foxnews.com/us/2015/09/27/as-many-as-million-expected-in-philadelphia-for-pope-last-mass-in-america/\">One million people expected in Philadelphia for pope&#39;s last Mass in America</a><font size=\"-1\" color=\"#6f6f6f\"><nobr>Fox News</nobr></font></font><br><font size=\"-1\"><a href=\"http://news.google.com/news/url?sa=t&amp;fd=R&amp;ct2=us&amp;usg=AFQjCNEA2Bqfyk14YOxAmdB9pG-dNBj9tw&amp;clid=c3a7d30bb8a4878e06b80cf16b898331&amp;cid=52778958855938&amp;ei=1OUHVpjcMsOl4AKRp7iYAQ&amp;url=http://www.nytimes.com/2015/09/28/us/before-popes-farewell-mass-visits-with-bishops-and-inmates.html\">Before Pope&#39;s Farewell Mass, Visits With Bishops and Inmates</a><font size=\"-1\" color=\"#6f6f6f\"><nobr>New York Times</nobr></font></font><br><font size=\"-1\"><a href=\"http://news.google.com/news/url?sa=t&amp;fd=R&amp;ct2=us&amp;usg=AFQjCNExolHqh2BKau2yUceu1oCJUNdqqA&amp;clid=c3a7d30bb8a4878e06b80cf16b898331&amp;cid=52778958855938&amp;ei=1OUHVpjcMsOl4AKRp7iYAQ&amp;url=http://www.usatoday.com/story/news/2015/09/27/pope-francis-wraps-up-us-visit-philadelphia/72923820/\">Pope to celebrate Mass on final day in US</a><font size=\"-1\" color=\"#6f6f6f\"><nobr>USA TODAY</nobr></font></font><br><font size=\"-1\" class=\"p\"><a href=\"http://news.google.com/news/url?sa=t&amp;fd=R&amp;ct2=us&amp;usg=AFQjCNG6SVuteheB_p0BgDj5g9GLbR9ZPw&amp;clid=c3a7d30bb8a4878e06b80cf16b898331&amp;cid=52778958855938&amp;ei=1OUHVpjcMsOl4AKRp7iYAQ&amp;url=http://www.cnn.com/2015/09/26/us/pope-francis-philadelphia-mass/\"><nobr>CNN</nobr></a>&nbsp;-<a href=\"http://news.google.com/news/url?sa=t&amp;fd=R&amp;ct2=us&amp;usg=AFQjCNG1TwGM3b3cLJmJFg15YSG-u0gbuw&amp;clid=c3a7d30bb8a4878e06b80cf16b898331&amp;cid=52778958855938&amp;ei=1OUHVpjcMsOl4AKRp7iYAQ&amp;url=http://www.nj.com/opinion/index.ssf/2015/09/post_145.html\"><nobr>NJ.com</nobr></a>&nbsp;-<a href=\"http://news.google.com/news/url?sa=t&amp;fd=R&amp;ct2=us&amp;usg=AFQjCNEZW9FtSXKFfHADuAp4Hc45dsGkMQ&amp;clid=c3a7d30bb8a4878e06b80cf16b898331&amp;cid=52778958855938&amp;ei=1OUHVpjcMsOl4AKRp7iYAQ&amp;url=http://abcnews.go.com/US/wireStory/latest-faithful-gather-francis-day-us-34078061\"><nobr>ABC News</nobr></a></font><br><font class=\"p\" size=\"-1\"><a class=\"p\" href=\"http://news.google.com/news/more?ncl=dPLCHMVfUjd9hCMpUA6kxm5EkGUqM&amp;authuser=0&amp;ned=us&amp;topic=h\"><nobr><b>all 7,744 news articles&nbsp;&raquo;</b></nobr></a></font></div></font></td></tr></table>')\n",
      "('Link: ', u'http://news.google.com/news/url?sa=t&fd=R&ct2=us&usg=AFQjCNGQz4gL81op7p48ZdB-FyfQbXYW3A&clid=c3a7d30bb8a4878e06b80cf16b898331&cid=52778958855938&ei=1OUHVpjcMsOl4AKRp7iYAQ&url=http://www.reuters.com/article/2015/09/27/us-pope-usa-idUSKCN0RP11X20150927')\n",
      "('Published: ', u'2015-09-27T11:07:30Z')\n",
      "('Id: ', u'tag:news.google.com,2005:cluster=52778958855938')\n",
      "('Title: ', u'Pope Francis Kicks Off His Final Day in US With Prison Visit, Philadelphia Mass - NBCNews.com')\n",
      "('Content: ', u'<table border=\"0\" cellpadding=\"2\" cellspacing=\"7\" style=\"vertical-align:top;\"><tr><td width=\"80\" align=\"center\" valign=\"top\"><font style=\"font-size:85%;font-family:arial,sans-serif\"><a href=\"http://news.google.com/news/url?sa=t&amp;fd=R&amp;ct2=us&amp;usg=AFQjCNHJHzfk04k2QOpIedgUQgVcjyQ4WA&amp;clid=c3a7d30bb8a4878e06b80cf16b898331&amp;cid=52778959151860&amp;ei=1OUHVpjcMsOl4AKRp7iYAQ&amp;url=http://www.nbcnews.com/storyline/pope-francis-visits-america/pope-francis-kicks-his-final-day-u-s-n434431\"><img src=\"//t0.gstatic.com/images?q=tbn:ANd9GcShYkfLHuJ76RJ0cCx9S0y_lTM-ICgDHUP5TxJhobdED47oBE60_nVMYx7MNkyf5T29QkM120tc\" alt=\"\" border=\"1\" width=\"80\" height=\"80\"><br><font size=\"-2\">NBCNews.com</font></a></font></td><td valign=\"top\" class=\"j\"><font style=\"font-size:85%;font-family:arial,sans-serif\"><br><div style=\"padding-top:0.8em;\"><img alt=\"\" height=\"1\" width=\"1\"></div><div class=\"lh\"><a href=\"http://news.google.com/news/url?sa=t&amp;fd=R&amp;ct2=us&amp;usg=AFQjCNHJHzfk04k2QOpIedgUQgVcjyQ4WA&amp;clid=c3a7d30bb8a4878e06b80cf16b898331&amp;cid=52778959151860&amp;ei=1OUHVpjcMsOl4AKRp7iYAQ&amp;url=http://www.nbcnews.com/storyline/pope-francis-visits-america/pope-francis-kicks-his-final-day-u-s-n434431\"><b>Pope Francis Kicks Off His Final Day in US With Prison Visit, Philadelphia Mass</b></a><br><font size=\"-1\"><b><font color=\"#6f6f6f\">NBCNews.com</font></b></font><br><font size=\"-1\">PHILADELPHIA \\u2014 Pope Francis&#39; will wrap up his historic U.S. trip on Sunday with a visit to a prison followed by a mass expected to draw the largest audience of his tour. Crowds have thronged Francis at every stop of his six-day tour, with the pope <b>...</b></font><br><font size=\"-1\"><a href=\"http://news.google.com/news/url?sa=t&amp;fd=R&amp;ct2=us&amp;usg=AFQjCNH3soHJOcoc8ollo-JptRuGEnC0RA&amp;clid=c3a7d30bb8a4878e06b80cf16b898331&amp;cid=52778959151860&amp;ei=1OUHVpjcMsOl4AKRp7iYAQ&amp;url=http://www.voanews.com/content/pope-francis-to-celebrate-farewell-mass-in-philadelphia/2981001.html\">Pope to Visit Prison, Celebrate Farewell Mass</a><font size=\"-1\" color=\"#6f6f6f\"><nobr>Voice of America</nobr></font></font><br><font size=\"-1\"><a href=\"http://news.google.com/news/url?sa=t&amp;fd=R&amp;ct2=us&amp;usg=AFQjCNGvztKAE1tbJLdzuKIo_WlLlTAxdw&amp;clid=c3a7d30bb8a4878e06b80cf16b898331&amp;cid=52778959151860&amp;ei=1OUHVpjcMsOl4AKRp7iYAQ&amp;url=https://www.washingtonpost.com/lifestyle/style/inside-the-philadelphia-prison-that-will-host-pope-francis-on-sunday/2015/09/26/25024fae-5bca-11e5-9757-e49273f05f65_story.html\">Inside the Philadelphia prison that will host Pope Francis on Sunday</a><font size=\"-1\" color=\"#6f6f6f\"><nobr>Washington Post</nobr></font></font><br><font size=\"-1\"><a href=\"http://news.google.com/news/url?sa=t&amp;fd=R&amp;ct2=us&amp;usg=AFQjCNGlALyvTxx2Wlkjm81qs7djbjQ88A&amp;clid=c3a7d30bb8a4878e06b80cf16b898331&amp;cid=52778959151860&amp;ei=1OUHVpjcMsOl4AKRp7iYAQ&amp;url=http://www.npr.org/sections/thetwo-way/2015/09/27/443896866/pope-to-end-his-u-s-visit-with-million-strong-mass-in-philadelphia\">Pope To End His U.S. Visit With Million-Strong Mass In Philadelphia</a><font size=\"-1\" color=\"#6f6f6f\"><nobr>NPR</nobr></font></font><br><font size=\"-1\" class=\"p\"><a href=\"http://news.google.com/news/url?sa=t&amp;fd=R&amp;ct2=us&amp;usg=AFQjCNHR6T6HEqci6X_hWlwpPcJXga0Wlg&amp;clid=c3a7d30bb8a4878e06b80cf16b898331&amp;cid=52778959151860&amp;ei=1OUHVpjcMsOl4AKRp7iYAQ&amp;url=http://abcnews.go.com/US/pope-francis-spends-final-day-us/story?id%3D34077493\"><nobr>ABC News</nobr></a>&nbsp;-<a href=\"http://news.google.com/news/url?sa=t&amp;fd=R&amp;ct2=us&amp;usg=AFQjCNFvKD0erogGTzzIZ1ncMpRnAj295w&amp;clid=c3a7d30bb8a4878e06b80cf16b898331&amp;cid=52778959151860&amp;ei=1OUHVpjcMsOl4AKRp7iYAQ&amp;url=http://pix11.com/2015/09/27/pope-francis-wraps-up-historic-tour-of-u-s-with-full-day-of-events-in-philadelphia/\"><nobr>New York\\'s PIX11 / WPIX-TV</nobr></a>&nbsp;-<a href=\"http://news.google.com/news/url?sa=t&amp;fd=R&amp;ct2=us&amp;usg=AFQjCNElZo3ZtHEBt9w5K5TLM5tfDxb-QQ&amp;clid=c3a7d30bb8a4878e06b80cf16b898331&amp;cid=52778959151860&amp;ei=1OUHVpjcMsOl4AKRp7iYAQ&amp;url=http://www.phillymag.com/news/2015/09/27/pope-week-sunday/\"><nobr>Philadelphia Magazine (blog)</nobr></a></font><br><font class=\"p\" size=\"-1\"><a class=\"p\" href=\"http://news.google.com/news/more?ncl=drmPMdsBLgA8i0MKSY39gzrEDUCjM&amp;authuser=0&amp;ned=us&amp;topic=h\"><nobr><b>all 45 news articles&nbsp;&raquo;</b></nobr></a></font></div></font></td></tr></table>')\n",
      "('Link: ', u'http://news.google.com/news/url?sa=t&fd=R&ct2=us&usg=AFQjCNHJHzfk04k2QOpIedgUQgVcjyQ4WA&clid=c3a7d30bb8a4878e06b80cf16b898331&cid=52778959151860&ei=1OUHVpjcMsOl4AKRp7iYAQ&url=http://www.nbcnews.com/storyline/pope-francis-visits-america/pope-francis-kicks-his-final-day-u-s-n434431')\n",
      "('Published: ', u'2015-09-27T12:10:14Z')\n",
      "('Id: ', u'tag:news.google.com,2005:cluster=52778959151860')\n",
      "('Title: ', u'How GOP Radicals Made the Speakership Unappealing - The Atlantic')\n",
      "('Content: ', u'<table border=\"0\" cellpadding=\"2\" cellspacing=\"7\" style=\"vertical-align:top;\"><tr><td width=\"80\" align=\"center\" valign=\"top\"><font style=\"font-size:85%;font-family:arial,sans-serif\"><a href=\"http://news.google.com/news/url?sa=t&amp;fd=R&amp;ct2=us&amp;usg=AFQjCNGLm0nt6PGRokiP1o5a_f2Qf5xYtQ&amp;clid=c3a7d30bb8a4878e06b80cf16b898331&amp;cid=52778958220006&amp;ei=1OUHVpjcMsOl4AKRp7iYAQ&amp;url=http://www.theatlantic.com/politics/archive/2015/09/how-gop-radicals-made-the-speakership-unappealing/407563/\"><img src=\"//t2.gstatic.com/images?q=tbn:ANd9GcSq2z9whwEVh9OgBuG4FXjF4exHFDgZCC3JAMGo8CjIxCtt6qHOyE4KyglV2zV3NGY8kwcuec0d\" alt=\"\" border=\"1\" width=\"80\" height=\"80\"><br><font size=\"-2\">The Atlantic</font></a></font></td><td valign=\"top\" class=\"j\"><font style=\"font-size:85%;font-family:arial,sans-serif\"><br><div style=\"padding-top:0.8em;\"><img alt=\"\" height=\"1\" width=\"1\"></div><div class=\"lh\"><a href=\"http://news.google.com/news/url?sa=t&amp;fd=R&amp;ct2=us&amp;usg=AFQjCNGLm0nt6PGRokiP1o5a_f2Qf5xYtQ&amp;clid=c3a7d30bb8a4878e06b80cf16b898331&amp;cid=52778958220006&amp;ei=1OUHVpjcMsOl4AKRp7iYAQ&amp;url=http://www.theatlantic.com/politics/archive/2015/09/how-gop-radicals-made-the-speakership-unappealing/407563/\"><b>How GOP Radicals Made the Speakership Unappealing</b></a><br><font size=\"-1\"><b><font color=\"#6f6f6f\">The Atlantic</font></b></font><br><font size=\"-1\">The speaker of the House is the first constitutional officer mentioned in the American Constitution, well before the president. In Article 1, Section 5, the Constitution says \\u201cThe House of Representatives shall chuse their Speaker.\\u201d The Speaker is thus <b>...</b></font><br><font size=\"-1\"><a href=\"http://news.google.com/news/url?sa=t&amp;fd=R&amp;ct2=us&amp;usg=AFQjCNGVV6_ly-L8jpwmJ_LmvgAL4lIeOw&amp;clid=c3a7d30bb8a4878e06b80cf16b898331&amp;cid=52778958220006&amp;ei=1OUHVpjcMsOl4AKRp7iYAQ&amp;url=http://www.wsj.com/articles/kevin-mccarthys-good-timing-1443354513\">Kevin McCarthy&#39;s Good Timing</a><font size=\"-1\" color=\"#6f6f6f\"><nobr>Wall Street Journal</nobr></font></font><br><font size=\"-1\"><a href=\"http://news.google.com/news/url?sa=t&amp;fd=R&amp;ct2=us&amp;usg=AFQjCNG36Sg2HrtrJqaO6zlPyEfFN7cFXQ&amp;clid=c3a7d30bb8a4878e06b80cf16b898331&amp;cid=52778958220006&amp;ei=1OUHVpjcMsOl4AKRp7iYAQ&amp;url=http://www.washingtonpost.com/politics/congressional-agenda-thrown-into-disorder-with-boehners-departure/2015/09/26/51514bbc-645f-11e5-8e9e-dce8a2a2a679_story.html\">Congressional agenda thrown into disorder with Boehner&#39;s departure</a><font size=\"-1\" color=\"#6f6f6f\"><nobr>Washington Post</nobr></font></font><br><font size=\"-1\"><a href=\"http://news.google.com/news/url?sa=t&amp;fd=R&amp;ct2=us&amp;usg=AFQjCNF98Ly3WF4qKS4kGei_h6bdjQWJrQ&amp;clid=c3a7d30bb8a4878e06b80cf16b898331&amp;cid=52778958220006&amp;ei=1OUHVpjcMsOl4AKRp7iYAQ&amp;url=http://thehill.com/blogs/blog-briefing-room/255076-gingrich-mccarthy-will-be-the-next-speaker\">Gingrich: &#39;McCarthy will be the next Speaker&#39;</a><font size=\"-1\" color=\"#6f6f6f\"><nobr>The Hill (blog)</nobr></font></font><br><font size=\"-1\" class=\"p\"><a href=\"http://news.google.com/news/url?sa=t&amp;fd=R&amp;ct2=us&amp;usg=AFQjCNHYZeeACWAvYtTFfJWEq-NQ1AkJ0Q&amp;clid=c3a7d30bb8a4878e06b80cf16b898331&amp;cid=52778958220006&amp;ei=1OUHVpjcMsOl4AKRp7iYAQ&amp;url=http://abcnews.go.com/Politics/wireStory/gop-religious-conservatives-channeling-anger-victory-34077141\"><nobr>ABC News</nobr></a>&nbsp;-<a href=\"http://news.google.com/news/url?sa=t&amp;fd=R&amp;ct2=us&amp;usg=AFQjCNHVaGeHZw3d2V6GCHCS5kEGNZnObw&amp;clid=c3a7d30bb8a4878e06b80cf16b898331&amp;cid=52778958220006&amp;ei=1OUHVpjcMsOl4AKRp7iYAQ&amp;url=http://www.dispatch.com/content/stories/local/2015/09/27/ohios-clout-soon-to-diminish.html\"><nobr>Columbus Dispatch</nobr></a></font><br><font class=\"p\" size=\"-1\"><a class=\"p\" href=\"http://news.google.com/news/more?ncl=dLkzZGHX4mBQaOMs2GOmWH85Nq4XM&amp;authuser=0&amp;ned=us&amp;topic=h\"><nobr><b>all 5,750 news articles&nbsp;&raquo;</b></nobr></a></font></div></font></td></tr></table>')\n",
      "('Link: ', u'http://news.google.com/news/url?sa=t&fd=R&ct2=us&usg=AFQjCNGLm0nt6PGRokiP1o5a_f2Qf5xYtQ&clid=c3a7d30bb8a4878e06b80cf16b898331&cid=52778958220006&ei=1OUHVpjcMsOl4AKRp7iYAQ&url=http://www.theatlantic.com/politics/archive/2015/09/how-gop-radicals-made-the-speakership-unappealing/407563/')\n",
      "('Published: ', u'2015-09-27T12:01:29Z')\n",
      "('Id: ', u'tag:news.google.com,2005:cluster=52778958220006')\n",
      "None\n",
      "\n",
      "Yahoo: \n",
      "('Title: ', u'Religious liberty: Ted Cruz\\u2019s conservative \\u2018rocket fuel\\u2019')\n",
      "('Content: ', u'<p><a href=\"http://www.yahoo.com/politics/religious-liberty-ted-cruz-s-conservative-129941620471.html\"><img src=\"http://l.yimg.com/bt/api/res/1.2/i89oaX.7cb75CoVleuAyfg--/YXBwaWQ9eW5ld3NfbGVnbztmaT1maWxsO2g9ODY7cT03NTt3PTEzMA--/http://media.zenfs.com/en_us/News/ap_webfeeds/261a2cb04a85102b830f6a7067005d50.jpg\" width=\"130\" height=\"86\" alt=\"\" align=\"left\" title=\"\" border=\"0\" /></a></p><br clear=\"all\"/>')\n",
      "('Link: ', u'http://www.yahoo.com/politics/religious-liberty-ted-cruz-s-conservative-129941620471.html')\n",
      "('Published: ', u'Wed, 31 Dec 1969 19:00:00 -0500')\n",
      "('Id: ', u'politics/religious-liberty-ted-cruz-s-conservative-129941620471')\n",
      "('Title: ', u'Katie Couric: When the pope goes to prison')\n",
      "('Content: ', u'<p><a href=\"http://popevisit2015.yahoo.com/post/129598016129/katie-couric-when-the-pope-goes-to-prison\"><img src=\"http://l3.yimg.com/bt/api/res/1.2/JjQGhenNuNV_PQEpUis28w--/YXBwaWQ9eW5ld3NfbGVnbztmaT1maWxsO2g9ODY7cT03NTt3PTEzMA--/http://media.zenfs.com/en_us/News/ap_webfeeds/88f352457653342b830f6a7067008f29.jpg\" width=\"130\" height=\"86\" alt=\"Pope Francis waves to the crowd during a parade Saturday, Sept. 26, 2015, in Philadelphia. The pontiff attended a music-and-prayer festival there Saturday night to close out the World Meeting of Families, a Vatican-sponsored conference of more than 18,000 people from around the world. (AP Photo/Matt Rourke, Pool)\" align=\"left\" title=\"Pope Francis waves to the crowd during a parade Saturday, Sept. 26, 2015, in Philadelphia. The pontiff attended a music-and-prayer festival there Saturday night to close out the World Meeting of Families, a Vatican-sponsored conference of more than 18,000 people from around the world. (AP Photo/Matt Rourke, Pool)\" border=\"0\" /></a>For inmates inside Philadelphia\\u2019s largest super-max prison, Commissioner Lou Giorla concedes, \\u201cLife is not easy.\\u201d</p><br clear=\"all\"/>')\n",
      "('Link: ', u'http://popevisit2015.yahoo.com/post/129598016129/katie-couric-when-the-pope-goes-to-prison')\n",
      "('Published: ', u'Sun, 27 Sep 2015 08:22:18 -0400')\n",
      "('Id: ', u'post/129598016129/katie-couric-when-the-pope-goes-to-prison')\n",
      "('Title: ', u'France fires first airstrikes on extremists in Syria')\n",
      "('Content: ', u'<p><a href=\"http://news.yahoo.com/france-fires-first-airstrikes-extremists-syria-083029497.html\"><img src=\"http://l2.yimg.com/bt/api/res/1.2/Nk7XGJDZJu1z3LStJl_i4g--/YXBwaWQ9eW5ld3NfbGVnbztmaT1maWxsO2g9ODY7cT03NTt3PTEzMA--/http://media.zenfs.com/en_us/News/ap_webfeeds/0f1c4d4075a2312b830f6a706700d702.jpg\" width=\"130\" height=\"86\" alt=\"FILE - In this Feb. 16, 2015 file photo, France\\u2019s President Francois Hollande visits a public center for insertion of the Defense (EPIDE) in Montry, France. France has fired its first airstrikes in Syria as it expands military operations against Islamic State extremists, President Francois Hollande&#039;s office announced Sunday, Sept. 27, 2015. The office said that &quot;France has hit Syria&quot; based on information from French reconnaissance flights sent earlier this month. (AP Photo/Jacques Brinon/Pool, File)\" align=\"left\" title=\"FILE - In this Feb. 16, 2015 file photo, France\\u2019s President Francois Hollande visits a public center for insertion of the Defense (EPIDE) in Montry, France. France has fired its first airstrikes in Syria as it expands military operations against Islamic State extremists, President Francois Hollande&#039;s office announced Sunday, Sept. 27, 2015. The office said that &quot;France has hit Syria&quot; based on information from French reconnaissance flights sent earlier this month. (AP Photo/Jacques Brinon/Pool, File)\" border=\"0\" /></a>PARIS (AP) \\u2014 France has carried out its first airstrikes in Syria, expanding its military operations against Islamic State extremists, President Francois Hollande&#039;s office announced Sunday. The strikes make good on a promise to go after the group that the president has said is planning attacks against several countries, including France.</p><br clear=\"all\"/>')\n",
      "('Link: ', u'http://news.yahoo.com/france-fires-first-airstrikes-extremists-syria-083029497.html')\n",
      "('Published: ', u'Sun, 27 Sep 2015 08:36:16 -0400')\n",
      "('Id: ', u'france-fires-first-airstrikes-extremists-syria-083029497')\n",
      "None\n"
     ]
    }
   ],
   "source": [
    "if __name__ == '__main__':\n",
    "    google = GoogleParser()\n",
    "    yahoo = YahooParser()\n",
    "    \n",
    "    print('Google: ')\n",
    "    print(google.print_top_news())\n",
    "    print('')\n",
    "    print('Yahoo: ')\n",
    "    print(yahoo.print_top_news())"
   ]
  },
  {
   "cell_type": "markdown",
   "metadata": {},
   "source": [
    "## 요약\n",
    "\n",
    "- 템플릿 메소드는 알고리즘의 기초를 정의하고 그 뒤에서 구조의 변화없이 몇몇 알고리즘 단게를 재정의하는 디자인 패턴\n",
    "- 템플릿 메소드 패턴은 알고리즘을 쉽게 확장 가능하게 만들지만, 재정의는 허용된 경우에만 가능함\n",
    "- 이 디자인 패턴은, 알고리즘의 동작은 일반적이지만 콘텍스트가 달라짐에 따라 구현부가 달라지는 경우에 잘 어울림"
   ]
  }
 ],
 "metadata": {
  "kernelspec": {
   "display_name": "Python 2",
   "language": "python",
   "name": "python2"
  },
  "language_info": {
   "codemirror_mode": {
    "name": "ipython",
    "version": 2
   },
   "file_extension": ".py",
   "mimetype": "text/x-python",
   "name": "python",
   "nbconvert_exporter": "python",
   "pygments_lexer": "ipython2",
   "version": "2.7.10"
  }
 },
 "nbformat": 4,
 "nbformat_minor": 0
}
