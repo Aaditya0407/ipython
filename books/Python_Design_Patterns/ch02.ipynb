{
 "cells": [
  {
   "cell_type": "markdown",
   "metadata": {},
   "source": [
    "# ch02 싱글턴 패턴을 사용해 유일 객체 생성하기"
   ]
  },
  {
   "cell_type": "markdown",
   "metadata": {},
   "source": [
    "- 프로그램이 실행되는 동안 인스턴스(클래스의 인스턴스, 리스트, 딕셔너리 등)를 하나만 만들어야 할 때가 있음\n",
    "- 대개 둘 이상의 인스턴스가 생기면 로직상 에러가 발생하는 등의 이유로 하나만 원하는 것\n",
    "- 인스턴스를 하나만 생성하도록 강제하는 디자인 패턴을 singleton 이라고 부름\n",
    "- 모듈 레벨, 클래식, borg 싱글턴에 대해 배움 \n",
    "- 또한 이들이 어떻게 동작하는지, 언제 사용하는지 등과 공유 자원에서 하나의 싱글턴을 사용하는 멀티 스레드 웹 크롤러를 만들어 볼 예정"
   ]
  },
  {
   "cell_type": "markdown",
   "metadata": {},
   "source": [
    "### 싱글턴 적합 상황\n",
    "\n",
    "- 공유 자원에 대한 동시 접근을 제어할 필요가 있을 때\n",
    "- 여러 시스템에서 하나의 자원에 접근하는 지점이 필요할 때\n",
    "- 유일 객체가 필요할 때\n",
    "\n",
    "### 싱글턴 사용 예\n",
    "\n",
    "- 로깅 클래스와 서브클래스(로그에 메시지를 보내기 위한 로깅 클래스에 대한 글로벌 접근 지점)\n",
    "- 프린트 스플러(spooler): 동일 자원에 대한 요청 간섭을 피하기 위해서 하나의 스풀러만 사용해야 함\n",
    "- 데이터 베이스 연결 관리\n",
    "- 파일 관리자\n",
    "- 외부 설정 파일에서 정보를 얻거나 저장할 때\n",
    "- 전역 상태(사용자 언어, 시간, 시간대, 애플리케이션 경로 등)를 담고 있는 읽기 전용 싱글턴"
   ]
  },
  {
   "cell_type": "markdown",
   "metadata": {},
   "source": [
    "## 모듈 레벨 싱글턴\n",
    "\n",
    "1. 모듈이 이미 임포트되었는지 확인한다\n",
    "2. 그렇다면 그 모듈을 반환한다\n",
    "3. 임포트되지 않았다면 초기화 한 후 반환한다.\n",
    "4. 모듈 초기화는, 모든 모듈 레벨 할당을 포함한 코드 실행을 의미함. 모듈을 처음으로 임포트하면 모든 초기화가 수행됨. 하지만 모듈을 두번째로 임포트하려고 하면 파이썬이 이미 초기화된 모듈을 반환함"
   ]
  },
  {
   "cell_type": "code",
   "execution_count": 2,
   "metadata": {
    "collapsed": false
   },
   "outputs": [
    {
     "name": "stdout",
     "output_type": "stream",
     "text": [
      "Writing src/singletone.py\n"
     ]
    }
   ],
   "source": [
    "%%writefile src/singletona.py\n",
    "\n",
    "only_one_var = \"I'm only one var\""
   ]
  },
  {
   "cell_type": "code",
   "execution_count": 4,
   "metadata": {
    "collapsed": false
   },
   "outputs": [
    {
     "name": "stdout",
     "output_type": "stream",
     "text": [
      "Writing src/module1.py\n"
     ]
    }
   ],
   "source": [
    "%%writefile src/module1.py\n",
    "\n",
    "import singleton\n",
    "print singleton.only_one_var\n",
    "singleton.only_one_var += ' after modification'\n",
    "import module2"
   ]
  },
  {
   "cell_type": "code",
   "execution_count": 5,
   "metadata": {
    "collapsed": false
   },
   "outputs": [
    {
     "name": "stdout",
     "output_type": "stream",
     "text": [
      "Writing src/module2.py\n"
     ]
    }
   ],
   "source": [
    "%%writefile src/module2.py\n",
    "\n",
    "import singleton\n",
    "print singleton.only_one_var"
   ]
  },
  {
   "cell_type": "code",
   "execution_count": 25,
   "metadata": {
    "collapsed": false
   },
   "outputs": [
    {
     "name": "stdout",
     "output_type": "stream",
     "text": [
      "I'm only one var\r\n",
      "I'm only one var after modification\r\n"
     ]
    }
   ],
   "source": [
    "!python src/module1.py"
   ]
  },
  {
   "cell_type": "markdown",
   "metadata": {},
   "source": [
    "- module1을 실행시켜 보면 singleton.py 모듈의 전역 변수를 임포트하고 이 값을 module1.py에서 변경하면, module2.py에서도 변동된 변수를 받음"
   ]
  },
  {
   "cell_type": "markdown",
   "metadata": {},
   "source": [
    "### 문제점\n",
    "\n",
    "- 에러가 발생할 확률이 높음. 예를 들어, 전역 명령어를 잊는다면 함수에 묶인 지역변수가 생성되고 모듈의 변수가 변경디지 않는 에러가 생김\n",
    "- 깔끔하지 못하다. 특히 싱글톤으로 유지해야 하는 객체가 많은 경우 지저분해짐\n",
    "- 모듈 네임스페이스와 함께 불필요한 변수가 생김\n",
    "- 게으른 할당과 초기화를 할 수 없음. 모든 전역 변수는 모듈을 임포트하는 과정에서 불러옴\n",
    "- 상속 기능을 사용할 수 없어 코드를 재사용하는 것이 불가능 함\n",
    "- 특별 메소드와 객체 지향 프로그래밍의 장점을 전혀 살릴 수 없음"
   ]
  },
  {
   "cell_type": "markdown",
   "metadata": {},
   "source": [
    "## 클래식 싱글톤\n",
    "\n",
    "- 파이썬의 클래식 싱글톤에서 인스턴스가 이미 생성되었는지 확인함\n",
    "- 생성되었다면 반환하고, 그렇지 않은 경우 새로운 인스턴스를 만들고 클래스 속성에 할당한 후 반환함"
   ]
  },
  {
   "cell_type": "code",
   "execution_count": 27,
   "metadata": {
    "collapsed": true
   },
   "outputs": [],
   "source": [
    "class Singleton(object):\n",
    "    def __new__(cls):\n",
    "        if not hasattr(cls, 'instance'):\n",
    "            cls.instance = super(Singleton, cls).__new__(cls)\n",
    "        return cls.instance"
   ]
  },
  {
   "cell_type": "code",
   "execution_count": 28,
   "metadata": {
    "collapsed": true
   },
   "outputs": [],
   "source": [
    "singleton = Singleton()"
   ]
  },
  {
   "cell_type": "code",
   "execution_count": 29,
   "metadata": {
    "collapsed": true
   },
   "outputs": [],
   "source": [
    "another_singleton = Singleton()"
   ]
  },
  {
   "cell_type": "code",
   "execution_count": 30,
   "metadata": {
    "collapsed": false,
    "scrolled": true
   },
   "outputs": [
    {
     "data": {
      "text/plain": [
       "True"
      ]
     },
     "execution_count": 30,
     "metadata": {},
     "output_type": "execute_result"
    }
   ],
   "source": [
    "singleton is another_singleton"
   ]
  },
  {
   "cell_type": "code",
   "execution_count": 31,
   "metadata": {
    "collapsed": true
   },
   "outputs": [],
   "source": [
    "singleton.only_one_var = \"I'm only one var\""
   ]
  },
  {
   "cell_type": "code",
   "execution_count": 32,
   "metadata": {
    "collapsed": false
   },
   "outputs": [
    {
     "data": {
      "text/plain": [
       "\"I'm only one var\""
      ]
     },
     "execution_count": 32,
     "metadata": {},
     "output_type": "execute_result"
    }
   ],
   "source": [
    "another_singleton.only_one_var"
   ]
  },
  {
   "cell_type": "code",
   "execution_count": 33,
   "metadata": {
    "collapsed": true
   },
   "outputs": [],
   "source": [
    "class Child(Singleton):\n",
    "    pass"
   ]
  },
  {
   "cell_type": "code",
   "execution_count": 34,
   "metadata": {
    "collapsed": true
   },
   "outputs": [],
   "source": [
    "child = Child()"
   ]
  },
  {
   "cell_type": "code",
   "execution_count": 35,
   "metadata": {
    "collapsed": false
   },
   "outputs": [
    {
     "data": {
      "text/plain": [
       "True"
      ]
     },
     "execution_count": 35,
     "metadata": {},
     "output_type": "execute_result"
    }
   ],
   "source": [
    "# 똑같다고 나오는데..?? 뭐가 문제?\n",
    "child is singleton"
   ]
  },
  {
   "cell_type": "code",
   "execution_count": 36,
   "metadata": {
    "collapsed": false
   },
   "outputs": [
    {
     "data": {
      "text/plain": [
       "\"I'm only one var\""
      ]
     },
     "execution_count": 36,
     "metadata": {},
     "output_type": "execute_result"
    }
   ],
   "source": [
    "child.only_one_var"
   ]
  },
  {
   "cell_type": "code",
   "execution_count": 37,
   "metadata": {
    "collapsed": false
   },
   "outputs": [
    {
     "name": "stdout",
     "output_type": "stream",
     "text": [
      "Writing src/singleton_test.py\n"
     ]
    }
   ],
   "source": [
    "%%writefile src/singleton_test.py\n",
    "\n",
    "class Singleton(object):\n",
    "    def __new__(cls):\n",
    "        if not hasattr(cls, 'instance'):\n",
    "            cls.instance = super(Singleton, cls).__new__(cls)\n",
    "        return cls.instance\n",
    "    \n",
    "singleton = Singleton()\n",
    "another_singleton = Singleton()\n",
    "print('singleton is another_singleton', singleton is another_singleton)\n",
    "\n",
    "singleton.only_one_var = \"I'm only one var\"\n",
    "print(another_singleton.only_one_var)\n",
    "\n",
    "class Child(Singleton):\n",
    "    pass\n",
    "\n",
    "child = Child()\n",
    "print('child is singleton', child is singleton)\n",
    "print('child.only_one_var', child.only_one_var)"
   ]
  },
  {
   "cell_type": "code",
   "execution_count": 38,
   "metadata": {
    "collapsed": false
   },
   "outputs": [
    {
     "name": "stdout",
     "output_type": "stream",
     "text": [
      "('singleton is another_singleton', True)\r\n",
      "I'm only one var\r\n",
      "('child is singleton', True)\r\n",
      "('child.only_one_var', \"I'm only one var\")\r\n"
     ]
    }
   ],
   "source": [
    "!python src/singleton_test.py"
   ]
  },
  {
   "cell_type": "markdown",
   "metadata": {},
   "source": [
    "## 보그 싱글턴\n",
    "\n",
    "- borg: 단일 상태(monostate)\n",
    "- 보그 패턴에서는, 모든 인스턴스는 서로 다르지만 동일한 상태를 공유함\n",
    "- 공유 상태는 \\_shared\\_state 속성으로 관리함\n",
    "- Borg의 새로운 인스턴스는 클래스 메소드 \\_\\_new\\_\\_에 정의된 대로 이 상태를 갖음"
   ]
  },
  {
   "cell_type": "code",
   "execution_count": 80,
   "metadata": {
    "collapsed": true
   },
   "outputs": [],
   "source": [
    "class Borg(object):\n",
    "    _shared_state = {}\n",
    "    \n",
    "    def __new__(cls, *args, **kwargs):\n",
    "        obj = super(Borg, cls).__new__(cls, *args, **kwargs)\n",
    "        obj.__dict__ = cls._shared_state\n",
    "        return obj"
   ]
  },
  {
   "cell_type": "code",
   "execution_count": 81,
   "metadata": {
    "collapsed": true
   },
   "outputs": [],
   "source": [
    "del Child"
   ]
  },
  {
   "cell_type": "code",
   "execution_count": 82,
   "metadata": {
    "collapsed": true
   },
   "outputs": [],
   "source": [
    "class Child(Borg):\n",
    "    pass"
   ]
  },
  {
   "cell_type": "code",
   "execution_count": 83,
   "metadata": {
    "collapsed": false
   },
   "outputs": [],
   "source": [
    "borg = Borg()"
   ]
  },
  {
   "cell_type": "code",
   "execution_count": 84,
   "metadata": {
    "collapsed": true
   },
   "outputs": [],
   "source": [
    "another_borg = Borg()"
   ]
  },
  {
   "cell_type": "code",
   "execution_count": 85,
   "metadata": {
    "collapsed": false
   },
   "outputs": [
    {
     "data": {
      "text/plain": [
       "False"
      ]
     },
     "execution_count": 85,
     "metadata": {},
     "output_type": "execute_result"
    }
   ],
   "source": [
    "borg is another_borg"
   ]
  },
  {
   "cell_type": "code",
   "execution_count": 86,
   "metadata": {
    "collapsed": true
   },
   "outputs": [],
   "source": [
    "child = Child()"
   ]
  },
  {
   "cell_type": "code",
   "execution_count": 87,
   "metadata": {
    "collapsed": true
   },
   "outputs": [],
   "source": [
    "borg.only_one_var = \"I'm the only one var\""
   ]
  },
  {
   "cell_type": "code",
   "execution_count": 88,
   "metadata": {
    "collapsed": false
   },
   "outputs": [
    {
     "data": {
      "text/plain": [
       "\"I'm the only one var\""
      ]
     },
     "execution_count": 88,
     "metadata": {},
     "output_type": "execute_result"
    }
   ],
   "source": [
    "child.only_one_var"
   ]
  },
  {
   "cell_type": "markdown",
   "metadata": {},
   "source": [
    "- is 명령어를 사용해서 객체가 동일한지 비교할 수 없다는 점을 제외한다면 모든 자녀 객체는 부모 객체의 상태를 공유함\n",
    "\n",
    "\n",
    "- Borg 클래스의 하위 클래스지만 다른 상태를 갖게 하고 싶다면 다음과 같이 shared\\_state를 재설정한다."
   ]
  },
  {
   "cell_type": "code",
   "execution_count": 89,
   "metadata": {
    "collapsed": true
   },
   "outputs": [],
   "source": [
    "class AnotherChild(Borg):\n",
    "    # 오타 주의하자...\n",
    "    _shared_state = {}"
   ]
  },
  {
   "cell_type": "code",
   "execution_count": 90,
   "metadata": {
    "collapsed": true
   },
   "outputs": [],
   "source": [
    "another_child = AnotherChild()"
   ]
  },
  {
   "cell_type": "code",
   "execution_count": 91,
   "metadata": {
    "collapsed": false
   },
   "outputs": [
    {
     "ename": "AttributeError",
     "evalue": "'AnotherChild' object has no attribute 'only_one_var'",
     "output_type": "error",
     "traceback": [
      "\u001b[0;31m---------------------------------------------------------------------------\u001b[0m",
      "\u001b[0;31mAttributeError\u001b[0m                            Traceback (most recent call last)",
      "\u001b[0;32m<ipython-input-91-6141f347f65f>\u001b[0m in \u001b[0;36m<module>\u001b[0;34m()\u001b[0m\n\u001b[0;32m----> 1\u001b[0;31m \u001b[0manother_child\u001b[0m\u001b[0;34m.\u001b[0m\u001b[0monly_one_var\u001b[0m\u001b[0;34m\u001b[0m\u001b[0m\n\u001b[0m",
      "\u001b[0;31mAttributeError\u001b[0m: 'AnotherChild' object has no attribute 'only_one_var'"
     ]
    }
   ],
   "source": [
    "another_child.only_one_var"
   ]
  },
  {
   "cell_type": "markdown",
   "metadata": {},
   "source": [
    "### 어떤 싱글톤을 사용할지는 독자의 몫\n",
    "\n",
    "- 싱글톤을 상속할 일이 없다면 클래식 싱글톤을 사용할 수 있지만\n",
    "- 그렇지 않다면 보그 싱글톤을 사용하는 것이 알맞다."
   ]
  },
  {
   "cell_type": "markdown",
   "metadata": {},
   "source": [
    "## 파이썬 구현\n",
    "\n",
    "- 실제 예제로, 지정한 웹사이트를 스캔하는 간단한 crawler를 만들어 보자\n",
    "- 이 크롤러는 동일한 웹사이트로의 링크를 따라가서 발견한 모든 이미지를 다운로드 함\n",
    "- 첫번째 함수는 방문할 페이지 집합을 만들기 위해 웹사이트를 스캔하는 용도이고, 두번째는 이미지를 찾고 내려받기 위한 용도\n",
    "- 동작을 빠르게 하기 위해서 이미지 내려받기를 쓰레드 2개로 수행함\n",
    "- 쓰레드 2개는 상호간섭이 없어야 하므로 1 스레드에서 페이지를 이미 스캔했다면 다른 곳에서는 이를 건너 뛰어서 동일한 이미지가 중복되지 않게 한다.\n",
    "- 따라서 내려받은 이미지와 스캔한 웹페이지는 애플리케이션에서 공유하는 자원이 되니 싱글톤 인스턴스에서 관리해야 함"
   ]
  },
  {
   "cell_type": "code",
   "execution_count": 152,
   "metadata": {
    "collapsed": false
   },
   "outputs": [
    {
     "name": "stdout",
     "output_type": "stream",
     "text": [
      "('Added', 'http://python.org', 'to queue')\n",
      "('Added', u'http://python.org/', 'to queue')\n",
      "('Added', u'http://python.org/psf-landing/', 'to queue')\n",
      "('Added', u'http://python.org/jobs/', 'to queue')\n",
      "('Added', u'http://python.org/community/', 'to queue')\n",
      "('Added', u'http://python.org/', 'to queue')\n",
      "('Added', u'http://python.org/community/irc/', 'to queue')\n",
      "('Added', u'http://python.org/accounts/login/', 'to queue')\n",
      "('Added', u'http://python.org/accounts/signup/', 'to queue')\n",
      "('Added', u'http://python.org/accounts/login/', 'to queue')\n",
      "('Added', u'http://python.org/about/', 'to queue')\n",
      "('Added', u'http://python.org/about/apps/', 'to queue')\n",
      "('Starting thread ', 'Thread-1')\n",
      "Thread-1 Starting downloading images from http://python.org/community/irc/\n",
      "('Starting thread ', 'Thread-2')\n",
      "Thread-2 Starting downloading images from http://python.org/accounts/signup/\n",
      "('Downloading', u'http://python.org/static/img/python-logo.png')\n",
      "('Thread-2', 'finished downloading images from', u'http://python.org/accounts/signup/')\n",
      "Thread-2 Starting downloading images from http://python.org/accounts/login/\n",
      "('Thread-1', 'finished downloading images from', u'http://python.org/community/irc/')\n",
      "Thread-1 Starting downloading images from http://python.org/jobs/\n",
      "('Thread-2', 'finished downloading images from', u'http://python.org/accounts/login/')\n",
      "Thread-2 Starting downloading images from http://python.org/about/apps/\n",
      "('Thread-2', 'finished downloading images from', u'http://python.org/about/apps/')\n",
      "Thread-2 Starting downloading images from http://python.org/community/\n",
      "('Thread-1', 'finished downloading images from', u'http://python.org/jobs/')\n",
      "Thread-1 Starting downloading images from http://python.org\n",
      "('Thread-2', 'finished downloading images from', u'http://python.org/community/')\n",
      "Thread-2 Starting downloading images from http://python.org/psf-landing/\n",
      "('Thread-1', 'finished downloading images from', 'http://python.org')\n",
      "Thread-1 Starting downloading images from http://python.org/\n",
      "('Downloading', u'http://python.org/static/img/psf-logo.png')\n",
      "('Thread-1', 'finished downloading images from', u'http://python.org/')\n",
      "Thread-1 Starting downloading images from http://python.org/about/\n",
      "('Thread-2', 'finished downloading images from', u'http://python.org/psf-landing/')\n",
      "('Finished thread ', 'Thread-2')\n",
      "('Thread-1', 'finished downloading images from', u'http://python.org/about/')\n",
      "('Finished thread ', 'Thread-1')\n"
     ]
    }
   ],
   "source": [
    "# coding: utf-8\n",
    "import httplib2\n",
    "import os\n",
    "import re\n",
    "import threading\n",
    "import urllib\n",
    "from urlparse import urlparse, urljoin\n",
    "from BeautifulSoup import BeautifulSoup\n",
    "\n",
    "\n",
    "class Singleton(object):\n",
    "    def __new__(cls):\n",
    "        if not hasattr(cls, 'instance'):\n",
    "            cls.instance = super(Singleton, cls).__new__(cls)\n",
    "        return cls.instance\n",
    "\n",
    "\n",
    "class ImageDownloaderThread(threading.Thread):\n",
    "    \"\"\" 병렬적으로 이미지를 다운로드 받는 스레드\"\"\"\n",
    "    def __init__(self, thread_id, name, counter):\n",
    "        threading.Thread.__init__(self)\n",
    "        self.name = name\n",
    "\n",
    "    def run(self):\n",
    "        print('Starting thread ', self.name)\n",
    "        download_images(self.name)\n",
    "        print('Finished thread ', self.name)\n",
    "\n",
    "\n",
    "def traverse_site(max_links=10):\n",
    "    link_parser_singleton = Singleton()\n",
    "\n",
    "    # 큐에 파싱할 페이지가 있는 동안\n",
    "    while link_parser_singleton.queue_to_parse:\n",
    "        # 이미지를 내렵다을 링크를 충분히 모은 경우, 반환\n",
    "        if len(link_parser_singleton.to_visit) == max_links:\n",
    "            return\n",
    "\n",
    "        url = link_parser_singleton.queue_to_parse.pop()\n",
    "\n",
    "        http = httplib2.Http()\n",
    "        try:\n",
    "            status, response = http.request(url)\n",
    "        except Exception:\n",
    "            continue\n",
    "\n",
    "        # 웹페이지가 아닌 경우 건너뛴다.\n",
    "        if not 'text/html' in status.get('content-type'):\n",
    "            continue\n",
    "\n",
    "        # 이미지를 내려받기 위해 링크를 큐에 추가한다.\n",
    "        link_parser_singleton.to_visit.add(url)\n",
    "        print('Added', url, 'to queue')\n",
    "\n",
    "        bs = BeautifulSoup(response)\n",
    "\n",
    "        for link in BeautifulSoup.findAll(bs, 'a'):\n",
    "            link_url = link.get('href')\n",
    "\n",
    "            # <img> 태그에 href 속성이 없을 수도 있음\n",
    "            if not link_url:\n",
    "                continue\n",
    "\n",
    "            parsed = urlparse(link_url)\n",
    "\n",
    "            # 링크가 외부 웹페이지로 연결된다면 건너뜀\n",
    "            if parsed.netloc and parsed.netloc != parsed_root.netloc:\n",
    "                continue\n",
    "\n",
    "            # 상대 경로를 사용한 링크를 전체 경로로 변환함\n",
    "            link_url = (parsed.scheme or parsed_root.scheme) + '://' + \\\n",
    "            (parsed.netloc or parsed_root.netloc) + parsed.path or ''\n",
    "\n",
    "            # 중복된 링크일 경우 건너뛴다.\n",
    "            if link_url in link_parser_singleton.to_visit:\n",
    "                continue\n",
    "\n",
    "            # 파싱을 위해 링크를 추가한다.\n",
    "            link_parser_singleton.queue_to_parse = [link_url] + \\\n",
    "            link_parser_singleton.queue_to_parse\n",
    "\n",
    "\n",
    "def download_images(thread_name):\n",
    "    singleton = Singleton()\n",
    "    while singleton.to_visit:\n",
    "\n",
    "        url = singleton.to_visit.pop()\n",
    "\n",
    "        http = httplib2.Http()\n",
    "        print thread_name, 'Starting downloading images from', url\n",
    "\n",
    "        try:\n",
    "            status, response = http.request(url)\n",
    "        except Exception:\n",
    "            continue\n",
    "\n",
    "        bs = BeautifulSoup(response)\n",
    "\n",
    "        # 모든 <img> 태그를 찾는다.\n",
    "        images = BeautifulSoup.findAll(bs, 'img')\n",
    "\n",
    "        for image in images:\n",
    "            # 절대 혹은 상대 경로 url로 된 이미지 소스를 얻는다.\n",
    "            src = image.get('src')\n",
    "            # 전체 url을 만든다. 만약 이미지 url이 상대 경로라면\n",
    "            # 웹페이지 도메인과 함께 확장된다.\n",
    "            # url이 절대 경로라면 그대로 진행한다.\n",
    "            src = urljoin(url, src)\n",
    "\n",
    "            # 베이스 이름을 얻는다. 예를 들어 로컬 이름 파일에 image.png를 의미한다.\n",
    "            basename = os.path.basename(src)\n",
    "\n",
    "            if src not in singleton.downloaded:\n",
    "                singleton.downloaded.add(src)\n",
    "                print('Downloading', src)\n",
    "                # 로컬 파일시스템에서 이미지를 다운로드 받는다.\n",
    "                urllib.urlretrieve(src, os.path.join('images', basename))\n",
    "\n",
    "        print(thread_name, 'finished downloading images from', url)\n",
    "\n",
    "\n",
    "if __name__ == '__main__':\n",
    "    root = 'http://python.org'\n",
    "    parsed_root = urlparse(root)\n",
    "    singleton = Singleton()\n",
    "    singleton.queue_to_parse = [root]\n",
    "    # A set of urls to download images from\n",
    "    singleton.to_visit = set()\n",
    "    # Downloaded images\n",
    "    singleton.downloaded = set()\n",
    "\n",
    "    traverse_site()\n",
    "\n",
    "    # Create images directory if not exists\n",
    "    if not os.path.exists('images'):\n",
    "        os.makedirs('images')\n",
    "\n",
    "    # Create new threads\n",
    "    thread1 = ImageDownloaderThread(1, 'Thread-1', 1)\n",
    "    thread2 = ImageDownloaderThread(2, 'Thread-2', 2)\n",
    "\n",
    "    # Start new Threads\n",
    "    thread1.start()\n",
    "    thread2.start()"
   ]
  },
  {
   "cell_type": "code",
   "execution_count": 151,
   "metadata": {
    "collapsed": false
   },
   "outputs": [
    {
     "name": "stdout",
     "output_type": "stream",
     "text": [
      "('Starting thread ', 'Thread-1')\r\n",
      " ('Starting thread ', ('Finished thread ', 'Thread-1''Thread-2')\r\n",
      "('Finished thread ', 'Thread-2')\r\n",
      ")\r\n"
     ]
    }
   ],
   "source": [
    "!python crawler.py"
   ]
  },
  {
   "cell_type": "code",
   "execution_count": 153,
   "metadata": {
    "collapsed": false
   },
   "outputs": [
    {
     "name": "stdout",
     "output_type": "stream",
     "text": [
      "total 56\r\n",
      "-rw-r--r--  1 re4lfl0w  staff  14117  9 26 23:44 psf-logo.png\r\n",
      "-rw-r--r--  1 re4lfl0w  staff  10102  9 26 23:44 python-logo.png\r\n"
     ]
    }
   ],
   "source": [
    "%ll images/"
   ]
  },
  {
   "cell_type": "code",
   "execution_count": 108,
   "metadata": {
    "collapsed": false
   },
   "outputs": [
    {
     "data": {
      "text/plain": [
       "'abc/d/1.html'"
      ]
     },
     "execution_count": 108,
     "metadata": {},
     "output_type": "execute_result"
    }
   ],
   "source": [
    "urljoin('abc/d/', '1.html')"
   ]
  },
  {
   "cell_type": "code",
   "execution_count": 107,
   "metadata": {
    "collapsed": false
   },
   "outputs": [
    {
     "data": {
      "text/plain": [
       "'abc/d/'"
      ]
     },
     "execution_count": 107,
     "metadata": {},
     "output_type": "execute_result"
    }
   ],
   "source": [
    "urljoin('naver.com', 'abc/d/', '1.html')"
   ]
  },
  {
   "cell_type": "code",
   "execution_count": 94,
   "metadata": {
    "collapsed": false
   },
   "outputs": [
    {
     "data": {
      "text/plain": [
       "'naver.com'"
      ]
     },
     "execution_count": 94,
     "metadata": {},
     "output_type": "execute_result"
    }
   ],
   "source": [
    "urljoin('http', 'naver.com', '1.html')"
   ]
  },
  {
   "cell_type": "code",
   "execution_count": 101,
   "metadata": {
    "collapsed": false
   },
   "outputs": [
    {
     "data": {
      "text/plain": [
       "'http:///naver.com'"
      ]
     },
     "execution_count": 101,
     "metadata": {},
     "output_type": "execute_result"
    }
   ],
   "source": [
    "urljoin('http://', 'naver.com', '1.html')"
   ]
  },
  {
   "cell_type": "code",
   "execution_count": 112,
   "metadata": {
    "collapsed": false
   },
   "outputs": [
    {
     "data": {
      "text/plain": [
       "'http://naver.com/abc/d/1.html'"
      ]
     },
     "execution_count": 112,
     "metadata": {},
     "output_type": "execute_result"
    }
   ],
   "source": [
    "'http://{}{}'.format('naver.com/', urljoin('abc/d/', '1.html'))"
   ]
  },
  {
   "cell_type": "code",
   "execution_count": 113,
   "metadata": {
    "collapsed": true
   },
   "outputs": [],
   "source": [
    "url = 'http://naver.com/good/path/1.html'"
   ]
  },
  {
   "cell_type": "code",
   "execution_count": 116,
   "metadata": {
    "collapsed": false
   },
   "outputs": [
    {
     "data": {
      "text/plain": [
       "ParseResult(scheme='http', netloc='naver.com', path='/good/path/1.html', params='', query='', fragment='')"
      ]
     },
     "execution_count": 116,
     "metadata": {},
     "output_type": "execute_result"
    }
   ],
   "source": [
    "url_parse = urlparse(url)\n",
    "url_parse"
   ]
  },
  {
   "cell_type": "code",
   "execution_count": 115,
   "metadata": {
    "collapsed": true
   },
   "outputs": [],
   "source": [
    "from urlparse import urlunparse"
   ]
  },
  {
   "cell_type": "code",
   "execution_count": 131,
   "metadata": {
    "collapsed": false
   },
   "outputs": [
    {
     "data": {
      "text/plain": [
       "'http://naver.com/good/path/1.html'"
      ]
     },
     "execution_count": 131,
     "metadata": {},
     "output_type": "execute_result"
    }
   ],
   "source": [
    "urlunparse((url_parse.scheme, url_parse.netloc, url_parse.path, \n",
    "           url_parse.params, url_parse.query, url_parse.fragment))"
   ]
  },
  {
   "cell_type": "code",
   "execution_count": 133,
   "metadata": {
    "collapsed": false
   },
   "outputs": [
    {
     "ename": "ValueError",
     "evalue": "need more than 5 values to unpack",
     "output_type": "error",
     "traceback": [
      "\u001b[0;31m---------------------------------------------------------------------------\u001b[0m",
      "\u001b[0;31mValueError\u001b[0m                                Traceback (most recent call last)",
      "\u001b[0;32m<ipython-input-133-ecf53990173e>\u001b[0m in \u001b[0;36m<module>\u001b[0;34m()\u001b[0m\n\u001b[1;32m      2\u001b[0m \u001b[0;31m# urlparse에서 나온 순서대로 넣어줘야 됨\u001b[0m\u001b[0;34m\u001b[0m\u001b[0;34m\u001b[0m\u001b[0m\n\u001b[1;32m      3\u001b[0m urlunparse((url_parse.scheme, url_parse.netloc, url_parse.path, \n\u001b[0;32m----> 4\u001b[0;31m            url_parse.params, url_parse.query))\n\u001b[0m",
      "\u001b[0;32m/System/Library/Frameworks/Python.framework/Versions/2.7/lib/python2.7/urlparse.pyc\u001b[0m in \u001b[0;36murlunparse\u001b[0;34m(data)\u001b[0m\n\u001b[1;32m    226\u001b[0m     \u001b[0moriginally\u001b[0m \u001b[0mhad\u001b[0m \u001b[0mredundant\u001b[0m \u001b[0mdelimiters\u001b[0m\u001b[0;34m,\u001b[0m \u001b[0me\u001b[0m\u001b[0;34m.\u001b[0m\u001b[0mg\u001b[0m\u001b[0;34m.\u001b[0m \u001b[0ma\u001b[0m\u001b[0;31m \u001b[0m\u001b[0;31m?\u001b[0m \u001b[0;32mwith\u001b[0m \u001b[0man\u001b[0m \u001b[0mempty\u001b[0m \u001b[0mquery\u001b[0m\u001b[0;34m\u001b[0m\u001b[0m\n\u001b[1;32m    227\u001b[0m     (the draft states that these are equivalent).\"\"\"\n\u001b[0;32m--> 228\u001b[0;31m     \u001b[0mscheme\u001b[0m\u001b[0;34m,\u001b[0m \u001b[0mnetloc\u001b[0m\u001b[0;34m,\u001b[0m \u001b[0murl\u001b[0m\u001b[0;34m,\u001b[0m \u001b[0mparams\u001b[0m\u001b[0;34m,\u001b[0m \u001b[0mquery\u001b[0m\u001b[0;34m,\u001b[0m \u001b[0mfragment\u001b[0m \u001b[0;34m=\u001b[0m \u001b[0mdata\u001b[0m\u001b[0;34m\u001b[0m\u001b[0m\n\u001b[0m\u001b[1;32m    229\u001b[0m     \u001b[0;32mif\u001b[0m \u001b[0mparams\u001b[0m\u001b[0;34m:\u001b[0m\u001b[0;34m\u001b[0m\u001b[0m\n\u001b[1;32m    230\u001b[0m         \u001b[0murl\u001b[0m \u001b[0;34m=\u001b[0m \u001b[0;34m\"%s;%s\"\u001b[0m \u001b[0;34m%\u001b[0m \u001b[0;34m(\u001b[0m\u001b[0murl\u001b[0m\u001b[0;34m,\u001b[0m \u001b[0mparams\u001b[0m\u001b[0;34m)\u001b[0m\u001b[0;34m\u001b[0m\u001b[0m\n",
      "\u001b[0;31mValueError\u001b[0m: need more than 5 values to unpack"
     ]
    }
   ],
   "source": [
    "# fragment까지 넣어주지 않으면 조합이 안되네.\n",
    "# urlparse에서 나온 순서대로 넣어줘야 됨\n",
    "urlunparse((url_parse.scheme, url_parse.netloc, url_parse.path, \n",
    "           url_parse.params, url_parse.query))"
   ]
  },
  {
   "cell_type": "markdown",
   "metadata": {},
   "source": [
    "- [python \\- Combining a url with urlunparse \\- Stack Overflow](https://stackoverflow.com/questions/3798269/combining-a-url-with-urlunparse/3798311#3798311)"
   ]
  },
  {
   "cell_type": "code",
   "execution_count": 129,
   "metadata": {
    "collapsed": true
   },
   "outputs": [],
   "source": [
    "def FixScheme(website):\n",
    "\n",
    "    from urlparse import urlparse, urlunparse\n",
    "\n",
    "    scheme, netloc, path, params, query, fragment = urlparse(website)\n",
    "    print(urlparse(website))\n",
    "    \n",
    "    # 팁\n",
    "    if not netloc:\n",
    "        netloc, path = path, ''\n",
    "\n",
    "    if scheme == '':\n",
    "        return urlunparse(('http', netloc, path, params, query, fragment))\n",
    "    else:\n",
    "        return website"
   ]
  },
  {
   "cell_type": "code",
   "execution_count": 130,
   "metadata": {
    "collapsed": false
   },
   "outputs": [
    {
     "name": "stdout",
     "output_type": "stream",
     "text": [
      "ParseResult(scheme='', netloc='', path='www.python.org', params='', query='', fragment='')\n"
     ]
    },
    {
     "data": {
      "text/plain": [
       "'http://www.python.org'"
      ]
     },
     "execution_count": 130,
     "metadata": {},
     "output_type": "execute_result"
    }
   ],
   "source": [
    "FixScheme('www.python.org')"
   ]
  },
  {
   "cell_type": "markdown",
   "metadata": {},
   "source": [
    "## 요약\n",
    "\n",
    "- 싱글톤은 클래스의 인스턴스를 하나만 만들 때 사용하는 디자인 패턴\n",
    "- 파이썬 모듈은 기본적으로 모두 싱글턴\n",
    "- 클래식 싱글턴은 인스턴스가 기존에 생성되어 있는지 확인하고, 그런 경우엔 기존 인스턴스를 반환함\n",
    "- Borg 싱글턴은 모든 객체에 대해 하나의 공유 상태를 사용함\n",
    "- 공유 자원과 이미지를 받아올 URL에 접근하기 위해서 Singleton 클래스를 사용했고, 두 스레드는 작업을 올바르게 병렬화했다."
   ]
  }
 ],
 "metadata": {
  "kernelspec": {
   "display_name": "Python 2",
   "language": "python",
   "name": "python2"
  },
  "language_info": {
   "codemirror_mode": {
    "name": "ipython",
    "version": 2
   },
   "file_extension": ".py",
   "mimetype": "text/x-python",
   "name": "python",
   "nbconvert_exporter": "python",
   "pygments_lexer": "ipython2",
   "version": "2.7.10"
  }
 },
 "nbformat": 4,
 "nbformat_minor": 0
}
