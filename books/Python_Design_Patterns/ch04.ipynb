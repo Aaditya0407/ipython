{
 "cells": [
  {
   "cell_type": "markdown",
   "metadata": {},
   "source": [
    "# ch04 퍼사드 디자인 패턴"
   ]
  },
  {
   "cell_type": "markdown",
   "metadata": {},
   "source": [
    "- 클래스의 서브 시스템과 객체가 너무 복잡해서 동작 방식을 이해하기 어려울 때가 있음\n",
    "- 심지어 이 시스템을 사용하는 방법 자체를 이해하지 못하거나, 단순화하는 일이 불가능해 보일 수도 있음"
   ]
  },
  {
   "cell_type": "markdown",
   "metadata": {},
   "source": [
    "### 다루는 내용\n",
    "\n",
    "- 퍼사드 디자인 패턴\n",
    "- 파이썬 소스 코드에서 구현한 퍼사드 디자인 패턴\n",
    "- 파이썬으로 일기 예보 서비스 구현하기\n",
    "- [Powerful Programming :: Facade Pattern (퍼사드 패턴)](http://warmz.tistory.com/764): 굉장히 단순화해서 보여주네.. 이건 내가 디자인 패턴을 모를때도 자주쓰던 패턴인데.."
   ]
  },
  {
   "cell_type": "markdown",
   "metadata": {},
   "source": [
    "## 퍼사드 디자인 패턴\n",
    "\n",
    "- 퍼사드: 복잡한 서브시스템에 사용하는 꽤 고수준 추상화 메소드를 모아놓은 객체\n",
    "- 그렇다고 해서 클라이언트가 원할 때 서브시스템 클래스로의 저수준 접근이 불가능하지는 않다는 점이 중요\n",
    "- 퍼사드는 서브시스템과의 동작을 단순하게 만들지만, 클라이언트에 사용을 강요하지는 않음\n",
    "- 실생활에서 우리는 항상 퍼사드 패턴을 마주한다. 예를 들어 컴퓨터를 켜면 운영 체제는 컴퓨터의 내부 동작을 모두 숨기고 기계에 대한 간단한 인터페이스만 사용자에게 제공함\n",
    "- 또 다른 예로 자동차\n",
    "- 사용자는 간단한 핸들, 가속 페달 등의 인터페이스를 가지고 있지만, 변속기와 엔진 등 자동차의 내부 동작이 정확히 어떻게 이루어지는지는 알 필요가 없음\n",
    "- 자동차 키를 넣고 돌렸을 때, 자동차의 전자부품이 서브 시스템에 여러 신호를 보내서 시동을 건다.\n",
    "- 이는 '시동'이라는 단순한 인터페이스가 사용자에게 제공되어 가능한 것\n",
    "- 퍼사드는 구조적 패턴으로 알려져 있는데, 엔티티 간의 관계를 정립하는 단순한 방법으로 사용하기 때문"
   ]
  },
  {
   "cell_type": "markdown",
   "metadata": {},
   "source": [
    "### 퍼사드 패턴이 해결하는 문제\n",
    "\n",
    "- 이 패턴을 사용하면 소프트웨어 라이브러리를 더 쉽게 사용하고 테스팅 할 수 있음\n",
    "- 퍼사드 패턴에는 일반적인 작업에 대해 편리한 메소드를 갖고 있기 때문\n",
    "- 퍼사드 코드와 관련이 있고 클라이언트 코드와 관련이 없는 외부 코드 사용의 의존성을 낮춤\n",
    "- 클라이언트 코드에 더 편리하고 깔끔한 API를 제공함"
   ]
  },
  {
   "cell_type": "markdown",
   "metadata": {},
   "source": [
    "### 퍼사드 디자인 패턴의 장점\n",
    "\n",
    "- 클라이언트와 서브시스템의 연결을 느슨하게 만듦\n",
    "- 서브시스템에 접근하는 인터페이스를 제공함(수정이 필요없음)\n",
    "- 더 단순한 인터페이스로 복잡한 서브시스템을 감싼다.\n",
    "- 서브시스템 구현의 유연성이 높아지고 클라이언트는 더욱 단순해짐"
   ]
  },
  {
   "cell_type": "markdown",
   "metadata": {},
   "source": [
    "## 파이썬 표준 라이브러리와 퍼사드\n",
    "\n",
    "- os.path 모듈의 isdir 함수가 퍼사드 역할. stat과 os.stat 모듈보다 좋은 기능을 제공\n",
    "- 내부적으로 isdir은 os.stat 함수를 호출하고 이 함수는 주어진 경로에 대해 stat() 시스템 호출을 한다. 이 시스템 호출은 다음 멤버를 갖는 구조체를 반환함\n",
    "  - st_mode: 보호 비트\n",
    "  - st_size: 파일 사이즈(바이트 단위)\n",
    "  - st_atime: 가장 최근에 접근한 시간"
   ]
  },
  {
   "cell_type": "code",
   "execution_count": 1,
   "metadata": {
    "collapsed": true
   },
   "outputs": [],
   "source": [
    "import os"
   ]
  },
  {
   "cell_type": "code",
   "execution_count": 2,
   "metadata": {
    "collapsed": true
   },
   "outputs": [],
   "source": [
    "os.path.isdir??"
   ]
  },
  {
   "cell_type": "markdown",
   "metadata": {},
   "source": [
    "```python\n",
    "def isdir(s):\n",
    "    \"\"\"Return true if the pathname refers to an existing directory.\"\"\"\n",
    "    try:\n",
    "        st = os.stat(s)\n",
    "    except os.error:\n",
    "        return False\n",
    "    return stat.S_ISDIR(st.st_mode)\n",
    "```"
   ]
  },
  {
   "cell_type": "markdown",
   "metadata": {},
   "source": [
    "### 디렉토리인지 파일인지 구분하는 비트?\n",
    "\n",
    "- 파일이 1비트를 더 쓰는듯..\n",
    "- 어쩃든 이건 내가 알아야 할 부분은 아닌것 같다.\n",
    "- 굳이 이렇게 파고들면 파이썬을 쓰는 의미가 없어짐. 그냥 갖다 쓰자"
   ]
  },
  {
   "cell_type": "code",
   "execution_count": 9,
   "metadata": {
    "collapsed": true
   },
   "outputs": [],
   "source": [
    "import stat"
   ]
  },
  {
   "cell_type": "code",
   "execution_count": 28,
   "metadata": {
    "collapsed": false
   },
   "outputs": [
    {
     "data": {
      "text/plain": [
       "posix.stat_result(st_mode=33152, st_ino=37439502, st_dev=16777220, st_nlink=1, st_uid=501, st_gid=20, st_size=14567, st_atime=1443265121, st_mtime=1443265121, st_ctime=1443265121)"
      ]
     },
     "execution_count": 28,
     "metadata": {},
     "output_type": "execute_result"
    }
   ],
   "source": [
    "st = os.stat('./ch01.ipynb')\n",
    "st"
   ]
  },
  {
   "cell_type": "code",
   "execution_count": 29,
   "metadata": {
    "collapsed": false
   },
   "outputs": [
    {
     "data": {
      "text/plain": [
       "33152"
      ]
     },
     "execution_count": 29,
     "metadata": {},
     "output_type": "execute_result"
    }
   ],
   "source": [
    "st.st_mode"
   ]
  },
  {
   "cell_type": "code",
   "execution_count": 30,
   "metadata": {
    "collapsed": false
   },
   "outputs": [
    {
     "data": {
      "text/plain": [
       "'0b1000000110000000'"
      ]
     },
     "execution_count": 30,
     "metadata": {},
     "output_type": "execute_result"
    }
   ],
   "source": [
    "bin(st.st_mode)"
   ]
  },
  {
   "cell_type": "code",
   "execution_count": 31,
   "metadata": {
    "collapsed": false
   },
   "outputs": [
    {
     "data": {
      "text/plain": [
       "False"
      ]
     },
     "execution_count": 31,
     "metadata": {},
     "output_type": "execute_result"
    }
   ],
   "source": [
    "stat.S_ISDIR(st.st_mode)"
   ]
  },
  {
   "cell_type": "code",
   "execution_count": 32,
   "metadata": {
    "collapsed": false
   },
   "outputs": [
    {
     "data": {
      "text/plain": [
       "posix.stat_result(st_mode=33188, st_ino=37467983, st_dev=16777220, st_nlink=1, st_uid=501, st_gid=20, st_size=33683, st_atime=1443278823, st_mtime=1443278823, st_ctime=1443278823)"
      ]
     },
     "execution_count": 32,
     "metadata": {},
     "output_type": "execute_result"
    }
   ],
   "source": [
    "st2 = os.stat('./ch02.ipynb')\n",
    "st2"
   ]
  },
  {
   "cell_type": "code",
   "execution_count": 33,
   "metadata": {
    "collapsed": false
   },
   "outputs": [
    {
     "data": {
      "text/plain": [
       "33188"
      ]
     },
     "execution_count": 33,
     "metadata": {},
     "output_type": "execute_result"
    }
   ],
   "source": [
    "st2.st_mode"
   ]
  },
  {
   "cell_type": "code",
   "execution_count": 34,
   "metadata": {
    "collapsed": false
   },
   "outputs": [
    {
     "data": {
      "text/plain": [
       "False"
      ]
     },
     "execution_count": 34,
     "metadata": {},
     "output_type": "execute_result"
    }
   ],
   "source": [
    "stat.S_ISDIR(st2.st_mode)"
   ]
  },
  {
   "cell_type": "code",
   "execution_count": 35,
   "metadata": {
    "collapsed": false
   },
   "outputs": [
    {
     "data": {
      "text/plain": [
       "'1000000110000000'"
      ]
     },
     "execution_count": 35,
     "metadata": {},
     "output_type": "execute_result"
    }
   ],
   "source": [
    "'{:b}'.format(st.st_mode)"
   ]
  },
  {
   "cell_type": "code",
   "execution_count": 37,
   "metadata": {
    "collapsed": false
   },
   "outputs": [
    {
     "data": {
      "text/plain": [
       "'1000000110100100'"
      ]
     },
     "execution_count": 37,
     "metadata": {},
     "output_type": "execute_result"
    }
   ],
   "source": [
    "'{:b}'.format(st2.st_mode)"
   ]
  },
  {
   "cell_type": "code",
   "execution_count": 44,
   "metadata": {
    "collapsed": false
   },
   "outputs": [
    {
     "data": {
      "text/plain": [
       "posix.stat_result(st_mode=16877, st_ino=12366264, st_dev=16777220, st_nlink=4, st_uid=501, st_gid=20, st_size=136, st_atime=1443291047, st_mtime=1425722503, st_ctime=1425722503)"
      ]
     },
     "execution_count": 44,
     "metadata": {},
     "output_type": "execute_result"
    }
   ],
   "source": [
    "st_dir = os.stat('./ch01/')\n",
    "st_dir"
   ]
  },
  {
   "cell_type": "code",
   "execution_count": 45,
   "metadata": {
    "collapsed": false
   },
   "outputs": [
    {
     "data": {
      "text/plain": [
       "16877"
      ]
     },
     "execution_count": 45,
     "metadata": {},
     "output_type": "execute_result"
    }
   ],
   "source": [
    "st_dir.st_mode"
   ]
  },
  {
   "cell_type": "code",
   "execution_count": 46,
   "metadata": {
    "collapsed": false
   },
   "outputs": [
    {
     "data": {
      "text/plain": [
       "True"
      ]
     },
     "execution_count": 46,
     "metadata": {},
     "output_type": "execute_result"
    }
   ],
   "source": [
    "stat.S_ISDIR(st_dir.st_mode)"
   ]
  },
  {
   "cell_type": "code",
   "execution_count": 47,
   "metadata": {
    "collapsed": false
   },
   "outputs": [
    {
     "data": {
      "text/plain": [
       "'100000111101101'"
      ]
     },
     "execution_count": 47,
     "metadata": {},
     "output_type": "execute_result"
    }
   ],
   "source": [
    "'{:b}'.format(st_dir.st_mode)"
   ]
  },
  {
   "cell_type": "code",
   "execution_count": 48,
   "metadata": {
    "collapsed": false
   },
   "outputs": [
    {
     "data": {
      "text/plain": [
       "posix.stat_result(st_mode=16877, st_ino=12366682, st_dev=16777220, st_nlink=6, st_uid=501, st_gid=20, st_size=204, st_atime=1443291047, st_mtime=1425721726, st_ctime=1425721726)"
      ]
     },
     "execution_count": 48,
     "metadata": {},
     "output_type": "execute_result"
    }
   ],
   "source": [
    "st_dir2 = os.stat('./ch02/')\n",
    "st_dir2"
   ]
  },
  {
   "cell_type": "code",
   "execution_count": 49,
   "metadata": {
    "collapsed": false
   },
   "outputs": [
    {
     "data": {
      "text/plain": [
       "'100000111101101'"
      ]
     },
     "execution_count": 49,
     "metadata": {},
     "output_type": "execute_result"
    }
   ],
   "source": [
    "'{:b}'.format(st_dir2.st_mode)"
   ]
  },
  {
   "cell_type": "code",
   "execution_count": 50,
   "metadata": {
    "collapsed": true
   },
   "outputs": [],
   "source": [
    "os.walk?"
   ]
  },
  {
   "cell_type": "code",
   "execution_count": 65,
   "metadata": {
    "collapsed": false
   },
   "outputs": [
    {
     "name": "stdout",
     "output_type": "stream",
     "text": [
      "d100000111101101 .ipynb_checkpoints\n",
      "d100000111101101 ch01\n",
      "d100000111101101 ch02\n",
      "d100000111101101 ch03\n",
      "d100000111101101 ch05\n",
      "d100000111101101 ch06\n",
      "d100000111101101 ch07\n",
      "d100000111101101 images\n",
      "d100000111101101 src\n",
      "f1000000110100100 __init__.py\n",
      "f1000000110000000 ch01.ipynb\n",
      "f1000000110100100 ch02.ipynb\n",
      "f1000000110100100 ch03.ipynb\n",
      "f1000000110100100 ch04.ipynb\n",
      "f1000000110100100 crawler.py\n",
      "f1000000110100100 last_short.p\n",
      "f1000000110100100 short_to_url.p\n",
      "f1000000110000000 ch01-checkpoint.ipynb\n",
      "f1000000110100100 ch02-checkpoint.ipynb\n",
      "f1000000110100100 ch03-checkpoint.ipynb\n",
      "f1000000110100100 ch04-checkpoint.ipynb\n",
      "f1000000110100100 __init__.py\n",
      "f1000000110100100 ch01.py\n",
      "d100000111101101 bad\n",
      "f1000000110100100 __init__.py\n",
      "f1000000110100100 borg.py\n",
      "f1000000110100100 single.py\n",
      "f1000000110100100 __init__.py\n",
      "f1000000110100100 module1.py\n",
      "f1000000110100100 module2.py\n",
      "f1000000110100100 singletone.py\n",
      "d100000111101101 abstract_factory\n",
      "d100000111101101 factory\n",
      "f1000000110100100 __init__.py\n",
      "f1000000110100100 abstract.py\n",
      "f1000000110100100 __init__.py\n",
      "f1000000110100100 connector.py\n",
      "f1000000110100100 factory.py\n",
      "f1000000110100100 ftpconnector.py\n",
      "f1000000110100100 httpconnector.py\n",
      "f1000000110100100 observer.py\n",
      "f1000000110100100 proxy.py\n",
      "f1000000110100100 command.py\n",
      "f1000000110100100 template.py\n",
      "f1000000110100100 psf-logo.png\n",
      "f1000000110100100 python-logo.png\n",
      "d100000111101101 views\n",
      "f1000000110100100 controller.py\n",
      "f1000000110100100 models.py\n",
      "f1000000110100100 models.pyc\n",
      "f1000000110100100 module1.py\n",
      "f1000000110100100 module2.py\n",
      "f1000000110100100 module2.pyc\n",
      "f1000000110100100 simple_factory.py\n",
      "f1000000110100100 singleton.py\n",
      "f1000000110100100 singleton.pyc\n",
      "f1000000110100100 singleton_test.py\n",
      "f1000000110100100 main_page.html\n",
      "f1000000110100100 success.html\n"
     ]
    }
   ],
   "source": [
    "for dirpath, dirnames, filenames in os.walk('.'):\n",
    "#     print('dirpath', dirpath)\n",
    "#     print('dirnames', dirnames)\n",
    "#     print('filenames', filenames)\n",
    "    try:\n",
    "        for d in dirnames:\n",
    "            print('d{:b} {}'.format(os.stat(os.path.join(dirpath, d)).st_mode, d))\n",
    "        for f in filenames:\n",
    "            print('f{:b} {}'.format(os.stat(os.path.join(dirpath, f)).st_mode, f))\n",
    "    except OSError as e:\n",
    "        print(e)\n",
    "        pass"
   ]
  },
  {
   "cell_type": "markdown",
   "metadata": {},
   "source": [
    "## 파이썬 구현\n",
    "\n",
    "- 애플리케이션에서 도시의 현재 온도를 얻어야 한다고 가정\n",
    "- openweathermap.org의 자원을 사용하기로 결정\n",
    "\n",
    "### API 사용 로직\n",
    "\n",
    "1. 클라이언트가 API에 요청을 보내고\n",
    "2. 파싱하고\n",
    "3. 필요한 데이터를 받은 후\n",
    "4. 켈빈값을 섭씨로 변환\n",
    "\n",
    "\n",
    "- 하지만 단 하나의 메소드만 호출해서 현재 온도를 얻는다면 사용자는 훨씬 편할 것\n",
    "- 현재 날씨 정보를 받아오는 모든 복잡한 과정을 퍼사드 뒤에 숨겨놓고 이 퍼사드에 대한 인터페이스로 함수 하나만 제공하기로 함"
   ]
  },
  {
   "cell_type": "code",
   "execution_count": 66,
   "metadata": {
    "collapsed": true
   },
   "outputs": [],
   "source": [
    "import urllib\n",
    "import urllib2\n",
    "\n",
    "\n",
    "class WeatherProvider(object):\n",
    "    def __init__(self):\n",
    "        self.api_url = 'http://api.openweathermap.org/data/2.5/forecast?q={},{}'\n",
    "        \n",
    "    def get_weather_data(self, city, country):\n",
    "        city = urllib.quote(city)\n",
    "        url = self.api_url.format(city, country)\n",
    "        return urllib2.urlopen(url).read()"
   ]
  },
  {
   "cell_type": "code",
   "execution_count": 69,
   "metadata": {
    "collapsed": true
   },
   "outputs": [],
   "source": [
    "w = WeatherProvider()"
   ]
  },
  {
   "cell_type": "code",
   "execution_count": 72,
   "metadata": {
    "collapsed": true
   },
   "outputs": [],
   "source": [
    "import json"
   ]
  },
  {
   "cell_type": "code",
   "execution_count": 73,
   "metadata": {
    "collapsed": false
   },
   "outputs": [
    {
     "data": {
      "text/plain": [
       "{u'city': {u'coord': {u'lat': 37.56826, u'lon': 126.977829},\n",
       "  u'country': u'KR',\n",
       "  u'id': 1835848,\n",
       "  u'name': u'Seoul',\n",
       "  u'population': 0,\n",
       "  u'sys': {u'population': 0}},\n",
       " u'cnt': 40,\n",
       " u'cod': u'200',\n",
       " u'list': [{u'clouds': {u'all': 0},\n",
       "   u'dt': 1443301200,\n",
       "   u'dt_txt': u'2015-09-26 21:00:00',\n",
       "   u'main': {u'grnd_level': 1004.82,\n",
       "    u'humidity': 84,\n",
       "    u'pressure': 1004.82,\n",
       "    u'sea_level': 1028.32,\n",
       "    u'temp': 283.25,\n",
       "    u'temp_kf': 1.38,\n",
       "    u'temp_max': 283.25,\n",
       "    u'temp_min': 281.867},\n",
       "   u'sys': {u'pod': u'n'},\n",
       "   u'weather': [{u'description': u'sky is clear',\n",
       "     u'icon': u'01n',\n",
       "     u'id': 800,\n",
       "     u'main': u'Clear'}],\n",
       "   u'wind': {u'deg': 38.5026, u'speed': 1.07}},\n",
       "  {u'clouds': {u'all': 0},\n",
       "   u'dt': 1443312000,\n",
       "   u'dt_txt': u'2015-09-27 00:00:00',\n",
       "   u'main': {u'grnd_level': 1006.21,\n",
       "    u'humidity': 67,\n",
       "    u'pressure': 1006.21,\n",
       "    u'sea_level': 1029.56,\n",
       "    u'temp': 292.97,\n",
       "    u'temp_kf': 0.92,\n",
       "    u'temp_max': 292.97,\n",
       "    u'temp_min': 292.047},\n",
       "   u'sys': {u'pod': u'd'},\n",
       "   u'weather': [{u'description': u'sky is clear',\n",
       "     u'icon': u'01d',\n",
       "     u'id': 800,\n",
       "     u'main': u'Clear'}],\n",
       "   u'wind': {u'deg': 59.002, u'speed': 1.67}},\n",
       "  {u'clouds': {u'all': 0},\n",
       "   u'dt': 1443322800,\n",
       "   u'dt_txt': u'2015-09-27 03:00:00',\n",
       "   u'main': {u'grnd_level': 1005.56,\n",
       "    u'humidity': 57,\n",
       "    u'pressure': 1005.56,\n",
       "    u'sea_level': 1028.77,\n",
       "    u'temp': 298.07,\n",
       "    u'temp_kf': 0.46,\n",
       "    u'temp_max': 298.07,\n",
       "    u'temp_min': 297.614},\n",
       "   u'sys': {u'pod': u'd'},\n",
       "   u'weather': [{u'description': u'sky is clear',\n",
       "     u'icon': u'01d',\n",
       "     u'id': 800,\n",
       "     u'main': u'Clear'}],\n",
       "   u'wind': {u'deg': 153.5, u'speed': 1.31}},\n",
       "  {u'clouds': {u'all': 0},\n",
       "   u'dt': 1443333600,\n",
       "   u'dt_txt': u'2015-09-27 06:00:00',\n",
       "   u'main': {u'grnd_level': 1004.59,\n",
       "    u'humidity': 47,\n",
       "    u'pressure': 1004.59,\n",
       "    u'sea_level': 1027.76,\n",
       "    u'temp': 298.542,\n",
       "    u'temp_kf': 0,\n",
       "    u'temp_max': 298.542,\n",
       "    u'temp_min': 298.542},\n",
       "   u'sys': {u'pod': u'd'},\n",
       "   u'weather': [{u'description': u'sky is clear',\n",
       "     u'icon': u'01d',\n",
       "     u'id': 800,\n",
       "     u'main': u'Clear'}],\n",
       "   u'wind': {u'deg': 295.005, u'speed': 1.76}},\n",
       "  {u'clouds': {u'all': 0},\n",
       "   u'dt': 1443344400,\n",
       "   u'dt_txt': u'2015-09-27 09:00:00',\n",
       "   u'main': {u'grnd_level': 1005.08,\n",
       "    u'humidity': 49,\n",
       "    u'pressure': 1005.08,\n",
       "    u'sea_level': 1028.38,\n",
       "    u'temp': 295.158,\n",
       "    u'temp_kf': 0,\n",
       "    u'temp_max': 295.158,\n",
       "    u'temp_min': 295.158},\n",
       "   u'sys': {u'pod': u'd'},\n",
       "   u'weather': [{u'description': u'sky is clear',\n",
       "     u'icon': u'01d',\n",
       "     u'id': 800,\n",
       "     u'main': u'Clear'}],\n",
       "   u'wind': {u'deg': 298.001, u'speed': 1.42}},\n",
       "  {u'clouds': {u'all': 0},\n",
       "   u'dt': 1443355200,\n",
       "   u'dt_txt': u'2015-09-27 12:00:00',\n",
       "   u'main': {u'grnd_level': 1006.55,\n",
       "    u'humidity': 64,\n",
       "    u'pressure': 1006.55,\n",
       "    u'sea_level': 1029.99,\n",
       "    u'temp': 287.609,\n",
       "    u'temp_kf': 0,\n",
       "    u'temp_max': 287.609,\n",
       "    u'temp_min': 287.609},\n",
       "   u'sys': {u'pod': u'n'},\n",
       "   u'weather': [{u'description': u'sky is clear',\n",
       "     u'icon': u'01n',\n",
       "     u'id': 800,\n",
       "     u'main': u'Clear'}],\n",
       "   u'wind': {u'deg': 315.502, u'speed': 1.47}},\n",
       "  {u'clouds': {u'all': 0},\n",
       "   u'dt': 1443366000,\n",
       "   u'dt_txt': u'2015-09-27 15:00:00',\n",
       "   u'main': {u'grnd_level': 1006.93,\n",
       "    u'humidity': 77,\n",
       "    u'pressure': 1006.93,\n",
       "    u'sea_level': 1030.21,\n",
       "    u'temp': 284.216,\n",
       "    u'temp_kf': 0,\n",
       "    u'temp_max': 284.216,\n",
       "    u'temp_min': 284.216},\n",
       "   u'sys': {u'pod': u'n'},\n",
       "   u'weather': [{u'description': u'sky is clear',\n",
       "     u'icon': u'01n',\n",
       "     u'id': 800,\n",
       "     u'main': u'Clear'}],\n",
       "   u'wind': {u'deg': 325.502, u'speed': 1.07}},\n",
       "  {u'clouds': {u'all': 0},\n",
       "   u'dt': 1443376800,\n",
       "   u'dt_txt': u'2015-09-27 18:00:00',\n",
       "   u'main': {u'grnd_level': 1007.34,\n",
       "    u'humidity': 83,\n",
       "    u'pressure': 1007.34,\n",
       "    u'sea_level': 1030.73,\n",
       "    u'temp': 282.599,\n",
       "    u'temp_kf': 0,\n",
       "    u'temp_max': 282.599,\n",
       "    u'temp_min': 282.599},\n",
       "   u'sys': {u'pod': u'n'},\n",
       "   u'weather': [{u'description': u'sky is clear',\n",
       "     u'icon': u'01n',\n",
       "     u'id': 800,\n",
       "     u'main': u'Clear'}],\n",
       "   u'wind': {u'deg': 325.002, u'speed': 1.12}},\n",
       "  {u'clouds': {u'all': 56},\n",
       "   u'dt': 1443387600,\n",
       "   u'dt_txt': u'2015-09-27 21:00:00',\n",
       "   u'main': {u'grnd_level': 1007.57,\n",
       "    u'humidity': 83,\n",
       "    u'pressure': 1007.57,\n",
       "    u'sea_level': 1031,\n",
       "    u'temp': 282.577,\n",
       "    u'temp_kf': 0,\n",
       "    u'temp_max': 282.577,\n",
       "    u'temp_min': 282.577},\n",
       "   u'sys': {u'pod': u'n'},\n",
       "   u'weather': [{u'description': u'broken clouds',\n",
       "     u'icon': u'04n',\n",
       "     u'id': 803,\n",
       "     u'main': u'Clouds'}],\n",
       "   u'wind': {u'deg': 5.50052, u'speed': 1.07}},\n",
       "  {u'clouds': {u'all': 32},\n",
       "   u'dt': 1443398400,\n",
       "   u'dt_txt': u'2015-09-28 00:00:00',\n",
       "   u'main': {u'grnd_level': 1008.54,\n",
       "    u'humidity': 57,\n",
       "    u'pressure': 1008.54,\n",
       "    u'sea_level': 1031.96,\n",
       "    u'temp': 291.77,\n",
       "    u'temp_kf': 0,\n",
       "    u'temp_max': 291.77,\n",
       "    u'temp_min': 291.77},\n",
       "   u'sys': {u'pod': u'd'},\n",
       "   u'weather': [{u'description': u'scattered clouds',\n",
       "     u'icon': u'03d',\n",
       "     u'id': 802,\n",
       "     u'main': u'Clouds'}],\n",
       "   u'wind': {u'deg': 39.0001, u'speed': 1.6}},\n",
       "  {u'clouds': {u'all': 92},\n",
       "   u'dt': 1443409200,\n",
       "   u'dt_txt': u'2015-09-28 03:00:00',\n",
       "   u'main': {u'grnd_level': 1008.85,\n",
       "    u'humidity': 54,\n",
       "    u'pressure': 1008.85,\n",
       "    u'sea_level': 1032.08,\n",
       "    u'temp': 295.761,\n",
       "    u'temp_kf': 0,\n",
       "    u'temp_max': 295.761,\n",
       "    u'temp_min': 295.761},\n",
       "   u'sys': {u'pod': u'd'},\n",
       "   u'weather': [{u'description': u'overcast clouds',\n",
       "     u'icon': u'04d',\n",
       "     u'id': 804,\n",
       "     u'main': u'Clouds'}],\n",
       "   u'wind': {u'deg': 332.003, u'speed': 1.66}},\n",
       "  {u'clouds': {u'all': 88},\n",
       "   u'dt': 1443420000,\n",
       "   u'dt_txt': u'2015-09-28 06:00:00',\n",
       "   u'main': {u'grnd_level': 1007.32,\n",
       "    u'humidity': 51,\n",
       "    u'pressure': 1007.32,\n",
       "    u'sea_level': 1030.63,\n",
       "    u'temp': 296.896,\n",
       "    u'temp_kf': 0,\n",
       "    u'temp_max': 296.896,\n",
       "    u'temp_min': 296.896},\n",
       "   u'sys': {u'pod': u'd'},\n",
       "   u'weather': [{u'description': u'overcast clouds',\n",
       "     u'icon': u'04d',\n",
       "     u'id': 804,\n",
       "     u'main': u'Clouds'}],\n",
       "   u'wind': {u'deg': 352.505, u'speed': 1.66}},\n",
       "  {u'clouds': {u'all': 12},\n",
       "   u'dt': 1443430800,\n",
       "   u'dt_txt': u'2015-09-28 09:00:00',\n",
       "   u'main': {u'grnd_level': 1007.72,\n",
       "    u'humidity': 57,\n",
       "    u'pressure': 1007.72,\n",
       "    u'sea_level': 1030.96,\n",
       "    u'temp': 294.591,\n",
       "    u'temp_kf': 0,\n",
       "    u'temp_max': 294.591,\n",
       "    u'temp_min': 294.591},\n",
       "   u'sys': {u'pod': u'd'},\n",
       "   u'weather': [{u'description': u'few clouds',\n",
       "     u'icon': u'02d',\n",
       "     u'id': 801,\n",
       "     u'main': u'Clouds'}],\n",
       "   u'wind': {u'deg': 340.001, u'speed': 1.22}},\n",
       "  {u'clouds': {u'all': 80},\n",
       "   u'dt': 1443441600,\n",
       "   u'dt_txt': u'2015-09-28 12:00:00',\n",
       "   u'main': {u'grnd_level': 1009.29,\n",
       "    u'humidity': 79,\n",
       "    u'pressure': 1009.29,\n",
       "    u'sea_level': 1032.66,\n",
       "    u'temp': 288.973,\n",
       "    u'temp_kf': 0,\n",
       "    u'temp_max': 288.973,\n",
       "    u'temp_min': 288.973},\n",
       "   u'sys': {u'pod': u'n'},\n",
       "   u'weather': [{u'description': u'broken clouds',\n",
       "     u'icon': u'04n',\n",
       "     u'id': 803,\n",
       "     u'main': u'Clouds'}],\n",
       "   u'wind': {u'deg': 324.501, u'speed': 1.22}},\n",
       "  {u'clouds': {u'all': 92},\n",
       "   u'dt': 1443452400,\n",
       "   u'dt_txt': u'2015-09-28 15:00:00',\n",
       "   u'main': {u'grnd_level': 1009.55,\n",
       "    u'humidity': 76,\n",
       "    u'pressure': 1009.55,\n",
       "    u'sea_level': 1033,\n",
       "    u'temp': 288.647,\n",
       "    u'temp_kf': 0,\n",
       "    u'temp_max': 288.647,\n",
       "    u'temp_min': 288.647},\n",
       "   u'sys': {u'pod': u'n'},\n",
       "   u'weather': [{u'description': u'overcast clouds',\n",
       "     u'icon': u'04n',\n",
       "     u'id': 804,\n",
       "     u'main': u'Clouds'}],\n",
       "   u'wind': {u'deg': 316.004, u'speed': 1.18}},\n",
       "  {u'clouds': {u'all': 20},\n",
       "   u'dt': 1443463200,\n",
       "   u'dt_txt': u'2015-09-28 18:00:00',\n",
       "   u'main': {u'grnd_level': 1009.42,\n",
       "    u'humidity': 73,\n",
       "    u'pressure': 1009.42,\n",
       "    u'sea_level': 1032.99,\n",
       "    u'temp': 286.579,\n",
       "    u'temp_kf': 0,\n",
       "    u'temp_max': 286.579,\n",
       "    u'temp_min': 286.579},\n",
       "   u'sys': {u'pod': u'n'},\n",
       "   u'weather': [{u'description': u'few clouds',\n",
       "     u'icon': u'02n',\n",
       "     u'id': 801,\n",
       "     u'main': u'Clouds'}],\n",
       "   u'wind': {u'deg': 318.501, u'speed': 1.41}},\n",
       "  {u'clouds': {u'all': 0},\n",
       "   u'dt': 1443474000,\n",
       "   u'dt_txt': u'2015-09-28 21:00:00',\n",
       "   u'main': {u'grnd_level': 1009.96,\n",
       "    u'humidity': 67,\n",
       "    u'pressure': 1009.96,\n",
       "    u'sea_level': 1033.61,\n",
       "    u'temp': 283.336,\n",
       "    u'temp_kf': 0,\n",
       "    u'temp_max': 283.336,\n",
       "    u'temp_min': 283.336},\n",
       "   u'sys': {u'pod': u'n'},\n",
       "   u'weather': [{u'description': u'sky is clear',\n",
       "     u'icon': u'01n',\n",
       "     u'id': 800,\n",
       "     u'main': u'Clear'}],\n",
       "   u'wind': {u'deg': 319.5, u'speed': 1.37}},\n",
       "  {u'clouds': {u'all': 0},\n",
       "   u'dt': 1443484800,\n",
       "   u'dt_txt': u'2015-09-29 00:00:00',\n",
       "   u'main': {u'grnd_level': 1011.39,\n",
       "    u'humidity': 50,\n",
       "    u'pressure': 1011.39,\n",
       "    u'sea_level': 1035.01,\n",
       "    u'temp': 291.513,\n",
       "    u'temp_kf': 0,\n",
       "    u'temp_max': 291.513,\n",
       "    u'temp_min': 291.513},\n",
       "   u'sys': {u'pod': u'd'},\n",
       "   u'weather': [{u'description': u'sky is clear',\n",
       "     u'icon': u'01d',\n",
       "     u'id': 800,\n",
       "     u'main': u'Clear'}],\n",
       "   u'wind': {u'deg': 13.5012, u'speed': 1.97}},\n",
       "  {u'clouds': {u'all': 0},\n",
       "   u'dt': 1443495600,\n",
       "   u'dt_txt': u'2015-09-29 03:00:00',\n",
       "   u'main': {u'grnd_level': 1011.62,\n",
       "    u'humidity': 53,\n",
       "    u'pressure': 1011.62,\n",
       "    u'sea_level': 1034.9,\n",
       "    u'temp': 296.004,\n",
       "    u'temp_kf': 0,\n",
       "    u'temp_max': 296.004,\n",
       "    u'temp_min': 296.004},\n",
       "   u'sys': {u'pod': u'd'},\n",
       "   u'weather': [{u'description': u'sky is clear',\n",
       "     u'icon': u'01d',\n",
       "     u'id': 800,\n",
       "     u'main': u'Clear'}],\n",
       "   u'wind': {u'deg': 63.502, u'speed': 4.02}},\n",
       "  {u'clouds': {u'all': 0},\n",
       "   u'dt': 1443506400,\n",
       "   u'dt_txt': u'2015-09-29 06:00:00',\n",
       "   u'main': {u'grnd_level': 1011.13,\n",
       "    u'humidity': 47,\n",
       "    u'pressure': 1011.13,\n",
       "    u'sea_level': 1034.5,\n",
       "    u'temp': 296.754,\n",
       "    u'temp_kf': 0,\n",
       "    u'temp_max': 296.754,\n",
       "    u'temp_min': 296.754},\n",
       "   u'sys': {u'pod': u'd'},\n",
       "   u'weather': [{u'description': u'sky is clear',\n",
       "     u'icon': u'01d',\n",
       "     u'id': 800,\n",
       "     u'main': u'Clear'}],\n",
       "   u'wind': {u'deg': 68.5095, u'speed': 3.43}},\n",
       "  {u'clouds': {u'all': 36},\n",
       "   u'dt': 1443517200,\n",
       "   u'dt_txt': u'2015-09-29 09:00:00',\n",
       "   u'main': {u'grnd_level': 1011.9,\n",
       "    u'humidity': 49,\n",
       "    u'pressure': 1011.9,\n",
       "    u'sea_level': 1035.22,\n",
       "    u'temp': 293.715,\n",
       "    u'temp_kf': 0,\n",
       "    u'temp_max': 293.715,\n",
       "    u'temp_min': 293.715},\n",
       "   u'sys': {u'pod': u'd'},\n",
       "   u'weather': [{u'description': u'scattered clouds',\n",
       "     u'icon': u'03d',\n",
       "     u'id': 802,\n",
       "     u'main': u'Clouds'}],\n",
       "   u'wind': {u'deg': 79.0009, u'speed': 3.31}},\n",
       "  {u'clouds': {u'all': 64},\n",
       "   u'dt': 1443528000,\n",
       "   u'dt_txt': u'2015-09-29 12:00:00',\n",
       "   u'main': {u'grnd_level': 1013.65,\n",
       "    u'humidity': 67,\n",
       "    u'pressure': 1013.65,\n",
       "    u'sea_level': 1037.23,\n",
       "    u'temp': 289.216,\n",
       "    u'temp_kf': 0,\n",
       "    u'temp_max': 289.216,\n",
       "    u'temp_min': 289.216},\n",
       "   u'sys': {u'pod': u'n'},\n",
       "   u'weather': [{u'description': u'broken clouds',\n",
       "     u'icon': u'04n',\n",
       "     u'id': 803,\n",
       "     u'main': u'Clouds'}],\n",
       "   u'wind': {u'deg': 87.002, u'speed': 2.28}},\n",
       "  {u'clouds': {u'all': 80},\n",
       "   u'dt': 1443538800,\n",
       "   u'dt_txt': u'2015-09-29 15:00:00',\n",
       "   u'main': {u'grnd_level': 1014.28,\n",
       "    u'humidity': 83,\n",
       "    u'pressure': 1014.28,\n",
       "    u'sea_level': 1037.95,\n",
       "    u'temp': 286.799,\n",
       "    u'temp_kf': 0,\n",
       "    u'temp_max': 286.799,\n",
       "    u'temp_min': 286.799},\n",
       "   u'sys': {u'pod': u'n'},\n",
       "   u'weather': [{u'description': u'broken clouds',\n",
       "     u'icon': u'04n',\n",
       "     u'id': 803,\n",
       "     u'main': u'Clouds'}],\n",
       "   u'wind': {u'deg': 67.5, u'speed': 1.27}},\n",
       "  {u'clouds': {u'all': 92},\n",
       "   u'dt': 1443549600,\n",
       "   u'dt_txt': u'2015-09-29 18:00:00',\n",
       "   u'main': {u'grnd_level': 1013.68,\n",
       "    u'humidity': 90,\n",
       "    u'pressure': 1013.68,\n",
       "    u'sea_level': 1037.37,\n",
       "    u'temp': 285.865,\n",
       "    u'temp_kf': 0,\n",
       "    u'temp_max': 285.865,\n",
       "    u'temp_min': 285.865},\n",
       "   u'sys': {u'pod': u'n'},\n",
       "   u'weather': [{u'description': u'overcast clouds',\n",
       "     u'icon': u'04n',\n",
       "     u'id': 804,\n",
       "     u'main': u'Clouds'}],\n",
       "   u'wind': {u'deg': 50.5005, u'speed': 1.15}},\n",
       "  {u'clouds': {u'all': 48},\n",
       "   u'dt': 1443560400,\n",
       "   u'dt_txt': u'2015-09-29 21:00:00',\n",
       "   u'main': {u'grnd_level': 1013.78,\n",
       "    u'humidity': 94,\n",
       "    u'pressure': 1013.78,\n",
       "    u'sea_level': 1037.46,\n",
       "    u'temp': 285.512,\n",
       "    u'temp_kf': 0,\n",
       "    u'temp_max': 285.512,\n",
       "    u'temp_min': 285.512},\n",
       "   u'sys': {u'pod': u'n'},\n",
       "   u'weather': [{u'description': u'scattered clouds',\n",
       "     u'icon': u'03n',\n",
       "     u'id': 802,\n",
       "     u'main': u'Clouds'}],\n",
       "   u'wind': {u'deg': 81.001, u'speed': 1.16}},\n",
       "  {u'clouds': {u'all': 88},\n",
       "   u'dt': 1443571200,\n",
       "   u'dt_txt': u'2015-09-30 00:00:00',\n",
       "   u'main': {u'grnd_level': 1014.38,\n",
       "    u'humidity': 72,\n",
       "    u'pressure': 1014.38,\n",
       "    u'sea_level': 1037.91,\n",
       "    u'temp': 289.789,\n",
       "    u'temp_kf': 0,\n",
       "    u'temp_max': 289.789,\n",
       "    u'temp_min': 289.789},\n",
       "   u'sys': {u'pod': u'd'},\n",
       "   u'weather': [{u'description': u'overcast clouds',\n",
       "     u'icon': u'04d',\n",
       "     u'id': 804,\n",
       "     u'main': u'Clouds'}],\n",
       "   u'wind': {u'deg': 100.501, u'speed': 1.67}},\n",
       "  {u'clouds': {u'all': 88},\n",
       "   u'dt': 1443582000,\n",
       "   u'dt_txt': u'2015-09-30 03:00:00',\n",
       "   u'main': {u'grnd_level': 1012.93,\n",
       "    u'humidity': 61,\n",
       "    u'pressure': 1012.93,\n",
       "    u'sea_level': 1036.33,\n",
       "    u'temp': 293.003,\n",
       "    u'temp_kf': 0,\n",
       "    u'temp_max': 293.003,\n",
       "    u'temp_min': 293.003},\n",
       "   u'sys': {u'pod': u'd'},\n",
       "   u'weather': [{u'description': u'overcast clouds',\n",
       "     u'icon': u'04d',\n",
       "     u'id': 804,\n",
       "     u'main': u'Clouds'}],\n",
       "   u'wind': {u'deg': 145.002, u'speed': 2.07}},\n",
       "  {u'clouds': {u'all': 100},\n",
       "   u'dt': 1443592800,\n",
       "   u'dt_txt': u'2015-09-30 06:00:00',\n",
       "   u'main': {u'grnd_level': 1010.66,\n",
       "    u'humidity': 56,\n",
       "    u'pressure': 1010.66,\n",
       "    u'sea_level': 1034.04,\n",
       "    u'temp': 292.644,\n",
       "    u'temp_kf': 0,\n",
       "    u'temp_max': 292.644,\n",
       "    u'temp_min': 292.644},\n",
       "   u'sys': {u'pod': u'd'},\n",
       "   u'weather': [{u'description': u'overcast clouds',\n",
       "     u'icon': u'04d',\n",
       "     u'id': 804,\n",
       "     u'main': u'Clouds'}],\n",
       "   u'wind': {u'deg': 154.503, u'speed': 2.21}},\n",
       "  {u'clouds': {u'all': 32},\n",
       "   u'dt': 1443603600,\n",
       "   u'dt_txt': u'2015-09-30 09:00:00',\n",
       "   u'main': {u'grnd_level': 1008.57,\n",
       "    u'humidity': 57,\n",
       "    u'pressure': 1008.57,\n",
       "    u'sea_level': 1032.06,\n",
       "    u'temp': 291.699,\n",
       "    u'temp_kf': 0,\n",
       "    u'temp_max': 291.699,\n",
       "    u'temp_min': 291.699},\n",
       "   u'sys': {u'pod': u'd'},\n",
       "   u'weather': [{u'description': u'scattered clouds',\n",
       "     u'icon': u'03d',\n",
       "     u'id': 802,\n",
       "     u'main': u'Clouds'}],\n",
       "   u'wind': {u'deg': 155.001, u'speed': 2.76}},\n",
       "  {u'clouds': {u'all': 92},\n",
       "   u'dt': 1443614400,\n",
       "   u'dt_txt': u'2015-09-30 12:00:00',\n",
       "   u'main': {u'grnd_level': 1008.76,\n",
       "    u'humidity': 73,\n",
       "    u'pressure': 1008.76,\n",
       "    u'sea_level': 1032.27,\n",
       "    u'temp': 288.979,\n",
       "    u'temp_kf': 0,\n",
       "    u'temp_max': 288.979,\n",
       "    u'temp_min': 288.979},\n",
       "   u'rain': {u'3h': 0.05},\n",
       "   u'sys': {u'pod': u'n'},\n",
       "   u'weather': [{u'description': u'light rain',\n",
       "     u'icon': u'10n',\n",
       "     u'id': 500,\n",
       "     u'main': u'Rain'}],\n",
       "   u'wind': {u'deg': 193.004, u'speed': 1.41}},\n",
       "  {u'clouds': {u'all': 80},\n",
       "   u'dt': 1443625200,\n",
       "   u'dt_txt': u'2015-09-30 15:00:00',\n",
       "   u'main': {u'grnd_level': 1007.91,\n",
       "    u'humidity': 93,\n",
       "    u'pressure': 1007.91,\n",
       "    u'sea_level': 1031.33,\n",
       "    u'temp': 288.209,\n",
       "    u'temp_kf': 0,\n",
       "    u'temp_max': 288.209,\n",
       "    u'temp_min': 288.209},\n",
       "   u'rain': {u'3h': 0.2375},\n",
       "   u'sys': {u'pod': u'n'},\n",
       "   u'weather': [{u'description': u'light rain',\n",
       "     u'icon': u'10n',\n",
       "     u'id': 500,\n",
       "     u'main': u'Rain'}],\n",
       "   u'wind': {u'deg': 217.001, u'speed': 1.21}},\n",
       "  {u'clouds': {u'all': 8},\n",
       "   u'dt': 1443636000,\n",
       "   u'dt_txt': u'2015-09-30 18:00:00',\n",
       "   u'main': {u'grnd_level': 1007.07,\n",
       "    u'humidity': 98,\n",
       "    u'pressure': 1007.07,\n",
       "    u'sea_level': 1030.59,\n",
       "    u'temp': 288.004,\n",
       "    u'temp_kf': 0,\n",
       "    u'temp_max': 288.004,\n",
       "    u'temp_min': 288.004},\n",
       "   u'rain': {u'3h': 0.1875},\n",
       "   u'sys': {u'pod': u'n'},\n",
       "   u'weather': [{u'description': u'light rain',\n",
       "     u'icon': u'10n',\n",
       "     u'id': 500,\n",
       "     u'main': u'Rain'}],\n",
       "   u'wind': {u'deg': 293.507, u'speed': 1.51}},\n",
       "  {u'clouds': {u'all': 0},\n",
       "   u'dt': 1443646800,\n",
       "   u'dt_txt': u'2015-09-30 21:00:00',\n",
       "   u'main': {u'grnd_level': 1007.33,\n",
       "    u'humidity': 92,\n",
       "    u'pressure': 1007.33,\n",
       "    u'sea_level': 1030.69,\n",
       "    u'temp': 284.378,\n",
       "    u'temp_kf': 0,\n",
       "    u'temp_max': 284.378,\n",
       "    u'temp_min': 284.378},\n",
       "   u'rain': {},\n",
       "   u'sys': {u'pod': u'n'},\n",
       "   u'weather': [{u'description': u'sky is clear',\n",
       "     u'icon': u'01n',\n",
       "     u'id': 800,\n",
       "     u'main': u'Clear'}],\n",
       "   u'wind': {u'deg': 306.504, u'speed': 1.98}},\n",
       "  {u'clouds': {u'all': 0},\n",
       "   u'dt': 1443657600,\n",
       "   u'dt_txt': u'2015-10-01 00:00:00',\n",
       "   u'main': {u'grnd_level': 1007.79,\n",
       "    u'humidity': 71,\n",
       "    u'pressure': 1007.79,\n",
       "    u'sea_level': 1031.18,\n",
       "    u'temp': 290.573,\n",
       "    u'temp_kf': 0,\n",
       "    u'temp_max': 290.573,\n",
       "    u'temp_min': 290.573},\n",
       "   u'rain': {},\n",
       "   u'sys': {u'pod': u'd'},\n",
       "   u'weather': [{u'description': u'sky is clear',\n",
       "     u'icon': u'01d',\n",
       "     u'id': 800,\n",
       "     u'main': u'Clear'}],\n",
       "   u'wind': {u'deg': 327.004, u'speed': 1.92}},\n",
       "  {u'clouds': {u'all': 0},\n",
       "   u'dt': 1443668400,\n",
       "   u'dt_txt': u'2015-10-01 03:00:00',\n",
       "   u'main': {u'grnd_level': 1007.19,\n",
       "    u'humidity': 58,\n",
       "    u'pressure': 1007.19,\n",
       "    u'sea_level': 1030.35,\n",
       "    u'temp': 294.501,\n",
       "    u'temp_kf': 0,\n",
       "    u'temp_max': 294.501,\n",
       "    u'temp_min': 294.501},\n",
       "   u'rain': {},\n",
       "   u'sys': {u'pod': u'd'},\n",
       "   u'weather': [{u'description': u'sky is clear',\n",
       "     u'icon': u'01d',\n",
       "     u'id': 800,\n",
       "     u'main': u'Clear'}],\n",
       "   u'wind': {u'deg': 333, u'speed': 2.87}},\n",
       "  {u'clouds': {u'all': 0},\n",
       "   u'dt': 1443679200,\n",
       "   u'dt_txt': u'2015-10-01 06:00:00',\n",
       "   u'main': {u'grnd_level': 1005.5,\n",
       "    u'humidity': 51,\n",
       "    u'pressure': 1005.5,\n",
       "    u'sea_level': 1028.68,\n",
       "    u'temp': 296.101,\n",
       "    u'temp_kf': 0,\n",
       "    u'temp_max': 296.101,\n",
       "    u'temp_min': 296.101},\n",
       "   u'rain': {},\n",
       "   u'sys': {u'pod': u'd'},\n",
       "   u'weather': [{u'description': u'sky is clear',\n",
       "     u'icon': u'01d',\n",
       "     u'id': 800,\n",
       "     u'main': u'Clear'}],\n",
       "   u'wind': {u'deg': 318.503, u'speed': 2.56}},\n",
       "  {u'clouds': {u'all': 0},\n",
       "   u'dt': 1443690000,\n",
       "   u'dt_txt': u'2015-10-01 09:00:00',\n",
       "   u'main': {u'grnd_level': 1005.12,\n",
       "    u'humidity': 54,\n",
       "    u'pressure': 1005.12,\n",
       "    u'sea_level': 1028.46,\n",
       "    u'temp': 293.05,\n",
       "    u'temp_kf': 0,\n",
       "    u'temp_max': 293.05,\n",
       "    u'temp_min': 293.05},\n",
       "   u'rain': {},\n",
       "   u'sys': {u'pod': u'd'},\n",
       "   u'weather': [{u'description': u'sky is clear',\n",
       "     u'icon': u'01d',\n",
       "     u'id': 800,\n",
       "     u'main': u'Clear'}],\n",
       "   u'wind': {u'deg': 300.5, u'speed': 1.21}},\n",
       "  {u'clouds': {u'all': 12},\n",
       "   u'dt': 1443700800,\n",
       "   u'dt_txt': u'2015-10-01 12:00:00',\n",
       "   u'main': {u'grnd_level': 1006.37,\n",
       "    u'humidity': 83,\n",
       "    u'pressure': 1006.37,\n",
       "    u'sea_level': 1029.76,\n",
       "    u'temp': 285.877,\n",
       "    u'temp_kf': 0,\n",
       "    u'temp_max': 285.877,\n",
       "    u'temp_min': 285.877},\n",
       "   u'rain': {},\n",
       "   u'sys': {u'pod': u'n'},\n",
       "   u'weather': [{u'description': u'few clouds',\n",
       "     u'icon': u'02n',\n",
       "     u'id': 801,\n",
       "     u'main': u'Clouds'}],\n",
       "   u'wind': {u'deg': 307.002, u'speed': 1.11}},\n",
       "  {u'clouds': {u'all': 68},\n",
       "   u'dt': 1443711600,\n",
       "   u'dt_txt': u'2015-10-01 15:00:00',\n",
       "   u'main': {u'grnd_level': 1006.44,\n",
       "    u'humidity': 86,\n",
       "    u'pressure': 1006.44,\n",
       "    u'sea_level': 1029.92,\n",
       "    u'temp': 283.962,\n",
       "    u'temp_kf': 0,\n",
       "    u'temp_max': 283.962,\n",
       "    u'temp_min': 283.962},\n",
       "   u'rain': {},\n",
       "   u'sys': {u'pod': u'n'},\n",
       "   u'weather': [{u'description': u'broken clouds',\n",
       "     u'icon': u'04n',\n",
       "     u'id': 803,\n",
       "     u'main': u'Clouds'}],\n",
       "   u'wind': {u'deg': 359.506, u'speed': 1.08}},\n",
       "  {u'clouds': {u'all': 88},\n",
       "   u'dt': 1443722400,\n",
       "   u'dt_txt': u'2015-10-01 18:00:00',\n",
       "   u'main': {u'grnd_level': 1005.79,\n",
       "    u'humidity': 87,\n",
       "    u'pressure': 1005.79,\n",
       "    u'sea_level': 1029.33,\n",
       "    u'temp': 284.1,\n",
       "    u'temp_kf': 0,\n",
       "    u'temp_max': 284.1,\n",
       "    u'temp_min': 284.1},\n",
       "   u'rain': {},\n",
       "   u'sys': {u'pod': u'n'},\n",
       "   u'weather': [{u'description': u'overcast clouds',\n",
       "     u'icon': u'04n',\n",
       "     u'id': 804,\n",
       "     u'main': u'Clouds'}],\n",
       "   u'wind': {u'deg': 95.5022, u'speed': 1.1}}],\n",
       " u'message': 0.0106}"
      ]
     },
     "execution_count": 73,
     "metadata": {},
     "output_type": "execute_result"
    }
   ],
   "source": [
    "json.loads(w.get_weather_data('seoul', 'kr'))"
   ]
  },
  {
   "cell_type": "markdown",
   "metadata": {},
   "source": [
    "### API 분석\n",
    "\n",
    "- 이 API는 일기예보 데이터를 며칠에 걸쳐 3시간에 1번씩 제공. 오늘에 대한 정보만 필요하기 때문에, 오늘의 모든 날씨 정보를 수집해 놓고 추후에 처리함"
   ]
  },
  {
   "cell_type": "code",
   "execution_count": 75,
   "metadata": {
    "collapsed": false
   },
   "outputs": [],
   "source": [
    "from datetime import datetime\n",
    "import json\n",
    "\n",
    "\n",
    "class Parser(object):\n",
    "    def parse_weather_data(self, weather_data):\n",
    "        parsed = json.loads(weather_data)\n",
    "        start_date = None\n",
    "        result = []\n",
    "        \n",
    "        for data in parsed['list']:\n",
    "            date = datetime.strptime(data['dt_txt'], '%Y-%m-%d %H:%M:%S')\n",
    "            start_date = start_date or date\n",
    "            if start_date.day != date.day:\n",
    "                return result\n",
    "            result.append(data['main']['temp'])"
   ]
  },
  {
   "cell_type": "markdown",
   "metadata": {},
   "source": [
    "- 트래피을 줄이기 위해서 예보 데이터를 캐싱해 도는 것이 좋을듯\n",
    "- 하드 디스크 드라이브에 객체를 저장하고 불러오는 클래스를 만들어 보자.\n",
    "- save 메소드는 예보 정보와 캐시가 만료되는 시간 2가지 값을 가진 딕셔너리를 생성함\n",
    "- 이 메소드는 3시간마다 캐시가 만료되었는지 알려줌\n",
    "- load 메소드는 로컬 디스크에 캐싱해둔 데이터를 불러오고 기간이 만료되었는지 확인\n",
    "- 아직 예보 객체가 만료되지 않았다면 그 객체를 바로 반환함. 만료된 경우에는 None을 반환함"
   ]
  },
  {
   "cell_type": "code",
   "execution_count": 76,
   "metadata": {
    "collapsed": false
   },
   "outputs": [
    {
     "data": {
      "text/plain": [
       "datetime.datetime(2015, 9, 26, 18, 49, 42, 289744)"
      ]
     },
     "execution_count": 76,
     "metadata": {},
     "output_type": "execute_result"
    }
   ],
   "source": [
    "datetime.utcnow()"
   ]
  },
  {
   "cell_type": "code",
   "execution_count": 252,
   "metadata": {
    "collapsed": true
   },
   "outputs": [],
   "source": [
    "from datetime import timedelta\n",
    "import pickle\n",
    "from collections import namedtuple\n",
    "\n",
    "\n",
    "class Cache(object):\n",
    "    def __init__(self, filename):\n",
    "        self.filename = filename\n",
    "        \n",
    "    def save(self, city, country, celcius):\n",
    "        n = namedtuple('temperature', ['city', 'country', 'celcius'])\n",
    "        obj = n(city, country, celcius)\n",
    "        with open(self.filename, 'w') as f:\n",
    "            dct = {'city': city,\n",
    "                   'country': country,\n",
    "                   'celcius': celcius,\n",
    "                   'expired': datetime.utcnow() + timedelta(hours=3)\n",
    "                   }\n",
    "            pickle.dump(dct, f)\n",
    "    \n",
    "    def load(self):\n",
    "        try:\n",
    "            with open(self.filename) as f:\n",
    "                result = pickle.load(f)\n",
    "                if result['expired'] > datetime.utcnow():\n",
    "                    return result\n",
    "        except IOError:\n",
    "            pass"
   ]
  },
  {
   "cell_type": "markdown",
   "metadata": {},
   "source": [
    "- [섭씨 \\- 위키백과, 우리 모두의 백과사전](https://ko.wikipedia.org/wiki/%EC%84%AD%EC%94%A8)\n",
    "- 섭씨 온도(Celsius , 攝氏溫度)는 1 atm에서의 물의 어는점을 0도, 끓는점을 100도로 정한 온도 체계이며, 기호는 °C이다\n",
    "- 켈빈: 온도의 국제 단위. 켈빈은 절대 온도를 측정하기 때문에, 0 K은 절대 영도(이상 기체의 부피가 0이 되는 온도)이며, 섭씨 0도는 273.15K에 해당함. 상대온도의 단위로는 섭씨도와 같다. 켈빈 경의 이름을 땄으며, 기호는 K다.\n",
    "- 화씨온도: 물이 어는 온도는 32도(섭씨 0도)이며, 물이 끓는 온도는 212도(섭씨 100도)이므로, 이 사이의 온도는 180등분 됨. 미국을 비롯한 소수의 국가에서만 여전히 공식적인 단위로 사용함\n",
    "\n",
    "\n",
    "    섭씨 온도 변환 공식\n",
    "    에서\t으로\t변환 공식\n",
    "    섭씨\t화씨\t°F = °C × 1.8 + 32\n",
    "    화씨\t섭씨\t°C = (°F − 32) / 1.8\n",
    "    섭씨\t켈빈\tK = °C + 273.15\n",
    "    켈빈\t섭씨\t°C = K − 273.15\n",
    "    섭씨\t란씨\t°Ra = °C × 1.8 + 32 + 459.67\n",
    "    란씨\t섭씨\t°C = (°Ra − 32 − 459.67) / 1.8\n",
    "    섭씨\t열씨\t°Ré = °C × 0.8\n",
    "    열씨\t섭씨\t°C = °Ré × 1.25\n",
    "  "
   ]
  },
  {
   "cell_type": "code",
   "execution_count": 78,
   "metadata": {
    "collapsed": true
   },
   "outputs": [],
   "source": [
    "class Converter(object):\n",
    "    def from_kelvin_to_celcius(self, kelvin):\n",
    "        return kelvin - 273.15"
   ]
  },
  {
   "cell_type": "code",
   "execution_count": 299,
   "metadata": {
    "collapsed": true
   },
   "outputs": [],
   "source": [
    "class Weather(object):\n",
    "    def __init__(self, data):            \n",
    "        self.temperature = sum(data) / len(data)"
   ]
  },
  {
   "cell_type": "markdown",
   "metadata": {},
   "source": [
    "- 클라이언트는 캐싱을 관리하고 API에 요청을 보내고, 변환하는 등의 작업을 함. 이에 대한 퍼사드를 만든다면 어떨까?\n",
    "- 클라이언트는 get_forecast 메소드를 사용해서 요청한 도시와 국가 2가지 문자열을 전달한다. 그리고 메소드는 오늘의 온도 예보를 섭씨로 반환함\n",
    "\n",
    "### get_forecast Logic\n",
    "\n",
    "1. 우선 반환 가능한 캐시 데이터가 있는지 확인하고 그 데이터가 있으면 반환\n",
    "2. 예보 API에 요청을 보내고\n",
    "3. 응답을 파싱하고\n",
    "4. 그 데이터를 가지고 날씨 인스턴스를 만든다.\n",
    "5. 섭씨로 변환하고\n",
    "6. 캐싱하고\n",
    "7. 클라이언트에 반환함\n",
    "8. 클라이언트는 훨씬 단순하지 않은가?"
   ]
  },
  {
   "cell_type": "markdown",
   "metadata": {},
   "source": [
    "- [1.18 시퀀스 요소에 이름 매핑 - Python Cookbook](http://nbviewer.ipython.org/github/re4lfl0w/ipython/blob/master/books/python_cookbook/ch01.ipynb#1.18-시퀀스-요소에-이름-매핑)"
   ]
  },
  {
   "cell_type": "code",
   "execution_count": 106,
   "metadata": {
    "collapsed": true
   },
   "outputs": [],
   "source": [
    "from collections import namedtuple"
   ]
  },
  {
   "cell_type": "code",
   "execution_count": 107,
   "metadata": {
    "collapsed": true
   },
   "outputs": [],
   "source": [
    "namedtuple?"
   ]
  },
  {
   "cell_type": "code",
   "execution_count": 133,
   "metadata": {
    "collapsed": false
   },
   "outputs": [],
   "source": [
    "obj = namedtuple('obj', ['city', 'country', 'celcius'])"
   ]
  },
  {
   "cell_type": "code",
   "execution_count": 134,
   "metadata": {
    "collapsed": true
   },
   "outputs": [],
   "source": [
    "cache = obj('Seoul', 'KR', 11.0)"
   ]
  },
  {
   "cell_type": "code",
   "execution_count": 135,
   "metadata": {
    "collapsed": false
   },
   "outputs": [
    {
     "data": {
      "text/plain": [
       "obj(city='Seoul', country='KR', celcius=11.0)"
      ]
     },
     "execution_count": 135,
     "metadata": {},
     "output_type": "execute_result"
    }
   ],
   "source": [
    "cache"
   ]
  },
  {
   "cell_type": "code",
   "execution_count": 136,
   "metadata": {
    "collapsed": false
   },
   "outputs": [
    {
     "data": {
      "text/plain": [
       "'Seoul'"
      ]
     },
     "execution_count": 136,
     "metadata": {},
     "output_type": "execute_result"
    }
   ],
   "source": [
    "cache.city"
   ]
  },
  {
   "cell_type": "code",
   "execution_count": 137,
   "metadata": {
    "collapsed": false
   },
   "outputs": [
    {
     "data": {
      "text/plain": [
       "'KR'"
      ]
     },
     "execution_count": 137,
     "metadata": {},
     "output_type": "execute_result"
    }
   ],
   "source": [
    "cache.country"
   ]
  },
  {
   "cell_type": "code",
   "execution_count": null,
   "metadata": {
    "collapsed": true
   },
   "outputs": [],
   "source": []
  },
  {
   "cell_type": "code",
   "execution_count": 300,
   "metadata": {
    "collapsed": true
   },
   "outputs": [],
   "source": [
    "class Facade(object):\n",
    "    def get_forecast(self, city, country):\n",
    "        cache = Cache('myfile')\n",
    "        \n",
    "        cache_result = cache.load()\n",
    "        \n",
    "        if cache_result and \\\n",
    "    cache_result.get('city') == city and\\\n",
    "    cache_result.get('country') == country:\n",
    "            return cache_result.get('celcius')\n",
    "        else:\n",
    "            weather_provider = WeatherProvider()\n",
    "            weather_data = weather_provider.get_weather_data(city, country)\n",
    "            \n",
    "            parser = Parser()\n",
    "            parsed_data = parser.parse_weather_data(weather_data)\n",
    "            \n",
    "            weather = Weather(parsed_data)\n",
    "            converter = Converter()\n",
    "            temperature_celcius = converter.from_kelvin_to_celcius(\n",
    "                weather.temperature)\n",
    "            \n",
    "            cache.save(city, country, temperature_celcius)\n",
    "            return temperature_celcius"
   ]
  },
  {
   "cell_type": "code",
   "execution_count": 312,
   "metadata": {
    "collapsed": false
   },
   "outputs": [
    {
     "name": "stdout",
     "output_type": "stream",
     "text": [
      "8.54\n"
     ]
    }
   ],
   "source": [
    "if __name__ == '__main__':\n",
    "    facade = Facade()\n",
    "    print(facade.get_forecast('London', 'UK'))"
   ]
  },
  {
   "cell_type": "code",
   "execution_count": 313,
   "metadata": {
    "collapsed": false
   },
   "outputs": [
    {
     "name": "stdout",
     "output_type": "stream",
     "text": [
      "11.22\n"
     ]
    }
   ],
   "source": [
    "if __name__ == '__main__':\n",
    "    facade = Facade()\n",
    "    print(facade.get_forecast('Seoul', 'KR'))"
   ]
  },
  {
   "cell_type": "code",
   "execution_count": 321,
   "metadata": {
    "collapsed": true
   },
   "outputs": [],
   "source": [
    "from numpy import mean"
   ]
  },
  {
   "cell_type": "code",
   "execution_count": 326,
   "metadata": {
    "collapsed": true
   },
   "outputs": [],
   "source": [
    "a = [1, 2, 4]"
   ]
  },
  {
   "cell_type": "code",
   "execution_count": 327,
   "metadata": {
    "collapsed": false
   },
   "outputs": [
    {
     "data": {
      "text/plain": [
       "2.3333333333333335"
      ]
     },
     "execution_count": 327,
     "metadata": {},
     "output_type": "execute_result"
    }
   ],
   "source": [
    "mean(a)"
   ]
  },
  {
   "cell_type": "code",
   "execution_count": 181,
   "metadata": {
    "collapsed": false
   },
   "outputs": [],
   "source": [
    "!rm -rf myfile"
   ]
  },
  {
   "cell_type": "code",
   "execution_count": 153,
   "metadata": {
    "collapsed": false
   },
   "outputs": [
    {
     "name": "stdout",
     "output_type": "stream",
     "text": [
      "total 360\r\n",
      "-rw-r--r--   1 re4lfl0w  staff     24  3  7  2015 __init__.py\r\n",
      "drwxr-xr-x   4 re4lfl0w  staff    136  3  7  2015 \u001b[34mch01\u001b[m\u001b[m/\r\n",
      "-rw-------   1 re4lfl0w  staff  14567  9 26 19:58 ch01.ipynb\r\n",
      "drwxr-xr-x   6 re4lfl0w  staff    204  3  7  2015 \u001b[34mch02\u001b[m\u001b[m/\r\n",
      "-rw-r--r--   1 re4lfl0w  staff  33683  9 26 23:47 ch02.ipynb\r\n",
      "drwxr-xr-x   5 re4lfl0w  staff    170  3  7  2015 \u001b[34mch03\u001b[m\u001b[m/\r\n",
      "-rw-r--r--   1 re4lfl0w  staff  26043  9 27 02:49 ch03.ipynb\r\n",
      "-rw-r--r--   1 re4lfl0w  staff  74928  9 27 05:20 ch04.ipynb\r\n",
      "drwxr-xr-x   4 re4lfl0w  staff    136  3  7  2015 \u001b[34mch05\u001b[m\u001b[m/\r\n",
      "drwxr-xr-x   3 re4lfl0w  staff    102  3  7  2015 \u001b[34mch06\u001b[m\u001b[m/\r\n",
      "drwxr-xr-x   3 re4lfl0w  staff    102  3  7  2015 \u001b[34mch07\u001b[m\u001b[m/\r\n",
      "-rw-r--r--   1 re4lfl0w  staff   4638  9 26 22:43 crawler.py\r\n",
      "drwxr-xr-x   4 re4lfl0w  staff    136  9 26 23:44 \u001b[34mimages\u001b[m\u001b[m/\r\n",
      "-rw-r--r--   1 re4lfl0w  staff     10  9 26 19:53 last_short.p\r\n",
      "-rw-r--r--   1 re4lfl0w  staff    132  9 27 05:19 myfile\r\n",
      "-rw-r--r--   1 re4lfl0w  staff    230  9 26 19:53 short_to_url.p\r\n",
      "drwxr-xr-x  13 re4lfl0w  staff    442  9 26 23:58 \u001b[34msrc\u001b[m\u001b[m/\r\n"
     ]
    }
   ],
   "source": [
    "%ll"
   ]
  },
  {
   "cell_type": "markdown",
   "metadata": {},
   "source": [
    "### 논리적 오류\n",
    "\n",
    "- cache가 있는지만 확인하기 때문에 나라와 도시를 변경하면 제대로 작동하지 않는다.\n",
    "- 저장할 때 온도 -> 나라, 도시, 온도 이렇게 저장해서 비교를 해야할듯\n",
    "- pickle로 저장할 때 namedtuple로 저장이 안되길래 모두 dictionary 형태로 저장시켜 버림\n",
    "- 그리고 불러오고 city, country 가 일치하면 cache의 ceclius를 돌려주고 아니면 다시 받아옴"
   ]
  },
  {
   "cell_type": "code",
   "execution_count": 295,
   "metadata": {
    "collapsed": false
   },
   "outputs": [
    {
     "name": "stdout",
     "output_type": "stream",
     "text": [
      "(dp0\r\n",
      "S'city'\r\n",
      "p1\r\n",
      "S'Seoul'\r\n",
      "p2\r\n",
      "sS'celcius'\r\n",
      "p3\r\n",
      "F11.220000000000027\r\n",
      "sS'expired'\r\n",
      "p4\r\n",
      "cdatetime\r\n",
      "datetime\r\n",
      "p5\r\n",
      "(S'\\x07\\xdf\\t\\x1a\\x17 \\x10\\x00|\\xdc'\r\n",
      "p6\r\n",
      "tp7\r\n",
      "Rp8\r\n",
      "sS'country'\r\n",
      "p9\r\n",
      "S'KR'\r\n",
      "p10\r\n",
      "s."
     ]
    }
   ],
   "source": [
    "!cat myfile"
   ]
  },
  {
   "cell_type": "code",
   "execution_count": 91,
   "metadata": {
    "collapsed": false
   },
   "outputs": [
    {
     "name": "stdout",
     "output_type": "stream",
     "text": [
      "myfile: ASCII text\r\n"
     ]
    }
   ],
   "source": [
    "!file myfile"
   ]
  },
  {
   "cell_type": "markdown",
   "metadata": {},
   "source": [
    "## 요약\n",
    "\n",
    "- 퍼사드는 복잡한 서브시스템에 단순한 인터페이스를 제공할 때 사용함\n",
    "- 클라이언트와의 모든 상호작용이 퍼사드를 통해 이루어지기 때문에 퍼사드 패턴은 서브시스템에 유연성을 부여함\n",
    "- 퍼사드 내부에서 사용하지만 클라이언트 코드와는 관련없는 외부 라이브러리에 대한 의존성을 낮춤\n",
    "- 프록시는 객체간 상호작용을 단순하게 만드는데 도움을 줌\n",
    "- 실행 시간에 교체 가능한 여러 리시버에 정보를 전송하기 위한 디자인 패턴인 옵저버에 대해서도 다룸"
   ]
  }
 ],
 "metadata": {
  "kernelspec": {
   "display_name": "Python 2",
   "language": "python",
   "name": "python2"
  },
  "language_info": {
   "codemirror_mode": {
    "name": "ipython",
    "version": 2
   },
   "file_extension": ".py",
   "mimetype": "text/x-python",
   "name": "python",
   "nbconvert_exporter": "python",
   "pygments_lexer": "ipython2",
   "version": "2.7.10"
  }
 },
 "nbformat": 4,
 "nbformat_minor": 0
}
