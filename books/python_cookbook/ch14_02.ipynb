{
 "metadata": {
  "name": "",
  "signature": "sha256:8cc346fcac1bb7864c80d08220b49a3817476c654994164a2feb87fdcbdb4183"
 },
 "nbformat": 3,
 "nbformat_minor": 0,
 "worksheets": [
  {
   "cells": [
    {
     "cell_type": "markdown",
     "metadata": {},
     "source": [
      "## 14.11 \uacbd\uace0 \uba54\uc2dc\uc9c0 \uc0dd\uc131\n",
      "\n",
      "### \ubb38\uc81c\n",
      "\n",
      "- \ud504\ub85c\uadf8\ub7a8\uc5d0\uc11c \uacbd\uace0 \uba54\uc2dc\uc9c0\ub97c \ud45c\uc2dc\ud558\uace0 \uc2f6\ub2e4(\ub354 \uc774\uc0c1 \uc9c0\uc6d0\ud558\uc9c0 \uc54a\ub294 \uae30\ub2a5\uc774\ub098 \uc0ac\uc6a9\uc2dc \ubb38\uc81c\uc810 \ub4f1)\n",
      "\n",
      "### \ud574\uacb0\n",
      "\n",
      "- \ud504\ub85c\uadf8\ub7a8\uc5d0\uc11c \uacbd\uace0 \uba54\uc2dc\uc9c0\ub97c \uc0dd\uc131\ud558\ub824\uba74 warning.warn() \ud568\uc218\ub97c \uc0ac\uc6a9\ud568"
     ]
    },
    {
     "cell_type": "code",
     "collapsed": false,
     "input": [
      "%cd 14"
     ],
     "language": "python",
     "metadata": {},
     "outputs": [
      {
       "output_type": "stream",
       "stream": "stdout",
       "text": [
        "/Users/re4lfl0w/Documents/ipython/books/python_cookbook/14\n"
       ]
      }
     ],
     "prompt_number": 17
    },
    {
     "cell_type": "code",
     "collapsed": false,
     "input": [
      "%%writefile warn.py\n",
      "import warnings\n",
      "\n",
      "def func(x, y, logfile=None, debug=False):\n",
      "    if logfile is not None:\n",
      "        warnings.warn('logfile argument deprecated', DeprecationWarning)\n",
      "        \n",
      "func(3, 4, '1.txt')"
     ],
     "language": "python",
     "metadata": {},
     "outputs": [
      {
       "output_type": "stream",
       "stream": "stdout",
       "text": [
        "Writing warn.py\n"
       ]
      }
     ],
     "prompt_number": 4
    },
    {
     "cell_type": "markdown",
     "metadata": {},
     "source": [
      "- warn() \uacbd\uace0 \uba54\uc2dc\uc9c0\uc640 \uacbd\uace0 \ud074\ub798\uc2a4\ub97c \ud568\uaed8 \uc778\uc790\ub85c \uc804\ub2ec\ud568\n",
      "- \uc77c\ubc18\uc801\uc73c\ub85c \uc0ac\uc6a9\ud558\ub294 \ud074\ub798\uc2a4\ub294 UserWarning, DeprecationWarning, SyntaxWarning, RuntimeWarning, ResourceWarning, FutureWarning \ub4f1\n",
      "- \uacbd\uace0 \ucc98\ub9ac\ub294 \uc778\ud130\ud504\ub9ac\ud130\ub97c \uc5b4\ub5bb\uac8c \uc2e4\ud589\ud588\ub294\uc9c0\uc640 \ud658\uacbd \uc124\uc815\uc5d0 \ub530\ub77c \ub2ec\ub77c\uc9d0\n",
      "- \uc608\ub97c \ub4e4\uc5b4 \ud30c\uc774\uc36c\uc744 \uc2e4\ud589\ud560 \ub54c -W all \uc635\uc158\uc744 \uc0ac\uc6a9\ud588\ub2e4\uba74 \ub2e4\uc74c\uacfc \uac19\uc740 \uacb0\uacfc\uac00 \ub098\uc634"
     ]
    },
    {
     "cell_type": "code",
     "collapsed": false,
     "input": [
      "!python3 warn.py"
     ],
     "language": "python",
     "metadata": {},
     "outputs": [],
     "prompt_number": 10
    },
    {
     "cell_type": "code",
     "collapsed": false,
     "input": [
      "!python3 -W all warn.py"
     ],
     "language": "python",
     "metadata": {},
     "outputs": [
      {
       "output_type": "stream",
       "stream": "stdout",
       "text": [
        "warn.py:5: DeprecationWarning: logfile argument deprecated\r\n",
        "  warnings.warn('logfile argument deprecated', DeprecationWarning)\r\n"
       ]
      }
     ],
     "prompt_number": 11
    },
    {
     "cell_type": "code",
     "collapsed": false,
     "input": [
      "!python3 -W error warn.py"
     ],
     "language": "python",
     "metadata": {},
     "outputs": [
      {
       "output_type": "stream",
       "stream": "stdout",
       "text": [
        "Traceback (most recent call last):\r\n",
        "  File \"warn.py\", line 7, in <module>\r\n",
        "    func(3, 4, '1.txt')\r\n",
        "  File \"warn.py\", line 5, in func\r\n",
        "    warnings.warn('logfile argument deprecated', DeprecationWarning)\r\n",
        "DeprecationWarning: logfile argument deprecated\r\n"
       ]
      }
     ],
     "prompt_number": 12
    },
    {
     "cell_type": "markdown",
     "metadata": {},
     "source": [
      "### \ud1a0\ub860\n",
      "\n",
      "- \uacbd\uace0 \uba54\uc2dc\uc9c0 \uc0dd\uc131\ud558\uae30\ub294 \uc18c\ud504\ud2b8\uc6e8\uc5b4\ub97c \uc720\uc9c0\ud558\uace0 \uc608\uc678\ub97c \ubc1c\uc0dd\uc2dc\ud0a4\uc9c0\ub3c4 \uc54a\ub294, \uc0ac\uc18c\ud55c \ubb38\uc81c\ub97c \uc0ac\uc6a9\uc790\uc5d0\uac8c \uc804\ub2ec\ud560 \ub54c \uc720\uc6a9\ud55c \uae30\uc220\n",
      "- \uc608\ub97c \ub4e4\uc5b4 \ub77c\uc774\ube0c\ub7ec\ub9ac\ub098 \ud504\ub808\uc784\uc6cc\ud06c\uc758 \ub3d9\uc791\uc744 \ubcc0\uacbd\ud560 \uc608\uc815\uc774\ub77c\uba74, \uae30\uc874 \uae30\ub2a5\uc744 \uc81c\uacf5\ud558\ub294 \ub3d9\uc548 \uc55e\uc73c\ub85c \ubc14\ub014 \ub0b4\uc6a9\uc744 \uacbd\uace0 \uba54\uc2dc\uc9c0\ub85c \ud45c\uc2dc\ud560 \uc218 \uc788\uc74c\n",
      "- \uadf8\ub9ac\uace0 \uc0ac\uc6a9\uc790\uac00 \ucf54\ub4dc\ub97c \uc798\ubabb \uc0ac\uc6a9\ud558\uace0 \uc788\ub294 \uacbd\uc6b0\uc5d0\ub3c4 \uacbd\uace0\ud560 \uc218 \uc788\uc74c\n",
      "- \ub0b4\uc7a5\ub41c \ub77c\uc774\ube0c\ub7ec\ub9ac\uc5d0\uc11c \uacbd\uace0 \uba54\uc2dc\uc9c0\ub97c \uc0ac\uc6a9\ud558\ub294 \uc608\uc81c\ub97c \ubcf4\uc790\n",
      "- \ub2e4\uc74c\uc740 \ud30c\uc77c\uc744 \ub2eb\uc9c0 \uc54a\uace0 \uc81c\uac70\ud560 \ub54c \ubc1c\uc0dd\ud558\ub294 \uacbd\uace0 \uba54\uc2dc\uc9c0"
     ]
    },
    {
     "cell_type": "code",
     "collapsed": false,
     "input": [
      "import warnings\n",
      "warnings.simplefilter('always')\n",
      "f = open('/etc/passwd')\n",
      "del f"
     ],
     "language": "python",
     "metadata": {},
     "outputs": [
      {
       "output_type": "stream",
       "stream": "stderr",
       "text": [
        "-c:4: ResourceWarning: unclosed file <_io.TextIOWrapper name='/etc/passwd' mode='r' encoding='UTF-8'>\n"
       ]
      }
     ],
     "prompt_number": 13
    },
    {
     "cell_type": "markdown",
     "metadata": {},
     "source": [
      "- \uae30\ubcf8\uc801\uc73c\ub85c \ubaa8\ub4e0 \uacbd\uace0 \uba54\uc2dc\uc9c0\uac00 \ub098\ud0c0\ub098\uc9c0\ub294 \uc54a\uc74c\n",
      "- \ud30c\uc774\uc36c\uc5d0 -W \uc635\uc158\uc73c\ub85c \uacbd\uace0 \uba54\uc2dc\uc9c0 \ucd9c\ub825 \uc81c\uc5b4 \uac00\ub2a5\n",
      "  - -W all: \ubaa8\ub4e0 \uacbd\uace0 \uba54\uc2dc\uc9c0 \ucd9c\ub825\n",
      "  - -W ignore: \ubaa8\ub4e0 \uacbd\uace0 \uba54\uc2dc\uc9c0\ub97c \ubb34\uc2dc\n",
      "  - -W error: \ubaa8\ub4e0 \uacbd\uace0\ub97c \uc608\uc678\ub85c \ubcc0\uacbd\n",
      "- \ud639\uc740 warnings.simplefilter() \ud568\uc218\ub85c \uacb0\uacfc \ucd9c\ub825\uc744 \uc81c\uc5b4 \uac00\ub2a5\n",
      "  - always: \ubaa8\ub4e0 \uacbd\uace0 \uba54\uc2dc\uc9c0\uac00 \ub098\ud0c0\ub0a8\n",
      "  - ignore: \ubaa8\ub4e0 \uacbd\uace0\ub97c \ubb34\uc2dc\n",
      "  - error: \ubaa8\ub4e0 \uacbd\uace0\ub97c \uc608\uc678\ub85c \ubcc0\uacbd\n",
      "- \uac04\ub2e8\ud55c \uacbd\uc6b0\uc5d0 \uc55e\uc5d0 \ub098\uc628 \ub0b4\uc6a9\ub9cc\uc73c\ub85c \uacbd\uace0 \uba54\uc2dc\uc9c0\ub97c \ub2e4\ub8e8\ub294 \ub370 \ubd80\uc871\ud568\uc774 \uc5c6\uc74c\n",
      "- warnings \ubaa8\ub4c8\uc5d0 \uacbd\uace0 \uba54\uc2dc\uc9c0\ub97c \uac78\ub7ec \ub0b4\uac70\ub098 \ucc98\ub9ac\ud558\ub294 \uace0\uae09 \uae30\ub2a5\uc774 \ub354 \ub9ce\uc774 \uc788\uc74c"
     ]
    },
    {
     "cell_type": "markdown",
     "metadata": {},
     "source": [
      "#### warnings \ucc38\uace0 \uc0ac\uc774\ud2b8\n",
      "\n",
      "- [warnings \u2013 Non-fatal alerts - Python Module of the Week](http://pymotw.com/2/warnings/)\n",
      "- [27.6. warnings \u00e2\u0080\u0094 Warning control \u2014 Python 2.7.8 documentation](https://docs.python.org/2/library/warnings.html)"
     ]
    },
    {
     "cell_type": "markdown",
     "metadata": {},
     "source": [
      "## 14.12 \ud504\ub85c\uadf8\ub7a8 \ud06c\ub798\uc2dc \ub514\ubc84\uae45\n",
      "\n",
      "### \ubb38\uc81c\n",
      "\n",
      "- \ud504\ub85c\uadf8\ub7a8\uc5d0 \ubb38\uc81c\uac00 \uc0dd\uaca8\uc11c \uac04\ub2e8\ud55c \ubc29\ubc95\uc73c\ub85c \ub514\ubc84\uae45\ud558\uace0 \uc2f6\uc74c\n",
      "\n",
      "### \ud574\uacb0\n",
      "\n",
      "- \uc608\uc678\ub97c \ubc1c\uc0dd\uc2dc\ud0a4\uba70 \ud504\ub85c\uadf8\ub7a8\uc774 \ud06c\ub798\uc2dc\ud588\ub2e4\uba74, python3 -i someprogram.py \ud615\uc2dd\uc73c\ub85c \ud504\ub85c\uadf8\ub7a8\uc744 \uc2e4\ud589\ud574\uc11c \uc880 \ub354 \ub9ce\uc740 \uc815\ubcf4\ub97c \uc5bb\uc744 \uc218 \uc788\uc74c\n",
      "- -i \uc635\uc158\uc744 \ubd99\uc774\uba74 \ud504\ub85c\uadf8\ub7a8\uc774 \uc885\ub8cc\ud558\ub294 \uc989\uc2dc \uc778\ud130\ub799\ud2f0\ube0c \uc258 \uc2dc\uc791\n",
      "- \uac70\uae30\uc11c\ubd80\ud130 \ud658\uacbd \uc870\uc0ac \uac00\ub2a5"
     ]
    },
    {
     "cell_type": "code",
     "collapsed": false,
     "input": [
      "%%writefile sample.py\n",
      "def func(n):\n",
      "    return n + 10\n",
      "\n",
      "func('Hello')"
     ],
     "language": "python",
     "metadata": {},
     "outputs": [
      {
       "output_type": "stream",
       "stream": "stdout",
       "text": [
        "Writing sample.py\n"
       ]
      }
     ],
     "prompt_number": 15
    },
    {
     "cell_type": "code",
     "collapsed": false,
     "input": [
      "!python3 -i sample.py"
     ],
     "language": "python",
     "metadata": {},
     "outputs": [
      {
       "output_type": "stream",
       "stream": "stdout",
       "text": [
        "Traceback (most recent call last):\r\n",
        "  File \"sample.py\", line 4, in <module>\r\n",
        "    func('Hello')\r\n",
        "  File \"sample.py\", line 2, in func\r\n",
        "    return n + 10\r\n",
        "TypeError: Can't convert 'int' object to str implicitly\r\n",
        ">>> "
       ]
      },
      {
       "output_type": "stream",
       "stream": "stdout",
       "text": [
        "\r\n",
        "KeyboardInterrupt\r\n",
        "\r\n",
        ">>> \r\n",
        ">>> "
       ]
      }
     ],
     "prompt_number": 16
    },
    {
     "cell_type": "markdown",
     "metadata": {},
     "source": [
      "- \uadf8\ub798\ub3c4 \uc5b4\ub514\uc11c \uc798\ubabb\ub41c \uac83\uc778\uc9c0 \ud655\uc2e4\ud788 \ubaa8\ub974\uaca0\ub2e4\uba74, \ud06c\ub798\uc2dc \uc774\ud6c4 \ud30c\uc774\uc36c debugger\ub97c \uc2e4\ud589\ud574\uc57c \ud568"
     ]
    },
    {
     "cell_type": "code",
     "collapsed": false,
     "input": [
      "def func(n):\n",
      "    return n + 10\n",
      "\n",
      "func('Hello')"
     ],
     "language": "python",
     "metadata": {},
     "outputs": [
      {
       "ename": "TypeError",
       "evalue": "Can't convert 'int' object to str implicitly",
       "output_type": "pyerr",
       "traceback": [
        "\u001b[0;31m---------------------------------------------------------------------------\u001b[0m\n\u001b[0;31mTypeError\u001b[0m                                 Traceback (most recent call last)",
        "\u001b[0;32m<ipython-input-18-58e3830df208>\u001b[0m in \u001b[0;36m<module>\u001b[0;34m()\u001b[0m\n\u001b[1;32m      2\u001b[0m     \u001b[0;32mreturn\u001b[0m \u001b[0mn\u001b[0m \u001b[0;34m+\u001b[0m \u001b[0;36m10\u001b[0m\u001b[0;34m\u001b[0m\u001b[0m\n\u001b[1;32m      3\u001b[0m \u001b[0;34m\u001b[0m\u001b[0m\n\u001b[0;32m----> 4\u001b[0;31m \u001b[0mfunc\u001b[0m\u001b[0;34m(\u001b[0m\u001b[0;34m'Hello'\u001b[0m\u001b[0;34m)\u001b[0m\u001b[0;34m\u001b[0m\u001b[0m\n\u001b[0m",
        "\u001b[0;32m<ipython-input-18-58e3830df208>\u001b[0m in \u001b[0;36mfunc\u001b[0;34m(n)\u001b[0m\n\u001b[1;32m      1\u001b[0m \u001b[0;32mdef\u001b[0m \u001b[0mfunc\u001b[0m\u001b[0;34m(\u001b[0m\u001b[0mn\u001b[0m\u001b[0;34m)\u001b[0m\u001b[0;34m:\u001b[0m\u001b[0;34m\u001b[0m\u001b[0m\n\u001b[0;32m----> 2\u001b[0;31m     \u001b[0;32mreturn\u001b[0m \u001b[0mn\u001b[0m \u001b[0;34m+\u001b[0m \u001b[0;36m10\u001b[0m\u001b[0;34m\u001b[0m\u001b[0m\n\u001b[0m\u001b[1;32m      3\u001b[0m \u001b[0;34m\u001b[0m\u001b[0m\n\u001b[1;32m      4\u001b[0m \u001b[0mfunc\u001b[0m\u001b[0;34m(\u001b[0m\u001b[0;34m'Hello'\u001b[0m\u001b[0;34m)\u001b[0m\u001b[0;34m\u001b[0m\u001b[0m\n",
        "\u001b[0;31mTypeError\u001b[0m: Can't convert 'int' object to str implicitly"
       ]
      }
     ],
     "prompt_number": 18
    },
    {
     "cell_type": "code",
     "collapsed": false,
     "input": [
      "import pdb\n",
      "pdb.pm()"
     ],
     "language": "python",
     "metadata": {},
     "outputs": [
      {
       "output_type": "stream",
       "stream": "stdout",
       "text": [
        "> <ipython-input-18-58e3830df208>(2)func()\n",
        "-> return n + 10\n"
       ]
      },
      {
       "name": "stdout",
       "output_type": "stream",
       "stream": "stdout",
       "text": [
        "(Pdb) l\n"
       ]
      },
      {
       "output_type": "stream",
       "stream": "stdout",
       "text": [
        "  1  \tdef func(n):\n",
        "  2  ->\t    return n + 10\n",
        "  3  \t\n",
        "  4  \tfunc('Hello')\n",
        "[EOF]\n"
       ]
      },
      {
       "name": "stdout",
       "output_type": "stream",
       "stream": "stdout",
       "text": [
        "(Pdb) w\n"
       ]
      },
      {
       "output_type": "stream",
       "stream": "stdout",
       "text": [
        "  /Users/re4lfl0w/.virtualenvs/python3/lib/python3.4/site-packages/IPython/core/interactiveshell.py(2883)run_code()\n",
        "-> exec(code_obj, self.user_global_ns, self.user_ns)\n",
        "  <ipython-input-18-58e3830df208>(4)<module>()\n",
        "-> func('Hello')\n",
        "> <ipython-input-18-58e3830df208>(2)func()\n",
        "-> return n + 10\n"
       ]
      },
      {
       "name": "stdout",
       "output_type": "stream",
       "stream": "stdout",
       "text": [
        "(Pdb) print n\n"
       ]
      },
      {
       "output_type": "stream",
       "stream": "stdout",
       "text": [
        "*** SyntaxError: Missing parentheses in call to 'print'\n"
       ]
      },
      {
       "name": "stdout",
       "output_type": "stream",
       "stream": "stdout",
       "text": [
        "(Pdb) p n\n"
       ]
      },
      {
       "output_type": "stream",
       "stream": "stdout",
       "text": [
        "'Hello'\n"
       ]
      },
      {
       "name": "stdout",
       "output_type": "stream",
       "stream": "stdout",
       "text": [
        "(Pdb) print(n)\n"
       ]
      },
      {
       "output_type": "stream",
       "stream": "stdout",
       "text": [
        "Hello\n"
       ]
      },
      {
       "name": "stdout",
       "output_type": "stream",
       "stream": "stdout",
       "text": [
        "(Pdb) p n\n"
       ]
      },
      {
       "output_type": "stream",
       "stream": "stdout",
       "text": [
        "'Hello'\n"
       ]
      },
      {
       "name": "stdout",
       "output_type": "stream",
       "stream": "stdout",
       "text": [
        "(Pdb) l\n"
       ]
      },
      {
       "output_type": "stream",
       "stream": "stdout",
       "text": [
        "[EOF]\n"
       ]
      },
      {
       "name": "stdout",
       "output_type": "stream",
       "stream": "stdout",
       "text": [
        "(Pdb) q\n"
       ]
      }
     ],
     "prompt_number": 19
    },
    {
     "cell_type": "code",
     "collapsed": false,
     "input": [
      "%%writefile traceback_test.py\n",
      "import traceback\n",
      "import sys\n",
      "\n",
      "def func(n):\n",
      "    return n + 10\n",
      "\n",
      "try:\n",
      "    func(arg)\n",
      "except:\n",
      "    print('**** AN ERROR OCCURRED ****')\n",
      "    traceback.print_exc(file=sys.stderr)"
     ],
     "language": "python",
     "metadata": {},
     "outputs": [
      {
       "output_type": "stream",
       "stream": "stdout",
       "text": [
        "Writing traceback_test.py\n"
       ]
      }
     ],
     "prompt_number": 48
    },
    {
     "cell_type": "code",
     "collapsed": false,
     "input": [
      "!python3 traceback_test.py"
     ],
     "language": "python",
     "metadata": {},
     "outputs": [
      {
       "output_type": "stream",
       "stream": "stdout",
       "text": [
        "**** AN ERROR OCCURRED ****\r\n",
        "Traceback (most recent call last):\r\n",
        "  File \"/Users/re4lfl0w/Documents/ipython/books/python_cookbook/14/traceback.py\", line 8, in <module>\r\n",
        "    func(arg)\r\n",
        "NameError: name 'arg' is not defined\r\n",
        "\r\n",
        "During handling of the above exception, another exception occurred:\r\n",
        "\r\n",
        "Traceback (most recent call last):\r\n",
        "  File \"traceback_test.py\", line 1, in <module>\r\n",
        "    import traceback\r\n",
        "  File \"/Users/re4lfl0w/Documents/ipython/books/python_cookbook/14/traceback.py\", line 11, in <module>\r\n",
        "    traceback.print_exc(file=sys.stderr)\r\n",
        "AttributeError: 'module' object has no attribute 'print_exc'\r\n"
       ]
      }
     ],
     "prompt_number": 49
    },
    {
     "cell_type": "markdown",
     "metadata": {},
     "source": [
      "- \ud504\ub85c\uadf8\ub7a8\uc774 \ud06c\ub798\uc2dc\ud558\uc9c0\ub294 \uc54a\uc9c0\ub9cc, \uc608\uc0c1\ud55c \ub2f5\uc774 \uc544\ub2cc \uc774\uc0c1\ud55c \uac12\uc744 \uc0dd\uc131\ud55c\ub2e4\uba74 \uc5ec\uae30 \uc800\uae30 print() \ud638\ucd9c\uc744 \ucd94\uac00\ud574\uc11c \uc0b4\ud3b4\ubcfc \uc218 \uc788\ub2e4.\n",
      "- \ud558\uc9c0\ub9cc \uc774 \ubc29\uc2dd\uc744 \uc0ac\uc6a9\ud560 \uac83\uc774\ub77c\uba74 \uad00\ub828\ub41c \ud765\ubbf8\ub85c\uc6b4 \uae30\uc220\uc774 \uba87 \uac00\uc9c0 \uc874\uc7ac\n",
      "- \uccab\uc9f8\ub85c, traceback.print_stack() \ud568\uc218\ub294 \uc2e4\ud589\ud55c \uc9c0\uc810\uc73c\ub85c\ubd80\ud130 \ud504\ub85c\uadf8\ub7a8 \uc2a4\ud0dd\ud2b8\ub808\uc774\uc2a4\ub97c \uc0dd\uc131\ud568"
     ]
    },
    {
     "cell_type": "code",
     "collapsed": false,
     "input": [
      "%%writefile traceback_print_stack.py\n",
      "import traceback\n",
      "import sys\n",
      "\n",
      "def sample(n):\n",
      "    if n > 0:\n",
      "        sample(n-1)\n",
      "    else:\n",
      "        traceback.print_stack(file=sys.stderr)\n",
      "        \n",
      "sample(5)"
     ],
     "language": "python",
     "metadata": {},
     "outputs": [
      {
       "output_type": "stream",
       "stream": "stdout",
       "text": [
        "Overwriting traceback_print_stack.py\n"
       ]
      }
     ],
     "prompt_number": 57
    },
    {
     "cell_type": "code",
     "collapsed": false,
     "input": [
      "!python3 traceback_print_stack.py"
     ],
     "language": "python",
     "metadata": {},
     "outputs": [
      {
       "output_type": "stream",
       "stream": "stdout",
       "text": [
        "  File \"traceback_print_stack.py\", line 10, in <module>\r\n",
        "    sample(5)\r\n",
        "  File \"traceback_print_stack.py\", line 6, in sample\r\n",
        "    sample(n-1)\r\n",
        "  File \"traceback_print_stack.py\", line 6, in sample\r\n",
        "    sample(n-1)\r\n",
        "  File \"traceback_print_stack.py\", line 6, in sample\r\n",
        "    sample(n-1)\r\n",
        "  File \"traceback_print_stack.py\", line 6, in sample\r\n",
        "    sample(n-1)\r\n",
        "  File \"traceback_print_stack.py\", line 6, in sample\r\n",
        "    sample(n-1)\r\n",
        "  File \"traceback_print_stack.py\", line 8, in sample\r\n",
        "    traceback.print_stack(file=sys.stderr)\r\n"
       ]
      }
     ],
     "prompt_number": 58
    },
    {
     "cell_type": "markdown",
     "metadata": {},
     "source": [
      "- \ud639\uc740 pdb.set_trace()\ub97c \uc0ac\uc6a9\ud558\uba74 \ud504\ub85c\uadf8\ub7a8\uc758 \uc5b4\ub514\uc11c\ub098 \ub514\ubc84\uac70\ub97c \uc2e4\ud589\ud560 \uc218 \uc788\uc74c"
     ]
    },
    {
     "cell_type": "code",
     "collapsed": false,
     "input": [
      "import pdb\n",
      "\n",
      "def func(arg):\n",
      "    pdb.set_trace()\n",
      "    a = arg * 3\n",
      "    s = arg + 3    \n",
      "    \n",
      "func('argument')"
     ],
     "language": "python",
     "metadata": {},
     "outputs": [
      {
       "output_type": "stream",
       "stream": "stdout",
       "text": [
        "> <ipython-input-62-2e9075848a03>(5)func()\n",
        "-> a = arg * 3\n"
       ]
      },
      {
       "name": "stdout",
       "output_type": "stream",
       "stream": "stdout",
       "text": [
        "(Pdb) n\n"
       ]
      },
      {
       "output_type": "stream",
       "stream": "stdout",
       "text": [
        "> <ipython-input-62-2e9075848a03>(6)func()\n",
        "-> s = arg + 3\n"
       ]
      },
      {
       "name": "stdout",
       "output_type": "stream",
       "stream": "stdout",
       "text": [
        "(Pdb) l\n"
       ]
      },
      {
       "output_type": "stream",
       "stream": "stdout",
       "text": [
        "  1  \timport pdb\n",
        "  2  \t\n",
        "  3  \tdef func(arg):\n",
        "  4  \t    pdb.set_trace()\n",
        "  5  \t    a = arg * 3\n",
        "  6  ->\t    s = arg + 3\n",
        "  7  \t\n",
        "  8  \tfunc('argument')\n",
        "[EOF]\n"
       ]
      },
      {
       "name": "stdout",
       "output_type": "stream",
       "stream": "stdout",
       "text": [
        "(Pdb) p a\n"
       ]
      },
      {
       "output_type": "stream",
       "stream": "stdout",
       "text": [
        "'argumentargumentargument'\n"
       ]
      },
      {
       "name": "stdout",
       "output_type": "stream",
       "stream": "stdout",
       "text": [
        "(Pdb) n\n"
       ]
      },
      {
       "output_type": "stream",
       "stream": "stdout",
       "text": [
        "TypeError: Can't convert 'int' object to str implicitly\n",
        "> <ipython-input-62-2e9075848a03>(6)func()\n",
        "-> s = arg + 3\n"
       ]
      },
      {
       "name": "stdout",
       "output_type": "stream",
       "stream": "stdout",
       "text": [
        "(Pdb) c\n"
       ]
      },
      {
       "ename": "TypeError",
       "evalue": "Can't convert 'int' object to str implicitly",
       "output_type": "pyerr",
       "traceback": [
        "\u001b[0;31m---------------------------------------------------------------------------\u001b[0m\n\u001b[0;31mTypeError\u001b[0m                                 Traceback (most recent call last)",
        "\u001b[0;32m<ipython-input-62-2e9075848a03>\u001b[0m in \u001b[0;36m<module>\u001b[0;34m()\u001b[0m\n\u001b[1;32m      6\u001b[0m     \u001b[0ms\u001b[0m \u001b[0;34m=\u001b[0m \u001b[0marg\u001b[0m \u001b[0;34m+\u001b[0m \u001b[0;36m3\u001b[0m\u001b[0;34m\u001b[0m\u001b[0m\n\u001b[1;32m      7\u001b[0m \u001b[0;34m\u001b[0m\u001b[0m\n\u001b[0;32m----> 8\u001b[0;31m \u001b[0mfunc\u001b[0m\u001b[0;34m(\u001b[0m\u001b[0;34m'argument'\u001b[0m\u001b[0;34m)\u001b[0m\u001b[0;34m\u001b[0m\u001b[0m\n\u001b[0m",
        "\u001b[0;32m<ipython-input-62-2e9075848a03>\u001b[0m in \u001b[0;36mfunc\u001b[0;34m(arg)\u001b[0m\n\u001b[1;32m      4\u001b[0m     \u001b[0mpdb\u001b[0m\u001b[0;34m.\u001b[0m\u001b[0mset_trace\u001b[0m\u001b[0;34m(\u001b[0m\u001b[0;34m)\u001b[0m\u001b[0;34m\u001b[0m\u001b[0m\n\u001b[1;32m      5\u001b[0m     \u001b[0ma\u001b[0m \u001b[0;34m=\u001b[0m \u001b[0marg\u001b[0m \u001b[0;34m*\u001b[0m \u001b[0;36m3\u001b[0m\u001b[0;34m\u001b[0m\u001b[0m\n\u001b[0;32m----> 6\u001b[0;31m     \u001b[0ms\u001b[0m \u001b[0;34m=\u001b[0m \u001b[0marg\u001b[0m \u001b[0;34m+\u001b[0m \u001b[0;36m3\u001b[0m\u001b[0;34m\u001b[0m\u001b[0m\n\u001b[0m\u001b[1;32m      7\u001b[0m \u001b[0;34m\u001b[0m\u001b[0m\n\u001b[1;32m      8\u001b[0m \u001b[0mfunc\u001b[0m\u001b[0;34m(\u001b[0m\u001b[0;34m'argument'\u001b[0m\u001b[0;34m)\u001b[0m\u001b[0;34m\u001b[0m\u001b[0m\n",
        "\u001b[0;31mTypeError\u001b[0m: Can't convert 'int' object to str implicitly"
       ]
      }
     ],
     "prompt_number": 62
    },
    {
     "cell_type": "markdown",
     "metadata": {},
     "source": [
      "- \uc774 \uae30\uc220\uc740 \uac70\ub300\ud55c \ud504\ub85c\uadf8\ub7a8\uc758 \uc2e4\ud589 \ud750\ub984\uc774\ub098 \ud568\uc218\uc758 \uc778\uc790\uc640 \uac19\uc774 \ub0b4\ubd80\ub97c \uc0b4\ud3b4\ubcfc \ub54c \uc720\uc6a9\n",
      "- \uc608\ub97c \ub4e4\uc5b4 \ub514\ubc84\uac70\ub97c \uc2dc\uc791\ud558\uace0 \ub098\uba74 print\ub85c \ubcc0\uc218\uc758 \uac12\uc744 \ubcf4\uac70\ub098, w\uc640 \uac19\uc740 \uba85\ub839\uc5b4\ub85c \uc2a4\ud0dd \ud2b8\ub808\uc774\uc2a4\ubc31\uc744 \uc5bb\uc744 \uc218 \uc788\uc74c"
     ]
    },
    {
     "cell_type": "markdown",
     "metadata": {},
     "source": [
      "### \ud1a0\ub860\n",
      "\n",
      "- \ud544\uc694 \uc774\uc0c1\uc73c\ub85c \ub514\ubc84\uae45\uc744 \ubcf5\uc7a1\ud558\uac8c \ub9cc\ub4e4 \ud544\uc694 \uc5c6\uc74c\n",
      "- \uac04\ub2e8\ud55c \uc5d0\ub7ec\ub294 \ud504\ub85c\uadf8\ub7a8 \ud2b8\ub808\uc774\uc2a4\ubc31\uc744 **\uc77d\uae30\ub9cc \ud574\ub3c4** \ud574\uacb0 \uac00\ub2a5\ud55c \uacbd\uc6b0\uac00 \ub9ce\uc74c(\uc608: \uc2e4\uc81c \uc5d0\ub7ec\ub294 \ub300\uac8c \ud2b8\ub808\uc774\uc2a4\ubc31 \ub9c8\uc9c0\ub9c9 \uc904\uc5d0 \uc788\uc74c)\n",
      "- \uac1c\ubc1c\uc911\uc5d0\ub294 \ucf54\ub4dc \uc911\uac04 \uc911\uac04\uc5d0 print() \ud568\uc218\ub97c \uc0bd\uc785\ud558\ub294 \uac83\ub9cc\uc73c\ub85c\ub3c4 \ub9ce\uc740 \uc815\ubcf4\ub97c \uc5bb\uc744 \uc218 \uc788\uc74c(\ub2e8, \uac1c\ubc1c\uc744 \ub9c8\uce5c \ud6c4\uc5d0 \uc78a\uc9c0 \ub9d0\uace0 \uc81c\uac70\ud574\uc57c \ud568)\n",
      "- \ub514\ubc84\uae30\ub294 \uc77c\ubc18\uc801\uc73c\ub85c \ud504\ub85c\uadf8\ub7a8\uc774 \ud06c\ub798\uc2dc\ud588\uc744 \ub54c \ud568\uc218 \ub0b4\ubd80\uc758 \ubcc0\uc218 \ub0b4\uc6a9\uc744 \ubcf4\ub294 \uc6a9\ub3c4\ub85c \uc0ac\uc6a9\ud568\n",
      "- **\ud06c\ub798\uc2dc\uac00 \ubc1c\uc0dd\ud55c \ud6c4**\uc5d0 **\ub514\ubc84\uac70\ub97c \uc2dc\uc791\ud558\ub294 \ubc29\ubc95\uc740 \uc720\uc6a9**\ud55c \uae30\uc220\n",
      "- pdb.set_trace() \uad6c\ubb38\uc744 \ub123\uc73c\uba74 \ub0b4\ubd80\uc758 \ud750\ub984\uc774 \uc5b4\ub5bb\uac8c \ub3cc\uc544\uac00\ub294\uc9c0 \uc815\ud655\ud558\uac8c \uc54c\uc9c0 \ubabb\ud558\ub294 \ub9e4\uc6b0 \ubcf5\uc7a1\ud55c \ud504\ub85c\uadf8\ub7a8\uc744 \ub514\ubc84\uae45\ud560 \ub54c \uc720\uc6a9\ud568\n",
      "- \uadfc\ubcf8\uc801\uc73c\ub85c, \ud504\ub85c\uadf8\ub7a8\uc740 set_trace() \ud638\ucd9c\uc774 \ub098\uc62c \ub54c\uae4c\uc9c0 \uc2e4\ud589\ub418\uace0, \ud638\ucd9c\ud558\ub294 \uc21c\uac04 \uc989\uc2dc \ub514\ubc84\uac70\ub85c \ub3cc\uc785\ud568. \uac70\uae30\uc11c\ubd80\ud130 \ub514\ubc84\uae45\uc744 \uc2dc\uc791\ud558\uba74 \ub428\n",
      "- \ud30c\uc774\uc36c \uac1c\ubc1c\uc5d0 IDE\ub97c \uc0ac\uc6a9\ud55c\ub2e4\uba74, IDE\uac00 pdb\ub97c \uc0ac\uc6a9\ud574\uc11c \uc790\uccb4\uc801\uc73c\ub85c \ub514\ubc84\uae45 \uc778\ud130\ud398\uc774\uc2a4\ub97c \uc81c\uacf5\ud558\ub294 \uac83\uc774 \uc77c\ubc18\uc801\n",
      "- \uc790\uc138\ud55c \uc815\ubcf4\ub294 \uc0ac\uc6a9\uc911\uc778 IDE\uc758 \uba54\ub274\uc5bc \ucc38\uace0\n",
      "\n",
      "#### PyCharm debugging\n",
      "\n",
      "- [Running and Debugging](https://www.jetbrains.com/pycharm/webhelp/running-and-debugging.html)\n",
      "- [Debugging](https://www.jetbrains.com/pycharm/webhelp/debugging.html)"
     ]
    },
    {
     "cell_type": "markdown",
     "metadata": {},
     "source": [
      "## 14.13 \ud504\ub85c\ud30c\uc77c\ub9c1\uacfc \ud0c0\uc774\ubc0d\n",
      "\n",
      "### \ubb38\uc81c\n",
      "\n",
      "- \ud504\ub85c\uadf8\ub7a8\uc5d0\uc11c \uc2dc\uac04\uc744 \ub9ce\uc774 \uc18c\ube44\ud558\ub294 \uacf3\uc774 \uc5b4\ub514\uc778\uc9c0 \ucc3e\uace0 \uadf8 \uc2dc\uac04\uc744 \uce21\uc815\ud558\uace0 \uc2f6\ub2e4\n",
      "\n",
      "### \ud574\uacb0\n",
      "\n",
      "- \ud504\ub85c\uadf8\ub7a8\uc758 \uc804\uccb4 \uc2e4\ud589 \uc2dc\uac04\uc744 \uce21\uc815\ud558\uace0 \uc2f6\ub2e4\uba74 Unix\uc758 time \uba85\ub839\ub9cc\uc73c\ub85c\ub3c4 \ucda9\ubd84\ud558\ub2e4"
     ]
    },
    {
     "cell_type": "code",
     "collapsed": false,
     "input": [
      "%%writefile time_test.py\n",
      "def add(a, b):\n",
      "    return a + b\n",
      "\n",
      "def main(MAX):\n",
      "    total = 0\n",
      "    for i in range(MAX):\n",
      "        total += add(i, i)\n",
      "        \n",
      "main(10000000)"
     ],
     "language": "python",
     "metadata": {},
     "outputs": [
      {
       "output_type": "stream",
       "stream": "stdout",
       "text": [
        "Overwriting time_test.py\n"
       ]
      }
     ],
     "prompt_number": 76
    },
    {
     "cell_type": "code",
     "collapsed": false,
     "input": [
      "!time python3 time_test.py"
     ],
     "language": "python",
     "metadata": {},
     "outputs": [
      {
       "output_type": "stream",
       "stream": "stdout",
       "text": [
        "\r\n",
        "real\t0m2.105s\r\n",
        "user\t0m2.093s\r\n",
        "sys\t0m0.008s\r\n"
       ]
      }
     ],
     "prompt_number": 77
    },
    {
     "cell_type": "markdown",
     "metadata": {},
     "source": [
      "- \ud558\uc9c0\ub9cc \ud504\ub85c\uadf8\ub7a8\uc774 \uc5b4\ub5a4 \uc77c\uc744 \ud558\uace0 \uc788\ub294\uc9c0 \uc138\uc138\ud55c \uc815\ubcf4\uac00 \ud544\uc694\ud558\ub2e4\uba74 cProfile \ubaa8\ub4c8\uc744 \uc0ac\uc6a9\ud574\uc57c \ud568"
     ]
    },
    {
     "cell_type": "code",
     "collapsed": false,
     "input": [
      "!python3 -m cProfile time_test.py"
     ],
     "language": "python",
     "metadata": {},
     "outputs": [
      {
       "output_type": "stream",
       "stream": "stdout",
       "text": [
        "         10000004 function calls in 3.259 seconds\r\n",
        "\r\n",
        "   Ordered by: standard name\r\n",
        "\r\n",
        "   ncalls  tottime  percall  cumtime  percall filename:lineno(function)\r\n",
        "        1    0.000    0.000    3.259    3.259 time_test.py:1(<module>)\r\n",
        " 10000000    0.982    0.000    0.982    0.000 time_test.py:1(add)\r\n",
        "        1    2.277    2.277    3.259    3.259 time_test.py:4(main)\r\n",
        "        1    0.000    0.000    3.259    3.259 {built-in method exec}\r\n",
        "        1    0.000    0.000    0.000    0.000 {method 'disable' of '_lsprof.Profiler' objects}\r\n",
        "\r\n",
        "\r\n"
       ]
      }
     ],
     "prompt_number": 78
    },
    {
     "cell_type": "code",
     "collapsed": false,
     "input": [
      "import time\n",
      "from functools import wraps\n",
      "\n",
      "def timethis(func):\n",
      "    @wraps(func)\n",
      "    def wrapper(*args, **kwargs):\n",
      "        start = time.perf_counter()\n",
      "        r = func(*args, **kwargs)\n",
      "        end = time.perf_counter()\n",
      "        print('{}.{} : {}'.format(func.__module__, \n",
      "                                  func.__name__, \n",
      "                                  end-start))\n",
      "        return r\n",
      "    return wrapper"
     ],
     "language": "python",
     "metadata": {},
     "outputs": [],
     "prompt_number": 80
    },
    {
     "cell_type": "code",
     "collapsed": false,
     "input": [
      "@timethis\n",
      "def countdown(n):\n",
      "    while n > 0:\n",
      "        n -= 1\n",
      "        \n",
      "countdown(10000000)"
     ],
     "language": "python",
     "metadata": {},
     "outputs": [
      {
       "output_type": "stream",
       "stream": "stdout",
       "text": [
        "__main__.countdown : 0.7492873570008669\n"
       ]
      }
     ],
     "prompt_number": 82
    },
    {
     "cell_type": "markdown",
     "metadata": {},
     "source": [
      "- \uad6c\ubb38\uc758 \ube14\ub85d \uc2dc\uac04\uc744 \uce21\uc815\ud558\ub824\uba74 \ucf58\ud0dd\uc2a4\ud2b8 \ub9e4\ub2c8\uc800\ub97c \uc815\uc758\ud568"
     ]
    },
    {
     "cell_type": "code",
     "collapsed": false,
     "input": [
      "from contextlib import contextmanager\n",
      "\n",
      "@contextmanager\n",
      "def timeblock(label):\n",
      "    start = time.perf_counter()\n",
      "    try:\n",
      "        yield\n",
      "    finally:\n",
      "        end = time.perf_counter()\n",
      "        print('{} : {}'.format(label, end-start))"
     ],
     "language": "python",
     "metadata": {},
     "outputs": [],
     "prompt_number": 83
    },
    {
     "cell_type": "markdown",
     "metadata": {},
     "source": [
      "- \ub2e4\uc74c\uc740 \uc774 \ucf58\ud0dd\uc2a4\ud2b8 \ub9e4\ub2c8\uc800\uac00 \ub3d9\uc791\ud558\ub294 \uc608\uc81c"
     ]
    },
    {
     "cell_type": "code",
     "collapsed": false,
     "input": [
      "with timeblock('counting'):\n",
      "    n = 10000000\n",
      "    while n > 0:\n",
      "        n -= 1"
     ],
     "language": "python",
     "metadata": {},
     "outputs": [
      {
       "output_type": "stream",
       "stream": "stdout",
       "text": [
        "counting : 1.3143891820000135\n"
       ]
      }
     ],
     "prompt_number": 84
    },
    {
     "cell_type": "markdown",
     "metadata": {},
     "source": [
      "- \ud2b9\uc815 \ucf54\ub4dc \uc870\uac01\uc758 \uc131\ub2a5\uc744 \uce21\uc815\ud560 \ub54c\ub294 timeit \ubaa8\ub4c8\uc774 \uc720\uc6a9"
     ]
    },
    {
     "cell_type": "code",
     "collapsed": false,
     "input": [
      "from timeit import timeit\n",
      "timeit('math.sqrt(2)', 'import math')"
     ],
     "language": "python",
     "metadata": {},
     "outputs": [
      {
       "metadata": {},
       "output_type": "pyout",
       "prompt_number": 9,
       "text": [
        "0.12336524500278756"
       ]
      }
     ],
     "prompt_number": 9
    },
    {
     "cell_type": "code",
     "collapsed": false,
     "input": [
      "timeit('sqrt(2)', 'from math import sqrt')"
     ],
     "language": "python",
     "metadata": {},
     "outputs": [
      {
       "metadata": {},
       "output_type": "pyout",
       "prompt_number": 10,
       "text": [
        "0.08896779199858429"
       ]
      }
     ],
     "prompt_number": 10
    },
    {
     "cell_type": "code",
     "collapsed": false,
     "input": [
      "import math\n",
      "def sqrt1():\n",
      "    return math.sqrt(2)"
     ],
     "language": "python",
     "metadata": {},
     "outputs": [],
     "prompt_number": 11
    },
    {
     "cell_type": "code",
     "collapsed": false,
     "input": [
      "%timeit sqrt1()"
     ],
     "language": "python",
     "metadata": {},
     "outputs": [
      {
       "output_type": "stream",
       "stream": "stdout",
       "text": [
        "1000000 loops, best of 3: 205 ns per loop\n"
       ]
      }
     ],
     "prompt_number": 12
    },
    {
     "cell_type": "code",
     "collapsed": false,
     "input": [
      "from math import sqrt\n",
      "def sqrt2():\n",
      "    return sqrt(2)"
     ],
     "language": "python",
     "metadata": {},
     "outputs": [],
     "prompt_number": 13
    },
    {
     "cell_type": "code",
     "collapsed": false,
     "input": [
      "%timeit sqrt2()"
     ],
     "language": "python",
     "metadata": {},
     "outputs": [
      {
       "output_type": "stream",
       "stream": "stdout",
       "text": [
        "10000000 loops, best of 3: 157 ns per loop\n"
       ]
      }
     ],
     "prompt_number": 14
    },
    {
     "cell_type": "markdown",
     "metadata": {},
     "source": [
      "- timeit\uc740 \uccab \ubc88\uc9f8 \uc778\uc790\ub85c \uba85\uc2dc\ub41c \ucf54\ub4dc\ub97c \ubc31\ub9cc \ubc88 \uc2e4\ud589\ud558\uace0 \uadf8 \uc2dc\uac04\uc744 \uce21\uc815\ud568\n",
      "- \ub450\ubc88\uc9f8 \uc778\uc790\ub294 \ud14c\uc2a4\ud2b8\ub97c \uc2e4\ud589\ud558\uae30 \uc704\ud574 \ud544\uc694\ud55c \ud658\uacbd\uc744 \uc124\uc815\ud558\ub294 \ubb38\uc790\uc5f4\n",
      "- \uc2e4\ud589\ud558\ub294 \ud69f\uc218\ub97c \uc870\uc808\ud558\uace0 \uc2f6\uc73c\uba74 \ub2e4\uc74c\uacfc \uac19\uc774 number \uc778\uc790\ub97c \ucd94\uac00\ud568"
     ]
    },
    {
     "cell_type": "code",
     "collapsed": false,
     "input": [
      "timeit('math.sqrt(2)', 'import math', number=10000000)"
     ],
     "language": "python",
     "metadata": {},
     "outputs": [
      {
       "metadata": {},
       "output_type": "pyout",
       "prompt_number": 16,
       "text": [
        "1.1827796819998184"
       ]
      }
     ],
     "prompt_number": 16
    },
    {
     "cell_type": "code",
     "collapsed": false,
     "input": [
      "timeit('sqrt(2)', 'from math import sqrt', number=10000000)"
     ],
     "language": "python",
     "metadata": {},
     "outputs": [
      {
       "metadata": {},
       "output_type": "pyout",
       "prompt_number": 18,
       "text": [
        "0.8908851390006021"
       ]
      }
     ],
     "prompt_number": 18
    },
    {
     "cell_type": "markdown",
     "metadata": {},
     "source": [
      "- \uc131\ub2a5\uc744 \uce21\uc815\ud560 \ub54c, \uacb0\uacfc\uac12\uc740 **\ud56d\uc0c1 \uadfc\uc0ac\uce58**\ub77c\ub294 \uc810\uc744 \uc720\ub150\n",
      "- \uc55e\uc5d0 \ub098\uc628 \uc5d0\uc81c\uc5d0\uc11c\ub294 time.perf_counter() \ud568\uc218\ub85c \uc880 \ub354 \uc815\ud655\ud55c \uc2dc\uac04\uc744 \uce21\uc815\ud588\uc74c\n",
      "- \ud558\uc9c0\ub9cc \uc774 \uc5ed\uc2dc \ubcbd\uc2dc\uacc4 \uc2dc\uac04(wall-clock time)\uc744 \uce21\uc815\ud558\ub294 \uac83\uc774\uace0, \ucef4\ud4e8\ud130\uc758 \ubd80\ud558\uc640 \uac19\uc774 \ub2e4\ub978 \uc694\uc18c\uc5d0 \uc601\ud5a5\uc744 \ubc1b\uc744 \uc218 \uc788\uc74c\n",
      "- \ubcbd\uc2dc\uacc4 \uc2dc\uac04\uc774 \uc544\ub2cc \ud504\ub85c\uc138\uc2a4 \uc2dc\uac04\uc5d0 \uad00\uc2ec\uc774 \uc788\ub2e4\uba74 time.process_time()\uc744 \uc0ac\uc6a9"
     ]
    },
    {
     "cell_type": "code",
     "collapsed": false,
     "input": [
      "import time\n",
      "from functools import wraps\n",
      "\n",
      "def timethis(func):\n",
      "    @wraps(func)\n",
      "    def wrapper(*args, **kwargs):\n",
      "        start = time.process_time()\n",
      "        r = func(*args, **kwargs)\n",
      "        end = time.process_time()\n",
      "        print('{}.{} : {}'.format(func.__module__, \n",
      "                                  func.__name__, \n",
      "                                  end-start))\n",
      "        return r\n",
      "    return wrapper"
     ],
     "language": "python",
     "metadata": {},
     "outputs": [],
     "prompt_number": 21
    },
    {
     "cell_type": "code",
     "collapsed": false,
     "input": [
      "@timethis\n",
      "def countdown(n):\n",
      "    while n > 0:\n",
      "        n -= 1\n",
      "        \n",
      "countdown(10000000)"
     ],
     "language": "python",
     "metadata": {},
     "outputs": [
      {
       "output_type": "stream",
       "stream": "stdout",
       "text": [
        "__main__.countdown : 0.7182929999999992\n"
       ]
      }
     ],
     "prompt_number": 22
    },
    {
     "cell_type": "markdown",
     "metadata": {},
     "source": [
      "- \ub9c8\uc9c0\ub9c9\uc73c\ub85c, \uc790\uc138\ud55c \ud0c0\uc774\ubc0d \ubd84\uc11d\uc744 \ud574\uc57c \ud55c\ub2e4\uba74 time, timeit \ub4f1 \uad00\ub828 \ubaa8\ub4c8\uc758 \ubb38\uc11c\ub97c \uc798 \uc77d\uc5b4\uc11c \ud50c\ub7ab\ud3fc\uc758 \ucc28\uc774\uc810 \ub4f1\uc744 \uc798 \uc774\ud574\ud558\ub3c4\ub85d \ud568\n",
      "- \uc2a4\ud1b1\uc6cc\uce58 \ud0c0\uc774\uba38 \ud074\ub798\uc2a4\ub97c \ub9cc\ub4e4\uc5b4 \ubcf4\uc558\ub358 \ub808\uc2dc\ud53c 13.13\ub3c4 \ucc38\uace0\ud558\ub3c4\ub85d \ud55c\ub2e4\n",
      "\n",
      "#### timeit\n",
      "\n",
      "- [26.6. timeit \u00e2\u0080\u0094 Measure execution time of small code snippets \u2014 Python 2.7.8 documentation](https://docs.python.org/2/library/timeit.html)\n",
      "- [timeit \u2013 Time the execution of small bits of Python code. - Python Module of the Week](http://pymotw.com/2/timeit/)"
     ]
    },
    {
     "cell_type": "markdown",
     "metadata": {},
     "source": [
      "## 14.14 \ud504\ub85c\uadf8\ub7a8 \uc2e4\ud589 \uc18d\ub3c4 \ud5a5\uc0c1\n",
      "\n",
      "### \ubb38\uc81c\n",
      "\n",
      "- \ud504\ub85c\uadf8\ub7a8 \uc2e4\ud589 \uc18d\ub3c4\uac00 \ub108\ubb34 \ub290\ub9ac\ub2e4.\n",
      "- \uc774\ub54c C \ud655\uc7a5\uc774\ub098 just-in-time(JIT) \ucef4\ud30c\uc77c\ub7ec\uc640 \uac19\uc740 \uadf9\ub2e8\uc801\uc778 \ud574\uacb0\ucc45\uc758 \ub3c4\uc6c0\uc5c6\uc774 \uc18d\ub3c4\ub97c \ud5a5\uc0c1\uc2dc\ud0a4\uace0 \uc2f6\ub2e4\n",
      "\n",
      "### \ud574\uacb0\n",
      "\n",
      "- \ucd5c\uc801\ud654\uc758 \uccab \ubc88\uc9f8 \uaddc\uce59\uc740 **\"\ud558\uc9c0 \uc54a\ub294 \uac83\"**\uc774\uace0, \ub450 \ubc88\uc9f8 \uaddc\uce59\uc740 **\"\uc911\uc694\ud558\uc9c0 \uc54a\uc740 \uac83\uc744 \ucd5c\uc801\ud654 \ud558\uc9c0 \ub9c8\ub77c\"**\n",
      "- \uc774 \ubaa9\uc801\uc744 \ub2ec\uc131\ud558\ub824\uba74 \uc6b0\uc120 \ub808\uc2dc\ud53c 14.13\uc5d0 \ub098\uc654\ub358 \ubc29\ubc95\uc73c\ub85c \ucf54\ub4dc\ub97c **\ud504\ub85c\ud30c\uc77c\ub9c1**\ud574\uc57c \ud568\n",
      "- \ub300\uac1c \ud504\ub85c\uadf8\ub7a8\uc758 \uc2e4\ud589 \uc2dc\uac04\uc744 \ub300\ubd80\ubd84 \ucc28\uc9c0\ud558\ub294 \uacf3\uc740 **\ub0b4\ubd80 \ub370\uc774\ud130 \ucc98\ub9ac \ub8e8\ud504** \ub4f1 **\uba87 \uad70\ub370**\ub85c \uc555\ucd95\ub428\n",
      "- \uc774 \uc704\uce58\ub97c \uc54c\uc544\ub0c8\ub2e4\uba74, \ub2e4\uc74c\uc5d0 \ub098\uc624\ub294 \uae30\uc220\uc744 \uc0ac\uc6a9\ud574\uc11c \ud504\ub85c\uadf8\ub7a8 \uc2e4\ud589 \uc18d\ub3c4\ub97c \ud5a5\uc0c1\uc2dc\ucf1c \ubcf4\uc790"
     ]
    },
    {
     "cell_type": "markdown",
     "metadata": {},
     "source": [
      "#### \ud568\uc218 \uc0ac\uc6a9\n",
      "\n",
      "- \ub9ce\uc740 \ud504\ub85c\uadf8\ub798\uba38\ub4e4\uc740 \ud30c\uc774\uc36c\uc744 \ub2e8\uc21c\ud55c \uc2a4\ud06c\ub9bd\ud2b8 \uc791\uc131\uc5d0 \uc0ac\uc6a9\ud568\n",
      "- \uc2a4\ud06c\ub9bd\ud2b8\ub97c \uc791\uc131\ud560 \ub54c\ub294 \uc544\uc8fc \uac04\ub2e8\ud55c \uad6c\uc870\ub85c \ucf54\ub4dc\ub97c \uc4f0\ub294 \uacbd\uc6b0\uac00 \ub9ce\uc74c\n",
      "\n",
      "```python\n",
      "# somescript.py\n",
      "import sys\n",
      "import csv\n",
      "\n",
      "with open(sys.argv[1]) as f:\n",
      "    for row in csv.reader(f):\n",
      "        # \uc791\uc5c5 \uc218\ud589\n",
      "        ...\n",
      "```\n",
      "\n",
      "- \uc774\uc640 \uac19\uc774 \uc804\uc5ed \uc601\uc5ed\uc5d0 \uc815\uc758\ub41c \ucf54\ub4dc\ub294 \ud568\uc218\uc5d0 \uc815\uc758\ud55c \ucf54\ub4dc\ubcf4\ub2e4 \uc2e4\ud589 \uc18d\ub3c4\uac00 \ub290\ub9ac\ub2e4\ub294 \uc0ac\uc2e4\uc744 \uc544\ub294 \uc0ac\ub78c\uc774 \ub9ce\uc9c0 \uc54a\uc74c\n",
      "- \uc18d\ub3c4 \ucc28\uc774\ub294 \uc9c0\uc5ed\uacfc \uc804\uc5ed\ubcc0\uc218\uc758 \uad6c\ud604\uc5d0\uc11c \ube44\ub86f\ub428(\uc9c0\uc5ed \uad00\ub828 \ubcc0\uc218\uc758 \uc2e4\ud589 \uc18d\ub3c4\uac00 \ub354 \ube60\ub984)\n",
      "- \ub530\ub77c\uc11c \ud504\ub85c\uadf8\ub7a8 \uc2e4\ud589 \uc18d\ub3c4\ub97c \ud5a5\uc0c1\uc2dc\ud0a4\ub824\uba74 \uac04\ub2e8\ud788 \uc2a4\ud06c\ub9bd\ud2b8 \uad6c\ubb38\uc744 \ud568\uc218 \uc548\uc5d0 \ub123\uc73c\uba74 \ub428\n",
      "\n",
      "```python\n",
      "# somescript.py\n",
      "import sys\n",
      "import csv\n",
      "\n",
      "def main(filename):\n",
      "    with open(filename) as f:\n",
      "        for row in csv.reader(f):\n",
      "            # \uc791\uc5c5 \uc218\ud589\n",
      "            ...\n",
      "main(sys.argv[1])\n",
      "```\n",
      "\n",
      "- \uc18d\ub3c4 \ucc28\uc774\ub294 \uc218\ud589\ud558\ub294 \uc791\uc5c5\uc5d0 \ub530\ub77c \ud06c\uac8c \ub2e4\ub974\uc9c0\ub9cc, \uacbd\ud5d8\uc5d0 \ub530\ub974\uba74 15~30% \uc815\ub3c4\uc758 \ud5a5\uc0c1\uc774 \ub180\ub77c\uc6b8 \uc815\ub3c4\ub294 \uc544\ub2c8\ub2e4."
     ]
    },
    {
     "cell_type": "markdown",
     "metadata": {},
     "source": [
      "#### \uc18d\uc131 \uc811\uadfc\uc758 \uc120\ud0dd\uc801 \uc0ad\uc81c\n",
      "\n",
      "- \uc810(.) \uc5f0\uc0b0\uc790\ub85c \uc18d\uc131\uc5d0 \uc811\uadfc\ud558\ub294 \uc791\uc5c5\uc5d0\ub294 \ub300\uac00\uac00 \ub530\ub978\ub2e4.\n",
      "- \ucf54\ub4dc \ub0b4\ubd80\uc801\uc73c\ub85c\ub294 \\_\\_getattribute\\_\\_()\uc640 \\_\\_getattr\\_\\_() \uac19\uc740 \ud2b9\ubcc4 \uba54\uc18c\ub4dc\ub97c \ud638\ucd9c\ud558\ub290\ub12b, \uacb0\uad6d \ub515\uc154\ub108\ub9ac \uac80\uc0c9\uc73c\ub85c \uc774\uc5b4\uc9c0\ub294 \uacbd\uc6b0\uac00 \ub9ce\uc74c\n",
      "- \uc18d\uc131 \uc0ac\uc6a9\uc740 from module import name \ud615\uc2dd\uc758 \uc784\ud3ec\ud2b8\uc640 \uc120\ud0dd\uc801\uc778 \ubc14\uc6b4\ub4dc \uba54\uc18c\ub4dc \uc0ac\uc6a9\uc73c\ub85c \ud53c\ud574\uac08 \uc218 \uc788\uc74c\n",
      "- \uc774\ud574\ub97c \ub3d5\uae30 \uc704\ud574 \ub2e4\uc74c\uacfc \uac19\uc740 \ucf54\ub4dc\uac00 \uc788\ub2e4\uace0 \uac00\uc815\ud574 \ubcf4\uc790"
     ]
    },
    {
     "cell_type": "code",
     "collapsed": false,
     "input": [
      "import math\n",
      "from math import sqrt\n",
      "\n",
      "def compute_roots1(nums):\n",
      "    result = []\n",
      "    for n in nums:\n",
      "        result.append(math.sqrt(n))\n",
      "    return result\n",
      "\n",
      "def compute_roots2(nums):\n",
      "    result = []\n",
      "    result_append = result.append\n",
      "    for n in nums:\n",
      "        result_append(sqrt(n))\n",
      "    return result\n",
      "\n",
      "\n",
      "def main1():\n",
      "    # \ud14c\uc2a4\ud2b8\n",
      "    nums = range(1000000)\n",
      "    for i in range(100):\n",
      "        r = compute_roots1(nums)\n",
      "\n",
      "def main2():\n",
      "    # \ud14c\uc2a4\ud2b8\n",
      "    nums = range(1000000)\n",
      "    for i in range(100):\n",
      "        r = compute_roots2(nums)"
     ],
     "language": "python",
     "metadata": {},
     "outputs": [],
     "prompt_number": 28
    },
    {
     "cell_type": "code",
     "collapsed": false,
     "input": [
      "%time main1()"
     ],
     "language": "python",
     "metadata": {},
     "outputs": [
      {
       "output_type": "stream",
       "stream": "stdout",
       "text": [
        "CPU times: user 20.4 s, sys: 927 ms, total: 21.3 s\n",
        "Wall time: 21.3 s\n"
       ]
      }
     ],
     "prompt_number": 30
    },
    {
     "cell_type": "code",
     "collapsed": false,
     "input": [
      "%time main2()"
     ],
     "language": "python",
     "metadata": {},
     "outputs": [
      {
       "output_type": "stream",
       "stream": "stdout",
       "text": [
        "CPU times: user 14 s, sys: 942 ms, total: 14.9 s\n",
        "Wall time: 14.9 s\n"
       ]
      }
     ],
     "prompt_number": 29
    },
    {
     "cell_type": "markdown",
     "metadata": {},
     "source": [
      "#### \ubcc0\uc218\uc758 \uc9c0\uc5ed\uc131 \uc774\ud574\n",
      "\n",
      "- \uc55e\uc5d0\uc11c \uc124\uba85\ud55c \ub300\ub85c \uc9c0\uc5ed\ubcc0\uc218\ub294 \uc804\uc5ed\ubcc0\uc218\ubcf4\ub2e4 \uc2e4\ud589 \uc18d\ub3c4\uac00 \ube60\ub984\n",
      "- \ube48\ubc88\ud558\uac8c \uc811\uadfc\ud558\ub294 \uc774\ub984\uc758 \uacbd\uc6b0 \ucd5c\ub300\ud55c \uc9c0\uc5ed\uc5d0 \uac00\uae5d\uac8c \ub9cc\ub4e4\uc5b4\uc11c \uc18d\ub3c4 \ud5a5\uc0c1\uc744 \ub3c4\ubaa8\ud560 \uc218 \uc788\uc74c\n",
      "- \uc608\ub97c \ub4e4\uc5b4 \uc55e\uc5d0 \ub098\uc654\ub358 compute_roots() \ud568\uc218\ub97c \ub2e4\uc74c\ucc98\ub7fc \uc218\uc815\ud574 \ubcf4\uc790"
     ]
    },
    {
     "cell_type": "code",
     "collapsed": false,
     "input": [
      "import math\n",
      "\n",
      "def compute_roots3(nums):\n",
      "    sqrt = math.sqrt\n",
      "    result = []\n",
      "    result_append = result.append\n",
      "    for n in nums:\n",
      "        result_append(sqrt(n))\n",
      "    return result\n",
      "\n",
      "def main3():\n",
      "    # \ud14c\uc2a4\ud2b8\n",
      "    nums = range(1000000)\n",
      "    for i in range(100):\n",
      "        r = compute_roots3(nums)"
     ],
     "language": "python",
     "metadata": {},
     "outputs": [],
     "prompt_number": 31
    },
    {
     "cell_type": "code",
     "collapsed": false,
     "input": [
      "%time main3()"
     ],
     "language": "python",
     "metadata": {},
     "outputs": [
      {
       "output_type": "stream",
       "stream": "stdout",
       "text": [
        "CPU times: user 13 s, sys: 898 ms, total: 13.9 s\n",
        "Wall time: 13.9 s\n"
       ]
      }
     ],
     "prompt_number": 32
    },
    {
     "cell_type": "markdown",
     "metadata": {},
     "source": [
      "- 13.9s: \uc9c0\uc5ed\ubcc0\uc218\uc5d0\uc11c \ubd88\ub7ec\uc624\uae30\n",
      "- 14.9s: .\uc5f0\uc0b0\uc790 \uc120\ud0dd\uc801 \uc0ad\uc81c\n",
      "- 21.3s: \uc77c\ubc18\uc801 \uc811\uadfc"
     ]
    },
    {
     "cell_type": "markdown",
     "metadata": {},
     "source": [
      "- \uc774 \ubc84\uc804\uc5d0\uc11c sqrt\ub97c math \ubaa8\ub4c8\uc5d0\uc11c \uac00\uc838\uc640 \uc9c0\uc5ed\ubcc0\uc218\uc5d0 \ub123\uc5c8\ub2e4. \uc774 \ucf54\ub4dc\ub97c \uc2e4\ud589\ud574 \ubcf4\uba74 \uc774\uc81c 25\ucd08\ub85c \uc2dc\uac04\uc774 \ub2e4\uc2dc \uc904\uc5b4\ub4e4\uc5c8\uc74c(29\ucd08\uc5d0\uc11c 4\ucd08 \ud5a5\uc0c1)\n",
      "- \uc774\ub294 sqrt\ub97c \uc804\uc5ed \ub808\ubca8\uc5d0\uc11c \ucc3e\uc9c0\uc54a\uace0 **\uc9c0\uc5ed \ub808\ubca8\uc5d0\uc11c \ucc3e\ub294 \uac83\uc774 \ub354 \ube60\ub974\uae30** \ub54c\ubb38\uc5d0 \uc77c\uc5b4\ub09c \ud604\uc0c1\n",
      "\n",
      "\n",
      "- \ud074\ub798\uc2a4\uc5d0\uc11c \uc791\uc5c5\ud560 \ub54c \uc9c0\uc5ed \uc778\uc790\ub3c4 \uc801\uc6a9\ub428\n",
      "- \uc77c\ubc18\uc801\uc73c\ub85c self.name\uacfc \uac19\uc774 \uac12\uc744 \ucc3e\ub294 \uac83\uc774 \uc9c0\uc5ed\ubcc0\uc218\uc5d0 \uc811\uadfc\ud558\ub294 \uac83\ubcf4\ub2e4 \ub290\ub9ac\ub2e4.\n",
      "- \uc21c\ud658\ubb38 \ub0b4\ubd80\uc5d0\uc11c \uc790\uc8fc \uc811\uadfc\ud558\ub294 \uc18d\uc131\uc744 \uc9c0\uc5ed\ubcc0\uc218\uc5d0 \ub123\uc73c\uba74 \uc2e4\ud589 \uc18d\ub3c4\uac00 \ube68\ub77c\uc9d0\n",
      "\n",
      "```python\n",
      "# \ub290\ub9bc\n",
      "class SomeClass:\n",
      "    ...\n",
      "    def method(self):\n",
      "        for x in s:\n",
      "            op(self.value)\n",
      "            \n",
      "# \ube60\ub984\n",
      "class SomeClass:\n",
      "    ...\n",
      "    def method(self):\n",
      "        value = self.value\n",
      "        for x in s:\n",
      "            op(value)\n",
      "```"
     ]
    },
    {
     "cell_type": "markdown",
     "metadata": {},
     "source": [
      "#### \ubd88\ud544\uc694\ud55c \ucd94\uc0c1\ud654 \ud53c\ud558\uae30\n",
      "\n",
      "- \ub370\ucf54\ub808\uc774\ud130\ub098 \ud504\ub85c\ud37c\ud2f0, \ub514\uc2a4\ud06c\ub9bd\ud130 \ub4f1 \ucf54\ub4dc\ub97c \ucd94\uac00\uc801\uc778 \ucc98\ub9ac \ub808\uc774\uc5b4\ub85c \uac10\uc300 \ub54c\ub9c8\ub2e4 \uc2e4\ud589 \uc18d\ub3c4\uac00 \ub290\ub824\uc9d0"
     ]
    },
    {
     "cell_type": "code",
     "collapsed": false,
     "input": [
      "class A:\n",
      "    def __init__(self, x, y):\n",
      "        self.x = x\n",
      "        self.y = y\n",
      "        \n",
      "    @property\n",
      "    def y(self):\n",
      "        return self._y\n",
      "    \n",
      "    @y.setter\n",
      "    def y(self, value):\n",
      "        self._y = value"
     ],
     "language": "python",
     "metadata": {},
     "outputs": [],
     "prompt_number": 33
    },
    {
     "cell_type": "code",
     "collapsed": false,
     "input": [
      "a = A(1, 2)"
     ],
     "language": "python",
     "metadata": {},
     "outputs": [],
     "prompt_number": 34
    },
    {
     "cell_type": "code",
     "collapsed": false,
     "input": [
      "a.x"
     ],
     "language": "python",
     "metadata": {},
     "outputs": [
      {
       "metadata": {},
       "output_type": "pyout",
       "prompt_number": 41,
       "text": [
        "1"
       ]
      }
     ],
     "prompt_number": 41
    },
    {
     "cell_type": "code",
     "collapsed": false,
     "input": [
      "a.y"
     ],
     "language": "python",
     "metadata": {},
     "outputs": [
      {
       "metadata": {},
       "output_type": "pyout",
       "prompt_number": 42,
       "text": [
        "2"
       ]
      }
     ],
     "prompt_number": 42
    },
    {
     "cell_type": "code",
     "collapsed": false,
     "input": [
      "a.y = 5"
     ],
     "language": "python",
     "metadata": {},
     "outputs": [],
     "prompt_number": 44
    },
    {
     "cell_type": "code",
     "collapsed": false,
     "input": [
      "a.y"
     ],
     "language": "python",
     "metadata": {},
     "outputs": [
      {
       "metadata": {},
       "output_type": "pyout",
       "prompt_number": 45,
       "text": [
        "5"
       ]
      }
     ],
     "prompt_number": 45
    },
    {
     "cell_type": "code",
     "collapsed": false,
     "input": [
      "%timeit a.x"
     ],
     "language": "python",
     "metadata": {},
     "outputs": [
      {
       "output_type": "stream",
       "stream": "stdout",
       "text": [
        "10000000 loops, best of 3: 56.1 ns per loop\n"
       ]
      }
     ],
     "prompt_number": 35
    },
    {
     "cell_type": "code",
     "collapsed": false,
     "input": [
      "%timeit a.y"
     ],
     "language": "python",
     "metadata": {},
     "outputs": [
      {
       "output_type": "stream",
       "stream": "stdout",
       "text": [
        "10000000 loops, best of 3: 170 ns per loop\n"
       ]
      }
     ],
     "prompt_number": 36
    },
    {
     "cell_type": "markdown",
     "metadata": {},
     "source": [
      "- \uc774\uc81c \uac04\ub2e8\ud55c \uc2dc\uac04 \uce21\uc815"
     ]
    },
    {
     "cell_type": "code",
     "collapsed": false,
     "input": [
      "from timeit import timeit"
     ],
     "language": "python",
     "metadata": {},
     "outputs": [],
     "prompt_number": 37
    },
    {
     "cell_type": "code",
     "collapsed": false,
     "input": [
      "a = A(1, 2)"
     ],
     "language": "python",
     "metadata": {},
     "outputs": [],
     "prompt_number": 38
    },
    {
     "cell_type": "code",
     "collapsed": false,
     "input": [
      "timeit('a.x', 'from __main__ import a')"
     ],
     "language": "python",
     "metadata": {},
     "outputs": [
      {
       "metadata": {},
       "output_type": "pyout",
       "prompt_number": 39,
       "text": [
        "0.04903155400097603"
       ]
      }
     ],
     "prompt_number": 39
    },
    {
     "cell_type": "code",
     "collapsed": false,
     "input": [
      "timeit('a.y', 'from __main__ import a')"
     ],
     "language": "python",
     "metadata": {},
     "outputs": [
      {
       "metadata": {},
       "output_type": "pyout",
       "prompt_number": 40,
       "text": [
        "0.18678854100289755"
       ]
      }
     ],
     "prompt_number": 40
    },
    {
     "cell_type": "markdown",
     "metadata": {},
     "source": [
      "- \ubcf4\ub294 \uac83\ucc98\ub7fc \ud504\ub85c\ud37c\ud2f0 y \uc811\uadfc\uc740 \ub2e8\uc21c\ud788 x\uc5d0 \uc811\uadfc\ud558\ub294 \uac83\ubcf4\ub2e4 4.5\ubc30 \uc774\uc0c1 \ub290\ub9ac\ub2e4.\n",
      "- \uc774\ub7f0 \ucc28\uc774\uc810\uc774 \ubb38\uc81c\uac00 \ub41c\ub2e4\uba74 y \uc815\uc758\uc5d0 \uc0ac\uc6a9\ud55c \ud504\ub85c\ud37c\ud2f0\uac00 \uc815\ub9d0\ub85c \ud544\uc694\ud55c \uac83\uc778\uc9c0 \uc9c4\uc9c0\ud558\uac8c \uace0\ubbfc\ud574 \ubcf4\uc544\uc57c \ud568\n",
      "- \ub9cc\uc57d \ud544\uc694 \uc5c6\ub2e4\uace0 \ud310\ub2e8\ud55c\ub2e4\uba74 \ud504\ub85c\ud37c\ud2f0\ub97c \uc81c\uac70\ud558\uace0 \ub2e8\uc21c\ud788 \uc18d\uc131\uc744 \uc0ac\uc6a9\ud558\ub294 \ubc29\ubc95\uc744 \ucc44\ud0dd\n",
      "- \ub2e4\ub978 \ud504\ub85c\uadf8\ub7a8 \uc5b8\uc5b4\uc5d0\uc11c \uac8c\ud130/\uc138\ud130 \ud568\uc218\ub97c \uc0ac\uc6a9\ud558\ub294 \uac83\uc774 \uc77c\ubc18\uc801\uc774\ub77c\uace0 \ud574\uc11c \ud30c\uc774\uc36c\uc5d0\uc11c \uc774 \ubc29\uc2dd\uc744 \uaf2d \ub530\ub77c\uc57c \ud560 \uc758\ubb34\ub294 \uc5c6\uc74c"
     ]
    },
    {
     "cell_type": "markdown",
     "metadata": {},
     "source": [
      "#### \ub0b4\uc7a5 \ucee8\ud14c\uc774\ub108 \uc0ac\uc6a9\n",
      "\n",
      "- \ubb38\uc790\uc5f4, \ud29c\ud50c, \ub9ac\uc2a4\ud2b8, \uc138\ud2b8, \ub515\uc154\ub108\ub9ac \ub4f1 \ub0b4\uc7a5\ub41c \ub370\uc774\ud130 \ud0c0\uc785\uc740 \ubaa8\ub450 C\ub85c \uad6c\ud604\ub418\uc5b4 \uc788\uace0 \ub530\ub77c\uc11c \uc2e4\ud589 \uc18d\ub3c4\uac00 \uc0c1\ub300\uc801\uc73c\ub85c \ube60\ub984\n",
      "- \ub9cc\uc57d \uc774\ub7f0 \uac83 \ub300\uc2e0\uc5d0 \uc2a4\uc2a4\ub85c \uc790\ub8cc \uad6c\uc870\ub97c \ub9cc\ub4e4\uace0 \uc2f6\ub2e4\uba74(\uc608: \ub9c1\ud06c\ub4dc \ub9ac\uc2a4\ud2b8, \ubc38\ub7f0\uc2a4 \ud2b8\ub9ac \ub4f1), \ub0b4\uc7a5\ub41c \uc790\ub8cc \uad6c\uc870\uc758 \uc18d\ub3c4\ub97c \ub530\ub77c\uc7a1\uae30\ub294 \uac70\uc758 \ubd88\uac00\ub2a5\n",
      "- \ub530\ub77c\uc11c \uad1c\ud788 \uace0\uc0dd\ud558\uc9c0 \ub9c8\ub85d \uc774\ubbf8 \uc81c\uacf5\ub418\uace0 \uc788\ub294 \uac83\uc744 \uc0ac\uc6a9\ud558\ub3c4\ub85d \ud558\uc790"
     ]
    },
    {
     "cell_type": "markdown",
     "metadata": {},
     "source": [
      "#### \ubd88\ud544\uc694\ud55c \uc790\ub8cc \uad6c\uc870 \uc0dd\uc131\uc774\ub098 \ubcf5\uc0ac \ud53c\ud558\uae30\n",
      "\n",
      "- \ud504\ub85c\uadf8\ub798\uba38\ub4e4\uc740 \uc885\uc878 \ubd88\ud544\uc694\ud55c \uc790\ub8cc \uad6c\uc870\ub97c \ub9cc\ub4e4\uae30\ub3c4 \ud568\n",
      "- \uc608\ub97c \ub4e4\uc5b4 \ub2e4\uc74c \ucf54\ub4dc\ub97c \ubcf4\uc790"
     ]
    },
    {
     "cell_type": "code",
     "collapsed": false,
     "input": [
      "sequence = range(10)"
     ],
     "language": "python",
     "metadata": {},
     "outputs": [],
     "prompt_number": 48
    },
    {
     "cell_type": "code",
     "collapsed": false,
     "input": [
      "values = [x for x in sequence]\n",
      "values"
     ],
     "language": "python",
     "metadata": {},
     "outputs": [
      {
       "metadata": {},
       "output_type": "pyout",
       "prompt_number": 50,
       "text": [
        "[0, 1, 2, 3, 4, 5, 6, 7, 8, 9]"
       ]
      }
     ],
     "prompt_number": 50
    },
    {
     "cell_type": "code",
     "collapsed": false,
     "input": [
      "squares = [x*x for x in values]\n",
      "squares"
     ],
     "language": "python",
     "metadata": {},
     "outputs": [
      {
       "metadata": {},
       "output_type": "pyout",
       "prompt_number": 51,
       "text": [
        "[0, 1, 4, 9, 16, 25, 36, 49, 64, 81]"
       ]
      }
     ],
     "prompt_number": 51
    },
    {
     "cell_type": "markdown",
     "metadata": {},
     "source": [
      "- \uc544\ub9c8\ub3c4 \uc5ec\ub7ec \uac12\uc744 \ub9ac\uc2a4\ud2b8\uc5d0 \ub123\uace0 \uadf8 \uac12\uc73c\ub85c \ub9ac\uc2a4\ud2b8 \ucef4\ud504\ub9ac\ud5e8\uc158\uacfc \uac19\uc740 \uc791\uc5c5\uc744 \ud558\ub824\ub294 \uc758\ub3c4\uc77c \uac83\n",
      "- \ud558\uc9c0\ub9cc \uccab \ubc88\uc9f8 \ub098\uc624\ub294 \ub9ac\uc2a4\ud2b8\ub294 \uc804\ud600 \ud544\uc694\uac00 \uc5c6\ub2e4.\n",
      "- \uc55e\uc5d0 \ub098\uc628 \ucf54\ub4dc\ub294 \ub2e4\uc74c\uacfc \uac19\uc774 \uac1c\uc120\ud560 \uc218 \uc788\uc74c"
     ]
    },
    {
     "cell_type": "code",
     "collapsed": false,
     "input": [
      "squares = [x*x for x in sequence]\n",
      "squares"
     ],
     "language": "python",
     "metadata": {},
     "outputs": [
      {
       "metadata": {},
       "output_type": "pyout",
       "prompt_number": 52,
       "text": [
        "[0, 1, 4, 9, 16, 25, 36, 49, 64, 81]"
       ]
      }
     ],
     "prompt_number": 52
    },
    {
     "cell_type": "markdown",
     "metadata": {},
     "source": [
      "- \uc774\uc640 \uad00\ub828\ud574\uc11c, \ud30c\uc774\uc36c\uc758 \uac12 \uacf5\uc720\uc5d0 \ub300\ud574 \ud3b8\uc9d1\uc99d\uc801\uc778 \ubc18\uc751\uc744 \ubcf4\uc774\ub294 \ud504\ub85c\uadf8\ub798\uba38\uac00 \uc791\uc131\ud55c \ucf54\ub4dc\ub97c \uc8fc\uc758\ud558\ub3c4\ub85d \ud568\n",
      "- copy.deepcopy()\uc640 \uac19\uc740 \ud568\uc218\ub97c \ub0a8\uc6a9\ud588\ub2e4\uba74, \uc774 \ucf54\ub4dc\ub97c \uc791\uc131\ud55c \uc0ac\ub78c\uc740 \ud30c\uc774\uc36c\uc758 \uba54\ubaa8\ub9ac \ubaa8\ub378\uc744 \ubbff\uc9c0 \ubabb\ud558\uac70\ub098 \uc798 \uc774\ud574\ud558\uc9c0 \ubabb\ud588\uc744 \ud655\ub960\uc774 \ud06c\ub2e4.\n",
      "- \uadf8\ub7f0 \ucf54\ub4dc\uc5d0\uc11c\ub294, \uc5ec\ub7ec \ubcf5\uc0ac\ubcf8\uc744 \uc81c\uac70\ud574\ub3c4 \uc548\uc804\ud560 \uac83"
     ]
    },
    {
     "cell_type": "markdown",
     "metadata": {},
     "source": [
      "### \ud1a0\ub860\n",
      "\n",
      "- **\ucd5c\uc801\ud654\ub97c \ud558\uae30 \uc804**\uc5d0, \uc6b0\uc120\uc801\uc73c\ub85c \uc0ac\uc6a9\ud558\uace0 \uc788\ub294 **\uc54c\uace0\ub9ac\uc998\uc5d0 \ub300\ud55c \uc5f0\uad6c\ub97c \ud558\ub294 \uac83\uc774 \uc88b\uc74c**\n",
      "- O(n\\*\\*2) \uc54c\uace0\ub9ac\uc998\uc744 \uc0ac\uc6a9\ud55c \ucf54\ub4dc\ub97c \uc544\ubb34\ub9ac \ucd5c\uc801\ud654\ud55c\ub2e4\uace0 \ud574\ub3c4 O(n log n) \uc54c\uace0\ub9ac\uc998\uc744 \uc0ac\uc6a9\ud55c \ucf54\ub4dc\ubcf4\ub2e4 \uc2e4\ud589 \uc18d\ub3c4\uac00 \ud6e8\uc52c \ub290\ub9b4 \uac83\n",
      "- \uc5ec\uc804\ud788 \ucd5c\uc801\ud654\ub97c \ud574\uc57c \ud55c\ub2e4\uace0 \uc0dd\uac01\ud558\uba74, \uc6b0\uc120 \ud070 \uadf8\ub9bc\ubd80\ud130 \uadf8\ub824 \ubcf4\ub3c4\ub85d \ud558\uc790\n",
      "- \uc77c\ubc18\uc801\uc73c\ub85c \ud504\ub85c\uadf8\ub7a8\uc758 **\ubaa8\ub4e0 \ubd80\ubd84\uc5d0 \ucd5c\uc801\ud654\ub97c \uc801\uc6a9**\ud558\uba74 \ucf54\ub4dc\ub97c **\uc77d\uae30\ub3c4 \uc5b4\ub835\uace0 \uc774\ud574\ud558\uae30\ub3c4 \uc5b4\ub835\uac8c** \ub9cc\ub4e0\ub2e4.\n",
      "- \uc138\uc138\ud55c \ucd5c\uc801\ud654 \uacb0\uacfc\ub97c \ud574\uc124\ud560 \ub54c\ub294 \uc8fc\uc758\ud574\uc57c \ud568\n",
      "- \uc608\ub97c \ub4e4\uc5b4 \ub515\uc154\ub108\ub9ac\ub97c \uc0dd\uc131\ud558\ub294 \ub2e4\uc74c \ub450 \ucf54\ub4dc\ub97c \uc0b4\ud3b4\ubcf4\uc790"
     ]
    },
    {
     "cell_type": "code",
     "collapsed": false,
     "input": [
      "a = {\n",
      "'name': 'AAPL',\n",
      "'shares': 100,\n",
      "'price': 534.22\n",
      "}"
     ],
     "language": "python",
     "metadata": {},
     "outputs": [],
     "prompt_number": 53
    },
    {
     "cell_type": "code",
     "collapsed": false,
     "input": [
      "b = dict(name='AAPL', shares=100, price=534.22)"
     ],
     "language": "python",
     "metadata": {},
     "outputs": [],
     "prompt_number": 54
    },
    {
     "cell_type": "code",
     "collapsed": false,
     "input": [
      "%timeit a"
     ],
     "language": "python",
     "metadata": {},
     "outputs": [
      {
       "output_type": "stream",
       "stream": "stdout",
       "text": [
        "10000000 loops, best of 3: 25.9 ns per loop\n"
       ]
      }
     ],
     "prompt_number": 55
    },
    {
     "cell_type": "code",
     "collapsed": false,
     "input": [
      "%timeit b"
     ],
     "language": "python",
     "metadata": {},
     "outputs": [
      {
       "output_type": "stream",
       "stream": "stdout",
       "text": [
        "10000000 loops, best of 3: 28.3 ns per loop\n"
       ]
      }
     ],
     "prompt_number": 56
    },
    {
     "cell_type": "markdown",
     "metadata": {},
     "source": [
      "- \ub450\ubc88\uc9f8(b) \ubc29\uc2dd\uc758 \ucf54\ub4dc\uac00 \ub354 \uac04\uacb0(\ud0a4 \uc774\ub984\uc744 \ub530\uc634\ud45c\ub85c \ubb36\uc744 \ud544\uc694\uac00 \uc5c6\ub2e4)\n",
      "- \ud558\uc9c0\ub9cc \ub450 \ucf54\ub4dc\ub97c \ub193\uace0 \uc131\ub2a5\uc744 \ube44\uad50\ud574 \ubcf4\uba74, dict()\ub97c \uc0ac\uc6a9\ud55c \uac83\uc774 3 \ubc30 \uc815\ub3c4 \ub290\ub9ac\ub2e4!\n",
      "- \uadf8\ub807\ub2e4\uba74 \uc774\uc81c dict()\ub97c \uc0ac\uc6a9\ud55c \ubaa8\ub4e0 \ubd80\ubd84\uc744 \ucc3e\uc544\uc11c \uccab\ubc88\uc9f8(a) \ubc29\uc2dd\uc73c\ub85c \ubaa8\ub450 \ubcc0\ud658\ud558\ub294 \uac83\uc774 \uc88b\uc744\uae4c?\n",
      "- \uc601\ub9ac\ud55c \ud504\ub85c\uadf8\ub798\uba38\ub77c\uba74 \uc774 \ubd80\ubd84\uc744 \uc218\uc815\ud558\uc9c0 \uc54a\uace0 \uadf8\ub0e5 \ub458 \uac83\n",
      "- \uadf8\ubcf4\ub2e4\ub294 **\ub0b4\ubd80 \uc21c\ud658\ubb38**\uacfc \uac19\uc774 **\uc2e4\ud589 \uc18d\ub3c4\uc5d0 \uc9c1\uc811\uc801\uc73c\ub85c \uc601\ud5a5\uc744 \uc8fc\ub294 \uacf3\uc744 \ucc3e\uc544 \ucd5c\uc801\ud654**\ud558\ub294 \uac83\uc774 \uc88b\uc74c\n",
      "- \uadf8 \uc774\uc678\uc758 \uc7a5\uc18c\uc5d0 \ub300\ud574\uc11c\ub294 \uc774 \uc18d\ub3c4 \ucc28\uc774\uac00 \uac70\uc758 \uc544\ubb34\ub7f0 \ucc28\uc774\ub3c4 \ub9cc\ub4e4\uc9c0 \ubabb\ud568\n",
      "- \ub9cc\uc57d \uc791\uc131\uc911\uc778 \ud504\ub85c\uadf8\ub7a8\uc758 \uc131\ub2a5\uc774 \uc774\ubc88 \ub808\uc2dc\ud53c\uc5d0\uc11c \ub2e4\ub8ec \ucd5c\uc801\ud654\ub85c\ub294 \uc5b4\ub9bc\uc5c6\uc744 \ub9cc\ud07c \uc911\uc694\ud558\ub2e4\uba74 **just-in-time(JIT) \ucef4\ud30c\uc77c \uae30\uc220\uc5d0 \uae30\ubc18\ud55c \ub3c4\uad6c \uc0ac\uc6a9**\uc744 \uace0\ub824\ud558\ub3c4\ub85d \ud558\uc790\n",
      "- \uc608\ub97c \ub4e4\uc5b4 PyPy \ud504\ub85c\uc81d\ud2b8\ub294 \ud30c\uc774\uc36c \uc778\ud130\ud504\ub9ac\ud130\uc758 \ub300\uc548 \uad6c\ud604\uc73c\ub85c, \ud504\ub85c\uadf8\ub7a8 \uc2e4\ud589\uc744 \ubd84\uc11d\ud558\uace0 \ube48\ubc88\ud788 \uc2e4\ud589\ub418\ub294 \ubd80\ubd84\uc5d0 \ub300\ud574\uc11c \ub124\uc774\ud2f0\ube0c \ucf54\ub4dc\ub97c \uc0dd\uc131\ud568\n",
      "- \uc774 \uae30\uc220\uc744 \uc0ac\uc6a9\ud558\uba74 \ud30c\uc774\uc36c \ud504\ub85c\uadf8\ub7a8\uc758 \uc2e4\ud589 \uc18d\ub3c4\uac00 \ube44\uc57d\uc801\uc73c\ub85c \uc99d\uac00\ud558\uace0, \ub54c\ub85c\ub294 C\ub85c \uc791\uc131\ud55c \ud504\ub85c\uadf8\ub7a8 \uc18d\ub3c4\uc5d0 \uadfc\uc811\ud558\uac70\ub098 \uc2ec\uc9c0\uc5b4 \ub354 \ube68\ub77c\uc9c0\uae30\ub3c4 \ud568\n",
      "- \ud558\uc9c0\ub9cc \uc548\ud0c0\uae5d\uac8c\ub3c4 \uc774 \ucc45\uc744 \uc9d1\ud544\ud558\uace0 \uc788\ub294 \ud604\uc7ac PyPy\ub294 \ud30c\uc774\uc36c3\ub97c \uc644\ubcbd\ud788 \uc9c0\uc6d0\ud558\uc9c0 \uc54a\ub294\ub2e4.\n",
      "- Numba\ub294 \ub2e4\uc774\ub0b4\ubbf9 \ucef4\ud30c\uc77c\ub85c\uc11c \ub370\ucf54\ub808\uc774\ud130\ub85c \ucd5c\uc801\ud654\ud558\uace0 \uc2f6\uc740 \ud30c\uc774\uc36c \ud568\uc218\uc5d0 \uc8fc\uc11d\uc744 \ub2e8\ub2e4.\n",
      "- \uc774\ub7f0 \ud568\uc218\ub294 LLVM\uc744 \uc0ac\uc6a9\ud574\uc11c \ub124\uc774\ud2f0\ube0c \ucf54\ub4dc\ub85c \ucef4\ud30c\uc77c \ub428\n",
      "- \uc774 \uc5ed\uc2dc \uc5c4\uccad\ub09c \uc131\ub2a5 \ud5a5\uc0c1\uc744 \uac00\uc838\uc624\uc9c0\ub9cc, PyPy\uc640 \ub9c8\ucc2c\uac00\uc9c0\ub85c \ud30c\uc774\uc36c3 \uc9c0\uc6d0\uc5d0 \ub300\ud574\uc11c\ub294 \uc544\uc9c1 \ubbf8\ube44\ud55c \uc810\uc774 \uc874\uc7ac\n",
      "- \ub9c8\uc9c0\ub9c9\uc73c\ub85c \uc874 \uc544\uc6b0\uc2a4\ud130\ud558\uc6b0\ud2b8(John Ousterhout)\uc758 **\"\uc644\ubcbd\ud55c \uc131\ub2a5 \ud5a5\uc0c1\uc740 \ub3d9\uc791\ud558\uc9c0 \uc54a\ub294 \uac83\uc744 \ub3d9\uc791 \uc0c1\ud0dc\ub85c \ubcc0\uc774\ud558\ub294 \uac83\uc774\ub2e4\"**\ub77c\ub294 \ub9d0\uc744 \uaf2d \uae30\uc5b5\ud558\uc790\n",
      "- \uaf2d \ud544\uc694\ud558\uc9c0 \uc54a\ub2e4\uba74 \ucd5c\uc801\ud654\uc5d0 \ub300\ud574\uc11c \uac71\uc815\ud558\uc9c0 \uc54a\uc544\ub3c4 \uc88b\ub2e4.\n",
      "- \ud504\ub85c\uadf8\ub7a8\uc774 **\uc62c\ubc14\ub974\uac8c \ub3d9\uc791**\ud558\ub3c4\ub85d \ub9cc\ub4dc\ub294 \uac83\uc774 \ube60\ub974\uac8c \uc2e4\ud589\ud558\ub3c4\ub85d \ub9cc\ub4dc\ub294 \uac83\ubcf4\ub2e4 **\ud6e8\uc52c \uc911\uc694**\ud558\ub2e4(**\uc801\uc5b4\ub3c4 \ucd08\uae30\uc5d0\ub294**)"
     ]
    }
   ],
   "metadata": {}
  }
 ]
}