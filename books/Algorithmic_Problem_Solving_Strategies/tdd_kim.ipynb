{
 "cells": [
  {
   "cell_type": "markdown",
   "metadata": {},
   "source": [
    "# TDD"
   ]
  },
  {
   "cell_type": "markdown",
   "metadata": {},
   "source": [
    "- 일단 통과해 놓고 리팩토링\n",
    "- 문제가 있는 상황은 불안해짐\n"
   ]
  },
  {
   "cell_type": "markdown",
   "metadata": {},
   "source": [
    "## Q&A\n",
    "\n",
    "- 문서화, TDD\n",
    "- 테스트 케이스가 있으면 한 번 돌려보고 가면 좋다.\n",
    "- CI까지 연결\n",
    "- TDD 케이스를 어떻게 작성하는지가 또 문제\n",
    "- TDD가 예시가 있기 때문에 문서가 없어도 된다.\n",
    "- 이 함수는 이렇게 짜려고 했는데 나중에 테스트 케이스를 짜다 보니까 겹침\n",
    "- 구조변경이 커지면 어떻게?\n",
    "- 과도한 Mock-up 비용 -> Docker나 Ansible 이용.\n",
    "- 설정 잡고 하는 것들은 왠만하면 하지 말고 \n",
    "- 코드 커버리지,\n",
    "- tox는?"
   ]
  },
  {
   "cell_type": "markdown",
   "metadata": {},
   "source": [
    "### 질문\n",
    "\n",
    "- DB connection을 docker로 연결하는것"
   ]
  },
  {
   "cell_type": "markdown",
   "metadata": {},
   "source": [
    "- 안 바뀌는 플랫폼적인 것들은 이미지를 하나 만들어놓음\n",
    "- 앞단은 있는거 그냥 쓴다.\n",
    "- self.docker는 자주 바뀌는거, 연관되어 있는거\n",
    "- 디버깅용 docker도 두고 있다.\n",
    "\n",
    "\n",
    "- docker, fabric \n",
    "- 시스템 테스트 할 때는 내 노트북에 떠 있고...\n",
    "- drone에서는 시스템 낮은 레벨만 돌리고 있다."
   ]
  },
  {
   "cell_type": "code",
   "execution_count": null,
   "metadata": {
    "collapsed": true
   },
   "outputs": [],
   "source": []
  },
  {
   "cell_type": "markdown",
   "metadata": {},
   "source": [
    "- 보안 설정이나 동시성 문제들..\n",
    "- kivy 모바일 라이브러리는 자기들이 버튼을 만드는 걸 찍어서 픽셀로 확인\n",
    "- 테스트 케이스를 자기 컴퓨터에서만 돌려라. 픽셀 단위\n",
    "- UI가 많은 어플리케이션\n",
    "- 의존하는 외부 시스템이 많은 서비스\n",
    "- "
   ]
  },
  {
   "cell_type": "markdown",
   "metadata": {},
   "source": [
    "- 그 전의 것은 동작한다는 신뢰\n",
    "- pytest? 확실히 코드량이 많이 줄어든다.\n",
    "- \\-\\-pdb라는 옵션이 있어서 import pdb 안해줘도 되겠네.\n",
    "- 비슷한 애들끼리는 한 함수에다가 넣기\n",
    "- "
   ]
  },
  {
   "cell_type": "markdown",
   "metadata": {},
   "source": [
    "- ORM을 왜 쓰냐?\n",
    "- SLQAlchemy 나 django ORM\n",
    "- ORM화 해놓으면 테스트화 하기 용이해짐\n",
    "- ponyorm.com 신택스가 깔끔하고\n",
    "- SQLite 메모리 버전으로 PonyORM\n",
    "- SQLAlchemy 10 , PonyORM 2\n",
    "- Albemic?\n",
    "- fixture?"
   ]
  },
  {
   "cell_type": "markdown",
   "metadata": {},
   "source": [
    "- setup.py 자기 모듈에 대한 정보를 넣어주면\n",
    "- usr/local/bin 에도 설치해 줄 수도 있고..\n",
    "- 크론탭이 실행되는 환경이 유저 실행 환경과 다를 수도 있다.\n",
    "\n",
    "> pip install -e .\n",
    "\n",
    "- -e가 개발할 때 쓰는 옵션\n",
    "- 진짜 설치가 되는게 아니라 symbolic link가 됨"
   ]
  },
  {
   "cell_type": "markdown",
   "metadata": {},
   "source": [
    "- fabric 도입해야 되는데?\n",
    "  - 로컬에서 쓰시는 분들도 있다\n",
    "  - 진짜 ssh에서만 쓰기\n",
    "\n",
    "- Docker 하기\n",
    "- 로컬에서는 argparser 를 쓰는게 좋다."
   ]
  },
  {
   "cell_type": "markdown",
   "metadata": {},
   "source": [
    "## 모듈 바람직한 구조\n",
    "\n",
    "- tdd가 패키지가 됨\n",
    "- \\_\\_init\\_\\_.py\n",
    "- tox를 "
   ]
  },
  {
   "cell_type": "markdown",
   "metadata": {},
   "source": [
    "### fixture\n",
    "\n",
    "- 1000개의 url 이 1000개가 있다고 치면\n",
    "- 파일을 읽어와서 테스트 한다면 매번 읽어와서 하는 것보다는 한 번에 읽어오는게 좋음\n",
    "- 임시로 써서 버리는 것\n",
    "- ORM으로 실제 DB에 연동되는것 테스트?\n",
    "- 셀렉트된 결과를 받을 수도 있음\n",
    "- scope?\n",
    "  - module\n",
    "  - session: 다른 파일들...\n",
    "  - 픽스쳐만 따로 떼놓고 그것 먼저 불러온다.\n",
    "\n",
    "```python\n",
    "import pytest\n",
    "@pytest.fixture(scope='module')\n",
    "def manyurls():\n",
    "    with open('url_list.txt') as f:\n",
    "        return f.readlines()\n",
    "```\n",
    "\n",
    "- yield_fixture 결과를 한 번에 리턴하지 않고 요청이 있을 때마다 준다.\n",
    "- 메모리를 적게 쓸 수 있음\n",
    "- DB 접속이나 종료가 됐을 때 해야하는게 있다면...\n",
    "- close가 yield가 끝난 다음에 자동으로 불려짐\n",
    "- "
   ]
  },
  {
   "cell_type": "markdown",
   "metadata": {},
   "source": [
    "- print 문으로 찍어보고 싶은데 -s: stdout\n",
    "\n",
    "- 예외\n",
    "  - raise ValueError() 저런것도 테스트를 할 수 있다."
   ]
  },
  {
   "cell_type": "markdown",
   "metadata": {},
   "source": [
    "- split을 던졌을 때 얼마만에 해결 가능?\n",
    "- py.test에 -k 가 있는데 비슷한 이름을 찾아서 그것만 실행해주는 것.\n",
    "- nameing 규약"
   ]
  },
  {
   "cell_type": "markdown",
   "metadata": {},
   "source": [
    "### 커버리지\n",
    "\n",
    "- 코드가 100줄이 있는데 그 안에 30줄만 실행이 된다고 하면 30%가 된다.\n",
    "- 테스트가 안되고 있는게 어떤건지 알 수 있다."
   ]
  },
  {
   "cell_type": "markdown",
   "metadata": {},
   "source": [
    "- setup.py 를 쓰자: 1번 배워놓으면 나중에 두루두루 사용할 수 있음"
   ]
  },
  {
   "cell_type": "code",
   "execution_count": null,
   "metadata": {
    "collapsed": true
   },
   "outputs": [],
   "source": [
    "py.test -cov urlsplit --cov-report=html"
   ]
  },
  {
   "cell_type": "markdown",
   "metadata": {},
   "source": [
    "- javascript tdd\n",
    "- selenium 으로..\n",
    "- code coverage를 100% 로 끌어올리게 하기"
   ]
  },
  {
   "cell_type": "markdown",
   "metadata": {},
   "source": [
    "### 알고리즘 풀이에 적용\n",
    "\n",
    "- 알고리즘 문제 풀이는 TDD 적용이 용이한 분야\n",
    "- 먼저 예시를 만족하는 풀이를 구현하고,\n",
    "- 경계조건\n",
    "- 퍼포먼스 측정\n",
    "- 리팩토링 후 점검"
   ]
  },
  {
   "cell_type": "markdown",
   "metadata": {},
   "source": [
    "### TDD의 확장\n",
    "\n",
    "- CI 툴과의 연계\n",
    "  - Travis CI(처음부터 다시 설치), drone.io(도커 이용, 빌드한 컨테이너 가지고 테스트를 돌리기 때문에) 등 이용\n",
    "- coveralls로 커버리지 모니터링"
   ]
  },
  {
   "cell_type": "markdown",
   "metadata": {},
   "source": [
    "### 스핑크스\n",
    "\n",
    "- reference 같은것이 소스에 다 있음\n",
    "- 기능설명에 대한건 함수 안에 다 있다."
   ]
  },
  {
   "cell_type": "code",
   "execution_count": null,
   "metadata": {
    "collapsed": true
   },
   "outputs": [],
   "source": []
  }
 ],
 "metadata": {
  "kernelspec": {
   "display_name": "Python 2",
   "language": "python",
   "name": "python2"
  },
  "language_info": {
   "codemirror_mode": {
    "name": "ipython",
    "version": 2
   },
   "file_extension": ".py",
   "mimetype": "text/x-python",
   "name": "python",
   "nbconvert_exporter": "python",
   "pygments_lexer": "ipython2",
   "version": "2.7.6"
  }
 },
 "nbformat": 4,
 "nbformat_minor": 0
}
