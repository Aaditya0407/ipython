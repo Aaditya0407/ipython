{
 "metadata": {
  "name": "",
  "signature": "sha256:0a56a421449071d4387d100d6de5b72e5d3f9f603b687b2e62f5ebf6ad6584b9"
 },
 "nbformat": 3,
 "nbformat_minor": 0,
 "worksheets": [
  {
   "cells": [
    {
     "cell_type": "markdown",
     "metadata": {},
     "source": [
      "# Mismatched Brackets\n",
      "\n",
      "## \uc6d0\ubcf8 \uc790\ub8cc\n",
      "\n",
      "- [algospot.com :: BRACKETS2](https://algospot.com/judge/problem/read/BRACKETS2)"
     ]
    },
    {
     "cell_type": "markdown",
     "metadata": {},
     "source": [
      "## \ud574\uc11d\n",
      "\n",
      "- \ub465\uadfc \uad04\ud638\ub294 (\ub85c \uc5f4\uace0, )\ub85c \ub2eb\uc2b5\ub2c8\ub2e4.\n",
      "- \uc911\uad04\ud638\ub294 {\ub85c \uc5f4\uace0, }\ub85c \ub2eb\uc2b5\ub2c8\ub2e4.\n",
      "- \ub300\uad04\ud638\ub294 [\ub85c \uc5f4\uace0, ]\ub85c \ub2eb\uc2b5\ub2c8\ub2e4.\n",
      "\n",
      "### \uc9dd\uc774 \ub9de\ub294\ub2e4\uc758 \ud45c\ud604\n",
      "\n",
      "- \ubaa8\ub4e0 \uad04\ud638\ub294 \ud574\ub2f9\ud558\ub294 \uc9dd\uc774 \uc788\uc5b4\uc57c \ud569\ub2c8\ub2e4. \uc774\ub54c (\ub294 )\uc640, {\ub294 }\uc640, [\ub294 ]\uc640 \uc9dd\uc744 \uc774\ub904\uc57c\ub9cc \ud569\ub2c8\ub2e4.\n",
      "- \ubaa8\ub4e0 \uad04\ud638 \uc30d\uc740 \uba3c\uc800 \uc5f4\ub9b0 \ub4a4 \ub2eb\ud799\ub2c8\ub2e4.\n",
      "- \ud55c \uad04\ud638 \uc30d\uc774 \ub2e4\ub978 \uad04\ud638\uc30d\uacfc \uc11c\ub85c '\uad50\ucc28\ud574' \uc788\uc73c\uba74 \uc548\ub429\ub2c8\ub2e4. \uc774 \uc815\uc758\uc5d0 \uc758\ud558\uba74 [(])\ub294 \uc9dd\uc774 \ub9de\uc9c0 \uc54a\ub294 \uacbd\uc6b0\uc785\ub2c8\ub2e4.\n",
      "\n",
      "\n",
      "- \ubb38\uc81c\ub97c \uac04\ub2e8\ud558\uac8c \ud558\uae30 \uc704\ud574, \uc785\ub825\ub418\ub294 \uc218\uc2dd\uc5d0\uc11c \uad04\ud638 \uc678\uc758 \ubb38\uc790\ub294 \ubaa8\ub450 \uc9c0\uc6e0\uc2b5\ub2c8\ub2e4.\n",
      "\n",
      "#### \uc2dc\uac04 \ubc0f \uba54\ubaa8\ub9ac \uc81c\ud55c\n",
      "\n",
      "- \ud504\ub85c\uadf8\ub7a8\uc740 1\ucd08 \uc548\uc5d0 \uc2e4\ud589\ub418\uc5b4\uc57c \ud558\uba70, 64MB \uc774\ud558\uc758 \uba54\ubaa8\ub9ac \uc0ac\uc6a9\n",
      "\n",
      "#### \uc785\ub825\n",
      "\n",
      "- \uc785\ub825\uc758 \uccab \uc904\uc5d0\ub294 \ud14c\uc2a4\ud2b8 \ucf00\uc774\uc2a4\uc758 \uc218 C(1<=C<=100)\uac00 \uc8fc\uc5b4\uc9d0\n",
      "- \uadf8 \ud6c4 C \uc904\uc5d0 \uac01 \ud558\ub098\uc758 \ubb38\uc790\uc5f4\ub85c \ud14c\uc2a4\ud2b8 \ucf00\uc774\uc2a4\uac00 \uc8fc\uc5b4\uc9d0\n",
      "- \uc774 \ubb38\uc790\uc5f4\uc740 \uacf5\ubc31\uc5c6\uc774 \"(){}[]\"\uc5d0 \ud3ec\ud568\ub41c \uae00\uc790\ub85c\ub9cc \uc8fc\uc5b4\uc9c0\uba70, \uae38\uc774\ub294 1 \uc774\uc0c1 10,000 \uc774\ud558\uc784\n",
      "\n",
      "#### \ucd9c\ub825\n",
      "\n",
      "- \uac01 \ud14c\uc2a4\ud2b8 \ucf00\uc774\uc2a4\ub9c8\ub2e4, \uc8fc\uc5b4\uc9c4 \uad04\ud638 \ubb38\uc790\uc5f4\uc774 \uc9dd\uc774 \uc798 \ub9de\ub294\ub2e4\uba74 \"YES\"\ub97c, \uc548 \ub9de\ub294\ub2e4\uba74 \"NO\"\ub97c \ud55c \uc904\uc5d0 \ucd9c\ub825\ud568\n",
      "\n",
      "\n",
      "#### \uc608\uc81c \uc785\ub825\n",
      "\n",
      "    3\n",
      "    ()\n",
      "    ({[}])\n",
      "    ({}[(){}])\n",
      "    \n",
      "#### \uc608\uc81c \ucd9c\ub825\n",
      "\n",
      "    YES\n",
      "    NO\n",
      "    YES"
     ]
    },
    {
     "cell_type": "markdown",
     "metadata": {},
     "source": [
      "### \ud480\uc774\n",
      "\n",
      "- \uad04\ud638 \uc30d\uc774 \uc798 \ub9de\ub294\uc9c0 \ud655\uc778\ud558\ub294 \uc791\uc5c5: \uc2a4\ud0dd\uc744 \ub2e4\ub8e8\ub294 \ucc45\ub4e4\uc758 \ub2e8\uace8 \uc5f0\uc2b5 \ubb38\uc81c\n",
      "- \ud55c \ubc88 \uc5f4\ub9b0 \uad04\ud638\ub294 \ubc18\ub4dc\uc2dc \uc5f4\ub9b0 \ubc18\ub300 \uc21c\uc11c\ub300\ub85c \ub2eb\ud600\uc57c \ud558\uae30 \ub54c\ubb38\n",
      "- \ub530\ub77c\uc11c \uc9c0\uae08\uae4c\uc9c0 \uc5f4\ub9b0 \uad04\ud638\ub97c \ub2f4\ub294 \uc2a4\ud0dd\uc744 \uc0ac\uc6a9\ud574 \uac04\ub2e8\ud558\uac8c \uad6c\ud604 \uac00\ub2a5\n",
      "- \uc774 \uc54c\uace0\ub9ac\uc998\uc740 \uc218\uc2dd\uc758 \uac01 \ubb38\uc790\ub97c \uc21c\ud68c\ud558\uba74\uc11c, \uc5ec\ub294 \uad04\ud638\ub77c\ub294 \uc2a4\ud0dd\uc5d0 \ud478\uc2dc\ud558\uace0, \ub2eb\ub294 \uad04\ud638\ub77c\uba74 \uc2a4\ud0dd \ub9e8 \uc704\uc5d0 \uad04\ud638\uc640 \uc11c\ub85c \ub9de\ucdb0\ubd04. \uadf8\ub9ac\uace0 \uc11c\ub85c \ub9de\uc9c0 \uc54a\uc744 \uacbd\uc6b0 \uc624\ub958\ub97c \ubc18\ud658\ud558\uba74 \ub428\n",
      "\n",
      "#### 2\uac00\uc9c0 \uc608\uc678 \uc911\uc694\n",
      "\n",
      "- \uc2a4\ud0dd\uc5d0\uc11c \uc5ec\ub294 \uad04\ud638\ub97c \uaebc\ub0b4\ub824\uace0 \ud558\ub294\ub370 **\uc2a4\ud0dd\uc774 \ube44\uc5b4\uc788\ub294** \uacbd\uc6b0\n",
      "- \uc804\ubd80 \ub2e4 \uc798 \ucc98\ub9ac\ud558\uace0 **\ub9c8\uc9c0\ub9c9\uc5d0 \uc5f4\ub9b0 \uad04\ud638\uac00 \ub0a8\uc544 \uc788\ub294\uc9c0 \ud655\uc778**\ud558\ub294 \uac83\n",
      "- \uc774 \ubb38\uc81c\ub97c \ucc98\uc74c \uc791\uc131\ud558\ub294 \uc0ac\ub78c\uc774 \uac04\uacfc\ud558\uae30 \uc26c\uc6b4 \ubd80\ubd84\n",
      "- \uc5ec\ub294 \uad04\ud638\uc640 \ub2eb\ub294 \uad04\ud638\uc758 \ubaa9\ub85d\uc744 \ubb38\uc790\uc5f4\uc5d0 \uc800\uc7a5\ud574\uc11c **\ud55c \ubb38\uc790\uac00 \uc5ec\ub294 \uad04\ud638\uc778\uc9c0**, \uadf8\ub9ac\uace0 **\uc11c\ub85c \uc9dd\uc774 \ub9de\ub294\uc9c0 \uc27d\uac8c \ud655\uc778**\ud558\ub294 \uac83\ub3c4 \ub208\uc5ec\uaca8\ubcfc\ub9cc \ud568"
     ]
    },
    {
     "cell_type": "markdown",
     "metadata": {},
     "source": [
      "### \uc0dd\uac01\ud55c \uc810\n",
      "\n",
      "- Python\uc5d0 Stack \uc790\ub8cc\uad6c\uc870\uac00 \ub2f9\uc5f0\ud788 \uc788\uc744\uac70\ub77c\uace0 \uc0dd\uac01\ud588\ub294\ub370 \uc5c6\uc5c8\ub2e4.\n",
      "- \uadf8\ub798\uc11c list\ub85c \uad6c\ud604\uc744 \ud574\uc57c\ub410\ub2e4.\n",
      "- stack\uc758 \ud2b9\uc9d5\n",
      "  - \uc544\ub798\uc5d0\uc11c \uc704\ub85c \uc313\uc778\ub2e4.\n",
      "  - top \uc774\ub77c\ub294 \ud568\uc218\ub97c \ud558\ub098 \ub9cc\ub4e4\uc5b4 stack\uc758 \uac00\uc7a5 \uc0c1\ub2e8\uc5d0 \ubb34\uc5c7\uc774 \uc788\ub294\uc9c0 \ud30c\uc545\n",
      "  - \\_\\_str\\_\\_\ub97c \ub9cc\ub4e4\uc5b4\uc11c \uba87 \uac1c\uac00 \ub0a8\uc558\ub294\uc9c0 \ub3cc\ub824\uc8fc\uae30"
     ]
    },
    {
     "cell_type": "code",
     "collapsed": false,
     "input": [
      "class Stack:\n",
      "    def __init__(self):\n",
      "        self.storages = []\n",
      " \n",
      "    def is_empty(self):\n",
      "        return len(self.storages) == 0\n",
      " \n",
      "    def push(self, value):\n",
      "        self.storages.append(value)\n",
      " \n",
      "    def pop(self):\n",
      "        return self.storages.pop()\n",
      " \n",
      "    def top(self):\n",
      "        return self.storages[-1]\n",
      "    \n",
      "    def __str__(self):\n",
      "        return str(self.storages)"
     ],
     "language": "python",
     "metadata": {},
     "outputs": [],
     "prompt_number": 13
    },
    {
     "cell_type": "code",
     "collapsed": false,
     "input": [
      "stack = Stack()\n",
      "stack.push(1)\n",
      "stack.push(5)\n",
      "stack"
     ],
     "language": "python",
     "metadata": {},
     "outputs": [
      {
       "metadata": {},
       "output_type": "pyout",
       "prompt_number": 16,
       "text": [
        "<__main__.Stack instance at 0x10be88f38>"
       ]
      }
     ],
     "prompt_number": 16
    },
    {
     "cell_type": "code",
     "collapsed": false,
     "input": [
      "print stack"
     ],
     "language": "python",
     "metadata": {},
     "outputs": [
      {
       "output_type": "stream",
       "stream": "stdout",
       "text": [
        "[1, 5]\n"
       ]
      }
     ],
     "prompt_number": 19
    },
    {
     "cell_type": "code",
     "collapsed": false,
     "input": [
      "%%writefile sources/brackets.py\n",
      "\n",
      "# -*- coding: utf-8\n",
      "class Stack:\n",
      "    def __init__(self):\n",
      "        self.storages = []\n",
      " \n",
      "    def is_empty(self):\n",
      "        return len(self.storages) == 0\n",
      " \n",
      "    def push(self, value):\n",
      "        self.storages.append(value)\n",
      " \n",
      "    def pop(self):\n",
      "        return self.storages.pop()\n",
      " \n",
      "    def top(self):\n",
      "        return self.storages[-1]\n",
      "    \n",
      "    def __str__(self):\n",
      "        return str(self.storages)\n",
      " \n",
      " \n",
      "def well_matched(string_):\n",
      "    # \uc5ec\ub294 \uad04\ud638\n",
      "    opening = ['(', '{', '[']\n",
      "    # \ub2eb\ub294 \uad04\ud638\n",
      "    closing = [')', '}', ']']\n",
      "    # \uc5f4\ub9b0 \uad04\ud638\ub4e4\uc744 \uc21c\uc11c\ub300\ub85c \ub2f4\ub294 \uc2a4\ud0dd\n",
      "    open_stack = Stack()\n",
      "    for ch in string_:\n",
      "        # opening\uc5d0 \ud3ec\ud568\ub418\ub294 \ubb38\uc790\uac00 \uc788\uc73c\uba74 stack\uc5d0 \ub123\ub294\ub2e4.\n",
      "        if ch in opening:\n",
      "            open_stack.push(ch)\n",
      "        else:\n",
      "            # stack\uc5d0 \uc544\ubb34\uac83\ub3c4 \uc5c6\ub294\ub370 \ub2eb\ub294 \uad04\ud638\uac00 \uc788\ub2e4\uba74 False\n",
      "            if open_stack.is_empty():\n",
      "                return 'NO'\n",
      "            top = open_stack.top()\n",
      "            # openingr\uacfc closing\uc758 index\ub97c \ube44\uad50\ud574\uc11c \uac19\uc9c0 \uc54a\uc73c\uba74 False\n",
      "            if opening.index(top) != closing.index(ch):\n",
      "                return 'NO'\n",
      "            # stack\uc5d0 \ub4e4\uc5b4\uc788\ub294\uac78 \ube80\ub2e4.\n",
      "            open_stack.pop()\n",
      "    # \ubaa8\ub4e0 for\ubb38\uc774 \ub05d\ub0ac\uc744\ub54c stack\uc774 \ube44\uc5b4\uc788\uc73c\uba74 True\n",
      "    if open_stack.is_empty():\n",
      "        return 'YES'\n",
      "    # \uadf8\uac8c \uc544\ub2c8\uba74 False\n",
      "    return 'NO'\n",
      " \n",
      " \n",
      "if __name__ == '__main__':\n",
      "    n = int(raw_input())\n",
      "    for i in range(n):\n",
      "        string_  = raw_input()\n",
      "        print well_matched(string_)"
     ],
     "language": "python",
     "metadata": {},
     "outputs": [
      {
       "output_type": "stream",
       "stream": "stdout",
       "text": [
        "Overwriting sources/brackets.py\n"
       ]
      }
     ],
     "prompt_number": 1
    },
    {
     "cell_type": "code",
     "collapsed": false,
     "input": [
      "%%writefile sources/TestBrackets.py\n",
      "import unittest\n",
      "from brackets import well_matched\n",
      "\n",
      "\n",
      "class TestBrackets(unittest.TestCase):\n",
      "    def testBrackets(self):\n",
      "        s = '''()()\n",
      "({[}])\n",
      "({}[(){}])\n",
      ")\n",
      "}\n",
      "}}}\n",
      "{}[]()\n",
      "{[([()])]}\n",
      "{[([()])]'''\n",
      "        problems = s.split('\\n')\n",
      "        # answers = [True, False, True, False, False, False, True, True, False]\n",
      "        answers = ['YES', 'NO', 'YES', 'NO', 'NO', 'NO', 'YES', 'YES', 'NO']\n",
      "        d = {}\n",
      "        for k, v in zip(problems, answers):\n",
      "            d[k] = v\n",
      "\n",
      "        for k, v in d.items():\n",
      "            test_answer = well_matched(k)\n",
      "            self.assertEqual(test_answer, v)\n",
      "\n",
      "if __name__ == '__main__':\n",
      "    unittest.main()"
     ],
     "language": "python",
     "metadata": {},
     "outputs": [
      {
       "output_type": "stream",
       "stream": "stdout",
       "text": [
        "Overwriting sources/TestBrackets.py\n"
       ]
      }
     ],
     "prompt_number": 11
    },
    {
     "cell_type": "code",
     "collapsed": false,
     "input": [
      "%run sources/TestBrackets.py"
     ],
     "language": "python",
     "metadata": {},
     "outputs": [
      {
       "output_type": "stream",
       "stream": "stderr",
       "text": [
        "."
       ]
      },
      {
       "output_type": "stream",
       "stream": "stderr",
       "text": [
        "\n",
        "----------------------------------------------------------------------\n",
        "Ran 1 test in 0.001s\n",
        "\n",
        "OK\n"
       ]
      }
     ],
     "prompt_number": 12
    },
    {
     "cell_type": "markdown",
     "metadata": {},
     "source": [
      "## \ud6c4\uae30\n",
      "\n",
      "### input \ubc1b\uae30\n",
      "\n",
      "- \uc774\ub7f0 \ubb38\uc81c\ud480\uc774 \uc0ac\uc774\ud2b8\ub294 input \ubc1b\ub294\uac8c \uac00\uc7a5 \uc5b4\ub835\ub2e4. input\uc744 \ubc1b\uc744 \uc218 \uc788\uc5b4\uc57c \ubb38\uc81c\ub97c \ud480 \uc218 \uc788\ub294\ub370..\n",
      "  - [algospot.com ::  \n",
      "\t\uc54c\uace0\uc2a4\ud31f \uc628\ub77c\uc778 \uc800\uc9c0/\uccab \ubc88\uc9f8 \ubb38\uc81c \ud480\uae30](https://algospot.com/wiki/read/%EC%95%8C%EA%B3%A0%EC%8A%A4%ED%8C%9F_%EC%98%A8%EB%9D%BC%EC%9D%B8_%EC%A0%80%EC%A7%80/%EC%B2%AB_%EB%B2%88%EC%A7%B8_%EB%AC%B8%EC%A0%9C_%ED%92%80%EA%B8%B0): input \ubc1b\ub294\ubc95 \uc0c1\uc138\ud788 \ub098\uc654\uc73c\ub2c8 \ucc38\uace0\n",
      "  - \ubb3c\ub860 \ubaa8\ub4e0 \uc785\ub825\uc744 \ubc1b\uc544 \ubaa8\uc544\uc11c \uacc4\uc0b0\ud55c \ub4a4 \ud55c\uaebc\ubc88\uc5d0 \ucd9c\ub825\ud574\ub3c4 \ubb34\ubc29\ud558\uc9c0\ub9cc, \uad6c\ud604\uc758 \ud3b8\uc758\ub97c \uc704\ud574\uc11c\ub294 **\uac01 \uc785\ub825\uc744 \ubc14\ub85c \ucc98\ub9ac\ud558\ub294 \uac83\uc774 \ud604\uba85**\n",
      "\n",
      "### \uc54c\uace0\ub9ac\uc998 \ubc0f Test Code \uc791\uc131 \ubc0f Test Code\uc758 \uc911\uc694\uc131\n",
      "\n",
      "- \uc2ac\ub2d8\uc758 \ub3c4\uc6c0\uc73c\ub85c \ud480\uc5c8\uc74c\n",
      "- \uc194\uc9c1\ud788 \uc798 \ubab0\ub77c\uc11c \ucc45 \ud78c\ud2b8\ub97c \uc37c\ub2e4. \ucc45\uc5d0 C++\ub85c \uc4f0\uc5ec\uc9c4 \ucf54\ub4dc\ub97c \ubcf4\uace0 Python\uc73c\ub85c \ud3ec\ud305\ud558\uace0 \ub514\ubc84\uae45\uc73c\ub85c \ud55c \uc904\uc529 \ub530\ub77c\uac00\uba74\uc11c \ubc30\uc6b0\uac8c \ub410\ub2e4.\n",
      "- \ubb3c\ub860 \ucc45 \uc548 \ubcf4\uace0 **\uba3c\uc800 \ud480\uc5b4\ubcf4\ub294 \ub178\ub825\uc744 \ud558\ub294\uac8c \uac00\uc7a5 \uc88b\uc740 \ubc29\ubc95**\uc774\ub098 **\uba3c\uc800 \ucc45\uc744 \ubcf4\uace0 \ud480\uc774\ubc95\uc744 \uc774\ud574\ud55c \ub2e4\uc74c \ub2e4\uc74c\ubc88\uc5d0 \ube44\uc2b7\ud55c \ubb38\uc81c\uac00 \ub098\uc624\uba74 \ud5f7\uac08\ub9ac\uc9c0 \uc54a\uace0 \ud480 \uc218 \uc788\ub294 \uac83**\uc5d0 \uc911\uc810\uc744 \ub480\ub2e4.\n",
      "- p.633\uc5d0 \ub098\uc640\uc788\uc74c. \ub09c\uc774\ub3c4: \ud558\n",
      "- \ub0b4\uac00 \uac00\uc7a5 \ud06c\uac8c \uc2e4\uc218\ud588\ub358 2\uac1c\ub294 **'NO'\ub97c 'No'**\ub77c\uace0 \ud45c\uae30\ud55c \uac83\uacfc **\uad04\ud638\uac00 \ub531 1\uac1c \uc788\uc744 \ub54c** \uc5d0\ub7ec\ub97c \ud0d0\uc9c0\ud574\ub0b4\uc9c0 \ubabb\ud55c\uc810.\n",
      "- \uc2ac\ub2d8\uc774 \ud14c\uc2a4\ud2b8 \ucf00\uc774\uc2a4\ub97c \uc81c\uacf5\ud574 \uc8fc\uc154\uc11c \ud14c\uc2a4\ud2b8 \ucf54\ub4dc\ub97c \uc9e4 \uc218 \uc788\uc5c8\ub2e4. \ud14c\uc2a4\ud2b8 \ucf54\ub4dc\ub97c \uc608\uc804\uc5d0 \ucc45 \uba87 \ubc88 \ub4a4\uc838\ubcf4\uace0 TDD\ub3c4 \ub4a4\uc838 \ubd24\ub294\ub370 \uc2e4\uc9c8\uc801\uc73c\ub85c \ud65c\uc6a9\ud574 \ubcf8 \uc801\uc740 \ucc98\uc74c\uc774\ub2e4. \ubab8\uc5d0 \uc2b5\uad00\uc774 \ubca0\uc9c0 \uc54a\uc544\uc11c \uadf8\ub7f0\uac83 \uac19\ub2e4.\n",
      "- TDD\uc5d0\uc11c\ub294 \ud14c\uc2a4\ud2b8 \ucf54\ub4dc\ub97c \uba3c\uc800 \uc791\uc131\ud558\ub294\ub370..? \uc774 \ubd80\ubd84\uc740 \uc880 \ub354 \uace0\ubbfc\uc744 \ud574\ubd10\uc57c\uaca0\ub2e4.\n",
      "- **unittest**\ub97c \uc368\ubcf4\ub2c8 \uc88b\uc740 \uc810\uc740 **\uc2dc\uac04 \uc808\uc57d**\uc774 \ub41c\ub2e4\ub294 \uac83\uc774\ub2e4. \uadf8\ub9ac\uace0 **\ub0b4 \ucf54\ub4dc\ub97c \ubbff\uc744** \uc218 \uc788\uac8c \ub410\ub2e4. \uc5b4\ub5a4 \uc0ac\uc6a9\uc790 \uc785\ub825\uc774 \ub4e4\uc5b4\uc62c \uac83\uc778\uac00? \uadf8\uac83\uc5d0 \ub300\ud55c \uc608\uc678\ucc98\ub9ac\ub294 \ub418\uc5b4 \uc788\ub294\uac00? \uc774\uac8c \uc911\uc694\ud558\ub2e4\ub294 \uac83\uc744 \uae68\ub2ec\uc558\ub2e4. \uc774\ub7f0 \uc608\uc678 \uc0c1\ud669\uc744 \ucc98\ub9ac\ud574 \ub0b4\uc9c0 \ubabb\ud558\uba74 \ud574\ucee4\ub4e4\uc758 **Fuzzing** \uc774\ub098 **Source Code Auditing**\uc5d0 **\ucde8\uc57d\uc810\uc774 \ub178\ucd9c**\ub420 \uc218 \uc788\ub2e4\ub294 \uac78 \uc57d\uac04\uc774\ub098 \uacbd\ud5d8\ud558\uac8c \ub41c\uac83 \uac19\ub2e4.\n",
      "- [\ube14\ub85c\uadf8\uc5d0 \ud3ec\uc2a4\ud305 \ud574\ub3c4 \ub41c\ub2e4](https://algospot.com/forum/read/2238/)\ub97c \uc77d\uace0 \uacf5\uac1c\ud569\ub2c8\ub2e4. \ud639\uc2dc \ubb38\uc81c\uac00 \ub41c\ub2e4\uba74 \uc54c\ub824\uc8fc\uc2dc\uae30 \ubc14\ub78d\ub2c8\ub2e4."
     ]
    }
   ],
   "metadata": {}
  }
 ]
}