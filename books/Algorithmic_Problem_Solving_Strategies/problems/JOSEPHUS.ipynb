{
 "metadata": {
  "name": "",
  "signature": "sha256:4665315fa111c494c66320ced73c3feada06024f03419aacde10b785afe742b2"
 },
 "nbformat": 3,
 "nbformat_minor": 0,
 "worksheets": [
  {
   "cells": [
    {
     "cell_type": "markdown",
     "metadata": {},
     "source": [
      "# \uc870\uc138\ud478\uc2a4 \ubb38\uc81c\n",
      "\n",
      "## \uc6d0\ubcf8 \uc790\ub8cc\n",
      "\n",
      "- [algospot.com :: JOSEPHUS](https://algospot.com/judge/problem/read/JOSEPHUS)\n",
      "- p.620\n",
      "\n",
      "## \uc190\uace0\ub9ac\uc998 \uc2a4\ud130\ub514 \uc2a4\ucf00\uc974\n",
      "\n",
      "- [\\[\uc190\uace0\ub9ac\uc998\\] \ud30c\uc774\uc36c\uc744 \uc774\uc6a9\ud55c \uc54c\uace0\ub9ac\uc998 \uae30\ucd08 - Facebook](https://www.facebook.com/notes/%EC%86%90%EA%B3%A0%EB%A6%AC%EC%A6%98/%EC%86%90%EA%B3%A0%EB%A6%AC%EC%A6%98-%ED%8C%8C%EC%9D%B4%EC%8D%AC%EC%9D%84-%EC%9D%B4%EC%9A%A9%ED%95%9C-%EC%95%8C%EA%B3%A0%EB%A6%AC%EC%A6%98-%EA%B8%B0%EC%B4%88/862023677154790)\n",
      "\n",
      "## \ubb38\uc81c\n",
      "\n",
      "- 1\uc138\uae30\uc5d0 \uc0b4\ub358 \uc5ed\uc0ac\ud559\uc790 \uc870\uc138\ud478\uc2a4\ub294 \ub85c\ub9c8\uc640\uc758 \uc804\uc7c1\uc5d0\uc11c \ud328\ud574 N - 1\uba85\uc758 \ub3d9\ub8cc \ubcd1\uc0ac\ub4e4\uacfc \ud568\uaed8 \ucd9c\uad6c\uac00 \uc5c6\ub294 \ub3d9\uad74\uc5d0 \ud3ec\uc704\ub2f9\ud588\ub2e4\uace0 \ud569\ub2c8\ub2e4. \ub3d9\ub8cc \ubcd1\uc0ac\ub4e4\uc740 \ub85c\ub9c8\uc5d0 \ud56d\ubcf5\ud558\ub290\ub2c8 \ucc28\ub77c\ub9ac \uc790\uc0b4\ud558\uc790\uace0 \uacb0\uc758\ud588\uace0, \ud3ec\uc704\ub2f9\ud55c N\uba85\uc758 \uc0ac\ub78c\ub4e4\uc774 \ubaa8\ub450 \uc6d0\ud615\uc73c\ub85c \ub458\ub7ec\uc120 \ub4a4 \uc21c\uc11c\ub300\ub85c \uc790\uc0b4\ud558\uae30\ub85c \ud588\uc2b5\ub2c8\ub2e4. \ud55c \uc0ac\ub78c\uc774 \uc790\uc0b4\ud558\uba74, \ub2e4\uc74c\uc5d0\ub294 \uadf8 \uc0ac\ub78c\uc73c\ub85c\ubd80\ud130 \uc2dc\uacc4 \ubc29\ud5a5\uc73c\ub85c K\ubc88\uc9f8 \uc0b4\uc544\uc788\ub294 \uc0ac\ub78c\uc774 \uc790\uc0b4\ud558\ub294 \uac83\uc785\ub2c8\ub2e4.\n",
      "- \uc870\uc138\ud478\uc2a4\uc758 \ucc45\uc5d0 \ub530\ub974\uba74 \uc870\uc138\ud478\uc2a4\uc640 \ub2e4\ub978 \ubcd1\uc0ac \ud558\ub098\ub9cc\uc774 \uc0b4\uc544\ub0a8\uc558\uc744 \ub54c \uc774\ub4e4\uc740 \ub9c8\uc74c\uc744 \ubc14\uafd4 \ub85c\ub9c8\uc5d0 \ud56d\ubcf5\ud574\uc11c \uc0b4\uc544\ub0a8\uc558\ub2e4\uace0 \ud569\ub2c8\ub2e4. \ub9c8\uc9c0\ub9c9 2\uba85\uc911 \ud558\ub098\uac00 \ub418\uae30 \uc704\ud574\uc11c\ub294 \uc870\uc138\ud478\uc2a4\ub294 \uccab \ubc88\uc9f8 \ubcd1\uc0ac\ub85c\ubd80\ud130 \uba87 \uc790\ub9ac \ub5a8\uc5b4\uc9c4 \uacf3\uc5d0 \uc788\uc5b4\uc57c \ud588\uc744\uae4c\uc694?\n",
      "\n",
      "## \uc785\ub825\n",
      "\n",
      "- \uc785\ub825\uc758 \uccab \ubc88\uc9f8 \uc904\uc5d0\ub294 \ud14c\uc2a4\ud2b8 \ucf00\uc774\uc2a4\uc758 \uac1c\uc218 C(C<=50)\uac00 \uc8fc\uc5b4\uc9d1\ub2c8\ub2e4. \uac01 \ud14c\uc2a4\ud2b8 \ucf00\uc774\uc2a4\ub294 2\uac1c\uc758 \uc815\uc218 N, K\ub85c \uc8fc\uc5b4\uc9d1\ub2c8\ub2e4.(3<=N<=1000, 1<=K<=1000).\n",
      "\n",
      "## \ucd9c\ub825\n",
      "\n",
      "- \uac01 \ud14c\uc2a4\ud2b8 \ucf00\uc774\uc2a4\uc5d0 2\uac1c\uc758 \uc815\uc218\ub85c, \ub9c8\uc9c0\ub9c9 \uc0b4\uc544\ub0a8\ub294 2 \uc0ac\ub78c\uc758 \ubc88\ud638\ub97c \uc624\ub984\ucc28\uc21c\uc73c\ub85c \ucd9c\ub825\ud569\ub2c8\ub2e4. \uccab\ubc88\uc9f8\ub85c \uc790\uc0b4\ud558\ub294 \ubcd1\uc0ac\uc758 \ubc88\ud638\uac00 1\uc774\uba70, \ub2e4\ub978 \uc0ac\ub78c\ub4e4\uc758 \ubc88\ud638\ub294 \uccab\ubc88\uc9f8 \ubcd1\uc0ac\uc5d0\uc11c\ubd80\ud130 \uc2dc\uacc4 \ubc29\ud5a5\uc73c\ub85c \uc815\ud574\uc9d1\ub2c8\ub2e4.\n",
      "\n",
      "## \uc608\uc81c \uc785\ub825\n",
      "\n",
      "    2\n",
      "    6 3\n",
      "    40 3\n",
      "\n",
      "## \uc608\uc81c \ucd9c\ub825\n",
      "    3 5\n",
      "    11 26\n",
      "    \n",
      "## \ub178\ud2b8\n",
      "\n",
      "- \uccab\ubc88\uc9f8 \uc608\uc81c\uc5d0\uc11c\ub294 1\ubc88, 4\ubc88, 2\ubc88, 6\ubc88\uc774 \uc21c\uc11c\ub300\ub85c \uc8fd\uace0 3\ubc88\uacfc 5\ubc88\ub9cc\uc774 \ub0a8\uc2b5\ub2c8\ub2e4."
     ]
    },
    {
     "cell_type": "markdown",
     "metadata": {},
     "source": [
      "## \ud480\uc774\n",
      "\n",
      "- \uc870\uc138\ud478\uc2a4 \ubb38\uc81c\ub294 \uc5f0\uacb0 \ub9ac\uc2a4\ud2b8\ub85c \ud480 \uc218 \uc788\ub294 \uc804\ud615\uc801\uc778 \ubb38\uc81c\uc785\ub2c8\ub2e4. \uc6d0\ud615\uc73c\ub85c \uc5f0\uacb0\ub41c \uc5f0\uacb0 \ub9ac\uc2a4\ud2b8 \uc704\uc5d0\uc11c \uc774\ubc88\uc5d0 \uc8fd\uc744 \uc0ac\ub78c\uc744 \uac00\ub9ac\ud0a4\ub294 \ud3ec\uc778\ud130 kill\uc744 \uc720\uc9c0\ud558\uba74\uc11c, \uc774 \ud3ec\uc778\ud130\uac00 \uac00\ub9ac\ud0a4\ub294 \uc0ac\ub78c\uc744 \uc8fd\uc774\uace0 \ud3ec\uc778\ud130\ub97c K - 1\ubc88 \uc55e\uc73c\ub85c \uc62e\uae30\ub294 \ubc29\uc2dd\uc73c\ub85c \uad6c\ud604\ud558\uba74 \ub420 \uac81\ub2c8\ub2e4. \ud55c \uc0ac\ub78c\uc774 \uc8fd\uc744 \ub54c\ub9c8\ub2e4 \ud3ec\uc778\ud130\ub97c K - 1\ubc88 \uc62e\uae30\uae30 \ub54c\ubb38\uc5d0, \uc804\uccb4 \uc2dc\uac04 \ubcf5\uc7a1\ub3c4\ub294 O(NK)\uac00 \ub429\ub2c8\ub2e4. \uc774 \ubb38\uc81c\uc5d0\uc11c\ub294 N, K\uac00 \ubaa8\ub450 1000 \uc774\ud558\uc758 \uac12\uc774\uae30 \ub54c\ubb38\uc5d0 \ucda9\ubd84\ud788 \uc2dc\uac04 \uc548\uc5d0 \uc218\ud589\ud560 \uc218 \uc788\uc2b5\ub2c8\ub2e4.\n",
      "- \ud55c \uac00\uc9c0 \ubb38\uc81c\uac00 \ub418\ub294 \uc810\uc774\ub77c\uba74 \ub300\ubd80\ubd84\uc758 \ud45c\uc900 \ub77c\uc774\ube0c\ub7ec\ub9ac\uc5d0\uc11c\ub294 \uc6d0\ud615\uc73c\ub85c \uc5f0\uacb0\ub41c \uc5f0\uacb0 \ub9ac\uc2a4\ud2b8\ub97c \uc81c\uacf5\ud558\uc9c0 \uc54a\ub294\ub2e4\ub294 \uac83\uc785\ub2c8\ub2e4. \ud558\uc9c0\ub9cc \ud3ec\uc778\ud130\uac00 \ub9ac\uc2a4\ud2b8\uc758 \ub05d\uc5d0 \ub3c4\ub2ec\ud558\uba74 \ucc98\uc74c\uc73c\ub85c \uc62e\uaca8\uc8fc\ub294 \uc5f0\uc0b0\uc744 \ud1b5\ud574 \uc6d0\ud615 \ub9ac\uc2a4\ud2b8\ub97c \ud749\ub0b4\ub0bc \uc218\ub294 \uc788\uc9c0\uc694. "
     ]
    },
    {
     "cell_type": "code",
     "collapsed": false,
     "input": [
      "%%writefile sources/josephus.py\n",
      "\n",
      "# -*- coding: utf-8\n",
      "def josephus(N, K):\n",
      "    # list\ub97c \uc900\ube44\ud55c\ub2e4. range \ud2b9\uc131\uc0c1 \ub9c8\uc9c0\ub9c9\uc740 +1\uc744 \ud574\uc918\uc57c \ub428\n",
      "    lst = range(1, N+1)\n",
      "    i = 0\n",
      "    # list\uc5d0\uc11c skip\ud560 index\n",
      "    skip = K - 1\n",
      "    # list\uc758 \uac12 \uacc4\uc0b0\uc744 \ud55c \ubc88\ub9cc \ud558\uae30 \uc704\ud574\uc11c\n",
      "    max_ = len(lst)\n",
      "    # 2\uba85\uc774 \ub0a8\uc744 \ub54c\uae4c\uc9c0 \uacc4\uc18d loop\n",
      "    while 2 < max_:\n",
      "        # index\uac00 max_\uc758 \uac12\uc744 \ub118\uac8c \ub418\uba74 \uc0c8\ub85c\uc6b4 index\ub97c \uc124\uc815\ud574 \uc90c\n",
      "        # \uc774 \ubd80\ubd84\uc774 \uac00\uc7a5 \uc911\uc694\ud558\ub2e4. \uc0c8\ub85c\uc6b4 index\ub97c \uc124\uc815\ud574\uc918\uc57c logic\uc774 \uc815\uc0c1 \ub3d9\uc791\ud568\n",
      "        # i = 28, max_ = 26 \uc77c\uc2dc 28 - 26 = 2, i\ub97c 2\ub85c \uc124\uc815\n",
      "        while i >= max_:\n",
      "            i = i - max_\n",
      "        # index\uc758 \uac12\uc744 kill\n",
      "        lst.pop(i)\n",
      "        # list\uc758 \uac12 \uacc4\uc0b0\uc744 \ud55c \ubc88\ub9cc \uacc4\uc0b0\ud558\uae30 \uc704\ud574\uc11c\n",
      "        max_ = len(lst)\n",
      "        # i\uc5d0 \uacc4\uc18d skip\ud560 index\ub97c \ub354\ud55c\ub2e4.\n",
      "        i += skip\n",
      "    return lst\n",
      "\n",
      "def main():\n",
      "    n = int(raw_input())\n",
      "    params = []\n",
      "    for i in range(n):\n",
      "        string_ = raw_input()\n",
      "        N, K = (int(n) for n in string_.split())\n",
      "        params.append([N, K])\n",
      "    for N, K in params:\n",
      "        result = josephus(N, K)\n",
      "        print result[0], result[1]\n",
      "\n",
      "if __name__ == '__main__':\n",
      "    main()"
     ],
     "language": "python",
     "metadata": {},
     "outputs": [
      {
       "output_type": "stream",
       "stream": "stdout",
       "text": [
        "Overwriting sources/josephus.py\n"
       ]
      }
     ],
     "prompt_number": 36
    },
    {
     "cell_type": "code",
     "collapsed": false,
     "input": [
      "%%writefile sources/TestJosephus.py\n",
      "\n",
      "import unittest\n",
      "from josephus import josephus\n",
      "\n",
      "\n",
      "class TestJosephus(unittest.TestCase):\n",
      "    def testJosephus(self):\n",
      "        # tuple\ub85c \ud574\uc918\uc57c dictionary\uc758 key\uac12\uc774 \ub420 \uc218 \uc788\ub2e4. immutable \uc774\uae30 \ub54c\ubb38\n",
      "        problems = [(6, 3), (40, 3), (3, 1)]\n",
      "        answers = [(3, 5), (11, 26), (2, 3)]\n",
      "\n",
      "        d = {}\n",
      "        for k, v in zip(problems, answers):\n",
      "            d[k] = v\n",
      "\n",
      "        for k, v in d.items():\n",
      "            N, K = k\n",
      "            test_answer = josephus(N, K)\n",
      "            self.assertEqual(tuple(test_answer), v)\n",
      "            \n",
      "if __name__ == '__main__':\n",
      "    unittest.main()"
     ],
     "language": "python",
     "metadata": {},
     "outputs": [
      {
       "output_type": "stream",
       "stream": "stdout",
       "text": [
        "Overwriting sources/TestJosephus.py\n"
       ]
      }
     ],
     "prompt_number": 37
    },
    {
     "cell_type": "code",
     "collapsed": false,
     "input": [
      "8 % 35"
     ],
     "language": "python",
     "metadata": {},
     "outputs": [
      {
       "metadata": {},
       "output_type": "pyout",
       "prompt_number": 47,
       "text": [
        "8"
       ]
      }
     ],
     "prompt_number": 47
    },
    {
     "cell_type": "code",
     "collapsed": false,
     "input": [
      "%run sources/TestJosephus.py"
     ],
     "language": "python",
     "metadata": {},
     "outputs": [
      {
       "output_type": "stream",
       "stream": "stderr",
       "text": [
        "."
       ]
      },
      {
       "output_type": "stream",
       "stream": "stderr",
       "text": [
        "\n",
        "----------------------------------------------------------------------\n",
        "Ran 1 test in 0.001s\n",
        "\n",
        "OK\n"
       ]
      }
     ],
     "prompt_number": 35
    },
    {
     "cell_type": "markdown",
     "metadata": {},
     "source": [
      "## \ucc38\uace0\ud55c \uc790\ub8cc\n",
      "\n",
      "- [\uc54c\uace0\ub9ac\uc998 \ubb38\uc81c -- Josephus: \ubc15\ud64d\ud6c8\ub2d8](https://gist.github.com/jayu108/01a7a877c07834ce2c3c)\n",
      "  - \ub9ac\uc2a4\ud2b8\uc5d0 2\uac1c\uac00 \ub0a8\uc558\ub294\uc9c0 \ud655\uc778\ud558\uc9c0 \uc54a\uae30 \uc704\ud574\uc11c \ucc98\uc74c\ubd80\ud130 2\ub97c \ube7c\uace0 \ub8e8\ud504\ub97c \ub3c8\ub2e4. \n",
      "  - while\ubb38\uc73c\ub85c \uac2f\uc218\uac00 2\uac1c \uc774\uc0c1\uc778\uc9c0 \ud655\uc778\ud558\uc9c0 \uc54a\uae30 \ub54c\ubb38\uc5d0 \ub354 \ube60\ub97c\uac70\ub77c\uace0 \uc0dd\uac01\ud55c\ub2e4.\n",
      "- \uc870\uc815\ud76c\ub2d8\n",
      "\n",
      "```python\n",
      "def func(N, k):\n",
      "    A = range(1, N+1)\n",
      "    i = 0\n",
      "    while len(A)>2:\n",
      "        while i>=len(A):\n",
      "            i = i - len(A)\n",
      "        A.pop(i)\n",
      "        i += k-1\n",
      "    return A\n",
      "\n",
      "c = int(raw_input())\n",
      "\n",
      "case = []\n",
      "\n",
      "for i in range(c):\n",
      "    p = raw_input()\n",
      "    case.append(p)\n",
      "    \n",
      "for i in range(c):\n",
      "    print func(int(case[i].split(' ')[0]), int(case[i].split(' ')[1]))[0], func(int(case[i].split(' ')[0]), int(case[i].split(' ')[1]))[1]\n",
      "```\n",
      "\n",
      "- \uae40\uc815\uc8fc\ub2d8\n",
      "\n",
      "```python\n",
      "def do_case(n, ok):\n",
      "    a = range(2, n+1)\n",
      "    la = len(a)\n",
      "    k = 0\n",
      "    while la > 2:\n",
      "        k = (k + ok - 1) % la\n",
      "        a.pop(k)\n",
      "        la -= 1\n",
      "    return a\n",
      "\n",
      "\n",
      "if __name__ == \"__main__\":\n",
      "    c = int(raw_input())\n",
      "    for i in range(c):\n",
      "        n, k = [int(v) for v in raw_input().split()]\n",
      "        f, s = do_case(n, k)\n",
      "        print f, s\n",
      "```\n",
      "\n",
      "- index 0\uc744 kill \ud558\uc9c0 \uc54a\uae30 \uc704\ud574\uc11c \ucc98\uc74c\ubd80\ud130 \uc2dc\uc791\uc744 2\ubd80\ud130 \ud55c\ub2e4. \ub09c \ucc98\uc74c\uc5d0 \uc65c 2\ubd80\ud130 \uc2dc\uc791\ud558\uc9c0? \ub77c\ub294 \uc758\ubb38\uc744 \uac16\uace0 \uc788\uc5c8\ub294\ub370 2\ubd80\ud130 \uc2dc\uc791\ud558\uba74 1\uc740 \ub9e4\ubc88 \uc8fd\uc73c\ub2c8\uae4c \uc5f0\uc0b0\ud560 \uc774\uc720\uac00 \uc5c6\ub2e4.\n",
      "- k = (k + ok -1) % la \uc744 \ubcf4\uace0 \ubc18\ud588\ub2e4. \n",
      "- 8 % 35 = 8\uc774\ub2c8\uae4c.\n",
      "- \uad1c\ud788 while\ubb38\uc73c\ub85c i\uac00 max\\_\ubcf4\ub2e4 \ud070\uc9c0 \uc5f0\uc0b0\ud558\uc9c0 \uc54a\uc544\ub3c4 \ub41c\ub2e4. while\ubb38 \ud55c \ubc88 \uc4f0\uae30 \uc704\ud574\uc11c\ub294 opcode\uc758 \uc18c\ubaa8\uac00 \uaf64 \ub418\ub2c8\uae4c\n",
      "  - [bbolmin :: C\ucf54\ub4dc->\uc5b4\uc148\ucf54\ub4dc \ubd84\uc11d \\[if, for, while\\]](http://bbolmin.tistory.com/52)\n",
      "    - while\uc758 \uc5b4\uc148\ube14\ub9ac \ud45c\ud604\n",
      "    - cmp: 4\ubc14\uc774\ud2b8\n",
      "    - JE: 2\ubc14\uc774\ud2b8\n",
      "    - SUB: 3\ubc14\uc774\ud2b8\n",
      "\n",
      "### \ucd5c\uc801\ud654\uc2dc \uc8fc\uc758\uc0ac\ud56d\n",
      "\n",
      "- loop\ubb38 \ucd5c\uc801\ud654\ub97c \uac00\uc7a5 \ub9ce\uc774 \uc2e0\uacbd\uc4f0\uc790\n",
      "- loop\ubb38 \uc544\ub2cc \uacf3\uc740 \ucd5c\uc801\ud654\ub97c \ud574\ub3c4 \uc88b\uae30\ub294 \ud558\ub098 \ucd5c\uc801\ud654\ub97c \ud55c \uac83\uc5d0 \ube44\ud574 \ud6a8\uacfc\ub294 \uadf8\ub9ac \ud06c\uc9c0 \uc54a\ub2e4."
     ]
    }
   ],
   "metadata": {}
  }
 ]
}