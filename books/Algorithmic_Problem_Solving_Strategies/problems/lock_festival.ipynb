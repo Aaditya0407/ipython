{
 "cells": [
  {
   "cell_type": "markdown",
   "metadata": {},
   "source": [
    "# 록 페티스티벌\n",
    "\n",
    "## [algospot.com ::  FESTIVAL](https://algospot.com/judge/problem/read/FESTIVAL)\n",
    "\n",
    "- [가카리의 공부방 :: 알고리즘 문제 - 알고스팟 FESTIVAL 문제](http://gakari.tistory.com/entry/%EC%95%8C%EA%B3%A0%EB%A6%AC%EC%A6%98-%EB%AC%B8%EC%A0%9C-%EC%95%8C%EA%B3%A0%EC%8A%A4%ED%8C%9F-FESTIVAL-%EB%AC%B8%EC%A0%9C)\n"
   ]
  },
  {
   "cell_type": "code",
   "execution_count": 3,
   "metadata": {
    "collapsed": false
   },
   "outputs": [],
   "source": [
    "# -*- coding: utf-8\n",
    "# 1: 테스트 케이스의 수\n",
    "# 2: 공연장을 대여할 수 있는 날들의 수, 이미 섭외한 공연 팀의 수 L\n",
    "# 3: N개의 숫자로 공연장 대여 비용이 날짜별로 주어짐\n",
    "\n",
    "\n",
    "# import sys\n",
    "# rl = lambda: sys.stdin.readline()\n",
    "# n = int(rl())\n",
    "\n",
    "import unittest\n",
    "\n",
    "def main(n, days_nteam, costs):\n",
    "    for i in range(n):\n",
    "        days, nteam = days_nteam.strip().split()\n",
    "        dayCost = costs.strip().split()\n",
    "\n",
    "        step = nteam\n",
    "        blk_step = 1\n",
    "\n",
    "        for n in (days-nteam+1):\n",
    "        \n",
    "        \n",
    "\n",
    "\n",
    "\n",
    "def setUp(unittest.TestCase):\n",
    "    n = 2\n",
    "    \n",
    "    days_nteam = '6 3'\n",
    "    costs = '1 2 3 1 2 3'\n",
    "\n",
    "def testmain(unittest.TestCase):\n",
    "    \n",
    "    main(n, days_nteam, costs)\n",
    "\n",
    "if __name__ == '__main__':\n",
    "    unittest.main()"
   ]
  },
  {
   "cell_type": "code",
   "execution_count": 20,
   "metadata": {
    "collapsed": false
   },
   "outputs": [],
   "source": [
    "import unittest"
   ]
  },
  {
   "cell_type": "code",
   "execution_count": null,
   "metadata": {
    "collapsed": false
   },
   "outputs": [],
   "source": []
  },
  {
   "cell_type": "code",
   "execution_count": null,
   "metadata": {
    "collapsed": false
   },
   "outputs": [],
   "source": []
  },
  {
   "cell_type": "code",
   "execution_count": null,
   "metadata": {
    "collapsed": false
   },
   "outputs": [],
   "source": []
  },
  {
   "cell_type": "code",
   "execution_count": 14,
   "metadata": {
    "collapsed": false
   },
   "outputs": [],
   "source": [
    "s = '''<span style=\"FONT-FAMILY: 돋움체; COLOR: blue; mso-font-kerning: 0pt; mso-hansi-font-family: 'Times New Roman'; mso-bidi-font-family: 'Times New Roman'; mso-no-proof: yes\">#include</span><span style=\"FONT-FAMILY: 돋움체; mso-font-kerning: 0pt; mso-hansi-font-family: 'Times New Roman'; mso-bidi-font-family: 'Times New Roman'; mso-no-proof: yes\"><font color=\"#000000\"> </font><span style=\"COLOR: #a31515\">&lt;iostream&gt;</span></span></font></p><p style=\"WORD-BREAK: keep-all; TEXT-ALIGN: left; MARGIN: 0cm 0cm 0pt; mso-layout-grid-align: none\" align=\"left\"><span style=\"FONT-FAMILY: 돋움체; COLOR: green; mso-font-kerning: 0pt; mso-hansi-font-family: 'Times New Roman'; mso-bidi-font-family: 'Times New Roman'; mso-no-proof: yes\"><font size=\"2\">//#include &lt;string&gt;</font></span></p><p style=\"WORD-BREAK: keep-all; TEXT-ALIGN: left; MARGIN: 0cm 0cm 0pt; mso-layout-grid-align: none\" align=\"left\"><span style=\"FONT-FAMILY: 돋움체; COLOR: green; mso-font-kerning: 0pt; mso-hansi-font-family: 'Times New Roman'; mso-bidi-font-family: 'Times New Roman'; mso-no-proof: yes\"><font size=\"2\">//#include &lt;iomanip&gt;</font></span></p><p style=\"WORD-BREAK: keep-all; TEXT-ALIGN: left; MARGIN: 0cm 0cm 0pt; mso-layout-grid-align: none\" align=\"left\"><font size=\"2\"><span style=\"FONT-FAMILY: 돋움체; COLOR: blue; mso-font-kerning: 0pt; mso-hansi-font-family: 'Times New Roman'; mso-bidi-font-family: 'Times New Roman'; mso-no-proof: yes\">#include</span><span style=\"FONT-FAMILY: 돋움체; mso-font-kerning: 0pt; mso-hansi-font-family: 'Times New Roman'; mso-bidi-font-family: 'Times New Roman'; mso-no-proof: yes\"><font color=\"#000000\"> </font><span style=\"COLOR: #a31515\">&lt;stdio.h&gt;</span></span></font></p><p style=\"WORD-BREAK: keep-all; TEXT-ALIGN: left; MARGIN: 0cm 0cm 0pt; mso-layout-grid-align: none\" align=\"left\"><span style=\"FONT-FAMILY: 돋움체; COLOR: #a31515; mso-font-kerning: 0pt; mso-hansi-font-family: 'Times New Roman'; mso-bidi-font-family: 'Times New Roman'; mso-no-proof: yes\"><font size=\"2\">&nbsp;</font></span></p><p style=\"WORD-BREAK: keep-all; TEXT-ALIGN: left; MARGIN: 0cm 0cm 0pt; mso-layout-grid-align: none\" align=\"left\"><font size=\"2\"><span style=\"FONT-FAMILY: 돋움체; COLOR: blue; mso-font-kerning: 0pt; mso-hansi-font-family: 'Times New Roman'; mso-bidi-font-family: 'Times New Roman'; mso-no-proof: yes\">using</span><span style=\"FONT-FAMILY: 돋움체; mso-font-kerning: 0pt; mso-hansi-font-family: 'Times New Roman'; mso-bidi-font-family: 'Times New Roman'; mso-no-proof: yes\"><font color=\"#000000\"> </font><span style=\"COLOR: blue\">namespace</span><font color=\"#000000\"> std;</font></span></font></p><p style=\"WORD-BREAK: keep-all; TEXT-ALIGN: left; MARGIN: 0cm 0cm 0pt; mso-layout-grid-align: none\" align=\"left\"><span style=\"FONT-FAMILY: 돋움체; mso-font-kerning: 0pt; mso-hansi-font-family: 'Times New Roman'; mso-bidi-font-family: 'Times New Roman'; mso-no-proof: yes\"><font color=\"#000000\" size=\"2\">&nbsp;</font></span></p><p style=\"WORD-BREAK: keep-all; TEXT-ALIGN: left; MARGIN: 0cm 0cm 0pt; mso-layout-grid-align: none\" align=\"left\"><font size=\"2\"><span style=\"FONT-FAMILY: 돋움체; COLOR: blue; mso-font-kerning: 0pt; mso-hansi-font-family: 'Times New Roman'; mso-bidi-font-family: 'Times New Roman'; mso-no-proof: yes\">int</span><span style=\"FONT-FAMILY: 돋움체; mso-font-kerning: 0pt; mso-hansi-font-family: 'Times New Roman'; mso-bidi-font-family: 'Times New Roman'; mso-no-proof: yes\"><font color=\"#000000\"> main(){</font></span></font></p><p style=\"WORD-BREAK: keep-all; TEXT-ALIGN: left; MARGIN: 0cm 0cm 0pt; mso-layout-grid-align: none\" align=\"left\"><span style=\"FONT-FAMILY: 돋움체; mso-font-kerning: 0pt; mso-hansi-font-family: 'Times New Roman'; mso-bidi-font-family: 'Times New Roman'; mso-no-proof: yes\"><font color=\"#000000\" size=\"2\">&nbsp;</font></span></p><p style=\"WORD-BREAK: keep-all; TEXT-ALIGN: left; MARGIN: 0cm 0cm 0pt; mso-layout-grid-align: none\" align=\"left\"><span style=\"FONT-FAMILY: 돋움체; mso-font-kerning: 0pt; mso-hansi-font-family: 'Times New Roman'; mso-bidi-font-family: 'Times New Roman'; mso-no-proof: yes\"><font size=\"2\"><span style=\"mso-tab-count: 1\"><font color=\"#000000\">&nbsp;&nbsp;&nbsp;&nbsp;&nbsp;&nbsp;&nbsp; </font></span><span style=\"COLOR: blue\">int</span><font color=\"#000000\"> testcase=0;</font></font></span></p><p style=\"WORD-BREAK: keep-all; TEXT-ALIGN: left; MARGIN: 0cm 0cm 0pt; mso-layout-grid-align: none\" align=\"left\"><span style=\"FONT-FAMILY: 돋움체; mso-font-kerning: 0pt; mso-hansi-font-family: 'Times New Roman'; mso-bidi-font-family: 'Times New Roman'; mso-no-proof: yes\"><font size=\"2\"><span style=\"mso-tab-count: 1\"><font color=\"#000000\">&nbsp;&nbsp;&nbsp;&nbsp;&nbsp;&nbsp;&nbsp; </font></span><span style=\"COLOR: blue\">int</span><font color=\"#000000\"> min=0;</font></font></span></p><p style=\"WORD-BREAK: keep-all; TEXT-ALIGN: left; MARGIN: 0cm 0cm 0pt; mso-layout-grid-align: none\" align=\"left\"><span style=\"FONT-FAMILY: 돋움체; mso-font-kerning: 0pt; mso-hansi-font-family: 'Times New Roman'; mso-bidi-font-family: 'Times New Roman'; mso-no-proof: yes\"><font size=\"2\"><span style=\"mso-tab-count: 1\"><font color=\"#000000\">&nbsp;&nbsp;&nbsp;&nbsp;&nbsp;&nbsp;&nbsp; </font></span><span style=\"COLOR: blue\">int</span><font color=\"#000000\"> days=0;</font></font></span></p><p style=\"WORD-BREAK: keep-all; TEXT-ALIGN: left; MARGIN: 0cm 0cm 0pt; mso-layout-grid-align: none\" align=\"left\"><span style=\"FONT-FAMILY: 돋움체; mso-font-kerning: 0pt; mso-hansi-font-family: 'Times New Roman'; mso-bidi-font-family: 'Times New Roman'; mso-no-proof: yes\"><font size=\"2\"><span style=\"mso-tab-count: 1\"><font color=\"#000000\">&nbsp;&nbsp;&nbsp;&nbsp;&nbsp;&nbsp;&nbsp; </font></span><span style=\"COLOR: blue\">int</span><font color=\"#000000\"> nteam=0;</font></font></span></p><p style=\"WORD-BREAK: keep-all; TEXT-ALIGN: left; MARGIN: 0cm 0cm 0pt; mso-layout-grid-align: none\" align=\"left\"><span style=\"FONT-FAMILY: 돋움체; mso-font-kerning: 0pt; mso-hansi-font-family: 'Times New Roman'; mso-bidi-font-family: 'Times New Roman'; mso-no-proof: yes\"><font size=\"2\"><span style=\"mso-tab-count: 1\"><font color=\"#000000\">&nbsp;&nbsp;&nbsp;&nbsp;&nbsp;&nbsp;&nbsp; </font></span><span style=\"COLOR: blue\">int</span><font color=\"#000000\"> dayCost[1000]={0,};</font></font></span></p><p style=\"WORD-BREAK: keep-all; TEXT-ALIGN: left; MARGIN: 0cm 0cm 0pt; mso-layout-grid-align: none\" align=\"left\"><span style=\"FONT-FAMILY: 돋움체; mso-font-kerning: 0pt; mso-hansi-font-family: 'Times New Roman'; mso-bidi-font-family: 'Times New Roman'; mso-no-proof: yes\"><font size=\"2\"><span style=\"mso-tab-count: 1\"><font color=\"#000000\">&nbsp;&nbsp;&nbsp;&nbsp;&nbsp;&nbsp;&nbsp; </font></span><span style=\"COLOR: blue\">int</span><font color=\"#000000\"> sum=0;</font></font></span></p><p style=\"WORD-BREAK: keep-all; TEXT-ALIGN: left; MARGIN: 0cm 0cm 0pt; mso-layout-grid-align: none\" align=\"left\"><span style=\"FONT-FAMILY: 돋움체; mso-font-kerning: 0pt; mso-hansi-font-family: 'Times New Roman'; mso-bidi-font-family: 'Times New Roman'; mso-no-proof: yes\"><font size=\"2\"><span style=\"mso-tab-count: 1\"><font color=\"#000000\">&nbsp;&nbsp;&nbsp;&nbsp;&nbsp;&nbsp;&nbsp; </font></span><span style=\"COLOR: blue\">double</span><font color=\"#000000\"> min_avg=9999.0;</font></font></span></p><p style=\"WORD-BREAK: keep-all; TEXT-ALIGN: left; MARGIN: 0cm 0cm 0pt; mso-layout-grid-align: none\" align=\"left\"><span style=\"FONT-FAMILY: 돋움체; mso-font-kerning: 0pt; mso-hansi-font-family: 'Times New Roman'; mso-bidi-font-family: 'Times New Roman'; mso-no-proof: yes\"><font size=\"2\"><span style=\"mso-tab-count: 1\"><font color=\"#000000\">&nbsp;&nbsp;&nbsp;&nbsp;&nbsp;&nbsp;&nbsp; </font></span><span style=\"COLOR: blue\">double</span><font color=\"#000000\"> new_avg=9999.0;</font></font></span></p><p style=\"WORD-BREAK: keep-all; TEXT-ALIGN: left; MARGIN: 0cm 0cm 0pt; mso-layout-grid-align: none\" align=\"left\"><span style=\"FONT-FAMILY: 돋움체; mso-font-kerning: 0pt; mso-hansi-font-family: 'Times New Roman'; mso-bidi-font-family: 'Times New Roman'; mso-no-proof: yes\"><font size=\"2\"><span style=\"mso-tab-count: 1\"><font color=\"#000000\">&nbsp;&nbsp;&nbsp;&nbsp;&nbsp;&nbsp;&nbsp; </font></span><span style=\"COLOR: blue\">double</span><font color=\"#000000\"> cout_avg[100]={0.0,};</font></font></span></p><p style=\"WORD-BREAK: keep-all; TEXT-ALIGN: left; MARGIN: 0cm 0cm 0pt; mso-layout-grid-align: none\" align=\"left\"><span style=\"FONT-FAMILY: 돋움체; mso-font-kerning: 0pt; mso-hansi-font-family: 'Times New Roman'; mso-bidi-font-family: 'Times New Roman'; mso-no-proof: yes\"><font color=\"#000000\" size=\"2\">&nbsp;</font></span></p><p style=\"WORD-BREAK: keep-all; TEXT-ALIGN: left; MARGIN: 0cm 0cm 0pt; mso-layout-grid-align: none\" align=\"left\"><span style=\"FONT-FAMILY: 돋움체; mso-font-kerning: 0pt; mso-hansi-font-family: 'Times New Roman'; mso-bidi-font-family: 'Times New Roman'; mso-no-proof: yes\"><font size=\"2\"><span style=\"mso-tab-count: 1\"><font color=\"#000000\">&nbsp;&nbsp;&nbsp;&nbsp;&nbsp;&nbsp;&nbsp; </font></span><span style=\"COLOR: blue\">int</span><font color=\"#000000\"> step=0;</font></font></span></p><p style=\"WORD-BREAK: keep-all; TEXT-ALIGN: left; MARGIN: 0cm 0cm 0pt; mso-layout-grid-align: none\" align=\"left\"><span style=\"FONT-FAMILY: 돋움체; mso-font-kerning: 0pt; mso-hansi-font-family: 'Times New Roman'; mso-bidi-font-family: 'Times New Roman'; mso-no-proof: yes\"><font size=\"2\"><span style=\"mso-tab-count: 1\"><font color=\"#000000\">&nbsp;&nbsp;&nbsp;&nbsp;&nbsp;&nbsp;&nbsp; </font></span><span style=\"COLOR: blue\">int</span><font color=\"#000000\"> start=0;</font></font></span></p><p style=\"WORD-BREAK: keep-all; TEXT-ALIGN: left; MARGIN: 0cm 0cm 0pt; mso-layout-grid-align: none\" align=\"left\"><span style=\"FONT-FAMILY: 돋움체; mso-font-kerning: 0pt; mso-hansi-font-family: 'Times New Roman'; mso-bidi-font-family: 'Times New Roman'; mso-no-proof: yes\"><font size=\"2\"><span style=\"mso-tab-count: 1\"><font color=\"#000000\">&nbsp;&nbsp;&nbsp;&nbsp;&nbsp;&nbsp;&nbsp; </font></span><span style=\"COLOR: blue\">int</span><font color=\"#000000\"> blk_step=1;</font></font></span></p><p style=\"WORD-BREAK: keep-all; TEXT-ALIGN: left; MARGIN: 0cm 0cm 0pt; mso-layout-grid-align: none\" align=\"left\"><span style=\"FONT-FAMILY: 돋움체; mso-font-kerning: 0pt; mso-hansi-font-family: 'Times New Roman'; mso-bidi-font-family: 'Times New Roman'; mso-no-proof: yes\"><font color=\"#000000\" size=\"2\">&nbsp;</font></span></p><p style=\"WORD-BREAK: keep-all; TEXT-ALIGN: left; MARGIN: 0cm 0cm 0pt; mso-layout-grid-align: none\" align=\"left\"><font size=\"2\"><span style=\"FONT-FAMILY: 돋움체; mso-font-kerning: 0pt; mso-hansi-font-family: 'Times New Roman'; mso-bidi-font-family: 'Times New Roman'; mso-no-proof: yes\"><span style=\"mso-tab-count: 1\"><font color=\"#000000\">&nbsp;&nbsp;&nbsp;&nbsp;&nbsp;&nbsp;&nbsp; </font></span><span style=\"COLOR: green\">//test case </span></span><span style=\"FONT-FAMILY: 돋움체; COLOR: green; mso-font-kerning: 0pt; mso-hansi-font-family: 'Times New Roman'; mso-bidi-font-family: 'Times New Roman'; mso-no-proof: yes\">받아줌</span></font></p><p style=\"WORD-BREAK: keep-all; TEXT-ALIGN: left; MARGIN: 0cm 0cm 0pt; mso-layout-grid-align: none\" align=\"left\"><span style=\"FONT-FAMILY: 돋움체; mso-font-kerning: 0pt; mso-hansi-font-family: 'Times New Roman'; mso-bidi-font-family: 'Times New Roman'; mso-no-proof: yes\"><font size=\"2\"><font color=\"#000000\"><span style=\"mso-tab-count: 1\">&nbsp;&nbsp;&nbsp;&nbsp;&nbsp;&nbsp;&nbsp; </span>cin &gt;&gt; testcase;</font></font></span></p><p style=\"WORD-BREAK: keep-all; TEXT-ALIGN: left; MARGIN: 0cm 0cm 0pt; mso-layout-grid-align: none\" align=\"left\"><span style=\"FONT-FAMILY: 돋움체; mso-font-kerning: 0pt; mso-hansi-font-family: 'Times New Roman'; mso-bidi-font-family: 'Times New Roman'; mso-no-proof: yes\"><font color=\"#000000\" size=\"2\">&nbsp;</font></span></p><p style=\"WORD-BREAK: keep-all; TEXT-ALIGN: left; MARGIN: 0cm 0cm 0pt; mso-layout-grid-align: none\" align=\"left\"><span style=\"FONT-FAMILY: 돋움체; mso-font-kerning: 0pt; mso-hansi-font-family: 'Times New Roman'; mso-bidi-font-family: 'Times New Roman'; mso-no-proof: yes\"><font size=\"2\"><span style=\"mso-tab-count: 1\"><font color=\"#000000\">&nbsp;&nbsp;&nbsp;&nbsp;&nbsp;&nbsp;&nbsp; </font></span><span style=\"COLOR: blue\">for</span><font color=\"#000000\">(</font><span style=\"COLOR: blue\">int</span><font color=\"#000000\"> i=0; i &lt; testcase; i++){</font></font></span></p><p style=\"WORD-BREAK: keep-all; TEXT-ALIGN: left; MARGIN: 0cm 0cm 0pt; mso-layout-grid-align: none\" align=\"left\"><span style=\"FONT-FAMILY: 돋움체; mso-font-kerning: 0pt; mso-hansi-font-family: 'Times New Roman'; mso-bidi-font-family: 'Times New Roman'; mso-no-proof: yes\"><font color=\"#000000\" size=\"2\">&nbsp;</font></span></p><p style=\"WORD-BREAK: keep-all; TEXT-ALIGN: left; MARGIN: 0cm 0cm 0pt; mso-layout-grid-align: none\" align=\"left\"><font size=\"2\"><span style=\"FONT-FAMILY: 돋움체; mso-font-kerning: 0pt; mso-hansi-font-family: 'Times New Roman'; mso-bidi-font-family: 'Times New Roman'; mso-no-proof: yes\"><font color=\"#000000\"><span style=\"mso-tab-count: 1\">&nbsp;&nbsp;&nbsp;&nbsp;&nbsp;&nbsp;&nbsp; </span><span style=\"mso-tab-count: 1\">&nbsp;&nbsp;&nbsp;&nbsp;&nbsp;&nbsp;&nbsp; </span></font><span style=\"COLOR: green\">//</span></span><span style=\"FONT-FAMILY: 돋움체; COLOR: green; mso-font-kerning: 0pt; mso-hansi-font-family: 'Times New Roman'; mso-bidi-font-family: 'Times New Roman'; mso-no-proof: yes\">날짜수와팀갯수받아줌</span></font></p><p style=\"WORD-BREAK: keep-all; TEXT-ALIGN: left; MARGIN: 0cm 0cm 0pt; mso-layout-grid-align: none\" align=\"left\"><span style=\"FONT-FAMILY: 돋움체; mso-font-kerning: 0pt; mso-hansi-font-family: 'Times New Roman'; mso-bidi-font-family: 'Times New Roman'; mso-no-proof: yes\"><font size=\"2\"><font color=\"#000000\"><span style=\"mso-tab-count: 2\">&nbsp;&nbsp;&nbsp;&nbsp;&nbsp;&nbsp;&nbsp;&nbsp;&nbsp;&nbsp;&nbsp;&nbsp;&nbsp;&nbsp; </span>scanf(</font><span style=\"COLOR: #a31515\">\"%d\"</span><font color=\"#000000\">, &amp;days);</font></font></span></p><p style=\"WORD-BREAK: keep-all; TEXT-ALIGN: left; MARGIN: 0cm 0cm 0pt; mso-layout-grid-align: none\" align=\"left\"><span style=\"FONT-FAMILY: 돋움체; mso-font-kerning: 0pt; mso-hansi-font-family: 'Times New Roman'; mso-bidi-font-family: 'Times New Roman'; mso-no-proof: yes\"><font size=\"2\"><font color=\"#000000\"><span style=\"mso-tab-count: 2\">&nbsp;&nbsp;&nbsp;&nbsp;&nbsp;&nbsp;&nbsp;&nbsp;&nbsp;&nbsp;&nbsp;&nbsp;&nbsp;&nbsp; </span>scanf(</font><span style=\"COLOR: #a31515\">\"%d\"</span><font color=\"#000000\">, &amp;nteam);</font></font></span></p><p style=\"WORD-BREAK: keep-all; TEXT-ALIGN: left; MARGIN: 0cm 0cm 0pt; mso-layout-grid-align: none\" align=\"left\"><span style=\"FONT-FAMILY: 돋움체; mso-font-kerning: 0pt; mso-hansi-font-family: 'Times New Roman'; mso-bidi-font-family: 'Times New Roman'; mso-no-proof: yes\"><font color=\"#000000\" size=\"2\">&nbsp;</font></span></p><p style=\"WORD-BREAK: keep-all; TEXT-ALIGN: left; MARGIN: 0cm 0cm 0pt; mso-layout-grid-align: none\" align=\"left\"><span style=\"FONT-FAMILY: 돋움체; mso-font-kerning: 0pt; mso-hansi-font-family: 'Times New Roman'; mso-bidi-font-family: 'Times New Roman'; mso-no-proof: yes\"><font color=\"#000000\" size=\"2\">&nbsp;</font></span></p><p style=\"WORD-BREAK: keep-all; TEXT-ALIGN: left; MARGIN: 0cm 0cm 0pt; mso-layout-grid-align: none\" align=\"left\"><span style=\"FONT-FAMILY: 돋움체; mso-font-kerning: 0pt; mso-hansi-font-family: 'Times New Roman'; mso-bidi-font-family: 'Times New Roman'; mso-no-proof: yes\"><font size=\"2\"><span style=\"mso-tab-count: 2\"><font color=\"#000000\">&nbsp;&nbsp;&nbsp;&nbsp;&nbsp;&nbsp;&nbsp;&nbsp;&nbsp;&nbsp;&nbsp;&nbsp;&nbsp;&nbsp; </font></span><span style=\"COLOR: blue\">for</span><font color=\"#000000\">(</font><span style=\"COLOR: blue\">int</span><font color=\"#000000\"> j=0; j &lt; days;j++){</font></font></span></p><p style=\"WORD-BREAK: keep-all; TEXT-ALIGN: left; MARGIN: 0cm 0cm 0pt; mso-layout-grid-align: none\" align=\"left\"><span style=\"FONT-FAMILY: 돋움체; mso-font-kerning: 0pt; mso-hansi-font-family: 'Times New Roman'; mso-bidi-font-family: 'Times New Roman'; mso-no-proof: yes\"><font color=\"#000000\" size=\"2\">&nbsp;</font></span></p><p style=\"WORD-BREAK: keep-all; TEXT-ALIGN: left; MARGIN: 0cm 0cm 0pt; mso-layout-grid-align: none\" align=\"left\"><font size=\"2\"><span style=\"FONT-FAMILY: 돋움체; mso-font-kerning: 0pt; mso-hansi-font-family: 'Times New Roman'; mso-bidi-font-family: 'Times New Roman'; mso-no-proof: yes\"><span style=\"mso-tab-count: 3\"><font color=\"#000000\">&nbsp;&nbsp;&nbsp;&nbsp;&nbsp;&nbsp;&nbsp;&nbsp;&nbsp;&nbsp;&nbsp;&nbsp;&nbsp;&nbsp;&nbsp;&nbsp;&nbsp;&nbsp;&nbsp;&nbsp;&nbsp;&nbsp; </font></span><span style=\"COLOR: green\">//</span></span><span style=\"FONT-FAMILY: 돋움체; COLOR: green; mso-font-kerning: 0pt; mso-hansi-font-family: 'Times New Roman'; mso-bidi-font-family: 'Times New Roman'; mso-no-proof: yes\">날짜별비용받아줌<span>.</span></span></font></p><p style=\"WORD-BREAK: keep-all; TEXT-ALIGN: left; MARGIN: 0cm 0cm 0pt; mso-layout-grid-align: none\" align=\"left\"><span style=\"FONT-FAMILY: 돋움체; mso-font-kerning: 0pt; mso-hansi-font-family: 'Times New Roman'; mso-bidi-font-family: 'Times New Roman'; mso-no-proof: yes\"><font size=\"2\"><font color=\"#000000\"><span style=\"mso-tab-count: 3\">&nbsp;&nbsp;&nbsp;&nbsp;&nbsp;&nbsp;&nbsp;&nbsp;&nbsp;&nbsp;&nbsp;&nbsp;&nbsp;&nbsp;&nbsp;&nbsp;&nbsp;&nbsp;&nbsp;&nbsp;&nbsp;&nbsp; </span>scanf(</font><span style=\"COLOR: #a31515\">\"%d\"</span><font color=\"#000000\">, &amp;dayCost[j]);</font></font></span></p><p style=\"WORD-BREAK: keep-all; TEXT-ALIGN: left; MARGIN: 0cm 0cm 0pt; mso-layout-grid-align: none\" align=\"left\"><span style=\"FONT-FAMILY: 돋움체; mso-font-kerning: 0pt; mso-hansi-font-family: 'Times New Roman'; mso-bidi-font-family: 'Times New Roman'; mso-no-proof: yes\"><font color=\"#000000\" size=\"2\">&nbsp;</font></span></p><p style=\"WORD-BREAK: keep-all; TEXT-ALIGN: left; MARGIN: 0cm 0cm 0pt; mso-layout-grid-align: none\" align=\"left\"><span style=\"FONT-FAMILY: 돋움체; mso-font-kerning: 0pt; mso-hansi-font-family: 'Times New Roman'; mso-bidi-font-family: 'Times New Roman'; mso-no-proof: yes\"><font size=\"2\"><font color=\"#000000\"><span style=\"mso-tab-count: 2\">&nbsp;&nbsp;&nbsp;&nbsp;&nbsp;&nbsp;&nbsp;&nbsp;&nbsp;&nbsp;&nbsp;&nbsp;&nbsp;&nbsp; </span>}</font></font></span></p><p style=\"WORD-BREAK: keep-all; TEXT-ALIGN: left; MARGIN: 0cm 0cm 0pt; mso-layout-grid-align: none\" align=\"left\"><span style=\"FONT-FAMILY: 돋움체; mso-font-kerning: 0pt; mso-hansi-font-family: 'Times New Roman'; mso-bidi-font-family: 'Times New Roman'; mso-no-proof: yes\"><font color=\"#000000\" size=\"2\">&nbsp;</font></span></p><p style=\"WORD-BREAK: keep-all; TEXT-ALIGN: left; MARGIN: 0cm 0cm 0pt; mso-layout-grid-align: none\" align=\"left\"><font size=\"2\"><span style=\"FONT-FAMILY: 돋움체; mso-font-kerning: 0pt; mso-hansi-font-family: 'Times New Roman'; mso-bidi-font-family: 'Times New Roman'; mso-no-proof: yes\"><font color=\"#000000\"><span style=\"mso-tab-count: 2\">&nbsp;&nbsp;&nbsp;&nbsp;&nbsp;&nbsp;&nbsp;&nbsp;&nbsp;&nbsp;&nbsp;&nbsp;&nbsp;&nbsp; </span>step = nteam;</font><span style=\"COLOR: green\">//</span></span><span style=\"FONT-FAMILY: 돋움체; COLOR: green; mso-font-kerning: 0pt; mso-hansi-font-family: 'Times New Roman'; mso-bidi-font-family: 'Times New Roman'; mso-no-proof: yes\">팀갯수로스탭시작</span></font></p><p style=\"WORD-BREAK: keep-all; TEXT-ALIGN: left; MARGIN: 0cm 0cm 0pt; mso-layout-grid-align: none\" align=\"left\"><span style=\"FONT-FAMILY: 돋움체; mso-font-kerning: 0pt; mso-hansi-font-family: 'Times New Roman'; mso-bidi-font-family: 'Times New Roman'; mso-no-proof: yes\"><font size=\"2\"><font color=\"#000000\"><span style=\"mso-tab-count: 2\">&nbsp;&nbsp;&nbsp;&nbsp;&nbsp;&nbsp;&nbsp;&nbsp;&nbsp;&nbsp;&nbsp;&nbsp;&nbsp;&nbsp; </span>blk_step = 1;</font></font></span></p><p style=\"WORD-BREAK: keep-all; TEXT-ALIGN: left; MARGIN: 0cm 0cm 0pt; mso-layout-grid-align: none\" align=\"left\"><span style=\"FONT-FAMILY: 돋움체; mso-font-kerning: 0pt; mso-hansi-font-family: 'Times New Roman'; mso-bidi-font-family: 'Times New Roman'; mso-no-proof: yes\"><font size=\"2\"><font color=\"#000000\"><span style=\"mso-tab-count: 2\">&nbsp;&nbsp;&nbsp;&nbsp;&nbsp;&nbsp;&nbsp;&nbsp;&nbsp;&nbsp;&nbsp;&nbsp;&nbsp;&nbsp; </span></font></font></span></p><p style=\"WORD-BREAK: keep-all; TEXT-ALIGN: left; MARGIN: 0cm 0cm 0pt; mso-layout-grid-align: none\" align=\"left\"><font size=\"2\"><span style=\"FONT-FAMILY: 돋움체; mso-font-kerning: 0pt; mso-hansi-font-family: 'Times New Roman'; mso-bidi-font-family: 'Times New Roman'; mso-no-proof: yes\"><span style=\"mso-tab-count: 2\"><font color=\"#000000\">&nbsp;&nbsp;&nbsp;&nbsp;&nbsp;&nbsp;&nbsp;&nbsp;&nbsp;&nbsp;&nbsp;&nbsp;&nbsp;&nbsp; </font></span><span style=\"COLOR: green\">//</span></span><span style=\"FONT-FAMILY: 돋움체; COLOR: green; mso-font-kerning: 0pt; mso-hansi-font-family: 'Times New Roman'; mso-bidi-font-family: 'Times New Roman'; mso-no-proof: yes\">전라인시작이니까</span></font></p><p style=\"WORD-BREAK: keep-all; TEXT-ALIGN: left; MARGIN: 0cm 0cm 0pt; mso-layout-grid-align: none\" align=\"left\"><span style=\"FONT-FAMILY: 돋움체; mso-font-kerning: 0pt; mso-hansi-font-family: 'Times New Roman'; mso-bidi-font-family: 'Times New Roman'; mso-no-proof: yes\"><font size=\"2\"><span style=\"mso-tab-count: 2\"><font color=\"#000000\">&nbsp;&nbsp;&nbsp;&nbsp;&nbsp;&nbsp;&nbsp;&nbsp;&nbsp;&nbsp;&nbsp;&nbsp;&nbsp;&nbsp; </font></span><span style=\"COLOR: blue\">for</span><font color=\"#000000\">(</font><span style=\"COLOR: blue\">int</span><font color=\"#000000\"> n=0; n &lt; days-nteam+1; n++){</font></font></span></p><p style=\"WORD-BREAK: keep-all; TEXT-ALIGN: left; MARGIN: 0cm 0cm 0pt; mso-layout-grid-align: none\" align=\"left\"><span style=\"FONT-FAMILY: 돋움체; mso-font-kerning: 0pt; mso-hansi-font-family: 'Times New Roman'; mso-bidi-font-family: 'Times New Roman'; mso-no-proof: yes\"><font color=\"#000000\" size=\"2\">&nbsp;</font></span></p><p style=\"WORD-BREAK: keep-all; TEXT-ALIGN: left; MARGIN: 0cm 0cm 0pt; mso-layout-grid-align: none\" align=\"left\"><span style=\"FONT-FAMILY: 돋움체; mso-font-kerning: 0pt; mso-hansi-font-family: 'Times New Roman'; mso-bidi-font-family: 'Times New Roman'; mso-no-proof: yes\"><font color=\"#000000\" size=\"2\">&nbsp;</font></span></p><p style=\"WORD-BREAK: keep-all; TEXT-ALIGN: left; MARGIN: 0cm 0cm 0pt; mso-layout-grid-align: none\" align=\"left\"><font size=\"2\"><span style=\"FONT-FAMILY: 돋움체; mso-font-kerning: 0pt; mso-hansi-font-family: 'Times New Roman'; mso-bidi-font-family: 'Times New Roman'; mso-no-proof: yes\"><span style=\"mso-tab-count: 3\"><font color=\"#000000\">&nbsp;&nbsp;&nbsp;&nbsp;&nbsp;&nbsp;&nbsp;&nbsp;&nbsp;&nbsp;&nbsp;&nbsp;&nbsp;&nbsp;&nbsp;&nbsp;&nbsp;&nbsp;&nbsp;&nbsp;&nbsp;&nbsp; </font></span><span style=\"COLOR: green\">//</span></span><span style=\"FONT-FAMILY: 돋움체; COLOR: green; mso-font-kerning: 0pt; mso-hansi-font-family: 'Times New Roman'; mso-bidi-font-family: 'Times New Roman'; mso-no-proof: yes\">한라인을돌릴때쓰는것이고</span></font></p><p style=\"WORD-BREAK: keep-all; TEXT-ALIGN: left; MARGIN: 0cm 0cm 0pt; mso-layout-grid-align: none\" align=\"left\"><span style=\"FONT-FAMILY: 돋움체; mso-font-kerning: 0pt; mso-hansi-font-family: 'Times New Roman'; mso-bidi-font-family: 'Times New Roman'; mso-no-proof: yes\"><font size=\"2\"><span style=\"mso-tab-count: 3\"><font color=\"#000000\">&nbsp;&nbsp;&nbsp;&nbsp;&nbsp;&nbsp;&nbsp;&nbsp;&nbsp;&nbsp;&nbsp;&nbsp;&nbsp;&nbsp;&nbsp;&nbsp;&nbsp;&nbsp;&nbsp;&nbsp;&nbsp;&nbsp; </font></span><span style=\"COLOR: blue\">for</span><font color=\"#000000\">(</font><span style=\"COLOR: blue\">int</span><font color=\"#000000\"> m=0; m &lt; days-nteam+blk_step; m++){</font></font></span></p><p style=\"WORD-BREAK: keep-all; TEXT-ALIGN: left; MARGIN: 0cm 0cm 0pt; mso-layout-grid-align: none\" align=\"left\"><span style=\"FONT-FAMILY: 돋움체; mso-font-kerning: 0pt; mso-hansi-font-family: 'Times New Roman'; mso-bidi-font-family: 'Times New Roman'; mso-no-proof: yes\"><font color=\"#000000\" size=\"2\">&nbsp;</font></span></p><p style=\"WORD-BREAK: keep-all; TEXT-ALIGN: left; MARGIN: 0cm 0cm 0pt; mso-layout-grid-align: none\" align=\"left\"><font size=\"2\"><span style=\"FONT-FAMILY: 돋움체; mso-font-kerning: 0pt; mso-hansi-font-family: 'Times New Roman'; mso-bidi-font-family: 'Times New Roman'; mso-no-proof: yes\"><span style=\"mso-tab-count: 4\"><font color=\"#000000\">&nbsp;&nbsp;&nbsp;&nbsp;&nbsp;&nbsp;&nbsp;&nbsp;&nbsp;&nbsp;&nbsp;&nbsp;&nbsp;&nbsp;&nbsp;&nbsp;&nbsp;&nbsp;&nbsp;&nbsp;&nbsp;&nbsp;&nbsp;&nbsp;&nbsp;&nbsp;&nbsp;&nbsp;&nbsp; </font></span><span style=\"COLOR: green\">//</span></span><span style=\"FONT-FAMILY: 돋움체; COLOR: green; mso-font-kerning: 0pt; mso-hansi-font-family: 'Times New Roman'; mso-bidi-font-family: 'Times New Roman'; mso-no-proof: yes\">더하는서브블록</span></font></p><p style=\"WORD-BREAK: keep-all; TEXT-ALIGN: left; MARGIN: 0cm 0cm 0pt; mso-layout-grid-align: none\" align=\"left\"><span style=\"FONT-FAMILY: 돋움체; mso-font-kerning: 0pt; mso-hansi-font-family: 'Times New Roman'; mso-bidi-font-family: 'Times New Roman'; mso-no-proof: yes\"><font size=\"2\"><span style=\"mso-tab-count: 4\"><font color=\"#000000\">&nbsp;&nbsp;&nbsp;&nbsp;&nbsp;&nbsp;&nbsp;&nbsp;&nbsp;&nbsp;&nbsp;&nbsp;&nbsp;&nbsp;&nbsp;&nbsp;&nbsp;&nbsp;&nbsp;&nbsp;&nbsp;&nbsp;&nbsp;&nbsp;&nbsp;&nbsp;&nbsp;&nbsp;&nbsp; </font></span><span style=\"COLOR: blue\">for</span><font color=\"#000000\">(</font><span style=\"COLOR: blue\">int</span><font color=\"#000000\"> k=start; k &lt; start+step; k++){</font></font></span></p><p style=\"WORD-BREAK: keep-all; TEXT-ALIGN: left; MARGIN: 0cm 0cm 0pt; mso-layout-grid-align: none\" align=\"left\"><span style=\"FONT-FAMILY: 돋움체; mso-font-kerning: 0pt; mso-hansi-font-family: 'Times New Roman'; mso-bidi-font-family: 'Times New Roman'; mso-no-proof: yes\"><font color=\"#000000\" size=\"2\">&nbsp;</font></span></p><p style=\"WORD-BREAK: keep-all; TEXT-ALIGN: left; MARGIN: 0cm 0cm 0pt; mso-layout-grid-align: none\" align=\"left\"><span style=\"FONT-FAMILY: 돋움체; mso-font-kerning: 0pt; mso-hansi-font-family: 'Times New Roman'; mso-bidi-font-family: 'Times New Roman'; mso-no-proof: yes\"><font size=\"2\"><font color=\"#000000\"><span style=\"mso-tab-count: 5\">&nbsp;&nbsp;&nbsp;&nbsp;&nbsp;&nbsp;&nbsp;&nbsp;&nbsp;&nbsp;&nbsp;&nbsp;&nbsp;&nbsp;&nbsp;&nbsp;&nbsp;&nbsp;&nbsp;&nbsp;&nbsp;&nbsp;&nbsp;&nbsp;&nbsp;&nbsp;&nbsp;&nbsp;&nbsp;&nbsp;&nbsp;&nbsp;&nbsp;&nbsp;&nbsp;&nbsp;&nbsp; </span>sum = sum + dayCost[k];</font></font></span></p><p style=\"WORD-BREAK: keep-all; TEXT-ALIGN: left; MARGIN: 0cm 0cm 0pt; mso-layout-grid-align: none\" align=\"left\"><span style=\"FONT-FAMILY: 돋움체; mso-font-kerning: 0pt; mso-hansi-font-family: 'Times New Roman'; mso-bidi-font-family: 'Times New Roman'; mso-no-proof: yes\"><font size=\"2\"><font color=\"#000000\"><span style=\"mso-tab-count: 6\">&nbsp;&nbsp;&nbsp;&nbsp;&nbsp;&nbsp;&nbsp;&nbsp;&nbsp;&nbsp;&nbsp;&nbsp;&nbsp;&nbsp;&nbsp;&nbsp;&nbsp;&nbsp;&nbsp;&nbsp;&nbsp;&nbsp;&nbsp;&nbsp;&nbsp;&nbsp;&nbsp;&nbsp;&nbsp;&nbsp;&nbsp;&nbsp;&nbsp;&nbsp;&nbsp;&nbsp;&nbsp;&nbsp;&nbsp;&nbsp;&nbsp;&nbsp;&nbsp;&nbsp; </span></font></font></span></p><p style=\"WORD-BREAK: keep-all; TEXT-ALIGN: left; MARGIN: 0cm 0cm 0pt; mso-layout-grid-align: none\" align=\"left\"><span style=\"FONT-FAMILY: 돋움체; mso-font-kerning: 0pt; mso-hansi-font-family: 'Times New Roman'; mso-bidi-font-family: 'Times New Roman'; mso-no-proof: yes\"><font size=\"2\"><font color=\"#000000\"><span style=\"mso-tab-count: 4\">&nbsp;&nbsp;&nbsp;&nbsp;&nbsp;&nbsp;&nbsp;&nbsp;&nbsp;&nbsp;&nbsp;&nbsp;&nbsp;&nbsp;&nbsp;&nbsp;&nbsp;&nbsp;&nbsp;&nbsp;&nbsp;&nbsp;&nbsp;&nbsp;&nbsp;&nbsp;&nbsp;&nbsp;&nbsp; </span>}</font></font></span></p><p style=\"WORD-BREAK: keep-all; TEXT-ALIGN: left; MARGIN: 0cm 0cm 0pt; mso-layout-grid-align: none\" align=\"left\"><span style=\"FONT-FAMILY: 돋움체; mso-font-kerning: 0pt; mso-hansi-font-family: 'Times New Roman'; mso-bidi-font-family: 'Times New Roman'; mso-no-proof: yes\"><font color=\"#000000\" size=\"2\">&nbsp;</font></span></p><p style=\"WORD-BREAK: keep-all; TEXT-ALIGN: left; MARGIN: 0cm 0cm 0pt; mso-layout-grid-align: none\" align=\"left\"><font size=\"2\"><span style=\"FONT-FAMILY: 돋움체; mso-font-kerning: 0pt; mso-hansi-font-family: 'Times New Roman'; mso-bidi-font-family: 'Times New Roman'; mso-no-proof: yes\"><font color=\"#000000\"><span style=\"mso-tab-count: 4\">&nbsp;&nbsp;&nbsp;&nbsp;&nbsp;&nbsp;&nbsp;&nbsp;&nbsp;&nbsp;&nbsp;&nbsp;&nbsp;&nbsp;&nbsp;&nbsp;&nbsp;&nbsp;&nbsp;&nbsp;&nbsp;&nbsp;&nbsp;&nbsp;&nbsp;&nbsp;&nbsp;&nbsp;&nbsp; </span>new_avg = (</font><span style=\"COLOR: blue\">double</span><font color=\"#000000\">)((</font><span style=\"COLOR: blue\">double</span><font color=\"#000000\">)sum/(</font><span style=\"COLOR: blue\">double</span><font color=\"#000000\">)step);</font><span style=\"COLOR: green\">//</span></span><span style=\"FONT-FAMILY: 돋움체; COLOR: green; mso-font-kerning: 0pt; mso-hansi-font-family: 'Times New Roman'; mso-bidi-font-family: 'Times New Roman'; mso-no-proof: yes\">평균내보고</span></font></p><p style=\"WORD-BREAK: keep-all; TEXT-ALIGN: left; MARGIN: 0cm 0cm 0pt; mso-layout-grid-align: none\" align=\"left\"><span style=\"FONT-FAMILY: 돋움체; COLOR: green; mso-font-kerning: 0pt; mso-hansi-font-family: 'Times New Roman'; mso-bidi-font-family: 'Times New Roman'; mso-no-proof: yes\"><font size=\"2\">&nbsp;</font></span></p><p style=\"WORD-BREAK: keep-all; TEXT-ALIGN: left; MARGIN: 0cm 0cm 0pt; mso-layout-grid-align: none\" align=\"left\"><font size=\"2\"><span style=\"FONT-FAMILY: 돋움체; mso-font-kerning: 0pt; mso-hansi-font-family: 'Times New Roman'; mso-bidi-font-family: 'Times New Roman'; mso-no-proof: yes\"><span style=\"mso-tab-count: 4\"><font color=\"#000000\">&nbsp;&nbsp;&nbsp;&nbsp;&nbsp;&nbsp;&nbsp;&nbsp;&nbsp;&nbsp;&nbsp;&nbsp;&nbsp;&nbsp;&nbsp;&nbsp;&nbsp;&nbsp;&nbsp;&nbsp;&nbsp;&nbsp;&nbsp;&nbsp;&nbsp;&nbsp;&nbsp;&nbsp;&nbsp; </font></span><span style=\"COLOR: blue\">if</span><font color=\"#000000\">(new_avg &lt; min_avg)</font><span style=\"COLOR: green\">//</span></span><span style=\"FONT-FAMILY: 돋움체; COLOR: green; mso-font-kerning: 0pt; mso-hansi-font-family: 'Times New Roman'; mso-bidi-font-family: 'Times New Roman'; mso-no-proof: yes\">작으면갱신해줌</span></font></p><p style=\"WORD-BREAK: keep-all; TEXT-ALIGN: left; MARGIN: 0cm 0cm 0pt; mso-layout-grid-align: none\" align=\"left\"><span style=\"FONT-FAMILY: 돋움체; mso-font-kerning: 0pt; mso-hansi-font-family: 'Times New Roman'; mso-bidi-font-family: 'Times New Roman'; mso-no-proof: yes\"><font size=\"2\"><font color=\"#000000\"><span style=\"mso-tab-count: 5\">&nbsp;&nbsp;&nbsp;&nbsp;&nbsp;&nbsp;&nbsp;&nbsp;&nbsp;&nbsp;&nbsp;&nbsp;&nbsp;&nbsp;&nbsp;&nbsp;&nbsp;&nbsp;&nbsp;&nbsp;&nbsp;&nbsp;&nbsp;&nbsp;&nbsp;&nbsp;&nbsp;&nbsp;&nbsp;&nbsp;&nbsp;&nbsp;&nbsp;&nbsp;&nbsp;&nbsp;&nbsp; </span>min_avg = new_avg;</font></font></span></p><p style=\"WORD-BREAK: keep-all; TEXT-ALIGN: left; MARGIN: 0cm 0cm 0pt; mso-layout-grid-align: none\" align=\"left\"><span style=\"FONT-FAMILY: 돋움체; mso-font-kerning: 0pt; mso-hansi-font-family: 'Times New Roman'; mso-bidi-font-family: 'Times New Roman'; mso-no-proof: yes\"><font color=\"#000000\" size=\"2\">&nbsp;</font></span></p><p style=\"WORD-BREAK: keep-all; TEXT-ALIGN: left; MARGIN: 0cm 0cm 0pt; mso-layout-grid-align: none\" align=\"left\"><font size=\"2\"><span style=\"FONT-FAMILY: 돋움체; mso-font-kerning: 0pt; mso-hansi-font-family: 'Times New Roman'; mso-bidi-font-family: 'Times New Roman'; mso-no-proof: yes\"><font color=\"#000000\"><span style=\"mso-tab-count: 4\">&nbsp;&nbsp;&nbsp;&nbsp;&nbsp;&nbsp;&nbsp;&nbsp;&nbsp;&nbsp;&nbsp;&nbsp;&nbsp;&nbsp;&nbsp;&nbsp;&nbsp;&nbsp;&nbsp;&nbsp;&nbsp;&nbsp;&nbsp;&nbsp;&nbsp;&nbsp;&nbsp;&nbsp;&nbsp; </span>sum = 0;</font><span style=\"COLOR: green\">//sum </span></span><span style=\"FONT-FAMILY: 돋움체; COLOR: green; mso-font-kerning: 0pt; mso-hansi-font-family: 'Times New Roman'; mso-bidi-font-family: 'Times New Roman'; mso-no-proof: yes\">초기화해줌</span></font></p><p style=\"WORD-BREAK: keep-all; TEXT-ALIGN: left; MARGIN: 0cm 0cm 0pt; mso-layout-grid-align: none\" align=\"left\"><span style=\"FONT-FAMILY: 돋움체; COLOR: green; mso-font-kerning: 0pt; mso-hansi-font-family: 'Times New Roman'; mso-bidi-font-family: 'Times New Roman'; mso-no-proof: yes\"><font size=\"2\">&nbsp;</font></span></p><p style=\"WORD-BREAK: keep-all; TEXT-ALIGN: left; MARGIN: 0cm 0cm 0pt; mso-layout-grid-align: none\" align=\"left\"><font size=\"2\"><span style=\"FONT-FAMILY: 돋움체; mso-font-kerning: 0pt; mso-hansi-font-family: 'Times New Roman'; mso-bidi-font-family: 'Times New Roman'; mso-no-proof: yes\"><span style=\"mso-tab-count: 4\"><font color=\"#000000\">&nbsp;&nbsp;&nbsp;&nbsp;&nbsp;&nbsp;&nbsp;&nbsp;&nbsp;&nbsp;&nbsp;&nbsp;&nbsp;&nbsp;&nbsp;&nbsp;&nbsp;&nbsp;&nbsp;&nbsp;&nbsp;&nbsp;&nbsp;&nbsp;&nbsp;&nbsp;&nbsp;&nbsp;&nbsp; </font></span><span style=\"COLOR: green\">//start </span></span><span style=\"FONT-FAMILY: 돋움체; COLOR: green; mso-font-kerning: 0pt; mso-hansi-font-family: 'Times New Roman'; mso-bidi-font-family: 'Times New Roman'; mso-no-proof: yes\">세팅</span></font></p><p style=\"WORD-BREAK: keep-all; TEXT-ALIGN: left; MARGIN: 0cm 0cm 0pt; mso-layout-grid-align: none\" align=\"left\"><span style=\"FONT-FAMILY: 돋움체; mso-font-kerning: 0pt; mso-hansi-font-family: 'Times New Roman'; mso-bidi-font-family: 'Times New Roman'; mso-no-proof: yes\"><font size=\"2\"><span style=\"mso-tab-count: 4\"><font color=\"#000000\">&nbsp;&nbsp;&nbsp;&nbsp;&nbsp;&nbsp;&nbsp;&nbsp;&nbsp;&nbsp;&nbsp;&nbsp;&nbsp;&nbsp;&nbsp;&nbsp;&nbsp;&nbsp;&nbsp;&nbsp;&nbsp;&nbsp;&nbsp;&nbsp;&nbsp;&nbsp;&nbsp;&nbsp;&nbsp; </font></span><span style=\"COLOR: blue\">if</span><font color=\"#000000\">(start &lt;= days-step){</font></font></span></p><p style=\"WORD-BREAK: keep-all; TEXT-ALIGN: left; MARGIN: 0cm 0cm 0pt; mso-layout-grid-align: none\" align=\"left\"><span style=\"FONT-FAMILY: 돋움체; mso-font-kerning: 0pt; mso-hansi-font-family: 'Times New Roman'; mso-bidi-font-family: 'Times New Roman'; mso-no-proof: yes\"><font size=\"2\"><font color=\"#000000\"><span style=\"mso-tab-count: 5\">&nbsp;&nbsp;&nbsp;&nbsp;&nbsp;&nbsp;&nbsp;&nbsp;&nbsp;&nbsp;&nbsp;&nbsp;&nbsp;&nbsp;&nbsp;&nbsp;&nbsp;&nbsp;&nbsp;&nbsp;&nbsp;&nbsp;&nbsp;&nbsp;&nbsp;&nbsp;&nbsp;&nbsp;&nbsp;&nbsp;&nbsp;&nbsp;&nbsp;&nbsp;&nbsp;&nbsp;&nbsp; </span></font></font></span></p><p style=\"WORD-BREAK: keep-all; TEXT-ALIGN: left; MARGIN: 0cm 0cm 0pt; mso-layout-grid-align: none\" align=\"left\"><span style=\"FONT-FAMILY: 돋움체; mso-font-kerning: 0pt; mso-hansi-font-family: 'Times New Roman'; mso-bidi-font-family: 'Times New Roman'; mso-no-proof: yes\"><font size=\"2\"><font color=\"#000000\"><span style=\"mso-tab-count: 5\">&nbsp;&nbsp;&nbsp;&nbsp;&nbsp;&nbsp;&nbsp;&nbsp;&nbsp;&nbsp;&nbsp;&nbsp;&nbsp;&nbsp;&nbsp;&nbsp;&nbsp;&nbsp;&nbsp;&nbsp;&nbsp;&nbsp;&nbsp;&nbsp;&nbsp;&nbsp;&nbsp;&nbsp;&nbsp;&nbsp;&nbsp;&nbsp;&nbsp;&nbsp;&nbsp;&nbsp;&nbsp; </span>start++;</font></font></span></p><p style=\"WORD-BREAK: keep-all; TEXT-ALIGN: left; MARGIN: 0cm 0cm 0pt; mso-layout-grid-align: none\" align=\"left\"><span style=\"FONT-FAMILY: 돋움체; mso-font-kerning: 0pt; mso-hansi-font-family: 'Times New Roman'; mso-bidi-font-family: 'Times New Roman'; mso-no-proof: yes\"><font color=\"#000000\" size=\"2\">&nbsp;</font></span></p><p style=\"WORD-BREAK: keep-all; TEXT-ALIGN: left; MARGIN: 0cm 0cm 0pt; mso-layout-grid-align: none\" align=\"left\"><span style=\"FONT-FAMILY: 돋움체; mso-font-kerning: 0pt; mso-hansi-font-family: 'Times New Roman'; mso-bidi-font-family: 'Times New Roman'; mso-no-proof: yes\"><font size=\"2\"><font color=\"#000000\"><span style=\"mso-tab-count: 4\">&nbsp;&nbsp;&nbsp;&nbsp;&nbsp;&nbsp;&nbsp;&nbsp;&nbsp;&nbsp;&nbsp;&nbsp;&nbsp;&nbsp;&nbsp;&nbsp;&nbsp;&nbsp;&nbsp;&nbsp;&nbsp;&nbsp;&nbsp;&nbsp;&nbsp;&nbsp;&nbsp;&nbsp;&nbsp; </span>}</font></font></span></p><p style=\"WORD-BREAK: keep-all; TEXT-ALIGN: left; MARGIN: 0cm 0cm 0pt; mso-layout-grid-align: none\" align=\"left\"><span style=\"FONT-FAMILY: 돋움체; mso-font-kerning: 0pt; mso-hansi-font-family: 'Times New Roman'; mso-bidi-font-family: 'Times New Roman'; mso-no-proof: yes\"><font size=\"2\"><font color=\"#000000\"><span style=\"mso-tab-count: 3\">&nbsp;&nbsp;&nbsp;&nbsp;&nbsp;&nbsp;&nbsp;&nbsp;&nbsp;&nbsp;&nbsp;&nbsp;&nbsp;&nbsp;&nbsp;&nbsp;&nbsp;&nbsp;&nbsp;&nbsp;&nbsp;&nbsp; </span></font></font></span></p><p style=\"WORD-BREAK: keep-all; TEXT-ALIGN: left; MARGIN: 0cm 0cm 0pt; mso-layout-grid-align: none\" align=\"left\"><font size=\"2\"><span style=\"FONT-FAMILY: 돋움체; mso-font-kerning: 0pt; mso-hansi-font-family: 'Times New Roman'; mso-bidi-font-family: 'Times New Roman'; mso-no-proof: yes\"><font color=\"#000000\"><span style=\"mso-tab-count: 3\">&nbsp;&nbsp;&nbsp;&nbsp;&nbsp;&nbsp;&nbsp;&nbsp;&nbsp;&nbsp;&nbsp;&nbsp;&nbsp;&nbsp;&nbsp;&nbsp;&nbsp;&nbsp;&nbsp;&nbsp;&nbsp;&nbsp; </span>}</font><span style=\"COLOR: green\">//</span></span><span style=\"FONT-FAMILY: 돋움체; COLOR: green; mso-font-kerning: 0pt; mso-hansi-font-family: 'Times New Roman'; mso-bidi-font-family: 'Times New Roman'; mso-no-proof: yes\">한라인완료</span></font></p><p style=\"WORD-BREAK: keep-all; TEXT-ALIGN: left; MARGIN: 0cm 0cm 0pt; mso-layout-grid-align: none\" align=\"left\"><span style=\"FONT-FAMILY: 돋움체; COLOR: green; mso-font-kerning: 0pt; mso-hansi-font-family: 'Times New Roman'; mso-bidi-font-family: 'Times New Roman'; mso-no-proof: yes\"><font size=\"2\">&nbsp;</font></span></p><p style=\"WORD-BREAK: keep-all; TEXT-ALIGN: left; MARGIN: 0cm 0cm 0pt; mso-layout-grid-align: none\" align=\"left\"><font size=\"2\"><span style=\"FONT-FAMILY: 돋움체; mso-font-kerning: 0pt; mso-hansi-font-family: 'Times New Roman'; mso-bidi-font-family: 'Times New Roman'; mso-no-proof: yes\"><font color=\"#000000\"><span style=\"mso-tab-count: 4\">&nbsp;&nbsp;&nbsp;&nbsp;&nbsp;&nbsp;&nbsp;&nbsp;&nbsp;&nbsp;&nbsp;&nbsp;&nbsp;&nbsp;&nbsp;&nbsp;&nbsp;&nbsp;&nbsp;&nbsp;&nbsp;&nbsp;&nbsp;&nbsp;&nbsp;&nbsp;&nbsp;&nbsp;&nbsp; </span>start = 0;</font><span style=\"COLOR: green\">//start </span></span><span style=\"FONT-FAMILY: 돋움체; COLOR: green; mso-font-kerning: 0pt; mso-hansi-font-family: 'Times New Roman'; mso-bidi-font-family: 'Times New Roman'; mso-no-proof: yes\">초기화</span></font></p><p style=\"WORD-BREAK: keep-all; TEXT-ALIGN: left; MARGIN: 0cm 0cm 0pt; mso-layout-grid-align: none\" align=\"left\"><font size=\"2\"><span style=\"FONT-FAMILY: 돋움체; mso-font-kerning: 0pt; mso-hansi-font-family: 'Times New Roman'; mso-bidi-font-family: 'Times New Roman'; mso-no-proof: yes\"><font color=\"#000000\"><span style=\"mso-tab-count: 4\">&nbsp;&nbsp;&nbsp;&nbsp;&nbsp;&nbsp;&nbsp;&nbsp;&nbsp;&nbsp;&nbsp;&nbsp;&nbsp;&nbsp;&nbsp;&nbsp;&nbsp;&nbsp;&nbsp;&nbsp;&nbsp;&nbsp;&nbsp;&nbsp;&nbsp;&nbsp;&nbsp;&nbsp;&nbsp; </span>blk_step=blk_step-1;</font><span style=\"COLOR: green\">//</span></span><span style=\"FONT-FAMILY: 돋움체; COLOR: green; mso-font-kerning: 0pt; mso-hansi-font-family: 'Times New Roman'; mso-bidi-font-family: 'Times New Roman'; mso-no-proof: yes\">블록의전체횟수줄여주고</span></font></p><p style=\"WORD-BREAK: keep-all; TEXT-ALIGN: left; MARGIN: 0cm 0cm 0pt; mso-layout-grid-align: none\" align=\"left\"><font size=\"2\"><span style=\"FONT-FAMILY: 돋움체; mso-font-kerning: 0pt; mso-hansi-font-family: 'Times New Roman'; mso-bidi-font-family: 'Times New Roman'; mso-no-proof: yes\"><font color=\"#000000\"><span style=\"mso-tab-count: 4\">&nbsp;&nbsp;&nbsp;&nbsp;&nbsp;&nbsp;&nbsp;&nbsp;&nbsp;&nbsp;&nbsp;&nbsp;&nbsp;&nbsp;&nbsp;&nbsp;&nbsp;&nbsp;&nbsp;&nbsp;&nbsp;&nbsp;&nbsp;&nbsp;&nbsp;&nbsp;&nbsp;&nbsp;&nbsp; </span>step = step+1;</font><span style=\"COLOR: green\">//</span></span><span style=\"FONT-FAMILY: 돋움체; COLOR: green; mso-font-kerning: 0pt; mso-hansi-font-family: 'Times New Roman'; mso-bidi-font-family: 'Times New Roman'; mso-no-proof: yes\">스탭늘려주고</span></font></p><p style=\"WORD-BREAK: keep-all; TEXT-ALIGN: left; MARGIN: 0cm 0cm 0pt; mso-layout-grid-align: none\" align=\"left\"><span style=\"FONT-FAMILY: 돋움체; COLOR: green; mso-font-kerning: 0pt; mso-hansi-font-family: 'Times New Roman'; mso-bidi-font-family: 'Times New Roman'; mso-no-proof: yes\"><font size=\"2\">&nbsp;</font></span></p><p style=\"WORD-BREAK: keep-all; TEXT-ALIGN: left; MARGIN: 0cm 0cm 0pt; mso-layout-grid-align: none\" align=\"left\"><span style=\"FONT-FAMILY: 돋움체; COLOR: green; mso-font-kerning: 0pt; mso-hansi-font-family: 'Times New Roman'; mso-bidi-font-family: 'Times New Roman'; mso-no-proof: yes\"><font size=\"2\">&nbsp;</font></span></p><p style=\"WORD-BREAK: keep-all; TEXT-ALIGN: left; MARGIN: 0cm 0cm 0pt; mso-layout-grid-align: none\" align=\"left\"><font size=\"2\"><span style=\"FONT-FAMILY: 돋움체; mso-font-kerning: 0pt; mso-hansi-font-family: 'Times New Roman'; mso-bidi-font-family: 'Times New Roman'; mso-no-proof: yes\"><font color=\"#000000\"><span style=\"mso-tab-count: 2\">&nbsp;&nbsp;&nbsp;&nbsp;&nbsp;&nbsp;&nbsp;&nbsp;&nbsp;&nbsp;&nbsp;&nbsp;&nbsp;&nbsp; </span>}</font><span style=\"COLOR: green\">//</span></span><span style=\"FONT-FAMILY: 돋움체; COLOR: green; mso-font-kerning: 0pt; mso-hansi-font-family: 'Times New Roman'; mso-bidi-font-family: 'Times New Roman'; mso-no-proof: yes\">전라인완료<span>.</span></span></font></p><p style=\"WORD-BREAK: keep-all; TEXT-ALIGN: left; MARGIN: 0cm 0cm 0pt; mso-layout-grid-align: none\" align=\"left\"><span style=\"FONT-FAMILY: 돋움체; COLOR: green; mso-font-kerning: 0pt; mso-hansi-font-family: 'Times New Roman'; mso-bidi-font-family: 'Times New Roman'; mso-no-proof: yes\"><font size=\"2\">&nbsp;</font></span></p><p style=\"WORD-BREAK: keep-all; TEXT-ALIGN: left; MARGIN: 0cm 0cm 0pt; mso-layout-grid-align: none\" align=\"left\"><span style=\"FONT-FAMILY: 돋움체; mso-font-kerning: 0pt; mso-hansi-font-family: 'Times New Roman'; mso-bidi-font-family: 'Times New Roman'; mso-no-proof: yes\"><font size=\"2\"><font color=\"#000000\"><span style=\"mso-tab-count: 2\">&nbsp;&nbsp;&nbsp;&nbsp;&nbsp;&nbsp;&nbsp;&nbsp;&nbsp;&nbsp;&nbsp;&nbsp;&nbsp;&nbsp; </span>cout_avg[i] = min_avg;</font></font></span></p><p style=\"WORD-BREAK: keep-all; TEXT-ALIGN: left; MARGIN: 0cm 0cm 0pt; mso-layout-grid-align: none\" align=\"left\"><font size=\"2\"><span style=\"FONT-FAMILY: 돋움체; mso-font-kerning: 0pt; mso-hansi-font-family: 'Times New Roman'; mso-bidi-font-family: 'Times New Roman'; mso-no-proof: yes\"><font color=\"#000000\"><span style=\"mso-tab-count: 2\">&nbsp;&nbsp;&nbsp;&nbsp;&nbsp;&nbsp;&nbsp;&nbsp;&nbsp;&nbsp;&nbsp;&nbsp;&nbsp;&nbsp; </span>min_avg = 9999.9;</font><span style=\"COLOR: green\">//</span></span><span style=\"FONT-FAMILY: 돋움체; COLOR: green; mso-font-kerning: 0pt; mso-hansi-font-family: 'Times New Roman'; mso-bidi-font-family: 'Times New Roman'; mso-no-proof: yes\">초기화</span></font></p><p style=\"WORD-BREAK: keep-all; TEXT-ALIGN: left; MARGIN: 0cm 0cm 0pt; mso-layout-grid-align: none\" align=\"left\"><span style=\"FONT-FAMILY: 돋움체; COLOR: green; mso-font-kerning: 0pt; mso-hansi-font-family: 'Times New Roman'; mso-bidi-font-family: 'Times New Roman'; mso-no-proof: yes\"><font size=\"2\">&nbsp;</font></span></p><p style=\"WORD-BREAK: keep-all; TEXT-ALIGN: left; MARGIN: 0cm 0cm 0pt; mso-layout-grid-align: none\" align=\"left\"><span style=\"FONT-FAMILY: 돋움체; COLOR: green; mso-font-kerning: 0pt; mso-hansi-font-family: 'Times New Roman'; mso-bidi-font-family: 'Times New Roman'; mso-no-proof: yes\"><font size=\"2\">&nbsp;</font></span></p><p style=\"WORD-BREAK: keep-all; TEXT-ALIGN: left; MARGIN: 0cm 0cm 0pt; mso-layout-grid-align: none\" align=\"left\"><span style=\"FONT-FAMILY: 돋움체; mso-font-kerning: 0pt; mso-hansi-font-family: 'Times New Roman'; mso-bidi-font-family: 'Times New Roman'; mso-no-proof: yes\"><font size=\"2\"><font color=\"#000000\"><span style=\"mso-tab-count: 1\">&nbsp;&nbsp;&nbsp;&nbsp;&nbsp;&nbsp;&nbsp; </span>}</font></font></span></p><p style=\"WORD-BREAK: keep-all; TEXT-ALIGN: left; MARGIN: 0cm 0cm 0pt; mso-layout-grid-align: none\" align=\"left\"><span style=\"FONT-FAMILY: 돋움체; mso-font-kerning: 0pt; mso-hansi-font-family: 'Times New Roman'; mso-bidi-font-family: 'Times New Roman'; mso-no-proof: yes\"><font color=\"#000000\" size=\"2\">&nbsp;</font></span></p><p style=\"WORD-BREAK: keep-all; TEXT-ALIGN: left; MARGIN: 0cm 0cm 0pt; mso-layout-grid-align: none\" align=\"left\"><span style=\"FONT-FAMILY: 돋움체; mso-font-kerning: 0pt; mso-hansi-font-family: 'Times New Roman'; mso-bidi-font-family: 'Times New Roman'; mso-no-proof: yes\"><font size=\"2\"><span style=\"mso-tab-count: 1\"><font color=\"#000000\">&nbsp;&nbsp;&nbsp;&nbsp;&nbsp;&nbsp;&nbsp; </font></span><span style=\"COLOR: blue\">for</span><font color=\"#000000\">(</font><span style=\"COLOR: blue\">int</span><font color=\"#000000\"> i=0; i &lt; testcase; i++){</font></font></span></p><p style=\"WORD-BREAK: keep-all; TEXT-ALIGN: left; MARGIN: 0cm 0cm 0pt; mso-layout-grid-align: none\" align=\"left\"><span style=\"FONT-FAMILY: 돋움체; mso-font-kerning: 0pt; mso-hansi-font-family: 'Times New Roman'; mso-bidi-font-family: 'Times New Roman'; mso-no-proof: yes\"><font color=\"#000000\" size=\"2\">&nbsp;</font></span></p><p style=\"WORD-BREAK: keep-all; TEXT-ALIGN: left; MARGIN: 0cm 0cm 0pt; mso-layout-grid-align: none\" align=\"left\"><span style=\"FONT-FAMILY: 돋움체; mso-font-kerning: 0pt; mso-hansi-font-family: 'Times New Roman'; mso-bidi-font-family: 'Times New Roman'; mso-no-proof: yes\"><font size=\"2\"><font color=\"#000000\"><span style=\"mso-tab-count: 2\">&nbsp;&nbsp;&nbsp;&nbsp;&nbsp;&nbsp;&nbsp;&nbsp;&nbsp;&nbsp;&nbsp;&nbsp;&nbsp;&nbsp; </span>printf(</font><span style=\"COLOR: #a31515\">\"%.10f\\n\"</span><font color=\"#000000\">, cout_avg[i]);</font></font></span></p><p style=\"WORD-BREAK: keep-all; TEXT-ALIGN: left; MARGIN: 0cm 0cm 0pt; mso-layout-grid-align: none\" align=\"left\"><span style=\"FONT-FAMILY: 돋움체; mso-font-kerning: 0pt; mso-hansi-font-family: 'Times New Roman'; mso-bidi-font-family: 'Times New Roman'; mso-no-proof: yes\"><font color=\"#000000\" size=\"2\">&nbsp;</font></span></p><p style=\"WORD-BREAK: keep-all; TEXT-ALIGN: left; MARGIN: 0cm 0cm 0pt; mso-layout-grid-align: none\" align=\"left\"><span style=\"FONT-FAMILY: 돋움체; mso-font-kerning: 0pt; mso-hansi-font-family: 'Times New Roman'; mso-bidi-font-family: 'Times New Roman'; mso-no-proof: yes\"><font size=\"2\"><font color=\"#000000\"><span style=\"mso-tab-count: 1\">&nbsp;&nbsp;&nbsp;&nbsp;&nbsp;&nbsp;&nbsp; </span>}</font></font></span></p><p style=\"WORD-BREAK: keep-all; TEXT-ALIGN: left; MARGIN: 0cm 0cm 0pt; mso-layout-grid-align: none\" align=\"left\"><span style=\"FONT-FAMILY: 돋움체; mso-font-kerning: 0pt; mso-hansi-font-family: 'Times New Roman'; mso-bidi-font-family: 'Times New Roman'; mso-no-proof: yes\"><font color=\"#000000\" size=\"2\">&nbsp;</font></span></p><p style=\"WORD-BREAK: keep-all; TEXT-ALIGN: left; MARGIN: 0cm 0cm 0pt; mso-layout-grid-align: none\" align=\"left\"><span style=\"FONT-FAMILY: 돋움체; mso-font-kerning: 0pt; mso-hansi-font-family: 'Times New Roman'; mso-bidi-font-family: 'Times New Roman'; mso-no-proof: yes\"><font color=\"#000000\" size=\"2\">&nbsp;</font></span></p><p style=\"WORD-BREAK: keep-all; TEXT-ALIGN: left; MARGIN: 0cm 0cm 0pt; mso-layout-grid-align: none\" align=\"left\"><span style=\"FONT-FAMILY: 돋움체; mso-font-kerning: 0pt; mso-hansi-font-family: 'Times New Roman'; mso-bidi-font-family: 'Times New Roman'; mso-no-proof: yes\"><font size=\"2\"><span style=\"mso-tab-count: 1\"><font color=\"#000000\">&nbsp;&nbsp;&nbsp;&nbsp;&nbsp;&nbsp;&nbsp; </font></span><span style=\"COLOR: blue\">return</span><font color=\"#000000\"> 0;</font></font></span></p><p style=\"WORD-BREAK: keep-all; TEXT-ALIGN: left; MARGIN: 0cm 0cm 0pt; mso-layout-grid-align: none\" align=\"left\"><span style=\"FONT-FAMILY: 돋움체; mso-font-kerning: 0pt; mso-hansi-font-family: 'Times New Roman'; mso-bidi-font-family: 'Times New Roman'; mso-no-proof: yes\"><font color=\"#000000\" size=\"2\">&nbsp;</font></span></p><p style=\"WORD-BREAK: keep-all; MARGIN: 0cm 0cm 0pt\"><span style=\"FONT-FAMILY: 돋움체; mso-font-kerning: 0pt; mso-hansi-font-family: 'Times New Roman'; mso-bidi-font-family: 'Times New Roman'; mso-no-proof: yes\"><font color=\"#000000\" size=\"2\">}</font></span></p><p>&nbsp;</p><p>&nbsp;</p><p>다른분이 푸신 방법을 봤는데</p><p>&nbsp;</p><p>첫번째에 (1, 2, 3) (1, 2, 3, 1) (1, 2, 3, 1, 2) (1, 2, 3, 1, 2, 3)</p><p>&nbsp;</p><p>두번째에 (2, 3, 1,) (2, 3, 1, 2) (2, 3, 1, 2, 3)</p><p>&nbsp;</p><p>세번째에 (3, 1, 2) (3, 1, 2, 3)</p><p>&nbsp;</p><p>네번째에 (1, 2, 3)</p><p>&nbsp;</p><p>으로 하면 훨씬 빠르고 간결하게 할수있었습니다..</p></div></pre></section>'''"
   ]
  },
  {
   "cell_type": "code",
   "execution_count": 5,
   "metadata": {
    "collapsed": false
   },
   "outputs": [],
   "source": [
    "import urllib"
   ]
  },
  {
   "cell_type": "code",
   "execution_count": 9,
   "metadata": {
    "collapsed": false
   },
   "outputs": [],
   "source": [
    "import html"
   ]
  },
  {
   "cell_type": "code",
   "execution_count": 11,
   "metadata": {
    "collapsed": false
   },
   "outputs": [],
   "source": [
    "import re"
   ]
  },
  {
   "cell_type": "code",
   "execution_count": 19,
   "metadata": {
    "collapsed": false
   },
   "outputs": [
    {
     "name": "stdout",
     "output_type": "stream",
     "text": [
      "#include <iostream>\n",
      "//#include <string>\n",
      "//#include <iomanip>\n",
      "#include <stdio.h>\n",
      " \n",
      "using namespace std;\n",
      " \n",
      "int main(){\n",
      " \n",
      "        int testcase=0;\n",
      "        int min=0;\n",
      "        int days=0;\n",
      "        int nteam=0;\n",
      "        int dayCost[1000]={0,};\n",
      "        int sum=0;\n",
      "        double min_avg=9999.0;\n",
      "        double new_avg=9999.0;\n",
      "        double cout_avg[100]={0.0,};\n",
      " \n",
      "        int step=0;\n",
      "        int start=0;\n",
      "        int blk_step=1;\n",
      " \n",
      "        //test case 받아줌\n",
      "        cin >> testcase;\n",
      " \n",
      "        for(int i=0; i < testcase; i++){\n",
      " \n",
      "                //날짜수와팀갯수받아줌\n",
      "               scanf(\"%d\", &amp;days);\n",
      "               scanf(\"%d\", &amp;nteam);\n",
      " \n",
      " \n",
      "               for(int j=0; j < days;j++){\n",
      " \n",
      "                       //날짜별비용받아줌.\n",
      "                       scanf(\"%d\", &amp;dayCost[j]);\n",
      " \n",
      "               }\n",
      " \n",
      "               step = nteam;//팀갯수로스탭시작\n",
      "               blk_step = 1;\n",
      "               \n",
      "               //전라인시작이니까\n",
      "               for(int n=0; n < days-nteam+1; n++){\n",
      " \n",
      " \n",
      "                       //한라인을돌릴때쓰는것이고\n",
      "                       for(int m=0; m < days-nteam+blk_step; m++){\n",
      " \n",
      "                              //더하는서브블록\n",
      "                              for(int k=start; k < start+step; k++){\n",
      " \n",
      "                                      sum = sum + dayCost[k];\n",
      "                                             \n",
      "                              }\n",
      " \n",
      "                              new_avg = (double)((double)sum/(double)step);//평균내보고\n",
      " \n",
      "                              if(new_avg < min_avg)//작으면갱신해줌\n",
      "                                      min_avg = new_avg;\n",
      " \n",
      "                              sum = 0;//sum 초기화해줌\n",
      " \n",
      "                              //start 세팅\n",
      "                              if(start <= days-step){\n",
      "                                      \n",
      "                                      start++;\n",
      " \n",
      "                              }\n",
      "                       \n",
      "                       }//한라인완료\n",
      " \n",
      "                              start = 0;//start 초기화\n",
      "                              blk_step=blk_step-1;//블록의전체횟수줄여주고\n",
      "                              step = step+1;//스탭늘려주고\n",
      " \n",
      " \n",
      "               }//전라인완료.\n",
      " \n",
      "               cout_avg[i] = min_avg;\n",
      "               min_avg = 9999.9;//초기화\n",
      " \n",
      " \n",
      "        }\n",
      " \n",
      "        for(int i=0; i < testcase; i++){\n",
      " \n",
      "               printf(\"%.10f\n",
      "\", cout_avg[i]);\n",
      " \n",
      "        }\n",
      " \n",
      " \n",
      "        return 0;\n",
      " \n",
      "}\n",
      " \n",
      " \n",
      "다른분이 푸신 방법을 봤는데\n",
      " \n",
      "첫번째에 (1, 2, 3) (1, 2, 3, 1) (1, 2, 3, 1, 2) (1, 2, 3, 1, 2, 3)\n",
      " \n",
      "두번째에 (2, 3, 1,) (2, 3, 1, 2) (2, 3, 1, 2, 3)\n",
      " \n",
      "세번째에 (3, 1, 2) (3, 1, 2, 3)\n",
      " \n",
      "네번째에 (1, 2, 3)\n",
      " \n",
      "으로 하면 훨씬 빠르고 간결하게 할수있었습니다..\n"
     ]
    }
   ],
   "source": [
    "s1 = re.sub('<p[^>]*>', '\\n', s)\n",
    "s1 = re.sub('<[^>]*>', '', s1)\n",
    "s1 = re.sub('&nbsp;', ' ', s1)\n",
    "s1 = re.sub('&lt;', '<', s1)\n",
    "s1 = re.sub('&gt;', '>', s1)\n",
    "print(s1)"
   ]
  },
  {
   "cell_type": "code",
   "execution_count": null,
   "metadata": {
    "collapsed": false
   },
   "outputs": [],
   "source": []
  }
 ],
 "metadata": {
  "kernelspec": {
   "display_name": "Python 2",
   "language": "python",
   "name": "python2"
  },
  "language_info": {
   "codemirror_mode": {
    "name": "ipython",
    "version": 2
   },
   "file_extension": ".py",
   "mimetype": "text/x-python",
   "name": "python",
   "nbconvert_exporter": "python",
   "pygments_lexer": "ipython2",
   "version": "2.7.6"
  }
 },
 "nbformat": 4,
 "nbformat_minor": 0
}
