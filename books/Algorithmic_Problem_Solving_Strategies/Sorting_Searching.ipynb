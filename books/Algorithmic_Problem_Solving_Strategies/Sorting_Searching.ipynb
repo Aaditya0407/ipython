{
 "metadata": {
  "name": "",
  "signature": "sha256:f0826bc7ed0797b486d04116923ed2e76473cb61ebf298424911de209cb50ebc"
 },
 "nbformat": 3,
 "nbformat_minor": 0,
 "worksheets": [
  {
   "cells": [
    {
     "cell_type": "markdown",
     "metadata": {},
     "source": [
      "# Sorting & Searching"
     ]
    },
    {
     "cell_type": "code",
     "collapsed": false,
     "input": [
      "def hash_(astring, tablesize):\n",
      "    sum_ = 0\n",
      "    for pos in range(len(astring)):\n",
      "        sum_ = sum_ + ord(astring[pos])\n",
      "    return sum_ % tablesize"
     ],
     "language": "python",
     "metadata": {},
     "outputs": [],
     "prompt_number": 2
    },
    {
     "cell_type": "code",
     "collapsed": false,
     "input": [
      "def hash_2(astring, tablesize):\n",
      "    sum_ = 0\n",
      "    for pos in range(len(astring)):\n",
      "        sum_ = sum_ + ord(astring[pos])*(pos+1)\n",
      "    return sum_ % tablesize"
     ],
     "language": "python",
     "metadata": {},
     "outputs": [],
     "prompt_number": 9
    },
    {
     "cell_type": "code",
     "collapsed": false,
     "input": [
      "hash_('cat', 11)"
     ],
     "language": "python",
     "metadata": {},
     "outputs": [
      {
       "metadata": {},
       "output_type": "pyout",
       "prompt_number": 10,
       "text": [
        "4"
       ]
      }
     ],
     "prompt_number": 10
    },
    {
     "cell_type": "code",
     "collapsed": false,
     "input": [
      "hash_2('cat', 11)"
     ],
     "language": "python",
     "metadata": {},
     "outputs": [
      {
       "metadata": {},
       "output_type": "pyout",
       "prompt_number": 11,
       "text": [
        "3"
       ]
      }
     ],
     "prompt_number": 11
    },
    {
     "cell_type": "code",
     "collapsed": false,
     "input": [
      "77%11"
     ],
     "language": "python",
     "metadata": {},
     "outputs": [
      {
       "metadata": {},
       "output_type": "pyout",
       "prompt_number": 14,
       "text": [
        "0"
       ]
      }
     ],
     "prompt_number": 14
    },
    {
     "cell_type": "code",
     "collapsed": false,
     "input": [
      "55%11"
     ],
     "language": "python",
     "metadata": {},
     "outputs": [
      {
       "metadata": {},
       "output_type": "pyout",
       "prompt_number": 15,
       "text": [
        "0"
       ]
      }
     ],
     "prompt_number": 15
    },
    {
     "cell_type": "code",
     "collapsed": false,
     "input": [
      "44%11"
     ],
     "language": "python",
     "metadata": {},
     "outputs": [
      {
       "metadata": {},
       "output_type": "pyout",
       "prompt_number": 16,
       "text": [
        "0"
       ]
      }
     ],
     "prompt_number": 16
    },
    {
     "cell_type": "code",
     "collapsed": false,
     "input": [
      "26%11"
     ],
     "language": "python",
     "metadata": {},
     "outputs": [
      {
       "metadata": {},
       "output_type": "pyout",
       "prompt_number": 17,
       "text": [
        "4"
       ]
      }
     ],
     "prompt_number": 17
    },
    {
     "cell_type": "code",
     "collapsed": false,
     "input": [
      "93%11"
     ],
     "language": "python",
     "metadata": {},
     "outputs": [
      {
       "metadata": {},
       "output_type": "pyout",
       "prompt_number": 18,
       "text": [
        "5"
       ]
      }
     ],
     "prompt_number": 18
    },
    {
     "cell_type": "code",
     "collapsed": false,
     "input": [
      "17%11"
     ],
     "language": "python",
     "metadata": {},
     "outputs": [
      {
       "metadata": {},
       "output_type": "pyout",
       "prompt_number": 19,
       "text": [
        "6"
       ]
      }
     ],
     "prompt_number": 19
    },
    {
     "cell_type": "code",
     "collapsed": false,
     "input": [
      "20%11"
     ],
     "language": "python",
     "metadata": {},
     "outputs": [
      {
       "metadata": {},
       "output_type": "pyout",
       "prompt_number": 20,
       "text": [
        "9"
       ]
      }
     ],
     "prompt_number": 20
    },
    {
     "cell_type": "code",
     "collapsed": false,
     "input": [
      "31%11"
     ],
     "language": "python",
     "metadata": {},
     "outputs": [
      {
       "metadata": {},
       "output_type": "pyout",
       "prompt_number": 21,
       "text": [
        "9"
       ]
      }
     ],
     "prompt_number": 21
    },
    {
     "cell_type": "code",
     "collapsed": false,
     "input": [
      "54%11"
     ],
     "language": "python",
     "metadata": {},
     "outputs": [
      {
       "metadata": {},
       "output_type": "pyout",
       "prompt_number": 22,
       "text": [
        "10"
       ]
      }
     ],
     "prompt_number": 22
    },
    {
     "cell_type": "code",
     "collapsed": false,
     "input": [],
     "language": "python",
     "metadata": {},
     "outputs": [],
     "prompt_number": 22
    },
    {
     "cell_type": "code",
     "collapsed": false,
     "input": [
      "3%11"
     ],
     "language": "python",
     "metadata": {},
     "outputs": [
      {
       "metadata": {},
       "output_type": "pyout",
       "prompt_number": 23,
       "text": [
        "3"
       ]
      }
     ],
     "prompt_number": 23
    },
    {
     "cell_type": "code",
     "collapsed": false,
     "input": [
      "6%11"
     ],
     "language": "python",
     "metadata": {},
     "outputs": [
      {
       "metadata": {},
       "output_type": "pyout",
       "prompt_number": 24,
       "text": [
        "6"
       ]
      }
     ],
     "prompt_number": 24
    },
    {
     "cell_type": "code",
     "collapsed": false,
     "input": [
      "27%13"
     ],
     "language": "python",
     "metadata": {},
     "outputs": [
      {
       "metadata": {},
       "output_type": "pyout",
       "prompt_number": 25,
       "text": [
        "1"
       ]
      }
     ],
     "prompt_number": 25
    },
    {
     "cell_type": "code",
     "collapsed": false,
     "input": [
      "130%13"
     ],
     "language": "python",
     "metadata": {},
     "outputs": [
      {
       "metadata": {},
       "output_type": "pyout",
       "prompt_number": 26,
       "text": [
        "0"
       ]
      }
     ],
     "prompt_number": 26
    },
    {
     "cell_type": "code",
     "collapsed": false,
     "input": [],
     "language": "python",
     "metadata": {},
     "outputs": []
    },
    {
     "cell_type": "code",
     "collapsed": false,
     "input": [
      "113%11"
     ],
     "language": "python",
     "metadata": {},
     "outputs": [
      {
       "metadata": {},
       "output_type": "pyout",
       "prompt_number": 27,
       "text": [
        "3"
       ]
      }
     ],
     "prompt_number": 27
    },
    {
     "cell_type": "code",
     "collapsed": false,
     "input": [
      "117%11"
     ],
     "language": "python",
     "metadata": {},
     "outputs": [
      {
       "metadata": {},
       "output_type": "pyout",
       "prompt_number": 28,
       "text": [
        "7"
       ]
      }
     ],
     "prompt_number": 28
    },
    {
     "cell_type": "code",
     "collapsed": false,
     "input": [
      "97%11"
     ],
     "language": "python",
     "metadata": {},
     "outputs": [
      {
       "metadata": {},
       "output_type": "pyout",
       "prompt_number": 29,
       "text": [
        "9"
       ]
      }
     ],
     "prompt_number": 29
    },
    {
     "cell_type": "code",
     "collapsed": false,
     "input": [
      "100%11"
     ],
     "language": "python",
     "metadata": {},
     "outputs": [
      {
       "metadata": {},
       "output_type": "pyout",
       "prompt_number": 30,
       "text": [
        "1"
       ]
      }
     ],
     "prompt_number": 30
    },
    {
     "cell_type": "code",
     "collapsed": false,
     "input": [
      "114%11"
     ],
     "language": "python",
     "metadata": {},
     "outputs": [
      {
       "metadata": {},
       "output_type": "pyout",
       "prompt_number": 31,
       "text": [
        "4"
       ]
      }
     ],
     "prompt_number": 31
    },
    {
     "cell_type": "code",
     "collapsed": false,
     "input": [
      "108%11"
     ],
     "language": "python",
     "metadata": {},
     "outputs": [
      {
       "metadata": {},
       "output_type": "pyout",
       "prompt_number": 32,
       "text": [
        "9"
       ]
      }
     ],
     "prompt_number": 32
    },
    {
     "cell_type": "code",
     "collapsed": false,
     "input": [
      "116%11"
     ],
     "language": "python",
     "metadata": {},
     "outputs": [
      {
       "metadata": {},
       "output_type": "pyout",
       "prompt_number": 33,
       "text": [
        "6"
       ]
      }
     ],
     "prompt_number": 33
    },
    {
     "cell_type": "code",
     "collapsed": false,
     "input": [
      "105%11"
     ],
     "language": "python",
     "metadata": {},
     "outputs": [
      {
       "metadata": {},
       "output_type": "pyout",
       "prompt_number": 34,
       "text": [
        "6"
       ]
      }
     ],
     "prompt_number": 34
    },
    {
     "cell_type": "code",
     "collapsed": false,
     "input": [
      "99%11"
     ],
     "language": "python",
     "metadata": {},
     "outputs": [
      {
       "metadata": {},
       "output_type": "pyout",
       "prompt_number": 35,
       "text": [
        "0"
       ]
      }
     ],
     "prompt_number": 35
    },
    {
     "cell_type": "code",
     "collapsed": false,
     "input": [
      "class HashTable:\n",
      "    def __init__(self):\n",
      "        self.size = 11\n",
      "        self.slots = [None] * self.size\n",
      "        self.data = [None] * self.size\n",
      "        \n",
      "    def put(self, key, data):\n",
      "        hashvalue = self.hashfunction(key, len(self.slots))\n",
      "        \n",
      "        if self.slots[hashvalue] == None:\n",
      "            self.slots[hashvalue] = key\n",
      "            self.data[hashvalue] = data\n",
      "        else:\n",
      "            if self.slots[hashvalue] == key:\n",
      "                self.data[hashvalue] = data # replace\n",
      "            else:\n",
      "                nextslot = self.rehash(hashvalue, len(self.slots))\n",
      "                while self.slots[nextslot] != None and \\\n",
      "                        self.slots[nextslot] != key:\n",
      "                    nextslot = self.rehash(nextslot, len(self.slots))\n",
      "                    \n",
      "                if self.slots[nextslot] == None:\n",
      "                    self.slots[nextslot] = key\n",
      "                    self.data[nextslot] = data\n",
      "                else:\n",
      "                    self.data[nextslot] = data # replace\n",
      "\n",
      "    def hashfunction(self, key, size):\n",
      "        return key % size\n",
      "    \n",
      "    def rehash(self, oldhash, size):\n",
      "        return (oldhash+1) % size\n",
      "    \n",
      "    def get(self, key):\n",
      "        startslot = self.hashfunction(key, len(self.slots))\n",
      "        \n",
      "        data = None\n",
      "        stop = False\n",
      "        found = False\n",
      "        position = startslot\n",
      "        while self.slots[position] != None and \\\n",
      "                not found and not stop:\n",
      "            if self.slots[position] == key:\n",
      "                found = True\n",
      "                data = self.data[position]\n",
      "            else:\n",
      "                position = self.rehash(position, len(self.slots))\n",
      "                if position == startslot:\n",
      "                    stop = True\n",
      "        return data\n",
      "    \n",
      "    def __getitem__(self, key):\n",
      "        return self.get(key)\n",
      "    \n",
      "    def __setitem__(self, key, data):\n",
      "        self.put(key, data)"
     ],
     "language": "python",
     "metadata": {},
     "outputs": [],
     "prompt_number": 63
    },
    {
     "cell_type": "code",
     "collapsed": false,
     "input": [
      "H = HashTable()"
     ],
     "language": "python",
     "metadata": {},
     "outputs": [],
     "prompt_number": 64
    },
    {
     "cell_type": "code",
     "collapsed": false,
     "input": [
      "H[54] = 'cat'"
     ],
     "language": "python",
     "metadata": {},
     "outputs": [],
     "prompt_number": 65
    },
    {
     "cell_type": "code",
     "collapsed": false,
     "input": [
      "H[26] = 'dog'"
     ],
     "language": "python",
     "metadata": {},
     "outputs": [],
     "prompt_number": 66
    },
    {
     "cell_type": "code",
     "collapsed": false,
     "input": [
      "H[93] = 'lion'"
     ],
     "language": "python",
     "metadata": {},
     "outputs": [],
     "prompt_number": 67
    },
    {
     "cell_type": "code",
     "collapsed": false,
     "input": [
      "H[17] = 'tiger'"
     ],
     "language": "python",
     "metadata": {},
     "outputs": [],
     "prompt_number": 68
    },
    {
     "cell_type": "code",
     "collapsed": false,
     "input": [
      "H[77] = 'bird'"
     ],
     "language": "python",
     "metadata": {},
     "outputs": [],
     "prompt_number": 69
    },
    {
     "cell_type": "code",
     "collapsed": false,
     "input": [
      "H[31] = 'cow'"
     ],
     "language": "python",
     "metadata": {},
     "outputs": [],
     "prompt_number": 70
    },
    {
     "cell_type": "code",
     "collapsed": false,
     "input": [
      "H[44] = 'goat'"
     ],
     "language": "python",
     "metadata": {},
     "outputs": [],
     "prompt_number": 71
    },
    {
     "cell_type": "code",
     "collapsed": false,
     "input": [
      "H[55] = 'pig'"
     ],
     "language": "python",
     "metadata": {},
     "outputs": [],
     "prompt_number": 72
    },
    {
     "cell_type": "code",
     "collapsed": false,
     "input": [
      "H[20] = 'chicken'"
     ],
     "language": "python",
     "metadata": {},
     "outputs": [],
     "prompt_number": 73
    },
    {
     "cell_type": "code",
     "collapsed": false,
     "input": [
      "H.slots"
     ],
     "language": "python",
     "metadata": {},
     "outputs": [
      {
       "metadata": {},
       "output_type": "pyout",
       "prompt_number": 74,
       "text": [
        "[77, 44, 55, 20, 26, 93, 17, None, None, 31, 54]"
       ]
      }
     ],
     "prompt_number": 74
    },
    {
     "cell_type": "code",
     "collapsed": false,
     "input": [
      "H.data"
     ],
     "language": "python",
     "metadata": {},
     "outputs": [
      {
       "metadata": {},
       "output_type": "pyout",
       "prompt_number": 75,
       "text": [
        "['bird',\n",
        " 'goat',\n",
        " 'pig',\n",
        " 'chicken',\n",
        " 'dog',\n",
        " 'lion',\n",
        " 'tiger',\n",
        " None,\n",
        " None,\n",
        " 'cow',\n",
        " 'cat']"
       ]
      }
     ],
     "prompt_number": 75
    },
    {
     "cell_type": "code",
     "collapsed": false,
     "input": [
      "H[20]"
     ],
     "language": "python",
     "metadata": {},
     "outputs": [
      {
       "metadata": {},
       "output_type": "pyout",
       "prompt_number": 76,
       "text": [
        "'chicken'"
       ]
      }
     ],
     "prompt_number": 76
    },
    {
     "cell_type": "code",
     "collapsed": false,
     "input": [
      "H[17]"
     ],
     "language": "python",
     "metadata": {},
     "outputs": [
      {
       "metadata": {},
       "output_type": "pyout",
       "prompt_number": 77,
       "text": [
        "'tiger'"
       ]
      }
     ],
     "prompt_number": 77
    },
    {
     "cell_type": "code",
     "collapsed": false,
     "input": [
      "H[20] = 'duck'"
     ],
     "language": "python",
     "metadata": {},
     "outputs": [],
     "prompt_number": 78
    },
    {
     "cell_type": "code",
     "collapsed": false,
     "input": [
      "H[20]"
     ],
     "language": "python",
     "metadata": {},
     "outputs": [
      {
       "metadata": {},
       "output_type": "pyout",
       "prompt_number": 79,
       "text": [
        "'duck'"
       ]
      }
     ],
     "prompt_number": 79
    },
    {
     "cell_type": "code",
     "collapsed": false,
     "input": [
      "H.data"
     ],
     "language": "python",
     "metadata": {},
     "outputs": [
      {
       "metadata": {},
       "output_type": "pyout",
       "prompt_number": 80,
       "text": [
        "['bird',\n",
        " 'goat',\n",
        " 'pig',\n",
        " 'duck',\n",
        " 'dog',\n",
        " 'lion',\n",
        " 'tiger',\n",
        " None,\n",
        " None,\n",
        " 'cow',\n",
        " 'cat']"
       ]
      }
     ],
     "prompt_number": 80
    },
    {
     "cell_type": "code",
     "collapsed": false,
     "input": [
      "print(H[99])"
     ],
     "language": "python",
     "metadata": {},
     "outputs": [
      {
       "output_type": "stream",
       "stream": "stdout",
       "text": [
        "None\n"
       ]
      }
     ],
     "prompt_number": 81
    },
    {
     "cell_type": "code",
     "collapsed": false,
     "input": [
      "def lambda_(numberofitems, tablesize):\n",
      "    return float(numberofitems) / tablesize"
     ],
     "language": "python",
     "metadata": {},
     "outputs": [],
     "prompt_number": 82
    },
    {
     "cell_type": "code",
     "collapsed": false,
     "input": [
      "1 + lambda_(6, 11)/2"
     ],
     "language": "python",
     "metadata": {},
     "outputs": [
      {
       "metadata": {},
       "output_type": "pyout",
       "prompt_number": 83,
       "text": [
        "1.2727272727272727"
       ]
      }
     ],
     "prompt_number": 83
    },
    {
     "cell_type": "markdown",
     "metadata": {},
     "source": [
      "## \ud035 \uc815\ub82c\n",
      "\n",
      "- [\uc138\uc0c1, \uadf8 \uc911\uc2ec\uc758 \ub098!! :: \\[Sort\\] \ud035 \uc815\ub82c(Quick Sort)](http://proneer.tistory.com/295)\n",
      "- http://ko.wikipedia.org/wiki/%ED%80%B5_%EC%A0%95%EB%A0%AC\n",
      "- http://www.joinc.co.kr/modules/moniwiki/wiki.php/Site/Database/algorithm/Quick_Sort\n",
      "- https://www.youtube.com/watch?v=zGqf9FzIcxY\n",
      "\n",
      "### \uc601\uc5b4 \uc790\ub8cc\ub97c \uc774\ud574\ud558\uae30 \uc704\ud55c \ubc29\ubc95\n",
      "\n",
      "1. \ud55c\uae00\ub85c \ub41c \uc790\ub8cc\ub97c \uba3c\uc800 \ucc3e\uc544\ubcf8\ub2e4.\n",
      "2. \ud55c\uae00\ub85c \ub41c \uc790\ub8cc\ub97c \uba3c\uc800 \uc77d\uc5b4\ubcf4\uace0 \uc5b4\ub5bb\uac8c \ud758\ub7ec\uac00\ub294\uc9c0 \ud750\ub984\uc744 \uc7a1\ub294\ub2e4.\n",
      "3. \uc601\uc5b4\ub97c \ubcf4\uba74\uc11c \ub2e4\uc2dc \ud55c \ubc88 \ub9ac\ub9c8\uc778\ub4dc \ud558\uba70 \ubaa8\ub974\ub294 \uac83\uc740 \ud55c\uae00&\uc601\uc5b4 \uc790\ub8cc\ub97c \ucc3e\uc544\ubcf8\ub2e4.\n",
      "4. \ucf54\ub4dc\ub97c \ubcf4\uba74\uc11c \ud55c \uc904 \ud55c \uc904 \ub514\ubc84\uae45 \ud574\uac00\uba74\uc11c \ub530\ub77c\uac00\ubcf8\ub2e4.\n",
      "5. \ucf54\ub4dc\ub97c \ubcf4\uba74\uc11c \ubc18\ubcf5 \uc791\uc5c5\uc744 \ud55c 10 \uc5ec\ubc88 \ud558\uac8c \ub418\uba74 \ub0b4\uac00 \uc0dd\uac01\ud558\uc9c0 \uc54a\uc544\ub3c4 \ubab8\uc774 \uae30\uc5b5\ud558\uac8c \ub41c\ub2e4.\n",
      "6. \ub098\uc911\uc5d0 \ud65c\uc6a9\ud55c\ub2e4.\n",
      "7. \uae4c\uba39\uac8c \ub418\uba74 \ucf54\ub4dc\ub97c \ub2e4\uc2dc \ub514\ubc84\uae45 \ud558\ub2e4\ubcf4\uba74 \ubab8\uc774 \uae68\ub2eb\uac8c \ub41c\ub2e4."
     ]
    }
   ],
   "metadata": {}
  }
 ]
}