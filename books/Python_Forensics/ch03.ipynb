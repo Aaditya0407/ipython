{
 "cells": [
  {
   "cell_type": "markdown",
   "metadata": {},
   "source": [
    "## ch03. Our First Python Forensics App"
   ]
  },
  {
   "cell_type": "markdown",
   "metadata": {},
   "source": [
    "## 명명 규칙 및 기타 고려사항\n",
    "\n",
    "- 명명을 해놨는데 왜 죄다 PEP8을 어기는거냐?\n",
    "- 그래서 이 명명법이 싫지만 책을 따라하는 입장에서는 그대로 따라하는게 가장 머리가 안 아프다. \n",
    "- PEP8을 준수해야하지 이 책에 나와있는 코드 명명법을 준수하지 말 것"
   ]
  },
  {
   "cell_type": "markdown",
   "metadata": {},
   "source": [
    "## 단방향 파일 시스템 해싱"
   ]
  },
  {
   "cell_type": "markdown",
   "metadata": {},
   "source": [
    "### 목적\n",
    "\n",
    "1. 포렌식 수라르 위한 도구 및 응용 프로그램을 유용하게 구축\n",
    "2. 이 책 전반에 걸쳐 장래의 응용 프로그램 및 재사용 방법에 따라 개별 모듈을 개발\n",
    "3. 파이썬 포렌식 응용 프로그램을 구축하기 위한 신뢰할 수 있는 방법론을 개발\n",
    "4. 언어에 대한 고급 기능 소개"
   ]
  },
  {
   "cell_type": "markdown",
   "metadata": {},
   "source": [
    "### 단방향 해싱 알고리즘의 기본 특성\n",
    "\n",
    "1. 단방향 해싱 알고리즘은 비밀번호, 파일, 하드 드라이브의 이미지, 고체 상태 드라이브의 이미지, 네트워크 패킷, 디지털 기록으로부터 1과 0, 또는 기본적으로 연속적인 디지털이 입력되는 Binary 데이터에 대한 스트림을 취급\n",
    "2. 이 알고리즘은 입력으로부터 받은 이진 데이터를 압축한 표현인, 메시지 다이제스트를 생성\n",
    "3. 다이제스트로 다이제스트를 생성하는 바이너리 입력을 결정하는 것은 실행 불가능. 즉 생성된 다이제스트 바이너리 데이터의 스트림을 복구하기 위해서 다이제스트를 사용하여 되돌릴 수 없음\n",
    "4. 주어진 메시지 다이제스트를 생성할 새로운 이진 입력 데이터를 생성하는 것은 불가능\n",
    "5. 이진 입력 데이터에 대한 단일 비트를 바꾸면 고유한 메시지 다이제스트를 생성할 것\n",
    "6. 마지막으로 동일한 다이제스트를 산출하는 이진 데이터에 대한, 2개의 고유한 스트림을 찾는 것은 불가능\n",
    "\n",
    "\n",
    "- [해시 함수 \\- 위키백과, 우리 모두의 백과사전](https://ko.wikipedia.org/wiki/%ED%95%B4%EC%8B%9C_%ED%95%A8%EC%88%98)\n",
    "- [Hash function \\- Wikipedia, the free encyclopedia](https://en.wikipedia.org/wiki/Hash_function)\n",
    "- [해시함수 \\- KISA](http://seed.kisa.or.kr/iwt/ko/intro/EgovHashFunction.do): KISA에서 해쉬 함수를 약간 쉽게 설명?\n",
    "- [암호화 해시 함수 \\- 위키백과, 우리 모두의 백과사전](https://ko.wikipedia.org/wiki/%EC%95%94%ED%98%B8%ED%99%94_%ED%95%B4%EC%8B%9C_%ED%95%A8%EC%88%98)\n",
    "- [중국 연구팀이 SHA-1 해독에 새로운 진전을 이룩(2005년 버전)](http://egloos.zum.com/sonnet/v/2657614)\n",
    "- [SHA1 + salt로 패스워드 보안 이슈 회피가 가능한가? \\- Mimul's Developer World](http://www.mimul.com/pebble/default/2013/02/18/1361189648941.html)\n",
    "- [암호 알고리즘 \\- 나무위키](https://namu.wiki/w/%EC%95%94%ED%98%B8%20%EC%95%8C%EA%B3%A0%EB%A6%AC%EC%A6%98)"
   ]
  },
  {
   "cell_type": "markdown",
   "metadata": {},
   "source": [
    "#### 단방향 해시 알고리즘의 장단점은?\n",
    "\n",
    "- MD5 알고리즘의 공격 및 충돌에 대한 가능성이 증가되면서 SHA-2(256비트와 512 비트가 가장 일반적인 크기)로 이동\n",
    "- SHA-3으로 옮겨가는게 이제 대세가 될 것임"
   ]
  },
  {
   "cell_type": "markdown",
   "metadata": {},
   "source": [
    "#### 포렌식의 단방향 해시 알고리즘에 대한 최고의 활용 사례?\n",
    "\n",
    "- 증거 보존\n",
    "  - Hash가 일치한다면 증거가 변경되지 않음을 입증하는 것\n",
    "- 검색\n",
    "  - 아동 포르노 파일들을 상습적으로 수집하여 소장하공 씨는 것\n",
    "  - 각 파일에 대해서 해시 값이 계산될 수 있음\n",
    "  - 불법 거래의 존재에 대해서 정밀 검사\n",
    "  - 불법 거래 해시 값(아동 포르노 수집으로 인한 결과)\n",
    "- 블랙 리스트\n",
    "  - 유해한 해시 파일에 대한 목록을 작성하는 것\n",
    "  - 악의적인 코드\n",
    "  - 사이버 무기 파일\n",
    "  - 특허 문서의 해시와 일치할 수도 있음\n",
    "- 화이트 리스트\n",
    "  - 양성으로 알려진 해시값(운영체제 또는 실행 가능한 응용 프로그램, 공급업체에서 제공한 동적 라이브러리 또는 신뢰할 수 있는 알려진 응용 프로그램 다운로드 파일)에 대한 목록 작성\n",
    "- 변화 감지\n",
    "  - 웹 사이트, 라우터, 방화벽 구성, 운영체제 설치의 악의적인 변경에 대비"
   ]
  },
  {
   "cell_type": "markdown",
   "metadata": {},
   "source": [
    "## 기본 요구사항\n",
    "\n",
    "번호 | 요구사항 명 | 설명\n",
    "--- | --- | ---\n",
    "000 | 개요 | 여러분이 찾고 있는 기본 기능은 정의된 시작점[예를 들어 c:\\ 또는 /etc)에 있는 파일 시스템을 안내하는 포렌식 응용 프로그램이다. 모든 파일에 대한 단방향 해시 값을 생성한다.\n",
    "001 | 이식성 | 응용 프로그램은 윈도우와 리눅스 운영체제를 지원해야 한다. 일반적인 지침에 따라 검증은 윈도우 7, 윈도우 8, 그리고 우분투 12.04 LTS 운영환경에서 수행된다.\n",
    "002 | 주요 기능 | 단방향 해시 생성 외에, 응용 프로그램은 해시된 각 파일과 관련된 시스템 메타데이터를 수집해야 한다. 예를 들면 최소한, 파일 속성, 파일 이름, 파일 경로가 있다.\n",
    "003 | 주요 걸과 | 응용 프로그램은 유연성을 제공하는 표준 출력 파일 형식으로 결과를 제공해야 한다.\n",
    "004 | 알고리즘 선택 | 응용 프로그램은 사용되는 단방향 해시 알고리즘을 지정할 때 넓은 다양성을 고려해야 한다.\n",
    "005 | 오류 처리 | 응용 프로그램은 오류 처리를 지원해야만 하고 모든 수행 동작에 대해 기록해야 한다. 이것은 텍스트 설명과 날짜와 시간의 기록을 포함할 것이다."
   ]
  },
  {
   "cell_type": "markdown",
   "metadata": {},
   "source": [
    "### 설계 고려사항\n",
    "\n",
    "- 표준 라이브러리의 내장 함수를 많이 활용\n",
    "- 중요한 단계이자 재미있는 부분: 프로그램 이름을 붙이는 것\n",
    "- 파일 시스템 해싱의 약자 p-fish"
   ]
  },
  {
   "cell_type": "markdown",
   "metadata": {},
   "source": [
    "### 어떤 모듈을 사용할 것인지?\n",
    "\n",
    "1. 사용자 입력을 위한 argparse\n",
    "2. 파일 시스템을 다루기 위한 os\n",
    "3. 단방향 해쉴르 위한 hashlib\n",
    "4. 결과 출력(다른 임의의 출력은 이후에 추가될 수 있다)을 위한 cvs\n",
    "5. 이벤트 및 오류에 대한 logging\n",
    "6. time, sysm, stat와 같이 다방면에 걸쳐 유용한 모듈들"
   ]
  },
  {
   "cell_type": "markdown",
   "metadata": {},
   "source": [
    "### 이 책의 좋은점\n",
    "\n",
    "- 요구사항을 만들고\n",
    "- 설계시 고려사항을 적고\n",
    "- 라이브러리 선택한 이유를 적고\n",
    "- 일련의 프로그램 만들기 위한 순서를 알려주기 때문에 나중에 나도 똑같이 따라해 볼 수 있는 여건들을 알려주어서 정말 좋다."
   ]
  },
  {
   "cell_type": "markdown",
   "metadata": {},
   "source": [
    "#### 표준 라이브러리 매핑\n",
    "\n",
    "번호 | 설계 고려사항 | 라이브러리 선택\n",
    "--- | --- | ---\n",
    "사용자 입력(000, 003, 004) | 이러한 각각의 요건들은 과업을 달성하기 위해서 사용자로부터의 입력을 필요로 한다. 예를 들어 000은 시작하는 디렉토리 경로를 사용자가 지정할 것을 요구한다. 003은 사용자가 적합한 출력 형식을 지정해야 한다. 004는 해시 알고리즘을 지정할 것을 요구한다. 예외 처리 또는 기본 설정에 대한 자세한 사항은 정의되어야 한다(허용된 경우). | 첫 번째 프로그램을 위해서 사용자 입력을 얻기 위한 명령줄(command line) 매개변수를 사용하기로 결정했다. 이러한 설계를 기반으로 파이썬 라이브러리 모듈 argparse를 활용할 것을 결정했다.\n",
    "파일 시스템 조작(000, 001) | 이 기능은 특정한 출발점에서 시작하는 디렉토리 구조를 횡단할 수 있는 프로그램을 요구한다. 또한 윈도우와 리눅스 플랫폼 모두에서 작동해야 한다. | 표준 라이브러리에서 OS 모듈은 파일 시스템을 탐색할 수 있는 기능과 교차 사용이 가능한 플랫폼 호환성을 제공하는 추상화를 제공하는 주요 메소드를 공급한다. 이 모듈은 파일과 관련된 메타 데이터에 대한 접근을 제공하는 Cross Platform 기능을 포함하고 있다.\n",
    "메타 데이터 수집(003) | 디렉토리 경로, 파일 이름, 소유자, 작성/수정/접근 시간, 권한, 읽기 전용, 숨김과 같은 속성, 시스템 또는 기록(archive)을 수집할 것을 요구한다. | 표준 라이브러리에서 OS 모듈은 파일 시스템을 탐색할 수 있는 기능과 교차 사용이 가능한 플랫폼 호환성을 제공하는 추상화를 제공하는 주요 메소드를 공급한다. 이 모듈은 파일과 관련된 메타 데이터에 대한 접근을 제공하는 Cross Platform 기능을 포함하고 있다.\n",
    "파일 해시(000) | 사용자가 선택할 수 있는 해시 알고리즘에 유연성을 제공해야 한다. MD5와 몇 가지 다양한 SHA와 같이 가장 대중적인 알고리즘을 지원하기로 결정했다. | 표준 라이브러리 hashlib 모듈은 단방향 해시 값을 생성하는 기능을 제공한다. 라이브러리는 \"MD5\", \"SHA1\", \"SHA224\", \"SHA256\", \"SHA384\", \"SHA512\"와 같은 일반적인 해시 알고리즘을 지원한다. 이것은 사용자에 대한 선택의 충분한 set을 제공한다.\n",
    "결과 출력 | 이러한 요구사항을 충족하기 위해서 유연성을 가진 포맷을 제공하려면 프로그램 출력을 구조화할 수 있어야 한다. | 표준 라이브러리는 활용할 수 있는 다양한 옵션을 제공한다. 예를 들어 csv 모듈은 쉼표(,)로 구분된 값 출력을 생성할 수 있는 기능을 제공한다. 반면에 json(Java Object Notation) 모듈은 JSON 객체에 대한 암호기 및 복호기를 제공하고, XML 모듈은 XML 출력을 작성하기 위해 활용될 수 있다.\n",
    "로깅 및 오류 처리 | 우리는 파일시스템에 대해 탐색하는 동안 발생할 수 있는 오류를 예상해야 한다. 예를 들면, 특정 파일에 접근하지 못하거나 특정 파일이 고아가 되는 경우가 있다. 또 운영시스템 또는 다른 응용 프로그램에 의해 잠겨진 특정 파일이 있을 수 있다. 이러한 오류 조건들을 처리하고 주목할만한 사건들을 기록해야 한다. 예를 들어 수사관, 배치, 날짜와 시간, 그리고 탐색중인 시스템에 속하는 정보를 기록해야 한다. | 파이썬 표준 라이브러리는 처리중에 발생하는 모든 이벤트 또는 오류를 보고하기 위해서 활용할 수 있는 로깅 기능을 포함하고 있다."
   ]
  },
  {
   "cell_type": "markdown",
   "metadata": {},
   "source": [
    "### 프로그램 구조\n",
    "\n",
    "#### Main 함수\n",
    "\n",
    "- 파이썬 로거 설정\n",
    "- 시작 및 완료 메시지 표시\n",
    "- 시간에 대한 기록\n",
    "- 명령줄 파서를 호출한 다음 WalkPath 함수 실행\n",
    "- WalkPath가 완료되면 Main은 완료를 기록하고 사용자와 로그에 대한 종료 메시지를 표시할 것\n",
    "\n",
    "#### ParseCommandLine\n",
    "\n",
    "- p-fish에 대한 원활한 작동을 제공하기 위해, 사용자 입력 값의 문장구조 분석뿐만 아니라 유효성 검증을 위해 parseCommandLine을 활용\n",
    "- 일단 WalkPath, HashFile, CSVWrite 등의 프로그램 기능에 밀접한 정보를 완성하면, 파서로부터 생성된 값에서 사용할 수 있음\n",
    "- 예를 들어 해시 타입은 사용자에 의해 지정되기 때문에, 이 값은 HashFile에서 사용할 수 있어야 함\n",
    "- 마찬가지로 CSVWriter는 pfish 보고서 결과를 작성하기 위한 경로를 필요로 하고 WalkPath는 시작하기 위한 시작점 또는 rootPath를 요구한다.\n",
    "\n",
    "#### WalkPath 함수\n",
    "\n",
    "- 디렉토리 경로에 대한 루트에서 시작해야 하고 모든 디렉토리와 파일을 통과함\n",
    "- 유효한 각각의 파일에 대해 단방향 해시 연산을 수행하기 위해서 HashFile 함수를 호출한다.\n",
    "- 모든 파일이 처리된 후에 WalkPath는 성공적으로 처리된 파일의 수에 따라 제어권을 Main에 반환한다.\n",
    "\n",
    "#### HashFile 함수\n",
    "\n",
    "- 열고, 읽고, 해시 연산 및 의심스러운 파일에 대한 메타데이터를 가져온다.\n",
    "- 각 파일에 대해 데이터의 행은 p-fish 보고서에 포함될 CSVWriter로 전송\n",
    "- 파일이 처리가 되면 HashFile은 다음 파일을 인출하기 위해서 제어권을 WalkPath에 반환\n",
    "\n",
    "#### CSVWriter(클래스)\n",
    "\n",
    "- 클래스 및 객체의 작동이나 사용법에 대한 시범을 멋지게 설정\n",
    "- csv 모듈은 초기화 할 수 있는 \"작가\"를 필요로 함\n",
    "- 예를 들어, 고정된 열(column)의 집합(set)으로 구성된 머리글(header) 행을 가지는 csv 파일을 결과로 하기를 원함\n",
    "- 각 행을 채운 데이터를 포함\n",
    "- 마지막으로 일단 프로그램이 처리되면 csv 보고서를 결과로 하는 모든 파일들을 닫아야 함\n",
    "\n",
    "#### 로거\n",
    "\n",
    "- 내장된 표준 라이브러리 logger는 p-fish와 관련된 로그 파일에 메시지를 기록할 수 있는 기능\n",
    "- 정보 메시지, 경고 메시지, 오류 메시지 작성 가능\n",
    "- 포렌식 응용 프로그램을 위한 것이기 때문에 프로그램의 동작을 기록하는 것은 매우 중요\n",
    "- 코드 내에 추가적인 이벤트를 기록하기 위해서 프로그램을 확장할 수 있고 \\_pfish 함수의 어디에라도 추가할 수 있음"
   ]
  },
  {
   "cell_type": "markdown",
   "metadata": {},
   "source": [
    "## Code Walk-Through"
   ]
  },
  {
   "cell_type": "markdown",
   "metadata": {},
   "source": [
    "### 주요 부분 분석하기 - 코드 워크스로"
   ]
  },
  {
   "cell_type": "code",
   "execution_count": 3,
   "metadata": {
    "collapsed": false
   },
   "outputs": [
    {
     "ename": "ImportError",
     "evalue": "No module named _pfish",
     "output_type": "error",
     "traceback": [
      "\u001b[0;31m---------------------------------------------------------------------------\u001b[0m",
      "\u001b[0;31mImportError\u001b[0m                               Traceback (most recent call last)",
      "\u001b[0;32m<ipython-input-3-714812bf58c1>\u001b[0m in \u001b[0;36m<module>\u001b[0;34m()\u001b[0m\n\u001b[1;32m      3\u001b[0m \u001b[0;32mimport\u001b[0m \u001b[0mtime\u001b[0m\u001b[0;34m\u001b[0m\u001b[0m\n\u001b[1;32m      4\u001b[0m \u001b[0;32mimport\u001b[0m \u001b[0msys\u001b[0m\u001b[0;34m\u001b[0m\u001b[0m\n\u001b[0;32m----> 5\u001b[0;31m \u001b[0;32mimport\u001b[0m \u001b[0m_pfish\u001b[0m\u001b[0;34m\u001b[0m\u001b[0m\n\u001b[0m\u001b[1;32m      6\u001b[0m \u001b[0;34m\u001b[0m\u001b[0m\n\u001b[1;32m      7\u001b[0m \u001b[0;34m\u001b[0m\u001b[0m\n",
      "\u001b[0;31mImportError\u001b[0m: No module named _pfish"
     ]
    }
   ],
   "source": [
    "# coding: utf-8\n",
    "import logging\n",
    "import time\n",
    "import sys\n",
    "import _pfish\n",
    "\n",
    "\n",
    "if __name__ == '__main__':\n",
    "    PFISH_VERSION = '1.0'\n",
    "    # 로깅 설정\n",
    "    logging.basicConfig(filename='pFishLog.log', \n",
    "                        level=logging.DEBUG,\n",
    "                        format='%(asctime)s %(message)s')\n",
    "    \n",
    "    # 명령줄 인수를 처리한다.\n",
    "    _pfish.ParseCommandLine()\n",
    "    \n",
    "    # 시작하는 시간을 기록한다.\n",
    "    startTime = time.time()\n",
    "    \n",
    "    # 로그에 스캔 시작 메시지를 게시한다.\n",
    "    logging.info('Welcome to p-fish %s... New Scan Started' % (PFISH_VERSION))\n",
    "    _pfish.DisplayMessage('Welcome to p-fish... %s' % (PFISH_VERSION))\n",
    "    \n",
    "    # 시스템에 관여하는 일부 정보를 기록한다.\n",
    "    logging.info('System: ' + sys.platform)\n",
    "    logging.info('Version: ' + sys.version)\n",
    "    \n",
    "    # 파일 시스템 디렉토리 및 해시 파일들을 횡단함\n",
    "    filesProcessed = _pfish.WalkPath()\n",
    "    \n",
    "    # 종료 시간을 기록하고 지속 시간을 계산함\n",
    "    endTime = time.time()\n",
    "    duration = endTime - startTime\n",
    "    \n",
    "    logging.info('Files Processed: ' + str(filesProcessed))\n",
    "    logging.info('Elapsed Time: ' + str(duration) + 'seconds')\n",
    "    \n",
    "    logging.info('Program Terminated Normally')\n",
    "    \n",
    "    _pfish.DisplayMessage('Program End')"
   ]
  },
  {
   "cell_type": "markdown",
   "metadata": {},
   "source": [
    "### ParseCommandLine 함수\n",
    "\n",
    "1. 첫번째 응용 프로그램이 명령줄 프로그램이 될 것\n",
    "2. 프로그램의 동작을 능숙하게 다루도록 사용자에게 몇 가지 옵션을 제공하기로 한다. 이것은 명령줄 옵션에 대한 설계와 구현을 주도한다.\n",
    "\n",
    "옵션 | 설명 | 참고\n",
    "--- | --- | ---\n",
    "-v | Verbose, 이 옵션은 지정된 다음에 DisplayMessage() 함수를 호출하는 경우, 표준 입출력 장치에 표시되고, 그렇지 않으면 프로그램이 자동으로 실행됨 | \n",
    "--MD5<br />--SHA251<br />--SHA512 | 해시 타입 선택, 사용자가 사용하고자 하는 단방향 해시 알고리즘을 지정해야 한다. | 선택은 상호 배타적이며 적어도 하나를 선택해야 한다. 그렇지 않으면 프로그램이 중단될 것\n",
    "-d | rootPath, 사용자가 시작 또는 루트 경로를 지정할 수 있다 | 디렉토리가 존재해야 하고, 읽을 수 있어야 한다. 그렇지 않으면 프로그램이 중단될 것이다.\n",
    "-r | reportpath, 사용자가 결과 .csv 파일이 기록된 디렉토리를 지정할 수 있다. | 디렉토리가 존재해야 하고 쓸 수 있어야 한다. 그렇지 않으면 프로그램이 중단될 것이다."
   ]
  },
  {
   "cell_type": "markdown",
   "metadata": {},
   "source": [
    "- 구문분석 프로그램을 설정하는 방법에 대해 아는 것\n",
    "- -v는 자세한 설명\n",
    "- -h는 기봊 제공"
   ]
  },
  {
   "cell_type": "code",
   "execution_count": 7,
   "metadata": {
    "collapsed": true
   },
   "outputs": [],
   "source": [
    "import argparse\n",
    "\n",
    "def ParseCommandLine():\n",
    "    parser = argparse.ArgumentParser('Python file system hashing... p-fish')\n",
    "    parser.add_argument('-v', \n",
    "                        '--verbose', \n",
    "                        help='Allows progress messages to be displayed', \n",
    "                        action='store_true')\n"
   ]
  },
  {
   "cell_type": "markdown",
   "metadata": {},
   "source": [
    "- 사용자가 생성하고자 하는 특정 해시 타입을 선택하기 위한 인수의 상호 베타적인 그룹을 정의\n",
    "- required = True는 add_mutually_exclusive_group의 안쪽에 지정한 이후에, argparse는 사용자가 하나의 인수와 적어도 하나를 지정했는지를 확인"
   ]
  },
  {
   "cell_type": "code",
   "execution_count": null,
   "metadata": {
    "collapsed": true
   },
   "outputs": [],
   "source": [
    "group = parser.add_mutually_exclusive_group(required=True)\n",
    "group.add_argument('--md5', \n",
    "                   help='specifies MD5 algorithm', \n",
    "                   action='store_true')\n",
    "group.add_argument('--sha251', \n",
    "                   help='specifies SHA256 algorithm', \n",
    "                   action='store_true')\n",
    "group.add_argument('--sha512', \n",
    "                   help='specifies SHA512 algorithm', \n",
    "                   action='store_true')"
   ]
  },
  {
   "cell_type": "markdown",
   "metadata": {},
   "source": [
    "- 행동의 시작점을 지정해야 하고, 보고서가 만들어질 장소가 필요함\n",
    "- -d: rootPath가 존재하고 읽기 가능한지 확인\n",
    "- argparse는 디렉토리 유효성 검사를 위한 내장된 기능을 가지고 있지 않기 때문에, ValidateDirectory()와 ValidateDirectoryWritable() 함수를 만듦. 그것들은 거의 동일하고 정의된 표준 라이브러리 운영체제 기능을 사용함"
   ]
  },
  {
   "cell_type": "code",
   "execution_count": null,
   "metadata": {
    "collapsed": true
   },
   "outputs": [],
   "source": [
    "parser.add_argument('-d', \n",
    "                    '--rootPath', \n",
    "                    type=ValidateDirectory,\n",
    "                    required=True,\n",
    "                    help='Specify the root path for hashing')\n",
    "parser.add_argument('-r', \n",
    "                    '--reportPath',\n",
    "                    type=ValidateDirectoryWritable,\n",
    "                    required=True,\n",
    "                    help='Specify the path for reports and logs will be written')\n",
    "\n",
    "# 검증된 인수를 보유하는 전역 객체를 생성한다.\n",
    "# 이러한 전역 객체는 # _pfish.py 모듈 내의 모든 함수에서 사용가능\n",
    "global gl_args\n",
    "global gl_hashType\n",
    "\n",
    "gl_args = parser.parse_args()"
   ]
  },
  {
   "cell_type": "markdown",
   "metadata": {},
   "source": [
    "- 파서가 성공하면, 해시값을 연산하는 알고리즘을 결정한다.\n",
    "- 예를 들어, 사용자가 SHA256을 선택한 경우, gl_args.sha256은 True가 되고 MD5 및 SHA512는 False가 됨. 따라서 간단한 if/elif 언어 루틴을 사용하면 선택한 것을 결정할 수 있음"
   ]
  },
  {
   "cell_type": "code",
   "execution_count": null,
   "metadata": {
    "collapsed": true
   },
   "outputs": [],
   "source": [
    "if gl_args.md5:\n",
    "    gl_hashType = 'MD5'\n",
    "elif gl_args.sha256:\n",
    "    gl_hashType = 'SHA256'\n",
    "elif gl_args.sha512:\n",
    "    gl_hashType = 'SHA512'\n",
    "else:\n",
    "    gl_hashType = 'Unknown'\n",
    "    logging.error('Unknown Hash Type Specified')\n",
    "return DisplayMessage('Command line processed: Successfully')"
   ]
  },
  {
   "cell_type": "markdown",
   "metadata": {},
   "source": [
    "### Validating DirectoryWritable\n",
    "\n",
    "- 보고서 및 시작 루트 경로을 확인할 필요가 있다. \n",
    "- os.path.isdir과 os.access 메소드를 활용"
   ]
  },
  {
   "cell_type": "code",
   "execution_count": null,
   "metadata": {
    "collapsed": true
   },
   "outputs": [],
   "source": [
    "def ValidateDirectoryWritable(theDir):\n",
    "    # path가 디렉토리의 유효성을 ㄱ머사한다.\n",
    "    if not os.path.isdir(theDir):\n",
    "        raise argparse.ArgumentTypeError('디렉토리가 존재하지 않습니다.')\n",
    "    # access가 쓰기 가능한지 확인\n",
    "    if os.access(theDir, os.W_OK):\n",
    "        return theDir\n",
    "    else:\n",
    "        raise argparse.ArgumentTypeError('Directory is not writable')"
   ]
  },
  {
   "cell_type": "markdown",
   "metadata": {},
   "source": [
    "### ParseCommandLine Testcase\n",
    "\n",
    "1. TEST_DIR 대신에 TESTDIR로 루트 디렉토리를 잘못 입력\n",
    "2. --sha512 매개변수를 -sha512로 잘못 입력\n",
    "3. --sha512와 --md5로 2개의 해시 타입을 지정\n",
    "4. 어떤 해시 타입도 지정하지 않음"
   ]
  },
  {
   "cell_type": "markdown",
   "metadata": {},
   "source": [
    "## WalkPath\n",
    "\n",
    "- 디렉토리 구조를 횡단하며 각 파일에 대한 HashFile 함수를 호출할 수 있는 WalkPath 함수로 이동"
   ]
  },
  {
   "cell_type": "code",
   "execution_count": null,
   "metadata": {
    "collapsed": true
   },
   "outputs": [],
   "source": [
    "processCount = 0\n",
    "errorCount = 0\n",
    "\n",
    "log.info('Root Path: ' + gl_args.rootPath)"
   ]
  },
  {
   "cell_type": "code",
   "execution_count": 9,
   "metadata": {
    "collapsed": false
   },
   "outputs": [],
   "source": [
    "oCVS = _CSVWriter(gl_args.reportPath + 'fileSystemReport.csv', gl_hashType)\n",
    "\n",
    "# 시작하는 모든 파일을 처리하는 루프를 생성한다\n",
    "# rootPath에서 모든 하위 디렉토리도 처리된다.\n",
    "# processed"
   ]
  },
  {
   "cell_type": "code",
   "execution_count": 11,
   "metadata": {
    "collapsed": true
   },
   "outputs": [],
   "source": [
    "import os"
   ]
  },
  {
   "cell_type": "code",
   "execution_count": 12,
   "metadata": {
    "collapsed": false
   },
   "outputs": [
    {
     "name": "stdout",
     "output_type": "stream",
     "text": [
      "Help on function walk in module os:\n",
      "\n",
      "walk(top, topdown=True, onerror=None, followlinks=False)\n",
      "    Directory tree generator.\n",
      "    \n",
      "    For each directory in the directory tree rooted at top (including top\n",
      "    itself, but excluding '.' and '..'), yields a 3-tuple\n",
      "    \n",
      "        dirpath, dirnames, filenames\n",
      "    \n",
      "    dirpath is a string, the path to the directory.  dirnames is a list of\n",
      "    the names of the subdirectories in dirpath (excluding '.' and '..').\n",
      "    filenames is a list of the names of the non-directory files in dirpath.\n",
      "    Note that the names in the lists are just names, with no path components.\n",
      "    To get a full path (which begins with top) to a file or directory in\n",
      "    dirpath, do os.path.join(dirpath, name).\n",
      "    \n",
      "    If optional arg 'topdown' is true or not specified, the triple for a\n",
      "    directory is generated before the triples for any of its subdirectories\n",
      "    (directories are generated top down).  If topdown is false, the triple\n",
      "    for a directory is generated after the triples for all of its\n",
      "    subdirectories (directories are generated bottom up).\n",
      "    \n",
      "    When topdown is true, the caller can modify the dirnames list in-place\n",
      "    (e.g., via del or slice assignment), and walk will only recurse into the\n",
      "    subdirectories whose names remain in dirnames; this can be used to prune the\n",
      "    search, or to impose a specific order of visiting.  Modifying dirnames when\n",
      "    topdown is false is ineffective, since the directories in dirnames have\n",
      "    already been generated by the time dirnames itself is generated. No matter\n",
      "    the value of topdown, the list of subdirectories is retrieved before the\n",
      "    tuples for the directory and its subdirectories are generated.\n",
      "    \n",
      "    By default errors from the os.listdir() call are ignored.  If\n",
      "    optional arg 'onerror' is specified, it should be a function; it\n",
      "    will be called with one argument, an os.error instance.  It can\n",
      "    report the error to continue with the walk, or raise the exception\n",
      "    to abort the walk.  Note that the filename is available as the\n",
      "    filename attribute of the exception object.\n",
      "    \n",
      "    By default, os.walk does not follow symbolic links to subdirectories on\n",
      "    systems that support them.  In order to get this functionality, set the\n",
      "    optional argument 'followlinks' to true.\n",
      "    \n",
      "    Caution:  if you pass a relative pathname for top, don't change the\n",
      "    current working directory between resumptions of walk.  walk never\n",
      "    changes the current directory, and assumes that the client doesn't\n",
      "    either.\n",
      "    \n",
      "    Example:\n",
      "    \n",
      "    import os\n",
      "    from os.path import join, getsize\n",
      "    for root, dirs, files in os.walk('python/Lib/email'):\n",
      "        print root, \"consumes\",\n",
      "        print sum([getsize(join(root, name)) for name in files]),\n",
      "        print \"bytes in\", len(files), \"non-directory files\"\n",
      "        if 'CVS' in dirs:\n",
      "            dirs.remove('CVS')  # don't visit CVS directories\n",
      "\n"
     ]
    }
   ],
   "source": [
    "help(os.walk)"
   ]
  },
  {
   "cell_type": "code",
   "execution_count": null,
   "metadata": {
    "collapsed": true
   },
   "outputs": [],
   "source": [
    "for dirpath, dirnames, filenames in os.walk(gl_args.rootPath):\n",
    "    # for는 각 파일에 대해 파일 이름을 획득하고\n",
    "    # HashFile 함수를 호출한다.\n",
    "    for f in filenames:\n",
    "        fname = os.path.join(root, f)\n",
    "        result = HashFile(fname, f, oCVS)\n",
    "        \n",
    "        # 성공하면 ProcessCount가 증가한다.\n",
    "        if result:\n",
    "            processCount += 1\n",
    "        # 성공하지 않으면, ErrorCount가 증가한다.\n",
    "        else:\n",
    "            errorCount += 1"
   ]
  },
  {
   "cell_type": "code",
   "execution_count": null,
   "metadata": {
    "collapsed": true
   },
   "outputs": [],
   "source": [
    "oCVS.writerClose()\n",
    "return processCount"
   ]
  },
  {
   "cell_type": "markdown",
   "metadata": {},
   "source": [
    "### HashFile"
   ]
  },
  {
   "cell_type": "code",
   "execution_count": null,
   "metadata": {
    "collapsed": true
   },
   "outputs": [],
   "source": [
    "def HashFile(theFile, simpleName, o_result):\n",
    "    "
   ]
  },
  {
   "cell_type": "markdown",
   "metadata": {},
   "source": [
    "#### Hash 시도 전 검증\n",
    "\n",
    "1. 경로가 존재하는가?\n",
    "2. 실재 파일 대신에 연결하는 경로가 있는가?\n",
    "3. 파일이 실재(고아가 되지 않았다는 것을 확인할 수 있는)하는가?"
   ]
  },
  {
   "cell_type": "code",
   "execution_count": null,
   "metadata": {
    "collapsed": true
   },
   "outputs": [],
   "source": [
    "# 경로가 유효한지 확인한다.\n",
    "if os.path.exists(theFile):\n",
    "    # 경로가 심볼 링크가 아닌지 확인한다.\n",
    "    if not os.path.islink(theFile):\n",
    "        # 파일이 실재하는지 확인한다.\n",
    "        if os.path.isfile(theFile):"
   ]
  },
  {
   "cell_type": "code",
   "execution_count": null,
   "metadata": {
    "collapsed": true
   },
   "outputs": [],
   "source": [
    "# 맞는 패턴인지는 TestCase를 만들어서 해봐야 한다.\n",
    "if not os.path.exists(theFile):\n",
    "    return False\n",
    "if os.path.islink(theFile):\n",
    "    return False\n",
    "if not os.path.isfile(theFile):\n",
    "    return False"
   ]
  },
  {
   "cell_type": "markdown",
   "metadata": {},
   "source": [
    "- 이렇게 하면 너무 안쪽으로 들어오기 때문에 [Replace Nested Conditional with Guard Clauses Pattern](http://refactoring.com/catalog/replaceNestedConditionalWithGuardClauses.html) 적용해서 해보자\n",
    "- [Replace Nested Conditional with Guard Clauses](https://sourcemaking.com/refactoring/replace-nested-conditional-with-guard-clauses)"
   ]
  },
  {
   "cell_type": "code",
   "execution_count": null,
   "metadata": {
    "collapsed": true
   },
   "outputs": [],
   "source": [
    "try:\n",
    "    # 파일 읽기 시도\n",
    "    f = open(theFile, 'rb')\n",
    "except IOError:\n",
    "    # 열기를 실패할 경우 오류 보고\n",
    "    log.warning('Open Failed: ' + theFile)\n",
    "    return\n",
    "else:\n",
    "    try:\n",
    "        # 파일 읽기 시도\n",
    "        rd = f.read()\n",
    "    except IOError:\n",
    "        # 읽기를 실패할 경우, 파일을 닫고\n",
    "        # 오류를 보고한다.\n",
    "        f.close()\n",
    "        log.warning('Read Failed: ' + theFile)\n",
    "        return\n",
    "    else:\n",
    "        # 파일 열기가 성공하면 이 파일로부터 읽을 수 있다.\n",
    "        # 파일 상태를 조회하자.\n",
    "        theFileStats = os.stat(theFile) # 이건 뭐하러 함??\n",
    "        (mode, ino, dev, nlink, uid, gid, size, atime, mtime, ctime) = os.stat(theFile)\n",
    "        \n",
    "        # 사용자에게 진행중을 표시함\n",
    "        DisplayMessage('Processing File: ' + theFile)\n",
    "        \n",
    "        # 파일 크기를 문자열로 변환\n",
    "        fileSize = str(size)\n",
    "        \n",
    "        # 수정/접근/속성변경 시간을 문자열로 변환\n",
    "        modifiedTime = time.ctime(mtime)\n",
    "        accessTime = time.ctime(atime)\n",
    "        createdTime = time.ctime(ctime)\n",
    "        \n",
    "        # 소유자, 그룹, 파일 모드를 변환\n",
    "        ownerID = str(uid)\n",
    "        groupID = str(gid)\n",
    "        fileMode = bin(mode)"
   ]
  },
  {
   "cell_type": "markdown",
   "metadata": {},
   "source": [
    "- 파일을 성공적으로 열고 파일을 읽는 것이 허용되면 파일과 관련된 속성을 추출"
   ]
  },
  {
   "cell_type": "markdown",
   "metadata": {},
   "source": [
    "### 조각 코드??\n",
    "\n",
    "- 조각 조각 나눠서 설명할 때는 좋은데..\n",
    "- 내가 굳이 다시 한 번 써야되나??\n",
    "- 그냥 Full Source Code만 작성해도 될 것 같다.\n",
    "- 다 이해했으니까."
   ]
  },
  {
   "cell_type": "markdown",
   "metadata": {},
   "source": [
    "### CSVWriter\n",
    "\n",
    "#### 초기화 메소드\n",
    "\n",
    "1. csvFile 열기\n",
    "2. csv.writer 초기화\n",
    "3. 각 칼럼에 대한 이름과 함께 머리글 행을 기록"
   ]
  },
  {
   "cell_type": "markdown",
   "metadata": {},
   "source": [
    "#### Full Source Code pfish.py"
   ]
  },
  {
   "cell_type": "code",
   "execution_count": 16,
   "metadata": {
    "collapsed": true
   },
   "outputs": [],
   "source": [
    "!mkdir ch03"
   ]
  },
  {
   "cell_type": "code",
   "execution_count": 19,
   "metadata": {
    "collapsed": false
   },
   "outputs": [
    {
     "name": "stdout",
     "output_type": "stream",
     "text": [
      "Overwriting ch03/pfish.py\n"
     ]
    }
   ],
   "source": [
    "%%writefile ch03/pfish.py\n",
    "\n",
    "# coding: utf-8\n",
    "import logging\n",
    "import time\n",
    "import sys\n",
    "import _pfish\n",
    "\n",
    "\n",
    "if __name__ == '__main__':\n",
    "    PFISH_VERSION = '1.0'\n",
    "\n",
    "    # 로깅을 설정한다.\n",
    "    logging.basicConfig(filename='pFishLog.log',\n",
    "                        level=logging.DEBUG,\n",
    "                        format='%(asctime)s %(message)s')\n",
    "\n",
    "    # 명령줄 인수 처리\n",
    "    _pfish.ParseCommandLine()\n",
    "\n",
    "    # 시작하는 시간 기록\n",
    "    startTime = time.time()\n",
    "\n",
    "    # 환영 메시지 기록\n",
    "    logging.info('')\n",
    "    logging.info('Welcome to p-fish version {} ... New Scan Started'.format(\n",
    "            PFISH_VERSION))\n",
    "    logging.info('')\n",
    "    _pfish.DisplayMessage('Welcome to p-fish ... version'.format(PFISH_VERSION))\n",
    "\n",
    "    # 시스템과 관련한 일부 정보 기록\n",
    "    logging.info('System: {}'.format(sys.platform))\n",
    "    logging.info('Version: {}'.format(sys.version))\n",
    "\n",
    "    # 파일 시스템 디렉토리 및 해시 파일을 횡단함\n",
    "    fileProcessed = _pfish.WalkPath()\n",
    "\n",
    "    # 종료 시간을 기록하고 기간을 계산\n",
    "    endTime = time.time()\n",
    "    duration = endTime - startTime\n",
    "    logging.info('Files Processed:' + str(fileProcessed))\n",
    "    logging.info('Elapsed Time: ' + str(duration) + 'seconds')\n",
    "    logging.info('')\n",
    "    logging.info('Program Terminated Normally')\n",
    "    logging.info('')\n",
    "\n",
    "    _pfish.DisplayMessage('Program End')"
   ]
  },
  {
   "cell_type": "code",
   "execution_count": 20,
   "metadata": {
    "collapsed": false
   },
   "outputs": [
    {
     "name": "stdout",
     "output_type": "stream",
     "text": [
      "Writing ch03/_pfish.py\n"
     ]
    }
   ],
   "source": [
    "%%writefile ch03/_pfish.py\n",
    "\n",
    "# coding: utf-8\n",
    "import os\n",
    "import stat\n",
    "import time\n",
    "import hashlib\n",
    "import argparse\n",
    "import csv\n",
    "import logging\n",
    "\n",
    "log = logging.getLogger('main._pfish')\n",
    "\n",
    "\n",
    "def ParseCommandLine():\n",
    "    parser = argparse.ArgumentParser('Python file system hashing... p-fish')\n",
    "\n",
    "    parser.add_argument('-v',\n",
    "                        '--verbose',\n",
    "                        help='allows progress messages to be displayed',\n",
    "                        action='store_true')\n",
    "\n",
    "    # 상호 베타적인 선택이 필요한 그룹 설정\n",
    "    group = parser.add_mutually_exclusive_group(required=True)\n",
    "    group.add_argument('--md5',\n",
    "                       help='specifies MD5 algorithm',\n",
    "                       action='store_true')\n",
    "    group.add_argument('--sha256',\n",
    "                       help='specifies SHA256 algorithm',\n",
    "                       action='store_true')\n",
    "    group.add_argument('--sha512',\n",
    "                       help='specifies SHA512 algorithm',\n",
    "                       action='store_true')\n",
    "\n",
    "    parser.add_argument('-d',\n",
    "                        '--rootPath',\n",
    "                        type=ValidateDirectory,\n",
    "                        required=True,\n",
    "                        help='specify the root path for hashing')\n",
    "    parser.add_argument('-r',\n",
    "                        '--reportPath',\n",
    "                        type=ValidateDirectoryWritable,\n",
    "                        required=True,\n",
    "                        help='specify the path for reports and logs will be written')\n",
    "\n",
    "    # 검증된 인수를 보유한 전역 객체를 생성\n",
    "    # 이 객체는 _pfish.py 모듈 내의 모든 함수에서 사용 가능\n",
    "\n",
    "    global gl_args\n",
    "    global gl_hashType\n",
    "\n",
    "    gl_args = parser.parse_args()\n",
    "\n",
    "    if gl_args.md5:\n",
    "        gl_hashType = 'MD5'\n",
    "    elif gl_args.sha256:\n",
    "        gl_hashType = 'SHA256'\n",
    "    elif gl_args.sha512:\n",
    "        gl_hashType = 'SHA512'\n",
    "    else:\n",
    "        gl_hashType = 'UnKnown'\n",
    "        logging.error('Unknown Hash Type Specified')\n",
    "\n",
    "    DisplayMessage('Command line processed: Successfully')\n",
    "    return\n",
    "\n",
    "\n",
    "def WalkPath():\n",
    "    processCount = 0\n",
    "    errorCount = 0\n",
    "\n",
    "    oCVS = _CSVWriter(os.path.join(gl_args.reportPath, 'fileSystemReport.csv'),\n",
    "                      gl_hashType)\n",
    "\n",
    "    # rootPath에서 시작하는 모든 파일을 처리하는 반복문을 만들고,\n",
    "    # 모든 하위 디렉토리도 처리된다.\n",
    "\n",
    "    log.info('Root Path: ' + gl_args.rootPath)\n",
    "\n",
    "    for root, dirs, files in os.walk(gl_args.rootPath):\n",
    "        # for문은 각 파일에 대한 파일 이름을 획득하고 HashFile 함수를 호출한다.\n",
    "        for file in files:\n",
    "            fname = os.path.join(root, file)\n",
    "            result = HashFile(fname, file, oCVS)\n",
    "\n",
    "            # 해시 연산이 성공한 경우, ProcessCount가 증가한다.\n",
    "            if result is True:\n",
    "                processCount += 1\n",
    "            # 성공하지 못한 경우, ErrorCount가 증가한다.\n",
    "            else:\n",
    "                errorCount += 1\n",
    "\n",
    "    oCVS.writerClose()\n",
    "    return(processCount)\n",
    "\n",
    "\n",
    "def HashFile(theFile, simpleName, o_result):\n",
    "    \"\"\"\n",
    "    Must Refactoring.\n",
    "    \"\"\"\n",
    "    # 경로가 유효한지 확인한다.\n",
    "    if os.path.exists(theFile):\n",
    "        # 경로가 심볼 링크가 아닌지 확인한다.\n",
    "        if not os.path.islink(theFile):\n",
    "            # 파일이 실재하는지 확인\n",
    "            if os.path.isfile(theFile):\n",
    "                try:\n",
    "                    # 파일 열기 시도\n",
    "                    f = open(theFile, 'rb')\n",
    "                except IOError:\n",
    "                    # 열기에 실패하는 경우, 오류를 보고\n",
    "                    log.warning('Open Failed: ' + theFile)\n",
    "                    return\n",
    "                else:\n",
    "                    try:\n",
    "                        # 파일 읽기 시도\n",
    "                        rd = f.read()\n",
    "                    except IOError:\n",
    "                        # 읽기에 실패하는 경우, 파일을 닫고 오류 보고\n",
    "                        f.close()\n",
    "                        log.warning('Read Failed: ' + theFile)\n",
    "                        return\n",
    "                    else:\n",
    "                        # 파일 열기가 성공하면 이 파일로부터 읽을 수 있음\n",
    "                        # 파일의 상태를 조회\n",
    "\n",
    "                        theFileStats = os.stat(theFile)\n",
    "                        (mode, ino, dev, nlink, uid, gid, size,\n",
    "                         atime, mtime, ctime) = os.stat(theFile)\n",
    "\n",
    "                        # 단순한 파일 이름을 인쇄\n",
    "                        DisplayMessage('Processing File: ' + theFile)\n",
    "\n",
    "                        # 파일의 바이트(Byte) 크기를 인쇄\n",
    "                        fileSize = str(size)\n",
    "\n",
    "                        # 수정/접근/속성변경 시간을 인쇄\n",
    "                        modifiedTime = time.ctime(mtime)\n",
    "                        accessTime = time.ctime(atime)\n",
    "                        createdTime = time.ctime(ctime)\n",
    "\n",
    "                        ownerID = str(uid)\n",
    "                        groupID = str(gid)\n",
    "                        fileMode = bin(mode)\n",
    "\n",
    "                        # 파일 해시를 처리\n",
    "\n",
    "                        if gl_args.md5:\n",
    "                            # MD5 계산 및 인쇄\n",
    "                            hashValue = hashlib.md5(rd).hexdigest()\n",
    "                        elif gl_args.sha256:\n",
    "                            hashValue = hashlib.sha256(rd).hexdigest()\n",
    "                        elif gl_args.sha512:\n",
    "                            hashValue = hashlib.sha512(rd).hexdigest()\n",
    "                        else:\n",
    "                            log.error('Hash not Selected')\n",
    "\n",
    "                            # 파일 처리가 완료되면\n",
    "                            # 활성 상태의 파일을 닫는다.\n",
    "                            print('=' * 20)\n",
    "                            f.close()\n",
    "\n",
    "                        # 출력 파일에 한 행을 기록함\n",
    "                        o_result.writeCSVRow(simpleName, theFile, fileSize,\n",
    "                                             modifiedTime, accessTime, createdTime,\n",
    "                                             hashValue, ownerID, groupID, mode)\n",
    "                        return True\n",
    "            else:\n",
    "                log.warning('[{} Skipped NOT a File]'.format(repr(simpleName)))\n",
    "                return False\n",
    "        else:\n",
    "            log.warning('[{} Skipped NOT a File]'.format(repr(simpleName)))\n",
    "            return False\n",
    "    else:\n",
    "        log.warning('[{} Path does NOT a exist]'.format(repr(simpleName)))\n",
    "        return False\n",
    "\n",
    "\n",
    "def ValidateDirectory(theDir):\n",
    "    # 디렉토리 경로의 유효성을 검사\n",
    "    if not os.path.isdir(theDir):\n",
    "        raise argparse.ArgumentTypeError('Directory does not exist')\n",
    "\n",
    "    # 경로가 읽기 가능한지 검사\n",
    "    if os.access(theDir, os.R_OK):\n",
    "        return theDir\n",
    "    else:\n",
    "        raise argparse.ArgumentTypeError('Directory is not readable')\n",
    "\n",
    "\n",
    "def ValidateDirectoryWritable(theDir):\n",
    "    # 디렉토리 경로의 유효성 검사\n",
    "    if not os.path.isdir(theDir):\n",
    "        raise argparse.ArgumentTypeError('Directory does not exist')\n",
    "\n",
    "    # 경로가 쓰기 가능한지 검사\n",
    "    if os.access(theDir, os.W_OK):\n",
    "        return theDir\n",
    "    else:\n",
    "        raise argparse.ArgumentTypeError('Directory is not writable')\n",
    "\n",
    "\n",
    "def DisplayMessage(msg):\n",
    "    if gl_args.verbose:\n",
    "        print(msg)\n",
    "    return\n",
    "\n",
    "\n",
    "class _CSVWriter(object):\n",
    "    def __init__(self, fileName, hashType):\n",
    "        try:\n",
    "            # writer 객체를 생성하고 머리글 행을 기록\n",
    "            self.csvFile = open(fileName, 'wb')\n",
    "            self.writer = csv.writer(self.csvFile, delimiter=',', quoting=csv.QUOTE_ALL)\n",
    "            self.writer.writerow(('File', 'Path', 'Size', 'Modified Time', 'Access Time',\n",
    "            'Created Time', hashType, 'Owner', 'Group', 'Mode'))\n",
    "        except:\n",
    "            log.error('CSV File Failure')\n",
    "\n",
    "    def writeCSVRow(self, fileName, filePath, fileSize, mTime, aTime,\n",
    "                    cTime, hashVal, own, grp, mod):\n",
    "        self.writer.writerow((fileName, filePath, fileSize, mTime,\n",
    "        aTime, cTime, hashVal, own, grp, mod))\n",
    "\n",
    "    def writerClose(self):\n",
    "        self.csvFile.close()"
   ]
  },
  {
   "cell_type": "code",
   "execution_count": 35,
   "metadata": {
    "collapsed": false,
    "scrolled": true
   },
   "outputs": [
    {
     "name": "stdout",
     "output_type": "stream",
     "text": [
      "Command line processed: Successfully\r\n",
      "Welcome to p-fish ... version\r\n",
      "Processing File: ./ch02.ipynb\r\n",
      "Processing File: ./ch03.ipynb\r\n",
      "Processing File: ./ch04.ipynb\r\n",
      "Processing File: ./pFishLog.log\r\n",
      "Processing File: ./.ipynb_checkpoints/ch02-checkpoint.ipynb\r\n",
      "Processing File: ./.ipynb_checkpoints/ch03-checkpoint.ipynb\r\n",
      "Processing File: ./.ipynb_checkpoints/ch04-checkpoint.ipynb\r\n",
      "Processing File: ./ch03/_pfish.py\r\n",
      "Processing File: ./ch03/_pfish.pyc\r\n",
      "Processing File: ./ch03/pfish.py\r\n",
      "Processing File: ./report/fileSystemReport.csv\r\n",
      "Program End\r\n"
     ]
    }
   ],
   "source": [
    "!python ch03/pfish.py --md5 -d './' -r './report' -v"
   ]
  },
  {
   "cell_type": "code",
   "execution_count": 36,
   "metadata": {
    "collapsed": false
   },
   "outputs": [
    {
     "name": "stdout",
     "output_type": "stream",
     "text": [
      "2015-10-03 00:55:10,845 \r\n",
      "2015-10-03 00:55:10,845 Welcome to p-fish version 1.0 ... New Scan Started\r\n",
      "2015-10-03 00:55:10,845 \r\n",
      "2015-10-03 00:55:10,845 System: darwin\r\n",
      "2015-10-03 00:55:10,846 Version: 2.7.10 (default, Jul 14 2015, 19:46:27) \r\n",
      "[GCC 4.2.1 Compatible Apple LLVM 6.0 (clang-600.0.39)]\r\n",
      "2015-10-03 00:55:10,846 Root Path: ./\r\n",
      "2015-10-03 00:55:10,847 Files Processed:11\r\n",
      "2015-10-03 00:55:10,847 Elapsed Time: 0.00207901000977seconds\r\n",
      "2015-10-03 00:55:10,847 \r\n",
      "2015-10-03 00:55:10,848 Program Terminated Normally\r\n",
      "2015-10-03 00:55:10,848 \r\n"
     ]
    }
   ],
   "source": [
    "!cat ./pFishLog.log"
   ]
  },
  {
   "cell_type": "code",
   "execution_count": 37,
   "metadata": {
    "collapsed": true
   },
   "outputs": [],
   "source": [
    "import pandas as pd"
   ]
  },
  {
   "cell_type": "code",
   "execution_count": 38,
   "metadata": {
    "collapsed": false
   },
   "outputs": [
    {
     "data": {
      "text/html": [
       "<div style=\"max-height:1000px;max-width:1500px;overflow:auto;\">\n",
       "<table border=\"1\" class=\"dataframe\">\n",
       "  <thead>\n",
       "    <tr style=\"text-align: right;\">\n",
       "      <th></th>\n",
       "      <th>File</th>\n",
       "      <th>Path</th>\n",
       "      <th>Size</th>\n",
       "      <th>Modified Time</th>\n",
       "      <th>Access Time</th>\n",
       "      <th>Created Time</th>\n",
       "      <th>MD5</th>\n",
       "      <th>Owner</th>\n",
       "      <th>Group</th>\n",
       "      <th>Mode</th>\n",
       "    </tr>\n",
       "  </thead>\n",
       "  <tbody>\n",
       "    <tr>\n",
       "      <th>0</th>\n",
       "      <td>            ch02.ipynb</td>\n",
       "      <td>                               ./ch02.ipynb</td>\n",
       "      <td> 13006</td>\n",
       "      <td> Fri Oct  2 07:52:40 2015</td>\n",
       "      <td> Sat Oct  3 00:44:33 2015</td>\n",
       "      <td> Fri Oct  2 07:52:40 2015</td>\n",
       "      <td> 597becf577c6a616c336c4e7660c0b9c</td>\n",
       "      <td> 501</td>\n",
       "      <td> 20</td>\n",
       "      <td> 33152</td>\n",
       "    </tr>\n",
       "    <tr>\n",
       "      <th>1</th>\n",
       "      <td>            ch03.ipynb</td>\n",
       "      <td>                               ./ch03.ipynb</td>\n",
       "      <td> 48386</td>\n",
       "      <td> Sat Oct  3 00:43:51 2015</td>\n",
       "      <td> Sat Oct  3 00:44:33 2015</td>\n",
       "      <td> Sat Oct  3 00:43:51 2015</td>\n",
       "      <td> 966fa74c1c2b05fef9ee33b55ab95b2c</td>\n",
       "      <td> 501</td>\n",
       "      <td> 20</td>\n",
       "      <td> 33152</td>\n",
       "    </tr>\n",
       "    <tr>\n",
       "      <th>2</th>\n",
       "      <td>          pFishLog.log</td>\n",
       "      <td>                             ./pFishLog.log</td>\n",
       "      <td>   331</td>\n",
       "      <td> Sat Oct  3 00:44:33 2015</td>\n",
       "      <td> Sat Oct  3 00:44:33 2015</td>\n",
       "      <td> Sat Oct  3 00:44:33 2015</td>\n",
       "      <td> 75c29e1b6243d6c1d0a8a5a239d8c3d0</td>\n",
       "      <td> 501</td>\n",
       "      <td> 20</td>\n",
       "      <td> 33188</td>\n",
       "    </tr>\n",
       "    <tr>\n",
       "      <th>3</th>\n",
       "      <td> ch02-checkpoint.ipynb</td>\n",
       "      <td> ./.ipynb_checkpoints/ch02-checkpoint.ipynb</td>\n",
       "      <td> 13006</td>\n",
       "      <td> Fri Oct  2 07:52:40 2015</td>\n",
       "      <td> Sat Oct  3 00:44:33 2015</td>\n",
       "      <td> Fri Oct  2 07:52:40 2015</td>\n",
       "      <td> 597becf577c6a616c336c4e7660c0b9c</td>\n",
       "      <td> 501</td>\n",
       "      <td> 20</td>\n",
       "      <td> 33152</td>\n",
       "    </tr>\n",
       "    <tr>\n",
       "      <th>4</th>\n",
       "      <td> ch03-checkpoint.ipynb</td>\n",
       "      <td> ./.ipynb_checkpoints/ch03-checkpoint.ipynb</td>\n",
       "      <td> 33049</td>\n",
       "      <td> Fri Oct  2 14:12:46 2015</td>\n",
       "      <td> Sat Oct  3 00:44:33 2015</td>\n",
       "      <td> Fri Oct  2 14:12:46 2015</td>\n",
       "      <td> a31524f195333dc215d7e4a5851ec289</td>\n",
       "      <td> 501</td>\n",
       "      <td> 20</td>\n",
       "      <td> 33152</td>\n",
       "    </tr>\n",
       "    <tr>\n",
       "      <th>5</th>\n",
       "      <td>             _pfish.py</td>\n",
       "      <td>                           ./ch03/_pfish.py</td>\n",
       "      <td>  7991</td>\n",
       "      <td> Sat Oct  3 00:43:45 2015</td>\n",
       "      <td> Sat Oct  3 00:44:33 2015</td>\n",
       "      <td> Sat Oct  3 00:43:45 2015</td>\n",
       "      <td> c7b1c969f7105663bdb1fc67153129cd</td>\n",
       "      <td> 501</td>\n",
       "      <td> 20</td>\n",
       "      <td> 33188</td>\n",
       "    </tr>\n",
       "    <tr>\n",
       "      <th>6</th>\n",
       "      <td>            _pfish.pyc</td>\n",
       "      <td>                          ./ch03/_pfish.pyc</td>\n",
       "      <td>  6230</td>\n",
       "      <td> Sat Oct  3 00:44:09 2015</td>\n",
       "      <td> Sat Oct  3 00:44:33 2015</td>\n",
       "      <td> Sat Oct  3 00:44:09 2015</td>\n",
       "      <td> 07596415f35c4323460164398c9ea842</td>\n",
       "      <td> 501</td>\n",
       "      <td> 20</td>\n",
       "      <td> 33188</td>\n",
       "    </tr>\n",
       "    <tr>\n",
       "      <th>7</th>\n",
       "      <td>              pfish.py</td>\n",
       "      <td>                            ./ch03/pfish.py</td>\n",
       "      <td>  1317</td>\n",
       "      <td> Sat Oct  3 00:43:22 2015</td>\n",
       "      <td> Sat Oct  3 00:44:33 2015</td>\n",
       "      <td> Sat Oct  3 00:43:22 2015</td>\n",
       "      <td> 5998bff15b4cebde309b7c4dabaf9281</td>\n",
       "      <td> 501</td>\n",
       "      <td> 20</td>\n",
       "      <td> 33188</td>\n",
       "    </tr>\n",
       "  </tbody>\n",
       "</table>\n",
       "</div>"
      ],
      "text/plain": [
       "                    File                                        Path   Size  \\\n",
       "0             ch02.ipynb                                ./ch02.ipynb  13006   \n",
       "1             ch03.ipynb                                ./ch03.ipynb  48386   \n",
       "2           pFishLog.log                              ./pFishLog.log    331   \n",
       "3  ch02-checkpoint.ipynb  ./.ipynb_checkpoints/ch02-checkpoint.ipynb  13006   \n",
       "4  ch03-checkpoint.ipynb  ./.ipynb_checkpoints/ch03-checkpoint.ipynb  33049   \n",
       "5              _pfish.py                            ./ch03/_pfish.py   7991   \n",
       "6             _pfish.pyc                           ./ch03/_pfish.pyc   6230   \n",
       "7               pfish.py                             ./ch03/pfish.py   1317   \n",
       "\n",
       "              Modified Time               Access Time  \\\n",
       "0  Fri Oct  2 07:52:40 2015  Sat Oct  3 00:44:33 2015   \n",
       "1  Sat Oct  3 00:43:51 2015  Sat Oct  3 00:44:33 2015   \n",
       "2  Sat Oct  3 00:44:33 2015  Sat Oct  3 00:44:33 2015   \n",
       "3  Fri Oct  2 07:52:40 2015  Sat Oct  3 00:44:33 2015   \n",
       "4  Fri Oct  2 14:12:46 2015  Sat Oct  3 00:44:33 2015   \n",
       "5  Sat Oct  3 00:43:45 2015  Sat Oct  3 00:44:33 2015   \n",
       "6  Sat Oct  3 00:44:09 2015  Sat Oct  3 00:44:33 2015   \n",
       "7  Sat Oct  3 00:43:22 2015  Sat Oct  3 00:44:33 2015   \n",
       "\n",
       "               Created Time                               MD5  Owner  Group  \\\n",
       "0  Fri Oct  2 07:52:40 2015  597becf577c6a616c336c4e7660c0b9c    501     20   \n",
       "1  Sat Oct  3 00:43:51 2015  966fa74c1c2b05fef9ee33b55ab95b2c    501     20   \n",
       "2  Sat Oct  3 00:44:33 2015  75c29e1b6243d6c1d0a8a5a239d8c3d0    501     20   \n",
       "3  Fri Oct  2 07:52:40 2015  597becf577c6a616c336c4e7660c0b9c    501     20   \n",
       "4  Fri Oct  2 14:12:46 2015  a31524f195333dc215d7e4a5851ec289    501     20   \n",
       "5  Sat Oct  3 00:43:45 2015  c7b1c969f7105663bdb1fc67153129cd    501     20   \n",
       "6  Sat Oct  3 00:44:09 2015  07596415f35c4323460164398c9ea842    501     20   \n",
       "7  Sat Oct  3 00:43:22 2015  5998bff15b4cebde309b7c4dabaf9281    501     20   \n",
       "\n",
       "    Mode  \n",
       "0  33152  \n",
       "1  33152  \n",
       "2  33188  \n",
       "3  33152  \n",
       "4  33152  \n",
       "5  33188  \n",
       "6  33188  \n",
       "7  33188  "
      ]
     },
     "execution_count": 38,
     "metadata": {},
     "output_type": "execute_result"
    }
   ],
   "source": [
    "df = pd.read_csv('/tmp/fileSystemReport.csv')\n",
    "df"
   ]
  },
  {
   "cell_type": "code",
   "execution_count": 39,
   "metadata": {
    "collapsed": false
   },
   "outputs": [
    {
     "name": "stdout",
     "output_type": "stream",
     "text": [
      "\"File\",\"Path\",\"Size\",\"Modified Time\",\"Access Time\",\"Created Time\",\"MD5\",\"Owner\",\"Group\",\"Mode\"\r",
      "\r\n",
      "\"ch02.ipynb\",\"./ch02.ipynb\",\"13006\",\"Fri Oct  2 07:52:40 2015\",\"Sat Oct  3 00:55:10 2015\",\"Fri Oct  2 07:52:40 2015\",\"597becf577c6a616c336c4e7660c0b9c\",\"501\",\"20\",\"33152\"\r",
      "\r\n",
      "\"ch03.ipynb\",\"./ch03.ipynb\",\"62039\",\"Sat Oct  3 00:54:44 2015\",\"Sat Oct  3 00:55:10 2015\",\"Sat Oct  3 00:54:44 2015\",\"f56bf01819fdec9ab23a89cdb321fbb5\",\"501\",\"20\",\"33152\"\r",
      "\r\n",
      "\"ch04.ipynb\",\"./ch04.ipynb\",\"72\",\"Sat Oct  3 00:54:14 2015\",\"Sat Oct  3 00:55:10 2015\",\"Sat Oct  3 00:54:14 2015\",\"e4ec0ceddc1a0556d18a1473ba787196\",\"501\",\"20\",\"33188\"\r",
      "\r\n",
      "\"pFishLog.log\",\"./pFishLog.log\",\"331\",\"Sat Oct  3 00:55:10 2015\",\"Sat Oct  3 00:55:10 2015\",\"Sat Oct  3 00:55:10 2015\",\"51ae476216521c01adf30ac398e9e504\",\"501\",\"20\",\"33188\"\r",
      "\r\n",
      "\"ch02-checkpoint.ipynb\",\"./.ipynb_checkpoints/ch02-checkpoint.ipynb\",\"13006\",\"Fri Oct  2 07:52:40 2015\",\"Sat Oct  3 00:55:10 2015\",\"Fri Oct  2 07:52:40 2015\",\"597becf577c6a616c336c4e7660c0b9c\",\"501\",\"20\",\"33152\"\r",
      "\r\n",
      "\"ch03-checkpoint.ipynb\",\"./.ipynb_checkpoints/ch03-checkpoint.ipynb\",\"62039\",\"Sat Oct  3 00:54:44 2015\",\"Sat Oct  3 00:55:10 2015\",\"Sat Oct  3 00:54:44 2015\",\"f56bf01819fdec9ab23a89cdb321fbb5\",\"501\",\"20\",\"33152\"\r",
      "\r\n",
      "\"ch04-checkpoint.ipynb\",\"./.ipynb_checkpoints/ch04-checkpoint.ipynb\",\"72\",\"Sat Oct  3 00:54:14 2015\",\"Sat Oct  3 00:55:10 2015\",\"Sat Oct  3 00:54:14 2015\",\"e4ec0ceddc1a0556d18a1473ba787196\",\"501\",\"20\",\"33188\"\r",
      "\r\n",
      "\"_pfish.py\",\"./ch03/_pfish.py\",\"7991\",\"Sat Oct  3 00:43:45 2015\",\"Sat Oct  3 00:55:10 2015\",\"Sat Oct  3 00:43:45 2015\",\"c7b1c969f7105663bdb1fc67153129cd\",\"501\",\"20\",\"33188\"\r",
      "\r\n",
      "\"_pfish.pyc\",\"./ch03/_pfish.pyc\",\"6230\",\"Sat Oct  3 00:44:09 2015\",\"Sat Oct  3 00:55:10 2015\",\"Sat Oct  3 00:44:09 2015\",\"07596415f35c4323460164398c9ea842\",\"501\",\"20\",\"33188\"\r",
      "\r\n",
      "\"pfish.py\",\"./ch03/pfish.py\",\"1317\",\"Sat Oct  3 00:43:22 2015\",\"Sat Oct  3 00:55:10 2015\",\"Sat Oct  3 00:43:22 2015\",\"5998bff15b4cebde309b7c4dabaf9281\",\"501\",\"20\",\"33188\"\r",
      "\r\n",
      "\"fileSystemReport.csv\",\"./report/fileSystemReport.csv\",\"0\",\"Sat Oct  3 00:55:10 2015\",\"Sat Oct  3 00:55:10 2015\",\"Sat Oct  3 00:55:10 2015\",\"d41d8cd98f00b204e9800998ecf8427e\",\"501\",\"20\",\"33188\"\r",
      "\r\n"
     ]
    }
   ],
   "source": [
    "!column ./report/fileSystemReport.csv"
   ]
  },
  {
   "cell_type": "markdown",
   "metadata": {},
   "source": [
    "### 소스 후기\n",
    "\n",
    "- Indent가 엉망이다\n",
    "- 그리고 PEP8을 지키지 않아서 짜증 유발.. 왠 함수명에 대문자냐?!!\n",
    "  - 명명법까지 보여주는 것은 좋으나 파이썬에서 쓰는 명명법이 아니기 때문에..\n",
    "  - 명명법까지 명시해줄 정도면 저자가 꽤 친절한거다.\n",
    "- 번역자가 영어만 번역한 것 같은 느낌이 강하게 든다. 코드를 하나하나 쳐봤다면 \n",
    "\n",
    "```python\n",
    "report error\n",
    "```\n",
    "\n",
    "- 라는걸 그냥 두지는 않았을텐데\n",
    "- 초보자가 이 책을 보고 따라하기에는 무리가 있어 보인다.\n",
    "- 왜 똑같이 했는데 안되지? 라는 생각이 강하게 들기 때문에 엄청 짜증날 것 같다."
   ]
  },
  {
   "cell_type": "markdown",
   "metadata": {},
   "source": [
    "## 복습\n",
    "\n",
    "- 표준 라이브러리 활용\n",
    "- 명령줄 구문분석\n",
    "- 명령줄 매개변수 유효성 검사\n",
    "- 파이썬 로거 활성화하고 행위에 대한 수사 기록을 제공하기 위한 로깅 시스템에 이벤트와 오류 보고\n",
    "- 단방향 해시 알고리즘의 선택에 대한 기능과 처리된 각 파일의 주요 속성을 추출하는 기능\n",
    "- csv 모듈 활용"
   ]
  },
  {
   "cell_type": "markdown",
   "metadata": {},
   "source": [
    "## 요약 질문\n",
    "\n",
    "1. 단방향 해시 알고리즘을 추가한다면 어떤 기능을 수정해야 할 것인가? 또한, 파이썬 표준 라이브러리 사용에 의해서만 어떤 다른 단방향 해시 알고리즘을 쉽게 이용할 수 있다.\n",
    "2. 2개의 전역 변수의 필요성을 제거하고 싶다면 클래스 사용에 의해 쉽게 이를 달성할 수 있는 방법은 무엇인가? 어떤 기능이 클래스로 전환되어야 하고 어떤 메소드의 생성이 필요할까?\n",
    "3. 어떤 이벤트 또는 요소들이 기록되어야 한다고 생각하는가? 여러분은 그 일을 어떻게 할 것인가?\n",
    "4. 어떤 추가한 열을 보고서에 표시하고 추가 정보를 얻을 수 있는 방법은 무엇인가?\n",
    "5. 로그에는 어떤 부가적인 정보(예를 들어, 수사관 이름 또는 사례 번호 같은)가 포함되어야 한다. 어떻게 그런 정보를 얻을 것인가?"
   ]
  }
 ],
 "metadata": {
  "kernelspec": {
   "display_name": "Python 2",
   "language": "python",
   "name": "python2"
  },
  "language_info": {
   "codemirror_mode": {
    "name": "ipython",
    "version": 2
   },
   "file_extension": ".py",
   "mimetype": "text/x-python",
   "name": "python",
   "nbconvert_exporter": "python",
   "pygments_lexer": "ipython2",
   "version": "2.7.10"
  }
 },
 "nbformat": 4,
 "nbformat_minor": 0
}
