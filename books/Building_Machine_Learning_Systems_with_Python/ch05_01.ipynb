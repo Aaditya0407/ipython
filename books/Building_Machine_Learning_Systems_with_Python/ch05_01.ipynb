{
 "metadata": {
  "name": "",
  "signature": "sha256:422b5ee181b1b430fce59ec3e14f92b3f958358971eee04bfef5ce6c952351a8"
 },
 "nbformat": 3,
 "nbformat_minor": 0,
 "worksheets": [
  {
   "cells": [
    {
     "cell_type": "markdown",
     "metadata": {},
     "source": [
      "# 5. \ubd84\ub958 I: \ud615\ud3b8\uc5c6\ub294 \ub2f5\ubcc0 \uac10\uc9c0\n",
      "\n",
      "## \uc815\uc758\n",
      "\n",
      "- \ud14d\uc2a4\ud2b8\uc5d0\uc11c \uc720\uc6a9\ud55c \uc18d\uc131\uc744 \ucd94\ucd9c\ud560 \uc218 \uc788\uae30\uc5d0 \uc2e4\uc81c \ub370\uc774\ud130\ub97c \uc0ac\uc6a9\ud55c \ubd84\ub958\uae30 \ub9cc\ub4e4\uae30\uc5d0 \ub3c4\uc804\ud560 \uc218 \uc788\uc5c8\uc74c\n",
      "- \uc0ac\uc6a9\uc790\uac00 \uc9c8\ubb38\uc744 \uc62c\ub9ac\uace0 \ub300\ub2f5\ud558\ub294 \uac00\uc0c1\uc758 \uc6f9\uc0ac\uc774\ud2b8\ub97c \ub2e4\ub918\ub358 3\uc7a5 '\uad70\uc9d1\ud654: \uad00\ub828\ub41c \uac8c\uc2dc\ubb3c \ucc3e\uae30'\ub85c \ub3cc\uc544\uac00 \ubcf4\uc790\n",
      "- Q/A \uc0ac\uc774\ud2b8 \uc6b4\uc601\uc790\uc758 \uc5c5\ubb34 \uc911 \ud558\ub098\ub294 \uac8c\uc2dc\ubb3c \ub0b4\uc6a9\uc744 \uc77c\uc815 \uc218\uc900\uc73c\ub85c \uc720\uc9c0\ud558\ub294 \uc77c\n",
      "- stackoverflow.com \uac19\uc740 \uc6f9\uc0ac\uc774\ud2b8\ub3c4 \uc0ac\uc6a9\uc790\uac00 \uc9c8\ubb38\uacfc \ub2f5\ubcc0\uc5d0 \ubc30\uc9c0(**badge**)\uc640 **\ubcf4\ub108\uc2a4 \uc810\uc218**\ub97c \uc8fc\ub294 \uc0c1\ub2f9\ud55c \ub178\ub825\uc744 \ud568\n",
      "- \uc0ac\uc6a9\uc790\ub3c4 \uaf2d \uc54c\uace0 \uc2f6\uc740 \ub9c8\uc74c\uc73c\ub85c \uc9c8\ubb38\ud558\uac70\ub098 \uacf5\ub4e4\uc5ec \ub2f5\ubcc0\ud558\ub294 \ub370 \uc2dc\uac04\uc744 \ub4e4\uc774\uae30\uc5d0 **\uc591\uc9c8\uc758 \ucf58\ud150\uce20**\uac00 \ub428\n",
      "\n",
      "\n",
      "- \ud55c\uac00\uc9c0 \ud2b9\ubcc4\ud55c \uc131\uacf5\uc801\uc778 \uc790\uadf9\uc81c\ub294 \uc9c8\ubb38\uc790\uac00 \uc9c8\ubb38\uc5d0 \ub300\ud55c **\uc801\ub2f9\ud55c \ub2f5\ubcc0 \ud558\ub098**\ub97c **\ucc44\ud0dd**\ud560 \uc218 \uc788\uac8c \ud55c \uc810(\ub610\ud55c \uc9c8\ubb38\uc790\uac00 \uadf8\ub7f0 \ub2f5\ubcc0\uc744 \ucc44\ud0dd\ud558\ub294 \uc790\uadf9\uc81c\uc774\uae30\ub3c4 \ud568)\n",
      "- \ucc44\ud0dd\ub41c \ub2f5\ubcc0\uc758 \ub2f5\ubcc0\uc790\ub294 \ud3ec\uc778\ud2b8\ub97c \ub354 \ubc1b\uac8c \ub428\n",
      "\n",
      "\n",
      "- **\ub2f5\ubcc0\uc790\uac00 \ub2f5\ubcc0\uc744 \uc4f0\uace0 \uc788\uc744 \ub54c \uadf8\ub4e4\uc758 \ub2f5\ubcc0\uc774 \uad1c\ucc2e\uc740\uc9c0 \uc989\uc2dc \uc54c\uac8c** \ub41c\ub2e4\uba74 \uc0ac\uc6a9\uc790\ub4e4\uc5d0\uac8c \uc720\uc6a9\ud558\uc9c0 \uc54a\uaca0\ub294\uac00?\n",
      "- \uc774\ub294 \uc6f9\uc0ac\uc774\ud2b8\uac00 **\ub2f5\ubcc0\uc790\uc758 \ub2f5\ubcc0\uc744 \uacc4\uc18d\ud574\uc11c \ud3c9\uac00**\ud558\uace0 **\ub2f5\ubcc0\uc774 \uad1c\ucc2e\uc740\uc9c0 \uc544\ub2cc\uc9c0 \uc870\uc5b8\uc744 \uc81c\uacf5**\ud55c\ub2e4\ub294 \ub73b\n",
      "- \uc774\ub7f0 \uc2dc\uc2a4\ud15c\uc740 **\uc0ac\uc6a9\uc790\uac00 \ub2f5\ubcc0\uc744 \ud560 \ub54c \uc880 \ub354 \uc2e0\uacbd**\uc4f0\uac8c \ud568(\uc608\ub97c \ub4e4\uc5b4, \uc608\uc81c \ucf54\ub4dc\ub97c \uc81c\uacf5\ud558\uac70\ub098 \uc774\ubbf8\uc9c0\ub97c \uc62c\ub9ac\ub294 \ub4f1). \uacb0\uacfc\uc801\uc73c\ub85c \uc2dc\uc2a4\ud15c\uc774 \uac1c\uc120\ub428\n"
     ]
    },
    {
     "cell_type": "markdown",
     "metadata": {},
     "source": [
      "## \ud070 \uadf8\ub9bc \uadf8\ub9ac\uae30\n",
      "\n",
      "- \ub178\uc774\uc988\uac00 \uc2ec\ud55c \uc2e4\uc81c \ub370\uc774\ud130\ub97c \uc0ac\uc6a9\ud574\uc11c \uc2dc\uc2a4\ud15c\uc744 \ub9cc\ub4e6\n",
      "- \uc774\ubc88\uc7a5\uc740 \uc815\ud655\ub3c4\uac00 100%\uc778 \ubd84\ub958\uae30\ub97c \uc704\ud55c '\ub9cc\ub2a5 \ud574\uacb0\ucc45(golden solution)'\uc744 \ub9cc\ub4e4\uace0\uc790 \ud558\uc9c0 \uc54a\uc74c\n",
      "- \uadf8 \uc774\uc720\ub294 \uc0ac\ub78c\ub4e4\uc870\ucc28 \ud574\ub2f9 \ub2f5\ubcc0\uc774 \uad1c\ucc2e\uc740\uc9c0 \uc544\ub2c8\uc9c0 \uc758\uacac\uc774 \ub2e4\ub974\uae30 \ub54c\ubb38(stackoverflow \uc6f9\uc0ac\uc774\ud2b8\uc5d0\uc11c \ucf54\uba58\ud2b8 \uc77c\ubd80\ub9cc \ubcf4\ub354\ub77c\ub3c4 \uc54c \uc218 \uc788\uc74c)\n",
      "- \uc815\ubc18\ub300\ub85c, \uad6c\ud604 \ub3c4\uc911\uc5d0 \ucd5c\ucd08 \ubaa9\uc801\uc744 \ub2e4\uc2dc \uace0\ub824\ud560 \uc815\ub3c4\ub85c \uc5b4\ub835\ub2e4\ub294 \uc810\uc744 \uc54c \uc218 \uc788\uc74c\n",
      "- \uadf8\ub807\uc9c0\ub9cc \ucd5c\uadfc\uc811 \uc774\uc6c3(nearest neighobr) \uc811\uadfc\ubc95\uc73c\ub85c \uc2dc\uc791\ud558\uace0\uc790 \ud558\uba70, \uc65c \uc774\ub7f0 \ubb38\uc81c \uc601\uc5ed\uc5d0\ub294 \uc798 \ub9de\uc9c0 \uc54a\ub294\uc9c0 \uc54c\uc544\ubcf4\uace0, \ub85c\uc9c0\uc2a4\ud2f1 \ud68c\uadc0(logistic regression)\ub85c \ubcc0\uacbd\ud574\ubd04\n",
      "- \uc77c\ubd80 \ub2f5\ubcc0\uc5d0 \ub300\ud574 \uc88b\uc740 \uc608\uc30d\uc774 \uac00\ub2a5\ud55c \ud574\uacb0\ucc45\uc744 \uad6c\ud55c\ub2e4.\n",
      "- target system\uc5d0 deploy \ud560 \ucd5c\uc885 \ubaa8\ub378\uc744 \uc5b4\ub5bb\uac8c \ubf51\uc744\uc9c0 \uc54c\uc544\ubcf4\uc790"
     ]
    },
    {
     "cell_type": "markdown",
     "metadata": {},
     "source": [
      "## \uc138\ub828\ub41c \ub2f5\ubcc0 \uad6c\ubcc4\ubc95 \ud559\uc2b5\n",
      "\n",
      "- \ubb34\uc5c7\uc744 \ubd84\ub958\ud560 \ub54c\ub294 \uc8fc\uc5b4\uc9c4 \ub370\uc774\ud130 \uc778\uc2a4\ud134\uc2a4\uc5d0 \ub300\ud574, \ubcf4\ud1b5 label \uc774\ub77c\uace0 \ud558\ub294 \ud574\ub2f9 \ubc94\uc8fc\ub97c \ucc3e\uace0\uc790 \ud568\n",
      "- \uc774\ub97c \uc131\ucde8\ud558\uae30 \uc704\ud574, \ub2e4\uc74c\uacfc \uac19\uc740 2\uac00\uc9c0 \uc9c8\ubb38\uc5d0 \ub300\ub2f5\ud574\uc57c \ud568\n",
      "  - \ub370\uc774\ud130 \uc778\uc2a4\ud134\uc2a4\ub97c \uc5b4\ub5bb\uac8c \ud45c\ud604\ud558\uaca0\ub294\uac00?\n",
      "  - \ubd84\ub958\uae30\ub294 \uc5b4\ub5a4 \ubaa8\ub378\uc774\ub098 \uad6c\uc870\ub97c \uac00\uc838\uc57c \ud558\ub294\uac00?\n",
      "\n",
      "### \uc778\uc2a4\ud134\uc2a4 \uac1c\uc120\n",
      "\n",
      "- \uc774\ubc88 \uc0ac\ub840\uc5d0\uc11c \uac00\uc7a5 \ub2e8\uc21c\ud55c \ud615\ud0dc\ub85c, \ub370\uc774\ud130 \uc778\uc2a4\ud134\uc2a4\ub294 \ub2f5\ubcc0\uc758 \ud14d\uc2a4\ud2b8\uc774\uace0 \ub77c\ubca8\uc740 \uc774 \ud14d\uc2a4\ud2b8\uac00 \ub2f5\ubcc0\uc73c\ub85c \uad1c\ucc2e\uac8c \ubc1b\uc544\ub4e4\uc77c \uc218 \uc788\ub294\uc9c0 \uc544\ub2cc\uc9c0\ub97c \uc9c0\uc2dc\ud558\ub294 \uc774\uc9c4\uac12\n",
      "- \uadf8\ub7ec\ub098 \uc6d0\uc2dc \ud14d\uc2a4\ud2b8\ub294 \ub300\ubd80\ubd84 \uae30\uacc4 \ud559\uc2b5 \uc54c\uace0\ub9ac\uc998\uc5d0\uc11c \ucc98\ub9ac\ud558\uae30 \ub9e4\uc6b0 \ubd88\ud3b8\ud55c \ud45c\ud604\uc784\n",
      "- \uae30\uacc4 \ud559\uc2b5 \uc54c\uace0\ub9ac\uc998\uc740 \uc218\uce58\ub97c \uc6d0\ud568\n",
      "- \uc6d0\uc2dc \ud14d\uc2a4\ud2b8\ub85c\ubd80\ud130 \uae30\uacc4 \ud559\uc2b5 \uc54c\uace0\ub9ac\uc998\uc774 \uc62c\ubc14\ub978 \ub77c\ubca8\uc744 \ud559\uc2b5\ud558\ub294 \ub370 \uc0ac\uc6a9\ud560 \uc218 \uc788\ub294 \uc720\uc6a9\ud55c \uc18d\uc131\uc744 \ucd94\ucd9c\ud574\uc57c \ud568\n",
      "\n",
      "### \ubd84\ub958\uae30 \uac1c\uc120\n",
      "\n",
      "- \ud14d\uc2a4\ud2b8\uc640 \ub77c\ubca8 \uc30d\uc744 \ucda9\ubd84\ud788 \ubaa8\uc73c\uac70\ub098 \ucc3e\uc558\ub2e4\uba74 **\ubd84\ub958\uae30\ub97c \ud6c8\ub828**\ud560 \uc218 \uc788\uc74c\n",
      "- \ubd84\ub958\uae30\uc758 \uae30\ubcf8 \uad6c\uc870\uc5d0 \ub530\ub77c, \ud3ed\ub113\uc740 \uac00\ub2a5\uc131\uc774 \uc788\uc73c\uba70 \uac01 \ubd84\ub958\uae30\uc5d0 \ub530\ub77c \uc7a5\ub2e8\uc810\uc774 \uc874\uc7ac\n",
      "- \uc798 \uc54c\ub824\uc9c4 \uc120\ud0dd\uad8c\uc744 \ub9d0\ud558\uc790\uba74, logistic regression, decision tree, SVM(support vector machine), Naive Bayes \uac00 \uc788\uc74c\n",
      "- 5\uc7a5\uc5d0\uc11c\ub294 \ubaa8\ub378 \uae30\ubc18 \ub85c\uc9c0\uc2a4\ud2f1 \ud68c\uadc0 \uae30\ubc95\uacfc 3\uc7a5\uc5d0\uc11c \uc0ac\uc6a9\ud55c \uc778\uc2a4\ud134\uc2a4 \uae30\ubc18 \uae30\ubc95\uc744 \ube44\uad50\ud574\ubd04"
     ]
    },
    {
     "cell_type": "markdown",
     "metadata": {},
     "source": [
      "## \ub370\uc774\ud130 \uac00\uc838\uc624\uae30\n",
      "\n",
      "- \ub2e4\ud589\uc2a4\ub7fd\uac8c\ub3c4 stackoverflow \ud300\uc740 CC \uc704\ud0a4 \ub77c\uc774\uc120\uc2a4 \ud558\uc5d0 \uc788\ub294 [StackExchange](http://blog.stackoverflow.com/2009/06/stack-overflow-creative-commons-data-dump/)\ub97c \ud1b5\ud574 \ub300\ubd80\ubd84 \ub370\uc774\ud130\ub97c \uc81c\uacf5\ud568\n",
      "- posts.7z\ub9cc 5.7GB(2014.09.14)\n",
      "\n",
      "\ud30c\uc77c | \ud06c\uae30(MB) | \uc124\uba85\n",
      "--- | --- | ---\n",
      "badges.xml | 309 | \uc0ac\uc6a9\uc790\uc758 \ubc30\uc9c0\n",
      "comments.xml | 3,225 | \uc9c8\ubb38\uc774\ub098 \ub2f5\ubcc0\uc758 \ucf54\uba58\ud2b8\n",
      "posthistory.xml | 18,370 | \ud3b8\uc9d1 \uc774\ub825\n",
      "posts.xml | 12,272 | \uc9c8\ubb38\uacfc \ub2f5\ubcc0(\uc774 \uc815\ubcf4\uac00 \uc6b0\ub9ac\uc5d0\uac8c \ud544\uc694\ud55c \uc790\ub8cc\ub2e4)\n",
      "user.xml | 319 | \uc0ac\uc6a9\uc790\uc5d0 \ub300\ud55c \uc77c\ubc18\uc801\uc778 \uc815\ubcf4\n",
      "votes.xml | 2,200 | \ud22c\ud45c \uc815\ubcf4\n",
      "\n",
      "- \ud30c\uc77c\uc740 \ub2e4\uc18c \uc911\ubcf5\uc801\uc774\uae30 \ub54c\ubb38\uc5d0 posts.xml \uc744 \uc81c\uc678\ud558\uace0\ub294 \ubaa8\ub450 \uc0ad\uc81c\ud574\ub3c4 \ub428\n",
      "- posts.xml \uc740 \ub8e8\ud2b8 \ud0dc\uadf8 posts \uc548\uc5d0 \uac01 row \ud0dc\uadf8\ub85c \uc9c8\ubb38\uacfc \ub2f5\ubcc0\uc774 \ud3ec\ud568\ub418\uc5b4 \uc788\uc74c\n",
      "\n",
      "\uc774\ub984 | \ud0c0\uc785 | \uc124\uba85\n",
      "--- | --- | ---\n",
      "ID | Integer | \uc720\uc77c\ud55c \uc2dd\ubcc4\uc790\n",
      "PostType | Integer | \uac8c\uc2dc\ubb3c\uc758 \uce74\ud14c\uace0\ub9ac\ub97c \ub098\ud0c0\ub0b8\ub2e4. \ub2e4\uc74c\uc740 \uc6b0\ub9ac\uc5d0\uac8c \ud765\ubbf8\ub85c\uc6b4 \uac12\uc774\ub2e4.<br />- \uc9c8\ubb38<br />- \ub2f5\ubcc0<br />\uadf8 \ubc16\uc758 \uac12\uc740 \ubb34\uc2dc\ud574\ub3c4 \uc88b\ub2e4.\n",
      "ParentId | Integer | \ud574\ub2f9 \ub2f5\ubcc0\uc5d0 \uc18c\uc18d\ub41c \uc9c8\ubb38\uc758 \uc720\uc77c\ud55c \uc2dd\ubcc4\uc790(\uc9c8\ubb38\uc5d0\ub294 \uc5c6\ub2e4)\n",
      "CreationDate | Datetime | \uc81c\ucd9c \ub0a0\uc9dc\n",
      "Score | Integer | \uac8c\uc2dc\ubb3c\uc758 \uc810\uc218\n",
      "ViewCount | Integer | \uc774 \uac8c\uc2dc\ubb3c\uc744 \ubcf8 \uc0ac\uc6a9\uc790\uc758 \uc218\n",
      "Body | String | HTML \ud14d\uc2a4\ud2b8\ub85c \uc778\ucf54\ub529\ub41c \uc644\uc131\ub41c \uac8c\uc2dc\ubb3c\n",
      "OwnerUserId | Id | \uac8c\uc2dc\ubb3c\uc758 \uc720\uc77c\ud55c \uc2dd\ubcc4\uc790. 1\uc774\uba74 \uc704\ud0a4 \uc9c8\ubb38\uc774\ub2e4.\n",
      "Title | String | \uc9c8\ubb38 \uc81c\ubaa9(\ub2f5\ubcc0\uc5d0\ub294 \uc5c6\ub2e4.)\n",
      "AcceptedAnswerId | Id | \ucc44\ud0dd\ub41c \ub2f5\ubcc0\uc758 \uc544\uc774\ub514(\ub2f5\ubcc0\uc5d0\ub294 \uc5c6\ub2e4.)\n",
      "CommentCount | Integer | \uac8c\uc2dc\ubb3c\uc758 \ucf54\uba58\ud2b8 \uc218"
     ]
    },
    {
     "cell_type": "markdown",
     "metadata": {},
     "source": [
      "- \uc608\uc81c stackoverflow: http://stackoverflow.com/questions/6269383/how-to-insert-a-string-of-characters-into-a-text-file-using-python"
     ]
    },
    {
     "cell_type": "markdown",
     "metadata": {},
     "source": [
      "### \ub370\uc774\ud130\ub97c \uc758\ubbf8\uc788\ub294 \ubb49\uce58\ub85c \uc798\ub77c\ub0b4\uae30\n",
      "\n",
      "- \uc2e4\ud5d8 \ub2e8\uacc4\uc5d0\uc11c \uc18d\ub3c4\ub97c \uc62c\ub9ac\uae30 \uc704\ud574, 12GB \ud30c\uc77c\ub85c \ubd84\ub958 \uc544\uc774\ub514\uc5b4\ub97c \ud3c9\uac00\ud560 \ud544\uc694\ub294 \uc5c6\uc74c\n",
      "- \ub300\uc2e0\uc5d0, \uc544\uc774\ub514\uc5b4\ub97c \ube60\ub974\uac8c \ud14c\uc2a4\ud2b8 \ud560 \uc218 \uc788\uc73c\uba74\uc11c \uac8c\uc2dc\ubb3c\uc758 \uc18d\uc131\uc744 \uc798 \uc720\uc9c0\ud558\uae30 \uc704\ud574 \uc5b4\ub5bb\uac8c \uc798\ub77c\ub0bc \uc218 \uc788\uc744\uae4c? \uace0\ubbfc\ud574\uc57c \ud568\n",
      "- \uc774\ub97c\ud14c\uba74 row \ud0dc\uadf8 \uc548\uc5d0 CreationDate\ub97c 2011 \uc774\ud6c4\ub85c \uc120\ud0dd\ud574 \ucd94\ucd9c\ud55c\ub2e4\uba74 6\ubc31\ub9cc \uac1c\uc758 \uac8c\uc2dc\ubb3c\uc744 \uc5bb\uc744 \uc218 \uc788\uc74c(2,323,184\uac1c \uc9c8\ubb38\uacfc 4,055,999\uac1c \ub2f5\ubcc0)\n",
      "- \uc774\ub294 \ud604\uc7ac\ub85c\uc11c \ucda9\ubd84\ud55c \ud6c8\ub828 \ub370\uc774\ud130\uac00 \ub428\n",
      "- \ub610\ud55c XML \ud3ec\ub9f7\uc774 \uc18d\ub3c4\ub97c \ub0ae\ucd94\uae30 \ub54c\ubb38\uc5d0 \uadf8\ub300\ub85c \uc791\uc5c5\ud560 \uc218\uac00 \uc5c6\uc74c\n",
      "- \ud3ec\ub9f7\uc774 \uac04\ub2e8\ud558\uba74 \ud560\uc218\ub85d \uc880 \ub354 \uc88b\uc544\uc9d0\n",
      "- \uc774\ub7ec\ud55c \uc774\uc720 \ub54c\ubb38\uc5d0 \ud30c\uc774\uc36c\uc758 cElementTree \ub97c \uc0ac\uc6a9\ud574 XML\uc744 \ud30c\uc2f1\ud558\uc5ec \ud0ed \uad6c\ubd84(tap-separated)\uc73c\ub85c \ub2e4\uc2dc \uc791\uc131\ud568"
     ]
    },
    {
     "cell_type": "markdown",
     "metadata": {},
     "source": [
      "### \uc18d\uc131\uc758 \uc0ac\uc804 \uc120\ud0dd\uacfc \ucc98\ub9ac\n",
      "\n",
      "- \ud615\ud3b8\uc5c6\ub294 \ub2f5\ubcc0\uacfc \uad1c\ucc2e\uc740 \ub2f5\ubcc0\uc744 \uacb0\uc815\ud560 \uc218 \uc788\ub3c4\ub85d \ubd84\ub958\uae30\ub97c \ub3c4\uc6b8 \uc218 \uc788\ub294 \uc18d\uc131\ub9cc\uc744 \uc720\uc9c0\ud574\uc57c \ud568\n",
      "- \ubd84\uba85\ud558\uac8c, \uc9c8\ubb38\uc5d0 \ub300\ud55c \uc801\uc808\ud55c \ub2f5\ubcc0\uc744 \uc9c0\uc815\ud558\ub294 \uc2dd\ubcc4 \uad00\ub828 \uc18d\uc131(identification-related attribute)\uc774 \ud544\uc694\ud568\n",
      "\n",
      "#### \uc18d\uc131\n",
      "\n",
      "- \uc608\ub97c \ub4e4\uc5b4, PostType\uc740 \uc9c8\ubb38\uacfc \ub2f5\ubcc0\uc744 \uad6c\ubcc4\ud558\ub294 \uc720\uc77c\ud55c \ud544\uc218 \uc694\uc18c \uc18d\uc131\uc784. \ub354\uc6b1\uc774, ParentId \uc18d\uc131\uc744 \uccb4\ud06c\ud574 \uc774\ub97c \uad6c\ubcc4\ud560 \uc218 \uc788\uc74c. \ub530\ub77c\uc11c 1\ub85c \uc124\uc815\ub41c \uc9c8\ubb38\uc744 \uad6c\ubcc4\ud558\uae30 \uc704\ud574 \ud544\uc694\n",
      "- CreationDate\ub294 \uc9c8\ubb38\uc744 \uc62c\ub9b0 \uc2dc\uac04\uacfc \uac01\uac01 \ub2f5\ubcc0\uc744 \uc62c\ub9b0 \uc2dc\uac04\uc758 \ucc28(time span)\ub97c \uacb0\uc815\ud560 \uc218 \uc788\ub294 \ud765\ubbf8\ub85c\uc6b4 \uc18d\uc131\n",
      "- Score\ub294 \ub2f9\uc5f0\ud788 \ucee4\ubba4\ub2c8\ud2f0\uc758 \ud3c9\uac00\ub97c \ub098\ud0c0\ub0b4\ub294 \uc911\uc694\ud55c \uc18d\uc131\uc784\n",
      "- ViewCount\ub294 \uc791\uc5c5\uc5d0 \ubcc4 \ub3c4\uc6c0\uc774 \ub418\uc9c0 \uc54a\ub294 \uc18d\uc131\uc784. \ubd84\ub958\uae30 \uc131\ub2a5\uc744 \uad6c\ubcc4\ud558\ub294 \ub370 \ub3c4\uc6c0\uc774 \ub41c\ub2e4\uace0 \ud558\ub354\ub77c\ub3c4 \ub2f5\ubcc0\uc744 \uc62c\ub9b4 \ub54c\ub294 \uc774 \uc815\ubcf4\ub97c \uac16\uace0 \uc788\uc9c0 \uc54a\uc74c. \uc774 \uc18d\uc131\uc744 \ubb34\uc2dc\ud558\uc790\n",
      "- Body\ub294 \uac00\uc7a5 \uba85\ud655\ud788, \uac00\uc7a5 \uc911\uc694\ud55c \uc815\ubcf4\ub97c \uac00\uc9c4 \uc18d\uc131. HTML\ub85c \uc778\ucf54\ub529\ub418\uc5b4 \uc788\uae30 \ub54c\ubb38\uc5d0 \ud3c9\ubb38\uc11c(plain text)\ub85c \ub514\ucf54\ub529\ud574\uc57c \ud568\n",
      "- OwnerUserId\ub294 \uc0ac\uc6a9\uc790 \uc758\uc874\uc801\uc778 \uc18d\uc131\uc744 \uc0ac\uc6a9\uc790 \uacc4\uc815\uacfc \uc5f0\uad00\uc2dc\ud0a4\uba74 \ub9e4\uc6b0 \uc720\uc6a9\ud558\uc9c0\ub9cc \uc6b0\ub9ac\uc5d0\uac8c\ub294 \ud544\uc694\ud558\uc9c0 \uc54a\uc74c. \uc5ec\uae30\uc11c \uc0ac\uc6a9\ud558\uc9c0 \uc54a\uc9c0\ub9cc \ub354 \ub098\uc740 \ubd84\ub958\uae30\ub97c \ub9cc\ub4e4\uae30 \uc704\ud574 \uc0ac\uc6a9\ud560 \uac83\uc744 \ucd94\ucc9c\ud568(\uc544\ub9c8\ub3c4 users.xml\uacfc \uc5f0\uad00\ud574\uc11c)\n",
      "- Title\uc740 \uc9c8\ubb38\uc5d0 \ub300\ud55c \uc57d\uac04\uc758 \uc815\ubcf4\uac00 \uc788\uc9c0\ub9cc \ubb34\uc2dc\ud568\n",
      "- CommentCount\ub294 \ubb34\uc2dc\ud568. ViewCount\uc640 \uc720\uc0ac\ud558\uace0, \uc774\uc804\uc5d0 \uc62c\ub9b0 \uac8c\uc2dc\ubb3c\ub85c \ubd84\ub958\uae30\uc5d0 \ub3c4\uc6c0\uc774 \ub418\uaca0\uc9c0\ub9cc \ub2f5\ubcc0\uc744 \uc62c\ub9ac\ub294 \uc2dc\uc810\uc5d0\ub294 \ubcc4 \ub3c4\uc6c0\uc774 \ub418\uc9c0 \uc54a\uc74c\n",
      "- AcceptedAnswerId \uc18d\uc131\uc740 Score \uc18d\uc131\uacfc \uc720\uc0ac\ud568. \ub2f5\ubcc0\uc758 \uc9c8\uc744 \ub098\ud0c0\ub0b8\ub2e4. \uac01 \uc9c8\ubb38\uc744 \uc774\ub85c\uc368 \uc811\uadfc\ud560 \uc218 \uc788\uae30 \ub54c\ubb38\uc5d0 \uc774 \uc18d\uc131\uc744 \uc720\uc9c0\ud558\uae30\ubcf4\ub2e4\ub294 IsAccepted\ub77c\ub294 \uc0c8\ub85c\uc6b4 \uc18d\uc131\uc744 \ub9cc\ub4ec. 0\uacfc 1\ub85c \ub2f5\ubcc0\uc744 \ub098\ud0c0\ub0b4\uba70 \uc9c8\ubb38\uc740 \ubb34\uc2dc(ParentId=1)"
     ]
    },
    {
     "cell_type": "code",
     "collapsed": false,
     "input": [
      "s = '''<row Id=\"4\" PostTypeId=\"1\" AcceptedAnswerId=\"7\" CreationDate=\"2008-07-31T21:42:52.667\" Score=\"305\" ViewCount=\"20324\" Body=\"&lt;p&gt;I want to use a track-bar to change a form's opacity.&lt;/p&gt;&#xA;&#xA;&lt;p&gt;This is my code:&lt;/p&gt;&#xA;&#xA;&lt;pre&gt;&lt;code&gt;decimal trans = trackBar1.Value / 5000;&#xA;this.Opacity = trans;&#xA;&lt;/code&gt;&lt;/pre&gt;&#xA;&#xA;&lt;p&gt;When I try to build it, I get this error:&lt;/p&gt;&#xA;&#xA;&lt;blockquote&gt;&#xA;  &lt;p&gt;Cannot implicitly convert type 'decimal' to 'double'.&lt;/p&gt;&#xA;&lt;/blockquote&gt;&#xA;&#xA;&lt;p&gt;I tried making &lt;code&gt;trans&lt;/code&gt; a &lt;code&gt;double&lt;/code&gt;, but then the control doesn't work. This code has worked fine for me in VB.NET in the past. &lt;/p&gt;&#xA;\" OwnerUserId=\"8\" LastEditorUserId=\"451518\" LastEditorDisplayName=\"Rich B\" LastEditDate=\"2014-07-28T10:02:50.557\" LastActivityDate=\"2014-07-28T10:02:50.557\" Title=\"When setting a form's opacity should I use a decimal or double?\" Tags=\"&lt;c#&gt;&lt;winforms&gt;&lt;type-conversion&gt;&lt;opacity&gt;\" AnswerCount=\"13\" CommentCount=\"1\" FavoriteCount=\"28\" CommunityOwnedDate=\"2012-10-31T16:42:47.213\" />'''"
     ],
     "language": "python",
     "metadata": {},
     "outputs": [],
     "prompt_number": 116
    },
    {
     "cell_type": "code",
     "collapsed": false,
     "input": [
      "import re"
     ],
     "language": "python",
     "metadata": {},
     "outputs": [],
     "prompt_number": 117
    },
    {
     "cell_type": "code",
     "collapsed": false,
     "input": [
      "# \ud604\uc7ac key\uac12\n",
      "re.findall(r'(\\w+)=\"[^\"]+\"', s)"
     ],
     "language": "python",
     "metadata": {},
     "outputs": [
      {
       "metadata": {},
       "output_type": "pyout",
       "prompt_number": 118,
       "text": [
        "['Id',\n",
        " 'PostTypeId',\n",
        " 'AcceptedAnswerId',\n",
        " 'CreationDate',\n",
        " 'Score',\n",
        " 'ViewCount',\n",
        " 'Body',\n",
        " 'OwnerUserId',\n",
        " 'LastEditorUserId',\n",
        " 'LastEditorDisplayName',\n",
        " 'LastEditDate',\n",
        " 'LastActivityDate',\n",
        " 'Title',\n",
        " 'Tags',\n",
        " 'AnswerCount',\n",
        " 'CommentCount',\n",
        " 'FavoriteCount',\n",
        " 'CommunityOwnedDate']"
       ]
      }
     ],
     "prompt_number": 118
    },
    {
     "cell_type": "markdown",
     "metadata": {},
     "source": [
      "- LastEditorUserId\n",
      "- LastEditorDisplayName\n",
      "- LastEditDate\n",
      "- LastActivityDate\n",
      "- Tags\n",
      "- FavoriteCount\n",
      "- CommunityOwnedDate"
     ]
    },
    {
     "cell_type": "code",
     "collapsed": false,
     "input": [
      "# \uc608\uc804 \ub370\uc774\ud130\ub294 11\uac1c\uc778\ub370 \ud604\uc7ac\ub294 18\uac1c\ub124\n",
      "len(re.findall(r'(\\w+)=\"[^\"]+\"', s))"
     ],
     "language": "python",
     "metadata": {},
     "outputs": [
      {
       "metadata": {},
       "output_type": "pyout",
       "prompt_number": 119,
       "text": [
        "18"
       ]
      }
     ],
     "prompt_number": 119
    },
    {
     "cell_type": "markdown",
     "metadata": {},
     "source": [
      "### 2011 - 2012\ub144 \ub370\uc774\ud130\ub9cc \ucd94\ucd9c"
     ]
    },
    {
     "cell_type": "code",
     "collapsed": false,
     "input": [
      "import re\n",
      "\n",
      "\n",
      "fname = '/Volumes/TimeMachine/tmp/stackoverflow/stackexchange/Posts.xml'\n",
      "year2012 = re.compile(r'CreationDate=\"2012-', re.MULTILINE | re.DOTALL)\n",
      "wfname = 'ch05/data/posts-2012.xml'"
     ],
     "language": "python",
     "metadata": {},
     "outputs": [],
     "prompt_number": 120
    },
    {
     "cell_type": "markdown",
     "metadata": {},
     "source": [
      "#### stackoverflow \ub370\uc774\ud130 \ud06c\uae30 \ubc0f \ubc94\uc704\n",
      "\n",
      "- \ud06c\uae30: 6G\n",
      "- \ub0a0\uc9dc: 2008-07-31 ~ 2014-09-14"
     ]
    },
    {
     "cell_type": "code",
     "collapsed": false,
     "input": [
      "!ls -l $fname"
     ],
     "language": "python",
     "metadata": {},
     "outputs": [
      {
       "output_type": "stream",
       "stream": "stdout",
       "text": [
        "ls: /Volumes/TimeMachine/tmp/stackoverflow/stackexchange/Posts.xml: No such file or directory\r\n"
       ]
      }
     ],
     "prompt_number": 121
    },
    {
     "cell_type": "code",
     "collapsed": false,
     "input": [
      "!head -n 4 $fname"
     ],
     "language": "python",
     "metadata": {},
     "outputs": [
      {
       "output_type": "stream",
       "stream": "stdout",
       "text": [
        "\ufeff<?xml version=\"1.0\" encoding=\"utf-8\"?>\r",
        "\r\n",
        "<posts>\r",
        "\r\n",
        "  <row Id=\"4\" PostTypeId=\"1\" AcceptedAnswerId=\"7\" CreationDate=\"2008-07-31T21:42:52.667\" Score=\"305\" ViewCount=\"20324\" Body=\"&lt;p&gt;I want to use a track-bar to change a form's opacity.&lt;/p&gt;&#xA;&#xA;&lt;p&gt;This is my code:&lt;/p&gt;&#xA;&#xA;&lt;pre&gt;&lt;code&gt;decimal trans = trackBar1.Value / 5000;&#xA;this.Opacity = trans;&#xA;&lt;/code&gt;&lt;/pre&gt;&#xA;&#xA;&lt;p&gt;When I try to build it, I get this error:&lt;/p&gt;&#xA;&#xA;&lt;blockquote&gt;&#xA;  &lt;p&gt;Cannot implicitly convert type 'decimal' to 'double'.&lt;/p&gt;&#xA;&lt;/blockquote&gt;&#xA;&#xA;&lt;p&gt;I tried making &lt;code&gt;trans&lt;/code&gt; a &lt;code&gt;double&lt;/code&gt;, but then the control doesn't work. This code has worked fine for me in VB.NET in the past. &lt;/p&gt;&#xA;\" OwnerUserId=\"8\" LastEditorUserId=\"451518\" LastEditorDisplayName=\"Rich B\" LastEditDate=\"2014-07-28T10:02:50.557\" LastActivityDate=\"2014-07-28T10:02:50.557\" Title=\"When setting a form's opacity should I use a decimal or double?\" Tags=\"&lt;c#&gt;&lt;winforms&gt;&lt;type-conversion&gt;&lt;opacity&gt;\" AnswerCount=\"13\" CommentCount=\"1\" FavoriteCount=\"28\" CommunityOwnedDate=\"2012-10-31T16:42:47.213\" />\r",
        "\r\n",
        "  <row Id=\"6\" PostTypeId=\"1\" AcceptedAnswerId=\"31\" CreationDate=\"2008-07-31T22:08:08.620\" Score=\"130\" ViewCount=\"10031\" Body=\"&lt;p&gt;I have an absolutely positioned &lt;code&gt;div&lt;/code&gt; containing several children, one of which is a relatively positioned &lt;code&gt;div&lt;/code&gt;. When I use a &lt;strong&gt;percentage-based width&lt;/strong&gt; on the child &lt;code&gt;div&lt;/code&gt;, it collapses to &lt;code&gt;0&lt;/code&gt; width on IE7, but not on Firefox or Safari. &lt;/p&gt;&#xA;&#xA;&lt;p&gt;If I use &lt;strong&gt;pixel width&lt;/strong&gt;, it works. If the parent is relatively positioned, the percentage width on the child works. &lt;/p&gt;&#xA;&#xA;&lt;p&gt;Is there something I'm missing here? &#xA;Is there an easy fix for this besides the &lt;em&gt;pixel-based width&lt;/em&gt; on the child? &#xA;Is there an area of the &lt;code&gt;CSS&lt;/code&gt; specification that covers this?&lt;/p&gt;&#xA;\" OwnerUserId=\"9\" LastEditorUserId=\"1350209\" LastEditorDisplayName=\"Rich B\" LastEditDate=\"2014-06-26T04:57:13.750\" LastActivityDate=\"2014-08-17T17:32:41.700\" Title=\"Why doesn't the percentage width child in absolutely positioned parent work?\" Tags=\"&lt;html&gt;&lt;css&gt;&lt;css3&gt;&lt;internet-explorer-7&gt;\" AnswerCount=\"5\" CommentCount=\"0\" FavoriteCount=\"7\" />\r",
        "\r\n"
       ]
      }
     ],
     "prompt_number": 67
    },
    {
     "cell_type": "code",
     "collapsed": false,
     "input": [
      "!tail -n 10 $fname"
     ],
     "language": "python",
     "metadata": {},
     "outputs": [
      {
       "output_type": "stream",
       "stream": "stdout",
       "text": [
        "^C\r\n"
       ]
      }
     ],
     "prompt_number": 114
    },
    {
     "cell_type": "code",
     "collapsed": false,
     "input": [
      "with open(fname, 'r') as f:            \n",
      "    lines = [line for line in f if year2012.search(line)]"
     ],
     "language": "python",
     "metadata": {},
     "outputs": [],
     "prompt_number": 22
    },
    {
     "cell_type": "code",
     "collapsed": false,
     "input": [
      "len(lines)"
     ],
     "language": "python",
     "metadata": {},
     "outputs": [
      {
       "metadata": {},
       "output_type": "pyout",
       "prompt_number": 59,
       "text": [
        "4576368"
       ]
      }
     ],
     "prompt_number": 59
    },
    {
     "cell_type": "code",
     "collapsed": false,
     "input": [
      "def write_xml(wfname, lines):\n",
      "    with open(wfname, 'w') as f:\n",
      "        f.write('<?xml version=\"1.0\" encoding=\"utf-8\"?>')\n",
      "        f.write('\\n')\n",
      "        f.write('<posts>')\n",
      "        f.write('\\n')\n",
      "        for line in lines:\n",
      "            f.write(line)\n",
      "        f.write('</posts>')\n",
      "        \n",
      "write_xml(wfname, lines)"
     ],
     "language": "python",
     "metadata": {},
     "outputs": [],
     "prompt_number": 53
    },
    {
     "cell_type": "code",
     "collapsed": false,
     "input": [
      "!ls -lh ch05/data "
     ],
     "language": "python",
     "metadata": {},
     "outputs": [
      {
       "output_type": "stream",
       "stream": "stdout",
       "text": [
        "total 12529208\r\n",
        "-rw-r--r--  1 re4lfl0w  staff   6.0G  1 20 03:49 posts-2012.xml\r\n"
       ]
      }
     ],
     "prompt_number": 25
    },
    {
     "cell_type": "code",
     "collapsed": false,
     "input": [
      "%cd ch05"
     ],
     "language": "python",
     "metadata": {},
     "outputs": [
      {
       "output_type": "stream",
       "stream": "stdout",
       "text": [
        "/Users/re4lfl0w/Documents/ipython/books/Building_Machine_Learning_Systems_with_Python/ch05\n"
       ]
      }
     ],
     "prompt_number": 11
    },
    {
     "cell_type": "code",
     "collapsed": false,
     "input": [
      "!pwd"
     ],
     "language": "python",
     "metadata": {},
     "outputs": [
      {
       "output_type": "stream",
       "stream": "stdout",
       "text": [
        "/Users/re4lfl0w/Documents/ipython/books/Building_Machine_Learning_Systems_with_Python/ch05\r\n"
       ]
      }
     ],
     "prompt_number": 12
    },
    {
     "cell_type": "code",
     "collapsed": false,
     "input": [
      "# %load so_xml_to_tsv.py"
     ],
     "language": "python",
     "metadata": {},
     "outputs": [],
     "prompt_number": 20
    },
    {
     "cell_type": "code",
     "collapsed": false,
     "input": [
      "# This code is supporting material for the book\n",
      "# Building Machine Learning Systems with Python\n",
      "# by Willi Richert and Luis Pedro Coelho\n",
      "# published by PACKT Publishing\n",
      "#\n",
      "# It is made available under the MIT License\n",
      "\n",
      "#\n",
      "# This script filters the posts and keeps those posts that are or belong\n",
      "# to a question that has been asked in 2011 or 2012.\n",
      "#\n",
      "\n",
      "import sys\n",
      "import os\n",
      "import re\n",
      "try:\n",
      "    import ujson as json  # UltraJSON if available\n",
      "except:\n",
      "    import json\n",
      "from dateutil import parser as dateparser\n",
      "\n",
      "from operator import itemgetter\n",
      "from xml.etree import cElementTree as etree\n",
      "from collections import defaultdict\n",
      "\n",
      "from data import DATA_DIR\n",
      "\n",
      "#filename = os.path.join(DATA_DIR, \"posts-2011-12.xml\")\n",
      "filename = os.path.join(DATA_DIR, \"posts-2012.xml\")\n",
      "print(\"Reading from xml %s\" % filename)\n",
      "filename_filtered = os.path.join(DATA_DIR, \"filtered.tsv\")\n",
      "print(\"Filtered: %s\" % filename_filtered)\n",
      "filename_filtered_meta = os.path.join(DATA_DIR, \"filtered-meta.json\")\n",
      "print(\"Meta: %s\" % filename_filtered_meta)\n",
      "\n",
      "q_creation = {}  # creation datetimes of questions\n",
      "q_accepted = {}  # id of accepted answer\n",
      "\n",
      "# question -> [(answer Id, IsAccepted, TimeToAnswer, Score), ...]\n",
      "meta = defaultdict(list)\n",
      "\n",
      "# regegx to find code snippets\n",
      "code_match = re.compile('<pre>(.*?)</pre>', re.MULTILINE | re.DOTALL)\n",
      "link_match = re.compile(\n",
      "    '<a href=\"http://.*?\".*?>(.*?)</a>', re.MULTILINE | re.DOTALL)\n",
      "img_match = re.compile('<img(.*?)/>', re.MULTILINE | re.DOTALL)\n",
      "tag_match = re.compile('<[^>]*>', re.MULTILINE | re.DOTALL)\n",
      "\n",
      "\n",
      "def filter_html(s):\n",
      "    num_code_lines = 0\n",
      "    link_count_in_code = 0\n",
      "    code_free_s = s\n",
      "\n",
      "    num_images = len(img_match.findall(s))\n",
      "\n",
      "    # remove source code and count how many lines\n",
      "    for match_str in code_match.findall(s):\n",
      "        num_code_lines += match_str.count('\\n')\n",
      "        code_free_s = code_match.sub(\"\", code_free_s)\n",
      "\n",
      "        # sometimes source code contain links, which we don't want to count\n",
      "        link_count_in_code += len(link_match.findall(match_str))\n",
      "\n",
      "    links = link_match.findall(s)\n",
      "    link_count = len(links)\n",
      "\n",
      "    link_count -= link_count_in_code\n",
      "\n",
      "    link_free_s = re.sub(\n",
      "        \" +\", \" \", tag_match.sub('', code_free_s)).replace(\"\\n\", \"\")\n",
      "\n",
      "    for link in links:\n",
      "        if link.lower().startswith(\"http://\"):\n",
      "            link_free_s = link_free_s.replace(link, '')\n",
      "\n",
      "    num_text_tokens = link_free_s.count(\" \")\n",
      "\n",
      "    return link_free_s, num_text_tokens, num_code_lines, link_count, num_images\n",
      "\n",
      "years = defaultdict(int)\n",
      "num_questions = 0\n",
      "num_answers = 0\n",
      "\n",
      "if sys.version_info.major < 3:\n",
      "    # Python 2, map() returns a list, which will lead to out of memory errors.\n",
      "    # The following import ensures that the script behaves like being executed\n",
      "    # with Python 3.\n",
      "    from itertools import imap as map\n",
      "\n",
      "\n",
      "def parsexml(filename):\n",
      "    global num_questions, num_answers\n",
      "\n",
      "    counter = 0\n",
      "\n",
      "    it = map(itemgetter(1),\n",
      "             iter(etree.iterparse(filename, events=('start',))))\n",
      "\n",
      "    root = next(it)  # get posts element\n",
      "\n",
      "    for elem in it:\n",
      "        if counter % 100000 == 0:\n",
      "            print(\"Processed %i <row/> elements\" % counter)\n",
      "\n",
      "        counter += 1\n",
      "\n",
      "        if elem.tag == 'row':\n",
      "            creation_date = dateparser.parse(elem.get('CreationDate'))\n",
      "\n",
      "            Id = int(elem.get('Id'))\n",
      "            PostTypeId = int(elem.get('PostTypeId'))\n",
      "            Score = int(elem.get('Score'))\n",
      "\n",
      "            if PostTypeId == 1:\n",
      "                num_questions += 1\n",
      "                years[creation_date.year] += 1\n",
      "\n",
      "                ParentId = -1\n",
      "                TimeToAnswer = 0\n",
      "                q_creation[Id] = creation_date\n",
      "                accepted = elem.get('AcceptedAnswerId')\n",
      "                if accepted:\n",
      "                    q_accepted[Id] = int(accepted)\n",
      "                IsAccepted = 0\n",
      "\n",
      "            elif PostTypeId == 2:\n",
      "                num_answers += 1\n",
      "\n",
      "                ParentId = int(elem.get('ParentId'))\n",
      "                if not ParentId in q_creation:\n",
      "                    # question was too far in the past\n",
      "                    continue\n",
      "\n",
      "                TimeToAnswer = (creation_date - q_creation[ParentId]).seconds\n",
      "\n",
      "                if ParentId in q_accepted:\n",
      "                    IsAccepted = int(q_accepted[ParentId] == Id)\n",
      "                else:\n",
      "                    IsAccepted = 0\n",
      "\n",
      "                meta[ParentId].append((Id, IsAccepted, TimeToAnswer, Score))\n",
      "\n",
      "            else:\n",
      "                continue\n",
      "\n",
      "            Text, NumTextTokens, NumCodeLines, LinkCount, NumImages = filter_html(\n",
      "                elem.get('Body'))\n",
      "\n",
      "            values = (Id, ParentId,\n",
      "                      IsAccepted,\n",
      "                      TimeToAnswer, Score,\n",
      "                      Text.encode(\"utf-8\"),\n",
      "                      NumTextTokens, NumCodeLines, LinkCount, NumImages)\n",
      "\n",
      "            yield values\n",
      "\n",
      "            root.clear()  # preserve memory\n",
      "\n",
      "with open(filename_filtered, \"w\") as f:\n",
      "    for values in parsexml(filename):\n",
      "        line = \"\\t\".join(map(str, values))\n",
      "        f.write(line + \"\\n\")\n",
      "\n",
      "with open(filename_filtered_meta, \"w\") as f:\n",
      "    json.dump(meta, f)\n",
      "\n",
      "print(\"years:\", years)\n",
      "print(\"#qestions: %i\" % num_questions)\n",
      "print(\"#answers: %i\" % num_answers)\n"
     ],
     "language": "python",
     "metadata": {},
     "outputs": []
    },
    {
     "cell_type": "code",
     "collapsed": false,
     "input": [
      "!python so_xml_to_tsv.py"
     ],
     "language": "python",
     "metadata": {},
     "outputs": [
      {
       "output_type": "stream",
       "stream": "stdout",
       "text": [
        "Reading from xml data/posts-2012.xml\r\n",
        "Filtered: data/filtered.tsv\r\n",
        "Meta: data/filtered-meta.json\r\n",
        "Processed 0 <row/> elements\r\n"
       ]
      },
      {
       "output_type": "stream",
       "stream": "stdout",
       "text": [
        "Processed 100000 <row/> elements\r\n"
       ]
      },
      {
       "output_type": "stream",
       "stream": "stdout",
       "text": [
        "Processed 200000 <row/> elements\r\n"
       ]
      },
      {
       "output_type": "stream",
       "stream": "stdout",
       "text": [
        "Processed 300000 <row/> elements\r\n"
       ]
      },
      {
       "output_type": "stream",
       "stream": "stdout",
       "text": [
        "Processed 400000 <row/> elements\r\n"
       ]
      },
      {
       "output_type": "stream",
       "stream": "stdout",
       "text": [
        "Processed 500000 <row/> elements\r\n"
       ]
      },
      {
       "output_type": "stream",
       "stream": "stdout",
       "text": [
        "Processed 600000 <row/> elements\r\n"
       ]
      },
      {
       "output_type": "stream",
       "stream": "stdout",
       "text": [
        "Processed 700000 <row/> elements\r\n"
       ]
      },
      {
       "output_type": "stream",
       "stream": "stdout",
       "text": [
        "Processed 800000 <row/> elements\r\n"
       ]
      },
      {
       "output_type": "stream",
       "stream": "stdout",
       "text": [
        "Processed 900000 <row/> elements\r\n"
       ]
      },
      {
       "output_type": "stream",
       "stream": "stdout",
       "text": [
        "Processed 1000000 <row/> elements\r\n"
       ]
      },
      {
       "output_type": "stream",
       "stream": "stdout",
       "text": [
        "Processed 1100000 <row/> elements\r\n"
       ]
      },
      {
       "output_type": "stream",
       "stream": "stdout",
       "text": [
        "Processed 1200000 <row/> elements\r\n"
       ]
      },
      {
       "output_type": "stream",
       "stream": "stdout",
       "text": [
        "Processed 1300000 <row/> elements\r\n"
       ]
      },
      {
       "output_type": "stream",
       "stream": "stdout",
       "text": [
        "Processed 1400000 <row/> elements\r\n"
       ]
      },
      {
       "output_type": "stream",
       "stream": "stdout",
       "text": [
        "Processed 1500000 <row/> elements\r\n"
       ]
      },
      {
       "output_type": "stream",
       "stream": "stdout",
       "text": [
        "Processed 1600000 <row/> elements\r\n"
       ]
      },
      {
       "output_type": "stream",
       "stream": "stdout",
       "text": [
        "Processed 1700000 <row/> elements\r\n"
       ]
      },
      {
       "output_type": "stream",
       "stream": "stdout",
       "text": [
        "Processed 1800000 <row/> elements\r\n"
       ]
      },
      {
       "output_type": "stream",
       "stream": "stdout",
       "text": [
        "Processed 1900000 <row/> elements\r\n"
       ]
      },
      {
       "output_type": "stream",
       "stream": "stdout",
       "text": [
        "Processed 2000000 <row/> elements\r\n"
       ]
      },
      {
       "output_type": "stream",
       "stream": "stdout",
       "text": [
        "Processed 2100000 <row/> elements\r\n"
       ]
      },
      {
       "output_type": "stream",
       "stream": "stdout",
       "text": [
        "Processed 2200000 <row/> elements\r\n"
       ]
      },
      {
       "output_type": "stream",
       "stream": "stdout",
       "text": [
        "Processed 2300000 <row/> elements\r\n"
       ]
      },
      {
       "output_type": "stream",
       "stream": "stdout",
       "text": [
        "Processed 2400000 <row/> elements\r\n"
       ]
      },
      {
       "output_type": "stream",
       "stream": "stdout",
       "text": [
        "Processed 2500000 <row/> elements\r\n"
       ]
      },
      {
       "output_type": "stream",
       "stream": "stdout",
       "text": [
        "Processed 2600000 <row/> elements\r\n"
       ]
      },
      {
       "output_type": "stream",
       "stream": "stdout",
       "text": [
        "Processed 2700000 <row/> elements\r\n"
       ]
      },
      {
       "output_type": "stream",
       "stream": "stdout",
       "text": [
        "Processed 2800000 <row/> elements\r\n"
       ]
      },
      {
       "output_type": "stream",
       "stream": "stdout",
       "text": [
        "Processed 2900000 <row/> elements\r\n"
       ]
      },
      {
       "output_type": "stream",
       "stream": "stdout",
       "text": [
        "Processed 3000000 <row/> elements\r\n"
       ]
      },
      {
       "output_type": "stream",
       "stream": "stdout",
       "text": [
        "Processed 3100000 <row/> elements\r\n"
       ]
      },
      {
       "output_type": "stream",
       "stream": "stdout",
       "text": [
        "Processed 3200000 <row/> elements\r\n"
       ]
      },
      {
       "output_type": "stream",
       "stream": "stdout",
       "text": [
        "Processed 3300000 <row/> elements\r\n"
       ]
      },
      {
       "output_type": "stream",
       "stream": "stdout",
       "text": [
        "Processed 3400000 <row/> elements\r\n"
       ]
      },
      {
       "output_type": "stream",
       "stream": "stdout",
       "text": [
        "Processed 3500000 <row/> elements\r\n"
       ]
      },
      {
       "output_type": "stream",
       "stream": "stdout",
       "text": [
        "Processed 3600000 <row/> elements\r\n"
       ]
      },
      {
       "output_type": "stream",
       "stream": "stdout",
       "text": [
        "Processed 3700000 <row/> elements\r\n"
       ]
      },
      {
       "output_type": "stream",
       "stream": "stdout",
       "text": [
        "Processed 3800000 <row/> elements\r\n"
       ]
      },
      {
       "output_type": "stream",
       "stream": "stdout",
       "text": [
        "Processed 3900000 <row/> elements\r\n"
       ]
      },
      {
       "output_type": "stream",
       "stream": "stdout",
       "text": [
        "Processed 4000000 <row/> elements\r\n"
       ]
      },
      {
       "output_type": "stream",
       "stream": "stdout",
       "text": [
        "Processed 4100000 <row/> elements\r\n"
       ]
      },
      {
       "output_type": "stream",
       "stream": "stdout",
       "text": [
        "Processed 4200000 <row/> elements\r\n"
       ]
      },
      {
       "output_type": "stream",
       "stream": "stdout",
       "text": [
        "Processed 4300000 <row/> elements\r\n"
       ]
      },
      {
       "output_type": "stream",
       "stream": "stdout",
       "text": [
        "Processed 4400000 <row/> elements\r\n"
       ]
      },
      {
       "output_type": "stream",
       "stream": "stdout",
       "text": [
        "Processed 4500000 <row/> elements\r\n"
       ]
      },
      {
       "output_type": "stream",
       "stream": "stdout",
       "text": [
        "('years:', defaultdict(<type 'int'>, {2012: 1679293}))\r\n",
        "#qestions: 1679293\r\n",
        "#answers: 2879974\r\n"
       ]
      }
     ],
     "prompt_number": 56
    },
    {
     "cell_type": "code",
     "collapsed": false,
     "input": [
      "%ll data"
     ],
     "language": "python",
     "metadata": {},
     "outputs": [
      {
       "output_type": "stream",
       "stream": "stdout",
       "text": [
        "total 16504488\r\n",
        "-rw-r--r--  1 re4lfl0w  staff    83489124  1 20 04:31 filtered-meta.json\r\n",
        "-rw-r--r--  1 re4lfl0w  staff  1951850017  1 20 04:31 filtered.tsv\r\n",
        "-rw-r--r--  1 re4lfl0w  staff  6414951823  1 20 04:14 posts-2012.xml\r\n"
       ]
      }
     ],
     "prompt_number": 71
    },
    {
     "cell_type": "markdown",
     "metadata": {},
     "source": [
      "### filtered.tsv \ud30c\uc77c \uad6c\uc870 \ubc0f \ub77c\uc778\uc218\n",
      "\n",
      "ID | ParentId | IsAccepted | TimeToAnswer | Score | Text | NumTextTokens | NumCodeLines | LinkCount | NumImages\n",
      "--- | --- | --- | --- | --- | --- | --- | --- | --- | ---\n",
      "8691144 | -1 | 0 | 0 | 4 | Possible Dupolicate: | 64 | 0 | 1 | 0\n",
      "8691158 | -1 | 0 | 0 | 0 | I am making | 86 | 0 | 0 | 0"
     ]
    },
    {
     "cell_type": "code",
     "collapsed": false,
     "input": [
      "!head -n 3 data/filtered.tsv"
     ],
     "language": "python",
     "metadata": {},
     "outputs": [
      {
       "output_type": "stream",
       "stream": "stdout",
       "text": [
        "8691144\t-1\t0\t0\t4\t Possible Duplicate: css rule to disable text selection highlighting On my homepage i have a script, which shows a clock at the top of my homepage. I dont like the fact that i can choose this clock with my mouse, see the picture.So i want to know if there is a way to completely prevent an html element from being selected by the mouse.\t64\t0\t1\t0\r\n",
        "8691149\t8691144\t1\t62\t11\tCSS can do that.\t3\t5\t0\t0\r\n",
        "8691158\t-1\t0\t0\t0\tI am making an ajax call to a php file on my server. That php file retrieves some info from various websites, so an ajax call can take 30 seconds to complete in the worst case. All I want to do is to set a timeout value for the ajax call and to trigger a function when timeout is reached. I think jQuery .complete is what I am looking for since it is called in any case but how to detect if it is called on timeout?\t86\t0\t0\t0\r\n"
       ]
      }
     ],
     "prompt_number": 83
    },
    {
     "cell_type": "code",
     "collapsed": false,
     "input": [
      "!cat data/filtered.tsv | wc -l"
     ],
     "language": "python",
     "metadata": {},
     "outputs": [
      {
       "output_type": "stream",
       "stream": "stdout",
       "text": [
        " 4336111\r\n"
       ]
      }
     ],
     "prompt_number": 84
    },
    {
     "cell_type": "markdown",
     "metadata": {},
     "source": [
      "- \ub9c8\uce68\ub0b4 \ub2e4\uc74c\uacfc \uac19\uc740 \ud3ec\ub9f7\uc744 \ub9cc\ub4e0\ub2e4.\n",
      "\n",
      "        Id <TAB> ParentId <TAB> IsAccepted <TAB> TimeToAnswer <TAB> Score <TAB> Text\n",
      "        \n",
      "- \uc138\ubd80\uc0ac\ud56d\uc744 \uad6c\uccb4\uc801\uc73c\ub85c \uad6c\ubd84\ud558\uae30 \uc704\ud574, so_xml_to_tsv.py \uc640 choose_instance.py\ub97c \ub9cc\ub4ec\n",
      "- \uac01 \uacfc\uc815\uc758 \uc18d\ub3c4\ub97c \ub192\uc774\uace0\uc790 \ub450 \ud30c\uc77c\ub85c \ub098\ub204\uc5c8\uc74c\n",
      "- meta.json\uc5d0 \ub515\uc154\ub108\ub9ac\ub97c \uc800\uc7a5\ud558\uace0, \uc801\ub2f9\ud55c \ud3ec\ub9f7\uc73c\ub85c \uc815\ubcf4\ub97c \uc77d\uae30 \uc704\ud574 \uc5ec\ud0c0 \ub370\uc774\ud130\uc640 \uac8c\uc2dc\ubb3c\uc758 Id\ub97c \uc5f0\uacb0\ud568\n",
      "- \uc774\ub97c\ud14c\uba74, \uac8c\uc2dc\ubb3c\uc758 \uc810\uc218\ub294 meta\\[Id\\]['Score']\uc5d0 \uc788\uc74c"
     ]
    },
    {
     "cell_type": "markdown",
     "metadata": {},
     "source": [
      "### filtered-meta.json \ud30c\uc77c \uad6c\uc870 \ubc0f \ub77c\uc778\uc218\n",
      "\n",
      "- \uc774\uac74 head \ub85c\ub3c4 \ud558\uc9c0\ub9d0\uc790. ipython \ub2e4\uc6b4 \ub428\n",
      "\n",
      "        {\"12582915\": [[12588219, 0, 18706, 1]], \"13281964\": [[13282752, 1, 5733, 3]], \"12582931\": [[12586523, 1, 11994, 1]], \"12582939\": [[12583007, 0, 302, 1], [12583116, 0, 721, 2], [12583316, 1, 1417, 2]], \"12582943\": [[12583037, 0, 418, 0], [12584624, 0, 5796, 0], [12634226, 1, 62253, 0]], \"12582947\": [[12584881, 1, 6504, 3]], \"12582950\": [[12881654, 1, 81618, 2]], \"12582955\": [[12582989, 1, 152, 0]], \"12582956\": [[12582964, 1, 35, 21]], \"12582959\": [[12583318, 1, 1341, 0]],"
     ]
    },
    {
     "cell_type": "code",
     "collapsed": false,
     "input": [
      "# %load chose_instances.py"
     ],
     "language": "python",
     "metadata": {},
     "outputs": [],
     "prompt_number": 18
    },
    {
     "cell_type": "code",
     "collapsed": false,
     "input": [
      "# This code is supporting material for the book\n",
      "# Building Machine Learning Systems with Python\n",
      "# by Willi Richert and Luis Pedro Coelho\n",
      "# published by PACKT Publishing\n",
      "#\n",
      "# It is made available under the MIT License\n",
      "\n",
      "import os\n",
      "try:\n",
      "    import ujson as json  # UltraJSON if available\n",
      "except:\n",
      "    import json\n",
      "import sys\n",
      "from collections import defaultdict\n",
      "\n",
      "try:\n",
      "    import enchant\n",
      "    speller = enchant.Dict(\"en_US\")\n",
      "\n",
      "except:\n",
      "    print(\"\"\"\\\n",
      "Enchant is not installed, which is not a problem since spell correction features\n",
      "will not be used in the chapter. If, however, you want to experiment with them\n",
      "(highly encouraged!), you can get the library from http://packages.python.org/pyenchant/.\n",
      "\"\"\")\n",
      "\n",
      "    class EnchantMock:\n",
      "\n",
      "        def __init__(self):\n",
      "            pass\n",
      "\n",
      "        def check(self, word):\n",
      "            return True\n",
      "    speller = EnchantMock()\n",
      "\n",
      "from data import chosen, chosen_meta, filtered, filtered_meta\n",
      "\n",
      "filtered_meta = json.load(open(filtered_meta, \"r\"))\n",
      "\n",
      "\n",
      "def misspelled_fraction(p):\n",
      "    tokens = p.split()\n",
      "    if not tokens:\n",
      "        return 0.0\n",
      "    return 1 - float(sum(speller.check(t) for t in tokens)) / len(tokens)\n",
      "\n",
      "\n",
      "def data(filename, col=None):\n",
      "    for line in open(filename, \"r\"):\n",
      "        data = line.strip().split(\"\\t\")\n",
      "\n",
      "        # check format\n",
      "        Id, ParentId, IsAccepted, TimeToAnswer, Score, Text, NumTextTokens, NumCodeLines, LinkCount, NumImages = data\n",
      "\n",
      "        if col:\n",
      "            yield data[col]\n",
      "        else:\n",
      "            yield data\n",
      "\n",
      "posts_to_keep = set()\n",
      "found_questions = 0\n",
      "\n",
      "num_qestion_sample = 1000\n",
      "\n",
      "# keep the best and worst, but only if we have one with positive and one with negative score\n",
      "# filter_method = \"negative_positive\"\n",
      "\n",
      "# if true, only keep the lowest scoring answer per class in addition to the accepted one\n",
      "# filter_method = \"only_one_per_class \"\n",
      "\n",
      "# if not None, specifies the number of unaccepted per question\n",
      "# filter_method = \"sample_per_question\"\n",
      "filter_method = \"negative_positive\"  # warning: this does not retrieve many!\n",
      "# filter_method = \"only_one_per_class\"\n",
      "MaxAnswersPerQuestions = 10  # filter_method == \"sample_per_question\"\n",
      "\n",
      "# filter_method = \"all\"\n",
      "\n",
      "# equal share of questions that are unanswered and those that are answered\n",
      "# filter_method = \"half-half\"\n",
      "\n",
      "unaccepted_scores = {}\n",
      "\n",
      "has_q_accepted_a = {}\n",
      "num_q_with_accepted_a = 0\n",
      "num_q_without_accepted_a = 0\n",
      "\n",
      "for ParentId, posts in filtered_meta.items():\n",
      "    assert ParentId != -1\n",
      "\n",
      "    if len(posts) < 2:\n",
      "        continue\n",
      "\n",
      "    ParentId = int(ParentId)\n",
      "    AllIds = set([ParentId])\n",
      "    AcceptedId = None\n",
      "    UnacceptedId = None\n",
      "    UnacceptedIds = []\n",
      "    UnacceptedScore = sys.maxsize\n",
      "\n",
      "    NegativeScoreIds = []\n",
      "    PositiveScoreIds = []\n",
      "\n",
      "    if filter_method == \"half-half\":\n",
      "\n",
      "        has_accepted_a = False\n",
      "        for post in posts:\n",
      "            Id, IsAccepted, TimeToAnswer, Score = post\n",
      "\n",
      "            if IsAccepted:\n",
      "                has_accepted_a = True\n",
      "                break\n",
      "\n",
      "        has_q_accepted_a[ParentId] = has_accepted_a\n",
      "\n",
      "        if has_accepted_a:\n",
      "            if num_q_with_accepted_a < num_qestion_sample / 2:\n",
      "                num_q_with_accepted_a += 1\n",
      "                posts_to_keep.add(ParentId)\n",
      "        else:\n",
      "            if num_q_without_accepted_a < num_qestion_sample / 2:\n",
      "                num_q_without_accepted_a += 1\n",
      "                posts_to_keep.add(ParentId)\n",
      "\n",
      "        if num_q_without_accepted_a + num_q_with_accepted_a > num_qestion_sample:\n",
      "            assert -1 not in posts_to_keep\n",
      "            break\n",
      "\n",
      "    else:\n",
      "\n",
      "        for post in posts:\n",
      "            Id, IsAccepted, TimeToAnswer, Score = post\n",
      "\n",
      "            if filter_method == \"all\":\n",
      "                AllIds.add(int(Id))\n",
      "\n",
      "            elif filter_method == \"only_one_per_class\":\n",
      "                if IsAccepted:\n",
      "                    AcceptedId = Id\n",
      "                elif Score < UnacceptedScore:\n",
      "                    UnacceptedScore = Score\n",
      "                    UnacceptedId = Id\n",
      "\n",
      "            elif filter_method == \"sample_per_question\":\n",
      "                if IsAccepted:\n",
      "                    AcceptedId = Id\n",
      "                else:\n",
      "                    UnacceptedIds.append(Id)\n",
      "\n",
      "            elif filter_method == \"negative_positive\":\n",
      "                if Score < 0:\n",
      "                    NegativeScoreIds.append((Score, Id))\n",
      "                elif Score > 0:\n",
      "                    PositiveScoreIds.append((Score, Id))\n",
      "\n",
      "            else:\n",
      "                raise ValueError(filter_method)\n",
      "\n",
      "        added = False\n",
      "        if filter_method == \"all\":\n",
      "            posts_to_keep.update(AllIds)\n",
      "            added = True\n",
      "        elif filter_method == \"only_one_per_class\":\n",
      "            if AcceptedId is not None and UnacceptedId is not None:\n",
      "                posts_to_keep.add(ParentId)\n",
      "                posts_to_keep.add(AcceptedId)\n",
      "                posts_to_keep.add(UnacceptedId)\n",
      "                added = True\n",
      "\n",
      "        elif filter_method == \"sample_per_question\":\n",
      "            if AcceptedId is not None and UnacceptedIds is not None:\n",
      "                posts_to_keep.add(ParentId)\n",
      "                posts_to_keep.add(AcceptedId)\n",
      "                posts_to_keep.update(UnacceptedIds[:MaxAnswersPerQuestions])\n",
      "                added = True\n",
      "\n",
      "        elif filter_method == \"negative_positive\":\n",
      "            if PositiveScoreIds and NegativeScoreIds:\n",
      "                posts_to_keep.add(ParentId)\n",
      "\n",
      "                posScore, posId = sorted(PositiveScoreIds)[-1]\n",
      "                posts_to_keep.add(posId)\n",
      "\n",
      "                negScore, negId = sorted(NegativeScoreIds)[0]\n",
      "                posts_to_keep.add(negId)\n",
      "                print(\"%i: %i/%i %i/%i\" % (ParentId, posId,\n",
      "                      posScore, negId, negScore))\n",
      "                added = True\n",
      "\n",
      "        if added:\n",
      "            found_questions += 1\n",
      "\n",
      "    if num_qestion_sample and found_questions >= num_qestion_sample:\n",
      "        break\n",
      "\n",
      "total = 0\n",
      "kept = 0\n",
      "\n",
      "already_written = set()\n",
      "chosen_meta_dict = defaultdict(dict)\n",
      "\n",
      "with open(chosen, \"w\") as f:\n",
      "    for line in data(filtered):\n",
      "        strId, ParentId, IsAccepted, TimeToAnswer, Score, Text, NumTextTokens, NumCodeLines, LinkCount, NumImages = line\n",
      "        Text = Text.strip()\n",
      "\n",
      "        total += 1\n",
      "\n",
      "        Id = int(strId)\n",
      "        if Id in posts_to_keep:\n",
      "            if Id in already_written:\n",
      "                print(Id, \"is already written\")\n",
      "                continue\n",
      "\n",
      "            if kept % 100 == 0:\n",
      "                print(kept)\n",
      "\n",
      "            # setting meta info\n",
      "            post = chosen_meta_dict[Id]\n",
      "            post['ParentId'] = int(ParentId)\n",
      "            post['IsAccepted'] = int(IsAccepted)\n",
      "            post['TimeToAnswer'] = int(TimeToAnswer)\n",
      "            post['Score'] = int(Score)\n",
      "            post['NumTextTokens'] = int(NumTextTokens)\n",
      "            post['NumCodeLines'] = int(NumCodeLines)\n",
      "            post['LinkCount'] = int(LinkCount)\n",
      "            post['MisSpelledFraction'] = misspelled_fraction(Text)\n",
      "            post['NumImages'] = int(NumImages)\n",
      "            post['idx'] = kept  # index into the file\n",
      "\n",
      "            if int(ParentId) == -1:\n",
      "                q = chosen_meta_dict[Id]\n",
      "\n",
      "                if not 'Answers' in q:\n",
      "                    q['Answers'] = []\n",
      "\n",
      "                if filter_method == \"half-half\":\n",
      "                    q['HasAcceptedAnswer'] = has_q_accepted_a[Id]\n",
      "\n",
      "            else:\n",
      "                q = chosen_meta_dict[int(ParentId)]\n",
      "\n",
      "                if int(IsAccepted) == 1:\n",
      "                    assert 'HasAcceptedAnswer' not in q\n",
      "                    q['HasAcceptedAnswer'] = True\n",
      "\n",
      "                if 'Answers' not in q:\n",
      "                    q['Answers'] = [Id]\n",
      "                else:\n",
      "                    q['Answers'].append(Id)\n",
      "\n",
      "            f.writelines(\"%s\\t%s\\n\" % (Id, Text))\n",
      "            kept += 1\n",
      "\n",
      "with open(chosen_meta, \"w\") as fm:\n",
      "    json.dump(chosen_meta_dict, fm)\n",
      "\n",
      "print(\"total=\", total)\n",
      "print(\"kept=\", kept)\n"
     ],
     "language": "python",
     "metadata": {},
     "outputs": []
    },
    {
     "cell_type": "code",
     "collapsed": false,
     "input": [
      "# %run chose_instances.py"
     ],
     "language": "python",
     "metadata": {},
     "outputs": [
      {
       "output_type": "stream",
       "stream": "stdout",
       "text": [
        "Enchant is not installed, which is not a problem since spell correction features\n",
        "will not be used in the chapter. If, however, you want to experiment with them\n",
        "(highly encouraged!), you can get the library from http://packages.python.org/pyenchant/.\n",
        "\n",
        "12812124: 12812262/3 12812272/-1"
       ]
      },
      {
       "output_type": "stream",
       "stream": "stdout",
       "text": [
        "\n",
        "10290620: 10291646/1 10291232/-1\n",
        "14004972: 14070588/1 14005061/-1\n",
        "11731786: 11731856/1 11731821/-1\n",
        "14025846: 14025910/2 14025882/-1\n",
        "8888214: 8888258/6 8888351/-1\n",
        "12106355: 12164118/7 12213869/-3\n",
        "11036522: 11036812/2 11036567/-2\n",
        "8981607: 8985181/1 8981837/-1\n",
        "9970409: 12059042/2 9994318/-1\n",
        "12883733: 12883822/3 12883815/-1\n",
        "9393607: 9394625/10 9393662/-1\n",
        "8740085: 8740110/9 8740182/-5\n",
        "9197814: 9198987/29 9197862/-1\n",
        "11487312: 11487422/8 11488077/-1\n",
        "9573195: 9573294/2 9573263/-1\n",
        "9752790: 9752844/2 9753018/-1\n",
        "12519927: 12520234/2 12519968/-2\n",
        "9451612: 9451646/1 9451634/-1\n",
        "11937097: 11937146/2 11937137/-1\n",
        "11792483: 11793688/1 11792670/-1\n",
        "10257594: 10257627/10 10257686/-1\n",
        "8872074: 8872191/4 8872123/-1\n",
        "8872070: 8893424/1 8891891/-1\n",
        "10337066: 10337183/3 10337156/-1\n",
        "12309800: 13525121/2 12317932/-1\n",
        "13478607: 13480435/1 13478950/-1\n",
        "9321612: 9442648/4 9400467/-2\n",
        "9999164: 10015276/2 9999262/-1\n",
        "9793642: 9793856/1 13741735/-2\n",
        "13696796: 13696844/2 13697346/-1\n",
        "9575249: 9575329/3 9575351/-1\n",
        "9939888: 9940064/3 9939954/-3\n",
        "13458507: 13459134/2 13468622/-1\n",
        "13586726: 13589329/5 13586876/-1\n",
        "12679777: 12679878/6 12679839/-1\n",
        "11768087: 11768134/6 11768130/-1\n",
        "10508846: 10508888/3 11425238/-1\n",
        "11122668: 11122802/1 11122702/-1\n",
        "12801437: 12802089/1 12802093/-1\n",
        "8939463: 8939608/4 8939579/-1\n",
        "11176880: 11177938/4 11185693/-2\n",
        "13586884: 13586982/2 13586937/-1\n",
        "8978248: 8978478/3 8978375/-1\n",
        "8978820: 9152487/1 8979910/-1\n",
        "12860540: 12860617/6 12860628/-2\n",
        "13806788: 13806900/2 13806824/-1\n",
        "13926973: 13927299/1 13927010/-1\n",
        "13526711: 13527075/4 13529265/-1\n",
        "11903558: 11903687/1 11904467/-1\n",
        "9576839: 9577057/2 9576880/-1\n",
        "11320108: 11329620/2 11323346/-1\n",
        "13897362: 13897376/9 13897389/-1\n",
        "13863264: 13863353/4 13863316/-2\n",
        "10311521: 11407491/12 10311772/-1\n",
        "11783871: 11787340/3 11783925/-1\n",
        "9797753: 10005130/1 9800651/-1\n",
        "12406372: 12406415/5 12406433/-1\n",
        "10306931: 10307044/2 10306989/-1\n",
        "10000428: 10001744/6 10000483/-1\n",
        "11859872: 12263320/2 11861460/-1\n",
        "12964820: 13218743/15 12964853/-3\n",
        "11073727: 11073785/1 11073867/-1\n",
        "8947272: 8947485/8 8947405/-2\n",
        "9140626: 9140654/17 13810549/-3\n",
        "13558834: 13568441/3 13558906/-1\n",
        "12107549: 12109265/2 12235317/-1\n",
        "8778554: 8778623/3 8778583/-1\n",
        "11657492: 11657535/4 11657548/-2\n",
        "12156836: 12156919/5 12156900/-1\n",
        "10861834: 10861941/1 10861848/-1\n",
        "9043909: 9558585/3 9046931/-2\n",
        "10412948: 10424242/3 10414416/-1\n",
        "9830455: 9830656/2 9830495/-2\n",
        "11047756: 11047810/13 11047951/-4\n",
        "13971728: 13972124/2 13972009/-1\n",
        "9666647: 9667009/4 9667057/-4\n",
        "11728812: 11728990/1 11728918/-2\n",
        "8930317: 8930442/3 8930394/-1\n",
        "12793936: 13215153/1 12794307/-1\n",
        "12793931: 12794415/3 12793979/-1\n",
        "9815502: 9815583/2 9815576/-2\n",
        "12028150: 12029169/1 12028343/-1\n",
        "9303584: 9303894/6 9303620/-2\n",
        "11010683: 11010791/14 11010733/-1\n",
        "9629215: 9629319/3 9629365/-2\n",
        "12709004: 12709363/3 12709076/-5\n",
        "12483843: 12483864/9 12483898/-1\n",
        "10267291: 10267380/22 10267345/-7\n",
        "11324018: 11324785/8 11324652/-4\n",
        "11044304: 11044525/9 11044375/-1\n",
        "12553173: 12553186/26 12553202/-1\n",
        "10638176: 10638238/4 10638306/-1\n",
        "9728162: 9731968/1 9728272/-1\n",
        "12275237: 12276179/1 12275329/-2\n",
        "12275239: 12275301/3 12275571/-1\n",
        "12873548: 12873613/1 12873828/-1\n",
        "11708251: 11708273/3 11708282/-1\n",
        "12455850: 12518053/2 12468418/-2\n",
        "12287885: 12288158/3 12287940/-2\n",
        "8939245: 8939279/3 8939290/-2\n",
        "10654992: 10655006/27 10655171/-3\n",
        "9480325: 10736988/22 9482552/-1\n",
        "12825605: 12825628/4 12825788/-1\n",
        "13336328: 13336526/3 13336360/-1\n",
        "13036880: 13036932/5 13227523/-1\n",
        "12200368: 12203184/1 12201197/-1\n",
        "12658190: 12658198/5 12658489/-1\n",
        "12253759: 12253811/2 12253817/-5\n",
        "9938967: 9940670/2 9939047/-1\n",
        "8806436: 8806757/3 8806522/-1\n",
        "13015870: 13016015/4 13015948/-3\n",
        "8707503: 8707531/4 8708162/-1\n",
        "10736631: 10736689/2 10743023/-1\n",
        "9493095: 9502020/1 9494901/-1\n",
        "12059772: 12060200/1 12059974/-1\n",
        "9530773: 9530888/5 9530930/-1\n",
        "13805720: 13805760/3 13805825/-1\n",
        "10071001: 10858156/4 10071039/-4\n",
        "11795446: 11795822/1 11795741/-1\n",
        "9307543: 9309475/3 9307585/-1\n",
        "13127113: 13127238/5 13127181/-1\n",
        "12056185: 12056246/5 12056262/-1\n",
        "9593787: 9593895/5 9595742/-1\n",
        "14045390: 14045431/6 14045418/-5\n",
        "12109536: 12115155/2 12110007/-1\n",
        "9475997: 9476023/4 9476024/-1\n",
        "8751355: 8751433/1 8759506/-1\n",
        "12110364: 12110622/3 12110606/-1\n",
        "11764092: 11765271/2 11770020/-1\n",
        "13629507: 13788495/11 13677482/-1\n",
        "11478067: 11478090/6 11478087/-1\n",
        "8719255: 8719320/2 8719285/-1\n",
        "13644812: 13644989/3 13644941/-1\n",
        "9653461: 9653534/3 9658705/-1\n",
        "8884782: 8884847/2 8884862/-1\n",
        "13536262: 13536328/6 13536311/-1\n",
        "11559351: 11559525/6 11560209/-1\n",
        "13713788: 13714036/2 13714052/-1\n",
        "11792946: 11910262/1 11793156/-2\n",
        "10372810: 10377227/2 10372822/-1\n",
        "13119808: 13119960/3 13120524/-2\n",
        "9204169: 9204184/1 9212156/-1\n",
        "11733814: 11733972/5 11734657/-1\n",
        "9738923: 9738996/3 9739008/-2\n",
        "11910529: 11910713/1 11910571/-1\n",
        "12028082: 12028262/1 12028145/-1\n",
        "10082383: 10082549/24 13150517/-1\n",
        "13365134: 13366666/8 13365198/-2\n",
        "12852691: 12853019/1 12852725/-2\n",
        "8731722: 8731751/2 8732145/-1\n",
        "9390602: 9390678/10 9390718/-1\n",
        "13279531: 13279787/3 13279672/-1\n",
        "13702417: 13716896/24 13702501/-1\n",
        "12482961: 12482991/18 12483101/-1\n",
        "9577317: 9577548/14 9577776/-3\n",
        "11582129: 11587438/1 11582175/-2\n",
        "11166198: 11166445/1 11166274/-1\n",
        "13323846: 13335884/1 13324092/-2\n",
        "12038586: 12043556/1 12038933/-1\n",
        "14063791: 14063890/21 14063944/-2\n",
        "12782227: 12782382/4 12782411/-1\n",
        "9010828: 9030987/1 9032562/-1\n",
        "11916848: 11917097/4 11917112/-1\n",
        "14088822: 14088873/1 14088840/-2\n",
        "12431949: 12432018/3 12432042/-1\n",
        "10537070: 10537409/2 10537639/-1\n",
        "12559121: 12559174/1 12559191/-1\n",
        "9151402: 9151497/4 9151416/-1\n",
        "9886464: 9886521/4 9886516/-1\n",
        "12449377: 12449468/14 12449489/-4\n",
        "11522946: 11523006/3 11523160/-2\n",
        "9839176: 9839568/5 9839272/-2\n",
        "11155342: 11166549/1 11155608/-2\n",
        "9635121: 9635967/1 9635711/-1\n",
        "11445287: 11528721/25 11445361/-2\n",
        "10921250: 10921449/2 10921332/-1\n",
        "10815732: 10815776/3 10815870/-2\n",
        "10005291: 10026951/4 11700969/-2\n",
        "12191910: 12192144/2 12192070/-1\n",
        "13392038: 13392127/6 13392542/-1\n",
        "13929518: 13929609/28 13929567/-4\n",
        "13908379: 13908513/6 14066069/-1\n",
        "10733892: 10734001/3 10734646/-1\n",
        "10889216: 10889296/3 10890618/-1\n",
        "12621495: 12621609/1 12621530/-1\n",
        "13110264: 13110818/1 13110310/-1\n",
        "11509343: 11509722/1 11509389/-1\n",
        "9278722: 9278918/1 9278774/-1\n",
        "10279164: 10627421/18 10992738/-2\n",
        "10279165: 10279213/3 10279236/-1\n",
        "11700694: 11700708/2 11700726/-1\n",
        "9877301: 9877882/24 9877415/-2\n",
        "10820488: 10823152/12 10842785/-1\n",
        "13363747: 13363877/5 13363801/-2\n",
        "8852501: 8852654/5 8852570/-1\n",
        "13853291: 13853309/2 13853410/-1\n",
        "11443226: 11670278/1 11444256/-1\n",
        "13792827: 13792850/1 13793102/-1\n",
        "13223483: 13223524/1 13223523/-1\n",
        "11806196: 11806228/2 13316626/-1\n",
        "9927429: 9927535/1 9927578/-1\n",
        "11963148: 12550220/3 11963538/-2\n",
        "10905284: 10905785/1 10913850/-1"
       ]
      },
      {
       "output_type": "stream",
       "stream": "stdout",
       "text": [
        "\n",
        "12550304: 12550348/3 12550330/-1\n",
        "10266959: 10267371/11 10267258/-1\n",
        "12329464: 12329472/7 12329487/-2\n",
        "13045026: 13045125/2 13045221/-1\n",
        "13073118: 13073315/1 13073150/-2\n",
        "10850587: 10851444/2 10853204/-1\n",
        "13615420: 13618686/1 13615897/-1\n",
        "12172084: 12172206/7 12172211/-1\n",
        "9381387: 9381923/1 9381894/-1\n",
        "9382897: 9383062/7 9383089/-1\n",
        "8992924: 8993136/2 8993233/-3\n",
        "10569278: 10775706/2 10775483/-1\n",
        "9938094: 10136217/1 12742648/-1\n",
        "8857874: 8858053/3 8858002/-1\n",
        "10740288: 10741280/1 10740862/-1\n",
        "9945691: 9946238/26 9945744/-3\n",
        "9625440: 9625500/2 9626407/-1\n",
        "8911604: 8911959/3 8911737/-1\n",
        "13346050: 13346161/1 13346141/-1\n",
        "9254461: 9254479/6 9254648/-1\n",
        "9879825: 9880276/25 9880129/-2\n",
        "9927772: 9930249/4 9927883/-1\n",
        "13340215: 13474195/1 13483718/-1\n",
        "11427362: 11427442/6 11427545/-1\n",
        "13065656: 13065723/2 13065754/-1\n",
        "10360913: 14052720/1 10370374/-1\n",
        "12446772: 12446791/10 12446931/-1\n",
        "11388470: 11388509/3 11388492/-1\n",
        "12819676: 12819885/5 12819925/-1\n",
        "12693857: 12693877/2 12693888/-1\n",
        "12224102: 12224115/4 12224148/-1\n",
        "11579089: 11579583/1 11579521/-2\n",
        "13332930: 13333778/2 13332992/-1\n",
        "11884362: 11884402/10 11884706/-1\n",
        "11376640: 11396554/8 11378195/-1\n",
        "12540424: 12594211/3 12541439/-1\n",
        "9736831: 9737540/1 9737062/-1\n",
        "11157152: 11157445/5 11157211/-2\n",
        "11157157: 12543341/1 11567761/-1\n",
        "11786981: 11787177/4 12403720/-3\n",
        "9008973: 9009052/1 9009065/-1\n",
        "13235412: 13236061/3 13235502/-1\n",
        "14041025: 14052714/5 14055820/-4\n",
        "14041020: 14041173/5 14041427/-1\n",
        "11610764: 11613263/4 11613298/-1\n",
        "10091259: 10091305/3 10091508/-1\n",
        "10041511: 10043428/2 10041612/-1\n",
        "12986746: 12986771/3 12986851/-1\n",
        "12861615: 12869455/14 12864937/-2\n",
        "13123399: 13123439/3 13123466/-1\n",
        "11935750: 11936153/1 11935820/-1\n",
        "12295901: 12296932/1 12296007/-3\n",
        "10286176: 10286219/1 10286253/-1\n",
        "11458024: 11458132/1 11458081/-3\n",
        "13114043: 13114108/13 13114080/-1\n",
        "12594645: 12594686/1 12595908/-1\n",
        "11077755: 11078075/1 11077818/-1\n",
        "12128057: 12128064/6 12128068/-3\n",
        "13574542: 13630453/6 13574691/-7\n",
        "10982104: 10982239/11 10982359/-1\n",
        "8976150: 8976805/5 8976297/-2\n",
        "11900147: 11900190/3 11900207/-1\n",
        "14049292: 14049319/5 14049337/-1\n",
        "8957762: 8957832/4 8957816/-1\n",
        "11240996: 11241093/3 11241053/-1\n",
        "10751102: 10751483/13 10751172/-1\n",
        "9155596: 9155689/3 9156624/-1\n",
        "9676371: 9676413/2 9676404/-1\n",
        "13841738: 13841762/5 13841798/-1\n",
        "11051575: 11051594/2 11051698/-1\n",
        "11195364: 11195735/1 11195531/-1\n",
        "8867043: 8867275/8 8868765/-1\n",
        "11716865: 11717600/2 11730083/-1\n",
        "13648066: 13648404/3 13648795/-1\n",
        "8763164: 8763294/2 8763235/-1\n",
        "13481460: 13481861/4 13482018/-1\n",
        "10610459: 10625135/3 10610850/-1\n",
        "11819608: 11819619/3 11819636/-2\n",
        "12888572: 12888695/3 12888677/-2\n",
        "9625598: 9625637/4 9625639/-1\n",
        "13139359: 13139535/3 13139593/-2\n",
        "9208244: 9210392/22 9208384/-1\n",
        "11009252: 11010393/3 11010305/-1\n",
        "11704971: 11705017/7 11705001/-2\n",
        "13933754: 13934077/1 13933839/-1\n",
        "12316953: 12320729/78 12325129/-1\n",
        "9618418: 9620197/2 9618487/-1\n",
        "13025448: 13025509/4 13025508/-1\n",
        "9853811: 11475993/1 9853843/-1\n",
        "13616243: 13624390/2 13617100/-2\n",
        "11778199: 11778263/5 11778303/-1\n",
        "12757449: 13350677/19 12951916/-3\n",
        "9772460: 9772753/2 9772580/-1\n",
        "13678028: 13678121/5 13678057/-2\n",
        "8866911: 8866983/7 8867708/-2\n",
        "10881651: 10881695/3 10881792/-1\n",
        "11371834: 11442879/9 11409593/-1\n",
        "9798657: 9798870/15 9798884/-1\n",
        "9330324: 9330428/3 9330424/-1\n",
        "9725248: 9728728/7 9725276/-3\n",
        "12965690: 12965710/5 12965701/-1\n",
        "12318057: 12319601/7 12319016/-4\n",
        "9265835: 9265964/2 9275410/-1\n",
        "13266225: 13266303/3 13266280/-1\n",
        "11998837: 11998923/1 11998873/-1\n",
        "8936363: 8937762/2 8937895/-1\n",
        "11500993: 11501154/8 11501144/-1\n",
        "11435200: 11435898/46 11435776/-2\n",
        "11933558: 11933690/3 11958097/-2\n",
        "10339542: 10339599/2 10339606/-1\n",
        "9051946: 9051966/4 9052005/-1\n",
        "9130110: 9130295/1 9130320/-1\n",
        "13520743: 13521545/1 13520813/-1\n",
        "13206926: 13486676/10 13208260/-1\n",
        "13737118: 13737952/2 13737917/-1\n",
        "13631159: 13631307/1 13632668/-1\n",
        "9559761: 9559912/1 9561152/-1\n",
        "9369088: 9369378/7 9369152/-1\n",
        "10675806: 10675856/2 12379031/-1\n",
        "14013451: 14013523/3 14013479/-1\n",
        "14013459: 14013875/1 14013592/-1\n",
        "9797212: 9797689/16 9797498/-14\n",
        "13244832: 13245029/5 13245041/-2\n",
        "9781576: 9782196/1 9781691/-1\n",
        "9749013: 9749132/11 9749206/-2\n",
        "9001666: 9002071/1 9001696/-1\n",
        "10024070: 10024086/6 10024111/-1\n",
        "10024072: 10024103/9 10025133/-2\n",
        "10295374: 10295416/3 10295448/-1\n",
        "13622040: 13632045/3 13622332/-1\n",
        "12300663: 12300734/3 12300743/-1\n",
        "14091293: 14091567/2 14091475/-1\n",
        "11751486: 11751527/40 11751555/-2\n",
        "10418509: 10418527/3 10418998/-1\n",
        "13194802: 13194929/1 13197928/-1\n",
        "9937953: 9938830/6 11536297/-1\n",
        "9331328: 9331397/8 9331395/-1\n",
        "10088500: 10088595/1 10088561/-1\n",
        "11558022: 11561978/1 11558161/-1\n",
        "11860856: 11861565/1 11861071/-2\n",
        "10546071: 10548207/3 10546131/-1\n",
        "13672405: 13672832/1 13672879/-1\n",
        "12454794: 12454932/73 12500554/-4\n",
        "12495134: 12495296/5 12495274/-1\n",
        "9943365: 9943694/2 9949084/-1\n",
        "11011684: 11015198/2 11014920/-1\n",
        "10439713: 10439764/3 10439751/-1\n",
        "13894528: 13896038/3 13894608/-1\n",
        "11008083: 11008104/3 11008126/-1\n",
        "11632731: 11633047/4 11632793/-1\n",
        "9435297: 9435362/2 9435333/-1\n",
        "11273123: 11273126/5 11273158/-1\n",
        "13277365: 13277441/4 13277420/-1\n",
        "12460745: 12460821/9 12461041/-1\n",
        "8972643: 8972745/4 11083552/-1\n",
        "10267046: 10268495/4 10938464/-2\n",
        "12192080: 12192134/3 12192118/-1\n",
        "9613628: 9613749/2 9613896/-1\n",
        "13170286: 13170349/1 13187809/-1\n",
        "11643950: 11643982/5 11644220/-1\n",
        "9580227: 9580388/1 9580338/-1\n",
        "10156478: 10156522/5 10156527/-1\n",
        "11746155: 11746289/2 11746294/-2\n",
        "11081860: 11081950/1 11081944/-1\n",
        "11294107: 11294181/22 11294158/-4\n",
        "8701834: 8834149/5 8749940/-2\n",
        "13540857: 13540918/3 13540915/-1\n",
        "13540858: 13540928/4 13541279/-1\n",
        "11275585: 11275707/2 11275657/-1\n",
        "12633894: 12633949/1 12633954/-1\n",
        "11905573: 11905613/7 11905710/-1\n",
        "11782666: 11782690/8 11782770/-5\n",
        "10392201: 10422191/7 10464608/-1\n",
        "11352056: 11352543/17 11352281/-1\n",
        "9206735: 9206766/8 9206779/-1\n",
        "13976765: 13977479/2 13977329/-1\n",
        "8756694: 8756889/3 8756803/-1\n",
        "10110098: 10111708/2 10110583/-2\n",
        "9738307: 9738355/3 9738437/-1\n",
        "10067734: 10067811/1 10068113/-1\n",
        "13182177: 13182294/3 13182612/-1\n",
        "13188733: 13188745/4 13188754/-1\n",
        "9258525: 9320911/10 9258978/-1\n",
        "9025478: 9027318/2 9025928/-2\n",
        "10700657: 10700741/1 10700994/-1\n",
        "12907038: 12907426/5 12907137/-1\n",
        "13389306: 13389748/1 13389698/-1\n",
        "9952137: 10035988/15 10081343/-2\n",
        "10182573: 10182695/4 10182623/-1\n",
        "12820193: 12822675/3 12822653/-1\n",
        "11598556: 11598865/1 11598727/-2\n",
        "11677326: 11693550/3 11844680/-1\n",
        "11414238: 11414573/2 11414286/-1\n",
        "13057464: 13057477/4 13057503/-2\n",
        "11776661: 11776830/5 11780425/-1"
       ]
      },
      {
       "output_type": "stream",
       "stream": "stdout",
       "text": [
        "\n",
        "10718009: 10719138/16 10719167/-1\n",
        "11773116: 11773224/1 11773436/-1\n",
        "12729458: 12729569/2 12729570/-2\n",
        "12729459: 12729689/31 12729690/-2\n",
        "13178650: 13179065/1 13178891/-3\n",
        "8803781: 12250092/2 11450429/-1\n",
        "8787989: 8788509/1 8788107/-1\n",
        "9970146: 9979011/3 9970361/-1\n",
        "10999643: 10999739/5 10999697/-1\n",
        "13310316: 13310442/1 13310398/-1\n",
        "9701486: 9701690/4 9701578/-1\n",
        "11424725: 13183036/2 11488823/-7\n",
        "12232072: 12232759/1 12232595/-1\n",
        "14100700: 14105957/2 14100757/-1\n",
        "9667710: 9667779/7 9732441/-1\n",
        "9006007: 9041234/2 9006084/-1\n",
        "11153585: 11153748/1 11153611/-1\n",
        "10459708: 10459998/1 10459726/-2\n",
        "12969123: 13009743/1 13061732/-1\n",
        "11459975: 11460219/2 11460034/-3\n",
        "9419276: 9438255/2 9487800/-1\n",
        "11927583: 11927980/4 11927618/-2\n",
        "9668068: 9769687/3 9787683/-1\n",
        "12817027: 12818855/17 12817124/-3\n",
        "12444723: 12444779/10 12444763/-3\n",
        "12777934: 12778025/3 12778037/-1\n",
        "13990227: 13990276/4 13990310/-1\n",
        "9805313: 9869722/1 9805609/-1\n",
        "10381287: 10381369/1 10381339/-1\n",
        "13928575: 13962586/7 13929130/-1\n",
        "11853069: 11853198/11 11853157/-1\n",
        "8938318: 8938940/1 8938497/-3\n",
        "13761566: 13761990/2 13761761/-1\n",
        "8945537: 8945610/11 8945580/-1\n",
        "8910175: 8910202/6 8910833/-1\n",
        "9557088: 9557197/2 9557167/-1\n",
        "13774909: 13774931/3 13774915/-1\n",
        "8863806: 8864943/2 8863858/-1\n",
        "13699805: 13699914/5 13699862/-1\n",
        "10756119: 10756159/2 10756212/-2\n",
        "8710609: 8714955/1 8710682/-1\n",
        "11195407: 11195422/3 11195529/-1\n",
        "9215041: 9215920/2 9215075/-1\n",
        "13783404: 13783467/6 13783465/-1\n",
        "13138642: 13138731/3 13138784/-1\n",
        "12882298: 12882385/2 12882432/-1\n",
        "9576557: 9576582/8 12743831/-2\n",
        "8772160: 13884923/2 8797156/-1\n",
        "12947423: 12955549/2 12947635/-1\n",
        "12915855: 12927485/7 12917080/-1\n",
        "9801021: 9851080/4 9801101/-2\n",
        "11802807: 11802983/4 11804079/-1\n",
        "9444076: 9444111/2 9444299/-1\n",
        "13397544: 13397721/3 13397598/-1\n",
        "11179030: 12819363/15 13772440/-2\n",
        "8886796: 8886971/9 8886885/-1\n",
        "13205431: 13208851/3 13205499/-1\n",
        "14052473: 14052517/2 14052507/-1\n",
        "11949426: 11949491/4 11949483/-2\n",
        "12481441: 12481588/3 12481913/-1\n",
        "9030188: 9032952/2 9030379/-2\n",
        "10910822: 10910850/6 10910870/-1\n",
        "13829890: 13830031/5 13829948/-1\n",
        "12436228: 12439876/1 12436465/-1\n",
        "12730203: 12731685/1 12730387/-2\n",
        "12477474: 12477596/1 12477528/-1\n",
        "8790396: 8792264/2 8790662/-1\n",
        "8764348: 8815473/3 8777024/-4\n",
        "10515197: 10515323/1 10515310/-1\n",
        "10614575: 10614819/7 10720107/-4\n",
        "9321018: 9322398/1 9321276/-2\n",
        "11371172: 11371246/1 11371194/-1\n",
        "12414914: 12414984/3 12414976/-1\n",
        "11521422: 11521784/6 11521686/-1\n",
        "10273910: 12345408/12 10782733/-3\n",
        "8833053: 8836113/8 12842684/-1\n",
        "13536771: 13540825/2 13539873/-1\n",
        "13019482: 13019955/3 13019557/-2\n",
        "10355626: 10356170/5 11160533/-1\n",
        "9365449: 9365679/2 9365503/-1\n",
        "9962177: 9962318/1 9962241/-1\n",
        "10860244: 10861719/28 10860460/-1\n",
        "10360735: 10360776/6 10361516/-1\n",
        "11543641: 11557523/2 11543707/-1\n",
        "13038378: 13039046/2 13048551/-2\n",
        "9248358: 9250281/2 9248369/-1\n",
        "12097333: 12097348/4 12098938/-1\n",
        "13719152: 13719216/3 13719301/-1\n",
        "8815066: 9839299/2 8815154/-1\n",
        "12391090: 12391237/2 12391156/-1\n",
        "11097825: 11097845/4 11097872/-1\n",
        "12001289: 12574054/9 12003952/-1\n",
        "9719368: 9719396/4 9719479/-1\n",
        "10544315: 10544339/2 10645428/-1\n",
        "13685401: 13693628/3 13685605/-1\n",
        "13863667: 13864257/7 13864200/-1\n",
        "11214305: 11214650/7 11214350/-2\n",
        "8855494: 8856084/7 8855745/-1\n",
        "11365297: 11365461/3 11365373/-2\n",
        "9192767: 9192888/3 9192858/-1\n",
        "11137909: 11138554/3 11138120/-1\n",
        "13136231: 13136349/1 13250802/-1\n",
        "13136234: 13154282/1 13136342/-1\n",
        "11404130: 11404182/5 11404284/-2\n",
        "12632608: 12632969/1 12632677/-1\n",
        "12800573: 12800719/2 12800782/-2\n",
        "9661981: 9662047/2 9662010/-1\n",
        "12954578: 12954876/7 12955099/-1\n",
        "9318557: 9318936/2 9318648/-1\n",
        "10070739: 10070763/2 10070757/-1\n",
        "10310392: 10447961/1 10354875/-2\n",
        "10351772: 10351826/11 10351913/-2\n",
        "14077304: 14077371/1 14077420/-1\n",
        "13433904: 13457475/2 13434195/-2\n",
        "10275908: 10275988/1 10745442/-1\n",
        "10611506: 10611639/2 10611823/-1\n",
        "9569242: 9577932/5 9570724/-1\n",
        "9618379: 9618413/7 9618436/-1\n",
        "9238353: 9238402/2 9238374/-1\n",
        "12740268: 12740355/2 12740339/-1\n",
        "13308216: 13308234/6 13308238/-2\n",
        "10615948: 10616196/4 10616092/-3\n",
        "9746095: 9746117/2 9746148/-1\n",
        "10994324: 11125591/6 13163634/-2\n",
        "13260476: 13260495/1 13316689/-1\n",
        "10632867: 10633274/2 10634108/-1\n",
        "12937097: 12937285/1 12937293/-1\n",
        "13331702: 13331727/4 13331856/-2\n",
        "13022391: 13022488/1 13022487/-1\n",
        "10989718: 10989813/5 10993413/-4\n",
        "14058679: 14058840/7 14058801/-2\n",
        "10866444: 10866473/4 10866574/-1\n",
        "11001430: 11001552/3 11001570/-1\n",
        "11157386: 11160906/3 11157447/-2\n",
        "10174399: 10174455/12 10174507/-5\n",
        "9377169: 9377191/7 9377223/-1\n",
        "13327413: 13327448/1 13327512/-1\n",
        "14098711: 14101226/2 14100213/-1\n",
        "12349608: 12349652/1 12349679/-1\n",
        "11543823: 11544184/1 11544026/-2\n",
        "11138051: 13940119/2 11143429/-1\n",
        "9643498: 9645059/3 9643617/-1\n",
        "12689881: 12690190/3 12689948/-1\n",
        "12040808: 12047265/1 12040988/-1\n",
        "13847186: 13847472/1 13934916/-1\n",
        "11012822: 11012868/10 11013690/-2\n",
        "13705820: 13706043/3 13705966/-2\n",
        "12314988: 12315152/2 13648322/-1\n",
        "13257990: 13353874/20 13258089/-2\n",
        "10674308: 10674630/7 10674350/-1\n",
        "10851466: 10851578/4 10851573/-1\n",
        "10148849: 10148989/4 10148975/-1\n",
        "12400115: 12401503/6 12400961/-1\n",
        "12465328: 12465647/9 12465670/-3\n",
        "9344575: 9345152/2 9344630/-1\n",
        "9092868: 9093204/1 9093461/-1\n",
        "10342486: 10343021/18 10349693/-2\n",
        "12155196: 12155389/2 12155298/-1\n",
        "9300987: 9301195/1 9302954/-1\n",
        "10912693: 12791733/5 10913578/-1\n",
        "10003462: 10003860/11 10003520/-1\n",
        "9837786: 9838005/4 9837837/-1\n",
        "8769456: 8770320/1 8769555/-1\n",
        "13650610: 13651746/1 13650744/-1\n",
        "10641292: 10645935/2 10645090/-1\n",
        "13733658: 13733847/2 13733871/-1\n",
        "9767116: 9767789/1 9767272/-1\n",
        "12910542: 12918379/1 12915326/-1\n",
        "10232714: 10232759/3 10232812/-2\n",
        "12651817: 12651879/2 12651838/-1\n",
        "12842955: 12843225/4 12842992/-1\n",
        "11848252: 11848299/4 14011083/-1\n",
        "13793976: 13795028/1 13794829/-1\n",
        "13920209: 13921908/3 13920394/-1\n",
        "10651040: 11010613/2 10652482/-2\n",
        "9283717: 9283922/18 9283862/-2\n",
        "8923733: 8923832/4 8923804/-1\n",
        "9284073: 9284197/1 9284116/-1\n",
        "11815704: 11815876/1 11816911/-1\n",
        "11011786: 11011901/8 11011895/-1\n",
        "9506198: 9506269/3 9506238/-2\n",
        "10733070: 10733209/8 10733176/-1\n",
        "8802131: 8816031/4 8803195/-1\n",
        "14022921: 14023210/10 14023027/-2\n",
        "13272443: 13275802/1 13287472/-2\n",
        "10606146: 10606387/7 10606198/-1\n",
        "10891761: 10891966/3 10891780/-2\n",
        "13106243: 13106331/1 13107635/-1\n",
        "10174935: 10175039/6 10175001/-1\n",
        "13039552: 13039569/10 13039592/-1\n",
        "13966125: 13966202/1 13966155/-1\n",
        "12834675: 12836056/4 12834762/-1\n",
        "10514205: 10514292/1 10514325/-1\n",
        "11670542: 11671975/4 11670648/-1\n",
        "12803346: 12804125/5 12803396/-1\n",
        "10239468: 10239573/6 10239491/-2\n",
        "11571606: 11571952/3 11571628/-1\n",
        "9341500: 9569484/1 9582395/-1\n",
        "11645416: 11650550/4 11682929/-1\n",
        "9750441: 9750498/2 9750476/-2\n",
        "8813084: 8813255/3 8813228/-1\n",
        "12993920: 12994136/2 12994149/-1\n",
        "10410851: 10410994/2 11844917/-2\n",
        "13018392: 13018405/7 13018437/-3\n",
        "9139075: 9139099/32 9139094/-2\n",
        "9867617: 9867811/1 9867864/-1\n",
        "8959582: 8959597/2 8959607/-1\n",
        "12845061: 12845113/5 12845167/-1\n",
        "10116286: 11483556/7 10123382/-8\n",
        "9399165: 9403575/2 9399375/-1"
       ]
      },
      {
       "output_type": "stream",
       "stream": "stdout",
       "text": [
        "\n",
        "11124007: 11124051/2 11124048/-1\n",
        "10496207: 11797549/1 10497075/-1\n",
        "11698213: 11698237/7 11698494/-1\n",
        "9545421: 9545475/1 9545501/-2\n",
        "10500744: 10500974/2 10501035/-2\n",
        "13052519: 13052652/1 13052839/-1\n",
        "11287191: 11287254/4 11287236/-1\n",
        "10360946: 10361090/1 10361037/-1\n",
        "10276436: 10284094/2 12219900/-1\n",
        "10059596: 10059634/4 10059603/-1\n",
        "12450199: 12450289/2 12450236/-1\n",
        "13658244: 13658414/1 13658373/-1\n",
        "10423867: 10424614/4 10424538/-1\n",
        "9824172: 10089358/11 9824205/-2\n",
        "10087423: 10087586/2 10087565/-1\n",
        "9287288: 9288194/2 9287354/-3\n",
        "11905239: 11905269/5 11905676/-1\n",
        "12222790: 12222932/3 12222849/-1\n",
        "14001054: 14010151/1 14001927/-1\n",
        "11442273: 11449742/1 11446012/-1\n",
        "12368302: 12368442/3 12368513/-1\n",
        "9253904: 12869918/21 9253982/-1\n",
        "9353797: 9395771/1 9386098/-1\n",
        "12633903: 12634185/3 12634183/-1\n",
        "9745448: 9745569/1 9745489/-1\n",
        "12909307: 12909440/3 12909841/-1\n",
        "13363544: 13363933/3 13363680/-1\n",
        "11333218: 11334619/4 11333934/-1\n",
        "11400996: 11401147/2 11401010/-1\n",
        "10463201: 11432632/7 10463250/-1\n",
        "9049573: 9049605/6 9049743/-5\n",
        "12752692: 12816331/2 12757129/-2\n",
        "10752698: 10752720/3 10752793/-1\n",
        "12433947: 12434865/9 13593806/-1\n",
        "11803608: 11803731/1 11803684/-2\n",
        "13725087: 13749837/1 13755212/-1\n",
        "10838296: 10838967/5 10857484/-1\n",
        "9820825: 9821051/1 9823160/-1\n",
        "11009022: 11009182/13 11009087/-5\n",
        "8767634: 8767665/2 8767671/-1\n",
        "9951908: 9951961/5 9952018/-1\n",
        "11240178: 11240227/100 11240286/-1\n",
        "11240176: 11240491/2 11240302/-1\n",
        "13904437: 13904967/1 13904660/-1\n",
        "13602811: 13604248/2 13603610/-1\n",
        "12180428: 12180679/1 12180526/-1\n",
        "11506107: 11507292/9 11506798/-2\n",
        "9645775: 9645827/5 9645857/-1\n",
        "14018171: 14018426/5 14018214/-1\n",
        "10650532: 10650664/3 10650612/-1\n",
        "13809584: 13810271/1 13809646/-1\n",
        "10704808: 10705088/8 10705332/-1\n",
        "9966492: 9966511/3 9966514/-1\n",
        "13206462: 13206722/1 13206553/-1\n",
        "12411454: 12411483/3 12411524/-1\n",
        "11027938: 11028121/3 11028004/-1\n",
        "9373004: 9381671/7 9373220/-1\n",
        "8903508: 9157999/2 8979013/-1\n",
        "9616664: 9617007/1 9616843/-1\n",
        "12124810: 12125254/1 12125028/-1\n",
        "10854534: 10854670/5 10854617/-2\n",
        "12418146: 12418565/1 12418397/-1\n",
        "9361172: 9361254/2 9361284/-1\n",
        "8875662: 8876439/5 8875687/-4\n",
        "8709155: 8709190/7 11883391/-1\n",
        "10113100: 10130940/5 10119712/-1\n",
        "9602974: 9603105/4 9603029/-1\n",
        "13594899: 13594980/3 13595220/-1\n",
        "11544311: 11544461/5 11544733/-3\n",
        "11049768: 11049944/1 11049886/-1\n",
        "10412707: 10412843/3 10413182/-1\n",
        "10973315: 10973330/2 10973366/-1\n",
        "9668635: 9668794/1 9669060/-1\n",
        "13607177: 13607220/3 13607268/-2\n",
        "10909002: 10909021/13 10909055/-1\n",
        "12410408: 12440362/3 12412033/-5\n",
        "11081314: 11081612/2 11081365/-1\n",
        "8792053: 8792199/4 8792205/-2\n",
        "11719877: 11720804/2 11720191/-1\n",
        "10097318: 10097429/3 10097345/-1\n",
        "13166229: 13166255/5 13166249/-1\n",
        "9963080: 9963088/13 9963313/-1\n",
        "13194537: 13238948/7 13256698/-1\n",
        "9700857: 9700899/2 9700896/-1\n",
        "12172576: 12181195/1 12185938/-1\n",
        "10129623: 10130277/1 10129677/-1\n",
        "9770213: 9880946/35 9770302/-2\n",
        "11464103: 11464120/1 12119814/-2\n",
        "11700891: 11701022/8 11700926/-4\n",
        "12281533: 12281751/4 12281591/-2\n",
        "11861290: 11908112/1 11946396/-2\n",
        "10610050: 10611880/1 10628285/-1\n",
        "12171167: 12418011/3 12213897/-2\n",
        "11429351: 11429413/2 11429435/-1\n",
        "8987520: 8987613/1 8987612/-1\n",
        "10970655: 10970740/2 10973235/-2\n",
        "10359592: 10416172/1 10416608/-1\n",
        "12586829: 12587309/3 12587006/-1\n",
        "10992985: 10993120/3 10993153/-1\n",
        "13236158: 13237277/7 13236278/-1\n",
        "13236150: 13236249/1 13236221/-2\n",
        "12382190: 12382488/1 12382498/-1\n",
        "9506342: 9507455/1 9506446/-2\n",
        "9755971: 9756198/4 9756074/-1\n",
        "9755979: 13595248/1 12708449/-1\n",
        "13711127: 13763473/21 13711162/-4\n",
        "12622539: 12622784/21 12623150/-2\n",
        "12897013: 12897126/3 12897165/-1\n",
        "10765402: 10765500/4 10765465/-1\n",
        "12643304: 12643342/5 12643376/-1\n",
        "9475550: 9475679/2 9475656/-1\n",
        "11260601: 11260814/1 11260667/-1\n",
        "12576366: 12594982/1 12576437/-1\n",
        "12716538: 12716913/3 12716553/-2\n",
        "11055800: 11056252/6 11055900/-3\n",
        "12858776: 12858826/1 12858811/-1\n",
        "12775148: 12788771/1 12775239/-1\n",
        "8935962: 8936009/1 8936015/-1\n",
        "9106706: 9107243/5 9108328/-2\n",
        "8905733: 8905788/3 8905804/-1\n",
        "11700189: 11700240/5 11930956/-1\n",
        "11415809: 11416240/1 11416324/-1\n",
        "10775968: 10775976/2 10775984/-1\n",
        "9856704: 9856743/2 9856753/-1\n",
        "13997507: 14001641/5 13997797/-5\n",
        "10186420: 10186648/1 12245214/-1\n",
        "11324878: 11325605/6 11325012/-1\n",
        "12726172: 12726673/2 12729743/-1\n",
        "12564576: 12564683/8 12564678/-1\n",
        "10587824: 10648399/11 10601846/-1\n",
        "11835251: 11835365/6 11835425/-1\n",
        "9080470: 9080626/2 9080570/-1\n",
        "12642405: 12643091/4 12642529/-1\n",
        "10309198: 10309307/1 10309302/-1\n",
        "11454143: 11454452/3 11454425/-1\n",
        "14086723: 14086780/2 14086817/-1\n",
        "10045139: 10045220/2 10045199/-1\n",
        "11434124: 11435326/6 11434199/-1\n",
        "10835847: 10837818/1 10835965/-1\n",
        "10111218: 10113392/2 10117468/-1\n",
        "12508225: 12508242/6 12508290/-1\n",
        "9796648: 12772042/4 9799007/-1\n",
        "9301857: 9302132/2 9302059/-1\n",
        "10832191: 10832305/1 10832351/-1\n",
        "10632028: 10636869/1 10633846/-1\n",
        "8739705: 8739806/1 8739772/-1\n",
        "12509432: 12509521/3 12509524/-1\n",
        "11737925: 11738035/6 11738023/-1\n",
        "8854842: 8854873/4 8854905/-2\n",
        "9157853: 9158096/5 9157876/-1\n",
        "10779415: 10780040/1 10779452/-1\n",
        "13583415: 13583448/4 13583475/-1\n",
        "11589837: 11589989/2 11589854/-1\n",
        "14070442: 14070472/2 14070511/-2\n",
        "11067451: 11067469/6 11067477/-1\n",
        "12475665: 12476487/3 12475899/-1\n",
        "9428001: 9428302/2 9428181/-1\n",
        "10944907: 10944965/12 10944952/-3\n",
        "8694551: 8694567/1 8694565/-1\n",
        "9164893: 9164994/2 9165328/-3\n",
        "8983891: 8985779/1 8983907/-1\n",
        "12410716: 12410898/1 12410765/-1\n",
        "10619391: 10619601/1 10619504/-1\n",
        "13677145: 13677469/1 13677250/-1\n",
        "12595967: 12597874/4 13812019/-1\n",
        "12533640: 12534740/3 12533674/-1\n",
        "13612917: 13612959/6 13612950/-1\n",
        "9204948: 9205002/3 12540559/-1\n",
        "12463198: 12464623/1 12464706/-1\n",
        "10367236: 10367342/3 10367249/-2\n",
        "9414152: 9414495/9 10162326/-1"
       ]
      },
      {
       "output_type": "stream",
       "stream": "stdout",
       "text": [
        "\n",
        "10148328: 10148413/3 10148384/-1\n",
        "11125371: 11125563/4 11125516/-1\n",
        "9792409: 9792577/2 9792518/-2\n",
        "11462237: 11462260/1 11462315/-1\n",
        "9850317: 9850337/6 9850334/-1\n",
        "12606612: 12606628/6 12624412/-1\n",
        "11832684: 11832769/6 11832826/-1\n",
        "9750271: 9750540/1 9750307/-1\n",
        "11692952: 11709699/1 12525624/-2\n",
        "10222989: 10223054/3 10223096/-1\n",
        "12852383: 12852427/5 12854068/-3\n",
        "10201580: 10203044/3 10201754/-1\n",
        "11584711: 11586007/3 11587942/-1\n",
        "9363911: 9930842/1 9488826/-2\n",
        "9244273: 9648928/2 9244442/-1\n",
        "10695553: 10721074/1 10733565/-1\n",
        "11753292: 11753462/1 11753564/-1\n",
        "11733818: 11733959/1 11733857/-1\n",
        "12498839: 12498905/8 12499007/-6\n",
        "10833125: 10833196/1 10833240/-1\n",
        "10826264: 10826282/2 10826321/-1\n",
        "12876091: 12876579/1 12876129/-2\n",
        "14007927: 14007961/10 14007943/-5\n",
        "8957341: 8957366/1 8957356/-2\n",
        "11826296: 11827330/3 11827320/-1\n",
        "12039553: 12039642/6 12039656/-1\n",
        "12746927: 12746984/2 12747096/-2\n",
        "11155044: 11156957/2 11195781/-2\n",
        "11977988: 11978023/2 11978031/-1\n",
        "13572908: 13770238/4 13722431/-2\n",
        "9700057: 9700113/2 9701689/-2\n",
        "13360832: 13360922/3 13360880/-1\n",
        "13461327: 13461593/1 13461453/-1\n",
        "9385715: 9386346/3 9386172/-1\n",
        "9679347: 9685944/2 9679416/-2\n",
        "9652111: 9664256/2 9652158/-2\n",
        "11398260: 11398408/10 11398476/-1\n",
        "9012460: 9121226/2 9012532/-1\n",
        "12271571: 12271620/1 12285019/-1\n",
        "13802471: 13802897/2 13802782/-1\n",
        "12955881: 12956161/1 12955951/-1\n",
        "13970053: 13970096/1 13970105/-1\n",
        "9269194: 9269259/3 9269270/-1\n",
        "10364458: 10365069/2 10364852/-2\n",
        "11207574: 11207946/9 11208842/-2\n",
        "11105133: 11118992/2 11115366/-1\n",
        "9064288: 9064327/11 9064376/-1\n",
        "9903697: 9904440/3 9904304/-1\n",
        "9372815: 9372848/68 9372892/-8\n",
        "11983020: 11983438/1 11983230/-1\n",
        "10242161: 10242294/2 10242336/-1\n",
        "12680877: 12681966/4 12681108/-1\n",
        "9220573: 9220619/3 9220674/-1\n",
        "12938708: 12938764/3 12938763/-1\n",
        "9774315: 9774471/9 9774474/-1\n",
        "13181810: 13181989/1 13181883/-1\n",
        "8974331: 8974417/6 8974438/-2\n",
        "12072350: 12072466/3 12072464/-1\n",
        "12358137: 12358272/3 12358226/-1\n",
        "12204647: 12204849/1 12205049/-1\n",
        "13972887: 13972910/8 13972976/-3\n",
        "11703844: 11703967/3 11703942/-1\n",
        "12105632: 12105683/5 12105708/-1\n",
        "10371659: 10372085/1 10373076/-1\n",
        "11982237: 11983686/2 12002623/-1\n",
        "12274821: 12275036/1 12275126/-1\n",
        "12929987: 12930105/2 12930033/-1\n",
        "11722891: 11723207/4 11723333/-6\n",
        "12682081: 12682262/2 12682197/-1\n",
        "9210274: 9210308/3 9210302/-1\n",
        "9199853: 9201248/6 9243149/-1\n",
        "12134049: 12134160/1 12134207/-1\n",
        "9216865: 9216945/6 9216969/-1\n",
        "13241005: 13354190/9 13449815/-1\n",
        "13370982: 13371120/10 13371036/-1\n",
        "11321018: 11321364/2 11321240/-2\n",
        "10996538: 11012572/4 10997087/-1\n",
        "12382897: 12382945/11 12383033/-1\n",
        "10261775: 10262115/4 10261796/-1\n",
        "11348229: 11348458/7 11348476/-1\n",
        "10230715: 10231202/6 10231057/-1\n",
        "8900073: 8900173/9 10829264/-5\n",
        "9003380: 9003894/8 9003447/-1\n",
        "12415815: 12415830/5 12415841/-1\n",
        "11381976: 11382113/3 11382117/-1\n",
        "11751391: 12978050/56 11753354/-32\n",
        "9343967: 9345489/4 9344115/-1\n",
        "14061689: 14061726/4 14061748/-1\n",
        "12402608: 12416426/5 12402641/-2\n",
        "13398522: 13454062/2 13398624/-1\n",
        "10131713: 10131949/9 10131762/-1\n",
        "9198729: 9198808/3 9198805/-2\n",
        "12514989: 12520562/3 12520519/-1\n",
        "11773578: 11773699/1 11773640/-1\n",
        "9162999: 9163188/2 9163076/-3\n",
        "9888995: 9889068/6 9889065/-3\n",
        "10341109: 10341678/4 10341264/-5\n",
        "14077445: 14078994/1 14077498/-1\n",
        "9133196: 9133347/2 9362161/-1\n",
        "11397549: 11397701/1 11397652/-1\n",
        "10153174: 10312422/2 10153494/-1\n",
        "9982864: 9983429/6 9983027/-1\n",
        "12202587: 12202672/18 12202896/-2\n",
        "10174063: 10174149/6 10174158/-1\n",
        "9574377: 9574424/2 9574411/-2\n",
        "9574372: 9574510/2 9574558/-1\n",
        "11862476: 11864613/6 11863185/-1\n",
        "12176346: 12176478/4 12176496/-1\n",
        "11874487: 12553403/2 11911382/-1\n",
        "13055462: 13060432/5 13059360/-1\n",
        "13939683: 13939839/2 13939928/-2\n",
        "10160373: 10160903/3 10160451/-1\n",
        "9813929: 9830167/3 10135217/-1\n",
        "9013662: 9026445/3 9013743/-1\n",
        "11082233: 11082413/5 11082311/-1\n",
        "8820982: 8821462/2 8821356/-1\n",
        "10358364: 10360291/1 10358627/-1\n",
        "11245089: 11245179/4 11245200/-1\n",
        "13499731: 13499755/6 13499769/-2\n",
        "11779361: 11780056/3 11779747/-2\n",
        "10780180: 10780470/2 10780428/-1\n",
        "13410505: 13411425/2 13410544/-1\n",
        "9747500: 10879774/2 9747519/-2\n",
        "11761894: 11762186/1 11762053/-1\n",
        "10535221: 10535262/2 10535263/-1\n",
        "11786637: 11786698/9 11786809/-2\n",
        "8949672: 8950818/2 8949796/-1\n",
        "10604932: 10605173/2 10605288/-1\n",
        "11968903: 11968921/2 12463948/-1\n",
        "10654839: 10655034/2 10654987/-1\n",
        "13684403: 13684595/17 13684462/-2\n",
        "11835895: 11836347/2 11836169/-1\n",
        "13031551: 13032203/1 13031875/-1\n",
        "12440349: 12442718/5 12442722/-1\n",
        "13150131: 13150215/8 13150182/-2\n",
        "12396723: 12398383/2 12401743/-2\n",
        "12396721: 12396773/2 12396775/-1\n",
        "9492189: 9541595/1 9540519/-2\n",
        "13197539: 13197652/1 13197888/-1\n",
        "9502176: 9529495/1 9855669/-2\n",
        "8806156: 8806227/1 8806246/-1\n",
        "14062571: 14062631/3 14062863/-1\n",
        "9713457: 9713497/1 9713751/-3\n",
        "10876242: 11765499/2 10876864/-1\n",
        "13848361: 13848708/1 13848425/-1\n",
        "8692635: 8692661/3 8692643/-1\n",
        "12370102: 12370263/1 12370171/-1\n",
        "8770732: 8770771/2 8770803/-3\n",
        "12202432: 12202639/2 12203604/-1\n",
        "13744841: 13759168/6 13744983/-1\n",
        "12739062: 12739134/1 12739163/-1\n",
        "12716410: 12716671/2 12716622/-1\n",
        "13600430: 13600495/4 13600550/-1\n",
        "9629619: 9629841/1 9630480/-1\n",
        "13967935: 13998963/1 13971149/-1\n",
        "8936620: 8936773/1 8936777/-3\n",
        "10108426: 10108999/4 10108492/-3\n",
        "11922217: 11922248/3 11922304/-1\n",
        "11872589: 11872620/2 11872646/-1\n",
        "13915479: 13915527/2 13915609/-2\n",
        "9532789: 9532812/4 9533032/-1\n",
        "12372433: 12372539/1 12372576/-1\n",
        "9747992: 9748052/1 9748012/-1\n",
        "11083602: 11083638/1 11083628/-1\n",
        "11927698: 11940434/1 11927717/-2\n",
        "12035303: 12035399/1 12035791/-1\n",
        "11607936: 11607968/5 11607997/-1\n",
        "11814813: 11814925/4 11814939/-2\n",
        "9968866: 9968898/1 9969098/-1\n",
        "13517353: 13517388/7 13518975/-1\n",
        "10420946: 10421011/2 10421002/-1\n",
        "13099406: 13099518/6 13099459/-1\n",
        "11817677: 11829916/2 11818084/-1\n",
        "11874832: 11874892/2 11874967/-1\n",
        "9201256: 9201277/6 9201434/-1\n",
        "11045808: 11045945/2 11045904/-1\n",
        "9217284: 9217404/4 9217309/-2\n",
        "9897809: 9929809/1 9919081/-1\n",
        "8725472: 8725539/4 8725508/-1\n",
        "10864595: 10998689/5 10905977/-1\n",
        "11406966: 11407056/3 11407001/-2\n",
        "12232460: 12232486/1 12232505/-1\n",
        "8978774: 8978818/3 8978815/-3\n",
        "11185079: 11188010/9 11195686/-2\n",
        "12068907: 13079187/1 12093693/-1\n",
        "11804721: 11809503/5 11804727/-1\n",
        "11863303: 11863489/6 11863445/-1\n",
        "9465565: 9470347/1 9466864/-2\n",
        "13451246: 13451504/2 13451352/-2\n",
        "13397041: 13398115/1 13430045/-1\n",
        "9137968: 9138332/1 9140935/-1\n",
        "8768485: 8768997/2 8768598/-1\n",
        "13347766: 13348227/1 13347840/-1\n",
        "11604288: 11604289/5 11604290/-3\n",
        "13249858: 13250096/1 13249897/-1\n",
        "11493417: 11495425/1 11493440/-3\n",
        "13202533: 13205257/2 13202740/-1\n",
        "12933160: 12934379/1 12933256/-2\n",
        "10013612: 13858533/4 10014506/-1\n",
        "9789247: 9789432/2 9789345/-1\n",
        "14058506: 14059446/1 14058572/-1\n",
        "9649156: 9650853/8 9649211/-1\n",
        "13076772: 13076833/7 13076901/-3\n",
        "11377938: 11378021/5 11378006/-1\n",
        "13358415: 13358427/12 13358473/-1\n",
        "11573077: 11573685/2 11573160/-1\n",
        "13294974: 13295033/6 13295135/-1\n",
        "11999152: 11999422/1 11999314/-1\n",
        "10186344: 10186514/3 10186554/-1\n",
        "9065793: 9084434/6 9083580/-1\n",
        "12788538: 12788590/5 12788609/-1\n",
        "8946558: 8946589/2 8946598/-1\n",
        "10931631: 10933376/3 10931753/-1\n",
        "12445851: 12446222/1 12445907/-2"
       ]
      },
      {
       "output_type": "stream",
       "stream": "stdout",
       "text": [
        "\n",
        "13194586: 13194627/5 13194699/-1\n",
        "13355426: 13355449/9 13355457/-1\n",
        "9007010: 9010981/2 9007902/-1\n",
        "10889138: 10889301/7 10889211/-2\n",
        "9482354: 9482930/1 9484130/-2\n",
        "11130603: 11317494/1 11218331/-2\n",
        "0"
       ]
      },
      {
       "output_type": "stream",
       "stream": "stdout",
       "text": [
        "\n",
        "100"
       ]
      },
      {
       "output_type": "stream",
       "stream": "stdout",
       "text": [
        "\n",
        "200"
       ]
      },
      {
       "output_type": "stream",
       "stream": "stdout",
       "text": [
        "\n",
        "300"
       ]
      },
      {
       "output_type": "stream",
       "stream": "stdout",
       "text": [
        "\n",
        "400"
       ]
      },
      {
       "output_type": "stream",
       "stream": "stdout",
       "text": [
        "\n",
        "500"
       ]
      },
      {
       "output_type": "stream",
       "stream": "stdout",
       "text": [
        "\n",
        "600"
       ]
      },
      {
       "output_type": "stream",
       "stream": "stdout",
       "text": [
        "\n",
        "700"
       ]
      },
      {
       "output_type": "stream",
       "stream": "stdout",
       "text": [
        "\n",
        "800"
       ]
      },
      {
       "output_type": "stream",
       "stream": "stdout",
       "text": [
        "\n",
        "900"
       ]
      },
      {
       "output_type": "stream",
       "stream": "stdout",
       "text": [
        "\n",
        "1000"
       ]
      },
      {
       "output_type": "stream",
       "stream": "stdout",
       "text": [
        "\n",
        "1100"
       ]
      },
      {
       "output_type": "stream",
       "stream": "stdout",
       "text": [
        "\n",
        "1200"
       ]
      },
      {
       "output_type": "stream",
       "stream": "stdout",
       "text": [
        "\n",
        "1300"
       ]
      },
      {
       "output_type": "stream",
       "stream": "stdout",
       "text": [
        "\n",
        "1400"
       ]
      },
      {
       "output_type": "stream",
       "stream": "stdout",
       "text": [
        "\n",
        "1500"
       ]
      },
      {
       "output_type": "stream",
       "stream": "stdout",
       "text": [
        "\n",
        "1600"
       ]
      },
      {
       "output_type": "stream",
       "stream": "stdout",
       "text": [
        "\n",
        "1700"
       ]
      },
      {
       "output_type": "stream",
       "stream": "stdout",
       "text": [
        "\n",
        "1800"
       ]
      },
      {
       "output_type": "stream",
       "stream": "stdout",
       "text": [
        "\n",
        "1900"
       ]
      },
      {
       "output_type": "stream",
       "stream": "stdout",
       "text": [
        "\n",
        "2000"
       ]
      },
      {
       "output_type": "stream",
       "stream": "stdout",
       "text": [
        "\n",
        "2100"
       ]
      },
      {
       "output_type": "stream",
       "stream": "stdout",
       "text": [
        "\n",
        "2200"
       ]
      },
      {
       "output_type": "stream",
       "stream": "stdout",
       "text": [
        "\n",
        "2300"
       ]
      },
      {
       "output_type": "stream",
       "stream": "stdout",
       "text": [
        "\n",
        "2400"
       ]
      },
      {
       "output_type": "stream",
       "stream": "stdout",
       "text": [
        "\n",
        "2500"
       ]
      },
      {
       "output_type": "stream",
       "stream": "stdout",
       "text": [
        "\n",
        "2600"
       ]
      },
      {
       "output_type": "stream",
       "stream": "stdout",
       "text": [
        "\n",
        "2700"
       ]
      },
      {
       "output_type": "stream",
       "stream": "stdout",
       "text": [
        "\n",
        "2800"
       ]
      },
      {
       "output_type": "stream",
       "stream": "stdout",
       "text": [
        "\n",
        "2900"
       ]
      },
      {
       "output_type": "stream",
       "stream": "stdout",
       "text": [
        "\n",
        "('total=', 4336111)"
       ]
      },
      {
       "output_type": "stream",
       "stream": "stdout",
       "text": [
        "\n",
        "('kept=', 3000)\n"
       ]
      }
     ],
     "prompt_number": 13
    },
    {
     "cell_type": "markdown",
     "metadata": {},
     "source": [
      "- data.tsv\uc5d0\uc11c \ub2e4\uc74c \uba54\uc18c\ub4dc\ub85c \uc27d\uac8c \uc77d\uc744 \uc218 \uc788\ub3c4\ub85d Id\uc640 Text\ub85c \uc800\uc7a5\ud568"
     ]
    },
    {
     "cell_type": "code",
     "collapsed": false,
     "input": [
      "def fetch_posts():\n",
      "    for line in open('data/chosen.tsv', 'r'):\n",
      "        post_id, text = line.split('\\t')\n",
      "        yield int(post_id), text.strip()"
     ],
     "language": "python",
     "metadata": {},
     "outputs": [],
     "prompt_number": 61
    },
    {
     "cell_type": "code",
     "collapsed": false,
     "input": [
      "generator = fetch_posts()"
     ],
     "language": "python",
     "metadata": {},
     "outputs": [],
     "prompt_number": 62
    },
    {
     "cell_type": "code",
     "collapsed": false,
     "input": [
      "next(generator)"
     ],
     "language": "python",
     "metadata": {},
     "outputs": [
      {
       "metadata": {},
       "output_type": "pyout",
       "prompt_number": 15,
       "text": [
        "(8692635,\n",
        " 'everyone,i have a lot of files write to disk per seconds,i want to disable disk cache to improve performance,i google search find a solution:win32 CreateFile method with FILE_FLAG_NO_BUFFERING and How to empty/flush Windows READ disk cache in C#?.i write a little of code to test whether can worked:when running this program,the application get exception:IO operation will not work. Most likely the file will become too long or the handle was not opened to support synchronous IO operationslater,i found this article When you create an object with constraints, you have to make sure everybody who uses the object understands those constraints,but i can\\'t fully understand,so i change my code to test:it\\'s running ok,but i just want \"hello,world\" bytes not all.i trying change blocksize to 1 or other integer(not 512 multiple) get same error.i also try win32 WriteFile api also get same error.someone can help me?')"
       ]
      }
     ],
     "prompt_number": 15
    },
    {
     "cell_type": "code",
     "collapsed": false,
     "input": [
      "!pwd"
     ],
     "language": "python",
     "metadata": {},
     "outputs": [
      {
       "output_type": "stream",
       "stream": "stdout",
       "text": [
        "/Users/re4lfl0w/Documents/ipython/books/Building_Machine_Learning_Systems_with_Python\r\n"
       ]
      }
     ],
     "prompt_number": 6
    },
    {
     "cell_type": "markdown",
     "metadata": {},
     "source": [
      "### \uc88b\uc740 \ub2f5\ubcc0\uc758 \uc815\uc758\n",
      "\n",
      "- \uad1c\ucc2e\uc740 \ub2f5\ubcc0\uc778\uc9c0 \uc544\ub2cc\uc9c0 \uad6c\ubcc4\ud558\ub3c4\ub85d \ubd84\ub958\uae30\ub97c \ud6c8\ub828\ud558\uae30 \uc804\uc5d0 \ud6c8\ub828 \ub370\uc774\ud130\ub97c \ub9cc\ub4e4\uc5b4\uc57c \ud568\n",
      "- \uc9c0\uae08\uae4c\uc9c0\ub294 \ub2e8\uc9c0 \ub370\uc774\ud130 \ub369\uc5b4\ub9ac\ub9cc \ub9cc\ub4e4\uc5c8\uace0 \ub77c\ubca8\uc744 \uc815\uc758\ud574\uc57c\ud558\ub294 \uc791\uc5c5\uc774 \ub0a8\uc558\uc74c\n",
      "- \ubb3c\ub860 \uac04\ub2e8\ud558\uac8c IsAccepted \uc18d\uc131\uc744 \ub77c\ubca8\ub85c \uc0ac\uc6a9\ud560 \uc218 \uc788\uc9c0\ub9cc, \uc5b4\uca0c\ub4e0 \uc774\ub294 \uc9c8\ubb38\uc5d0 \ub2f5\ud55c \ub2f5\ubcc0\uc73c\ub85c \ud45c\uc2dc\ub420 \uc218 \uc788\uc74c\n",
      "- \ud558\uc9c0\ub9cc \uc774\uac83\uc740 \ub2e8\uc9c0 \uc9c8\ubb38\uc790\uc758 \uc120\ud0dd\n",
      "- \ub2f9\uc5f0\ud788, \uc9c8\ubb38\uc790\ub294 \ube60\ub978 \ub2f5\ubcc0\uacfc \ub354\ubd88\uc5b4 \uccab\ubc88\uc9f8\ub85c \uac00\uc7a5 \uc88b\uc740 \ub2f5\ubcc0\uc744 \uc5bb\uace0 \uc2f6\uc74c\n",
      "- \uc2dc\uac04\uc774 \ud750\ub974\uba74\uc11c \ub9ce\uc740 \ub2f5\ubcc0\uc774 \uc62c\ub77c\uc62c \uacbd\uc6b0, \uc77c\ubd80\ub294 \uc774\uc804\uc5d0 \ucc44\ud0dd\ub41c \ub2f5\ubcc0\ubcf4\ub2e4 \ub354 \ub098\uc544\uc9c0\ub294 \uacbd\ud5a5\uc774 \uc788\uc74c\n",
      "- \uadf8\ub7ec\ub098 \uc9c8\ubb38\uc790\ub294 \uc880\ucc98\ub7fc \uc9c8\ubb38 \uac8c\uc7ac\ub97c \ub0b4\ub9ac\uac70\ub098 \ub9c8\uc74c\uc744 \ubcc0\uacbd\ud558\uc9c0 \uc54a\uc74c\n",
      "- \uadf8\ub807\uae30 \ub54c\ubb38\uc5d0, \uacb0\uad6d \ucd5c\uace0 \uc810\uc218\ub97c \ubc1b\uc9c0 \ubabb\ud55c \ub2f5\ubcc0\uc774 \ucc44\ud0dd\ub41c \uc9c8\ubb38\ub4e4\uc774 \ub9ce\uc74c\n",
      "- \ub610 \ub2e4\ub978 \uadf9\ub2e8\uc801\uc778 \uc608\ub294, \uc9c8\ubb38\ub9c8\ub2e4 \uc591\uc218\ub85c \ucd5c\uace0 \uc810\uc218\uc778 \uae0d\uc815\uc801\uc778 \uc608\uc81c\uc640 \uc74c\uc218\ub85c \ucd5c\ud558 \uc810\uc218\uc778 \ubd80\uc815\uc801\uc778 \uc608\uc81c\ub97c \uac00\uc9c8 \uc218 \uc788\uc74c\n",
      "- \ud558\uc9c0\ub9cc \uc9c8\ubb38\uc5d0 2\uc810\uc744 \ubc1b\uc740 \ub2f5\ubcc0\uacfc 4\uc810\uc744 \ubc1b\uc740 \ub2f5\ubcc0\ucc98\ub7fc \ubaa8\ub450 \uc88b\uc740 \ub2f5\ubcc0\ub9cc \uc788\ub2e4\uba74 \uc5b4\ub5bb\uac8c \ud574\uc57c \ud558\ub294\uac00? 2\uc810\uc744 \ubc1b\uc740 \ub2f5\ubcc0\uc744 \ubd80\uc815\uc801\uc778 \uc608\uc81c\ub85c \uc815\ud574\uc57c \ud558\ub294\uac00?\n",
      "- \uc774\ub7ec\ud55c \uadf9\ub2e8\uc801\uc778 \uc608\ub97c \ud574\uacb0\ud574\uc57c \ud568\n",
      "- \uc810\uc218\uac00 0\ubcf4\ub2e4 \ud06c\ub2e4\uba74 \uae0d\uc815\uc801\uc778 \ub2f5\ubcc0\uc73c\ub85c, \uc810\uc218\uac00 0\uc774\uac70\ub098 \uc791\ub2e4\uba74 \ubd80\uc815\uc801\uc778 \ub2f5\ubcc0\uc73c\ub85c \uc815\ud568\n",
      "- \uacb0\uad6d \ub2e4\uc74c\uacfc \uac19\uc774 \uaf64 \ud569\ub9ac\uc801\uc778 \ub77c\ubca8\uc744 \uc5bb\uc744 \uc218 \uc788\uc74c\n",
      "\n",
      "```python\n",
      "all_answers = [q for q, v in meta.iteritems() if v['ParentId'] != -1]\n",
      "all_answers\n",
      "Y = np.asarray([meta[aid]['Score'] > 0 for aid in all_answers])\n",
      "```"
     ]
    },
    {
     "cell_type": "code",
     "collapsed": false,
     "input": [
      "%load classify.py"
     ],
     "language": "python",
     "metadata": {},
     "outputs": [],
     "prompt_number": 22
    },
    {
     "cell_type": "code",
     "collapsed": false,
     "input": [
      "# This code is supporting material for the book\n",
      "# Building Machine Learning Systems with Python\n",
      "# by Willi Richert and Luis Pedro Coelho\n",
      "# published by PACKT Publishing\n",
      "#\n",
      "# It is made available under the MIT License\n",
      "\n",
      "import time\n",
      "start_time = time.time()\n",
      "\n",
      "import numpy as np\n",
      "\n",
      "from sklearn.metrics import classification_report\n",
      "from sklearn.metrics import precision_recall_curve, roc_curve, auc\n",
      "from sklearn.cross_validation import KFold\n",
      "from sklearn import neighbors\n",
      "\n",
      "from data import chosen, chosen_meta\n",
      "from utils import plot_pr\n",
      "from utils import plot_feat_importance\n",
      "from utils import load_meta\n",
      "from utils import fetch_posts\n",
      "from utils import plot_feat_hist\n",
      "from utils import plot_bias_variance\n",
      "from utils import plot_k_complexity\n",
      "\n",
      "# question Id -> {'features'->feature vector, 'answers'->[answer Ids]}, 'scores'->[scores]}\n",
      "# scores will be added on-the-fly as the are not in meta\n",
      "meta, id_to_idx, idx_to_id = load_meta(chosen_meta)\n",
      "\n",
      "import nltk\n",
      "\n",
      "# The sorting below is only to ensure reproducable numbers. Further down\n",
      "# we will occasionally skip a fold when it contains instances of only\n",
      "# one label. The two lines below ensure that the behavior is exactly the\n",
      "# same for different runs.\n",
      "all_questions = sorted([q for q, v in meta.items() if v['ParentId'] == -1])\n",
      "all_answers = sorted([q for q, v in meta.items() if v['ParentId'] != -1])\n",
      "\n",
      "feature_names = np.array((\n",
      "    'NumTextTokens',\n",
      "    'NumCodeLines',\n",
      "    'LinkCount',\n",
      "    'AvgSentLen',\n",
      "    'AvgWordLen',\n",
      "    'NumAllCaps',\n",
      "    'NumExclams',\n",
      "    'NumImages'\n",
      "))\n",
      "\n",
      "\n",
      "def prepare_sent_features():\n",
      "    for pid, text in fetch_posts(chosen, with_index=True):\n",
      "        if not text:\n",
      "            meta[pid]['AvgSentLen'] = meta[pid]['AvgWordLen'] = 0\n",
      "        else:\n",
      "            sent_lens = [len(nltk.word_tokenize(\n",
      "                sent)) for sent in nltk.sent_tokenize(text)]\n",
      "            meta[pid]['AvgSentLen'] = np.mean(sent_lens)\n",
      "            meta[pid]['AvgWordLen'] = np.mean(\n",
      "                [len(w) for w in nltk.word_tokenize(text)])\n",
      "\n",
      "        meta[pid]['NumAllCaps'] = np.sum(\n",
      "            [word.isupper() for word in nltk.word_tokenize(text)])\n",
      "\n",
      "        meta[pid]['NumExclams'] = text.count('!')\n",
      "\n",
      "\n",
      "prepare_sent_features()\n",
      "\n",
      "\n",
      "def get_features(aid):\n",
      "    return tuple(meta[aid][fn] for fn in feature_names)\n",
      "\n",
      "qa_X = np.asarray([get_features(aid) for aid in all_answers])\n",
      "\n",
      "classifying_answer = \"good\"\n",
      "#classifying_answer = \"poor\"\n",
      "\n",
      "if classifying_answer == \"good\":\n",
      "    # Score > 0 tests => positive class is good answer\n",
      "    qa_Y = np.asarray([meta[aid]['Score'] > 0 for aid in all_answers])\n",
      "elif classifying_answer == \"poor\":\n",
      "    # Score <= 0 tests => positive class is poor answer\n",
      "    qa_Y = np.asarray([meta[aid]['Score'] <= 0 for aid in all_answers])\n",
      "else:\n",
      "    raise Exception(\"classifying_answer='%s' is not supported\" %\n",
      "                    classifying_answer)\n",
      "\n",
      "for idx, feat in enumerate(feature_names):\n",
      "    plot_feat_hist([(qa_X[:, idx], feat)])\n",
      "\n",
      "#plot_feat_hist([(qa_X[:, idx], feature_names[idx]) for idx in [1,0]], 'feat_hist_two.png')\n",
      "#plot_feat_hist([(qa_X[:, idx], feature_names[idx]) for idx in [3,4,5,6]], 'feat_hist_four.png')\n",
      "\n",
      "avg_scores_summary = []\n",
      "\n",
      "\n",
      "def measure(clf_class, parameters, name, data_size=None, plot=False):\n",
      "    start_time_clf = time.time()\n",
      "    if data_size is None:\n",
      "        X = qa_X\n",
      "        Y = qa_Y\n",
      "    else:\n",
      "        X = qa_X[:data_size]\n",
      "        Y = qa_Y[:data_size]\n",
      "\n",
      "    cv = KFold(n=len(X), n_folds=10, indices=True)\n",
      "\n",
      "    train_errors = []\n",
      "    test_errors = []\n",
      "\n",
      "    scores = []\n",
      "    roc_scores = []\n",
      "    fprs, tprs = [], []\n",
      "\n",
      "    pr_scores = []\n",
      "    precisions, recalls, thresholds = [], [], []\n",
      "\n",
      "    for fold_idx, (train, test) in enumerate(cv):\n",
      "        X_train, y_train = X[train], Y[train]\n",
      "        X_test, y_test = X[test], Y[test]\n",
      "\n",
      "        only_one_class_in_train = len(set(y_train)) == 1\n",
      "        only_one_class_in_test = len(set(y_test)) == 1\n",
      "        if only_one_class_in_train or only_one_class_in_test:\n",
      "            # this would pose problems later on\n",
      "            continue\n",
      "\n",
      "        clf = clf_class(**parameters)\n",
      "\n",
      "        clf.fit(X_train, y_train)\n",
      "\n",
      "        train_score = clf.score(X_train, y_train)\n",
      "        test_score = clf.score(X_test, y_test)\n",
      "\n",
      "        train_errors.append(1 - train_score)\n",
      "        test_errors.append(1 - test_score)\n",
      "\n",
      "        scores.append(test_score)\n",
      "        proba = clf.predict_proba(X_test)\n",
      "\n",
      "        label_idx = 1\n",
      "        fpr, tpr, roc_thresholds = roc_curve(y_test, proba[:, label_idx])\n",
      "        precision, recall, pr_thresholds = precision_recall_curve(\n",
      "            y_test, proba[:, label_idx])\n",
      "\n",
      "        roc_scores.append(auc(fpr, tpr))\n",
      "        fprs.append(fpr)\n",
      "        tprs.append(tpr)\n",
      "\n",
      "        pr_scores.append(auc(recall, precision))\n",
      "        precisions.append(precision)\n",
      "        recalls.append(recall)\n",
      "        thresholds.append(pr_thresholds)\n",
      "\n",
      "        # This threshold is determined at the end of the chapter 5,\n",
      "        # where we find conditions such that precision is in the area of\n",
      "        # about 80%. With it we trade off recall for precision.\n",
      "        threshold_for_detecting_good_answers = 0.59\n",
      "\n",
      "        print(\"Clone #%i\" % fold_idx)\n",
      "        print(classification_report(y_test, proba[:, label_idx] >\n",
      "              threshold_for_detecting_good_answers, target_names=['not accepted', 'accepted']))\n",
      "\n",
      "    # get medium clone\n",
      "    scores_to_sort = pr_scores  # roc_scores\n",
      "    medium = np.argsort(scores_to_sort)[len(scores_to_sort) / 2]\n",
      "    print(\"Medium clone is #%i\" % medium)\n",
      "\n",
      "    if plot:\n",
      "        #plot_roc(roc_scores[medium], name, fprs[medium], tprs[medium])\n",
      "        plot_pr(pr_scores[medium], name, precisions[medium],\n",
      "                recalls[medium], classifying_answer + \" answers\")\n",
      "\n",
      "        if hasattr(clf, 'coef_'):\n",
      "            plot_feat_importance(feature_names, clf, name)\n",
      "\n",
      "    summary = (name,\n",
      "               np.mean(scores), np.std(scores),\n",
      "               np.mean(roc_scores), np.std(roc_scores),\n",
      "               np.mean(pr_scores), np.std(pr_scores),\n",
      "               time.time() - start_time_clf)\n",
      "    print(summary)\n",
      "    avg_scores_summary.append(summary)\n",
      "    precisions = precisions[medium]\n",
      "    recalls = recalls[medium]\n",
      "    thresholds = np.hstack(([0], thresholds[medium]))\n",
      "    idx80 = precisions >= 0.8\n",
      "    print(\"P=%.2f R=%.2f thresh=%.2f\" % (precisions[idx80][0], recalls[\n",
      "          idx80][0], thresholds[idx80][0]))\n",
      "\n",
      "    return np.mean(train_errors), np.mean(test_errors)\n",
      "\n",
      "\n",
      "def bias_variance_analysis(clf_class, parameters, name):\n",
      "    #import ipdb;ipdb.set_trace()\n",
      "    data_sizes = np.arange(60, 2000, 4)\n",
      "\n",
      "    train_errors = []\n",
      "    test_errors = []\n",
      "\n",
      "    for data_size in data_sizes:\n",
      "        train_error, test_error = measure(\n",
      "            clf_class, parameters, name, data_size=data_size)\n",
      "        train_errors.append(train_error)\n",
      "        test_errors.append(test_error)\n",
      "\n",
      "    plot_bias_variance(data_sizes, train_errors,\n",
      "                       test_errors, name, \"Bias-Variance for '%s'\" % name)\n",
      "\n",
      "\n",
      "def k_complexity_analysis(clf_class, parameters):\n",
      "    ks = np.hstack((np.arange(1, 20), np.arange(21, 100, 5)))\n",
      "\n",
      "    train_errors = []\n",
      "    test_errors = []\n",
      "\n",
      "    for k in ks:\n",
      "        parameters['n_neighbors'] = k\n",
      "        train_error, test_error = measure(\n",
      "            clf_class, parameters, \"%dNN\" % k, data_size=2000)\n",
      "        train_errors.append(train_error)\n",
      "        test_errors.append(test_error)\n",
      "\n",
      "    plot_k_complexity(ks, train_errors, test_errors)\n",
      "\n",
      "for k in [5]:\n",
      "# for k in [5, 10, 40]:\n",
      "    #measure(neighbors.KNeighborsClassifier, {'n_neighbors': k}, \"%iNN\" % k)\n",
      "    bias_variance_analysis(neighbors.KNeighborsClassifier, {\n",
      "                           'n_neighbors': k}, \"%iNN\" % k)\n",
      "    k_complexity_analysis(neighbors.KNeighborsClassifier, {'n_neighbors': k})\n",
      "\n",
      "from sklearn.linear_model import LogisticRegression\n",
      "for C in [0.1]:\n",
      "# for C in [0.01, 0.1, 1.0, 10.0]:\n",
      "    name = \"LogReg C=%.2f\" % C\n",
      "    bias_variance_analysis(LogisticRegression, {'penalty': 'l2', 'C': C}, name)\n",
      "    measure(LogisticRegression, {'penalty': 'l2', 'C': C}, name, plot=True)\n",
      "\n",
      "print(\"=\" * 50)\n",
      "from operator import itemgetter\n",
      "for s in reversed(sorted(avg_scores_summary, key=itemgetter(1))):\n",
      "    print(\"%-20s\\t%.5f\\t%.5f\\t%.5f\\t%.5f\\t%.5f\\t%.5f\\t%.5f\" % s)\n",
      "\n",
      "print(\"time spent:\", time.time() - start_time)\n"
     ],
     "language": "python",
     "metadata": {},
     "outputs": []
    },
    {
     "cell_type": "markdown",
     "metadata": {},
     "source": [
      "#### UnicodeDecodeError\n",
      "\n",
      "- [python 2.7 - UnicodeDecodeError in NLTK's word_tokenize despite I forced the encoding - Stack Overflow](http://stackoverflow.com/questions/25315566/unicodedecodeerror-in-nltks-word-tokenize-despite-i-forced-the-encoding): \uc5ec\uae30\uc5d0\uc11c \ud78c\ud2b8 \uc5bb\uc5b4\uc11c classify.py\uc5d0 \uc801\uc6a9\n",
      "\n",
      "<img src=\"files/images/add_decode_utf8.png\" />"
     ]
    },
    {
     "cell_type": "code",
     "collapsed": false,
     "input": [
      "# UnicodeDecodeError \ubc1c\uc0dd\n",
      "# %run classify.py"
     ],
     "language": "python",
     "metadata": {},
     "outputs": [],
     "prompt_number": 177
    },
    {
     "cell_type": "markdown",
     "metadata": {},
     "source": [
      "#### classify.py Output\n",
      "\n",
      "- \uac01\uc885 \uadf8\ub798\ud504\uac00 charts\uc5d0 \uc0dd\uc131\ub428\n",
      "- UnicodeDecodeError\uac00 \ud574\uacb0\ub418\ub2c8 \ub9c8\uc74c\uc774 \ud3b8\ud574\uc84c\ub2e4.\n",
      "\n",
      "\n",
      "    Clone #0\n",
      "                  precision    recall  f1-score   support\n",
      "\n",
      "    not accepted       0.50      0.67      0.57         3\n",
      "        accepted       0.50      0.33      0.40         3\n",
      "\n",
      "     avg / total       0.50      0.50      0.49         6\n",
      "\n",
      "    Clone #1\n",
      "                  precision    recall  f1-score   support\n",
      "\n",
      "    not accepted       0.50      0.67      0.57         3\n",
      "        accepted       0.50      0.33      0.40         3\n",
      "\n",
      "     avg / total       0.50      0.50      0.49         6\n",
      "\n",
      "    Clone #2\n",
      "                  precision    recall  f1-score   support\n",
      "\n",
      "    not accepted       0.50      1.00      0.67         2\n",
      "        accepted       1.00      0.50      0.67         4\n",
      "\n",
      "     avg / total       0.83      0.67      0.67         6"
     ]
    },
    {
     "cell_type": "code",
     "collapsed": false,
     "input": [
      "from utils import load_meta"
     ],
     "language": "python",
     "metadata": {},
     "outputs": [],
     "prompt_number": 24
    },
    {
     "cell_type": "code",
     "collapsed": false,
     "input": [
      "meta, id_to_idx, idx_to_id = load_meta(chosen_meta)"
     ],
     "language": "python",
     "metadata": {},
     "outputs": [],
     "prompt_number": 25
    },
    {
     "cell_type": "code",
     "collapsed": false,
     "input": [
      "import nltk"
     ],
     "language": "python",
     "metadata": {},
     "outputs": [],
     "prompt_number": 26
    },
    {
     "cell_type": "code",
     "collapsed": false,
     "input": [
      "meta[8692635]"
     ],
     "language": "python",
     "metadata": {},
     "outputs": [
      {
       "metadata": {},
       "output_type": "pyout",
       "prompt_number": 33,
       "text": [
        "{u'Answers': [8692643, 8692661],\n",
        " u'HasAcceptedAnswer': True,\n",
        " u'IsAccepted': 0,\n",
        " u'LinkCount': 2,\n",
        " u'MisSpelledFraction': 0.0,\n",
        " u'NumCodeLines': 26,\n",
        " u'NumImages': 0,\n",
        " u'NumTextTokens': 143,\n",
        " u'ParentId': -1,\n",
        " u'Score': 1,\n",
        " u'TimeToAnswer': 0,\n",
        " u'idx': 0}"
       ]
      }
     ],
     "prompt_number": 33
    },
    {
     "cell_type": "code",
     "collapsed": false,
     "input": [
      "id_to_idx[8692635]"
     ],
     "language": "python",
     "metadata": {},
     "outputs": [
      {
       "metadata": {},
       "output_type": "pyout",
       "prompt_number": 34,
       "text": [
        "0"
       ]
      }
     ],
     "prompt_number": 34
    },
    {
     "cell_type": "code",
     "collapsed": false,
     "input": [
      "idx_to_id[0]"
     ],
     "language": "python",
     "metadata": {},
     "outputs": [
      {
       "metadata": {},
       "output_type": "pyout",
       "prompt_number": 37,
       "text": [
        "8692635"
       ]
      }
     ],
     "prompt_number": 37
    },
    {
     "cell_type": "code",
     "collapsed": false,
     "input": [
      "# parentid\uac00 -1\uc774 \uc544\ub2cc\uac83\ub9cc \ucd94\ucd9c\n",
      "all_answers = [q for q, v in meta.iteritems() if v['ParentId'] != -1]\n",
      "all_answers[:10]"
     ],
     "language": "python",
     "metadata": {},
     "outputs": [
      {
       "metadata": {},
       "output_type": "pyout",
       "prompt_number": 28,
       "text": [
        "[12271620,\n",
        " 10361516,\n",
        " 11195735,\n",
        " 11933690,\n",
        " 12410898,\n",
        " 12730387,\n",
        " 11321364,\n",
        " 11905710,\n",
        " 12804125,\n",
        " 8888351]"
       ]
      }
     ],
     "prompt_number": 28
    },
    {
     "cell_type": "code",
     "collapsed": false,
     "input": [
      "# \ubaa8\ub4e0 \ub2f5\ubcc0\uc744 \ub3cc\uba74\uc11c Score\uac00 0 \uc774\uc0c1\uc778 \uac83\ub4e4\uc758 bool list \ubc18\ud658\n",
      "Y = np.asarray([meta[aid]['Score'] > 0 for aid in all_answers])\n",
      "Y"
     ],
     "language": "python",
     "metadata": {},
     "outputs": [
      {
       "metadata": {},
       "output_type": "pyout",
       "prompt_number": 39,
       "text": [
        "array([ True, False,  True, ...,  True, False,  True], dtype=bool)"
       ]
      }
     ],
     "prompt_number": 39
    },
    {
     "cell_type": "markdown",
     "metadata": {},
     "source": [
      "## \uccab \ubc88\uc9f8 \ubd84\ub958\uae30 \ub9cc\ub4e4\uae30\n",
      "\n",
      "- 3\uc7a5\uc5d0\uc11c \uc0ac\uc6a9\ud588\ub358 \ub2e8\uc21c\ud558\uace0 \uc544\ub984\ub2e4\uc6b4 \ucd5c\uadfc\uc811 \uc774\uc6c3 \uae30\ubc95\uc73c\ub85c \uc2dc\uc791\ud558\uae30\n",
      "- \uc5ec\ud0c0\uae30\ubc95\ucc98\ub7fc \uace0\uae09\uc2a4\ub7fd\uc9c0\ub294 \uc54a\uc9c0\ub9cc \ub9e4\uc6b0 \uac15\ub825\ud568\n",
      "- \uc774\ub294 **\ubaa8\ub378 \uae30\ubc18\uc774 \uc544\ub2c8\uae30 \ub54c\ubb38\uc5d0 \ub370\uc774\ud130\ub85c \ud559\uc2b5** \uac00\ub2a5. \uadf8\ub7ec\ub098 \uace7 \uc54c\uac8c \ub418\uaca0\uc9c0\ub9cc \uc774 \uc544\ub984\ub2e4\uc6c0\uc740 \ubd84\uba85\ud55c **\uc57d\uc810**\uc774 \ub428\n",
      "\n",
      "### k-\ucd5c\uadfc\uc811 \uc774\uc6c3(kNN, k-nearest neighbor) \uc54c\uace0\ub9ac\uc998\uc73c\ub85c \uc2dc\uc791\ud558\uae30\n",
      "\n",
      "![knn](files/images/knn.png)\n",
      "\n",
      "- \uc774\ubc88\uc5d4 \uc6b0\ub9ac \uc2a4\uc2a4\ub85c \uad6c\ud604\ud558\uc9c0 \uc54a\uace0 sklearn \ud234\ud0b7\uc758 \uc54c\uace0\ub9ac\uc998\uc744 \uc0ac\uc6a9\ud558\uace0\uc790 \ud568\n",
      "- \ubd84\ub958\uae30\ub294 sklearn.neighbors \uc5d0 \uc788\uc74c\n",
      "- \ub2e8\uc21c\ud55c 2-\ucd5c\uadfc\uc811 \uc774\uc6c3 \ubd84\ub958\uae30\ub85c \uc2dc\uc791\ud558\uae30"
     ]
    },
    {
     "cell_type": "code",
     "collapsed": false,
     "input": [
      "from sklearn import neighbors"
     ],
     "language": "python",
     "metadata": {},
     "outputs": [],
     "prompt_number": 40
    },
    {
     "cell_type": "code",
     "collapsed": false,
     "input": [
      "# 2\ucd5c\uadfc\uc811 \uc774\uc6c3 \ubd84\ub958\uae30\ub85c \uc2dc\uc791\n",
      "knn = neighbors.KNeighborsClassifier(n_neighbors=2)"
     ],
     "language": "python",
     "metadata": {},
     "outputs": [],
     "prompt_number": 41
    },
    {
     "cell_type": "code",
     "collapsed": false,
     "input": [
      "print(knn)"
     ],
     "language": "python",
     "metadata": {},
     "outputs": [
      {
       "output_type": "stream",
       "stream": "stdout",
       "text": [
        "KNeighborsClassifier(algorithm='auto', leaf_size=30, metric='minkowski',\n",
        "           metric_params=None, n_neighbors=2, p=2, weights='uniform')\n"
       ]
      }
     ],
     "prompt_number": 53
    },
    {
     "cell_type": "markdown",
     "metadata": {},
     "source": [
      "- \ub2e4\ub978 \ubaa8\ub4e0 estimator\uc640 \ub3d9\uc77c\ud55c \uc778\ud130\ud398\uc774\uc2a4\ub97c \uac00\uc9d0\n",
      "- fit()\ub97c \uc0ac\uc6a9\ud574 \ud6c8\ub828\ud558\uace0, predict()\ub97c \uc0ac\uc6a9\ud574 \uc0c8\ub85c\uc6b4 \ub370\uc774\ud130 \uc778\uc2a4\ud134\uc2a4\uc758 \ubc94\uc8fc\ub97c \uc608\uc0c1\ud560 \uc218 \uc788\uc74c"
     ]
    },
    {
     "cell_type": "code",
     "collapsed": false,
     "input": [
      "help(knn.fit)"
     ],
     "language": "python",
     "metadata": {},
     "outputs": [
      {
       "output_type": "stream",
       "stream": "stdout",
       "text": [
        "Help on method fit in module sklearn.neighbors.base:\n",
        "\n",
        "fit(self, X, y) method of sklearn.neighbors.classification.KNeighborsClassifier instance\n",
        "    Fit the model using X as training data and y as target values\n",
        "    \n",
        "    Parameters\n",
        "    ----------\n",
        "    X : {array-like, sparse matrix, BallTree, KDTree}\n",
        "        Training data. If array or matrix, shape = [n_samples, n_features]\n",
        "    \n",
        "    y : {array-like, sparse matrix}\n",
        "        Target values of shape = [n_samples] or [n_samples, n_outputs]\n",
        "\n"
       ]
      }
     ],
     "prompt_number": 123
    },
    {
     "cell_type": "code",
     "collapsed": false,
     "input": [
      "# fit: \ud6c8\ub828\n",
      "knn.fit([[1], [2], [3], [4], [5], [6]], [0,0,0,1,1,1])"
     ],
     "language": "python",
     "metadata": {},
     "outputs": [
      {
       "metadata": {},
       "output_type": "pyout",
       "prompt_number": 156,
       "text": [
        "KNeighborsClassifier(algorithm='auto', leaf_size=30, metric='minkowski',\n",
        "           metric_params=None, n_neighbors=5, p=2, weights='uniform')"
       ]
      }
     ],
     "prompt_number": 156
    },
    {
     "cell_type": "code",
     "collapsed": false,
     "input": [
      "# predict: \uc0c8\ub85c\uc6b4 \ub370\uc774\ud130 \uc778\uc2a4\ud134\uc2a4\uc758 \ubc94\uc8fc \uc608\uc0c1\n",
      "knn.predict(1.5)"
     ],
     "language": "python",
     "metadata": {},
     "outputs": [
      {
       "metadata": {},
       "output_type": "pyout",
       "prompt_number": 157,
       "text": [
        "array([0])"
       ]
      }
     ],
     "prompt_number": 157
    },
    {
     "cell_type": "code",
     "collapsed": false,
     "input": [
      "knn.predict(37)"
     ],
     "language": "python",
     "metadata": {},
     "outputs": [
      {
       "metadata": {},
       "output_type": "pyout",
       "prompt_number": 158,
       "text": [
        "array([1])"
       ]
      }
     ],
     "prompt_number": 158
    },
    {
     "cell_type": "code",
     "collapsed": false,
     "input": [
      "knn.predict(3)"
     ],
     "language": "python",
     "metadata": {},
     "outputs": [
      {
       "metadata": {},
       "output_type": "pyout",
       "prompt_number": 159,
       "text": [
        "array([0])"
       ]
      }
     ],
     "prompt_number": 159
    },
    {
     "cell_type": "code",
     "collapsed": false,
     "input": [
      "knn.predict(4)"
     ],
     "language": "python",
     "metadata": {},
     "outputs": [
      {
       "metadata": {},
       "output_type": "pyout",
       "prompt_number": 175,
       "text": [
        "array([1])"
       ]
      }
     ],
     "prompt_number": 175
    },
    {
     "cell_type": "code",
     "collapsed": false,
     "input": [
      "knn.predict(5)"
     ],
     "language": "python",
     "metadata": {},
     "outputs": [
      {
       "metadata": {},
       "output_type": "pyout",
       "prompt_number": 176,
       "text": [
        "array([1])"
       ]
      }
     ],
     "prompt_number": 176
    },
    {
     "cell_type": "markdown",
     "metadata": {},
     "source": [
      "- \ubc94\uc8fc\uc758 \ud655\ub960\uc744 \uc5bb\uace0\uc790 \ud558\uba74 predict_proba()\ub97c \uc0ac\uc6a9\ud568\n",
      "- \uc774\ubc88 \uacbd\uc6b0\uc5d0\ub294, \ub450 \ubc94\uc8fc 0\uacfc 1\uc774\uae30 \ub54c\ubb38\uc5d0 \uc544\ub798\uc640 \uac19\uc774 \ub450 \uc6d0\uc18c \ubc30\uc5f4\uc744 \ubc18\ud658\ud568"
     ]
    },
    {
     "cell_type": "code",
     "collapsed": false,
     "input": [
      "help(knn.predict_proba)"
     ],
     "language": "python",
     "metadata": {},
     "outputs": [
      {
       "output_type": "stream",
       "stream": "stdout",
       "text": [
        "Help on method predict_proba in module sklearn.neighbors.classification:\n",
        "\n",
        "predict_proba(self, X) method of sklearn.neighbors.classification.KNeighborsClassifier instance\n",
        "    Return probability estimates for the test data X.\n",
        "    \n",
        "    Parameters\n",
        "    ----------\n",
        "    X : array, shape = (n_samples, n_features)\n",
        "        A 2-D array representing the test points.\n",
        "    \n",
        "    Returns\n",
        "    -------\n",
        "    p : array of shape = [n_samples, n_classes], or a list of n_outputs\n",
        "        of such arrays if n_outputs > 1.\n",
        "        The class probabilities of the input samples. Classes are ordered\n",
        "        by lexicographic order.\n",
        "\n"
       ]
      }
     ],
     "prompt_number": 51
    },
    {
     "cell_type": "code",
     "collapsed": false,
     "input": [
      "# \uccab\ubc88\uc9f8 0, \ub450\ubc88\uc9f8 1\uc77c \ud655\ub960\n",
      "knn.predict_proba(1.5)"
     ],
     "language": "python",
     "metadata": {},
     "outputs": [
      {
       "metadata": {},
       "output_type": "pyout",
       "prompt_number": 10,
       "text": [
        "array([[ 1.,  0.]])"
       ]
      }
     ],
     "prompt_number": 10
    },
    {
     "cell_type": "code",
     "collapsed": false,
     "input": [
      "knn.predict_proba(4)"
     ],
     "language": "python",
     "metadata": {},
     "outputs": [
      {
       "metadata": {},
       "output_type": "pyout",
       "prompt_number": 49,
       "text": [
        "array([[ 0.5,  0.5]])"
       ]
      }
     ],
     "prompt_number": 49
    },
    {
     "cell_type": "code",
     "collapsed": false,
     "input": [
      "knn.predict_proba(5)"
     ],
     "language": "python",
     "metadata": {},
     "outputs": [
      {
       "metadata": {},
       "output_type": "pyout",
       "prompt_number": 50,
       "text": [
        "array([[ 0.,  1.]])"
       ]
      }
     ],
     "prompt_number": 50
    },
    {
     "cell_type": "code",
     "collapsed": false,
     "input": [
      "knn.predict_proba(37)"
     ],
     "language": "python",
     "metadata": {},
     "outputs": [
      {
       "metadata": {},
       "output_type": "pyout",
       "prompt_number": 11,
       "text": [
        "array([[ 0.,  1.]])"
       ]
      }
     ],
     "prompt_number": 11
    },
    {
     "cell_type": "code",
     "collapsed": false,
     "input": [
      "knn.predict_proba(3.5)"
     ],
     "language": "python",
     "metadata": {},
     "outputs": [
      {
       "metadata": {},
       "output_type": "pyout",
       "prompt_number": 12,
       "text": [
        "array([[ 0.5,  0.5]])"
       ]
      }
     ],
     "prompt_number": 12
    },
    {
     "cell_type": "markdown",
     "metadata": {},
     "source": [
      "### \uc18d\uc131 \uac1c\uc120\n",
      "\n",
      "- \uadf8\ub7fc \uc5b4\ub5a4 \uc18d\uc131\uc744 \ubd84\ub958\uae30\uc5d0 \ub123\uc5b4\uc57c \ud560\uae4c?\n",
      "- \uac00\uc7a5 \uad6c\ubd84\uc801\uc778 \ub2a5\ub825\uc740 \ubb34\uc5c7\uc77c\uae4c?\n",
      "- TimeToAnswer \uc18d\uc131\uc740 \uc774\ubbf8 meta \ub515\uc154\ub108\ub9ac\uc5d0 \uc788\uc73c\ub098, \uc544\ub9c8\ub3c4 \uadf8 \uc790\uccb4\uc5d0\uc11c \ub9ce\uc740 \uac12\uc744 \uc81c\uacf5\ud558\uc9c0 \ubabb\ud560 \uac83\n",
      "- Text\uac00 \uc788\uc73c\ub098 \uc6d0\uc2dc \ud615\ud0dc(raw form)\uc5ec\uc11c, \uc18d\uc131\uc774 \uc218\uce58 \ud615\ud0dc\uc5ec\uc57c \ud558\ub294 \ubd84\ub958\uae30\uc5d0 \uc801\ud569\ud558\uc9c0 \uc54a\uc74c\n",
      "- \ud14d\uc2a4\ud2b8\uc5d0\uc11c \uc18d\uc131\uc744 \ubf51\uc544\ub0b4\uae30 \uc704\ud574 \ubd80\uac00\uc801\uc778 \uc791\uc5c5\uc744 \ud574\uc57c \ud568\n",
      "- \ub2f5\ubcc0\uc758 \uc9c8\uc758 \ub300\ub9ac\uac12\uc73c\ub85c \ub2f5\ubcc0\uc758 HTML \ub9c1\ud06c \uc218\ub97c \ud655\uc778\ud558\uba74 \ub418\ub294\ub370, \uc5ec\uae30\uc11c \uc6b0\ub9ac\uc758 \uac00\uc124\uc740 \ub2f5\ubcc0 \uc548\uc5d0 \ud558\uc774\ud37c\ub9c1\ud06c\uac00 \ub9ce\uc73c\uba74 \ub9ce\uc744\uc218\ub85d \ub354 \ub098\uc740 \ub2f5\ubcc0\uc774\uace0 \ub530\ub77c\uc11c \ub192\uac8c \ud22c\ud45c\ub418\ub294 \uacbd\ud5a5\uc774 \uc788\ub2e4\ub294 \uac83\n",
      "- \ubb3c\ub860 \ucf54\ub4dc \uc608\uc81c\uac00 \uc544\ub2cc \uc77c\ubc18 \ud14d\uc2a4\ud2b8\uc5d0\uc11c \ub9c1\ud06c \uc218\ub97c \uc138\uace0\uc790 \ud568"
     ]
    },
    {
     "cell_type": "code",
     "collapsed": false,
     "input": [
      "import re"
     ],
     "language": "python",
     "metadata": {},
     "outputs": [],
     "prompt_number": 54
    },
    {
     "cell_type": "code",
     "collapsed": false,
     "input": [
      "code_match = re.compile('<pre>(.*?)</pre>',\n",
      "                        re.MULTILINE|re.DOTALL)"
     ],
     "language": "python",
     "metadata": {},
     "outputs": [],
     "prompt_number": 55
    },
    {
     "cell_type": "code",
     "collapsed": false,
     "input": [
      "link_match = re.compile('<a href=\"http://.*?\".*?>(.*?)</a>',\n",
      "                        re.MULTILINE|re.DOTALL)"
     ],
     "language": "python",
     "metadata": {},
     "outputs": [],
     "prompt_number": 56
    },
    {
     "cell_type": "code",
     "collapsed": false,
     "input": [
      "# \uc774 \uc18c\uc2a4\ub294 \uc774\ubbf8 so_xml_to.tsv.py \uc5d0 \ub4e4\uc5b4\uc788\ub294 \ub0b4\uc6a9\n",
      "# \uc774\ubbf8 \ud30c\uc77c\uc744 \uc77d\uc744 \ub54c \ud30c\uc2f1\ud574\uc11c \ubd88\ub7ec\ub4e4\uc600\uc74c\n",
      "def extract_features_from_body(s):\n",
      "    link_count_in_code = 0\n",
      "    # \ucf54\ub4dc \uc548\uc758 \ub9c1\ud06c \uc218 \uc138\uae30. \ud6c4\uc5d0 \uc804\uccb4\uc5d0\uc11c \ucf54\ub4dc \ub9c1\ud06c \uc218\ub97c \ube80\ub2e4\n",
      "    for match_str in code_match.findall(s):\n",
      "        link_count_in_code += len(link_match.findall(match_str))\n",
      "    return len(link_match.findall(s)) - link_count_in_code"
     ],
     "language": "python",
     "metadata": {},
     "outputs": [],
     "prompt_number": 57
    },
    {
     "cell_type": "markdown",
     "metadata": {},
     "source": [
      "> \uc2e4\uc81c \uc2dc\uc2a4\ud15c\uc5d0\uc11c\ub294 \uc815\uaddc \ud45c\ud604\uc2dd\uc73c\ub85c HTML \ub0b4\uc6a9\uc744 \ubd84\uc11d\ud558\uc9c0 \uc54a\uc74c. \ub300\uc2e0\uc5d0, BeautifulSoup \uac19\uc740 \ud6cc\ub96d\ud55c \ub77c\uc774\ube0c\ub7ec\ub9ac\ub97c \uc0ac\uc6a9\ud568. \uc774 \ub77c\uc774\ube0c\ub7ec\ub9ac\ub294 HTML\uc5d0\uc11c \uc77c\uc5b4\ub098\ub294 \ubaa8\ub4e0 \uae30\uc774\ud55c \uc77c\uc744 \uac15\uac74\ud558\uac8c \ucc98\ub9ac\ud568"
     ]
    },
    {
     "cell_type": "markdown",
     "metadata": {},
     "source": [
      "- \uc5ec\uae30\uc11c \uc774 \ud568\uc218\ub97c \ud1b5\ud574 \ub2f5\ubcc0\ub9c8\ub2e4 \ud558\ub098\uc758 \uc18d\uc131\uc744 \ub9cc\ub4e4\uc5b4\ub0bc \uc218 \uc788\uc74c\n",
      "- \ubd84\ub958\uae30\ub97c \ud6c8\ub828\ud558\uae30 \uc804\uc5d0, \uba3c\uc800 \ub370\uc774\ud130\ub97c \ub9c1\ud06c \uc218 \uae30\ubc18\uc73c\ub85c \uc0b4\ud3b4\ubcf4\uc790\n",
      "- \uc0c8\ub85c\uc6b4 \ub9c1\ud06c \uc218 \uc18d\uc131\uc758 \ube48\ub3c4 \ubd84\uc0b0\uc744 \uac1c\uad04\uc801\uc73c\ub85c \ubcfc \uc218 \uc788\uc74c\n",
      "- \ub2e4\uc74c \uadf8\ub798\ud504\ub294 \ub370\uc774\ud130\uc5d0\uc11c \ub9c1\ud06c\uac00 \ub098\ud0c0\ub0a0 \ube44\uc728\uc744 \ub3c4\uc2dd\ud654\ud588\uc74c\n",
      "\n",
      "<img src=\"files/images/link_count.png\" width=300 />"
     ]
    },
    {
     "cell_type": "markdown",
     "metadata": {},
     "source": [
      "- \ub300\ubd80\ubd84\uc758 \uac8c\uc2dc\ubb3c\uc5d0\ub294 \ub9c1\ud06c\uac00 \uc804\ud600 \uc5c6\ub2e4.\n",
      "- \uc774 \uc18d\uc131\uc73c\ub85c \uc88b\uc740 \ubd84\ub958\uae30\ub97c \ub9cc\ub4e4 \uc218 \uc5c6\ub2e4\ub294 \uc0ac\uc2e4\uc744 \uc54c \uc218 \uc788\uc74c\n",
      "- \uadf8\ub7fc\uc5d0\ub3c4 \ubd88\uad6c\ud558\uace0, \uc6b0\ub9ac\uac00 \uc5b4\ub514\uc5d0 \uc788\ub294\uc9c0\uc5d0 \ub300\ud55c \uccab\ubc88\uc9f8 \ucd94\uc815\uc744 \ud574\ubcf4\uc790"
     ]
    },
    {
     "cell_type": "markdown",
     "metadata": {},
     "source": [
      "### \ubd84\ub958\uae30 \ud6c8\ub828\n",
      "\n",
      "- \ubd84\ub958\uae30\ub97c \uc5bb\uae30 \uc704\ud574 \uc774\uc804\uc5d0 \uc815\uc758\ud55c Y \ub77c\ubca0\ub85c\uac00 \uc18d\uc131 \ubc30\uc5f4\uc744 \ud568\uaed8 kNN \ud559\uc2b5\uae30\uc5d0 \uc785\ub825"
     ]
    },
    {
     "cell_type": "code",
     "collapsed": false,
     "input": [
      "X = np.asarray([extract_features_from_body(text) for post_id, text in \n",
      "                fetch_posts() if post_id in all_answers])"
     ],
     "language": "python",
     "metadata": {},
     "outputs": [],
     "prompt_number": 63
    },
    {
     "cell_type": "code",
     "collapsed": false,
     "input": [
      "knn = neighbors.KNeighborsClassifier()"
     ],
     "language": "python",
     "metadata": {},
     "outputs": [],
     "prompt_number": 64
    },
    {
     "cell_type": "code",
     "collapsed": false,
     "input": [
      "knn.fit(X, Y)"
     ],
     "language": "python",
     "metadata": {},
     "outputs": [
      {
       "metadata": {},
       "output_type": "pyout",
       "prompt_number": 65,
       "text": [
        "KNeighborsClassifier(algorithm='auto', leaf_size=30, metric='minkowski',\n",
        "           metric_params=None, n_neighbors=5, p=2, weights='uniform')"
       ]
      }
     ],
     "prompt_number": 65
    },
    {
     "cell_type": "markdown",
     "metadata": {},
     "source": [
      "- \ud45c\uc900 \ub9e4\uac1c\ubcc0\uc218\ub97c \uc0ac\uc6a9\ud574 \ub370\uc774\ud130\uc5d0 \ub300\ud574 5NN(k = 5\uc778 Nearest Neighbor) \uace0\uc815\n",
      "- \uc65c 5NN\uc77c\uae4c? \ub370\uc774\ud130\uc5d0 \ub300\ud574 \ud604\uc7ac \uc6b0\ub9ac\uac00 \uc54c\uace0\uc788\ub294 \uc9c0\uc2dd\uc73c\ub85c\ub294, \uc801\uc808\ud55c k\uac00 \ubb34\uc5c7\uc778\uc9c0 \uc544\ubb34 \uc2e4\ub9c8\ub9ac\uac00 \uc5c6\uc74c\n",
      "- \ud1b5\ucc30\ub825\uc744 \ub354 \ub192\ud788\uba74, k\uac12\uc744 \uc5b4\ub5bb\uac8c \uc124\uc815\ud560\uc9c0 \ub354 \ub098\uc740 \uc544\uc774\ub514\uc5b4\uac00 \ub098\uc62c \uc218 \uc788\uc74c"
     ]
    },
    {
     "cell_type": "markdown",
     "metadata": {},
     "source": [
      "### \ubd84\ub958\uae30\uc758 \uc131\ub2a5 \uce21\uc815\n",
      "\n",
      "- \ubb34\uc5c7\uc744 \uce21\uc815\ud560\uc9c0 \uba85\ud655\ud788 \ud558\uc790\n",
      "- \uc880 \uc21c\ubc15\ud558\uace0 \uc26c\uc6b4 \ubc29\ubc95\uc740 \ud14c\uc2a4\ud2b8\uc14b\uc5d0 \ub300\ud55c \uc608\uc0c1\uac12 \ud3c9\uade0\uc744 \uad6c\ud558\ub294 \ubc29\ubc95\n",
      "- \uacb0\uacfc\uac12\uc740 \uc608\uc0c1\uc774 \ub9de\uc9c0 \uc54a\uc744 \uacbd\uc6b0\uc5d0\ub294 0\uc73c\ub85c, \uc801\uc911\ud560 \uacbd\uc6b0\uc5d0\ub294 1\ub85c \ub098\ud0c0\ub0c4\n",
      "- \uc815\ud655\ub3c4\ub294 knn.score()\ub97c \ud1b5\ud574 \uad6c\ud560 \uc218 \uc788\uc74c\n",
      "\n",
      "\n",
      "- \ub2e8 \ud55c \ubc88\uc73c\ub85c \uacb0\uacfc\uac12\uc744 \uc5bb\uc9c0 \uc54a\uace0 \uc5ec\uae30\uc11c\ub3c4 sklearn.cross_validation \uc5d0 \uc774\ubbf8 \uad6c\ud604\ub418\uc5b4 \uc788\ub294 KFold \ud074\ub798\uc2a4\ub97c \uc0ac\uc6a9\ud574 \uad50\ucc28 \uac80\uc99d\uc744 \uc801\uc6a9\ud558\uaca0\ub2e4.\n",
      "- \ub9c8\uc9c0\ub9c9\uc73c\ub85c, \uac01 \uc911\ucca9(fold)\uc758 \ud14c\uc2a4\ud2b8\uc14b\uc744 \ub300\uc0c1\uc73c\ub85c \uc810\uc218\ub4e4\uc758 \ud3c9\uade0\uc744 \uad6c\ud558\uace0, \ud45c\uc900\ud3b8\ucc28\ub97c \uc0ac\uc6a9\ud574 \uc5bc\ub9c8\ub9cc\ud07c \ub2e4\uc591\ud55c\uc9c0\ub97c \uc54c\uc544\ubcf4\uc790"
     ]
    },
    {
     "cell_type": "code",
     "collapsed": false,
     "input": [
      "from sklearn.cross_validation import KFold"
     ],
     "language": "python",
     "metadata": {},
     "outputs": [],
     "prompt_number": 66
    },
    {
     "cell_type": "code",
     "collapsed": false,
     "input": [
      "scores = []"
     ],
     "language": "python",
     "metadata": {},
     "outputs": [],
     "prompt_number": 67
    },
    {
     "cell_type": "code",
     "collapsed": false,
     "input": [
      "help(KFold)"
     ],
     "language": "python",
     "metadata": {},
     "outputs": [
      {
       "output_type": "stream",
       "stream": "stdout",
       "text": [
        "Help on class KFold in module sklearn.cross_validation:\n",
        "\n",
        "class KFold(_BaseKFold)\n",
        " |  K-Folds cross validation iterator.\n",
        " |  \n",
        " |  Provides train/test indices to split data in train test sets. Split\n",
        " |  dataset into k consecutive folds (without shuffling).\n",
        " |  \n",
        " |  Each fold is then used a validation set once while the k - 1 remaining\n",
        " |  fold form the training set.\n",
        " |  \n",
        " |  Parameters\n",
        " |  ----------\n",
        " |  n : int\n",
        " |      Total number of elements.\n",
        " |  \n",
        " |  n_folds : int, default=3\n",
        " |      Number of folds. Must be at least 2.\n",
        " |  \n",
        " |  shuffle : boolean, optional\n",
        " |      Whether to shuffle the data before splitting into batches.\n",
        " |  \n",
        " |  random_state : None, int or RandomState\n",
        " |      Pseudo-random number generator state used for random\n",
        " |      sampling. If None, use default numpy RNG for shuffling\n",
        " |  \n",
        " |  Examples\n",
        " |  --------\n",
        " |  >>> from sklearn import cross_validation\n",
        " |  >>> X = np.array([[1, 2], [3, 4], [1, 2], [3, 4]])\n",
        " |  >>> y = np.array([1, 2, 3, 4])\n",
        " |  >>> kf = cross_validation.KFold(4, n_folds=2)\n",
        " |  >>> len(kf)\n",
        " |  2\n",
        " |  >>> print(kf)  # doctest: +NORMALIZE_WHITESPACE\n",
        " |  sklearn.cross_validation.KFold(n=4, n_folds=2, shuffle=False,\n",
        " |                                 random_state=None)\n",
        " |  >>> for train_index, test_index in kf:\n",
        " |  ...    print(\"TRAIN:\", train_index, \"TEST:\", test_index)\n",
        " |  ...    X_train, X_test = X[train_index], X[test_index]\n",
        " |  ...    y_train, y_test = y[train_index], y[test_index]\n",
        " |  TRAIN: [2 3] TEST: [0 1]\n",
        " |  TRAIN: [0 1] TEST: [2 3]\n",
        " |  \n",
        " |  Notes\n",
        " |  -----\n",
        " |  The first n % n_folds folds have size n // n_folds + 1, other folds have\n",
        " |  size n // n_folds.\n",
        " |  \n",
        " |  See also\n",
        " |  --------\n",
        " |  StratifiedKFold: take label information into account to avoid building\n",
        " |  folds with imbalanced class distributions (for binary or multiclass\n",
        " |  classification tasks).\n",
        " |  \n",
        " |  Method resolution order:\n",
        " |      KFold\n",
        " |      _BaseKFold\n",
        " |      abc.NewBase\n",
        " |      _PartitionIterator\n",
        " |      abc.NewBase\n",
        " |      __builtin__.object\n",
        " |  \n",
        " |  Methods defined here:\n",
        " |  \n",
        " |  __init__(self, n, n_folds=3, indices=None, shuffle=False, random_state=None)\n",
        " |  \n",
        " |  __len__(self)\n",
        " |  \n",
        " |  __repr__(self)\n",
        " |  \n",
        " |  ----------------------------------------------------------------------\n",
        " |  Data and other attributes defined here:\n",
        " |  \n",
        " |  __abstractmethods__ = frozenset([])\n",
        " |  \n",
        " |  ----------------------------------------------------------------------\n",
        " |  Methods inherited from _PartitionIterator:\n",
        " |  \n",
        " |  __iter__(self)\n",
        " |  \n",
        " |  ----------------------------------------------------------------------\n",
        " |  Data descriptors inherited from _PartitionIterator:\n",
        " |  \n",
        " |  indices\n",
        " |  \n",
        " |  ----------------------------------------------------------------------\n",
        " |  Data descriptors inherited from abc.NewBase:\n",
        " |  \n",
        " |  __dict__\n",
        " |      dictionary for instance variables (if defined)\n",
        " |  \n",
        " |  __weakref__\n",
        " |      list of weak references to the object (if defined)\n",
        "\n"
       ]
      }
     ],
     "prompt_number": 69
    },
    {
     "cell_type": "code",
     "collapsed": false,
     "input": [
      "# k -> n_folds\n",
      "cv = KFold(n=len(X), n_folds=10, indices=True)"
     ],
     "language": "python",
     "metadata": {},
     "outputs": [
      {
       "output_type": "stream",
       "stream": "stderr",
       "text": [
        "/Users/re4lfl0w/.virtualenvs/general/lib/python2.7/site-packages/sklearn/cross_validation.py:65: DeprecationWarning: The indices parameter is deprecated and will be removed (assumed True) in 0.17\n",
        "  stacklevel=1)\n"
       ]
      }
     ],
     "prompt_number": 92
    },
    {
     "cell_type": "code",
     "collapsed": false,
     "input": [
      "cv"
     ],
     "language": "python",
     "metadata": {},
     "outputs": [
      {
       "metadata": {},
       "output_type": "pyout",
       "prompt_number": 93,
       "text": [
        "sklearn.cross_validation.KFold(n=2000, n_folds=10, shuffle=False, random_state=None)"
       ]
      }
     ],
     "prompt_number": 93
    },
    {
     "cell_type": "code",
     "collapsed": false,
     "input": [
      "scores = []"
     ],
     "language": "python",
     "metadata": {},
     "outputs": [],
     "prompt_number": 97
    },
    {
     "cell_type": "code",
     "collapsed": false,
     "input": [
      "help(clf.score)"
     ],
     "language": "python",
     "metadata": {},
     "outputs": [
      {
       "output_type": "stream",
       "stream": "stdout",
       "text": [
        "Help on method score in module sklearn.base:\n",
        "\n",
        "score(self, X, y, sample_weight=None) method of sklearn.neighbors.classification.KNeighborsClassifier instance\n",
        "    Returns the mean accuracy on the given test data and labels.\n",
        "    \n",
        "    Parameters\n",
        "    ----------\n",
        "    X : array-like, shape = (n_samples, n_features)\n",
        "        Test samples.\n",
        "    \n",
        "    y : array-like, shape = (n_samples,)\n",
        "        True labels for X.\n",
        "    \n",
        "    sample_weight : array-like, shape = [n_samples], optional\n",
        "        Sample weights.\n",
        "    \n",
        "    Returns\n",
        "    -------\n",
        "    score : float\n",
        "        Mean accuracy of self.predict(X) wrt. y.\n",
        "\n"
       ]
      }
     ],
     "prompt_number": 109
    },
    {
     "cell_type": "code",
     "collapsed": false,
     "input": [
      "for train, test in cv:\n",
      "    X_train, y_train = X[train], Y[train]\n",
      "    X_test, y_test = X[test], Y[test]\n",
      "    clf = neighbors.KNeighborsClassifier()\n",
      "    clf.fit(X_train, y_train)\n",
      "    scores.append(clf.score(X_test, y_test))"
     ],
     "language": "python",
     "metadata": {},
     "outputs": [
      {
       "ename": "ValueError",
       "evalue": "Incompatible dimension for X and Y matrices: X.shape[1] == 200 while Y.shape[1] == 1800",
       "output_type": "pyerr",
       "traceback": [
        "\u001b[0;31m---------------------------------------------------------------------------\u001b[0m\n\u001b[0;31mValueError\u001b[0m                                Traceback (most recent call last)",
        "\u001b[0;32m<ipython-input-108-c9ca30f791e9>\u001b[0m in \u001b[0;36m<module>\u001b[0;34m()\u001b[0m\n\u001b[1;32m      4\u001b[0m     \u001b[0mclf\u001b[0m \u001b[0;34m=\u001b[0m \u001b[0mneighbors\u001b[0m\u001b[0;34m.\u001b[0m\u001b[0mKNeighborsClassifier\u001b[0m\u001b[0;34m(\u001b[0m\u001b[0;34m)\u001b[0m\u001b[0;34m\u001b[0m\u001b[0m\n\u001b[1;32m      5\u001b[0m     \u001b[0mclf\u001b[0m\u001b[0;34m.\u001b[0m\u001b[0mfit\u001b[0m\u001b[0;34m(\u001b[0m\u001b[0mX_train\u001b[0m\u001b[0;34m,\u001b[0m \u001b[0my_train\u001b[0m\u001b[0;34m)\u001b[0m\u001b[0;34m\u001b[0m\u001b[0m\n\u001b[0;32m----> 6\u001b[0;31m     \u001b[0mscores\u001b[0m\u001b[0;34m.\u001b[0m\u001b[0mappend\u001b[0m\u001b[0;34m(\u001b[0m\u001b[0mclf\u001b[0m\u001b[0;34m.\u001b[0m\u001b[0mscore\u001b[0m\u001b[0;34m(\u001b[0m\u001b[0mX_test\u001b[0m\u001b[0;34m,\u001b[0m \u001b[0my_test\u001b[0m\u001b[0;34m)\u001b[0m\u001b[0;34m)\u001b[0m\u001b[0;34m\u001b[0m\u001b[0m\n\u001b[0m",
        "\u001b[0;32m/Users/re4lfl0w/.virtualenvs/general/lib/python2.7/site-packages/sklearn/base.pyc\u001b[0m in \u001b[0;36mscore\u001b[0;34m(self, X, y, sample_weight)\u001b[0m\n\u001b[1;32m    289\u001b[0m         \"\"\"\n\u001b[1;32m    290\u001b[0m         \u001b[0;32mfrom\u001b[0m \u001b[0;34m.\u001b[0m\u001b[0mmetrics\u001b[0m \u001b[0;32mimport\u001b[0m \u001b[0maccuracy_score\u001b[0m\u001b[0;34m\u001b[0m\u001b[0m\n\u001b[0;32m--> 291\u001b[0;31m         \u001b[0;32mreturn\u001b[0m \u001b[0maccuracy_score\u001b[0m\u001b[0;34m(\u001b[0m\u001b[0my\u001b[0m\u001b[0;34m,\u001b[0m \u001b[0mself\u001b[0m\u001b[0;34m.\u001b[0m\u001b[0mpredict\u001b[0m\u001b[0;34m(\u001b[0m\u001b[0mX\u001b[0m\u001b[0;34m)\u001b[0m\u001b[0;34m,\u001b[0m \u001b[0msample_weight\u001b[0m\u001b[0;34m=\u001b[0m\u001b[0msample_weight\u001b[0m\u001b[0;34m)\u001b[0m\u001b[0;34m\u001b[0m\u001b[0m\n\u001b[0m\u001b[1;32m    292\u001b[0m \u001b[0;34m\u001b[0m\u001b[0m\n\u001b[1;32m    293\u001b[0m \u001b[0;34m\u001b[0m\u001b[0m\n",
        "\u001b[0;32m/Users/re4lfl0w/.virtualenvs/general/lib/python2.7/site-packages/sklearn/neighbors/classification.pyc\u001b[0m in \u001b[0;36mpredict\u001b[0;34m(self, X)\u001b[0m\n\u001b[1;32m    145\u001b[0m         \u001b[0mX\u001b[0m \u001b[0;34m=\u001b[0m \u001b[0matleast2d_or_csr\u001b[0m\u001b[0;34m(\u001b[0m\u001b[0mX\u001b[0m\u001b[0;34m)\u001b[0m\u001b[0;34m\u001b[0m\u001b[0m\n\u001b[1;32m    146\u001b[0m \u001b[0;34m\u001b[0m\u001b[0m\n\u001b[0;32m--> 147\u001b[0;31m         \u001b[0mneigh_dist\u001b[0m\u001b[0;34m,\u001b[0m \u001b[0mneigh_ind\u001b[0m \u001b[0;34m=\u001b[0m \u001b[0mself\u001b[0m\u001b[0;34m.\u001b[0m\u001b[0mkneighbors\u001b[0m\u001b[0;34m(\u001b[0m\u001b[0mX\u001b[0m\u001b[0;34m)\u001b[0m\u001b[0;34m\u001b[0m\u001b[0m\n\u001b[0m\u001b[1;32m    148\u001b[0m \u001b[0;34m\u001b[0m\u001b[0m\n\u001b[1;32m    149\u001b[0m         \u001b[0mclasses_\u001b[0m \u001b[0;34m=\u001b[0m \u001b[0mself\u001b[0m\u001b[0;34m.\u001b[0m\u001b[0mclasses_\u001b[0m\u001b[0;34m\u001b[0m\u001b[0m\n",
        "\u001b[0;32m/Users/re4lfl0w/.virtualenvs/general/lib/python2.7/site-packages/sklearn/neighbors/base.pyc\u001b[0m in \u001b[0;36mkneighbors\u001b[0;34m(self, X, n_neighbors, return_distance)\u001b[0m\n\u001b[1;32m    310\u001b[0m             \u001b[0;32mif\u001b[0m \u001b[0mself\u001b[0m\u001b[0;34m.\u001b[0m\u001b[0meffective_metric_\u001b[0m \u001b[0;34m==\u001b[0m \u001b[0;34m'euclidean'\u001b[0m\u001b[0;34m:\u001b[0m\u001b[0;34m\u001b[0m\u001b[0m\n\u001b[1;32m    311\u001b[0m                 dist = pairwise_distances(X, self._fit_X, 'euclidean',\n\u001b[0;32m--> 312\u001b[0;31m                                           squared=True)\n\u001b[0m\u001b[1;32m    313\u001b[0m             \u001b[0;32melse\u001b[0m\u001b[0;34m:\u001b[0m\u001b[0;34m\u001b[0m\u001b[0m\n\u001b[1;32m    314\u001b[0m                 dist = pairwise_distances(X, self._fit_X,\n",
        "\u001b[0;32m/Users/re4lfl0w/.virtualenvs/general/lib/python2.7/site-packages/sklearn/metrics/pairwise.pyc\u001b[0m in \u001b[0;36mpairwise_distances\u001b[0;34m(X, Y, metric, n_jobs, **kwds)\u001b[0m\n\u001b[1;32m   1071\u001b[0m         \u001b[0mfunc\u001b[0m \u001b[0;34m=\u001b[0m \u001b[0mPAIRWISE_DISTANCE_FUNCTIONS\u001b[0m\u001b[0;34m[\u001b[0m\u001b[0mmetric\u001b[0m\u001b[0;34m]\u001b[0m\u001b[0;34m\u001b[0m\u001b[0m\n\u001b[1;32m   1072\u001b[0m         \u001b[0;32mif\u001b[0m \u001b[0mn_jobs\u001b[0m \u001b[0;34m==\u001b[0m \u001b[0;36m1\u001b[0m\u001b[0;34m:\u001b[0m\u001b[0;34m\u001b[0m\u001b[0m\n\u001b[0;32m-> 1073\u001b[0;31m             \u001b[0;32mreturn\u001b[0m \u001b[0mfunc\u001b[0m\u001b[0;34m(\u001b[0m\u001b[0mX\u001b[0m\u001b[0;34m,\u001b[0m \u001b[0mY\u001b[0m\u001b[0;34m,\u001b[0m \u001b[0;34m**\u001b[0m\u001b[0mkwds\u001b[0m\u001b[0;34m)\u001b[0m\u001b[0;34m\u001b[0m\u001b[0m\n\u001b[0m\u001b[1;32m   1074\u001b[0m         \u001b[0;32melse\u001b[0m\u001b[0;34m:\u001b[0m\u001b[0;34m\u001b[0m\u001b[0m\n\u001b[1;32m   1075\u001b[0m             \u001b[0;32mreturn\u001b[0m \u001b[0m_parallel_pairwise\u001b[0m\u001b[0;34m(\u001b[0m\u001b[0mX\u001b[0m\u001b[0;34m,\u001b[0m \u001b[0mY\u001b[0m\u001b[0;34m,\u001b[0m \u001b[0mfunc\u001b[0m\u001b[0;34m,\u001b[0m \u001b[0mn_jobs\u001b[0m\u001b[0;34m,\u001b[0m \u001b[0;34m**\u001b[0m\u001b[0mkwds\u001b[0m\u001b[0;34m)\u001b[0m\u001b[0;34m\u001b[0m\u001b[0m\n",
        "\u001b[0;32m/Users/re4lfl0w/.virtualenvs/general/lib/python2.7/site-packages/sklearn/metrics/pairwise.pyc\u001b[0m in \u001b[0;36meuclidean_distances\u001b[0;34m(X, Y, Y_norm_squared, squared)\u001b[0m\n\u001b[1;32m    197\u001b[0m     \u001b[0;31m# well as Y, then you should just pre-compute the output and not even\u001b[0m\u001b[0;34m\u001b[0m\u001b[0;34m\u001b[0m\u001b[0m\n\u001b[1;32m    198\u001b[0m     \u001b[0;31m# call this function.\u001b[0m\u001b[0;34m\u001b[0m\u001b[0;34m\u001b[0m\u001b[0m\n\u001b[0;32m--> 199\u001b[0;31m     \u001b[0mX\u001b[0m\u001b[0;34m,\u001b[0m \u001b[0mY\u001b[0m \u001b[0;34m=\u001b[0m \u001b[0mcheck_pairwise_arrays\u001b[0m\u001b[0;34m(\u001b[0m\u001b[0mX\u001b[0m\u001b[0;34m,\u001b[0m \u001b[0mY\u001b[0m\u001b[0;34m)\u001b[0m\u001b[0;34m\u001b[0m\u001b[0m\n\u001b[0m\u001b[1;32m    200\u001b[0m \u001b[0;34m\u001b[0m\u001b[0m\n\u001b[1;32m    201\u001b[0m     \u001b[0;32mif\u001b[0m \u001b[0mY_norm_squared\u001b[0m \u001b[0;32mis\u001b[0m \u001b[0;32mnot\u001b[0m \u001b[0mNone\u001b[0m\u001b[0;34m:\u001b[0m\u001b[0;34m\u001b[0m\u001b[0m\n",
        "\u001b[0;32m/Users/re4lfl0w/.virtualenvs/general/lib/python2.7/site-packages/sklearn/metrics/pairwise.pyc\u001b[0m in \u001b[0;36mcheck_pairwise_arrays\u001b[0;34m(X, Y)\u001b[0m\n\u001b[1;32m     95\u001b[0m         raise ValueError(\"Incompatible dimension for X and Y matrices: \"\n\u001b[1;32m     96\u001b[0m                          \"X.shape[1] == %d while Y.shape[1] == %d\" % (\n\u001b[0;32m---> 97\u001b[0;31m                              X.shape[1], Y.shape[1]))\n\u001b[0m\u001b[1;32m     98\u001b[0m \u001b[0;34m\u001b[0m\u001b[0m\n\u001b[1;32m     99\u001b[0m     \u001b[0;32mif\u001b[0m \u001b[0;32mnot\u001b[0m \u001b[0;34m(\u001b[0m\u001b[0mX\u001b[0m\u001b[0;34m.\u001b[0m\u001b[0mdtype\u001b[0m \u001b[0;34m==\u001b[0m \u001b[0mY\u001b[0m\u001b[0;34m.\u001b[0m\u001b[0mdtype\u001b[0m \u001b[0;34m==\u001b[0m \u001b[0mnp\u001b[0m\u001b[0;34m.\u001b[0m\u001b[0mfloat32\u001b[0m\u001b[0;34m)\u001b[0m\u001b[0;34m:\u001b[0m\u001b[0;34m\u001b[0m\u001b[0m\n",
        "\u001b[0;31mValueError\u001b[0m: Incompatible dimension for X and Y matrices: X.shape[1] == 200 while Y.shape[1] == 1800"
       ]
      }
     ],
     "prompt_number": 108
    },
    {
     "cell_type": "code",
     "collapsed": false,
     "input": [
      "X.shape"
     ],
     "language": "python",
     "metadata": {},
     "outputs": [
      {
       "metadata": {},
       "output_type": "pyout",
       "prompt_number": 82,
       "text": [
        "(2000,)"
       ]
      }
     ],
     "prompt_number": 82
    },
    {
     "cell_type": "code",
     "collapsed": false,
     "input": [
      "Y.shape"
     ],
     "language": "python",
     "metadata": {},
     "outputs": [
      {
       "metadata": {},
       "output_type": "pyout",
       "prompt_number": 83,
       "text": [
        "(2000,)"
       ]
      }
     ],
     "prompt_number": 83
    },
    {
     "cell_type": "code",
     "collapsed": false,
     "input": [
      "X_train.shape"
     ],
     "language": "python",
     "metadata": {},
     "outputs": [
      {
       "metadata": {},
       "output_type": "pyout",
       "prompt_number": 84,
       "text": [
        "(1800,)"
       ]
      }
     ],
     "prompt_number": 84
    },
    {
     "cell_type": "code",
     "collapsed": false,
     "input": [
      "y_train.shape"
     ],
     "language": "python",
     "metadata": {},
     "outputs": [
      {
       "metadata": {},
       "output_type": "pyout",
       "prompt_number": 85,
       "text": [
        "(1800,)"
       ]
      }
     ],
     "prompt_number": 85
    },
    {
     "cell_type": "code",
     "collapsed": false,
     "input": [
      "X_test.shape"
     ],
     "language": "python",
     "metadata": {},
     "outputs": [
      {
       "metadata": {},
       "output_type": "pyout",
       "prompt_number": 90,
       "text": [
        "(200,)"
       ]
      }
     ],
     "prompt_number": 90
    },
    {
     "cell_type": "code",
     "collapsed": false,
     "input": [
      "y_test.shape"
     ],
     "language": "python",
     "metadata": {},
     "outputs": [
      {
       "metadata": {},
       "output_type": "pyout",
       "prompt_number": 91,
       "text": [
        "(200,)"
       ]
      }
     ],
     "prompt_number": 91
    },
    {
     "cell_type": "code",
     "collapsed": false,
     "input": [
      "print('Mean(scores)=%.5f\\tStddev(scores)=%.5f' % (np.mean(scores), \n",
      "                                                  np.std(scores)))"
     ],
     "language": "python",
     "metadata": {},
     "outputs": []
    },
    {
     "cell_type": "markdown",
     "metadata": {},
     "source": [
      "Mean(socres) = 0.49100 Stddev(scores) = 0.02888"
     ]
    },
    {
     "cell_type": "markdown",
     "metadata": {},
     "source": [
      "- \uc774 \uacb0\uacfc\ub294 \uc0ac\uc6a9\ud560 \uc218 \uc5c6\uc74c\n",
      "- 49%\uc758 \uc815\ud655\ub3c4\ub294 \ub3d9\uc804 \ub358\uc9c0\uae30\ubcf4\ub2e4 \ubabb\ud568\n",
      "- \ubd84\uba85\ud788 \uac8c\uc2dc\ubb3c\uc5d0 \uc788\ub294 \ub9c1\ud06c \uc218\ub294 \uac8c\uc2dc\ubb3c\uc758 \uc9c8\uc744 \ub098\ud0c0\ub0b4\uc9c0 \ubabb\ud568\n",
      "- \uc774 \uc18d\uc131\uc740 \uad6c\ubcc4\ub825\uc774 \uadf8\ub2e4\uc9c0 \uc5c6\uc74c\n",
      "- k = 5\uc778 kNN \uc5d0\uc11c\ub294 \uc544\ub2c8\ub2e4."
     ]
    },
    {
     "cell_type": "markdown",
     "metadata": {},
     "source": [
      "### \ub354 \ub9ce\uc740 \uc18d\uc131 \ub514\uc790\uc778\ud558\uae30\n",
      "\n",
      "- \ud558\uc774\ud37c\ub9c1\ud06c \uc218\uc640 \ub354\ubd88\uc5b4 \ucf54\ub4dc \ub77c\uc778 \uc218\ub3c4 \uac8c\uc2dc\ubb3c\uc758 \uc9c8\uc744 \ub098\ud0c0\ub0b4\ub294 \uac12\uc73c\ub85c \uc120\ud0dd\ud560 \uc218 \uc788\ub294 \uc88b\uc740 \uac12\uc73c\ub85c \uc120\ud0dd\ud560 \uc218 \uc788\ub294 \uc88b\uc740 \uac12\n",
      "- \uc801\uc5b4\ub3c4 \uac8c\uc2dc\ubb3c \uc791\uc131\uc790\uac00 \uc9c8\ubb38\uc5d0 \ub2f5\ubcc0\ud558\ub294 \ub370 \uad00\uc2ec\uc774 \uc788\ub2e4\ub294 \uc88b\uc740 \uc9c0\uc2dc\uac12\n",
      "        <pre>...</pre> \ud0dc\uadf8 \uc548\uc5d0 \ud3ec\ud568\ub41c \ucf54\ub4dc\ub97c \ucc3e\uc744 \uc218 \uc788\uc74c\n",
      "- \uc77c\ub2e8 \uc774\ub97c \ucd94\ucd9c\ud558\uace0 \ucf54\ub4dc \ub77c\uc778 \uc218\ub97c \ubb34\uc2dc\ud558\uace0 \ub2e8\uc5b4 \uc218\ub97c \uc138\uc5b4\ubcf4\uc790"
     ]
    },
    {
     "cell_type": "code",
     "collapsed": false,
     "input": [
      "def extract_features_from_body(s):\n",
      "    num_code_lines = 0\n",
      "    link_count_in_code = 0\n",
      "    code_free_s = s\n",
      "    \n",
      "    # \uc18c\uc2a4 \ucf54\ub4dc \uc81c\uac70\ud558\uace0 \ub77c\uc778 \uc218 \uc138\uae30\n",
      "    for match_str in code_match.findall(s):\n",
      "        num_code_lines += match_str.count('\\n')\n",
      "        code_free_s = code_match.sub('', code_free_s)\n",
      "    # \ub54c\ub54c\ub85c \uc18c\uc2a4\ucf54\ub4dc\uc5d0 \uc138\uc9c0 \uc54a\uae30\ub85c \ud55c \ub9c1\ud06c\uac00 \ud3ec\ud568\ub418\uc5b4 \uc788\uc74c\n",
      "    link_count_in_code = len(link_match.findall(match_str))\n",
      "    \n",
      "    links = link_match.findall(s)\n",
      "    link_count = len(links)\n",
      "    link_count -= link_count_in_code\n",
      "    html_free_s = re.sub(' + ', ' ', tag_match.sub('', code_free_s)).replace('\\n', '')\n",
      "    link_free_s = html_free_s\n",
      "    \n",
      "    # \ub2e8\uc5b4 \uc218 \uc138\uae30 \uc804\uc5d0 \ud14d\uc2a4\ud2b8\ub85c \ub9c1\ud06c \uc81c\uac70\n",
      "    for anchor in anchors:\n",
      "        if anchor.lower().startswith('http://'):\n",
      "            link_free_s = link_free_s.replace(anchor, '')\n",
      "        num_text_tokens = html_free_s.count(' ')\n",
      "    return num_text_tokens, num_code_lines, link_count"
     ],
     "language": "python",
     "metadata": {},
     "outputs": [],
     "prompt_number": 110
    },
    {
     "cell_type": "markdown",
     "metadata": {},
     "source": [
      "- \uc544\ub798 \uadf8\ub798\ud504\ub97c \ubcf4\uba74, \uac8c\uc2dc\ubb3c\uc758 \ub2e8\uc5b4 \uc218\uac00 \ub192\uc740 \uac00\ubcc0\uc131\uc774 \uc788\ub2e4\ub294 \uc810\uc744 \uc54c \uc218 \uc788\uc74c\n",
      "\n",
      "<img src=\"files/images/extract_features_from_body.png\" />\n",
      "\n",
      "- \uc880 \ub354 \ub9ce\uc740 \uc18d\uc131 \uacf5\uac04\uc5d0\uc11c\uc758 \ud6c8\ub828\uc740 \uc815\ud655\ub3c4\ub97c \uc57d\uac04 \ub354 \ub192\uc600\uc74c\n",
      "- Mean(scores) = 0.58300 Stddev(scores) = 0.02216"
     ]
    },
    {
     "cell_type": "markdown",
     "metadata": {},
     "source": [
      "- \uadf8\ub7ec\ub098 \uc544\uc9c1\ub3c4 \ub300\ub7b5 10\uac1c \uc911 4\uac1c \uac00\ub7c9\uc774 \uc798\ubabb\ub41c \ub2f5\ubcc0\uc784\n",
      "- \uc801\uc5b4\ub3c4 \uc62c\ubc14\ub978 \uc9c4\ud589 \ubc29\ud5a5\uc73c\ub85c \uac00\uace0 \uc788\ub2e4. \ub354 \ub9ce\uc740 \uc18d\uc131\uc740 \ub354 \ub192\uc740 \uc815\ud655\ub3c4\ub97c \uc774\ub04c\uae30 \ub54c\ubb38\uc5d0 \ub354 \ub9ce\uc740 \uc18d\uc131\uc744 \ucd94\uac00\ud574\uc57c \ud568. \uadf8\ub7ec\ubbc0\ub85c \ub354 \ub9ce\uc740 \uc18d\uc131\uc73c\ub85c \uc18d\uc131 \uacf5\uac04\uc744 \ub113\ud788\uc790\n",
      "  - AvgSentLen: \uc774 \uc18d\uc131\uc740 \ubb38\uc7a5\uc758 \ud3c9\uade0 \ub2e8\uc5b4 \uc218\ub2e4. \uc88b\uc740 \uac8c\uc2dc\ubb3c\uc774\ub77c\uba74 \ub9e4\uc6b0 \uae34 \ubb38\uc7a5\uc73c\ub85c \uc77d\ub294 \uc0ac\ub78c\uc5d0\uac8c \uacfc\ubd80\ud558\ub97c \uc8fc\uc9c0 \uc54a\uc74c\n",
      "  - AvgWordLen: \uc774 \uc18d\uc131\uc740 AvgSentLen\uacfc \uc720\uc0ac\ud568. \uac8c\uc2dc\ubb3c\uc5d0 \ud3ec\ud568\ub41c \ub2e8\uc5b4\uc758 \ud3c9\uade0 \ubb38\uc790 \uc218\n",
      "  - NumAllCaps: \uc774 \uc18d\uc131\uc740 \ub098\uc05c \uc2a4\ud0c0\uc77c\ub85c \uace0\ub824\ud560 \uc218 \uc788\ub294 \ub300\ubb38\uc790\ub85c \uc4f0\uc778 \ub2e8\uc5b4\uc758 \uc218\n",
      "  - NumExclams: \uc774 \uc18d\uc131\uc740 \ub290\ub08c\ud45c\uc758 \uc218\n",
      "- \ub2e4\uc74c \ucc28\ud2b8\ub294 \ubb38\uc790\uc73c\uc774 \ud3c9\uade0, \ub2e8\uc5b4\uc758 \uae38\uc774, \ub300\ubb38\uc790 \ub2e8\uc5b4\uc758 \uc218, \ub290\ub08c\ud45c\uc758 \uc218\n",
      "\n",
      "<img src=\"files/images/extract_features_from_body2.png\" />\n",
      "\n",
      "- 4\uac1c\uc758 \ucd94\uac00 \uc18d\uc131\uc73c\ub85c \uac01 \uac8c\uc2dc\ubb3c\uc744 7\uac1c\uc758 \uc18d\uc131\uc73c\ub85c \ub098\ud0c0\ub0c4\n",
      "- \uc5bc\ub9c8\ub098 \uc9c4\ucc99\uc774 \uc788\ub294\uc9c0 \ubcf4\uc790\n",
      "- Mean(scores) = 0.57650 Stddev(scores) = 0.03557"
     ]
    },
    {
     "cell_type": "markdown",
     "metadata": {},
     "source": [
      "- \uacb0\uacfc\ub294 \ud765\ubbf8\ub85c\uc6c0\n",
      "- \uc18d\uc131 4\uac1c\ub97c \ub354 \ucd94\uac00\ud588\uc73c\ub098 \uacb0\uacfc\ub294 \uc880 \ub354 \uc545\ud654\ub41c \ubd84\ub958\uc600\uc74c\n",
      "- \uc5b4\ub5bb\uac8c \uc774\ub7f0 \uc77c\uc774 \uac00\ub2a5\ud55c\uac00?\n",
      "- \uc774\ub97c \uc774\ud574\ud558\uae30 \uc704\ud574 kNN\uc774 \uc5b4\ub5bb\uac8c \uc218\ud589\ub418\ub294\uc9c0 \ub2e4\uc2dc \ud55c \ubc88 \uc0dd\uac01\ud574\ubcf4\uc790. 5NN \ubd84\ub958\uae30\ub294 \uc55e\uc11c \uad6c\uc131\ud55c 7\uac1c\uc758 \uc18d\uc131(LinkCount, NumTextTokens, NumCodeLines, AvgSentLen, AvgWordLen, NumAllCaps, NumExclams)\uc744 \uacc4\uc0b0\ud574 \uc0c8\ub85c\uc6b4 \uac8c\uc2dc\ubb3c\uc758 \ubc94\uc8fc\ub97c \uacb0\uc815\n",
      "- \ucd5c\ub300\ub85c \uadfc\uc811\ud55c \uac8c\uc2dc\ubb3c 5\uac1c\ub97c \ucc3e\uc74c. \uc0c8\ub85c\uc6b4 \uac8c\uc2dc\ubb3c\uc758 \ubc94\uc8fc\ub294 \ucd5c\uadfc\uc811\ud55c 5\uac1c \uac8c\uc2dc\ubb3c \ubc94\uc8fc\uc758 \ub2e4\uc218\uacb0\uc5d0 \ub530\ub77c \uacb0\uc815\ub428\n",
      "- \uadfc\uc811\ud55c \uac8c\uc2dc\ubb3c\uc740 \uc720\ud074\ub9ac\ub4dc \uac70\ub9ac\ub97c \uacc4\uc0b0\ud574 \uacb0\uc815\ud568\n",
      "- \uba85\uc2dc\ud558\uc9c4 \uc54a\uc558\uc9c0\ub9cc, \ubd84\ub958\uae30\ub294 \uae30\ubcf8\uac12\uc740 p = 2\ub85c \uc124\uc815\ub418\uc5b4 \ucd08\uae30\ud654\ub428\n",
      "- \uc774 \ub9e4\uac1c\ubcc0\uc218\ub294 \ubbfc\ucf54\ud504\uc2a4\ud0a4(Minkowski) \uac70\ub9ac\uac00 \ub428\n",
      "- \uc774\ub294 \uc18d\uc131 7\uac1c\ub97c \ubaa8\ub450 \ub3d9\uc77c\ud558\uac8c \ub2e4\ub8ec\ub2e4\ub294 \uc758\ubbf8\n",
      "- \uc608\ub97c \ub4e4\uc5b4 kNN\uc740 \uc2e4\uc81c\ub85c NumTextTokens\ub294 \uc88b\uc9c0\ub9cc NumLinks\ubcf4\ub2e4 \ub35c \uc911\uc694\ud558\ub2e4\ub77c\uace0 \ud559\uc2b5\ud558\uc9c0 \uc54a\uc74c\n",
      "- \uc18d\uc131\uc774 2\uac1c\uc778 2 \uac8c\uc2dc\ubb3c A\uc640 B\ub97c \uc0dd\uac01\ud574\ubcf4\uc790. \uc0c8\ub85c\uc6b4 \uac8c\uc2dc\ubb3c\uacfc \ube44\uad50\n",
      "\n",
      "\uac8c\uc2dc\ubb3c | NumLinks | NumTextTokens\n",
      "--- | --- | ---\n",
      "A | 2 | 20\n",
      "B | 0 | 25\n",
      "\uc0c8\ub85c\uc6b4 \uac8c\uc2dc\ubb3c | 1 | 23"
     ]
    },
    {
     "cell_type": "markdown",
     "metadata": {},
     "source": [
      "- \ud14d\uc2a4\ud2b8\ubcf4\ub2e4 \ub9c1\ud06c\uac00 \uc880 \ub354 \uc758\ubbf8\uc788\ub294 \uac12\uc774\ub77c\uace0 \uc0dd\uac01\ud560 \uc218 \uc788\uae30\uc5d0, \uac8c\uc2dc\ubb3c B\uac00 \uac8c\uc2dc\ubb3c A\ubcf4\ub2e4 \ub354 \uc720\uc0ac\ud558\ub2e4\uace0 \uace0\ub824\ub428\n",
      "- \ubd84\uba85\ud788, kNN\uc740 \uac00\uc6a9\ud55c \ub370\uc774\ud130\ub97c \uc0ac\uc6a9\ud574 \uc815\ud655\ud788 \ucd94\uce21\ud558\uae30\uc5d0\ub294 \uc5b4\ub824\uc6c0"
     ]
    },
    {
     "cell_type": "markdown",
     "metadata": {},
     "source": [
      "## \uac1c\uc120\ubc95 \uacb0\uc815\n",
      "\n",
      "- \uc774\ub97c \uac1c\uc120\ud558\ub294 \ub370\ub294 \uae30\ubcf8\uc801\uc73c\ub85c \ub2e4\uc74c\uacfc \uac19\uc740 \ubc29\ubc95\uc774 \uc788\uc74c\n",
      "- \ub354 \ub9ce\uc740 \ub370\uc774\ud130 \ucd94\uac00\n",
      "  - \ud559\uc2b5 \uc54c\uace0\ub9ac\uc998\uc5d0 \ud544\uc694\ud55c \ub370\uc774\ud130\uac00 \ucda9\ubd84\ud558\uc9c0 \uc54a\uac70\ub098, \ub534\uc21c\ud788 \ud6c8\ub828 \ub370\uc774\ud130\ub97c \ub354 \ucd94\uac00\ud560 \ud544\uc694\uac00 \uc788\uc74c\n",
      "- \ubaa8\ub378 \ubcf5\uc7a1\uc131 \ubcc0\uacbd\n",
      "  - \ubaa8\ub378\uc774 \ucda9\ubd84\ud788 \ubcf5\uc7a1\ud558\uc9c0 \uc54a\uac70\ub098 \ub610\ub294 \ub108\ubb34 \ubcf5\uc7a1\ud568\n",
      "  - \uc774 \uacbd\uc6b0 \ucd5c\uadfc\uc811 \uc774\uc6c3 \ub370\uc774\ud130\ub97c \ub35c \uace0\ub824\ud558\uae30 \uc704\ud574 k\ub97c \uc8fc\ub9c1\uace0 \ud3c9\ud65c\ud654\ub418\uc9c0 \uc54a\uc740(non-smooth) \ub370\uc774\ud130\ub97c \ub354 \uc798 \uc608\uce21\ud558\uac8c \ub428. \ub610\ub294 \uc774\uc640 \ubc18\ub300\uc758 \uacb0\uacfc\ub97c \uc5bb\uace0\uc790 k\ub97c \uc99d\uac00\uc2dc\ud0ac \uc218 \uc788\uc74c\n",
      "- \uc18d\uc131 \uacf5\uac04 \ubcc0\uacbd\n",
      "  - \uc18d\uc131 \uc218\uac00 \uc801\ub2f9\ud558\uc9c0 \uc54a\uc744 \uc218 \uc788\uc74c. \uc774\ub97c\ud14c\uba74, \ud604\uc7ac \uc18d\uc131\uc758 \ubc94\uc704\ub97c \ubcc0\uacbd\ud558\uac70\ub098 \uc0c8\ub85c\uc6b4 \uc18d\uc131\uc744 \uace0\ub824\ud568\n",
      "  - \ub610\ub294 \uc77c\ubd80 \uc18d\uc131\uc774 \ub2e4\ub978 \uc18d\uc131\uacfc \uc720\uc0ac\ud560 \uacbd\uc6b0 \ud604\uc7ac \uc18d\uc131 \uc77c\ubd80\ub97c \uc81c\uac8b\ub9c8\n",
      "- \ubaa8\ub378 \ubcc0\uacbd\n",
      "  - kNN\uc774 \uc77c\ubc18\uc801\uc73c\ub85c \uc6b0\ub9ac\uc758 \uacbd\uc6b0\uc640 \ub9de\uc9c0 \uc54a\uc744 \uc218 \uc788\uc74c\n",
      "  - \ubaa8\ub378 \ubcf5\uc7a1\uc131\uc774\ub098 \uc138\ub828\ub41c \uc18d\uc131 \uacf5\uac04\uacfc \uc0c1\uad00\uc5c6\uc774, \uc88b\uc740 \uc608\uc0c1 \uc131\ub2a5\uc5d0 \ub3c4\ub2ec\ud558\uc9c0 \ubabb\ud568"
     ]
    },
    {
     "cell_type": "markdown",
     "metadata": {},
     "source": [
      "- \uc2e4\uc81c \ud658\uacbd\uc5d0\uc11c\ub294 \uc774\ucbe4\uc5d0\uc11c \uc0ac\ub78c\ub4e4\uc774 \uc6b0\uc5f0\ud788 \ud669\uae08 \uc124\uc815(golden configuration)\uc744 \ucc3e\uc744 \uc218 \uc788\ub2e4\ub290 \u3134\ud76c\ub9dd\uc73c\ub85c \uc704\uc758 \uc120\ud0dd\uc0ac\ud56d\uc744 \uc784\uc758\ub85c \uc120\ud0dd\ud558\uac70\ub098 \ud2b9\uc815 \uc21c\uc11c \uc5c6\uc774 \uc120\ud0dd\uc744 \uc2dc\ub3c4\ud574 \ud600\ub0ca \uc131\ub2a5\uc744 \uc62c\ub9ac\uace0\uc790 \ud568\n",
      "- \uc5ec\uae30\uc11c\ub3c4 \uadf8\ub807\uac8c \ud560 \uc218\ub294 \uc788\uc73c\ub098 \uc815\ubcf4\uc5d0 \uc785\uac01\ud55c \uacb0\uc815(informed decision)\ubcf4\ub2e4 \uc2dc\uac04\uc774 \ub354 \uac78\ub9bc\n",
      "- \uc138\ub828\ub41c \uacbd\ub85c\ub97c \ucde8\ud558\uae30 \uc704\ud574 \ud3b8\ud5a5\uacfc \ubcc0\ud654\ub7c9\uc758 \uade0\ud615(bias-variance tradeoff)\uc744 \uc18c\uac1c\ud560 \ud544\uc694\uac00 \uc788\uc74c"
     ]
    },
    {
     "cell_type": "markdown",
     "metadata": {},
     "source": [
      "### \ud3b8\ud5a5\uacfc \ubcc0\ud654\ub7c9\uc758 \uade0\ud615\n",
      "\n",
      "- 1\uc7a5 '\uae30\uacc4 \ud559\uc2b5 \ud30c\uc774\uc36c\uc73c\ub85c \uc2dc\uc791\ud558\uae30'\uc5d0\uc11c\ub294 \ub370\uc774\ud130\ub97c \uc801\ud569\ud654\ud558\uae30 \uc704\ud574 \ucc28\uc6d0 \ub9e4\uac1c\ubcc0\uc218\uc778 d\ub97c \uc81c\uc5b4\ud574 \ub2e4\ub978 \ubcf5\uc7a1\ud55c \ub2e4\ud56d\uc2dd\uc744 \uc801\ud569\ud654\ud558\ub824\uace0 \ud588\uc74c\n",
      "- 2\ucc28\uc6d0 \ub2e4\ud56d\uc2dd(\uc9c1\uc120)\uc740 \uc608\uc81c \ub370\uc774\ud130\ub97c \uc801\ud569\ud654\ud558\uc9c0 \ubabb\ud588\ub294\ub370, \uadf8 \uc774\uc720\ub294 \ub370\uc774\ud130\uac00 \ubcf8\ub798 \uc120\ud615(linear)\uc774 \uc544\ub2c8\uc5c8\uae30 \ub584\ubb38\n",
      "- \uc801\ud569\ud654 \uacfc\uc815\uc744 \uc5b4\ub5bb\uac8c \uc798 \ucc98\ub9ac\ud558\ub4e0 \uac04\uc5d0 2\ucc28\uc6d0 \ubaa8\ub378\uc740 \ubaa8\ub4e0 \uac83\uc744 \uc9c1\uc120\uc73c\ub85c \ubcfc \uc218 \ubc16\uc5d0 \uc5c6\uc74c\n",
      "- \uc774\ub7ec\ud55c \ud604\uc0c1\uc744 \ubaa8\ub378\uc774 \ub370\uc774\ud130\uc5d0 \ub300\ud574 \ub108\ubb34 \ud3b8\ud5a5\ub418\uc5c8\ub2e4\uace0 \ud560 \uc218 \uc788\uc74c. \uc989 \uacfc\uc18c\uc801\ud569(under-fitting)\n",
      "- \ucc28\uc6d0\uc744 \ub2e4\ub918\uc744 \ub54c 100\ucc28\uc6d0 \ub2e4\ud56d\uc2dd\uc740 \ud6c8\ub828 \ub370\uc774\ud130\uc77c \uacbd\uc6b0 \uc2e4\uc81c\ub85c \ub370\uc774\ud130\uc5d0 \ub108\ubb34 \uc798 \uc801\ud569\ud654\ub410\uc74c(\uadf8\ub54c\uc5d0\ub294 \ud6c8\ub828 \ud14c\uc2a4\ud2b8 \ub098\ub204\uae30\ub97c \uc54c\uc9c0 \ubabb\ud568)\n",
      "- \uadf8\ub7ec\ub098 \uace7 \ub108\ubb34 \uc801\ud569\ud654\ub410\uc74c\uc744 \uc54c\uac8c \ub428\n",
      "- \uc774\ub294 \uacfc\uc801\ud569\ud654(over-fitting)\uc774\uace0, 100\ucc28\uc6d0 \ub2e4\ud56d\uc2dd\uc740 \ub2e4\ub978 \uc608\uc81c\uc5d0\uc11c\ub294 \ub098\uc05c \uc601\ud5a5\uc774 \uc788\uc5c8\uc74c\n",
      "- \uc774 \ubaa8\ub378\uc740 \uc8fc\uc5b4\uc9c4 \ub370\uc774\ud130\uc5d0 \ub300\ud574 \ubcc0\ud654\ub7c9(variance)\uc774 \ub108\ubb34 \ub192\uc558\uace0, \uc774\ub97c \uacfc\uc801\ud569\ud654\ub77c \ud568\n",
      "- \uc774\ub294 \ub300\ubd80\ubd84\uc758 \uae30\uacc4 \ud559\uc2b5 \ubb38\uc81c\uac00 \uc548\uace0 \uc788\ub294 \uadf9\ub2e8\n",
      "- \uc774\uc0c1\uc801\uc73c\ub85c\ub294 \ud3b8\ud5a5\uc774 \ub0ae\uace0 \ubcc0\ud654\ub7c9\uc774 \ub0ae\uae30\ub97c \ubc14\ub78c\n",
      "- \uadf8\ub7ec\ub098 \uc774 \ud5d8\ub09c\ud55c \uc138\uc0c1\uc5d0\uc11c\ub294 **\uade0\ud615**\uc744 \uc798 \uc7a1\uc544\uc57c \ud568\n",
      "- \ud55c\ucabd\uc758 \uc131\ub2a5\uc744 \ub192\uc774\uba74 \ub2e4\ub978 \ucabd\uc740 \uc5c9\ub9dd\uc774 \ub420 \uc218 \uc788\uc74c"
     ]
    },
    {
     "cell_type": "markdown",
     "metadata": {},
     "source": [
      "### \uace0\ud3b8\ud5a5 \uace0\uce58\uae30\n",
      "\n",
      "- \uace0\ud3b8\ud5a5(high bias)\uc5d0 \ube60\uc838 \uc788\ub2e4\uace0 \uc0dd\uac01\ud574\ubcf4\uc790\n",
      "- \uc774 \uacbd\uc6b0, \ud6c8\ub828 \ub370\uc774\ud130\ub97c \ucd94\uac00\ud574\ub3c4 \ub3c4\uc6c0\uc774 \ub418\uc9c0 \uc54a\uc74c\n",
      "- \uc18d\uc131\uc744 \uc81c\uac70\ud558\ub294 \uc791\uc5c5 \uc5ed\uc2dc \ubaa8\ub378\uc774 \uc774\ubbf8 \ub108\ubb34\ub098 \ub2e8\uc21c\ud654\ub418\uc5b4 \uc788\uae30 \ub54c\ubb38\uc5d0 \ub3c4\uc6c0\uc774 \ub418\uc9c0 \uc54a\uc74c\n",
      "- \uc774 \uacbd\uc6b0 \uac00\ub2a5\uc131\uc740 \ub354 \ub9ce\uc740 \uc18d\uc131\uc744 \uad6c\ud558\uac70\ub098 \ubaa8\ub378\uc744 \ub354 \ubcf5\uc7a1\ud558\uac8c \ud558\uac70\ub098 \uc544\ub2c8\uba74 \ubaa8\ub378\uc744 \ubcc0\uacbd\ud558\ub294 \uac83\n",
      "\n",
      "### \uace0\ubcc0\ud654\ub7c9 \uace0\uce58\uae30\n",
      "\n",
      "- \ubc18\ub300\ub85c \uace0\ubcc0\ud654\ub7c9(high variance)\uc5d0 \ube60\uc838 \uc788\ub2e4\uba74, \uc774\ub294 \ubaa8\ub378\uc774 \ub370\uc774\ud130\uc5d0 \ub300\ud574 \ub108\ubb34 \ubcf5\uc7a1\ud558\ub2e4\ub294 \uc758\ubbf8\n",
      "- \uc774 \uacbd\uc6b0, \ubcf5\uc7a1\uc131\uc744 \uc904\uc774\uac70\ub098 \ub354 \ub9ce\uc740 \ub370\uc774\ud130\ub97c \uc5bb\uc5b4\uc57c \ud568\n",
      "- \uc989, k\ub97c \ub298\ub824 \ub354 \ub9ce\uc740 \uc774\uc6c3\uc744 \uad6c\ud558\uac70\ub098 \uc18d\uc131\uc744 \uc904\uc5ec\uc57c \ud568"
     ]
    },
    {
     "cell_type": "markdown",
     "metadata": {},
     "source": [
      "### \uace0\ubcc0\ud5a5 \ub610\ub294 \uc800\ud3b8\ud5a5\n",
      "\n",
      "- \uc2e4\uc81c \uc6b0\ub9ac\uc758 \ubb38\uc81c\uc810\uc744 \ucc3e\uae30 \uc704\ud574\uc11c\ub294 \ub370\uc774\ud130\uc758 \ud06c\uae30\uc5d0 \ub530\ub77c \ud6c8\ub828 \uc624\ucc28\uc640 \ud14c\uc2a4\ud2b8 \uc624\ucc28\ub97c \uadf8\ub824\ubd10\uc57c \ud568\n",
      "- \uace0\ud3b8\ud5a5\uc740 \uc804\ud615\uc801\uc73c\ub85c \ucd08\uae30\uc5d0\ub294 \ud14c\uc2a4\ud2b8 \uc624\ucc28\uac00 \uc904\uc5b4\ub4e4\uba74\uc11c \ub098\ud0c0\ub098\uc9c0\ub9cc, \ub370\uc774\ud130\uc14b \ud06c\uae30\uac00 \uc99d\uac00\ud568\uc5d0 \ub530\ub77c \ud6c8\ub828 \ub370\uc774\ud130\uc640 \ud568\uaed8 \ub9e4\uc6b0 \ud070 \uac12\uc73c\ub85c \uc720\uc9c0\ub428\n",
      "- \ub450 \uace1\uc120 \uac04\uc758 \ud070 \ucc28\uc774\ub85c \uace0\ubcc0\ud654\ub7c9\uc744 \uc778\uc2dd\ud560 \uc218 \uc788\uc74c\n",
      "- 5NN\uc758 \uac01\uae30 \ub2e4\ub978 \ub370\uc774\ud130 \ud06c\uae30\uc5d0 \ub530\ub978 \uc624\ucc28\uc758 \ub3c4\uc2dd\ud654\ub294 \ud6c8\ub828\uacfc \ud14c\uc2a4\ud2b8\uc758 \ud070 \uc624\ucc28\ub97c \ubcf4\uc5ec\uc90c. \uc774\ub294 \uace0\ubcc0\ud654\ub7c9\uc5d0 \ub300\ud55c \ud78c\ud2b8. \ub2e4\uc74c \uadf8\ub798\ud504\ub97c \ucc38\uace0\n",
      "\n",
      "<img src=\"files/images/bias_variance.png\" width=400/>"
     ]
    },
    {
     "cell_type": "markdown",
     "metadata": {},
     "source": [
      "- \uc774 \uadf8\ub798\ud504\ub97c \ubcf4\uba74 \ud6c8\ub828 \ub370\uc774\ud130\ub97c \ub354 \ucd94\uac00\ud55c\ub2e4\uace0 \ud574\uc11c \ub3c4\uc6c0\uc774 \ub418\uc9c0 \uc54a\ub290\ub2e4\ub294 \uc0ac\uc2e4\uc744 \uc27d\uac8c \ud30c\uc545\ud560 \uc218 \uc788\uc74c\n",
      "- \uc810\uc120\uc5d0 \ud574\ub2f9\ud558\ub294 \ud14c\uc2a4\ud2b8 \ud6c8\ub828 \uc624\ucc28\ub294 0.4 \uc704\uc5d0 \uc788\uc74c. \n",
      "- k\ub97c \uc99d\uac00\uc2dc\ud0a4\uac70\ub098 \uc18d\uc131 \uacf5\uac04\uc744 \uac10\uc18c\uc2dc\ucf1c \ubcf5\uc7a1\uc131\uc744 \ub0b4\ub9ac\ub294 \uc120\ud0dd\uc744 \ud560 \uc218 \uc788\uc74c\n",
      "- \uc5ec\uae30\uc11c\ub294 \uc18d\uc131 \uacf5\uac04\uc744 \uc904\uc774\ub294 \uc791\uc5c5\uc774 \ub3c4\uc6c0\uc774 \ub418\uc9c0 \uc54a\uc74c \n",
      "- \uc774\ub294 LinkCount\uc640 NumTextTokens\uc758 \uc18d\uc131 \uacf5\uac04\uc744 \ub2e8\uc21c\ud654\ud55c \uadf8\ub798\ud504\ub97c \uadf8\ub824 \uc27d\uac8c \ud655\uc778 \uac00\ub2a5. \ub2e4\uc74c \uadf8\ub798\ud504 \ucc38\uc870\n",
      "\n",
      "<img src=\"files/images/bias_variance2.png\" width=400 />\n",
      "\n",
      "- \uadf8 \ubc16\uc758 \uc791\uc740 \uc18d\uc131 \uc9d1\ud569\uc73c\ub85c\ub3c4 \ube44\uc2b7\ud55c \uadf8\ub798\ud504\ub97c \uc5bb\uc744 \uc218 \uc788\uc74c\n",
      "- \uc5b4\ub5a4 \uc18d\uc131\uc758 \ubd80\ubd84\uc9d1\ud569\uc744 \ucde8\ud558\ub354\ub77c\ub3c4 \uadf8\ub798\ud504\uc5d0\ub294 \ubcc4 \ucc28\uc774\uac00 \uc5c6\uc74c\n",
      "- \uc5b4\uca0c\ub4e0 k\ub97c \uc99d\uac00\uc2dc\ucf1c \ubaa8\ub378 \ubcf5\uc7a1\uc131\uc744 \uc904\uc774\uba74 \uc57d\uac04\uc758 \uae0d\uc815\uc801\uc778 \uc601\ud5a5\uc740 \uc5bb\uc744 \uc218 \uc788\uc74c\n",
      "\n",
      "k | \ud3c9\uade0(\uc810\uc218) | \ud45c\uc900\ud3b8\ucc28(\uc810\uc218)\n",
      "--- | --- | ---\n",
      "90 | 0.6280 | 0.02777\n",
      "40 | 0.6265 | 0.02748\n",
      "5 | 0.5765 | 0.03557"
     ]
    },
    {
     "cell_type": "markdown",
     "metadata": {},
     "source": [
      "- \ud558\uc9c0\ub9cc \uc774\ub294 \ucda9\ubd84\ud558\uc9c0 \uc54a\uc74c\n",
      "- \ub0ae\uc740 \ubd84\ub958 \uc2e4\ud589 \uc131\ub2a5\uc774 \ubb38\uc81c\uac00 \ub428\n",
      "- k = 90 \uc774\uba74 \uc624\ucc28\uac00 \uc81c\uc77c \ub0ae\uc74c\n",
      "- \uc0c8\ub85c\uc6b4 \uac8c\uc2dc\ubb3c\uc744 \ubd84\ub958\ud558\uae30 \uc704\ud574\uc11c\ub294, \uc774 \uac8c\uc2dc\ubb3c\uc774 \uad1c\ucc2e\uc740\uc9c0 \uc544\ub2cc\uc9c0 \ud310\ub2e8\ud558\uae30 \uc704\ud574 90\uac1c\uc758 \ucd5c\uadfc\uc811 \uac8c\uc2dc\ubb3c\uc744 \ucc3e\uc544\uc57c \ud568\n",
      "\n",
      "<img src=\"files/images/erros_of_different_values_of_k.png\" />"
     ]
    },
    {
     "cell_type": "markdown",
     "metadata": {},
     "source": [
      "- \uba85\ud655\ud558\uac8c, \uc6b0\ub9ac\uc758 \uc2dc\ub098\ub9ac\uc624\uc5d0 \ucd5c\uadfc\uc811 \uc774\uc6c3 \uc54c\uace0\ub9ac\uc998\uc744 \uc0ac\uc6a9\ud558\uba74 \uc774\ub7ec\ud55c \ubb38\uc81c\uc810\uc5d0 \uc9c1\uba74\ud558\uac8c \ub428\n",
      "- \ub610 \ub2e4\ub978 \uc2e4\uc81c \ub2e8\uc810\ub3c4 \uc788\ub294\ub370, \uc2dc\uac04\uc774 \ud750\ub974\uba74\uc11c \uc2dc\uc2a4\ud15c\uc5d0 \uac8c\uc2dc\ubb3c\uc774 \ub354 \ub9ce\uc774 \uc313\uc778\ub2e4\ub294 \uc810\n",
      "- \ucd5c\uadfc\uc811 \uc774\uc6c3 \uc54c\uace0\ub9ac\uc998\uc740 **\uc778\uc2a4\ud134\uc2a4 \uae30\ubc18 \uc811\uadfc \ubc29\ubc95**\uc774\uae30 \ub54c\ubb38\uc5d0 **\ubaa8\ub4e0 \uac8c\uc2dc\ubb3c\uc744 \uc2dc\uc2a4\ud15c\uc5d0 \uc800\uc7a5**\ud574\uc57c \ud568\n",
      "- **\uac8c\uc2dc\ubb3c\uc774 \ub9ce\uc544\uc9c8\uc218\ub85d \uc608\uce21\uc740 \uc810\uc810 \ub354 \ub290\ub824\uc9d0**\n",
      "- \ub370\uc774\ud130\ub85c\ubd80\ud130 \ubaa8\ub378\uc744 \uc720\ub3c4\ud55c\ub290 \ubaa8\ub378 \uae30\ubc18 \uc811\uadfc \ubc29\ubc95\uc740 \ucc28\uc774\uc810\uc774 \uc5ec\uae30\uc5d0 \uc788\uc74c\n",
      "- \ucd5c\uadfc\uc811 \uc774\uc6c3 \uc54c\uace0\ub9ac\uc998 \uc811\uadfc \ubc29\ubc95\uc744 \ud3ec\uae30\ud574\uc57c \ud558\ub294 \uc774\uc720\uc640 \ud568\uaed8 \uc880 \ub354 \ub098\uc740 \ubd84\ub958\ub97c \ucc3e\uae30\n",
      "- \uc0dd\uac01\uc9c0 \ubabb\ud55c \ud669\uae08 \uc18d\uc131\uc774 \uc788\ub294\uc9c0\ub3c4 \ubaa8\ub978\ub2e4. \uadf8\ub7ec\ub098 \uc9c0\uae08\uc740 \ud14d\uc2a4\ud2b8 \uae30\ubc18 \ubd84\ub958 \uc2dc\ub098\ub9ac\uc624\uc5d0 \uc544\uc8fc \uc801\ud569\ud558\ub2e4\uace0 \uc54c\ub824\uc9c4 \ub610 \ub2e4\ub978 \ubd84\ub958 \uae30\ubc95\uc73c\ub85c \uc774\ub3d9\ud574\ubcf4\uc790"
     ]
    }
   ],
   "metadata": {}
  }
 ]
}