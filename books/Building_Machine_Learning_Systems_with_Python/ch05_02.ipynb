{
 "metadata": {
  "name": "",
  "signature": "sha256:93f9d70ea3508a9280d3adff5e5b43eedfe7a77d720346450fcad80287d50017"
 },
 "nbformat": 3,
 "nbformat_minor": 0,
 "worksheets": [
  {
   "cells": [
    {
     "cell_type": "markdown",
     "metadata": {},
     "source": [
      "## \ub85c\uc9c0\uc2a4\ud2f1 \ud68c\uadc0\n",
      "\n",
      "- \uc774\ub984\uacfc \ub2ec\ub9ac, \ub85c\uc9c0\uc2a4\ud2f1 \ud68c\uadc0\ub294 \ubd84\ub958 \uae30\ubc95\n",
      "- \ud14d\uc2a4\ud2b8 \uae30\ubc18 \ubd84\ub958\uc5d0 \uc801\uc6a9\ub420 \ub54c \ub9e4\uc6b0 \uac15\ub825\ud568\n",
      "- \uc774\ub984\uc758 \uc720\ub798\uc640 \uac19\uc774 \ub85c\uc9c0\uc2a4\ud2f1 \ud568\uc218\uc5d0 \ud68c\uadc0\ub97c \uc218\ud589\ud574 \uc774\ub7ec\ud55c \uacb0\uacfc\uac00 \uc131\ucde8\ub428"
     ]
    },
    {
     "cell_type": "code",
     "collapsed": false,
     "input": [
      "# %load ch05/log_reg_example.py"
     ],
     "language": "python",
     "metadata": {},
     "outputs": [],
     "prompt_number": 1
    },
    {
     "cell_type": "code",
     "collapsed": false,
     "input": [
      "# This code is supporting material for the book\n",
      "# Building Machine Learning Systems with Python\n",
      "# by Willi Richert and Luis Pedro Coelho\n",
      "# published by PACKT Publishing\n",
      "#\n",
      "# It is made available under the MIT License\n",
      "\n",
      "import os\n",
      "from data import CHART_DIR\n",
      "\n",
      "import numpy as np\n",
      "from scipy.stats import norm\n",
      "\n",
      "from matplotlib import pyplot\n",
      "np.random.seed(3)\n",
      "\n",
      "num_per_class = 40\n",
      "X = np.hstack((norm.rvs(2, size=num_per_class, scale=2),\n",
      "              norm.rvs(8, size=num_per_class, scale=3)))\n",
      "y = np.hstack((np.zeros(num_per_class),\n",
      "               np.ones(num_per_class)))\n",
      "\n",
      "\n",
      "def lr_model(clf, X):\n",
      "    return 1.0 / (1.0 + np.exp(-(clf.intercept_ + clf.coef_ * X)))\n",
      "\n",
      "from sklearn.linear_model import LogisticRegression\n",
      "logclf = LogisticRegression()\n",
      "print(logclf)\n",
      "logclf.fit(X.reshape(num_per_class * 2, 1), y)\n",
      "print(np.exp(logclf.intercept_), np.exp(logclf.coef_.ravel()))\n",
      "print(\"P(x=-1)=%.2f\\tP(x=7)=%.2f\" %\n",
      "      (lr_model(logclf, -1), lr_model(logclf, 7)))\n",
      "X_test = np.arange(-5, 20, 0.1)\n",
      "pyplot.figure(figsize=(10, 4))\n",
      "pyplot.xlim((-5, 20))\n",
      "pyplot.scatter(X, y, c=y)\n",
      "pyplot.xlabel(\"feature value\")\n",
      "pyplot.ylabel(\"class\")\n",
      "pyplot.grid(True, linestyle='-', color='0.75')\n",
      "pyplot.savefig(\n",
      "    os.path.join(CHART_DIR, \"log_reg_example_data.png\"), bbox_inches=\"tight\")\n",
      "\n",
      "\n",
      "def lin_model(clf, X):\n",
      "    return clf.intercept_ + clf.coef_ * X\n",
      "\n",
      "from sklearn.linear_model import LinearRegression\n",
      "clf = LinearRegression()\n",
      "print(clf)\n",
      "clf.fit(X.reshape(num_per_class * 2, 1), y)\n",
      "X_odds = np.arange(0, 1, 0.001)\n",
      "pyplot.figure(figsize=(10, 4))\n",
      "pyplot.subplot(1, 2, 1)\n",
      "pyplot.scatter(X, y, c=y)\n",
      "pyplot.plot(X_test, lin_model(clf, X_test))\n",
      "pyplot.xlabel(\"feature value\")\n",
      "pyplot.ylabel(\"class\")\n",
      "pyplot.title(\"linear fit on original data\")\n",
      "pyplot.grid(True, linestyle='-', color='0.75')\n",
      "\n",
      "X_ext = np.hstack((X, norm.rvs(20, size=100, scale=5)))\n",
      "y_ext = np.hstack((y, np.ones(100)))\n",
      "clf = LinearRegression()\n",
      "clf.fit(X_ext.reshape(num_per_class * 2 + 100, 1), y_ext)\n",
      "pyplot.subplot(1, 2, 2)\n",
      "pyplot.scatter(X_ext, y_ext, c=y_ext)\n",
      "pyplot.plot(X_ext, lin_model(clf, X_ext))\n",
      "pyplot.xlabel(\"feature value\")\n",
      "pyplot.ylabel(\"class\")\n",
      "pyplot.title(\"linear fit on additional data\")\n",
      "pyplot.grid(True, linestyle='-', color='0.75')\n",
      "pyplot.savefig(\n",
      "    os.path.join(CHART_DIR, \"log_reg_log_linear_fit.png\"), bbox_inches=\"tight\")\n",
      "\n",
      "pyplot.figure(figsize=(10, 4))\n",
      "pyplot.xlim((-5, 20))\n",
      "pyplot.scatter(X, y, c=y)\n",
      "pyplot.plot(X_test, lr_model(logclf, X_test).ravel())\n",
      "pyplot.plot(X_test, np.ones(X_test.shape[0]) * 0.5, \"--\")\n",
      "pyplot.xlabel(\"feature value\")\n",
      "pyplot.ylabel(\"class\")\n",
      "pyplot.grid(True, linestyle='-', color='0.75')\n",
      "pyplot.savefig(\n",
      "    os.path.join(CHART_DIR, \"log_reg_example_fitted.png\"), bbox_inches=\"tight\")\n",
      "\n",
      "X = np.arange(0, 1, 0.001)\n",
      "pyplot.figure(figsize=(10, 4))\n",
      "pyplot.subplot(1, 2, 1)\n",
      "pyplot.xlim((0, 1))\n",
      "pyplot.ylim((0, 10))\n",
      "pyplot.plot(X, X / (1 - X))\n",
      "pyplot.xlabel(\"P\")\n",
      "pyplot.ylabel(\"odds = P / (1-P)\")\n",
      "pyplot.grid(True, linestyle='-', color='0.75')\n",
      "\n",
      "pyplot.subplot(1, 2, 2)\n",
      "pyplot.xlim((0, 1))\n",
      "pyplot.plot(X, np.log(X / (1 - X)))\n",
      "pyplot.xlabel(\"P\")\n",
      "pyplot.ylabel(\"log(odds) = log(P / (1-P))\")\n",
      "pyplot.grid(True, linestyle='-', color='0.75')\n",
      "pyplot.savefig(\n",
      "    os.path.join(CHART_DIR, \"log_reg_log_odds.png\"), bbox_inches=\"tight\")\n"
     ],
     "language": "python",
     "metadata": {},
     "outputs": []
    },
    {
     "cell_type": "code",
     "collapsed": false,
     "input": [
      "%cd ch05"
     ],
     "language": "python",
     "metadata": {},
     "outputs": [
      {
       "output_type": "stream",
       "stream": "stdout",
       "text": [
        "/Users/re4lfl0w/Documents/ipython/books/Building_Machine_Learning_Systems_with_Python/ch05\n"
       ]
      }
     ],
     "prompt_number": 7
    },
    {
     "cell_type": "code",
     "collapsed": false,
     "input": [
      "%run log_reg_example.py"
     ],
     "language": "python",
     "metadata": {},
     "outputs": [
      {
       "output_type": "stream",
       "stream": "stdout",
       "text": [
        "LogisticRegression(C=1.0, class_weight=None, dual=False, fit_intercept=True,\n",
        "          intercept_scaling=1, penalty='l2', random_state=None, tol=0.0001)\n",
        "(array([ 0.09437188]), array([ 1.80094112]))\n",
        "P(x=-1)=0.05\tP(x=7)=0.85\n",
        "LinearRegression(copy_X=True, fit_intercept=True, normalize=False)"
       ]
      },
      {
       "output_type": "stream",
       "stream": "stdout",
       "text": [
        "\n"
       ]
      },
      {
       "output_type": "stream",
       "stream": "stderr",
       "text": [
        "log_reg_example.py:99: RuntimeWarning: divide by zero encountered in log\n",
        "  pyplot.plot(X, np.log(X / (1 - X)))\n"
       ]
      }
     ],
     "prompt_number": 6
    },
    {
     "cell_type": "markdown",
     "metadata": {},
     "source": [
      "### \uac04\ub2e8\ud55c \uc608\uc81c\uc640 \uc57d\uac04\uc758 \uc218\ud559\n",
      "\n",
      "- \ub85c\uc9c0\uc2a4\ud2f1 \ud68c\uadc0\uc758 \uc791\ub3d9 \ubc29\ubc95\uc744 \uc774\ud574\ud558\uae30 \uc704\ud574 \ub2e4\uc74c \uc608\uc81c\ub97c \ubcf4\uc790\n",
      "- x\ucd95\uc740 \uc778\uc704\uc801\uc778 \uc18d\uc131\uac12\uc774\uace0, \uadf8\uc5d0 \ud574\ub2f9\ud558\ub294 \ubc94\uc8fc \ubc94\uc704\uc778 0\uacfc 1\ub85c \ub3c4\uc2dd\ud654\ud588\uc74c\n",
      "- \ub370\uc774\ud130\ub294 \uc880 \ub178\uc774\uc988\ud558\uc5ec \ubc94\uc8fc\ub294 \uc18d\uc131 1\uc5d0\uc11c 6\uae4c\uc9c0\uc758 \uad6c\uac04\uc5d0\uc11c \uacb9\uce68\n",
      "- \uadf8\ub798\uc11c \ubc14\ub85c \uc774\uc0b0\uc801\uc778 \ubc94\uc8fc\ub85c \ubaa8\ub378\ud654\ud558\uae30\ubcf4\ub2e4\ub294 \uc18d\uc131\uac12\uc774 \ubc94\uc8fc 1\uc5d0 \uc18d\ud55c \ud655\ub960 P(x)\ub97c \uc0ac\uc6a9\ud558\ub294 \ud3b8\uc774 \uc88b\uc74c\n",
      "- \uc77c\ub2e8 \uc774\ub7f0 \ubaa8\ub378\uc744 \uac00\uc9c0\uba74 P(x) > 0.5\uc778 \uacbd\uc6b0 \ubc94\uc8fc\ub294 1\ub85c, \uadf8 \uc678\uc758 \uacbd\uc6b0\ub294 0\uc73c\ub85c \uc608\uc0c1\uc774 \uac00\ub2a5\ud568\n"
     ]
    },
    {
     "cell_type": "code",
     "collapsed": false,
     "input": [
      "import os\n",
      "import numpy as np\n",
      "from scipy.stats import norm\n",
      "\n",
      "from matplotlib import pyplot\n",
      "np.random.seed(3)\n",
      "\n",
      "num_per_class = 40\n",
      "X = np.hstack((norm.rvs(2, size=num_per_class, scale=2),\n",
      "              norm.rvs(8, size=num_per_class, scale=3)))\n",
      "y = np.hstack((np.zeros(num_per_class),\n",
      "               np.ones(num_per_class)))\n",
      "\n",
      "\n",
      "def lr_model(clf, X):\n",
      "    return 1.0 / (1.0 + np.exp(-(clf.intercept_ + clf.coef_ * X)))\n",
      "\n",
      "from sklearn.linear_model import LogisticRegression\n",
      "logclf = LogisticRegression()\n",
      "print(logclf)\n",
      "logclf.fit(X.reshape(num_per_class * 2, 1), y)\n",
      "print(np.exp(logclf.intercept_), np.exp(logclf.coef_.ravel()))\n",
      "print(\"P(x=-1)=%.2f\\tP(x=7)=%.2f\" %\n",
      "      (lr_model(logclf, -1), lr_model(logclf, 7)))\n",
      "X_test = np.arange(-5, 20, 0.1)\n",
      "pyplot.figure(figsize=(10, 4))\n",
      "pyplot.xlim((-5, 20))\n",
      "pyplot.scatter(X, y, c=y)\n",
      "pyplot.xlabel(\"feature value\")\n",
      "pyplot.ylabel(\"class\")\n",
      "pyplot.grid(True, linestyle='-', color='0.75')"
     ],
     "language": "python",
     "metadata": {},
     "outputs": [
      {
       "output_type": "stream",
       "stream": "stdout",
       "text": [
        "LogisticRegression(C=1.0, class_weight=None, dual=False, fit_intercept=True,\n",
        "          intercept_scaling=1, penalty='l2', random_state=None, tol=0.0001)\n",
        "(array([ 0.09437188]), array([ 1.80094112]))\n",
        "P(x=-1)=0.05\tP(x=7)=0.85\n"
       ]
      },
      {
       "metadata": {},
       "output_type": "display_data",
       "png": "[encoded data removed]",
       "text": [
        "<matplotlib.figure.Figure at 0x10afb39d0>"
       ]
      }
     ],
     "prompt_number": 150
    },
    {
     "cell_type": "code",
     "collapsed": false,
     "input": [
      "# Stack arrays in sequence horizontally\n",
      "help(np.hstack)"
     ],
     "language": "python",
     "metadata": {},
     "outputs": [
      {
       "output_type": "stream",
       "stream": "stdout",
       "text": [
        "Help on function hstack in module numpy.core.shape_base:\n",
        "\n",
        "hstack(tup)\n",
        "    Stack arrays in sequence horizontally (column wise).\n",
        "    \n",
        "    Take a sequence of arrays and stack them horizontally to make\n",
        "    a single array. Rebuild arrays divided by `hsplit`.\n",
        "    \n",
        "    Parameters\n",
        "    ----------\n",
        "    tup : sequence of ndarrays\n",
        "        All arrays must have the same shape along all but the second axis.\n",
        "    \n",
        "    Returns\n",
        "    -------\n",
        "    stacked : ndarray\n",
        "        The array formed by stacking the given arrays.\n",
        "    \n",
        "    See Also\n",
        "    --------\n",
        "    vstack : Stack arrays in sequence vertically (row wise).\n",
        "    dstack : Stack arrays in sequence depth wise (along third axis).\n",
        "    concatenate : Join a sequence of arrays together.\n",
        "    hsplit : Split array along second axis.\n",
        "    \n",
        "    Notes\n",
        "    -----\n",
        "    Equivalent to ``np.concatenate(tup, axis=1)``\n",
        "    \n",
        "    Examples\n",
        "    --------\n",
        "    >>> a = np.array((1,2,3))\n",
        "    >>> b = np.array((2,3,4))\n",
        "    >>> np.hstack((a,b))\n",
        "    array([1, 2, 3, 2, 3, 4])\n",
        "    >>> a = np.array([[1],[2],[3]])\n",
        "    >>> b = np.array([[2],[3],[4]])\n",
        "    >>> np.hstack((a,b))\n",
        "    array([[1, 2],\n",
        "           [2, 3],\n",
        "           [3, 4]])\n",
        "\n"
       ]
      }
     ],
     "prompt_number": 99
    },
    {
     "cell_type": "markdown",
     "metadata": {},
     "source": [
      "#### Random Variates\n",
      "\n",
      "- [Random variate - Wikipedia, the free encyclopedia](http://en.wikipedia.org/wiki/Random_variate): \uc784\uc758 \ubcc0\ud654\ub7c9\n",
      "- [scipy.stats.norm \u2014 SciPy v0.14.0 Reference Guide](http://docs.scipy.org/doc/scipy-0.14.0/reference/generated/scipy.stats.norm.html)\n",
      "  - The **location** (loc) keyword specifies the **mean**(\ud3c9\uade0). \n",
      "  - The **scale** (scale) keyword specifies the **standard deviation**(\ud45c\uc900 \ud3b8\ucc28).\n",
      "  \n",
      "- [\uc815\uaddc\ubd84\ud3ec - \uc5d4\ud558\uc704\ud0a4 \ubbf8\ub7ec](https://mirror.enha.kr/wiki/%EC%A0%95%EA%B7%9C%EB%B6%84%ED%8F%AC)\n",
      "- [\uc815\uaddc\ubd84\ud3ec - \uc704\ud0a4\ubc31\uacfc, \uc6b0\ub9ac \ubaa8\ub450\uc758 \ubc31\uacfc\uc0ac\uc804](http://ko.wikipedia.org/wiki/%EC%A0%95%EA%B7%9C%EB%B6%84%ED%8F%AC)\n",
      "- [Probability distributions in SciPy | John D. Cook](http://www.johndcook.com/blog/2009/07/20/probability-distributions-scipy/)\n",
      "  - \uc601\uc5b4\ub85c \uc798 \uc124\uba85\ub418\uc5b4 \uc788\uc74c. \n",
      "  - **scipy.stats.norm.rvs(2, 3)**\ub294 **normal random variable\uc5d0\uc11c \ud3c9\uade02\uc640 \ud45c\uc900\ud3b8\ucc28 3\uc73c\ub85c \ub79c\ub364 \uc0d8\ud50c\uc744 \uc0dd\uc131**\ud55c\ub2e4.\n",
      "  - scipy.stats.norm.rvs(2, 3, size=10)\ub294 \uac19\uc740 \ubd84\ud3ec\uc5d0\uc11c 10\uac1c \uc0d8\ud50c \ubc30\uc5f4\uc744 \ubc18\ud658\ud55c\ub2e4.\n",
      "- [Simple statistics with SciPy | Comfort at 1 AU](https://oneau.wordpress.com/2011/02/28/simple-statistics-with-scipy/)\n",
      "  - stats.norm(loc=3.5, scale=2.0)\uc740 mean=3.5, standard deviation=2.0 \uc73c\ub85c \ud55c\ub2e4\ub294 \uac83\n",
      "  - \uadfc\ub370 \uad81\uae08\ud55c \uac74 **\uc65c \ubcc0\uc218\uba85\uc744 location\uc744 \uc37c\uace0 scale\uc744 \uc37c\ub0d0\ub294 \uac83.. \uadf8\ub0e5 mean, standard deviation\uc744 \uc37c\uc73c\uba74 \ub420\uac78..**\n",
      "- [24 \uc815\uaddc\ubd84\ud3ec\uc640 \ud45c\uc900\uc815\uaddc\ubd84\ud3ec\uc758 \uc774\ud574 Part1 - YouTube](http://www.youtube.com/watch?v=lLTNEPvonmc): \uc624 \ucd08\uac15\ucd94!! \uae00\uc528\ub85c\ub9cc \ubc30\uc6b0\ub2c8\uae4c \uc5b4\ub824\uc6e0\ub294\ub370 \ub3d9\uc601\uc0c1\uc73c\ub85c \ubcf4\ub2c8 \ud55c \ubc88\uc5d0 \uc774\ud574\uac00 \ub418\ub124!!\n",
      "- [25 \uc815\uaddc\ubd84\ud3ec\uc640 \ud45c\uc900\uc815\uaddc\ubd84\ud3ec\uc758 \uc774\ud574 Part2 - YouTube](http://www.youtube.com/watch?v=7yDjJYvoFCk)\n",
      "\n",
      "#### \uc218\ud559 \uacf5\uc2dd\uc5d0 \ub300\ud55c \uae68\ub2ec\uc74c\n",
      "\n",
      "- \uc544\ubb34\ub9ac \uc88b\uc740 \ud568\uc218\uac00 \uc788\ub354\ub77c\ub3c4 \uc815\uaddc\ubd84\ud3ec\uc758 \ubc31\uadf8\ub77c\uc6b4\ub4dc\uac00 \uc5c6\uc774\ub294 \uadf8\uc800 '\uc18c \uadc0\uc5d0 \uacbd \uc77d\uae30'\n",
      "- \uc544 \uc774 \ub3d9\uc601\uc0c1 \ubcf4\uace0 \uc815\uaddc\ubd84\ud3ec\uc640 \ud45c\uc900\uc815\uaddc\ubd84\ud3ec \ubcc0\ud658\ud558\ub294 \uacf5\uc2dd \uc644\uc804 \uc774\ud574\ud568..\n",
      "- \ub3d9\uc601\uc0c1 \ubcf4\uba74\uc11c \uba38\ub9ac\uc18d\uc73c\ub85c \ud568\uc218 \uc9f0\uc74c\n",
      "- \ud568\uc218\uc4f0\uba74 \uc0ac\ub78c\uc774 \uc77c\uc77c\uc774 \uacc4\uc0b0 \uc548\ud574\ub3c4 \ub418\ub294\ub370 \ub77c\ub294 \uc0dd\uac01\ud568\n",
      "- \uadfc\ub370 \uc65c \uc774\ub807\uac8c \uc608\uc804\uc5d0\ub294 \uc5b4\ub824\uc6e0\uc744\uae4c?? \uadf8\uac8c \uc9c0\uae08 \uc0dd\uac01\ud574\ubcf4\ub2c8 \ub2e4\ub978 \uc8fc\ubcc0 \uc9c0\uc2dd\uc774 \ub9ce\uc774 \uc313\uc774\ub2e4\ubcf4\ub2c8 \uc815\uaddc\ubd84\ud3ec\uc640 \uc5f0\uad00\ub41c \uacf3\uc5d0 \uc751\uc6a9\ud560 \uc218 \uc788\ub294\uac8c \uc0dd\uae30\uace0 \uc751\uc6a9\uc774 \ub418\ub2c8\uae4c \uc7ac\ubbf8\uac00 \uc788\uc5b4\uc9c4\ub2e4.. \uc120\uc21c\ud658 \uad6c\uc870\uac00 \ubc1c\uc0dd\ud568\n",
      "- \uc218\ud559\uc774\ub098 \ubb3c\ub9ac\ub098 \ub2e4 \ub611\uac19\ub124. \ud558\ub098\uc758 \uacf5\uc2dd\uc744 \ub9cc\ub4e4\uba74 \uadf8\uac70 \ud558\ub098 \uac00\uc9c0\uace0 \uc774\ub9ac \ubcf6\uace0 \uc800\ub9ac \ubcf6\uace0. \uac01 \uc0c1\ud669\ubcc4\ub85c \ub2e4 \ub300\ucc98\ud560 \uc218 \uc788\uac8c\ub054 \ud574\uc8fc\ub294\uac70.. \uadf8\ub7ec\ub2c8 \ud558\ub098\uc758 \uacf5\uc2dd\ub9cc \uc774\ud574\ud558\uba74 \ub2e4\ub978 \uac83\ub4e4\uc740 \ucd94\ub860\ud574\uc11c \uc774\ub04c\uc5b4\ub0bc \uc218 \uc788\uc74c"
     ]
    },
    {
     "cell_type": "code",
     "collapsed": false,
     "input": [
      "help(norm.rvs)"
     ],
     "language": "python",
     "metadata": {},
     "outputs": [
      {
       "output_type": "stream",
       "stream": "stdout",
       "text": [
        "Help on method rvs in module scipy.stats._distn_infrastructure:\n",
        "\n",
        "rvs(self, *args, **kwds) method of scipy.stats._continuous_distns.norm_gen instance\n",
        "    Random variates of given type.\n",
        "    \n",
        "    Parameters\n",
        "    ----------\n",
        "    arg1, arg2, arg3,... : array_like\n",
        "        The shape parameter(s) for the distribution (see docstring of the\n",
        "        instance object for more information).\n",
        "    loc : array_like, optional\n",
        "        Location parameter (default=0).\n",
        "    scale : array_like, optional\n",
        "        Scale parameter (default=1).\n",
        "    size : int or tuple of ints, optional\n",
        "        Defining number of random variates (default=1).\n",
        "    \n",
        "    Returns\n",
        "    -------\n",
        "    rvs : ndarray or scalar\n",
        "        Random variates of given `size`.\n",
        "\n"
       ]
      }
     ],
     "prompt_number": 100
    },
    {
     "cell_type": "code",
     "collapsed": false,
     "input": [
      "a = np.array((1,2,3))\n",
      "b = np.array((2,3,4))\n",
      "print a, b\n",
      "np.hstack((a, b))"
     ],
     "language": "python",
     "metadata": {},
     "outputs": [
      {
       "output_type": "stream",
       "stream": "stdout",
       "text": [
        "[1 2 3] [2 3 4]\n"
       ]
      },
      {
       "metadata": {},
       "output_type": "pyout",
       "prompt_number": 101,
       "text": [
        "array([1, 2, 3, 2, 3, 4])"
       ]
      }
     ],
     "prompt_number": 101
    },
    {
     "cell_type": "code",
     "collapsed": false,
     "input": [
      "num_per_class = 40\n",
      "norm.rvs(2, size=num_per_class, scale=2)"
     ],
     "language": "python",
     "metadata": {},
     "outputs": [
      {
       "metadata": {},
       "output_type": "pyout",
       "prompt_number": 107,
       "text": [
        "array([ 1.50382912,  0.6950616 ,  2.14684385,  2.01172737,  3.03024977,\n",
        "        1.18038949,  1.89960337,  4.04713879,  3.45202325,  0.52061173,\n",
        "       -1.50751039, -1.56534288,  5.39956797,  2.33266484,  1.56416043,\n",
        "        4.52448201, -1.69741797,  1.81277948, -2.43919157,  0.584605  ,\n",
        "        3.74297329,  2.52938376,  1.84469842,  2.0690942 ,  0.29054967,\n",
        "        4.901414  ,  3.47261608,  2.21825416,  1.65204027,  5.16808042,\n",
        "        2.03305045,  0.78721124,  0.71613263,  2.51884264,  0.66681444,\n",
        "        1.05779913,  3.15359513,  2.11449319,  5.53107335,  2.84672702])"
       ]
      }
     ],
     "prompt_number": 107
    },
    {
     "cell_type": "code",
     "collapsed": false,
     "input": [
      "norm.rvs(8, size=num_per_class, scale=3)"
     ],
     "language": "python",
     "metadata": {},
     "outputs": [
      {
       "metadata": {},
       "output_type": "pyout",
       "prompt_number": 110,
       "text": [
        "array([  9.49451015,  10.11633707,   7.49632009,   5.26637009,\n",
        "         6.05399249,  13.61234959,  10.44630063,   6.75151467,\n",
        "         5.87661125,   9.40656752,   9.72528343,   5.38439806,\n",
        "         5.92877802,  13.68309601,  10.15531328,   7.98561774,\n",
        "        12.58539187,   6.11893668,  12.96181121,   7.79235214,\n",
        "         6.5375155 ,   5.70510509,   4.42441963,   9.92399016,\n",
        "         9.71331125,   3.76284325,   7.39415325,  10.59603585,\n",
        "         6.6553887 ,   4.90526654,   6.88491538,   6.17989754,\n",
        "         7.75348656,  14.41935056,   5.99669702,   8.92884079,\n",
        "         7.47079053,  10.27916933,  10.06409473,   7.94752376])"
       ]
      }
     ],
     "prompt_number": 110
    },
    {
     "cell_type": "code",
     "collapsed": false,
     "input": [
      "# stack\ucc98\ub7fc \ud558\ub098\ub85c \uc774\uc5b4 \ubd99\uc600\ub2e4\n",
      "X = np.hstack((norm.rvs(2, size=num_per_class, scale=2),\n",
      "           norm.rvs(8, size=num_per_class, scale=3)))\n",
      "X"
     ],
     "language": "python",
     "metadata": {},
     "outputs": [
      {
       "metadata": {},
       "output_type": "pyout",
       "prompt_number": 118,
       "text": [
        "array([  2.03107124,   2.26015747,   3.70420794,   2.31183513,\n",
        "         2.80451833,   5.38092829,   1.66075178,   5.2456714 ,\n",
        "         1.98235491,  -0.3094371 ,   2.95094867,   3.5271107 ,\n",
        "         5.2908796 ,   1.11910755,   1.0616503 ,   1.38237096,\n",
        "         3.03834484,   3.2578207 ,   2.86343004,  -0.35255144,\n",
        "         3.09253665,   5.08649865,   2.52623759,  -2.21905828,\n",
        "         0.80121253,   3.99738786,   5.92503087,   4.39280357,\n",
        "         0.95640434,   0.71992754,   3.18629207,   3.43247637,\n",
        "         2.52134818,  -0.1448019 ,  -0.21708672,   0.99685551,\n",
        "         3.06726423,   2.65392774,  -2.8859422 ,   1.33130147,\n",
        "         9.06433198,   7.1602466 ,   2.5035864 ,   4.84173347,\n",
        "         9.36156431,   5.47483723,   5.29886905,  15.85498383,\n",
        "        10.88349225,   8.02591372,   9.33784086,   7.69130049,\n",
        "         4.64115332,   9.83977217,   7.41464598,  12.68015225,\n",
        "         4.69201252,   1.80081029,  10.23539806,   7.79840747,\n",
        "         2.97723008,   7.17587327,   8.72393147,   8.98073695,\n",
        "         5.14433156,  15.01254288,   9.85034732,   8.90465236,\n",
        "         9.95448028,   5.92944084,  11.17422672,  14.34037569,\n",
        "         7.10241625,   8.20827059,  11.70261289,  12.78557004,\n",
        "         9.14156001,   6.69249829,   6.37366602,   7.60172223])"
       ]
      }
     ],
     "prompt_number": 118
    },
    {
     "cell_type": "markdown",
     "metadata": {},
     "source": [
      "#### \uc9c0\uc218\ud568\uc218\n",
      "\n",
      "- [Exponential function - Wikipedia, the free encyclopedia](http://en.wikipedia.org/wiki/Exponential_function)\n",
      "- 2.718281\uc744 \ubc11\uc73c\ub85c \ud574\uc11c \uacf1\ud568\n",
      "- [\uc9c0\uc218 \ud568\uc218 - \uc704\ud0a4\ubc31\uacfc, \uc6b0\ub9ac \ubaa8\ub450\uc758 \ubc31\uacfc\uc0ac\uc804](http://ko.wikipedia.org/wiki/%EC%A7%80%EC%88%98_%ED%95%A8%EC%88%98)\n"
     ]
    },
    {
     "cell_type": "code",
     "collapsed": false,
     "input": [
      "2.718281**2.03107124"
     ],
     "language": "python",
     "metadata": {},
     "outputs": [
      {
       "metadata": {},
       "output_type": "pyout",
       "prompt_number": 143,
       "text": [
        "7.622242524712777"
       ]
      }
     ],
     "prompt_number": 143
    },
    {
     "cell_type": "code",
     "collapsed": false,
     "input": [
      "np.exp(X)[0]"
     ],
     "language": "python",
     "metadata": {},
     "outputs": [
      {
       "metadata": {},
       "output_type": "pyout",
       "prompt_number": 144,
       "text": [
        "7.6222472770477632"
       ]
      }
     ],
     "prompt_number": 144
    },
    {
     "cell_type": "code",
     "collapsed": false,
     "input": [
      "np.exp(X)"
     ],
     "language": "python",
     "metadata": {},
     "outputs": [
      {
       "metadata": {},
       "output_type": "pyout",
       "prompt_number": 128,
       "text": [
        "array([  7.62224728e+00,   9.58459834e+00,   4.06178630e+01,\n",
        "         1.00929295e+01,   1.65191172e+01,   2.17223829e+02,\n",
        "         5.26326618e+00,   1.89743166e+02,   7.25981908e+00,\n",
        "         7.33859928e-01,   1.91240876e+01,   3.40255155e+01,\n",
        "         1.98517965e+02,   3.06212020e+00,   2.89113829e+00,\n",
        "         3.98433716e+00,   2.08706704e+01,   2.59928293e+01,\n",
        "         1.75215235e+01,   7.02892414e-01,   2.20328969e+01,\n",
        "         1.61822272e+02,   1.25063635e+01,   1.08711436e-01,\n",
        "         2.22824111e+00,   5.44557180e+01,   3.74289988e+02,\n",
        "         8.08668174e+01,   2.60232257e+00,   2.05428435e+00,\n",
        "         2.41985344e+01,   3.09531995e+01,   1.24453640e+01,\n",
        "         8.65193673e-01,   8.04860172e-01,   2.70974765e+00,\n",
        "         2.14830494e+01,   1.42097413e+01,   5.58021880e-02,\n",
        "         3.78596750e+00,   8.64150450e+03,   1.28722832e+03,\n",
        "         1.22262637e+01,   1.26688773e+02,   1.16325713e+04,\n",
        "         2.38611624e+02,   2.00110367e+02,   7.68655941e+06,\n",
        "         5.32893754e+04,   3.05921528e+03,   1.13598542e+04,\n",
        "         2.18921977e+03,   1.03663836e+02,   1.87654401e+04,\n",
        "         1.66012136e+03,   3.21306974e+05,   1.09072470e+02,\n",
        "         6.05455141e+00,   2.78725624e+04,   2.43671833e+03,\n",
        "         1.96333583e+01,   1.30750140e+03,   6.14830348e+03,\n",
        "         7.94848758e+03,   1.71456838e+02,   3.31027849e+06,\n",
        "         1.89649406e+04,   7.36616403e+03,   2.10463047e+04,\n",
        "         3.75944243e+02,   7.12697123e+04,   1.69023087e+06,\n",
        "         1.21489903e+03,   3.67118799e+03,   1.20887167e+05,\n",
        "         3.57028198e+05,   9.33531699e+03,   8.06334192e+02,\n",
        "         5.86202927e+02,   2.00164021e+03])"
       ]
      }
     ],
     "prompt_number": 128
    },
    {
     "cell_type": "code",
     "collapsed": false,
     "input": [
      "y = np.hstack((np.zeros(num_per_class),\n",
      "              np.ones(num_per_class)))\n",
      "y"
     ],
     "language": "python",
     "metadata": {},
     "outputs": [
      {
       "metadata": {},
       "output_type": "pyout",
       "prompt_number": 115,
       "text": [
        "array([ 0.,  0.,  0.,  0.,  0.,  0.,  0.,  0.,  0.,  0.,  0.,  0.,  0.,\n",
        "        0.,  0.,  0.,  0.,  0.,  0.,  0.,  0.,  0.,  0.,  0.,  0.,  0.,\n",
        "        0.,  0.,  0.,  0.,  0.,  0.,  0.,  0.,  0.,  0.,  0.,  0.,  0.,\n",
        "        0.,  1.,  1.,  1.,  1.,  1.,  1.,  1.,  1.,  1.,  1.,  1.,  1.,\n",
        "        1.,  1.,  1.,  1.,  1.,  1.,  1.,  1.,  1.,  1.,  1.,  1.,  1.,\n",
        "        1.,  1.,  1.,  1.,  1.,  1.,  1.,  1.,  1.,  1.,  1.,  1.,  1.,\n",
        "        1.,  1.])"
       ]
      }
     ],
     "prompt_number": 115
    },
    {
     "cell_type": "code",
     "collapsed": false,
     "input": [
      "norm.rvs(2, size=num_per_class, scale=1)"
     ],
     "language": "python",
     "metadata": {},
     "outputs": [
      {
       "metadata": {},
       "output_type": "pyout",
       "prompt_number": 108,
       "text": [
        "array([ 1.22731604,  3.09818686,  2.05368668,  1.20903176,  2.35891104,\n",
        "        0.79871221,  3.91025799,  2.58830534,  3.0309888 ,  2.7834406 ,\n",
        "        1.66102948,  0.40357073,  0.8784523 ,  0.79769964,  2.22853806,\n",
        "        1.91186367, -0.02840457,  2.8137258 ,  2.33627294,  0.97943937,\n",
        "        2.09155003,  5.08886513,  2.48954752,  0.99988089,  0.34260816,\n",
        "        2.60533885,  1.82061324,  3.19744564,  1.94820095,  3.11401143,\n",
        "        1.49253795,  1.16070569,  0.75552093,  2.60720431,  1.64391509,\n",
        "        2.27803339,  3.45075673,  3.05029458,  1.26304246,  2.26796357])"
       ]
      }
     ],
     "prompt_number": 108
    },
    {
     "cell_type": "code",
     "collapsed": false,
     "input": [
      "# \ud45c\uc900\ud3b8\ucc28\uc778 scale\uc774 100\uc73c\ub85c \ucee4\uc11c \ud3c9\uade0\uacfc \ub9ce\uc774 \ub5a8\uc5b4\uc9d0\n",
      "norm.rvs(2, size=num_per_class, scale=100)"
     ],
     "language": "python",
     "metadata": {},
     "outputs": [
      {
       "metadata": {},
       "output_type": "pyout",
       "prompt_number": 109,
       "text": [
        "array([ -36.69681509,  -14.58733165,   42.48904883,   90.24806305,\n",
        "         15.88052835,  -58.32265596,  157.27980439,  -26.39166735,\n",
        "        -44.66827741,   72.52737852,   35.72941125,  -18.74849197,\n",
        "        265.05342974,  220.86116979,   58.11022808,   36.45023495,\n",
        "        -74.80492022,   29.97990547,  -34.10865977,  179.21090027,\n",
        "       -161.38159427,  -93.61837129,  112.54026979,   -5.54282056,\n",
        "         -8.85053397,   24.03367169,   -0.65127555,  123.85107445,\n",
        "        -89.44502472,  -84.0404326 , -111.21374284,  174.49403233,\n",
        "        -21.60490449,  124.00057826,   17.30606367,  125.44304621,\n",
        "         27.06126731,   37.45587832,  -71.49484592,  -45.28858929])"
       ]
      }
     ],
     "prompt_number": 109
    },
    {
     "cell_type": "code",
     "collapsed": false,
     "input": [
      "2.718281**2"
     ],
     "language": "python",
     "metadata": {},
     "outputs": [
      {
       "metadata": {},
       "output_type": "pyout",
       "prompt_number": 131,
       "text": [
        "7.389051594961001"
       ]
      }
     ],
     "prompt_number": 131
    },
    {
     "cell_type": "code",
     "collapsed": false,
     "input": [
      "np.exp(2)"
     ],
     "language": "python",
     "metadata": {},
     "outputs": [
      {
       "metadata": {},
       "output_type": "pyout",
       "prompt_number": 124,
       "text": [
        "7.3890560989306504"
       ]
      }
     ],
     "prompt_number": 124
    },
    {
     "cell_type": "code",
     "collapsed": false,
     "input": [
      "# http://docs.scipy.org/doc/numpy/reference/generated/numpy.exp.html\n",
      "# Calculate the eponential of all elements in the input array.\n",
      "# help(np.exp)"
     ],
     "language": "python",
     "metadata": {},
     "outputs": [],
     "prompt_number": 168
    },
    {
     "cell_type": "code",
     "collapsed": false,
     "input": [
      "def lr_model(clf, X):\n",
      "    return 1.0 / (1.0 + np.exp(-(clf.intercept_ + clf.coef_ * X)))"
     ],
     "language": "python",
     "metadata": {},
     "outputs": [],
     "prompt_number": 117
    },
    {
     "cell_type": "code",
     "collapsed": false,
     "input": [
      "from sklearn.linear_model import LogisticRegression"
     ],
     "language": "python",
     "metadata": {},
     "outputs": [],
     "prompt_number": 145
    },
    {
     "cell_type": "code",
     "collapsed": false,
     "input": [
      "logclf = LogisticRegression()"
     ],
     "language": "python",
     "metadata": {},
     "outputs": [],
     "prompt_number": 146
    },
    {
     "cell_type": "code",
     "collapsed": false,
     "input": [
      "print(logclf)"
     ],
     "language": "python",
     "metadata": {},
     "outputs": [
      {
       "output_type": "stream",
       "stream": "stdout",
       "text": [
        "LogisticRegression(C=1.0, class_weight=None, dual=False, fit_intercept=True,\n",
        "          intercept_scaling=1, penalty='l2', random_state=None, tol=0.0001)\n"
       ]
      }
     ],
     "prompt_number": 147
    },
    {
     "cell_type": "code",
     "collapsed": false,
     "input": [
      "X.shape"
     ],
     "language": "python",
     "metadata": {},
     "outputs": [
      {
       "metadata": {},
       "output_type": "pyout",
       "prompt_number": 153,
       "text": [
        "(80,)"
       ]
      }
     ],
     "prompt_number": 153
    },
    {
     "cell_type": "code",
     "collapsed": false,
     "input": [
      "X"
     ],
     "language": "python",
     "metadata": {},
     "outputs": [
      {
       "metadata": {},
       "output_type": "pyout",
       "prompt_number": 155,
       "text": [
        "array([  5.57725695,   2.8730197 ,   2.19299494,  -1.72698541,\n",
        "         1.44522359,   1.29048204,   1.83451704,   0.74599865,\n",
        "         1.91236366,   1.04556394,  -0.62772951,   3.76924476,\n",
        "         3.76263608,   5.41914613,   2.10006728,   1.19064517,\n",
        "         0.9092801 ,  -1.09295463,   3.96473487,  -0.20213526,\n",
        "        -0.37009305,   1.5887002 ,   4.97229671,   2.47343253,\n",
        "        -0.04757028,   0.5740136 ,   3.25048993,   1.67897327,\n",
        "         0.4623273 ,   1.53993856,   3.49011253,   5.95222157,\n",
        "        -0.48824666,   0.74716618,   0.39246781,  -2.83816635,\n",
        "         0.15241596,  -0.04775152,   4.24795592,   1.73617153,\n",
        "         3.13014366,   9.94002636,   6.93118772,   2.77057689,\n",
        "         6.21005107,   6.23421686,   5.37835311,   8.08914145,\n",
        "         1.2552267 ,   7.19671441,  11.03955033,  10.55839352,\n",
        "        11.3245625 ,  11.35817197,  12.4626294 ,   4.64509795,\n",
        "        10.53750022,   2.41733141,   6.19134469,   2.25658387,\n",
        "        11.14444254,  12.00121346,   7.40775596,  13.32393509,\n",
        "         5.97581747,   8.4518506 ,   8.45883711,   4.80741418,\n",
        "         9.31383983,  13.81693538,   4.92520738,  10.69801534,\n",
        "         7.53647944,  13.30888191,   9.45136504,  10.0286492 ,\n",
        "         9.92948984,   8.74726012,   3.81270949,  12.17498872])"
       ]
      }
     ],
     "prompt_number": 155
    },
    {
     "cell_type": "code",
     "collapsed": false,
     "input": [
      "X.reshape(num_per_class * 2, 1)"
     ],
     "language": "python",
     "metadata": {},
     "outputs": [
      {
       "metadata": {},
       "output_type": "pyout",
       "prompt_number": 154,
       "text": [
        "array([[  5.57725695],\n",
        "       [  2.8730197 ],\n",
        "       [  2.19299494],\n",
        "       [ -1.72698541],\n",
        "       [  1.44522359],\n",
        "       [  1.29048204],\n",
        "       [  1.83451704],\n",
        "       [  0.74599865],\n",
        "       [  1.91236366],\n",
        "       [  1.04556394],\n",
        "       [ -0.62772951],\n",
        "       [  3.76924476],\n",
        "       [  3.76263608],\n",
        "       [  5.41914613],\n",
        "       [  2.10006728],\n",
        "       [  1.19064517],\n",
        "       [  0.9092801 ],\n",
        "       [ -1.09295463],\n",
        "       [  3.96473487],\n",
        "       [ -0.20213526],\n",
        "       [ -0.37009305],\n",
        "       [  1.5887002 ],\n",
        "       [  4.97229671],\n",
        "       [  2.47343253],\n",
        "       [ -0.04757028],\n",
        "       [  0.5740136 ],\n",
        "       [  3.25048993],\n",
        "       [  1.67897327],\n",
        "       [  0.4623273 ],\n",
        "       [  1.53993856],\n",
        "       [  3.49011253],\n",
        "       [  5.95222157],\n",
        "       [ -0.48824666],\n",
        "       [  0.74716618],\n",
        "       [  0.39246781],\n",
        "       [ -2.83816635],\n",
        "       [  0.15241596],\n",
        "       [ -0.04775152],\n",
        "       [  4.24795592],\n",
        "       [  1.73617153],\n",
        "       [  3.13014366],\n",
        "       [  9.94002636],\n",
        "       [  6.93118772],\n",
        "       [  2.77057689],\n",
        "       [  6.21005107],\n",
        "       [  6.23421686],\n",
        "       [  5.37835311],\n",
        "       [  8.08914145],\n",
        "       [  1.2552267 ],\n",
        "       [  7.19671441],\n",
        "       [ 11.03955033],\n",
        "       [ 10.55839352],\n",
        "       [ 11.3245625 ],\n",
        "       [ 11.35817197],\n",
        "       [ 12.4626294 ],\n",
        "       [  4.64509795],\n",
        "       [ 10.53750022],\n",
        "       [  2.41733141],\n",
        "       [  6.19134469],\n",
        "       [  2.25658387],\n",
        "       [ 11.14444254],\n",
        "       [ 12.00121346],\n",
        "       [  7.40775596],\n",
        "       [ 13.32393509],\n",
        "       [  5.97581747],\n",
        "       [  8.4518506 ],\n",
        "       [  8.45883711],\n",
        "       [  4.80741418],\n",
        "       [  9.31383983],\n",
        "       [ 13.81693538],\n",
        "       [  4.92520738],\n",
        "       [ 10.69801534],\n",
        "       [  7.53647944],\n",
        "       [ 13.30888191],\n",
        "       [  9.45136504],\n",
        "       [ 10.0286492 ],\n",
        "       [  9.92948984],\n",
        "       [  8.74726012],\n",
        "       [  3.81270949],\n",
        "       [ 12.17498872]])"
       ]
      }
     ],
     "prompt_number": 154
    },
    {
     "cell_type": "code",
     "collapsed": false,
     "input": [
      "y"
     ],
     "language": "python",
     "metadata": {},
     "outputs": [
      {
       "metadata": {},
       "output_type": "pyout",
       "prompt_number": 156,
       "text": [
        "array([ 0.,  0.,  0.,  0.,  0.,  0.,  0.,  0.,  0.,  0.,  0.,  0.,  0.,\n",
        "        0.,  0.,  0.,  0.,  0.,  0.,  0.,  0.,  0.,  0.,  0.,  0.,  0.,\n",
        "        0.,  0.,  0.,  0.,  0.,  0.,  0.,  0.,  0.,  0.,  0.,  0.,  0.,\n",
        "        0.,  1.,  1.,  1.,  1.,  1.,  1.,  1.,  1.,  1.,  1.,  1.,  1.,\n",
        "        1.,  1.,  1.,  1.,  1.,  1.,  1.,  1.,  1.,  1.,  1.,  1.,  1.,\n",
        "        1.,  1.,  1.,  1.,  1.,  1.,  1.,  1.,  1.,  1.,  1.,  1.,  1.,\n",
        "        1.,  1.])"
       ]
      }
     ],
     "prompt_number": 156
    },
    {
     "cell_type": "code",
     "collapsed": false,
     "input": [
      "logclf.fit(X.reshape(num_per_class * 2, 1), y)"
     ],
     "language": "python",
     "metadata": {},
     "outputs": [
      {
       "metadata": {},
       "output_type": "pyout",
       "prompt_number": 152,
       "text": [
        "LogisticRegression(C=1.0, class_weight=None, dual=False, fit_intercept=True,\n",
        "          intercept_scaling=1, penalty='l2', random_state=None, tol=0.0001)"
       ]
      }
     ],
     "prompt_number": 152
    },
    {
     "cell_type": "markdown",
     "metadata": {},
     "source": [
      "#### intercept_, coef_ \n",
      "\n",
      "- [sklearn.linear_model.LogisticRegression \u2014 scikit-learn 0.15.2 documentation](http://scikit-learn.org/stable/modules/generated/sklearn.linear_model.LogisticRegression.html)\n",
      "  - intercept\\_: array, shape = [n\\_classes]\n",
      "  - intercept (a.k.a bias) added to the decision function. If fit_intercept is set to False, the intercept is set to zero.\n",
      "  - coef\\_: array, shape = [n_classes, n_features]\n",
      "  - Coefficient of the features in the decision function.\n",
      "  - coef\\_ is readonly property derived from raw\\_coef\\_ that follows the internal memory layout of liblinear."
     ]
    },
    {
     "cell_type": "code",
     "collapsed": false,
     "input": [
      "logclf.intercept_"
     ],
     "language": "python",
     "metadata": {},
     "outputs": [
      {
       "metadata": {},
       "output_type": "pyout",
       "prompt_number": 157,
       "text": [
        "array([-2.36051208])"
       ]
      }
     ],
     "prompt_number": 157
    },
    {
     "cell_type": "code",
     "collapsed": false,
     "input": [
      "np.exp(logclf.intercept_)"
     ],
     "language": "python",
     "metadata": {},
     "outputs": [
      {
       "metadata": {},
       "output_type": "pyout",
       "prompt_number": 159,
       "text": [
        "array([ 0.09437188])"
       ]
      }
     ],
     "prompt_number": 159
    },
    {
     "cell_type": "code",
     "collapsed": false,
     "input": [
      "help(logclf.coef_.ravel)"
     ],
     "language": "python",
     "metadata": {},
     "outputs": [
      {
       "output_type": "stream",
       "stream": "stdout",
       "text": [
        "Help on built-in function ravel:\n",
        "\n",
        "ravel(...)\n",
        "    a.ravel([order])\n",
        "    \n",
        "    Return a flattened array.\n",
        "    \n",
        "    Refer to `numpy.ravel` for full documentation.\n",
        "    \n",
        "    See Also\n",
        "    --------\n",
        "    numpy.ravel : equivalent function\n",
        "    \n",
        "    ndarray.flat : a flat iterator on the array.\n",
        "\n"
       ]
      }
     ],
     "prompt_number": 160
    },
    {
     "cell_type": "code",
     "collapsed": false,
     "input": [
      "# Return a flattened array.\n",
      "# >>> x = np.array([[1, 2, 3], [4, 5, 6]])\n",
      "# >>> print np.ravel(x)\n",
      "# [1 2 3 4 5 6]\n",
      "# help(numpy.ravel)"
     ],
     "language": "python",
     "metadata": {},
     "outputs": [],
     "prompt_number": 163
    },
    {
     "cell_type": "code",
     "collapsed": false,
     "input": [
      "print(np.exp(logclf.intercept_), np.exp(logclf.coef_.ravel()))"
     ],
     "language": "python",
     "metadata": {},
     "outputs": [
      {
       "output_type": "stream",
       "stream": "stdout",
       "text": [
        "(array([ 0.09437188]), array([ 1.80094112]))\n"
       ]
      }
     ],
     "prompt_number": 151
    },
    {
     "cell_type": "markdown",
     "metadata": {},
     "source": [
      "- \uc218\ud559\uc801\uc73c\ub85c, \uc720\ud55c \ubc94\uc704\uc5d0\uc11c \uc774\uc0b0\uc801 \ub77c\ubca8 0\uacfc 1\ub85c \ub41c \ubaa8\ub378\uc744 \ucc3e\ub294 \uc791\uc5c5\uc740 \uc27d\uc9c0\uc54a\uc74c\n",
      "- \uadf8\ub7ec\ub098 \uacb0\uacfc\uac00 0\uacfc 1 \uc0ac\uc774\uc5d0 \uba38\ubb3c\ub3c4\ub85d \ud655\ub960 \ubcc0\uacbd \uac00\ub2a5, odds ratio\uc640 \uadf8\uc5d0 \ub300\ud55c logarithm\uac00 \ud544\uc694\ud568"
     ]
    },
    {
     "cell_type": "code",
     "collapsed": false,
     "input": [
      "print('P(x=-1)=%.2f\\tP(x=7)=%.2f' % \n",
      "(lr_model(logclf, -1), lr_model(logclf, 7)))"
     ],
     "language": "python",
     "metadata": {},
     "outputs": [
      {
       "output_type": "stream",
       "stream": "stdout",
       "text": [
        "P(x=-1)=0.05\tP(x=7)=0.85\n"
       ]
      }
     ],
     "prompt_number": 167
    },
    {
     "cell_type": "code",
     "collapsed": false,
     "input": [
      "# -5\ubd80\ud130 20\uae4c\uc9c0 0.1\uc529 250\uac1c\uc758 X\ub97c \ub9cc\ub4e6\n",
      "X_test = np.arange(-5, 20, 0.1)\n",
      "len(X_test)"
     ],
     "language": "python",
     "metadata": {},
     "outputs": [
      {
       "metadata": {},
       "output_type": "pyout",
       "prompt_number": 174,
       "text": [
        "250"
       ]
      }
     ],
     "prompt_number": 174
    },
    {
     "cell_type": "code",
     "collapsed": false,
     "input": [
      "help(pyplot.scatter)"
     ],
     "language": "python",
     "metadata": {},
     "outputs": [
      {
       "output_type": "stream",
       "stream": "stdout",
       "text": [
        "Help on function scatter in module matplotlib.pyplot:\n",
        "\n",
        "scatter(x, y, s=20, c=u'b', marker=u'o', cmap=None, norm=None, vmin=None, vmax=None, alpha=None, linewidths=None, verts=None, hold=None, **kwargs)\n",
        "    Make a scatter plot of x vs y, where x and y are sequence like objects\n",
        "    of the same lengths.\n",
        "    \n",
        "    Parameters\n",
        "    ----------\n",
        "    x, y : array_like, shape (n, )\n",
        "        Input data\n",
        "    \n",
        "    s : scalar or array_like, shape (n, ), optional, default: 20\n",
        "        size in points^2.\n",
        "    \n",
        "    c : color or sequence of color, optional, default : 'b'\n",
        "        `c` can be a single color format string, or a sequence of color\n",
        "        specifications of length `N`, or a sequence of `N` numbers to be\n",
        "        mapped to colors using the `cmap` and `norm` specified via kwargs\n",
        "        (see below). Note that `c` should not be a single numeric RGB or\n",
        "        RGBA sequence because that is indistinguishable from an array of\n",
        "        values to be colormapped.  `c` can be a 2-D array in which the\n",
        "        rows are RGB or RGBA, however.\n",
        "    \n",
        "    marker : `~matplotlib.markers.MarkerStyle`, optional, default: 'o'\n",
        "        See `~matplotlib.markers` for more information on the different\n",
        "        styles of markers scatter supports.\n",
        "    \n",
        "    cmap : `~matplotlib.colors.Colormap`, optional, default: None\n",
        "        A `~matplotlib.colors.Colormap` instance or registered name.\n",
        "        `cmap` is only used if `c` is an array of floats. If None,\n",
        "        defaults to rc `image.cmap`.\n",
        "    \n",
        "    norm : `~matplotlib.colors.Normalize`, optional, default: None\n",
        "        A `~matplotlib.colors.Normalize` instance is used to scale\n",
        "        luminance data to 0, 1. `norm` is only used if `c` is an array of\n",
        "        floats. If `None`, use the default :func:`normalize`.\n",
        "    \n",
        "    vmin, vmax : scalar, optional, default: None\n",
        "        `vmin` and `vmax` are used in conjunction with `norm` to normalize\n",
        "        luminance data.  If either are `None`, the min and max of the\n",
        "        color array is used.  Note if you pass a `norm` instance, your\n",
        "        settings for `vmin` and `vmax` will be ignored.\n",
        "    \n",
        "    alpha : scalar, optional, default: None\n",
        "        The alpha blending value, between 0 (transparent) and 1 (opaque)\n",
        "    \n",
        "    linewidths : scalar or array_like, optional, default: None\n",
        "        If None, defaults to (lines.linewidth,).  Note that this is a\n",
        "        tuple, and if you set the linewidths argument you must set it as a\n",
        "        sequence of floats, as required by\n",
        "        `~matplotlib.collections.RegularPolyCollection`.\n",
        "    \n",
        "    Returns\n",
        "    -------\n",
        "    paths : `~matplotlib.collections.PathCollection`\n",
        "    \n",
        "    Other parameters\n",
        "    ----------------\n",
        "    kwargs : `~matplotlib.collections.Collection` properties\n",
        "    \n",
        "    Notes\n",
        "    ------\n",
        "    Any or all of `x`, `y`, `s`, and `c` may be masked arrays, in\n",
        "    which case all masks will be combined and only unmasked points\n",
        "    will be plotted.\n",
        "    \n",
        "    Examples\n",
        "    --------\n",
        "    .. plot:: mpl_examples/shapes_and_collections/scatter_demo.py\n",
        "    \n",
        "    \n",
        "    \n",
        "    Additional kwargs: hold = [True|False] overrides default hold state\n",
        "\n"
       ]
      }
     ],
     "prompt_number": 171
    },
    {
     "cell_type": "code",
     "collapsed": false,
     "input": [
      "pyplot.figure(figsize=(10, 4))\n",
      "pyplot.xlim((-5, 20))\n",
      "# c = color, y\ub97c \ud558\uba74 1\ub9cc \ube68\uac04\uc0c9\uc73c\ub85c \ub418\ub294\ub4ef\n",
      "pyplot.scatter(X, y, c=y)\n",
      "pyplot.xlabel('feature value')\n",
      "pyplot.ylabel('class')\n",
      "pyplot.grid(True, linestyle='-', color='0.75')"
     ],
     "language": "python",
     "metadata": {},
     "outputs": [
      {
       "metadata": {},
       "output_type": "display_data",
       "png": "[encoded data removed]",
       "text": [
        "<matplotlib.figure.Figure at 0x10b73cc50>"
       ]
      }
     ],
     "prompt_number": 176
    },
    {
     "cell_type": "code",
     "collapsed": false,
     "input": [
      "pyplot.figure(figsize=(10, 4))\n",
      "pyplot.xlim((-5, 20))\n",
      "# c = color\n",
      "pyplot.scatter(X, y, c='green')\n",
      "pyplot.xlabel('feature value')\n",
      "pyplot.ylabel('class')\n",
      "pyplot.grid(True, linestyle='-', color='0.75')"
     ],
     "language": "python",
     "metadata": {},
     "outputs": [
      {
       "metadata": {},
       "output_type": "display_data",
       "png": "[encoded data removed]",
       "text": [
        "<matplotlib.figure.Figure at 0x10b8cf750>"
       ]
      }
     ],
     "prompt_number": 178
    },
    {
     "cell_type": "code",
     "collapsed": false,
     "input": [
      "pyplot.figure(figsize=(10, 4))\n",
      "pyplot.xlim((-5, 20))\n",
      "# c = color, \ube68\uc8fc\ub178\ucd08\ud30c\ub0a8\ubcf4\uac00 \ub410\ub124\n",
      "pyplot.scatter(X, y, c=X)\n",
      "pyplot.xlabel('feature value')\n",
      "pyplot.ylabel('class')\n",
      "pyplot.grid(True, linestyle='-', color='0.75')"
     ],
     "language": "python",
     "metadata": {},
     "outputs": [
      {
       "metadata": {},
       "output_type": "display_data",
       "png": "[encoded data removed]",
       "text": [
        "<matplotlib.figure.Figure at 0x10b0d9510>"
       ]
      }
     ],
     "prompt_number": 179
    },
    {
     "cell_type": "markdown",
     "metadata": {},
     "source": [
      "### \uc6a9\uc5b4 \uc815\ub9ac\n",
      "\n",
      "#### \uc6a9\uc5b4 \uc815\ub9ac\uc758 \uc758\uc758\n",
      "\n",
      "- \uc6a9\uc5b4 \uc815\ub9ac\uac00 \ub418\uc9c0 \uc54a\uc73c\uba74 \uc758\ubbf8\uc5c6\ub294 \ubab8\ubd80\ub9bc\uc5d0 \uc9c0\ub098\uc9c0 \uc54a\ub294\ub2e4.\n",
      "- \uc6a9\uc5b4\uac00 \uc775\uc219\ud558\uc9c0 \uc54a\uc73c\uba74 \uac15\uc81c\ub85c\ub77c\ub3c4 \uc775\uc219\ud574\uc838\uc57c \ud55c\ub2e4.\n",
      "- \uc804\ubb38\uac00\ub4e4\uc740 \uc804\ubb38 \uc6a9\uc5b4\ub85c \ubaa8\ub4e0 \uc124\uba85\uc744 \ucd95\uc57d\ud574\uc11c \uc124\uba85\ud558\uae30\uc5d0..\n",
      "- \uadf8 \uc804\ubb38 \uc6a9\uc5b4 \uba87\uac00\uc9c0\ub9cc \uc4f0\uac8c\ub418\ub3c4 \uc804\ubb38\uac00\uc640 \uc774\uc57c\uae30\uac00 \ud1b5\ud558\uac8c \ub41c\ub2e4. \uc989, \uc804\ubb38\uac00\uac00 \uc0c1\ub300\ub97c \ucd08\ubcf4\ub77c\uace0 \uc595\uc7a1\uc544 \ubcfc \uc218 \uc5c6\uac8c \ub41c\ub2e4.\n",
      "- \uc774\ub7ec\uba74\uc11c \ud558\ub098\uc529 \ubc30\uc6cc\ub098\uac00\ub294\uac70\uc9c0 \ubb50\n",
      "\n",
      "- Odds Ratio\n",
      "  - [Odds Ratio\uc640 Risk Ratio\uc758 \ucc28\uc774\uc810](https://www.kidi.or.kr/pdf/%EC%A0%84%EB%AC%B8%EC%9E%90%EB%A3%8C/KIDI_20140818_141626.pdf)\n",
      "  - [GWAS\ub85c \ubc30\uc6b0\ub294 \uc720\uc804\ud1b5\uacc4\ud559 \u2013 3.1 \ucf54\ud638\ud2b8 \uc5f0\uad6c\uc640 \uc2e4\ud5d8-\ub300\uc870\uad70 \uc5f0\uad6c \u00b7 Woosung Yang](http://wsyang.com/2012/04/genome-wide-association-study-1/)\n",
      "  - [\uc9c0\uce5c \uc77c\uc0c1\uc758 \ube44\uc0c1\uad6c- Chage the rule of the game so that other players don\u2019t know how to play the game! :: \ubc94\uc8fc\ud615 \uc790\ub8cc \ubd84\uc11d : \uc65c \uc624\uc988\ube44(odds ratio) vs \uc0c1\ub300 \uc704\ud5d8\ub3c4(relative risk) \ub97c \ub9cc\ub4e4\uc5c8\uc744\uae4c](http://techntalk.tistory.com/24): \uc774\uac8c \uac00\uc7a5 \uc798 \ub098\ud0c0\ub098 \uc788\ub294\ub4ef\n",
      "  \n",
      "#### \uc624\uc988\n",
      "\n",
      "- \ub2f9\uc2e0\uc774 \ubb3c\uace0\uae30\ub97c \uc7a1\uc744 \ud655\ub960(P) / \ubb3c\uace0\uae30\ub97c \ud55c \ub9c8\ub9ac\ub3c4 \uc7a1\uc9c0 \ubabb\ud560 \ud655\ub960(1-P) \uc73c\ub85c \ubb3c\uace0\uae30\ub97c \uc7a1\uc744 \ud655\ub960\uc774 \ubb3c\uace0\uae30\ub97c \uc7a1\uc9c0 \ubabb\ud560 \ud655\ub960\uc5d0 \uba87 \ubc30\uac00 \ub418\ub294 \uac00\uc758 \uac12\uc774 \ub428\n",
      "- \uc544\ub798 \uacb0\uacfc\uc5d0\uc11c \ubcf4\ub4ef\uc774 Bassassinator\uc744 \uc0ac\uc6a9\ud588\uc744 \ub54c \ubb3c\uace0\uae30\ub97c \uc7a1\uc744 \ud655\ub960\uc740 \uc7a1\uc9c0 \ubabb\ud560 \ud655\ub960\uc5d0 1\ubc30\uc774\ubbc0\ub85c \uac19\ub2e4\uace0 \ud560 \uc218 \uc788\uc74c. \uadf8\ub807\uc9c0\ub9cc No bait\ub97c \ud55c \uacbd\uc6b0\ub294 \ubb3c\uace0\uae30\ub97c \uc7a1\uc744 \ud655\ub960\uc774 \ud6e8\uc52c \uc791\uc544\uc9d0\n",
      "- Bassaddinator \uc624\uc988(oods) = a/b=50/50=1\n",
      "- No bait\uc758 \uc624\uc988(odds) = c/d=2/98=0.0204\n",
      "\n",
      "#### \uc624\uc988\ube44\n",
      "\n",
      "- \uc624\uc988\ube44\ub294 \uc704\uc5d0\uc11c \uad6c\ud55c \uc624\uc988\uc758 \ube44\uc728\uc784\n",
      "- \uc544\ub798\uc5d0\uc11c \ubcf4\ub4ef\uc774 \ub2f9\uc2e0\uc774 Bassassinator\ub97c \uc0ac\uc6a9\ud55c \uacbd\uc6b0 \ubb3c\uace0\uae30\ub97c \uc7a1\uc744 \ud655\ub960\ube44\ub294 no bait\ub97c \uc0ac\uc6a9\ud55c \uacbd\uc6b0\uc758 \ubb3c\uace0\uae30\ub97c \uc7a1\uc744 \ud655\ub960\ube44 \ub300\ube44 50\ubc30\uac00 \ub192\ub2e4\uace0 \ud560 \uc218 \uc788\uc74c\n",
      "  - Bassassinator vs no bait\uc758 \uc624\uc988\ube44 = 1.0/0.02 = 50\n",
      "\n",
      "#### \uc0c1\ub300 \uc704\ud5d8\ub3c4\n",
      "\n",
      "- Bassassinator\ub97c \uc0ac\uc6a9\ud558\uace0 \ubb3c\uace0\uae30\ub97c \uc7a1\uc744 \ud655\ub960 / no bait\uc758 \uacbd\uc6b0 \ubb3c\uace0\uae30\ub97c \uc7a1\uc744 \ud655\ub960 = 0.5/0.02 = 25\n",
      "- \uc704\uc5d0\uc11c \ubcf4\ub4ef \ub204\uad6c\uc5d0\uac8c\ub098 \uc9c1\uad00\uc801\uc774\uace0 \uc26c\uc6b4 \uac1c\ub150\uc740 \uc0c1\ub300\uc704\ud5d8\ub3c4\uc774\ub2e4. \uc704\uc758 \uacbd\uc6b0 \ud574\uc11d\uc744 \ud55c\ub2e4\uba74 \ub2f9\uc2e0\uc774 Bassassinator\uc744 \uc0ac\uc6a9\ud55c \uacbd\uc6b0\uc5d0 \ubb3c\uace0\uae30\ub97c \uc7a1\uc744 \ud655\ub960\uc774 25\ubc30\uac00 \ub192\ub2e4\uace0 \ud560 \uc218 \uc788\uc74c\n",
      "- \ub108\ubb34\ub098 \uac04\ub2e8\ud558\uac8c \ud574\uc11d\ub428. \uadf8\ub807\ub2e4\uba74 \uc65c \uc624\uc988\ube44\ub97c \uc0ac\uc6a9\ud558\ub294 \uac83\uc77c\uae4c?\n",
      "- \uc5ec\uae30\uc11c \uc774\ub7f0 \uc758\ubb38\uc774 \uc0dd\uae38 \uc218 \ubc16\uc5d0 \uc5c6\uc74c\n",
      "- \uac70\uc758 \ubaa8\ub4e0 \uc5f0\uad6c\ub294 \uc2e4\uc81c\ub85c \ucc98\ub9ac(treatment) \uadf8\ub8f9\uacfc \ub300\uc870(control) \uadf8\ub8f9\uc758 \ubaa8\uc9d1\ub2e8 \uc218\ub97c \uc54c \uc218 \uc5c6\uc74c. \uc65c\ub0d0\ud558\uba74 \uc5f0\uad6c\uc790\uac00 \ud560 \uc218 \uc788\ub294 \uac83\uc740 \uc0d8\ud50c\uc218\ub97c \uc870\uc815\ud560 \uc218 \uc788\uc744 \ubfd0\n",
      "- \uac00\ub839 \uc704\uc758 \uc608\ub97c \ub2e4\uc74c\uacfc \uac19\uc774 \ubc14\uafd4\ubcf4\uc790\n",
      "- \uc544\ub798\uc758 \ud45c\ub294 \ubb3c\uace0\uae30\ub97c \uc7a1\uc740 100\uba85\uc758 \ub09a\uc2dc\uafbc\uc744 \uc870\uc0ac\ud55c \uacb0\uacfc \uc774\ub4e4\uc911 40\uba85\uc774 Bassassinator\ub97c \uc0ac\uc6a9\ud558\uc600\uc74c\n",
      "- \uadf8\ub9ac\uace0 100\uba85\uc758 \ubb3c\uace0\uae30\ub97c \ud55c \ub9c8\ub9ac\ub3c4 \uc7a1\uc9c0 \ubabb\ud55c \ub09a\uc2dc\uafbc\uc744 \uc870\uc0ac\ud55c \uacb0\uacfc \ub2e8\uc9c0 \uc774\ub4e4\uc911 20\uba85\uc774 Bassassinator\ub97c \uc0ac\uc6a9\ud55c \uac83\uc73c\ub85c \uc870\uc0ac\ub418\uc5c8\uc74c. \uc989 \uc804\uccb4 \ubb3c\uace0\uae30\ub97c \uc7a1\uc740 \uc0ac\ub78c\uc218\ub97c \uad6c\ud560 \uc218 \uc788\ub294 \ubc29\ubc95\uc740 \uc5c6\ub2e4. \uc989, \uc5f0\uad6c\uc790\ub294 \uac01\uac01\uc758 \ubaa8\uc9d1\ub2e8\uc758 \uc218\ub97c \uc54c \uc218 \uc5c6\uc74c\n",
      "- \uadf8\ub798\uc11c \uc774\ub54c \ubaa8\uc9d1\ub2e8\uc744 \uc54c \uc218 \uc5c6\uae30 \ub54c\ubb38\uc5d0 \ub300\uc2e0 \uc624\uc988\ube44\ub97c \uc0ac\uc6a9\ud558\uac8c \ub428\n",
      "- \uc624\uc988(Bassassinator\ub97c \uc0ac\uc6a9\ud558\uace0 \ubb3c\uace0\uae30\ub97c \uc7a1\uc744 \ud655\ub960 / \uc7a1\uc9c0 \ubabb\ud560 \ud655\ub960) = 40/60 = 0.67\n",
      "- \uc624\uc988(No Bassassinator \uacbd\uc6b0 \ubb3c\uace0\uae30\ub97c \uc7a1\uc744 \ud655\ub960 / \uc7a1\uc9c0 \ubabb\ud560 \ud655\ub960) = 20/80 = 0.25\n",
      "- \ub530\ub77c\uc11c, \uc131\uacf5\uc801(\ubb3c\uace0\uae30\ub97c \ub09a\uc740)\uc778 \ub09a\uc2dc\uafbc\uc774 Bassassinator\ub97c \uc0ac\uc6a9\ud558\ub294 \ube44\uc728\uacfc \uc2e4\ud328\ud55c(\ubb3c\uace0\uae30\ub97c \ub09a\uc9c0 \ubabb\ud55c) \ub09a\uc2dc\uafbc\uc758 \uc624\uc988\ube44(Odds ratio) = 0.67/0.25 = 2.6\n",
      "- \uc774\uac83\uc740 \ubb3c\uace0\uae30\ub97c \uc7a1\uc740 \ub09a\uc2dc\uafbc\ub4e4\uc740 \ubb3c\uace0\uae30\ub97c \ub09a\uc9c0 \ubabb\ud55c \ub09a\uc2dc\uafbc\ub4e4\uc5d0 \ub300\ube44\ud574\uc11c Bassassinator\ub97c 2.7\ubc30 \ub354 \uc0ac\uc6a9\ud558\ub294 \uacbd\ud5a5\uc774 \uc788\ub2e4\ub77c\uace0 \ud574\uc11d\uc744 \ud574\uc57c\ud568\n",
      "- \ud754\ud788 \ubc94\ud558\ub294 \uc2e4\uc218\ub294 Bassassinator\ub97c \uc0ac\uc6a9\ud558\ub294 \ub09a\uc2dc\uafbc\ub4e4\uc740 \ubb3c\uace0\uae30\ub97c \ub09a\uc744 \ud655\ub960\uc774 2\ubc30\uac00 \ub192\ub2e4\ub77c\uace0 \ud574\uc11d\ud558\ub294 \uacbd\uc6b0\uac00 \uc788\ub294\ub370 \uc774\uac83\uc740 \uc798\ubabb\ub41c \ud574\uc11d\uc784(40/20\ub9cc \ubcf4\uc9c0 \ub9d0\uace0 \uc804\uccb4\ub97c \ubcf4\uace0 \uacc4\uc0b0\ud558\uc790)"
     ]
    },
    {
     "cell_type": "markdown",
     "metadata": {},
     "source": [
      "#### \ub85c\uadf8\n",
      "\n",
      "- [\ub85c\uadf8 - \uc704\ud0a4\ubc31\uacfc, \uc6b0\ub9ac \ubaa8\ub450\uc758 \ubc31\uacfc\uc0ac\uc804](http://ko.wikipedia.org/wiki/%EB%A1%9C%EA%B7%B8)\n",
      "- [\ub85c\uadf8 - \uc5d4\ud558\uc704\ud0a4 \ubbf8\ub7ec](https://mirror.enha.kr/wiki/%EB%A1%9C%EA%B7%B8)\n",
      "  - \uc27d\uac8c \uc124\uba85\ud558\uc790\uba74, \uc608\ub97c \ub4e4\uc5b4\uc11c, log 101000\uc758 \uacbd\uc6b0, \uc774 \uac12\uc740 3\uc778\ub370, \"10\uc5d0\ub2e4 \uba87\uc81c\uacf1\uc744 \ud558\uba74 1000\uc774 \ub420\uae4c\uc694?\" \"3\uc774\uc694\" \ub97c \uc218\ud559\uc801 \uae30\ud638\ub85c log 101000 = 3 \uc774\ub77c \ud45c\ud604\ud588\ub2e4\uace0 \uc774\ud574\ud558\uba74 \ub41c\ub2e4.\n",
      "\n",
      "  - \uc774\uc804\uc5d4 **\uc218\uc2ed\uc790\ub9ac \uc218\uc758 \uacf1\uc148\uc744 \ud560 \uc218 \uc788\ub294 \uac70\uc758 \uc720\uc77c\ud55c \ubc29\ubc95**\uc774\uc5c8\uae30 \ub54c\ubb38\uc5d0 \uc815\ud655\ud55c \ub85c\uadf8\ud45c\ub97c \ub9cc\ub4e4\uae30 \uc704\ud574 \ud3c9\uc0dd\uc744 \ubc14\uce5c \uc218\ud559\uc790\ub3c4 \uc788\uc5c8\ub2e4. \"**\ub85c\uadf8\uc758 \ubc1c\uba85\uc73c\ub85c \ucc9c\ubb38\ud559\uc790\ub4e4\uc758 \uc218\uba85\uc774 \ub450 \ubc30**\uac00 \ub418\uc5c8\ub2e4\"\ub294 \ub9d0\uc774 \uc788\uc5c8\uc744 \uc815\ub3c4. \uacc4\uc0b0\uae30 \ud558\ub098\uc640 \ucef4\ud4e8\ud130\uba74 \uac70\uc758 \ub2e4 \ud574\uacb0\ub418\ub294 \uc2dc\ub300\uac00 \ub418\uc5c8\uc9c0\ub9cc, \uc9c0\uc218\ubc29\uc2dd\uc73c\ub85c \ud45c\ud604\ud558\ub294 \uacc4\uc0b0\uae30\uc640 \ucef4\ud4e8\ud130\ub294 \uc800\uc7a5\uacf5\uac04\uc0c1\uc758 \ud55c\uacc4\ub85c \uc5b4\uca54 \uc218 \uc5c6\uc774 \uc624\ucc28\uac00 \uc0dd\uae34\ub2e4. **\uc815\ub9d0 \uc815\ud655\ud558\uac8c \uacc4\uc0b0\ud558\ub824\uba74 \ub85c\uadf8**\ub97c \uc368\uc57c \ud55c\ub2e4.\n",
      "  - \uacf1\uc148\uc744 \ub85c\uadf8\ub85c \ubc14\uafb8\uba74 \ub367\uc148\uc774 \ub418\ub294 \ud2b9\uc131\uc0c1 **\ucc9c\ubb38\ud559\uc801\uc778 \ud070 \uc218\uc758 \uacf1\uc148\uc5d0 \uc720\uc6a9**\ud558\uac8c \uc4f0\uc778\ub2e4. \uacc4\uc0b0\uae30\uac00 \uac1c\ubc1c\ub41c \uc9c0\uae08\uc740 \uc6d0\ub798 \ubaa9\uc801\uc73c\ub860 \uc798 \uc548\uc4f0\uc774\uae34 \ud55c\ub2e4. \ud558\uc9c0\ub9cc \uae08\uc735, \uacf5\ud559 \ub4f1\uc758 \uc751\uc6a9\uc218\ud559 \ubd84\uc57c\uc5d0\uc120 \ub098\ud0c0\ub0b4\uace0\uc790 \ud558\ub294 \uac12\ub4e4\uc774 \ub118\uc0ac\ubcbd \uae09\uc73c\ub85c \uc99d\uac00\ud558\uc5ec \ubcc0\ud654\ub97c \uc54c \uc218 \uc5c6\uac70\ub098 \uac70\uc2dc\uc801\uc778 \uad00\uc810\uc5d0\uc11c \uc804\uccb4\ub97c \ubcf4\uace0 \uc2f6\uc744 \ub54c[5] \ucd95\uc758 \uac12\uc5d0 log\ub97c \ucde8\ud558\uc5ec \uc0ac\uc6a9\ud558\ub294 \uc77c \uc774 \ub2e4\ubc18\uc0ac. \uc774\ub807\uac8c \uadf8\ub798\ud504\ub97c \ub098\ud0c0\ub0bc \ub54c\ub294 '**log scale(\ub85c\uadf8 \uc2a4\ucf00\uc77c)**'\uc774\ub77c\ub294 \ub9d0\uc744 \uc0ac\uc6a9\ud55c\ub2e4\n",
      "  - **\ub85c\uadf8\uc758 \uc131\uc9c8\uc5d0\uc11c \uc9c0\uc218\uc640\uc758 \uc5f0\uad00\uc131\uc744 \ucc3e\uc544\ub0b4 \uc9c0\uc218\ud568\uc218\uc758 \uc5ed\ud568\uc218 \ud615\ud0dc\ub85c \uc815\ub9ac\ud55c \uc624\uc77c\ub7ec\ub294 \uc9c4\uc9dc\ub85c \ub300\ub2e8**\ud55c \uac83\uc774\ub2e4. \uadf8\ub7ec\ub098 \uc5b4\ub824\uc6b4 \ub85c\uadf8\uc758 \uc815\uc758\uc5d0\ub3c4 \ubd88\uad6c\ud558\uace0, \uadf8 \ub2f9\uc2dc \uc4f0\ub358 \uc0bc\uac01\ud568\uc218\ubcf4\ub2e4\ub294 \uc5c4\uccad\ub098\uac8c \ub098\uc558\uae30 \ub54c\ubb38\uc5d0 \uacc4\uc0b0\uae30\uac00 \ub4f1\uc7a5\ud558\uae30 \uc804\uae4c\uc9c0 \uc0ac\uc6a9\ub418\uc5c8\ub2e4.\n",
      "- [\ub85c\uadf8\ub780, \ub85c\uadf8\uc758 \uc815\uc758 | \uc218\ud559\ubc29](http://mathbang.net/595): \uac70\ub4ed\uc81c\uacf1 == \uac70\ub4ed\uc81c\uacf1\uadfc == \ub85c\uadf8\ub294 \uc0ac\uc2e4 \ud558\ub098\uc758 \uc2dd\n",
      "- [\ub85c\uadf8\uc758 \uc131\uc9c8, \ub85c\uadf8\uc758 \uc131\uc9c8 \uc99d\uba85 | \uc218\ud559\ubc29](http://mathbang.net/596)"
     ]
    },
    {
     "cell_type": "markdown",
     "metadata": {},
     "source": [
      "- \uc18d\uc131\uc774 \ubc94\uc8fc 1\uc5d0 \uc18d\ud560 \ud655\ub960\uc740 0.9\uc774\uace0 P9y=1) = 0.9\ub85c \ub098\ud0c0\ub0c4\n",
      "- \uc774\ub54c \uc624\uc988\ube44\ub294 P(y=1)/P(y=0) = 0.9/0.1 = 9\uc784\n",
      "- \uc774 \uc18d\uc131\uc774 \ubc94\uc8fc 1\ub85c \ub300\uc751\ub420 \ud655\ub960\uc740 9:1 \uc784\n",
      "- P(y=0.5)\ub77c\uba74 \uacb0\uacfc\uc801\uc73c\ub85c \uc774 \uc18d\uc131\uc774 \ubc94\uc8fc 1\uc5d0 \ub300\uc751\ub420 \ud655\ub960\uc740 1:1\uc774 \ub428\n",
      "- \uc624\uc988\ube44\uc758 \ubc94\uc704\ub294 0\ubd80\ud130 \ubb34\ud55c\ub300\uae4c\uc9c0\ub2e4.(\ub2e4\uc74c \uadf8\ub9bc\uc5d0\uc11c \uc67c\ucabd)\n",
      "- \uc774 \uacb0\uacfc\uac12\uc5d0 \ub85c\uadf8\ub97c \ucde8\ud558\uba74 0\uacfc 1 \uc0ac\uc774\uc758 \ubaa8\ub4e0 \ud655\ub960\uc740 \uc74c\uc758 \ubb34\ud55c\ub300\ubd80\ud130 \uc591\uc758 \ubb34\ud55c\ub300\ub85c \ub300\uc751\ub428(\ub2e4\uc74c \uadf8\ub9bc\uc5d0\uc11c \uc624\ub978\ucabd)\n",
      "- \uac00\uc7a5 \ud6cc\ub96d\ud55c \ubd80\ubd84\uc740 **\ud655\ub960\uc774 \ub192\uc744\uc218\ub85d \uc624\uc988\uc758 \ub85c\uadf8\uac12\uc774 \ub192\uc544\uc9c0\ub294 \uad00\uacc4\ub97c \uc720\uc9c0\ud55c\ub2e4\ub294 \uc810**(\ub354\uc774\uc0c1 0 \ub610\ub294 1\ub85c \uc81c\ud55c\ub418\uc9c0 \uc54a\uc74c)"
     ]
    },
    {
     "cell_type": "code",
     "collapsed": false,
     "input": [
      "# 0~1\uae4c\uc9c0 0.001 \uac04\uaca9\uc73c\ub85c 1000\uac1c\ub97c \ub9cc\ub4e6\n",
      "X = np.arange(0, 1, 0.001)\n",
      "# \uac00\ub85c 10, \uc138\ub85c 4\ub85c \uc0ac\uc774\uc988 \uc9c0\uc815\n",
      "pyplot.figure(figsize=(10, 4))\n",
      "# subplot(nrows, ncols, plot_number) 1\ud589 2\uc5f4\ub85c \ub9cc\ub4dc\ub294\ub370 1\ubc88\uc9f8 subplot \uc120\ud0dd\n",
      "pyplot.subplot(1, 2, 1)\n",
      "# x limit\ub294 0 ~ 1\n",
      "pyplot.xlim((0, 1))\n",
      "# y limit\ub294 0 ~ 10\n",
      "pyplot.ylim((0, 10))\n",
      "# plot\uc73c\ub85c \ub744\uc6b0\ub294\ub370 x=X, y=X/(1-X)\n",
      "pyplot.plot(X, X / (1 - X))\n",
      "pyplot.xlabel(\"P\")\n",
      "pyplot.ylabel(\"odds = P / (1-P)\")\n",
      "pyplot.grid(True, linestyle='-', color='0.75')\n",
      "\n",
      "# subplot(nrows, ncols, plot_number) 1\ud589 2\uc5f4\ub85c \ub9cc\ub4dc\ub294\ub370 2\ubc88\uc9f8 subplot \uc120\ud0dd\n",
      "pyplot.subplot(1, 2, 2)\n",
      "pyplot.xlim((0, 1))\n",
      "pyplot.plot(X, np.log(X / (1 - X)))\n",
      "pyplot.xlabel(\"P\")\n",
      "pyplot.ylabel(\"log(odds) = log(P / (1-P))\")\n",
      "pyplot.grid(True, linestyle='-', color='0.75')\n",
      "# pyplot.savefig(\n",
      "#     os.path.join(CHART_DIR, \"log_reg_log_odds.png\"), bbox_inches=\"tight\")"
     ],
     "language": "python",
     "metadata": {},
     "outputs": [
      {
       "output_type": "stream",
       "stream": "stderr",
       "text": [
        "-c:20: RuntimeWarning: divide by zero encountered in log\n"
       ]
      },
      {
       "metadata": {},
       "output_type": "display_data",
       "png": "[encoded data removed]",
       "text": [
        "<matplotlib.figure.Figure at 0x10af15c10>"
       ]
      }
     ],
     "prompt_number": 10
    },
    {
     "cell_type": "code",
     "collapsed": false,
     "input": [
      "X = np.arange(0, 1, 0.001)\n",
      "pyplot.figure(figsize=(5, 4))\n",
      "pyplot.subplot(1, 2, 1)\n",
      "pyplot.xlim((0, 1))\n",
      "pyplot.ylim((0, 10))\n",
      "pyplot.plot(X, X / (1 - X))\n",
      "pyplot.xlabel(\"P\")\n",
      "pyplot.ylabel(\"odds = P / (1-P)\")\n",
      "pyplot.grid(True, linestyle='-', color='0.75')\n",
      "\n",
      "pyplot.subplot(1, 2, 2)\n",
      "pyplot.xlim((0, 1))\n",
      "pyplot.plot(X, np.log(X / (1 - X)))\n",
      "pyplot.xlabel(\"P\")\n",
      "pyplot.ylabel(\"log(odds) = log(P / (1-P))\")\n",
      "pyplot.grid(True, linestyle='-', color='0.75')\n",
      "# pyplot.savefig(\n",
      "#     os.path.join(CHART_DIR, \"log_reg_log_odds.png\"), bbox_inches=\"tight\")"
     ],
     "language": "python",
     "metadata": {},
     "outputs": [
      {
       "output_type": "stream",
       "stream": "stderr",
       "text": [
        "-c:13: RuntimeWarning: divide by zero encountered in log\n"
       ]
      },
      {
       "metadata": {},
       "output_type": "display_data",
       "png": "[encoded data removed]",
       "text": [
        "<matplotlib.figure.Figure at 0x10ae84a90>"
       ]
      }
     ],
     "prompt_number": 11
    },
    {
     "cell_type": "code",
     "collapsed": false,
     "input": [
      "help(pyplot.figure)"
     ],
     "language": "python",
     "metadata": {},
     "outputs": [
      {
       "output_type": "stream",
       "stream": "stdout",
       "text": [
        "Help on function figure in module matplotlib.pyplot:\n",
        "\n",
        "figure(num=None, figsize=None, dpi=None, facecolor=None, edgecolor=None, frameon=True, FigureClass=<class 'matplotlib.figure.Figure'>, **kwargs)\n",
        "    Creates a new figure.\n",
        "    \n",
        "    Parameters\n",
        "    ----------\n",
        "    \n",
        "    num : integer or string, optional, default: none\n",
        "        If not provided, a new figure will be created, and the figure number\n",
        "        will be incremented. The figure objects holds this number in a `number`\n",
        "        attribute.\n",
        "        If num is provided, and a figure with this id already exists, make\n",
        "        it active, and returns a reference to it. If this figure does not\n",
        "        exists, create it and returns it.\n",
        "        If num is a string, the window title will be set to this figure's\n",
        "        `num`.\n",
        "    \n",
        "    figsize : tuple of integers, optional, default: None\n",
        "        width, height in inches. If not provided, defaults to rc\n",
        "        figure.figsize.\n",
        "    \n",
        "    dpi : integer, optional, default: None\n",
        "        resolution of the figure. If not provided, defaults to rc figure.dpi.\n",
        "    \n",
        "    facecolor :\n",
        "        the background color. If not provided, defaults to rc figure.facecolor\n",
        "    \n",
        "    edgecolor :\n",
        "        the border color. If not provided, defaults to rc figure.edgecolor\n",
        "    \n",
        "    Returns\n",
        "    -------\n",
        "    figure : Figure\n",
        "        The Figure instance returned will also be passed to new_figure_manager\n",
        "        in the backends, which allows to hook custom Figure classes into the\n",
        "        pylab interface. Additional kwargs will be passed to the figure init\n",
        "        function.\n",
        "    \n",
        "    Notes\n",
        "    -----\n",
        "    If you are creating many figures, make sure you explicitly call \"close\"\n",
        "    on the figures you are not using, because this will enable pylab\n",
        "    to properly clean up the memory.\n",
        "    \n",
        "    rcParams defines the default values, which can be modified in the\n",
        "    matplotlibrc file\n",
        "\n"
       ]
      }
     ],
     "prompt_number": 12
    },
    {
     "cell_type": "code",
     "collapsed": false,
     "input": [
      "X = np.arange(0, 1, 0.001)\n",
      "pyplot.figure(figsize=(10, 4))\n",
      "pyplot.subplot(1, 2, 1)\n",
      "pyplot.xlim((0, 1))\n",
      "pyplot.ylim((0, 10))\n",
      "pyplot.plot(X, X / (1 - X))\n",
      "pyplot.xlabel('P')\n",
      "pyplot.ylabel('odds = P / (1-P)')\n",
      "pyplot.grid(True, linestyle='-', color='0.75')"
     ],
     "language": "python",
     "metadata": {},
     "outputs": [
      {
       "metadata": {},
       "output_type": "display_data",
       "png": "[encoded data removed]",
       "text": [
        "<matplotlib.figure.Figure at 0x10af0f5d0>"
       ]
      }
     ],
     "prompt_number": 13
    },
    {
     "cell_type": "code",
     "collapsed": false,
     "input": [
      "pyplot.subplot(1, 2, 2)\n",
      "pyplot.xlim((0, 1))\n",
      "pyplot.plot(X, np.log(X / (1 - X)))\n",
      "pyplot.xlabel('P')\n",
      "pyplot.ylabel('log(odds) = log(P / (1-P))')\n",
      "pyplot.grid(True, linestyle='-', color='0.75')"
     ],
     "language": "python",
     "metadata": {},
     "outputs": [
      {
       "metadata": {},
       "output_type": "display_data",
       "png": "[encoded data removed]",
       "text": [
        "<matplotlib.figure.Figure at 0x10b0201d0>"
       ]
      }
     ],
     "prompt_number": 14
    },
    {
     "cell_type": "markdown",
     "metadata": {},
     "source": [
      "- \uc18d\uc131\uc758 \uc120\ud615 \uc870\ud569\uc73c\ub85c \ub85c\uadf8\uac12\uc73c\ub85c \uc801\ud569\ud654\uac00 \uac00\ub2a5\ud568(\uc790, \ud558\ub098\uc758 \uc18d\uc131\uacfc \ud558\ub098\uc758 \uc0c1\uc218\ub97c \uac00\uc9c0\uace0 \uc788\uc9c0\ub9cc \uace7 \ubcc0\uacbd\ud568)\n",
      "- 1\uc7a5 '\uae30\uacc4 \ud559\uc2b5 \ud30c\uc774\uc36c\uc73c\ub85c \uc2dc\uc791\ud558\uae30'\uc758 1\ucc28 \ubc29\uc815\uc2dd\uc744 \uace0\ub824\n",
      "\n",
      "\n",
      "<img src=\"files/images/log_fig.png\" />\n",
      "\n",
      "- \ub2e4\uc74c \ubc29\uc815\uc2dd\uc73c\ub85c \ubcc0\ud658 \uac00\ub2a5(y\ub97c p\ub85c \ub300\uccb4)\n",
      "- pi\ub85c \ubc29\uc815\uc2dd\uc744 \ud480\uba74 \ub2e4\uc74c\uacfc \uac19\uc740 \uacf5\uc2dd\uc744 \uc5bb\uc74c"
     ]
    },
    {
     "cell_type": "markdown",
     "metadata": {},
     "source": [
      "- \uc774 \uacf5\uc2dd\uc774 (xi, pi)\uc5d0 \ub300\ud574 \uac00\uc7a5 \ub0ae\uc740 \uc624\ucc28\ub97c \uac16\ub3c4\ub85d \uc801\uc808\ud55c \uacc4\uc218\ub97c \ucc3e\uc73c\uba74 \ub428\n",
      "- Scikit-learn \uc73c\ub85c \uc218\ud589\ud558\uba74 \ub428\n",
      "- \ub370\uc774\ud130\ub97c \ubc94\uc8fc \ub77c\ubca8\uc5d0 \uc801\ud569\ud654\ud558\uba74, \uacf5\uc2dd\uc740 \ubc94\uc8fc 1\uc5d0 \uc18d\ud558\ub294 \uc0c8\ub85c\uc6b4 \ubaa8\ub4e0 \ub370\uc774\ud130 \uc810 x\uc5d0 \ub300\ud574 \ud655\ub960\uac12\uc744 \uc90c"
     ]
    },
    {
     "cell_type": "code",
     "collapsed": false,
     "input": [
      "# 1\ucc28 \ubc29\uc815\uc2dd\n",
      "def lin_model(clf, X):\n",
      "    return clf.intercept_ + clf.coef_ * X"
     ],
     "language": "python",
     "metadata": {},
     "outputs": [],
     "prompt_number": 184
    },
    {
     "cell_type": "code",
     "collapsed": false,
     "input": [
      "from sklearn.linear_model import LinearRegression\n",
      "clf = LinearRegression()\n",
      "print(clf)\n",
      "clf.fit(X.reshape(num_per_class * 2, 1), y)\n",
      "X_odds = np.arange(0, 1, 0.001)\n",
      "pyplot.figure(figsize=(10, 4))\n",
      "pyplot.subplot(1, 2, 1)\n",
      "pyplot.scatter(X, y, c=y)\n",
      "pyplot.plot(X_test, lin_model(clf, X_test))\n",
      "pyplot.xlabel(\"feature value\")\n",
      "pyplot.ylabel(\"class\")\n",
      "pyplot.title(\"linear fit on original data\")\n",
      "pyplot.grid(True, linestyle='-', color='0.75')\n",
      "\n",
      "X_ext = np.hstack((X, norm.rvs(20, size=100, scale=5)))\n",
      "y_ext = np.hstack((y, np.ones(100)))\n",
      "clf = LinearRegression()\n",
      "clf.fit(X_ext.reshape(num_per_class * 2 + 100, 1), y_ext)\n",
      "pyplot.subplot(1, 2, 2)\n",
      "pyplot.scatter(X_ext, y_ext, c=y_ext)\n",
      "pyplot.plot(X_ext, lin_model(clf, X_ext))\n",
      "pyplot.xlabel(\"feature value\")\n",
      "pyplot.ylabel(\"class\")\n",
      "pyplot.title(\"linear fit on additional data\")\n",
      "pyplot.grid(True, linestyle='-', color='0.75')"
     ],
     "language": "python",
     "metadata": {},
     "outputs": [
      {
       "output_type": "stream",
       "stream": "stdout",
       "text": [
        "LinearRegression(copy_X=True, fit_intercept=True, normalize=False)\n"
       ]
      },
      {
       "metadata": {},
       "output_type": "display_data",
       "png": "[encoded data removed]",
       "text": [
        "<matplotlib.figure.Figure at 0x10b0ef950>"
       ]
      }
     ],
     "prompt_number": 185
    },
    {
     "cell_type": "markdown",
     "metadata": {},
     "source": [
      "- 1\ucc28 \ubc29\uc815\uc2dd\uc73c\ub85c \ud480\uba74 \ub2f9\uc5f0\ud788 \uc120\ud615\uc73c\ub85c \uadf8\ub798\ud504\uac00 \ub098\uc624\uaca0\uc9c0\n",
      "- 1\ucc28 \ubc29\uc815\uc2dd: linear model\n",
      "- 2\ucc28 \ubc29\uc815\uc2dd: logistic regression - lr model"
     ]
    },
    {
     "cell_type": "code",
     "collapsed": false,
     "input": [
      "def lr_model(clf, X):\n",
      "    return 1.0 / (1.0 + np.exp(-(clf.intercept_ + clf.coef_ * X)))"
     ],
     "language": "python",
     "metadata": {},
     "outputs": [],
     "prompt_number": 188
    },
    {
     "cell_type": "code",
     "collapsed": false,
     "input": [
      "# np.arange(-5, 20, 0.1)\n",
      "# X_test\n",
      "len(X_test)"
     ],
     "language": "python",
     "metadata": {},
     "outputs": [
      {
       "metadata": {},
       "output_type": "pyout",
       "prompt_number": 198,
       "text": [
        "250"
       ]
      }
     ],
     "prompt_number": 198
    },
    {
     "cell_type": "code",
     "collapsed": false,
     "input": [
      "# lr_model(logclf, X_test).ravel()\n",
      "len(lr_model(logclf, X_test).ravel())"
     ],
     "language": "python",
     "metadata": {},
     "outputs": [
      {
       "metadata": {},
       "output_type": "pyout",
       "prompt_number": 197,
       "text": [
        "250"
       ]
      }
     ],
     "prompt_number": 197
    },
    {
     "cell_type": "code",
     "collapsed": false,
     "input": [
      "pyplot.figure(figsize=(10, 4))\n",
      "pyplot.xlim((-5, 20))\n",
      "pyplot.scatter(X, y, c=y)\n",
      "pyplot.plot(X_test, lr_model(logclf, X_test).ravel())\n",
      "# 0.5\ub294 \uacbd\uacc4\uc120 0\uc774 \ub420\uc9c0 1\uc774 \ub420\uc9c0\n",
      "pyplot.plot(X_test, np.ones(X_test.shape[0]) * 0.5, \"--\")\n",
      "pyplot.xlabel(\"feature value\")\n",
      "pyplot.ylabel(\"class\")\n",
      "pyplot.grid(True, linestyle='-', color='0.75')"
     ],
     "language": "python",
     "metadata": {},
     "outputs": [
      {
       "metadata": {},
       "output_type": "display_data",
       "png": "[encoded data removed]",
       "text": [
        "<matplotlib.figure.Figure at 0x10b6a3b10>"
       ]
      }
     ],
     "prompt_number": 186
    },
    {
     "cell_type": "code",
     "collapsed": false,
     "input": [
      "pyplot.figure(figsize=(10, 4))\n",
      "pyplot.xlim((-5, 20))\n",
      "# \uc810\uc744 \ud769 \ubfcc\ub824\uc900\ub2e4.\n",
      "# pyplot.scatter(X, y, c=y)\n",
      "# \uc120\uc744 \uadf8\ub824\uc900\ub2e4.\n",
      "pyplot.plot(X_test, lr_model(logclf, X_test).ravel())\n",
      "pyplot.plot(X_test, np.ones(X_test.shape[0]) * 0.5, \"--\")\n",
      "pyplot.xlabel(\"feature value\")\n",
      "pyplot.ylabel(\"class\")\n",
      "pyplot.grid(True, linestyle='-', color='0.75')"
     ],
     "language": "python",
     "metadata": {},
     "outputs": [
      {
       "metadata": {},
       "output_type": "display_data",
       "png": "[encoded data removed]",
       "text": [
        "<matplotlib.figure.Figure at 0x10b043510>"
       ]
      }
     ],
     "prompt_number": 192
    },
    {
     "cell_type": "markdown",
     "metadata": {},
     "source": [
      "### \ub85c\uc9c0\uc2a4\ud2f1 \ud68c\uadc0\ub97c \uac8c\uc2dc\ubb3c \ubd84\ub958\uc5d0 \uc801\uc6a9\n",
      "\n",
      "- \uc774\uc804 \uc808\uc758 \uc608\uc81c\ub294 \ub85c\uc9c0\uc2a4\ud2f1 \ud68c\uadc0\uc758 \uc544\ub984\ub2e4\uc6c0\uc744 \ubcf4\uc5ec\uc8fc\uace0\uc790 \ub9cc\ub4e4\uc5b4\uc84c\uc74c\n",
      "- \uadf8\ub7fc, \uadf9\ub2e8\uc801\uc73c\ub85c \ub178\uc774\uc988\ud55c \ub370\uc774\ud130\uc5d0\uc11c\ub294 \uc5b4\ub5bb\uac8c \uc218\ud589\ub420\uae4c?\n",
      "- \ucd5c\uc800\uadf8\uc774 \ucd5c\uadfc\uc811 \uc774\uc6c3 \ubd84\ub958\uae30(k = 90)\ub97c \uae30\uc900\uc810\uc73c\ub85c \uc0c8\ub85c\uc6b4 \ubd84\ub958\uae30\uc640 \ube44\uad50\ud574\ubcf4\uba74, \uc880 \ub354 \ub098\uc740 \uc218\ud589\uc744 \ubcf4\uc5ec\uc8fc\uc9c0\ub9cc \uc0c1\ud669\uc774 \ud06c\uac8c \uac1c\uc120\ub418\uc9c4 \uc54a\uc558\ub2e4\n",
      "\n",
      "\uae30\ubc95 | \ud3c9\uade0(\uc810\uc218) | \ud45c\uc900\ud3b8\ucc28(\uc810\uc218)\n",
      "--- | --- | ---\n",
      "LogReg C=0.1 | 0.6310 | 0.02791\n",
      "LogReg C=100.00 | 0.6300 | 0.03170\n",
      "LgReg C=10.00 | 0.6300 | 0.03170\n",
      "LogReg C=0.01 | 0.6295 | 0.02752\n",
      "LogReg C=1.00 | 0.6290 | 0.03270\n",
      "90NN | 0.6280 | 0.02777"
     ]
    },
    {
     "cell_type": "markdown",
     "metadata": {},
     "source": [
      "- \uc815\uaddc\ud654\ub41c \ub9e4\uac1c\ubcc0\uc218 C\uc758 \uac12\uc5d0 \ub530\ub77c \uc815\ud655\ub3c4\uac00 \ub2e4\ub984\n",
      "- \uc774 \uac12\uc73c\ub85c \ubaa8\ub378\uc758 \ubcf5\uc7a1\uc131\uc744 \uc870\uc808\ud560 \uc218 \uc788\ub294\ub370, \ucd5c\uadfc\uc811 \uc774\uc6c3 \ubc29\ubc95\uc758 \ub9e4\uac1c\ubcc0\uc218 k\uac12\uacfc \uc720\uc0ac\ud568\n",
      "- C\uac12\uc774 \uc791\uc744\uc218\ub85d \ub192\uc740 \ubd88\uc774\uc775\uc744 \ub0b3\uc74c. \uc989 \ubaa8\ub378\uc774 \ub354 \ubcf5\uc7a1\ud574\uc9d0\n",
      "- C = 0.1\uc778 \ucd5c\uc801 \ud6c4\ubcf4\uc790\uc758 \ud3b8\ud5a5\uacfc \ubcc0\ud654\ub7c9\uc744 \ubcf4\uba74 \ubaa8\ub378\uc774 \uace0\ud3b8\ud5a5\ub418\uc5b4 \uc788\uc74c\n",
      "- \ud14c\uc2a4\ud2b8 \uc624\ucc28\uc640 \ud6c8\ub828 \uc624\ucc28\uc758 \ucc28\uc774\uac00 \ud06c\uc9c0 \uc54a\uae30 \ub54c\ubb38\uc5d0 \uace0\ubcc0\ud654\ub7c9\uc774\ub77c\uace0 \ub9d0\ud560 \uc218 \uc5c6\uc74c\n",
      "- \uc774\ub85c\uc368 \ub85c\uc9c0\uc2a4\ud2f1 \ud68c\uadc0\ub294 \ud604\uc7ac \uc18d\uc131 \uacf5\uac04\uc5d0\uc11c \ubbf8\uc801\ud569\ud654\ub418\uc5b4 \uc788\uace0 \ubaa8\ub378\uc774 \ub370\uc774\ud130\ub97c \uc815\ud655\ud788 \uc218\uc9d1\ud558\uc9c0 \ubabb\ud588\uc74c"
     ]
    },
    {
     "cell_type": "markdown",
     "metadata": {},
     "source": [
      "### classify logic\n",
      "\n",
      "1. prepare_sent_features\n",
      "  - AvgSentLen\n",
      "  - AvgWordLen\n",
      "  - NumAllCaps\n",
      "  - NumExclams\n",
      "  - \ud2b9\uc9d5\ub4e4\uc758 \uc22b\uc790\ub97c \ubaa8\ub450 \ucd94\ucd9c\ud558\uc5ec meta\\[pid\\]['AvgSentLen'] \ub4f1\uc5d0 \uc800\uc7a5.\n",
      "2. all_answers\uc5d0\uc11c 1\uac1c\uc529 aid\ub97c \ucd94\ucd9c\ud574\uc11c get_features\uc5d0 \ub123\ub294\ub2e4.\n",
      "  - feature_names\uc5d0\uc11c     \n",
      "    'NumTextTokens',\n",
      "    'NumCodeLines',\n",
      "    'LinkCount',\n",
      "    'AvgSentLen',\n",
      "    'AvgWordLen',\n",
      "    'NumAllCaps',\n",
      "    'NumExclams',\n",
      "    'NumImages'\n",
      "  - \ub97c \ub3cc\uba74\uc11c meta\\[aid\\]\\[fn\\]\uc744 \ud29c\ud50c\ub85c \ubc1b\uc544\uc11c array\ub85c \ub9cc\ub4e0 \ud6c4 qa_X\uc5d0 \uc800\uc7a5\ud55c\ub2e4.\n",
      "3. classifying_answer\uac00 'good' \uc774\ub77c\uba74 all_answers\uc5d0\uc11c meta\\[aid\\]['Score']\uac00 0 \ucd08\uacfc\uc778 \uac83\ub4e4\ub9cc \ucd94\ucd9c\ud558\uc5ec qa\\_Y\ub85c \uc800\uc7a5\ud55c\ub2e4.\n",
      "  - 'poor'\ub77c\uba74 Score\uac00 0 \uc774\ud558\uc778 \uac83\ub4e4\ub9cc \ub2f4\uc544\uc11c qa\\_Y\ub85c \uc800\uc7a5\n",
      "  - \ucd08\uae30\uc5d0 good\uc73c\ub85c \uc124\uc815\ud574\uc11c poor\ub85c\ub294 \ub4e4\uc5b4\uac00\uc9c0 \uc54a\uac8c \ub428\n",
      "4. feature_names\ub97c \ub3cc\uba74\uc11c idx, feat\uc744 \uac00\uc838\uc640\uc11c plot_feat_hist\uc5d0 qa\\_X\uc758 \ubaa8\ub4e0 \ud589\uc911\uc5d0 idx\uc5f4\uacfc feature\ub97c \ub123\ub294\ub2e4. \uac01\uac01 1\uac1c\uc758 \uc5f4\uc529(\uac01\uac01\uc758 \ud2b9\uc9d5, NumTextTokens, NumCodeLines, etc) \ub3cc\uba74\uc11c plot\uc744 \uadf8\ub9ac\ub824\uace0 \ud55c\ub2e4.\n",
      "5. utils.plot_feat_hist \uc2e4\ud589(\uac01\uac01\uc758 \ud2b9\uc9d5 feature\ub4e4 \uadf8\ub9bc \uadf8\ub9ac\uae30)\n",
      "  - \ubc1b\uc740 \ub370\uc774\ud130\ub97c(array, NumTextToken) \uac00\uc9c0\uace0 data_name_list\uac00 1\uac1c \ucd08\uacfc\uc778\uc9c0 \ud655\uc778\ud55c\ub2e4.\n",
      "  - figure\ub97c \uc124\uc815\ud558\uace0 figsize\ub97c 5, 4\ub97c \uac01\uac01 \uacf1\ud558\ub294\ub370.. why?\n",
      "  - for\ubb38\uc73c\ub85c \uac01 \ud589\uc744 \ub3cc\uba74\uc11c \uadf8 \uc548\uc5d0\uc11c \ub610 \ud558\ub098\uc758 for\ubb38\uc744 \ub3cc\uba74\uc11c x, name\uc73c\ub85c \ubc1b\uc544\uc624\uace0\n",
      "  - \uac01\uc885 plot\uc744 \uadf8\ub9b4 \uc815\ubcf4 \ub123\uace0 x, bins, normed, alpha \uac12\uc744 \ub123\uc5b4\uc11c plot \uc774\ubbf8\uc9c0\ub97c \uc800\uc7a5\n",
      "\n",
      "#### bias_variance_analysis, k_complexity_analysis\n",
      "\n",
      "1. k\ub294 5\uac1c\ub85c for\ubb38\uc744 \ub3cc\uba74\uc11c bias_variance_analysis \ud568\uc218 \uc2e4\ud589\n",
      "2. 60 ~ 2000\uae4c\uc9c0 4\uc529 485\uac1c \ub9cc\ub4e6\n",
      "3. measure \ud568\uc218\uc5d0 clf_class, parameters, name, data_size\ub97c \ub118\uae40\n",
      "4. measure \ud568\uc218\ub85c \ub4e4\uc5b4\uc640\uc11c qa_X[:data_size]\ub85c X\ub97c \ub9cc\ub4e4\uace0, qa_Y[:data_size]\ub85c Y\ub97c \ub9cc\ub4e6\n",
      "5. cv = KFold \ud568\uc218\uc5d0 n, n_folds=10, indices=True \ub85c \uc124\uc815\ud558\uc5ec \ub118\uae40(sklearn.cross_validata\uc5d0 \uc774\ubbf8 \uad6c\ud604\ub418\uc5b4 \uc788\ub294 KFold \ud074\ub798\uc2a4\ub97c \uc0ac\uc6a9\ud574 \uad50\ucc28 \uac80\uc99d\uc744 \uc801\uc6a9\n",
      "  - \ub9c8\uc9c0\ub9c9\uc73c\ub85c, \uac01 \uc911\ucca9(fold)\uc758 \ud14c\uc2a4\ud2b8\uc14b\uc744 \ub300\uc0c1\uc73c\ub85c \uc810\uc218\ub4e4\uc758 \ud3c9\uade0\uc744 \uad6c\ud558\uace0, \ud45c\uc900\ud3b8\ucc28\ub97c \uc0ac\uc6a9\ud574 \uc5bc\ub9c8\ub9cc\ud07c \ub2e4\uc591\ud55c\uc9c0 \uc54c\uc544\ubd04\n",
      "  - n=60, n_folds=10 -> 60\uac1c\uc911 54\uac1c\uac00 training, 6\uac1c\uac00 test\n",
      "6. \uac01\uc885 \uc5d0\ub7ec\ub97c \ub2f4\uc744 \ub9ac\uc2a4\ud2b8\uc640 \uc2a4\ucf54\uc5b4\ub97c \ub2f4\uc744 \ub9ac\uc2a4\ud2b8, precisions, recalls, thresholds\ub97c \ub2f4\uc744 \ub9ac\uc2a4\ud2b8 \uc0dd\uc131\n",
      "8. for\ubb38\uc73c\ub85c cv\ub97c \ub3cc\uba74\uc11c X_train, y_train\uc744 \uc0dd\uc131\ud55c\ub2e4. train\uc740 54\uac1c\n",
      "9. X_test, y_test\ub3c4 \uc0dd\uc131. test\ub294 6\uac1c\n",
      "10. only_one_class_in_train \uc73c\ub85c \ub098\uc624\uac8c \ub418\uba74 \uadf8\ub0e5 continue \ud558\ub294\ub370.. \uc774 \ubb38\uc81c\ub294 \ub098\uc911\uc5d0 \ub2e4\ub8ec\ub2e4\uace0 \ud55c\ub2e4. \uc774\uc720\uac00 \ubb58\uae4c?\n",
      "11. clf_class(\\*\\*parameters)\ub85c \ub118\uae34\ub2e4. {'n_neighbors': 5} \ub77c\ub294 \uac12\uc774 \ub4e4\uc5b4 \uc788\uc73c\ub2c8 keyword \uc778\uc790\ub85c \ub118\uae30\uaca0\ub2e4\ub294 \uc758\ubbf8\uc778\ub370..\n",
      "12. clf.fit\uc73c\ub85c \ud559\uc2b5 \uc2dc\ud0a4\uace0\n",
      "13. clf.score\ub85c train_score\ub97c \ub9ac\ud134 \ubc1b\uc74c\n",
      "14. clf.score\ub85c test_score\ub97c \ub9ac\ud134 \ubc1b\uc74c\n",
      "15. \uac01\uac01 train_errors\uc640 test_erros\uc5d0 \ucd94\uac00\ud558\uace0\n",
      "16. scores\uc5d0\ub3c4 test_score \ucd94\uac00\n",
      "17. clf.predict_proba(X\\_test)\ub85c \ud655\ub960 \uad6c\ud568\n",
      "18. \\[\\[0.2 0.8\\] [0.2 0.8]]\ub85c 6, 2\ub85c \uc800\uc7a5\ub428\n",
      "19. roc_curve(y_test, proba[:, label_idx]\ub97c \ub118\uaca8\uc11c fpr, tpr, roc_thresholds\ub97c \ubc1b\ub294\ub2e4. \uc774\uac74 \uc65c \ubc1b\ub294\uac70\uc9c0? \ubc11\uc5d0 \uc124\uba85 \ub2ec\uc74c\n",
      "20. precision_recall_curve\uc5d0 \uc778\uc790\uac12\uc744 \ub118\uaca8\uc11c precision, recall, pr_thresholds\ub97c \ubc1b\uc74c\n",
      "21. roc_scores\uc5d0 auc(fpr, tpr)\uc744 \ucd94\uac00. auc: \ucee4\ube0c \ubc11\uc758 \uba74\uc801 \uc5f0\uc0b0\n",
      "22. fprs\uc5d0 fpr\uc744 \ucd94\uac00\n",
      "23. tprs\uc5d0 tpr\uc744 \ucd94\uac00\n",
      "24. pr_scores\uc5d0 auc(recall, precision) \uc744 \ucd94\uac00\n",
      "25. precisions\uc5d0 precison \ucd94\uac00\n",
      "26. recalls\uc5d0 recall \ucd94\uac00\n",
      "27. thresholds\uc5d0 threshold \ucd94\uac00\n",
      "28. precision 80%\uc744 \uc704\ud574 recall\uc744 trade off \ud55c\ub2e4\uace0 \ud558\ub294\ub370.. \uc65c 0.59\uac00 good answer threshold\uc778\uac00..?\n",
      "29. Clone # fold\\_idx\ub97c \ucd9c\ub825\ud568\n",
      "30. classfication_report\uc5d0 \uac01\uc885 \ud30c\ub77c\ubbf8\ud130\ub97c \ub123\uc74c\n",
      "31. Clone \\#0 ~ \\#9\uae4c\uc9c0 \ub098\uc624\uba70(Cross validation\uc758 n_folds\ub97c 10\uc73c\ub85c \uc918\uc11c)\n",
      "  - precision, recall, f1-score, support \uac12\uc774 \ub098\uc624\uac8c \ub428\n",
      "  - not accepted, accepted\n",
      "  - avg / total \uac12\ub3c4 \ub098\uc634\n",
      "  - \uadfc\ub370 \uc774 \uac12\ub4e4\uc774 \uc65c \ub2e4 \ubcc0\ud558\ub294\uc9c0 \ubaa8\ub974\uaca0\uc74c..\n",
      "32. pr_scores\uc758 \uc911\uac04\uac12\uc744 \ud558\ub098 \ube7c\uc11c Medium clone is \\#4\ub85c \ucd9c\ub825\ud568\n",
      "33. if plot: \uc774 \uc788\uc5b4\uc11c plot\uc744 \uadf8\ub824\uc904 \uc218\uac00 \uc788\uc74c. default\uac12\uc740 False \uc774\ubbc0\ub85c \uc778\uc790\ub97c \ub118\uaca8\uc904 \ub54c True\ub85c \uc124\uc815\ud574\uc918\uc57c \ub428\n",
      "34. ('5NN', 0.6166666666666667, 0.10671873729054747, 0.55208333333333337, 0.11887988348552023, 0.63472222222222219, 0.21999666804435308, 9188.707849025726) \ucd9c\ub825\ud568\n",
      "  - summary = (name,\n",
      "       np.mean(scores), np.std(scores),\n",
      "       np.mean(roc_scores), np.std(roc_scores),\n",
      "       np.mean(pr_scores), np.std(pr_scores),\n",
      "       time.time() - start_time_clf)\n",
      "35. avg_scores_summary\uc5d0(\uc804\uc5ed \ubcc0\uc218) summary \ucd94\uac00\n",
      "36. precions = precisons[medium]. **\uc5ec\uae30\uc5d0\uc11c \uc65c medium\uc744 \ub123\ub294\uc9c0 \ubaa8\ub974\uaca0\uc74c**\n",
      "37. recalls = recalls[medium]\n",
      "38. thresholds\uc5d0\ub3c4 \uc55e\uc5d0 0\uc744 \ud558\ub098 \ub354 \ucd94\uac00\ud574\uc11c 1\uac1c\uc758 \ud589\uc73c\ub85c \ub9cc\ub4e6\n",
      "39. idx80 = precisions >= 0.8 \uc744 \ud568\n",
      "40. idx80\uc740 [False False False True]\uac00 \ub428\n",
      "40. P=1.00 R=0.00 thresh=0.60 \ucd9c\ub825\n",
      "41. np.mean(train_errors), np.mean(test_errors)\ub97c \ub3cc\ub824\uc90c\n",
      "42. \ub2e4\uc2dc bias_variance_analysis \ud568\uc218\ub85c \ub098\uc640\uc11c train_error, test_error\ub97c \ubc1b\uac8c \ub428\n",
      "43. train_errors\uc5d0 train_error\ub97c \ucd94\uac00\n",
      "44. test_errors\uc5d0 test_error\ub97c \ucd94\uac00\n",
      "45. data_sizes\uac00 485\uc774\ubbc0\ub85c 484\ubc88 \ub354 \ub3c8\ub2e4.\n",
      "46. \uadf8\ub807\uac8c \ub418\uba74 485 * n_folds(10) = 4850\ubc88 \ub8e8\ud504\ub97c \ub3cc\uac8c \ub41c\ub2e4.\n",
      "47. \ubaa8\ub4e0 \ub8e8\ud504\uac00 \ub05d\ub098\uace0\n",
      "48. plot_bias_variance(data_sizes, train_errors, test_errors, name, \uc774\ub984)\uc744 \ub118\uae34\ub2e4.\n",
      "49. \ud50c\ub86f\uc744 \uadf8\ub9ac\uae30 \uc704\ud55c \uac01\uc885 \uc900\ube44\ub97c \ud558\uace0\n",
      "50. pylab.plot(data_sizes, test_errors, '--', data_sizes, train_errors, 'b-', lw=1)\uc744 \ub118\uae34\ub2e4.\n",
      "51. 485\uac1c\uc758 train_erros\uc640 485\uac1c\uc758 test_erros\ub85c \uc5b4\ub5bb\uac8c Data set size 2000\uac1c\ub97c \uadf8\ub9b4 \uc218\uac00 \uc788\uc9c0??\n",
      "  - min=60, max=1996\uc73c\ub85c \uc138\ud305\ub418\uc5b4 \uc788\ub124. \uadf8 \uc911\uac04\uc740 \ube44\uc5b4\uc788\ub294 \uac12\uc778\ub4ef..\n",
      "  - \uadf8\ub798\uc11c 485\uac1c\ub85c 0 ~ 2000\uac1c\ub97c \ucc44\uc6b8 \uc218 \uc788\uc5c8\ub358\uac74\uac00?\n",
      "\n",
      "<img src=\"files/ch05/charts/bv_5NN.png\" width=400/>"
     ]
    },
    {
     "cell_type": "markdown",
     "metadata": {},
     "source": [
      "- \uadf8\ub7fc \uc774\uc81c \uc640\uc11c \uc5b4\ub5bb\uac8c \ud558\uaca0\ub294\uac00?\n",
      "- \uc6b0\ub9ac\ub294 \ubaa8\ub378\uc744 \ubcc0\uacbd\ud588\uace0 \ud604\uc7ac \uc6b0\ub9ac \uc9c0\uc2dd \ub0b4\uc5d0\uc11c \ubaa8\ub378\uc744 \uc870\uc728\ud588\uc73c\ub098 \ubd84\ub958\uae30\ub97c \ubc1b\uc544\ub4e4\uc77c \uc218 \uc5c6\uc74c\n",
      "- \uc774 \uc791\uc5c5\uc758 \ub370\uc774\ud130\uac00 \ub108\ubb34 \ub178\uc774\uc988\ud558\uac70\ub098, \uc18d\uc131 \uc9d1\ud569\uc774 \ubc94\uc8fc\ub97c \uad6c\ubd84\ud558\uae30\uc5d0 \ucda9\ubd84\ud558\uc9c0 \uc54a\uc744 \uc218 \uc788\uc74c"
     ]
    },
    {
     "cell_type": "markdown",
     "metadata": {},
     "source": [
      "#### k_complexity_analysis Logic\n",
      "\n",
      "1. k_complexity_analysis \ud568\uc218 \ud638\ucd9c\n",
      "2. 20\uac1c\uc640 15\uac1c\ub97c \ud569\uccd0 \ucd1d 35\uac1c\uc758 \ubc30\uc5f4 \ub9cc\ub4e6\n",
      "3. train_erros \ub9ac\uc2a4\ud2b8, test_errors \ub9ac\uc2a4\ud2b8 \ub9cc\ub4e4\uace0\n",
      "4. ks\ub97c \ub3cc\uba74\uc11c parameters['n_neighbors'] = k\ub97c \ud55c\ub2e4.\n",
      "5. measure \ud568\uc218\uc5d0 \ub610 \ub4e4\uc5b4\uac04\ub2e4. data_size\ub294 2000\n",
      "6. \uac01\uc885 list \ub9cc\ub4e4\uace0\n",
      "7. 2000\uac1c\uc758 10%\uc778 200\uac1c\ub97c test, 1800\uac1c\ub97c train\n",
      "8. \ub9c9 \ud558\ub2e4\ub2e4\uac00 \ubcf4\uace0\uc11c \uc791\uc131\ud558\ub294 \ubd80\ubd84\uc5d0\uc11c \ud5e4\ub354 \ubd99\uc774\uace0 p, r, f1, s \ubd99\uc774\uace0\n",
      "9. \uac00\uc911\uce58 \ud3c9\uade0 \ubd99\uc774\uace0 \ucd5c\uc885\uc801\uc73c\ub85c precision, recall, f1-score, support\uac00 \uc644\ub8cc\ub41c\uac78 \ucd9c\ub825\ud55c\ub2e4. not accepted, accepted\uac00 \ubb54\uc9c0 \ubaa8\ub974\uaca0\ub124.. \ub73b\uc740 \uc9c8\ubb38\uc790\uac00 \ub2f5\ubcc0\uc790\uc758 \ub2f5\ubcc0\uc744 \uc120\ud0dd\ud588\ub0d0 \uc548\ud588\ub0d0 \uc778\uac78\ub85c \uc0dd\uac01\uc740 \ub418\ub294\ub370..\n",
      "10. n_folds\uac00 10\uc774\ub77c for\ubb38 10\ubc88 \ub3c8\ub2e4.\n",
      "11. Medium clone is \\#3\ub97c \ucd9c\ub825\ud55c\ub2e4.\n",
      "12. summary \ucd9c\ub825\n",
      "13. \uc774\uac78 \ub3cc\uc544\ubcf4\ub2c8 k\uac00 1~20\uae4c\uc9c0, 20~100\uae4c\uc9c0 \uc99d\uac00\ub418\ub294 \ud604\ud669\uc744 ks, train_errors, test_erros\ub97c \uac00\uc9c0\uace0 \ucd9c\ub825\ud574 \uc900\uac70\ub124\n",
      "\n",
      "<img src=\"files/ch05/charts/kcomplexity.png\" width=400/>"
     ]
    },
    {
     "cell_type": "markdown",
     "metadata": {},
     "source": [
      "#### Logistic regression \n",
      "\n",
      "1. C\uc758 \uac12\uc744 0.01, 0.1, 1.0, 10.0\uc73c\ub85c \ubc14\uafd4\uac00\uba74\uc11c \uc9c4\ud589\n",
      "2. bias_variance_analysis9LogisticRegression, {'penalty': 'l2', 'C': c}, name)\uc744 \ub118\uaca8\uc900\ub2e4.\n",
      "3. \ub611\uac19\uc740 data_sizes\ub97c \uc774\uc6a9\ud55c\ub2e4. 60 ~ 2000\uae4c\uc9c0 4\uc529 \uc99d\uac00\n",
      "4. \ub610 measure\uc5d0 \ud30c\ub77c\ubbf8\ud130 \ub118\uae30\uace0 \ucb49~ \uc2e4\ud589\n",
      "5. cv\uc5d0 10\ubc88 \uc2e4\ud589\n",
      "6. \uac01\uc885 \uc124\uc815\ud558\uace0 proba[:, label_idx])\uc744 \ub118\uae38\ub54c label_idx\uac00 1\uc784. \uadf8\ub7ec\ub2c8 1\uc774 \ub420 \ud655\ub960\uc744 \ub118\uae30\ub294\uac83 \uac19\uc74c\n",
      "7. plot_bias_variance\ub97c \ucc0d\uc5b4\uc8fc\uace0 \ub05d\n",
      "8. measure\ub97c \ud558\ub294\ub370 LogisticRegression\uc73c\ub85c \ud568\n",
      "9. \ub9c9 \ud558\uace0~\n",
      "10. if plot:\uc5d0\uc11c \ucc38\n",
      "11. plot_pr\ub85c \uadf8\ub824\uc8fc\uace0\n",
      "12. coef\uac00 \uc788\ub294\uc9c0 \ub4e4\uc5b4\uc788\ub294\uc9c0 \ud655\uc778\ud558\uace0 plot_feat_importance\ub85c \ud55c \ubc88 \uadf8\ub824\uc900\ub2e4.\n",
      "13. coef\\_ \ubcc0\uc218 \ub9cc\ub4e4\uace0\n",
      "14. important = np.argsort(np.absolute(coef_.ravel()))\ub97c \ud55c\ub2e4.\n",
      "15. coef = coef\\_.ravel()\\[imortant]\n",
      "16. inds = np.argsort(coef)\ub97c \ud55c\ub2e4. index\ub77c\ub294 \uc598\uae30 \uac19\uace0\n",
      "17. f\\_imap = f\\_imap[inds]: f_imap\uc744 index \uc21c\uc11c\ub85c \ub2e4\uc2dc \uc800\uc7a5\ud568\n",
      "18. coef = coef[inds]\n",
      "19. xpos = np.array(list(range(len(coef)))) \ub97c \ud574\uc900\ub2e4. 0 1 2 3 4 5 6 7 \uc778\ub370?\n",
      "20. pylab.bar(xpos, coef, width=1) \ud574\uc900\ub2e4.\n",
      "21. ax = pylab.gca()\ub97c \ud574\uc900\ub2e4.\n",
      "22. \uadf8\ub824\ubcf8 \uacb0\uacfc \uac01 feature\ub4e4\uc758 \uc601\ud5a5\ub825. \uc5b4\ub5a4 feature\uac00 \uae0d\uc815\uc801 \ubc18\uc751\uc778\uc9c0. \uadf8\ub798\uc11c feature\uac00 \uc911\uc694\ud558\ub2e4.\n",
      "\n",
      "<img src=\"files/ch05/charts/bv_LogReg_C=0.01.png\" width=400 />\n",
      "\n",
      "<img src=\"files/ch05/charts/bv_LogReg_C=0.10.png\" width=400 />\n",
      "\n",
      "<img src=\"files/ch05/charts/bv_LogReg_C=1.00.png\" width=400 />\n",
      "\n",
      "<img src=\"files/ch05/charts/bv_LogReg_C=10.00.png\" width=400 />\n",
      "\n",
      "<img src=\"files/ch05/charts/feat_imp_LogReg_C=0.01.png\" width=400 />\n",
      "\n",
      "<img src=\"files/ch05/charts/feat_imp_LogReg_C=0.10.png\" width=400 />\n",
      "\n",
      "<img src=\"files/ch05/charts/feat_imp_LogReg_C=1.00.png\" width=400 />\n",
      "\n",
      "<img src=\"files/ch05/charts/feat_imp_LogReg_C=10.00.png\" width=400 />\n",
      "\n"
     ]
    },
    {
     "cell_type": "markdown",
     "metadata": {},
     "source": [
      "#### \ub9c8\uc9c0\ub9c9 \uc904 logic. avg\\_scores\\_summary\n",
      "\n",
      "- summary\ub97c \ud558\ub294\ub370 1\ubc88\uc9f8 \uc5f4\ub85c \uc815\ub82c(2464\uac1c\ub098 \ub428)\n",
      "- \uc5ec\uae30\uc5d0\uc11c \ub0b4\uac00 \uc6d0\ud558\ub294 \uc815\ubcf4\uac00 \ubb54\uc9c0.."
     ]
    },
    {
     "cell_type": "markdown",
     "metadata": {},
     "source": [
      "#### precision\\_recall\\_fscore\\_support\n",
      "\n",
      "- [sklearn.metrics.precision_recall_fscore_support \u2014 scikit-learn 0.15.2 documentation](http://scikit-learn.org/stable/modules/generated/sklearn.metrics.precision_recall_fscore_support.html)\n",
      "  - Compute precision, recall, F-measure and support for each class\n",
      "  - The precision is the ratio tp / (tp + fp) where tp is the number of true positives and fp the number of false positives. The precision is intuitively the ability of the classifier not to label as positive a sample that is negative.\n",
      "  - The recall is the ratio tp / (tp + fn) where tp is the number of true positives and fn the number of false negatives. The recall is intuitively the ability of the classifier to find all the positive samples.\n",
      "  - The F-beta score can be interpreted as a weighted harmonic mean of the precision and recall, where an F-beta score reaches its best value at 1 and worst score at 0.\n",
      "  - The F-beta score weights recall more than precision by a factor of beta. beta == 1.0 means recall and precision are equally important.\n",
      "  - The support is the number of occurrences of each class in y_true."
     ]
    },
    {
     "cell_type": "markdown",
     "metadata": {},
     "source": [
      "#### ROC(Receiver operating characteristic)\n",
      "\n",
      "- [\uc218\uc2e0\uc790 \uc870\uc791 \ud2b9\uc131 - \uc704\ud0a4\ubc31\uacfc, \uc6b0\ub9ac \ubaa8\ub450\uc758 \ubc31\uacfc\uc0ac\uc804](http://ko.wikipedia.org/wiki/%EC%88%98%EC%8B%A0%EC%9E%90_%EC%A1%B0%EC%9E%  91_%ED%8A%B9%EC%84%B1)\n",
      "  - \ubc18\uc751\uc790 \uc791\uc6a9\ud2b9\uc131, \uc218\uc6a9\uc790 \ubc18\uc751\ud2b9\uc131\uc740 \uc2e0\ud638\ud0d0\uc9c0\uc774\ub860\uc5d0\uc11c \uc801\uc911\ud655\ub960(Y\ucd95, True Positive Rate, Sensitivity) \ub300 \uc624\uacbd\ubcf4\ud655\ub960(X\ucd95, False Positive Rate, 1 - Specitificity)\uc758 \uadf8\ub798\ud504\n",
      "  - ROC \uadf8\ub798\ud504\ub294 \uc815\uae30\uac01\ub960\uc774 \ub298\uc5b4\ub098\uba74 \ud0c8\ub8e8\ub960\uc774 \ub298\uc5b4\ub098\ub290 \uad00\uacc4\ub97c \ud6a8\uc6a9 \ub300 \ube44\uc6a9\uc758 \uad00\uacc4\ub85c \uc124\uba85\ud558\uace0 \uc788\uc74c\n",
      "- [ROC\uc758 AUC \uad6c\ud558\uae30 :: \uc9c4\ud654\ud558\uc790 - \uc5b4\ub514\uc5d0\ub3c4 \uc18c\uc18d\ub418\uc9c0 \uc54a\uae30](http://adnoctum.tistory.com/121)\n",
      "  - \uc9c4\ub2e8 \ubc29\ubc95\uc758 \ud6a8\uc728\uc131\uc744 \ud310\ub2e8\ud558\ub294 \ubc29\ubc95 \uc911 \ub110\ub9ac \uc0ac\uc6a9\ub418\ub294 \uac83\n",
      "  - \ubbfc\uac10\ub3c4(sensitivity)\uc640 \ud2b9\uc774\ub3c4(specificity)\uac00 \uc5b4\ub5a4 \uad00\uacc4\ub97c \uac16\uace0 \ubcc0\ud558\ub294\uc9c0\ub97c \uc774\ucc28\uc6d0 \ud3c9\uba74 \uc0c1\uc5d0 \ud45c\ud604\ud55c \uac83\uc774 ROC curve\uc778\ub370, ROC curve \uc544\ub798\uc758 \uba74\uc801(AUC, area under curver)\uc774 \ub113\uc744\uc218\ub85d \uc88b\uc740 \uc9c4\ub2e8 \ubc29\ubc95\uc774\ub77c \ud560 \uc218 \uc788\uc74c\n",
      "  - \ud2b9\uc815 \uc9c4\ub2e8 \ubc29\ubc95\uc758 \ubbfc\uac10\ub3c4\uc640 \ud2b9\uc774\ub3c4\uac00 \uc5b4\ub5a4 \uad00\uacc4\ub97c \uac16\uace0 \uc788\ub294\uc9c0\ub97c \ud45c\ud604\ud55c \uadf8\ub798\ud504\n",
      "- [Receiver Operating Characteristic Curve\ub97c \uc774\uc6a9\ud55c \ubbfc\uac10\ub3c4\uc640 \ud2b9\uc774\ub3c4 \uce21\uc815](http://synapse.koreamed.org/Synapse/Data/PDFData/0001KJFM/kjfm-30-841.pdf)"
     ]
    },
    {
     "cell_type": "markdown",
     "metadata": {},
     "source": [
      "## \uc815\ud655\ub3c4 \uc880 \ub354 \ubcf4\uae30: \uc815\ubc00\ub3c4\uc640 \uc7ac\ud604\uc728"
     ]
    },
    {
     "cell_type": "markdown",
     "metadata": {},
     "source": [
      "#### Precsion, Recall\n",
      "\n",
      "- Precision\n",
      "  - \uc815\ubc00\ub3c4\n",
      "- Recall\n",
      "  - \uc7ac\ud604\uc728\n",
      "  \n",
      "\n",
      "- | - | \ubc94\uc8fc\ub85c\uc11c | \ubc94\uc8fc\ub85c\uc11c\n",
      "--- | --- | --- | ---\n",
      "- | - | \uae0d\uc815(Positive) | \ubd80\uc815(Negative)\n",
      "\uc2e4\uc81c\ub85c\uc11c | \ucc38(Positive) | \ucc38 \uae0d\uc815(True Positive) | \uac70\uc9d3 \ubd80\uc815(False Negative)\n",
      "\uc2e4\uc81c\ub85c\uc11c | \ubd80\uc815(Negative) | \uac70\uc9d3 \uae0d\uc815(False Positive) | \ucc38 \ubd80\uc815(True Negative)\n",
      "\n",
      "\n",
      "<img src=\"files/images/precision_recall.png\" />\n",
      "\n",
      "- \uc704 \ub2e4\uc774\uc5b4\uadf8\ub7a8\uc758 \uad00\uc810\uc5d0\uc11c, \uc815\ubc00\ub3c4\ub294 \uc624\ub978\ucabd \uc6d0\uacfc \uacf5\uc9d1\ud569\uc758 \uc77c\ubd80\uc774\uace0 \uc7ac\ud604\uc728\uc740 \uc67c\ucabd \uc6d0\uacfc \uacf5\uc9d1\ud569\uc758 \uc77c\ubd80\uac00 \ub428\n",
      "- \uadf8\ub7fc \uc815\ubc00\ub3c4\ub97c \uc5b4\ub5bb\uac8c \ucd5c\uc801\ud654\ud560\uae4c?\n",
      "- \uc9c0\uae08\uae4c\uc9c0\ub294 \ub2f5\ubcc0\uc774 \uc88b\uc740\uc9c0 \ubcc4\ub85c\uc778\uc9c0 \ud310\ub2e8\ud558\ub294 \uacbd\uacc4\ub97c 0.5\ub85c \uc0ac\uc6a9\ud588\uc74c\n",
      "- \uc774\uc81c \uc774 \uacbd\uacc4\ub97c 0\uc5d0\uc11c 1\uae4c\uc9c0 \ubcc0\uacbd\ud574 TP, FP, FN, \uc778\uc2a4\ud134\uc2a4\uc758 \uc218\ub97c \uc138\ub294 \uc791\uc5c5\uc744 \ud560 \uc218 \uc788\uc74c\n",
      "- \uc774 \uac1c\uc218\ub85c \uc815\ubc00\ub3c4\uc640 \uc7ac\ud604\uc728\uc744 \ub2e4\uc2dc \ub3c4\uc2dd\ud654\n",
      "- \ub2e4\uc74c \ucf54\ub4dc\ucc98\ub7fc metrics\uc5d0 \uc788\ub294 precision_recall_curve() \ub77c\ub294 \ud3b8\ub9ac\ud55c \ud568\uc218\uac00 \ubaa8\ub4e0 \uacc4\uc0b0\uc744 \ub2e4\ud568"
     ]
    },
    {
     "cell_type": "markdown",
     "metadata": {},
     "source": [
      "- [\uc815\ubc00\ub3c4\uc640 \uc7ac\ud604\uc728 - \uc704\ud0a4\ubc31\uacfc, \uc6b0\ub9ac \ubaa8\ub450\uc758 \ubc31\uacfc\uc0ac\uc804](http://ko.wikipedia.org/wiki/%EC%A0%95%EB%B0%80%EB%8F%84%EC%99%80_%EC%9E%AC%ED%98%84%EC%9C%A8)\n",
      "  - \uc815\ubc00\ub3c4: \uac80\uc0c9\ub41c \ubb38\uc11c\ub4e4 \uc911 \uad00\ub828\uc788\ub294 \ubb38\uc11c\ub4e4\uc758 \ube44\uc728\n",
      "  - \uc7ac\ud604\uc728: \uad00\ub828\uc788\ub294 \ubb38\uc11c\ub4e4 \uc911 \uc2e4\uc81c\ub85c \uac80\uc0c9\ub41c \ubb38\uc11c\ub4e4\uc758 \ube44\uc728\n",
      "- [To.World :: accuracy, precision, recall\uc758 \ucc28\uc774](http://shine-ing.tistory.com/157)\n",
      "  - \uc815\ubc00\ub3c4: \uc138\ub85c \uc5f0\uc0b0, \uc2dc\uc2a4\ud15c\uc774 True\ub77c\uace0 \ud310\ub2e8\ud55c \uac83 \uc911\uc5d0\uc11c \uc2e4\uc81c True\uc778 \uac83\uc758 Percent\n",
      "  - \uc7ac\ud604\uc728: \uac00\ub85c \uc5f0\uc0b0, \uc2e4\uc81c \uc815\ub2f5\uc758 True\uc911 \uc5bc\ub9c8\ub098 \ub9ce\uc740 True\ub97c \ucc3e\uc544\ub0c8\ub290\ub0d0 \ud558\ub294 Percent\n",
      "  - accuracy\n",
      "    - \uc77c\ubc18\uc801\uc778 \uc0c1\uc2b9\uc73c\ub85c \ubd24\uc744 \ub54c \uc774 \uc2dc\uc2a4\ud15c\uc758 \uacb0\uacfc \uc911 \uc5bc\ub9c8\ub098 \ub9de\uc558\ub294\uac00\ub97c \uc2dc\uc2a4\ud15c\uc758 \uc131\ub2a5\uc73c\ub85c \ud310\ub2e8\ud558\ub294 \uacbd\uc6b0\uac00 \ub9ce\uc74c. \uc774 \uacbd\uc6b0\uac00 \ubc14\ub85c accuracy\n",
      "    - \uc27d\uac8c \ub9d0\ud574\uc11c \uc2dc\uc2a4\ud15c\uc774 \ucd9c\ub825\ud574 \ub193\uc740 \uc804\uccb4 \uacb0\uacfc a, b, c, d \uc911\uc5d0\uc11c \uc2e4\uc81c \uc815\ub2f5\uacfc \uac19\uc740 \ud310\ub2e8\uc744 \ud55c \ube44\uc728. (a+D)/(a+b+c+d)\n",
      "- [\uac04\ub7b5\ud558\uac8c \uc815\ub9ac\ud558\ub294 Test set\uc758 \uc815\ud655\ub3c4 \uce21\uc815 \uae30\ubc95 - Woo-Hyuk Jang, Ph. D., Senior Engineer.](https://sites.google.com/site/torajim/articles/ganlyaghagejeonglihaneuntestset-uijeonghwagdocheugjeonggibeob)\n",
      "  -  \ub2f9\uc5f0\ud788 Sensitivity\uc640 Specificity \ub294 \uc11c\ub85c \ubc18\ube44\ub840 \ud558\uba70 Precision\uacfc Recall \uc5ed\uc2dc \ubc18\ube44\ub840 \ud558\ub294 \uad00\uacc4\ub97c \uac00\uc9c0\uace0 \uc788\ub2e4.\n",
      "  - \ud55c\ud3b8, \ud0a4\uac00 \ud070 \uc0ac\ub78c\uc744 \ud310\ub2e8\ud558\ub294 \uc54c\uace0\ub9ac\uc998\uc5d0\uc11c \uc55e\uc120 \uc608\uc5d0\uc11c\ub294 \"10cm\"\ub97c \uae30\uc900\uc73c\ub85c \uc0ac\uc6a9\ud558\uc600\ub2e4. \uadf8\ub807\uc9c0\ub9cc \uc774\uac83\uc744 180cm \ud639\uc740 190cm\ub85c \uc0ac\uc6a9\ud560 \uc218 \uc788\uc744 \uac83\uc774\ub2e4.\n",
      "  - \uc774\ub807\uac8c **parameter\ub97c \ubcc0\ud654** \uc2dc\ucf1c\uac00\uba74\uc11c **\uac01\uac01\uc758 \ubcc0\ud654\uc5d0 \ub530\ub978 Sensitivity\uc640 Specificity\ub97c \ub3c4\ud45c\ub85c \uadf8\ub9b0 \uac83**\uc774 **Receiver Operating Characteristic (ROC) \ucee4\ube0c**\uc774\ub2e4. ROC \ucee4\ube0c\uc5d0\uc11c\ub294 specificity\ub97c \uadf8\ub300\ub85c \uc0ac\uc6a9\ud558\uae30 \ubcf4\ub2e4\ub294 1-specificity\ub97c \uc0ac\uc6a9\ud55c\ub2e4\n",
      "  - Accuracy : (TP + TN) / (TP + TN + FP + FN)              \n",
      "  - F1-score : 2 \\* (Precision \\* Recall) / (Precision + Recall)\n",
      "  - ROC\uc5d0\uc11c \uba74\uc801\uc744 \uc801\ubd84\ud55c Area Under the Curve (AUC)\n",
      "  - Machine learning \uae30\ubc95\uc758 \ud2b9\uc131\uc0c1 \ud559\uc2b5\uc9d1\ub2e8\uacfc \ud14c\uc2a4\ud2b8\uc9d1\ub2e8\uc758 \uad6c\uc131\uc740 \uadf8 \uc54c\uace0\ub9ac\uc998\uc758 \uc608\uce21 \uacb0\uacfc\uc5d0 \ubbfc\uac10\ud558\uac8c \uc791\uc6a9\ud55c\ub2e4.\n",
      "  - \ub530\ub77c\uc11c \uc11c\ub85c \ub2e4\ub978 \uc54c\uace0\ub9ac\uc998\uc744 \ube44\uad50\ud560 \uacbd\uc6b0, \uc774\ub97c stable\ud55c \uc0c1\ud0dc\uc5d0\uc11c \ube44\uad50\ud574\uc57c \uc801\uc808\ud55c \ube44\uad50\uac00 \uc218\ud589 \ub420 \uc218 \uc788\ub2e4.\n",
      "  - \uc774\ub97c \uc704\ud574 \uc8fc\ub85c \uc0ac\uc6a9\ud558\ub294 \uac83\uc774 N-fold cross validation\uc774\uba70 \uc8fc\ub85c N\uc740 5\ub97c \uc0ac\uc6a9\ud558\ub294 5-fold cross validation\uc774 \uc4f0\uc778\ub2e4.\n",
      "- [\uac04\ub2e8\ud568\uc5d0 \ubbf8\uce58\ub2e4 :: Precision\uacfc Recall](http://enginius.tistory.com/374)\n",
      "  - Precision: \ub0b4\uac00 1\uc774\ub77c\uace0 \uc608\uce21\ud55c \uac83(positive) \uc911\uc5d0\uc11c \uc2e4\uc81c\ub85c 1\uc778 \uac83(TP)\uc758 \ube44\uc728\uc774\ub2e4. \uc989 **\ub0b4\uac00 \uc608\uce21\uc744 \ud558\uae34 \ud588\ub294\ub370 \uc774\uac8c \uc5bc\ub9c8\ub098 \uc798 \ud558\ub294\uc9c0?**\n",
      "  - Recall: \uc2e4\uc81c\ub85c 1\uc778 \uac83 \uc911\uc5d0\uc11c \ub0b4\uac00 correct\ub97c \uc5bc\ub9c8\ub098 \ud588\ub098\ub97c \ub098\ud0c0\ub0b8\ub2e4. \uc0ac\uc2e4 \uc880 \uc560\ub9e4\ud55c \uac1c\ub150\uc774\uae34 \ud558\ub2e4. \uc774 \uac1c\ub150\uc740 Sensitivity\ub77c\uace0\ub3c4 \ubd88\ub9b0\ub2e4. \uc989 **\uc804\uccb4 1 \uc911\uc5d0 \ub0b4\uac00 \uba87\uac1c\ub97c \ub9de\ucdc4\ub0d0?**\n",
      "- [idoun's lair :: Precision, Recall](http://idoun.tistory.com/10): \ub9c1\ud06c\ub4e4 \ubaa8\uc74c\n",
      "- [\\[\ud14d\uc2a4\ud2b8\ub9c8\uc774\ub2dd\\] \uad6c\uae00 \uac80\uc0c9 \uc5d4\uc9c4\uc758 \ud574\ubd80\ud559 (1) \uac1c\uad04\uacfc \ud398\uc774\uc9c0\ub7ad\ud06c](http://www.emh.co.kr/content.pl?google_search_engine)\n",
      "  - \uc5ed\uc790\uc8fc : recall\uacfc precision\uc740 \uc815\ubcf4\uac80\uc0c9(IR)\uc5d0\uc11c \uc911\uc694\ud55c \uc131\ub2a5 \uce21\uc815 \uae30\uc900\uc73c\ub85c \uc0ac\uc6a9\ud558\ub294 \uc9c0\ud45c\uc785\ub2c8\ub2e4. precision\uc740 \uac80\uc0c9 \uacb0\uacfc \uc911\uc5d0 \uc2e4\uc81c\ub85c '\uad00\uacc4\ub418\ub294' \ubb38\uc11c\uac00 \uba87 \uac1c\uc778\uac00\ub97c \uc758\ubbf8\ud569\ub2c8\ub2e4. \uc989, \uacb0\uacfc\uc758 '\uc815\ud655\ub3c4'\uc785\ub2c8\ub2e4. recall\uc740 \uac80\uc0c9\uc5b4\uc640 \uad00\uacc4\ub418\ub294 \ubb38\uc11c \uc804\uccb4 \uc911\uc5d0 \uba87 \uac1c\ub97c \ucc3e\uc544\ub0b4\ub290\ub0d0\uc785\ub2c8\ub2e4. precision\uc740 \ubcf4\ud1b5 \uc0c1\uc704 \uba87 \uc704\uae4c\uc9c0 \uc911 \uad00\uacc4\ub418\ub294 \ubb38\uc11c\uac00 \uba87 \uac1c\uc778\uac00 \ud615\ud0dc\ub85c \ud3c9\uac00\ud569\ub2c8\ub2e4. \n",
      "\n",
      "  - \uc608\ub97c \ub4e4\uc5b4 \uc5b4\ub5a4 \uceec\ub809\uc158\uc758 \ucd1d \ubb38\uc11c \uac2f\uc218\ub294 100 \uac1c\uc774\uace0 \uc774 \uc911\uc5d0 '\uc0ac\uacfc'\uc640 \uad00\uacc4\ub418\ub294 \ubb38\uc11c\uac00 30 \uac1c \uc788\ub2e4\uace0 \ud569\uc2dc\ub2e4. \uc9c8\uc758\uc5b4 '\uc0ac\uacfc'\uc5d0 \ub300\ud574\uc11c \uc5b4\ub5a4 \uac80\uc0c9 \uc2dc\uc2a4\ud15c\uc774 \ucd1d 15 \uac1c\uc758 \uacb0\uacfc\ub97c \ub418\ub3cc\ub824 \uc8fc\uc5c8\uace0 \uc0c1\uc704 10 \uc704\uae4c\uc9c0\uc758 \uacb0\uacfc \uc911 \uc2e4\uc81c\ub85c \uc0ac\uacfc\uc640 \uad00\uacc4\ub418\ub294 \ubb38\uc11c\uac00 8 \uac1c\uc600\ub2e4\uba74 precision\uacfc recall\uc740 \uc774\ub807\uac8c \uacc4\uc0b0\ud569\ub2c8\ub2e4. \n",
      "\n",
      "  - \uc0c1\uc704 10 \uc704\uc5d0\uc11c\uc758 precision = 8 / 10 = 0.8\n",
      "  - recall = 15/30 = 0.5 \n",
      "  - \ub17c\ubb38\uc740, \uc6f9 \uac80\uc0c9\uc758 \uacbd\uc6b0 \ub9ac\ucf5c\uc774 \uadf9\ub3c4\ub85c \ub192\uace0 (\ub300\uac1c \uac80\uc0c9\uacb0\uacfc\uac00 \uc218\ub9cc \ud398\uc774\uc9c0 \uc774\uc0c1\uc774\uae30 \ub54c\ubb38\uc5d0) \uc0ac\uc6a9\uc790\ub4e4\uc740 \uc0c1\uc704 \uba87 \uac1c\ub9cc\uc744 \ubcf4\ub824\ud558\uae30 \ub54c\ubb38\uc5d0 \ud504\ub9ac\uc2dc\uc83c\uc774 \uadf9\ub3c4\ub85c \ub192\uc544\uc57c\ub9cc \ud55c\ub2e4\ub294 \uac83\uc744 \uc598\uae30\ud558\uace0 \uc788\uc2b5\ub2c8\ub2e4. \uc18c\uaddc\ubaa8 \ub3c4\uc11c\uad00 \uc815\ubcf4 \uac80\uc0c9 \uc2dc\uc2a4\ud15c\uc774\ub77c\uba74 \uc598\uae30\uac00 \uc804\ud600 \ub2e4\ub985\ub2c8\ub2e4. \uad00\uacc4\ub418\ub294 \ubaa8\ub4e0 \uc11c\uc801\uc744 \ub2e4 \ucc3e\uc544\ub0b4\ub294 \uac83\uc774 \ub354 \uc911\uc694\ud560 \uc218 \uc788\uc2b5\ub2c8\ub2e4. \uadf8 \ub54c\ub294 \ub9ac\ucf5c\uc774 \ub354 \uc911\uc694\ud569\ub2c8\ub2e4. \uadf8\ub807\ub2e4\uba74 \ub9ac\ucf5c\uacfc \ud504\ub9ac\uc2dc\uc83c\uc740 \uc5b4\ub5a4 \uad00\uacc4\uc77c\uae4c\uc694? \ubc18\ube44\ub840\uc77c\uae4c\uc694, \ube44\ub840\uc77c\uae4c\uc694? \uc544\ub2c8\uba74?\n",
      "- [\uae30\ub2e4\ub9bc : \ub124\uc774\ubc84 \ube14\ub85c\uadf8](http://blog.naver.com/iku88/130013585280): \uadf8\ub9bc\uc73c\ub85c \uc774\uc058\uac8c \ud45c\ud604\ub418\uc5b4 \uc788\ub124\n",
      "  - \uc815\ud655\ub3c4\ub294 \uc2dc\uc2a4\ud15c\uc774 \ucc3e\uc544\uc628 \uac83(B) \uc911 \uc815\ub2f5\uc778 \uac83(A\u2229B)\uc758 \ube44\uc728.\n",
      "  - \uc7ac\ud604\uc728\uc740 \uc2e4\uc874\ud558\ub294 \uc804\uccb4 \uc815\ub2f5(A) \uc911 \uc815\ub2f5\uc778 \uac83(A\u2229B)\uc758 \ube44\uc728.\n",
      "  - \uc815\ud655\ub3c4\ub294 \uc2dc\uc2a4\ud15c\uc774 \uc624\ub2f5\uc744 \ucc3e\uc9c0 \uc54a\uc744 \ud655\ub960\uc774\uace0, (\uc989, \uc5bc\ub9c8\ub098 \uc624\ub958\uac00 \uc5c6\uc774 \uc815\ud655\ud55c\uac00)\n",
      "  - \uc7ac\ud604\uc728\uc740 \uc2dc\uc2a4\ud15c\uc774 \uc5bc\ub9c8\ub098 \ub9ce\uc740 \uc815\ub2f5\uc744 \ucc3e\uc544\ub0b4\ub290\ub0d0...\ub77c\uace0 \ud560 \uc218 \uc788\uc744\uae4c. (\uc989, \uc874\uc7ac\ud558\ub294 \uc815\ub2f5\uc744 \uc5bc\ub9c8\ub098 \uc7ac\ud604\ud574 \ub0bc \uc218 \uc788\ub290\ub0d0)\n",
      "- [\\[Mahout\\] Recall And Precision | sungkipyung](https://sungkipyung.wordpress.com/2012/12/30/mahout-recall-and-precision/): \ud328\ud134\uc778\uc2dd \uc815\ub9ac\ud55c\uac83 \uac19\uc740\ub370 \ub0b4\uac00 \uc774\ud574\ud558\uae30\uc5d0\ub294 \uc57d\uac04 \uc5b4\ub835\uac8c \uc124\uba85"
     ]
    },
    {
     "cell_type": "code",
     "collapsed": false,
     "input": [
      "# np.average(list, weights=[])\ub97c \ub118\uae30\ub294\ub370 weights\uc5d0 \ub530\ub77c \ud3c9\uade0\uc774 \uacc4\uc0b0\ub428\n",
      "help(np.average)"
     ],
     "language": "python",
     "metadata": {},
     "outputs": [
      {
       "output_type": "stream",
       "stream": "stdout",
       "text": [
        "Help on function average in module numpy.lib.function_base:\n",
        "\n",
        "average(a, axis=None, weights=None, returned=False)\n",
        "    Compute the weighted average along the specified axis.\n",
        "    \n",
        "    Parameters\n",
        "    ----------\n",
        "    a : array_like\n",
        "        Array containing data to be averaged. If `a` is not an array, a\n",
        "        conversion is attempted.\n",
        "    axis : int, optional\n",
        "        Axis along which to average `a`. If `None`, averaging is done over\n",
        "        the flattened array.\n",
        "    weights : array_like, optional\n",
        "        An array of weights associated with the values in `a`. Each value in\n",
        "        `a` contributes to the average according to its associated weight.\n",
        "        The weights array can either be 1-D (in which case its length must be\n",
        "        the size of `a` along the given axis) or of the same shape as `a`.\n",
        "        If `weights=None`, then all data in `a` are assumed to have a\n",
        "        weight equal to one.\n",
        "    returned : bool, optional\n",
        "        Default is `False`. If `True`, the tuple (`average`, `sum_of_weights`)\n",
        "        is returned, otherwise only the average is returned.\n",
        "        If `weights=None`, `sum_of_weights` is equivalent to the number of\n",
        "        elements over which the average is taken.\n",
        "    \n",
        "    \n",
        "    Returns\n",
        "    -------\n",
        "    average, [sum_of_weights] : {array_type, double}\n",
        "        Return the average along the specified axis. When returned is `True`,\n",
        "        return a tuple with the average as the first element and the sum\n",
        "        of the weights as the second element. The return type is `Float`\n",
        "        if `a` is of integer type, otherwise it is of the same type as `a`.\n",
        "        `sum_of_weights` is of the same type as `average`.\n",
        "    \n",
        "    Raises\n",
        "    ------\n",
        "    ZeroDivisionError\n",
        "        When all weights along axis are zero. See `numpy.ma.average` for a\n",
        "        version robust to this type of error.\n",
        "    TypeError\n",
        "        When the length of 1D `weights` is not the same as the shape of `a`\n",
        "        along axis.\n",
        "    \n",
        "    See Also\n",
        "    --------\n",
        "    mean\n",
        "    \n",
        "    ma.average : average for masked arrays -- useful if your data contains\n",
        "                 \"missing\" values\n",
        "    \n",
        "    Examples\n",
        "    --------\n",
        "    >>> data = range(1,5)\n",
        "    >>> data\n",
        "    [1, 2, 3, 4]\n",
        "    >>> np.average(data)\n",
        "    2.5\n",
        "    >>> np.average(range(1,11), weights=range(10,0,-1))\n",
        "    4.0\n",
        "    \n",
        "    >>> data = np.arange(6).reshape((3,2))\n",
        "    >>> data\n",
        "    array([[0, 1],\n",
        "           [2, 3],\n",
        "           [4, 5]])\n",
        "    >>> np.average(data, axis=1, weights=[1./4, 3./4])\n",
        "    array([ 0.75,  2.75,  4.75])\n",
        "    >>> np.average(data, weights=[1./4, 3./4])\n",
        "    Traceback (most recent call last):\n",
        "    ...\n",
        "    TypeError: Axis must be specified when shapes of a and weights differ.\n",
        "\n"
       ]
      }
     ],
     "prompt_number": 222
    },
    {
     "cell_type": "code",
     "collapsed": false,
     "input": [
      "np.average([0.5135, 0.5393], weights=[98, 102])"
     ],
     "language": "python",
     "metadata": {},
     "outputs": [
      {
       "metadata": {},
       "output_type": "pyout",
       "prompt_number": 221,
       "text": [
        "0.52665799999999996"
       ]
      }
     ],
     "prompt_number": 221
    },
    {
     "cell_type": "code",
     "collapsed": false,
     "input": [
      "# Compute Area Under the Curve (AUC) using the trapezoidal rule\n",
      "# This is a general function, given points on a curve.  \n",
      "# For computing the area under the ROC-curve\n",
      "help(auc)"
     ],
     "language": "python",
     "metadata": {},
     "outputs": [
      {
       "output_type": "stream",
       "stream": "stdout",
       "text": [
        "Help on function auc in module sklearn.metrics.metrics:\n",
        "\n",
        "auc(x, y, reorder=False)\n",
        "    Compute Area Under the Curve (AUC) using the trapezoidal rule\n",
        "    \n",
        "    This is a general function, given points on a curve.  For computing the\n",
        "    area under the ROC-curve, see :func:`roc_auc_score`.\n",
        "    \n",
        "    Parameters\n",
        "    ----------\n",
        "    x : array, shape = [n]\n",
        "        x coordinates.\n",
        "    \n",
        "    y : array, shape = [n]\n",
        "        y coordinates.\n",
        "    \n",
        "    reorder : boolean, optional (default=False)\n",
        "        If True, assume that the curve is ascending in the case of ties, as for\n",
        "        an ROC curve. If the curve is non-ascending, the result will be wrong.\n",
        "    \n",
        "    Returns\n",
        "    -------\n",
        "    auc : float\n",
        "    \n",
        "    Examples\n",
        "    --------\n",
        "    >>> import numpy as np\n",
        "    >>> from sklearn import metrics\n",
        "    >>> y = np.array([1, 1, 2, 2])\n",
        "    >>> pred = np.array([0.1, 0.4, 0.35, 0.8])\n",
        "    >>> fpr, tpr, thresholds = metrics.roc_curve(y, pred, pos_label=2)\n",
        "    >>> metrics.auc(fpr, tpr)\n",
        "    0.75\n",
        "    \n",
        "    See also\n",
        "    --------\n",
        "    roc_auc_score : Computes the area under the ROC curve\n",
        "    \n",
        "    precision_recall_curve :\n",
        "        Compute precision-recall pairs for different probability thresholds\n",
        "\n"
       ]
      }
     ],
     "prompt_number": 218
    },
    {
     "cell_type": "code",
     "collapsed": false,
     "input": [
      "# Receiver operating characteristic(\uc218\uc2e0\uc790 \uc870\uc791 \ud2b9\uc131)\uc744 \uc5f0\uc0b0\ud55c\ub2e4.\n",
      "# roc_curve(y_true, y_score)\n",
      "# fpr: false positive rates\n",
      "# tpr: true positive rates\n",
      "# thresholds: thresholds\n",
      "help(roc_curve)"
     ],
     "language": "python",
     "metadata": {},
     "outputs": [
      {
       "output_type": "stream",
       "stream": "stdout",
       "text": [
        "Help on function roc_curve in module sklearn.metrics.metrics:\n",
        "\n",
        "roc_curve(y_true, y_score, pos_label=None, sample_weight=None)\n",
        "    Compute Receiver operating characteristic (ROC)\n",
        "    \n",
        "    Note: this implementation is restricted to the binary classification task.\n",
        "    \n",
        "    Parameters\n",
        "    ----------\n",
        "    \n",
        "    y_true : array, shape = [n_samples]\n",
        "        True binary labels in range {0, 1} or {-1, 1}.  If labels are not\n",
        "        binary, pos_label should be explicitly given.\n",
        "    \n",
        "    y_score : array, shape = [n_samples]\n",
        "        Target scores, can either be probability estimates of the positive\n",
        "        class or confidence values.\n",
        "    \n",
        "    pos_label : int\n",
        "        Label considered as positive and others are considered negative.\n",
        "    \n",
        "    sample_weight : array-like of shape = [n_samples], optional\n",
        "        Sample weights.\n",
        "    \n",
        "    Returns\n",
        "    -------\n",
        "    fpr : array, shape = [>2]\n",
        "        Increasing false positive rates such that element i is the false\n",
        "        positive rate of predictions with score >= thresholds[i].\n",
        "    \n",
        "    tpr : array, shape = [>2]\n",
        "        Increasing true positive rates such that element i is the true\n",
        "        positive rate of predictions with score >= thresholds[i].\n",
        "    \n",
        "    thresholds : array, shape = [n_thresholds]\n",
        "        Decreasing thresholds on the decision function used to compute\n",
        "        fpr and tpr. `thresholds[0]` represents no instances being predicted\n",
        "        and is arbitrarily set to `max(y_score) + 1`.\n",
        "    \n",
        "    See also\n",
        "    --------\n",
        "    roc_auc_score : Compute Area Under the Curve (AUC) from prediction scores\n",
        "    \n",
        "    Notes\n",
        "    -----\n",
        "    Since the thresholds are sorted from low to high values, they\n",
        "    are reversed upon returning them to ensure they correspond to both ``fpr``\n",
        "    and ``tpr``, which are sorted in reversed order during their calculation.\n",
        "    \n",
        "    References\n",
        "    ----------\n",
        "    .. [1] `Wikipedia entry for the Receiver operating characteristic\n",
        "            <http://en.wikipedia.org/wiki/Receiver_operating_characteristic>`_\n",
        "    \n",
        "    \n",
        "    Examples\n",
        "    --------\n",
        "    >>> import numpy as np\n",
        "    >>> from sklearn import metrics\n",
        "    >>> y = np.array([1, 1, 2, 2])\n",
        "    >>> scores = np.array([0.1, 0.4, 0.35, 0.8])\n",
        "    >>> fpr, tpr, thresholds = metrics.roc_curve(y, scores, pos_label=2)\n",
        "    >>> fpr\n",
        "    array([ 0. ,  0.5,  0.5,  1. ])\n",
        "    >>> tpr\n",
        "    array([ 0.5,  0.5,  1. ,  1. ])\n",
        "    >>> thresholds\n",
        "    array([ 0.8 ,  0.4 ,  0.35,  0.1 ])\n",
        "\n"
       ]
      }
     ],
     "prompt_number": 216
    },
    {
     "cell_type": "code",
     "collapsed": false,
     "input": [
      "# Compute precision-recall pairs for different probability thresholds\n",
      "help(precision_recall_curve)"
     ],
     "language": "python",
     "metadata": {},
     "outputs": [
      {
       "output_type": "stream",
       "stream": "stdout",
       "text": [
        "Help on function precision_recall_curve in module sklearn.metrics.metrics:\n",
        "\n",
        "precision_recall_curve(y_true, probas_pred, pos_label=None, sample_weight=None)\n",
        "    Compute precision-recall pairs for different probability thresholds\n",
        "    \n",
        "    Note: this implementation is restricted to the binary classification task.\n",
        "    \n",
        "    The precision is the ratio ``tp / (tp + fp)`` where ``tp`` is the number of\n",
        "    true positives and ``fp`` the number of false positives. The precision is\n",
        "    intuitively the ability of the classifier not to label as positive a sample\n",
        "    that is negative.\n",
        "    \n",
        "    The recall is the ratio ``tp / (tp + fn)`` where ``tp`` is the number of\n",
        "    true positives and ``fn`` the number of false negatives. The recall is\n",
        "    intuitively the ability of the classifier to find all the positive samples.\n",
        "    \n",
        "    The last precision and recall values are 1. and 0. respectively and do not\n",
        "    have a corresponding threshold.  This ensures that the graph starts on the\n",
        "    x axis.\n",
        "    \n",
        "    Parameters\n",
        "    ----------\n",
        "    y_true : array, shape = [n_samples]\n",
        "        True targets of binary classification in range {-1, 1} or {0, 1}.\n",
        "    \n",
        "    probas_pred : array, shape = [n_samples]\n",
        "        Estimated probabilities or decision function.\n",
        "    \n",
        "    pos_label : int, optional (default=None)\n",
        "        The label of the positive class\n",
        "    \n",
        "    sample_weight : array-like of shape = [n_samples], optional\n",
        "        Sample weights.\n",
        "    \n",
        "    Returns\n",
        "    -------\n",
        "    precision : array, shape = [n_thresholds + 1]\n",
        "        Precision values such that element i is the precision of\n",
        "        predictions with score >= thresholds[i] and the last element is 1.\n",
        "    \n",
        "    recall : array, shape = [n_thresholds + 1]\n",
        "        Decreasing recall values such that element i is the recall of\n",
        "        predictions with score >= thresholds[i] and the last element is 0.\n",
        "    \n",
        "    thresholds : array, shape = [n_thresholds := len(np.unique(probas_pred))]\n",
        "        Increasing thresholds on the decision function used to compute\n",
        "        precision and recall.\n",
        "    \n",
        "    Examples\n",
        "    --------\n",
        "    >>> import numpy as np\n",
        "    >>> from sklearn.metrics import precision_recall_curve\n",
        "    >>> y_true = np.array([0, 0, 1, 1])\n",
        "    >>> y_scores = np.array([0.1, 0.4, 0.35, 0.8])\n",
        "    >>> precision, recall, thresholds = precision_recall_curve(\n",
        "    ...     y_true, y_scores)\n",
        "    >>> precision  # doctest: +ELLIPSIS\n",
        "    array([ 0.66...,  0.5       ,  1.        ,  1.        ])\n",
        "    >>> recall\n",
        "    array([ 1. ,  0.5,  0.5,  0. ])\n",
        "    >>> thresholds\n",
        "    array([ 0.35,  0.4 ,  0.8 ])\n",
        "\n"
       ]
      }
     ],
     "prompt_number": 223
    },
    {
     "cell_type": "code",
     "collapsed": false,
     "input": [
      "data_sizes = np.arange(60, 2000, 4)\n",
      "len(data_sizes), type(data_sizes)"
     ],
     "language": "python",
     "metadata": {},
     "outputs": [
      {
       "metadata": {},
       "output_type": "pyout",
       "prompt_number": 215,
       "text": [
        "(485, numpy.ndarray)"
       ]
      }
     ],
     "prompt_number": 215
    },
    {
     "cell_type": "code",
     "collapsed": false,
     "input": [
      "np.mean([76, 107])"
     ],
     "language": "python",
     "metadata": {},
     "outputs": [
      {
       "metadata": {},
       "output_type": "pyout",
       "prompt_number": 208,
       "text": [
        "91.5"
       ]
      }
     ],
     "prompt_number": 208
    },
    {
     "cell_type": "code",
     "collapsed": false,
     "input": [
      "(76+107)/2.0"
     ],
     "language": "python",
     "metadata": {},
     "outputs": [
      {
       "metadata": {},
       "output_type": "pyout",
       "prompt_number": 210,
       "text": [
        "91.5"
       ]
      }
     ],
     "prompt_number": 210
    },
    {
     "cell_type": "code",
     "collapsed": false,
     "input": [
      "from matplotlib import pylab"
     ],
     "language": "python",
     "metadata": {},
     "outputs": [],
     "prompt_number": 211
    },
    {
     "cell_type": "code",
     "collapsed": false,
     "input": [
      "help(pylab.hist)"
     ],
     "language": "python",
     "metadata": {},
     "outputs": [
      {
       "output_type": "stream",
       "stream": "stdout",
       "text": [
        "Help on function hist in module matplotlib.pyplot:\n",
        "\n",
        "hist(x, bins=10, range=None, normed=False, weights=None, cumulative=False, bottom=None, histtype=u'bar', align=u'mid', orientation=u'vertical', rwidth=None, log=False, color=None, label=None, stacked=False, hold=None, **kwargs)\n",
        "    Plot a histogram.\n",
        "    \n",
        "    Compute and draw the histogram of *x*. The return value is a\n",
        "    tuple (*n*, *bins*, *patches*) or ([*n0*, *n1*, ...], *bins*,\n",
        "    [*patches0*, *patches1*,...]) if the input contains multiple\n",
        "    data.\n",
        "    \n",
        "    Multiple data can be provided via *x* as a list of datasets\n",
        "    of potentially different length ([*x0*, *x1*, ...]), or as\n",
        "    a 2-D ndarray in which each column is a dataset.  Note that\n",
        "    the ndarray form is transposed relative to the list form.\n",
        "    \n",
        "    Masked arrays are not supported at present.\n",
        "    \n",
        "    Parameters\n",
        "    ----------\n",
        "    x : (n,) array or sequence of (n,) arrays\n",
        "        Input values, this takes either a single array or a sequency of\n",
        "        arrays which are not required to be of the same length\n",
        "    \n",
        "    bins : integer or array_like, optional, default: 10\n",
        "        If an integer is given, `bins + 1` bin edges are returned,\n",
        "        consistently with :func:`numpy.histogram` for numpy version >=\n",
        "        1.3.\n",
        "    \n",
        "        Unequally spaced bins are supported if `bins` is a sequence.\n",
        "    \n",
        "    range : tuple, optional, default: None\n",
        "        The lower and upper range of the bins. Lower and upper outliers\n",
        "        are ignored. If not provided, `range` is (x.min(), x.max()). Range\n",
        "        has no effect if `bins` is a sequence.\n",
        "    \n",
        "        If `bins` is a sequence or `range` is specified, autoscaling\n",
        "        is based on the specified bin range instead of the\n",
        "        range of x.\n",
        "    \n",
        "    normed : boolean, optional, default: False\n",
        "        If `True`, the first element of the return tuple will\n",
        "        be the counts normalized to form a probability density, i.e.,\n",
        "        ``n/(len(x)`dbin)``, ie the integral of the histogram will sum to\n",
        "        1. If *stacked* is also *True*, the sum of the histograms is\n",
        "        normalized to 1.\n",
        "    \n",
        "    weights : array_like, shape (n, ), optional, default: None\n",
        "        An array of weights, of the same shape as `x`.  Each value in `x`\n",
        "        only contributes its associated weight towards the bin count\n",
        "        (instead of 1).  If `normed` is True, the weights are normalized,\n",
        "        so that the integral of the density over the range remains 1.\n",
        "    \n",
        "    cumulative : boolean, optional, default : False\n",
        "        If `True`, then a histogram is computed where each bin gives the\n",
        "        counts in that bin plus all bins for smaller values. The last bin\n",
        "        gives the total number of datapoints.  If `normed` is also `True`\n",
        "        then the histogram is normalized such that the last bin equals 1.\n",
        "        If `cumulative` evaluates to less than 0 (e.g., -1), the direction\n",
        "        of accumulation is reversed.  In this case, if `normed` is also\n",
        "        `True`, then the histogram is normalized such that the first bin\n",
        "        equals 1.\n",
        "    \n",
        "    bottom : array_like, scalar, or None, default: None\n",
        "        Location of the bottom baseline of each bin.  If a scalar,\n",
        "        the base line for each bin is shifted by the same amount.\n",
        "        If an array, each bin is shifted independently and the length\n",
        "        of bottom must match the number of bins.  If None, defaults to 0.\n",
        "    \n",
        "    histtype : ['bar' | 'barstacked' | 'step' | 'stepfilled'], optional\n",
        "        The type of histogram to draw.\n",
        "    \n",
        "        - 'bar' is a traditional bar-type histogram.  If multiple data\n",
        "          are given the bars are aranged side by side.\n",
        "    \n",
        "        - 'barstacked' is a bar-type histogram where multiple\n",
        "          data are stacked on top of each other.\n",
        "    \n",
        "        - 'step' generates a lineplot that is by default\n",
        "          unfilled.\n",
        "    \n",
        "        - 'stepfilled' generates a lineplot that is by default\n",
        "          filled.\n",
        "    \n",
        "    align : ['left' | 'mid' | 'right'], optional, default: 'mid'\n",
        "        Controls how the histogram is plotted.\n",
        "    \n",
        "            - 'left': bars are centered on the left bin edges.\n",
        "    \n",
        "            - 'mid': bars are centered between the bin edges.\n",
        "    \n",
        "            - 'right': bars are centered on the right bin edges.\n",
        "    \n",
        "    orientation : ['horizontal' | 'vertical'], optional\n",
        "        If 'horizontal', `~matplotlib.pyplot.barh` will be used for\n",
        "        bar-type histograms and the *bottom* kwarg will be the left edges.\n",
        "    \n",
        "    rwidth : scalar, optional, default: None\n",
        "        The relative width of the bars as a fraction of the bin width.  If\n",
        "        `None`, automatically compute the width. Ignored if `histtype` =\n",
        "        'step' or 'stepfilled'.\n",
        "    \n",
        "    log : boolean, optional, default : False\n",
        "        If `True`, the histogram axis will be set to a log scale. If `log`\n",
        "        is `True` and `x` is a 1D array, empty bins will be filtered out\n",
        "        and only the non-empty (`n`, `bins`, `patches`) will be returned.\n",
        "    \n",
        "    color : color or array_like of colors, optional, default: None\n",
        "        Color spec or sequence of color specs, one per dataset.  Default\n",
        "        (`None`) uses the standard line color sequence.\n",
        "    \n",
        "    label : string, optional, default: ''\n",
        "        String, or sequence of strings to match multiple datasets.  Bar\n",
        "        charts yield multiple patches per dataset, but only the first gets\n",
        "        the label, so that the legend command will work as expected.\n",
        "    \n",
        "    stacked : boolean, optional, default : False\n",
        "        If `True`, multiple data are stacked on top of each other If\n",
        "        `False` multiple data are aranged side by side if histtype is\n",
        "        'bar' or on top of each other if histtype is 'step'\n",
        "    \n",
        "    Returns\n",
        "    -------\n",
        "    n : array or list of arrays\n",
        "        The values of the histogram bins. See **normed** and **weights**\n",
        "        for a description of the possible semantics. If input **x** is an\n",
        "        array, then this is an array of length **nbins**. If input is a\n",
        "        sequence arrays ``[data1, data2,..]``, then this is a list of\n",
        "        arrays with the values of the histograms for each of the arrays\n",
        "        in the same order.\n",
        "    \n",
        "    bins : array\n",
        "        The edges of the bins. Length nbins + 1 (nbins left edges and right\n",
        "        edge of last bin).  Always a single array even when multiple data\n",
        "        sets are passed in.\n",
        "    \n",
        "    patches : list or list of lists\n",
        "        Silent list of individual patches used to create the histogram\n",
        "        or list of such list if multiple input datasets.\n",
        "    \n",
        "    Other Parameters\n",
        "    ----------------\n",
        "    kwargs : `~matplotlib.patches.Patch` properties\n",
        "    \n",
        "    See also\n",
        "    --------\n",
        "    hist2d : 2D histograms\n",
        "    \n",
        "    Notes\n",
        "    -----\n",
        "    Until numpy release 1.5, the underlying numpy histogram function was\n",
        "    incorrect with `normed`=`True` if bin sizes were unequal.  MPL\n",
        "    inherited that error.  It is now corrected within MPL when using\n",
        "    earlier numpy versions.\n",
        "    \n",
        "    Examples\n",
        "    --------\n",
        "    .. plot:: mpl_examples/statistics/histogram_demo_features.py\n",
        "    \n",
        "    \n",
        "    \n",
        "    Additional kwargs: hold = [True|False] overrides default hold state\n",
        "\n"
       ]
      }
     ],
     "prompt_number": 212
    },
    {
     "cell_type": "markdown",
     "metadata": {},
     "source": [
      "```python\n",
      "from sklearn.metrics import precision_recall_curve\n",
      "precision, recall, thresholds = precision_recall_curve(y_test, clf.predict(X-test))\n",
      "```\n",
      "\n",
      "- \uc218\uc6a9\ud560 \ub9cc\ud55c \uc131\ub2a5\uc73c\ub85c \ud55c \ubc94\uc8fc\ub97c \uc608\uce21\ud55c\ub2e4\uace0 \ud574\uc11c \uadf8 \ubc16\uc758 \ubc94\uc8fc\uc5d0 \ub300\ud55c \uc608\uce21\ub3c4 \uc218\uc6a9\ud560 \ub9cc\ud558\ub2e4\uace0 \ub9d0\ud560 \uc218\ub294 \uc5c6\uc74c\n",
      "- \ub2e4\uc74c\uc740 \ubcc4\ub85c\uc778 \ub2f5\ubcc0\uc758 \ubc94\uc8fc(\ub2e4\uc74c \uadf8\ub9bc\uc758 \uc67c\ucabd)\uc640 \uad1c\ucc2e\uc740 \ub2f5\ubcc0\uc758 \ubc94\uc8fc(\ub2e4\uc74c \uadf8\ub9bc\uc758 \uc624\ub978\ucabd)\uc5d0 \ub300\ud55c \uc815\ubc00\ub3c4/\uc7ac\ud604\uc728 \uace1\uc120\uc744 \uadf8\ub9b0 \ub450 \uadf8\ub798\ud504\ub2e4.\n",
      "\n",
      "<img src=\"files/ch05/charts/pr_LogReg_C=0.10_poor.png\" width=400/>\n",
      "\n",
      "<img src=\"files/ch05/charts/pr_LogReg_C=0.10_good.png\" width=400/>\n",
      "\n",
      "\n",
      "> \uc704 \uadf8\ub798\ud504\ub294 \ubd84\ub958\uae30\uc758 \uc131\ub2a5\uc744 \ub354 \uc798 \uc124\uba85\ud558\uace0 \uc788\uc74c. \uace1\uc120 \uc544\ub798 \uba74\uc801(AUC, area under curve). \ubd84\ub958\uae30\uc758 \ud3c9\uade0 \uc815\ubc00\ub3c4\ub85c\uc11c \uc774\ud574\uac00 \uac00\ub2a5\ud558\uba70, \ub2e4\ub978 \ubd84\ub958\uae30\uc640 \ube44\uad50\ud558\ub294 \uc88b\uc740 \ubc29\ubc95\n",
      "\n",
      "- \ubcc4\ub85c\uc778 \ub2f5\ubcc0\uc758 \uc608\uce21\uc5d0 \ub300\ud574\uc11c\ub294 \uae30\ubcf8\uc801\uc73c\ub85c \uc78a\uc790(\uc67c\ucabd \uadf8\ub9bc)\n",
      "- \ubcc4\ub85c\uc778 \ub2f5\ubcc0\uc744 \uc608\uce21\ud558\ub294 \uc815\ubc00\ub3c4\uac00 \uae09\uaca9\ud558\uac8c \uac10\uc18c\ud558\uace0, \uc7ac\ud604\uc728 \uac12\uc774 \ub9e4\uc6b0 \ub0ae\uace0, \uc218\uc6a9\ud558\uae30 \ud798\ub4e0 60% \uc774\ud558\uc758 \uc0c1\ud0dc\uac00 \ub418\uae30 \ub54c\ubb38\n",
      "- \uadf8\ub7ec\ub098 \uad1c\ucc2e\uc740 \ub2f5\ubcc0\uc5d0 \ub300\ud55c \uc608\uc0c1\uc740 80% \uc774\uc0c1\uc758 \uc815\ubc00\ub3c4\ub97c \ubcf4\uc774\uace0, \uc774\ub54c \uac70\uc758 40%\uc758 \uc7ac\ud604\uc728\uc744 \uc5bb\uc744 \uc218 \uc788\uc74c\n",
      "- \ub2e4\uc74c \ucf54\ub4dc\ub85c \ud544\uc694\ud55c \uacbd\uacc4\ub97c \ucc3e\uc744 \uc218 \uc788\uc74c\n",
      "\n",
      "```python\n",
      "thresholds = np.hstack(([0], thresholds[medium]))\n",
      "idx80 = precisions >= 0.8\n",
      "print('P=%.2f R=%.2f thresh=%.2f' % (precision[idx80][0], \\ \n",
      "recall[idx80][0], threshold[idx80][0]))\n",
      "P=0.81 R=0.37 thresh=0.63\n",
      "```\n",
      "\n",
      "- \uacbd\uacc4\ub97c 0.63\uc73c\ub85c \uc124\uc815\ud558\uba74 80% \uc774\uc0c1\uc758 \uc815\ubc00\ub3c4\ub97c \uc5bb\uc744 \uc218 \uc788\uace0 37%\ub77c\ub294 \ub0ae\uc740 \uc7ac\ud604\uc728\uc744 \ubc1b\uc544\ub4e4\uc77c \uacbd\uc6b0 \uc88b\uc740 \ub2f5\ubcc0\uc744 \uac10\uc9c0\ud560 \uc218 \uc788\uc74c\n",
      "- \uc774\ub294 \ubcc4\ub85c\uc778 \ub2f5\ubcc0 3\uac1c\uc911 \ud558\ub098\ub9cc\uc744 \ucc3e\uc544\ub0b4\uc9c0\ub9cc \uc774\ub7ec\ud55c \ub2f5\ubcc0\ub4e4\uc740 \ud569\ub9ac\uc801\uc73c\ub85c \uc870\uc808 \uac00\ub2a5\n",
      "- \uc608\uce21 \uacfc\uc815\uc5d0\uc11c \uacbd\uacc4\ub97c \uc801\uc6a9\ud558\uae30 \uc704\ud574\uc11c\ub294 \ubc94\uc8fc \uc790\uccb4\ub97c \ubc18\ud658\ud558\ub294 predict() \ub300\uc2e0\uc5d0 \ubc94\uc8fc \ud655\ub960\uc744 \ubc18\ud658\ud558\ub294 predict_proba()\ub97c \uc0ac\uc6a9\ud574\uc57c \ud568\n",
      "\n",
      "```python\n",
      "thresh80 = threshold[idx80][0]\n",
      "probs_for_good = clf.predict_proba(answer_features)[:,1]\n",
      "answer_class = probs_for_good > thresh80\n",
      "```\n",
      "\n",
      "- classification_report\ub97c \uc0ac\uc6a9\ud574 \uc6d0\ud558\ub294 \uc815\ubc00\ub3c4/\uc7ac\ud604\uc728\uc744 \ub098\ud0c0\ub0c4\n",
      "\n",
      "```python\n",
      "from sklearn.metrics import classification_report\n",
      "print(classification_report(y_test, clf.predict_proba[:,1] > 0.63, target_names=['not accepted', 'accepted']))\n",
      "```\n",
      "\n",
      ". | precision | recall | f1-score | support\n",
      "--- | --- | --- | --- | ---\n",
      "not accepted      | 0.57 |     0.73 |     0.64 |       93\n",
      "accepted   |    0.63 |     0.46|      0.53|        94\n",
      "avg / total|       0.60|      0.59|      0.59|       187\n",
      "\n",
      "> \uacbd\uacc4 \uc0ac\uc6a9\uc740 \uc774\uc804\uc5d0 \uacbd\uacc4\ub85c \uacb0\uc815\ud588\ub358 \uc704\uc758 \uc815\ubc00\ub3c4\uc640 \uc7ac\ud604\uc728\uc744 \ud56d\uc0c1 \ubcf4\uc7a5\ud558\uc9c0\ub294 \ubabb\ud568"
     ]
    },
    {
     "cell_type": "markdown",
     "metadata": {},
     "source": [
      "## \ubd84\ub958\uae30 \uc0b4 \ube7c\uae30\n",
      "\n",
      "- \uac1c\ubcc4 \uc18d\uc131\uc758 \uc2e4\uc81c \uae30\uc5ec\ub3c4\ub294 \uc0b4\ud3b4\ubcfc \ub9cc\ud55c \uac00\uce58\uac00 \uc788\uc74c\n",
      "- \ub85c\uc9c0\uc2a4\ud2f1 \ud68c\uadc0\uc5d0\uc11c \uc18d\uc131\uc758 \uc601\ud5a5\uc744 \uc54c\uae30 \uc704\ud574 \ud559\uc2b5 \uacc4\uc218(learned cofficients(clf.coef\\_))\ub97c \uc9c1\uc811\uc801\uc73c\ub85c \uad6c\ud560 \uc218 \uc788\uc74c\n",
      "- \uc18d\uc131\uc758 \uacc4\uc218\uac00 \ub192\uc744\uc218\ub85d \ub2f5\ubcc0\uc774 \uad1c\ucc2e\uc740\uc9c0 \uc54a\uc740\uc9c0 \uacb0\uc815\ud558\ub294\ub370 \ub354 \uc911\uc694\ud55c \uc5ed\ud560\n",
      "- \uacb0\uacfc\uc801\uc73c\ub85c, \uc74c\uc758 \uacc4\uc218\ub294 \ud574\ub2f9 \uc18d\uc131\uc758 \uac12\uc774 \uc880 \ub354 \ub192\uc744 \uc218\ub85d \ubcc4\ub85c\uc778 \ub2f5\ubcc0\uc73c\ub85c \ubd84\ub958\ub41c\ub2e4\ub294 \uac15\ud55c \uc2e0\ud638\uc784\uc744 \ubcf4\uc5ec\uc90c\n",
      "\n",
      "- <img src=\"files/ch05/charts/feat_imp_LogReg_C=0.01.png\" width=400 />\n",
      "\n",
      "- LinkCount\ub098 NumExclams\ub294 \uc804\uccb4\uc801\uc73c\ub85c \ubd84\ub958 \uacb0\uc815\uc5d0 \uac00\uc7a5 \ud070 \uc5ed\ud5a5\uc744 \ubbf8\uce58\ub294 \uc18d\uc131\n",
      "- \ubc18\uba74, NumImages\uc640 AvgSentLen\uc740 \ub2e4\uc18c \uc801\uc740 \uc5ed\ud560\n",
      "- \uc911\uc694\ub3c4\uac00 \ub192\uc740 \uc18d\uc131\uc740 \uc774\ud574\ud560 \uc218 \uc788\uc9c0\ub9cc NumImags\uac00 \ubcf8\uc9c8\uc801\uc73c\ub85c \ubb34\uc2dc\ub418\ub294 \uac83\uc740 \uc880 \uc758\uc544\ud568\n",
      "- \uc77c\ubc18\uc801\uc73c\ub85c \uc774\ubbf8\uc9c0\uac00 \ud3ec\ud568\ub41c \ub2f5\ubcc0\uc740 \ub192\uc740 \ub4f1\uae09\uc774 \ub9e4\uaca8\uc9d0\n",
      "- \uc2e4\uc81c\ub85c\ub294 \ub2f5\ubcc0\uc5d0 \uc774\ubbf8\uc9c0\ub294 \ubcc4\ub85c \uc5c6\uc74c\n",
      "- \uc6d0\uce59\uc801\uc73c\ub85c \uc601\ud5a5\ub825\uc774 \ub9e4\uc6b0 \ud070 \uc18d\uc131\uc774\uc9c0\ub9cc, \uadf8 \uac12\uc774 \ub108\ubb34 \ub4dc\ubb3c\uc74c\n",
      "- \uc774\ub7ec\ud55c \uc18d\uc131\uc744 \uc27d\uac8c \ud3ec\uae30\ud574\ub3c4 \ube44\uc2b7\ud55c \ubd84\ub958 \uc131\ub2a5\uc744 \uc720\uc9c0\ud560 \uc218 \uc788\uc74c"
     ]
    },
    {
     "cell_type": "markdown",
     "metadata": {},
     "source": [
      "## \ubc30\ud3ec\n",
      "\n",
      "- \uc774\uc81c\uae4c\uc9c0 \ub9cc\ub4e0 \ubd84\ub958\uae30\ub97c \uc0ac\uc774\ud2b8\uc5d0 \ud1b5\ud569\ud558\ub824 \ud55c\ub2e4\uace0 \uac00\uc815\n",
      "- \ubd84\ub958 \uc11c\ube44\uc2a4\ub97c \uc2dc\uc791\ud560 \ub54c\ub9c8\ub2e4 \ud6c8\ub828\uc2dc\ud0a4\uae38 \uc6d0\ud558\uc9c0 \uc54a\uc74c\n",
      "- \ub300\uc2e0\uc5d0, \ud6c8\ub828\uc2dc\ud0a8 \ubd84\ub958\uae30\ub97c \uc9c1\ub82c\ud654(serialize) \ud55c \ud6c4 \uc0ac\uc774\ud2b8\uc5d0\uc11c \uc5ed\uc9c1\ub82c\ud654(deserialize) \ud568\n",
      "\n",
      "```python\n",
      "import pickle\n",
      "pickle.dump(clf, open('logreg.dat', 'w')\n",
      "clf = pickle.load(open('logreg.dat', 'r'))\n",
      "```"
     ]
    },
    {
     "cell_type": "markdown",
     "metadata": {},
     "source": [
      "## \uc815\ub9ac\n",
      "\n",
      "- \ub9e4\uc6b0 \ub178\uc774\uc988\ud55c \ub370\uc774\ud130\uc14b\uc5d0 \ub300\ud574 \uc6b0\ub9ac \ubaa9\uc801\uc744 \uc801\ub2f9\ud788 \ub9cc\uc871\uc2dc\ud0a4\ub294 \ubd84\ub958\uae30\ub97c \ub9cc\ub4e6\n",
      "- \ubb3c\ub860, \ud604\uc2e4\uc801\uc73c\ub85c \uc131\ucde8\ud560 \uc218 \uc788\uc744 \uc815\ub3c4\uc758 \ucd08\uae30 \ubaa9\ud45c\ub97c \uc138\uc6e0\uc5b4\uc57c \ud588\uc74c\n",
      "- \uadf8\ub7ec\ub098 \uc774 \uacfc\uc815\uc5d0\uc11c \ucd5c\uadfc\uc811 \uc774\uc6c3\uacfc \ub85c\uc9c0\uc2a4\ud2f1 \ud68c\uadc0 \uc54c\uace0\ub9ac\uc998\uc758 \uc7a5\ub2e8\uc810\uc744 \ubc30\uc6c0\n",
      "- \uc774\ub97c\ud14c\uba74 LinkCount, NumTextTokens, NumCodeLines, AvgSentLen, AvgWordLen, NumAllCaps, NumExclams, NumImages \uac19\uc740 \uc18d\uc131\uc744 \uc5b4\ub5bb\uac8c \ucd94\ucd9c\ud574\uc57c \ud558\ub294\uc9c0 \uc54c\uc544\ubd24\uace0, \uc774\ub4e4\uc774 \ubd84\ub958\uae30 \uc131\ub2a5\uc5d0 \uc5b4\ub5bb\uac8c \uc601\ud5a5\uc744 \ubbf8\uce58\ub294\uc9c0 \ubd84\uc11d\ud568\n",
      "- \uadf8\ub7ec\ub098 **\ub354 \uac00\uce58\uc788\ub294 \ub0b4\uc6a9**\uc740 **\ubd84\ub958\uae30\uc5d0 \uc88b\uc9c0 \uc54a\uc740 \uc218\ud589\uc744 \uc5b4\ub5bb\uac8c \ucc3e\uc544\uc57c \ud558\ub294\uc9c0 \uc815\ubcf4\uc5d0 \uc785\uac01\ud55c \ubc29\ubc95\uc744 \ubc30\uc6e0\ub2e4**\ub294 \uc0ac\uc2e4\n",
      "- \uc774\ub294 \ubbf8\ub798\uc5d0 \uc880 \ub354 \ube60\ub974\uace0 \uc720\uc6a9\ud55c \uc2dc\uc2a4\ud15c\uc744 \ub9cc\ub4dc\ub294\ub370 \ub3c4\uc6c0\n",
      "- \ucd5c\uadfc\uc811 \uc774\uc6c3\uacfc \ub85c\uc9c0\uc2a4\ud2f1 \ud68c\uadc0 \uc54c\uace0\ub9ac\uc998\uc5d0 \ub300\ud574 \uc54c\uc544\ubd24\uc73c\ub2c8 \ub2e4\uc74c 6\uc7a5\uc5d0\uc11c\ub294 \uac04\ub2e8\ud558\uc9c0\ub9cc \uac15\ub825\ud55c \ubd84\ub958 \uc54c\uace0\ub9ac\uc998\uc778 \ub098\uc774\ube0c \ubca0\uc774\uc988\ub97c \uc0b4\ud3b4\ubd04\n",
      "- \uc774 \uacfc\uc815\uc5d0\uc11c Scikit-learn\uc758 \ud3b8\ub9ac\ud55c \ud234 \uc0ac\uc6a9\ubc95\ub3c4 \uc54c\uc544\ubcf4\uaca0\uc74c"
     ]
    }
   ],
   "metadata": {}
  }
 ]
}