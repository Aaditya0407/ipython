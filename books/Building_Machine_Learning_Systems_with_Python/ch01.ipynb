{
 "metadata": {
  "name": "",
  "signature": "sha256:79aeb61b32dd2bc09848043f91a21a03d8f1bea45127e7294a890f919c5c02a0"
 },
 "nbformat": 3,
 "nbformat_minor": 0,
 "worksheets": [
  {
   "cells": [
    {
     "cell_type": "markdown",
     "metadata": {},
     "source": [
      "# 1. \uae30\uacc4 \ud559\uc2b5 \ud30c\uc774\uc36c\uc73c\ub85c \uc2dc\uc791\ud558\uae30\n",
      "\n",
      "## \uac1c\ub150\n",
      "\n",
      "- Machine Learning: \uae30\uacc4\uc5d0\uac8c \uc2a4\uc2a4\ub85c \uc791\uc5c5\uc744 \uc218\ud589\ud560 \uc218 \uc788\ub3c4\ub85d \uac00\ub974\uce58\ub294 \uc77c. \uc758\ubbf8\ub294 \uc774\ub807\uac8c \ub2e8\uc21c\ud558\uc9c0\ub9cc, \uadf8 \uc18d\uc744 \ub4e4\uc5ec\ub2e4\ubcf4\uba74 \ub9e4\uc6b0 \ubcf5\uc7a1\ud574 \uc5ec\ub7ec\ubd84\uc774 \uc774 \ucc45\uc744 \uc77d\uae30 \uc2dc\uc791\ud588\uc73c\ub9ac\ub77c \uc0dd\uac01\ud568\n",
      "- \ubaa8\ub4e0 \uac83\uc774 \ub300\ub2e8\ud558\uace0 \ub9c8\uc220\uac19\uc774 \ub290\uaef4\uc838 \ub2e4\uc591\ud55c \uc2dc\ub3c4\ub3c4 \ud574\ubcf4\uace0 \ud574\uacb0 \uac00\ub2a5\ud560\ubc95\ud55c \ub370\uc774\ud130(toy data)\ub97c decision tree\ub098 support vector machine\uc5d0 \uc785\ub825\ub3c4 \ud574\ubd24\uc744 \uac83. \ud558\uc9c0\ub9cc \uc774\ub7f0 \ubc29\ubc95\ub4e4\uc744 \ub2e4\ub978 \ub370\uc774\ud130\uc5d0\ub3c4 \uc801\uc6a9\ud558\ub294 \ub370 \uc131\uacf5\ud55c \ub4a4 \n",
      "  - \uc790\uc2e0\uc774 \ud55c \ubc29\ubc95\uc774 **\uacfc\uc5f0 \ub9de\ub294\uc9c0**\n",
      "  - **\ucd5c\uc801\ud654\ub41c \uacb0\uacfc\ub97c \uc5bb\uc740 \uac83\uc778\uc9c0**\n",
      "  - **\ub354 \uc88b\uc740 \uacb0\uacfc\ub97c \ub3c4\ucd9c\ud574\ub0bc \uc218 \uc788\ub294 \uc54c\uace0\ub9ac\uc998\uc740 \uc5c6\uc744\uc9c0**\n",
      "  - **\uc801\uc6a9\ud55c \ub370\uc774\ud130\uac00 \uc62c\ubc14\ub978\uc9c0** \ub4f1 \uc5ec\ub7ec \uc758\ubb38"
     ]
    },
    {
     "cell_type": "markdown",
     "metadata": {},
     "source": [
      "## \uae30\uacc4 \ud559\uc2b5\uacfc \ud30c\uc774\uc36c: \uafc8\uc758 \uc870\ud569\n",
      "\n",
      "- \uae30\uacc4\ud559\uc2b5 \ubaa9\ud45c: \uae30\uacc4(\uc18c\ud504\ud2b8\uc6e8\uc5b4)\uc5d0\uac8c \uba87 \uac00\uc9c0 \uc608(\uc5b4\ub5bb\uac8c \uc77c\uc744 \uc218\ud589\ud574\uc57c \ud558\ub294\uc9c0, \ud574\uc11c\ub294 \uc548\ub418\ub294\uc9c0)\ub97c \uc8fc\uace0 \uc791\uc5c5\uc744 \uc218\ud589\ud558\ub3c4\ub85d \uac00\ub974\uce58\ub294 \uac83\n",
      "\n",
      "### \ud2b9\uc815 \uc8fc\uc81c\uc640 \uad00\ub828 \ud3f4\ub354\ub85c \uc62e\uae30\ub294 \uc77c\n",
      "\n",
      "- \uba38\ub9bf\uc18d\uc5d0 \uc788\ub294 \uaddc\uce59\uc744 \ub9cc\ub4e4\uc5b4 \uc801\ub294 \uac83\n",
      "- \uc774\ub7f0 \uc791\uc5c5\uc740 \ub9e4\uc6b0 \ubc88\uac70\ub85c\uc6b0\uba70, \uadf8 \uacb0\uacfc \ub610\ud55c \uc5b8\uc81c\ub098 \uc644\ubcbd\ud558\uc9c4 \ubabb\ud558\ub2e4\n",
      "- \uc77c\ubd80 \uaddc\uce59\uc744 \ube60\ub728\ub9ac\uac70\ub098 \ud544\uc694 \uc774\uc0c1\uc73c\ub85c \uc9c4\ud589\ud560 \uc218\ub3c4 \uc788\uc74c\n",
      "\n",
      "### \uc880 \ub354 \uacbd\uc7c1\ub825 \uc788\ub294 \ubc29\ubc95\n",
      "\n",
      "- \uc774\uba54\uc77c\uc758 \uba54\ud0c0 \uc815\ubcf4\uc640 \ub0b4\uc6a9/\ud3f4\ub354 \uc774\ub984\uc73c\ub85c \uc9dd \uc9c0\uc6b0\uace0\n",
      "- \ud55c\ud3b8\uc73c\ub85c \uc54c\uace0\ub9ac\uc998\uc744 \ud1b5\ud574 \ucd5c\uc801\uc758 \uaddc\uce59\uc744 \ucc3e\uc544\ub0b4\ub294 \uacfc\uc815\uc744 \uc790\ub3d9\ud654\ud558\ub294 \uac83\n",
      "- \uc774 \uc9dd\ub4e4\uc740 \ud6c8\ub828 \ub370\uc774\ud130\uac00 \ub418\uace0, \uc54c\uace0\ub9ac\uc998\uc758 \uacb0\uacfc\uc778 \uaddc\uce59 \uc9d1\ud569(\ubaa8\ub378)\uc744 \uc55e\uc73c\ub85c \ubd84\ub958\ud560 \uc774\uba54\uc77c\uc5d0 \uc801\uc6a9\n",
      "\n",
      "\n",
      "### \uc131\uacf5 \uc6d0\uc778\n",
      "\n",
      "- \uae30\uacc4\ud559\uc2b5(data mining, predictive analysis) \uc790\uccb4\uac00 \uc0c8\ub85c\uc6b4 \uc601\uc5ed\uc740 \uc544\ub2d8\n",
      "- \ud1b5\uacc4\ud559\uac19\uc740 \uc131\uacf5\uc801\uc778 \ubd84\uc57c\uc5d0\uc11c \uc5bb\uc740 \ud1b5\ucc30\ub825\uacfc \uac15\ub825\ud55c \uae30\uc220\uc744 \uc0ac\uc6a9\ud55c \uc2e4\uc6a9\uc801\uc778 \ud65c\uc6a9 \ubc29\uc2dd \ub355\ubd84\uc77c \uac83\n",
      "- **\uc8fc\uc5b4\uc9c4 \ud328\ud134**\uc774\ub098 **\uad00\uacc4\uc5d0 \ub300\ud55c \ud559\uc2b5**\uc73c\ub85c **\ub370\uc774\ud130\uc5d0\uc11c \ud1b5\ucc30\ub825\uc744 \uc5bb\ub294 \uac83**\uc774 \ud1b5\uacc4\uc758 \ubaa9\uc801\n",
      "- \uae30\uacc4 \ud559\uc2b5 \uc804\ubb38\uac00\ub4e4\uc758 \uacf5\ud1b5\ub41c \ubd84\uc57c\uac00 **\uc751\uc6a9 \ud1b5\uacc4**\n",
      "\n",
      "\n",
      "- \uc77c\ubc18\uc801\uc778 ML \uacfc\uc815\uc740 \uacb0\ucf54 waterfall \uacfc\uc815\uc744 \ub530\ub974\uc9c0 \uc54a\uc74c\n",
      "- \ubd84\uc11d \uc2dc \uc55e\ub4a4 \ub2e8\uacc4\ub97c \uc624\uac00\uba70 \ub2e4\uc591\ud55c ML \uc54c\uace0\ub9ac\uc998\uc5d0 \uc5ec\ub7ec \ubc84\uc804\uc758 \uc785\ub825 \ub370\uc774\ud130\ub97c \uc801\uc6a9\ud574 \uc2dc\ub3c4\ud574\ubd04\n",
      "- \ud30c\uc774\uc36c\uc758 \ud0d0\ud5d8\uc801 \ucc9c\uc131\uacfc \uc798 \ubd80\ud569\ub428\n",
      "- \uc815\uc801 \ud0c0\uc785 \uc5b8\uc5b4\ubcf4\ub2e4\ub294 \ub290\ub9ac\uc9c0\ub9cc \uc218 \ub9ce\uc740 C \uc5b8\uc5b4 \uae30\ubc18\uc758 \uc0ac\uc6a9\ud558\uae30 \uc26c\uc6b4 \ub77c\uc774\ube0c\ub7ec\ub9ac\uac00 \uc788\uc5b4, agility\ub97c \uc704\ud574 \uc2e4\ud589 \uc18d\ub3c4\ub97c \ud76c\uc0dd\ud560 \ud544\uc694\uac00 \uc5c6\uc74c"
     ]
    },
    {
     "cell_type": "markdown",
     "metadata": {},
     "source": [
      "## \uc774 \ucc45\uc774 \uc54c\ub824\uc8fc\ub294 \ub0b4\uc6a9(\uacfc \uc54c\ub824\uc8fc\uc9c0 \uc54a\ub294 \ub0b4\uc6a9)\n",
      "\n",
      "- \uc5ec\ub7ec \uc885\ub958\uc758 \uae30\uacc4 \ud559\uc2b5 \uc54c\uace0\ub9ac\uc998\uc744 \uac1c\uad04\ud574 \ubcf4\uc5ec\uc8fc\uace0, \uc774\ub97c \uc801\uc6a9\ud560 \ub54c\uc758 \uc8fc\uc758\uc810\uc744 \uc54c\ub824\uc8fc\uace0\uc790 \ud568\n",
      "- \ud558\uc9c0\ub9cc \uacbd\ud5d8\uc0c1, support vector machine \uc774\ub098 nearest neighbor search, \uc774\ub4e4\uc744 \uc774\uc6a9\ud55c ensemble \ub4f1 \ub9e4\ub825\uc801\uc778 \uae30\uacc4\ud559\uc2b5 \uc54c\uace0\ub9ac\uc998\uc744 \uc0ac\uc6a9\ud558\ub294 \uc77c\uc740 \ud6cc\ub96d\ud55c \uae30\uacc4 \ud559\uc2b5 \uc804\ubb38\uac00\uc5d0\uac8c \uc788\uc5b4 \uc804\uccb4 \uacfc\uc815 \uc911 \ub9e4\uc6b0 \uc801\uc740 \uc2dc\uac04\uc744 \uc18c\ubaa8\n",
      "\n",
      "### Workflow\n",
      "\n",
      "1. \ub370\uc774\ud130 \uc77d\uae30\uc640 \uc815\ub9ac\n",
      "2. \uc785\ub825 \ub370\uc774\ud130\uc758 \ud0d0\uad6c\uc640 \uc774\ud574\n",
      "3. \uae30\uacc4 \ud559\uc2b5 \uc54c\uace0\ub9ac\uc998\uc744 \uc704\ud574 \uc5b4\ub5bb\uac8c \ucd5c\uc801\uc73c\ub85c \ub370\uc774\ud130\ub97c \ub098\ud0c0\ub0bc\uc9c0\uc5d0 \ub300\ud55c \ubd84\uc11d\n",
      "4. \uc801\uc808\ud55c \ubaa8\ub378\uacfc \ud559\uc2b5 \uc54c\uace0\ub9ac\uc998 \uc120\ud0dd\n",
      "5. \uc218\ud589 \uc815\ud655\ub3c4 \uce21\uc815\n",
      "\n",
      "\n",
      "- \uc785\ub825 \ub370\uc774\ud130\uc758 \ud0d0\uad6c\uc640 \uc774\ud574\ub97c \uc774\uc57c\uae30 \ud560 \ub54c\ub294 **\ud1b5\uacc4**\uc640 **\uae30\ubcf8\uc801\uc778 \uc218\ud559** \uc9c0\uc2dd\uc774 \ub2e4\uc18c \ud544\uc694\n",
      "- \uc218\ud559 \uc218\uc5c5\uc2dc\uac04\uc5d0 \uc7ac\ubbf8\uc5c6\uc5b4 \ubcf4\uc600\ub358 \uc8fc\uc81c\ub4e4\uc774 \uc801\uc6a9\ub41c \ud765\ubbf8\ub85c\uc6b4 \ub370\uc774\ud130\ub97c \ubcfc \ub54c\ub294 \uae30\ub300\uac10\n",
      "- \ub370\uc774\ud130\ub97c \uc77d\uc73c\uba74\uc11c \uc5ec\uc815\uc740 \uc2dc\uc791 \ub428\n",
      "- \ud615\uc2dd\uc774 \uc798\ubabb\ub418\uac70\ub098 \ubd84\uc11d\ub41c \uac12\uc744 \ucc98\ub9ac\ud558\ub294 \uc8fc\uc81c\uc5d0 \uc9c1\uba74\ud560 \ub54c\uba74 \uc815\ubc00\ud55c \uacfc\ud559\uc774\ub77c\uae30\ubcf4\ub2e4\ub294 \uae30\uc220\uc5d0 \uac00\uae5d\ub2e4\uace0 \uc0dd\uac01\ud560\uc9c0 \ubaa8\ub974\uc9c0\ub9cc, \ub9e4\uc6b0 \ubcf4\uc0c1\uc801\uc778 \uc791\uc5c5\uc73c\ub85c \uc774 \uacfc\uc815\uc744 \uc798 \uc801\uc808\ud788 \uc798 \ucc98\ub9ac\ud558\uba74 \ub354 \ub9ce\uc740 \uae30\uacc4 \ud559\uc2b5 \uc54c\uace0\ub9ac\uc998\uc5d0 \uc801\uc6a9\ud560 \uc218 \uc788\uace0 \uadf8 \uc131\uacf5 \uac00\ub2a5\uc131\ub3c4 \ub192\uc544\uc9d0\n",
      "- \ud504\ub85c\uadf8\ub7a8\uc758 \ub370\uc774\ud130 \uad6c\uc870\uc5d0\uc11c \uc0ac\uc6a9\ud560 \uc218 \uc788\ub294 \ub370\uc774\ud130\uac00 \uc900\ube44\ub418\uba74, \ub0b4\uac00 \ub2e4\ub8e8\uace0 \uc788\ub294 \ub370\uc774\ud130\uc5d0 \ub300\ud574 \uc798 \uc54c\uace0 \uc2f6\uc5b4\uc9d0\n",
      "- \uc9c8\ubb38\uc5d0 \ub300\ub2f5\ud560 \uc218 \uc788\uc744\ub9cc\ud07c \ucda9\ubd84\ud55c \ub370\uc774\ud130\uac00 \uc788\ub294\uac00? \uadf8\ub807\uc9c0 \uc54a\ub2e4\uba74 \ucd94\uac00\ub85c \ub354 \ub9ce\uc740 \ub370\uc774\ud130\ub97c \uc5bb\uae30 \uc704\ud55c \ubc29\ubc95\uc744 \uc0dd\uac01\ud560 \uc218 \uc788\uc74c\n",
      "- \ub370\uc774\ud130\uac00 \ub108\ubb34 \ub9ce\uc740\uac74 \uc544\ub2cc\uac00? \uc774\ub7f4 \ub54c\ub294 \ub370\uc774\ud130\uc5d0\uc11c \ucd5c\ub300\ud55c \uc801\ud569\ud55c \uc0d8\ud50c\uc744 \ucd94\ucd9c\ud558\uace0\uc790 \uace0\ubbfc\ud558\uac8c \ub428\n",
      "\n",
      "\n",
      "- \uae30\uacc4 \ud559\uc2b5 \uc54c\uace0\ub9ac\uc998\uc5d0 \ub370\uc774\ud130\ub97c \uadf8\ub300\ub85c \uc801\uc6a9\ud560 \uc218 \uc5c6\ub294 \uacbd\uc6b0\ub3c4 \uc788\uc74c\n",
      "- \ub300\uc2e0 \ud6c8\ub828\ud558\uae30 \uc804\uc5d0 \ub370\uc774\ud130\uc758 \uc77c\ubd80\ubd84\uc744 \uac1c\uc120\ud560 \uc218 \uc788\uc74c\n",
      "- \ub9ce\uc740 \uacbd\uc6b0, \uae30\uacc4\ud559\uc2b5 \uc54c\uace0\ub9ac\uc998\uc740 \ub354 \ub098\uc740 \uc218\ud589 \uacb0\uacfc\ub85c \ubcf4\uc0c1\ud568\n",
      "- \uc2ec\uc9c0\uc5b4 \uac1c\uc120\ub41c \ub370\uc774\ud130\ub97c \uc0ac\uc6a9\ud558\ub294 \ub2e8\uc21c\ud55c \uc54c\uace0\ub9ac\uc998\uc740 raw \ub370\uc774\ud130\ub97c \uadf8\ub300\ub85c \uc0ac\uc6a9\ud558\ub294 \uc138\ub828\ub41c \uc54c\uace0\ub9ac\uc998\ubcf4\ub2e4 \ub098\uc740 \uacb0\uacfc\ub97c \ub0b3\uc74c\n",
      "- \uae30\uacc4 \ud559\uc2b5 \uc791\uc5c5 \ud750\ub984\uc5d0\uc11c \uc774 \uacfc\uc815\uc744 \uc18d\uc131 \uc5d4\uc9c0\ub2c8\uc5b4\ub9c1(feature engineering)\uc774\ub77c\uace0 \ud558\uba70, \ub9e4\uc6b0 \ud765\ubbf8\ub86d\uace0 \ubcf4\ub2f5\uc801\uc778 \ub3c4\uc804\uacfc\uc81c\n",
      "- \uacb0\uacfc\ub97c \ubc14\ub85c \ud655\uc778\ud560 \uc218 \uc788\uc74c\n",
      "- \uc801\uc808\ud55c \uc54c\uace0\ub9ac\uc998\uc744 \uc120\ud0dd\ud558\ub294 \uc77c\uc740 \ud234\ubc15\uc2a4\uc5d0 \uc788\ub294 \ub3c4\uad6c \uc11c\ub108 \uac1c\ub97c \uace0\ub974\ub294 \uc77c\uacfc\ub294 \ub2e4\ub974\ub2e4(\ud234\ubc15\uc2a4\uc5d0 \ub354 \ub9ce\uc740 \uc54c\uace0\ub9ac\uc998\uc774 \uc788\uc744 \uc218 \uc788\uc74c)\n",
      "- \uc774\ub294 **\uae30\ub2a5\uc801 \uc694\uad6c\uc0ac\ud56d**\uacfc **\ub2e4\ub978 \uc218\ud589\uc5d0 \uac00\uc911\uce58**\ub97c \uc8fc\uc5b4\uc57c \ud558\ub294 \ub9e4\uc6b0 \uc2e0\uc911\ud55c \uacfc\uc815\n",
      "- \ube60\ub978 \uacb0\uacfc\ub97c \uc5bb\uace0\uc790 \uae30\uaebc\uc774 \ud488\uc9c8\uc744 \ud3ec\uae30\ud574\uc57c \ud558\ub294\uac00?\n",
      "- \ucd5c\uc801\uc758 \uacb0\uacfc\ub97c \uc5bb\uae30 \uc704\ud574 \uc2dc\uac04\uc744 \uc880 \ub354 \uc18c\ubaa8\ud574\uc57c \ud558\ub294\uac00?\n",
      "- \uc55e\uc73c\ub85c\uc758 \ub370\uc774\ud130\uc5d0 \ub300\ud574 \uc120\uba85\ud55c \uc0dd\uac01\uc774 \uc788\ub294\uac00? \uc544\ub2c8\uba74 \ub2e4\ub978 \ucabd\uc5d0\uc11c \uc880 \ub354 \uc2e0\uc911\ud574\uc57c \ud558\ub294\uac00?\n",
      "\n",
      "\n",
      "- \uc131\ub2a5 \uce21\uc815 \ub2e8\uacc4\uc5d0\uc11c \ud070 \ud3ec\ubd80\ub97c \uc9c0\ub2cc ML \ud559\uc2b5\uc790\uac00 \ub300\ubd80\ubd84\uc758 \uc2e4\uc218\ub97c \uc800\uc9c0\ub984\n",
      "- \ud6c8\ub828\uc5d0 \uc0ac\uc6a9\ud588\ub358 \ub370\uc774\ud130\ub85c \uc811\uadfc\ubc95\uc744 \ud14c\uc2a4\ud2b8\ud558\ub294 \ub2e8\uc21c\ud55c \ubc29\ubc95\uc774 \uc788\uace0, \uc774\ubcf4\ub2e4 \ubcf5\uc7a1\ud558\uac8c, \uc774\ub97c\ud14c\uba74 \ubd88\uade0\ud615\ud55c \ud6c8\ub828 \ub370\uc774\ud130\ub85c \uc811\uadfc\ubc95\uc744 \ud14c\uc2a4\ud2b8 \ud560 \uc218\ub3c4 \uc788\uc74c\n",
      "- \ub2e4\uc2dc \ud55c \ubc88 \ub9d0\ud558\uc9c0\ub9cc, **\ub370\uc774\ud130\ub294 \ud504\ub85c\uc81d\ud2b8\uc758 \uc131\ud328\ub97c \uc88c\uc6b0** \ud568\n",
      "\n",
      "\n",
      "- \uc720\uc77c\ud558\uac8c \ub124\ubc88\uc9f8 \uacfc\uc815\uc5d0\uc11c\ub9cc **\uc815\uad50\ud55c \uc54c\uace0\ub9ac\uc998**\uc744 \ub2e4\ub8f8\n",
      "- \uc54c\uace0\ub9ac\uc998\ubcf4\ub2e4 \ub354 \ud765\ubbf8\ub86d\uc9c4 \uc54a\uc744 \uc218\ub3c4 \uc788\uc9c0\ub9cc, \ub098\uba38\uc9c0 \ub124 \ub2e8\uacc4\ub3c4 \ub2e4 \uac19\uc774 \uc911\uc694\ud558\uba70 \ub2e8\uc21c\ud55c \ud5c8\ub4dc\ub81b\uc77c\uc774 \uc544\ub2c8\ub77c\ub294 \uc810\uc744 \uc774 \ucc45\uc744 \ud1b5\ud574 \uc778\uc2dd\ud558\uae38 \ubc14\ub78c\n",
      "- \ud559\uc2b5 \uc54c\uace0\ub9ac\uc998 \ub300\uc2e0 **\ub370\uc774\ud130\uc640 \uc0ac\ub791**\uc5d0 \ube60\uc9c0\uae38 \ub610\ud55c \ubc14\ub78c\n",
      "\n",
      "\n",
      "- \uae30\uc874\uc758 \ucc45\ub4e4\uc774 \ub2e4\uc591\ud55c \ud559\uc2b5 \uc54c\uace0\ub9ac\uc998\uc758 \uc774\ub860\uc801 \uce21\uba74\uc744 \uac15\uc870\ud558\ub294 \uac83\uacfc\ub294 \ub2ec\ub9ac, \uc5ec\uae30\uc11c\ub294 \uac01 \uc7a5\ub9c8\ub2e4 \uadfc\ubcf8\uc801\uc778 \uc811\uadfc\ubc95\uc5d0 \ub300\ud55c \uc9c1\uad00\ub825\uc744 \ub192\uc774\uace0\uc790 \ud568\n",
      "- \uc774 \ucc45\uc740 \uae30\uacc4 \ud559\uc2b5\uc758 '\ucd5c\uc885 \uac00\uc774\ub4dc'\uac00 \uacb0\ucf54 \uc544\ub2cc **\ucd08\ubcf4\uc790\uc6a9 \ud0b7**\uc5d0 \uac00\uae5d\ub2e4"
     ]
    },
    {
     "cell_type": "markdown",
     "metadata": {},
     "source": [
      "## \uc815\uccb4\ub410\uc744 \ub54c \ud574\uc57c \ud560 \uc791\uc5c5\n",
      "\n",
      "- http://metaoptimize.com/qa: \uae30\uacc4 \ud559\uc2b5 \uc8fc\uc81c\uc5d0 \uc9d1\uc911\ub41c Q&A \uc0ac\uc774\ud2b8. \ub300\ubd80\ubd84\uc758 \uc9c8\ubb38\uc5d0 \uae30\uacc4 \ud559\uc2b5 \uc804\ubb38\uac00\uac00 \ud3c9\uade0 \uc774\uc0c1\uc758 \ub2f5\ubcc0\uc744 \ud568. \ud2b9\ubcc4\ud55c \uc9c8\ubb38\uc774 \uc5c6\ub354\ub77c\ub3c4 \uc218\uc2dc\ub85c \ubc29\ubb38\ud574 \uc9c8\ubb38\uacfc \ub2f5\ubcc0\uc744 \ud655\uc778\ud574\ub450\uba74 \uc88b\ub2e4\n",
      "- http://stat.sstackexchange.com: Q&A \uc0ac\uc774\ud2b8. 'Cross Validated'\uc5d0\uc11c \uc774\ub984\uc744 \ub530\uc654\uc9c0\ub9cc MetaOptimized\uc640 \uc720\uc0ac\ud568. \uadf8\ub7ec\ub098 \ud1b5\uacc4 \ubb38\uc81c\uc5d0 \ub354 \uc9d1\uc911\n",
      "- http://stackoverflow.com: \uc774\uc804 \uc0ac\uc774\ud2b8\ub4e4\uacfc \uc720\uc0ac\ud55c Q&A \uc0ac\uc774\ud2b8\uc9c0\ub9cc \uc77c\ubc18\uc801\uc778 \ud504\ub85c\uadf8\ub798\ubc0d \uc8fc\uc81c\uc5d0 \ub113\uac8c \uc9d1\uc911\ub418\uc5b4 \uc788\uc74c. \uc608\ub97c \ub4e4\uc5b4, \ucc45\uc5d0\uc11c \uc0ac\uc6a9\ub418\ub294 SciPy, Matplotlib \uac19\uc740 \ud328\ud0a4\uc9c0\uc5d0 \uad00\ud55c \uc9c8\ubb38\uc774 \ub354 \ub9ce\uc774 \ud3ec\ud568\ub428\n",
      "- Freenode\uc758 #machinelearning: IRC \ucc44\ub110, \uae30\uacc4\ud559\uc2b5 \uc8fc\uc81c\ub97c \uc911\uc810\uc801\uc73c\ub85c \ub2e4\ub8f8. \uae30\uacc4 \ud559\uc2b5 \uc804\ubb38\uac00\ub4e4\uc758 \uc791\uc9c0\ub9cc \ub9e4\uc6b0 \ud65c\ubc1c\ud558\uace0 \uc720\uc775\ud55c \ucee4\ubba4\ub2c8\ud2f0\n",
      "- http://www.TwoToReal.com: \uc704 \uc0ac\uc774\ud2b8\ub4e4\uc5d0 \uc801\ub2f9\ud558\uc9c0 \uc54a\uc740 \uc8fc\uc81c\ub97c \uc704\ud574 \ub0b4\uac00 \uc9c0\uc6d0\u3134\ud558\ub294 \uc778\uc2a4\ud134\uc2a4 Q&A \uc0ac\uc774\ud2b8. \uc9c8\ubb38\uc744 \uc62c\ub9b4 \uacbd\uc6b0 \ub098\uc5d0\uac8c \uc778\uc2a4\ud134\uc2a4 \uba54\uc2dc\uc9c0\uac00 \uc624\uace0, \uc628\ub77c\uc778\uc5d0 \uc788\ub2e4\uba74 \uc9c8\ubb38\uc790\uc640 \uc774\uc57c\uae30\ub97c \ud560 \uc218 \uc788\uc74c\n",
      "\n",
      "\n",
      "- \uc790\uc2e0\ub9cc\uc758 \uae30\uacc4 \ud559\uc2b5 \uad00\ub828 \ube0c\ub85c\uadf8\ub098 \uae30\uc0ac \ub9ac\uc2a4\ud2b8\ub97c \ub9cc\ub4e4\uc5b4 \uc8fc\uae30\uc801\uc73c\ub85c \uc77d\ub294 \ubc29\ubc95\uc744 \ucd94\ucc9c\ud568\n",
      "- \uc774\ub294 \ubb34\uc5c7\uc774 \ud6a8\uacfc\uc801\uc778\uc9c0 \uc544\ub2cc\uc9c0 \uc54c \uc218 \uc788\ub294 \uac00\uc7a5 \uc88b\uc740 \ubc29\ubc95\n",
      "- [Kaggle](http://blog.kaggle.com) \uc744 \uac00\uc7a5 \uac15\uc870\ud558\uace0 \uc2f6\uc74c. \ubcf4\ud1b5 \uacbd\uc5f0 \ub300\ud68c\uc5d0\uc11c \uc6b0\uc2b9\ud55c \ud300\uc740 \uadf8\ub4e4\uc774 \ubb38\uc81c\uc5d0 \uc5b4\ub5bb\uac8c \uc811\uadfc\ud588\ub294\uc9c0, \uc5b4\ub5a4 \uac83\uc774 \uc81c\ub300\ub85c \uc791\ub3d9\ud558\uc9c0 \uc54a\uc558\ub294\uc9c0, \uc5b4\ub5a4 \uc804\ub7b5\uc73c\ub85c \uc2b9\ub9ac\ud560 \uc218 \uc788\uc5c8\ub294\uc9c0\ub97c \uc801\uace0 \uc788\uc74c. \ub2e4\ub978 \uc5b4\ub5a4 \uc790\ub8cc\ub3c4 \ubcf4\uc9c0 \uc54a\ub294\ub2e4\uba74 \uc774 \uc0ac\uc774\ud2b8\ub9cc\uc740 \ud544\uc218"
     ]
    },
    {
     "cell_type": "markdown",
     "metadata": {},
     "source": [
      "## \uc2dc\uc791\n",
      "\n",
      "- \ud30c\uc774\uc36c \uc124\uce58\n",
      "- \uc218\uce58 \uc5f0\uc0b0\uc744 \uc704\ud55c NumPy, SciPy\uc640 \uc2dc\uac01\ud654\ub97c \uc704\ud55c Matplotlib\uc744 \uc124\uce58\n",
      "\n",
      "### NumPy, SciPy, Matplotlib \uc18c\uac1c\n",
      "\n",
      "- \uc6b0\uc120 \uc5b4\ub5bb\uac8c \ub370\uc774\ud130\ub97c \uac00\uc7a5 \uc0ac\uc6a9\ud558\uae30 \uc88b\uac8c \uc800\uc7a5\ud560\uc9c0?\n",
      "- \ub370\uc774\ud130\uc5d0 \uc811\uadfc\ud558\ub294 \ub370 \ub108\ubb34 \ub290\ub9ac\ub2e4\ub294 \uc810\uc774 \uc774\uc720\uc77c \uc218\ub3c4 \uc788\uace0, \ub370\uc774\ud130 \ud45c\ud604\uc774 \uc6b4\uc601\uccb4\uc81c\ub97c \ud558\ub8e8 \uc885\uc77c \ubc14\uafb8\uac8c \ud560 \uc218\ub3c4 \uc788\uae30 \ub54c\ubb38\n",
      "- \ud30c\uc774\uc36c \uc7a5\uc810\n",
      "  - \ud30c\uc774\uc36c\uc5d0\uc11c \uc218\uce58 \ubb49\uce58 \uc791\uc5c5\uc744 C\uc5b8\uc5b4\ub098 \ud3ec\ud2b8\ub780\uc73c\ub85c extension \ud55c \ud615\ud0dc\uc778 \uc544\ub798 \ub808\uc774\uc5b4\ub85c \ub118\uae30\ub294 \uc77c\uc740 \ub9e4\uc6b0 \uc26c\uc6c0\n",
      "  - \uc774\uc640 \ub354\ubd88\uc5b4, NumPy\ub294 \uac00\uc7a5 \ucd5c\uc2e0 \uc54c\uace0\ub9ac\uc998\uc758 \uae30\ubcf8 \ub370\uc774\ud130 \uad6c\uc870\uc778 \ub2e4\ucc28\uc6d0 \ubc30\uc5f4\uc744 **\ucd5c\uc801\ud654** \ud560 \uc218 \uc788\ub3c4\ub85d \uc9c0\uc6d0\ud568\n",
      "  - SciPy\ub294 \uc774\ub7ec\ud55c \ubc30\uc5f4\uc744 \uc0ac\uc6a9\ud574 \ube60\ub978 \uc218\uce58 \uc5f0\uc0b0 \uae30\ub2a5\uc744 \uc81c\uacf5\n",
      "  - \ub9c8\uc9c0\ub9c9\uc73c\ub85c, Matplotlib(http://matplotlib.org)\uc740 \ud30c\uc774\uc36c\uc744 \uc0ac\uc6a9\ud574 \ub192\uc740 \ud488\uc9c8\uc758 \uadf8\ub798\ud504\ub97c \uadf8\ub9b4 \uc218 \uc788\ub294 \uac00\uc7a5 \ud3b8\ub9ac\ud55c \ub2e4\uae30\ub2a5 \ub77c\uc774\ube0c\ub7ec\ub9ac\n",
      "  \n",
      "### NumPy\uc640 \ud6a8\uacfc\uc801\uc73c\ub85c, SciPy\uc640 \uc9c0\ub2a5\uc801\uc73c\ub85c \uc801\uc6a9\ud558\uae30 \uc26c\uc6b4 \ub370\uc774\ud130 \ub9cc\ub4e4\uae30\n",
      "\n",
      "- \ub354 \ud765\ubbf8\ub85c\uc6b4 NumPy \uc608\uc81c\ub294 http://www.scipy.org/Tentative_NumPy_tutorial \uc5d0\uc11c \ubcfc \uc218 \uc788\uc74c\n",
      "- NumPy Beginner's Guide \ub3c4 \uc0c1\ub2f9\ud788 \ub9ce\uc740 \ub3c4\uc6c0\n",
      "- \ucd94\uac00\uc801\uc778 \ud29c\ud1a0\ub9ac\uc5bc \uc2a4\ud0c0\uc77c \uac00\uc774\ub4dc http://scippy-lectures.github.com\n",
      "- SciPy \uacf5\uc2dd \ud29c\ud1a0\ub9ac\uc5bc\uc740 http://docs.scipy.org/doc/scipy/reference/tutorial \uc5d0\uc11c \ubc1b\uc744 \uc218 \uc788\uc74c"
     ]
    },
    {
     "cell_type": "markdown",
     "metadata": {},
     "source": [
      "### NumPy \ubc30\uc6b0\uae30"
     ]
    },
    {
     "cell_type": "code",
     "collapsed": false,
     "input": [
      "import numpy as np"
     ],
     "language": "python",
     "metadata": {},
     "outputs": [],
     "prompt_number": 1
    },
    {
     "cell_type": "code",
     "collapsed": false,
     "input": [
      "np.version.full_version"
     ],
     "language": "python",
     "metadata": {},
     "outputs": [
      {
       "metadata": {},
       "output_type": "pyout",
       "prompt_number": 2,
       "text": [
        "'1.9.1'"
       ]
      }
     ],
     "prompt_number": 2
    },
    {
     "cell_type": "markdown",
     "metadata": {},
     "source": [
      "> from numpy import *\n",
      "\n",
      "- \uc640 \uac19\uc774\ub294 \uc0ac\uc6a9\ud558\uc9c0 \ub9d0\uc790. namespace\uac00 \uc11e\uc5ec\uc11c \uc54c\uc544\ubcf4\uae30 \uc5b4\ub835\ub2e4.\n",
      "\n",
      "\n",
      "- numpy.array\uc758 array\ub294 \ud30c\uc774\uc36c\uc758 \ud45c\uc900 array \ud328\ud0a4\uc9c0\ub97c \uc7a0\uc815\uc801\uc73c\ub85c \uac00\ub9b4 \uc218 \uc788\uae30 \ub54c\ubb38\uc5d0 \ub2e4\uc74c\uacfc \uac19\uc774 \uc0ac\uc6a9\ud558\uc790"
     ]
    },
    {
     "cell_type": "code",
     "collapsed": false,
     "input": [
      "import numpy as np\n",
      "a = np.array([0,1,2,3,4,5])\n",
      "a"
     ],
     "language": "python",
     "metadata": {},
     "outputs": [
      {
       "metadata": {},
       "output_type": "pyout",
       "prompt_number": 5,
       "text": [
        "array([0, 1, 2, 3, 4, 5])"
       ]
      }
     ],
     "prompt_number": 5
    },
    {
     "cell_type": "code",
     "collapsed": false,
     "input": [
      "a.ndim"
     ],
     "language": "python",
     "metadata": {},
     "outputs": [
      {
       "metadata": {},
       "output_type": "pyout",
       "prompt_number": 6,
       "text": [
        "1"
       ]
      }
     ],
     "prompt_number": 6
    },
    {
     "cell_type": "code",
     "collapsed": false,
     "input": [
      "a.shape"
     ],
     "language": "python",
     "metadata": {},
     "outputs": [
      {
       "metadata": {},
       "output_type": "pyout",
       "prompt_number": 7,
       "text": [
        "(6,)"
       ]
      }
     ],
     "prompt_number": 7
    },
    {
     "cell_type": "markdown",
     "metadata": {},
     "source": [
      "- \ud30c\uc774\uc36c\uc5d0\uc11c \ub9ac\uc2a4\ud2b8\ub97c \ub9cc\ub4dc\ub294 \ubc29\ubc95\uacfc \uc720\uc0ac\ud558\uac8c array \uc744 \ub9cc\ub4e4\uc5c8\ub2e4. \uadf8\ub7ec\ub098 NumPy\uc758 \ubc30\uc5f4\uc740 shape \uac19\uc740 \ucd94\uac00\uc801\uc778 \uc815\ubcf4\ub97c \uac16\uace0 \uc788\uc74c\n",
      "- \uc774 \uacbd\uc6b0 6\uac1c \uc6d0\uc18c\uc758 1\ucc28\uc6d0 \ubc30\uc5f4\uc784\n",
      "- \uc774\uc81c \uc774 \ubc30\uc5f4\uc744 2\ucc28\uc6d0 maxtrix(\ud589\ub82c)\ub85c \ubcc0\ud615\ud574\ubcf4\uc790"
     ]
    },
    {
     "cell_type": "code",
     "collapsed": false,
     "input": [
      "b = a.reshape(3, 2)\n",
      "b"
     ],
     "language": "python",
     "metadata": {},
     "outputs": [
      {
       "metadata": {},
       "output_type": "pyout",
       "prompt_number": 8,
       "text": [
        "array([[0, 1],\n",
        "       [2, 3],\n",
        "       [4, 5]])"
       ]
      }
     ],
     "prompt_number": 8
    },
    {
     "cell_type": "code",
     "collapsed": false,
     "input": [
      "b.ndim"
     ],
     "language": "python",
     "metadata": {},
     "outputs": [
      {
       "metadata": {},
       "output_type": "pyout",
       "prompt_number": 9,
       "text": [
        "2"
       ]
      }
     ],
     "prompt_number": 9
    },
    {
     "cell_type": "code",
     "collapsed": false,
     "input": [
      "b.shape"
     ],
     "language": "python",
     "metadata": {},
     "outputs": [
      {
       "metadata": {},
       "output_type": "pyout",
       "prompt_number": 10,
       "text": [
        "(3, 2)"
       ]
      }
     ],
     "prompt_number": 10
    },
    {
     "cell_type": "markdown",
     "metadata": {},
     "source": [
      "- NumPy \ud328\ud0a4\uc9c0\ub97c \uc5bc\ub9c8\ub098 \ucd5c\uc801\ud654\ud558\ub824\uace0 \ud588\uc5c8\ub294\uc9c0\ub97c \uc54c\uac8c\ub418\uba74 \uc7ac\ubbf8\uc788\ub2e4. \uc608\ub97c\ub4e4\uba74 \uac00\ub2a5\ud558\uba74 \ubcf5\uc0ac\ub97c \ud53c\ud558\ub3c4\ub85d \ub418\uc5b4 \uc788\ub2e4"
     ]
    },
    {
     "cell_type": "code",
     "collapsed": false,
     "input": [
      "b[1][0] = 77\n",
      "b"
     ],
     "language": "python",
     "metadata": {},
     "outputs": [
      {
       "metadata": {},
       "output_type": "pyout",
       "prompt_number": 11,
       "text": [
        "array([[ 0,  1],\n",
        "       [77,  3],\n",
        "       [ 4,  5]])"
       ]
      }
     ],
     "prompt_number": 11
    },
    {
     "cell_type": "code",
     "collapsed": false,
     "input": [
      "a"
     ],
     "language": "python",
     "metadata": {},
     "outputs": [
      {
       "metadata": {},
       "output_type": "pyout",
       "prompt_number": 12,
       "text": [
        "array([ 0,  1, 77,  3,  4,  5])"
       ]
      }
     ],
     "prompt_number": 12
    },
    {
     "cell_type": "markdown",
     "metadata": {},
     "source": [
      "- \uc774 \uacbd\uc6b0, b\uc758 \uac12\uc744 2\uc5d0\uc11c 77\ub85c \ubcc0\uacbd\ud558\uace0 a\ub97c \ubcf4\uba74 a\uc758 \uac12\ub3c4 \ubc14\ub85c \ubc18\uc601\ub418\ub294 \uc0c1\ud669\uc744 \ubcfc \uc218 \uc788\ub2e4. true copy\uac00 \ud544\uc694\ud560 \ub54c\ub294 \ub300\ube44\ud574 \uc5fc\ub450\uc5d0 \ub450\uc790"
     ]
    },
    {
     "cell_type": "code",
     "collapsed": false,
     "input": [
      "c = a.reshape((3,2)).copy()\n",
      "c"
     ],
     "language": "python",
     "metadata": {},
     "outputs": [
      {
       "metadata": {},
       "output_type": "pyout",
       "prompt_number": 13,
       "text": [
        "array([[ 0,  1],\n",
        "       [77,  3],\n",
        "       [ 4,  5]])"
       ]
      }
     ],
     "prompt_number": 13
    },
    {
     "cell_type": "code",
     "collapsed": false,
     "input": [
      "c[0][0] = 99"
     ],
     "language": "python",
     "metadata": {},
     "outputs": [],
     "prompt_number": 14
    },
    {
     "cell_type": "code",
     "collapsed": false,
     "input": [
      "a"
     ],
     "language": "python",
     "metadata": {},
     "outputs": [
      {
       "metadata": {},
       "output_type": "pyout",
       "prompt_number": 15,
       "text": [
        "array([ 0,  1, 77,  3,  4,  5])"
       ]
      }
     ],
     "prompt_number": 15
    },
    {
     "cell_type": "code",
     "collapsed": false,
     "input": [
      "c"
     ],
     "language": "python",
     "metadata": {},
     "outputs": [
      {
       "metadata": {},
       "output_type": "pyout",
       "prompt_number": 16,
       "text": [
        "array([[99,  1],\n",
        "       [77,  3],\n",
        "       [ 4,  5]])"
       ]
      }
     ],
     "prompt_number": 16
    },
    {
     "cell_type": "markdown",
     "metadata": {},
     "source": [
      "- \uc5ec\uae30\uc11c c\ub294 a\ub85c\ubd80\ud130 \uc644\uc804\ud788 \ub3c5\ub9bd\uc801\uc73c\ub85c \ubcf5\uc0ac\ub410\uc74c\n",
      "- NumPy\uc758 \ubc30\uc5f4\uc774 \uc9c0\ub2cc \ub610\ub2e4\ub978 \uc7a5\uc810\uc740 \uc5f0\uc0b0\uc790\uac00 \uac1c\ubcc4 \uc6d0\uc18c\uc5d0 \uc804\ud30c\ub41c\ub2e4\ub294 \uc810"
     ]
    },
    {
     "cell_type": "code",
     "collapsed": false,
     "input": [
      "a * 2"
     ],
     "language": "python",
     "metadata": {},
     "outputs": [
      {
       "metadata": {},
       "output_type": "pyout",
       "prompt_number": 17,
       "text": [
        "array([  0,   2, 154,   6,   8,  10])"
       ]
      }
     ],
     "prompt_number": 17
    },
    {
     "cell_type": "code",
     "collapsed": false,
     "input": [
      "a ** 2"
     ],
     "language": "python",
     "metadata": {},
     "outputs": [
      {
       "metadata": {},
       "output_type": "pyout",
       "prompt_number": 18,
       "text": [
        "array([   0,    1, 5929,    9,   16,   25])"
       ]
      }
     ],
     "prompt_number": 18
    },
    {
     "cell_type": "code",
     "collapsed": false,
     "input": [
      "[1,2,3,4,5] * 2"
     ],
     "language": "python",
     "metadata": {},
     "outputs": [
      {
       "metadata": {},
       "output_type": "pyout",
       "prompt_number": 19,
       "text": [
        "[1, 2, 3, 4, 5, 1, 2, 3, 4, 5]"
       ]
      }
     ],
     "prompt_number": 19
    },
    {
     "cell_type": "code",
     "collapsed": false,
     "input": [
      "[1,2,3,4,5] ** 2"
     ],
     "language": "python",
     "metadata": {},
     "outputs": [
      {
       "ename": "TypeError",
       "evalue": "unsupported operand type(s) for ** or pow(): 'list' and 'int'",
       "output_type": "pyerr",
       "traceback": [
        "\u001b[0;31m---------------------------------------------------------------------------\u001b[0m\n\u001b[0;31mTypeError\u001b[0m                                 Traceback (most recent call last)",
        "\u001b[0;32m<ipython-input-20-2617e316bd48>\u001b[0m in \u001b[0;36m<module>\u001b[0;34m()\u001b[0m\n\u001b[0;32m----> 1\u001b[0;31m \u001b[0;34m[\u001b[0m\u001b[0;36m1\u001b[0m\u001b[0;34m,\u001b[0m\u001b[0;36m2\u001b[0m\u001b[0;34m,\u001b[0m\u001b[0;36m3\u001b[0m\u001b[0;34m,\u001b[0m\u001b[0;36m4\u001b[0m\u001b[0;34m,\u001b[0m\u001b[0;36m5\u001b[0m\u001b[0;34m]\u001b[0m \u001b[0;34m**\u001b[0m \u001b[0;36m2\u001b[0m\u001b[0;34m\u001b[0m\u001b[0m\n\u001b[0m",
        "\u001b[0;31mTypeError\u001b[0m: unsupported operand type(s) for ** or pow(): 'list' and 'int'"
       ]
      }
     ],
     "prompt_number": 20
    },
    {
     "cell_type": "markdown",
     "metadata": {},
     "source": [
      "- \ubb3c\ub860 NumPy\uc758 \ubc30\uc5f4\uc744 \uc0ac\uc6a9\ud558\uba74 \ud30c\uc774\uc36c \ub9ac\uc2a4\ud2b8\uac00 \uc81c\uacf5\ud558\ub294 \uae30\ubbfc\uc131\uc744 \ud3ec\uae30\ud574\uc57c \ud568\n",
      "- \ub2e8\uc21c\ud55c \ucd94\uac00\ub098 \uc0ad\uc81c\uac19\uc740 \uc5f0\uc0b0\uc740 NumPy\uc5d0\uac8c\ub294 \uc624\ud788\ub824 \ubcf5\uc7a1\ud560 \uc218 \uc788\uc74c\n",
      "- \uc6b4 \uc88b\uac8c\ub3c4, \ub450 \uae30\ub2a5 \uc911 \uac01 \uc0c1\ud669\uc5d0 \ub9de\uac8c \uc801\uc808\ud55c \uac83\uc744 \uc120\ud0dd\ud574\uc11c \uc544\uc6af\ub77c \uc218 \uc788\uc74c"
     ]
    },
    {
     "cell_type": "markdown",
     "metadata": {},
     "source": [
      "### \uc778\ub371\uc2f1\n",
      "\n",
      "- NumPy\uc758 \uc7a5\uc810\uc740 \ubc30\uc5f4\uc5d0 \uc811\uadfc\ud560 \uc218 \uc788\ub294 \ubc29\ubc95\uc774 \ub2e4\uc591\ud558\ub2e4\ub294 \uc810\n",
      "- \uc77c\ubc18\uc801\uc778 \ub9ac\uc2a4\ud2b8 \uc778\ub371\uc2f1\uacfc \ub354\ubd88\uc5b4 \uc0c9\uc778 \uc790\uccb4\ub85c\uc11c \uc0ac\uc6a9\uc774 \uac00\ub2a5\ud568"
     ]
    },
    {
     "cell_type": "code",
     "collapsed": false,
     "input": [
      "a[np.array([2,3,4])]"
     ],
     "language": "python",
     "metadata": {},
     "outputs": [
      {
       "metadata": {},
       "output_type": "pyout",
       "prompt_number": 21,
       "text": [
        "array([77,  3,  4])"
       ]
      }
     ],
     "prompt_number": 21
    },
    {
     "cell_type": "markdown",
     "metadata": {},
     "source": [
      "- \ub610\ud55c \uac01 \uc6d0\uc18c\uc5d0 condition\uc774 \uc804\ub2ec\ub418\ub294\ub370, \uc774\ub294 \ub370\uc774\ud130\uc5d0 \uc811\uadfc\ud558\ub294 \ub9e4\uc6b0 \ud3b8\ub9ac\ud55c \ubc29\ubc95"
     ]
    },
    {
     "cell_type": "code",
     "collapsed": false,
     "input": [
      "a > 4"
     ],
     "language": "python",
     "metadata": {},
     "outputs": [
      {
       "metadata": {},
       "output_type": "pyout",
       "prompt_number": 22,
       "text": [
        "array([False, False,  True, False, False,  True], dtype=bool)"
       ]
      }
     ],
     "prompt_number": 22
    },
    {
     "cell_type": "code",
     "collapsed": false,
     "input": [
      "a[a>4]"
     ],
     "language": "python",
     "metadata": {},
     "outputs": [
      {
       "metadata": {},
       "output_type": "pyout",
       "prompt_number": 23,
       "text": [
        "array([77,  5])"
       ]
      }
     ],
     "prompt_number": 23
    },
    {
     "cell_type": "markdown",
     "metadata": {},
     "source": [
      "- \uc870\uac74\uc5d0 \ub9de\uc9c0 \uc54a\ub294 \uac12(outlier)\uc744 \uc798\ub77c\ub0bc \uc218\ub3c4 \uc788\uc74c"
     ]
    },
    {
     "cell_type": "code",
     "collapsed": false,
     "input": [
      "a[a>4] = 4"
     ],
     "language": "python",
     "metadata": {},
     "outputs": [],
     "prompt_number": 24
    },
    {
     "cell_type": "code",
     "collapsed": false,
     "input": [
      "a"
     ],
     "language": "python",
     "metadata": {},
     "outputs": [
      {
       "metadata": {},
       "output_type": "pyout",
       "prompt_number": 25,
       "text": [
        "array([0, 1, 4, 3, 4, 4])"
       ]
      }
     ],
     "prompt_number": 25
    },
    {
     "cell_type": "markdown",
     "metadata": {},
     "source": [
      "- \uc774\uac83\uc740 \ube48\ubc88\ud55c \uc0ac\uc6a9 \uc608\uc774\uae30 \ub54c\ubb38\uc5d0, \ud2b9\ud55c clip \ud568\uc218\ub97c \uc0ac\uc6a9\ud574 \ub2e4\uc74c\uacfc \uac19\uc774 \uc591\ub05d\uc758 \ubc97\uc5b4\ub09c \uac12\uc744 \uc798\ub77c\ub0bc \uc218 \uc788\uc74c"
     ]
    },
    {
     "cell_type": "code",
     "collapsed": false,
     "input": [
      "a.clip(0, 4)"
     ],
     "language": "python",
     "metadata": {},
     "outputs": [
      {
       "metadata": {},
       "output_type": "pyout",
       "prompt_number": 27,
       "text": [
        "array([0, 1, 4, 3, 4, 4])"
       ]
      }
     ],
     "prompt_number": 27
    },
    {
     "cell_type": "code",
     "collapsed": false,
     "input": [
      "# 4\ubcf4\ub2e4 \ud070\uac12\ub3c4 \ubaa8\ub450 3\uc73c\ub85c \ub428\n",
      "a.clip(0, 3)"
     ],
     "language": "python",
     "metadata": {},
     "outputs": [
      {
       "metadata": {},
       "output_type": "pyout",
       "prompt_number": 28,
       "text": [
        "array([0, 1, 3, 3, 3, 3])"
       ]
      }
     ],
     "prompt_number": 28
    },
    {
     "cell_type": "code",
     "collapsed": false,
     "input": [
      "# 5\uae4c\uc9c0\ub2c8 4\ub97c \uadf8\ub0e5 \ud45c\ud604\ud574 \ubc84\ub9bc\n",
      "a.clip(0, 5)"
     ],
     "language": "python",
     "metadata": {},
     "outputs": [
      {
       "metadata": {},
       "output_type": "pyout",
       "prompt_number": 30,
       "text": [
        "array([0, 1, 4, 3, 4, 4])"
       ]
      }
     ],
     "prompt_number": 30
    },
    {
     "cell_type": "markdown",
     "metadata": {},
     "source": [
      "### \uc874\uc7ac\ud558\uc9c0 \uc54a\ub294 \uac12 \ucc98\ub9ac\n",
      "\n",
      "- NumPy \uc778\ub371\uc2f1\uc758 \uc7a5\uc810\uc740 \ud14d\uc2a4\ud2b8 \ud30c\uc77c\ub85c \uc77d\uc5b4\uc628 \ub370\uc774\ud130\ub97c \uc804\ucc98\ub9ac\ud560 \ub54c \ud3b8\ub9ac\ud558\ub2e4\ub294 \uc810\n",
      "- \uc720\ud6a8\ud558\uc9c0 \uc54a\uc740 \uac12\uc744 \ud3ec\ud568\ud558\uace0 \uc788\uae30 \ub54c\ubb38\uc5d0 real number\ub85c \ud45c\uae30\ud560 \uc218 \uc5c6\uc5b4 \ub2e4\uc74c\uacfc \uac19\uc774 numpy.NAN\uc73c\ub85c \ud45c\uc2dc\ud560 \uc218 \uc788\uc74c"
     ]
    },
    {
     "cell_type": "code",
     "collapsed": false,
     "input": [
      "# \ud14d\uc2a4\ud2b8 \ud30c\uc77c\uc5d0\uc11c \uc77d\uc5b4\uc654\ub2e4\uace0 \uac00\uc815\ud558\uc790\n",
      "c = np.array([1, 2, np.NAN, 3, 4])\n",
      "c"
     ],
     "language": "python",
     "metadata": {},
     "outputs": [
      {
       "metadata": {},
       "output_type": "pyout",
       "prompt_number": 31,
       "text": [
        "array([  1.,   2.,  nan,   3.,   4.])"
       ]
      }
     ],
     "prompt_number": 31
    },
    {
     "cell_type": "code",
     "collapsed": false,
     "input": [
      "np.isnan(c)"
     ],
     "language": "python",
     "metadata": {},
     "outputs": [
      {
       "metadata": {},
       "output_type": "pyout",
       "prompt_number": 32,
       "text": [
        "array([False, False,  True, False, False], dtype=bool)"
       ]
      }
     ],
     "prompt_number": 32
    },
    {
     "cell_type": "code",
     "collapsed": false,
     "input": [
      "c[~np.isnan(c)]"
     ],
     "language": "python",
     "metadata": {},
     "outputs": [
      {
       "metadata": {},
       "output_type": "pyout",
       "prompt_number": 33,
       "text": [
        "array([ 1.,  2.,  3.,  4.])"
       ]
      }
     ],
     "prompt_number": 33
    },
    {
     "cell_type": "code",
     "collapsed": false,
     "input": [
      "np.mean(c[~np.isnan(c)])"
     ],
     "language": "python",
     "metadata": {},
     "outputs": [
      {
       "metadata": {},
       "output_type": "pyout",
       "prompt_number": 34,
       "text": [
        "2.5"
       ]
      }
     ],
     "prompt_number": 34
    },
    {
     "cell_type": "markdown",
     "metadata": {},
     "source": [
      "### \uc2e4\ud589 \uc2dc\uac04 \ube44\uad50\n",
      "\n",
      "- NumPy\uc640 \uc77c\ubc18\uc801\uc778 \ud30c\uc774\uc36c \ub9ac\uc2a4\ud2b8\uc758 \uc2e4\ud589 \uc2dc\uac04\uc744 \ube44\uad50\ud574 \ubcf4\uc790.\n",
      "- \ub2e4\uc74c \ucf54\ub4dc\ub294 1\ubd80\ud130 1000\uae4c\uc9c0 \uac01\uac01\uc744 \uc81c\uacf1\ud55c \ud6c4 \ucd1d\ud569\uc744 \uad6c\ud55c\ub290 \uc2dd\uc73c\ub85c, \uacc4\uc0b0 \uc2dc \uc2dc\uac04\uc774 \uc5bc\ub9c8\ub098 \uac78\ub9ac\ub294\uc9c0 \ubcf4\uc790. \uc815\ud655\ud55c \uce21\uc815\uc744 \uc704\ud574 10,000\ubc88\uc744 \ubc18\ubcf5\ud558\uace0 \ucd1d \uc2dc\uac04\uc744 \uad6c\ud568"
     ]
    },
    {
     "cell_type": "code",
     "collapsed": false,
     "input": [
      "import timeit"
     ],
     "language": "python",
     "metadata": {},
     "outputs": [],
     "prompt_number": 35
    },
    {
     "cell_type": "code",
     "collapsed": false,
     "input": [
      "normal_py_sec = timeit.timeit('sum(x*x for x in xrange(1000))', \n",
      "                              number=10000)"
     ],
     "language": "python",
     "metadata": {},
     "outputs": [],
     "prompt_number": 36
    },
    {
     "cell_type": "code",
     "collapsed": false,
     "input": [
      "naive_np_sec = timeit.timeit('sum(na*na)', \n",
      "                             setup='import numpy as np; na=np.arange(1000)',\n",
      "                             number=10000)"
     ],
     "language": "python",
     "metadata": {},
     "outputs": [],
     "prompt_number": 38
    },
    {
     "cell_type": "code",
     "collapsed": false,
     "input": [
      "good_np_sec = timeit.timeit('na.dot(na)',\n",
      "                            setup='import numpy as np; na=np.arange(1000)',\n",
      "                            number=10000)"
     ],
     "language": "python",
     "metadata": {},
     "outputs": [],
     "prompt_number": 39
    },
    {
     "cell_type": "code",
     "collapsed": false,
     "input": [
      "print('Normal Python: {} sec'.format(normal_py_sec))"
     ],
     "language": "python",
     "metadata": {},
     "outputs": [
      {
       "output_type": "stream",
       "stream": "stdout",
       "text": [
        "Normal Python: 0.827950000763 sec\n"
       ]
      }
     ],
     "prompt_number": 40
    },
    {
     "cell_type": "code",
     "collapsed": false,
     "input": [
      "print('Naive NumPy: {} sec'.format(naive_np_sec))"
     ],
     "language": "python",
     "metadata": {},
     "outputs": [
      {
       "output_type": "stream",
       "stream": "stdout",
       "text": [
        "Naive NumPy: 0.951404094696 sec\n"
       ]
      }
     ],
     "prompt_number": 41
    },
    {
     "cell_type": "code",
     "collapsed": false,
     "input": [
      "print('Good NumPy: {} sec'.format(good_np_sec))"
     ],
     "language": "python",
     "metadata": {},
     "outputs": [
      {
       "output_type": "stream",
       "stream": "stdout",
       "text": [
        "Good NumPy: 0.0229861736298 sec\n"
       ]
      }
     ],
     "prompt_number": 42
    },
    {
     "cell_type": "markdown",
     "metadata": {},
     "source": [
      "#### \ud765\ubbf8\ub85c\uc6b4 \uc810 2\uac00\uc9c0\n",
      "\n",
      "- \ub370\uc774\ud130 \uc800\uc7a5\uc18c\ub85c NumPy(Naive NumPy)\ub97c \uc0ac\uc6a9\ud560 \uacbd\uc6b0 \uc2dc\uac04\uc774 3.5\ubc30 \ub354 \uac78\ub9ac\ub294\ub370 \uc774 \uc810\uc774 \uc880 \uc758\uc544\ud560 \uc218 \uc788\uc74c\n",
      "  - \uc65c\ub0d0\ud558\uba74 NumPy\ub294 C\uc5b8\uc5b4 \ud655\uc7a5\uc774\uae30 \ub54c\ubb38\uc5d0 \ud6e8\uc52c \ube60\ub974\ub2e4\uace0 \ubbff\uae30 \ub54c\ubb38\n",
      "  - \ud55c \uac00\uc9c0 \uc774\uc720\ub85c\ub294 \ud30c\uc774\uc36c \uc790\uccb4\uc5d0\uc11c \uac1c\ubcc4 \uc6d0\uc18c\uc5d0 \uc811\uadfc\ud558\ub294 \ub370 \ub2e4\uc18c \ube44\uc6a9\uc774 \ub4e0\ub2e4\ub294 \uc810\n",
      "  - \ucd5c\uc801\ud654\ub41c \ud655\uc7a5\uc5d0 \uc788\ub294 \uc54c\uace0\ub9ac\uc998\uc744 \uc801\uc6a9\ud560 \ub54c\uc5d0\ub9cc \uc18d\ub3c4\ub97c \ub192\uc77c \uc218 \uc788\uc74c\n",
      "  - NumPy\uc758 dot() \ud568\uc218 \uc0ac\uc6a9\uc73c\ub85c \uc18d\ub3c4\uac00 25\ubc30 \ube68\ub77c\uc9d0\n",
      "- \uc815\ub9ac\ud558\uba74, \uad6c\ud604\ud558\ub824\ub294 \ubaa8\ub4e0 \uc54c\uace0\ub9ac\uc998\uc740 \ud30c\uc774\uc36c\uc5d0\uc11c \uac1c\ubcc4 \uc6d0\uc18c\ub97c \ubc18\ubcf5 \ucc98\ub9ac\ud558\uae30\ubcf4\ub2e4\ub294 **NumPy**\ub098 **Scipy**\uc758 **\ucd5c\uc801\ud654\ub41c \ud655\uc7a5 \ud568\uc218**\ub85c \ucc98\ub9ac\ud558\uc790\n",
      "- \uadf8\ub7ec\ub098 \uc18d\ub3c4\ub97c \ub192\uc774\uae30 \uc704\ud574\uc11c\ub294 \ub300\uac00\ub97c \uc9c0\ubd88\ud574\uc57c \ud568\n",
      "- NumPy\uc758 \ubc30\uc5f4\uc744 \uc0ac\uc6a9\ud558\uba74, \uc5ec\ub7ec \ud0c0\uc785\uc744 \uac00\uc9c8 \uc218 \uc788\ub294 \ud30c\uc774\uc36c \ub9ac\uc2a4\ud2b8\uc758 \ub6f0\uc5b4\ub09c \uc720\uc5f0\uc131\uc744 \uc783\uc5b4\ubc84\ub9bc\n",
      "- NumPy\ub294 \ub2e8\uc9c0 \ud558\ub098\uc758 \ub370\uc774\ud130 \ud0c0\uc785\uc744 \uac16\uc74c"
     ]
    },
    {
     "cell_type": "code",
     "collapsed": false,
     "input": [
      "a = np.array([1,2,3])\n",
      "a.dtype"
     ],
     "language": "python",
     "metadata": {},
     "outputs": [
      {
       "metadata": {},
       "output_type": "pyout",
       "prompt_number": 43,
       "text": [
        "dtype('int64')"
       ]
      }
     ],
     "prompt_number": 43
    },
    {
     "cell_type": "markdown",
     "metadata": {},
     "source": [
      "- \ub2e4\ub978 \ud0c0\uc785\uc758 \uc6d0\uc18c\ub97c \uc0ac\uc6a9\ud558\uace0\uc790 \ud55c\ub2e4\uba74, NumPy\ub294 \uc6d0\uc18c\uc758 \ud0c0\uc785\uc744 \ubcf4\uace0 \uac00\uc7a5 \ud569\ub9ac\uc801\uc778 \uacf5\ud1b5 \ud0c0\uc785\uc744 \uac15\uc81c\ub85c \uc801\uc6a9\ud568"
     ]
    },
    {
     "cell_type": "code",
     "collapsed": false,
     "input": [
      "np.array([1, 'stringy'])"
     ],
     "language": "python",
     "metadata": {},
     "outputs": [
      {
       "metadata": {},
       "output_type": "pyout",
       "prompt_number": 44,
       "text": [
        "array(['1', 'stringy'], \n",
        "      dtype='|S21')"
       ]
      }
     ],
     "prompt_number": 44
    },
    {
     "cell_type": "code",
     "collapsed": false,
     "input": [
      "np.array([1, 'stringy', set([1,2,3])])"
     ],
     "language": "python",
     "metadata": {},
     "outputs": [
      {
       "metadata": {},
       "output_type": "pyout",
       "prompt_number": 45,
       "text": [
        "array([1, 'stringy', set([1, 2, 3])], dtype=object)"
       ]
      }
     ],
     "prompt_number": 45
    },
    {
     "cell_type": "markdown",
     "metadata": {},
     "source": [
      "### SciPy \ubc30\uc6b0\uae30\n",
      "\n",
      "- NumPy\uc758 \ud6a8\uc728\uc801\uc778 \ub370\uc774\ud130 \uad6c\uc870 \uc704\uc5d0\uc11c SciPy\ub294 \uc774\ub7ec\ud55c \ubc30\uc5f4\uc744 \ud6a8\uc728\uc801\uc73c\ub85c \ucc98\ub9ac\ud558\ub294 \uc218\ub9ce\uc740 \uc54c\uace0\ub9ac\uc998 \uc81c\uacf5\n",
      "- \uc774 \ucc45\uc5d0\uc11c \uc0ac\uc6a9\ub418\ub294 \uc218\uce58 \uc911\uc2ec\uc801\uc778 \uc54c\uace0\ub9ac\uc998\uc774 \ubb34\uc5c7\uc774\ub4e0, \ud55c \uac00\uc9c0 \uc774\uc0c1\uc758 \ubc29\ubc95\uc73c\ub85c SciPy\uc5d0\uc11c \uc774 \uc54c\uace0\ub9ac\uc998\ub4e4\uc744 \ub300\ubd80\ubd84 \uc9c0\uc6b0\ub108\ud568\n",
      "- \ub9e4\ud2b8\ub9ad\uc2a4 \ucc98\ub9ac(maxtrix manipulation), \uc120\ud615 \ub300\uc218(linear algebra), \ucd5c\uc801\ud654(optimization), \uad70\uc9d1\ud654(clustering), \uacf5\uac04 \uc5f0\uc0b0(spatial operations), \ub354 \ub098\uc544\uac00 \uace0\uc18d \ud478\ub9ac\uc5d0 \ubcc0\ud658(fast Fourier transform) \uae4c\uc9c0 \ubaa8\ub450 \uac16\ucdb0\uc9d0\n",
      "- \uadf8\ub7ec\ubbc0\ub85c \uc218\uce58 \uc54c\uace0\ub9ac\uc998\uc744 \uad6c\ud604\ud558\uace0\uc790 \ud560 \ub54c SciPy\ub97c \ucc3e\uc544\ubcf4\ub294 \uc2b5\uad00\uc744 \ub4e4\uc774\ub294 \uac8c \uc88b\uc74c\n",
      "- \ud3b8\uc758\uc0c1 NumPy\uc758 \uc644\ubcbd\ud55c \ub124\uc784\uc2a4\ud398\uc774\uc2a4\ub294 SciPy\ub97c \ud1b5\ud574 \uc811\uadfc \uac00\ub2a5\n",
      "- \uc9c0\uae08\ubd80\ud130\ub294 SciPy\uc758 \ub124\uc784\uc2a4\ud398\uc774\uc2a4\ub97c \ud1b5\ud574 NumPy\uc758 \uae30\ub2a5\uc744 \uc0ac\uc6a9\ud558\uaca0\ub2e4.\n",
      "- \uc774 \ud568\uc218\uac00 \uc5b4\ub5a4 \uae30\ubc18 \ud568\uc218\ub97c \ucc38\uc870\ud588\ub294\uc9c0 \uc27d\uac8c \ube44\uad50 \uac00\ub2a5"
     ]
    },
    {
     "cell_type": "code",
     "collapsed": false,
     "input": [
      "import scipy, numpy"
     ],
     "language": "python",
     "metadata": {},
     "outputs": [],
     "prompt_number": 3
    },
    {
     "cell_type": "code",
     "collapsed": false,
     "input": [
      "scipy.version.full_version"
     ],
     "language": "python",
     "metadata": {},
     "outputs": [
      {
       "metadata": {},
       "output_type": "pyout",
       "prompt_number": 4,
       "text": [
        "'0.14.0'"
       ]
      }
     ],
     "prompt_number": 4
    },
    {
     "cell_type": "code",
     "collapsed": false,
     "input": [
      "scipy.dot is numpy.dot"
     ],
     "language": "python",
     "metadata": {},
     "outputs": [
      {
       "metadata": {},
       "output_type": "pyout",
       "prompt_number": 48,
       "text": [
        "True"
       ]
      }
     ],
     "prompt_number": 48
    },
    {
     "cell_type": "markdown",
     "metadata": {},
     "source": [
      "### \ud234\ubc15\uc2a4\uc5d0\ub294 \ub2e4\uc591\ud55c \uc54c\uace0\ub9ac\uc998 \uc874\uc7ac\n",
      "\n",
      "SciPy \ud328\ud0a4\uc9c0 | \uae30\ub2a5\n",
      "--- | ---\n",
      "cluster | \uacc4\uce35\uc801 \uad70\uc9d1(cluster.hierarchy)<br/>\ubca1\ud130 \uc591\uc790\ud654 / K \ud3c9\uade0(cluster.vq)\n",
      "constants | \ubb3c\ub9ac\uc640 \uc218\ud559\uc758 \uc0c1\uc218<br/>\uc77c\ubc18\uc801\uc778 \uae30\ubc95\n",
      "fftpack | \uc774\uc0b0 \ud478\ub9ac\uc5d0 \ubcc0\ud658 \ud568\uc218\n",
      "integrate | \uc801\ubd84 \ud568\uc218\n",
      "interpolate | \ubcf4\uc815\ubc95(2\ucc28, 3\ucc28 \ub4f1)\n",
      "io | \ub370\uc774\ud130 \uc785\ucd9c\ub825\n",
      "linalg | \ucd5c\uc801\ud654\ub41c BLAS\uc640 LAPACK \ub77c\uc774\ube0c\ub7ec\ub9ac\ub97c \uc0ac\uc6a9\ud55c \uc120\ud615 \ub300\uc218\n",
      "maxentropy | \ucd5c\ub300 \uc5d4\ud2b8\ub85c\ud53c \ubaa8\ub378\uc5d0 \uc801\ud569\ud654\ub97c \uc704\ud55c \ud568\uc218\n",
      "ndimiage | n\ucc28\uc6d0 \uc774\ubbf8\uc9c0 \ud328\ud0a4\uc9c0\n",
      "odr | \uc9c1\uad50 \uac70\ub9ac \ud68c\uadc0\n",
      "optimize | \ucd5c\uc801\ud654\n",
      "signal | \uc2e0\ud638 \ucc98\ub9ac\n",
      "sparse | \ud76c\uc18c \ub9e4\ud2b8\ub9ad\uc2a4\n",
      "spatial | \uacf5\uac04 \ub370\uc774\ud130 \uad6c\uc870 \ubc0f \uc54c\uace0\ub9ac\uc998\n",
      "special | \ubca0\uc140(Bessel), \uc57c\ucf54\ube44(Jacobian) \uac19\uc740 \ud2b9\ubcc4\ud55c \uc218\ud559 \ud568\uc218\n",
      "stats | \ud1b5\uacc4 \ud234\ud0b7\n",
      "\n",
      "\n",
      "- \uad00\uc2ec \uc788\ub294 \ud234\ubc15\uc2a4\ub294 scipy.stats, scipy.interpolate, scipy.cluster, scipy.signal \uc815\ub3c4\n",
      "- \uc5ec\uae30\uc11c\ub294 stats \ud328\ud0a4\uc9c0\uc758 \uc77c\ubd80 \ud2b9\uc131\uc744 \uac04\ub7b5\ud788 \uc0b4\ud3b4\ubcf4\uace0, \uc774\ud6c4\uc758 \uc7a5\uc5d0\uc11c \ub098\uc62c \ub54c\ub9c8\ub2e4 \uc880 \ub354 \uc790\uc138\ud788 \uc54c\uc544\ubcf4\uaca0\uc74c"
     ]
    },
    {
     "cell_type": "markdown",
     "metadata": {},
     "source": [
      "## \uccab\ubc88\uc9f8 \uae30\uacc4 \ud559\uc2b5 \uc560\ud50c\ub9ac\ucf00\uc774\uc158\n",
      "\n",
      "- \uc6b0\ub9ac\uc758 \uac00\uc0c1 \ucc3d\uc5c5 \ud68c\uc0ac\uc778 MLAAS\n",
      "- \ud68c\uc0ac\ub294 \uc6f9\uc0c1\uc5d0\uc11c \uae30\uacc4 \ud559\uc2b5 \uc54c\uace0\ub9ac\uc998\uc744 \uc81c\uacf5\ud558\ub294 \uc11c\ube44\uc2a4\ub97c \ud568\n",
      "- \uc810\ucc28 \ubc88\ucc3d\ud574 \uc6f9 \uc694\uccad\uc744 \ucda9\ubd84\ud788 \ucc98\ub9ac\ud558\uace0\uc790 \uae30\ubc18 \uc2dc\uc124\uc744 \ub298\ub9ac\ub824\uace0 \ud568\n",
      "- \ube44\uc2fc \uc7a5\ube44\ub97c \ubb34\ud131\ub300\uace0 \uc99d\uc124\ud560 \uc218\ub294 \uc5c6\u3147\uc2b4\n",
      "- \uc6f9 \uc694\uccad\uc744 \ucc98\ub9ac\ud560 \uc7a5\ube44\ub97c \uac16\ucd94\uc9c0 \ubabb\ud558\uba74 \uc810\ucc28 \uc190\ud574\ub97c \ubcfc \uc218\ub3c4 \uc788\uc74c\n",
      "- \uc2dc\uac04\ub2f9 100,000 \uc694\uccad\uc774 \uc788\ub2e4\uace0 \ucd94\uc815\ud558\uace0 \ud604\uc7ac \uc7a5\ube44\uac00 \uc5b8\uc81c \ucd5c\ub300\uac00 \ub420\uae4c\uc784?\n",
      "- \ucd5c\ub300\ub85c \uac00\uc6a9\ud558\uba70 \ubaa8\ub4e0 \uc694\uccad\uc744 \uc644\ubcbd\ud558\uac8c \ucc98\ub9ac\ud558\uae30 \uc704\ud574 \uc55e\uc73c\ub85c \ud074\ub77c\uc6b0\ub4dc\uc5d0 \ucd94\uac00 \uc7a5\ube44\ub97c \uc124\uce58\ud574\uc57c \ud558\ub294 \uc2dc\uc810\uc744 \uc54c\uace0 \uc2f6\uc74c"
     ]
    },
    {
     "cell_type": "markdown",
     "metadata": {},
     "source": [
      "### \ub370\uc774\ud130 \uc77d\uae30\n",
      "\n",
      "- \uc9c0\ub09c\ub2ec\uc758 \ud1b5\uacc4\ub294 ch01/data/web_traffic.tsv \uc5d0 \ubaa8\uc544\ub193\uc74c(tsv\ub294 \uac12\uc744 \ud0ed\uc73c\ub85c \uad6c\ubcc4\ud568)\n",
      "- \uc2dc\uac04\ub2f9 \uc694\uccad \uc218\uac00 \uc800\uc7a5\ub418\uc5b4 \uc788\ub294\ub370, \uac01 \uc904\uc740 \uc5f0\uc18d\uc801\uc73c\ub85c \ub098\uc5f4\ub41c \uc2dc\uac04\uc774\uba70 \uadf8 \uc2dc\uac04\uc758 \uc694\uccad \uc218\ub97c \ub098\ud0c0\ub0c4"
     ]
    },
    {
     "cell_type": "code",
     "collapsed": false,
     "input": [
      "import scipy as sp"
     ],
     "language": "python",
     "metadata": {},
     "outputs": [],
     "prompt_number": 5
    },
    {
     "cell_type": "code",
     "collapsed": false,
     "input": [
      "data = sp.genfromtxt('ch01/data/web_traffic.tsv', delimiter='\\t')"
     ],
     "language": "python",
     "metadata": {},
     "outputs": [],
     "prompt_number": 6
    },
    {
     "cell_type": "markdown",
     "metadata": {},
     "source": [
      "- \uac01 \uc5f4\uc744 \ubc14\ub85c \uc800\uc7a5\ud558\uae30 \uc704\ud574 \uad6c\ubcc4\uc790\ub85c '\ud0ed'\uc744 \uc0ac\uc6a9\ud568\n",
      "- \ub370\uc774\ud130\ub97c \ubc14\ub974\uac8c \uc77d\uc5c8\ub294\uc9c0 \ubc14\ub85c \ud655\uc778 \uac00\ub2a5"
     ]
    },
    {
     "cell_type": "code",
     "collapsed": false,
     "input": [
      "data[:10]"
     ],
     "language": "python",
     "metadata": {},
     "outputs": [
      {
       "metadata": {},
       "output_type": "pyout",
       "prompt_number": 7,
       "text": [
        "array([[  1.00000000e+00,   2.27200000e+03],\n",
        "       [  2.00000000e+00,              nan],\n",
        "       [  3.00000000e+00,   1.38600000e+03],\n",
        "       [  4.00000000e+00,   1.36500000e+03],\n",
        "       [  5.00000000e+00,   1.48800000e+03],\n",
        "       [  6.00000000e+00,   1.33700000e+03],\n",
        "       [  7.00000000e+00,   1.88300000e+03],\n",
        "       [  8.00000000e+00,   2.28300000e+03],\n",
        "       [  9.00000000e+00,   1.33500000e+03],\n",
        "       [  1.00000000e+01,   1.02500000e+03]])"
       ]
      }
     ],
     "prompt_number": 7
    },
    {
     "cell_type": "code",
     "collapsed": false,
     "input": [
      "data.shape"
     ],
     "language": "python",
     "metadata": {},
     "outputs": [
      {
       "metadata": {},
       "output_type": "pyout",
       "prompt_number": 8,
       "text": [
        "(743, 2)"
       ]
      }
     ],
     "prompt_number": 8
    },
    {
     "cell_type": "markdown",
     "metadata": {},
     "source": [
      "- 2\ucc28\uc6d0\uc73c\ub85c 743\uac1c\uc758 \ub370\uc774\ud130\uac00 \uc788\uc74c"
     ]
    },
    {
     "cell_type": "markdown",
     "metadata": {},
     "source": [
      "### \ub370\uc774\ud130 \uc815\ub9ac\uc640 \uc804\ucc98\ub9ac\n",
      "\n",
      "- SciPy\uc5d0\uc11c\ub294 743\uac1c\uc758 \ub370\uc774\ud130\ub97c 2\uac1c\uc758 \ubca1\ud130\ub85c \ub098\ub204\uba74 \uc880 \ub354 \ud3b8\ub9ac\ud568\n",
      "- \uccab\ubc88\uc9f8 \ubca1\ud130 x\ub294 \uc2dc\uac04\uc744 \ub098\ud0c0\ub0b4\uace0, \ub450\ubc88\uc9f8 y\ub294 \ud2b9\uc815 \uc2dc\uac04\uc758 \uc694\uccad \uc218\ub97c \ub098\ud0c0\ub0c4\n",
      "- \uc774\ub7ec\ud55c \ub098\ub214\uc740 \uac1c\ubcc4\uc801\uc73c\ub85c \uc5f4\uc744 \uc120\ud0dd\ud560 \uc218 \uc788\ub294 SciPy\uc758 \ud2b9\uc218 \uc778\ub371\uc2a4 \ud45c\uae30\ub97c \uc0ac\uc6a9\ud574 \uac00\ub2a5\ud568"
     ]
    },
    {
     "cell_type": "code",
     "collapsed": false,
     "input": [
      "x = data[:, 0]"
     ],
     "language": "python",
     "metadata": {},
     "outputs": [],
     "prompt_number": 9
    },
    {
     "cell_type": "code",
     "collapsed": false,
     "input": [
      "y = data[:, 1]"
     ],
     "language": "python",
     "metadata": {},
     "outputs": [],
     "prompt_number": 10
    },
    {
     "cell_type": "code",
     "collapsed": false,
     "input": [
      "x[:10]"
     ],
     "language": "python",
     "metadata": {},
     "outputs": [
      {
       "metadata": {},
       "output_type": "pyout",
       "prompt_number": 11,
       "text": [
        "array([  1.,   2.,   3.,   4.,   5.,   6.,   7.,   8.,   9.,  10.])"
       ]
      }
     ],
     "prompt_number": 11
    },
    {
     "cell_type": "code",
     "collapsed": false,
     "input": [
      "y[:10]"
     ],
     "language": "python",
     "metadata": {},
     "outputs": [
      {
       "metadata": {},
       "output_type": "pyout",
       "prompt_number": 12,
       "text": [
        "array([ 2272.,    nan,  1386.,  1365.,  1488.,  1337.,  1883.,  2283.,\n",
        "        1335.,  1025.])"
       ]
      }
     ],
     "prompt_number": 12
    },
    {
     "cell_type": "markdown",
     "metadata": {},
     "source": [
      ">Note: SciPy\uc758 \ubc30\uc5f4\ub85c\ubd80\ud130 \ub370\uc774\ud130\ub97c \uc120\ubcc4\ud558\ub294 \ub354 \ub9ce\uc740 \ubc29\ubc95\uc774 \uc788\uc74c http://www.scipy.org/Tentative_NumPy_Tutorial \uc5d0\ub294 \uc778\ub371\uc2f1, \uc2ac\ub77c\uc774\uc2f1, \ubc18\ubcf5 \ucc98\ub9ac\uc5d0 \uad00\ud55c \uc790\uc138\ud55c \uc815\ubcf4\uac00 \uc788\uc74c"
     ]
    },
    {
     "cell_type": "markdown",
     "metadata": {},
     "source": [
      "- \ud55c \uac00\uc9c0 \uc54c\uc544\ub46c\uc57c \ud560 \uc0ac\ud56d\uc740 y\uc5d0 \uc77c\ubd80 \uc798\ubabb\ub41c \uac12 nan \uc774 \uc788\ub294\ub370 \uc5b4\ub5bb\uac8c \ucc98\ub9ac\ud574\uc57c \ud560\uae4c\uc774\ub2e4. \uc5bc\ub9c8\ub098 \ub9ce\uc740 \uc2dc\uac04\uc774 \uc798\ubabb\ub41c \uac12\uc744 \ud3ec\ud568\ud558\uace0 \uc788\ub294\uc9c0 \ud655\uc778\ud574 \ubcf4\uc790"
     ]
    },
    {
     "cell_type": "code",
     "collapsed": false,
     "input": [
      "sp.isnan(y)"
     ],
     "language": "python",
     "metadata": {},
     "outputs": [
      {
       "metadata": {},
       "output_type": "pyout",
       "prompt_number": 13,
       "text": [
        "array([False,  True, False, False, False, False, False, False, False,\n",
        "       False, False, False, False, False, False, False, False, False,\n",
        "       False, False, False, False,  True, False, False, False, False,\n",
        "       False, False, False, False, False, False, False, False, False,\n",
        "       False, False, False, False, False, False, False, False, False,\n",
        "       False, False,  True, False, False, False, False, False, False,\n",
        "       False, False, False, False, False, False, False, False, False,\n",
        "       False, False, False, False, False, False, False, False, False,\n",
        "       False, False, False, False, False, False, False, False, False,\n",
        "       False, False, False, False, False, False, False, False, False,\n",
        "       False, False, False, False,  True, False, False, False, False,\n",
        "       False, False, False, False, False, False, False, False, False,\n",
        "       False, False, False, False, False, False, False, False, False,\n",
        "       False, False, False, False, False, False, False, False, False,\n",
        "       False, False, False, False, False, False, False, False, False,\n",
        "       False, False, False, False, False, False, False, False, False,\n",
        "       False, False, False, False, False, False, False, False, False,\n",
        "        True, False, False, False, False, False, False, False, False,\n",
        "       False, False, False, False, False, False, False, False, False,\n",
        "       False, False, False, False, False, False, False, False,  True,\n",
        "        True, False, False, False, False, False, False, False, False,\n",
        "       False, False, False, False, False, False, False, False, False,\n",
        "       False, False, False, False, False, False, False, False, False,\n",
        "       False, False,  True, False, False, False, False, False, False,\n",
        "       False, False, False, False, False, False, False, False, False,\n",
        "       False, False, False, False, False, False, False, False, False,\n",
        "       False, False, False, False, False, False, False, False, False,\n",
        "       False, False, False, False, False, False, False, False, False,\n",
        "       False, False, False, False, False, False, False, False, False,\n",
        "       False, False, False, False, False, False, False, False, False,\n",
        "       False, False, False, False, False, False, False, False, False,\n",
        "       False, False, False, False, False, False, False, False, False,\n",
        "       False, False, False, False, False, False, False, False, False,\n",
        "       False, False, False, False, False, False, False, False, False,\n",
        "       False, False, False, False, False, False, False, False, False,\n",
        "       False, False, False, False, False, False, False, False, False,\n",
        "       False, False, False, False, False, False, False, False, False,\n",
        "       False, False, False, False, False, False, False, False, False,\n",
        "       False, False, False, False, False, False, False, False, False,\n",
        "       False, False, False, False, False, False, False, False, False,\n",
        "       False, False, False, False, False, False, False, False, False,\n",
        "       False, False, False, False, False, False, False, False, False,\n",
        "       False, False, False, False, False, False, False, False, False,\n",
        "       False, False, False, False, False, False, False, False, False,\n",
        "       False, False, False, False, False, False, False, False, False,\n",
        "       False, False, False, False, False, False, False, False, False,\n",
        "       False, False, False, False, False, False, False, False, False,\n",
        "       False, False, False, False, False, False, False, False, False,\n",
        "       False, False, False, False, False, False, False, False, False,\n",
        "       False, False, False, False, False, False, False, False, False,\n",
        "       False, False, False, False, False, False, False, False, False,\n",
        "       False, False, False, False, False, False, False, False, False,\n",
        "       False, False, False, False, False, False, False, False, False,\n",
        "       False, False, False, False, False, False, False, False, False,\n",
        "       False, False, False, False, False, False, False, False, False,\n",
        "       False, False, False, False, False, False, False, False, False,\n",
        "       False, False, False, False, False, False, False, False, False,\n",
        "       False, False, False, False, False, False, False, False, False,\n",
        "       False, False, False, False, False, False, False, False, False,\n",
        "       False, False, False, False, False, False, False, False, False,\n",
        "       False, False, False, False, False, False, False, False, False,\n",
        "       False, False, False, False, False, False, False, False, False,\n",
        "       False, False, False, False, False, False, False, False, False,\n",
        "       False, False, False, False, False, False, False, False, False,\n",
        "       False, False, False, False, False, False, False, False, False,\n",
        "       False, False, False, False, False, False, False, False, False,\n",
        "       False, False, False, False, False, False, False, False, False,\n",
        "       False, False, False, False, False, False, False, False, False,\n",
        "       False, False, False, False, False, False, False, False, False,\n",
        "       False, False, False, False, False, False, False, False, False,\n",
        "       False, False, False, False, False, False, False, False, False,\n",
        "       False, False, False, False, False, False, False, False, False,\n",
        "       False, False, False, False, False, False, False, False, False,\n",
        "       False, False, False, False, False, False, False, False, False,\n",
        "       False, False, False, False, False, False, False, False, False,\n",
        "       False, False, False, False, False, False, False, False, False,\n",
        "       False, False, False, False, False, False, False, False, False,\n",
        "       False, False, False, False, False, False, False, False, False,\n",
        "       False, False, False, False, False, False, False, False, False,\n",
        "       False, False, False, False, False, False, False, False, False,\n",
        "       False, False, False, False, False, False, False, False, False,\n",
        "       False, False, False, False, False, False, False, False, False,\n",
        "       False, False, False, False, False], dtype=bool)"
       ]
      }
     ],
     "prompt_number": 13
    },
    {
     "cell_type": "code",
     "collapsed": false,
     "input": [
      "sp.sum(sp.isnan(y))"
     ],
     "language": "python",
     "metadata": {},
     "outputs": [
      {
       "metadata": {},
       "output_type": "pyout",
       "prompt_number": 14,
       "text": [
        "8"
       ]
      }
     ],
     "prompt_number": 14
    },
    {
     "cell_type": "markdown",
     "metadata": {},
     "source": [
      "- 743\uac1c \uc911 8\uac1c\uac00 \uc798\ubabb\ub41c \uac12\uc73c\ub85c, \uc774\ub97c \uc81c\uac70\ud558\uc790\n",
      "- \uae30\uc5b5\ud560 \uc810\uc740 SciPy\uc758 \ubc30\uc5f4\uc744 \ub610 \ub2e4\ub978 \ubc30\uc5f4\ub85c \uc778\ub371\uc2f1\ud560 \uc218 \uc788\ub2e4\ub294 \uc810\n",
      "- sp.isnan(y)\ub294 \uc5d4\ud2b8\ub9ac\uac00 \uc218\uce58\uc778\uc9c0 \uc544\ub2cc\uc9c0\ub97c \ubcfc \ub54c Boolean \ub85c \ud45c\uc2dc\ub41c \ubc30\uc5f4\ub85c \ubc18\ud658\ud568\n",
      "- y\uc758 \uc720\ud6a8\uac12\uc774 \uc788\ub294 \uc5d4\ud2b8\ub9ac\ub97c \uae30\uc900\uc73c\ub85c x, y\uc5d0\uc11c \uc720\ud6a8\ud55c \uc5d4\ud2b8\ub9ac\ub97c \uc120\ubcc4\ud558\uae30 \uc704\ud574 ~\ub97c \uc0ac\uc6a9\ud568"
     ]
    },
    {
     "cell_type": "code",
     "collapsed": false,
     "input": [
      "x = x[~sp.isnan(y)]"
     ],
     "language": "python",
     "metadata": {},
     "outputs": [],
     "prompt_number": 15
    },
    {
     "cell_type": "code",
     "collapsed": false,
     "input": [
      "y = y[~sp.isnan(y)]"
     ],
     "language": "python",
     "metadata": {},
     "outputs": [],
     "prompt_number": 16
    },
    {
     "cell_type": "code",
     "collapsed": false,
     "input": [
      "x[:10]"
     ],
     "language": "python",
     "metadata": {},
     "outputs": [
      {
       "metadata": {},
       "output_type": "pyout",
       "prompt_number": 17,
       "text": [
        "array([  1.,   3.,   4.,   5.,   6.,   7.,   8.,   9.,  10.,  11.])"
       ]
      }
     ],
     "prompt_number": 17
    },
    {
     "cell_type": "code",
     "collapsed": false,
     "input": [
      "y[:10]"
     ],
     "language": "python",
     "metadata": {},
     "outputs": [
      {
       "metadata": {},
       "output_type": "pyout",
       "prompt_number": 18,
       "text": [
        "array([ 2272.,  1386.,  1365.,  1488.,  1337.,  1883.,  2283.,  1335.,\n",
        "        1025.,  1139.])"
       ]
      }
     ],
     "prompt_number": 18
    },
    {
     "cell_type": "markdown",
     "metadata": {},
     "source": [
      "- \ub370\uc774\ud130\uc758 \ud615\ud0dc\ub97c \ud30c\uc545\ud558\uae30 \uc704\ud574 Matplotlib \uc758 \uc810\ub3c4\ud45c(scatter plot)\ub85c \uadf8\ub9ac\uae30\n",
      "- pyplot \ud328\ud0a4\uc9c0\ub294 \ud3b8\ub9ac\ud558\uace0 \uc0ac\uc6a9\ud558\uae30 \uc26c\uc6b4 matlab\uc758 \uc778\ud130\ud398\uc774\uc2a4\ub97c \ub530\ub77c\ud588\ub2e4.(http://matplotlib.org/users/pyplot_tutorial.html \uc5d0\uc11c \ud29c\ud1a0\ub9ac\uc5bc\uc744 \ubcfc \uc218 \uc788\uc74c)"
     ]
    },
    {
     "cell_type": "code",
     "collapsed": false,
     "input": [
      "import matplotlib.pyplot as plt"
     ],
     "language": "python",
     "metadata": {},
     "outputs": [],
     "prompt_number": 19
    },
    {
     "cell_type": "code",
     "collapsed": false,
     "input": [
      "plt.scatter(x, y)"
     ],
     "language": "python",
     "metadata": {},
     "outputs": [
      {
       "metadata": {},
       "output_type": "pyout",
       "prompt_number": 20,
       "text": [
        "<matplotlib.collections.PathCollection at 0x110c40f90>"
       ]
      },
      {
       "metadata": {},
       "output_type": "display_data",
       "png": "[encoded data removed]",
       "text": [
        "<matplotlib.figure.Figure at 0x1107efb10>"
       ]
      }
     ],
     "prompt_number": 20
    },
    {
     "cell_type": "code",
     "collapsed": false,
     "input": [
      "plt.scatter(x, y)\n",
      "plt.title('Web traffic over the last month')\n",
      "plt.xlabel('Time')\n",
      "plt.ylabel('Hits/hour')\n",
      "# week 0 ~ week 9\n",
      "plt.xticks([w*7*24 for w in range(10)], ['week %i' %w for w in range(10)])"
     ],
     "language": "python",
     "metadata": {},
     "outputs": [
      {
       "metadata": {},
       "output_type": "pyout",
       "prompt_number": 21,
       "text": [
        "([<matplotlib.axis.XTick at 0x110c6e150>,\n",
        "  <matplotlib.axis.XTick at 0x110c6e890>,\n",
        "  <matplotlib.axis.XTick at 0x110c83a10>,\n",
        "  <matplotlib.axis.XTick at 0x110c87050>,\n",
        "  <matplotlib.axis.XTick at 0x110c87710>,\n",
        "  <matplotlib.axis.XTick at 0x110c87e10>,\n",
        "  <matplotlib.axis.XTick at 0x110c89590>,\n",
        "  <matplotlib.axis.XTick at 0x110c89cd0>,\n",
        "  <matplotlib.axis.XTick at 0x110c8b450>,\n",
        "  <matplotlib.axis.XTick at 0x110c8bb90>],\n",
        " <a list of 10 Text xticklabel objects>)"
       ]
      },
      {
       "metadata": {},
       "output_type": "display_data",
       "png": "[encoded data removed]",
       "text": [
        "<matplotlib.figure.Figure at 0x1107fedd0>"
       ]
      }
     ],
     "prompt_number": 21
    },
    {
     "cell_type": "code",
     "collapsed": false,
     "input": [
      "plt.scatter(x, y)\n",
      "plt.title('Web traffic over the last month')\n",
      "plt.xlabel('Time')\n",
      "plt.ylabel('Hits/hour')\n",
      "# week 0 ~ week 9\n",
      "plt.xticks([w*7*24 for w in range(10)], ['week %i' %w for w in range(10)])\n",
      "plt.autoscale(tight=True)"
     ],
     "language": "python",
     "metadata": {},
     "outputs": [
      {
       "metadata": {},
       "output_type": "display_data",
       "png": "[encoded data removed]",
       "text": [
        "<matplotlib.figure.Figure at 0x110c87150>"
       ]
      }
     ],
     "prompt_number": 22
    },
    {
     "cell_type": "code",
     "collapsed": false,
     "input": [
      "plt.scatter(x, y)\n",
      "plt.title('Web traffic over the last month')\n",
      "plt.xlabel('Time')\n",
      "plt.ylabel('Hits/hour')\n",
      "# week 0 ~ week 9\n",
      "plt.xticks([w*7*24 for w in range(10)], ['week %i' %w for w in range(10)])\n",
      "plt.autoscale(tight=True)\n",
      "plt.grid()"
     ],
     "language": "python",
     "metadata": {},
     "outputs": [
      {
       "metadata": {},
       "output_type": "display_data",
       "png": "[encoded data removed]",
       "text": [
        "<matplotlib.figure.Figure at 0x110c9e090>"
       ]
      }
     ],
     "prompt_number": 23
    },
    {
     "cell_type": "code",
     "collapsed": false,
     "input": [
      "plt.scatter(x, y)\n",
      "plt.title('Web traffic over the last month')\n",
      "plt.xlabel('Time')\n",
      "plt.ylabel('Hits/hour')\n",
      "# week 0 ~ week 9\n",
      "plt.xticks([w*7*24 for w in range(10)], ['week %i' %w for w in range(10)])\n",
      "plt.autoscale(tight=True)\n",
      "plt.grid()\n",
      "plt.show()"
     ],
     "language": "python",
     "metadata": {},
     "outputs": [
      {
       "metadata": {},
       "output_type": "display_data",
       "png": "[encoded data removed]",
       "text": [
        "<matplotlib.figure.Figure at 0x110d3ea50>"
       ]
      }
     ],
     "prompt_number": 24
    },
    {
     "cell_type": "markdown",
     "metadata": {},
     "source": [
      "### \uc801\uc808\ud55c \ubaa8\ub378\uacfc \ud559\uc2b5 \uc54c\uace0\ub9ac\uc998 \uc120\ud0dd\n",
      "\n",
      "- **\ub370\uc774\ud130\uc758 \uc804\ubc18\uc801\uc778 \ud615\ud0dc \ud30c\uc545**\ud588\uc73c\ubbc0\ub85c \ucd5c\ucd08\uc758 \uc9c8\ubb38\uc73c\ub85c \ub3cc\uc544\uac00\uc790\n",
      "- **\uc11c\ubc84\ub294 \ub4e4\uc5b4\uc624\ub294 \uc6f9 \ud2b8\ub798\ud53d\uc5d0 \uc5bc\ub9c8\ub3d9\uc548 \ub300\uc751**\ud560 \uc218 \uc788\uc744\uae4c?\n",
      "  - \ub178\uc774\uc988\ub97c \uace0\ub824\ud55c \uc2e4\uc81c \ubaa8\ub378 \ucc3e\uae30\n",
      "  - \ubaa8\ub378\uc744 \uc0ac\uc6a9\ud574 \uc124\ube44\ub97c \uc99d\uc124\ud574\uc57c \ud560 \uc2dc\uc810 \ucd94\ub860\ud558\uae30\n",
      "  \n",
      "#### \ubaa8\ub378\uc744 \ub9cc\ub4e4\uae30\uc5d0 \uc55e\uc11c\n",
      "\n",
      "- \ubcf5\uc7a1\ud55c \ud604\uc2e4\uc758 \uc774\ub860\uc801 \uadfc\uc0ac\uce58\ub85c\uc11c \ub2e8\uc21c\ud654\ub41c \ubaa8\ub378\uc744 \uc0dd\uac01\ud560 \uc218 \uc788\uc74c\n",
      "- \uadfc\uc0ac\uce58 \uc624\ucc28(approximation error)\ub77c\uace0 \ud568\n",
      "- \uc624\ucc28\uac12\uc740 \ub9ce\uc740 \uc120\ud0dd\uad8c \uc911\uc5d0\uc11c \uc801\uc808\ud55c \ubaa8\ub378\uc744 \ucc3e\uc744 \uc218 \uc788\uac8c \ud558\uba70, **\ubaa8\ub378\uc774 \uc608\uce21\ud55c \uc608\uc0c1\ud55c \uac12**\uacfc **\uc2e4\uc81c \uac12 \uc0ac\uc774\uc758 \uac70\ub9ac \uc81c\uacf1(squared distance)**\uc73c\ub85c \uacc4\uc0b0 \uac00\ub2a5\n",
      "- \ud559\uc2b5\ub41c \ubaa8\ub378 \ud568\uc218 f\uc5d0 \ub300\ud574 \uc624\ucc28\ub97c \ub2e4\uc74c\uacfc \uac19\uc774 \uacc4\uc0b0"
     ]
    },
    {
     "cell_type": "code",
     "collapsed": false,
     "input": [
      "def error(f, x, y):\n",
      "    return sp.sum((f(x)-y) ** 2)"
     ],
     "language": "python",
     "metadata": {},
     "outputs": [],
     "prompt_number": 25
    },
    {
     "cell_type": "markdown",
     "metadata": {},
     "source": [
      "- \ubca1\ud130 x\uc640 y\ub294 \uc804\uc5d0 \ucd94\ucd9c\ud588\ub358 \uc6f9 \ud1b5\uacc4 \ub370\uc774\ud130\n",
      "- \uc774 \uc624\ucc28 \ud568\uc218\ub294 f(x)\ub97c \ud65c\uc6a9\ud55c SciPy\uc758 \ubca1\ud130\ud654\ub41c \ud568\uc218\uc758 \ubc31\ubbf8\n",
      "- \ud6c8\ub828\ub41c \ubaa8\ub378\uc740 \ubca1\ud130 x\ub97c \uc785\ub825\ubc1b\uace0 \ud06c\uae30\uac00 \uac19\uc740 \ubca1\ud130\ub85c\uc11c \uacb0\uacfc\ub97c \ub2e4\uc2dc \ud55c \ubc88 \ubc18\ud658\ud568\n",
      "- \uc774 \ubc18\ud658\ub41c \ubca1\ud130\ub97c \uc0ac\uc6a9\ud574 \ubca1\ud130 y\uc640\uc758 \ucc28\ub97c \uacc4\uc0b0\ud568"
     ]
    },
    {
     "cell_type": "markdown",
     "metadata": {},
     "source": [
      "#### \ub2e8\uc21c\ud55c \uc9c1\uc120\uc73c\ub85c \uc2dc\uc791\ud558\uae30\n",
      "\n",
      "- \uae30\ubcf8\uc801\uc778 \ubaa8\ub378\uc774 \uc9c1\uc120\uc774\ub77c\uace0 \uc7a0\uc2dc \uac00\uc815\n",
      "- \uc5b4\ub5bb\uac8c \ud558\uba74 \uadfc\uc0ac\uce58 \uc624\ucc28\uac00 \uac00\uc7a5 \uc791\ub3c4\ub85d \ucc28\ud2b8\uc5d0 \uc9c1\uc120\uc744 \uc798 \uadf8\uc744 \uc218 \uc788\uc744\uae4c?\n",
      "- SciPy\uc758 polyfit() \ud568\uc218\uac00 \uc815\ud655\ud788 \uc774\ub7f0 \uc77c\uc744 \uc218\ud589\n",
      "- \uc774 \ud568\uc218\ub294 x, y, \uc6b0\ub9ac\uac00 \uc6d0\ud558\ub294 \ub2e4\ud56d \ud568\uc218\uc758 \ucc28\uc218(\uc9c1\uc120 \ud568\uc218\ub294 1\ucc28 \ud568\uc218\ub2e4)\ub97c \uace0\ub824\ud574, \uc774\uc804\uc5d0 \uc815\uc758\ud588\ub358 \uc624\ucc28 \ud568\uc218\ub97c \ucd5c\uc18c\ub85c \ub9cc\ub4dc\ub294 \ubaa8\ub378 \ud568\uc218\ub97c \ucc3e\uc74c"
     ]
    },
    {
     "cell_type": "code",
     "collapsed": false,
     "input": [
      "help(sp.polyfit)"
     ],
     "language": "python",
     "metadata": {},
     "outputs": [
      {
       "output_type": "stream",
       "stream": "stdout",
       "text": [
        "Help on function polyfit in module numpy.lib.polynomial:\n",
        "\n",
        "polyfit(x, y, deg, rcond=None, full=False, w=None, cov=False)\n",
        "    Least squares polynomial fit.\n",
        "    \n",
        "    Fit a polynomial ``p(x) = p[0] * x**deg + ... + p[deg]`` of degree `deg`\n",
        "    to points `(x, y)`. Returns a vector of coefficients `p` that minimises\n",
        "    the squared error.\n",
        "    \n",
        "    Parameters\n",
        "    ----------\n",
        "    x : array_like, shape (M,)\n",
        "        x-coordinates of the M sample points ``(x[i], y[i])``.\n",
        "    y : array_like, shape (M,) or (M, K)\n",
        "        y-coordinates of the sample points. Several data sets of sample\n",
        "        points sharing the same x-coordinates can be fitted at once by\n",
        "        passing in a 2D-array that contains one dataset per column.\n",
        "    deg : int\n",
        "        Degree of the fitting polynomial\n",
        "    rcond : float, optional\n",
        "        Relative condition number of the fit. Singular values smaller than\n",
        "        this relative to the largest singular value will be ignored. The\n",
        "        default value is len(x)*eps, where eps is the relative precision of\n",
        "        the float type, about 2e-16 in most cases.\n",
        "    full : bool, optional\n",
        "        Switch determining nature of return value. When it is False (the\n",
        "        default) just the coefficients are returned, when True diagnostic\n",
        "        information from the singular value decomposition is also returned.\n",
        "    w : array_like, shape (M,), optional\n",
        "        weights to apply to the y-coordinates of the sample points.\n",
        "    cov : bool, optional\n",
        "        Return the estimate and the covariance matrix of the estimate\n",
        "        If full is True, then cov is not returned.\n",
        "    \n",
        "    Returns\n",
        "    -------\n",
        "    p : ndarray, shape (M,) or (M, K)\n",
        "        Polynomial coefficients, highest power first.  If `y` was 2-D, the\n",
        "        coefficients for `k`-th data set are in ``p[:,k]``.\n",
        "    \n",
        "    residuals, rank, singular_values, rcond :\n",
        "        Present only if `full` = True.  Residuals of the least-squares fit,\n",
        "        the effective rank of the scaled Vandermonde coefficient matrix,\n",
        "        its singular values, and the specified value of `rcond`. For more\n",
        "        details, see `linalg.lstsq`.\n",
        "    \n",
        "    V : ndarray, shape (M,M) or (M,M,K)\n",
        "        Present only if `full` = False and `cov`=True.  The covariance\n",
        "        matrix of the polynomial coefficient estimates.  The diagonal of\n",
        "        this matrix are the variance estimates for each coefficient.  If y\n",
        "        is a 2-D array, then the covariance matrix for the `k`-th data set\n",
        "        are in ``V[:,:,k]``\n",
        "    \n",
        "    \n",
        "    Warns\n",
        "    -----\n",
        "    RankWarning\n",
        "        The rank of the coefficient matrix in the least-squares fit is\n",
        "        deficient. The warning is only raised if `full` = False.\n",
        "    \n",
        "        The warnings can be turned off by\n",
        "    \n",
        "        >>> import warnings\n",
        "        >>> warnings.simplefilter('ignore', np.RankWarning)\n",
        "    \n",
        "    See Also\n",
        "    --------\n",
        "    polyval : Computes polynomial values.\n",
        "    linalg.lstsq : Computes a least-squares fit.\n",
        "    scipy.interpolate.UnivariateSpline : Computes spline fits.\n",
        "    \n",
        "    Notes\n",
        "    -----\n",
        "    The solution minimizes the squared error\n",
        "    \n",
        "    .. math ::\n",
        "        E = \\sum_{j=0}^k |p(x_j) - y_j|^2\n",
        "    \n",
        "    in the equations::\n",
        "    \n",
        "        x[0]**n * p[0] + ... + x[0] * p[n-1] + p[n] = y[0]\n",
        "        x[1]**n * p[0] + ... + x[1] * p[n-1] + p[n] = y[1]\n",
        "        ...\n",
        "        x[k]**n * p[0] + ... + x[k] * p[n-1] + p[n] = y[k]\n",
        "    \n",
        "    The coefficient matrix of the coefficients `p` is a Vandermonde matrix.\n",
        "    \n",
        "    `polyfit` issues a `RankWarning` when the least-squares fit is badly\n",
        "    conditioned. This implies that the best fit is not well-defined due\n",
        "    to numerical error. The results may be improved by lowering the polynomial\n",
        "    degree or by replacing `x` by `x` - `x`.mean(). The `rcond` parameter\n",
        "    can also be set to a value smaller than its default, but the resulting\n",
        "    fit may be spurious: including contributions from the small singular\n",
        "    values can add numerical noise to the result.\n",
        "    \n",
        "    Note that fitting polynomial coefficients is inherently badly conditioned\n",
        "    when the degree of the polynomial is large or the interval of sample points\n",
        "    is badly centered. The quality of the fit should always be checked in these\n",
        "    cases. When polynomial fits are not satisfactory, splines may be a good\n",
        "    alternative.\n",
        "    \n",
        "    References\n",
        "    ----------\n",
        "    .. [1] Wikipedia, \"Curve fitting\",\n",
        "           http://en.wikipedia.org/wiki/Curve_fitting\n",
        "    .. [2] Wikipedia, \"Polynomial interpolation\",\n",
        "           http://en.wikipedia.org/wiki/Polynomial_interpolation\n",
        "    \n",
        "    Examples\n",
        "    --------\n",
        "    >>> x = np.array([0.0, 1.0, 2.0, 3.0,  4.0,  5.0])\n",
        "    >>> y = np.array([0.0, 0.8, 0.9, 0.1, -0.8, -1.0])\n",
        "    >>> z = np.polyfit(x, y, 3)\n",
        "    >>> z\n",
        "    array([ 0.08703704, -0.81349206,  1.69312169, -0.03968254])\n",
        "    \n",
        "    It is convenient to use `poly1d` objects for dealing with polynomials:\n",
        "    \n",
        "    >>> p = np.poly1d(z)\n",
        "    >>> p(0.5)\n",
        "    0.6143849206349179\n",
        "    >>> p(3.5)\n",
        "    -0.34732142857143039\n",
        "    >>> p(10)\n",
        "    22.579365079365115\n",
        "    \n",
        "    High-order polynomials may oscillate wildly:\n",
        "    \n",
        "    >>> p30 = np.poly1d(np.polyfit(x, y, 30))\n",
        "    /... RankWarning: Polyfit may be poorly conditioned...\n",
        "    >>> p30(4)\n",
        "    -0.80000000000000204\n",
        "    >>> p30(5)\n",
        "    -0.99999999999999445\n",
        "    >>> p30(4.5)\n",
        "    -0.10547061179440398\n",
        "    \n",
        "    Illustration:\n",
        "    \n",
        "    >>> import matplotlib.pyplot as plt\n",
        "    >>> xp = np.linspace(-2, 6, 100)\n",
        "    >>> _ = plt.plot(x, y, '.', xp, p(xp), '-', xp, p30(xp), '--')\n",
        "    >>> plt.ylim(-2,2)\n",
        "    (-2, 2)\n",
        "    >>> plt.show()\n",
        "\n"
       ]
      }
     ],
     "prompt_number": 26
    },
    {
     "cell_type": "code",
     "collapsed": false,
     "input": [
      "fp1, residuals, rank, sv, rcond = sp.polyfit(x, y, 1, full=True)"
     ],
     "language": "python",
     "metadata": {},
     "outputs": [],
     "prompt_number": 27
    },
    {
     "cell_type": "code",
     "collapsed": false,
     "input": [
      "# 2.59 * x + 989.02\n",
      "fp1"
     ],
     "language": "python",
     "metadata": {},
     "outputs": [
      {
       "metadata": {},
       "output_type": "pyout",
       "prompt_number": 28,
       "text": [
        "array([   2.59619213,  989.02487106])"
       ]
      }
     ],
     "prompt_number": 28
    },
    {
     "cell_type": "code",
     "collapsed": false,
     "input": [
      "# \uadfc\uc0ac\uce58 \uc624\ucc28\ub97c \ub098\ud0c0\ub0b4\ub294 \uc794\ucc28(residual)\n",
      "# fp1\uc758 \uacb0\uacfc\uac12\n",
      "residuals"
     ],
     "language": "python",
     "metadata": {},
     "outputs": [
      {
       "metadata": {},
       "output_type": "pyout",
       "prompt_number": 29,
       "text": [
        "array([  3.17389767e+08])"
       ]
      }
     ],
     "prompt_number": 29
    },
    {
     "cell_type": "code",
     "collapsed": false,
     "input": [
      "rank"
     ],
     "language": "python",
     "metadata": {},
     "outputs": [
      {
       "metadata": {},
       "output_type": "pyout",
       "prompt_number": 30,
       "text": [
        "2"
       ]
      }
     ],
     "prompt_number": 30
    },
    {
     "cell_type": "code",
     "collapsed": false,
     "input": [
      "rcond"
     ],
     "language": "python",
     "metadata": {},
     "outputs": [
      {
       "metadata": {},
       "output_type": "pyout",
       "prompt_number": 31,
       "text": [
        "1.6320278461989801e-13"
       ]
      }
     ],
     "prompt_number": 31
    },
    {
     "cell_type": "markdown",
     "metadata": {},
     "source": [
      "- polyfit() \ud568\uc218\ub294 \uc801\ud569\ud654\ub41c \ubaa8\ub378 \ud568\uc218 fp1\uc758 \ub9e4\uac1c\ubcc0\uc218\ub97c \ubc18\ud658\ud568\n",
      "- full\uc744 True\ub85c \uc124\uc815\ud558\uba74 \uc801\ud569\ud654\ud558\ub294 \uacfc\uc815\uc758 \ucd94\uac00\uc801\uc778 \uc815\ubcf4\ub97c \uc5bb\uc744 \uc218 \uc788\uc74c\n",
      "- \uc815\ud655\ud788 \uadfc\uc0ac\uce58 \uc624\ucc28\ub97c \ub098\ud0c0\ub0b4\ub294 \uc794\ucc28(residual)\uac00 \uad00\uc2ec\uac70\ub9ac"
     ]
    },
    {
     "cell_type": "code",
     "collapsed": false,
     "input": [
      "print('Model parameters: {}'.format(fp1))"
     ],
     "language": "python",
     "metadata": {},
     "outputs": [
      {
       "output_type": "stream",
       "stream": "stdout",
       "text": [
        "Model parameters: [   2.59619213  989.02487106]\n"
       ]
      }
     ],
     "prompt_number": 32
    },
    {
     "cell_type": "code",
     "collapsed": false,
     "input": [
      "print(residuals)"
     ],
     "language": "python",
     "metadata": {},
     "outputs": [
      {
       "output_type": "stream",
       "stream": "stdout",
       "text": [
        "[  3.17389767e+08]\n"
       ]
      }
     ],
     "prompt_number": 33
    },
    {
     "cell_type": "markdown",
     "metadata": {},
     "source": [
      "- \uac00\uc7a5 \uc801\ud569\ud55c \uc9c1\uc120\uc740 \ub2e4\uc74c \ud568\uc218\n",
      "\n",
      "```python\n",
      "f(x) = 2.59619213 * x + 989.02487106\n",
      "```"
     ]
    },
    {
     "cell_type": "markdown",
     "metadata": {},
     "source": [
      "- \ubaa8\ub378 \ub9e4\uac1c\ubcc0\uc218\ub85c\ubd80\ud130 \ubaa8\ub378\uc744 \uc0dd\uc131\ud558\uae30 \uc704\ud574 poly1d() \ud568\uc218\ub97c \uc0ac\uc6a9\ud568"
     ]
    },
    {
     "cell_type": "code",
     "collapsed": false,
     "input": [
      "f1 = sp.poly1d(fp1)\n",
      "f1"
     ],
     "language": "python",
     "metadata": {},
     "outputs": [
      {
       "metadata": {},
       "output_type": "pyout",
       "prompt_number": 34,
       "text": [
        "poly1d([   2.59619213,  989.02487106])"
       ]
      }
     ],
     "prompt_number": 34
    },
    {
     "cell_type": "code",
     "collapsed": false,
     "input": [
      "# fp1\uc758 residuals\uc640 \ub611\uac19\ub2e4.\n",
      "print(error(f1, x, y))"
     ],
     "language": "python",
     "metadata": {},
     "outputs": [
      {
       "output_type": "stream",
       "stream": "stdout",
       "text": [
        "317389767.34\n"
       ]
      }
     ],
     "prompt_number": 35
    },
    {
     "cell_type": "markdown",
     "metadata": {},
     "source": [
      "- \uc801\ud569\ud654 \uacfc\uc815\uc5d0\uc11c \uc138\ubd80 \uc815\ubcf4\ub97c \uc5bb\uae30 \uc704\ud574 full=True\ub97c \uc0ac\uc6a9\ud568\n",
      "- \uc77c\ubc18\uc801\uc73c\ub85c \uc0ac\uc6a9\ud558\uc9c0 \uc54a\uc9c0\ub9cc \uc774\ub7f4 \uacbd\uc6b0 \ubaa8\ub378 \ub9e4\uac1c\ubcc0\uc218\ub9cc \ubc18\ud658\ud568\n",
      "\n",
      "> \uc9c0\uae08 \ud558\uace0 \uc788\ub294 \uc791\uc5c5\uc740 \ub2e8\uc21c\ud55c \uace1\uc120 \uc801\ud569\ud654\ub2e4. http://enwikipedia.org/wiki/Curve_fitting \uc5d0\uc11c \uc880 \ub354 \uc790\uc138\ud55c \uc815\ubcf4\ub97c \uc5bb\uc744 \uc218 \uc788\uc74c"
     ]
    },
    {
     "cell_type": "markdown",
     "metadata": {},
     "source": [
      "- \uccab\ubc88\uc9f8 \ubaa8\ub378\uc744 \uadf8\ub9ac\uae30 \uc704\ud574 f1() \ud568\uc218\ub97c \uc0ac\uc6a9\ud558\uc790\n",
      "- \uc774\uc804\uc758 \uadf8\ub9ac\uae30 \uba85\ub839\uc5b4\uc640 \ub354\ubd88\uc5b4 \ub2f9\ubbc0 \uba85\ub839\uc5b4\ub97c \ucd94\uac00\ud574\ubcf4\uc790"
     ]
    },
    {
     "cell_type": "markdown",
     "metadata": {},
     "source": [
      "#### sp.linspace\n",
      "\n",
      "- 0\ubd80\ud130 1\uae4c\uc9c0 \uc120\ud615\uc5d0\uc11c 101\uac1c\ub85c \uc774\ub8e8\uc5b4\uc9c4 \uc810\uc744 \uadf8\ub824\ub77c"
     ]
    },
    {
     "cell_type": "code",
     "collapsed": false,
     "input": [
      "# \ub3c4\ud45c\ub97c \uc704\ud55c X\uac12\uc744 \uc0dd\uc131\ud568\n",
      "# 0 ~ 743\uae4c\uc9c0 1000\uac1c\ub85c \uc774\ub8e8\uc5b4\uc9d0\n",
      "fx = sp.linspace(0, x[-1], 1000)\n",
      "fx[:10]"
     ],
     "language": "python",
     "metadata": {},
     "outputs": [
      {
       "metadata": {},
       "output_type": "pyout",
       "prompt_number": 37,
       "text": [
        "array([ 0.        ,  0.74374374,  1.48748749,  2.23123123,  2.97497497,\n",
        "        3.71871872,  4.46246246,  5.20620621,  5.94994995,  6.69369369])"
       ]
      }
     ],
     "prompt_number": 37
    },
    {
     "cell_type": "code",
     "collapsed": false,
     "input": [
      "fx[-1]"
     ],
     "language": "python",
     "metadata": {},
     "outputs": [
      {
       "metadata": {},
       "output_type": "pyout",
       "prompt_number": 38,
       "text": [
        "743.0"
       ]
      }
     ],
     "prompt_number": 38
    },
    {
     "cell_type": "code",
     "collapsed": false,
     "input": [
      "# fx"
     ],
     "language": "python",
     "metadata": {},
     "outputs": [],
     "prompt_number": 39
    },
    {
     "cell_type": "code",
     "collapsed": false,
     "input": [
      "fx2 = sp.linspace(0, 1, 101)\n",
      "fx2"
     ],
     "language": "python",
     "metadata": {},
     "outputs": [
      {
       "metadata": {},
       "output_type": "pyout",
       "prompt_number": 40,
       "text": [
        "array([ 0.  ,  0.01,  0.02,  0.03,  0.04,  0.05,  0.06,  0.07,  0.08,\n",
        "        0.09,  0.1 ,  0.11,  0.12,  0.13,  0.14,  0.15,  0.16,  0.17,\n",
        "        0.18,  0.19,  0.2 ,  0.21,  0.22,  0.23,  0.24,  0.25,  0.26,\n",
        "        0.27,  0.28,  0.29,  0.3 ,  0.31,  0.32,  0.33,  0.34,  0.35,\n",
        "        0.36,  0.37,  0.38,  0.39,  0.4 ,  0.41,  0.42,  0.43,  0.44,\n",
        "        0.45,  0.46,  0.47,  0.48,  0.49,  0.5 ,  0.51,  0.52,  0.53,\n",
        "        0.54,  0.55,  0.56,  0.57,  0.58,  0.59,  0.6 ,  0.61,  0.62,\n",
        "        0.63,  0.64,  0.65,  0.66,  0.67,  0.68,  0.69,  0.7 ,  0.71,\n",
        "        0.72,  0.73,  0.74,  0.75,  0.76,  0.77,  0.78,  0.79,  0.8 ,\n",
        "        0.81,  0.82,  0.83,  0.84,  0.85,  0.86,  0.87,  0.88,  0.89,\n",
        "        0.9 ,  0.91,  0.92,  0.93,  0.94,  0.95,  0.96,  0.97,  0.98,\n",
        "        0.99,  1.  ])"
       ]
      }
     ],
     "prompt_number": 40
    },
    {
     "cell_type": "code",
     "collapsed": false,
     "input": [
      "fx3 = sp.linspace(0, 1, 11)\n",
      "fx3"
     ],
     "language": "python",
     "metadata": {},
     "outputs": [
      {
       "metadata": {},
       "output_type": "pyout",
       "prompt_number": 41,
       "text": [
        "array([ 0. ,  0.1,  0.2,  0.3,  0.4,  0.5,  0.6,  0.7,  0.8,  0.9,  1. ])"
       ]
      }
     ],
     "prompt_number": 41
    },
    {
     "cell_type": "code",
     "collapsed": false,
     "input": [
      "fx4 = sp.linspace(0, x[-1]-300, 11)\n",
      "fx4"
     ],
     "language": "python",
     "metadata": {},
     "outputs": [
      {
       "metadata": {},
       "output_type": "pyout",
       "prompt_number": 42,
       "text": [
        "array([   0. ,   44.3,   88.6,  132.9,  177.2,  221.5,  265.8,  310.1,\n",
        "        354.4,  398.7,  443. ])"
       ]
      }
     ],
     "prompt_number": 42
    },
    {
     "cell_type": "code",
     "collapsed": false,
     "input": [
      "fx5 = sp.linspace(0, x[-1]-300, 101)\n",
      "fx5"
     ],
     "language": "python",
     "metadata": {},
     "outputs": [
      {
       "metadata": {},
       "output_type": "pyout",
       "prompt_number": 43,
       "text": [
        "array([   0.  ,    4.43,    8.86,   13.29,   17.72,   22.15,   26.58,\n",
        "         31.01,   35.44,   39.87,   44.3 ,   48.73,   53.16,   57.59,\n",
        "         62.02,   66.45,   70.88,   75.31,   79.74,   84.17,   88.6 ,\n",
        "         93.03,   97.46,  101.89,  106.32,  110.75,  115.18,  119.61,\n",
        "        124.04,  128.47,  132.9 ,  137.33,  141.76,  146.19,  150.62,\n",
        "        155.05,  159.48,  163.91,  168.34,  172.77,  177.2 ,  181.63,\n",
        "        186.06,  190.49,  194.92,  199.35,  203.78,  208.21,  212.64,\n",
        "        217.07,  221.5 ,  225.93,  230.36,  234.79,  239.22,  243.65,\n",
        "        248.08,  252.51,  256.94,  261.37,  265.8 ,  270.23,  274.66,\n",
        "        279.09,  283.52,  287.95,  292.38,  296.81,  301.24,  305.67,\n",
        "        310.1 ,  314.53,  318.96,  323.39,  327.82,  332.25,  336.68,\n",
        "        341.11,  345.54,  349.97,  354.4 ,  358.83,  363.26,  367.69,\n",
        "        372.12,  376.55,  380.98,  385.41,  389.84,  394.27,  398.7 ,\n",
        "        403.13,  407.56,  411.99,  416.42,  420.85,  425.28,  429.71,\n",
        "        434.14,  438.57,  443.  ])"
       ]
      }
     ],
     "prompt_number": 43
    },
    {
     "cell_type": "code",
     "collapsed": false,
     "input": [
      "plt.plot(fx, f1(fx), linewidth=4)"
     ],
     "language": "python",
     "metadata": {},
     "outputs": [
      {
       "metadata": {},
       "output_type": "pyout",
       "prompt_number": 44,
       "text": [
        "[<matplotlib.lines.Line2D at 0x110e0f1d0>]"
       ]
      },
      {
       "metadata": {},
       "output_type": "display_data",
       "png": "[encoded data removed]",
       "text": [
        "<matplotlib.figure.Figure at 0x110f46350>"
       ]
      }
     ],
     "prompt_number": 44
    },
    {
     "cell_type": "code",
     "collapsed": false,
     "input": [
      "# f1(fx)"
     ],
     "language": "python",
     "metadata": {},
     "outputs": [],
     "prompt_number": 45
    },
    {
     "cell_type": "code",
     "collapsed": false,
     "input": [
      "len(f1(fx))"
     ],
     "language": "python",
     "metadata": {},
     "outputs": [
      {
       "metadata": {},
       "output_type": "pyout",
       "prompt_number": 46,
       "text": [
        "1000"
       ]
      }
     ],
     "prompt_number": 46
    },
    {
     "cell_type": "code",
     "collapsed": false,
     "input": [
      "plt.plot(fx4, f1(fx4), linewidth=4)"
     ],
     "language": "python",
     "metadata": {},
     "outputs": [
      {
       "metadata": {},
       "output_type": "pyout",
       "prompt_number": 47,
       "text": [
        "[<matplotlib.lines.Line2D at 0x110d4e4d0>]"
       ]
      },
      {
       "metadata": {},
       "output_type": "display_data",
       "png": "[encoded data removed]",
       "text": [
        "<matplotlib.figure.Figure at 0x110e15650>"
       ]
      }
     ],
     "prompt_number": 47
    },
    {
     "cell_type": "code",
     "collapsed": false,
     "input": [
      "y4 = sp.linspace(0, 100, 11)"
     ],
     "language": "python",
     "metadata": {},
     "outputs": [],
     "prompt_number": 48
    },
    {
     "cell_type": "code",
     "collapsed": false,
     "input": [
      "# plt.plot(x, y) \ub77c\ub294\uac78 \uc54c \uc218 \uc788\ub2e4.\n",
      "# x\ub294 430\uae4c\uc9c0, y\ub294 100\uae4c\uc9c0\n",
      "# \uc774\uac78 \uadf8\ub824\ub77c\n",
      "plt.plot(fx4, y4)"
     ],
     "language": "python",
     "metadata": {},
     "outputs": [
      {
       "metadata": {},
       "output_type": "pyout",
       "prompt_number": 49,
       "text": [
        "[<matplotlib.lines.Line2D at 0x110d5a850>]"
       ]
      },
      {
       "metadata": {},
       "output_type": "display_data",
       "png": "[encoded data removed]",
       "text": [
        "<matplotlib.figure.Figure at 0x110d370d0>"
       ]
      }
     ],
     "prompt_number": 49
    },
    {
     "cell_type": "code",
     "collapsed": false,
     "input": [
      "# x and y must have same first dimension\n",
      "# x\ub294 101\uac1c, y\ub294 11\uac1c\ub77c\uc11c \ub2f9\uc5f0\ud788 \uc548\ub428\n",
      "# x,y\uac00 \uc77c\uce58\ud558\ub294 \uacf3\uc5d0 \uc810\uc744 \ucc0d\uc5b4\uc918\uc57c \ub418\ub294\ub370 \uc11c\ub85c \uac1c\uc218\uac00 \ub2e4\ub974\ub2c8\uae4c \uc548\ub428\n",
      "plt.plot(fx5, y4)"
     ],
     "language": "python",
     "metadata": {},
     "outputs": [
      {
       "ename": "ValueError",
       "evalue": "x and y must have same first dimension",
       "output_type": "pyerr",
       "traceback": [
        "\u001b[0;31m---------------------------------------------------------------------------\u001b[0m\n\u001b[0;31mValueError\u001b[0m                                Traceback (most recent call last)",
        "\u001b[0;32m<ipython-input-50-f3e25216ce2a>\u001b[0m in \u001b[0;36m<module>\u001b[0;34m()\u001b[0m\n\u001b[1;32m      2\u001b[0m \u001b[0;31m# x\ub294 101\uac1c, y\ub294 11\uac1c\ub77c\uc11c \ub2f9\uc5f0\ud788 \uc548\ub428\u001b[0m\u001b[0;34m\u001b[0m\u001b[0;34m\u001b[0m\u001b[0m\n\u001b[1;32m      3\u001b[0m \u001b[0;31m# x,y\uac00 \uc77c\uce58\ud558\ub294 \uacf3\uc5d0 \uc810\uc744 \ucc0d\uc5b4\uc918\uc57c \ub418\ub294\ub370 \uc11c\ub85c \uac1c\uc218\uac00 \ub2e4\ub974\ub2c8\uae4c \uc548\ub428\u001b[0m\u001b[0;34m\u001b[0m\u001b[0;34m\u001b[0m\u001b[0m\n\u001b[0;32m----> 4\u001b[0;31m \u001b[0mplt\u001b[0m\u001b[0;34m.\u001b[0m\u001b[0mplot\u001b[0m\u001b[0;34m(\u001b[0m\u001b[0mfx5\u001b[0m\u001b[0;34m,\u001b[0m \u001b[0my4\u001b[0m\u001b[0;34m)\u001b[0m\u001b[0;34m\u001b[0m\u001b[0m\n\u001b[0m",
        "\u001b[0;32m/Users/re4lfl0w/.virtualenvs/general/lib/python2.7/site-packages/matplotlib/pyplot.pyc\u001b[0m in \u001b[0;36mplot\u001b[0;34m(*args, **kwargs)\u001b[0m\n\u001b[1;32m   3097\u001b[0m         \u001b[0max\u001b[0m\u001b[0;34m.\u001b[0m\u001b[0mhold\u001b[0m\u001b[0;34m(\u001b[0m\u001b[0mhold\u001b[0m\u001b[0;34m)\u001b[0m\u001b[0;34m\u001b[0m\u001b[0m\n\u001b[1;32m   3098\u001b[0m     \u001b[0;32mtry\u001b[0m\u001b[0;34m:\u001b[0m\u001b[0;34m\u001b[0m\u001b[0m\n\u001b[0;32m-> 3099\u001b[0;31m         \u001b[0mret\u001b[0m \u001b[0;34m=\u001b[0m \u001b[0max\u001b[0m\u001b[0;34m.\u001b[0m\u001b[0mplot\u001b[0m\u001b[0;34m(\u001b[0m\u001b[0;34m*\u001b[0m\u001b[0margs\u001b[0m\u001b[0;34m,\u001b[0m \u001b[0;34m**\u001b[0m\u001b[0mkwargs\u001b[0m\u001b[0;34m)\u001b[0m\u001b[0;34m\u001b[0m\u001b[0m\n\u001b[0m\u001b[1;32m   3100\u001b[0m         \u001b[0mdraw_if_interactive\u001b[0m\u001b[0;34m(\u001b[0m\u001b[0;34m)\u001b[0m\u001b[0;34m\u001b[0m\u001b[0m\n\u001b[1;32m   3101\u001b[0m     \u001b[0;32mfinally\u001b[0m\u001b[0;34m:\u001b[0m\u001b[0;34m\u001b[0m\u001b[0m\n",
        "\u001b[0;32m/Users/re4lfl0w/.virtualenvs/general/lib/python2.7/site-packages/matplotlib/axes/_axes.pyc\u001b[0m in \u001b[0;36mplot\u001b[0;34m(self, *args, **kwargs)\u001b[0m\n\u001b[1;32m   1372\u001b[0m         \u001b[0mlines\u001b[0m \u001b[0;34m=\u001b[0m \u001b[0;34m[\u001b[0m\u001b[0;34m]\u001b[0m\u001b[0;34m\u001b[0m\u001b[0m\n\u001b[1;32m   1373\u001b[0m \u001b[0;34m\u001b[0m\u001b[0m\n\u001b[0;32m-> 1374\u001b[0;31m         \u001b[0;32mfor\u001b[0m \u001b[0mline\u001b[0m \u001b[0;32min\u001b[0m \u001b[0mself\u001b[0m\u001b[0;34m.\u001b[0m\u001b[0m_get_lines\u001b[0m\u001b[0;34m(\u001b[0m\u001b[0;34m*\u001b[0m\u001b[0margs\u001b[0m\u001b[0;34m,\u001b[0m \u001b[0;34m**\u001b[0m\u001b[0mkwargs\u001b[0m\u001b[0;34m)\u001b[0m\u001b[0;34m:\u001b[0m\u001b[0;34m\u001b[0m\u001b[0m\n\u001b[0m\u001b[1;32m   1375\u001b[0m             \u001b[0mself\u001b[0m\u001b[0;34m.\u001b[0m\u001b[0madd_line\u001b[0m\u001b[0;34m(\u001b[0m\u001b[0mline\u001b[0m\u001b[0;34m)\u001b[0m\u001b[0;34m\u001b[0m\u001b[0m\n\u001b[1;32m   1376\u001b[0m             \u001b[0mlines\u001b[0m\u001b[0;34m.\u001b[0m\u001b[0mappend\u001b[0m\u001b[0;34m(\u001b[0m\u001b[0mline\u001b[0m\u001b[0;34m)\u001b[0m\u001b[0;34m\u001b[0m\u001b[0m\n",
        "\u001b[0;32m/Users/re4lfl0w/.virtualenvs/general/lib/python2.7/site-packages/matplotlib/axes/_base.pyc\u001b[0m in \u001b[0;36m_grab_next_args\u001b[0;34m(self, *args, **kwargs)\u001b[0m\n\u001b[1;32m    301\u001b[0m                 \u001b[0;32mreturn\u001b[0m\u001b[0;34m\u001b[0m\u001b[0m\n\u001b[1;32m    302\u001b[0m             \u001b[0;32mif\u001b[0m \u001b[0mlen\u001b[0m\u001b[0;34m(\u001b[0m\u001b[0mremaining\u001b[0m\u001b[0;34m)\u001b[0m \u001b[0;34m<=\u001b[0m \u001b[0;36m3\u001b[0m\u001b[0;34m:\u001b[0m\u001b[0;34m\u001b[0m\u001b[0m\n\u001b[0;32m--> 303\u001b[0;31m                 \u001b[0;32mfor\u001b[0m \u001b[0mseg\u001b[0m \u001b[0;32min\u001b[0m \u001b[0mself\u001b[0m\u001b[0;34m.\u001b[0m\u001b[0m_plot_args\u001b[0m\u001b[0;34m(\u001b[0m\u001b[0mremaining\u001b[0m\u001b[0;34m,\u001b[0m \u001b[0mkwargs\u001b[0m\u001b[0;34m)\u001b[0m\u001b[0;34m:\u001b[0m\u001b[0;34m\u001b[0m\u001b[0m\n\u001b[0m\u001b[1;32m    304\u001b[0m                     \u001b[0;32myield\u001b[0m \u001b[0mseg\u001b[0m\u001b[0;34m\u001b[0m\u001b[0m\n\u001b[1;32m    305\u001b[0m                 \u001b[0;32mreturn\u001b[0m\u001b[0;34m\u001b[0m\u001b[0m\n",
        "\u001b[0;32m/Users/re4lfl0w/.virtualenvs/general/lib/python2.7/site-packages/matplotlib/axes/_base.pyc\u001b[0m in \u001b[0;36m_plot_args\u001b[0;34m(self, tup, kwargs)\u001b[0m\n\u001b[1;32m    279\u001b[0m             \u001b[0mx\u001b[0m \u001b[0;34m=\u001b[0m \u001b[0mnp\u001b[0m\u001b[0;34m.\u001b[0m\u001b[0marange\u001b[0m\u001b[0;34m(\u001b[0m\u001b[0my\u001b[0m\u001b[0;34m.\u001b[0m\u001b[0mshape\u001b[0m\u001b[0;34m[\u001b[0m\u001b[0;36m0\u001b[0m\u001b[0;34m]\u001b[0m\u001b[0;34m,\u001b[0m \u001b[0mdtype\u001b[0m\u001b[0;34m=\u001b[0m\u001b[0mfloat\u001b[0m\u001b[0;34m)\u001b[0m\u001b[0;34m\u001b[0m\u001b[0m\n\u001b[1;32m    280\u001b[0m \u001b[0;34m\u001b[0m\u001b[0m\n\u001b[0;32m--> 281\u001b[0;31m         \u001b[0mx\u001b[0m\u001b[0;34m,\u001b[0m \u001b[0my\u001b[0m \u001b[0;34m=\u001b[0m \u001b[0mself\u001b[0m\u001b[0;34m.\u001b[0m\u001b[0m_xy_from_xy\u001b[0m\u001b[0;34m(\u001b[0m\u001b[0mx\u001b[0m\u001b[0;34m,\u001b[0m \u001b[0my\u001b[0m\u001b[0;34m)\u001b[0m\u001b[0;34m\u001b[0m\u001b[0m\n\u001b[0m\u001b[1;32m    282\u001b[0m \u001b[0;34m\u001b[0m\u001b[0m\n\u001b[1;32m    283\u001b[0m         \u001b[0;32mif\u001b[0m \u001b[0mself\u001b[0m\u001b[0;34m.\u001b[0m\u001b[0mcommand\u001b[0m \u001b[0;34m==\u001b[0m \u001b[0;34m'plot'\u001b[0m\u001b[0;34m:\u001b[0m\u001b[0;34m\u001b[0m\u001b[0m\n",
        "\u001b[0;32m/Users/re4lfl0w/.virtualenvs/general/lib/python2.7/site-packages/matplotlib/axes/_base.pyc\u001b[0m in \u001b[0;36m_xy_from_xy\u001b[0;34m(self, x, y)\u001b[0m\n\u001b[1;32m    221\u001b[0m         \u001b[0my\u001b[0m \u001b[0;34m=\u001b[0m \u001b[0mnp\u001b[0m\u001b[0;34m.\u001b[0m\u001b[0matleast_1d\u001b[0m\u001b[0;34m(\u001b[0m\u001b[0my\u001b[0m\u001b[0;34m)\u001b[0m\u001b[0;34m\u001b[0m\u001b[0m\n\u001b[1;32m    222\u001b[0m         \u001b[0;32mif\u001b[0m \u001b[0mx\u001b[0m\u001b[0;34m.\u001b[0m\u001b[0mshape\u001b[0m\u001b[0;34m[\u001b[0m\u001b[0;36m0\u001b[0m\u001b[0;34m]\u001b[0m \u001b[0;34m!=\u001b[0m \u001b[0my\u001b[0m\u001b[0;34m.\u001b[0m\u001b[0mshape\u001b[0m\u001b[0;34m[\u001b[0m\u001b[0;36m0\u001b[0m\u001b[0;34m]\u001b[0m\u001b[0;34m:\u001b[0m\u001b[0;34m\u001b[0m\u001b[0m\n\u001b[0;32m--> 223\u001b[0;31m             \u001b[0;32mraise\u001b[0m \u001b[0mValueError\u001b[0m\u001b[0;34m(\u001b[0m\u001b[0;34m\"x and y must have same first dimension\"\u001b[0m\u001b[0;34m)\u001b[0m\u001b[0;34m\u001b[0m\u001b[0m\n\u001b[0m\u001b[1;32m    224\u001b[0m         \u001b[0;32mif\u001b[0m \u001b[0mx\u001b[0m\u001b[0;34m.\u001b[0m\u001b[0mndim\u001b[0m \u001b[0;34m>\u001b[0m \u001b[0;36m2\u001b[0m \u001b[0;32mor\u001b[0m \u001b[0my\u001b[0m\u001b[0;34m.\u001b[0m\u001b[0mndim\u001b[0m \u001b[0;34m>\u001b[0m \u001b[0;36m2\u001b[0m\u001b[0;34m:\u001b[0m\u001b[0;34m\u001b[0m\u001b[0m\n\u001b[1;32m    225\u001b[0m             \u001b[0;32mraise\u001b[0m \u001b[0mValueError\u001b[0m\u001b[0;34m(\u001b[0m\u001b[0;34m\"x and y can be no greater than 2-D\"\u001b[0m\u001b[0;34m)\u001b[0m\u001b[0;34m\u001b[0m\u001b[0m\n",
        "\u001b[0;31mValueError\u001b[0m: x and y must have same first dimension"
       ]
      },
      {
       "metadata": {},
       "output_type": "display_data",
       "png": "[encoded data removed]",
       "text": [
        "<matplotlib.figure.Figure at 0x110f4f6d0>"
       ]
      }
     ],
     "prompt_number": 50
    },
    {
     "cell_type": "markdown",
     "metadata": {},
     "source": [
      "- [python string format](https://mkaz.com/2012/10/10/python-string-format/#_jmp0_)"
     ]
    },
    {
     "cell_type": "code",
     "collapsed": false,
     "input": [
      "plt.plot(fx, f1(fx), linewidth=4)\n",
      "plt.legend(['d={:d}'.format(f1.order)], loc='upper left')"
     ],
     "language": "python",
     "metadata": {},
     "outputs": [
      {
       "metadata": {},
       "output_type": "pyout",
       "prompt_number": 51,
       "text": [
        "<matplotlib.legend.Legend at 0x110f52d90>"
       ]
      },
      {
       "metadata": {},
       "output_type": "display_data",
       "png": "[encoded data removed]",
       "text": [
        "<matplotlib.figure.Figure at 0x110f52c50>"
       ]
      }
     ],
     "prompt_number": 51
    },
    {
     "cell_type": "code",
     "collapsed": false,
     "input": [
      "# linewidth\n",
      "plt.plot(fx, f1(fx), linewidth=10)\n",
      "plt.legend(['d={:d}'.format(f1.order)], loc='upper left')"
     ],
     "language": "python",
     "metadata": {},
     "outputs": [
      {
       "metadata": {},
       "output_type": "pyout",
       "prompt_number": 52,
       "text": [
        "<matplotlib.legend.Legend at 0x111073b10>"
       ]
      },
      {
       "metadata": {},
       "output_type": "display_data",
       "png": "[encoded data removed]",
       "text": [
        "<matplotlib.figure.Figure at 0x111073610>"
       ]
      }
     ],
     "prompt_number": 52
    },
    {
     "cell_type": "code",
     "collapsed": false,
     "input": [
      "# help(plt.plot)"
     ],
     "language": "python",
     "metadata": {},
     "outputs": [],
     "prompt_number": 53
    },
    {
     "cell_type": "code",
     "collapsed": false,
     "input": [
      "# help(plt.legend)"
     ],
     "language": "python",
     "metadata": {},
     "outputs": [],
     "prompt_number": 54
    },
    {
     "cell_type": "markdown",
     "metadata": {},
     "source": [
      "#### \uc6a9\uc5b4 \uc124\uba85\n",
      "\n",
      "- scatter: \uc810\ub4e4\uc744 \ud769 \ubfcc\ub9ac\uae30\n",
      "- xticks: 10\uac1c\uc758 tick\uc73c\ub85c \ub098\ub204\uae30\n",
      "- autoscale: \uc790\ub3d9 \ud06c\uae30 \uc870\uc808\n",
      "- grid: \uc810\uc120\uc73c\ub85c \ub41c grid \ud45c\uc2dc\n",
      "- plot: line \uc774\ub098 marker\ub97c \ub744\uc6b4\ub2e4.\n",
      "\n",
      "\n",
      "        plot(x, y)        # plot x and y using default line style and color\n",
      "        plot(x, y, 'bo')  # plot x and y using blue circle markers\n",
      "        plot(y)           # plot y using x as index array 0..N-1\n",
      "        plot(y, 'r+')     # ditto, but with red plusses\n",
      "              \n",
      "- legend(\ubc94\ub840): axes\uc5d0 \ub300\ud55c legend\ub97c \ub193\uc744 \uacf3 \uc9c0\uc815\n",
      "- scatter\ub85c \ubfcc\ub824\ub193\uace0 \uac01\uc885 \uc11c\uc2dd\ub4e4 \uc785\ub825\ud558\uace0, xticks\uc740 10\uac1c\ub85c \ucabc\uac1c\uace0, \uc9c1\uc120\uc744 plot\uc73c\ub85c \ub744\uc6b4\ub2e4. legend\ub294 \uc67c\ucabd \uc0c1\ub2e8"
     ]
    },
    {
     "cell_type": "code",
     "collapsed": false,
     "input": [
      "plt.scatter(x, y)\n",
      "plt.title('Web traffic over the last month')\n",
      "plt.xlabel('Time')\n",
      "plt.ylabel('Hits/hour')\n",
      "# week 0 ~ week 9\n",
      "plt.xticks([w*7*24 for w in range(10)], ['week %i' %w for w in range(10)])\n",
      "plt.autoscale(tight=True)\n",
      "plt.grid()\n",
      "plt.plot(fx, f1(fx), linewidth=4)\n",
      "plt.legend(['d={:d}'.format(f1.order)], loc='upper left')\n",
      "plt.show()"
     ],
     "language": "python",
     "metadata": {},
     "outputs": [
      {
       "metadata": {},
       "output_type": "display_data",
       "png": "[encoded data removed]",
       "text": [
        "<matplotlib.figure.Figure at 0x11111c7d0>"
       ]
      }
     ],
     "prompt_number": 55
    },
    {
     "cell_type": "code",
     "collapsed": false,
     "input": [
      "plt.scatter(x, y)\n",
      "plt.title('Web traffic over the last month')\n",
      "plt.xlabel('Time')\n",
      "plt.ylabel('Hits/hour')\n",
      "# week 0 ~ week 9\n",
      "plt.xticks([w*7*24 for w in range(10)], ['week %i' %w for w in range(10)])\n",
      "plt.autoscale(tight=True)\n",
      "plt.grid()\n",
      "# fx4: 300 \ubc18\uc808\ubc16\uc5d0 \uc548\uac00\ub124\n",
      "plt.plot(fx4, f1(fx4), linewidth=4)\n",
      "plt.legend(['d={:d}'.format(f1.order)], loc='upper left')\n",
      "plt.show()"
     ],
     "language": "python",
     "metadata": {},
     "outputs": [
      {
       "metadata": {},
       "output_type": "display_data",
       "png": "[encoded data removed]",
       "text": [
        "<matplotlib.figure.Figure at 0x1110d32d0>"
       ]
      }
     ],
     "prompt_number": 56
    },
    {
     "cell_type": "markdown",
     "metadata": {},
     "source": [
      "- \uccab 4\uc8fc\uc9f8\uae4c\uc9c0\ub294 \ud06c\uac8c \uac12\uc774 \ubc97\uc5b4\ub098\uc9c4 \uc54a\uc544 \ubcf4\uc774\uc9c0\ub9cc \uae30\ubcf8 \ubaa8\ub378\uc774 \uc9c1\uc120\uc774\ub77c\ub294 \ucd08\uae30 \uac00\uc815\uc73c\ub85c \uc778\ud574 \uc798\ubabb\ub41c \uc810\uc774 \uc788\uc74c\n",
      "- \ub354\uc6b1\uc774 \uc624\ucc28\uac12 317,389,767.34\ub294 \uc2e4\uc81c\ub85c \uc5bc\ub9c8\ub098 \uad1c\ucc2e\uc740 \uac78\uae4c?\n",
      "- \uc624\ucc28\uc758 \uc808\ub300\uac12\uc740 \uc880\ucc98\ub7fc \ud640\ub85c \uc0ac\uc6a9\ud558\uc9c0 \uc54a\uc74c\n",
      "- \uadf8\ub7ec\ub098 2 \uacbd\uc7c1 \ubaa8\ub378\uc744 \ube44\uad50\ud574 \uc5b4\ub5a4 \ubaa8\ub378\uc774 \ub098\uc740\uc9c0 \uacb0\uc815\ud560 \ub54c \uc774 \uc624\ucc28\ub97c \uc0ac\uc6a9\ud568\n",
      "- \uccab \ubaa8\ub378\uc740 \uba85\ud655\ud558\uac8c \uc0ac\uc6a9\ud558\uace0\uc790 \ud55c \ubaa8\ub378\uc740 \uc544\ub2c8\uc9c0\ub9cc \uae30\uacc4 \ud559\uc2b5 \uac1c\ubc1c \ub2e8\uacc4\uc5d0\uc11c \uc911\uc694\ud55c \uc5ed\ud560\uc744 \ud568\n",
      "- \ub354 \ub098\uc740 \ubaa8\ub378\uc744 \ucc3e\uc744 \ub54c\uae4c\uc9c0 \uccab \ubc88\uc9f8 \ubaa8\ub378\uc744 \uae30\uc900\uce58\ub85c \uc0ac\uc6a9\ud568\n",
      "- \uc55e\uc73c\ub85c \uc0c8\ub85c\uc6b4 \ubaa8\ub378\uc744 \ucc3e\ub354\ub77c\ub3c4 \ud604\uc7ac \uae30\uc900\uce58\ub85c \ube44\uad50\ud560 \uc218 \uc788\uc74c"
     ]
    },
    {
     "cell_type": "markdown",
     "metadata": {},
     "source": [
      "#### \uc880 \ub354 \ubcf5\uc7a1\ud55c \ubaa8\ub378\n",
      "\n",
      "- \uc0c8\ub85c\uc6b4 \ubaa8\ub378\uc774 \ub370\uc774\ud130\ub97c \ub354 '\uc774\ud574\ud558\ub294\uc9c0' \uc0b4\ud3b4\ubcf4\uae30 \uc704\ud574 \uc880 \ub354 \ubcf5\uc7a1\ud55c 2\ucc28 \ub2e4\ud56d\uc2dd \ubaa8\ub378\ub85c \uc801\ud569\ud654 \uc2dc\ub3c4"
     ]
    },
    {
     "cell_type": "code",
     "collapsed": false,
     "input": [
      "# polifit(x, y, 2\ucc28 \ud568\uc218)\n",
      "fp2 = sp.polyfit(x, y, 2)\n",
      "# x**2 + x + C(\uc0c1\uc218)\n",
      "fp2"
     ],
     "language": "python",
     "metadata": {},
     "outputs": [
      {
       "metadata": {},
       "output_type": "pyout",
       "prompt_number": 57,
       "text": [
        "array([  1.05322215e-02,  -5.26545650e+00,   1.97476082e+03])"
       ]
      }
     ],
     "prompt_number": 57
    },
    {
     "cell_type": "code",
     "collapsed": false,
     "input": [
      "f2 = sp.poly1d(fp2)\n",
      "f2"
     ],
     "language": "python",
     "metadata": {},
     "outputs": [
      {
       "metadata": {},
       "output_type": "pyout",
       "prompt_number": 58,
       "text": [
        "poly1d([  1.05322215e-02,  -5.26545650e+00,   1.97476082e+03])"
       ]
      }
     ],
     "prompt_number": 58
    },
    {
     "cell_type": "code",
     "collapsed": false,
     "input": [
      "error(f2, x, y)"
     ],
     "language": "python",
     "metadata": {},
     "outputs": [
      {
       "metadata": {},
       "output_type": "pyout",
       "prompt_number": 59,
       "text": [
        "179983507.87817919"
       ]
      }
     ],
     "prompt_number": 59
    },
    {
     "cell_type": "code",
     "collapsed": false,
     "input": [
      "help(plt.xticks)"
     ],
     "language": "python",
     "metadata": {},
     "outputs": [
      {
       "output_type": "stream",
       "stream": "stdout",
       "text": [
        "Help on function xticks in module matplotlib.pyplot:\n",
        "\n",
        "xticks(*args, **kwargs)\n",
        "    Get or set the *x*-limits of the current tick locations and labels.\n",
        "    \n",
        "    ::\n",
        "    \n",
        "      # return locs, labels where locs is an array of tick locations and\n",
        "      # labels is an array of tick labels.\n",
        "      locs, labels = xticks()\n",
        "    \n",
        "      # set the locations of the xticks\n",
        "      xticks( arange(6) )\n",
        "    \n",
        "      # set the locations and labels of the xticks\n",
        "      xticks( arange(5), ('Tom', 'Dick', 'Harry', 'Sally', 'Sue') )\n",
        "    \n",
        "    The keyword args, if any, are :class:`~matplotlib.text.Text`\n",
        "    properties. For example, to rotate long labels::\n",
        "    \n",
        "      xticks( arange(12), calendar.month_name[1:13], rotation=17 )\n",
        "\n"
       ]
      }
     ],
     "prompt_number": 126
    },
    {
     "cell_type": "code",
     "collapsed": false,
     "input": [
      "colors = ['g', 'b', 'm', 'r', 'k']\n",
      "linestyles = ['-', '-.', '--', ':', '-']"
     ],
     "language": "python",
     "metadata": {},
     "outputs": [],
     "prompt_number": 147
    },
    {
     "cell_type": "code",
     "collapsed": false,
     "input": [
      "def plot_models(x, y, models, fname=None, mx=None, ymax=None, xmin=None):\n",
      "    plt.figure(num=None, figsize=(8, 6))\n",
      "    plt.clf()\n",
      "    plt.scatter(x, y, s=10)\n",
      "    plt.title('Web traffic over the last month')\n",
      "    plt.xlabel('Time')\n",
      "    plt.ylabel('Hits/hour')\n",
      "    plt.xticks([w*7*24 for w in range(10)], \n",
      "               ['week {:d}'.format(w) for w in range(10)])\n",
      "    if models:\n",
      "        if mx is None:\n",
      "            mx = sp.linspace(0, x[-1], 1000)\n",
      "        for model, style, color in zip(models, linestyles, colors):\n",
      "            plt.plot(mx, model(mx), linestyle=style, linewidth=3, c=color)\n",
      "    plt.legend(['d={:d}'.format(m.order) for m in models], loc='upper left')\n",
      "    \n",
      "    plt.autoscale(tight=True)\n",
      "    plt.ylim(ymin=0)\n",
      "    if ymax:\n",
      "        plt.ylim(ymax=ymax)\n",
      "    if xmin:\n",
      "        plt.xlim(xmin=xmin)\n",
      "    plt.grid(True, linestyle='-', color='0.75')\n",
      "#     plt.savefig(fname)"
     ],
     "language": "python",
     "metadata": {},
     "outputs": [],
     "prompt_number": 153
    },
    {
     "cell_type": "code",
     "collapsed": false,
     "input": [
      "plot_models(x, y, [f1, f2])"
     ],
     "language": "python",
     "metadata": {},
     "outputs": [
      {
       "metadata": {},
       "output_type": "display_data",
       "png": "[encoded data removed]",
       "text": [
        "<matplotlib.figure.Figure at 0x110e12dd0>"
       ]
      }
     ],
     "prompt_number": 154
    },
    {
     "cell_type": "code",
     "collapsed": false,
     "input": [
      "# help(plt.plot)"
     ],
     "language": "python",
     "metadata": {},
     "outputs": [],
     "prompt_number": 61
    },
    {
     "cell_type": "code",
     "collapsed": false,
     "input": [
      "# Show the coefficient of the k-th power in the polynomial\n",
      "f1.order"
     ],
     "language": "python",
     "metadata": {},
     "outputs": [
      {
       "metadata": {},
       "output_type": "pyout",
       "prompt_number": 62,
       "text": [
        "1"
       ]
      }
     ],
     "prompt_number": 62
    },
    {
     "cell_type": "code",
     "collapsed": false,
     "input": [
      "f2.order"
     ],
     "language": "python",
     "metadata": {},
     "outputs": [
      {
       "metadata": {},
       "output_type": "pyout",
       "prompt_number": 63,
       "text": [
        "2"
       ]
      }
     ],
     "prompt_number": 63
    },
    {
     "cell_type": "code",
     "collapsed": false,
     "input": [
      "error(f1, x, y)"
     ],
     "language": "python",
     "metadata": {},
     "outputs": [
      {
       "metadata": {},
       "output_type": "pyout",
       "prompt_number": 81,
       "text": [
        "317389767.33977801"
       ]
      }
     ],
     "prompt_number": 81
    },
    {
     "cell_type": "code",
     "collapsed": false,
     "input": [
      "error(f2, x, y)"
     ],
     "language": "python",
     "metadata": {},
     "outputs": [
      {
       "metadata": {},
       "output_type": "pyout",
       "prompt_number": 82,
       "text": [
        "179983507.87817919"
       ]
      }
     ],
     "prompt_number": 82
    },
    {
     "cell_type": "markdown",
     "metadata": {},
     "source": [
      "- \uc9c1\uc120 \ubaa8\ub378 \uc624\ucc28\uc758 \uac70\uc758 \uc808\ubc18\uc778 179,983,507.878 \uc774\ub2e4.\n",
      "- \uad1c\ucc2e\uc740 \uacb0\uacfc\uc9c0\ub9cc, \uc5ec\uae30\uc5d4 \ub300\uac00\uac00 \ub530\ub984\n",
      "- \uc880 \ub354 \ubcf5\uc7a1\ud55c \ubaa8\ub378\uc774\uace0, polyfit() \ub0b4\ubd80\uc5d0\uc11c \uc870\uc808\ud558\uae30 \uc704\ud574 \ub9e4\uac1c\ubcc0\uc218 \ud558\ub098\ub97c \ub354 \uc0ac\uc6a9\ud55c\ub2e4\ub294 \ub73b\n",
      "- f(x) = 0.0105322215 \\* x\\*\\*2 - 5.26545650 \\* x + 1974.76082\n",
      "- \ubaa8\ub378\uc774 \ubcf5\uc7a1\ud560\uc218\ub85d \ub354 \ub098\uc740 \uacb0\uacfc\uac00 \ub098\uc628\ub2e4\uba74 \ubcf5\uc7a1\uc131\uc744 \uc880 \ub354 \uc99d\uac00\uc2dc\ud0a4\ub294 \uac74 \uc5b4\ub5a8\uae4c? \ucc28\uc218\ub97c 3, 10, 100\uc73c\ub85c \uc2dc\ub3c4"
     ]
    },
    {
     "cell_type": "code",
     "collapsed": false,
     "input": [
      "f3 = sp.poly1d(sp.polyfit(x, y, 3))\n",
      "f10 = sp.poly1d(sp.polyfit(x, y, 10))\n",
      "f100 = sp.poly1d(sp.polyfit(x, y, 100))"
     ],
     "language": "python",
     "metadata": {},
     "outputs": [
      {
       "output_type": "stream",
       "stream": "stderr",
       "text": [
        "/Users/re4lfl0w/.virtualenvs/general/lib/python2.7/site-packages/numpy/lib/polynomial.py:588: RankWarning: Polyfit may be poorly conditioned\n",
        "  warnings.warn(msg, RankWarning)\n"
       ]
      }
     ],
     "prompt_number": 155
    },
    {
     "cell_type": "code",
     "collapsed": false,
     "input": [
      "plot_models(x, y, [f1, f2, f3, f10, f100])"
     ],
     "language": "python",
     "metadata": {},
     "outputs": [
      {
       "metadata": {},
       "output_type": "display_data",
       "png": "[encoded data removed]",
       "text": [
        "<matplotlib.figure.Figure at 0x1112c15d0>"
       ]
      }
     ],
     "prompt_number": 156
    },
    {
     "cell_type": "markdown",
     "metadata": {},
     "source": [
      "- \ubcf5\uc7a1\ud55c \ub370\uc774\ud130\ub97c \uc785\ub825\ubc1b\uc744\uc218\ub85d, \uace1\uc120\uc740 \uc774\ub97c \ubc18\uc601\ud574 \uc880 \ub354 \uc801\ud569\ud574\uc9c4\ub2e4. \uc624\ucc28\ub3c4 \ub3d9\uc77c\ud55c \uacb0\ub860\uc744 \ubcf4\uc5ec\uc90c"
     ]
    },
    {
     "cell_type": "code",
     "collapsed": false,
     "input": [
      "# old version\n",
      "l = [1, 2, 3, 10, 100]\n",
      "\n",
      "def error_rate(lst):\n",
      "    for i in l:\n",
      "        f = 'f' + str(i)\n",
      "        print 'Error d={}: {:,.6f}'.format(i, error(eval(f), x, y))\n",
      "        \n",
      "error_rate(l)"
     ],
     "language": "python",
     "metadata": {},
     "outputs": [
      {
       "output_type": "stream",
       "stream": "stdout",
       "text": [
        "Error d=1: 317,389,767.339778\n",
        "Error d=2: 179,983,507.878179\n",
        "Error d=3: 139,350,144.031725\n",
        "Error d=10: 121,942,326.363641\n",
        "Error d=100: 109,452,412.901221\n"
       ]
      }
     ],
     "prompt_number": 83
    },
    {
     "cell_type": "code",
     "collapsed": false,
     "input": [
      "# New version\n",
      "for f in [f1, f2, f3, f10, f100]:\n",
      "    print 'Error d={}: {:,.6f}'.format(f.order, error(f, x, y))"
     ],
     "language": "python",
     "metadata": {},
     "outputs": [
      {
       "output_type": "stream",
       "stream": "stdout",
       "text": [
        "Error d=1: 317,389,767.339778\n",
        "Error d=2: 179,983,507.878179\n",
        "Error d=3: 139,350,144.031725\n",
        "Error d=10: 121,942,326.363641\n",
        "Error d=53: 109,452,412.901221\n"
       ]
      }
     ],
     "prompt_number": 157
    },
    {
     "cell_type": "markdown",
     "metadata": {},
     "source": [
      "- \ud558\uc9c0\ub9cc \uc801\ud569\ud654\ub41c \uace1\uc120\ub4e4\uc744 \uc790\uc138\ud788 \ubcf4\uba74, \uace1\uc120\ub4e4\uc774 \uc774\ub7ec\ud55c \ub370\uc774\ud130\ub97c \uc0dd\uc131\ud558\ub294 \uacfc\uc815\uc744 \uc798 \ub2f4\uc544\ub0b4\uace0 \uc788\ub294\uc9c0 \uad81\uae08\n",
      "- \ubaa8\ub378\uc774 \uc6f9\uc0ac\uc774\ud2b8\ub97c \ubc29\ubb38\ud558\ub290 \uc0ac\uc6a9\uc790\uc758 \ubcf8\uc9c8\uc801\uc778 \ud574\uc6b0\ub9ac\ub974 \uc798 \ud45c\ud604\ud558\uace0 \uc788\ub294\uac00?\n",
      "- 10\ucc28\uc640 100\ucc28 \ub2e4\ud56d\uc2dd\uc744 \ubcf4\uba74 \ub113\uc740 \ubc94\uc704\uc5d0\uc11c \uad74\uace1\uc774 \ub354 \ub9ce\ub2e4. \uc774\ub294 \ubaa8\ub378\uc774 \ub108\ubb34 \ub9ce\uc740 \ub370\uc774\ud130\uc5d0 \uc801\ud569\ud654\ub41c \uac83\uc73c\ub85c \ubcf4\uc784\n",
      "- \uc8fc\uc694 \ub370\uc774\ud130\ubfd0\ub9cc \uc544\ub2c8\ub77c noise\uae4c\uc9c0 \ubc18\uc601\ub410\ub294\ub370, \uc774\ub97c over-fitting \ub77c \ud568\n",
      "\n",
      "#### \uc774\ucbe4\uc5d0\uc11c \ub2e4\uc74c\uc744 \uc120\ud0dd\ud574\uc57c \ud568\n",
      "\n",
      "- \uc801\ud569\ud654\ub41c \ub2e4\ud56d\uc2dd \ubaa8\ub378 \uc911 \ud558\ub098\ub97c \uc120\ud0dd\ud574\uc57c \ud560\uc9c0\n",
      "- \uc2a4\ud50c\ub77c\uc778 \uac19\uc740 \uc880 \ub354 \ubcf5\uc7a1\ud55c \ubaa8\ub378\ub85c \ubc14\uafd4\uc57c \ud560\uc9c0\n",
      "- \ub370\uc774\ud130\ub97c \ub2e4\ub974\uac8c \ubd84\uc11d\ud558\uace0 \ub2e4\uc2dc \uc2dc\uc791\ud574\uc57c \ud560\uc9c0\n",
      "\n",
      "\n",
      "- 5\uac1c\uc758 \uc801\ud569\ud654\ub41c \ubaa8\ub378\uc5d0\uc11c 1\ucc28 \ub2e4\ud56d\uc2dd \ubaa8\ub378\uc740 \uba85\ubc31\ud558\uac8c \ub2e8\uc21c\n",
      "- 10\ucc28\uc640 100\ucc28 \ub2e4\ud56d\uc2dd\uc740 \uacfc\uc801\ud569\ud654 \ub410\uc74c\n",
      "- 2, 3\ucc28 \ub2e4\ud56d\uc2dd\uc774 \ub370\uc774\ud130\uc5d0 \uc798 \ub9de\ucdb0\uc9c4 \ub4ef\ud558\ub098 2\uac1c\uc758 \uacbd\uacc4\uc120\uc5d0\uc11c \ucd94\ucd9c\ud55c\ub2e4\uba74 \uc774 \ub610\ud55c \uc5c9\ub9dd\uc774 \ub420 \uc218 \uc788\uc74c\n",
      "- \ub2e4\ub978 \ubaa8\ub378\ub85c \ubc14\uafb8\ub294 \ubc29\ubc95 \ub610\ud55c \uc801\ub2f9\ud574 \ubcf4\uc774\uc9c4 \uc54a\uc74c\n",
      "- **\uc785\ub825\uc740 \ubb34\uc5c7**\uc774\uace0 **\ucd9c\ub825\uc740 \ubb34\uc5c7**\uc778\uac00?\n",
      "- \uc774\ucbe4\uc5d0\uc11c **\ub370\uc774\ud130\ub97c \uc644\ubcbd\ud558\uac8c \uc774\ud574\ud558\uc9c0 \ubabb\ud588\ub2e4\ub294 \uc0ac\uc2e4\uc744 \uae68\ub2eb\uac8c** \ub428"
     ]
    },
    {
     "cell_type": "markdown",
     "metadata": {},
     "source": [
      "#### \uc77c\ubcf4\ud6c4\ud1f4, \uc774\ubcf4\uc804\uc9c4: \ub370\uc774\ud130 \ub2e4\uc2dc \uadf8\ub9ac\uae30\n",
      "\n",
      "- \ub4a4\ub85c \ubb3c\ub7ec\uc11c\uc11c \ub370\uc774\ud130\ub97c \ub2e4\uc2dc \ubcf4\uc790\n",
      "- 3\uc8fc\ucc28\uc640 4\uc8fc\ucc28 \uc0ac\uc774\uc5d0 \ubcc0\uace1\uc810\uc774 \uc788\uc74c\n",
      "- 3.5\uc8fc\ucc28\ub97c \uae30\uc900\uc73c\ub85c \ub370\uc774\ud130\ub97c \ub458\ub85c \ub098\ub204\uace0 \ub450 \uc120\uc744 \ub530\ub85c \ud6c8\ub828\ud558\uc790\n",
      "- 3\uc8fc\ucc28\uae4c\uc9c0 \uccab\ubc88\uc9f8 \uc9c1\uc120\uc744 \ud6c8\ub828\ud558\uace0, \ub098\uba38\uc9c0 \uc8fc\ucc28\ub85c\ubd80\ud130 \ub450 \ubc88\uc9f8 \uc9c1\uc120\uc744 \ud6c8\ub828"
     ]
    },
    {
     "cell_type": "code",
     "collapsed": false,
     "input": [
      "inflection = 3.5*7*24"
     ],
     "language": "python",
     "metadata": {},
     "outputs": [],
     "prompt_number": 84
    },
    {
     "cell_type": "code",
     "collapsed": false,
     "input": [
      "xa = x[:inflection]"
     ],
     "language": "python",
     "metadata": {},
     "outputs": [],
     "prompt_number": 86
    },
    {
     "cell_type": "code",
     "collapsed": false,
     "input": [
      "ya = y[:inflection]"
     ],
     "language": "python",
     "metadata": {},
     "outputs": [],
     "prompt_number": 87
    },
    {
     "cell_type": "code",
     "collapsed": false,
     "input": [
      "xb = x[inflection:]"
     ],
     "language": "python",
     "metadata": {},
     "outputs": [],
     "prompt_number": 88
    },
    {
     "cell_type": "code",
     "collapsed": false,
     "input": [
      "yb = y[inflection:]"
     ],
     "language": "python",
     "metadata": {},
     "outputs": [],
     "prompt_number": 89
    },
    {
     "cell_type": "code",
     "collapsed": false,
     "input": [
      "fa = sp.poly1d(sp.polyfit(xa, ya, 1))"
     ],
     "language": "python",
     "metadata": {},
     "outputs": [],
     "prompt_number": 90
    },
    {
     "cell_type": "code",
     "collapsed": false,
     "input": [
      "fb = sp.poly1d(sp.polyfit(xb, yb, 1))"
     ],
     "language": "python",
     "metadata": {},
     "outputs": [],
     "prompt_number": 91
    },
    {
     "cell_type": "code",
     "collapsed": false,
     "input": [
      "fa_error = error(fa, xa, ya)"
     ],
     "language": "python",
     "metadata": {},
     "outputs": [],
     "prompt_number": 92
    },
    {
     "cell_type": "code",
     "collapsed": false,
     "input": [
      "fb_error = error(fb, xb, yb)"
     ],
     "language": "python",
     "metadata": {},
     "outputs": [],
     "prompt_number": 93
    },
    {
     "cell_type": "code",
     "collapsed": false,
     "input": [
      "print('Error inflection={:,}'.format(fa_error + fb_error))"
     ],
     "language": "python",
     "metadata": {},
     "outputs": [
      {
       "output_type": "stream",
       "stream": "stdout",
       "text": [
        "Error inflection=132,950,348.198\n"
       ]
      }
     ],
     "prompt_number": 95
    },
    {
     "cell_type": "markdown",
     "metadata": {},
     "source": [
      "- \ub450 \ub370\uc774\ud130 \ubc94\uc704\uc5d0 \ub300\ud55c \uac01\uac01\uc758 \ubaa8\ub378\uc740 \ub2e4\uc74c \ucc28\ud2b8\uc5d0 \uc788\uc74c"
     ]
    },
    {
     "cell_type": "markdown",
     "metadata": {},
     "source": [
      "#### \ud568\uc218 \uc815\ub9ac\n",
      "\n",
      "- sp.polyfit\n",
      "  - \ub2e4\ud56d \ud568\uc218\uc758 \ucc28\uc218(\uc9c1\uc120 \ud568\uc218\ub294 1\ucc28 \ud568\uc218)\ub97c \uace0\ub824\ud574, \uc774\uc804\uc5d0 \uc815\uc758\ud588\ub358 \uc624\ucc28 \ud568\uc218\ub97c \ucd5c\uc18c\ub85c \ub9cc\ub4dc\ub294 \ubaa8\ub378 \ud568\uc218\ub97c \ucc3e\uc74c\n",
      "  - \uc801\ud569\ud654\ub41c \ubaa8\ub378 \ud568\uc218 fp1\uc758 \ub9e4\uac1c\ubcc0\uc218\ub97c \ubc18\ud658\n",
      "  - \uadfc\uc0ac\uce58 \uc624\ucc28\ub97c \ub098\ud0c0\ub0b4\ub294 \uc794\ucc28(residual)\uac00 \uad00\uc2ec\uac70\ub9ac\n",
      "  \n",
      "  > sp.polyfit(xa, ya, 1)\n",
      "  \n",
      "  \n",
      "- sp.poly1d\n",
      "  - \ubaa8\ub378 \ub9e4\uac1c\ubcc0\uc218\ub85c\ubd80\ud130 \ubaa8\ub378\uc744 \uc0dd\uc131\ud558\uae30 \uc704\ud574\n",
      "  \n",
      "  > sp.poly1d(sp.polyfit(xa, ya, 1))\n",
      "  \n",
      "  > error(f1, x, y1)"
     ]
    },
    {
     "cell_type": "code",
     "collapsed": false,
     "input": [
      "plot_models(x, y, [fa, fb])"
     ],
     "language": "python",
     "metadata": {},
     "outputs": [
      {
       "metadata": {},
       "output_type": "display_data",
       "png": "[encoded data removed]",
       "text": [
        "<matplotlib.figure.Figure at 0x11148e090>"
       ]
      }
     ],
     "prompt_number": 158
    },
    {
     "cell_type": "markdown",
     "metadata": {},
     "source": [
      "- \uba85\ubc31\ud788 \ub450 \uc9c1\uc120\uc758 \uacb0\ud569\uc740 \uc774\uc804 \ubaa8\ub378\ubcf4\ub2e4 \ub370\uc774\ud130\uc5d0 \ub9e4\uc6b0 \uc798 \uc801\ud569\ud654\ub418\uc5b4 \ubcf4\uc784\n",
      "- \uadf8\ub7ec\ub098 \uc544\uc9c1\ub3c4 \uace0\ucc28\uc6d0 \ub2e4\ud56d\uc2dd\ubcf4\ub2e4 \ub192\uc740 \uc624\ucc28\ub97c \ubcf4\uc784\n",
      "- \uacb0\uad6d\uc5d0\ub294 \uc774 \uc624\ucc28\ub97c \ubbff\uc744 \uc218 \uc788\uc744\uae4c?\n",
      "- \uc65c \uc774\uc804\uc758 \ubcf5\uc7a1\ud55c \ubaa8\ub378\ubcf4\ub2e4 \ub9c8\uc9c0\ub9c9 \uc8fc\uc5d0 \uc801\ud569\ud558\uac8c \ub9cc\ub4e0 \uc9c1\uc120 \ubaa8\ub378\uc744 \uc2e0\uc6a9\ud558\ub294\uac00?\n",
      "- \uadf8 \uc774\uc720\ub294 \uc9c1\uc120 \ubaa8\ub378\uc774 \ubbf8\ub798\uc758 \ub370\uc774\ud130\ub97c \uc880 \ub354 \uc798 \uc608\uce21\ud560 \uc218 \uc788\ub2e4\uace0 \uc0dd\uac01\ud558\uae30 \ub54c\ubb38\n",
      "- \ubbf8\ub798\uc758 \ubaa8\ub378\uc744 \uadf8\ub9b0\ub2e4\uba74, \uc5bc\ub9c8\ub098 \uc801\ud569\ud560\uc9c0 \ubcfc \uc218 \uc788\ub2e4(d=1\uc740 \uc9c1\uc120\uc774\ub2e4)"
     ]
    },
    {
     "cell_type": "code",
     "collapsed": false,
     "input": [
      "sp.linspace(0*7*24, 6*7*24, 100)"
     ],
     "language": "python",
     "metadata": {},
     "outputs": [
      {
       "metadata": {},
       "output_type": "pyout",
       "prompt_number": 160,
       "text": [
        "array([    0.        ,    10.18181818,    20.36363636,    30.54545455,\n",
        "          40.72727273,    50.90909091,    61.09090909,    71.27272727,\n",
        "          81.45454545,    91.63636364,   101.81818182,   112.        ,\n",
        "         122.18181818,   132.36363636,   142.54545455,   152.72727273,\n",
        "         162.90909091,   173.09090909,   183.27272727,   193.45454545,\n",
        "         203.63636364,   213.81818182,   224.        ,   234.18181818,\n",
        "         244.36363636,   254.54545455,   264.72727273,   274.90909091,\n",
        "         285.09090909,   295.27272727,   305.45454545,   315.63636364,\n",
        "         325.81818182,   336.        ,   346.18181818,   356.36363636,\n",
        "         366.54545455,   376.72727273,   386.90909091,   397.09090909,\n",
        "         407.27272727,   417.45454545,   427.63636364,   437.81818182,\n",
        "         448.        ,   458.18181818,   468.36363636,   478.54545455,\n",
        "         488.72727273,   498.90909091,   509.09090909,   519.27272727,\n",
        "         529.45454545,   539.63636364,   549.81818182,   560.        ,\n",
        "         570.18181818,   580.36363636,   590.54545455,   600.72727273,\n",
        "         610.90909091,   621.09090909,   631.27272727,   641.45454545,\n",
        "         651.63636364,   661.81818182,   672.        ,   682.18181818,\n",
        "         692.36363636,   702.54545455,   712.72727273,   722.90909091,\n",
        "         733.09090909,   743.27272727,   753.45454545,   763.63636364,\n",
        "         773.81818182,   784.        ,   794.18181818,   804.36363636,\n",
        "         814.54545455,   824.72727273,   834.90909091,   845.09090909,\n",
        "         855.27272727,   865.45454545,   875.63636364,   885.81818182,\n",
        "         896.        ,   906.18181818,   916.36363636,   926.54545455,\n",
        "         936.72727273,   946.90909091,   957.09090909,   967.27272727,\n",
        "         977.45454545,   987.63636364,   997.81818182,  1008.        ])"
       ]
      }
     ],
     "prompt_number": 160
    },
    {
     "cell_type": "code",
     "collapsed": false,
     "input": [
      "help(plt.ylim)"
     ],
     "language": "python",
     "metadata": {},
     "outputs": [
      {
       "output_type": "stream",
       "stream": "stdout",
       "text": [
        "Help on function ylim in module matplotlib.pyplot:\n",
        "\n",
        "ylim(*args, **kwargs)\n",
        "    Get or set the *y*-limits of the current axes.\n",
        "    \n",
        "    ::\n",
        "    \n",
        "      ymin, ymax = ylim()   # return the current ylim\n",
        "      ylim( (ymin, ymax) )  # set the ylim to ymin, ymax\n",
        "      ylim( ymin, ymax )    # set the ylim to ymin, ymax\n",
        "    \n",
        "    If you do not specify args, you can pass the *ymin* and *ymax* as\n",
        "    kwargs, e.g.::\n",
        "    \n",
        "      ylim(ymax=3) # adjust the max leaving min unchanged\n",
        "      ylim(ymin=1) # adjust the min leaving max unchanged\n",
        "    \n",
        "    Setting limits turns autoscaling off for the y-axis.\n",
        "    \n",
        "    The new axis limits are returned as a length 2 tuple.\n",
        "\n"
       ]
      }
     ],
     "prompt_number": 161
    },
    {
     "cell_type": "code",
     "collapsed": false,
     "input": [
      "help(plt.xlim)"
     ],
     "language": "python",
     "metadata": {},
     "outputs": [
      {
       "output_type": "stream",
       "stream": "stdout",
       "text": [
        "Help on function xlim in module matplotlib.pyplot:\n",
        "\n",
        "xlim(*args, **kwargs)\n",
        "    Get or set the *x* limits of the current axes.\n",
        "    \n",
        "    ::\n",
        "    \n",
        "      xmin, xmax = xlim()   # return the current xlim\n",
        "      xlim( (xmin, xmax) )  # set the xlim to xmin, xmax\n",
        "      xlim( xmin, xmax )    # set the xlim to xmin, xmax\n",
        "    \n",
        "    If you do not specify args, you can pass the xmin and xmax as\n",
        "    kwargs, e.g.::\n",
        "    \n",
        "      xlim(xmax=3) # adjust the max leaving min unchanged\n",
        "      xlim(xmin=1) # adjust the min leaving max unchanged\n",
        "    \n",
        "    Setting limits turns autoscaling off for the x-axis.\n",
        "    \n",
        "    The new axis limits are returned as a length 2 tuple.\n",
        "\n"
       ]
      }
     ],
     "prompt_number": 162
    },
    {
     "cell_type": "code",
     "collapsed": false,
     "input": [
      "xmin, xmax = xlim()\n",
      "xmin, xmax"
     ],
     "language": "python",
     "metadata": {},
     "outputs": [
      {
       "metadata": {},
       "output_type": "pyout",
       "prompt_number": 165,
       "text": [
        "(0.0, 1.0)"
       ]
      },
      {
       "metadata": {},
       "output_type": "display_data",
       "png": "[encoded data removed]",
       "text": [
        "<matplotlib.figure.Figure at 0x11143d950>"
       ]
      }
     ],
     "prompt_number": 165
    },
    {
     "cell_type": "code",
     "collapsed": false,
     "input": [
      "plot_models(\n",
      "    x, y, [f1, f2, f3, f10, f100],\n",
      "    os.path.join(CHART_DIR, \"1400_01_06.png\"),\n",
      "    mx=sp.linspace(0 * 7 * 24, 6 * 7 * 24, 100), # mx: xlim \n",
      "    ymax=10000, # ymax: ylim\n",
      "    xmin=0 * 7 * 24)"
     ],
     "language": "python",
     "metadata": {},
     "outputs": [
      {
       "metadata": {},
       "output_type": "display_data",
       "png": "[encoded data removed]",
       "text": [
        "<matplotlib.figure.Figure at 0x111485850>"
       ]
      }
     ],
     "prompt_number": 159
    },
    {
     "cell_type": "code",
     "collapsed": false,
     "input": [
      "plot_models(\n",
      "    x, y, [f1, f2, f3, f10, f100],\n",
      "    os.path.join(CHART_DIR, \"1400_01_06.png\"),\n",
      "    mx=sp.linspace(0 * 7 * 24, 6 * 7 * 24, 100), # mx: xlim \n",
      "    ymax=10000, # ymax: ylim\n",
      "    xmin= 2 * 7 * 24)"
     ],
     "language": "python",
     "metadata": {},
     "outputs": [
      {
       "metadata": {},
       "output_type": "display_data",
       "png": "[encoded data removed]",
       "text": [
        "<matplotlib.figure.Figure at 0x111643250>"
       ]
      }
     ],
     "prompt_number": 169
    },
    {
     "cell_type": "code",
     "collapsed": false,
     "input": [
      "plot_models(\n",
      "    x, y, [f1, f2, f3, f10, f100],\n",
      "    os.path.join(CHART_DIR, \"1400_01_06.png\"),\n",
      "    mx=sp.linspace(0 * 7 * 24, 6 * 7 * 24, 100), # mx: xlim \n",
      "    ymax=10000, # ymax: ylim\n",
      ")"
     ],
     "language": "python",
     "metadata": {},
     "outputs": [
      {
       "metadata": {},
       "output_type": "display_data",
       "png": "[encoded data removed]",
       "text": [
        "<matplotlib.figure.Figure at 0x11152e5d0>"
       ]
      }
     ],
     "prompt_number": 171
    },
    {
     "cell_type": "markdown",
     "metadata": {},
     "source": [
      "- 10\ucc28\uc640 100\ucc28 \ub2e4\ud56d\uc2dd \ubaa8\ub378\uc5d0 \ub530\ub974\uba74 \uc6b0\ub9ac \ud68c\uc0ac\uc758 \ubbf8\ub798\uac00 \ubc1d\uc9c0 \uc54a\uc74c\n",
      "- \ub370\uc774\ud130\ub97c \ub108\ubb34 \uc798 \ubc18\uc601\ud574 \ubaa8\ub378\ud654\ub418\uc5b4 \ubbf8\ub798\uc758 \uc608\uce21\ub3c4 \uc4f8\ubaa8\uc5c6\uc5b4\uc9d0\n",
      "- \uacfc\uc811\ud569\ud654\n",
      "- \ubc18\uba74\uc5d0 \uc800\ucc28 \ub2e4\ud56d\uc2dd \ubaa8\ub378\uc740 \ub370\uc774\ud130\ub97c \uc801\ub2f9\ud558\uac8c \ubc18\uc601\ud558\uc9c0 \ubabb\ud55c \uac83\uc73c\ub85c \ubcf4\uc784. \uc774\ub294 \uacfc\uc18c\uc801\ud569(under-fitting)\n",
      "- \ub9c8\uc9c0\ub9c9 \uc8fc\uc758 \ub370\uc774\ud130\uc5d0 \ub300\ud574 \ubaa8\ub378\uc744 \uc801\ud569\ud654\ud560 \uacbd\uc6b0 2, 3\ucc28 \ub354 \ub192\uc740 \ucc28\uc218 \ub2e4\ud56d\uc2dd\uc774 \uc5b4\ub5bb\uac8c \ud589\ub3d9\ud558\ub294\uc9c0 \uc9c0\ucf1c\ubcf4\uc790\n",
      "- \ubb34\uc5b8\ubcf4\ub2e4\ub3c4, \ub2e4\ub978 \uc774\uc804 \uc8fc\ubcf4\ub2e4 \ub9c8\uc9c0\ub9c9 \uc8fc\uac00 \ubbf8\ub798\uc5d0 \ub300\ud574 \uc608\uce21\uc131\uc744 \ub192\uc5ec\uc904 \uac83\n",
      "- \uacfc\uc801\ud569\ud654\uac00 \uc5bc\ub9c8\ub098 \ubb38\uc81c\uc778\uc9c0 \uc54c \uc218 \uc788\uc74c"
     ]
    },
    {
     "cell_type": "markdown",
     "metadata": {},
     "source": [
      "#### 3.5\uc8fc \uc774\ud6c4\uc758 \ub370\uc774\ud130\ub85c \ud6c8\ub828\ud55c \ubaa8\ub378\uc758 \uc624\ucc28 \ub85c\uc9c1\n",
      "\n",
      "- fb: 3.5\uc8fc\ucc28 \uc774\ud6c4\n",
      "  \n",
      "  > fb = sp.poly1d(sp.polyfit(xb, yb, 1))\n",
      "  \n",
      "- fb2\ub294 2\ucc28 \ud568\uc218\n",
      "\n",
      ">- xb = x[inflection:]\n",
      "- yb = y[inflection:]\n",
      "\n",
      "- 3.5\uc8fc\ucc28 \uc774\ud6c4\ub85c (x\ucd95, y\ucd95, \uba87\ucc28 \ud568\uc218\uc778\uc9c0) \ub9cc\ub4e6"
     ]
    },
    {
     "cell_type": "code",
     "collapsed": false,
     "input": [
      "print(\"Trained only on data after inflection point\")\n",
      "# fb\uac00 3.5\uc8fc\ucc28 \uc774\ud6c4\n",
      "fb1 = fb\n",
      "fb2 = sp.poly1d(sp.polyfit(xb, yb, 2))\n",
      "fb3 = sp.poly1d(sp.polyfit(xb, yb, 3))\n",
      "fb10 = sp.poly1d(sp.polyfit(xb, yb, 10))\n",
      "fb100 = sp.poly1d(sp.polyfit(xb, yb, 100))\n",
      "\n",
      "plot_models(\n",
      "    x, y, [fb1, fb2, fb3, fb10, fb100],\n",
      "    os.path.join(CHART_DIR, \"1400_01_07.png\"),\n",
      "    mx=sp.linspace(0 * 7 * 24, 6 * 7 * 24, 100),\n",
      "    ymax=10000, xmin=0 * 7 * 24)"
     ],
     "language": "python",
     "metadata": {},
     "outputs": [
      {
       "output_type": "stream",
       "stream": "stdout",
       "text": [
        "Trained only on data after inflection point\n"
       ]
      },
      {
       "output_type": "stream",
       "stream": "stderr",
       "text": [
        "/Users/re4lfl0w/.virtualenvs/general/lib/python2.7/site-packages/numpy/lib/polynomial.py:588: RankWarning: Polyfit may be poorly conditioned\n",
        "  warnings.warn(msg, RankWarning)\n",
        "/Users/re4lfl0w/.virtualenvs/general/lib/python2.7/site-packages/numpy/lib/polynomial.py:588: RankWarning: Polyfit may be poorly conditioned\n",
        "  warnings.warn(msg, RankWarning)\n"
       ]
      },
      {
       "metadata": {},
       "output_type": "display_data",
       "png": "[encoded data removed]",
       "text": [
        "<matplotlib.figure.Figure at 0x113f09450>"
       ]
      }
     ],
     "prompt_number": 175
    },
    {
     "cell_type": "markdown",
     "metadata": {},
     "source": [
      "- 3.5\uc8fc \uc774\ud6c4\uc758 \ub370\uc774\ud130\ub85c \ud6c8\ub828\ud55c \ubaa8\ub378\uc758 \uc624\ucc28\ub97c \uae30\uc900\uc73c\ub85c \ud310\ub2e8\ud558\uc790\uba74, \uc544\uc9c1\ub3c4 \ubcf5\uc7a1\ud55c \ubaa8\ub378\uc744 \uc120\ud0dd\ud574\uc57c \ud568\n",
      "- d=53\uc774 \uc624\ucc28\uc728\uc774 \uac00\uc7a5 \ub0ae\uc740\ub370 4\uc8fc\ucc28 \uc774\ud6c4\ub85c\ub294 \uc804\ud600 \ub9de\uc9c0 \uc54a\uc74c"
     ]
    },
    {
     "cell_type": "code",
     "collapsed": false,
     "input": [
      "print(\"Errors for only the time after inflection point\")\n",
      "for f in [fb1, fb2, fb3, fb10, fb100]:\n",
      "    print(\"Error d=%i: %f\" % (f.order, error(f, xb, yb)))"
     ],
     "language": "python",
     "metadata": {},
     "outputs": [
      {
       "output_type": "stream",
       "stream": "stdout",
       "text": [
        "Errors for only the time after inflection point\n",
        "Error d=1: 22143941.107618\n",
        "Error d=2: 19768846.989176\n",
        "Error d=3: 19766452.361027\n",
        "Error d=10: 18949296.814905\n",
        "Error d=53: 18300694.153998\n"
       ]
      }
     ],
     "prompt_number": 178
    },
    {
     "cell_type": "markdown",
     "metadata": {},
     "source": [
      "### \ud6c8\ub828\uacfc \ud14c\uc2a4\ud2b8\n",
      "\n",
      "- \uac00\ub839, \ubaa8\ub378\uc758 \uc815\ud655\ub3c4\ub97c \ub0ae\ucd94\ub294 \ubbf8\ub798\uc758 \ub370\uc774\ud130\ub97c \uac16\uace0 \uc788\ub354\ub77c\ub3c4, \ub2e8\uc9c0 **\uacb0\uacfc\uc778 \uadfc\uc0ac\uce58 \uc624\ucc28\ub97c \ubc14\ud0d5**\uc73c\ub85c **\ubaa8\ub378\uc744 \uc120\ud0dd**\ud560 \uc218 \uc788\uc5b4\uc57c \ud568\n",
      "- \ubbf8\ub798\ub97c \ubcfc \uc218 \uc5c6\ub354\ub77c\ub3c4 **\ubd80\ubd84 \ub370\uc774\ud130\ub85c \uc720\uc0ac\ud55c \uc601\ud5a5\uc744 \uac00\uc815**\ud560 \uc218 \uc788\uace0, \ud574\uc57c\ub9cc \ud568\n",
      "- \uc608\ub97c \ub4e4\uc5b4, \uc77c\uc815 \ubd80\ubd84\uc758 \ub370\uc774\ud130\ub97c \uc81c\uac70\ud558\uace0 \ub098\uba38\uc9c0\ub85c \ud6c8\ub828\n",
      "- \uc624\ucc28\ub97c \uacc4\uc0b0\ud558\uae30 \uc704\ud574 hold-out \ub370\uc774\ud130\ub97c \uc0ac\uc6a9\ud568\n",
      "- \ubaa8\ub378\uc740 \ud640\ub4dc\uc544\uc6c3 \ub370\uc774\ud130\ub97c \uc54c\uc9c0 \ubabb\ud55c \ucc44 \ud6c8\ub828\ub418\uace0, \ubaa8\ub378\uc774 \ubbf8\ub798\uc5d0 \uc5b4\ub5bb\uac8c \ud589\ub3d9\ud560\uc9c0 \uc880 \ub354 \ud604\uc2e4\uc801\uc778 \uadf8\ub9bc\uc744 \uc5bb\uc74c\n",
      "- **\ubcc0\uace1\uc810 \uc774\ud6c4\ub85c\ubd80\ud130(4\uc8fc\ucc28) \ud6c8\ub828\ub41c \ubaa8\ub378\uc758 \ud14c\uc2a4**\ud2b8 \uc624\ucc28\ub294 \ud604\uc800\ud788 **\ucc28\uc774**\uac00 \uc788\uc74c"
     ]
    },
    {
     "cell_type": "code",
     "collapsed": false,
     "input": [
      "# 3.5\uc8fc\ucc28 \uc774\ud6c4 x[inflection:]\n",
      "len(xb)"
     ],
     "language": "python",
     "metadata": {},
     "outputs": [
      {
       "metadata": {},
       "output_type": "pyout",
       "prompt_number": 212,
       "text": [
        "147"
       ]
      }
     ],
     "prompt_number": 212
    },
    {
     "cell_type": "code",
     "collapsed": false,
     "input": [
      "split_idx = int(frac * len(xb))\n",
      "split_idx"
     ],
     "language": "python",
     "metadata": {},
     "outputs": [
      {
       "metadata": {},
       "output_type": "pyout",
       "prompt_number": 182,
       "text": [
        "44"
       ]
      }
     ],
     "prompt_number": 182
    },
    {
     "cell_type": "code",
     "collapsed": false,
     "input": [
      "help(sp.random.permutation)"
     ],
     "language": "python",
     "metadata": {},
     "outputs": [
      {
       "output_type": "stream",
       "stream": "stdout",
       "text": [
        "Help on built-in function permutation:\n",
        "\n",
        "permutation(...)\n",
        "    permutation(x)\n",
        "    \n",
        "    Randomly permute a sequence, or return a permuted range.\n",
        "    \n",
        "    If `x` is a multi-dimensional array, it is only shuffled along its\n",
        "    first index.\n",
        "    \n",
        "    Parameters\n",
        "    ----------\n",
        "    x : int or array_like\n",
        "        If `x` is an integer, randomly permute ``np.arange(x)``.\n",
        "        If `x` is an array, make a copy and shuffle the elements\n",
        "        randomly.\n",
        "    \n",
        "    Returns\n",
        "    -------\n",
        "    out : ndarray\n",
        "        Permuted sequence or array range.\n",
        "    \n",
        "    Examples\n",
        "    --------\n",
        "    >>> np.random.permutation(10)\n",
        "    array([1, 7, 4, 3, 0, 9, 2, 5, 8, 6])\n",
        "    \n",
        "    >>> np.random.permutation([1, 4, 9, 12, 15])\n",
        "    array([15,  1,  9,  4, 12])\n",
        "    \n",
        "    >>> arr = np.arange(9).reshape((3, 3))\n",
        "    >>> np.random.permutation(arr)\n",
        "    array([[6, 7, 8],\n",
        "           [0, 1, 2],\n",
        "           [3, 4, 5]])\n",
        "\n"
       ]
      }
     ],
     "prompt_number": 213
    },
    {
     "cell_type": "code",
     "collapsed": false,
     "input": [
      "shuffled = sp.random.permutation(list(range(len(xb))))\n",
      "shuffled"
     ],
     "language": "python",
     "metadata": {},
     "outputs": [
      {
       "metadata": {},
       "output_type": "pyout",
       "prompt_number": 188,
       "text": [
        "array([131,  17, 118,  21, 107,  94, 112,  40,  62,  19,   6,  30, 133,\n",
        "        10,  54, 145,  86,  29,  82,   2,  75,  90,  92, 132,  65,  14,\n",
        "       143,  32,  83,  31,  61,  28, 108,  48,  74, 142,  87,  27,  59,\n",
        "        96, 141,  85,  72,  57,   0,   1,  51,  80, 104,  50,  69,  37,\n",
        "        39, 116,  71, 146, 140,  25,  43, 100, 125,  12,  93,  60,  49,\n",
        "       126,  66,  20, 144, 128,  84,  52,   9,  99,   7, 110,  58,  24,\n",
        "        41,  88,   5,  64, 119,  45,  81, 122,  98,  55, 121,  11,  91,\n",
        "        38,  79,  67, 103, 124, 105,   8,   3, 115,  42,  26, 101, 120,\n",
        "       130,  56,  36,  63,  13, 139, 117, 109,  73, 129, 138, 136,  22,\n",
        "        78,  44,  95,  89, 135, 102,  70,  46,   4,  97,  23, 123, 106,\n",
        "        53, 137,  68,  34,  76,  77,  15, 114, 111,  18,  16, 134,  35,\n",
        "       113,  33, 127,  47])"
       ]
      }
     ],
     "prompt_number": 188
    },
    {
     "cell_type": "code",
     "collapsed": false,
     "input": [
      "print sorted(shuffled)[-1] == len(shuffled)-1\n",
      "print len(shuffled)"
     ],
     "language": "python",
     "metadata": {},
     "outputs": [
      {
       "output_type": "stream",
       "stream": "stdout",
       "text": [
        "True\n",
        "147\n"
       ]
      }
     ],
     "prompt_number": 205
    },
    {
     "cell_type": "code",
     "collapsed": false,
     "input": [
      "shuffled[:split_idx]"
     ],
     "language": "python",
     "metadata": {},
     "outputs": [
      {
       "metadata": {},
       "output_type": "pyout",
       "prompt_number": 191,
       "text": [
        "array([131,  17, 118,  21, 107,  94, 112,  40,  62,  19,   6,  30, 133,\n",
        "        10,  54, 145,  86,  29,  82,   2,  75,  90,  92, 132,  65,  14,\n",
        "       143,  32,  83,  31,  61,  28, 108,  48,  74, 142,  87,  27,  59,\n",
        "        96, 141,  85,  72,  57])"
       ]
      }
     ],
     "prompt_number": 191
    },
    {
     "cell_type": "code",
     "collapsed": false,
     "input": [
      "test = sorted(shuffled[:split_idx])\n",
      "len(test)"
     ],
     "language": "python",
     "metadata": {},
     "outputs": [
      {
       "metadata": {},
       "output_type": "pyout",
       "prompt_number": 203,
       "text": [
        "44"
       ]
      }
     ],
     "prompt_number": 203
    },
    {
     "cell_type": "code",
     "collapsed": false,
     "input": [
      "train = sorted(shuffled[split_idx:])\n",
      "len(train)"
     ],
     "language": "python",
     "metadata": {},
     "outputs": [
      {
       "metadata": {},
       "output_type": "pyout",
       "prompt_number": 202,
       "text": [
        "103"
       ]
      }
     ],
     "prompt_number": 202
    },
    {
     "cell_type": "code",
     "collapsed": false,
     "input": [
      "print fbt1"
     ],
     "language": "python",
     "metadata": {},
     "outputs": [
      {
       "output_type": "stream",
       "stream": "stdout",
       "text": [
        " \n",
        "21.38 x - 1.11e+04\n"
       ]
      }
     ],
     "prompt_number": 209
    },
    {
     "cell_type": "code",
     "collapsed": false,
     "input": [
      "fbt1"
     ],
     "language": "python",
     "metadata": {},
     "outputs": [
      {
       "metadata": {},
       "output_type": "pyout",
       "prompt_number": 210,
       "text": [
        "poly1d([    21.38369529, -11103.95739573])"
       ]
      }
     ],
     "prompt_number": 210
    },
    {
     "cell_type": "code",
     "collapsed": false,
     "input": [
      "print fbt2"
     ],
     "language": "python",
     "metadata": {},
     "outputs": [
      {
       "output_type": "stream",
       "stream": "stdout",
       "text": [
        "         2\n",
        "0.08632 x - 94.22 x + 2.745e+04\n"
       ]
      }
     ],
     "prompt_number": 208
    },
    {
     "cell_type": "code",
     "collapsed": false,
     "input": [
      "fbt2"
     ],
     "language": "python",
     "metadata": {},
     "outputs": [
      {
       "metadata": {},
       "output_type": "pyout",
       "prompt_number": 211,
       "text": [
        "poly1d([  8.63152895e-02,  -9.42160707e+01,   2.74494006e+04])"
       ]
      }
     ],
     "prompt_number": 211
    },
    {
     "cell_type": "markdown",
     "metadata": {},
     "source": [
      "#### Logic\n",
      "\n",
      "- 3.5\uc8fc\ucc28 \uc774\ud6c4\uc5d0\uc11c 70%\ub97c \ud2b8\ub808\uc774\ub2dd\uc14b, 30%\ub97c \ud14c\uc2a4\ud2b8\uc14b \ud560\ub2f9\n",
      "- \ub79c\ub364\ud558\uac8c \uc11e\uace0 \uadf8 0.3 * 147 \uc5d0\uc11c \ub098\uc628 \uac12\uc744 \uae30\uc900\uc73c\ub85c \uc55e\uc740 \ud14c\uc2a4\ud2b8, \ub4a4\ub294 \ud2b8\ub808\uc774\ub2dd\uc73c\ub85c \ub098\ub214\n",
      "- \\_\\_\\_|\\_\\_\\_\\_\\_\\_\\_\n",
      "- \ud14c\uc2a4\ud2b8  | \ud2b8\ub808\uc774\ub2dd\n",
      "- train\uc5d0 \ud574\ub2f9\ud558\ub294 \uac83\uc73c\ub85c \uac01 \ub2e4\ud56d\ud568\uc218\uc5d0 \ub300\ud55c \ubaa8\ub378\uc744 \ub9cc\ub4e4\uace0 \uc5d0\ub7ec\uc728 \ud3c9\uac00\n",
      "- \ub79c\ub364 \ub370\uc774\ud130\ub77c d=2, d=3\uac00 \uc5ce\uce58\ub77d\ub4a4\uce58\ub77d\ud568."
     ]
    },
    {
     "cell_type": "code",
     "collapsed": false,
     "input": [
      "# separating training from testing data\n",
      "frac = 0.3\n",
      "split_idx = int(frac * len(xb))\n",
      "shuffled = sp.random.permutation(list(range(len(xb))))\n",
      "test = sorted(shuffled[:split_idx])\n",
      "train = sorted(shuffled[split_idx:])\n",
      "fbt1 = sp.poly1d(sp.polyfit(xb[train], yb[train], 1))\n",
      "fbt2 = sp.poly1d(sp.polyfit(xb[train], yb[train], 2))\n",
      "print(\"fbt2(x)= \\n%s\"%fbt2)\n",
      "print(\"fbt2(x)-100,000= \\n%s\"%(fbt2-100000))\n",
      "fbt3 = sp.poly1d(sp.polyfit(xb[train], yb[train], 3))\n",
      "fbt10 = sp.poly1d(sp.polyfit(xb[train], yb[train], 10))\n",
      "fbt100 = sp.poly1d(sp.polyfit(xb[train], yb[train], 100))\n",
      "\n",
      "print(\"Test errors for only the time after inflection point\")\n",
      "for f in [fbt1, fbt2, fbt3, fbt10, fbt100]:\n",
      "    print(\"Error d=%i: %f\" % (f.order, error(f, xb[test], yb[test])))"
     ],
     "language": "python",
     "metadata": {},
     "outputs": [
      {
       "output_type": "stream",
       "stream": "stdout",
       "text": [
        "fbt2(x)= \n",
        "         2\n",
        "0.08632 x - 94.22 x + 2.745e+04\n",
        "fbt2(x)-100,000= \n",
        "         2\n",
        "0.08632 x - 94.22 x - 7.255e+04\n",
        "Test errors for only the time after inflection point\n",
        "Error d=1: 5278106.012193\n",
        "Error d=2: 4997784.532640\n",
        "Error d=3: 5061658.871540\n",
        "Error d=10: 5378138.852173\n",
        "Error d=53: 5804707.662704\n"
       ]
      },
      {
       "output_type": "stream",
       "stream": "stderr",
       "text": [
        "/Users/re4lfl0w/.virtualenvs/general/lib/python2.7/site-packages/numpy/lib/polynomial.py:588: RankWarning: Polyfit may be poorly conditioned\n",
        "  warnings.warn(msg, RankWarning)\n",
        "/Users/re4lfl0w/.virtualenvs/general/lib/python2.7/site-packages/numpy/lib/polynomial.py:588: RankWarning: Polyfit may be poorly conditioned\n",
        "  warnings.warn(msg, RankWarning)\n"
       ]
      }
     ],
     "prompt_number": 194
    },
    {
     "cell_type": "markdown",
     "metadata": {},
     "source": [
      "#### \ucd5c\ud6c4\uc758 \uc2b9\uc790\n",
      "\n",
      "- \uadf8 \ubaa8\ub378\uc740 \ubc14\ub85c \ud14c\uc2a4\ud2b8 \uc624\ucc28\uac00 \uac00\uc7a5 \uc791\uc740 2\ucc28 \ub2e4\ud56d\uc2dd\n",
      "- \uc774 \uc624\ucc28\ub294 \ud6c8\ub828\ub3d9\uc548 \ubaa8\ub378\uc774 \uc54c \uc218 \uc5c6\ub294 \ub370\uc774\ud130\ub97c \uc0ac\uc6a9\ud558\uace0 \uce21\uc815\ud588\uc74c\n",
      "- \uc774\ub85c\uc368 \ubbf8\ub798\uc758 \ub370\uc774\ud130\uac00 \ub098\uc058\uc9c0 \uc54a\uc744 \uac83\uc784\uc744 \ubbff\uac8c\ud568"
     ]
    },
    {
     "cell_type": "code",
     "collapsed": false,
     "input": [
      "plot_models(\n",
      "    x, y, [fbt1, fbt2, fbt3, fbt10, fbt100],\n",
      "    os.path.join(CHART_DIR, \"1400_01_08.png\"),\n",
      "    mx=sp.linspace(0 * 7 * 24, 6 * 7 * 24, 100),\n",
      "    ymax=10000, xmin=0 * 7 * 24)"
     ],
     "language": "python",
     "metadata": {},
     "outputs": [
      {
       "metadata": {},
       "output_type": "display_data",
       "png": "[encoded data removed]",
       "text": [
        "<matplotlib.figure.Figure at 0x111622b90>"
       ]
      }
     ],
     "prompt_number": 215
    },
    {
     "cell_type": "markdown",
     "metadata": {},
     "source": [
      "#### 2\ucc28 \ubc29\uc815\uc2dd \uadfc\uc758 \uacf5\uc2dd \uad6c\ud558\uae30\n",
      "\n",
      "- \uc65c \uc548 \uad6c\ud574\uc9c0\ub294\uac70\uc57c..\n",
      "- \ub0b4\uac00 \uc798\ubabb\ud55c\uac74\uac00..\n",
      "\n",
      "#### \ucc38\uace0 \uc790\ub8cc\n",
      "\n",
      "- [2\ucc28 \ubc29\uc815\uc2dd\uc758 \ud574\uc640 \uadfc\uc758 \uacf5\uc2dd](http://www.mathteacher.pe.kr/algebra_dic/quad_equa_sol.htm)\n",
      "- [2\ucc28\ubc29\uc815\uc2dd\uc758 \uadfc\uc758 \uacf5\uc2dd](http://proi.edupia.com/contents/proicontents/proi/proi/middle/SchoolBook/seb/jd_seb1_content.asp?nTerm=1&nYear=9&nConID=1860&nCatID=728&nDaeNumber=6)\n",
      "- [\ubc29\uc815\uc2dd - \uc5d4\ud558\uc704\ud0a4 \ubbf8\ub7ec](https://mirror.enha.kr/wiki/%EB%B0%A9%EC%A0%95%EC%8B%9D)\n",
      "- [\uc774\ucc28 \ubc29\uc815\uc2dd - \uc704\ud0a4\ubc31\uacfc, \uc6b0\ub9ac \ubaa8\ub450\uc758 \ubc31\uacfc\uc0ac\uc804](http://ko.wikipedia.org/wiki/%EC%9D%B4%EC%B0%A8_%EB%B0%A9%EC%A0%95%EC%8B%9D)"
     ]
    },
    {
     "cell_type": "markdown",
     "metadata": {},
     "source": [
      "#### \uadfc\uc758 \uacf5\uc2dd \ud480\uc774"
     ]
    },
    {
     "cell_type": "code",
     "collapsed": false,
     "input": [
      "from math import sqrt\n",
      "def quadratic_equation(a, b, c):\n",
      "    d = b**2 - 4.0*a*c\n",
      "    if d >= 0.0:\n",
      "        root1 = (-b + d) / (2.0 * a)\n",
      "        root2 = (-b - d) / (2.0 * a)\n",
      "    return root1, root2\n",
      "\n",
      "quadratic_equation(0.08632, 94.22, -7.255e+04)"
     ],
     "language": "python",
     "metadata": {},
     "outputs": [
      {
       "metadata": {},
       "output_type": "pyout",
       "prompt_number": 331,
       "text": [
        "(1166.5222841917118, -197067.2636700649)"
       ]
      }
     ],
     "prompt_number": 331
    },
    {
     "cell_type": "markdown",
     "metadata": {},
     "source": [
      "#### \ub0b4\uac00 \ub178\uac00\ub2e4\ud574\uc11c \ud47c \ud480\uc774"
     ]
    },
    {
     "cell_type": "code",
     "collapsed": false,
     "input": [
      "x = 1612.721393\n",
      "(0.08632 * x**2) - 94.22*x - 7.255e+04"
     ],
     "language": "python",
     "metadata": {},
     "outputs": [
      {
       "metadata": {},
       "output_type": "pyout",
       "prompt_number": 334,
       "text": [
        "6.513908628752688"
       ]
      }
     ],
     "prompt_number": 334
    },
    {
     "cell_type": "code",
     "collapsed": false,
     "input": [
      "from scipy.optimize import fsolve\n",
      "print(fbt2)\n",
      "print(fbt2 - 100000)\n",
      "# reached_max = fsolve(fbt2 - 100000, x0=800) / (7 * 24)\n",
      "reached_max = fsolve(fbt2 - 100000, x0=800)\n",
      "print(\"100,000 hits/hour expected at week %f\" % reached_max[0])"
     ],
     "language": "python",
     "metadata": {},
     "outputs": [
      {
       "output_type": "stream",
       "stream": "stdout",
       "text": [
        "         2\n",
        "0.08632 x - 94.22 x + 2.745e+04\n",
        "         2\n",
        "0.08632 x - 94.22 x - 7.255e+04\n",
        "100,000 hits/hour expected at week 1612.721393\n"
       ]
      }
     ],
     "prompt_number": 330
    },
    {
     "cell_type": "markdown",
     "metadata": {},
     "source": [
      "### \ucd5c\ucd08 \uc9c8\ubb38\uc5d0 \ub300\ub2f5\ud558\uae30\n",
      "\n",
      "- \uacb0\uad6d \ud070 \ud750\ub984\uc744 \uc798 \ubc18\uc601\ud558\ub294 \ubaa8\ub378\uc744 \ucc3e\uc74c\n",
      "- \uc2dc\uac04\ub2f9 100,000 \uc694\uccad\uc774 \uc5b8\uc81c\ucbe4 \ub420\uc9c0 \ucc3e\ub294 \uc77c\uc740 \ub9e4\uc6b0 \uc26c\uc6c0\n",
      "- \ubaa8\ub378 \ud568\uc218\uac00 100,000 \uc774 \ub418\ub294 \uac12\uc744 \ucc3e\uc73c\uba74 \ub428\n",
      "- 2\ucc28 \ub2e4\ud56d\uc2dd\uc744 \uac00\uc9c0\uace0 100,000 \uc774 \ub418\ub294 \uac12\uc744 \ubc18\ub300\ub85c \ucc3e\uc73c\uba74 \ub428\n",
      "- \ubb3c\ub860, \ubaa8\ub378 \ud568\uc218\uc5d0 \uc27d\uac8c \uc801\uc6a9\ud560 \uc218 \uc788\ub294 \uc811\uadfc\ubc95\uc774 \uc788\uc74c\n",
      "- \uc774 \ub2e4\ud56d\uc2dd\uc5d0\uc11c 100,000 \uc744 \ube7c\uace0 \uc774 \uacb0\uacfc \ub2e4\ud56d\uc2dd\uc758 \uadfc\uc744 \ucc3e\uc73c\uba74 \ub428\n",
      "- SciPy optimize \ubaa8\ub4c8\uc758 fsolve \ud568\uc218\ub85c \uadfc\uc744 \uad6c\ud560 \uc218 \uc788\uc74c\n",
      "- fbt2\ub294 \uc6b0\ub9ac\uc758 \ucd5c\uc885 \ubaa8\ub378\uc784"
     ]
    },
    {
     "cell_type": "code",
     "collapsed": false,
     "input": [
      "fbt2 = sp.poly1d(sp.polyfit(xb[train], yb[train], 2))"
     ],
     "language": "python",
     "metadata": {},
     "outputs": [],
     "prompt_number": 216
    },
    {
     "cell_type": "code",
     "collapsed": false,
     "input": [
      "print(fbt2)"
     ],
     "language": "python",
     "metadata": {},
     "outputs": [
      {
       "output_type": "stream",
       "stream": "stdout",
       "text": [
        "         2\n",
        "0.08632 x - 94.22 x + 2.745e+04\n"
       ]
      }
     ],
     "prompt_number": 289
    },
    {
     "cell_type": "code",
     "collapsed": false,
     "input": [
      "print(fbt2 - 100000)"
     ],
     "language": "python",
     "metadata": {},
     "outputs": [
      {
       "output_type": "stream",
       "stream": "stdout",
       "text": [
        "         2\n",
        "0.08632 x - 94.22 x - 7.255e+04\n"
       ]
      }
     ],
     "prompt_number": 290
    },
    {
     "cell_type": "code",
     "collapsed": false,
     "input": [
      "from scipy.optimize import fsolve"
     ],
     "language": "python",
     "metadata": {},
     "outputs": [],
     "prompt_number": 219
    },
    {
     "cell_type": "code",
     "collapsed": false,
     "input": [
      "# \uc774\uac74 \ub098\uc911\uc5d0 \uae30\ud68c\ub420 \ub54c \ubb3c\uc5b4\ubcf4\uae30\n",
      "help(fsolve)"
     ],
     "language": "python",
     "metadata": {},
     "outputs": [
      {
       "output_type": "stream",
       "stream": "stdout",
       "text": [
        "Help on function fsolve in module scipy.optimize.minpack:\n",
        "\n",
        "fsolve(func, x0, args=(), fprime=None, full_output=0, col_deriv=0, xtol=1.49012e-08, maxfev=0, band=None, epsfcn=None, factor=100, diag=None)\n",
        "    Find the roots of a function.\n",
        "    \n",
        "    Return the roots of the (non-linear) equations defined by\n",
        "    ``func(x) = 0`` given a starting estimate.\n",
        "    \n",
        "    Parameters\n",
        "    ----------\n",
        "    func : callable ``f(x, *args)``\n",
        "        A function that takes at least one (possibly vector) argument.\n",
        "    x0 : ndarray\n",
        "        The starting estimate for the roots of ``func(x) = 0``.\n",
        "    args : tuple, optional\n",
        "        Any extra arguments to `func`.\n",
        "    fprime : callable(x), optional\n",
        "        A function to compute the Jacobian of `func` with derivatives\n",
        "        across the rows. By default, the Jacobian will be estimated.\n",
        "    full_output : bool, optional\n",
        "        If True, return optional outputs.\n",
        "    col_deriv : bool, optional\n",
        "        Specify whether the Jacobian function computes derivatives down\n",
        "        the columns (faster, because there is no transpose operation).\n",
        "    xtol : float\n",
        "        The calculation will terminate if the relative error between two\n",
        "        consecutive iterates is at most `xtol`.\n",
        "    maxfev : int, optional\n",
        "        The maximum number of calls to the function. If zero, then\n",
        "        ``100*(N+1)`` is the maximum where N is the number of elements\n",
        "        in `x0`.\n",
        "    band : tuple, optional\n",
        "        If set to a two-sequence containing the number of sub- and\n",
        "        super-diagonals within the band of the Jacobi matrix, the\n",
        "        Jacobi matrix is considered banded (only for ``fprime=None``).\n",
        "    epsfcn : float, optional\n",
        "        A suitable step length for the forward-difference\n",
        "        approximation of the Jacobian (for ``fprime=None``). If\n",
        "        `epsfcn` is less than the machine precision, it is assumed\n",
        "        that the relative errors in the functions are of the order of\n",
        "        the machine precision.\n",
        "    factor : float, optional\n",
        "        A parameter determining the initial step bound\n",
        "        (``factor * || diag * x||``).  Should be in the interval\n",
        "        ``(0.1, 100)``.\n",
        "    diag : sequence, optional\n",
        "        N positive entries that serve as a scale factors for the\n",
        "        variables.\n",
        "    \n",
        "    Returns\n",
        "    -------\n",
        "    x : ndarray\n",
        "        The solution (or the result of the last iteration for\n",
        "        an unsuccessful call).\n",
        "    infodict : dict\n",
        "        A dictionary of optional outputs with the keys:\n",
        "    \n",
        "        ``nfev``\n",
        "            number of function calls\n",
        "        ``njev``\n",
        "            number of Jacobian calls\n",
        "        ``fvec``\n",
        "            function evaluated at the output\n",
        "        ``fjac``\n",
        "            the orthogonal matrix, q, produced by the QR\n",
        "            factorization of the final approximate Jacobian\n",
        "            matrix, stored column wise\n",
        "        ``r``\n",
        "            upper triangular matrix produced by QR factorization\n",
        "            of the same matrix\n",
        "        ``qtf``\n",
        "            the vector ``(transpose(q) * fvec)``\n",
        "    \n",
        "    ier : int\n",
        "        An integer flag.  Set to 1 if a solution was found, otherwise refer\n",
        "        to `mesg` for more information.\n",
        "    mesg : str\n",
        "        If no solution is found, `mesg` details the cause of failure.\n",
        "    \n",
        "    See Also\n",
        "    --------\n",
        "    root : Interface to root finding algorithms for multivariate\n",
        "    functions. See the 'hybr' `method` in particular.\n",
        "    \n",
        "    Notes\n",
        "    -----\n",
        "    ``fsolve`` is a wrapper around MINPACK's hybrd and hybrj algorithms.\n",
        "\n"
       ]
      }
     ],
     "prompt_number": 223
    },
    {
     "cell_type": "code",
     "collapsed": false,
     "input": [
      "print(fbt2)"
     ],
     "language": "python",
     "metadata": {},
     "outputs": [
      {
       "output_type": "stream",
       "stream": "stdout",
       "text": [
        "         2\n",
        "0.08632 x - 94.22 x + 2.745e+04\n"
       ]
      }
     ],
     "prompt_number": 277
    },
    {
     "cell_type": "code",
     "collapsed": false,
     "input": [
      "print(fbt2-100000)"
     ],
     "language": "python",
     "metadata": {},
     "outputs": [
      {
       "output_type": "stream",
       "stream": "stdout",
       "text": [
        "         2\n",
        "0.08632 x - 94.22 x - 7.255e+04\n"
       ]
      }
     ],
     "prompt_number": 278
    },
    {
     "cell_type": "code",
     "collapsed": false,
     "input": [
      "fsolve??"
     ],
     "language": "python",
     "metadata": {},
     "outputs": [],
     "prompt_number": 280
    },
    {
     "cell_type": "code",
     "collapsed": false,
     "input": [
      "def test_fbt2(x):\n",
      "    return (0.08632 * x**2 - 94.22*x + 2.255e+04)"
     ],
     "language": "python",
     "metadata": {},
     "outputs": [],
     "prompt_number": 281
    },
    {
     "cell_type": "code",
     "collapsed": false,
     "input": [
      "test_fbt2(9.599532)"
     ],
     "language": "python",
     "metadata": {},
     "outputs": [
      {
       "metadata": {},
       "output_type": "pyout",
       "prompt_number": 282,
       "text": [
        "21653.486570541914"
       ]
      }
     ],
     "prompt_number": 282
    },
    {
     "cell_type": "code",
     "collapsed": false,
     "input": [
      "test_fbt2(9.599532)*(7 * 24)"
     ],
     "language": "python",
     "metadata": {},
     "outputs": [
      {
       "metadata": {},
       "output_type": "pyout",
       "prompt_number": 284,
       "text": [
        "3637785.7438510414"
       ]
      }
     ],
     "prompt_number": 284
    },
    {
     "cell_type": "code",
     "collapsed": false,
     "input": [
      "fsolve(fbt2 - 100000, x0=800)"
     ],
     "language": "python",
     "metadata": {},
     "outputs": [
      {
       "metadata": {},
       "output_type": "pyout",
       "prompt_number": 249,
       "text": [
        "array([ 1612.72139269])"
       ]
      }
     ],
     "prompt_number": 249
    },
    {
     "cell_type": "code",
     "collapsed": false,
     "input": [
      "reached_max = fsolve(fbt2 - 100000, x0=800)/(7 * 24)\n",
      "reached_max"
     ],
     "language": "python",
     "metadata": {},
     "outputs": [
      {
       "metadata": {},
       "output_type": "pyout",
       "prompt_number": 224,
       "text": [
        "array([ 9.5995321])"
       ]
      }
     ],
     "prompt_number": 224
    },
    {
     "cell_type": "code",
     "collapsed": false,
     "input": [
      "# x0\uac00 \ub73b\ud558\ub294\uac74 \ubb54\uac00?\n",
      "for i in range(1, 2000, 100):\n",
      "    reached_max = fsolve(fbt2 - 100000, x0=i)/(7 * 24)\n",
      "    print i, reached_max"
     ],
     "language": "python",
     "metadata": {},
     "outputs": [
      {
       "output_type": "stream",
       "stream": "stdout",
       "text": [
        "1 [-3.10230608]\n",
        "101 [-3.10230608]\n",
        "201 [-3.10230608]\n",
        "301 [-3.10230608]\n",
        "401 [-3.10230608]\n",
        "501 [-3.10230608]\n",
        "601 [ 9.5995321]\n",
        "701 [ 9.5995321]\n",
        "801 [ 9.5995321]\n",
        "901 [ 9.5995321]\n",
        "1001 [ 9.5995321]\n",
        "1101 [ 9.5995321]\n",
        "1201 [ 9.5995321]\n",
        "1301 [ 9.5995321]\n",
        "1401 [ 9.5995321]\n",
        "1501 [ 9.5995321]\n",
        "1601 [ 9.5995321]\n",
        "1701 [ 9.5995321]\n",
        "1801 [ 9.5995321]\n",
        "1901 [ 9.5995321]\n"
       ]
      }
     ],
     "prompt_number": 260
    },
    {
     "cell_type": "code",
     "collapsed": false,
     "input": [
      "def fsolve_(xy):\n",
      "    x, y = xy\n",
      "    z = np.array([y - x**2, y-x-1.0])\n",
      "    return z\n",
      "\n",
      "fsolve(fsolve_, [1.0, 2.0])"
     ],
     "language": "python",
     "metadata": {},
     "outputs": [
      {
       "metadata": {},
       "output_type": "pyout",
       "prompt_number": 251,
       "text": [
        "array([ 1.61803399,  2.61803399])"
       ]
      }
     ],
     "prompt_number": 251
    },
    {
     "cell_type": "code",
     "collapsed": false,
     "input": [
      "x, y = [1.0, 2.0]\n",
      "print x\n",
      "print y"
     ],
     "language": "python",
     "metadata": {},
     "outputs": [
      {
       "output_type": "stream",
       "stream": "stdout",
       "text": [
        "1.0\n",
        "2.0\n"
       ]
      }
     ],
     "prompt_number": 256
    },
    {
     "cell_type": "code",
     "collapsed": false,
     "input": [
      "np.array([2.0 - 1.0**2, 2.0-1.0-1.0])"
     ],
     "language": "python",
     "metadata": {},
     "outputs": [
      {
       "metadata": {},
       "output_type": "pyout",
       "prompt_number": 255,
       "text": [
        "array([ 1.,  0.])"
       ]
      }
     ],
     "prompt_number": 255
    },
    {
     "cell_type": "code",
     "collapsed": false,
     "input": [
      "print('100,000 hits/hour expected at week %f' % reached_max[0])"
     ],
     "language": "python",
     "metadata": {},
     "outputs": [
      {
       "output_type": "stream",
       "stream": "stdout",
       "text": [
        "100,000 hits/hour expected at week 9.599532\n"
       ]
      }
     ],
     "prompt_number": 225
    },
    {
     "cell_type": "markdown",
     "metadata": {},
     "source": [
      "- \ubaa8\ub378\uc740 \uc8fc\uc5b4\uc9c4 \ud604\uc7ac \uc0ac\uc6a9\uc790\uc758 \ud750\ub984\uacfc \ud68c\uc0ac\uc758 \ud2b8\ub79c\uc7ad\uc158\uc73c\ub85c \ud68c\uc0ac\uc758 \ucd5c\ub300 \uc218\uc6a9\uce58\uac00 \uc5b8\uc81c\uac00 \ub420\uc9c0 \uc54c\ub824\uc904 \uc218 \uc788\uc74c\n",
      "- \ubb3c\ub860 \uc608\uce21\uc774 \uc815\ud655\ud788 \ub9de\uc9c4 \uc54a\uc744 \uc218\ub3c4 \uc788\uc74c\n",
      "- \uc2e4\uc81c \uadf8\ub9bc\uc744 \uc5bb\uae30 \uc704\ud574, \uc880 \ub354 \uba3c \ubbf8\ub798\ub97c \uc608\uc0c1\ud560 \ub54c \uc0ac\uc6a9\ud574\uc57c \ud558\ub294 \ubd84\uc0b0(variance) \uac19\uc740 \uc815\uad50\ud55c \ud1b5\uacc4\ub97c \uc774\uc6a9\ud560 \uc218 \uc788\uc74c\n",
      "- \uc815\uc801\uc778 \uc0ac\uc6a9\uc790\uc640 \uc815\ud655\ud788 \ubaa8\ub378\ub9c1 \ud560 \uc218 \uc5c6\ub294 \ub3d9\uc801\uc778 \uc0ac\uc6a9\uc790\uac00 \uc788\uc9c0\ub9cc \uc774\ucbe4\uc5d0\uc11c\ub294 \uc774 \uc815\ub3c4 \uc608\uce21\uc774\uba74 \ucda9\ubd84\ud568\n",
      "- \ubb34\uc5c7\ubcf4\ub2e4 \uc2dc\uac04 \uc18c\ubaa8\uc801\uc778 \uc791\uc5c5\uc744 \uc900\ube44\ud560 \uc218 \uc788\uac8c \ub410\uc74c\n",
      "- \ud2b8\ub798\ud53d\uc744 \uc880 \ub354 \uc790\uc138\ud788 \ubcf8\ub2e4\uba74 \uc0c8\ub85c\uc6b4 \uc124\ube44\uac00 \ud544\uc694\ud55c \uc2dc\uc810\uc744 \ucc3e\uc744 \uc218 \uc788\uc74c"
     ]
    },
    {
     "cell_type": "markdown",
     "metadata": {},
     "source": [
      "## \uc815\ub9ac\n",
      "\n",
      "- \uc804\ud615\uc801\uc778 \uae30\uacc4 \ud559\uc2b5 \uc791\uc5c5\uc73c\ub85c\uc11c \uac00\uc7a5 \uc911\uc694\ud55c \uc0ac\ud56d\uc740 **\ub370\uc774\ud130\ub97c \uc815\uc81c**\ud558\uace0 **\uc774\ud574**\ud558\ub294 \ub370 \ub300\ubd80\ubd84\uc758 \uc2dc\uac04\uc744 \ubcf4\ub0b8\ub2e4\ub294 \uc810\n",
      "- \uc774 \uc608\uc81c\uac00 \uc54c\uace0\ub9ac\uc998\uc5d0\uc11c \ub370\uc774\ud130\ub85c \uc0dd\uac01\uc758 \uc911\uc2ec\uc744 \uc62e\uae30\ub294\ub370 \ub3c4\uc6c0\uc774 \ub418\uae38 \ubc14\ub78c\n",
      "- **\uc62c\ubc14\ub978 \uc2e4\ud5d8 \uc900\ube44**\uac00 \uc5bc\ub9c8\ub098 **\uc911\uc694**\ud55c\uc9c0\n",
      "- **\ud6c8\ub828**\uacfc **\ud14c\uc2a4\ud2b8**\uac00 \uc11e\uc774\uc9c0 \uc54a\ub294\uac8c \uc911\uc694\ud558\ub2e4\ub294 \uc0ac\uc2e4\ub3c4 \ubc30\uc6c0\n",
      "- \ub2e4\ud56d\uc2dd \uc801\ud569\ud654\uc758 \uc0ac\uc6a9\uc774 \uae30\uacc4 \ud559\uc2b5 \uc138\uacc4\uc5d0\uc11c \uac00\uc7a5 \ub9e4\ub825\uc801\uc778 \ubd80\ubd84\uc740 \uc544\ub2c8\uc9c0\uba74, \uc77c\ubd80 \ubc18\uc9dd\uac70\ub9ac\ub294 \uc54c\uace0\ub9ac\uc998\uc758 \uba4b\uc9d0\uc5d0 \ube60\uc9c0\uc9c0 \uc54a\uace0 \uc704\uc5d0 \uc694\uc57d\ud55c 2\uac00\uc9c0 \uc911\uc694\ud55c \uc758\ubbf8\ub97c \uc54c\ub824\uc8fc\uace0\uc790 \uc120\ud0dd\ud568\n",
      "- \ub2e4\uc74c \uc7a5\uc5d0\uc11c\ub294 Scikit-learn\uc5d0 \ud3ec\ud568\ub41c \uc544\uc774\ub9ac\uc2a4 \ub370\uc774\ud130\ub97c \uc0ac\uc6a9\ud574 **\uaf43\uc744 \ubd84\ub958\ud558\ub294 \ubaa8\ub378\uc744 \uc791\uc131**\ud55c\ub2e4.\n",
      "- **\ubaa8\ub378\uc744 \ud6c8\ub828**\ud558\uace0 **\ud3c9\uac00**\ud558\ub294 \uc804\uccb4\uc801\uc778 \uae30\uacc4 \ud559\uc2b5 \uacfc\uc815\uc744 \uc0b4\ud3b4\ubcf4\uaca0\ub2e4."
     ]
    }
   ],
   "metadata": {}
  }
 ]
}