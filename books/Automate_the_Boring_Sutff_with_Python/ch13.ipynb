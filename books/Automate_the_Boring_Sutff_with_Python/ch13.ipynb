{
 "cells": [
  {
   "cell_type": "markdown",
   "metadata": {},
   "source": [
    "# ch13 Working with PDF and Word Documents"
   ]
  },
  {
   "cell_type": "markdown",
   "metadata": {},
   "source": [
    "## Working with PDF and word Documents\n",
    "\n",
    "- PyPDF2\n",
    "- Python-Docx"
   ]
  },
  {
   "cell_type": "markdown",
   "metadata": {},
   "source": [
    "## PDF Documents\n",
    "\n",
    "- PDF: Portable Document Format"
   ]
  },
  {
   "cell_type": "markdown",
   "metadata": {},
   "source": [
    "### The Problematic PDF Format\n",
    "\n",
    "- 정확히 plaintext로 추출할 수 없다.\n",
    "- 몇 개의 PDF 파일은 열 수가 없다."
   ]
  },
  {
   "cell_type": "markdown",
   "metadata": {},
   "source": [
    "### Extracting Text from PDFs"
   ]
  },
  {
   "cell_type": "code",
   "execution_count": 6,
   "metadata": {
    "collapsed": false
   },
   "outputs": [],
   "source": [
    "import PyPDF2"
   ]
  },
  {
   "cell_type": "code",
   "execution_count": 9,
   "metadata": {
    "collapsed": true
   },
   "outputs": [],
   "source": [
    "pdfFileObj = open('src/meetingminutes.pdf', 'rb')"
   ]
  },
  {
   "cell_type": "code",
   "execution_count": 11,
   "metadata": {
    "collapsed": false
   },
   "outputs": [],
   "source": [
    "pdfReader = PyPDF2.PdfFileReader(pdfFileObj)"
   ]
  },
  {
   "cell_type": "code",
   "execution_count": 12,
   "metadata": {
    "collapsed": false
   },
   "outputs": [
    {
     "data": {
      "text/plain": [
       "19"
      ]
     },
     "execution_count": 12,
     "metadata": {},
     "output_type": "execute_result"
    }
   ],
   "source": [
    "pdfReader.numPages"
   ]
  },
  {
   "cell_type": "code",
   "execution_count": 13,
   "metadata": {
    "collapsed": true
   },
   "outputs": [],
   "source": [
    "!open src/meetingminutes.pdf"
   ]
  },
  {
   "cell_type": "code",
   "execution_count": 14,
   "metadata": {
    "collapsed": true
   },
   "outputs": [],
   "source": [
    "pageObj = pdfReader.getPage(0)"
   ]
  },
  {
   "cell_type": "code",
   "execution_count": 16,
   "metadata": {
    "collapsed": false
   },
   "outputs": [
    {
     "name": "stdout",
     "output_type": "stream",
     "text": [
      "OOFFFFIICCIIAALL  BBOOAARRDD  MMIINNUUTTEESS   Meeting of March 7, 2014        \n",
      "     The Board of Elementary and Secondary Education shall provide leadership and create policies for education that expand opportunities for children, empower families and communities, and advance Louisiana in an increasingly competitive global market. BOARD  of ELEMENTARY and  SECONDARY EDUCATION  \n"
     ]
    }
   ],
   "source": [
    "print pageObj.extractText()"
   ]
  },
  {
   "cell_type": "markdown",
   "metadata": {},
   "source": [
    "### Decrypting PDFs"
   ]
  },
  {
   "cell_type": "code",
   "execution_count": 1,
   "metadata": {
    "collapsed": true
   },
   "outputs": [],
   "source": [
    "import PyPDF2"
   ]
  },
  {
   "cell_type": "code",
   "execution_count": 2,
   "metadata": {
    "collapsed": true
   },
   "outputs": [],
   "source": [
    "pdfReader = PyPDF2.PdfFileReader(open('src/encrypted.pdf', 'rb'))"
   ]
  },
  {
   "cell_type": "code",
   "execution_count": 3,
   "metadata": {
    "collapsed": false
   },
   "outputs": [
    {
     "data": {
      "text/plain": [
       "True"
      ]
     },
     "execution_count": 3,
     "metadata": {},
     "output_type": "execute_result"
    }
   ],
   "source": [
    "pdfReader.isEncrypted"
   ]
  },
  {
   "cell_type": "code",
   "execution_count": 5,
   "metadata": {
    "collapsed": true
   },
   "outputs": [],
   "source": [
    "!open src/encrypted.pdf"
   ]
  },
  {
   "cell_type": "code",
   "execution_count": 4,
   "metadata": {
    "collapsed": false
   },
   "outputs": [
    {
     "data": {
      "text/plain": [
       "1"
      ]
     },
     "execution_count": 4,
     "metadata": {},
     "output_type": "execute_result"
    }
   ],
   "source": [
    "pdfReader.decrypt('rosebud')"
   ]
  },
  {
   "cell_type": "code",
   "execution_count": 5,
   "metadata": {
    "collapsed": false
   },
   "outputs": [
    {
     "data": {
      "text/plain": [
       "19"
      ]
     },
     "execution_count": 5,
     "metadata": {},
     "output_type": "execute_result"
    }
   ],
   "source": [
    "pdfReader.numPages"
   ]
  },
  {
   "cell_type": "code",
   "execution_count": 6,
   "metadata": {
    "collapsed": false
   },
   "outputs": [
    {
     "data": {
      "text/plain": [
       "True"
      ]
     },
     "execution_count": 6,
     "metadata": {},
     "output_type": "execute_result"
    }
   ],
   "source": [
    "pdfReader.isEncrypted"
   ]
  },
  {
   "cell_type": "code",
   "execution_count": 8,
   "metadata": {
    "collapsed": false
   },
   "outputs": [],
   "source": [
    "# Why IndexError?\n",
    "# 암호 풀기 전에 getPage를 하면 에러가 나네.\n",
    "# 다시 열어야 하는듯..\n",
    "pageObj = pdfReader.getPage(0)"
   ]
  },
  {
   "cell_type": "code",
   "execution_count": 9,
   "metadata": {
    "collapsed": false
   },
   "outputs": [
    {
     "data": {
      "text/plain": [
       "u'OOFFFFIICCIIAALL  BBOOAARRDD  MMIINNUUTTEESS   Meeting of March 7, 2014        \\n     The Board of Elementary and Secondary Education shall provide leadership and create policies for education that expand opportunities for children, empower families and communities, and advance Louisiana in an increasingly competitive global market. BOARD  of ELEMENTARY and  SECONDARY EDUCATION  '"
      ]
     },
     "execution_count": 9,
     "metadata": {},
     "output_type": "execute_result"
    }
   ],
   "source": [
    "pageObj.extractText()"
   ]
  },
  {
   "cell_type": "markdown",
   "metadata": {},
   "source": [
    "### Creating PDFs\n",
    "\n",
    "- 아무 텍스트나 PDF로 저장할 수 없다.\n",
    "- 다른 PDF의 페이지를 복사, 페이지 돌리기, 페이지에 덧붙이기, 파일 암호화에 제한된다."
   ]
  },
  {
   "cell_type": "markdown",
   "metadata": {},
   "source": [
    "### general approach\n",
    "\n",
    "1. Open one or more existing PDFs(the source PDFs) into PDFFileReader objects.\n",
    "2. Create a new PdfFileWriter object.\n",
    "3. Copy pages from the PdfFileReader objects into the PdfFileWriter object.\n",
    "4. Finally, use the PdfFileWriter object to write the output PDF.\n",
    "\n",
    "\n",
    "- open으로 여는데 'wb' 모드로 지정한다. "
   ]
  },
  {
   "cell_type": "markdown",
   "metadata": {},
   "source": [
    "### Copying pages"
   ]
  },
  {
   "cell_type": "code",
   "execution_count": 10,
   "metadata": {
    "collapsed": true
   },
   "outputs": [],
   "source": [
    "import PyPDF2"
   ]
  },
  {
   "cell_type": "code",
   "execution_count": 11,
   "metadata": {
    "collapsed": true
   },
   "outputs": [],
   "source": [
    "pdf1File = open('src/meetingminutes.pdf', 'rb')"
   ]
  },
  {
   "cell_type": "code",
   "execution_count": 12,
   "metadata": {
    "collapsed": true
   },
   "outputs": [],
   "source": [
    "pdf2File = open('src/meetingminutes2.pdf', 'rb')"
   ]
  },
  {
   "cell_type": "code",
   "execution_count": 13,
   "metadata": {
    "collapsed": true
   },
   "outputs": [],
   "source": [
    "pdf1Reader = PyPDF2.PdfFileReader(pdf1File)"
   ]
  },
  {
   "cell_type": "code",
   "execution_count": 14,
   "metadata": {
    "collapsed": true
   },
   "outputs": [],
   "source": [
    "pdf2Reader = PyPDF2.PdfFileReader(pdf2File)"
   ]
  },
  {
   "cell_type": "code",
   "execution_count": 15,
   "metadata": {
    "collapsed": true
   },
   "outputs": [],
   "source": [
    "pdfWriter = PyPDF2.PdfFileWriter()"
   ]
  },
  {
   "cell_type": "code",
   "execution_count": 17,
   "metadata": {
    "collapsed": false
   },
   "outputs": [],
   "source": [
    "for pageNum in range(pdf1Reader.numPages):\n",
    "    pageObj = pdf1Reader.getPage(pageNum)\n",
    "    pdfWriter.addPage(pageObj)"
   ]
  },
  {
   "cell_type": "code",
   "execution_count": 18,
   "metadata": {
    "collapsed": true
   },
   "outputs": [],
   "source": [
    "for pageNum in range(pdf2Reader.numPages):\n",
    "    pageObj = pdf2Reader.getPage(pageNum)\n",
    "    pdfWriter.addPage(pageObj)"
   ]
  },
  {
   "cell_type": "code",
   "execution_count": 19,
   "metadata": {
    "collapsed": true
   },
   "outputs": [],
   "source": [
    "pdfOutputFile = open('combinedminutes.pdf', 'wb')"
   ]
  },
  {
   "cell_type": "code",
   "execution_count": 20,
   "metadata": {
    "collapsed": true
   },
   "outputs": [],
   "source": [
    "pdfWriter.write(pdfOutputFile)"
   ]
  },
  {
   "cell_type": "code",
   "execution_count": 21,
   "metadata": {
    "collapsed": true
   },
   "outputs": [],
   "source": [
    "pdfOutputFile.close()"
   ]
  },
  {
   "cell_type": "code",
   "execution_count": 22,
   "metadata": {
    "collapsed": true
   },
   "outputs": [],
   "source": [
    "pdf1File.close()\n",
    "pdf2File.close()"
   ]
  },
  {
   "cell_type": "code",
   "execution_count": 23,
   "metadata": {
    "collapsed": true
   },
   "outputs": [],
   "source": [
    "!open combinedminutes.pdf"
   ]
  },
  {
   "cell_type": "markdown",
   "metadata": {},
   "source": [
    "#### addPage() 사용시 유의사항\n",
    "\n",
    "- 항상 페이지의 마지막에만 추가할 수 있다. PdfFileWriter 중간에 추가할 수 없으니 입력할 때 제어를 해야한다."
   ]
  },
  {
   "cell_type": "markdown",
   "metadata": {},
   "source": [
    "### Rotating Pages"
   ]
  },
  {
   "cell_type": "code",
   "execution_count": 26,
   "metadata": {
    "collapsed": true
   },
   "outputs": [],
   "source": [
    "import openpyxl"
   ]
  },
  {
   "cell_type": "code",
   "execution_count": 27,
   "metadata": {
    "collapsed": true
   },
   "outputs": [],
   "source": [
    "minutesFile = open('src/meetingminutes.pdf', 'rb')"
   ]
  },
  {
   "cell_type": "code",
   "execution_count": 28,
   "metadata": {
    "collapsed": true
   },
   "outputs": [],
   "source": [
    "pdfReader = PyPDF2.PdfFileReader(minutesFile)"
   ]
  },
  {
   "cell_type": "code",
   "execution_count": 29,
   "metadata": {
    "collapsed": true
   },
   "outputs": [],
   "source": [
    "page = pdfReader.getPage(0)"
   ]
  },
  {
   "cell_type": "code",
   "execution_count": 30,
   "metadata": {
    "collapsed": false
   },
   "outputs": [
    {
     "data": {
      "text/plain": [
       "{'/Contents': [IndirectObject(961, 0),\n",
       "  IndirectObject(962, 0),\n",
       "  IndirectObject(963, 0),\n",
       "  IndirectObject(964, 0),\n",
       "  IndirectObject(965, 0),\n",
       "  IndirectObject(966, 0),\n",
       "  IndirectObject(967, 0),\n",
       "  IndirectObject(968, 0)],\n",
       " '/CropBox': [0, 0, 612, 792],\n",
       " '/MediaBox': [0, 0, 612, 792],\n",
       " '/Parent': {'/Count': 9,\n",
       "  '/Kids': [IndirectObject(959, 0),\n",
       "   IndirectObject(1, 0),\n",
       "   IndirectObject(11, 0),\n",
       "   IndirectObject(13, 0),\n",
       "   IndirectObject(15, 0),\n",
       "   IndirectObject(17, 0),\n",
       "   IndirectObject(19, 0),\n",
       "   IndirectObject(24, 0),\n",
       "   IndirectObject(26, 0)],\n",
       "  '/Parent': {'/Count': 19,\n",
       "   '/Kids': [IndirectObject(953, 0),\n",
       "    IndirectObject(954, 0),\n",
       "    IndirectObject(955, 0)],\n",
       "   '/Type': '/Pages'},\n",
       "  '/Type': '/Pages'},\n",
       " '/Resources': {'/ColorSpace': {'/CS0': ['/ICCBased', IndirectObject(969, 0)],\n",
       "   '/CS1': ['/ICCBased', IndirectObject(970, 0)],\n",
       "   '/CS2': ['/ICCBased', IndirectObject(970, 0)]},\n",
       "  '/ExtGState': {'/GS0': {'/AIS': <PyPDF2.generic.BooleanObject at 0x1053d5f10>,\n",
       "    '/BM': '/Normal',\n",
       "    '/CA': 1,\n",
       "    '/OP': <PyPDF2.generic.BooleanObject at 0x1053db3d0>,\n",
       "    '/OPM': 1,\n",
       "    '/SA': <PyPDF2.generic.BooleanObject at 0x1053db1d0>,\n",
       "    '/SMask': '/None',\n",
       "    '/Type': '/ExtGState',\n",
       "    '/ca': 1,\n",
       "    '/op': <PyPDF2.generic.BooleanObject at 0x1053db210>}},\n",
       "  '/Font': {'/TT0': {'/BaseFont': '/Arial-Black',\n",
       "    '/Encoding': '/WinAnsiEncoding',\n",
       "    '/FirstChar': 0,\n",
       "    '/FontDescriptor': {'/Ascent': 1083,\n",
       "     '/CapHeight': 716,\n",
       "     '/Descent': -307,\n",
       "     '/Flags': 32,\n",
       "     '/FontBBox': [-194, -307, 1688, 1083],\n",
       "     '/FontFamily': u'Arial Black',\n",
       "     '/FontName': '/Arial-Black',\n",
       "     '/FontStretch': '/Normal',\n",
       "     '/FontWeight': 900,\n",
       "     '/ItalicAngle': 0,\n",
       "     '/StemV': 200,\n",
       "     '/Type': '/FontDescriptor',\n",
       "     '/XHeight': 519},\n",
       "    '/LastChar': 255,\n",
       "    '/Subtype': '/TrueType',\n",
       "    '/Type': '/Font',\n",
       "    '/Widths': [750,\n",
       "     333,\n",
       "     333,\n",
       "     333,\n",
       "     333,\n",
       "     333,\n",
       "     333,\n",
       "     333,\n",
       "     333,\n",
       "     333,\n",
       "     333,\n",
       "     333,\n",
       "     333,\n",
       "     333,\n",
       "     333,\n",
       "     333,\n",
       "     333,\n",
       "     333,\n",
       "     333,\n",
       "     333,\n",
       "     333,\n",
       "     333,\n",
       "     333,\n",
       "     333,\n",
       "     333,\n",
       "     333,\n",
       "     333,\n",
       "     333,\n",
       "     333,\n",
       "     333,\n",
       "     333,\n",
       "     333,\n",
       "     333,\n",
       "     333,\n",
       "     500,\n",
       "     660,\n",
       "     667,\n",
       "     1000,\n",
       "     889,\n",
       "     278,\n",
       "     389,\n",
       "     389,\n",
       "     556,\n",
       "     660,\n",
       "     333,\n",
       "     333,\n",
       "     333,\n",
       "     278,\n",
       "     667,\n",
       "     667,\n",
       "     667,\n",
       "     667,\n",
       "     667,\n",
       "     667,\n",
       "     667,\n",
       "     667,\n",
       "     667,\n",
       "     667,\n",
       "     333,\n",
       "     333,\n",
       "     660,\n",
       "     660,\n",
       "     660,\n",
       "     611,\n",
       "     740,\n",
       "     778,\n",
       "     778,\n",
       "     778,\n",
       "     778,\n",
       "     722,\n",
       "     667,\n",
       "     833,\n",
       "     833,\n",
       "     389,\n",
       "     667,\n",
       "     833,\n",
       "     667,\n",
       "     944,\n",
       "     833,\n",
       "     833,\n",
       "     722,\n",
       "     833,\n",
       "     778,\n",
       "     722,\n",
       "     722,\n",
       "     833,\n",
       "     778,\n",
       "     1000,\n",
       "     778,\n",
       "     778,\n",
       "     722,\n",
       "     389,\n",
       "     278,\n",
       "     389,\n",
       "     660,\n",
       "     500,\n",
       "     333,\n",
       "     667,\n",
       "     667,\n",
       "     667,\n",
       "     667,\n",
       "     667,\n",
       "     389,\n",
       "     667,\n",
       "     667,\n",
       "     333,\n",
       "     333,\n",
       "     667,\n",
       "     333,\n",
       "     1000,\n",
       "     667,\n",
       "     667,\n",
       "     667,\n",
       "     667,\n",
       "     444,\n",
       "     611,\n",
       "     444,\n",
       "     667,\n",
       "     611,\n",
       "     944,\n",
       "     667,\n",
       "     611,\n",
       "     556,\n",
       "     389,\n",
       "     278,\n",
       "     389,\n",
       "     660,\n",
       "     500,\n",
       "     667,\n",
       "     500,\n",
       "     278,\n",
       "     667,\n",
       "     500,\n",
       "     1000,\n",
       "     667,\n",
       "     667,\n",
       "     333,\n",
       "     1000,\n",
       "     722,\n",
       "     333,\n",
       "     1000,\n",
       "     500,\n",
       "     722,\n",
       "     500,\n",
       "     500,\n",
       "     278,\n",
       "     278,\n",
       "     500,\n",
       "     500,\n",
       "     500,\n",
       "     500,\n",
       "     1000,\n",
       "     333,\n",
       "     950,\n",
       "     611,\n",
       "     333,\n",
       "     1000,\n",
       "     500,\n",
       "     556,\n",
       "     778,\n",
       "     333,\n",
       "     333,\n",
       "     667,\n",
       "     667,\n",
       "     660,\n",
       "     667,\n",
       "     278,\n",
       "     667,\n",
       "     333,\n",
       "     800,\n",
       "     400,\n",
       "     667,\n",
       "     660,\n",
       "     333,\n",
       "     800,\n",
       "     500,\n",
       "     400,\n",
       "     660,\n",
       "     400,\n",
       "     400,\n",
       "     333,\n",
       "     667,\n",
       "     850,\n",
       "     333,\n",
       "     333,\n",
       "     400,\n",
       "     400,\n",
       "     667,\n",
       "     1000,\n",
       "     1000,\n",
       "     1000,\n",
       "     611,\n",
       "     778,\n",
       "     778,\n",
       "     778,\n",
       "     778,\n",
       "     778,\n",
       "     778,\n",
       "     1000,\n",
       "     778,\n",
       "     722,\n",
       "     722,\n",
       "     722,\n",
       "     722,\n",
       "     389,\n",
       "     389,\n",
       "     389,\n",
       "     389,\n",
       "     778,\n",
       "     833,\n",
       "     833,\n",
       "     833,\n",
       "     833,\n",
       "     833,\n",
       "     833,\n",
       "     660,\n",
       "     833,\n",
       "     833,\n",
       "     833,\n",
       "     833,\n",
       "     833,\n",
       "     778,\n",
       "     722,\n",
       "     667,\n",
       "     667,\n",
       "     667,\n",
       "     667,\n",
       "     667,\n",
       "     667,\n",
       "     667,\n",
       "     1000,\n",
       "     667,\n",
       "     667,\n",
       "     667,\n",
       "     667,\n",
       "     667,\n",
       "     333,\n",
       "     333,\n",
       "     333,\n",
       "     333,\n",
       "     667,\n",
       "     667,\n",
       "     667,\n",
       "     667,\n",
       "     667,\n",
       "     667,\n",
       "     667,\n",
       "     660,\n",
       "     667,\n",
       "     667,\n",
       "     667,\n",
       "     667,\n",
       "     667,\n",
       "     611,\n",
       "     667,\n",
       "     611]},\n",
       "   '/TT1': {'/BaseFont': '/ArialMT',\n",
       "    '/Encoding': '/WinAnsiEncoding',\n",
       "    '/FirstChar': 0,\n",
       "    '/FontDescriptor': {'/Ascent': 1006,\n",
       "     '/CapHeight': 716,\n",
       "     '/Descent': -325,\n",
       "     '/Flags': 32,\n",
       "     '/FontBBox': [-665, -325, 2000, 1006],\n",
       "     '/FontFamily': u'Arial',\n",
       "     '/FontName': '/ArialMT',\n",
       "     '/FontStretch': '/Normal',\n",
       "     '/FontWeight': 400,\n",
       "     '/ItalicAngle': 0,\n",
       "     '/StemV': 88,\n",
       "     '/Type': '/FontDescriptor',\n",
       "     '/XHeight': 519},\n",
       "    '/LastChar': 255,\n",
       "    '/Subtype': '/TrueType',\n",
       "    '/Type': '/Font',\n",
       "    '/Widths': [750,\n",
       "     750,\n",
       "     750,\n",
       "     750,\n",
       "     750,\n",
       "     750,\n",
       "     750,\n",
       "     750,\n",
       "     750,\n",
       "     750,\n",
       "     750,\n",
       "     750,\n",
       "     750,\n",
       "     750,\n",
       "     750,\n",
       "     750,\n",
       "     750,\n",
       "     750,\n",
       "     750,\n",
       "     750,\n",
       "     750,\n",
       "     750,\n",
       "     750,\n",
       "     750,\n",
       "     750,\n",
       "     750,\n",
       "     750,\n",
       "     750,\n",
       "     750,\n",
       "     750,\n",
       "     750,\n",
       "     750,\n",
       "     278,\n",
       "     278,\n",
       "     355,\n",
       "     556,\n",
       "     556,\n",
       "     889,\n",
       "     667,\n",
       "     191,\n",
       "     333,\n",
       "     333,\n",
       "     389,\n",
       "     584,\n",
       "     278,\n",
       "     333,\n",
       "     278,\n",
       "     278,\n",
       "     556,\n",
       "     556,\n",
       "     556,\n",
       "     556,\n",
       "     556,\n",
       "     556,\n",
       "     556,\n",
       "     556,\n",
       "     556,\n",
       "     556,\n",
       "     278,\n",
       "     278,\n",
       "     584,\n",
       "     584,\n",
       "     584,\n",
       "     556,\n",
       "     1015,\n",
       "     667,\n",
       "     667,\n",
       "     722,\n",
       "     722,\n",
       "     667,\n",
       "     611,\n",
       "     778,\n",
       "     722,\n",
       "     278,\n",
       "     500,\n",
       "     667,\n",
       "     556,\n",
       "     833,\n",
       "     722,\n",
       "     778,\n",
       "     667,\n",
       "     778,\n",
       "     722,\n",
       "     667,\n",
       "     611,\n",
       "     722,\n",
       "     667,\n",
       "     944,\n",
       "     667,\n",
       "     667,\n",
       "     611,\n",
       "     278,\n",
       "     278,\n",
       "     278,\n",
       "     469,\n",
       "     556,\n",
       "     333,\n",
       "     556,\n",
       "     556,\n",
       "     500,\n",
       "     556,\n",
       "     556,\n",
       "     278,\n",
       "     556,\n",
       "     556,\n",
       "     222,\n",
       "     222,\n",
       "     500,\n",
       "     222,\n",
       "     833,\n",
       "     556,\n",
       "     556,\n",
       "     556,\n",
       "     556,\n",
       "     333,\n",
       "     500,\n",
       "     278,\n",
       "     556,\n",
       "     500,\n",
       "     722,\n",
       "     500,\n",
       "     500,\n",
       "     500,\n",
       "     334,\n",
       "     260,\n",
       "     334,\n",
       "     584,\n",
       "     350,\n",
       "     556,\n",
       "     350,\n",
       "     222,\n",
       "     556,\n",
       "     333,\n",
       "     1000,\n",
       "     556,\n",
       "     556,\n",
       "     333,\n",
       "     1000,\n",
       "     667,\n",
       "     333,\n",
       "     1000,\n",
       "     350,\n",
       "     611,\n",
       "     350,\n",
       "     350,\n",
       "     222,\n",
       "     222,\n",
       "     333,\n",
       "     333,\n",
       "     350,\n",
       "     556,\n",
       "     1000,\n",
       "     333,\n",
       "     1000,\n",
       "     500,\n",
       "     333,\n",
       "     944,\n",
       "     350,\n",
       "     500,\n",
       "     667,\n",
       "     278,\n",
       "     333,\n",
       "     556,\n",
       "     556,\n",
       "     556,\n",
       "     556,\n",
       "     260,\n",
       "     556,\n",
       "     333,\n",
       "     737,\n",
       "     370,\n",
       "     556,\n",
       "     584,\n",
       "     333,\n",
       "     737,\n",
       "     552,\n",
       "     400,\n",
       "     549,\n",
       "     333,\n",
       "     333,\n",
       "     333,\n",
       "     576,\n",
       "     537,\n",
       "     333,\n",
       "     333,\n",
       "     333,\n",
       "     365,\n",
       "     556,\n",
       "     834,\n",
       "     834,\n",
       "     834,\n",
       "     611,\n",
       "     667,\n",
       "     667,\n",
       "     667,\n",
       "     667,\n",
       "     667,\n",
       "     667,\n",
       "     1000,\n",
       "     722,\n",
       "     667,\n",
       "     667,\n",
       "     667,\n",
       "     667,\n",
       "     278,\n",
       "     278,\n",
       "     278,\n",
       "     278,\n",
       "     722,\n",
       "     722,\n",
       "     778,\n",
       "     778,\n",
       "     778,\n",
       "     778,\n",
       "     778,\n",
       "     584,\n",
       "     778,\n",
       "     722,\n",
       "     722,\n",
       "     722,\n",
       "     722,\n",
       "     667,\n",
       "     667,\n",
       "     611,\n",
       "     556,\n",
       "     556,\n",
       "     556,\n",
       "     556,\n",
       "     556,\n",
       "     556,\n",
       "     889,\n",
       "     500,\n",
       "     556,\n",
       "     556,\n",
       "     556,\n",
       "     556,\n",
       "     278,\n",
       "     278,\n",
       "     278,\n",
       "     278,\n",
       "     556,\n",
       "     556,\n",
       "     556,\n",
       "     556,\n",
       "     556,\n",
       "     556,\n",
       "     556,\n",
       "     549,\n",
       "     611,\n",
       "     556,\n",
       "     556,\n",
       "     556,\n",
       "     556,\n",
       "     500,\n",
       "     556,\n",
       "     500]},\n",
       "   '/TT2': {'/BaseFont': '/Tahoma-Bold',\n",
       "    '/Encoding': '/WinAnsiEncoding',\n",
       "    '/FirstChar': 0,\n",
       "    '/FontDescriptor': {'/Ascent': 1065,\n",
       "     '/CapHeight': 727,\n",
       "     '/Descent': -216,\n",
       "     '/Flags': 32,\n",
       "     '/FontBBox': [-698, -216, 1625, 1065],\n",
       "     '/FontFamily': u'Tahoma',\n",
       "     '/FontName': '/Tahoma-Bold',\n",
       "     '/FontStretch': '/Normal',\n",
       "     '/FontWeight': 700,\n",
       "     '/ItalicAngle': 0,\n",
       "     '/StemV': 172,\n",
       "     '/Type': '/FontDescriptor',\n",
       "     '/XHeight': 548},\n",
       "    '/LastChar': 255,\n",
       "    '/Subtype': '/TrueType',\n",
       "    '/Type': '/Font',\n",
       "    '/Widths': [1000,\n",
       "     1000,\n",
       "     1000,\n",
       "     1000,\n",
       "     1000,\n",
       "     1000,\n",
       "     1000,\n",
       "     1000,\n",
       "     1000,\n",
       "     1000,\n",
       "     1000,\n",
       "     1000,\n",
       "     1000,\n",
       "     1000,\n",
       "     1000,\n",
       "     1000,\n",
       "     1000,\n",
       "     1000,\n",
       "     1000,\n",
       "     1000,\n",
       "     1000,\n",
       "     1000,\n",
       "     1000,\n",
       "     1000,\n",
       "     1000,\n",
       "     1000,\n",
       "     1000,\n",
       "     1000,\n",
       "     1000,\n",
       "     1000,\n",
       "     1000,\n",
       "     1000,\n",
       "     293,\n",
       "     343,\n",
       "     489,\n",
       "     818,\n",
       "     637,\n",
       "     1199,\n",
       "     781,\n",
       "     275,\n",
       "     454,\n",
       "     454,\n",
       "     637,\n",
       "     818,\n",
       "     313,\n",
       "     431,\n",
       "     313,\n",
       "     577,\n",
       "     637,\n",
       "     637,\n",
       "     637,\n",
       "     637,\n",
       "     637,\n",
       "     637,\n",
       "     637,\n",
       "     637,\n",
       "     637,\n",
       "     637,\n",
       "     363,\n",
       "     363,\n",
       "     818,\n",
       "     818,\n",
       "     818,\n",
       "     566,\n",
       "     920,\n",
       "     685,\n",
       "     686,\n",
       "     667,\n",
       "     757,\n",
       "     615,\n",
       "     581,\n",
       "     745,\n",
       "     764,\n",
       "     483,\n",
       "     500,\n",
       "     696,\n",
       "     572,\n",
       "     893,\n",
       "     771,\n",
       "     770,\n",
       "     657,\n",
       "     770,\n",
       "     726,\n",
       "     633,\n",
       "     612,\n",
       "     739,\n",
       "     675,\n",
       "     1028,\n",
       "     685,\n",
       "     670,\n",
       "     623,\n",
       "     454,\n",
       "     577,\n",
       "     454,\n",
       "     818,\n",
       "     637,\n",
       "     546,\n",
       "     599,\n",
       "     632,\n",
       "     527,\n",
       "     629,\n",
       "     594,\n",
       "     382,\n",
       "     629,\n",
       "     640,\n",
       "     302,\n",
       "     363,\n",
       "     603,\n",
       "     302,\n",
       "     954,\n",
       "     640,\n",
       "     617,\n",
       "     629,\n",
       "     629,\n",
       "     434,\n",
       "     515,\n",
       "     416,\n",
       "     640,\n",
       "     579,\n",
       "     890,\n",
       "     604,\n",
       "     576,\n",
       "     526,\n",
       "     623,\n",
       "     637,\n",
       "     623,\n",
       "     818,\n",
       "     637,\n",
       "     637,\n",
       "     637,\n",
       "     275,\n",
       "     637,\n",
       "     489,\n",
       "     1000,\n",
       "     637,\n",
       "     637,\n",
       "     546,\n",
       "     1676,\n",
       "     633,\n",
       "     425,\n",
       "     1037,\n",
       "     637,\n",
       "     623,\n",
       "     637,\n",
       "     637,\n",
       "     275,\n",
       "     275,\n",
       "     489,\n",
       "     489,\n",
       "     637,\n",
       "     637,\n",
       "     909,\n",
       "     546,\n",
       "     861,\n",
       "     515,\n",
       "     425,\n",
       "     985,\n",
       "     637,\n",
       "     526,\n",
       "     670,\n",
       "     293,\n",
       "     343,\n",
       "     637,\n",
       "     637,\n",
       "     637,\n",
       "     637,\n",
       "     637,\n",
       "     637,\n",
       "     546,\n",
       "     929,\n",
       "     508,\n",
       "     703,\n",
       "     818,\n",
       "     431,\n",
       "     929,\n",
       "     637,\n",
       "     520,\n",
       "     818,\n",
       "     539,\n",
       "     539,\n",
       "     546,\n",
       "     651,\n",
       "     637,\n",
       "     363,\n",
       "     546,\n",
       "     539,\n",
       "     539,\n",
       "     703,\n",
       "     1128,\n",
       "     1128,\n",
       "     1128,\n",
       "     566,\n",
       "     685,\n",
       "     685,\n",
       "     685,\n",
       "     685,\n",
       "     685,\n",
       "     685,\n",
       "     989,\n",
       "     667,\n",
       "     615,\n",
       "     615,\n",
       "     615,\n",
       "     615,\n",
       "     483,\n",
       "     483,\n",
       "     483,\n",
       "     483,\n",
       "     774,\n",
       "     771,\n",
       "     770,\n",
       "     770,\n",
       "     770,\n",
       "     770,\n",
       "     770,\n",
       "     818,\n",
       "     770,\n",
       "     739,\n",
       "     739,\n",
       "     739,\n",
       "     739,\n",
       "     670,\n",
       "     659,\n",
       "     646,\n",
       "     599,\n",
       "     599,\n",
       "     599,\n",
       "     599,\n",
       "     599,\n",
       "     599,\n",
       "     937,\n",
       "     527,\n",
       "     594,\n",
       "     594,\n",
       "     594,\n",
       "     594,\n",
       "     302,\n",
       "     302,\n",
       "     302,\n",
       "     302,\n",
       "     620,\n",
       "     640,\n",
       "     617,\n",
       "     617,\n",
       "     617,\n",
       "     617,\n",
       "     617,\n",
       "     818,\n",
       "     617,\n",
       "     640,\n",
       "     640,\n",
       "     640,\n",
       "     640,\n",
       "     576,\n",
       "     629,\n",
       "     576]},\n",
       "   '/TT3': {'/BaseFont': '/Arial-BoldMT',\n",
       "    '/Encoding': '/WinAnsiEncoding',\n",
       "    '/FirstChar': 0,\n",
       "    '/FontDescriptor': {'/Ascent': 1018,\n",
       "     '/CapHeight': 716,\n",
       "     '/Descent': -376,\n",
       "     '/Flags': 32,\n",
       "     '/FontBBox': [-628, -376, 2000, 1018],\n",
       "     '/FontFamily': u'Arial',\n",
       "     '/FontName': '/Arial-BoldMT',\n",
       "     '/FontStretch': '/Normal',\n",
       "     '/FontWeight': 700,\n",
       "     '/ItalicAngle': 0,\n",
       "     '/StemV': 136,\n",
       "     '/Type': '/FontDescriptor',\n",
       "     '/XHeight': 519},\n",
       "    '/LastChar': 255,\n",
       "    '/Subtype': '/TrueType',\n",
       "    '/Type': '/Font',\n",
       "    '/Widths': [750,\n",
       "     750,\n",
       "     750,\n",
       "     750,\n",
       "     750,\n",
       "     750,\n",
       "     750,\n",
       "     750,\n",
       "     750,\n",
       "     750,\n",
       "     750,\n",
       "     750,\n",
       "     750,\n",
       "     750,\n",
       "     750,\n",
       "     750,\n",
       "     750,\n",
       "     750,\n",
       "     750,\n",
       "     750,\n",
       "     750,\n",
       "     750,\n",
       "     750,\n",
       "     750,\n",
       "     750,\n",
       "     750,\n",
       "     750,\n",
       "     750,\n",
       "     750,\n",
       "     750,\n",
       "     750,\n",
       "     750,\n",
       "     278,\n",
       "     333,\n",
       "     474,\n",
       "     556,\n",
       "     556,\n",
       "     889,\n",
       "     722,\n",
       "     238,\n",
       "     333,\n",
       "     333,\n",
       "     389,\n",
       "     584,\n",
       "     278,\n",
       "     333,\n",
       "     278,\n",
       "     278,\n",
       "     556,\n",
       "     556,\n",
       "     556,\n",
       "     556,\n",
       "     556,\n",
       "     556,\n",
       "     556,\n",
       "     556,\n",
       "     556,\n",
       "     556,\n",
       "     333,\n",
       "     333,\n",
       "     584,\n",
       "     584,\n",
       "     584,\n",
       "     611,\n",
       "     975,\n",
       "     722,\n",
       "     722,\n",
       "     722,\n",
       "     722,\n",
       "     667,\n",
       "     611,\n",
       "     778,\n",
       "     722,\n",
       "     278,\n",
       "     556,\n",
       "     722,\n",
       "     611,\n",
       "     833,\n",
       "     722,\n",
       "     778,\n",
       "     667,\n",
       "     778,\n",
       "     722,\n",
       "     667,\n",
       "     611,\n",
       "     722,\n",
       "     667,\n",
       "     944,\n",
       "     667,\n",
       "     667,\n",
       "     611,\n",
       "     333,\n",
       "     278,\n",
       "     333,\n",
       "     584,\n",
       "     556,\n",
       "     333,\n",
       "     556,\n",
       "     611,\n",
       "     556,\n",
       "     611,\n",
       "     556,\n",
       "     333,\n",
       "     611,\n",
       "     611,\n",
       "     278,\n",
       "     278,\n",
       "     556,\n",
       "     278,\n",
       "     889,\n",
       "     611,\n",
       "     611,\n",
       "     611,\n",
       "     611,\n",
       "     389,\n",
       "     556,\n",
       "     333,\n",
       "     611,\n",
       "     556,\n",
       "     778,\n",
       "     556,\n",
       "     556,\n",
       "     500,\n",
       "     389,\n",
       "     280,\n",
       "     389,\n",
       "     584,\n",
       "     350,\n",
       "     556,\n",
       "     350,\n",
       "     278,\n",
       "     556,\n",
       "     500,\n",
       "     1000,\n",
       "     556,\n",
       "     556,\n",
       "     333,\n",
       "     1000,\n",
       "     667,\n",
       "     333,\n",
       "     1000,\n",
       "     350,\n",
       "     611,\n",
       "     350,\n",
       "     350,\n",
       "     278,\n",
       "     278,\n",
       "     500,\n",
       "     500,\n",
       "     350,\n",
       "     556,\n",
       "     1000,\n",
       "     333,\n",
       "     1000,\n",
       "     556,\n",
       "     333,\n",
       "     944,\n",
       "     350,\n",
       "     500,\n",
       "     667,\n",
       "     278,\n",
       "     333,\n",
       "     556,\n",
       "     556,\n",
       "     556,\n",
       "     556,\n",
       "     280,\n",
       "     556,\n",
       "     333,\n",
       "     737,\n",
       "     370,\n",
       "     556,\n",
       "     584,\n",
       "     333,\n",
       "     737,\n",
       "     552,\n",
       "     400,\n",
       "     549,\n",
       "     333,\n",
       "     333,\n",
       "     333,\n",
       "     576,\n",
       "     556,\n",
       "     333,\n",
       "     333,\n",
       "     333,\n",
       "     365,\n",
       "     556,\n",
       "     834,\n",
       "     834,\n",
       "     834,\n",
       "     611,\n",
       "     722,\n",
       "     722,\n",
       "     722,\n",
       "     722,\n",
       "     722,\n",
       "     722,\n",
       "     1000,\n",
       "     722,\n",
       "     667,\n",
       "     667,\n",
       "     667,\n",
       "     667,\n",
       "     278,\n",
       "     278,\n",
       "     278,\n",
       "     278,\n",
       "     722,\n",
       "     722,\n",
       "     778,\n",
       "     778,\n",
       "     778,\n",
       "     778,\n",
       "     778,\n",
       "     584,\n",
       "     778,\n",
       "     722,\n",
       "     722,\n",
       "     722,\n",
       "     722,\n",
       "     667,\n",
       "     667,\n",
       "     611,\n",
       "     556,\n",
       "     556,\n",
       "     556,\n",
       "     556,\n",
       "     556,\n",
       "     556,\n",
       "     889,\n",
       "     556,\n",
       "     556,\n",
       "     556,\n",
       "     556,\n",
       "     556,\n",
       "     278,\n",
       "     278,\n",
       "     278,\n",
       "     278,\n",
       "     611,\n",
       "     611,\n",
       "     611,\n",
       "     611,\n",
       "     611,\n",
       "     611,\n",
       "     611,\n",
       "     549,\n",
       "     611,\n",
       "     611,\n",
       "     611,\n",
       "     611,\n",
       "     611,\n",
       "     556,\n",
       "     611,\n",
       "     556]},\n",
       "   '/TT4': {'/BaseFont': '/TimesNewRomanPSMT',\n",
       "    '/Encoding': '/WinAnsiEncoding',\n",
       "    '/FirstChar': 0,\n",
       "    '/FontDescriptor': {'/Ascent': 1007,\n",
       "     '/CapHeight': 662,\n",
       "     '/Descent': -307,\n",
       "     '/Flags': 34,\n",
       "     '/FontBBox': [-568, -307, 2000, 1007],\n",
       "     '/FontFamily': u'Times New Roman',\n",
       "     '/FontName': '/TimesNewRomanPSMT',\n",
       "     '/FontStretch': '/Normal',\n",
       "     '/FontWeight': 400,\n",
       "     '/ItalicAngle': 0,\n",
       "     '/StemV': 80,\n",
       "     '/Type': '/FontDescriptor',\n",
       "     '/XHeight': 448},\n",
       "    '/LastChar': 255,\n",
       "    '/Subtype': '/TrueType',\n",
       "    '/Type': '/Font',\n",
       "    '/Widths': [778,\n",
       "     778,\n",
       "     778,\n",
       "     778,\n",
       "     778,\n",
       "     778,\n",
       "     778,\n",
       "     778,\n",
       "     778,\n",
       "     778,\n",
       "     778,\n",
       "     778,\n",
       "     778,\n",
       "     778,\n",
       "     778,\n",
       "     778,\n",
       "     778,\n",
       "     778,\n",
       "     778,\n",
       "     778,\n",
       "     778,\n",
       "     778,\n",
       "     778,\n",
       "     778,\n",
       "     778,\n",
       "     778,\n",
       "     778,\n",
       "     778,\n",
       "     778,\n",
       "     778,\n",
       "     778,\n",
       "     778,\n",
       "     250,\n",
       "     333,\n",
       "     408,\n",
       "     500,\n",
       "     500,\n",
       "     833,\n",
       "     778,\n",
       "     180,\n",
       "     333,\n",
       "     333,\n",
       "     500,\n",
       "     564,\n",
       "     250,\n",
       "     333,\n",
       "     250,\n",
       "     278,\n",
       "     500,\n",
       "     500,\n",
       "     500,\n",
       "     500,\n",
       "     500,\n",
       "     500,\n",
       "     500,\n",
       "     500,\n",
       "     500,\n",
       "     500,\n",
       "     278,\n",
       "     278,\n",
       "     564,\n",
       "     564,\n",
       "     564,\n",
       "     444,\n",
       "     921,\n",
       "     722,\n",
       "     667,\n",
       "     667,\n",
       "     722,\n",
       "     611,\n",
       "     556,\n",
       "     722,\n",
       "     722,\n",
       "     333,\n",
       "     389,\n",
       "     722,\n",
       "     611,\n",
       "     889,\n",
       "     722,\n",
       "     722,\n",
       "     556,\n",
       "     722,\n",
       "     667,\n",
       "     556,\n",
       "     611,\n",
       "     722,\n",
       "     722,\n",
       "     944,\n",
       "     722,\n",
       "     722,\n",
       "     611,\n",
       "     333,\n",
       "     278,\n",
       "     333,\n",
       "     469,\n",
       "     500,\n",
       "     333,\n",
       "     444,\n",
       "     500,\n",
       "     444,\n",
       "     500,\n",
       "     444,\n",
       "     333,\n",
       "     500,\n",
       "     500,\n",
       "     278,\n",
       "     278,\n",
       "     500,\n",
       "     278,\n",
       "     778,\n",
       "     500,\n",
       "     500,\n",
       "     500,\n",
       "     500,\n",
       "     333,\n",
       "     389,\n",
       "     278,\n",
       "     500,\n",
       "     500,\n",
       "     722,\n",
       "     500,\n",
       "     500,\n",
       "     444,\n",
       "     480,\n",
       "     200,\n",
       "     480,\n",
       "     541,\n",
       "     350,\n",
       "     500,\n",
       "     350,\n",
       "     333,\n",
       "     500,\n",
       "     444,\n",
       "     1000,\n",
       "     500,\n",
       "     500,\n",
       "     333,\n",
       "     1000,\n",
       "     556,\n",
       "     333,\n",
       "     889,\n",
       "     350,\n",
       "     611,\n",
       "     350,\n",
       "     350,\n",
       "     333,\n",
       "     333,\n",
       "     444,\n",
       "     444,\n",
       "     350,\n",
       "     500,\n",
       "     1000,\n",
       "     333,\n",
       "     980,\n",
       "     389,\n",
       "     333,\n",
       "     722,\n",
       "     350,\n",
       "     444,\n",
       "     722,\n",
       "     250,\n",
       "     333,\n",
       "     500,\n",
       "     500,\n",
       "     500,\n",
       "     500,\n",
       "     200,\n",
       "     500,\n",
       "     333,\n",
       "     760,\n",
       "     276,\n",
       "     500,\n",
       "     564,\n",
       "     333,\n",
       "     760,\n",
       "     500,\n",
       "     400,\n",
       "     549,\n",
       "     300,\n",
       "     300,\n",
       "     333,\n",
       "     576,\n",
       "     453,\n",
       "     333,\n",
       "     333,\n",
       "     300,\n",
       "     310,\n",
       "     500,\n",
       "     750,\n",
       "     750,\n",
       "     750,\n",
       "     444,\n",
       "     722,\n",
       "     722,\n",
       "     722,\n",
       "     722,\n",
       "     722,\n",
       "     722,\n",
       "     889,\n",
       "     667,\n",
       "     611,\n",
       "     611,\n",
       "     611,\n",
       "     611,\n",
       "     333,\n",
       "     333,\n",
       "     333,\n",
       "     333,\n",
       "     722,\n",
       "     722,\n",
       "     722,\n",
       "     722,\n",
       "     722,\n",
       "     722,\n",
       "     722,\n",
       "     564,\n",
       "     722,\n",
       "     722,\n",
       "     722,\n",
       "     722,\n",
       "     722,\n",
       "     722,\n",
       "     556,\n",
       "     500,\n",
       "     444,\n",
       "     444,\n",
       "     444,\n",
       "     444,\n",
       "     444,\n",
       "     444,\n",
       "     667,\n",
       "     444,\n",
       "     444,\n",
       "     444,\n",
       "     444,\n",
       "     444,\n",
       "     278,\n",
       "     278,\n",
       "     278,\n",
       "     278,\n",
       "     500,\n",
       "     500,\n",
       "     500,\n",
       "     500,\n",
       "     500,\n",
       "     500,\n",
       "     500,\n",
       "     549,\n",
       "     500,\n",
       "     500,\n",
       "     500,\n",
       "     500,\n",
       "     500,\n",
       "     500,\n",
       "     500,\n",
       "     500]},\n",
       "   '/TT5': {'/BaseFont': '/ZNNWAA+LucidaCalligraphy-Italic',\n",
       "    '/Encoding': '/WinAnsiEncoding',\n",
       "    '/FirstChar': 32,\n",
       "    '/FontDescriptor': {'/Ascent': 958,\n",
       "     '/CapHeight': 741,\n",
       "     '/Descent': -325,\n",
       "     '/Flags': 98,\n",
       "     '/FontBBox': [-290, -325, 1287, 958],\n",
       "     '/FontFamily': u'Lucida Calligraphy',\n",
       "     '/FontFile2': {'/Filter': '/FlateDecode', '/Length1': 11512},\n",
       "     '/FontName': '/ZNNWAA+LucidaCalligraphy-Italic',\n",
       "     '/FontStretch': '/Normal',\n",
       "     '/FontWeight': 400,\n",
       "     '/ItalicAngle': -12,\n",
       "     '/StemV': 100,\n",
       "     '/Type': '/FontDescriptor',\n",
       "     '/XHeight': 541},\n",
       "    '/LastChar': 121,\n",
       "    '/Subtype': '/TrueType',\n",
       "    '/ToUnicode': {'/Filter': '/FlateDecode'},\n",
       "    '/Type': '/Font',\n",
       "    '/Widths': [332,\n",
       "     0,\n",
       "     0,\n",
       "     0,\n",
       "     0,\n",
       "     0,\n",
       "     0,\n",
       "     0,\n",
       "     0,\n",
       "     0,\n",
       "     0,\n",
       "     0,\n",
       "     283,\n",
       "     0,\n",
       "     283,\n",
       "     0,\n",
       "     0,\n",
       "     0,\n",
       "     0,\n",
       "     0,\n",
       "     0,\n",
       "     0,\n",
       "     0,\n",
       "     0,\n",
       "     0,\n",
       "     0,\n",
       "     0,\n",
       "     0,\n",
       "     0,\n",
       "     0,\n",
       "     0,\n",
       "     0,\n",
       "     0,\n",
       "     0,\n",
       "     786,\n",
       "     0,\n",
       "     0,\n",
       "     735,\n",
       "     0,\n",
       "     0,\n",
       "     0,\n",
       "     0,\n",
       "     0,\n",
       "     0,\n",
       "     669,\n",
       "     0,\n",
       "     0,\n",
       "     0,\n",
       "     0,\n",
       "     0,\n",
       "     0,\n",
       "     581,\n",
       "     715,\n",
       "     0,\n",
       "     0,\n",
       "     0,\n",
       "     0,\n",
       "     0,\n",
       "     0,\n",
       "     0,\n",
       "     0,\n",
       "     0,\n",
       "     0,\n",
       "     0,\n",
       "     0,\n",
       "     668,\n",
       "     615,\n",
       "     546,\n",
       "     668,\n",
       "     542,\n",
       "     409,\n",
       "     614,\n",
       "     664,\n",
       "     376,\n",
       "     0,\n",
       "     631,\n",
       "     339,\n",
       "     1024,\n",
       "     711,\n",
       "     583,\n",
       "     664,\n",
       "     0,\n",
       "     563,\n",
       "     451,\n",
       "     456,\n",
       "     697,\n",
       "     705,\n",
       "     945,\n",
       "     710,\n",
       "     693]}},\n",
       "  '/XObject': {'/Im0': {'/BitsPerComponent': 8,\n",
       "    '/ColorSpace': ['/ICCBased', IndirectObject(970, 0)],\n",
       "    '/DecodeParms': {'/BitsPerComponent': 8, '/Colors': 3, '/Columns': 309},\n",
       "    '/Filter': '/FlateDecode',\n",
       "    '/Height': 309,\n",
       "    '/Name': '/X',\n",
       "    '/Subtype': '/Image',\n",
       "    '/Type': '/XObject',\n",
       "    '/Width': 309}}},\n",
       " '/Rotate': 90,\n",
       " '/StructParents': 0,\n",
       " '/Type': '/Page'}"
      ]
     },
     "execution_count": 30,
     "metadata": {},
     "output_type": "execute_result"
    }
   ],
   "source": [
    "page.rotateClockwise(90)"
   ]
  },
  {
   "cell_type": "code",
   "execution_count": 31,
   "metadata": {
    "collapsed": true
   },
   "outputs": [],
   "source": [
    "pdfWriter = PyPDF2.PdfFileWriter()"
   ]
  },
  {
   "cell_type": "code",
   "execution_count": 32,
   "metadata": {
    "collapsed": true
   },
   "outputs": [],
   "source": [
    "pdfWriter.addPage(page)"
   ]
  },
  {
   "cell_type": "code",
   "execution_count": 33,
   "metadata": {
    "collapsed": true
   },
   "outputs": [],
   "source": [
    "resultPdfFile = open('rotatePage.pdf', 'wb')"
   ]
  },
  {
   "cell_type": "code",
   "execution_count": 34,
   "metadata": {
    "collapsed": true
   },
   "outputs": [],
   "source": [
    "pdfWriter.write(resultPdfFile)"
   ]
  },
  {
   "cell_type": "code",
   "execution_count": 35,
   "metadata": {
    "collapsed": true
   },
   "outputs": [],
   "source": [
    "resultPdfFile.close()\n",
    "minutesFile.close()"
   ]
  },
  {
   "cell_type": "code",
   "execution_count": 36,
   "metadata": {
    "collapsed": true
   },
   "outputs": [],
   "source": [
    "!open rotatePage.pdf"
   ]
  },
  {
   "cell_type": "markdown",
   "metadata": {},
   "source": [
    "### Overlaying Pages\n",
    "\n",
    "- Adding a logo, timestamp, or watermark to a page"
   ]
  },
  {
   "cell_type": "code",
   "execution_count": 37,
   "metadata": {
    "collapsed": true
   },
   "outputs": [],
   "source": [
    "import PyPDF2"
   ]
  },
  {
   "cell_type": "code",
   "execution_count": 40,
   "metadata": {
    "collapsed": true
   },
   "outputs": [],
   "source": [
    "minutesFile = open('src/meetingminutes.pdf', 'rb')"
   ]
  },
  {
   "cell_type": "code",
   "execution_count": 41,
   "metadata": {
    "collapsed": true
   },
   "outputs": [],
   "source": [
    "pdfReader = PyPDF2.PdfFileReader(minutesFile)"
   ]
  },
  {
   "cell_type": "code",
   "execution_count": 42,
   "metadata": {
    "collapsed": true
   },
   "outputs": [],
   "source": [
    "minutesFirstPage = pdfReader.getPage(0)"
   ]
  },
  {
   "cell_type": "code",
   "execution_count": 43,
   "metadata": {
    "collapsed": true
   },
   "outputs": [],
   "source": [
    "pdfWatermarkReader = PyPDF2.PdfFileReader(open('src/watermark.pdf', 'rb'))"
   ]
  },
  {
   "cell_type": "code",
   "execution_count": 44,
   "metadata": {
    "collapsed": true
   },
   "outputs": [],
   "source": [
    "minutesFirstPage.mergePage(pdfWatermarkReader.getPage(0))"
   ]
  },
  {
   "cell_type": "code",
   "execution_count": 45,
   "metadata": {
    "collapsed": true
   },
   "outputs": [],
   "source": [
    "pdfWriter = PyPDF2.PdfFileWriter()"
   ]
  },
  {
   "cell_type": "code",
   "execution_count": 46,
   "metadata": {
    "collapsed": true
   },
   "outputs": [],
   "source": [
    "pdfWriter.addPage(minutesFirstPage)"
   ]
  },
  {
   "cell_type": "code",
   "execution_count": 47,
   "metadata": {
    "collapsed": true
   },
   "outputs": [],
   "source": [
    "for pageNum in range(1, pdfReader.numPages):\n",
    "    pageObj = pdfReader.getPage(pageNum)\n",
    "    pdfWriter.addPage(pageObj)"
   ]
  },
  {
   "cell_type": "code",
   "execution_count": 48,
   "metadata": {
    "collapsed": true
   },
   "outputs": [],
   "source": [
    "resultPdfFile = open('watermarkedCover.pdf', 'wb')"
   ]
  },
  {
   "cell_type": "code",
   "execution_count": 49,
   "metadata": {
    "collapsed": true
   },
   "outputs": [],
   "source": [
    "pdfWriter.write(resultPdfFile)"
   ]
  },
  {
   "cell_type": "code",
   "execution_count": 50,
   "metadata": {
    "collapsed": true
   },
   "outputs": [],
   "source": [
    "minutesFile.close()\n",
    "resultPdfFile.close()"
   ]
  },
  {
   "cell_type": "code",
   "execution_count": 3,
   "metadata": {
    "collapsed": true
   },
   "outputs": [],
   "source": [
    "!open watermarkedCover.pdf"
   ]
  },
  {
   "cell_type": "code",
   "execution_count": 2,
   "metadata": {
    "collapsed": true
   },
   "outputs": [],
   "source": [
    "!open src/watermark.pdf"
   ]
  },
  {
   "cell_type": "markdown",
   "metadata": {},
   "source": [
    "### Encrypting PDFs"
   ]
  },
  {
   "cell_type": "code",
   "execution_count": 53,
   "metadata": {
    "collapsed": true
   },
   "outputs": [],
   "source": [
    "import PyPDF2"
   ]
  },
  {
   "cell_type": "code",
   "execution_count": 54,
   "metadata": {
    "collapsed": true
   },
   "outputs": [],
   "source": [
    "pdfFile = open('src/meetingminutes.pdf', 'rb')"
   ]
  },
  {
   "cell_type": "code",
   "execution_count": 55,
   "metadata": {
    "collapsed": true
   },
   "outputs": [],
   "source": [
    "pdfReader = PyPDF2.PdfFileReader(pdfFile)"
   ]
  },
  {
   "cell_type": "code",
   "execution_count": 56,
   "metadata": {
    "collapsed": true
   },
   "outputs": [],
   "source": [
    "pdfWriter = PyPDF2.PdfFileWriter()"
   ]
  },
  {
   "cell_type": "code",
   "execution_count": 57,
   "metadata": {
    "collapsed": true
   },
   "outputs": [],
   "source": [
    "for pageNum in range(pdfReader.numPages):\n",
    "    pdfWriter.addPage(pdfReader.getPage(pageNum))"
   ]
  },
  {
   "cell_type": "code",
   "execution_count": 58,
   "metadata": {
    "collapsed": true
   },
   "outputs": [],
   "source": [
    "pdfWriter.encrypt('swordfish')"
   ]
  },
  {
   "cell_type": "code",
   "execution_count": 59,
   "metadata": {
    "collapsed": true
   },
   "outputs": [],
   "source": [
    "resultPdf = open('encyptedminutes.pdf', 'wb')"
   ]
  },
  {
   "cell_type": "code",
   "execution_count": 60,
   "metadata": {
    "collapsed": true
   },
   "outputs": [],
   "source": [
    "pdfWriter.write(resultPdf)"
   ]
  },
  {
   "cell_type": "code",
   "execution_count": 61,
   "metadata": {
    "collapsed": true
   },
   "outputs": [],
   "source": [
    "pdfFile.close()\n",
    "resultPdf.close()"
   ]
  },
  {
   "cell_type": "code",
   "execution_count": 62,
   "metadata": {
    "collapsed": true
   },
   "outputs": [],
   "source": [
    "!open encyptedminutes.pdf"
   ]
  },
  {
   "cell_type": "markdown",
   "metadata": {},
   "source": [
    "## Project: Combining Select Pages from Many PDFs\n",
    "\n",
    "### High level\n",
    "\n",
    "- Find all PDF files in the current working directory\n",
    "- Sort the filenames so the PDFs are added in order.\n",
    "- Write each page, excluding the first page, of each PDF to the output file.\n",
    "\n",
    "### need python code\n",
    "\n",
    "- Call os.listdir() to find all the fiels in the working directory and remove any non-PDF files.\n",
    "- Call Python's sort() list method to alphabetize the filenames.\n",
    "- Create a PDFFileWriter object for the output PDF.\n",
    "- Loop over each PDF file, creating a PdfFileReader object for it.\n",
    "- Loop over each page (except the first) in each PDF file.\n",
    "- Add the pages to the output PDF.\n",
    "- Write the output PDF to a file named allminutes.pdf"
   ]
  },
  {
   "cell_type": "markdown",
   "metadata": {},
   "source": [
    "### Step 1: Find All PDF Files"
   ]
  },
  {
   "cell_type": "code",
   "execution_count": 64,
   "metadata": {
    "collapsed": true
   },
   "outputs": [],
   "source": [
    "l = [1, 5, 3, 9, 4]"
   ]
  },
  {
   "cell_type": "code",
   "execution_count": 78,
   "metadata": {
    "collapsed": false
   },
   "outputs": [
    {
     "data": {
      "text/plain": [
       "['combinedminutes.pdf',\n",
       " 'encyptedminutes.pdf',\n",
       " 'rotatePage.pdf',\n",
       " 'watermarkedCover.pdf']"
      ]
     },
     "execution_count": 78,
     "metadata": {},
     "output_type": "execute_result"
    }
   ],
   "source": [
    "pdfFiles = [filename for filename in os.listdir('.') if filename.endswith('.pdf')]\n",
    "pdfFiles"
   ]
  },
  {
   "cell_type": "code",
   "execution_count": 75,
   "metadata": {
    "collapsed": false
   },
   "outputs": [
    {
     "data": {
      "text/plain": [
       "['watermarkedCover.pdf',\n",
       " 'rotatePage.pdf',\n",
       " 'encyptedminutes.pdf',\n",
       " 'combinedminutes.pdf']"
      ]
     },
     "execution_count": 75,
     "metadata": {},
     "output_type": "execute_result"
    }
   ],
   "source": [
    "pdfFiles.sort(reverse=True)\n",
    "pdfFiles"
   ]
  },
  {
   "cell_type": "code",
   "execution_count": 77,
   "metadata": {
    "collapsed": false
   },
   "outputs": [
    {
     "data": {
      "text/plain": [
       "['combinedminutes.pdf',\n",
       " 'encyptedminutes.pdf',\n",
       " 'rotatePage.pdf',\n",
       " 'watermarkedCover.pdf']"
      ]
     },
     "execution_count": 77,
     "metadata": {},
     "output_type": "execute_result"
    }
   ],
   "source": [
    "pdfFiles.sort(key=str.lower)\n",
    "pdfFiles"
   ]
  },
  {
   "cell_type": "code",
   "execution_count": 79,
   "metadata": {
    "collapsed": true
   },
   "outputs": [],
   "source": [
    "import os\n",
    "import PyPDF2\n",
    "\n",
    "# Get all the PDF filenames.\n",
    "\n",
    "pdfFiles = [filename for filename in os.listdir('.') \n",
    "            if filename.endswith('.pdf')]\n",
    "pdfFiles.sort(key=str.lower)\n",
    "\n",
    "pdfWriter = PyPDF2.PdfFileReader()\n",
    "\n",
    "# TODO: Loop through all the PDF files.\n",
    "\n",
    "# TODO: Loop through all the pages (except the first) and add them.\n",
    "\n",
    "# TODO: Save the resulting PDF to a file."
   ]
  },
  {
   "cell_type": "markdown",
   "metadata": {},
   "source": [
    "### Step 2: Open Each PDF"
   ]
  },
  {
   "cell_type": "code",
   "execution_count": null,
   "metadata": {
    "collapsed": true
   },
   "outputs": [],
   "source": [
    "import os\n",
    "import PyPDF2\n",
    "\n",
    "# Get all the PDF filenames.\n",
    "\n",
    "pdfFiles = [filename for filename in os.listdir('.') \n",
    "            if filename.endswith('.pdf')]\n",
    "pdfFiles.sort(key=str.lower)\n",
    "\n",
    "pdfWriter = PyPDF2.PdfFileReader()\n",
    "\n",
    "# TODO: Loop through all the PDF files.\n",
    "for filename in pdfFiles:\n",
    "    pdfFileObj = open(filename, 'rb')\n",
    "    pdfReader = PyPDF2.PdfFileReader(pdfFileObj)\n",
    "\n",
    "# TODO: Loop through all the pages (except the first) and add them.\n",
    "\n",
    "# TODO: Save the resulting PDF to a file."
   ]
  },
  {
   "cell_type": "markdown",
   "metadata": {},
   "source": [
    "### Step 3: Add Each Page"
   ]
  },
  {
   "cell_type": "markdown",
   "metadata": {},
   "source": [
    "#### index 0 주의사항\n",
    "\n",
    "- 0부터 시작한다.\n",
    "- 1부터 시작하므로 첫 페이지 제외\n",
    "- 마지막 pdfReader.numPages를 하게되면 마지막 페이지가 포함이 된다. 그러니 +1을 해줄 필요가 없다. 아, 겁나 헷갈린다. 조심하자.\n",
    "\n",
    "\n",
    "- **제외할 것은 가장 처음부터 제외하자**. pdfFiles에서부터 제외시켜 버리면 나중에 이걸 포함해야 하는지 제외해야 하는지 고민하지 않아도 된다.\n",
    "- 입력받을 때는 command line부터 입력을 받자. 그 중간에 입력받게 되면 소스를 중간에 수정해야 되기 때문에 귀찮다."
   ]
  },
  {
   "cell_type": "code",
   "execution_count": 97,
   "metadata": {
    "collapsed": false
   },
   "outputs": [],
   "source": [
    "import os\n",
    "import PyPDF2\n",
    "\n",
    "# Get all the PDF filenames.\n",
    "\n",
    "pdfFiles = [filename for filename in os.listdir('.') \n",
    "            if filename.endswith('.pdf') and not 'encyptedminutes.pdf' in filename\n",
    "           and not 'allminutes.pdf' in filename]\n",
    "# and not 'encryptedminutes.pdf' in filename \n",
    "pdfFiles.sort(key=str.lower)\n",
    "\n",
    "pdfWriter = PyPDF2.PdfFileWriter()\n",
    "\n",
    "# TODO: Loop through all the PDF files.\n",
    "for filename in pdfFiles:\n",
    "    pdfFileObj = open(filename, 'rb')\n",
    "    pdfReader = PyPDF2.PdfFileReader(pdfFileObj)\n",
    "#     print(filename, pdfReader.numPages)\n",
    "\n",
    "    # TODO: Loop through all the pages (except the first) and add them.\n",
    "    for pageNum in range(1, pdfReader.numPages):\n",
    "#         print pageNum\n",
    "        pageObj = pdfReader.getPage(pageNum)\n",
    "        pdfWriter.addPage(pageObj)\n",
    "\n",
    "# TODO: Save the resulting PDF to a file.\n",
    "pdfOutput = open('allminutes.pdf', 'wb')\n",
    "pdfWriter.write(pdfOutput)\n",
    "pdfOutput.close()"
   ]
  },
  {
   "cell_type": "markdown",
   "metadata": {},
   "source": [
    "### Ideas for Similar Programs\n",
    "\n",
    "- Cut out specific pages from PDFs.\n",
    "- Reorder pages in a PDF.\n",
    "- Create a PDF from only those pages that have some specific text, identified by extractText()"
   ]
  },
  {
   "cell_type": "markdown",
   "metadata": {},
   "source": [
    "## Word Documents\n",
    "\n",
    "> pip install python-docx\n",
    "\n",
    "```python\n",
    "import docx\n",
    "```\n",
    "\n",
    "- 이렇게 사용하자\n",
    "- Document: 모든 문서\n",
    "- Paragraph: Document 오브젝트가 여러개의 Paragraph를 가지공 ㅣㅆ다."
   ]
  },
  {
   "cell_type": "markdown",
   "metadata": {},
   "source": [
    "### Reading Word Documents"
   ]
  },
  {
   "cell_type": "code",
   "execution_count": 12,
   "metadata": {
    "collapsed": true
   },
   "outputs": [],
   "source": [
    "import docx"
   ]
  },
  {
   "cell_type": "code",
   "execution_count": 28,
   "metadata": {
    "collapsed": false
   },
   "outputs": [],
   "source": [
    "doc = docx.Document('src/demo.docx')"
   ]
  },
  {
   "cell_type": "code",
   "execution_count": 29,
   "metadata": {
    "collapsed": false
   },
   "outputs": [
    {
     "data": {
      "text/plain": [
       "7"
      ]
     },
     "execution_count": 29,
     "metadata": {},
     "output_type": "execute_result"
    }
   ],
   "source": [
    "len(doc.paragraphs)"
   ]
  },
  {
   "cell_type": "code",
   "execution_count": 30,
   "metadata": {
    "collapsed": false
   },
   "outputs": [
    {
     "data": {
      "text/plain": [
       "u'Document Title'"
      ]
     },
     "execution_count": 30,
     "metadata": {},
     "output_type": "execute_result"
    }
   ],
   "source": [
    "doc.paragraphs[0].text"
   ]
  },
  {
   "cell_type": "code",
   "execution_count": 31,
   "metadata": {
    "collapsed": false
   },
   "outputs": [
    {
     "data": {
      "text/plain": [
       "1"
      ]
     },
     "execution_count": 31,
     "metadata": {},
     "output_type": "execute_result"
    }
   ],
   "source": [
    "len(doc.paragraphs[0].runs)"
   ]
  },
  {
   "cell_type": "code",
   "execution_count": 32,
   "metadata": {
    "collapsed": false
   },
   "outputs": [
    {
     "data": {
      "text/plain": [
       "u'A plain paragraph with some bold and some italic'"
      ]
     },
     "execution_count": 32,
     "metadata": {},
     "output_type": "execute_result"
    }
   ],
   "source": [
    "doc.paragraphs[1].text"
   ]
  },
  {
   "cell_type": "code",
   "execution_count": 33,
   "metadata": {
    "collapsed": false
   },
   "outputs": [
    {
     "data": {
      "text/plain": [
       "5"
      ]
     },
     "execution_count": 33,
     "metadata": {},
     "output_type": "execute_result"
    }
   ],
   "source": [
    "len(doc.paragraphs[1].runs)"
   ]
  },
  {
   "cell_type": "code",
   "execution_count": 34,
   "metadata": {
    "collapsed": false
   },
   "outputs": [
    {
     "name": "stdout",
     "output_type": "stream",
     "text": [
      "A plain paragraph with\n",
      " some \n",
      "bold\n",
      " and some \n",
      "italic\n"
     ]
    }
   ],
   "source": [
    "for i in doc.paragraphs[1].runs:\n",
    "    print i.text"
   ]
  },
  {
   "cell_type": "code",
   "execution_count": 35,
   "metadata": {
    "collapsed": false
   },
   "outputs": [
    {
     "data": {
      "text/plain": [
       "'A plain paragraph with'"
      ]
     },
     "execution_count": 35,
     "metadata": {},
     "output_type": "execute_result"
    }
   ],
   "source": [
    "doc.paragraphs[1].runs[0].text"
   ]
  },
  {
   "cell_type": "markdown",
   "metadata": {},
   "source": [
    "### Getting the Full Text from a .docx File"
   ]
  },
  {
   "cell_type": "code",
   "execution_count": 13,
   "metadata": {
    "collapsed": false
   },
   "outputs": [
    {
     "name": "stdout",
     "output_type": "stream",
     "text": [
      "Overwriting readDocx.py\n"
     ]
    }
   ],
   "source": [
    "%%writefile readDocx.py\n",
    "import docx\n",
    "\n",
    "def getText(filename):\n",
    "    doc = docx.Document(filename)\n",
    "    fullText = [' ' + para.text for para in doc.paragraphs]\n",
    "    return '\\n\\n'.join(fullText)"
   ]
  },
  {
   "cell_type": "code",
   "execution_count": 1,
   "metadata": {
    "collapsed": true
   },
   "outputs": [],
   "source": [
    "import readDocx"
   ]
  },
  {
   "cell_type": "code",
   "execution_count": 2,
   "metadata": {
    "collapsed": false
   },
   "outputs": [
    {
     "name": "stdout",
     "output_type": "stream",
     "text": [
      " Document Title\n",
      "\n",
      " A plain paragraph with some bold and some italic\n",
      "\n",
      " Heading, level 1\n",
      "\n",
      " Intense quote\n",
      "\n",
      " first item in unordered list\n",
      "\n",
      " first item in ordered list\n",
      "\n",
      " \n",
      "\n"
     ]
    }
   ],
   "source": [
    "print(readDocx.getText('src/demo.docx'))"
   ]
  },
  {
   "cell_type": "markdown",
   "metadata": {},
   "source": [
    "### Styling Paragraph and Run Objects"
   ]
  },
  {
   "cell_type": "code",
   "execution_count": 3,
   "metadata": {
    "collapsed": false
   },
   "outputs": [
    {
     "name": "stdout",
     "output_type": "stream",
     "text": [
      "python-docx==0.8.5\r\n"
     ]
    }
   ],
   "source": [
    "!pip freeze | grep python-docx"
   ]
  },
  {
   "cell_type": "markdown",
   "metadata": {},
   "source": [
    "- Paragraph styles -> Paragraph objects\n",
    "- chracter styles -> Run objects\n",
    "- linked styles -> both\n",
    "- style 이름에 띄어쓰기하면 안됨. 인식하지 못함\n",
    "- Run object를 사용할 떄는 끝에 'Char'를 붙여준다.\n",
    "``` python\n",
    "paragraphObj.style = 'Quote'\n",
    "runObj.style = 'QuoteChar'\n",
    "```"
   ]
  },
  {
   "cell_type": "markdown",
   "metadata": {},
   "source": [
    "### Creating Word Documents with Nondefault Styles"
   ]
  },
  {
   "cell_type": "markdown",
   "metadata": {},
   "source": [
    "### Run Attributes\n",
    "\n",
    "- True: 항상 실행\n",
    "- False: 항상 비실행\n",
    "- None: run's style\n",
    "\n",
    "#### Table 13-1. Run Object text Attributes\n",
    "\n",
    "Attribute | Description\n",
    "--- | ---\n",
    "bold | The text appears in bold.\n",
    "italic | The text appears in italic.\n",
    "underline | The text is underlined.\n",
    "strike | The text appears with strikethrough.\n",
    "double_strike | the text appears with double strikethrough.\n",
    "all_caps | The text appears in capital letters.\n",
    "small_caps | The text appears in capital letters, with lowercase letters two points smaller.\n",
    "shadow | The text appears with a shadow.\n",
    "outline | The text appears outlined rather than solid.\n",
    "rtl | The text is written right-to-left.\n",
    "imprint | The text appears pressed into the page.\n",
    "**emboss** | The text appears raised off the page in relief."
   ]
  },
  {
   "cell_type": "code",
   "execution_count": 4,
   "metadata": {
    "collapsed": true
   },
   "outputs": [],
   "source": [
    "import docx"
   ]
  },
  {
   "cell_type": "code",
   "execution_count": 5,
   "metadata": {
    "collapsed": true
   },
   "outputs": [],
   "source": [
    "doc = docx.Document('src/demo.docx')"
   ]
  },
  {
   "cell_type": "code",
   "execution_count": 6,
   "metadata": {
    "collapsed": false
   },
   "outputs": [
    {
     "data": {
      "text/plain": [
       "u'Document Title'"
      ]
     },
     "execution_count": 6,
     "metadata": {},
     "output_type": "execute_result"
    }
   ],
   "source": [
    "doc.paragraphs[0].text"
   ]
  },
  {
   "cell_type": "code",
   "execution_count": 7,
   "metadata": {
    "collapsed": false
   },
   "outputs": [
    {
     "data": {
      "text/plain": [
       "_ParagraphStyle('Title') id: 4500860560"
      ]
     },
     "execution_count": 7,
     "metadata": {},
     "output_type": "execute_result"
    }
   ],
   "source": [
    "doc.paragraphs[0].style"
   ]
  },
  {
   "cell_type": "code",
   "execution_count": 8,
   "metadata": {
    "collapsed": true
   },
   "outputs": [],
   "source": [
    "doc.paragraphs[0].style = 'Normal'"
   ]
  },
  {
   "cell_type": "code",
   "execution_count": 9,
   "metadata": {
    "collapsed": false
   },
   "outputs": [
    {
     "data": {
      "text/plain": [
       "u'A plain paragraph with some bold and some italic'"
      ]
     },
     "execution_count": 9,
     "metadata": {},
     "output_type": "execute_result"
    }
   ],
   "source": [
    "doc.paragraphs[1].text"
   ]
  },
  {
   "cell_type": "code",
   "execution_count": 11,
   "metadata": {
    "collapsed": false
   },
   "outputs": [
    {
     "data": {
      "text/plain": [
       "('A plain paragraph with', ' some ', 'bold', ' and some ', 'italic')"
      ]
     },
     "execution_count": 11,
     "metadata": {},
     "output_type": "execute_result"
    }
   ],
   "source": [
    "(doc.paragraphs[1].runs[0].text, doc.paragraphs[1].runs[1].text, doc.paragraphs[1].runs[2].text, doc.paragraphs[1].runs[3].text, doc.paragraphs[1].runs[4].text)"
   ]
  },
  {
   "cell_type": "code",
   "execution_count": 18,
   "metadata": {
    "collapsed": false
   },
   "outputs": [],
   "source": [
    "document = docx.Document()"
   ]
  },
  {
   "cell_type": "code",
   "execution_count": 12,
   "metadata": {
    "collapsed": false
   },
   "outputs": [
    {
     "name": "stderr",
     "output_type": "stream",
     "text": [
      "/Users/re4lfl0w/.virtualenvs/general/lib/python2.7/site-packages/docx/styles/styles.py:54: UserWarning: style lookup by style_id is deprecated. Use style name as key instead.\n",
      "  warn(msg, UserWarning)\n"
     ]
    }
   ],
   "source": [
    "doc.paragraphs[1].runs[0].style = 'QuoteChar'"
   ]
  },
  {
   "cell_type": "code",
   "execution_count": 30,
   "metadata": {
    "collapsed": false
   },
   "outputs": [
    {
     "data": {
      "text/plain": [
       "<docx.styles.styles.Styles at 0x109ec0b90>"
      ]
     },
     "execution_count": 30,
     "metadata": {},
     "output_type": "execute_result"
    }
   ],
   "source": [
    "document.styles"
   ]
  },
  {
   "cell_type": "code",
   "execution_count": 31,
   "metadata": {
    "collapsed": false
   },
   "outputs": [],
   "source": [
    "doc.paragraphs[1].runs[0].style = document.styles['Heading1Char']"
   ]
  },
  {
   "cell_type": "code",
   "execution_count": 32,
   "metadata": {
    "collapsed": true
   },
   "outputs": [],
   "source": [
    "doc.paragraphs[1].runs[0].underline= True"
   ]
  },
  {
   "cell_type": "code",
   "execution_count": 33,
   "metadata": {
    "collapsed": true
   },
   "outputs": [],
   "source": [
    "doc.paragraphs[1].runs[3].underline = True"
   ]
  },
  {
   "cell_type": "code",
   "execution_count": 34,
   "metadata": {
    "collapsed": true
   },
   "outputs": [],
   "source": [
    "doc.save('restyled.docx')"
   ]
  },
  {
   "cell_type": "markdown",
   "metadata": {},
   "source": [
    "### Writing Word Documents"
   ]
  },
  {
   "cell_type": "code",
   "execution_count": 35,
   "metadata": {
    "collapsed": true
   },
   "outputs": [],
   "source": [
    "import docx"
   ]
  },
  {
   "cell_type": "code",
   "execution_count": 36,
   "metadata": {
    "collapsed": true
   },
   "outputs": [],
   "source": [
    "doc = docx.Document()"
   ]
  },
  {
   "cell_type": "code",
   "execution_count": 37,
   "metadata": {
    "collapsed": false
   },
   "outputs": [
    {
     "data": {
      "text/plain": [
       "<docx.text.paragraph.Paragraph at 0x109ec0b50>"
      ]
     },
     "execution_count": 37,
     "metadata": {},
     "output_type": "execute_result"
    }
   ],
   "source": [
    "doc.add_paragraph('Hello world!')"
   ]
  },
  {
   "cell_type": "code",
   "execution_count": 38,
   "metadata": {
    "collapsed": true
   },
   "outputs": [],
   "source": [
    "doc.save('hellworld.docx')"
   ]
  },
  {
   "cell_type": "markdown",
   "metadata": {},
   "source": [
    "#### add_run()"
   ]
  },
  {
   "cell_type": "code",
   "execution_count": 39,
   "metadata": {
    "collapsed": true
   },
   "outputs": [],
   "source": [
    "import docx"
   ]
  },
  {
   "cell_type": "code",
   "execution_count": 40,
   "metadata": {
    "collapsed": true
   },
   "outputs": [],
   "source": [
    "doc = docx.Document()"
   ]
  },
  {
   "cell_type": "code",
   "execution_count": 41,
   "metadata": {
    "collapsed": false
   },
   "outputs": [
    {
     "data": {
      "text/plain": [
       "<docx.text.paragraph.Paragraph at 0x10a196190>"
      ]
     },
     "execution_count": 41,
     "metadata": {},
     "output_type": "execute_result"
    }
   ],
   "source": [
    "doc.add_paragraph('Hello world!')"
   ]
  },
  {
   "cell_type": "code",
   "execution_count": 42,
   "metadata": {
    "collapsed": true
   },
   "outputs": [],
   "source": [
    "paraObj1 = doc.add_paragraph('This is a second paragraph.')"
   ]
  },
  {
   "cell_type": "code",
   "execution_count": 43,
   "metadata": {
    "collapsed": true
   },
   "outputs": [],
   "source": [
    "paraObj2 = doc.add_paragraph('This is a yet another paragraph.')"
   ]
  },
  {
   "cell_type": "code",
   "execution_count": 46,
   "metadata": {
    "collapsed": false
   },
   "outputs": [
    {
     "name": "stdout",
     "output_type": "stream",
     "text": [
      "Help on method add_run in module docx.text.paragraph:\n",
      "\n",
      "add_run(self, text=None, style=None) method of docx.text.paragraph.Paragraph instance\n",
      "    Append a run to this paragraph containing *text* and having character\n",
      "    style identified by style ID *style*. *text* can contain tab\n",
      "    (``\\t``) characters, which are converted to the appropriate XML form\n",
      "    for a tab. *text* can also include newline (``\\n``) or carriage\n",
      "    return (``\\r``) characters, each of which is converted to a line\n",
      "    break.\n",
      "\n"
     ]
    }
   ],
   "source": [
    "help(paraObj1.add_run)"
   ]
  },
  {
   "cell_type": "code",
   "execution_count": 44,
   "metadata": {
    "collapsed": false
   },
   "outputs": [
    {
     "data": {
      "text/plain": [
       "<docx.text.run.Run at 0x10a196450>"
      ]
     },
     "execution_count": 44,
     "metadata": {},
     "output_type": "execute_result"
    }
   ],
   "source": [
    "# run object를 추가한다는 얘기네.\n",
    "# run object는 다른 양식의 단어로 바뀌기 전까지는 동일한 run object\n",
    "paraObj1.add_run(' This text is being added to the second paragraph.')"
   ]
  },
  {
   "cell_type": "code",
   "execution_count": 47,
   "metadata": {
    "collapsed": false
   },
   "outputs": [
    {
     "data": {
      "text/plain": [
       "<docx.text.paragraph.Paragraph at 0x10a1965d0>"
      ]
     },
     "execution_count": 47,
     "metadata": {},
     "output_type": "execute_result"
    }
   ],
   "source": [
    "doc.add_paragraph('Hello world!', 'Title')"
   ]
  },
  {
   "cell_type": "code",
   "execution_count": 48,
   "metadata": {
    "collapsed": true
   },
   "outputs": [],
   "source": [
    "doc.save('multipleParagraphs.docx')"
   ]
  },
  {
   "cell_type": "markdown",
   "metadata": {},
   "source": [
    "### Adding Headings"
   ]
  },
  {
   "cell_type": "code",
   "execution_count": 49,
   "metadata": {
    "collapsed": true
   },
   "outputs": [],
   "source": [
    "doc = docx.Document()"
   ]
  },
  {
   "cell_type": "code",
   "execution_count": 50,
   "metadata": {
    "collapsed": false
   },
   "outputs": [
    {
     "data": {
      "text/plain": [
       "<docx.text.paragraph.Paragraph at 0x10a19f5d0>"
      ]
     },
     "execution_count": 50,
     "metadata": {},
     "output_type": "execute_result"
    }
   ],
   "source": [
    "doc.add_heading('Header 0', 0)"
   ]
  },
  {
   "cell_type": "code",
   "execution_count": 51,
   "metadata": {
    "collapsed": false
   },
   "outputs": [
    {
     "data": {
      "text/plain": [
       "<docx.text.paragraph.Paragraph at 0x10a19f690>"
      ]
     },
     "execution_count": 51,
     "metadata": {},
     "output_type": "execute_result"
    }
   ],
   "source": [
    "doc.add_heading('Header 1', 1)"
   ]
  },
  {
   "cell_type": "code",
   "execution_count": 52,
   "metadata": {
    "collapsed": false
   },
   "outputs": [
    {
     "data": {
      "text/plain": [
       "<docx.text.paragraph.Paragraph at 0x10a19f850>"
      ]
     },
     "execution_count": 52,
     "metadata": {},
     "output_type": "execute_result"
    }
   ],
   "source": [
    "doc.add_heading('Header 2', 2)"
   ]
  },
  {
   "cell_type": "code",
   "execution_count": 53,
   "metadata": {
    "collapsed": false
   },
   "outputs": [
    {
     "data": {
      "text/plain": [
       "<docx.text.paragraph.Paragraph at 0x10a19fad0>"
      ]
     },
     "execution_count": 53,
     "metadata": {},
     "output_type": "execute_result"
    }
   ],
   "source": [
    "doc.add_heading('Header 3', 3)"
   ]
  },
  {
   "cell_type": "code",
   "execution_count": 54,
   "metadata": {
    "collapsed": false
   },
   "outputs": [
    {
     "data": {
      "text/plain": [
       "<docx.text.paragraph.Paragraph at 0x10a19fb10>"
      ]
     },
     "execution_count": 54,
     "metadata": {},
     "output_type": "execute_result"
    }
   ],
   "source": [
    "doc.add_heading('Header 4', 4)"
   ]
  },
  {
   "cell_type": "code",
   "execution_count": 55,
   "metadata": {
    "collapsed": true
   },
   "outputs": [],
   "source": [
    "doc.save('headings.docx')"
   ]
  },
  {
   "cell_type": "markdown",
   "metadata": {},
   "source": [
    "### Adding Line and Page Breaks"
   ]
  },
  {
   "cell_type": "code",
   "execution_count": 56,
   "metadata": {
    "collapsed": true
   },
   "outputs": [],
   "source": [
    "doc = docx.Document()"
   ]
  },
  {
   "cell_type": "code",
   "execution_count": 57,
   "metadata": {
    "collapsed": false
   },
   "outputs": [
    {
     "data": {
      "text/plain": [
       "<docx.text.paragraph.Paragraph at 0x10a196550>"
      ]
     },
     "execution_count": 57,
     "metadata": {},
     "output_type": "execute_result"
    }
   ],
   "source": [
    "doc.add_paragraph('This is on the first page!')"
   ]
  },
  {
   "cell_type": "code",
   "execution_count": 60,
   "metadata": {
    "collapsed": false
   },
   "outputs": [
    {
     "data": {
      "text/plain": [
       "<docx.text.paragraph.Paragraph at 0x10a1857d0>"
      ]
     },
     "execution_count": 60,
     "metadata": {},
     "output_type": "execute_result"
    }
   ],
   "source": [
    "doc.add_page_break()"
   ]
  },
  {
   "cell_type": "code",
   "execution_count": 61,
   "metadata": {
    "collapsed": false
   },
   "outputs": [],
   "source": [
    "# doc.paragraphs[0].runs[0].add_break(docx.text.WD_BREAK.PAGE)"
   ]
  },
  {
   "cell_type": "code",
   "execution_count": 62,
   "metadata": {
    "collapsed": false
   },
   "outputs": [
    {
     "data": {
      "text/plain": [
       "<docx.text.paragraph.Paragraph at 0x10a185890>"
      ]
     },
     "execution_count": 62,
     "metadata": {},
     "output_type": "execute_result"
    }
   ],
   "source": [
    "doc.add_paragraph('This is on the second page!')"
   ]
  },
  {
   "cell_type": "code",
   "execution_count": 63,
   "metadata": {
    "collapsed": true
   },
   "outputs": [],
   "source": [
    "doc.save('twoPage.docx')"
   ]
  },
  {
   "cell_type": "markdown",
   "metadata": {},
   "source": [
    "### Adding Pictures"
   ]
  },
  {
   "cell_type": "code",
   "execution_count": 64,
   "metadata": {
    "collapsed": false
   },
   "outputs": [
    {
     "data": {
      "text/plain": [
       "<docx.shape.InlineShape at 0x10a185310>"
      ]
     },
     "execution_count": 64,
     "metadata": {},
     "output_type": "execute_result"
    }
   ],
   "source": [
    "doc.add_picture('src/zophie.png', \n",
    "                width=docx.shared.Inches(1), \n",
    "                height=docx.shared.Cm(4))"
   ]
  },
  {
   "cell_type": "code",
   "execution_count": 65,
   "metadata": {
    "collapsed": true
   },
   "outputs": [],
   "source": [
    "doc.save('twoPage_pic.docx')"
   ]
  },
  {
   "cell_type": "markdown",
   "metadata": {},
   "source": [
    "## Summary\n",
    "\n",
    "- 텍스트 정보가 오직 텍스트 파일만 있는것은 아니다. \n",
    "- PDF와 Word를 다룰 일이 꽤 자주있다.\n",
    "- PDF에서 완벽히 텍스트를 추출할 수는 없으니 주의할 것\n",
    "- Word는 Paragraph와 Run objects로 이루어져 있다.\n",
    "- paragraphs, headings, break, pictures 등을 추가할 수 있다."
   ]
  },
  {
   "cell_type": "markdown",
   "metadata": {},
   "source": [
    "## Practice Projects"
   ]
  },
  {
   "cell_type": "markdown",
   "metadata": {},
   "source": [
    "### PDF Paranoia\n",
    "\n",
    "- 모든 폴더를 돌면서 command line으로 password를 제공해 암호화 된 PDF를 풀 수 있다.\n",
    "- 암호화 된 PDF는 '\\_encypted.pdf' 라고 붙여줄 수 있다. 그리고 원본 파일을 삭제한다. 암호화된 파일이 확실히 해독됐는지 확인이 되야 한다.\n",
    "- 모든 암호화된 PDF를 찾고 제공된 패스워드로 해독된 PDF를 만든다. 만약에 암호가 일치하지 않는다면 사용자에게 메시지로 알리고 다음 PDF로 진행한다."
   ]
  },
  {
   "cell_type": "markdown",
   "metadata": {},
   "source": [
    "### Custom Invitations as Word Documents\n",
    "\n",
    "- 5명의 사람에게 초대장을 보낸다.\n",
    "- 빈 Word file을 만들고 첫번째 스타일을 적용한다.\n",
    "- 각 사용자들을 넣고 add_break 이라는 page break를 추가한다.\n",
    "- 각 파일을 읽은 다음에 사용자 이름을 가져온다."
   ]
  },
  {
   "cell_type": "code",
   "execution_count": 66,
   "metadata": {
    "collapsed": false
   },
   "outputs": [
    {
     "name": "stdout",
     "output_type": "stream",
     "text": [
      "Prof. Plum\r",
      "\r\n",
      "Miss Scarlet\r",
      "\r\n",
      "Col. Mustard\r",
      "\r\n",
      "Al Sweigart\r",
      "\r\n",
      "Robocop"
     ]
    }
   ],
   "source": [
    "!cat src/guests.txt"
   ]
  },
  {
   "cell_type": "markdown",
   "metadata": {},
   "source": [
    "### Brute-Force PDF Password Breaker\n",
    "\n",
    "- 44000 개의 영어 단어로 decrypt()를 호출하면서 어떤 결과값을 리턴하는지 확인한다.\n",
    "- 리턴값이 1이면 암호가 해제된 것이고 리턴값이 0이라면 암호가 틀린 것\n",
    "- uppercase와 lowercase를 모두 실험해 봐야 하니 44000 * 2 = 88000번 시도"
   ]
  },
  {
   "cell_type": "code",
   "execution_count": 68,
   "metadata": {
    "collapsed": false
   },
   "outputs": [
    {
     "name": "stdout",
     "output_type": "stream",
     "text": [
      "AARHUS\r",
      "\r\n",
      "AARON\r",
      "\r\n",
      "ABABA\r",
      "\r\n",
      "ABACK\r",
      "\r\n",
      "ABAFT\r",
      "\r\n",
      "ABANDON\r",
      "\r\n",
      "ABANDONED\r",
      "\r\n",
      "ABANDONING\r",
      "\r\n",
      "ABANDONMENT\r",
      "\r\n",
      "ABANDONS\r",
      "\r\n"
     ]
    }
   ],
   "source": [
    "!head src/dictionary.txt"
   ]
  },
  {
   "cell_type": "code",
   "execution_count": 67,
   "metadata": {
    "collapsed": false
   },
   "outputs": [
    {
     "name": "stdout",
     "output_type": "stream",
     "text": [
      "   45332 src/dictionary.txt\r\n"
     ]
    }
   ],
   "source": [
    "!wc -l src/dictionary.txt"
   ]
  }
 ],
 "metadata": {
  "kernelspec": {
   "display_name": "Python 2",
   "language": "python",
   "name": "python2"
  },
  "language_info": {
   "codemirror_mode": {
    "name": "ipython",
    "version": 2
   },
   "file_extension": ".py",
   "mimetype": "text/x-python",
   "name": "python",
   "nbconvert_exporter": "python",
   "pygments_lexer": "ipython2",
   "version": "2.7.6"
  }
 },
 "nbformat": 4,
 "nbformat_minor": 0
}
