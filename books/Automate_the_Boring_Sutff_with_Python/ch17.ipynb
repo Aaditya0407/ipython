{
 "cells": [
  {
   "cell_type": "markdown",
   "metadata": {},
   "source": [
    "# ch17 Manipulating Images"
   ]
  },
  {
   "cell_type": "markdown",
   "metadata": {},
   "source": [
    "## Manipulating Images\n",
    "\n",
    "- 간단하게는 그림판, 진화된 툴로는 포토샵\n",
    "- 많은 양의 이미지를 변경할 때는 지겨운 작업이 될 수 있다.\n",
    "- Python의 Pillow는 몇 가지 기능들이 있다. 이것으로 쉽게 crop 할 수 있고 resize, 이미지를 변경할 수 있다."
   ]
  },
  {
   "cell_type": "markdown",
   "metadata": {},
   "source": [
    "## Computer Image Fundamentals"
   ]
  },
  {
   "cell_type": "markdown",
   "metadata": {},
   "source": [
    "### Colors and RGBA Values\n",
    "\n",
    "- RGBA: Red, Green, Blue, Alpha(or transparency)\n",
    "- 0 ~ 255\n",
    "- red: (255, 0, 0, 255)\n",
    "- green: (0, 255, 0, 255)\n",
    "- blue: (0, 0, 255, 255)\n",
    "- white: (255, 255, 255, 255)\n",
    "- black: (0, 0, 0, 255)\n",
    "- alpha: 0이라면 보이지 않는다.\n",
    "\n",
    "#### Table 17-1. Standard Color Names and Their RGBA Values\n",
    "\n",
    "Name | RGBA Value | Name | RGBA Value\n",
    "--- | --- | --- | ---\n",
    "White | (255, 255, 255, 255) | Red | (255, 0, 0, 255)\n",
    "Green | (0, 128, 0, 255) | Blue | (0, 0, 255, 255)\n",
    "Gray | (128, 128, 128, 255) | Yellow | (255, 255, 0, 255)\n",
    "Black | (0, 0, 0, 255) | Purple | (128, 0, 128, 255)\n",
    "\n",
    "- ImageColor.getcolor()\n",
    "\n",
    "#### CMYK AND RGB COLORING\n",
    "\n",
    "- CMYK: Cyan(blue), Magenta(red), Yellow, and blacK"
   ]
  },
  {
   "cell_type": "code",
   "execution_count": 1,
   "metadata": {
    "collapsed": true
   },
   "outputs": [],
   "source": [
    "from PIL import ImageColor"
   ]
  },
  {
   "cell_type": "code",
   "execution_count": 2,
   "metadata": {
    "collapsed": false
   },
   "outputs": [
    {
     "data": {
      "text/plain": [
       "(255, 0, 0, 255)"
      ]
     },
     "execution_count": 2,
     "metadata": {},
     "output_type": "execute_result"
    }
   ],
   "source": [
    "ImageColor.getcolor('red', 'RGBA')"
   ]
  },
  {
   "cell_type": "code",
   "execution_count": 3,
   "metadata": {
    "collapsed": false
   },
   "outputs": [
    {
     "data": {
      "text/plain": [
       "(255, 0, 0, 255)"
      ]
     },
     "execution_count": 3,
     "metadata": {},
     "output_type": "execute_result"
    }
   ],
   "source": [
    "ImageColor.getcolor('RED', 'RGBA')"
   ]
  },
  {
   "cell_type": "code",
   "execution_count": 4,
   "metadata": {
    "collapsed": false
   },
   "outputs": [
    {
     "data": {
      "text/plain": [
       "(0, 0, 0, 255)"
      ]
     },
     "execution_count": 4,
     "metadata": {},
     "output_type": "execute_result"
    }
   ],
   "source": [
    "ImageColor.getcolor('Black', 'RGBA')"
   ]
  },
  {
   "cell_type": "code",
   "execution_count": 5,
   "metadata": {
    "collapsed": false
   },
   "outputs": [
    {
     "data": {
      "text/plain": [
       "(210, 105, 30, 255)"
      ]
     },
     "execution_count": 5,
     "metadata": {},
     "output_type": "execute_result"
    }
   ],
   "source": [
    "ImageColor.getcolor('chocolate', 'RGBA')"
   ]
  },
  {
   "cell_type": "code",
   "execution_count": 6,
   "metadata": {
    "collapsed": false
   },
   "outputs": [
    {
     "data": {
      "text/plain": [
       "(100, 149, 237, 255)"
      ]
     },
     "execution_count": 6,
     "metadata": {},
     "output_type": "execute_result"
    }
   ],
   "source": [
    "ImageColor.getcolor('CornflowerBlue', 'RGBA')"
   ]
  },
  {
   "cell_type": "code",
   "execution_count": 7,
   "metadata": {
    "collapsed": false
   },
   "outputs": [
    {
     "name": "stdout",
     "output_type": "stream",
     "text": [
      "Help on function getcolor in module PIL.ImageColor:\n",
      "\n",
      "getcolor(color, mode)\n",
      "    Same as :py:func:`~PIL.ImageColor.getrgb`, but converts the RGB value to a\n",
      "    greyscale value if the mode is not color or a palette image. If the string\n",
      "    cannot be parsed, this function raises a :py:exc:`ValueError` exception.\n",
      "    \n",
      "    .. versionadded:: 1.1.4\n",
      "    \n",
      "    :param color: A color string\n",
      "    :return: ``(graylevel [, alpha]) or (red, green, blue[, alpha])``\n",
      "\n"
     ]
    }
   ],
   "source": [
    "help(ImageColor.getcolor)"
   ]
  },
  {
   "cell_type": "markdown",
   "metadata": {},
   "source": [
    "### Coordinates and Box Tuples\n",
    "\n",
    "- 왼쪽 상단이 0,0"
   ]
  },
  {
   "cell_type": "markdown",
   "metadata": {},
   "source": [
    "## Manipulating Images with Pillow"
   ]
  },
  {
   "cell_type": "code",
   "execution_count": 8,
   "metadata": {
    "collapsed": true
   },
   "outputs": [],
   "source": [
    "from PIL import Image"
   ]
  },
  {
   "cell_type": "code",
   "execution_count": 9,
   "metadata": {
    "collapsed": true
   },
   "outputs": [],
   "source": [
    "catIm = Image.open('src/zophie.png')"
   ]
  },
  {
   "cell_type": "markdown",
   "metadata": {},
   "source": [
    "### Working with the Image Data Type"
   ]
  },
  {
   "cell_type": "code",
   "execution_count": 10,
   "metadata": {
    "collapsed": true
   },
   "outputs": [],
   "source": [
    "from PIL import Image"
   ]
  },
  {
   "cell_type": "code",
   "execution_count": 11,
   "metadata": {
    "collapsed": true
   },
   "outputs": [],
   "source": [
    "catIm = Image.open('src/zophie.png')"
   ]
  },
  {
   "cell_type": "code",
   "execution_count": 12,
   "metadata": {
    "collapsed": false
   },
   "outputs": [
    {
     "data": {
      "text/plain": [
       "(816, 1088)"
      ]
     },
     "execution_count": 12,
     "metadata": {},
     "output_type": "execute_result"
    }
   ],
   "source": [
    "catIm.size"
   ]
  },
  {
   "cell_type": "code",
   "execution_count": 15,
   "metadata": {
    "collapsed": false
   },
   "outputs": [
    {
     "data": {
      "text/plain": [
       "['_copy',\n",
       " '_dump',\n",
       " '_expand',\n",
       " '_makeself',\n",
       " '_new',\n",
       " '_open',\n",
       " 'category',\n",
       " 'close',\n",
       " 'convert',\n",
       " 'copy',\n",
       " 'crop',\n",
       " 'decoderconfig',\n",
       " 'decodermaxblock',\n",
       " 'draft',\n",
       " 'effect_spread',\n",
       " 'filename',\n",
       " 'filter',\n",
       " 'format',\n",
       " 'format_description',\n",
       " 'fp',\n",
       " 'frombytes',\n",
       " 'fromstring',\n",
       " 'getbands',\n",
       " 'getbbox',\n",
       " 'getcolors',\n",
       " 'getdata',\n",
       " 'getextrema',\n",
       " 'getim',\n",
       " 'getpalette',\n",
       " 'getpixel',\n",
       " 'getprojection',\n",
       " 'histogram',\n",
       " 'im',\n",
       " 'info',\n",
       " 'load',\n",
       " 'load_end',\n",
       " 'load_prepare',\n",
       " 'load_read',\n",
       " 'mode',\n",
       " 'offset',\n",
       " 'palette',\n",
       " 'paste',\n",
       " 'png',\n",
       " 'point',\n",
       " 'putalpha',\n",
       " 'putdata',\n",
       " 'putpalette',\n",
       " 'putpixel',\n",
       " 'pyaccess',\n",
       " 'quantize',\n",
       " 'readonly',\n",
       " 'resize',\n",
       " 'rotate',\n",
       " 'save',\n",
       " 'seek',\n",
       " 'show',\n",
       " 'size',\n",
       " 'split',\n",
       " 'tell',\n",
       " 'text',\n",
       " 'thumbnail',\n",
       " 'tile',\n",
       " 'tobitmap',\n",
       " 'tobytes',\n",
       " 'tostring',\n",
       " 'transform',\n",
       " 'transpose',\n",
       " 'verify']"
      ]
     },
     "execution_count": 15,
     "metadata": {},
     "output_type": "execute_result"
    }
   ],
   "source": [
    "[command for command in dir(catIm) if not '__' in command]"
   ]
  },
  {
   "cell_type": "code",
   "execution_count": 16,
   "metadata": {
    "collapsed": true
   },
   "outputs": [],
   "source": [
    "width, height = catIm.size"
   ]
  },
  {
   "cell_type": "code",
   "execution_count": 17,
   "metadata": {
    "collapsed": false
   },
   "outputs": [
    {
     "data": {
      "text/plain": [
       "816"
      ]
     },
     "execution_count": 17,
     "metadata": {},
     "output_type": "execute_result"
    }
   ],
   "source": [
    "width"
   ]
  },
  {
   "cell_type": "code",
   "execution_count": 18,
   "metadata": {
    "collapsed": false
   },
   "outputs": [
    {
     "data": {
      "text/plain": [
       "1088"
      ]
     },
     "execution_count": 18,
     "metadata": {},
     "output_type": "execute_result"
    }
   ],
   "source": [
    "height"
   ]
  },
  {
   "cell_type": "code",
   "execution_count": 19,
   "metadata": {
    "collapsed": false
   },
   "outputs": [
    {
     "data": {
      "text/plain": [
       "'src/zophie.png'"
      ]
     },
     "execution_count": 19,
     "metadata": {},
     "output_type": "execute_result"
    }
   ],
   "source": [
    "catIm.filename"
   ]
  },
  {
   "cell_type": "code",
   "execution_count": 20,
   "metadata": {
    "collapsed": false
   },
   "outputs": [
    {
     "data": {
      "text/plain": [
       "'PNG'"
      ]
     },
     "execution_count": 20,
     "metadata": {},
     "output_type": "execute_result"
    }
   ],
   "source": [
    "catIm.format"
   ]
  },
  {
   "cell_type": "code",
   "execution_count": 21,
   "metadata": {
    "collapsed": false
   },
   "outputs": [
    {
     "data": {
      "text/plain": [
       "'Portable network graphics'"
      ]
     },
     "execution_count": 21,
     "metadata": {},
     "output_type": "execute_result"
    }
   ],
   "source": [
    "catIm.format_description"
   ]
  },
  {
   "cell_type": "code",
   "execution_count": 22,
   "metadata": {
    "collapsed": true
   },
   "outputs": [],
   "source": [
    "catIm.save('zophie.jpg')"
   ]
  },
  {
   "cell_type": "code",
   "execution_count": 23,
   "metadata": {
    "collapsed": true
   },
   "outputs": [],
   "source": [
    "!open zophie.jpg"
   ]
  },
  {
   "cell_type": "markdown",
   "metadata": {},
   "source": [
    "#### Image.new"
   ]
  },
  {
   "cell_type": "code",
   "execution_count": 24,
   "metadata": {
    "collapsed": true
   },
   "outputs": [],
   "source": [
    "from PIL import Image"
   ]
  },
  {
   "cell_type": "code",
   "execution_count": 25,
   "metadata": {
    "collapsed": true
   },
   "outputs": [],
   "source": [
    "im = Image.new('RGBA', (100, 200), 'purple')"
   ]
  },
  {
   "cell_type": "code",
   "execution_count": 26,
   "metadata": {
    "collapsed": true
   },
   "outputs": [],
   "source": [
    "im.save('purpleImage.png')"
   ]
  },
  {
   "cell_type": "markdown",
   "metadata": {},
   "source": [
    "<img src=\"files/purpleImage.png\" />"
   ]
  },
  {
   "cell_type": "code",
   "execution_count": 28,
   "metadata": {
    "collapsed": true
   },
   "outputs": [],
   "source": [
    "im2 = Image.new('RGBA', (20, 20))"
   ]
  },
  {
   "cell_type": "code",
   "execution_count": 29,
   "metadata": {
    "collapsed": true
   },
   "outputs": [],
   "source": [
    "im2.save('transparentImage.png')"
   ]
  },
  {
   "cell_type": "markdown",
   "metadata": {},
   "source": [
    "<img src=\"files/transparentImage.png\" />"
   ]
  },
  {
   "cell_type": "markdown",
   "metadata": {},
   "source": [
    "### Cropping Images"
   ]
  },
  {
   "cell_type": "code",
   "execution_count": 31,
   "metadata": {
    "collapsed": true
   },
   "outputs": [],
   "source": [
    "croppedIm = catIm.crop((335, 345, 565, 560))"
   ]
  },
  {
   "cell_type": "code",
   "execution_count": 32,
   "metadata": {
    "collapsed": true
   },
   "outputs": [],
   "source": [
    "croppedIm.save('cropped.png')"
   ]
  },
  {
   "cell_type": "markdown",
   "metadata": {},
   "source": [
    "<img src=\"files/cropped.png\" />"
   ]
  },
  {
   "cell_type": "markdown",
   "metadata": {},
   "source": [
    "### Copying and Pasting Images onto Other Images"
   ]
  },
  {
   "cell_type": "code",
   "execution_count": 33,
   "metadata": {
    "collapsed": true
   },
   "outputs": [],
   "source": [
    "catIm = Image.open('src/zophie.png')"
   ]
  },
  {
   "cell_type": "code",
   "execution_count": 34,
   "metadata": {
    "collapsed": true
   },
   "outputs": [],
   "source": [
    "catCopyIm = catIm.copy()"
   ]
  },
  {
   "cell_type": "code",
   "execution_count": 35,
   "metadata": {
    "collapsed": true
   },
   "outputs": [],
   "source": [
    "faceIm = catIm.crop((335, 345, 565, 560))"
   ]
  },
  {
   "cell_type": "code",
   "execution_count": 36,
   "metadata": {
    "collapsed": false
   },
   "outputs": [
    {
     "data": {
      "text/plain": [
       "(230, 215)"
      ]
     },
     "execution_count": 36,
     "metadata": {},
     "output_type": "execute_result"
    }
   ],
   "source": [
    "faceIm.size"
   ]
  },
  {
   "cell_type": "code",
   "execution_count": 37,
   "metadata": {
    "collapsed": true
   },
   "outputs": [],
   "source": [
    "catCopyIm.paste(faceIm, (0, 0))"
   ]
  },
  {
   "cell_type": "code",
   "execution_count": 38,
   "metadata": {
    "collapsed": true
   },
   "outputs": [],
   "source": [
    "catCopyIm.paste(faceIm, (400, 500))"
   ]
  },
  {
   "cell_type": "code",
   "execution_count": 39,
   "metadata": {
    "collapsed": true
   },
   "outputs": [],
   "source": [
    "catCopyIm.save('pasted.png')"
   ]
  },
  {
   "cell_type": "markdown",
   "metadata": {},
   "source": [
    "<img src=\"pasted.png\" />"
   ]
  },
  {
   "cell_type": "code",
   "execution_count": 40,
   "metadata": {
    "collapsed": true
   },
   "outputs": [],
   "source": [
    "catImWidth, catImHeight = catIm.size"
   ]
  },
  {
   "cell_type": "code",
   "execution_count": 41,
   "metadata": {
    "collapsed": true
   },
   "outputs": [],
   "source": [
    "faceImWidth, faceImHeight = faceIm.size"
   ]
  },
  {
   "cell_type": "code",
   "execution_count": 42,
   "metadata": {
    "collapsed": true
   },
   "outputs": [],
   "source": [
    "catCopyTwo = catIm.copy()"
   ]
  },
  {
   "cell_type": "code",
   "execution_count": 43,
   "metadata": {
    "collapsed": false
   },
   "outputs": [
    {
     "name": "stdout",
     "output_type": "stream",
     "text": [
      "(0, 0)\n",
      "(0, 215)\n",
      "(0, 430)\n",
      "(0, 645)\n",
      "(0, 860)\n",
      "(0, 1075)\n",
      "(230, 0)\n",
      "(230, 215)\n",
      "(230, 430)\n",
      "(230, 645)\n",
      "(230, 860)\n",
      "(230, 1075)\n",
      "(460, 0)\n",
      "(460, 215)\n",
      "(460, 430)\n",
      "(460, 645)\n",
      "(460, 860)\n",
      "(460, 1075)\n",
      "(690, 0)\n",
      "(690, 215)\n",
      "(690, 430)\n",
      "(690, 645)\n",
      "(690, 860)\n",
      "(690, 1075)\n"
     ]
    }
   ],
   "source": [
    "for left in range(0, catImWidth, faceImWidth):\n",
    "    for top in range(0, catImHeight, faceImHeight):\n",
    "        print(left, top)\n",
    "        catCopyTwo.paste(faceIm, (left, top))"
   ]
  },
  {
   "cell_type": "code",
   "execution_count": 44,
   "metadata": {
    "collapsed": true
   },
   "outputs": [],
   "source": [
    "catCopyTwo.save('tiled.png')"
   ]
  },
  {
   "cell_type": "markdown",
   "metadata": {},
   "source": [
    "<img src=\"tiled.png\" />"
   ]
  },
  {
   "cell_type": "markdown",
   "metadata": {},
   "source": [
    "### Resizing an Image"
   ]
  },
  {
   "cell_type": "code",
   "execution_count": 45,
   "metadata": {
    "collapsed": true
   },
   "outputs": [],
   "source": [
    "width, height = catIm.size"
   ]
  },
  {
   "cell_type": "code",
   "execution_count": 46,
   "metadata": {
    "collapsed": true
   },
   "outputs": [],
   "source": [
    "quartersizedIm = catIm.resize((int(width/2), int(height/2)))"
   ]
  },
  {
   "cell_type": "code",
   "execution_count": 47,
   "metadata": {
    "collapsed": false
   },
   "outputs": [
    {
     "data": {
      "text/plain": [
       "<PIL.Image.Image image mode=RGB size=408x544 at 0x10CF804D0>"
      ]
     },
     "execution_count": 47,
     "metadata": {},
     "output_type": "execute_result"
    }
   ],
   "source": [
    "quartersizedIm"
   ]
  },
  {
   "cell_type": "code",
   "execution_count": 48,
   "metadata": {
    "collapsed": true
   },
   "outputs": [],
   "source": [
    "quartersizedIm.save('quartersized.png')"
   ]
  },
  {
   "cell_type": "markdown",
   "metadata": {},
   "source": [
    "<img src=\"quartersized.png\" />"
   ]
  },
  {
   "cell_type": "code",
   "execution_count": 49,
   "metadata": {
    "collapsed": true
   },
   "outputs": [],
   "source": [
    "svelteIm = catIm.resize((width, height + 300))"
   ]
  },
  {
   "cell_type": "code",
   "execution_count": 50,
   "metadata": {
    "collapsed": true
   },
   "outputs": [],
   "source": [
    "svelteIm.save('svelte.png')"
   ]
  },
  {
   "cell_type": "markdown",
   "metadata": {},
   "source": [
    "<img src=\"svelte.png\" />"
   ]
  },
  {
   "cell_type": "markdown",
   "metadata": {},
   "source": [
    "### Rotating and Flipping Images\n",
    "\n",
    "- 시계 반대 방향. counterclockwise"
   ]
  },
  {
   "cell_type": "code",
   "execution_count": 51,
   "metadata": {
    "collapsed": true
   },
   "outputs": [],
   "source": [
    "catIm.rotate(90).save('rotated90.png')"
   ]
  },
  {
   "cell_type": "code",
   "execution_count": 52,
   "metadata": {
    "collapsed": true
   },
   "outputs": [],
   "source": [
    "catIm.rotate(180).save('rotated180.png')"
   ]
  },
  {
   "cell_type": "code",
   "execution_count": 53,
   "metadata": {
    "collapsed": true
   },
   "outputs": [],
   "source": [
    "catIm.rotate(270).save('rotated270.png')"
   ]
  },
  {
   "cell_type": "markdown",
   "metadata": {},
   "source": [
    "<img src=\"rotated90.png\" />\n",
    "<img src=\"rotated180.png\" />\n",
    "<img src=\"rotated270.png\" />"
   ]
  },
  {
   "cell_type": "code",
   "execution_count": 54,
   "metadata": {
    "collapsed": true
   },
   "outputs": [],
   "source": [
    "catIm.rotate(6).save('rotated6.png')"
   ]
  },
  {
   "cell_type": "code",
   "execution_count": 55,
   "metadata": {
    "collapsed": true
   },
   "outputs": [],
   "source": [
    "catIm.rotate(6, expand=True).save('rotated6_expanded.png')"
   ]
  },
  {
   "cell_type": "markdown",
   "metadata": {},
   "source": [
    "<img src=\"files/rotated6.png\" />\n",
    "<img src=\"files/rotated6_expanded.png\" />"
   ]
  },
  {
   "cell_type": "markdown",
   "metadata": {},
   "source": [
    "- mirror flip: transpose"
   ]
  },
  {
   "cell_type": "code",
   "execution_count": 56,
   "metadata": {
    "collapsed": true
   },
   "outputs": [],
   "source": [
    "catIm.transpose(Image.FLIP_LEFT_RIGHT).save('horizontal_flip.png')"
   ]
  },
  {
   "cell_type": "code",
   "execution_count": 57,
   "metadata": {
    "collapsed": true
   },
   "outputs": [],
   "source": [
    "catIm.transpose(Image.FLIP_TOP_BOTTOM).save('vertical_flip.png')"
   ]
  },
  {
   "cell_type": "markdown",
   "metadata": {},
   "source": [
    "<img src=\"files/horizontal_flip.png\" />\n",
    "<img src=\"files/vertical_flip.png\" />"
   ]
  },
  {
   "cell_type": "markdown",
   "metadata": {},
   "source": [
    "### Chaning Individual Pixels"
   ]
  },
  {
   "cell_type": "code",
   "execution_count": 58,
   "metadata": {
    "collapsed": true
   },
   "outputs": [],
   "source": [
    "im = Image.new('RGBA', (100, 100))"
   ]
  },
  {
   "cell_type": "code",
   "execution_count": 59,
   "metadata": {
    "collapsed": false
   },
   "outputs": [
    {
     "data": {
      "text/plain": [
       "(0, 0, 0, 0)"
      ]
     },
     "execution_count": 59,
     "metadata": {},
     "output_type": "execute_result"
    }
   ],
   "source": [
    "im.getpixel((0, 0))"
   ]
  },
  {
   "cell_type": "code",
   "execution_count": 60,
   "metadata": {
    "collapsed": true
   },
   "outputs": [],
   "source": [
    "for x in range(100):\n",
    "    for y in range(50):\n",
    "        im.putpixel((x, y), (210, 210, 210))"
   ]
  },
  {
   "cell_type": "code",
   "execution_count": 61,
   "metadata": {
    "collapsed": true
   },
   "outputs": [],
   "source": [
    "from PIL import ImageColor"
   ]
  },
  {
   "cell_type": "code",
   "execution_count": 66,
   "metadata": {
    "collapsed": false
   },
   "outputs": [
    {
     "data": {
      "text/plain": [
       "(169, 169, 169, 255)"
      ]
     },
     "execution_count": 66,
     "metadata": {},
     "output_type": "execute_result"
    }
   ],
   "source": [
    "ImageColor.getcolor('darkgray', 'RGBA')"
   ]
  },
  {
   "cell_type": "code",
   "execution_count": 62,
   "metadata": {
    "collapsed": true
   },
   "outputs": [],
   "source": [
    "for x in range(100):\n",
    "    for y in range(50, 100):\n",
    "        im.putpixel((x, y), ImageColor.getcolor('darkgray', 'RGBA'))"
   ]
  },
  {
   "cell_type": "code",
   "execution_count": 63,
   "metadata": {
    "collapsed": false
   },
   "outputs": [
    {
     "data": {
      "text/plain": [
       "(210, 210, 210, 255)"
      ]
     },
     "execution_count": 63,
     "metadata": {},
     "output_type": "execute_result"
    }
   ],
   "source": [
    "im.getpixel((0, 0))"
   ]
  },
  {
   "cell_type": "code",
   "execution_count": 64,
   "metadata": {
    "collapsed": false
   },
   "outputs": [
    {
     "data": {
      "text/plain": [
       "(169, 169, 169, 255)"
      ]
     },
     "execution_count": 64,
     "metadata": {},
     "output_type": "execute_result"
    }
   ],
   "source": [
    "im.getpixel((0, 50))"
   ]
  },
  {
   "cell_type": "code",
   "execution_count": 65,
   "metadata": {
    "collapsed": true
   },
   "outputs": [],
   "source": [
    "im.save('putPixel.png')"
   ]
  },
  {
   "cell_type": "markdown",
   "metadata": {},
   "source": [
    "<img src=\"files/putPixel.png\" />"
   ]
  },
  {
   "cell_type": "markdown",
   "metadata": {},
   "source": [
    "- 도형을 그릴 때는 ImageDraw를 써라"
   ]
  },
  {
   "cell_type": "markdown",
   "metadata": {},
   "source": [
    "## Project: Adding a Logo\n",
    "\n",
    "### High Level Logic\n",
    "\n",
    "- Load the image.\n",
    "- Loop over all .png and .jpg files in the working directory.\n",
    "- Check whether the image is wider or taller than 300 pixels.\n",
    "- If so, reduce the width or height(whichever is larger) to 300 pixels and scale down the other dimension proportionally.\n",
    "- Paste the logo image into the corner.\n",
    "- Save the altered images to another folder.\n",
    "\n",
    "### Code Level Logic\n",
    "\n",
    "- Open the catlogo.png file as an Image object.\n",
    "- Loop over the strings returned from os.listdir('.').\n",
    "- Get the width and height of the image from the size attribute.\n",
    "- Calculate the new width and height of the resized image.\n",
    "- Call the resize() method to resize the image.\n",
    "- Call the paste() method to paste the logo.\n",
    "- Call the save() method to save the changes, using the original filename."
   ]
  },
  {
   "cell_type": "markdown",
   "metadata": {},
   "source": [
    "### Step 1: Open the Logo Image"
   ]
  },
  {
   "cell_type": "code",
   "execution_count": 67,
   "metadata": {
    "collapsed": true
   },
   "outputs": [],
   "source": [
    "import os\n",
    "from PIL import Image\n",
    "\n",
    "SQUARE_FIT_SIZE = 300\n",
    "LOGO_FILENAME = 'src/catlogo.png'\n",
    "\n",
    "logoIm = Image.open(LOGO_FILENAME)\n",
    "logiWidth, logoHeight = logoIm.size\n",
    "\n",
    "# TODO: Loop over all files in the working directory.\n",
    "\n",
    "# TODO: Check if image needs to be resized.\n",
    "\n",
    "# TODO: Calculate the new width and height to resize to.\n",
    "\n",
    "# TODO: Resize the image.\n",
    "\n",
    "# TODO: Add the logo.\n",
    "\n",
    "# TODO: Save changes."
   ]
  },
  {
   "cell_type": "markdown",
   "metadata": {},
   "source": [
    "### Step 2: Loop Over All Files and Open Images"
   ]
  },
  {
   "cell_type": "code",
   "execution_count": null,
   "metadata": {
    "collapsed": true
   },
   "outputs": [],
   "source": [
    "import os\n",
    "from PIL import Image\n",
    "\n",
    "SQUARE_FIT_SIZE = 300\n",
    "LOGO_FILENAME = 'catlogo.png'\n",
    "\n",
    "logoIm = Image.open(os.path.join('src', LOGO_FILENAME))\n",
    "logiWidth, logoHeight = logoIm.size\n",
    "\n",
    "if not os.stat('withLogo'):\n",
    "    os.makedirs('withLogo')\n",
    "# TODO: Loop over all files in the working directory.\n",
    "for filename in os.listdir('.'):\n",
    "    if not(filename.endswith('.png') or filename.endswith('.jpg')) \\\n",
    "    or filename == LOGO_FILENAME:\n",
    "        continue # skip non-image files and the logo file itself\n",
    "    \n",
    "    im = Image.open(filename)\n",
    "    width, height = im.size\n",
    "\n",
    "# TODO: Check if image needs to be resized.\n",
    "\n",
    "# TODO: Calculate the new width and height to resize to.\n",
    "\n",
    "# TODO: Resize the image.\n",
    "\n",
    "# TODO: Add the logo.\n",
    "\n",
    "# TODO: Save changes."
   ]
  },
  {
   "cell_type": "markdown",
   "metadata": {},
   "source": [
    "### Step 3: Resize the Images"
   ]
  },
  {
   "cell_type": "code",
   "execution_count": 81,
   "metadata": {
    "collapsed": true
   },
   "outputs": [],
   "source": [
    "width = 500\n",
    "height = 400"
   ]
  },
  {
   "cell_type": "code",
   "execution_count": 82,
   "metadata": {
    "collapsed": true
   },
   "outputs": [],
   "source": [
    "SQUA_FIT_SIZE = 300"
   ]
  },
  {
   "cell_type": "code",
   "execution_count": 84,
   "metadata": {
    "collapsed": false
   },
   "outputs": [
    {
     "data": {
      "text/plain": [
       "240"
      ]
     },
     "execution_count": 84,
     "metadata": {},
     "output_type": "execute_result"
    }
   ],
   "source": [
    "height = int((float(SQUA_FIT_SIZE) / width) * height)\n",
    "height"
   ]
  },
  {
   "cell_type": "code",
   "execution_count": 85,
   "metadata": {
    "collapsed": false
   },
   "outputs": [
    {
     "data": {
      "text/plain": [
       "300"
      ]
     },
     "execution_count": 85,
     "metadata": {},
     "output_type": "execute_result"
    }
   ],
   "source": [
    "width = 300\n",
    "width"
   ]
  },
  {
   "cell_type": "markdown",
   "metadata": {},
   "source": [
    "#### python3 division vs python2 division\n",
    "\n",
    "- python3에서는 float 결과로 나타나지만 python2는 int 결과로 나타나기 떄문에 계산되는 항중에 1개를 float형으로 미리 형 바꿈을 해줘야 한다."
   ]
  },
  {
   "cell_type": "code",
   "execution_count": null,
   "metadata": {
    "collapsed": true
   },
   "outputs": [],
   "source": [
    "import os\n",
    "from PIL import Image\n",
    "\n",
    "SQUARE_FIT_SIZE = 300\n",
    "LOGO_FILENAME = 'catlogo.png'\n",
    "\n",
    "logoIm = Image.open(os.path.join('src', LOGO_FILENAME))\n",
    "logiWidth, logoHeight = logoIm.size\n",
    "\n",
    "if not os.stat('withLogo'):\n",
    "    os.makedirs('withLogo')\n",
    "# TODO: Loop over all files in the working directory.\n",
    "for filename in os.listdir('.'):\n",
    "    if not(filename.endswith('.png') or filename.endswith('.jpg')) \\\n",
    "    or filename == LOGO_FILENAME:\n",
    "        continue # skip non-image files and the logo file itself\n",
    "    \n",
    "    im = Image.open(filename)\n",
    "    width, height = im.size\n",
    "\n",
    "    # Check if image needs to be resized.\n",
    "    if width > SQUARE_FIT_SIZE and height > SQUARE_FIT_SIZE:\n",
    "        # Calculate the new width and height to resize to.\n",
    "        if width > height:\n",
    "            height = int((float(SQUARE_FIT_SIZE) / width) * height)\n",
    "            width = SQUARE_FIT_SIZE\n",
    "        else:\n",
    "            width = int((float(SQUARE_FIT_SIZE) / height) * width)\n",
    "            height = SQUARE_FIT_SIZE\n",
    "        # Resize the image.\n",
    "        print('Resizing {}...'.format(filename))\n",
    "        im = im.resize((width, height))\n",
    "\n",
    "\n",
    "\n",
    "# TODO: Add the logo.\n",
    "\n",
    "# TODO: Save changes."
   ]
  },
  {
   "cell_type": "markdown",
   "metadata": {},
   "source": [
    "### Step 4: Add the Logo and Save the Changes"
   ]
  },
  {
   "cell_type": "code",
   "execution_count": 112,
   "metadata": {
    "collapsed": false
   },
   "outputs": [
    {
     "data": {
      "text/plain": [
       "(808, 768)"
      ]
     },
     "execution_count": 112,
     "metadata": {},
     "output_type": "execute_result"
    }
   ],
   "source": [
    "logoIm.size"
   ]
  },
  {
   "cell_type": "code",
   "execution_count": 113,
   "metadata": {
    "collapsed": false
   },
   "outputs": [],
   "source": [
    "logoIm2 = logoIm.resize((300, 300))"
   ]
  },
  {
   "cell_type": "code",
   "execution_count": 114,
   "metadata": {
    "collapsed": false
   },
   "outputs": [
    {
     "data": {
      "text/plain": [
       "(300, 300)"
      ]
     },
     "execution_count": 114,
     "metadata": {},
     "output_type": "execute_result"
    }
   ],
   "source": [
    "logoIm2.size"
   ]
  },
  {
   "cell_type": "code",
   "execution_count": 109,
   "metadata": {
    "collapsed": true
   },
   "outputs": [],
   "source": [
    "logoIm2.save('1.png')"
   ]
  },
  {
   "cell_type": "code",
   "execution_count": 103,
   "metadata": {
    "collapsed": true
   },
   "outputs": [],
   "source": [
    "!open 1.png"
   ]
  },
  {
   "cell_type": "code",
   "execution_count": 95,
   "metadata": {
    "collapsed": true
   },
   "outputs": [],
   "source": [
    "im.resize?"
   ]
  },
  {
   "cell_type": "code",
   "execution_count": 116,
   "metadata": {
    "collapsed": false,
    "scrolled": false
   },
   "outputs": [
    {
     "name": "stdout",
     "output_type": "stream",
     "text": [
      "Resizing end.png...\n",
      "Adding logo to end.png...\n",
      "width - logoWidth = 102 height - logoHeight = 250\n",
      "Resizing horizontal_flip.png...\n",
      "Adding logo to horizontal_flip.png...\n",
      "width - logoWidth = 175 height - logoHeight = 250\n",
      "Resizing pasted.png...\n",
      "Adding logo to pasted.png...\n",
      "width - logoWidth = 175 height - logoHeight = 250\n",
      "Resizing quartersized.png...\n",
      "Adding logo to quartersized.png...\n",
      "width - logoWidth = 175 height - logoHeight = 250\n",
      "Resizing rotated180.png...\n",
      "Adding logo to rotated180.png...\n",
      "width - logoWidth = 175 height - logoHeight = 250\n",
      "Resizing rotated270.png...\n",
      "Adding logo to rotated270.png...\n",
      "width - logoWidth = 250 height - logoHeight = 175\n",
      "Resizing rotated6.png...\n",
      "Adding logo to rotated6.png...\n",
      "width - logoWidth = 175 height - logoHeight = 250\n",
      "Resizing rotated6_expanded.png...\n",
      "Adding logo to rotated6_expanded.png...\n",
      "width - logoWidth = 187 height - logoHeight = 250\n",
      "Resizing rotated90.png...\n",
      "Adding logo to rotated90.png...\n",
      "width - logoWidth = 250 height - logoHeight = 175\n",
      "Resizing svelte.png...\n",
      "Adding logo to svelte.png...\n",
      "width - logoWidth = 126 height - logoHeight = 250\n",
      "Resizing test1.png...\n",
      "Adding logo to test1.png...\n",
      "width - logoWidth = 250 height - logoHeight = 235\n",
      "Resizing tiled.png...\n",
      "Adding logo to tiled.png...\n",
      "width - logoWidth = 175 height - logoHeight = 250\n",
      "Resizing vertical_flip.png...\n",
      "Adding logo to vertical_flip.png...\n",
      "width - logoWidth = 175 height - logoHeight = 250\n",
      "Resizing zophie.jpg...\n",
      "Adding logo to zophie.jpg...\n",
      "width - logoWidth = 175 height - logoHeight = 250\n"
     ]
    }
   ],
   "source": [
    "import os\n",
    "from PIL import Image\n",
    "\n",
    "SQUARE_FIT_SIZE = 300\n",
    "LOGO_FILENAME = 'catlogo.png'\n",
    "\n",
    "logoIm = Image.open(os.path.join('src', LOGO_FILENAME))\n",
    "logoIm = logoIm.resize((50, 50))\n",
    "logoWidth, logoHeight = logoIm.size\n",
    "\n",
    "if not os.path.exists('withLogo'):\n",
    "    os.makedirs('withLogo')\n",
    "# TODO: Loop over all files in the working directory.\n",
    "for filename in os.listdir('.'):\n",
    "    if not(filename.endswith('.png') or filename.endswith('.jpg')) \\\n",
    "    or filename == LOGO_FILENAME:\n",
    "        continue # skip non-image files and the logo file itself\n",
    "    \n",
    "    im = Image.open(filename)\n",
    "    width, height = im.size\n",
    "\n",
    "    # Check if image needs to be resized.\n",
    "    if width > SQUARE_FIT_SIZE and height > SQUARE_FIT_SIZE:\n",
    "        # Calculate the new width and height to resize to.\n",
    "        if width > height:\n",
    "            height = int((float(SQUARE_FIT_SIZE) / width) * height)\n",
    "            width = SQUARE_FIT_SIZE\n",
    "        else:\n",
    "            width = int((float(SQUARE_FIT_SIZE) / height) * width)\n",
    "            height = SQUARE_FIT_SIZE\n",
    "        # Resize the image.\n",
    "        print('Resizing {}...'.format(filename))\n",
    "        im = im.resize((width, height))\n",
    "\n",
    "\n",
    "        # Add the logo.\n",
    "        print('Adding logo to {}...'.format(filename))\n",
    "        print('width - logoWidth = {} height - logoHeight = {}'.format(width-logoWidth, height-logoHeight))\n",
    "        im.paste(logoIm, (width - logoWidth, height - logoHeight), logoIm)\n",
    "\n",
    "        # Save changes.\n",
    "        im.save(os.path.join('withLogo', filename))"
   ]
  },
  {
   "cell_type": "markdown",
   "metadata": {},
   "source": [
    "### Ideas for Similar Programs\n",
    "\n",
    "- Add text or a Web site URL to images.\n",
    "- Add timestamps to images.\n",
    "- Copy or move images into different folders based on their sizes.\n",
    "- Add a mostly transparent watermark to an image to prevent others from copying it."
   ]
  },
  {
   "cell_type": "markdown",
   "metadata": {},
   "source": [
    "## Drawing on Images"
   ]
  },
  {
   "cell_type": "code",
   "execution_count": 117,
   "metadata": {
    "collapsed": true
   },
   "outputs": [],
   "source": [
    "from PIL import Image, ImageDraw"
   ]
  },
  {
   "cell_type": "code",
   "execution_count": 118,
   "metadata": {
    "collapsed": true
   },
   "outputs": [],
   "source": [
    "im = Image.new('RGBA', (200, 200), 'white')"
   ]
  },
  {
   "cell_type": "code",
   "execution_count": 119,
   "metadata": {
    "collapsed": true
   },
   "outputs": [],
   "source": [
    "draw = ImageDraw.Draw(im)"
   ]
  },
  {
   "cell_type": "markdown",
   "metadata": {},
   "source": [
    "### Drawing Shapes\n",
    "\n",
    "### Points\n",
    "\n",
    "- point(xy, fill)\n",
    "\n",
    "### Lines\n",
    "\n",
    "- line(xy, fill, width)\n",
    "\n",
    "### Rectangles\n",
    "\n",
    "- rectangle(xy, fill, outline)\n",
    "\n",
    "### Ellipses\n",
    "\n",
    "- ellipse(xy, fill, outline)\n",
    "\n",
    "### Polygons\n",
    "\n",
    "- polygon(xy, fill, outline)\n",
    "\n",
    "### Drawing Example"
   ]
  },
  {
   "cell_type": "code",
   "execution_count": 121,
   "metadata": {
    "collapsed": true
   },
   "outputs": [],
   "source": [
    "from PIL import Image, ImageDraw"
   ]
  },
  {
   "cell_type": "code",
   "execution_count": 122,
   "metadata": {
    "collapsed": true
   },
   "outputs": [],
   "source": [
    "im = Image.new('RGBA', (200, 200), 'white')"
   ]
  },
  {
   "cell_type": "code",
   "execution_count": 123,
   "metadata": {
    "collapsed": true
   },
   "outputs": [],
   "source": [
    "draw = ImageDraw.Draw(im)"
   ]
  },
  {
   "cell_type": "code",
   "execution_count": 124,
   "metadata": {
    "collapsed": true
   },
   "outputs": [],
   "source": [
    "draw.line([(0, 0), (199, 0), (199, 199), (0, 199), (0, 0)], fill='black')"
   ]
  },
  {
   "cell_type": "code",
   "execution_count": 125,
   "metadata": {
    "collapsed": true
   },
   "outputs": [],
   "source": [
    "draw.rectangle((20, 30, 60, 60), fill='blue')"
   ]
  },
  {
   "cell_type": "code",
   "execution_count": 126,
   "metadata": {
    "collapsed": true
   },
   "outputs": [],
   "source": [
    "draw.ellipse((120, 30, 160, 60), fill='red')"
   ]
  },
  {
   "cell_type": "code",
   "execution_count": 127,
   "metadata": {
    "collapsed": true
   },
   "outputs": [],
   "source": [
    "draw.polygon(((57, 87), (79, 62), (94, 85), (120, 90), (103, 113)), fill='brown')"
   ]
  },
  {
   "cell_type": "code",
   "execution_count": 128,
   "metadata": {
    "collapsed": true
   },
   "outputs": [],
   "source": [
    "for i in range(100, 200, 10):\n",
    "    draw.line([(i, 0), (200, i - 100)], fill='green')"
   ]
  },
  {
   "cell_type": "code",
   "execution_count": 129,
   "metadata": {
    "collapsed": true
   },
   "outputs": [],
   "source": [
    "im.save('drawing.png')"
   ]
  },
  {
   "cell_type": "code",
   "execution_count": 134,
   "metadata": {
    "collapsed": false
   },
   "outputs": [],
   "source": [
    "draw.textsize"
   ]
  },
  {
   "cell_type": "markdown",
   "metadata": {},
   "source": [
    "<img src=\"files/drawing.png\" />"
   ]
  },
  {
   "cell_type": "markdown",
   "metadata": {},
   "source": [
    "### Drawing Text\n",
    "\n",
    "- xy: two-integer tuple. 텍스트 박스의 왼쪽 상단\n",
    "- text: 텍스트 스트링\n",
    "- fill: text의 color\n",
    "- font: ImageFont object. type-face, size of the text."
   ]
  },
  {
   "cell_type": "code",
   "execution_count": 130,
   "metadata": {
    "collapsed": true
   },
   "outputs": [],
   "source": [
    "from PIL import ImageFont"
   ]
  },
  {
   "cell_type": "markdown",
   "metadata": {},
   "source": [
    "- ImageFont.truetype\n",
    "  - 첫번째 인자: TrueType file 위치\n",
    "\n",
    "#### Fonts folder each OS\n",
    "\n",
    "- On Windows: C:\\Windows\\Fonts\n",
    "- On OS X: /Library/Fonts and /System/Library/Fonts\n",
    "- On Linux: /usr/share/fonts/truetype"
   ]
  },
  {
   "cell_type": "code",
   "execution_count": 135,
   "metadata": {
    "collapsed": true
   },
   "outputs": [],
   "source": [
    "from PIL import Image, ImageDraw, ImageFont"
   ]
  },
  {
   "cell_type": "code",
   "execution_count": 136,
   "metadata": {
    "collapsed": true
   },
   "outputs": [],
   "source": [
    "import os"
   ]
  },
  {
   "cell_type": "code",
   "execution_count": 137,
   "metadata": {
    "collapsed": true
   },
   "outputs": [],
   "source": [
    "im = Image.new('RGBA', (200, 200), 'white')"
   ]
  },
  {
   "cell_type": "code",
   "execution_count": 138,
   "metadata": {
    "collapsed": true
   },
   "outputs": [],
   "source": [
    "draw = ImageDraw.Draw(im)"
   ]
  },
  {
   "cell_type": "code",
   "execution_count": 139,
   "metadata": {
    "collapsed": true
   },
   "outputs": [],
   "source": [
    "draw.text((20, 150), 'Hello', fill='purple')"
   ]
  },
  {
   "cell_type": "code",
   "execution_count": 140,
   "metadata": {
    "collapsed": true
   },
   "outputs": [],
   "source": [
    "fontsFolder = '/Library/Fonts'"
   ]
  },
  {
   "cell_type": "code",
   "execution_count": 141,
   "metadata": {
    "collapsed": true
   },
   "outputs": [],
   "source": [
    "arialFont = ImageFont.truetype(os.path.join(fontsFolder, 'arial.ttf'), 32)"
   ]
  },
  {
   "cell_type": "code",
   "execution_count": 142,
   "metadata": {
    "collapsed": true
   },
   "outputs": [],
   "source": [
    "draw.text((100, 150), 'Howdy', fill='gray', font=arialFont)"
   ]
  },
  {
   "cell_type": "code",
   "execution_count": 143,
   "metadata": {
    "collapsed": true
   },
   "outputs": [],
   "source": [
    "im.save('text.png')"
   ]
  },
  {
   "cell_type": "markdown",
   "metadata": {},
   "source": [
    "<img src=\"files/text.png\" />"
   ]
  },
  {
   "cell_type": "markdown",
   "metadata": {},
   "source": [
    "## Summary\n",
    "\n",
    "- x, y coordinates.\n",
    "- 공통 포맷 JPEG and PNG\n",
    "- Image object는 crop(), copy(), paste(), resize(), rotate(), transpose(), save() 메소드를 가지고 있다.\n",
    "- 도형을 그리고 싶다면 ImageDraw\n",
    "  - points\n",
    "  - lines\n",
    "  - rectangles\n",
    "  - ellipses\n",
    "  - polygons\n",
    "- Photoshop 은 자동 배치 프로세싱 특징을 제공한다. 파이썬을 사용하면 동일한 동작을 무료로 할 수 있다.\n",
    "- 이전 챕터에서 파이썬으로 plaintext file, spreadsheets, PDFs, 다른 포맷들을 다뤘다.\n",
    "- pillow 모듈을 사용해서 너의 프로그램을 조금 더 향상시킬 수 있다."
   ]
  },
  {
   "cell_type": "markdown",
   "metadata": {},
   "source": [
    "## Practice Projects\n",
    "\n",
    "### Extending and Fixing the Chapter Project Programs\n",
    "\n",
    "- GIF, BMP도 가능하게 확장\n",
    "- 확장자 대소문자 상관없게\n",
    "- 이미지가 로고 사이즈와 비슷하면 skip. 최소한 로고보다 2배 정도의 가로나 세로 크기를 가지고 있어야 한다."
   ]
  },
  {
   "cell_type": "markdown",
   "metadata": {},
   "source": [
    "### Identifying Photo Folders on the Hard Drive\n",
    "\n",
    "- photo folder 인지 어떻게 구분할 거냐? .png 나 .jpg\n",
    "- photo는 큰 이미지. 가로나 세로가 최소한 500 픽셀 이상"
   ]
  },
  {
   "cell_type": "code",
   "execution_count": null,
   "metadata": {
    "collapsed": true
   },
   "outputs": [],
   "source": [
    "#! python3 #\n",
    "Import modules and write comments to describe this program.\n",
    "\n",
    "for foldername, subfolders, filenames in os.walk('C:\\\\'):\n",
    "    numPhotoFiles = 0\n",
    "    numNonPhotoFiles = 0\n",
    "    for filename in filenames:\n",
    "        # Check if file extension isn't .png or .jpg.\n",
    "        if TODO:\n",
    "            numNonPhotoFiles += 1\n",
    "            continue    # skip to next filename\n",
    "\n",
    "        # Open image file using Pillow.\n",
    "\n",
    "        # Check if width & height are larger than 500.\n",
    "        if TODO:\n",
    "            # Image is large enough to be considered a photo.\n",
    "            numPhotoFiles += 1\n",
    "        else:\n",
    "            # Image is too small to be a photo.\n",
    "            numNonPhotoFiles += 1\n",
    "\n",
    "    # If more than half of files were photos,\n",
    "    # print the absolute path of the folder.\n",
    "    if TODO:\n",
    "        print(TODO)"
   ]
  },
  {
   "cell_type": "markdown",
   "metadata": {},
   "source": [
    "### Custom Seating Cards"
   ]
  },
  {
   "cell_type": "code",
   "execution_count": 144,
   "metadata": {
    "collapsed": false
   },
   "outputs": [
    {
     "name": "stdout",
     "output_type": "stream",
     "text": [
      "Prof. Plum\r",
      "\r\n",
      "Miss Scarlet\r",
      "\r\n",
      "Col. Mustard\r",
      "\r\n",
      "Al Sweigart\r",
      "\r\n",
      "Robocop"
     ]
    }
   ],
   "source": [
    "!cat src/guests.txt"
   ]
  }
 ],
 "metadata": {
  "kernelspec": {
   "display_name": "Python 2",
   "language": "python",
   "name": "python2"
  },
  "language_info": {
   "codemirror_mode": {
    "name": "ipython",
    "version": 2
   },
   "file_extension": ".py",
   "mimetype": "text/x-python",
   "name": "python",
   "nbconvert_exporter": "python",
   "pygments_lexer": "ipython2",
   "version": "2.7.6"
  }
 },
 "nbformat": 4,
 "nbformat_minor": 0
}
