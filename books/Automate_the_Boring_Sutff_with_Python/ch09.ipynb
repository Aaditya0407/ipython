{
 "cells": [
  {
   "cell_type": "markdown",
   "metadata": {},
   "source": [
    "# ch09 Organizing Files"
   ]
  },
  {
   "cell_type": "markdown",
   "metadata": {},
   "source": [
    "## Organizing Files\n",
    "\n",
    "- 모든 서브 폴더의 폴더에서 오직 PDF 파일만 복사할 때\n",
    "- 많은 폴더에서 파일이름이 spam001.txt, spam002.txt, spam003.txt 중에서 0를 삭제할 때\n",
    "- 다양한 폴더의 콘텐츠를 1개의 ZIP file로 압축할 때(이게 간단한 백업 시스템)\n",
    "\n",
    "## The shutil Module\n",
    "\n",
    "- shutil.copy(source, destination)"
   ]
  },
  {
   "cell_type": "code",
   "execution_count": 1,
   "metadata": {
    "collapsed": true
   },
   "outputs": [],
   "source": [
    "import shutil, os"
   ]
  },
  {
   "cell_type": "code",
   "execution_count": 2,
   "metadata": {
    "collapsed": true
   },
   "outputs": [],
   "source": [
    "os.chdir('/tmp/')"
   ]
  },
  {
   "cell_type": "code",
   "execution_count": 3,
   "metadata": {
    "collapsed": false
   },
   "outputs": [
    {
     "data": {
      "text/plain": [
       "['.s.PGSQL.5432',\n",
       " '.s.PGSQL.5432.lock',\n",
       " '20150220.txt',\n",
       " 'AlTest1.err',\n",
       " 'AlTest1.out',\n",
       " 'com.apple.launchd.9xf8nfhetJ',\n",
       " 'com.apple.launchd.iPnRm4qAz2',\n",
       " 'com.apple.launchd.rqqOpjMVKq',\n",
       " 'fish.re4lfl0w',\n",
       " 'fishd.socket.re4lfl0w',\n",
       " 'KSOutOfProcessFetcher.501.qQkpPp2uZLdVc5pukHmfJMR4bkM=']"
      ]
     },
     "execution_count": 3,
     "metadata": {},
     "output_type": "execute_result"
    }
   ],
   "source": [
    "os.listdir('.')"
   ]
  },
  {
   "cell_type": "code",
   "execution_count": 4,
   "metadata": {
    "collapsed": true
   },
   "outputs": [],
   "source": [
    "!echo 'nice' > spam.txt"
   ]
  },
  {
   "cell_type": "code",
   "execution_count": 5,
   "metadata": {
    "collapsed": false
   },
   "outputs": [
    {
     "name": "stdout",
     "output_type": "stream",
     "text": [
      "nice\r\n"
     ]
    }
   ],
   "source": [
    "!cat spam.txt"
   ]
  },
  {
   "cell_type": "code",
   "execution_count": 6,
   "metadata": {
    "collapsed": true
   },
   "outputs": [],
   "source": [
    "!mkdir test_shutil"
   ]
  },
  {
   "cell_type": "code",
   "execution_count": 7,
   "metadata": {
    "collapsed": false
   },
   "outputs": [
    {
     "name": "stdout",
     "output_type": "stream",
     "text": [
      "total 8112\r\n",
      "-rw-r--r--  1 re4lfl0w  wheel        0  6  1 06:46 20150220.txt\r\n",
      "-rw-r--r--  1 re4lfl0w  wheel  4148296  6  1 06:46 AlTest1.err\r\n",
      "-rw-r--r--  1 re4lfl0w  wheel        0  5 30 13:32 AlTest1.out\r\n",
      "drwx------  3 re4lfl0w  wheel      102  6  1 06:02 \u001b[34mKSOutOfProcessFetcher.501.qQkpPp2uZLdVc5pukHmfJMR4bkM=\u001b[m\u001b[m\r\n",
      "drwx------  3 re4lfl0w  wheel      102  5 30 13:31 \u001b[34mcom.apple.launchd.9xf8nfhetJ\u001b[m\u001b[m\r\n",
      "drwx------  3 re4lfl0w  wheel      102  5 30 13:31 \u001b[34mcom.apple.launchd.iPnRm4qAz2\u001b[m\u001b[m\r\n",
      "drwx------  3 re4lfl0w  wheel      102  5 30 13:31 \u001b[34mcom.apple.launchd.rqqOpjMVKq\u001b[m\u001b[m\r\n",
      "drwx------  4 re4lfl0w  wheel      136  5 30 13:32 \u001b[34mfish.re4lfl0w\u001b[m\u001b[m\r\n",
      "srwxr-xr-x  2 re4lfl0w  wheel        0  5 30 13:32 \u001b[32mfishd.socket.re4lfl0w\u001b[m\u001b[m\r\n",
      "-rw-r--r--  1 re4lfl0w  wheel        5  6  1 06:45 spam.txt\r\n",
      "drwxr-xr-x  2 re4lfl0w  wheel       68  6  1 06:46 \u001b[34mtest_shutil\u001b[m\u001b[m\r\n"
     ]
    }
   ],
   "source": [
    "!ls -l"
   ]
  },
  {
   "cell_type": "code",
   "execution_count": 8,
   "metadata": {
    "collapsed": true
   },
   "outputs": [],
   "source": [
    "shutil.copy('spam.txt', 'test_shutil/')"
   ]
  },
  {
   "cell_type": "code",
   "execution_count": 9,
   "metadata": {
    "collapsed": false
   },
   "outputs": [
    {
     "name": "stdout",
     "output_type": "stream",
     "text": [
      "total 8\r\n",
      "-rw-r--r--  1 re4lfl0w  wheel  5  6  1 06:46 spam.txt\r\n"
     ]
    }
   ],
   "source": [
    "!ls -l test_shutil/"
   ]
  },
  {
   "cell_type": "code",
   "execution_count": 10,
   "metadata": {
    "collapsed": true
   },
   "outputs": [],
   "source": [
    "!echo 'eggs2' > eggs.txt"
   ]
  },
  {
   "cell_type": "code",
   "execution_count": 11,
   "metadata": {
    "collapsed": false
   },
   "outputs": [
    {
     "name": "stdout",
     "output_type": "stream",
     "text": [
      "total 8152\r\n",
      "-rw-r--r--  1 re4lfl0w  wheel        0  6  1 06:48 20150220.txt\r\n",
      "-rw-r--r--  1 re4lfl0w  wheel  4163450  6  1 06:48 AlTest1.err\r\n",
      "-rw-r--r--  1 re4lfl0w  wheel        0  5 30 13:32 AlTest1.out\r\n",
      "drwx------  3 re4lfl0w  wheel      102  6  1 06:02 \u001b[34mKSOutOfProcessFetcher.501.qQkpPp2uZLdVc5pukHmfJMR4bkM=\u001b[m\u001b[m\r\n",
      "drwx------  3 re4lfl0w  wheel      102  5 30 13:31 \u001b[34mcom.apple.launchd.9xf8nfhetJ\u001b[m\u001b[m\r\n",
      "drwx------  3 re4lfl0w  wheel      102  5 30 13:31 \u001b[34mcom.apple.launchd.iPnRm4qAz2\u001b[m\u001b[m\r\n",
      "drwx------  3 re4lfl0w  wheel      102  5 30 13:31 \u001b[34mcom.apple.launchd.rqqOpjMVKq\u001b[m\u001b[m\r\n",
      "-rw-r--r--  1 re4lfl0w  wheel        6  6  1 06:48 eggs.txt\r\n",
      "drwx------  4 re4lfl0w  wheel      136  5 30 13:32 \u001b[34mfish.re4lfl0w\u001b[m\u001b[m\r\n",
      "srwxr-xr-x  2 re4lfl0w  wheel        0  5 30 13:32 \u001b[32mfishd.socket.re4lfl0w\u001b[m\u001b[m\r\n",
      "-rw-r--r--  1 re4lfl0w  wheel        5  6  1 06:45 spam.txt\r\n",
      "drwxr-xr-x  3 re4lfl0w  wheel      102  6  1 06:46 \u001b[34mtest_shutil\u001b[m\u001b[m\r\n"
     ]
    }
   ],
   "source": [
    "!ls -l"
   ]
  },
  {
   "cell_type": "code",
   "execution_count": 12,
   "metadata": {
    "collapsed": true
   },
   "outputs": [],
   "source": [
    "shutil.copy('eggs.txt', 'test_shutil/eggs2.txt')"
   ]
  },
  {
   "cell_type": "code",
   "execution_count": 13,
   "metadata": {
    "collapsed": false
   },
   "outputs": [
    {
     "name": "stdout",
     "output_type": "stream",
     "text": [
      "total 16\r\n",
      "-rw-r--r--  1 re4lfl0w  wheel  6  6  1 06:49 eggs2.txt\r\n",
      "-rw-r--r--  1 re4lfl0w  wheel  5  6  1 06:46 spam.txt\r\n"
     ]
    }
   ],
   "source": [
    "!ls -l test_shutil/"
   ]
  },
  {
   "cell_type": "code",
   "execution_count": 14,
   "metadata": {
    "collapsed": true
   },
   "outputs": [],
   "source": [
    "shutil.copytree('test_shutil/', 'test_shutil_backup/')"
   ]
  },
  {
   "cell_type": "code",
   "execution_count": 15,
   "metadata": {
    "collapsed": false
   },
   "outputs": [
    {
     "name": "stdout",
     "output_type": "stream",
     "text": [
      "total 8176\r\n",
      "-rw-r--r--  1 re4lfl0w  wheel        0  6  1 06:50 20150220.txt\r\n",
      "-rw-r--r--  1 re4lfl0w  wheel  4175363  6  1 06:50 AlTest1.err\r\n",
      "-rw-r--r--  1 re4lfl0w  wheel        0  5 30 13:32 AlTest1.out\r\n",
      "drwx------  3 re4lfl0w  wheel      102  6  1 06:02 \u001b[34mKSOutOfProcessFetcher.501.qQkpPp2uZLdVc5pukHmfJMR4bkM=\u001b[m\u001b[m\r\n",
      "drwx------  3 re4lfl0w  wheel      102  5 30 13:31 \u001b[34mcom.apple.launchd.9xf8nfhetJ\u001b[m\u001b[m\r\n",
      "drwx------  3 re4lfl0w  wheel      102  5 30 13:31 \u001b[34mcom.apple.launchd.iPnRm4qAz2\u001b[m\u001b[m\r\n",
      "drwx------  3 re4lfl0w  wheel      102  5 30 13:31 \u001b[34mcom.apple.launchd.rqqOpjMVKq\u001b[m\u001b[m\r\n",
      "-rw-r--r--  1 re4lfl0w  wheel        6  6  1 06:48 eggs.txt\r\n",
      "drwx------  4 re4lfl0w  wheel      136  5 30 13:32 \u001b[34mfish.re4lfl0w\u001b[m\u001b[m\r\n",
      "srwxr-xr-x  2 re4lfl0w  wheel        0  5 30 13:32 \u001b[32mfishd.socket.re4lfl0w\u001b[m\u001b[m\r\n",
      "-rw-r--r--  1 re4lfl0w  wheel        5  6  1 06:45 spam.txt\r\n",
      "drwxr-xr-x  4 re4lfl0w  wheel      136  6  1 06:49 \u001b[34mtest_shutil\u001b[m\u001b[m\r\n",
      "drwxr-xr-x  4 re4lfl0w  wheel      136  6  1 06:49 \u001b[34mtest_shutil_backup\u001b[m\u001b[m\r\n"
     ]
    }
   ],
   "source": [
    "!ls -l"
   ]
  },
  {
   "cell_type": "code",
   "execution_count": 18,
   "metadata": {
    "collapsed": false
   },
   "outputs": [
    {
     "name": "stdout",
     "output_type": "stream",
     "text": [
      "total 16\r\n",
      "-rw-r--r--  1 re4lfl0w  wheel  6  6  1 06:49 eggs2.txt\r\n",
      "-rw-r--r--  1 re4lfl0w  wheel  5  6  1 06:46 spam.txt\r\n"
     ]
    }
   ],
   "source": [
    "!ls -l test_shutil/"
   ]
  },
  {
   "cell_type": "code",
   "execution_count": 19,
   "metadata": {
    "collapsed": false
   },
   "outputs": [
    {
     "name": "stdout",
     "output_type": "stream",
     "text": [
      "total 16\r\n",
      "-rw-r--r--  1 re4lfl0w  wheel  6  6  1 06:49 eggs2.txt\r\n",
      "-rw-r--r--  1 re4lfl0w  wheel  5  6  1 06:46 spam.txt\r\n"
     ]
    }
   ],
   "source": [
    "!ls -l test_shutil_backup/"
   ]
  },
  {
   "cell_type": "code",
   "execution_count": 20,
   "metadata": {
    "collapsed": true
   },
   "outputs": [],
   "source": [
    "!echo 'bacon' > bacon.txt"
   ]
  },
  {
   "cell_type": "code",
   "execution_count": 24,
   "metadata": {
    "collapsed": false
   },
   "outputs": [
    {
     "name": "stdout",
     "output_type": "stream",
     "text": [
      "total 8208\r\n",
      "-rw-r--r--  1 re4lfl0w  wheel        0  6  1 06:52 20150220.txt\r\n",
      "-rw-r--r--  1 re4lfl0w  wheel  4187264  6  1 06:52 AlTest1.err\r\n",
      "-rw-r--r--  1 re4lfl0w  wheel        0  5 30 13:32 AlTest1.out\r\n",
      "drwx------  3 re4lfl0w  wheel      102  6  1 06:02 \u001b[34mKSOutOfProcessFetcher.501.qQkpPp2uZLdVc5pukHmfJMR4bkM=\u001b[m\u001b[m\r\n",
      "-rw-r--r--  1 re4lfl0w  wheel        6  6  1 06:51 bacon.txt\r\n",
      "drwx------  3 re4lfl0w  wheel      102  5 30 13:31 \u001b[34mcom.apple.launchd.9xf8nfhetJ\u001b[m\u001b[m\r\n",
      "drwx------  3 re4lfl0w  wheel      102  5 30 13:31 \u001b[34mcom.apple.launchd.iPnRm4qAz2\u001b[m\u001b[m\r\n",
      "drwx------  3 re4lfl0w  wheel      102  5 30 13:31 \u001b[34mcom.apple.launchd.rqqOpjMVKq\u001b[m\u001b[m\r\n",
      "-rw-r--r--  1 re4lfl0w  wheel        6  6  1 06:48 eggs.txt\r\n",
      "drwx------  4 re4lfl0w  wheel      136  5 30 13:32 \u001b[34mfish.re4lfl0w\u001b[m\u001b[m\r\n",
      "srwxr-xr-x  2 re4lfl0w  wheel        0  5 30 13:32 \u001b[32mfishd.socket.re4lfl0w\u001b[m\u001b[m\r\n",
      "-rw-r--r--  1 re4lfl0w  wheel        5  6  1 06:45 spam.txt\r\n",
      "drwxr-xr-x  4 re4lfl0w  wheel      136  6  1 06:52 \u001b[34mtest_shutil\u001b[m\u001b[m\r\n",
      "drwxr-xr-x  4 re4lfl0w  wheel      136  6  1 06:49 \u001b[34mtest_shutil_backup\u001b[m\u001b[m\r\n"
     ]
    }
   ],
   "source": [
    "!ls -l"
   ]
  },
  {
   "cell_type": "code",
   "execution_count": 25,
   "metadata": {
    "collapsed": true
   },
   "outputs": [],
   "source": [
    "shutil.move('bacon.txt', 'test_shutil/')"
   ]
  },
  {
   "cell_type": "code",
   "execution_count": 26,
   "metadata": {
    "collapsed": false
   },
   "outputs": [
    {
     "name": "stdout",
     "output_type": "stream",
     "text": [
      "total 8200\r\n",
      "-rw-r--r--  1 re4lfl0w  wheel        0  6  1 06:52 20150220.txt\r\n",
      "-rw-r--r--  1 re4lfl0w  wheel  4188347  6  1 06:52 AlTest1.err\r\n",
      "-rw-r--r--  1 re4lfl0w  wheel        0  5 30 13:32 AlTest1.out\r\n",
      "drwx------  3 re4lfl0w  wheel      102  6  1 06:02 \u001b[34mKSOutOfProcessFetcher.501.qQkpPp2uZLdVc5pukHmfJMR4bkM=\u001b[m\u001b[m\r\n",
      "drwx------  3 re4lfl0w  wheel      102  5 30 13:31 \u001b[34mcom.apple.launchd.9xf8nfhetJ\u001b[m\u001b[m\r\n",
      "drwx------  3 re4lfl0w  wheel      102  5 30 13:31 \u001b[34mcom.apple.launchd.iPnRm4qAz2\u001b[m\u001b[m\r\n",
      "drwx------  3 re4lfl0w  wheel      102  5 30 13:31 \u001b[34mcom.apple.launchd.rqqOpjMVKq\u001b[m\u001b[m\r\n",
      "-rw-r--r--  1 re4lfl0w  wheel        6  6  1 06:48 eggs.txt\r\n",
      "drwx------  4 re4lfl0w  wheel      136  5 30 13:32 \u001b[34mfish.re4lfl0w\u001b[m\u001b[m\r\n",
      "srwxr-xr-x  2 re4lfl0w  wheel        0  5 30 13:32 \u001b[32mfishd.socket.re4lfl0w\u001b[m\u001b[m\r\n",
      "-rw-r--r--  1 re4lfl0w  wheel        5  6  1 06:45 spam.txt\r\n",
      "drwxr-xr-x  5 re4lfl0w  wheel      170  6  1 06:52 \u001b[34mtest_shutil\u001b[m\u001b[m\r\n",
      "drwxr-xr-x  4 re4lfl0w  wheel      136  6  1 06:49 \u001b[34mtest_shutil_backup\u001b[m\u001b[m\r\n"
     ]
    }
   ],
   "source": [
    "!ls -l"
   ]
  },
  {
   "cell_type": "code",
   "execution_count": 27,
   "metadata": {
    "collapsed": false
   },
   "outputs": [
    {
     "name": "stdout",
     "output_type": "stream",
     "text": [
      "total 24\r\n",
      "-rw-r--r--  1 re4lfl0w  wheel  6  6  1 06:51 bacon.txt\r\n",
      "-rw-r--r--  1 re4lfl0w  wheel  6  6  1 06:49 eggs2.txt\r\n",
      "-rw-r--r--  1 re4lfl0w  wheel  5  6  1 06:46 spam.txt\r\n"
     ]
    }
   ],
   "source": [
    "!ls -l test_shutil/"
   ]
  },
  {
   "cell_type": "code",
   "execution_count": 28,
   "metadata": {
    "collapsed": true
   },
   "outputs": [],
   "source": [
    "!echo 'bacon shutil move have been overwritten.' > bacon.txt"
   ]
  },
  {
   "cell_type": "code",
   "execution_count": 30,
   "metadata": {
    "collapsed": false
   },
   "outputs": [
    {
     "name": "stdout",
     "output_type": "stream",
     "text": [
      "total 8224\r\n",
      "-rw-r--r--  1 re4lfl0w  wheel        0  6  1 06:54 20150220.txt\r\n",
      "-rw-r--r--  1 re4lfl0w  wheel  4197011  6  1 06:54 AlTest1.err\r\n",
      "-rw-r--r--  1 re4lfl0w  wheel        0  5 30 13:32 AlTest1.out\r\n",
      "drwx------  3 re4lfl0w  wheel      102  6  1 06:02 \u001b[34mKSOutOfProcessFetcher.501.qQkpPp2uZLdVc5pukHmfJMR4bkM=\u001b[m\u001b[m\r\n",
      "-rw-r--r--  1 re4lfl0w  wheel       41  6  1 06:53 bacon.txt\r\n",
      "drwx------  3 re4lfl0w  wheel      102  5 30 13:31 \u001b[34mcom.apple.launchd.9xf8nfhetJ\u001b[m\u001b[m\r\n",
      "drwx------  3 re4lfl0w  wheel      102  5 30 13:31 \u001b[34mcom.apple.launchd.iPnRm4qAz2\u001b[m\u001b[m\r\n",
      "drwx------  3 re4lfl0w  wheel      102  5 30 13:31 \u001b[34mcom.apple.launchd.rqqOpjMVKq\u001b[m\u001b[m\r\n",
      "-rw-r--r--  1 re4lfl0w  wheel        6  6  1 06:48 eggs.txt\r\n",
      "drwx------  4 re4lfl0w  wheel      136  5 30 13:32 \u001b[34mfish.re4lfl0w\u001b[m\u001b[m\r\n",
      "srwxr-xr-x  2 re4lfl0w  wheel        0  5 30 13:32 \u001b[32mfishd.socket.re4lfl0w\u001b[m\u001b[m\r\n",
      "-rw-r--r--  1 re4lfl0w  wheel        5  6  1 06:45 spam.txt\r\n",
      "drwxr-xr-x  5 re4lfl0w  wheel      170  6  1 06:52 \u001b[34mtest_shutil\u001b[m\u001b[m\r\n",
      "drwxr-xr-x  4 re4lfl0w  wheel      136  6  1 06:49 \u001b[34mtest_shutil_backup\u001b[m\u001b[m\r\n"
     ]
    }
   ],
   "source": [
    "!ls -l"
   ]
  },
  {
   "cell_type": "code",
   "execution_count": 31,
   "metadata": {
    "collapsed": false
   },
   "outputs": [
    {
     "name": "stdout",
     "output_type": "stream",
     "text": [
      "total 24\r\n",
      "-rw-r--r--  1 re4lfl0w  wheel  6  6  1 06:51 bacon.txt\r\n",
      "-rw-r--r--  1 re4lfl0w  wheel  6  6  1 06:49 eggs2.txt\r\n",
      "-rw-r--r--  1 re4lfl0w  wheel  5  6  1 06:46 spam.txt\r\n"
     ]
    }
   ],
   "source": [
    "!ls -l test_shutil/"
   ]
  },
  {
   "cell_type": "code",
   "execution_count": 34,
   "metadata": {
    "collapsed": false
   },
   "outputs": [
    {
     "name": "stdout",
     "output_type": "stream",
     "text": [
      "Help on function move in module shutil:\n",
      "\n",
      "move(src, dst)\n",
      "    Recursively move a file or directory to another location. This is\n",
      "    similar to the Unix \"mv\" command.\n",
      "    \n",
      "    If the destination is a directory or a symlink to a directory, the source\n",
      "    is moved inside the directory. The destination path must not already\n",
      "    exist.\n",
      "    \n",
      "    If the destination already exists but is not a directory, it may be\n",
      "    overwritten depending on os.rename() semantics.\n",
      "    \n",
      "    If the destination is on our current filesystem, then rename() is used.\n",
      "    Otherwise, src is copied to the destination and then removed.\n",
      "    A lot more could be done here...  A look at a mv.c shows a lot of\n",
      "    the issues this implementation glosses over.\n",
      "\n"
     ]
    }
   ],
   "source": [
    "help(shutil.move)"
   ]
  },
  {
   "cell_type": "code",
   "execution_count": 40,
   "metadata": {
    "collapsed": true
   },
   "outputs": [],
   "source": [
    "# Error\n",
    "# shutil.move('bacon.txt', 'test_shutil/')"
   ]
  },
  {
   "cell_type": "code",
   "execution_count": 36,
   "metadata": {
    "collapsed": false
   },
   "outputs": [],
   "source": [
    "# Error가 없네\n",
    "shutil.move('bacon.txt', 'test_shutil/bacon.txt')"
   ]
  },
  {
   "cell_type": "code",
   "execution_count": 37,
   "metadata": {
    "collapsed": false
   },
   "outputs": [
    {
     "name": "stdout",
     "output_type": "stream",
     "text": [
      "total 8256\r\n",
      "-rw-r--r--  1 re4lfl0w  wheel        0  6  1 06:57 20150220.txt\r\n",
      "-rw-r--r--  1 re4lfl0w  wheel  4216505  6  1 06:57 AlTest1.err\r\n",
      "-rw-r--r--  1 re4lfl0w  wheel        0  5 30 13:32 AlTest1.out\r\n",
      "drwx------  3 re4lfl0w  wheel      102  6  1 06:02 \u001b[34mKSOutOfProcessFetcher.501.qQkpPp2uZLdVc5pukHmfJMR4bkM=\u001b[m\u001b[m\r\n",
      "drwx------  3 re4lfl0w  wheel      102  5 30 13:31 \u001b[34mcom.apple.launchd.9xf8nfhetJ\u001b[m\u001b[m\r\n",
      "drwx------  3 re4lfl0w  wheel      102  5 30 13:31 \u001b[34mcom.apple.launchd.iPnRm4qAz2\u001b[m\u001b[m\r\n",
      "drwx------  3 re4lfl0w  wheel      102  5 30 13:31 \u001b[34mcom.apple.launchd.rqqOpjMVKq\u001b[m\u001b[m\r\n",
      "-rw-r--r--  1 re4lfl0w  wheel        6  6  1 06:48 eggs.txt\r\n",
      "drwx------  4 re4lfl0w  wheel      136  5 30 13:32 \u001b[34mfish.re4lfl0w\u001b[m\u001b[m\r\n",
      "srwxr-xr-x  2 re4lfl0w  wheel        0  5 30 13:32 \u001b[32mfishd.socket.re4lfl0w\u001b[m\u001b[m\r\n",
      "-rw-r--r--  1 re4lfl0w  wheel        5  6  1 06:45 spam.txt\r\n",
      "drwxr-xr-x  5 re4lfl0w  wheel      170  6  1 06:57 \u001b[34mtest_shutil\u001b[m\u001b[m\r\n",
      "drwxr-xr-x  4 re4lfl0w  wheel      136  6  1 06:49 \u001b[34mtest_shutil_backup\u001b[m\u001b[m\r\n"
     ]
    }
   ],
   "source": [
    "!ls -l"
   ]
  },
  {
   "cell_type": "code",
   "execution_count": 38,
   "metadata": {
    "collapsed": false
   },
   "outputs": [
    {
     "name": "stdout",
     "output_type": "stream",
     "text": [
      "total 24\r\n",
      "-rw-r--r--  1 re4lfl0w  wheel  41  6  1 06:53 bacon.txt\r\n",
      "-rw-r--r--  1 re4lfl0w  wheel   6  6  1 06:49 eggs2.txt\r\n",
      "-rw-r--r--  1 re4lfl0w  wheel   5  6  1 06:46 spam.txt\r\n"
     ]
    }
   ],
   "source": [
    "!ls -l test_shutil/"
   ]
  },
  {
   "cell_type": "code",
   "execution_count": 39,
   "metadata": {
    "collapsed": false
   },
   "outputs": [
    {
     "name": "stdout",
     "output_type": "stream",
     "text": [
      "bacon shutil move have been overwritten.\r\n"
     ]
    }
   ],
   "source": [
    "!cat test_shutil/bacon.txt"
   ]
  },
  {
   "cell_type": "code",
   "execution_count": 41,
   "metadata": {
    "collapsed": false
   },
   "outputs": [
    {
     "ename": "IOError",
     "evalue": "[Errno 2] No such file or directory: '/tmp/does_not_exist/eggs/ham'",
     "output_type": "error",
     "traceback": [
      "\u001b[0;31m---------------------------------------------------------------------------\u001b[0m",
      "\u001b[0;31mIOError\u001b[0m                                   Traceback (most recent call last)",
      "\u001b[0;32m<ipython-input-41-e2ebcbcc3973>\u001b[0m in \u001b[0;36m<module>\u001b[0;34m()\u001b[0m\n\u001b[0;32m----> 1\u001b[0;31m \u001b[0mshutil\u001b[0m\u001b[0;34m.\u001b[0m\u001b[0mmove\u001b[0m\u001b[0;34m(\u001b[0m\u001b[0;34m'spam.txt'\u001b[0m\u001b[0;34m,\u001b[0m \u001b[0;34m'/tmp/does_not_exist/eggs/ham'\u001b[0m\u001b[0;34m)\u001b[0m\u001b[0;34m\u001b[0m\u001b[0m\n\u001b[0m",
      "\u001b[0;32m/System/Library/Frameworks/Python.framework/Versions/2.7/lib/python2.7/shutil.pyc\u001b[0m in \u001b[0;36mmove\u001b[0;34m(src, dst)\u001b[0m\n\u001b[1;32m    299\u001b[0m             \u001b[0mrmtree\u001b[0m\u001b[0;34m(\u001b[0m\u001b[0msrc\u001b[0m\u001b[0;34m)\u001b[0m\u001b[0;34m\u001b[0m\u001b[0m\n\u001b[1;32m    300\u001b[0m         \u001b[0;32melse\u001b[0m\u001b[0;34m:\u001b[0m\u001b[0;34m\u001b[0m\u001b[0m\n\u001b[0;32m--> 301\u001b[0;31m             \u001b[0mcopy2\u001b[0m\u001b[0;34m(\u001b[0m\u001b[0msrc\u001b[0m\u001b[0;34m,\u001b[0m \u001b[0mreal_dst\u001b[0m\u001b[0;34m)\u001b[0m\u001b[0;34m\u001b[0m\u001b[0m\n\u001b[0m\u001b[1;32m    302\u001b[0m             \u001b[0mos\u001b[0m\u001b[0;34m.\u001b[0m\u001b[0munlink\u001b[0m\u001b[0;34m(\u001b[0m\u001b[0msrc\u001b[0m\u001b[0;34m)\u001b[0m\u001b[0;34m\u001b[0m\u001b[0m\n\u001b[1;32m    303\u001b[0m \u001b[0;34m\u001b[0m\u001b[0m\n",
      "\u001b[0;32m/System/Library/Frameworks/Python.framework/Versions/2.7/lib/python2.7/shutil.pyc\u001b[0m in \u001b[0;36mcopy2\u001b[0;34m(src, dst)\u001b[0m\n\u001b[1;32m    128\u001b[0m     \u001b[0;32mif\u001b[0m \u001b[0mos\u001b[0m\u001b[0;34m.\u001b[0m\u001b[0mpath\u001b[0m\u001b[0;34m.\u001b[0m\u001b[0misdir\u001b[0m\u001b[0;34m(\u001b[0m\u001b[0mdst\u001b[0m\u001b[0;34m)\u001b[0m\u001b[0;34m:\u001b[0m\u001b[0;34m\u001b[0m\u001b[0m\n\u001b[1;32m    129\u001b[0m         \u001b[0mdst\u001b[0m \u001b[0;34m=\u001b[0m \u001b[0mos\u001b[0m\u001b[0;34m.\u001b[0m\u001b[0mpath\u001b[0m\u001b[0;34m.\u001b[0m\u001b[0mjoin\u001b[0m\u001b[0;34m(\u001b[0m\u001b[0mdst\u001b[0m\u001b[0;34m,\u001b[0m \u001b[0mos\u001b[0m\u001b[0;34m.\u001b[0m\u001b[0mpath\u001b[0m\u001b[0;34m.\u001b[0m\u001b[0mbasename\u001b[0m\u001b[0;34m(\u001b[0m\u001b[0msrc\u001b[0m\u001b[0;34m)\u001b[0m\u001b[0;34m)\u001b[0m\u001b[0;34m\u001b[0m\u001b[0m\n\u001b[0;32m--> 130\u001b[0;31m     \u001b[0mcopyfile\u001b[0m\u001b[0;34m(\u001b[0m\u001b[0msrc\u001b[0m\u001b[0;34m,\u001b[0m \u001b[0mdst\u001b[0m\u001b[0;34m)\u001b[0m\u001b[0;34m\u001b[0m\u001b[0m\n\u001b[0m\u001b[1;32m    131\u001b[0m     \u001b[0mcopystat\u001b[0m\u001b[0;34m(\u001b[0m\u001b[0msrc\u001b[0m\u001b[0;34m,\u001b[0m \u001b[0mdst\u001b[0m\u001b[0;34m)\u001b[0m\u001b[0;34m\u001b[0m\u001b[0m\n\u001b[1;32m    132\u001b[0m \u001b[0;34m\u001b[0m\u001b[0m\n",
      "\u001b[0;32m/System/Library/Frameworks/Python.framework/Versions/2.7/lib/python2.7/shutil.pyc\u001b[0m in \u001b[0;36mcopyfile\u001b[0;34m(src, dst)\u001b[0m\n\u001b[1;32m     81\u001b[0m \u001b[0;34m\u001b[0m\u001b[0m\n\u001b[1;32m     82\u001b[0m     \u001b[0;32mwith\u001b[0m \u001b[0mopen\u001b[0m\u001b[0;34m(\u001b[0m\u001b[0msrc\u001b[0m\u001b[0;34m,\u001b[0m \u001b[0;34m'rb'\u001b[0m\u001b[0;34m)\u001b[0m \u001b[0;32mas\u001b[0m \u001b[0mfsrc\u001b[0m\u001b[0;34m:\u001b[0m\u001b[0;34m\u001b[0m\u001b[0m\n\u001b[0;32m---> 83\u001b[0;31m         \u001b[0;32mwith\u001b[0m \u001b[0mopen\u001b[0m\u001b[0;34m(\u001b[0m\u001b[0mdst\u001b[0m\u001b[0;34m,\u001b[0m \u001b[0;34m'wb'\u001b[0m\u001b[0;34m)\u001b[0m \u001b[0;32mas\u001b[0m \u001b[0mfdst\u001b[0m\u001b[0;34m:\u001b[0m\u001b[0;34m\u001b[0m\u001b[0m\n\u001b[0m\u001b[1;32m     84\u001b[0m             \u001b[0mcopyfileobj\u001b[0m\u001b[0;34m(\u001b[0m\u001b[0mfsrc\u001b[0m\u001b[0;34m,\u001b[0m \u001b[0mfdst\u001b[0m\u001b[0;34m)\u001b[0m\u001b[0;34m\u001b[0m\u001b[0m\n\u001b[1;32m     85\u001b[0m \u001b[0;34m\u001b[0m\u001b[0m\n",
      "\u001b[0;31mIOError\u001b[0m: [Errno 2] No such file or directory: '/tmp/does_not_exist/eggs/ham'"
     ]
    }
   ],
   "source": [
    "shutil.move('spam.txt', '/tmp/does_not_exist/eggs/ham')"
   ]
  },
  {
   "cell_type": "code",
   "execution_count": 42,
   "metadata": {
    "collapsed": true
   },
   "outputs": [],
   "source": [
    "import os"
   ]
  },
  {
   "cell_type": "code",
   "execution_count": 44,
   "metadata": {
    "collapsed": false
   },
   "outputs": [
    {
     "name": "stdout",
     "output_type": "stream",
     "text": [
      "20150220.txt\n",
      "eggs.txt\n",
      "spam.txt\n"
     ]
    }
   ],
   "source": [
    "for filename in os.listdir('.'):\n",
    "    if filename.endswith('.txt'):\n",
    "        #os.unlink(filename)\n",
    "        print(filename)"
   ]
  },
  {
   "cell_type": "markdown",
   "metadata": {},
   "source": [
    "### Safe Deletes with the send2trash Module\n",
    "\n",
    "- shutil.rmtree()는 삭제한 파일을 되돌릴 수 없다. 그래서 매우 위험한 방법이다.\n",
    "- 좀 더 좋은 방법은 쓰레기통으로 먼저 보내는거다."
   ]
  },
  {
   "cell_type": "code",
   "execution_count": 45,
   "metadata": {
    "collapsed": true
   },
   "outputs": [],
   "source": [
    "import send2trash"
   ]
  },
  {
   "cell_type": "code",
   "execution_count": 46,
   "metadata": {
    "collapsed": true
   },
   "outputs": [],
   "source": [
    "baconFile = open('bacon.txt', 'a')"
   ]
  },
  {
   "cell_type": "code",
   "execution_count": 47,
   "metadata": {
    "collapsed": true
   },
   "outputs": [],
   "source": [
    "baconFile.write('Bacon is not a vegetable.')"
   ]
  },
  {
   "cell_type": "code",
   "execution_count": 48,
   "metadata": {
    "collapsed": true
   },
   "outputs": [],
   "source": [
    "baconFile.close()"
   ]
  },
  {
   "cell_type": "code",
   "execution_count": 49,
   "metadata": {
    "collapsed": true
   },
   "outputs": [],
   "source": [
    "send2trash.send2trash('bacon.txt')"
   ]
  },
  {
   "cell_type": "markdown",
   "metadata": {},
   "source": [
    "- 단지 휴지통으로만 보내기 때문에 디스크 용량이 늘어나지는 않는다."
   ]
  },
  {
   "cell_type": "markdown",
   "metadata": {},
   "source": [
    "## Walking a Directory Tree"
   ]
  },
  {
   "cell_type": "code",
   "execution_count": 51,
   "metadata": {
    "collapsed": true
   },
   "outputs": [],
   "source": [
    "!mkdir -p delicious/walnut/waffles"
   ]
  },
  {
   "cell_type": "code",
   "execution_count": 52,
   "metadata": {
    "collapsed": true
   },
   "outputs": [],
   "source": [
    "!touch delicious/cats/catnames.txt"
   ]
  },
  {
   "cell_type": "code",
   "execution_count": 53,
   "metadata": {
    "collapsed": true
   },
   "outputs": [],
   "source": [
    "!touch delicious/cats/zophie.jpg"
   ]
  },
  {
   "cell_type": "code",
   "execution_count": 54,
   "metadata": {
    "collapsed": true
   },
   "outputs": [],
   "source": [
    "!touch delicious/walnut/waffles/buffer.txt"
   ]
  },
  {
   "cell_type": "code",
   "execution_count": 55,
   "metadata": {
    "collapsed": false
   },
   "outputs": [
    {
     "name": "stdout",
     "output_type": "stream",
     "text": [
      "delicious/\r\n",
      "├── cats\r\n",
      "│   ├── catnames.txt\r\n",
      "│   └── zophie.jpg\r\n",
      "└── walnut\r\n",
      "    └── waffles\r\n",
      "        └── buffer.txt\r\n",
      "\r\n",
      "3 directories, 3 files\r\n"
     ]
    }
   ],
   "source": [
    "!tree delicious/"
   ]
  },
  {
   "cell_type": "code",
   "execution_count": 56,
   "metadata": {
    "collapsed": false
   },
   "outputs": [
    {
     "name": "stdout",
     "output_type": "stream",
     "text": [
      "The current folder is delicious/\n",
      "SUBFOLDER OF delicious/: cats\n",
      "SUBFOLDER OF delicious/: walnut\n",
      "\n",
      "The current folder is delicious/cats\n",
      "FILE INSIDE delicious/cats: catnames.txt\n",
      "FILE INSIDE delicious/cats: zophie.jpg\n",
      "\n",
      "The current folder is delicious/walnut\n",
      "SUBFOLDER OF delicious/walnut: waffles\n",
      "\n",
      "The current folder is delicious/walnut/waffles\n",
      "FILE INSIDE delicious/walnut/waffles: buffer.txt\n",
      "\n"
     ]
    }
   ],
   "source": [
    "import os\n",
    "\n",
    "for dirpath, dirnames, filenames in os.walk('delicious/'):\n",
    "    print('The current folder is ' + dirpath)\n",
    "    \n",
    "    for dirname in dirnames:\n",
    "        print('SUBFOLDER OF ' + dirpath + ': ' + dirname)\n",
    "    for filename in filenames:\n",
    "        print('FILE INSIDE ' + dirpath + ': ' + filename)\n",
    "    \n",
    "    print('')"
   ]
  },
  {
   "cell_type": "markdown",
   "metadata": {},
   "source": [
    "## Compressing Files with the zipfile Module\n",
    "\n",
    "### Reading ZIP Files"
   ]
  },
  {
   "cell_type": "code",
   "execution_count": 57,
   "metadata": {
    "collapsed": true
   },
   "outputs": [],
   "source": [
    "import zipfile, os"
   ]
  },
  {
   "cell_type": "code",
   "execution_count": 71,
   "metadata": {
    "collapsed": true
   },
   "outputs": [],
   "source": [
    "!mv /Users/re4lfl0w/torrent/example.zip /tmp"
   ]
  },
  {
   "cell_type": "code",
   "execution_count": 92,
   "metadata": {
    "collapsed": true
   },
   "outputs": [],
   "source": [
    "exampleZip = zipfile.ZipFile('example.zip')"
   ]
  },
  {
   "cell_type": "code",
   "execution_count": 73,
   "metadata": {
    "collapsed": false
   },
   "outputs": [
    {
     "data": {
      "text/plain": [
       "['example/',\n",
       " 'example/cats/',\n",
       " 'example/cats/catnames.txt',\n",
       " 'example/cats/zophie.jpg',\n",
       " 'example/spam.txt']"
      ]
     },
     "execution_count": 73,
     "metadata": {},
     "output_type": "execute_result"
    }
   ],
   "source": [
    "exampleZip.namelist()"
   ]
  },
  {
   "cell_type": "code",
   "execution_count": 74,
   "metadata": {
    "collapsed": false
   },
   "outputs": [],
   "source": [
    "spamInfo = exampleZip.getinfo('example/spam.txt')"
   ]
  },
  {
   "cell_type": "code",
   "execution_count": 75,
   "metadata": {
    "collapsed": false
   },
   "outputs": [
    {
     "data": {
      "text/plain": [
       "119"
      ]
     },
     "execution_count": 75,
     "metadata": {},
     "output_type": "execute_result"
    }
   ],
   "source": [
    "spamInfo.file_size"
   ]
  },
  {
   "cell_type": "code",
   "execution_count": 76,
   "metadata": {
    "collapsed": false
   },
   "outputs": [
    {
     "data": {
      "text/plain": [
       "42"
      ]
     },
     "execution_count": 76,
     "metadata": {},
     "output_type": "execute_result"
    }
   ],
   "source": [
    "spamInfo.compress_size"
   ]
  },
  {
   "cell_type": "code",
   "execution_count": 82,
   "metadata": {
    "collapsed": false
   },
   "outputs": [
    {
     "data": {
      "text/plain": [
       "'Compressed file is 2.83x smaller!'"
      ]
     },
     "execution_count": 82,
     "metadata": {},
     "output_type": "execute_result"
    }
   ],
   "source": [
    "'Compressed file is %sx smaller!' % (round(float(spamInfo.file_size) / spamInfo.compress_size, 2))"
   ]
  },
  {
   "cell_type": "markdown",
   "metadata": {},
   "source": [
    "### Extracting from ZIP Files"
   ]
  },
  {
   "cell_type": "code",
   "execution_count": 83,
   "metadata": {
    "collapsed": true
   },
   "outputs": [],
   "source": [
    "exampleZip.extractall()"
   ]
  },
  {
   "cell_type": "code",
   "execution_count": 84,
   "metadata": {
    "collapsed": true
   },
   "outputs": [],
   "source": [
    "exampleZip.close()"
   ]
  },
  {
   "cell_type": "code",
   "execution_count": 85,
   "metadata": {
    "collapsed": false
   },
   "outputs": [
    {
     "name": "stdout",
     "output_type": "stream",
     "text": [
      "total 17976\r\n",
      "-rw-r--r--  1 re4lfl0w  wheel        0  6  1 14:53 20150220.txt\r\n",
      "-rw-r--r--  1 re4lfl0w  wheel  5924808  6  1 14:53 AlTest1.err\r\n",
      "-rw-r--r--  1 re4lfl0w  wheel        0  5 30 13:32 AlTest1.out\r\n",
      "drwx------  3 re4lfl0w  wheel      102  6  1 11:02 \u001b[34mKSOutOfProcessFetcher.501.qQkpPp2uZLdVc5pukHmfJMR4bkM=\u001b[m\u001b[m\r\n",
      "drwxrwxrwt  3 re4lfl0w  wheel      102  6  1 09:27 \u001b[30m\u001b[42mVMwareDnD\u001b[m\u001b[m\r\n",
      "drwx------  3 re4lfl0w  wheel      102  5 30 13:31 \u001b[34mcom.apple.launchd.9xf8nfhetJ\u001b[m\u001b[m\r\n",
      "drwx------  3 re4lfl0w  wheel      102  5 30 13:31 \u001b[34mcom.apple.launchd.iPnRm4qAz2\u001b[m\u001b[m\r\n",
      "drwx------  3 re4lfl0w  wheel      102  5 30 13:31 \u001b[34mcom.apple.launchd.rqqOpjMVKq\u001b[m\u001b[m\r\n",
      "drwxr-xr-x  4 re4lfl0w  wheel      136  6  1 07:22 \u001b[34mdelicious\u001b[m\u001b[m\r\n",
      "-rw-r--r--  1 re4lfl0w  wheel        6  6  1 06:48 eggs.txt\r\n",
      "drwxr-xr-x  4 re4lfl0w  wheel      136  6  1 14:53 \u001b[34mexample\u001b[m\u001b[m\r\n",
      "-rwxr-xr-x@ 1 re4lfl0w  staff  3268156  6  1 14:49 \u001b[31mexample.zip\u001b[m\u001b[m\r\n",
      "drwx------  4 re4lfl0w  wheel      136  5 30 13:32 \u001b[34mfish.re4lfl0w\u001b[m\u001b[m\r\n",
      "srwxr-xr-x  2 re4lfl0w  wheel        0  5 30 13:32 \u001b[32mfishd.socket.re4lfl0w\u001b[m\u001b[m\r\n",
      "-rw-r--r--  1 re4lfl0w  wheel        5  6  1 06:45 spam.txt\r\n",
      "drwxr-xr-x  5 re4lfl0w  wheel      170  6  1 06:57 \u001b[34mtest_shutil\u001b[m\u001b[m\r\n",
      "drwxr-xr-x  4 re4lfl0w  wheel      136  6  1 06:49 \u001b[34mtest_shutil_backup\u001b[m\u001b[m\r\n"
     ]
    }
   ],
   "source": [
    "!ls -l"
   ]
  },
  {
   "cell_type": "code",
   "execution_count": 86,
   "metadata": {
    "collapsed": false
   },
   "outputs": [
    {
     "name": "stdout",
     "output_type": "stream",
     "text": [
      "total 8\r\n",
      "drwxr-xr-x  4 re4lfl0w  wheel  136  6  1 14:53 \u001b[34mcats\u001b[m\u001b[m\r\n",
      "-rw-r--r--  1 re4lfl0w  wheel  119  6  1 14:53 spam.txt\r\n"
     ]
    }
   ],
   "source": [
    "!ls -l example/"
   ]
  },
  {
   "cell_type": "code",
   "execution_count": 93,
   "metadata": {
    "collapsed": true
   },
   "outputs": [],
   "source": [
    "exampleZip = zipfile.ZipFile('example.zip')"
   ]
  },
  {
   "cell_type": "code",
   "execution_count": 94,
   "metadata": {
    "collapsed": false
   },
   "outputs": [],
   "source": [
    "exampleZip.extractall('delicious2/')"
   ]
  },
  {
   "cell_type": "code",
   "execution_count": 95,
   "metadata": {
    "collapsed": false
   },
   "outputs": [
    {
     "name": "stdout",
     "output_type": "stream",
     "text": [
      "delicious2/\r\n",
      "└── example\r\n",
      "    ├── cats\r\n",
      "    │   ├── catnames.txt\r\n",
      "    │   └── zophie.jpg\r\n",
      "    └── spam.txt\r\n",
      "\r\n",
      "2 directories, 3 files\r\n"
     ]
    }
   ],
   "source": [
    "!tree delicious2/"
   ]
  },
  {
   "cell_type": "code",
   "execution_count": 96,
   "metadata": {
    "collapsed": false
   },
   "outputs": [
    {
     "name": "stdout",
     "output_type": "stream",
     "text": [
      "-rw-r--r--  1 re4lfl0w  wheel  5  6  1 06:45 spam.txt\r\n"
     ]
    }
   ],
   "source": [
    "!ls -l spam.txt"
   ]
  },
  {
   "cell_type": "code",
   "execution_count": 98,
   "metadata": {
    "collapsed": false
   },
   "outputs": [
    {
     "data": {
      "text/plain": [
       "'/private/tmp/example/spam.txt'"
      ]
     },
     "execution_count": 98,
     "metadata": {},
     "output_type": "execute_result"
    }
   ],
   "source": [
    "exampleZip.extract('example/spam.txt')"
   ]
  },
  {
   "cell_type": "code",
   "execution_count": 99,
   "metadata": {
    "collapsed": false
   },
   "outputs": [
    {
     "name": "stdout",
     "output_type": "stream",
     "text": [
      "-rw-r--r--  1 re4lfl0w  wheel  5  6  1 06:45 spam.txt\r\n"
     ]
    }
   ],
   "source": [
    "!ls -l spam.txt"
   ]
  },
  {
   "cell_type": "code",
   "execution_count": 100,
   "metadata": {
    "collapsed": false
   },
   "outputs": [
    {
     "name": "stdout",
     "output_type": "stream",
     "text": [
      "-rw-r--r--  1 re4lfl0w  wheel  119  6  1 14:58 example/spam.txt\r\n"
     ]
    }
   ],
   "source": [
    "!ls -l example/spam.txt"
   ]
  },
  {
   "cell_type": "code",
   "execution_count": 101,
   "metadata": {
    "collapsed": false
   },
   "outputs": [
    {
     "data": {
      "text/plain": [
       "'newfolder/example/spam.txt'"
      ]
     },
     "execution_count": 101,
     "metadata": {},
     "output_type": "execute_result"
    }
   ],
   "source": [
    "exampleZip.extract('example/spam.txt', 'newfolder')"
   ]
  },
  {
   "cell_type": "code",
   "execution_count": 102,
   "metadata": {
    "collapsed": false
   },
   "outputs": [
    {
     "name": "stdout",
     "output_type": "stream",
     "text": [
      "-rw-r--r--  1 re4lfl0w  wheel  119  6  1 15:01 newfolder/example/spam.txt\r\n"
     ]
    }
   ],
   "source": [
    "!ls -l newfolder/example/spam.txt"
   ]
  },
  {
   "cell_type": "markdown",
   "metadata": {},
   "source": [
    "### Creating and Adding to ZIP Files"
   ]
  },
  {
   "cell_type": "code",
   "execution_count": 103,
   "metadata": {
    "collapsed": true
   },
   "outputs": [],
   "source": [
    "import zipfile"
   ]
  },
  {
   "cell_type": "code",
   "execution_count": 104,
   "metadata": {
    "collapsed": true
   },
   "outputs": [],
   "source": [
    "newZip = zipfile.ZipFile('new.zip', 'w')"
   ]
  },
  {
   "cell_type": "code",
   "execution_count": 105,
   "metadata": {
    "collapsed": false
   },
   "outputs": [
    {
     "data": {
      "text/plain": [
       "8"
      ]
     },
     "execution_count": 105,
     "metadata": {},
     "output_type": "execute_result"
    }
   ],
   "source": [
    "zipfile.ZIP_DEFLATED"
   ]
  },
  {
   "cell_type": "code",
   "execution_count": 106,
   "metadata": {
    "collapsed": true
   },
   "outputs": [],
   "source": [
    "newZip.write('spam.txt', compress_type=zipfile.ZIP_DEFLATED)"
   ]
  },
  {
   "cell_type": "code",
   "execution_count": 107,
   "metadata": {
    "collapsed": true
   },
   "outputs": [],
   "source": [
    "newZip.close()"
   ]
  },
  {
   "cell_type": "code",
   "execution_count": 108,
   "metadata": {
    "collapsed": false
   },
   "outputs": [
    {
     "name": "stdout",
     "output_type": "stream",
     "text": [
      "-rw-r--r--  1 re4lfl0w  wheel  121  6  1 15:04 new.zip\r\n"
     ]
    }
   ],
   "source": [
    "!ls -l new.zip"
   ]
  },
  {
   "cell_type": "code",
   "execution_count": 109,
   "metadata": {
    "collapsed": true
   },
   "outputs": [],
   "source": [
    "zip2 = zipfile.ZipFile('new.zip')"
   ]
  },
  {
   "cell_type": "code",
   "execution_count": 111,
   "metadata": {
    "collapsed": false
   },
   "outputs": [
    {
     "data": {
      "text/plain": [
       "['spam.txt']"
      ]
     },
     "execution_count": 111,
     "metadata": {},
     "output_type": "execute_result"
    }
   ],
   "source": [
    "zip2.namelist()"
   ]
  },
  {
   "cell_type": "code",
   "execution_count": 112,
   "metadata": {
    "collapsed": true
   },
   "outputs": [],
   "source": [
    "newZip = zipfile.ZipFile('new.zip', 'a')"
   ]
  },
  {
   "cell_type": "code",
   "execution_count": 113,
   "metadata": {
    "collapsed": true
   },
   "outputs": [],
   "source": [
    "newZip.write('20150220.txt', compress_type=zipfile.ZIP_DEFLATED)"
   ]
  },
  {
   "cell_type": "code",
   "execution_count": 114,
   "metadata": {
    "collapsed": true
   },
   "outputs": [],
   "source": [
    "newZip.close()"
   ]
  },
  {
   "cell_type": "code",
   "execution_count": 115,
   "metadata": {
    "collapsed": true
   },
   "outputs": [],
   "source": [
    "zip2 = zipfile.ZipFile('new.zip')"
   ]
  },
  {
   "cell_type": "code",
   "execution_count": 116,
   "metadata": {
    "collapsed": false
   },
   "outputs": [
    {
     "data": {
      "text/plain": [
       "['spam.txt', '20150220.txt']"
      ]
     },
     "execution_count": 116,
     "metadata": {},
     "output_type": "execute_result"
    }
   ],
   "source": [
    "zip2.namelist()"
   ]
  },
  {
   "cell_type": "markdown",
   "metadata": {},
   "source": [
    "## Project: Renaming Fiels with American-Style Dates to European-Style Dates\n",
    "\n",
    "- American dates: MM-DD-YYYY\n",
    "- European dates: DD-MM-YYYY\n",
    "\n",
    "### 프로그램이 해야 할 일\n",
    "\n",
    "- 현재 디렉토리에서 아메리칸 스타일의 날짜의 파일들을 찾는다.\n",
    "- 파일을 찾으면, month와 day를 교체하여 유럽 스타일로 맞춘다.\n",
    "\n",
    "### 코드가 해야 할 일\n",
    "\n",
    "- American-style dates를 regex로 만든다.\n",
    "- os.listdir()을 사용해서 파일을 찾는다.\n",
    "- 각 filename 을 찾으면서, 그 날짜를 가지고 있는지 regex로 확인한다.\n",
    "- 만약 맞는 날짜를 가지고 있다면, shutil.move()를 사용해서 이름을 변경한다."
   ]
  },
  {
   "cell_type": "markdown",
   "metadata": {},
   "source": [
    "### Step 1: Create a Regex for American-Style Dates"
   ]
  },
  {
   "cell_type": "code",
   "execution_count": 117,
   "metadata": {
    "collapsed": false
   },
   "outputs": [
    {
     "name": "stdout",
     "output_type": "stream",
     "text": [
      "Writing renameDates.py\n"
     ]
    }
   ],
   "source": [
    "%%writefile renameDates.py\n",
    "# Rename filenames with American MM-DD-YYYY date format to European DD-MM-YYYY.\n",
    "\n",
    "import shutil, os, re\n",
    "\n",
    "datePattern = re.compile(r'''^(.*?) # all text before the date\n",
    "((0|1)?\\d)- # one or two digits for the month\n",
    "((0|1|2|3)?\\d)- # one or two digits for the day\n",
    "((19|20)\\d\\d) # four digits for the year\n",
    "(.*?)$ # all text after date\n",
    "''', re.VERBOSE)\n",
    "\n",
    "# TODO: Loop over the files in the working directory.\n",
    "\n",
    "# TODO: Skip files without a date.\n",
    "\n",
    "# TODO: Get the different parts of the filename.\n",
    "\n",
    "# TODO: Form the European-style filename.\n",
    "\n",
    "# TODO: Get the full, absolute file paths.\n",
    "\n",
    "# TODO: Rename the files."
   ]
  },
  {
   "cell_type": "markdown",
   "metadata": {},
   "source": [
    "- import shutil module\n",
    "- re.compile()\n",
    "- re.VERBOSE: whitespace and comments는 읽기 편하게 만들어준다.\n",
    "- 완벽한 정규표현식이 아니니 그 점에 유의하고 나중에 네가 보충해라. 현재 문서에서는 충분히 원하는 역할을 한다. 굳이 완벽할 필요는 없다."
   ]
  },
  {
   "cell_type": "markdown",
   "metadata": {},
   "source": [
    "### Step 2: Identify the Date Parts from the Filenames"
   ]
  },
  {
   "cell_type": "code",
   "execution_count": 118,
   "metadata": {
    "collapsed": false
   },
   "outputs": [
    {
     "name": "stdout",
     "output_type": "stream",
     "text": [
      "Overwriting renameDates.py\n"
     ]
    }
   ],
   "source": [
    "%%writefile renameDates.py\n",
    "# Rename filenames with American MM-DD-YYYY date format to European DD-MM-YYYY.\n",
    "\n",
    "import shutil, os, re\n",
    "\n",
    "datePattern = re.compile(r'''^(.*?) # all text before the date\n",
    "((0|1)?\\d)- # one or two digits for the month\n",
    "((0|1|2|3)?\\d)- # one or two digits for the day\n",
    "((19|20)\\d\\d) # four digits for the year\n",
    "(.*?)$ # all text after date\n",
    "''', re.VERBOSE)\n",
    "\n",
    "# TODO: Loop over the files in the working directory.\n",
    "for amerFilename in os.listdir('.'):\n",
    "    mo = datePattern.search(amerFilename)\n",
    "    \n",
    "    # Skip files without a date.\n",
    "    if mo == None:\n",
    "        continue\n",
    "        \n",
    "    # Get the different parts of the filename.\n",
    "    beforePart = mo.group(1)\n",
    "    monthPart = mo.group(2)\n",
    "    dayPart = mo.group(4)\n",
    "    yearPart = mo.group(6)\n",
    "    afterPart = mo.group(8)"
   ]
  },
  {
   "cell_type": "markdown",
   "metadata": {},
   "source": [
    "- 괄호 순서에 따라 번호를 지정한다.\n",
    "- 나중에 배우면 알겠지만 (?:)를 사용하게 되면 캡쳐가 되지 않아서 편하다."
   ]
  },
  {
   "cell_type": "markdown",
   "metadata": {},
   "source": [
    "### Step 3: Form the New Filename and Rename the Files"
   ]
  },
  {
   "cell_type": "code",
   "execution_count": 119,
   "metadata": {
    "collapsed": false
   },
   "outputs": [
    {
     "name": "stdout",
     "output_type": "stream",
     "text": [
      "Overwriting renameDates.py\n"
     ]
    }
   ],
   "source": [
    "%%writefile renameDates.py\n",
    "# Rename filenames with American MM-DD-YYYY date format to European DD-MM-YYYY.\n",
    "\n",
    "import shutil, os, re\n",
    "\n",
    "datePattern = re.compile(r'''^(.*?) # all text before the date\n",
    "((0|1)?\\d)- # one or two digits for the month\n",
    "((0|1|2|3)?\\d)- # one or two digits for the day\n",
    "((19|20)\\d\\d) # four digits for the year\n",
    "(.*?)$ # all text after date\n",
    "''', re.VERBOSE)\n",
    "\n",
    "# TODO: Loop over the files in the working directory.\n",
    "for amerFilename in os.listdir('.'):\n",
    "    mo = datePattern.search(amerFilename)\n",
    "    \n",
    "    # Skip files without a date.\n",
    "    if mo == None:\n",
    "        continue\n",
    "        \n",
    "    # Get the different parts of the filename.\n",
    "    beforePart = mo.group(1)\n",
    "    monthPart = mo.group(2)\n",
    "    dayPart = mo.group(4)\n",
    "    yearPart = mo.group(6)\n",
    "    afterPart = mo.group(8)\n",
    "    \n",
    "    # Form the European-style filename.\n",
    "    euroFilename = beforePart + dayPart + '-' monthPart + '-' + yearPart + afterPart\n",
    "    \n",
    "    # Get the full, absolute file paths.\n",
    "    absWorkingDir = os.path.abspath('.')\n",
    "    amerFilename = os.path.join(absWorkingDir, amerFilename)\n",
    "    euroFilename = os.path.join(absWorkingDir, euroFilename)\n",
    "    \n",
    "    # Rename the files.\n",
    "    print('Renaming \"%s\" to \"%s\"...' % (amerFilename, euroFilename))\n",
    "    # shutil.move(amerFilename, euroFilename) # uncomment after testing"
   ]
  },
  {
   "cell_type": "markdown",
   "metadata": {},
   "source": [
    "### Ideas for Similar Programs\n",
    "\n",
    "- filename 앞쪽에 prefix를 추가할 때. 'spam_'을 'eggs.txt'에 추가하면 'spam_eggs.txt'가 됨\n",
    "- 유럽 스타일의 날짜를 아메리칸 날짜로 변경할 때\n",
    "- filename에서 0를 삭제할 때. spam0042.txt 같은 경우."
   ]
  },
  {
   "cell_type": "markdown",
   "metadata": {},
   "source": [
    "## Project: Backing Up a Folder into a ZIP File\n",
    "\n",
    "- 파일 백업을 하는데 AlsPythonBook_1.zip, AlsPythonBook_2.zip, AlsPythonBook_3.zip 하기 귀찮지 않냐? 실수할 위험도 있고. 자동화 해보자"
   ]
  },
  {
   "cell_type": "markdown",
   "metadata": {},
   "source": [
    "### Step 1: Figure Out the ZIP File's Name"
   ]
  },
  {
   "cell_type": "code",
   "execution_count": null,
   "metadata": {
    "collapsed": true
   },
   "outputs": [],
   "source": [
    "%%writefile backupToZip.py\n",
    "import zipfile, os\n",
    "\n",
    "def backToZip(folder):\n",
    "    # Backup the entire contents of \"folder\" into a ZIP file.\n",
    "    \n",
    "    folder = os.path.abspath(folder) # make sure folder is absolute\n",
    "    \n",
    "    # Figure out the filename this code should use based on\n",
    "    # what files already exist.\n",
    "    number = 1\n",
    "    while True:\n",
    "        zipFilename = os.path.basename(folder) + '_' + str(number) + '.zip'\n",
    "        if not os.path.exists(zipFilename):\n",
    "            break\n",
    "        number += 1\n",
    "        \n",
    "    # TODO: Create the ZIP file.\n",
    "    \n",
    "    # TODO: Walk the entire folder tree and compress the files in each folder.\n",
    "    print('Done.')\n",
    "    \n",
    "backToZip('/tmp/delicious/')"
   ]
  },
  {
   "cell_type": "markdown",
   "metadata": {},
   "source": [
    "- 낮은 숫자에서 하나씩 올려나가는 것도 방법이지만 os.listdir() 해서 이미 있는 목록중에서 가장 높은 번호를 찾고 거기에 +1을 하는 것도 좋은 방법일듯..싶지만 중간에 이가 빠지면 어쩔 수가 없네..전제조건이 1씩 시작해야 한다."
   ]
  },
  {
   "cell_type": "markdown",
   "metadata": {},
   "source": [
    "### Step 2: Create the New ZIP File"
   ]
  },
  {
   "cell_type": "code",
   "execution_count": null,
   "metadata": {
    "collapsed": true
   },
   "outputs": [],
   "source": [
    "%%writefile backupToZip.py\n",
    "import zipfile, os\n",
    "\n",
    "def backToZip(folder):\n",
    "    # Backup the entire contents of \"folder\" into a ZIP file.\n",
    "    \n",
    "    folder = os.path.abspath(folder) # make sure folder is absolute\n",
    "    \n",
    "    # Figure out the filename this code should use based on\n",
    "    # what files already exist.\n",
    "    number = 1\n",
    "    while True:\n",
    "        zipFilename = os.path.basename(folder) + '_' + str(number) + '.zip'\n",
    "        if not os.path.exists(zipFilename):\n",
    "            break\n",
    "        number += 1\n",
    "        \n",
    "    # TODO: Create the ZIP file.\n",
    "    print('Creating %s...' % (zipFilename))\n",
    "    backupZip = zipfile.ZipFile(zipFilename, 'w')\n",
    "    \n",
    "    # TODO: Walk the entire folder tree and compress the files in each folder.\n",
    "    print('Done.')\n",
    "    \n",
    "backToZip('/tmp/delicious/')"
   ]
  },
  {
   "cell_type": "markdown",
   "metadata": {},
   "source": [
    "### Step 3: Walk the Directory Tree and Add to the ZIP File"
   ]
  },
  {
   "cell_type": "code",
   "execution_count": 120,
   "metadata": {
    "collapsed": false
   },
   "outputs": [
    {
     "name": "stdout",
     "output_type": "stream",
     "text": [
      "Writing backupToZip.py\n"
     ]
    }
   ],
   "source": [
    "%%writefile backupToZip.py\n",
    "import zipfile, os\n",
    "\n",
    "def backToZip(folder):\n",
    "    # Backup the entire contents of \"folder\" into a ZIP file.\n",
    "    \n",
    "    folder = os.path.abspath(folder) # make sure folder is absolute\n",
    "    \n",
    "    # Figure out the filename this code should use based on\n",
    "    # what files already exist.\n",
    "    number = 1\n",
    "    while True:\n",
    "        zipFilename = os.path.basename(folder) + '_' + str(number) + '.zip'\n",
    "        if not os.path.exists(zipFilename):\n",
    "            break\n",
    "        number += 1\n",
    "        \n",
    "    # TODO: Create the ZIP file.\n",
    "    print('Creating %s...' % (zipFilename))\n",
    "    backupZip = zipfile.ZipFile(zipFilename, 'w')\n",
    "    \n",
    "    # TODO: Walk the entire folder tree and compress the files in each folder.\n",
    "    for foldername, subfolders, filenames in os.walk(folder):\n",
    "        print('Adding files in %s...' % (foldername))\n",
    "        # Add the current folder to the ZIP file.\n",
    "        backupZip.write(foldername)\n",
    "        # Add all the files in this folder to the ZIP file.\n",
    "        for filename in filenames:\n",
    "            newBase = os.path.basename(folder) + '_'\n",
    "            if filename.startswith(newBase) and filename.endswith('.zip'):\n",
    "                continue\n",
    "            backupZip.write(os.path.join(foldername, filename))\n",
    "    backupZip.close()\n",
    "    print('Done.')\n",
    "    \n",
    "backToZip('/tmp/delicious/')"
   ]
  },
  {
   "cell_type": "code",
   "execution_count": 123,
   "metadata": {
    "collapsed": false
   },
   "outputs": [
    {
     "name": "stdout",
     "output_type": "stream",
     "text": [
      "Creating delicious_2.zip...\r\n",
      "Adding files in /tmp/delicious...\r\n",
      "Adding files in /tmp/delicious/cats...\r\n",
      "Adding files in /tmp/delicious/walnut...\r\n",
      "Adding files in /tmp/delicious/walnut/waffles...\r\n",
      "Done.\r\n"
     ]
    }
   ],
   "source": [
    "!python backupToZip.py"
   ]
  },
  {
   "cell_type": "code",
   "execution_count": 124,
   "metadata": {
    "collapsed": false
   },
   "outputs": [
    {
     "name": "stdout",
     "output_type": "stream",
     "text": [
      "total 19056\r\n",
      "-rw-r--r--  1 re4lfl0w  wheel        0  6  1 16:18 20150220.txt\r\n",
      "-rw-r--r--  1 re4lfl0w  wheel  6457805  6  1 16:18 AlTest1.err\r\n",
      "-rw-r--r--  1 re4lfl0w  wheel        0  5 30 13:32 AlTest1.out\r\n",
      "drwx------  3 re4lfl0w  wheel      102  6  1 16:17 \u001b[34mKSOutOfProcessFetcher.501.qQkpPp2uZLdVc5pukHmfJMR4bkM=\u001b[m\u001b[m\r\n",
      "drwxrwxrwt  3 re4lfl0w  wheel      102  6  1 09:27 \u001b[30m\u001b[42mVMwareDnD\u001b[m\u001b[m\r\n",
      "-rw-r--r--  1 re4lfl0w  wheel     1272  6  1 16:09 backupToZip.py\r\n",
      "drwx------  3 re4lfl0w  wheel      102  5 30 13:31 \u001b[34mcom.apple.launchd.9xf8nfhetJ\u001b[m\u001b[m\r\n",
      "drwx------  3 re4lfl0w  wheel      102  5 30 13:31 \u001b[34mcom.apple.launchd.iPnRm4qAz2\u001b[m\u001b[m\r\n",
      "drwx------  3 re4lfl0w  wheel      102  5 30 13:31 \u001b[34mcom.apple.launchd.rqqOpjMVKq\u001b[m\u001b[m\r\n",
      "drwxr-xr-x  4 re4lfl0w  wheel      136  6  1 07:22 \u001b[34mdelicious\u001b[m\u001b[m\r\n",
      "drwxr-xr-x  3 re4lfl0w  wheel      102  6  1 14:57 \u001b[34mdelicious2\u001b[m\u001b[m\r\n",
      "-rw-r--r--  1 re4lfl0w  wheel      918  6  1 16:10 delicious_1.zip\r\n",
      "-rw-r--r--  1 re4lfl0w  wheel      918  6  1 16:18 delicious_2.zip\r\n",
      "-rw-r--r--  1 re4lfl0w  wheel        6  6  1 06:48 eggs.txt\r\n",
      "drwxr-xr-x  4 re4lfl0w  wheel      136  6  1 14:53 \u001b[34mexample\u001b[m\u001b[m\r\n",
      "-rwxr-xr-x@ 1 re4lfl0w  staff  3268156  6  1 14:49 \u001b[31mexample.zip\u001b[m\u001b[m\r\n",
      "drwx------  4 re4lfl0w  wheel      136  5 30 13:32 \u001b[34mfish.re4lfl0w\u001b[m\u001b[m\r\n",
      "srwxr-xr-x  2 re4lfl0w  wheel        0  5 30 13:32 \u001b[32mfishd.socket.re4lfl0w\u001b[m\u001b[m\r\n",
      "-rw-r--r--  1 re4lfl0w  wheel      223  6  1 15:06 new.zip\r\n",
      "drwxr-xr-x  3 re4lfl0w  wheel      102  6  1 15:01 \u001b[34mnewfolder\u001b[m\u001b[m\r\n",
      "-rw-r--r--  1 re4lfl0w  wheel     1258  6  1 15:34 renameDates.py\r\n",
      "-rw-r--r--  1 re4lfl0w  wheel        5  6  1 06:45 spam.txt\r\n",
      "drwxr-xr-x  5 re4lfl0w  wheel      170  6  1 06:57 \u001b[34mtest_shutil\u001b[m\u001b[m\r\n",
      "drwxr-xr-x  4 re4lfl0w  wheel      136  6  1 06:49 \u001b[34mtest_shutil_backup\u001b[m\u001b[m\r\n"
     ]
    }
   ],
   "source": [
    "!ls -l"
   ]
  },
  {
   "cell_type": "markdown",
   "metadata": {},
   "source": [
    "### Ideas for Similar Programs\n",
    "\n",
    "- directory tree를 돌면서 .txt, .py만 압축한다.\n",
    "- directory tree를 돌면서 .txt, .py 파일만 제외하고 모든 파일을 압축한다.\n",
    "- directory tree에서 folder를 찾는다. 디스크 사용량이 가장 많은 파일이나 폴더를 찾는다."
   ]
  },
  {
   "cell_type": "markdown",
   "metadata": {},
   "source": [
    "## Summary\n",
    "\n",
    "- 네 손으로 하는 마우스와 키보드를 사용하는 지겨운 작업들을 컴퓨터로 넘겨라\n",
    "- os와 shutil 모듈은 파일을 복사, 이동, 이름 변경, 삭제 등을 할 때 유용하다. send2trash는 안전하게 휴지통으로 삭제하는 기능을 제공한다.\n",
    "- os.walk를 사용하면 쉽게 모든 폴더와 파일을 검색할 수 있다.\n",
    "- zipfile을 사용하면 압축, 해제 등을 사용할 수 있다."
   ]
  },
  {
   "cell_type": "markdown",
   "metadata": {},
   "source": [
    "## Practice Projects\n",
    "\n",
    "### Selective Copy\n",
    "\n",
    "- .pdf, .jpg 만 어느 위치에 있든지 간에 복사해서 새로운 폴더로 복사할 수 있다.\n",
    "\n",
    "### Deleting Unneeded Files\n",
    "\n",
    "- 의미없이 용량만 차지하고 있는 파일들을 찾아내서 삭제\n",
    "- 100MB 이상인 파일들 나열\n",
    "- os.path.getsize()를 사용하면 도미\n",
    "\n",
    "### Filling in the Gaps\n",
    "\n",
    "- spam001.txt, spam003.txt가 있고 spam002.txt가 없다. 이때 이 갭을 채워서 numbering을 해봐라."
   ]
  }
 ],
 "metadata": {
  "kernelspec": {
   "display_name": "Python 2",
   "language": "python",
   "name": "python2"
  },
  "language_info": {
   "codemirror_mode": {
    "name": "ipython",
    "version": 2
   },
   "file_extension": ".py",
   "mimetype": "text/x-python",
   "name": "python",
   "nbconvert_exporter": "python",
   "pygments_lexer": "ipython2",
   "version": "2.7.6"
  }
 },
 "nbformat": 4,
 "nbformat_minor": 0
}
