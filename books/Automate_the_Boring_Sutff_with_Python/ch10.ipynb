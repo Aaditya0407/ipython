{
 "cells": [
  {
   "cell_type": "markdown",
   "metadata": {},
   "source": [
    "# ch10 Debugging"
   ]
  },
  {
   "cell_type": "code",
   "execution_count": 1,
   "metadata": {
    "collapsed": false
   },
   "outputs": [
    {
     "ename": "Exception",
     "evalue": "This is the error message.",
     "output_type": "error",
     "traceback": [
      "\u001b[0;31m---------------------------------------------------------------------------\u001b[0m",
      "\u001b[0;31mException\u001b[0m                                 Traceback (most recent call last)",
      "\u001b[0;32m<ipython-input-1-06c4ed19fb7b>\u001b[0m in \u001b[0;36m<module>\u001b[0;34m()\u001b[0m\n\u001b[0;32m----> 1\u001b[0;31m \u001b[0;32mraise\u001b[0m \u001b[0mException\u001b[0m\u001b[0;34m(\u001b[0m\u001b[0;34m'This is the error message.'\u001b[0m\u001b[0;34m)\u001b[0m\u001b[0;34m\u001b[0m\u001b[0m\n\u001b[0m",
      "\u001b[0;31mException\u001b[0m: This is the error message."
     ]
    }
   ],
   "source": [
    "raise Exception('This is the error message.')"
   ]
  },
  {
   "cell_type": "code",
   "execution_count": 2,
   "metadata": {
    "collapsed": false
   },
   "outputs": [
    {
     "name": "stdout",
     "output_type": "stream",
     "text": [
      "****\n",
      "*  *\n",
      "*  *\n",
      "****\n",
      "OOOOOOOOOOOOOOOOOOOO\n",
      "O                  O\n",
      "O                  O\n",
      "O                  O\n",
      "OOOOOOOOOOOOOOOOOOOO\n",
      "An exception happened: Width must be greater than 2.\n",
      "An exception happened: Symbol must be a single chracater string.\n"
     ]
    }
   ],
   "source": [
    "def boxPrint(symbol, width, height):\n",
    "    if len(symbol) != 1:\n",
    "        raise Exception('Symbol must be a single chracater string.')\n",
    "    if width <= 2:\n",
    "        raise Exception('Width must be greater than 2.')\n",
    "    if height <= 2:\n",
    "        raise Exception('Height must be greater than 2.')\n",
    "    print(symbol * width)\n",
    "    for i in range(height - 2):\n",
    "        print(symbol + (' ' * (width - 2)) + symbol)\n",
    "    print(symbol * width)\n",
    "    \n",
    "for sym, w, h in (('*', 4, 4), ('O', 20, 5), ('x', 1, 3), ('ZZ', 3, 3)):\n",
    "    try:\n",
    "        boxPrint(sym, w, h)\n",
    "    except Exception as err:\n",
    "        print('An exception happened: ' + str(err))"
   ]
  },
  {
   "cell_type": "markdown",
   "metadata": {},
   "source": [
    "- boxPrint 라고 함수명에서 이야기 해줬잖아.\n",
    "- 그런데 왜 결과물을 보고 해석하려고 하냐? 함수명으로 유추했으면 좀 더 빨리 이해가 됐을거 아니야?"
   ]
  },
  {
   "cell_type": "markdown",
   "metadata": {},
   "source": [
    "## Getting the Traceback as a String"
   ]
  },
  {
   "cell_type": "code",
   "execution_count": 3,
   "metadata": {
    "collapsed": false
   },
   "outputs": [
    {
     "ename": "Exception",
     "evalue": "This is the error message.",
     "output_type": "error",
     "traceback": [
      "\u001b[0;31m---------------------------------------------------------------------------\u001b[0m",
      "\u001b[0;31mException\u001b[0m                                 Traceback (most recent call last)",
      "\u001b[0;32m<ipython-input-3-ff38e8454437>\u001b[0m in \u001b[0;36m<module>\u001b[0;34m()\u001b[0m\n\u001b[1;32m      5\u001b[0m     \u001b[0;32mraise\u001b[0m \u001b[0mException\u001b[0m\u001b[0;34m(\u001b[0m\u001b[0;34m'This is the error message.'\u001b[0m\u001b[0;34m)\u001b[0m\u001b[0;34m\u001b[0m\u001b[0m\n\u001b[1;32m      6\u001b[0m \u001b[0;34m\u001b[0m\u001b[0m\n\u001b[0;32m----> 7\u001b[0;31m \u001b[0mspam\u001b[0m\u001b[0;34m(\u001b[0m\u001b[0;34m)\u001b[0m\u001b[0;34m\u001b[0m\u001b[0m\n\u001b[0m",
      "\u001b[0;32m<ipython-input-3-ff38e8454437>\u001b[0m in \u001b[0;36mspam\u001b[0;34m()\u001b[0m\n\u001b[1;32m      1\u001b[0m \u001b[0;32mdef\u001b[0m \u001b[0mspam\u001b[0m\u001b[0;34m(\u001b[0m\u001b[0;34m)\u001b[0m\u001b[0;34m:\u001b[0m\u001b[0;34m\u001b[0m\u001b[0m\n\u001b[0;32m----> 2\u001b[0;31m     \u001b[0mbacon\u001b[0m\u001b[0;34m(\u001b[0m\u001b[0;34m)\u001b[0m\u001b[0;34m\u001b[0m\u001b[0m\n\u001b[0m\u001b[1;32m      3\u001b[0m \u001b[0;34m\u001b[0m\u001b[0m\n\u001b[1;32m      4\u001b[0m \u001b[0;32mdef\u001b[0m \u001b[0mbacon\u001b[0m\u001b[0;34m(\u001b[0m\u001b[0;34m)\u001b[0m\u001b[0;34m:\u001b[0m\u001b[0;34m\u001b[0m\u001b[0m\n\u001b[1;32m      5\u001b[0m     \u001b[0;32mraise\u001b[0m \u001b[0mException\u001b[0m\u001b[0;34m(\u001b[0m\u001b[0;34m'This is the error message.'\u001b[0m\u001b[0;34m)\u001b[0m\u001b[0;34m\u001b[0m\u001b[0m\n",
      "\u001b[0;32m<ipython-input-3-ff38e8454437>\u001b[0m in \u001b[0;36mbacon\u001b[0;34m()\u001b[0m\n\u001b[1;32m      3\u001b[0m \u001b[0;34m\u001b[0m\u001b[0m\n\u001b[1;32m      4\u001b[0m \u001b[0;32mdef\u001b[0m \u001b[0mbacon\u001b[0m\u001b[0;34m(\u001b[0m\u001b[0;34m)\u001b[0m\u001b[0;34m:\u001b[0m\u001b[0;34m\u001b[0m\u001b[0m\n\u001b[0;32m----> 5\u001b[0;31m     \u001b[0;32mraise\u001b[0m \u001b[0mException\u001b[0m\u001b[0;34m(\u001b[0m\u001b[0;34m'This is the error message.'\u001b[0m\u001b[0;34m)\u001b[0m\u001b[0;34m\u001b[0m\u001b[0m\n\u001b[0m\u001b[1;32m      6\u001b[0m \u001b[0;34m\u001b[0m\u001b[0m\n\u001b[1;32m      7\u001b[0m \u001b[0mspam\u001b[0m\u001b[0;34m(\u001b[0m\u001b[0;34m)\u001b[0m\u001b[0;34m\u001b[0m\u001b[0m\n",
      "\u001b[0;31mException\u001b[0m: This is the error message."
     ]
    }
   ],
   "source": [
    "def spam():\n",
    "    bacon()\n",
    "    \n",
    "def bacon():\n",
    "    raise Exception('This is the error message.')\n",
    "    \n",
    "spam()"
   ]
  },
  {
   "cell_type": "code",
   "execution_count": 4,
   "metadata": {
    "collapsed": true
   },
   "outputs": [],
   "source": [
    "import traceback"
   ]
  },
  {
   "cell_type": "code",
   "execution_count": 5,
   "metadata": {
    "collapsed": false
   },
   "outputs": [
    {
     "name": "stdout",
     "output_type": "stream",
     "text": [
      "The traceback info was written to errorInfo.txt.\n"
     ]
    }
   ],
   "source": [
    "try:\n",
    "    raise Exception('This is the error message.')\n",
    "except:\n",
    "    errorFile = open('errorInfo.txt', 'w')\n",
    "    errorFile.write(traceback.format_exc())\n",
    "    errorFile.close()\n",
    "    print('The traceback info was written to errorInfo.txt.')"
   ]
  },
  {
   "cell_type": "code",
   "execution_count": 6,
   "metadata": {
    "collapsed": false
   },
   "outputs": [
    {
     "name": "stdout",
     "output_type": "stream",
     "text": [
      "Traceback (most recent call last):\r\n",
      "  File \"<ipython-input-5-9761f8ef0b4a>\", line 2, in <module>\r\n",
      "    raise Exception('This is the error message.')\r\n",
      "Exception: This is the error message.\r\n"
     ]
    }
   ],
   "source": [
    "!cat errorInfo.txt"
   ]
  },
  {
   "cell_type": "markdown",
   "metadata": {},
   "source": [
    "## Assertions\n",
    "\n",
    "- A condition(True or False를 평가한다)\n",
    "- A comma\n",
    "- condition is False 일 때 화면에 보인다."
   ]
  },
  {
   "cell_type": "code",
   "execution_count": 7,
   "metadata": {
    "collapsed": true
   },
   "outputs": [],
   "source": [
    "podBayDoorStatus = 'open'"
   ]
  },
  {
   "cell_type": "code",
   "execution_count": 8,
   "metadata": {
    "collapsed": true
   },
   "outputs": [],
   "source": [
    "assert podBayDoorStatus == 'open', 'The pod bay doors need to be \"open\".'"
   ]
  },
  {
   "cell_type": "code",
   "execution_count": 9,
   "metadata": {
    "collapsed": true
   },
   "outputs": [],
   "source": [
    "podBayDoorStatus = 'I\\'m sorry, Dave. I\\'m afraid I can\\' do that.'"
   ]
  },
  {
   "cell_type": "code",
   "execution_count": 10,
   "metadata": {
    "collapsed": false
   },
   "outputs": [
    {
     "ename": "AssertionError",
     "evalue": "The pod bay doors need to be \"open\".",
     "output_type": "error",
     "traceback": [
      "\u001b[0;31m---------------------------------------------------------------------------\u001b[0m",
      "\u001b[0;31mAssertionError\u001b[0m                            Traceback (most recent call last)",
      "\u001b[0;32m<ipython-input-10-468777bd330f>\u001b[0m in \u001b[0;36m<module>\u001b[0;34m()\u001b[0m\n\u001b[0;32m----> 1\u001b[0;31m \u001b[0;32massert\u001b[0m \u001b[0mpodBayDoorStatus\u001b[0m \u001b[0;34m==\u001b[0m \u001b[0;34m'open'\u001b[0m\u001b[0;34m,\u001b[0m \u001b[0;34m'The pod bay doors need to be \"open\".'\u001b[0m\u001b[0;34m\u001b[0m\u001b[0m\n\u001b[0m",
      "\u001b[0;31mAssertionError\u001b[0m: The pod bay doors need to be \"open\"."
     ]
    }
   ],
   "source": [
    "assert podBayDoorStatus == 'open', 'The pod bay doors need to be \"open\".'"
   ]
  },
  {
   "cell_type": "code",
   "execution_count": 11,
   "metadata": {
    "collapsed": true
   },
   "outputs": [],
   "source": [
    "market_2nd = {'ns': 'green', 'ew': 'red'}\n",
    "mission_16th = {'ns': 'red', 'ew': 'green'}"
   ]
  },
  {
   "cell_type": "code",
   "execution_count": 28,
   "metadata": {
    "collapsed": false
   },
   "outputs": [
    {
     "ename": "AssertionError",
     "evalue": "Neither light is red! {'ew': 'green', 'ns': 'yellow'}",
     "output_type": "error",
     "traceback": [
      "\u001b[0;31m---------------------------------------------------------------------------\u001b[0m",
      "\u001b[0;31mAssertionError\u001b[0m                            Traceback (most recent call last)",
      "\u001b[0;32m<ipython-input-28-5cb8b72adc59>\u001b[0m in \u001b[0;36m<module>\u001b[0;34m()\u001b[0m\n\u001b[1;32m     10\u001b[0m     \u001b[0;32massert\u001b[0m \u001b[0;34m'red'\u001b[0m \u001b[0;32min\u001b[0m \u001b[0mstoplight\u001b[0m\u001b[0;34m.\u001b[0m\u001b[0mvalues\u001b[0m\u001b[0;34m(\u001b[0m\u001b[0;34m)\u001b[0m\u001b[0;34m,\u001b[0m \u001b[0;34m'Neither light is red! '\u001b[0m \u001b[0;34m+\u001b[0m \u001b[0mstr\u001b[0m\u001b[0;34m(\u001b[0m\u001b[0mstoplight\u001b[0m\u001b[0;34m)\u001b[0m\u001b[0;34m\u001b[0m\u001b[0m\n\u001b[1;32m     11\u001b[0m \u001b[0;34m\u001b[0m\u001b[0m\n\u001b[0;32m---> 12\u001b[0;31m \u001b[0mswitchLights\u001b[0m\u001b[0;34m(\u001b[0m\u001b[0mmarket_2nd\u001b[0m\u001b[0;34m)\u001b[0m\u001b[0;34m\u001b[0m\u001b[0m\n\u001b[0m",
      "\u001b[0;32m<ipython-input-28-5cb8b72adc59>\u001b[0m in \u001b[0;36mswitchLights\u001b[0;34m(stoplight)\u001b[0m\n\u001b[1;32m      8\u001b[0m             \u001b[0mstoplight\u001b[0m\u001b[0;34m[\u001b[0m\u001b[0mkey\u001b[0m\u001b[0;34m]\u001b[0m \u001b[0;34m=\u001b[0m \u001b[0;34m'green'\u001b[0m\u001b[0;34m\u001b[0m\u001b[0m\n\u001b[1;32m      9\u001b[0m \u001b[0;34m\u001b[0m\u001b[0m\n\u001b[0;32m---> 10\u001b[0;31m     \u001b[0;32massert\u001b[0m \u001b[0;34m'red'\u001b[0m \u001b[0;32min\u001b[0m \u001b[0mstoplight\u001b[0m\u001b[0;34m.\u001b[0m\u001b[0mvalues\u001b[0m\u001b[0;34m(\u001b[0m\u001b[0;34m)\u001b[0m\u001b[0;34m,\u001b[0m \u001b[0;34m'Neither light is red! '\u001b[0m \u001b[0;34m+\u001b[0m \u001b[0mstr\u001b[0m\u001b[0;34m(\u001b[0m\u001b[0mstoplight\u001b[0m\u001b[0;34m)\u001b[0m\u001b[0;34m\u001b[0m\u001b[0m\n\u001b[0m\u001b[1;32m     11\u001b[0m \u001b[0;34m\u001b[0m\u001b[0m\n\u001b[1;32m     12\u001b[0m \u001b[0mswitchLights\u001b[0m\u001b[0;34m(\u001b[0m\u001b[0mmarket_2nd\u001b[0m\u001b[0;34m)\u001b[0m\u001b[0;34m\u001b[0m\u001b[0m\n",
      "\u001b[0;31mAssertionError\u001b[0m: Neither light is red! {'ew': 'green', 'ns': 'yellow'}"
     ]
    }
   ],
   "source": [
    "def switchLights(stoplight):\n",
    "    for key in stoplight.keys():\n",
    "        if stoplight[key] == 'green':\n",
    "            stoplight[key] = 'yellow'\n",
    "        elif stoplight[key] == 'yellow':\n",
    "            stoplight[key] = 'red'\n",
    "        elif stoplight[key] == 'red':\n",
    "            stoplight[key] = 'green'\n",
    "            \n",
    "    assert 'red' in stoplight.values(), 'Neither light is red! ' + str(stoplight)\n",
    "            \n",
    "switchLights(market_2nd)"
   ]
  },
  {
   "cell_type": "markdown",
   "metadata": {},
   "source": [
    "- AssertionError가 빨리나면 좋다. 그만큼 디버깅하는 노력을 줄일 수 있기 때문에."
   ]
  },
  {
   "cell_type": "markdown",
   "metadata": {},
   "source": [
    "### Disabling Assertions\n",
    "\n",
    "- 파이썬을 실행할 때 -O option을 주면 Assertion을 disable 할 수 있다.\n",
    "- 다른 사람이 프로그램을 실행할 때를 봐야한다. -O option을 사용해서 이상하지 않은 프로그램을 어떻게 실행하는지 Appendix B를 봐라"
   ]
  },
  {
   "cell_type": "markdown",
   "metadata": {},
   "source": [
    "## Logging\n",
    "\n",
    "- print() 는 너의 코드를 디버깅 할 수 있다.\n",
    "- Logging은 너의 프로그램에서 무슨 일이 발생했는지 알기 위한 좋은 방법"
   ]
  },
  {
   "cell_type": "markdown",
   "metadata": {},
   "source": [
    "### Using the logging Module\n",
    "\n"
   ]
  },
  {
   "cell_type": "code",
   "execution_count": 29,
   "metadata": {
    "collapsed": true
   },
   "outputs": [],
   "source": [
    "import logging\n",
    "logging.basicConfig(level=logging.DEBUG, format=' %(asctime)s - %(levelname)s - %(message)s')"
   ]
  },
  {
   "cell_type": "code",
   "execution_count": 40,
   "metadata": {
    "collapsed": false
   },
   "outputs": [
    {
     "name": "stdout",
     "output_type": "stream",
     "text": [
      "Overwriting test_logging.py\n"
     ]
    }
   ],
   "source": [
    "%%writefile test_logging.py\n",
    "import logging\n",
    "logging.basicConfig(level=logging.DEBUG, format=' %(asctime)s - %(levelname)s - %(message)s')\n",
    "logging.debug('Start of program')\n",
    "\n",
    "def factorial(n):\n",
    "    logging.debug('Start of factorial( %s)' % (n))\n",
    "    total = 1\n",
    "    for i in range(1, n + 1):\n",
    "        total *= i\n",
    "        logging.debug('i is ' + str(i) + ', total is ' + str(total))\n",
    "    logging.debug('End of factorial( %s)' % (n))\n",
    "    return total\n",
    "\n",
    "print(factorial(5))\n",
    "logging.debug('End of program')"
   ]
  },
  {
   "cell_type": "code",
   "execution_count": 41,
   "metadata": {
    "collapsed": false
   },
   "outputs": [
    {
     "name": "stdout",
     "output_type": "stream",
     "text": [
      " 2015-06-02 17:22:33,412 - DEBUG - Start of program\r\n",
      " 2015-06-02 17:22:33,412 - DEBUG - Start of factorial( 5)\r\n",
      " 2015-06-02 17:22:33,412 - DEBUG - i is 1, total is 1\r\n",
      " 2015-06-02 17:22:33,412 - DEBUG - i is 2, total is 2\r\n",
      " 2015-06-02 17:22:33,412 - DEBUG - i is 3, total is 6\r\n",
      " 2015-06-02 17:22:33,412 - DEBUG - i is 4, total is 24\r\n",
      " 2015-06-02 17:22:33,412 - DEBUG - i is 5, total is 120\r\n",
      " 2015-06-02 17:22:33,412 - DEBUG - End of factorial( 5)\r\n",
      "120\r\n",
      " 2015-06-02 17:22:33,412 - DEBUG - End of program\r\n"
     ]
    }
   ],
   "source": [
    "!python test_logging.py"
   ]
  },
  {
   "cell_type": "markdown",
   "metadata": {},
   "source": [
    "### Don't Debug with print()\n",
    "\n",
    "- 보고 싶지 않을 떄는 logging.disable(logging.CRITICAL) 호출하면 됨"
   ]
  },
  {
   "cell_type": "markdown",
   "metadata": {},
   "source": [
    "### Logging Levels\n",
    "\n",
    "#### Table 10-1. Logging Levels in Python\n",
    "\n",
    "Level | Logging Function | Description\n",
    "--- | --- | ---\n",
    "DEBUG | logging.debug() | The lowest level. Used for small details. Usaually you care about these messages only when diagnosing problems.\n",
    "INFO | logging.info() | Used to record information on general events in your program or confirm that things are working at their point in the program.\n",
    "WARNING | logging.warning() | Used to indicate a potential problem that doesn't prevent the program from working but might do so in the future.\n",
    "ERROR | logging.error() | Used to record an error that caused the program to fail to do something.\n",
    "CRITICAl | logging.critical() | The highest level. Used to indicate a fatal error that ahs caused or is about to cause the program to stop running entirely."
   ]
  },
  {
   "cell_type": "code",
   "execution_count": 45,
   "metadata": {
    "collapsed": false
   },
   "outputs": [
    {
     "name": "stdout",
     "output_type": "stream",
     "text": [
      "Writing test_logging_debug.py\n"
     ]
    }
   ],
   "source": [
    "%%writefile test_logging_debug.py\n",
    "import logging\n",
    "logging.basicConfig(level=logging.DEBUG, format=' %(asctime)s - %(levelname)s - %(message)s')\n",
    "\n",
    "logging.debug('Some debugging details.')\n",
    "logging.info('The logging module is working.')\n",
    "logging.warning('An error message is about to be logged.')\n",
    "logging.error('An error has occurred.')\n",
    "logging.critical('The program is unable to recover!')"
   ]
  },
  {
   "cell_type": "code",
   "execution_count": 47,
   "metadata": {
    "collapsed": false
   },
   "outputs": [
    {
     "name": "stdout",
     "output_type": "stream",
     "text": [
      " 2015-06-02 17:33:04,396 - DEBUG - Some debugging details.\r\n",
      " 2015-06-02 17:33:04,396 - INFO - The logging module is working.\r\n",
      " 2015-06-02 17:33:04,396 - WARNING - An error message is about to be logged.\r\n",
      " 2015-06-02 17:33:04,396 - ERROR - An error has occurred.\r\n",
      " 2015-06-02 17:33:04,396 - CRITICAL - The program is unable to recover!\r\n"
     ]
    }
   ],
   "source": [
    "!python test_logging_debug.py"
   ]
  },
  {
   "cell_type": "code",
   "execution_count": 49,
   "metadata": {
    "collapsed": false
   },
   "outputs": [
    {
     "name": "stdout",
     "output_type": "stream",
     "text": [
      "Overwriting test_logging_info.py\n"
     ]
    }
   ],
   "source": [
    "%%writefile test_logging_info.py\n",
    "import logging\n",
    "logging.basicConfig(level=logging.INFO, format=' %(asctime)s - %(levelname)s - %(message)s')\n",
    "\n",
    "logging.debug('Some debugging details.')\n",
    "logging.info('The logging module is working.')\n",
    "logging.warning('An error message is about to be logged.')\n",
    "logging.error('An error has occurred.')\n",
    "logging.critical('The program is unable to recover!')"
   ]
  },
  {
   "cell_type": "code",
   "execution_count": 50,
   "metadata": {
    "collapsed": false
   },
   "outputs": [
    {
     "name": "stdout",
     "output_type": "stream",
     "text": [
      " 2015-06-02 17:33:24,577 - INFO - The logging module is working.\r\n",
      " 2015-06-02 17:33:24,577 - WARNING - An error message is about to be logged.\r\n",
      " 2015-06-02 17:33:24,577 - ERROR - An error has occurred.\r\n",
      " 2015-06-02 17:33:24,578 - CRITICAL - The program is unable to recover!\r\n"
     ]
    }
   ],
   "source": [
    "!python test_logging_info.py"
   ]
  },
  {
   "cell_type": "code",
   "execution_count": 51,
   "metadata": {
    "collapsed": false
   },
   "outputs": [
    {
     "name": "stdout",
     "output_type": "stream",
     "text": [
      "Writing test_logging_error.py\n"
     ]
    }
   ],
   "source": [
    "%%writefile test_logging_error.py\n",
    "import logging\n",
    "logging.basicConfig(level=logging.ERROR, format=' %(asctime)s - %(levelname)s - %(message)s')\n",
    "\n",
    "logging.debug('Some debugging details.')\n",
    "logging.info('The logging module is working.')\n",
    "logging.warning('An error message is about to be logged.')\n",
    "logging.error('An error has occurred.')\n",
    "logging.critical('The program is unable to recover!')"
   ]
  },
  {
   "cell_type": "code",
   "execution_count": 52,
   "metadata": {
    "collapsed": false
   },
   "outputs": [
    {
     "name": "stdout",
     "output_type": "stream",
     "text": [
      " 2015-06-02 17:33:47,562 - ERROR - An error has occurred.\r\n",
      " 2015-06-02 17:33:47,562 - CRITICAL - The program is unable to recover!\r\n"
     ]
    }
   ],
   "source": [
    "!python test_logging_error.py"
   ]
  },
  {
   "cell_type": "markdown",
   "metadata": {},
   "source": [
    "### Disabling Logging\n",
    "\n"
   ]
  },
  {
   "cell_type": "code",
   "execution_count": 58,
   "metadata": {
    "collapsed": false
   },
   "outputs": [
    {
     "name": "stdout",
     "output_type": "stream",
     "text": [
      "Overwriting test_logging_disable.py\n"
     ]
    }
   ],
   "source": [
    "%%writefile test_logging_disable.py\n",
    "import logging\n",
    "logging.basicConfig(level=logging.INFO, format=' %(asctime)s - %(levelname)s - %(message)s')\n",
    "\n",
    "logging.critical('Critical error! Critical error!')\n",
    "# logging.disable(logging.CRITICAL)\n",
    "logging.critical('Critical error! Critical error!')\n",
    "logging.error('Error! Error!')"
   ]
  },
  {
   "cell_type": "code",
   "execution_count": 59,
   "metadata": {
    "collapsed": false
   },
   "outputs": [
    {
     "name": "stdout",
     "output_type": "stream",
     "text": [
      " 2015-06-02 17:38:54,868 - CRITICAL - Critical error! Critical error!\r\n",
      " 2015-06-02 17:38:54,868 - CRITICAL - Critical error! Critical error!\r\n",
      " 2015-06-02 17:38:54,868 - ERROR - Error! Error!\r\n"
     ]
    }
   ],
   "source": [
    "!python test_logging_disable.py"
   ]
  },
  {
   "cell_type": "code",
   "execution_count": 60,
   "metadata": {
    "collapsed": false
   },
   "outputs": [
    {
     "name": "stdout",
     "output_type": "stream",
     "text": [
      "Writing test_logging_disable2.py\n"
     ]
    }
   ],
   "source": [
    "%%writefile test_logging_disable2.py\n",
    "import logging\n",
    "logging.basicConfig(level=logging.INFO, format=' %(asctime)s - %(levelname)s - %(message)s')\n",
    "\n",
    "logging.critical('Critical error! Critical error!')\n",
    "logging.disable(logging.CRITICAL)\n",
    "logging.critical('Critical error! Critical error!')\n",
    "logging.error('Error! Error!')"
   ]
  },
  {
   "cell_type": "code",
   "execution_count": 61,
   "metadata": {
    "collapsed": false
   },
   "outputs": [
    {
     "name": "stdout",
     "output_type": "stream",
     "text": [
      " 2015-06-02 17:39:23,812 - CRITICAL - Critical error! Critical error!\r\n"
     ]
    }
   ],
   "source": [
    "!python test_logging_disable2.py"
   ]
  },
  {
   "cell_type": "code",
   "execution_count": 62,
   "metadata": {
    "collapsed": false
   },
   "outputs": [
    {
     "name": "stdout",
     "output_type": "stream",
     "text": [
      "Writing test_logging_disable3.py\n"
     ]
    }
   ],
   "source": [
    "%%writefile test_logging_disable3.py\n",
    "import logging\n",
    "logging.basicConfig(level=logging.INFO, format=' %(asctime)s - %(levelname)s - %(message)s')\n",
    "\n",
    "logging.critical('Critical error! Critical error!')\n",
    "logging.disable(logging.INFO)\n",
    "logging.critical('Critical error! Critical error!')\n",
    "logging.error('Error! Error!')"
   ]
  },
  {
   "cell_type": "code",
   "execution_count": 63,
   "metadata": {
    "collapsed": false
   },
   "outputs": [
    {
     "name": "stdout",
     "output_type": "stream",
     "text": [
      " 2015-06-02 17:39:40,643 - CRITICAL - Critical error! Critical error!\r\n",
      " 2015-06-02 17:39:40,643 - CRITICAL - Critical error! Critical error!\r\n",
      " 2015-06-02 17:39:40,643 - ERROR - Error! Error!\r\n"
     ]
    }
   ],
   "source": [
    "!python test_logging_disable3.py"
   ]
  },
  {
   "cell_type": "code",
   "execution_count": 64,
   "metadata": {
    "collapsed": false
   },
   "outputs": [
    {
     "name": "stdout",
     "output_type": "stream",
     "text": [
      "Writing test_logging_disable4.py\n"
     ]
    }
   ],
   "source": [
    "%%writefile test_logging_disable4.py\n",
    "import logging\n",
    "logging.basicConfig(level=logging.INFO, format=' %(asctime)s - %(levelname)s - %(message)s')\n",
    "\n",
    "logging.critical('Critical error! Critical error!')\n",
    "logging.disable(logging.ERROR)\n",
    "logging.critical('Critical error! Critical error!')\n",
    "logging.error('Error! Error!')"
   ]
  },
  {
   "cell_type": "code",
   "execution_count": 65,
   "metadata": {
    "collapsed": false
   },
   "outputs": [
    {
     "name": "stdout",
     "output_type": "stream",
     "text": [
      " 2015-06-02 17:40:02,170 - CRITICAL - Critical error! Critical error!\r\n",
      " 2015-06-02 17:40:02,170 - CRITICAL - Critical error! Critical error!\r\n"
     ]
    }
   ],
   "source": [
    "!python test_logging_disable4.py"
   ]
  },
  {
   "cell_type": "markdown",
   "metadata": {},
   "source": [
    "#### disable 범위\n",
    "\n",
    "```python\n",
    "logging.disable(logging.ERROR)\n",
    "```\n",
    "\n",
    "- 라고 해주면 ERROR 밑으로는 모두 disable 되네. 가장 위험한 CRITICAL만 보임"
   ]
  },
  {
   "cell_type": "markdown",
   "metadata": {},
   "source": [
    "### Logging to a File\n",
    "\n"
   ]
  },
  {
   "cell_type": "code",
   "execution_count": 111,
   "metadata": {
    "collapsed": false
   },
   "outputs": [
    {
     "name": "stdout",
     "output_type": "stream",
     "text": [
      "Overwriting test_logging_file.py\n"
     ]
    }
   ],
   "source": [
    "%%writefile test_logging_file.py\n",
    "import logging\n",
    "logging.basicConfig(filename='myProgramLog.txt', level=logging.INFO, format=' %(asctime)s - %(levelname)s - %(message)s')\n",
    "logging.critical('Critical error! Critical error!')\n",
    "logging.critical('Critical error! Critical error!')\n",
    "logging.error('Error! Error!')\n",
    "logging.debug('Debug!')\n",
    "logging.info('Info!')"
   ]
  },
  {
   "cell_type": "code",
   "execution_count": 112,
   "metadata": {
    "collapsed": true
   },
   "outputs": [],
   "source": [
    "!rm -rf myProgramLog.txt"
   ]
  },
  {
   "cell_type": "code",
   "execution_count": 113,
   "metadata": {
    "collapsed": false
   },
   "outputs": [],
   "source": [
    "!python test_logging_file.py"
   ]
  },
  {
   "cell_type": "code",
   "execution_count": 114,
   "metadata": {
    "collapsed": false
   },
   "outputs": [
    {
     "name": "stdout",
     "output_type": "stream",
     "text": [
      "-rw-r--r--  1 re4lfl0w  staff  229  6  2 17:51 myProgramLog.txt\r\n"
     ]
    }
   ],
   "source": [
    "!ls -l myProgramLog.txt"
   ]
  },
  {
   "cell_type": "code",
   "execution_count": 115,
   "metadata": {
    "collapsed": false
   },
   "outputs": [
    {
     "name": "stdout",
     "output_type": "stream",
     "text": [
      " 2015-06-02 17:51:13,041 - CRITICAL - Critical error! Critical error!\r\n",
      " 2015-06-02 17:51:13,041 - CRITICAL - Critical error! Critical error!\r\n",
      " 2015-06-02 17:51:13,041 - ERROR - Error! Error!\r\n",
      " 2015-06-02 17:51:13,041 - INFO - Info!\r\n"
     ]
    }
   ],
   "source": [
    "!cat myProgramLog.txt"
   ]
  },
  {
   "cell_type": "code",
   "execution_count": 143,
   "metadata": {
    "collapsed": false
   },
   "outputs": [
    {
     "name": "stdout",
     "output_type": "stream",
     "text": [
      "Halfway done!\n",
      "Heads came up 533 times.\n"
     ]
    }
   ],
   "source": [
    "import random\n",
    "heads = 0\n",
    "\n",
    "# 아 1000번을 돈 다음에 heads를 찍어주니 500 전후겠네\n",
    "for i in range(1, 1001):\n",
    "    if random.randint(0, 1) == 1:\n",
    "        heads += 1\n",
    "    if i == 500:\n",
    "        print('Halfway done!')\n",
    "print('Heads came up ' + str(heads) + ' times.')"
   ]
  },
  {
   "cell_type": "code",
   "execution_count": 160,
   "metadata": {
    "collapsed": false
   },
   "outputs": [
    {
     "name": "stdout",
     "output_type": "stream",
     "text": [
      "1\n",
      "1\n",
      "1\n",
      "1\n",
      "1\n",
      "1\n",
      "\n",
      "6\n"
     ]
    }
   ],
   "source": [
    "cnt = 0\n",
    "for i in range(10):\n",
    "    ran = random.randint(0, 1)\n",
    "    if ran:\n",
    "        print '1'\n",
    "        cnt += 1\n",
    "print ''\n",
    "print cnt"
   ]
  },
  {
   "cell_type": "markdown",
   "metadata": {},
   "source": [
    "## Summary\n",
    "\n",
    "- Assertions, exceptions, logging, debugger는 모두 버그를 찾고 막아줄 수 있는 유용한 툴이다.\n",
    "- try, except를 써서 예외를 제어할 수 있다. \n",
    "- 로깅 모듈은 너의 코드에서 무슨 일이 발생한지 확인할 수 있는 좋은 방법이다.\n",
    "- print() 보다 좋다. 왜냐하면 각각 다른 logging level을 쓸 수 있고 text file로 저장할 수 있기 때문"
   ]
  },
  {
   "cell_type": "markdown",
   "metadata": {},
   "source": [
    "## Practice Questions\n",
    "\n",
    "    1. Write an assert statement that triggers an AssertionError if the variable spam is an integer less than 10"
   ]
  },
  {
   "cell_type": "code",
   "execution_count": 174,
   "metadata": {
    "collapsed": true
   },
   "outputs": [],
   "source": [
    "spam = 15"
   ]
  },
  {
   "cell_type": "code",
   "execution_count": 175,
   "metadata": {
    "collapsed": false
   },
   "outputs": [
    {
     "ename": "AssertionError",
     "evalue": "",
     "output_type": "error",
     "traceback": [
      "\u001b[0;31m---------------------------------------------------------------------------\u001b[0m",
      "\u001b[0;31mAssertionError\u001b[0m                            Traceback (most recent call last)",
      "\u001b[0;32m<ipython-input-175-0633b1762776>\u001b[0m in \u001b[0;36m<module>\u001b[0;34m()\u001b[0m\n\u001b[0;32m----> 1\u001b[0;31m \u001b[0;32massert\u001b[0m \u001b[0mspam\u001b[0m \u001b[0;34m<\u001b[0m \u001b[0;36m10\u001b[0m\u001b[0;34m\u001b[0m\u001b[0m\n\u001b[0m",
      "\u001b[0;31mAssertionError\u001b[0m: "
     ]
    }
   ],
   "source": [
    "assert spam < 10"
   ]
  },
  {
   "cell_type": "markdown",
   "metadata": {},
   "source": [
    "    2. Write an assert statement that triggers an AssertionError if the variables eggs and bacon contain strings that are the same as each other, even if their cases are different(that is, 'hello' and 'hello' are considered the same, and 'goodbye' and 'GOODbye' are also considered the same)."
   ]
  },
  {
   "cell_type": "code",
   "execution_count": 172,
   "metadata": {
    "collapsed": true
   },
   "outputs": [],
   "source": [
    "eggs = 'eggs'\n",
    "bacon = 'Eggs'"
   ]
  },
  {
   "cell_type": "code",
   "execution_count": 173,
   "metadata": {
    "collapsed": false
   },
   "outputs": [],
   "source": [
    "assert eggs.lower() == bacon.lower()"
   ]
  },
  {
   "cell_type": "markdown",
   "metadata": {},
   "source": [
    "    3. Write an assert statement that always triggers an AssertionError."
   ]
  },
  {
   "cell_type": "markdown",
   "metadata": {},
   "source": [
    "### Debuggin Con Toss"
   ]
  },
  {
   "cell_type": "code",
   "execution_count": 198,
   "metadata": {
    "collapsed": false
   },
   "outputs": [
    {
     "name": "stdout",
     "output_type": "stream",
     "text": [
      "heads\n",
      "tails\n"
     ]
    }
   ],
   "source": [
    "import random\n",
    "guess = ''\n",
    "\n",
    "while guess not in ('heads', 'tails'):\n",
    "    print('Guess the coin toss! Enter heads or tails:')\n",
    "    guess = raw_input()\n",
    "toss = random.randint(0, 1)\n",
    "if toss == guess:\n",
    "    print('You got it!')\n",
    "else:\n",
    "    print('Nope! Guess again!')\n",
    "    guess = raw_input()\n",
    "    if toss == guess:\n",
    "        print('You got it!')\n",
    "    else:\n",
    "        print('Nope. You are really bad at this game.')"
   ]
  },
  {
   "cell_type": "markdown",
   "metadata": {},
   "source": [
    "#### 동전 맞추기 Logic\n",
    "\n",
    "1. 사용자에게 앞면인지 뒷면인지 맞춰보라고 알린다.\n",
    "2. 사용자의 입력을 받는다.\n",
    "3. 사용자의 입력과 동전의 면이 일치하는지 확인한다.\n",
    "4. 동일하다면 축하하고 2번 실패하면 미안하다고 종료한다."
   ]
  },
  {
   "cell_type": "code",
   "execution_count": 16,
   "metadata": {
    "collapsed": false
   },
   "outputs": [
    {
     "name": "stdout",
     "output_type": "stream",
     "text": [
      "Overwriting test_debug.py\n"
     ]
    }
   ],
   "source": [
    "%%writefile test_debug.py\n",
    "import random\n",
    "guess = ''\n",
    "\n",
    "while guess not in ('heads', 'tails'):\n",
    "    print('Guess the coin toss! Enter heads or tails:')\n",
    "    guess = raw_input()\n",
    "toss = random.randint(0, 1)\n",
    "\n",
    "def return_guess(guess):\n",
    "    if guess == 'heads':\n",
    "        guess = 1\n",
    "    else:\n",
    "        guess = 0\n",
    "    return guess\n",
    "guess = return_guess(guess)\n",
    "    \n",
    "if toss == guess:\n",
    "    print('You got it!')\n",
    "else:\n",
    "    print('Nope! Guess again!')\n",
    "    guess = raw_input()\n",
    "    if toss == return_guess(guess):\n",
    "        print('You got it!')\n",
    "    else:\n",
    "        print('Nope. You are really bad at this game.')"
   ]
  },
  {
   "cell_type": "code",
   "execution_count": 22,
   "metadata": {
    "collapsed": false
   },
   "outputs": [
    {
     "name": "stdout",
     "output_type": "stream",
     "text": [
      "Guess the coin toss! Enter heads or tails:\n",
      "tails\n",
      "Nope! Guess again!\n",
      "heads\n",
      "You got it!\n"
     ]
    }
   ],
   "source": [
    "%run test_debug.py"
   ]
  }
 ],
 "metadata": {
  "kernelspec": {
   "display_name": "Python 2",
   "language": "python",
   "name": "python2"
  },
  "language_info": {
   "codemirror_mode": {
    "name": "ipython",
    "version": 2
   },
   "file_extension": ".py",
   "mimetype": "text/x-python",
   "name": "python",
   "nbconvert_exporter": "python",
   "pygments_lexer": "ipython2",
   "version": "2.7.6"
  }
 },
 "nbformat": 4,
 "nbformat_minor": 0
}
