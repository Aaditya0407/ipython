{
 "cells": [
  {
   "cell_type": "markdown",
   "metadata": {},
   "source": [
    "# ch15 Keeping Time, Scheduling Tasks, and Launching Programs"
   ]
  },
  {
   "cell_type": "markdown",
   "metadata": {},
   "source": [
    "## Keeping Time, Scheduling Tasks, and Launching Programs\n",
    "\n",
    "- 내가 꼭 컴퓨터 앞에 앉아 있어야 하는가? 라는 고찰\n",
    "- 내가 컴퓨터 앞에 없어도 시간이 되면 알아서 실행이 되고 알아서 결과고 메일로 날라오는 자동화 시스템이 내가 꿈꾸는 것\n",
    "- time, datetime 모듈이 이러한 기능들을 지원해준다."
   ]
  },
  {
   "cell_type": "markdown",
   "metadata": {},
   "source": [
    "## The time Module\n",
    "\n",
    "- time.time()\n",
    "- time.sleep()"
   ]
  },
  {
   "cell_type": "markdown",
   "metadata": {},
   "source": [
    "### The time.time() Function\n",
    "\n",
    "- Unix epoch\n",
    "- 12 AM on January 1, 1970\n",
    "- UTC(Universal Time)\n",
    "- [협정 세계시 \\- 위키백과, 우리 모두의 백과사전](http://ko.wikipedia.org/wiki/협정_세계시): UTC - Coordinated Universal Time: 왜 거꾸로 됐는가?\n",
    "- [Coordinated Universal Time \\- Wikipedia, the free encyclopedia](http://en.wikipedia.org/wiki/Coordinated_Universal_Time)"
   ]
  },
  {
   "cell_type": "code",
   "execution_count": 1,
   "metadata": {
    "collapsed": true
   },
   "outputs": [],
   "source": [
    "import time"
   ]
  },
  {
   "cell_type": "code",
   "execution_count": 4,
   "metadata": {
    "collapsed": false
   },
   "outputs": [
    {
     "data": {
      "text/plain": [
       "1433658332.146624"
      ]
     },
     "execution_count": 4,
     "metadata": {},
     "output_type": "execute_result"
    }
   ],
   "source": [
    "time.time()"
   ]
  },
  {
   "cell_type": "code",
   "execution_count": 5,
   "metadata": {
    "collapsed": false
   },
   "outputs": [
    {
     "data": {
      "text/plain": [
       "1433658333.241262"
      ]
     },
     "execution_count": 5,
     "metadata": {},
     "output_type": "execute_result"
    }
   ],
   "source": [
    "time.time()"
   ]
  },
  {
   "cell_type": "code",
   "execution_count": 9,
   "metadata": {
    "collapsed": false
   },
   "outputs": [
    {
     "name": "stdout",
     "output_type": "stream",
     "text": [
      "The result is 456569 digits long.\n",
      "Took 3.18268203735 seconds to calculate.\n"
     ]
    }
   ],
   "source": [
    "import time\n",
    "\n",
    "def calcProd():\n",
    "    # Calculate the product of the first 100,000 numbers.\n",
    "    product = 1\n",
    "    for i in range(1, 100000):\n",
    "        product *= i\n",
    "    return product\n",
    "\n",
    "startTime = time.time()\n",
    "prod = calcProd()\n",
    "endTime = time.time()\n",
    "\n",
    "print('The result is {} digits long.'.format(len(str(prod))))\n",
    "print('Took {} seconds to calculate.'.format(endTime - startTime))"
   ]
  },
  {
   "cell_type": "markdown",
   "metadata": {},
   "source": [
    "- [27.4. The Python Profilers — Python 3.4.3 documentation](https://docs.python.org/3/library/profile.html): profiler가 더 좋은 방법"
   ]
  },
  {
   "cell_type": "code",
   "execution_count": 10,
   "metadata": {
    "collapsed": false
   },
   "outputs": [
    {
     "name": "stdout",
     "output_type": "stream",
     "text": [
      "Writing profile_calc.py\n"
     ]
    }
   ],
   "source": [
    "%%writefile profile_calc.py\n",
    "def calcProd():\n",
    "    # Calculate the product of the first 100,000 numbers.\n",
    "    product = 1\n",
    "    for i in range(1, 100000):\n",
    "        product *= i\n",
    "    return product\n",
    "\n",
    "prod = calcProd()\n",
    "\n",
    "print('The result is {} digits long.'.format(len(str(prod))))"
   ]
  },
  {
   "cell_type": "code",
   "execution_count": 11,
   "metadata": {
    "collapsed": false
   },
   "outputs": [
    {
     "name": "stdout",
     "output_type": "stream",
     "text": [
      "The result is 456569 digits long.\r\n",
      "         6 function calls in 6.085 seconds\r\n",
      "\r\n",
      "   Ordered by: standard name\r\n",
      "\r\n",
      "   ncalls  tottime  percall  cumtime  percall filename:lineno(function)\r\n",
      "        1    2.863    2.863    6.085    6.085 profile_calc.py:1(<module>)\r\n",
      "        1    3.220    3.220    3.222    3.222 profile_calc.py:1(calcProd)\r\n",
      "        1    0.000    0.000    0.000    0.000 {len}\r\n",
      "        1    0.000    0.000    0.000    0.000 {method 'disable' of '_lsprof.Profiler' objects}\r\n",
      "        1    0.000    0.000    0.000    0.000 {method 'format' of 'str' objects}\r\n",
      "        1    0.002    0.002    0.002    0.002 {range}\r\n",
      "\r\n",
      "\r\n"
     ]
    }
   ],
   "source": [
    "!python -m cProfile profile_calc.py"
   ]
  },
  {
   "cell_type": "code",
   "execution_count": 12,
   "metadata": {
    "collapsed": false
   },
   "outputs": [
    {
     "name": "stdout",
     "output_type": "stream",
     "text": [
      "The result is 456569 digits long.\r\n",
      "         6 function calls in 6.075 seconds\r\n",
      "\r\n",
      "   Ordered by: standard name\r\n",
      "\r\n",
      "   ncalls  tottime  percall  cumtime  percall filename:lineno(function)\r\n",
      "        1    2.866    2.866    6.075    6.075 profile_calc.py:1(<module>)\r\n",
      "        1    3.207    3.207    3.209    3.209 profile_calc.py:1(calcProd)\r\n",
      "        1    0.000    0.000    0.000    0.000 {len}\r\n",
      "        1    0.000    0.000    0.000    0.000 {method 'disable' of '_lsprof.Profiler' objects}\r\n",
      "        1    0.000    0.000    0.000    0.000 {method 'format' of 'str' objects}\r\n",
      "        1    0.002    0.002    0.002    0.002 {range}\r\n",
      "\r\n",
      "\r\n"
     ]
    }
   ],
   "source": [
    "!python -m cProfile profile_calc.py"
   ]
  },
  {
   "cell_type": "markdown",
   "metadata": {},
   "source": [
    "### The time.sleep() Function"
   ]
  },
  {
   "cell_type": "code",
   "execution_count": 13,
   "metadata": {
    "collapsed": true
   },
   "outputs": [],
   "source": [
    "import time"
   ]
  },
  {
   "cell_type": "code",
   "execution_count": 14,
   "metadata": {
    "collapsed": false
   },
   "outputs": [
    {
     "name": "stdout",
     "output_type": "stream",
     "text": [
      "Tick\n",
      "Tock\n",
      "Tick\n",
      "Tock\n",
      "Tick\n",
      "Tock\n"
     ]
    }
   ],
   "source": [
    "for i in range(3):\n",
    "    print('Tick')\n",
    "    time.sleep(1)\n",
    "    print('Tock')\n",
    "    time.sleep(1)"
   ]
  },
  {
   "cell_type": "markdown",
   "metadata": {},
   "source": [
    "## Rounding Numbers"
   ]
  },
  {
   "cell_type": "code",
   "execution_count": 15,
   "metadata": {
    "collapsed": true
   },
   "outputs": [],
   "source": [
    "import time"
   ]
  },
  {
   "cell_type": "code",
   "execution_count": 16,
   "metadata": {
    "collapsed": true
   },
   "outputs": [],
   "source": [
    "now = time.time()"
   ]
  },
  {
   "cell_type": "code",
   "execution_count": 17,
   "metadata": {
    "collapsed": false
   },
   "outputs": [
    {
     "data": {
      "text/plain": [
       "1433659402.314365"
      ]
     },
     "execution_count": 17,
     "metadata": {},
     "output_type": "execute_result"
    }
   ],
   "source": [
    "now"
   ]
  },
  {
   "cell_type": "code",
   "execution_count": 18,
   "metadata": {
    "collapsed": false
   },
   "outputs": [
    {
     "data": {
      "text/plain": [
       "1433659402.31"
      ]
     },
     "execution_count": 18,
     "metadata": {},
     "output_type": "execute_result"
    }
   ],
   "source": [
    "round(now, 2)"
   ]
  },
  {
   "cell_type": "code",
   "execution_count": 19,
   "metadata": {
    "collapsed": false
   },
   "outputs": [
    {
     "data": {
      "text/plain": [
       "1433659402.3144"
      ]
     },
     "execution_count": 19,
     "metadata": {},
     "output_type": "execute_result"
    }
   ],
   "source": [
    "round(now, 4)"
   ]
  },
  {
   "cell_type": "code",
   "execution_count": 20,
   "metadata": {
    "collapsed": false
   },
   "outputs": [
    {
     "data": {
      "text/plain": [
       "1433659402.0"
      ]
     },
     "execution_count": 20,
     "metadata": {},
     "output_type": "execute_result"
    }
   ],
   "source": [
    "round(now)"
   ]
  },
  {
   "cell_type": "markdown",
   "metadata": {},
   "source": [
    "## Project: Super Stopwatch\n",
    "\n",
    "### High level Logic\n",
    "\n",
    "- Track the amount of time elapsed between presses of the ENTER key, with each key press starting a new \"lap\" on the timer.\n",
    "- Print the lap number, total time, and lap time.\n",
    "\n",
    "### Code level Logic\n",
    "\n",
    "- Find the current time by calling time.time() and store it as a timestamp at the start of the program, as well as at the start of each lap.\n",
    "- Keep a lap counter and increment it every time the user presses ENTER.\n",
    "- Calculate the elapsed tiem by subtracting timestamps.\n",
    "- Handle the KeyboardInterrupt exception so ther user can press CTRL-C to quit."
   ]
  },
  {
   "cell_type": "markdown",
   "metadata": {},
   "source": [
    "### Step 1: Set Up the Program to Track Times"
   ]
  },
  {
   "cell_type": "code",
   "execution_count": 21,
   "metadata": {
    "collapsed": false
   },
   "outputs": [
    {
     "name": "stdout",
     "output_type": "stream",
     "text": [
      "Press ENTER to begin. Afeterwards, press ENTER to \"click\" the stopwatch. Press Ctrl-C to quit.\n",
      "\n",
      "Started.\n"
     ]
    }
   ],
   "source": [
    "import time\n",
    "\n",
    "# Display the program's instructions.\n",
    "print('Press ENTER to begin. Afeterwards, press ENTER to \"click\" the stopwatch. Press Ctrl-C to quit.')\n",
    "raw_input() # press Enter to begin\n",
    "print('Started.')\n",
    "startTime = time.time() # get the first lap's start time\n",
    "lastTime = startTime\n",
    "lapNum = 1\n",
    "\n",
    "# TODO: Start tracking the lap times."
   ]
  },
  {
   "cell_type": "markdown",
   "metadata": {},
   "source": [
    "### Step 2: Track and Print Lap Times"
   ]
  },
  {
   "cell_type": "code",
   "execution_count": 25,
   "metadata": {
    "collapsed": false
   },
   "outputs": [
    {
     "name": "stdout",
     "output_type": "stream",
     "text": [
      "Overwriting stopWatch.py\n"
     ]
    }
   ],
   "source": [
    "%%writefile stopWatch.py\n",
    "import time\n",
    "\n",
    "# Display the program's instructions.\n",
    "print('Press ENTER to begin. Afeterwards, press ENTER to \"click\" the stopwatch.')\n",
    "print('Press Ctrl-C to quit.')\n",
    "raw_input() # press Enter to begin\n",
    "print('Started.')\n",
    "startTime = time.time() # get the first lap's start time\n",
    "lastTime = startTime\n",
    "lapNum = 1\n",
    "\n",
    "# TODO: Start tracking the lap times.\n",
    "try:\n",
    "    while True:\n",
    "        raw_input()\n",
    "        lapTime = round(time.time() - lastTime, 2)\n",
    "        totalTime = round(time.time() - startTime, 2)\n",
    "        print('Lap #{}: {} ({})'.format(lapNum, totalTime, lapTime))\n",
    "        lapNum += 1\n",
    "        lastTime = time.time() # reset the last lap time\n",
    "except KeyboardInterrupt:\n",
    "    # Handle the Ctrl-C exception to keep its error message from displaying.\n",
    "    print('\\nDone.')"
   ]
  },
  {
   "cell_type": "code",
   "execution_count": 24,
   "metadata": {
    "collapsed": false
   },
   "outputs": [
    {
     "name": "stdout",
     "output_type": "stream",
     "text": [
      "Press ENTER to begin. Afeterwards, press ENTER to \"click\" the stopwatch. Press Ctrl-C to quit.\n",
      "\n",
      "Started.\n",
      "\n",
      "Lap #1: 1.49 (1.49)\n",
      "\n",
      "Lap #2: 2.76 (1.27)\n",
      "\n",
      "Lap #3: 3.74 (0.98)\n",
      "\n",
      "Lap #4: 4.84 (1.1)\n",
      "\n",
      "Lap #5: 8.38 (3.54)\n",
      "quit\n",
      "Lap #6: 9.31 (0.93)\n",
      "\n",
      "Lap #7: 10.32 (1.01)\n",
      "\n",
      "Lap #8: 11.24 (0.92)\n",
      "\n",
      "Lap #9: 11.95 (0.71)\n",
      "\n",
      "Lap #10: 14.12 (2.17)\n",
      "\n",
      "Lap #11: 22.1 (7.98)\n",
      "\n",
      "Done.\n"
     ]
    }
   ],
   "source": [
    "%run stopWatch.py"
   ]
  },
  {
   "cell_type": "markdown",
   "metadata": {},
   "source": [
    "### Ideas for Similar Programs\n",
    "\n",
    "- Create a simple timesheet app that records when you type a person's name and uses the current time to clock them in or out.\n",
    "- 간단한 timesheet app을 만든다. 그것은 네가 사람의 이름을 입력할 때 기록한다. 그것은 현재 시간을 사용해서 기록한다.\n",
    "- Add a feature to your program to display the elapsed time since a process started, such as a download that uses the requests module. (See Chapter 11)\n",
    "- 너의 프로그램에 지나간 시간을 기록하는 기능을 추가한다. 프로그램이 실행된 후로. requests module을 사용해서 다운로드하는 프로그램 같은거\n",
    "- Intermittently check how long a program has been running and offer the user a chance to cancel tasks that are taking too long.\n",
    "- 간헐적으로 확인한다. 프로그램이 얼마나 실행됐고 많은 임무가 실행됐다면 임무를 취소할 수 있게 제공한다."
   ]
  },
  {
   "cell_type": "markdown",
   "metadata": {},
   "source": [
    "## The datetime Module"
   ]
  },
  {
   "cell_type": "code",
   "execution_count": 26,
   "metadata": {
    "collapsed": true
   },
   "outputs": [],
   "source": [
    "import datetime"
   ]
  },
  {
   "cell_type": "code",
   "execution_count": 27,
   "metadata": {
    "collapsed": false
   },
   "outputs": [
    {
     "data": {
      "text/plain": [
       "datetime.datetime(2015, 6, 7, 16, 16, 59, 992141)"
      ]
     },
     "execution_count": 27,
     "metadata": {},
     "output_type": "execute_result"
    }
   ],
   "source": [
    "datetime.datetime.now()"
   ]
  },
  {
   "cell_type": "code",
   "execution_count": 36,
   "metadata": {
    "collapsed": false
   },
   "outputs": [
    {
     "data": {
      "text/plain": [
       "datetime.datetime(2015, 10, 21, 16, 29)"
      ]
     },
     "execution_count": 36,
     "metadata": {},
     "output_type": "execute_result"
    }
   ],
   "source": [
    "dt = datetime.datetime(2015, 10, 21, 16, 29, 0)\n",
    "dt"
   ]
  },
  {
   "cell_type": "code",
   "execution_count": 29,
   "metadata": {
    "collapsed": false
   },
   "outputs": [
    {
     "data": {
      "text/plain": [
       "(2015, 10, 21)"
      ]
     },
     "execution_count": 29,
     "metadata": {},
     "output_type": "execute_result"
    }
   ],
   "source": [
    "dt.year, dt.month, dt.day"
   ]
  },
  {
   "cell_type": "code",
   "execution_count": 30,
   "metadata": {
    "collapsed": false
   },
   "outputs": [
    {
     "data": {
      "text/plain": [
       "(16, 29, 0)"
      ]
     },
     "execution_count": 30,
     "metadata": {},
     "output_type": "execute_result"
    }
   ],
   "source": [
    "dt.hour, dt.minute, dt.second"
   ]
  },
  {
   "cell_type": "code",
   "execution_count": 32,
   "metadata": {
    "collapsed": false
   },
   "outputs": [
    {
     "data": {
      "text/plain": [
       "datetime.datetime(1970, 1, 12, 22, 46, 40)"
      ]
     },
     "execution_count": 32,
     "metadata": {},
     "output_type": "execute_result"
    }
   ],
   "source": [
    "datetime.datetime.fromtimestamp(1000000)"
   ]
  },
  {
   "cell_type": "code",
   "execution_count": 33,
   "metadata": {
    "collapsed": false
   },
   "outputs": [
    {
     "data": {
      "text/plain": [
       "datetime.datetime(2015, 6, 7, 16, 19, 26, 638347)"
      ]
     },
     "execution_count": 33,
     "metadata": {},
     "output_type": "execute_result"
    }
   ],
   "source": [
    "datetime.datetime.fromtimestamp(time.time())"
   ]
  },
  {
   "cell_type": "code",
   "execution_count": 34,
   "metadata": {
    "collapsed": true
   },
   "outputs": [],
   "source": [
    "dt = datetime.datetime(2015, 10, 21, 16, 29, 0, 638347)"
   ]
  },
  {
   "cell_type": "code",
   "execution_count": 35,
   "metadata": {
    "collapsed": false
   },
   "outputs": [
    {
     "data": {
      "text/plain": [
       "datetime.datetime(2015, 10, 21, 16, 29, 0, 638347)"
      ]
     },
     "execution_count": 35,
     "metadata": {},
     "output_type": "execute_result"
    }
   ],
   "source": [
    "dt"
   ]
  },
  {
   "cell_type": "code",
   "execution_count": 38,
   "metadata": {
    "collapsed": false
   },
   "outputs": [
    {
     "name": "stdout",
     "output_type": "stream",
     "text": [
      "Help on class datetime in module datetime:\n",
      "\n",
      "class datetime(date)\n",
      " |  datetime(year, month, day[, hour[, minute[, second[, microsecond[,tzinfo]]]]])\n",
      " |  \n",
      " |  The year, month and day arguments are required. tzinfo may be None, or an\n",
      " |  instance of a tzinfo subclass. The remaining arguments may be ints or longs.\n",
      " |  \n",
      " |  Method resolution order:\n",
      " |      datetime\n",
      " |      date\n",
      " |      __builtin__.object\n",
      " |  \n",
      " |  Methods defined here:\n",
      " |  \n",
      " |  __add__(...)\n",
      " |      x.__add__(y) <==> x+y\n",
      " |  \n",
      " |  __eq__(...)\n",
      " |      x.__eq__(y) <==> x==y\n",
      " |  \n",
      " |  __ge__(...)\n",
      " |      x.__ge__(y) <==> x>=y\n",
      " |  \n",
      " |  __getattribute__(...)\n",
      " |      x.__getattribute__('name') <==> x.name\n",
      " |  \n",
      " |  __gt__(...)\n",
      " |      x.__gt__(y) <==> x>y\n",
      " |  \n",
      " |  __hash__(...)\n",
      " |      x.__hash__() <==> hash(x)\n",
      " |  \n",
      " |  __le__(...)\n",
      " |      x.__le__(y) <==> x<=y\n",
      " |  \n",
      " |  __lt__(...)\n",
      " |      x.__lt__(y) <==> x<y\n",
      " |  \n",
      " |  __ne__(...)\n",
      " |      x.__ne__(y) <==> x!=y\n",
      " |  \n",
      " |  __radd__(...)\n",
      " |      x.__radd__(y) <==> y+x\n",
      " |  \n",
      " |  __reduce__(...)\n",
      " |      __reduce__() -> (cls, state)\n",
      " |  \n",
      " |  __repr__(...)\n",
      " |      x.__repr__() <==> repr(x)\n",
      " |  \n",
      " |  __rsub__(...)\n",
      " |      x.__rsub__(y) <==> y-x\n",
      " |  \n",
      " |  __str__(...)\n",
      " |      x.__str__() <==> str(x)\n",
      " |  \n",
      " |  __sub__(...)\n",
      " |      x.__sub__(y) <==> x-y\n",
      " |  \n",
      " |  astimezone(...)\n",
      " |      tz -> convert to local time in new timezone tz\n",
      " |  \n",
      " |  combine(...)\n",
      " |      date, time -> datetime with same date and time fields\n",
      " |  \n",
      " |  ctime(...)\n",
      " |      Return ctime() style string.\n",
      " |  \n",
      " |  date(...)\n",
      " |      Return date object with same year, month and day.\n",
      " |  \n",
      " |  dst(...)\n",
      " |      Return self.tzinfo.dst(self).\n",
      " |  \n",
      " |  fromtimestamp(...)\n",
      " |      timestamp[, tz] -> tz's local time from POSIX timestamp.\n",
      " |  \n",
      " |  isoformat(...)\n",
      " |      [sep] -> string in ISO 8601 format, YYYY-MM-DDTHH:MM:SS[.mmmmmm][+HH:MM].\n",
      " |      \n",
      " |      sep is used to separate the year from the time, and defaults to 'T'.\n",
      " |  \n",
      " |  now(...)\n",
      " |      [tz] -> new datetime with tz's local day and time.\n",
      " |  \n",
      " |  replace(...)\n",
      " |      Return datetime with new specified fields.\n",
      " |  \n",
      " |  strptime(...)\n",
      " |      string, format -> new datetime parsed from a string (like time.strptime()).\n",
      " |  \n",
      " |  time(...)\n",
      " |      Return time object with same time but with tzinfo=None.\n",
      " |  \n",
      " |  timetuple(...)\n",
      " |      Return time tuple, compatible with time.localtime().\n",
      " |  \n",
      " |  timetz(...)\n",
      " |      Return time object with same time and tzinfo.\n",
      " |  \n",
      " |  tzname(...)\n",
      " |      Return self.tzinfo.tzname(self).\n",
      " |  \n",
      " |  utcfromtimestamp(...)\n",
      " |      timestamp -> UTC datetime from a POSIX timestamp (like time.time()).\n",
      " |  \n",
      " |  utcnow(...)\n",
      " |      Return a new datetime representing UTC day and time.\n",
      " |  \n",
      " |  utcoffset(...)\n",
      " |      Return self.tzinfo.utcoffset(self).\n",
      " |  \n",
      " |  utctimetuple(...)\n",
      " |      Return UTC time tuple, compatible with time.localtime().\n",
      " |  \n",
      " |  ----------------------------------------------------------------------\n",
      " |  Data descriptors defined here:\n",
      " |  \n",
      " |  hour\n",
      " |  \n",
      " |  microsecond\n",
      " |  \n",
      " |  minute\n",
      " |  \n",
      " |  second\n",
      " |  \n",
      " |  tzinfo\n",
      " |  \n",
      " |  ----------------------------------------------------------------------\n",
      " |  Data and other attributes defined here:\n",
      " |  \n",
      " |  __new__ = <built-in method __new__ of type object>\n",
      " |      T.__new__(S, ...) -> a new object with type S, a subtype of T\n",
      " |  \n",
      " |  max = datetime.datetime(9999, 12, 31, 23, 59, 59, 999999)\n",
      " |  \n",
      " |  min = datetime.datetime(1, 1, 1, 0, 0)\n",
      " |  \n",
      " |  resolution = datetime.timedelta(0, 0, 1)\n",
      " |  \n",
      " |  ----------------------------------------------------------------------\n",
      " |  Methods inherited from date:\n",
      " |  \n",
      " |  __format__(...)\n",
      " |      Formats self with strftime.\n",
      " |  \n",
      " |  fromordinal(...)\n",
      " |      int -> date corresponding to a proleptic Gregorian ordinal.\n",
      " |  \n",
      " |  isocalendar(...)\n",
      " |      Return a 3-tuple containing ISO year, week number, and weekday.\n",
      " |  \n",
      " |  isoweekday(...)\n",
      " |      Return the day of the week represented by the date.\n",
      " |      Monday == 1 ... Sunday == 7\n",
      " |  \n",
      " |  strftime(...)\n",
      " |      format -> strftime() style string.\n",
      " |  \n",
      " |  today(...)\n",
      " |      Current date or datetime:  same as self.__class__.fromtimestamp(time.time()).\n",
      " |  \n",
      " |  toordinal(...)\n",
      " |      Return proleptic Gregorian ordinal.  January 1 of year 1 is day 1.\n",
      " |  \n",
      " |  weekday(...)\n",
      " |      Return the day of the week represented by the date.\n",
      " |      Monday == 0 ... Sunday == 6\n",
      " |  \n",
      " |  ----------------------------------------------------------------------\n",
      " |  Data descriptors inherited from date:\n",
      " |  \n",
      " |  day\n",
      " |  \n",
      " |  month\n",
      " |  \n",
      " |  year\n",
      "\n"
     ]
    }
   ],
   "source": [
    "# microsecond\n",
    "help(datetime.datetime)"
   ]
  },
  {
   "cell_type": "code",
   "execution_count": 39,
   "metadata": {
    "collapsed": true
   },
   "outputs": [],
   "source": [
    "halloween2015 = datetime.datetime(2015, 10, 31, 0, 0, 0)"
   ]
  },
  {
   "cell_type": "code",
   "execution_count": 40,
   "metadata": {
    "collapsed": true
   },
   "outputs": [],
   "source": [
    "newyears2016 = datetime.datetime(2016, 1, 1, 0, 0, 0)"
   ]
  },
  {
   "cell_type": "code",
   "execution_count": 41,
   "metadata": {
    "collapsed": true
   },
   "outputs": [],
   "source": [
    "oct_31_2015 = datetime.datetime(2015, 10, 31, 0, 0, 0)"
   ]
  },
  {
   "cell_type": "code",
   "execution_count": 42,
   "metadata": {
    "collapsed": false
   },
   "outputs": [
    {
     "data": {
      "text/plain": [
       "True"
      ]
     },
     "execution_count": 42,
     "metadata": {},
     "output_type": "execute_result"
    }
   ],
   "source": [
    "halloween2015 == oct_31_2015"
   ]
  },
  {
   "cell_type": "code",
   "execution_count": 43,
   "metadata": {
    "collapsed": false
   },
   "outputs": [
    {
     "data": {
      "text/plain": [
       "True"
      ]
     },
     "execution_count": 43,
     "metadata": {},
     "output_type": "execute_result"
    }
   ],
   "source": [
    "newyears2016 > halloween2015"
   ]
  },
  {
   "cell_type": "code",
   "execution_count": 44,
   "metadata": {
    "collapsed": false
   },
   "outputs": [
    {
     "data": {
      "text/plain": [
       "True"
      ]
     },
     "execution_count": 44,
     "metadata": {},
     "output_type": "execute_result"
    }
   ],
   "source": [
    "newyears2016 != oct_31_2015"
   ]
  },
  {
   "cell_type": "markdown",
   "metadata": {},
   "source": [
    "### The timedelta Data Type\n",
    "\n",
    "- duration"
   ]
  },
  {
   "cell_type": "code",
   "execution_count": 50,
   "metadata": {
    "collapsed": false
   },
   "outputs": [
    {
     "name": "stdout",
     "output_type": "stream",
     "text": [
      "Help on class timedelta in module datetime:\n",
      "\n",
      "class timedelta(__builtin__.object)\n",
      " |  Difference between two datetime values.\n",
      " |  \n",
      " |  Methods defined here:\n",
      " |  \n",
      " |  __abs__(...)\n",
      " |      x.__abs__() <==> abs(x)\n",
      " |  \n",
      " |  __add__(...)\n",
      " |      x.__add__(y) <==> x+y\n",
      " |  \n",
      " |  __div__(...)\n",
      " |      x.__div__(y) <==> x/y\n",
      " |  \n",
      " |  __eq__(...)\n",
      " |      x.__eq__(y) <==> x==y\n",
      " |  \n",
      " |  __floordiv__(...)\n",
      " |      x.__floordiv__(y) <==> x//y\n",
      " |  \n",
      " |  __ge__(...)\n",
      " |      x.__ge__(y) <==> x>=y\n",
      " |  \n",
      " |  __getattribute__(...)\n",
      " |      x.__getattribute__('name') <==> x.name\n",
      " |  \n",
      " |  __gt__(...)\n",
      " |      x.__gt__(y) <==> x>y\n",
      " |  \n",
      " |  __hash__(...)\n",
      " |      x.__hash__() <==> hash(x)\n",
      " |  \n",
      " |  __le__(...)\n",
      " |      x.__le__(y) <==> x<=y\n",
      " |  \n",
      " |  __lt__(...)\n",
      " |      x.__lt__(y) <==> x<y\n",
      " |  \n",
      " |  __mul__(...)\n",
      " |      x.__mul__(y) <==> x*y\n",
      " |  \n",
      " |  __ne__(...)\n",
      " |      x.__ne__(y) <==> x!=y\n",
      " |  \n",
      " |  __neg__(...)\n",
      " |      x.__neg__() <==> -x\n",
      " |  \n",
      " |  __nonzero__(...)\n",
      " |      x.__nonzero__() <==> x != 0\n",
      " |  \n",
      " |  __pos__(...)\n",
      " |      x.__pos__() <==> +x\n",
      " |  \n",
      " |  __radd__(...)\n",
      " |      x.__radd__(y) <==> y+x\n",
      " |  \n",
      " |  __rdiv__(...)\n",
      " |      x.__rdiv__(y) <==> y/x\n",
      " |  \n",
      " |  __reduce__(...)\n",
      " |      __reduce__() -> (cls, state)\n",
      " |  \n",
      " |  __repr__(...)\n",
      " |      x.__repr__() <==> repr(x)\n",
      " |  \n",
      " |  __rfloordiv__(...)\n",
      " |      x.__rfloordiv__(y) <==> y//x\n",
      " |  \n",
      " |  __rmul__(...)\n",
      " |      x.__rmul__(y) <==> y*x\n",
      " |  \n",
      " |  __rsub__(...)\n",
      " |      x.__rsub__(y) <==> y-x\n",
      " |  \n",
      " |  __str__(...)\n",
      " |      x.__str__() <==> str(x)\n",
      " |  \n",
      " |  __sub__(...)\n",
      " |      x.__sub__(y) <==> x-y\n",
      " |  \n",
      " |  total_seconds(...)\n",
      " |      Total seconds in the duration.\n",
      " |  \n",
      " |  ----------------------------------------------------------------------\n",
      " |  Data descriptors defined here:\n",
      " |  \n",
      " |  days\n",
      " |      Number of days.\n",
      " |  \n",
      " |  microseconds\n",
      " |      Number of microseconds (>= 0 and less than 1 second).\n",
      " |  \n",
      " |  seconds\n",
      " |      Number of seconds (>= 0 and less than 1 day).\n",
      " |  \n",
      " |  ----------------------------------------------------------------------\n",
      " |  Data and other attributes defined here:\n",
      " |  \n",
      " |  __new__ = <built-in method __new__ of type object>\n",
      " |      T.__new__(S, ...) -> a new object with type S, a subtype of T\n",
      " |  \n",
      " |  max = datetime.timedelta(999999999, 86399, 999999)\n",
      " |  \n",
      " |  min = datetime.timedelta(-999999999)\n",
      " |  \n",
      " |  resolution = datetime.timedelta(0, 0, 1)\n",
      "\n"
     ]
    }
   ],
   "source": [
    "help(datetime.timedelta)"
   ]
  },
  {
   "cell_type": "code",
   "execution_count": 45,
   "metadata": {
    "collapsed": true
   },
   "outputs": [],
   "source": [
    "delta = datetime.timedelta(days=11, hours=10, minutes=9, seconds=8)"
   ]
  },
  {
   "cell_type": "code",
   "execution_count": 46,
   "metadata": {
    "collapsed": false
   },
   "outputs": [
    {
     "data": {
      "text/plain": [
       "(11, 36548, 0)"
      ]
     },
     "execution_count": 46,
     "metadata": {},
     "output_type": "execute_result"
    }
   ],
   "source": [
    "delta.days, delta.seconds, delta.microseconds"
   ]
  },
  {
   "cell_type": "code",
   "execution_count": 47,
   "metadata": {
    "collapsed": false
   },
   "outputs": [
    {
     "data": {
      "text/plain": [
       "datetime.timedelta(11, 36548)"
      ]
     },
     "execution_count": 47,
     "metadata": {},
     "output_type": "execute_result"
    }
   ],
   "source": [
    "delta"
   ]
  },
  {
   "cell_type": "code",
   "execution_count": 48,
   "metadata": {
    "collapsed": false
   },
   "outputs": [
    {
     "data": {
      "text/plain": [
       "986948.0"
      ]
     },
     "execution_count": 48,
     "metadata": {},
     "output_type": "execute_result"
    }
   ],
   "source": [
    "delta.total_seconds()"
   ]
  },
  {
   "cell_type": "code",
   "execution_count": 49,
   "metadata": {
    "collapsed": false
   },
   "outputs": [
    {
     "data": {
      "text/plain": [
       "'11 days, 10:09:08'"
      ]
     },
     "execution_count": 49,
     "metadata": {},
     "output_type": "execute_result"
    }
   ],
   "source": [
    "str(delta)"
   ]
  },
  {
   "cell_type": "code",
   "execution_count": 51,
   "metadata": {
    "collapsed": false
   },
   "outputs": [
    {
     "data": {
      "text/plain": [
       "datetime.timedelta(18, 36548)"
      ]
     },
     "execution_count": 51,
     "metadata": {},
     "output_type": "execute_result"
    }
   ],
   "source": [
    "# weeks도 있네\n",
    "delta = datetime.timedelta(weeks=1, days=11, hours=10, minutes=9, seconds=8)\n",
    "delta"
   ]
  },
  {
   "cell_type": "markdown",
   "metadata": {},
   "source": [
    "#### date arithmetic on datetime values"
   ]
  },
  {
   "cell_type": "code",
   "execution_count": 53,
   "metadata": {
    "collapsed": false
   },
   "outputs": [
    {
     "data": {
      "text/plain": [
       "datetime.datetime(2015, 6, 7, 16, 50, 36, 673428)"
      ]
     },
     "execution_count": 53,
     "metadata": {},
     "output_type": "execute_result"
    }
   ],
   "source": [
    "dt = datetime.datetime.now()\n",
    "dt"
   ]
  },
  {
   "cell_type": "code",
   "execution_count": 54,
   "metadata": {
    "collapsed": true
   },
   "outputs": [],
   "source": [
    "thousandDays = datetime.timedelta(days=1000)"
   ]
  },
  {
   "cell_type": "code",
   "execution_count": 55,
   "metadata": {
    "collapsed": false
   },
   "outputs": [
    {
     "data": {
      "text/plain": [
       "datetime.datetime(2018, 3, 3, 16, 50, 36, 673428)"
      ]
     },
     "execution_count": 55,
     "metadata": {},
     "output_type": "execute_result"
    }
   ],
   "source": [
    "dt + thousandDays"
   ]
  },
  {
   "cell_type": "code",
   "execution_count": null,
   "metadata": {
    "collapsed": true
   },
   "outputs": [],
   "source": []
  },
  {
   "cell_type": "code",
   "execution_count": 56,
   "metadata": {
    "collapsed": true
   },
   "outputs": [],
   "source": [
    "oct21st = datetime.datetime(2015, 10, 21, 16, 29, 0)"
   ]
  },
  {
   "cell_type": "code",
   "execution_count": 57,
   "metadata": {
    "collapsed": true
   },
   "outputs": [],
   "source": [
    "aboutThirtyYears = datetime.timedelta(days=365 * 30)"
   ]
  },
  {
   "cell_type": "code",
   "execution_count": 58,
   "metadata": {
    "collapsed": false
   },
   "outputs": [
    {
     "data": {
      "text/plain": [
       "datetime.datetime(2015, 10, 21, 16, 29)"
      ]
     },
     "execution_count": 58,
     "metadata": {},
     "output_type": "execute_result"
    }
   ],
   "source": [
    "oct21st"
   ]
  },
  {
   "cell_type": "code",
   "execution_count": 59,
   "metadata": {
    "collapsed": false
   },
   "outputs": [
    {
     "data": {
      "text/plain": [
       "datetime.datetime(1985, 10, 28, 16, 29)"
      ]
     },
     "execution_count": 59,
     "metadata": {},
     "output_type": "execute_result"
    }
   ],
   "source": [
    "oct21st - aboutThirtyYears"
   ]
  },
  {
   "cell_type": "code",
   "execution_count": 62,
   "metadata": {
    "collapsed": false
   },
   "outputs": [
    {
     "data": {
      "text/plain": [
       "datetime.datetime(1955, 11, 5, 16, 29)"
      ]
     },
     "execution_count": 62,
     "metadata": {},
     "output_type": "execute_result"
    }
   ],
   "source": [
    "oct21st - (2*aboutThirtyYears)"
   ]
  },
  {
   "cell_type": "code",
   "execution_count": 60,
   "metadata": {
    "collapsed": false
   },
   "outputs": [
    {
     "data": {
      "text/plain": [
       "datetime.datetime(2045, 10, 13, 16, 29)"
      ]
     },
     "execution_count": 60,
     "metadata": {},
     "output_type": "execute_result"
    }
   ],
   "source": [
    "oct21st + aboutThirtyYears"
   ]
  },
  {
   "cell_type": "markdown",
   "metadata": {},
   "source": [
    "### Pausing Until a Specific Date"
   ]
  },
  {
   "cell_type": "code",
   "execution_count": 63,
   "metadata": {
    "collapsed": true
   },
   "outputs": [],
   "source": [
    "import datetime"
   ]
  },
  {
   "cell_type": "code",
   "execution_count": 64,
   "metadata": {
    "collapsed": true
   },
   "outputs": [],
   "source": [
    "import time"
   ]
  },
  {
   "cell_type": "code",
   "execution_count": 65,
   "metadata": {
    "collapsed": true
   },
   "outputs": [],
   "source": [
    "halloween2016 = datetime.datetime(2016, 10, 31, 0, 0, 0)"
   ]
  },
  {
   "cell_type": "code",
   "execution_count": 68,
   "metadata": {
    "collapsed": false
   },
   "outputs": [
    {
     "ename": "KeyboardInterrupt",
     "evalue": "",
     "output_type": "error",
     "traceback": [
      "\u001b[0;31m---------------------------------------------------------------------------\u001b[0m",
      "\u001b[0;31mKeyboardInterrupt\u001b[0m                         Traceback (most recent call last)",
      "\u001b[0;32m<ipython-input-68-e708ec64b6c3>\u001b[0m in \u001b[0;36m<module>\u001b[0;34m()\u001b[0m\n\u001b[1;32m      1\u001b[0m \u001b[0;32mwhile\u001b[0m \u001b[0mdatetime\u001b[0m\u001b[0;34m.\u001b[0m\u001b[0mdatetime\u001b[0m\u001b[0;34m.\u001b[0m\u001b[0mnow\u001b[0m\u001b[0;34m(\u001b[0m\u001b[0;34m)\u001b[0m \u001b[0;34m<\u001b[0m \u001b[0mhalloween2016\u001b[0m\u001b[0;34m:\u001b[0m\u001b[0;34m\u001b[0m\u001b[0m\n\u001b[0;32m----> 2\u001b[0;31m     \u001b[0mtime\u001b[0m\u001b[0;34m.\u001b[0m\u001b[0msleep\u001b[0m\u001b[0;34m(\u001b[0m\u001b[0;36m1\u001b[0m\u001b[0;34m)\u001b[0m\u001b[0;34m\u001b[0m\u001b[0m\n\u001b[0m",
      "\u001b[0;31mKeyboardInterrupt\u001b[0m: "
     ]
    }
   ],
   "source": [
    "while datetime.datetime.now() < halloween2016:\n",
    "    time.sleep(1)"
   ]
  },
  {
   "cell_type": "markdown",
   "metadata": {},
   "source": [
    "### Converting datetime Objects into Strings\n",
    "\n",
    "- strftime(): datetime object를 string으로 보여주기 위한 메소드. \n",
    "- string format time\n",
    "\n",
    "#### Table 15-1. strftime() Directives\n",
    "\n",
    "strftime directive | Meaning\n",
    "--- | ---\n",
    "%Y | Year with century, as in '2014'\n",
    "%y | Year without century, '00' to '99' (1970 to 2069)\n",
    "%m | Month as a decimal number, '01' to '12'\n",
    "%B | Full month name, as in 'November'\n",
    "%b | Abbreviated month name, as in \"Nov'\n",
    "%d | Day of the month, '01' to '31'\n",
    "%j | Day of the year, '001' to '366'\n",
    "%w | Day of the week, '0' (Sunday) to '6' (Saturday)\n",
    "%A | Full weekday name, as in 'Monday'\n",
    "%a | Abbreviated weekday name, as in 'Mon'\n",
    "%H | Hour(24-hour clock), '00' to '23'\n",
    "%I | Hour(12-hour clock), '01' to '12'\n",
    "%M | Minute, '00' to '59'\n",
    "%S | Second, '00' to '59'\n",
    "%p | 'AM' or 'PM'\n",
    "%% | Literal '%' character"
   ]
  },
  {
   "cell_type": "code",
   "execution_count": 69,
   "metadata": {
    "collapsed": true
   },
   "outputs": [],
   "source": [
    "oct21st = datetime.datetime(2015, 10, 21, 16, 29, 0)"
   ]
  },
  {
   "cell_type": "code",
   "execution_count": 70,
   "metadata": {
    "collapsed": false
   },
   "outputs": [
    {
     "data": {
      "text/plain": [
       "'2015/10/21 16:29:00'"
      ]
     },
     "execution_count": 70,
     "metadata": {},
     "output_type": "execute_result"
    }
   ],
   "source": [
    "oct21st.strftime('%Y/%m/%d %H:%M:%S')"
   ]
  },
  {
   "cell_type": "code",
   "execution_count": 71,
   "metadata": {
    "collapsed": false
   },
   "outputs": [
    {
     "data": {
      "text/plain": [
       "'04:29 PM'"
      ]
     },
     "execution_count": 71,
     "metadata": {},
     "output_type": "execute_result"
    }
   ],
   "source": [
    "oct21st.strftime('%I:%M %p')"
   ]
  },
  {
   "cell_type": "code",
   "execution_count": 72,
   "metadata": {
    "collapsed": false
   },
   "outputs": [
    {
     "data": {
      "text/plain": [
       "\"October of '15\""
      ]
     },
     "execution_count": 72,
     "metadata": {},
     "output_type": "execute_result"
    }
   ],
   "source": [
    "oct21st.strftime(\"%B of '%y\")"
   ]
  },
  {
   "cell_type": "markdown",
   "metadata": {},
   "source": [
    "### Converting Strings into datetime Objects\n",
    "\n",
    "- strptime: str parse time"
   ]
  },
  {
   "cell_type": "code",
   "execution_count": 74,
   "metadata": {
    "collapsed": false
   },
   "outputs": [
    {
     "data": {
      "text/plain": [
       "datetime.datetime(2015, 10, 21, 0, 0)"
      ]
     },
     "execution_count": 74,
     "metadata": {},
     "output_type": "execute_result"
    }
   ],
   "source": [
    "datetime.datetime.strptime('October 21, 2015', '%B %d, %Y')"
   ]
  },
  {
   "cell_type": "code",
   "execution_count": 76,
   "metadata": {
    "collapsed": false
   },
   "outputs": [
    {
     "data": {
      "text/plain": [
       "datetime.datetime(2015, 10, 21, 16, 29)"
      ]
     },
     "execution_count": 76,
     "metadata": {},
     "output_type": "execute_result"
    }
   ],
   "source": [
    "datetime.datetime.strptime('2015/10/21 16:29:00', '%Y/%m/%d %H:%M:%S')"
   ]
  },
  {
   "cell_type": "code",
   "execution_count": 77,
   "metadata": {
    "collapsed": false
   },
   "outputs": [
    {
     "data": {
      "text/plain": [
       "datetime.datetime(2015, 10, 1, 0, 0)"
      ]
     },
     "execution_count": 77,
     "metadata": {},
     "output_type": "execute_result"
    }
   ],
   "source": [
    "datetime.datetime.strptime(\"October of '15\", \"%B of '%y\")"
   ]
  },
  {
   "cell_type": "code",
   "execution_count": 78,
   "metadata": {
    "collapsed": false
   },
   "outputs": [
    {
     "data": {
      "text/plain": [
       "datetime.datetime(2063, 11, 1, 0, 0)"
      ]
     },
     "execution_count": 78,
     "metadata": {},
     "output_type": "execute_result"
    }
   ],
   "source": [
    "datetime.datetime.strptime(\"November of '63\", \"%B of '%y\")"
   ]
  },
  {
   "cell_type": "code",
   "execution_count": 98,
   "metadata": {
    "collapsed": false
   },
   "outputs": [
    {
     "data": {
      "text/plain": [
       "datetime.datetime(2068, 11, 1, 0, 0)"
      ]
     },
     "execution_count": 98,
     "metadata": {},
     "output_type": "execute_result"
    }
   ],
   "source": [
    "# 1970 ~ 2068\n",
    "datetime.datetime.strptime(\"November of '68\", \"%B of '%y\")"
   ]
  },
  {
   "cell_type": "code",
   "execution_count": 97,
   "metadata": {
    "collapsed": false
   },
   "outputs": [
    {
     "data": {
      "text/plain": [
       "datetime.datetime(1969, 11, 1, 0, 0)"
      ]
     },
     "execution_count": 97,
     "metadata": {},
     "output_type": "execute_result"
    }
   ],
   "source": [
    "datetime.datetime.strptime(\"November of '69\", \"%B of '%y\")"
   ]
  },
  {
   "cell_type": "code",
   "execution_count": 99,
   "metadata": {
    "collapsed": false
   },
   "outputs": [
    {
     "ename": "ValueError",
     "evalue": "time data \"November of '6\" does not match format \"%B of '%y\"",
     "output_type": "error",
     "traceback": [
      "\u001b[0;31m---------------------------------------------------------------------------\u001b[0m",
      "\u001b[0;31mValueError\u001b[0m                                Traceback (most recent call last)",
      "\u001b[0;32m<ipython-input-99-838e56ed7322>\u001b[0m in \u001b[0;36m<module>\u001b[0;34m()\u001b[0m\n\u001b[0;32m----> 1\u001b[0;31m \u001b[0mdatetime\u001b[0m\u001b[0;34m.\u001b[0m\u001b[0mdatetime\u001b[0m\u001b[0;34m.\u001b[0m\u001b[0mstrptime\u001b[0m\u001b[0;34m(\u001b[0m\u001b[0;34m\"November of '6\"\u001b[0m\u001b[0;34m,\u001b[0m \u001b[0;34m\"%B of '%y\"\u001b[0m\u001b[0;34m)\u001b[0m\u001b[0;34m\u001b[0m\u001b[0m\n\u001b[0m",
      "\u001b[0;32m/System/Library/Frameworks/Python.framework/Versions/2.7/lib/python2.7/_strptime.pyc\u001b[0m in \u001b[0;36m_strptime\u001b[0;34m(data_string, format)\u001b[0m\n\u001b[1;32m    323\u001b[0m     \u001b[0;32mif\u001b[0m \u001b[0;32mnot\u001b[0m \u001b[0mfound\u001b[0m\u001b[0;34m:\u001b[0m\u001b[0;34m\u001b[0m\u001b[0m\n\u001b[1;32m    324\u001b[0m         raise ValueError(\"time data %r does not match format %r\" %\n\u001b[0;32m--> 325\u001b[0;31m                          (data_string, format))\n\u001b[0m\u001b[1;32m    326\u001b[0m     \u001b[0;32mif\u001b[0m \u001b[0mlen\u001b[0m\u001b[0;34m(\u001b[0m\u001b[0mdata_string\u001b[0m\u001b[0;34m)\u001b[0m \u001b[0;34m!=\u001b[0m \u001b[0mfound\u001b[0m\u001b[0;34m.\u001b[0m\u001b[0mend\u001b[0m\u001b[0;34m(\u001b[0m\u001b[0;34m)\u001b[0m\u001b[0;34m:\u001b[0m\u001b[0;34m\u001b[0m\u001b[0m\n\u001b[1;32m    327\u001b[0m         raise ValueError(\"unconverted data remains: %s\" %\n",
      "\u001b[0;31mValueError\u001b[0m: time data \"November of '6\" does not match format \"%B of '%y\""
     ]
    }
   ],
   "source": [
    "# ValueError\n",
    "datetime.datetime.strptime(\"November of '6\", \"%B of '%y\")"
   ]
  },
  {
   "cell_type": "markdown",
   "metadata": {},
   "source": [
    "## Review of Python's Time Functions\n",
    "\n",
    "- UNIX epoch timestamp: 12 AM on January 1, 1970, UTC\n",
    "- A datetime object has integers\n",
    "- A timedelta object time duration\n"
   ]
  },
  {
   "cell_type": "code",
   "execution_count": 100,
   "metadata": {
    "collapsed": false
   },
   "outputs": [
    {
     "data": {
      "text/plain": [
       "1433666004.44805"
      ]
     },
     "execution_count": 100,
     "metadata": {},
     "output_type": "execute_result"
    }
   ],
   "source": [
    "time.time()"
   ]
  },
  {
   "cell_type": "code",
   "execution_count": 101,
   "metadata": {
    "collapsed": false
   },
   "outputs": [
    {
     "data": {
      "text/plain": [
       "datetime.datetime(2015, 6, 7, 17, 33, 30, 24238)"
      ]
     },
     "execution_count": 101,
     "metadata": {},
     "output_type": "execute_result"
    }
   ],
   "source": [
    "datetime.datetime.now()"
   ]
  },
  {
   "cell_type": "code",
   "execution_count": 103,
   "metadata": {
    "collapsed": false
   },
   "outputs": [
    {
     "data": {
      "text/plain": [
       "datetime.datetime(2015, 6, 7, 17, 33, 56, 471481)"
      ]
     },
     "execution_count": 103,
     "metadata": {},
     "output_type": "execute_result"
    }
   ],
   "source": [
    "datetime.datetime.fromtimestamp(time.time())"
   ]
  },
  {
   "cell_type": "code",
   "execution_count": 105,
   "metadata": {
    "collapsed": false
   },
   "outputs": [
    {
     "data": {
      "text/plain": [
       "datetime.timedelta(8, 36000)"
      ]
     },
     "execution_count": 105,
     "metadata": {},
     "output_type": "execute_result"
    }
   ],
   "source": [
    "delta = datetime.timedelta(weeks=1, days=1, hours=10)\n",
    "delta"
   ]
  },
  {
   "cell_type": "code",
   "execution_count": 106,
   "metadata": {
    "collapsed": false
   },
   "outputs": [
    {
     "data": {
      "text/plain": [
       "727200.0"
      ]
     },
     "execution_count": 106,
     "metadata": {},
     "output_type": "execute_result"
    }
   ],
   "source": [
    "delta.total_seconds()"
   ]
  },
  {
   "cell_type": "markdown",
   "metadata": {},
   "source": [
    "#### review of time functions and their parameters and return values\n",
    "\n",
    "- The time.time() function returns an epoch timestamp float value of the current moment.\n",
    "- The time.sleep(seconds) function stops the program for the amount of seconds specified by the seconds argument.\n",
    "- The datetime.datetime(year, month, day, hour, minute, second) function returns a datetime object of the moment specified by the arguments. If hour, minute, or second arguments are not provided, they default to 0.\n",
    "- The datetime.datetime.now() function returns a datetime object of the current moment.\n",
    "- The datetime.datetime.fromtimestamp(epoch) function returns a datetime object of the moment represented by the epoch timestamp argument.\n",
    "- The datetime.timedelta(weeks, days, hours, minutes, seconds, milliseconds, microseconds) function returns a timedelta object representing a duration of time. The function’s keyword arguments are all optional and do not include month or year.\n",
    "- The total_seconds() method for timedelta objects returns the number of seconds the timedelta object represents.\n",
    "- The strftime(format) method returns a string of the time represented by the datetime object in a custom format that’s based on the format string. See Table 15-1 for the format details.\n",
    "- The datetime.datetime.strptime(time_string, format) function returns a datetime object of the moment specified by time_string, parsed using the format string argument. See Table 15-1 for the format details."
   ]
  },
  {
   "cell_type": "markdown",
   "metadata": {},
   "source": [
    "## Multithreading\n"
   ]
  },
  {
   "cell_type": "code",
   "execution_count": 107,
   "metadata": {
    "collapsed": false
   },
   "outputs": [
    {
     "ename": "KeyboardInterrupt",
     "evalue": "",
     "output_type": "error",
     "traceback": [
      "\u001b[0;31m---------------------------------------------------------------------------\u001b[0m",
      "\u001b[0;31mKeyboardInterrupt\u001b[0m                         Traceback (most recent call last)",
      "\u001b[0;32m<ipython-input-107-b402b2dd4967>\u001b[0m in \u001b[0;36m<module>\u001b[0;34m()\u001b[0m\n\u001b[1;32m      3\u001b[0m \u001b[0mstartTime\u001b[0m \u001b[0;34m=\u001b[0m \u001b[0mdatetime\u001b[0m\u001b[0;34m.\u001b[0m\u001b[0mdatetime\u001b[0m\u001b[0;34m(\u001b[0m\u001b[0;36m2029\u001b[0m\u001b[0;34m,\u001b[0m \u001b[0;36m10\u001b[0m\u001b[0;34m,\u001b[0m \u001b[0;36m31\u001b[0m\u001b[0;34m,\u001b[0m \u001b[0;36m0\u001b[0m\u001b[0;34m,\u001b[0m \u001b[0;36m0\u001b[0m\u001b[0;34m,\u001b[0m \u001b[0;36m0\u001b[0m\u001b[0;34m)\u001b[0m\u001b[0;34m\u001b[0m\u001b[0m\n\u001b[1;32m      4\u001b[0m \u001b[0;32mwhile\u001b[0m \u001b[0mdatetime\u001b[0m\u001b[0;34m.\u001b[0m\u001b[0mdatetime\u001b[0m\u001b[0;34m.\u001b[0m\u001b[0mnow\u001b[0m\u001b[0;34m(\u001b[0m\u001b[0;34m)\u001b[0m \u001b[0;34m<\u001b[0m \u001b[0mstartTime\u001b[0m\u001b[0;34m:\u001b[0m\u001b[0;34m\u001b[0m\u001b[0m\n\u001b[0;32m----> 5\u001b[0;31m     \u001b[0mtime\u001b[0m\u001b[0;34m.\u001b[0m\u001b[0msleep\u001b[0m\u001b[0;34m(\u001b[0m\u001b[0;36m1\u001b[0m\u001b[0;34m)\u001b[0m\u001b[0;34m\u001b[0m\u001b[0m\n\u001b[0m\u001b[1;32m      6\u001b[0m \u001b[0;34m\u001b[0m\u001b[0m\n\u001b[1;32m      7\u001b[0m \u001b[0;32mprint\u001b[0m\u001b[0;34m(\u001b[0m\u001b[0;34m'Program now starting on Halloween 2029'\u001b[0m\u001b[0;34m)\u001b[0m\u001b[0;34m\u001b[0m\u001b[0m\n",
      "\u001b[0;31mKeyboardInterrupt\u001b[0m: "
     ]
    }
   ],
   "source": [
    "import time, datetime\n",
    "\n",
    "startTime = datetime.datetime(2029, 10, 31, 0, 0, 0)\n",
    "while datetime.datetime.now() < startTime:\n",
    "    time.sleep(1)\n",
    "\n",
    "print('Program now starting on Halloween 2029')"
   ]
  },
  {
   "cell_type": "code",
   "execution_count": 112,
   "metadata": {
    "collapsed": false
   },
   "outputs": [
    {
     "name": "stdout",
     "output_type": "stream",
     "text": [
      "Writing test_thread.py\n"
     ]
    }
   ],
   "source": [
    "%%writefile test_thread.py\n",
    "import threading\n",
    "import time\n",
    "\n",
    "print('Start of program.')\n",
    "\n",
    "def takeANap():\n",
    "    time.sleep(5)\n",
    "    print('Wake up!')\n",
    "    \n",
    "threadObj = threading.Thread(target=takeANap)\n",
    "threadObj.start()\n",
    "\n",
    "print('End of program.')"
   ]
  },
  {
   "cell_type": "code",
   "execution_count": 113,
   "metadata": {
    "collapsed": false
   },
   "outputs": [
    {
     "name": "stdout",
     "output_type": "stream",
     "text": [
      "Start of program.\n",
      "End of program.\n",
      "Wake up!\n"
     ]
    }
   ],
   "source": [
    "!python test_thread.py"
   ]
  },
  {
   "cell_type": "code",
   "execution_count": 114,
   "metadata": {
    "collapsed": false
   },
   "outputs": [
    {
     "name": "stdout",
     "output_type": "stream",
     "text": [
      "Start of program.\n",
      "End of program.\n",
      "Wake up!\n"
     ]
    }
   ],
   "source": [
    "!python test_thread.py"
   ]
  },
  {
   "cell_type": "markdown",
   "metadata": {},
   "source": [
    "### Passing Arguments to the Thread's Target Function"
   ]
  },
  {
   "cell_type": "code",
   "execution_count": 115,
   "metadata": {
    "collapsed": true
   },
   "outputs": [],
   "source": [
    "from __future__ import print_function"
   ]
  },
  {
   "cell_type": "code",
   "execution_count": 116,
   "metadata": {
    "collapsed": false
   },
   "outputs": [
    {
     "name": "stdout",
     "output_type": "stream",
     "text": [
      "Cats & Dogs & Frogs\n"
     ]
    }
   ],
   "source": [
    "print('Cats', 'Dogs', 'Frogs', sep=' & ')"
   ]
  },
  {
   "cell_type": "code",
   "execution_count": 117,
   "metadata": {
    "collapsed": true
   },
   "outputs": [],
   "source": [
    "import threading"
   ]
  },
  {
   "cell_type": "code",
   "execution_count": 120,
   "metadata": {
    "collapsed": false
   },
   "outputs": [
    {
     "name": "stdout",
     "output_type": "stream",
     "text": [
      "Cats & Dogs & Frogs\n"
     ]
    }
   ],
   "source": [
    "threadObj = threading.Thread(target=print, args=['Cats', 'Dogs', 'Frogs'],\n",
    "                             kwargs={'sep': ' & '})\n",
    "threadObj.start()"
   ]
  },
  {
   "cell_type": "code",
   "execution_count": 121,
   "metadata": {
    "collapsed": false
   },
   "outputs": [
    {
     "name": "stdout",
     "output_type": "stream",
     "text": [
      "Cats & Dogs & Frogs\n"
     ]
    }
   ],
   "source": [
    "threadObj = threading.Thread(target=print('Cats', 'Dogs', 'Frogs', sep=' & '))\n",
    "threadObj.start()"
   ]
  },
  {
   "cell_type": "markdown",
   "metadata": {},
   "source": [
    "### Concurrency Issues\n",
    "\n",
    "- 동일한 시간에 변수에 읽거나 쓰게 되면. 디버깅이 어렵게 된다.\n",
    "- multiple threads로 읽거나 쓸때는 동일한 변수에 쓰지 않는다. \n",
    "- 새로운 쓰레드를 만들면 오직 그 함수의 로컬 변수만 사용한다."
   ]
  },
  {
   "cell_type": "markdown",
   "metadata": {},
   "source": [
    "## Project: Multithreaded XKCD Downloader"
   ]
  },
  {
   "cell_type": "markdown",
   "metadata": {},
   "source": [
    "### Step 1: Modify the Program to Use a Function"
   ]
  },
  {
   "cell_type": "code",
   "execution_count": 123,
   "metadata": {
    "collapsed": false
   },
   "outputs": [
    {
     "name": "stdout",
     "output_type": "stream",
     "text": [
      "Writing multidownloadXkcd.py\n"
     ]
    }
   ],
   "source": [
    "%%writefile multidownloadXkcd.py\n",
    "import requests\n",
    "import os\n",
    "import bs4\n",
    "import threading\n",
    "import re\n",
    "import urlparse\n",
    "\n",
    "if not os.path.exists('xkcd'):\n",
    "    os.makedirs('xkcd')\n",
    "    \n",
    "def downloadXkcd(startComic, endComic):\n",
    "    for urlNumber in range(startComic, endComic):\n",
    "        # Download the page.\n",
    "        print('Downloading page http://xkcd.com/{}...'.format(urlNumber))\n",
    "        res = requests.get('http://xkcd.com/{}'.format(urlNumber))\n",
    "        res.raise_for_status()\n",
    "        \n",
    "        soup = bs4.BeautifulSoup(res.text)\n",
    "        \n",
    "        # Find the URL of the comic image.\n",
    "        comicElem = soup.select('#comic img')\n",
    "        if comicElem == []:\n",
    "            print('Could not find comic image.')\n",
    "        else:\n",
    "            comicUrl = comicElem[0].get('src')\n",
    "        if comicUrl.startswith('/') or not 'http' in comicUrl:\n",
    "            comicUrl = urlparse.urljoin('http://xkcd.com', comicUrl)\n",
    "            \n",
    "        # TODO: Download the image.\n",
    "        print('Downloading image %s...' % (comicUrl))\n",
    "        res = requests.get(comicUrl)\n",
    "        res.raise_for_status()\n",
    "    \n",
    "        # TODO: Save the image to ./xkcd.\n",
    "        with open(os.path.join('xkcd', os.path.basename(comicUrl)), 'wb') as imageFile:\n",
    "            for chunk in res.iter_content(100000):\n",
    "                imageFile.write(chunk)\n",
    "        \n",
    "    # TODO: Create and start the Thread objects.\n",
    "    downloadThreads = [] # a list of all the Thread objects\n",
    "    for i in range(0, 1600, 100): # loops 14 times, creates 14 threads\n",
    "        downloadThread = threading.Thread(target=downloadXkcd, args=(i, i+99))\n",
    "        downloadThreads.append(downloadThread)\n",
    "        downloadThread.start()\n",
    "    # TODO: Wait for all threads to end."
   ]
  },
  {
   "cell_type": "markdown",
   "metadata": {},
   "source": [
    "### Step 3: Wait for All Threads to End"
   ]
  },
  {
   "cell_type": "code",
   "execution_count": 143,
   "metadata": {
    "collapsed": true
   },
   "outputs": [],
   "source": [
    "!rm -rf xkcd"
   ]
  },
  {
   "cell_type": "markdown",
   "metadata": {},
   "source": [
    "#### requests.get 오류\n",
    "\n",
    "- 프로그램이 실행하다가 제대로 파일을 받아오지 못해서 오류가 난다.\n",
    "- 오류가 난 것을 저장해 놓고 모두 끝난 다음에 다시 그것들만 받아오기? 그래도 또 오류가 발생하면?\n",
    "- 그렇다면 받아온 것을 저장해 놓는건 어때? 받아놓은 것을 모두 적어놓고 검사하면 되겠네"
   ]
  },
  {
   "cell_type": "code",
   "execution_count": 149,
   "metadata": {
    "collapsed": false
   },
   "outputs": [
    {
     "name": "stdout",
     "output_type": "stream",
     "text": [
      "Overwriting multidownloadXkcd.py\n"
     ]
    }
   ],
   "source": [
    "%%writefile multidownloadXkcd.py\n",
    "import requests\n",
    "import os\n",
    "import bs4\n",
    "import threading\n",
    "import re\n",
    "import urlparse\n",
    "\n",
    "if not os.path.exists('xkcd'):\n",
    "    os.makedirs('xkcd')\n",
    "    \n",
    "# def write_wrong():\n",
    "    \n",
    "\n",
    "def downloadXkcd(startComic, endComic):\n",
    "    for urlNumber in range(startComic, endComic):\n",
    "        # Download the page.\n",
    "        print('Downloading page http://xkcd.com/{}...'.format(urlNumber))\n",
    "        res = requests.get('http://xkcd.com/{}'.format(urlNumber))\n",
    "        res.raise_for_status()\n",
    "        \n",
    "        soup = bs4.BeautifulSoup(res.text)\n",
    "        \n",
    "        # Find the URL of the comic image.\n",
    "        comicElem = soup.select('#comic img')\n",
    "        if comicElem == []:\n",
    "            print('Could not find comic image.')\n",
    "        else:\n",
    "            comicUrl = comicElem[0].get('src')\n",
    "        if comicUrl.startswith('/') or not 'http' in comicUrl:\n",
    "            comicUrl = urlparse.urljoin('http://xkcd.com', comicUrl)\n",
    "            \n",
    "        # TODO: Download the image.\n",
    "        print('Downloading image %s...' % (comicUrl))\n",
    "        try:\n",
    "            res = requests.get(comicUrl)\n",
    "            res.raise_for_status()\n",
    "        except Exception as e:\n",
    "            print(e)\n",
    "    \n",
    "        # TODO: Save the image to ./xkcd.\n",
    "        with open(os.path.join('xkcd', os.path.basename(comicUrl)), 'wb') as imageFile:\n",
    "            for chunk in res.iter_content(100000):\n",
    "                imageFile.write(chunk)\n",
    "                \n",
    "def main():\n",
    "    # TODO: Create and start the Thread objects.\n",
    "    downloadThreads = [] # a list of all the Thread objects\n",
    "    for i in range(0, 1600, 100): # loops 14 times, creates 14 threads\n",
    "        # i+100 is correct. not i+99\n",
    "        downloadThread = threading.Thread(target=downloadXkcd, args=(i, i+100))\n",
    "        downloadThreads.append(downloadThread)\n",
    "        downloadThread.start()\n",
    "    # TODO: Wait for all threads to end.\n",
    "    for downloadThread in downloadThreads:\n",
    "        downloadThread.join()\n",
    "    print('Done.')\n",
    "    \n",
    "if __name__ == '__main__':\n",
    "    main()"
   ]
  },
  {
   "cell_type": "code",
   "execution_count": 142,
   "metadata": {
    "collapsed": false
   },
   "outputs": [],
   "source": [
    "# for i in range(0, 99):\n",
    "#     print(i)"
   ]
  },
  {
   "cell_type": "code",
   "execution_count": 150,
   "metadata": {
    "collapsed": false,
    "scrolled": true
   },
   "outputs": [
    {
     "name": "stdout",
     "output_type": "stream",
     "text": [
      "Downloading page http://xkcd.com/0...\n",
      " Downloading page http://xkcd.com/100...Downloading page http://xkcd.com/200...\n",
      "\n",
      "Downloading page http://xkcd.com/300...\n",
      "Downloading page http://xkcd.com/400...\n",
      "Downloading page http://xkcd.com/500...\n",
      "Downloading page http://xkcd.com/600...\n",
      "Downloading page http://xkcd.com/700...\n",
      "Downloading page http://xkcd.com/800...\n",
      "Downloading page http://xkcd.com/900...\n",
      "Downloading page http://xkcd.com/1000...\n",
      "Downloading page http://xkcd.com/1100...\n",
      "Downloading page http://xkcd.com/1200...\n",
      "Downloading page http://xkcd.com/1300...\n",
      "Downloading page http://xkcd.com/1400...\n",
      "Downloading page http://xkcd.com/1500...\n",
      "Exception in thread Thread-1:\n",
      "Traceback (most recent call last):\n",
      "  File \"/System/Library/Frameworks/Python.framework/Versions/2.7/lib/python2.7/threading.py\", line 810, in __bootstrap_inner\n",
      "    self.run()\n",
      "  File \"/System/Library/Frameworks/Python.framework/Versions/2.7/lib/python2.7/threading.py\", line 763, in run\n",
      "    self.__target(*self.__args, **self.__kwargs)\n",
      "  File \"multidownloadXkcd.py\", line 16, in downloadXkcd\n",
      "    res.raise_for_status()\n",
      "  File \"/Users/re4lfl0w/.virtualenvs/general/lib/python2.7/site-packages/requests/models.py\", line 831, in raise_for_status\n",
      "    raise HTTPError(http_error_msg, response=self)\n",
      "HTTPError: 404 Client Error: Not Found\n",
      "\n",
      "Downloading image http://imgs.xkcd.com/comics/family_circus.jpg...\n",
      "Downloading image http://imgs.xkcd.com/comics/facebook.png...\n",
      "Downloading image http://imgs.xkcd.com/comics/bill_nye.png...\n",
      "Downloading image http://imgs.xkcd.com/comics/galilean_moons.png...\n",
      "Downloading image http://imgs.xkcd.com/comics/complexion.png...\n",
      "Downloading image http://imgs.xkcd.com/comics/android_boyfriend.png...\n",
      "Downloading image http://imgs.xkcd.com/comics/d_b_cooper.png...\n",
      "Downloading image http://imgs.xkcd.com/comics/1000_comics.png...\n",
      "Downloading image http://imgs.xkcd.com/comics/important_life_lesson.png...\n",
      "Downloading image http://imgs.xkcd.com/comics/beautiful_dream.png...\n",
      "Downloading image http://imgs.xkcd.com/comics/election.png...\n",
      "Downloading image http://imgs.xkcd.com/comics/authorization.png...\n",
      "Downloading image http://imgs.xkcd.com/comics/religions.png...\n",
      "Downloading image http://imgs.xkcd.com/comics/vows.png...\n",
      "Downloading page http://xkcd.com/601...\n",
      "Downloading page http://xkcd.com/301...\n",
      "Downloading page http://xkcd.com/401...\n",
      "Downloading page http://xkcd.com/1201...\n",
      "Downloading page http://xkcd.com/801...\n",
      "Downloading page http://xkcd.com/501...\n",
      "Downloading page http://xkcd.com/1301...\n",
      "Downloading image http://imgs.xkcd.com/comics/upside_down_map.png...\n",
      "Downloading page http://xkcd.com/201...\n",
      "Downloading page http://xkcd.com/1101...\n",
      "Downloading page http://xkcd.com/901...\n",
      "Downloading page http://xkcd.com/101...\n",
      "Downloading page http://xkcd.com/701...\n",
      "Downloading page http://xkcd.com/1001...\n",
      "Downloading page http://xkcd.com/1401...\n",
      "Downloading image http://imgs.xkcd.com/comics/game_theory.png...\n",
      "Downloading image http://imgs.xkcd.com/comics/large_hadron_collider.png...\n",
      "Downloading page http://xkcd.com/1501...\n",
      "Downloading image http://imgs.xkcd.com/comics/limerick.png...\n",
      "Downloading image http://imgs.xkcd.com/comics/file_extensions.png...\n",
      "Downloading image http://imgs.xkcd.com/comics/golden_hammer.png...\n",
      "Downloading image http://imgs.xkcd.com/comics/integration_by_parts.png...\n",
      "Downloading image http://imgs.xkcd.com/comics/faust_20.png...\n",
      "Downloading image http://imgs.xkcd.com/comics/christmas_gps.png...\n",
      "Downloading image http://imgs.xkcd.com/comics/sketchiness.png...\n",
      "Downloading page http://xkcd.com/602...\n",
      "Downloading image http://imgs.xkcd.com/comics/laser_scope.jpg...\n",
      "Downloading image http://imgs.xkcd.com/comics/science_valentine.png...\n",
      "Downloading image http://imgs.xkcd.com/comics/temperature.png...\n",
      "Downloading image http://imgs.xkcd.com/comics/aaaaaa.png...\n",
      "Downloading image http://imgs.xkcd.com/comics/new.png...\n",
      "Downloading page http://xkcd.com/1302...\n",
      "Downloading page http://xkcd.com/302...\n",
      "Downloading page http://xkcd.com/1202...\n",
      "Downloading page http://xkcd.com/502...\n",
      "Downloading page http://xkcd.com/402...\n",
      "Downloading page http://xkcd.com/1102...\n",
      "Downloading page http://xkcd.com/902...\n",
      "Downloading page http://xkcd.com/802...\n",
      "Downloading page http://xkcd.com/1402...\n",
      "Downloading page http://xkcd.com/202...\n",
      "Downloading image http://imgs.xkcd.com/comics/overstimulated.png...\n",
      "Downloading page http://xkcd.com/102...\n",
      "Downloading page http://xkcd.com/702...\n",
      "Downloading page http://xkcd.com/1002...\n",
      "Downloading image http://imgs.xkcd.com/comics/names.png...\n",
      "Downloading image http://imgs.xkcd.com/comics/year_in_review.png...\n",
      "Downloading image http://imgs.xkcd.com/comics/girls_and_boys.png...\n",
      "Downloading image http://imgs.xkcd.com/comics/dark_flow.png...\n",
      "Downloading image http://imgs.xkcd.com/comics/1000_miles_north.png...\n",
      "Downloading image http://imgs.xkcd.com/comics/fastest_growing.png...\n",
      "Downloading image http://imgs.xkcd.com/comics/harpoons.png...\n",
      "Downloading image http://imgs.xkcd.com/comics/online_communities_2.png...\n",
      "Downloading image http://imgs.xkcd.com/comics/darmok_and_jalad.png...\n",
      "Downloading image http://imgs.xkcd.com/comics/youtube.png...\n",
      "Downloading page http://xkcd.com/603...\n",
      "Downloading image http://imgs.xkcd.com/comics/back_to_the_future.jpg...\n",
      "Downloading image http://imgs.xkcd.com/comics/mysteries.png...\n",
      "Downloading image http://imgs.xkcd.com/comics/snow_tracking.png...\n",
      "Downloading image http://imgs.xkcd.com/comics/game_ais.png...\n",
      "Downloading page http://xkcd.com/303...\n",
      "Downloading page http://xkcd.com/1303...\n",
      "Downloading page http://xkcd.com/1203...\n",
      "Downloading page http://xkcd.com/503...\n",
      "Downloading image http://imgs.xkcd.com/comics/idiocracy.png...\n",
      "Downloading page http://xkcd.com/1103...\n",
      "Downloading page http://xkcd.com/1403...\n",
      "Downloading page http://xkcd.com/903...\n",
      "Downloading page http://xkcd.com/103...\n",
      "Downloading image http://imgs.xkcd.com/comics/compiling.png...\n",
      "Downloading page http://xkcd.com/703...\n",
      "Downloading page http://xkcd.com/403...\n",
      "Downloading image http://imgs.xkcd.com/comics/profile_info.png...\n",
      "Downloading image http://imgs.xkcd.com/comics/time_machines.png...\n",
      "Downloading page http://xkcd.com/1502...\n",
      "Downloading page http://xkcd.com/1003...\n",
      "Downloading page http://xkcd.com/203...\n",
      "Downloading image http://imgs.xkcd.com/comics/moral_relativity.jpg...\n",
      "Downloading page http://xkcd.com/304...\n",
      "Downloading image http://imgs.xkcd.com/comics/extended_mind.png...\n",
      "Downloading image http://imgs.xkcd.com/comics/nine.png...\n",
      "Downloading page http://xkcd.com/604...\n",
      "Downloading image http://imgs.xkcd.com/comics/thesis_defense.png...\n",
      "Downloading image http://imgs.xkcd.com/comics/honor_societies.png...\n",
      "Downloading page http://xkcd.com/1304...\n",
      "Downloading image http://imgs.xkcd.com/comics/convincing_pickup_line.png...\n",
      "Downloading page http://xkcd.com/1204...\n",
      "Downloading image http://imgs.xkcd.com/comics/adam_and_eve.png...\n",
      "Downloading page http://xkcd.com/104...\n",
      "Downloading page http://xkcd.com/1104...\n",
      "Downloading image http://imgs.xkcd.com/comics/hallucinations.png...\n",
      "Downloading image http://imgs.xkcd.com/comics/nighttime_stories.jpg...\n",
      "Downloading image http://imgs.xkcd.com/comics/qwertial_aphasia.png...\n",
      "Downloading page http://xkcd.com/1404...\n",
      "Downloading page http://xkcd.com/1004...\n",
      "Downloading image http://imgs.xkcd.com/comics/terminology.png...\n",
      "Downloading image http://imgs.xkcd.com/comics/glass_trolling.png...\n",
      "Downloading page http://xkcd.com/904...\n",
      "Downloading page http://xkcd.com/404...\n",
      "Downloading page http://xkcd.com/704...\n",
      "Downloading image http://imgs.xkcd.com/comics/detail.png...\n",
      "Downloading page http://xkcd.com/204...\n",
      "Exception in thread Thread-5:\n",
      "Traceback (most recent call last):\n",
      "  File \"/System/Library/Frameworks/Python.framework/Versions/2.7/lib/python2.7/threading.py\", line 810, in __bootstrap_inner\n",
      "    self.run()\n",
      "  File \"/System/Library/Frameworks/Python.framework/Versions/2.7/lib/python2.7/threading.py\", line 763, in run\n",
      "    self.__target(*self.__args, **self.__kwargs)\n",
      "  File \"multidownloadXkcd.py\", line 16, in downloadXkcd\n",
      "    res.raise_for_status()\n",
      "  File \"/Users/re4lfl0w/.virtualenvs/general/lib/python2.7/site-packages/requests/models.py\", line 831, in raise_for_status\n",
      "    raise HTTPError(http_error_msg, response=self)\n",
      "HTTPError: 404 Client Error: Not Found\n",
      "\n",
      "Downloading image http://imgs.xkcd.com/comics/find_you.jpg...\n",
      "Downloading image http://imgs.xkcd.com/comics/feathers.png...\n",
      "Downloading page http://xkcd.com/504...\n",
      "Downloading page http://xkcd.com/1305...\n",
      "Downloading image http://imgs.xkcd.com/comics/quantum_vacuum_virtual_plasma.png...\n",
      "Downloading image http://imgs.xkcd.com/comics/batman.png...\n",
      "Downloading page http://xkcd.com/605...\n",
      "Downloading page http://xkcd.com/1205...\n",
      "Downloading image http://imgs.xkcd.com/comics/sports.png...\n",
      "Downloading image http://imgs.xkcd.com/comics/principle_of_explosion.png...\n",
      "Downloading image http://imgs.xkcd.com/comics/wasted_time.png...\n",
      "Downloading page http://xkcd.com/803...\n",
      "Downloading image http://imgs.xkcd.com/comics/america.png...\n",
      "Downloading page http://xkcd.com/1405...\n",
      "Downloading image http://imgs.xkcd.com/comics/legal_hacks.png...\n",
      "Downloading page http://xkcd.com/1005...\n",
      "Downloading page http://xkcd.com/1105...\n",
      "Downloading page http://xkcd.com/305...\n",
      " Downloading image http://imgs.xkcd.com/comics/undocumented_feature.png...\n",
      "Downloading page http://xkcd.com/905...\n",
      "Downloading image http://imgs.xkcd.com/comics/extrapolating.png...\n",
      "Downloading page http://xkcd.com/105...\n",
      "Downloading image http://imgs.xkcd.com/comics/is_it_worth_the_time.png...\n",
      "Downloading image http://imgs.xkcd.com/comics/airfoil.png...\n",
      "Downloading page http://xkcd.com/705...\n",
      "Downloading page http://xkcd.com/1503...\n",
      "Downloading page http://xkcd.com/205...\n",
      "Downloading page http://xkcd.com/606...\n",
      "Downloading page http://xkcd.com/505...\n",
      "Downloading page http://xkcd.com/804...\n",
      "Downloading page http://xkcd.com/1206...\n",
      "Downloading image http://imgs.xkcd.com/comics/homeownership.png...\n",
      "Downloading image http://imgs.xkcd.com/comics/parallel_universe.jpg...\n",
      "Downloading image http://imgs.xkcd.com/comics/meteor.png...\n",
      "Downloading image http://imgs.xkcd.com/comics/sopa.png...\n",
      "Downloading image http://imgs.xkcd.com/comics/rule_34.png...\n",
      "Downloading image http://imgs.xkcd.com/comics/license_plate.png...\n",
      "Downloading page http://xkcd.com/1306...\n",
      "Downloading image http://imgs.xkcd.com/comics/devotion_to_duty.png...\n",
      "Downloading image http://imgs.xkcd.com/comics/candy_button_paper.png...\n",
      "Downloading image http://imgs.xkcd.com/comics/cutting_edge.png...\n",
      "Downloading image http://imgs.xkcd.com/comics/squirrel_plan.png...\n",
      "Downloading page http://xkcd.com/1406...\n",
      "Downloading page http://xkcd.com/1006...\n",
      "Downloading image http://imgs.xkcd.com/comics/a_bunch_of_rocks.png...\n",
      "Downloading image http://imgs.xkcd.com/comics/einstein.png...\n",
      " Downloading image http://imgs.xkcd.com/comics/pumpkin_carving.png...\n",
      "Downloading page http://xkcd.com/906...\n",
      " Downloading page http://xkcd.com/106...\n",
      "Downloading image http://imgs.xkcd.com/comics/sigil_cycle.png...\n",
      "Downloading page http://xkcd.com/306...\n",
      "Downloading page http://xkcd.com/706...\n",
      "Downloading page http://xkcd.com/1504...\n",
      "Downloading page http://xkcd.com/1106...\n",
      "Downloading page http://xkcd.com/206...\n",
      "Downloading page http://xkcd.com/607...\n",
      "Downloading page http://xkcd.com/1207...\n",
      "Downloading page http://xkcd.com/1307...\n",
      "Downloading image http://imgs.xkcd.com/comics/wright_brothers.png...\n",
      "Downloading image http://imgs.xkcd.com/comics/sloppier_than_fiction.png...\n",
      "Downloading image http://imgs.xkcd.com/comics/universal_converter_box.png...\n",
      "Downloading image http://imgs.xkcd.com/comics/citations.png...\n",
      "Downloading page http://xkcd.com/805...\n",
      "Downloading image http://imgs.xkcd.com/comics/reno_rhymes.png...\n",
      "Downloading image http://imgs.xkcd.com/comics/freedom.png...\n",
      "Downloading image http://imgs.xkcd.com/comics/orphaned_projects.png...\n",
      "Downloading image http://imgs.xkcd.com/comics/add.png...\n",
      "Downloading image http://imgs.xkcd.com/comics/2038.png...\n",
      "Downloading image http://imgs.xkcd.com/comics/airaware.png...\n",
      "Downloading page http://xkcd.com/506...\n",
      "Downloading page http://xkcd.com/1007...\n",
      "Downloading image http://imgs.xkcd.com/comics/buzzfeed_christmas.png...\n",
      "Downloading page http://xkcd.com/907...\n",
      "Downloading page http://xkcd.com/1407...\n",
      "Downloading page http://xkcd.com/107...\n",
      "Downloading image http://imgs.xkcd.com/comics/paradise_city.png...\n",
      "Downloading page http://xkcd.com/608...\n",
      "Downloading page http://xkcd.com/307...\n",
      "Downloading page http://xkcd.com/707...\n",
      "Downloading page http://xkcd.com/207...\n",
      "Downloading page http://xkcd.com/1208...\n",
      "Downloading page http://xkcd.com/1308...\n",
      "Downloading image http://imgs.xkcd.com/comics/sustainable.png...\n",
      "Downloading image http://imgs.xkcd.com/comics/opportunity.png...\n",
      "Downloading page http://xkcd.com/1107...\n",
      "Downloading image http://imgs.xkcd.com/comics/theft_of_the_magi.png...\n",
      "Downloading page http://xkcd.com/806...\n",
      "Downloading image http://imgs.xkcd.com/comics/ages.png...\n",
      "Downloading image http://imgs.xkcd.com/comics/snakes_on_a_plane_2.jpg...\n",
      "Downloading image http://imgs.xkcd.com/comics/worst_hurricane.png...\n",
      "Downloading image http://imgs.xkcd.com/comics/excessive_quotation.png...\n",
      "Downloading image http://imgs.xkcd.com/comics/form.png...\n",
      "Downloading page http://xkcd.com/908...\n",
      " Downloading page http://xkcd.com/507...\n",
      "Downloading page http://xkcd.com/1008...\n",
      "Downloading page http://xkcd.com/1505...\n",
      "Downloading image http://imgs.xkcd.com/comics/joshing.png...\n",
      "Downloading image http://imgs.xkcd.com/comics/what_xkcd_means.png...\n",
      "Downloading image http://imgs.xkcd.com/comics/sports_cheat_sheet.png...\n",
      "Downloading image http://imgs.xkcd.com/comics/christmas_lights.png...\n",
      "Downloading image http://imgs.xkcd.com/comics/footnote_labyrinths.png...\n",
      "Downloading image http://imgs.xkcd.com/comics/tech_support.png...\n",
      "Downloading page http://xkcd.com/308...\n",
      "Downloading page http://xkcd.com/609...\n",
      "Downloading image http://imgs.xkcd.com/comics/experimentation.png...\n",
      "Downloading page http://xkcd.com/108...\n",
      "Downloading image http://imgs.xkcd.com/comics/the_cloud.png...\n",
      "Downloading page http://xkcd.com/708...\n",
      "Downloading image http://imgs.xkcd.com/comics/suckville.png...\n",
      "Downloading page http://xkcd.com/1209...\n",
      "Downloading page http://xkcd.com/1408...\n",
      "Downloading page http://xkcd.com/1309...\n",
      "Downloading image http://imgs.xkcd.com/comics/interesting_life.png...\n",
      "Downloading image http://imgs.xkcd.com/comics/tab_explosion.png...\n",
      "Downloading page http://xkcd.com/1108...\n",
      "Downloading page http://xkcd.com/208...\n",
      "Downloading page http://xkcd.com/508...\n",
      "Downloading image http://imgs.xkcd.com/comics/mc_hammer_slide.png...\n",
      "Downloading image http://imgs.xkcd.com/comics/ontological_argument.png...\n",
      "Downloading page http://xkcd.com/909...\n",
      "Downloading page http://xkcd.com/1009...\n",
      "Downloading image http://imgs.xkcd.com/comics/march_of_the_penguins.png...\n",
      "Downloading page http://xkcd.com/807...\n",
      "Downloading image http://imgs.xkcd.com/comics/encoding.png...\n",
      "Downloading image http://imgs.xkcd.com/comics/sex_dice.png...\n",
      "Downloading image http://imgs.xkcd.com/comics/infinite_scrolling.png...\n",
      "Downloading image http://imgs.xkcd.com/comics/cautionary_ghost.png...\n",
      "Downloading image http://imgs.xkcd.com/comics/drapes.png...\n",
      " Downloading image http://imgs.xkcd.com/comics/regular_expressions.png...\n",
      "Downloading page http://xkcd.com/109...\n",
      "Downloading page http://xkcd.com/1506...\n",
      "Downloading image http://imgs.xkcd.com/comics/sigh.png...\n",
      "Downloading image http://imgs.xkcd.com/comics/worst_case_shopping.png...\n",
      "Downloading page http://xkcd.com/610...\n",
      "Downloading page http://xkcd.com/1409...\n",
      "Downloading page http://xkcd.com/1210...\n",
      "Downloading page http://xkcd.com/709...\n",
      "Downloading page http://xkcd.com/309...\n",
      "Downloading image http://imgs.xkcd.com/comics/connected.png...\n",
      "Downloading page http://xkcd.com/1310...\n",
      "Downloading page http://xkcd.com/509...\n",
      "Downloading page http://xkcd.com/1109...\n",
      "Downloading page http://xkcd.com/1010...\n",
      "Downloading image http://imgs.xkcd.com/comics/spoiler_alert.png...\n",
      "Downloading image http://imgs.xkcd.com/comics/sheeple.png...\n",
      "Downloading image http://imgs.xkcd.com/comics/query.png...\n",
      "Downloading page http://xkcd.com/209...\n",
      "Downloading page http://xkcd.com/808...\n",
      "Downloading image http://imgs.xkcd.com/comics/im_so_random.png...\n",
      "Downloading image http://imgs.xkcd.com/comics/i_am.png...\n",
      "Downloading image http://imgs.xkcd.com/comics/shopping_teams.png...\n",
      "Downloading page http://xkcd.com/910...\n",
      "Downloading image http://imgs.xkcd.com/comics/induced_current.png...\n",
      "Downloading image http://imgs.xkcd.com/comics/xkcloud.png...\n",
      "Downloading image http://imgs.xkcd.com/comics/goldbach_conjectures.png...\n",
      "Downloading page http://xkcd.com/110...\n",
      "Downloading page http://xkcd.com/611...\n",
      "Downloading image http://imgs.xkcd.com/comics/refrigerator.png...\n",
      "Downloading image http://imgs.xkcd.com/comics/etymology_man.png...\n",
      "Downloading image http://imgs.xkcd.com/comics/kayak.png...\n",
      "Downloading image http://imgs.xkcd.com/comics/the_economic_argument.png...\n",
      "Downloading page http://xkcd.com/1211...\n",
      "Downloading page http://xkcd.com/710...\n",
      " Downloading page http://xkcd.com/310...\n",
      "Downloading image http://imgs.xkcd.com/comics/permanence.png...\n",
      "Downloading page http://xkcd.com/510...\n",
      "Downloading page http://xkcd.com/1311...\n",
      "Downloading page http://xkcd.com/1410...\n",
      "Downloading image http://imgs.xkcd.com/comics/clark_gable.jpg...\n",
      "Downloading image http://imgs.xkcd.com/comics/disaster_voyeurism.png...\n",
      "Downloading page http://xkcd.com/1110...\n",
      "Downloading page http://xkcd.com/809...\n",
      "Downloading page http://xkcd.com/1507...\n",
      "Downloading page http://xkcd.com/210...\n",
      "Downloading image http://imgs.xkcd.com/comics/collatz_conjecture.png...\n",
      "Downloading image http://imgs.xkcd.com/comics/commitment.png...\n",
      "Downloading image http://imgs.xkcd.com/comics/birds_and_dinosaurs.png...\n",
      "Downloading page http://xkcd.com/1011...\n",
      "Downloading page http://xkcd.com/111...\n",
      "Downloading image http://imgs.xkcd.com/comics/egg_drop_failure.png...\n",
      "Downloading image http://imgs.xkcd.com/comics/california.png...\n",
      "Downloading image http://imgs.xkcd.com/comics/2014.png...\n",
      "Downloading page http://xkcd.com/911...\n",
      "Downloading image http://imgs.xkcd.com/comics/click_and_drag.png...\n",
      " Downloading image http://imgs.xkcd.com/comics/los_alamos.png...\n",
      "Downloading page http://xkcd.com/612...\n",
      "Downloading image http://imgs.xkcd.com/comics/90s_flowchart.png...\n",
      "Downloading page http://xkcd.com/711...\n",
      "Downloading image http://imgs.xkcd.com/comics/baby_names.png...\n",
      "Downloading page http://xkcd.com/511...\n",
      " Downloading page http://xkcd.com/311...\n",
      "Downloading page http://xkcd.com/1212...\n",
      "Downloading image http://imgs.xkcd.com/comics/firefox_wicca.png...\n",
      "Downloading page http://xkcd.com/1111...\n",
      "Downloading image http://imgs.xkcd.com/comics/magic_school_bus.png...\n",
      "Downloading image http://imgs.xkcd.com/comics/estimation.png...\n",
      "Downloading page http://xkcd.com/810...\n",
      "Downloading page http://xkcd.com/211...\n",
      "Downloading page http://xkcd.com/1012...\n",
      "Downloading page http://xkcd.com/1411...\n",
      "Downloading image http://imgs.xkcd.com/comics/seismograph.png...\n",
      "Downloading page http://xkcd.com/1312...\n",
      "Downloading image http://imgs.xkcd.com/comics/action_movies.png...\n",
      "Downloading image http://imgs.xkcd.com/comics/sleet.png...\n",
      "Downloading page http://xkcd.com/613...\n",
      "Downloading page http://xkcd.com/112...\n",
      "Downloading page http://xkcd.com/712...\n",
      "Downloading image http://imgs.xkcd.com/comics/premiere.png...\n",
      "Downloading image http://imgs.xkcd.com/comics/interstellar_memes.png...\n",
      "Downloading image http://imgs.xkcd.com/comics/constructive.png...\n",
      "Downloading page http://xkcd.com/912...\n",
      "Downloading image http://imgs.xkcd.com/comics/loop.png...\n",
      "Downloading image http://imgs.xkcd.com/comics/hamster_ball_heist.png...\n",
      "Downloading image http://imgs.xkcd.com/comics/wrong_superhero.png...\n",
      "Downloading image http://imgs.xkcd.com/comics/metaball.png...\n",
      "Downloading image http://imgs.xkcd.com/comics/haskell.png...\n",
      "Downloading image http://imgs.xkcd.com/comics/baring_my_heart.png...\n",
      "Downloading image http://imgs.xkcd.com/comics/threesome.png...\n",
      "Downloading image http://imgs.xkcd.com/comics/single_ladies.png...\n",
      "Downloading page http://xkcd.com/512...\n",
      "Downloading page http://xkcd.com/1112...\n",
      "Downloading page http://xkcd.com/1313...\n",
      "Downloading page http://xkcd.com/811...\n",
      "Downloading page http://xkcd.com/1013...\n",
      "Downloading page http://xkcd.com/1412...\n",
      "Downloading page http://xkcd.com/1508...\n",
      "Downloading image http://imgs.xkcd.com/comics/manual_override.png...\n",
      "Downloading page http://xkcd.com/113...\n",
      "Downloading page http://xkcd.com/614...\n",
      "Downloading page http://xkcd.com/212...\n",
      "Downloading page http://xkcd.com/713...\n",
      "Downloading page http://xkcd.com/312...\n",
      "Downloading image http://imgs.xkcd.com/comics/alternate_currency.png...\n",
      "Downloading image http://imgs.xkcd.com/comics/think_logically.png...\n",
      "Downloading image http://imgs.xkcd.com/comics/regex_golf.png...\n",
      "Downloading page http://xkcd.com/913...\n",
      "Downloading image http://imgs.xkcd.com/comics/starlight.png...\n",
      "Downloading page http://xkcd.com/1213...\n",
      "Downloading image http://imgs.xkcd.com/comics/wake_up_sheeple.png...\n",
      "Downloading image http://imgs.xkcd.com/comics/teenage_mutant_ninja_turtles.png...\n",
      "Downloading image http://imgs.xkcd.com/comics/riemann-zeta.jpg...\n",
      "Downloading image http://imgs.xkcd.com/comics/brain.png...\n",
      "Downloading image http://imgs.xkcd.com/comics/woodpecker.png...\n",
      "Downloading page http://xkcd.com/513...\n",
      "Downloading image http://imgs.xkcd.com/comics/geoip.png...\n",
      "Downloading image http://imgs.xkcd.com/comics/with_apologies_to_robert_frost.png...\n",
      "Downloading page http://xkcd.com/1113...\n",
      "Downloading page http://xkcd.com/1314...\n",
      "Downloading page http://xkcd.com/1014...\n",
      "Downloading page http://xkcd.com/812...\n",
      "Downloading page http://xkcd.com/114...\n",
      "Downloading page http://xkcd.com/213...\n",
      "Downloading image http://imgs.xkcd.com/comics/core.png...\n",
      "Downloading page http://xkcd.com/615...\n",
      "Downloading image http://imgs.xkcd.com/comics/combination_vision_test.png...\n",
      "Downloading image http://imgs.xkcd.com/comics/operating_systems.png...\n",
      "Downloading image http://imgs.xkcd.com/comics/friends.png...\n",
      "Downloading page http://xkcd.com/1413...\n",
      "Downloading page http://xkcd.com/313...\n",
      "Downloading page http://xkcd.com/714...\n",
      "Downloading image http://imgs.xkcd.com/comics/glass.png...\n",
      "Downloading image http://imgs.xkcd.com/comics/car_problems.png...\n",
      "Downloading page http://xkcd.com/1214...\n",
      "Downloading page http://xkcd.com/914...\n",
      "Downloading image http://imgs.xkcd.com/comics/computational_linguists.png...\n",
      "Downloading page http://xkcd.com/1509...\n",
      "Downloading image http://imgs.xkcd.com/comics/photos.png...\n",
      "Downloading image http://imgs.xkcd.com/comics/killed_in_action.png...\n",
      "Downloading image http://imgs.xkcd.com/comics/ghostbusters_marathon.png...\n",
      "Downloading image http://imgs.xkcd.com/comics/avoidance.png...\n",
      "Downloading page http://xkcd.com/514...\n",
      "Downloading page http://xkcd.com/813...\n",
      "Downloading image http://imgs.xkcd.com/comics/suddenly_popular.png...\n",
      "Downloading image http://imgs.xkcd.com/comics/insomnia.png...\n",
      "Downloading image http://imgs.xkcd.com/comics/porn_for_women.png...\n",
      "Downloading page http://xkcd.com/115...\n",
      "Downloading image http://imgs.xkcd.com/comics/ice.png...\n",
      "Downloading page http://xkcd.com/1015...\n",
      "Downloading image http://imgs.xkcd.com/comics/geoguessr.png...\n",
      "Downloading page http://xkcd.com/214...\n",
      "Downloading page http://xkcd.com/1114...\n",
      "Downloading page http://xkcd.com/616...\n",
      "Downloading image http://imgs.xkcd.com/comics/simultaneous.png...\n",
      "Downloading image http://imgs.xkcd.com/comics/one_liners.png...\n",
      "Downloading page http://xkcd.com/1414...\n",
      "Downloading page http://xkcd.com/314...\n",
      "Downloading image http://imgs.xkcd.com/comics/meerkat.jpg...\n",
      " Downloading page http://xkcd.com/715...\n",
      "Downloading page http://xkcd.com/1215...\n",
      "Downloading page http://xkcd.com/515...\n",
      "Downloading page http://xkcd.com/1315...\n",
      "Downloading image http://imgs.xkcd.com/comics/kerning.png...\n",
      "Downloading page http://xkcd.com/814...\n",
      "Downloading page http://xkcd.com/915...\n",
      "Downloading image http://imgs.xkcd.com/comics/the_problem_with_wikipedia.png...\n",
      "Downloading image http://imgs.xkcd.com/comics/metallurgy.png...\n",
      "Downloading image http://imgs.xkcd.com/comics/lease.png...\n",
      "Downloading page http://xkcd.com/116...\n",
      "Downloading image http://imgs.xkcd.com/comics/writing_skills.png...\n",
      "Downloading page http://xkcd.com/1016...\n",
      "Downloading image http://imgs.xkcd.com/comics/dating_pools.png...\n",
      "Downloading image http://imgs.xkcd.com/comics/insight.png...\n",
      " Downloading image http://imgs.xkcd.com/comics/scenery_cheat_sheet.png...\n",
      "Downloading image http://imgs.xkcd.com/comics/numbers.png...\n",
      "Downloading image http://imgs.xkcd.com/comics/questions_for_god.png...\n",
      "Downloading image http://imgs.xkcd.com/comics/no_one_must_know.png...\n",
      "Downloading page http://xkcd.com/1115...\n",
      "Downloading page http://xkcd.com/215...\n",
      "Downloading image http://imgs.xkcd.com/comics/diode.png...\n",
      "Downloading page http://xkcd.com/617...\n",
      "Downloading image http://imgs.xkcd.com/comics/connoisseur.png...\n",
      "Downloading image http://imgs.xkcd.com/comics/city.jpg...\n",
      "Downloading page http://xkcd.com/1415...\n",
      "Downloading image http://imgs.xkcd.com/comics/valentine_dilemma.png...\n",
      "Downloading page http://xkcd.com/1216...\n",
      "Downloading page http://xkcd.com/315...\n",
      "Downloading page http://xkcd.com/1316...\n",
      "Downloading page http://xkcd.com/815...\n",
      "Downloading image http://imgs.xkcd.com/comics/sky.png...\n",
      "Downloading page http://xkcd.com/716...\n",
      "Downloading page http://xkcd.com/516...\n",
      "Downloading image http://imgs.xkcd.com/comics/letting_go.png...\n",
      "Downloading image http://imgs.xkcd.com/comics/understocked.png...\n",
      "Downloading page http://xkcd.com/1510...\n",
      "Downloading page http://xkcd.com/916...\n",
      "Downloading page http://xkcd.com/117...\n",
      "Downloading image http://imgs.xkcd.com/comics/sticks_and_stones.png...\n",
      "Downloading page http://xkcd.com/1017...\n",
      "Downloading image http://imgs.xkcd.com/comics/ballooning.png...\n",
      "Downloading page http://xkcd.com/1116...\n",
      "Downloading image http://imgs.xkcd.com/comics/braille.png...\n",
      "Downloading image http://imgs.xkcd.com/comics/inexplicable.png...\n",
      "Downloading page http://xkcd.com/216...\n",
      "Downloading image http://imgs.xkcd.com/comics/mu.png...\n",
      "Downloading image http://imgs.xkcd.com/comics/time_machine.png...\n",
      "Downloading image http://imgs.xkcd.com/comics/wood_chips.png...\n",
      "Downloading page http://xkcd.com/1217...\n",
      "Downloading page http://xkcd.com/618...\n",
      "Downloading image http://imgs.xkcd.com/comics/unpickable.png...\n",
      "Downloading image http://imgs.xkcd.com/comics/pong.png...\n",
      "Downloading page http://xkcd.com/1416...\n",
      "Downloading image http://imgs.xkcd.com/comics/backward_in_time.png...\n",
      "Downloading page http://xkcd.com/316...\n",
      "Downloading page http://xkcd.com/816...\n",
      "Downloading image http://imgs.xkcd.com/comics/romantic_drama_equation.png...\n",
      "Downloading image http://imgs.xkcd.com/comics/traffic_lights.gif...\n",
      "Downloading page http://xkcd.com/1317...\n",
      "Downloading page http://xkcd.com/517...\n",
      "Downloading page http://xkcd.com/717...\n",
      "Downloading image http://imgs.xkcd.com/comics/cells.png...\n",
      "Downloading image http://imgs.xkcd.com/comics/asteroid.png...\n",
      "Could not find comic image.\n",
      "Downloading image http://imgs.xkcd.com/comics/ballooning.png...\n",
      "Downloading image http://imgs.xkcd.com/comics/loud_sex.png...\n",
      "Downloading image http://imgs.xkcd.com/comics/applied_math.png...\n",
      "Downloading page http://xkcd.com/917...\n",
      "Downloading page http://xkcd.com/118...\n",
      "Downloading image http://imgs.xkcd.com/comics/theft.png...\n",
      "Downloading page http://xkcd.com/1117...\n",
      "Downloading page http://xkcd.com/1218...\n",
      "Downloading page http://xkcd.com/1018...\n",
      "Downloading page http://xkcd.com/1417...\n",
      "Downloading page http://xkcd.com/217...\n",
      "Downloading page http://xkcd.com/619...\n",
      "Downloading image http://imgs.xkcd.com/comics/marshmallow_gun.png...\n",
      "Downloading image http://imgs.xkcd.com/comics/furtive.png...\n",
      "Downloading image http://imgs.xkcd.com/comics/napoleon.png...\n",
      "Downloading page http://xkcd.com/817...\n",
      "Downloading page http://xkcd.com/1318...\n",
      "Downloading page http://xkcd.com/317...\n",
      "Downloading image http://imgs.xkcd.com/comics/50_ways.png...\n",
      "Downloading image http://imgs.xkcd.com/comics/hofstadter.png...\n",
      "Downloading image http://imgs.xkcd.com/comics/my_sky.png...\n",
      "Downloading image http://imgs.xkcd.com/comics/doors_of_durin.png...\n",
      "Downloading page http://xkcd.com/718...\n",
      "Downloading image http://imgs.xkcd.com/comics/good_cop_dadaist_cop.png...\n",
      "Downloading image http://imgs.xkcd.com/comics/seven.png...\n",
      "Downloading image http://imgs.xkcd.com/comics/e_to_the_pi_minus_pi.png...\n",
      "Downloading image http://imgs.xkcd.com/comics/supported_features.png...\n",
      "Downloading page http://xkcd.com/518...\n",
      "Downloading page http://xkcd.com/1511...\n",
      "Downloading page http://xkcd.com/119...\n",
      "Downloading image http://imgs.xkcd.com/comics/mutual.png...\n",
      "Downloading image http://imgs.xkcd.com/comics/that_lovin_feelin.png...\n",
      "Downloading image http://imgs.xkcd.com/comics/actually.png...\n",
      "Downloading page http://xkcd.com/918...\n",
      "Downloading page http://xkcd.com/1219...\n",
      "Downloading image http://imgs.xkcd.com/comics/the_flake_equation.png...\n",
      "Downloading page http://xkcd.com/1019...\n",
      "Downloading page http://xkcd.com/1418...\n",
      "Downloading page http://xkcd.com/620...\n",
      "Downloading page http://xkcd.com/218...\n",
      "Downloading page http://xkcd.com/818...\n",
      "Downloading page http://xkcd.com/1118...\n",
      "Downloading image http://imgs.xkcd.com/comics/flow_charts.png...\n",
      "Downloading page http://xkcd.com/318...\n",
      "Downloading image http://imgs.xkcd.com/comics/hedgeclipper.jpg...\n",
      "Downloading page http://xkcd.com/1319...\n",
      "Downloading image http://imgs.xkcd.com/comics/reports.png...\n",
      "Downloading page http://xkcd.com/719...\n",
      "Downloading image http://imgs.xkcd.com/comics/googleplus.png...\n",
      "Downloading image http://imgs.xkcd.com/comics/first_post.png...\n",
      "Downloading image http://imgs.xkcd.com/comics/horse.png...\n",
      "Downloading image http://imgs.xkcd.com/comics/wings.png...\n",
      "Downloading page http://xkcd.com/519...\n",
      "Downloading page http://xkcd.com/120...\n",
      "Downloading image http://imgs.xkcd.com/comics/nintendo_surgeon.png...\n",
      "Downloading page http://xkcd.com/1220...\n",
      "Downloading image http://imgs.xkcd.com/comics/illness.png...\n",
      "Downloading image http://imgs.xkcd.com/comics/nostalgia.png...\n",
      "Downloading image http://imgs.xkcd.com/comics/microsoft.png...\n",
      "Downloading page http://xkcd.com/919...\n",
      "Downloading image http://imgs.xkcd.com/comics/automation.png...\n",
      "Downloading page http://xkcd.com/1020...\n",
      "Downloading image http://imgs.xkcd.com/comics/brain_worms.png...Downloading page http://xkcd.com/1419...\n",
      "\n",
      "Downloading page http://xkcd.com/621...\n",
      "Downloading image http://imgs.xkcd.com/comics/spice_girl.png...\n",
      "Downloading image http://imgs.xkcd.com/comics/11th_grade.png...\n",
      "Downloading image http://imgs.xkcd.com/comics/dating_service.png...\n",
      "Downloading page http://xkcd.com/319...\n",
      "Downloading page http://xkcd.com/219...\n",
      " Downloading page http://xkcd.com/1119...\n",
      "Downloading page http://xkcd.com/819...\n",
      "Downloading page http://xkcd.com/1320...\n",
      "Downloading image http://imgs.xkcd.com/comics/hipsters.png...\n",
      "Downloading image http://imgs.xkcd.com/comics/tween_bromance.png...\n",
      "Downloading page http://xkcd.com/720...\n",
      "Downloading page http://xkcd.com/520...\n",
      "Downloading image http://imgs.xkcd.com/comics/orion_nebula.png...\n",
      "Downloading image http://imgs.xkcd.com/comics/on_the_phone.png...\n",
      "Downloading page http://xkcd.com/121...\n",
      "Downloading page http://xkcd.com/1512...\n",
      "Downloading image http://imgs.xkcd.com/comics/superlative.png...\n",
      "Downloading page http://xkcd.com/920...\n",
      "Downloading image http://imgs.xkcd.com/comics/undoing.png...\n",
      "Downloading page http://xkcd.com/1221...\n",
      "Downloading image http://imgs.xkcd.com/comics/blanket_fort.png...\n",
      "Downloading image http://imgs.xkcd.com/comics/engineering_hubris.png...\n",
      "Downloading image http://imgs.xkcd.com/comics/walmart.png...\n",
      "Downloading image http://imgs.xkcd.com/comics/five_minute_comics_part_1.png...\n",
      "Downloading image http://imgs.xkcd.com/comics/recipes.png...\n",
      "Downloading page http://xkcd.com/1021...\n",
      "Downloading page http://xkcd.com/1420...\n",
      "Downloading image http://imgs.xkcd.com/comics/cuttlefish.png...\n",
      "Downloading image http://imgs.xkcd.com/comics/balloon.png...\n",
      "Downloading page http://xkcd.com/622...\n",
      "Downloading page http://xkcd.com/1120...\n",
      "Downloading image http://imgs.xkcd.com/comics/nomenclature.png...\n",
      "Downloading image http://imgs.xkcd.com/comics/youtube_parties.png...\n",
      "Downloading page http://xkcd.com/220...\n",
      "Downloading page http://xkcd.com/1321...\n",
      "Downloading page http://xkcd.com/122...\n",
      "Downloading page http://xkcd.com/721...\n",
      "Downloading page http://xkcd.com/1222...\n",
      "Downloading image http://imgs.xkcd.com/comics/business_plan.png...\n",
      "Downloading page http://xkcd.com/320...\n",
      "Downloading image http://imgs.xkcd.com/comics/watches.png...\n",
      "Downloading page http://xkcd.com/521...\n",
      "Downloading page http://xkcd.com/820...\n",
      "Downloading image http://imgs.xkcd.com/comics/haiku_proof.png...\n",
      "Downloading image http://imgs.xkcd.com/comics/blurring_the_line.png...\n",
      "Downloading page http://xkcd.com/921...\n",
      "Downloading image http://imgs.xkcd.com/comics/philosophy.png...\n",
      "Downloading page http://xkcd.com/1421...\n",
      "Downloading image http://imgs.xkcd.com/comics/cold.png...\n",
      "Downloading image http://imgs.xkcd.com/comics/quirky_girls.png...\n",
      "Downloading image http://imgs.xkcd.com/comics/flatland.png...\n",
      "Downloading image http://imgs.xkcd.com/comics/pastime.png...\n",
      "Downloading page http://xkcd.com/623...\n",
      "Downloading image http://imgs.xkcd.com/comics/28_hour_day.png...\n",
      "Downloading image http://imgs.xkcd.com/comics/2008_christmas_special.png...\n",
      "Downloading image http://imgs.xkcd.com/comics/five_minute_comics_part_2.png...\n",
      "Downloading page http://xkcd.com/221...\n",
      "Downloading page http://xkcd.com/1223...Downloading page http://xkcd.com/1121...\n",
      " \n",
      "Downloading page http://xkcd.com/1322...\n",
      "Downloading page http://xkcd.com/123...\n",
      "Downloading page http://xkcd.com/1022...\n",
      "Downloading image http://imgs.xkcd.com/comics/delivery_notification.png...\n",
      "Downloading page http://xkcd.com/722...\n",
      "Downloading page http://xkcd.com/321...\n",
      "Downloading image http://imgs.xkcd.com/comics/future_self.png...\n",
      "Downloading image http://imgs.xkcd.com/comics/horoscopes.png...\n",
      "Downloading image http://imgs.xkcd.com/comics/oregon.png...\n",
      "Downloading page http://xkcd.com/522...\n",
      "Downloading image http://imgs.xkcd.com/comics/dwarf_fortress.png...\n",
      "Downloading image http://imgs.xkcd.com/comics/random_number.png...\n",
      "Downloading image http://imgs.xkcd.com/comics/winter.png...\n",
      "Downloading image http://imgs.xkcd.com/comics/centrifugal_force.png...\n",
      "Downloading page http://xkcd.com/1422...\n",
      "Downloading image http://imgs.xkcd.com/comics/so_it_has_come_to_this.png...\n",
      "Downloading image http://imgs.xkcd.com/comics/identity.png...\n",
      "Downloading image http://imgs.xkcd.com/comics/computer_problems.png...\n",
      "Downloading page http://xkcd.com/1513...\n",
      "Downloading image http://imgs.xkcd.com/comics/thighs.png...\n",
      "Downloading page http://xkcd.com/624...\n",
      "Downloading image http://imgs.xkcd.com/comics/google_trends.png...\n",
      "Downloading page http://xkcd.com/222...\n",
      "Downloading page http://xkcd.com/821...\n",
      "Downloading page http://xkcd.com/922...\n",
      "Downloading page http://xkcd.com/1023...\n",
      "Downloading page http://xkcd.com/1224...\n",
      "Downloading page http://xkcd.com/1323...\n",
      "Downloading page http://xkcd.com/124...\n",
      "Downloading page http://xkcd.com/1122...\n",
      "Downloading image http://imgs.xkcd.com/comics/my_phone_is_dying.png...\n",
      "Downloading page http://xkcd.com/322...\n",
      "Downloading page http://xkcd.com/723...\n",
      "Downloading image http://imgs.xkcd.com/comics/branding.png...\n",
      "Downloading page http://xkcd.com/523...\n",
      "Downloading image http://imgs.xkcd.com/comics/small_talk.png...\n",
      "Downloading image http://imgs.xkcd.com/comics/late_night_pbs.png...\n",
      "Downloading image http://imgs.xkcd.com/comics/fight_club.png...\n",
      "Downloading image http://imgs.xkcd.com/comics/council_of_300.png...\n",
      "Downloading image http://imgs.xkcd.com/comics/five_minute_comics_part_3.png...\n",
      "Downloading page http://xkcd.com/1423...\n",
      "Downloading image http://imgs.xkcd.com/comics/protocol.png...\n",
      "Downloading image http://imgs.xkcd.com/comics/blogofractal.png...\n",
      "Downloading image http://imgs.xkcd.com/comics/pix_plz.png...\n",
      "Downloading image http://imgs.xkcd.com/comics/seismic_waves.png...\n",
      "Downloading image http://imgs.xkcd.com/comics/electoral_precedent.png...\n",
      "Downloading page http://xkcd.com/625...\n",
      "Downloading image http://imgs.xkcd.com/comics/decline.png...\n",
      "Downloading page http://xkcd.com/923...\n",
      "Downloading page http://xkcd.com/223...\n",
      "Downloading page http://xkcd.com/1225...\n",
      "Downloading page http://xkcd.com/1324...\n",
      "Downloading page http://xkcd.com/1024...\n",
      "Downloading image http://imgs.xkcd.com/comics/code_quality.png...\n",
      "Downloading image http://imgs.xkcd.com/comics/conversation.png...\n",
      "Downloading page http://xkcd.com/524...\n",
      "Downloading page http://xkcd.com/724...\n",
      "Downloading page http://xkcd.com/323...\n",
      "Downloading image http://imgs.xkcd.com/comics/collections.png...\n",
      "Downloading page http://xkcd.com/822...\n",
      "Downloading image http://imgs.xkcd.com/comics/strunk_and_white.png...\n",
      "Downloading page http://xkcd.com/125...\n",
      "Downloading page http://xkcd.com/1424...\n",
      "Downloading image http://imgs.xkcd.com/comics/valentines_day.jpg...\n",
      "Downloading image http://imgs.xkcd.com/comics/ice_sheets.png...\n",
      "Downloading page http://xkcd.com/1514...\n",
      "Downloading page http://xkcd.com/1123...\n",
      "Downloading image http://imgs.xkcd.com/comics/error_code.png...\n",
      "Downloading image http://imgs.xkcd.com/comics/weather.png...\n",
      "Downloading image http://imgs.xkcd.com/comics/party.png...\n",
      "Downloading page http://xkcd.com/924...\n",
      "Downloading page http://xkcd.com/626...\n",
      "Downloading image http://imgs.xkcd.com/comics/hell.png...\n",
      "Downloading image http://imgs.xkcd.com/comics/ballmer_peak.png...\n",
      "Downloading image http://imgs.xkcd.com/comics/guest_week_jeph_jacques_questionable_content.png...\n",
      "Downloading image http://imgs.xkcd.com/comics/marketing_interview.png...\n",
      "Downloading page http://xkcd.com/224...\n",
      "Downloading image http://imgs.xkcd.com/comics/en_garde.png...\n",
      "Downloading page http://xkcd.com/1226...\n",
      "Downloading page http://xkcd.com/1325...\n",
      "Downloading image http://imgs.xkcd.com/comics/the_universal_label.png...\n",
      "Downloading page http://xkcd.com/525...\n",
      "Downloading image http://imgs.xkcd.com/comics/3d_printer.png...\n",
      "Downloading page http://xkcd.com/725...\n",
      "Downloading image http://imgs.xkcd.com/comics/newton_and_leibniz.png...\n",
      "Downloading page http://xkcd.com/126...\n",
      "Downloading page http://xkcd.com/1425...\n",
      "Downloading page http://xkcd.com/1124...\n",
      "Downloading page http://xkcd.com/324...\n",
      "Downloading page http://xkcd.com/823...\n",
      "Downloading image http://imgs.xkcd.com/comics/lisp.jpg...\n",
      "Downloading image http://imgs.xkcd.com/comics/balloon_internet.png...\n",
      "Downloading page http://xkcd.com/925...\n",
      "Downloading image http://imgs.xkcd.com/comics/rejection.png...\n",
      "Downloading page http://xkcd.com/627...\n",
      "Downloading image http://imgs.xkcd.com/comics/i_know_youre_listening.png...\n",
      "Downloading image http://imgs.xkcd.com/comics/literally.png...\n",
      "Downloading page http://xkcd.com/1025...\n",
      "Downloading page http://xkcd.com/1227...\n",
      "Downloading image http://imgs.xkcd.com/comics/permacal.png...\n",
      "Downloading image http://imgs.xkcd.com/comics/red_spiders_cometh.jpg...\n",
      "Downloading page http://xkcd.com/1326...\n",
      "Downloading page http://xkcd.com/225...\n",
      "Downloading image http://imgs.xkcd.com/comics/tasks.png...\n",
      "Downloading page http://xkcd.com/526...\n",
      "Downloading image http://imgs.xkcd.com/comics/law_of_drama.png...\n",
      "Downloading image http://imgs.xkcd.com/comics/tapping.png...\n",
      "Downloading image http://imgs.xkcd.com/comics/guest_week_david_troupes_buttercup_festival.png...\n",
      "Downloading page http://xkcd.com/726...\n",
      "Downloading image http://imgs.xkcd.com/comics/cell_phones.png...\n",
      "Downloading image http://imgs.xkcd.com/comics/tech_support_cheat_sheet.png...\n",
      "Downloading image http://imgs.xkcd.com/comics/tumblr.png...\n",
      "Downloading image http://imgs.xkcd.com/comics/the_pace_of_modern_life.png...\n",
      "Downloading image http://imgs.xkcd.com/comics/sharks.png...\n",
      "Downloading page http://xkcd.com/1125...\n",
      "Downloading page http://xkcd.com/1515...\n",
      "Downloading page http://xkcd.com/127...\n",
      "Downloading page http://xkcd.com/1426...\n",
      "Downloading image http://imgs.xkcd.com/comics/converting_to_metric.png...\n",
      "Downloading page http://xkcd.com/325...\n",
      "Downloading image http://imgs.xkcd.com/comics/open_source.png...\n",
      "Downloading page http://xkcd.com/824...\n",
      "Downloading page http://xkcd.com/1026...\n",
      "Downloading image http://imgs.xkcd.com/comics/seat_selection.png...\n",
      "Downloading page http://xkcd.com/926...\n",
      "Downloading image http://imgs.xkcd.com/comics/objects_in_mirror.png...\n",
      "Downloading page http://xkcd.com/1327...\n",
      "Downloading page http://xkcd.com/628...\n",
      "Downloading image http://imgs.xkcd.com/comics/the_fast_and_the_furious.jpg...\n",
      "Downloading image http://imgs.xkcd.com/comics/reduce_your_payments.png...\n",
      "Downloading image http://imgs.xkcd.com/comics/a-minus-minus.png...\n",
      "Downloading page http://xkcd.com/527...\n",
      "Downloading image http://imgs.xkcd.com/comics/guest_week_bill_amend_foxtrot.png...\n",
      "Downloading page http://xkcd.com/226...\n",
      "Downloading page http://xkcd.com/727...\n",
      "Downloading page http://xkcd.com/1126...\n",
      "Downloading image http://imgs.xkcd.com/comics/compare_and_contrast.png...\n",
      "Downloading page http://xkcd.com/1427...\n",
      "Downloading image http://imgs.xkcd.com/comics/time_vulture.png...\n",
      "Downloading page http://xkcd.com/326...\n",
      "Downloading page http://xkcd.com/128...\n",
      "Downloading image http://imgs.xkcd.com/comics/mobile_marketing.png...\n",
      "Downloading image http://imgs.xkcd.com/comics/psychic.png...\n",
      "Downloading page http://xkcd.com/1228...\n",
      "Downloading image http://imgs.xkcd.com/comics/keynote.png...\n",
      "Downloading page http://xkcd.com/1027...\n",
      "Downloading page http://xkcd.com/825...\n",
      "Downloading page http://xkcd.com/1328...\n",
      "Downloading page http://xkcd.com/927...\n",
      "Downloading image http://imgs.xkcd.com/comics/basketball_earth.png...\n",
      "Downloading image http://imgs.xkcd.com/comics/epsilon_and_zeta.png...\n",
      "Downloading image http://imgs.xkcd.com/comics/ios_keyboard.png...\n",
      "Downloading image http://imgs.xkcd.com/comics/swingset.png...\n",
      "Downloading page http://xkcd.com/629...\n",
      "Downloading image http://imgs.xkcd.com/comics/trade_expert.png...\n",
      "Downloading page http://xkcd.com/528...\n",
      "Downloading image http://imgs.xkcd.com/comics/dPain_over_dt.png...\n",
      "Downloading image http://imgs.xkcd.com/comics/effect_an_effect.png...\n",
      "Downloading image http://imgs.xkcd.com/comics/prometheus.png...\n",
      "Downloading image http://imgs.xkcd.com/comics/pickup_artist.png...\n",
      "Downloading page http://xkcd.com/728...\n",
      "Downloading image http://imgs.xkcd.com/comics/guest_week_jeffrey_rowland_overcompensating.png...\n",
      "Downloading page http://xkcd.com/227...\n",
      "Downloading page http://xkcd.com/1516...\n",
      "Downloading page http://xkcd.com/1428...\n",
      "Downloading page http://xkcd.com/129...\n",
      "Downloading image http://imgs.xkcd.com/comics/standards.png...\n",
      "Downloading page http://xkcd.com/327...\n",
      "Downloading image http://imgs.xkcd.com/comics/skins.png...\n",
      "Downloading image http://imgs.xkcd.com/comics/update.png...\n",
      "Downloading image http://imgs.xkcd.com/comics/windows_7.png...\n",
      "Downloading page http://xkcd.com/1229...\n",
      "Downloading page http://xkcd.com/1127...\n",
      "Downloading image http://imgs.xkcd.com/comics/ipad.png...\n",
      "Downloading page http://xkcd.com/1028...\n",
      "Downloading page http://xkcd.com/826...\n",
      "Downloading image http://imgs.xkcd.com/comics/color_codes.png...\n",
      "Downloading page http://xkcd.com/928...\n",
      "Downloading image http://imgs.xkcd.com/comics/move_fast_and_break_things.png...\n",
      "Downloading page http://xkcd.com/1329...\n",
      "Downloading page http://xkcd.com/630...\n",
      "Downloading image http://imgs.xkcd.com/comics/content_protection.png...\n",
      "Downloading page http://xkcd.com/529...\n",
      "Downloading image http://imgs.xkcd.com/comics/exploits_of_a_mom.png...\n",
      "Downloading page http://xkcd.com/729...\n",
      "Downloading image http://imgs.xkcd.com/comics/screensaver.png...\n",
      "Downloading image http://imgs.xkcd.com/comics/congress.png...\n",
      "Downloading page http://xkcd.com/228...\n",
      "Downloading image http://imgs.xkcd.com/comics/communication.png...\n",
      "Downloading page http://xkcd.com/1429...\n",
      "Downloading image http://imgs.xkcd.com/comics/guest_week_zach_weiner_smbc.png...\n",
      "Downloading image http://imgs.xkcd.com/comics/mimic_octopus.png...\n",
      " Downloading page http://xkcd.com/130...\n",
      "Downloading image http://imgs.xkcd.com/comics/standing.png...\n",
      "Downloading page http://xkcd.com/328...\n",
      "Downloading image http://imgs.xkcd.com/comics/time_travel.png...\n",
      "Downloading page http://xkcd.com/1230...\n",
      "Downloading image http://imgs.xkcd.com/comics/sledding_discussion.png...\n",
      "Downloading image http://imgs.xkcd.com/comics/win_by_induction.png...\n",
      "Downloading image http://imgs.xkcd.com/comics/laser_pointer.png...\n",
      "Downloading page http://xkcd.com/1029...\n",
      "Downloading image http://imgs.xkcd.com/comics/data.png...\n",
      "Downloading image http://imgs.xkcd.com/comics/resonance.png...\n",
      "Downloading image http://imgs.xkcd.com/comics/julia_stiles.jpg...\n",
      "Downloading page http://xkcd.com/1330...\n",
      "Downloading image http://imgs.xkcd.com/comics/eggs.png...\n",
      "Downloading page http://xkcd.com/929...\n",
      "Downloading page http://xkcd.com/631...\n",
      "Downloading page http://xkcd.com/530...\n",
      "Downloading image http://imgs.xkcd.com/comics/polar_cartesian.png...\n",
      "Downloading page http://xkcd.com/1517...\n",
      "Downloading page http://xkcd.com/1430...\n",
      "Downloading image http://imgs.xkcd.com/comics/drawing_stars.png...\n",
      "Downloading page http://xkcd.com/827...\n",
      "Downloading page http://xkcd.com/229...\n",
      "Downloading page http://xkcd.com/730...\n",
      "Downloading image http://imgs.xkcd.com/comics/kola_borehole.png...\n",
      "Downloading page http://xkcd.com/1231...\n",
      "Downloading page http://xkcd.com/329...\n",
      "Downloading image http://imgs.xkcd.com/comics/speculation.png...\n",
      "Downloading page http://xkcd.com/1030...\n",
      "Downloading image http://imgs.xkcd.com/comics/im_an_idiot.png...\n",
      "Downloading image http://imgs.xkcd.com/comics/anatomy_text.png...\n",
      "Downloading image http://imgs.xkcd.com/comics/business_idea.png...\n",
      "Downloading image http://imgs.xkcd.com/comics/proteins.png...\n",
      "Downloading page http://xkcd.com/930...\n",
      " Downloading page http://xkcd.com/131...\n",
      "Downloading page http://xkcd.com/1331...\n",
      "Downloading image http://imgs.xkcd.com/comics/graffiti.png...\n",
      "Downloading page http://xkcd.com/531...\n",
      "Downloading page http://xkcd.com/1128...\n",
      "Downloading image http://imgs.xkcd.com/comics/circuit_diagram.png...\n",
      "Downloading image http://imgs.xkcd.com/comics/habitable_zone.png...\n",
      "Downloading image http://imgs.xkcd.com/comics/turing_test.png...\n",
      "Downloading page http://xkcd.com/632...\n",
      "Downloading image http://imgs.xkcd.com/comics/keyed.png...\n",
      "Downloading image http://imgs.xkcd.com/comics/spectroscopy.png...\n",
      "Downloading page http://xkcd.com/828...\n",
      "Downloading page http://xkcd.com/1431...\n",
      "Downloading page http://xkcd.com/330...\n",
      "Downloading page http://xkcd.com/1232...\n",
      "Downloading image http://imgs.xkcd.com/comics/fans.png...\n",
      "Downloading image http://imgs.xkcd.com/comics/contingency_plan.png...\n",
      "Downloading image http://imgs.xkcd.com/comics/days_of_the_week.png...\n",
      "Downloading page http://xkcd.com/1518...\n",
      "Downloading page http://xkcd.com/230...\n",
      "Downloading image http://imgs.xkcd.com/comics/frequency/heartbeat.gif...\n",
      "Downloading page http://xkcd.com/1031...\n",
      "Downloading image http://imgs.xkcd.com/comics/fifty_shades.png...\n",
      "Downloading image http://imgs.xkcd.com/comics/suspicion.png...\n",
      "Downloading page http://xkcd.com/731...\n",
      "Downloading image http://imgs.xkcd.com/comics/positive_attitude.png...\n",
      "Downloading page http://xkcd.com/132...\n",
      "Downloading page http://xkcd.com/532...\n",
      "Downloading page http://xkcd.com/1129...\n",
      "Downloading image http://imgs.xkcd.com/comics/indecision.png...\n",
      "Downloading image http://imgs.xkcd.com/comics/marriage.png...\n",
      "Downloading image http://imgs.xkcd.com/comics/hamiltonian.png...\n",
      "Downloading page http://xkcd.com/1332...\n",
      "Downloading image http://imgs.xkcd.com/comics/realistic_criteria.png...\n",
      "Downloading page http://xkcd.com/633...\n",
      "Downloading image http://imgs.xkcd.com/comics/s_keyboard_leopard.png...\n",
      "Downloading image http://imgs.xkcd.com/comics/desert_island.png...\n",
      "Downloading page http://xkcd.com/829...\n",
      "Downloading image http://imgs.xkcd.com/comics/music_knowledge.png...\n",
      "Downloading page http://xkcd.com/331...\n",
      "Downloading page http://xkcd.com/931...\n",
      "Downloading page http://xkcd.com/1233...\n",
      "Downloading image http://imgs.xkcd.com/comics/piano.png...\n",
      "Downloading image http://imgs.xkcd.com/comics/cell_number.png...\n",
      "Downloading image http://imgs.xkcd.com/comics/slippery_slope.png...\n",
      "Downloading image http://imgs.xkcd.com/comics/blockbuster_mining.png...\n",
      " Downloading page http://xkcd.com/1432...\n",
      "Downloading image http://imgs.xkcd.com/comics/arsenic_based_life.png...\n",
      "Downloading page http://xkcd.com/1032...\n",
      " Downloading page http://xkcd.com/133...\n",
      "Downloading page http://xkcd.com/1130...\n",
      "Downloading page http://xkcd.com/231...\n",
      "Downloading page http://xkcd.com/732...\n",
      "Downloading page http://xkcd.com/533...\n",
      "Downloading page http://xkcd.com/1333...\n",
      "Downloading image http://imgs.xkcd.com/comics/photoshops.png...\n",
      "Downloading image http://imgs.xkcd.com/comics/typical_morning_routine.png...\n",
      "Downloading image http://imgs.xkcd.com/comics/relativity.png...\n",
      "Downloading page http://xkcd.com/830...\n",
      "Downloading page http://xkcd.com/634...\n",
      "Downloading image http://imgs.xkcd.com/comics/lanes.png...\n",
      "Downloading image http://imgs.xkcd.com/comics/the_sake_of_argument.png...\n",
      "Downloading image http://imgs.xkcd.com/comics/cat_proximity.png...\n",
      "Downloading page http://xkcd.com/332...\n",
      "Downloading image http://imgs.xkcd.com/comics/the_raven.jpg...\n",
      "Downloading image http://imgs.xkcd.com/comics/networking.png...\n",
      "Downloading image http://imgs.xkcd.com/comics/poll_watching.png...\n",
      "Downloading image http://imgs.xkcd.com/comics/hdtv.png...\n",
      "Downloading image http://imgs.xkcd.com/comics/laptop_hell.png...\n",
      "Downloading page http://xkcd.com/1234...\n",
      "Downloading image http://imgs.xkcd.com/comics/first_date.png...\n",
      "Downloading page http://xkcd.com/1519...\n",
      "Downloading page http://xkcd.com/1433...\n",
      "Downloading image http://imgs.xkcd.com/comics/genetic_analysis.png...\n",
      "Downloading image http://imgs.xkcd.com/comics/date.png...\n",
      "Downloading page http://xkcd.com/232...\n",
      "Downloading page http://xkcd.com/1131...\n",
      "Downloading page http://xkcd.com/134...\n",
      "Downloading image http://imgs.xkcd.com/comics/gyroscopes.png...\n",
      "Downloading page http://xkcd.com/733...\n",
      "Downloading page http://xkcd.com/534...\n",
      "Downloading page http://xkcd.com/932...\n",
      "Downloading page http://xkcd.com/1033...\n",
      "Downloading image http://imgs.xkcd.com/comics/douglas_engelbart_1925_2013.png...\n",
      "Downloading page http://xkcd.com/635...\n",
      "Downloading page http://xkcd.com/1334...\n",
      "Downloading image http://imgs.xkcd.com/comics/lightsaber.png...\n",
      "Downloading page http://xkcd.com/831...\n",
      "Downloading page http://xkcd.com/333...\n",
      "Downloading image http://imgs.xkcd.com/comics/chess_enlightenment.png...\n",
      "Downloading image http://imgs.xkcd.com/comics/math.png...\n",
      "Downloading image http://imgs.xkcd.com/comics/myspace.png...\n",
      "Downloading image http://imgs.xkcd.com/comics/eagle.png...\n",
      "Downloading image http://imgs.xkcd.com/comics/genetic_algorithms.png...\n",
      "Downloading page http://xkcd.com/1235...\n",
      "Downloading page http://xkcd.com/1434...\n",
      "Downloading image http://imgs.xkcd.com/comics/cia.png...\n",
      "Downloading image http://imgs.xkcd.com/comics/formal_logic.png...\n",
      "Downloading image http://imgs.xkcd.com/comics/venus.png...\n",
      "Downloading image http://imgs.xkcd.com/comics/second.png...\n",
      "Downloading image http://imgs.xkcd.com/comics/locke_and_demosthenes.png...\n",
      "Downloading page http://xkcd.com/1132...\n",
      "Downloading image http://imgs.xkcd.com/comics/getting_out_of_hand.png...\n",
      "Downloading page http://xkcd.com/233...\n",
      "Downloading page http://xkcd.com/734...\n",
      "Downloading image http://imgs.xkcd.com/comics/weather_radar.png...\n",
      "Downloading page http://xkcd.com/535...\n",
      "Downloading page http://xkcd.com/1034...\n",
      "Downloading page http://xkcd.com/1335...\n",
      "Downloading image http://imgs.xkcd.com/comics/where_do_birds_go.png...\n",
      "Downloading page http://xkcd.com/933...\n",
      "Downloading image http://imgs.xkcd.com/comics/settled.png...\n",
      "Downloading page http://xkcd.com/334...\n",
      "Downloading image http://imgs.xkcd.com/comics/frequentists_vs_bayesians.png...\n",
      "Downloading page http://xkcd.com/1520...\n",
      "Downloading page http://xkcd.com/636...\n",
      "Downloading image http://imgs.xkcd.com/comics/a_new_captcha_approach.png...\n",
      "Downloading image http://imgs.xkcd.com/comics/outbreak.png...\n",
      "Downloading page http://xkcd.com/135...\n",
      "Downloading page http://xkcd.com/832...\n",
      "Downloading image http://imgs.xkcd.com/comics/it_might_be_cool.png...\n",
      "Downloading page http://xkcd.com/1236...\n",
      "Downloading image http://imgs.xkcd.com/comics/share_buttons.png...\n",
      "Downloading image http://imgs.xkcd.com/comics/now.png...\n",
      "Downloading image http://imgs.xkcd.com/comics/tattoo.png...\n",
      "Downloading page http://xkcd.com/1133...\n",
      "Downloading page http://xkcd.com/234...\n",
      "Downloading image http://imgs.xkcd.com/comics/wasteland.png...\n",
      "Downloading image http://imgs.xkcd.com/comics/brontosaurus.png...\n",
      "Downloading page http://xkcd.com/536...\n",
      "Downloading image http://imgs.xkcd.com/comics/substitute.png...\n",
      "Downloading page http://xkcd.com/735...\n",
      "Downloading image http://imgs.xkcd.com/comics/tic_tac_toe.png...\n",
      "Downloading image http://imgs.xkcd.com/comics/seashell.png...\n",
      "Downloading page http://xkcd.com/1035...\n",
      "Downloading page http://xkcd.com/934...\n",
      "Downloading page http://xkcd.com/1435...\n",
      "Downloading page http://xkcd.com/637...\n",
      "Downloading image http://imgs.xkcd.com/comics/up_goer_five.png...\n",
      "Downloading image http://imgs.xkcd.com/comics/escape_artist.png...\n",
      "Downloading image http://imgs.xkcd.com/comics/space_elevators.png...\n",
      "Downloading page http://xkcd.com/335...\n",
      "Downloading page http://xkcd.com/1237...\n",
      "Downloading image http://imgs.xkcd.com/comics/floor.png...\n",
      "Downloading image http://imgs.xkcd.com/comics/degree_off.png...\n",
      "Downloading image http://imgs.xkcd.com/comics/cadbury_eggs.png...\n",
      "Downloading image http://imgs.xkcd.com/comics/mac_pc.png...\n",
      "Downloading image http://imgs.xkcd.com/comics/scribblenauts.png...\n",
      "Downloading image http://imgs.xkcd.com/comics/presidential_alert.png...\n",
      "Downloading page http://xkcd.com/136...\n",
      "Downloading page http://xkcd.com/235...\n",
      "Downloading page http://xkcd.com/537...\n",
      "Downloading image http://imgs.xkcd.com/comics/mattress.png...\n",
      "Downloading image http://imgs.xkcd.com/comics/qr_code.png...\n",
      "Downloading page http://xkcd.com/935...\n",
      "Downloading page http://xkcd.com/736...\n",
      "Downloading page http://xkcd.com/1436...\n",
      "Downloading image http://imgs.xkcd.com/comics/science_fair.png...\n",
      "Downloading page http://xkcd.com/1521...\n",
      "Downloading page http://xkcd.com/1036...\n",
      "Downloading image http://imgs.xkcd.com/comics/kite.jpg...\n",
      "Downloading page http://xkcd.com/638...\n",
      "Downloading page http://xkcd.com/1238...\n",
      "Downloading image http://imgs.xkcd.com/comics/ducklings.png...\n",
      "Downloading page http://xkcd.com/336...\n",
      "Downloading image http://imgs.xkcd.com/comics/missed_connections.png...\n",
      "Downloading image http://imgs.xkcd.com/comics/cemetery.png...\n",
      "Downloading image http://imgs.xkcd.com/comics/orb_hammer.png...\n",
      "Downloading page http://xkcd.com/833...\n",
      "Downloading image http://imgs.xkcd.com/comics/reviews.png...\n",
      "Downloading image http://imgs.xkcd.com/comics/enlightenment.png...\n",
      "Downloading page http://xkcd.com/538...\n",
      "Downloading image http://imgs.xkcd.com/comics/the_search.png...\n",
      "Downloading page http://xkcd.com/737...\n",
      "Downloading page http://xkcd.com/1437...\n",
      "Downloading page http://xkcd.com/1134...\n",
      "Downloading image http://imgs.xkcd.com/comics/priorities.png...\n",
      "Downloading page http://xkcd.com/137...\n",
      "Downloading image http://imgs.xkcd.com/comics/convincing.png...\n",
      "Downloading page http://xkcd.com/236...\n",
      "Downloading page http://xkcd.com/1336...\n",
      "Downloading page http://xkcd.com/936...\n",
      "Downloading page http://xkcd.com/1037...\n",
      "Downloading page http://xkcd.com/1239...\n",
      "Downloading page http://xkcd.com/639...\n",
      "Downloading page http://xkcd.com/337...\n",
      "Downloading image http://imgs.xkcd.com/comics/sword_in_the_stone.png...\n",
      "Downloading image http://imgs.xkcd.com/comics/security.png...\n",
      "Downloading page http://xkcd.com/834...\n",
      "Downloading image http://imgs.xkcd.com/comics/yogurt.png...\n",
      "Downloading image http://imgs.xkcd.com/comics/logic_boat.png...\n",
      "Downloading image http://imgs.xkcd.com/comics/higgs_boson.png...\n",
      "Downloading image http://imgs.xkcd.com/comics/collecting_double_takes.png...\n",
      "Downloading image http://imgs.xkcd.com/comics/dreams.png...\n",
      "Downloading image http://imgs.xkcd.com/comics/transformers.png...\n",
      "Downloading image http://imgs.xkcd.com/comics/password_strength.png...\n",
      " Downloading page http://xkcd.com/539...\n",
      "Downloading page http://xkcd.com/1522...\n",
      "Downloading image http://imgs.xkcd.com/comics/social_media.png...\n",
      "Downloading page http://xkcd.com/738...\n",
      "Downloading image http://imgs.xkcd.com/comics/lincoln_douglas.png...\n",
      "Downloading image http://imgs.xkcd.com/comics/reviews.png...\n",
      "Downloading image http://imgs.xkcd.com/comics/post_office_showdown.png...\n",
      "Downloading image http://imgs.xkcd.com/comics/wikileaks.png...\n",
      "Downloading page http://xkcd.com/1135...\n",
      "Downloading page http://xkcd.com/1438...\n",
      "Downloading page http://xkcd.com/237...\n",
      "Downloading page http://xkcd.com/1337...\n",
      "Downloading image http://imgs.xkcd.com/comics/boyfriend.png...\n",
      "Downloading page http://xkcd.com/138...\n",
      "Downloading page http://xkcd.com/1240...\n",
      "Downloading page http://xkcd.com/937...\n",
      "Downloading image http://imgs.xkcd.com/comics/incision.png...\n",
      "Downloading image http://imgs.xkcd.com/comics/arachnoneurology.png...\n",
      "Downloading page http://xkcd.com/640...\n",
      "Downloading page http://xkcd.com/835...\n",
      "Downloading page http://xkcd.com/338...\n",
      "Downloading page http://xkcd.com/1038...\n",
      "Downloading page http://xkcd.com/540...\n",
      "Downloading image http://imgs.xkcd.com/comics/houston.png...\n",
      "Downloading image http://imgs.xkcd.com/comics/keyboards_are_disgusting.png...\n",
      "Downloading page http://xkcd.com/739...\n",
      "Downloading page http://xkcd.com/1136...\n",
      "Downloading image http://imgs.xkcd.com/comics/hack.png...\n",
      "Downloading image http://imgs.xkcd.com/comics/pointers.png...\n",
      "Downloading image http://imgs.xkcd.com/comics/quantum_mechanics.png...\n",
      "Downloading image http://imgs.xkcd.com/comics/tornadoguard.png...\n",
      "Downloading image http://imgs.xkcd.com/comics/tree.png...\n",
      "Downloading image http://imgs.xkcd.com/comics/tornado_hunter.png...\n",
      "Downloading image http://imgs.xkcd.com/comics/astronomy.png...\n",
      "Downloading image http://imgs.xkcd.com/comics/fountain.png...\n",
      "Downloading image http://imgs.xkcd.com/comics/future.png...\n",
      "Downloading image http://imgs.xkcd.com/comics/base_system.png...\n",
      "Downloading page http://xkcd.com/938...\n",
      "Downloading page http://xkcd.com/1439...\n",
      "Downloading page http://xkcd.com/1241...\n",
      "Downloading page http://xkcd.com/238...\n",
      "Downloading page http://xkcd.com/139...\n",
      "Downloading image http://imgs.xkcd.com/comics/malamanteau.png...\n",
      "Downloading image http://imgs.xkcd.com/comics/broken_mirror.png...\n",
      "Downloading page http://xkcd.com/641...\n",
      "Downloading page http://xkcd.com/836...\n",
      "Downloading page http://xkcd.com/339...\n",
      "Downloading page http://xkcd.com/1523...\n",
      "Downloading image http://imgs.xkcd.com/comics/t_cells.png...\n",
      "Downloading page http://xkcd.com/1039...\n",
      "Downloading page http://xkcd.com/1338...\n",
      "Downloading page http://xkcd.com/740...\n",
      "Downloading image http://imgs.xkcd.com/comics/pet_peeve_114.png...\n",
      "Downloading page http://xkcd.com/541...\n",
      "Downloading page http://xkcd.com/1137...\n",
      "Downloading image http://imgs.xkcd.com/comics/electric_skateboards.png...\n",
      "Downloading image http://imgs.xkcd.com/comics/rack_unit.png...\n",
      "Downloading image http://imgs.xkcd.com/comics/free.png...\n",
      "Downloading image http://imgs.xkcd.com/comics/annoying_ringtone_champion.png...\n",
      "Downloading image http://imgs.xkcd.com/comics/sickness.png...\n",
      "Downloading image http://imgs.xkcd.com/comics/classic.png...\n",
      "Downloading page http://xkcd.com/239...\n",
      "Downloading page http://xkcd.com/939...\n",
      "Downloading image http://imgs.xkcd.com/comics/land_mammals.png...\n",
      "Downloading image http://imgs.xkcd.com/comics/rubisco.png...\n",
      "Downloading page http://xkcd.com/140...\n",
      "Downloading image http://imgs.xkcd.com/comics/the_tell_tale_beat.png...\n",
      "Downloading page http://xkcd.com/642...\n",
      "Downloading image http://imgs.xkcd.com/comics/rtl.png...\n",
      "Downloading page http://xkcd.com/1242...\n",
      "Downloading image http://imgs.xkcd.com/comics/ted_talk.png...\n",
      "Downloading page http://xkcd.com/1440...\n",
      "Downloading page http://xkcd.com/340...\n",
      "Downloading page http://xkcd.com/837...\n",
      "Downloading image http://imgs.xkcd.com/comics/arrow.png...\n",
      "Downloading page http://xkcd.com/1339...\n",
      "Downloading page http://xkcd.com/1040...\n",
      "Downloading image http://imgs.xkcd.com/comics/blagofaire.png...\n",
      "Downloading image http://imgs.xkcd.com/comics/delicious.png...\n",
      "Downloading page http://xkcd.com/1138...\n",
      "Downloading page http://xkcd.com/940...\n",
      "Downloading image http://imgs.xkcd.com/comics/creepy.png...\n",
      "Downloading image http://imgs.xkcd.com/comics/microdrones.png...\n",
      "Downloading image http://imgs.xkcd.com/comics/scary_names.png...\n",
      "Downloading page http://xkcd.com/741...\n",
      "Downloading page http://xkcd.com/542...\n",
      "Downloading image http://imgs.xkcd.com/comics/coupon_code.png...\n",
      "Downloading page http://xkcd.com/141...\n",
      "Downloading image http://imgs.xkcd.com/comics/fight.png...\n",
      "Downloading image http://imgs.xkcd.com/comics/geese.png...\n",
      "Downloading page http://xkcd.com/240...\n",
      "Downloading image http://imgs.xkcd.com/comics/when_you_assume.png...\n",
      "Downloading image http://imgs.xkcd.com/comics/lakes_and_oceans.png...\n",
      "Downloading page http://xkcd.com/1243...\n",
      "Downloading image http://imgs.xkcd.com/comics/oversight.png...\n",
      "Downloading page http://xkcd.com/643...\n",
      "Downloading page http://xkcd.com/1524...\n",
      " Downloading image http://imgs.xkcd.com/comics/heatmap.png...\n",
      "Downloading image http://imgs.xkcd.com/comics/blogging.png...\n",
      "Downloading page http://xkcd.com/341...\n",
      "Downloading page http://xkcd.com/838...\n",
      "Downloading page http://xkcd.com/1441...\n",
      "Downloading page http://xkcd.com/1340...\n",
      "Downloading image http://imgs.xkcd.com/comics/cover_up.png...\n",
      "Downloading image http://imgs.xkcd.com/comics/dream_girl.png...\n",
      "Downloading image http://imgs.xkcd.com/comics/achewood.png...\n",
      "Downloading page http://xkcd.com/941...\n",
      "Downloading page http://xkcd.com/742...\n",
      "Downloading page http://xkcd.com/1139...\n",
      "Downloading image http://imgs.xkcd.com/comics/snare.png...\n",
      "Downloading image http://imgs.xkcd.com/comics/ohm.png...\n",
      "Downloading image http://imgs.xkcd.com/comics/1337_part_1.png...\n",
      "Downloading image http://imgs.xkcd.com/comics/incident.png...\n",
      "Downloading image http://imgs.xkcd.com/comics/turnabout.png...\n",
      "Downloading image http://imgs.xkcd.com/comics/unique_date.png...\n",
      "Downloading page http://xkcd.com/1041...\n",
      "Downloading image http://imgs.xkcd.com/comics/depth_perception.png...\n",
      "Downloading page http://xkcd.com/543...\n",
      "Downloading image http://imgs.xkcd.com/comics/campfire.png...\n",
      "Downloading page http://xkcd.com/644...\n",
      "Downloading page http://xkcd.com/241...\n",
      "Downloading page http://xkcd.com/1244...\n",
      "Downloading image http://imgs.xkcd.com/comics/rubber_and_glue.png...\n",
      "Downloading page http://xkcd.com/142...\n",
      "Downloading page http://xkcd.com/342...\n",
      "Downloading page http://xkcd.com/1341...\n",
      "Downloading page http://xkcd.com/1442...\n",
      "Downloading image http://imgs.xkcd.com/comics/whites_of_their_eyes.png...\n",
      "Downloading page http://xkcd.com/743...\n",
      "Downloading page http://xkcd.com/839...\n",
      "Downloading image http://imgs.xkcd.com/comics/sierpinski_valentine.png...\n",
      "Downloading page http://xkcd.com/1140...\n",
      "Downloading image http://imgs.xkcd.com/comics/dimensions.png...\n",
      "Downloading image http://imgs.xkcd.com/comics/surgery.png...\n",
      "Downloading image http://imgs.xkcd.com/comics/six_words.png...\n",
      "Downloading image http://imgs.xkcd.com/comics/battle_room.png...\n",
      "Downloading page http://xkcd.com/1042...\n",
      "Downloading image http://imgs.xkcd.com/comics/types_of_editors.png...\n",
      "Downloading image http://imgs.xkcd.com/comics/chemistry.png...\n",
      "Downloading image http://imgs.xkcd.com/comics/megaxkcd.png...\n",
      "Downloading image http://imgs.xkcd.com/comics/1337_part_2.png...\n",
      "Downloading image http://imgs.xkcd.com/comics/infrastructures.png...\n",
      "Downloading image http://imgs.xkcd.com/comics/explorers.png...\n",
      "Downloading image http://imgs.xkcd.com/comics/calendar_of_meaningful_dates.png...\n",
      "Downloading page http://xkcd.com/1525...\n",
      "Downloading page http://xkcd.com/544...\n",
      "Downloading page http://xkcd.com/645...\n",
      "Downloading page http://xkcd.com/1245...\n",
      "Downloading page http://xkcd.com/242...\n",
      "Downloading page http://xkcd.com/1443...\n",
      "Downloading image http://imgs.xkcd.com/comics/never.png...\n",
      "Downloading page http://xkcd.com/1342...\n",
      "Downloading page http://xkcd.com/744...\n",
      "Downloading page http://xkcd.com/840...\n",
      "Downloading page http://xkcd.com/143...\n",
      "Downloading image http://imgs.xkcd.com/comics/pep_talk.png...\n",
      "Downloading page http://xkcd.com/343...\n",
      "Downloading page http://xkcd.com/1043...\n",
      "Downloading page http://xkcd.com/942...\n",
      "Downloading image http://imgs.xkcd.com/comics/rps.png...\n",
      "Downloading page http://xkcd.com/1141...\n",
      "Downloading image http://imgs.xkcd.com/comics/the_difference.png...\n",
      "Downloading image http://imgs.xkcd.com/comics/10_day_forecast.png...\n",
      "Downloading image http://imgs.xkcd.com/comics/language_nerd.png...\n",
      "Downloading image http://imgs.xkcd.com/comics/ancient_stars.png...\n",
      "Downloading image http://imgs.xkcd.com/comics/serious.png...\n",
      "Downloading image http://imgs.xkcd.com/comics/walkthrough.png...\n",
      "Downloading page http://xkcd.com/545...\n",
      "Downloading page http://xkcd.com/646...\n",
      "Downloading image http://imgs.xkcd.com/comics/tfd_nataliedee.png...\n",
      "Downloading page http://xkcd.com/243...\n",
      "Downloading page http://xkcd.com/1444...\n",
      "Downloading page http://xkcd.com/841...\n",
      "Downloading page http://xkcd.com/1343...\n",
      "Downloading page http://xkcd.com/745...\n",
      "Downloading page http://xkcd.com/1246...\n",
      "Downloading image http://imgs.xkcd.com/comics/1337_part_3.png...\n",
      "Downloading image http://imgs.xkcd.com/comics/ablogalypse.png...\n",
      "Downloading image http://imgs.xkcd.com/comics/juggling.png...\n",
      "Downloading image http://imgs.xkcd.com/comics/two_years.png...\n",
      "Downloading image http://xkcd.com/1525/bg.png...\n",
      "Downloading page http://xkcd.com/144...\n",
      "Downloading image http://imgs.xkcd.com/comics/conversations.png...\n",
      "Downloading image http://imgs.xkcd.com/comics/neutrality_shmeutrality.png...\n",
      "Downloading image http://imgs.xkcd.com/comics/appropriate_term.png...\n",
      "Downloading page http://xkcd.com/943...\n",
      "Downloading page http://xkcd.com/1526...\n",
      "Downloading image http://imgs.xkcd.com/comics/dyslexics.png...\n",
      "Downloading image http://imgs.xkcd.com/comics/cloud.png...\n",
      "Downloading image http://imgs.xkcd.com/comics/audiophiles.png...\n",
      "Downloading page http://xkcd.com/1044...\n",
      "Downloading page http://xkcd.com/344...\n",
      "Downloading image http://imgs.xkcd.com/comics/pale_blue_dot.png...\n",
      "Downloading image http://imgs.xkcd.com/comics/manuals.png...\n",
      "Downloading image http://imgs.xkcd.com/comics/a_softer_robot.jpg...\n",
      "Downloading page http://xkcd.com/647...\n",
      "Downloading page http://xkcd.com/1142...\n",
      "Downloading page http://xkcd.com/546...\n",
      "Downloading page http://xkcd.com/244...\n",
      "Downloading page http://xkcd.com/1344...\n",
      "Downloading page http://xkcd.com/746...\n",
      "Downloading page http://xkcd.com/1445...\n",
      "Downloading image http://imgs.xkcd.com/comics/empirical.png...\n",
      "Downloading image http://imgs.xkcd.com/comics/romney_quiz.png...\n",
      "Downloading page http://xkcd.com/842...\n",
      "Downloading image http://imgs.xkcd.com/comics/1337_part_4.png...\n",
      "Downloading image http://imgs.xkcd.com/comics/scary.png...\n",
      "Downloading page http://xkcd.com/145...\n",
      "Downloading image http://imgs.xkcd.com/comics/coverage.png...\n",
      "Downloading page http://xkcd.com/1247...\n",
      "Downloading image http://imgs.xkcd.com/comics/music_drm.png...\n",
      "Downloading page http://xkcd.com/944...\n",
      "Downloading image http://imgs.xkcd.com/comics/tabletop_roleplaying.png...\n",
      "Downloading image http://imgs.xkcd.com/comics/digits.png...\n",
      "Downloading image http://imgs.xkcd.com/comics/birth.png...\n",
      "Downloading image http://imgs.xkcd.com/comics/efficiency.png...\n",
      "Downloading image http://imgs.xkcd.com/comics/mark.png...\n",
      "Downloading page http://xkcd.com/1143...\n",
      "Downloading page http://xkcd.com/345...\n",
      "Downloading page http://xkcd.com/1045...\n",
      "Downloading image http://imgs.xkcd.com/comics/dinosaur_comics.png...\n",
      "Downloading page http://xkcd.com/648...\n",
      "Downloading page http://xkcd.com/547...\n",
      "Downloading page http://xkcd.com/245...\n",
      "Downloading image http://imgs.xkcd.com/comics/the_mother_of_all_suspicious_files.png...\n",
      "Downloading page http://xkcd.com/1446...\n",
      "Downloading page http://xkcd.com/1345...\n",
      "Downloading page http://xkcd.com/747...\n",
      "Downloading image http://imgs.xkcd.com/comics/hurricane_names.png...\n",
      "Downloading image http://imgs.xkcd.com/comics/placebo_blocker.png...\n",
      "Downloading page http://xkcd.com/843...\n",
      "Downloading image http://imgs.xkcd.com/comics/location.png...\n",
      "Downloading image http://imgs.xkcd.com/comics/1337_part_5.png...\n",
      "Downloading page http://xkcd.com/1248...\n",
      "Downloading image http://imgs.xkcd.com/comics/constraints.png...\n",
      "Downloading page http://xkcd.com/146...\n",
      "Downloading page http://xkcd.com/945...\n",
      "Downloading image http://imgs.xkcd.com/comics/fall_foliage.png...\n",
      "Downloading image http://imgs.xkcd.com/comics/simple.png...\n",
      " Downloading image http://imgs.xkcd.com/comics/floor_tiles.png...\n",
      "Downloading image http://imgs.xkcd.com/comics/%3F%3F%3F.png...\n",
      "Downloading image http://imgs.xkcd.com/comics/answers.png...\n",
      "Downloading image http://imgs.xkcd.com/comics/geeks_and_nerds.png...\n",
      "Downloading page http://xkcd.com/1527...\n",
      "Downloading image http://imgs.xkcd.com/comics/misconceptions.png...\n",
      "Downloading page http://xkcd.com/1447...\n",
      "Downloading page http://xkcd.com/1046...\n",
      "Downloading image http://imgs.xkcd.com/comics/sphere.png...\n",
      "Downloading image http://imgs.xkcd.com/comics/join_myspace.png...\n",
      "Downloading image http://imgs.xkcd.com/comics/im_sorry.png...\n",
      "Downloading page http://xkcd.com/548...\n",
      "Downloading page http://xkcd.com/1346...\n",
      "Downloading page http://xkcd.com/1144...\n",
      "Downloading page http://xkcd.com/748...\n",
      "Downloading page http://xkcd.com/246...\n",
      "Downloading image http://imgs.xkcd.com/comics/humans.png...\n",
      " Downloading page http://xkcd.com/844...\n",
      "Downloading page http://xkcd.com/1249...\n",
      "Downloading page http://xkcd.com/946...\n",
      "Downloading page http://xkcd.com/147...\n",
      "Downloading image http://imgs.xkcd.com/comics/skynet.png...\n",
      "Downloading image http://imgs.xkcd.com/comics/meta-analysis.png...\n",
      "Downloading page http://xkcd.com/346...\n",
      "Downloading image http://imgs.xkcd.com/comics/career.png...\n",
      "Downloading image http://imgs.xkcd.com/comics/kindle.png...\n",
      "Downloading image http://imgs.xkcd.com/comics/tags.png...\n",
      "Downloading image http://imgs.xkcd.com/comics/worst_case_scenario.png...\n",
      "Downloading image http://imgs.xkcd.com/comics/labyrinth_puzzle.png...\n",
      "Downloading page http://xkcd.com/1528...\n",
      "Downloading image http://imgs.xkcd.com/comics/good_code.png...\n",
      "Downloading image http://imgs.xkcd.com/comics/meteor_showers.png...\n",
      "Downloading image http://imgs.xkcd.com/comics/family_decals.png...\n",
      "Downloading page http://xkcd.com/1448...\n",
      "Downloading page http://xkcd.com/1145...\n",
      "Downloading page http://xkcd.com/649...\n",
      "Downloading page http://xkcd.com/1347...\n",
      "Downloading image http://imgs.xkcd.com/comics/a_way_so_familiar.png...\n",
      "Downloading image http://imgs.xkcd.com/comics/diet_coke_mentos.png...\n",
      "Downloading page http://xkcd.com/549...\n",
      "Downloading page http://xkcd.com/1047...\n",
      "Downloading page http://xkcd.com/845...\n",
      "Downloading page http://xkcd.com/247...\n",
      "Downloading page http://xkcd.com/947...\n",
      "Downloading page http://xkcd.com/148...\n",
      "Downloading page http://xkcd.com/347...\n",
      "Downloading page http://xkcd.com/1250...\n",
      "Downloading image http://imgs.xkcd.com/comics/question.png...\n",
      "Downloading image http://imgs.xkcd.com/comics/static.png...\n",
      "Downloading image http://imgs.xkcd.com/comics/sky_color.png...\n",
      "Downloading image http://imgs.xkcd.com/comics/t_distribution.png...\n",
      "Downloading image http://imgs.xkcd.com/comics/westleys_a_dick.png...\n",
      "Downloading image http://imgs.xkcd.com/comics/modern_history.png...\n",
      "Downloading page http://xkcd.com/749...\n",
      "Downloading image http://imgs.xkcd.com/comics/approximations.png...\n",
      "Downloading image http://imgs.xkcd.com/comics/factoring_the_time.png...\n",
      "Downloading image http://imgs.xkcd.com/comics/investing.png...\n",
      "Downloading page http://xkcd.com/1449...\n",
      "Downloading page http://xkcd.com/1146...\n",
      "Downloading image http://imgs.xkcd.com/comics/mispronouncing.png...\n",
      "Downloading page http://xkcd.com/650...\n",
      "Downloading image http://imgs.xkcd.com/comics/old_accounts.png...\n",
      "Downloading page http://xkcd.com/1348...\n",
      "Downloading image http://imgs.xkcd.com/comics/brick_archway.png...\n",
      "Downloading page http://xkcd.com/550...\n",
      "Downloading page http://xkcd.com/846...\n",
      "Downloading page http://xkcd.com/948...\n",
      "Downloading image http://imgs.xkcd.com/comics/study.png...\n",
      "Downloading page http://xkcd.com/248...\n",
      "Downloading page http://xkcd.com/149...\n",
      "Downloading image http://imgs.xkcd.com/comics/red_rover.png...\n",
      "Downloading image http://imgs.xkcd.com/comics/honest.png...\n",
      "Downloading page http://xkcd.com/1251...\n",
      "Downloading image http://imgs.xkcd.com/comics/nowhere.png...\n",
      "Downloading page http://xkcd.com/1048...\n",
      "Downloading page http://xkcd.com/348...\n",
      "Downloading page http://xkcd.com/750...\n",
      "Downloading image http://imgs.xkcd.com/comics/before_the_internet.png...\n",
      "Downloading image http://imgs.xkcd.com/comics/dental_nerve.png...\n",
      "Downloading image http://imgs.xkcd.com/comics/density.png...\n",
      "Downloading page http://xkcd.com/1147...\n",
      "Downloading image http://imgs.xkcd.com/comics/ai.png...\n",
      "Downloading page http://xkcd.com/1450...\n",
      "Downloading page http://xkcd.com/651...\n",
      "Downloading image http://imgs.xkcd.com/comics/hypotheticals.png...\n",
      "Downloading image http://imgs.xkcd.com/comics/sandwich.png...\n",
      "Downloading image http://imgs.xkcd.com/comics/vodka.png...\n",
      "Downloading image http://imgs.xkcd.com/comics/anti_glass.png...\n",
      "Downloading image http://imgs.xkcd.com/comics/emotion.png...\n",
      "Downloading page http://xkcd.com/1349...\n",
      "Downloading page http://xkcd.com/551...\n",
      "Downloading image http://imgs.xkcd.com/comics/close_to_you.png...\n",
      "Downloading image http://imgs.xkcd.com/comics/book_burning.png...\n",
      "Downloading page http://xkcd.com/847...\n",
      "Downloading page http://xkcd.com/150...\n",
      "Downloading image http://imgs.xkcd.com/comics/evolving.png...\n",
      "Downloading page http://xkcd.com/949...\n",
      "Downloading image http://imgs.xkcd.com/comics/ai_box_experiment.png...\n",
      "Downloading page http://xkcd.com/1529...\n",
      "Downloading page http://xkcd.com/249...\n",
      "Downloading image http://imgs.xkcd.com/comics/bag_check.png...\n",
      "Downloading page http://xkcd.com/1252...\n",
      "Downloading page http://xkcd.com/349...\n",
      "Downloading image http://imgs.xkcd.com/comics/shouldnt_be_hard.png...\n",
      "Downloading image http://imgs.xkcd.com/comics/etch-a-sketch.png...\n",
      "Downloading page http://xkcd.com/1049...\n",
      "Downloading page http://xkcd.com/1148...\n",
      "Downloading page http://xkcd.com/751...\n",
      "Downloading image http://imgs.xkcd.com/comics/stingray_nebula.png...\n",
      "Downloading image http://imgs.xkcd.com/comics/grownups.png...\n",
      "Downloading image http://imgs.xkcd.com/comics/file_transfer.png...\n",
      "Downloading image http://imgs.xkcd.com/comics/chess_photo.png...\n",
      "Downloading page http://xkcd.com/1451...\n",
      "Downloading page http://xkcd.com/1350...\n",
      "Downloading page http://xkcd.com/652...\n",
      "Downloading image http://imgs.xkcd.com/comics/increased_risk.png...\n",
      "Downloading image http://imgs.xkcd.com/comics/success.png...\n",
      "Downloading image http://imgs.xkcd.com/comics/nothing_to_offer.png...\n",
      "Downloading image http://imgs.xkcd.com/comics/bookshelf.png...\n",
      "Downloading image http://imgs.xkcd.com/comics/swimsuit_issue.png...\n",
      "Downloading page http://xkcd.com/950...\n",
      "Downloading page http://xkcd.com/151...\n",
      "Downloading image http://imgs.xkcd.com/comics/background_screens.png...\n",
      "Downloading page http://xkcd.com/552...\n",
      "Downloading page http://xkcd.com/848...\n",
      "Could not find comic image.\n",
      "Downloading image http://imgs.xkcd.com/comics/shouldnt_be_hard.png...\n",
      "Downloading image http://imgs.xkcd.com/comics/more_accurate.png...\n",
      "Downloading page http://xkcd.com/1253...\n",
      "Downloading page http://xkcd.com/1149...\n",
      "Downloading page http://xkcd.com/752...\n",
      "Downloading page http://xkcd.com/350...\n",
      "Downloading page http://xkcd.com/250...\n",
      "Downloading page http://xkcd.com/1452...\n",
      "Downloading page http://xkcd.com/1050...\n",
      "Downloading page http://xkcd.com/1351...\n",
      "Downloading image http://imgs.xkcd.com/comics/mystery_solved.png...\n",
      "Downloading image http://imgs.xkcd.com/comics/mario.png...\n",
      "Downloading page http://xkcd.com/653...\n",
      "Downloading image http://imgs.xkcd.com/comics/correlation.png...\n",
      "Downloading image http://imgs.xkcd.com/comics/3d.png...\n",
      "Downloading image http://imgs.xkcd.com/comics/exoplanet_names.png...\n",
      "Downloading image http://imgs.xkcd.com/comics/broomstick.png...\n",
      "Downloading image http://imgs.xkcd.com/comics/phobia.png...\n",
      "Downloading image http://imgs.xkcd.com/comics/network.png...\n",
      "Downloading page http://xkcd.com/951...\n",
      "Downloading page http://xkcd.com/152...\n",
      "Downloading image http://imgs.xkcd.com/comics/forgot_algebra.png...\n",
      "Downloading page http://xkcd.com/553...\n",
      "Downloading image http://imgs.xkcd.com/comics/snopes.png...\n",
      "Downloading image http://imgs.xkcd.com/comics/jurassic_world.png...\n",
      "Downloading image http://imgs.xkcd.com/comics/metamaterials.png...\n",
      "Downloading page http://xkcd.com/849...\n",
      "Downloading image http://imgs.xkcd.com/comics/so_bad_its_worse.png...\n",
      "Downloading image http://imgs.xkcd.com/comics/bracket.png...\n",
      "Downloading page http://xkcd.com/753...\n",
      "Downloading page http://xkcd.com/1150...\n",
      "Downloading page http://xkcd.com/1051...\n",
      "Downloading image http://imgs.xkcd.com/comics/working.png...\n",
      "Downloading image http://imgs.xkcd.com/comics/hamster_ball.png...\n",
      "Downloading page http://xkcd.com/251...\n",
      "Downloading page http://xkcd.com/351...\n",
      "Downloading image http://imgs.xkcd.com/comics/pirate_bay.png...\n",
      "Downloading page http://xkcd.com/1254...\n",
      "Downloading page http://xkcd.com/1352...\n",
      "Downloading image http://imgs.xkcd.com/comics/complex_conjugate.png...\n",
      "Downloading page http://xkcd.com/1453...\n",
      "Downloading image http://imgs.xkcd.com/comics/southern_half.png...\n",
      "Downloading image http://imgs.xkcd.com/comics/instagram.png...\n",
      "Downloading page http://xkcd.com/654...\n",
      "Downloading page http://xkcd.com/1530...\n",
      "Downloading image http://imgs.xkcd.com/comics/visited.png...\n",
      "Downloading page http://xkcd.com/952...\n",
      "Downloading page http://xkcd.com/153...\n",
      "Downloading page http://xkcd.com/850...\n",
      "Downloading image http://imgs.xkcd.com/comics/cd_tray_fight.png...\n",
      "Downloading page http://xkcd.com/554...\n",
      "Downloading image http://imgs.xkcd.com/comics/preferred_chat_system.png...\n",
      "Downloading page http://xkcd.com/754...\n",
      "Downloading page http://xkcd.com/1151...\n",
      "Downloading image http://imgs.xkcd.com/comics/cosmologist_on_a_tire_swing.png...\n",
      "Downloading image http://imgs.xkcd.com/comics/trolling.png...\n",
      "Downloading image http://imgs.xkcd.com/comics/fmri.png...\n",
      "Downloading image http://imgs.xkcd.com/comics/nachos.png...\n",
      "Downloading image http://imgs.xkcd.com/comics/cryptography.png...\n",
      "Downloading page http://xkcd.com/252...\n",
      "Downloading page http://xkcd.com/1052...\n",
      "Downloading image http://imgs.xkcd.com/comics/stud_finder.png...\n",
      "Downloading image http://imgs.xkcd.com/comics/world_according_to_americans.png...\n",
      "Downloading image http://imgs.xkcd.com/comics/not_enough_work.png...\n",
      "Downloading image http://imgs.xkcd.com/comics/dependencies.png...\n",
      "Downloading image http://imgs.xkcd.com/comics/tests.png...\n",
      "Downloading page http://xkcd.com/352...\n",
      "Downloading page http://xkcd.com/1255...\n",
      "Downloading page http://xkcd.com/1454...\n",
      "Downloading page http://xkcd.com/154...\n",
      "Downloading page http://xkcd.com/1353...\n",
      "Downloading page http://xkcd.com/953...\n",
      "Downloading image http://imgs.xkcd.com/comics/escalators.png...\n",
      "Downloading page http://xkcd.com/655...\n",
      "Downloading image http://imgs.xkcd.com/comics/every_majors_terrible.png...\n",
      "Downloading page http://xkcd.com/755...\n",
      "Downloading page http://xkcd.com/555...\n",
      "Downloading page http://xkcd.com/1152...\n",
      "Downloading image http://imgs.xkcd.com/comics/far_away.png...\n",
      "Downloading page http://xkcd.com/851...\n",
      "Downloading image http://imgs.xkcd.com/comics/columbus.png...\n",
      "Downloading image http://imgs.xkcd.com/comics/beliefs.jpg...\n",
      "Downloading page http://xkcd.com/253...\n",
      "Downloading image http://imgs.xkcd.com/comics/heartbleed.png...\n",
      "Downloading image http://imgs.xkcd.com/comics/done.png...\n",
      "Downloading image http://imgs.xkcd.com/comics/1_to_10.png...\n",
      "Downloading image http://imgs.xkcd.com/comics/interdisciplinary.png...\n",
      "Downloading image http://imgs.xkcd.com/comics/climbing.png...\n",
      "Downloading image http://imgs.xkcd.com/comics/two_mirrors.png...\n",
      "Downloading image http://imgs.xkcd.com/comics/communion.png...\n",
      "Downloading page http://xkcd.com/353...\n",
      "Downloading page http://xkcd.com/1053...\n",
      "Downloading page http://xkcd.com/954...\n",
      "Downloading page http://xkcd.com/1256...\n",
      "Downloading page http://xkcd.com/1354...\n",
      "Downloading page http://xkcd.com/756...\n",
      "Downloading page http://xkcd.com/656...\n",
      "Downloading image http://imgs.xkcd.com/comics/na.png...\n",
      "Downloading page http://xkcd.com/1153...\n",
      "Downloading image http://imgs.xkcd.com/comics/highway_engineer_pranks.png...\n",
      "Downloading page http://xkcd.com/1455...\n",
      "Downloading page http://xkcd.com/155...\n",
      "Downloading page http://xkcd.com/556...\n",
      "Downloading image http://imgs.xkcd.com/comics/keyboard_mash.png...\n",
      "Downloading page http://xkcd.com/852...\n",
      "Downloading image http://imgs.xkcd.com/comics/chin_up_bar.png...\n",
      "Downloading image http://imgs.xkcd.com/comics/python.png...Downloading image http://imgs.xkcd.com/comics/ten_thousand.png...\n",
      "\n",
      "Downloading image http://imgs.xkcd.com/comics/questions.png...\n",
      "Downloading page http://xkcd.com/254...\n",
      "Downloading image http://imgs.xkcd.com/comics/heartbleed_explanation.png...\n",
      "Downloading image http://imgs.xkcd.com/comics/public_opinion.png...\n",
      "Downloading page http://xkcd.com/1531...\n",
      "Downloading image http://imgs.xkcd.com/comics/trolley_problem.png...\n",
      "Downloading image http://imgs.xkcd.com/comics/proof.png...\n",
      "Downloading image http://imgs.xkcd.com/comics/october_30th.png...\n",
      "Downloading image http://imgs.xkcd.com/comics/alternative_energy_revolution.jpg...\n",
      "Downloading image http://imgs.xkcd.com/comics/search_history.png...\n",
      "Downloading page http://xkcd.com/955...\n",
      "Downloading image http://imgs.xkcd.com/comics/local_g.png...\n",
      "Downloading image http://imgs.xkcd.com/comics/comic_fragment.jpg...\n",
      "Downloading page http://xkcd.com/1054...\n",
      "Downloading page http://xkcd.com/757...\n",
      "Downloading page http://xkcd.com/354...\n",
      "Downloading page http://xkcd.com/1154...\n",
      "Downloading page http://xkcd.com/657...\n",
      "Downloading page http://xkcd.com/156...\n",
      "Downloading image http://imgs.xkcd.com/comics/neutrinos.png...\n",
      "Downloading page http://xkcd.com/1456...\n",
      "Downloading page http://xkcd.com/853...\n",
      "Downloading page http://xkcd.com/1257...\n",
      "Downloading image http://imgs.xkcd.com/comics/thebacon.png...\n",
      "Downloading image http://imgs.xkcd.com/comics/toot.png...\n",
      "Downloading page http://xkcd.com/255...\n",
      "Downloading page http://xkcd.com/557...\n",
      "Downloading page http://xkcd.com/1355...\n",
      "Downloading image http://imgs.xkcd.com/comics/resolution.png...\n",
      "Downloading image http://imgs.xkcd.com/comics/startling.png...\n",
      "Downloading page http://xkcd.com/956...\n",
      "Downloading image http://imgs.xkcd.com/comics/movie_narrative_charts.png...\n",
      "Downloading image http://imgs.xkcd.com/comics/commented.png...\n",
      "Downloading image http://imgs.xkcd.com/comics/on_the_moon.png...\n",
      "Downloading page http://xkcd.com/1055...\n",
      "Downloading page http://xkcd.com/758...\n",
      "Downloading page http://xkcd.com/1155...\n",
      "Downloading image http://imgs.xkcd.com/comics/consecutive_vowels.png...\n",
      "Downloading image http://imgs.xkcd.com/comics/monster.png...\n",
      "Downloading page http://xkcd.com/355...\n",
      "Downloading image http://imgs.xkcd.com/comics/subjectivity.png...\n",
      "Downloading page http://xkcd.com/1457...\n",
      "Downloading page http://xkcd.com/157...\n",
      "Downloading image http://imgs.xkcd.com/comics/students.png...\n",
      " Downloading image http://imgs.xkcd.com/comics/airplane_message.png...\n",
      "Downloading image http://imgs.xkcd.com/comics/sharing.png...\n",
      "Downloading image http://imgs.xkcd.com/comics/raptor_fences.png...\n",
      "Downloading page http://xkcd.com/854...\n",
      "Downloading image http://imgs.xkcd.com/comics/kickstarter.png...\n",
      "Downloading page http://xkcd.com/1258...\n",
      "Downloading page http://xkcd.com/658...\n",
      "Downloading image http://imgs.xkcd.com/comics/kolmogorov_directions.png...\n",
      "Downloading page http://xkcd.com/1356...\n",
      "Downloading page http://xkcd.com/256...\n",
      "Downloading image http://imgs.xkcd.com/comics/the_bdlpswdks_effect.png...\n",
      "Downloading image http://imgs.xkcd.com/comics/couple.png...\n",
      "Downloading image http://imgs.xkcd.com/comics/feedback.png...\n",
      "Downloading page http://xkcd.com/558...\n",
      "Downloading page http://xkcd.com/957...\n",
      "Downloading image http://imgs.xkcd.com/comics/filler_art.png...\n",
      "Downloading page http://xkcd.com/759...\n",
      "Downloading page http://xkcd.com/1156...\n",
      "Downloading page http://xkcd.com/356...\n",
      "Downloading image http://imgs.xkcd.com/comics/learning_to_cook.png...\n",
      "Downloading page http://xkcd.com/1458...\n",
      "Downloading page http://xkcd.com/1056...\n",
      "Downloading page http://xkcd.com/1532...\n",
      "Downloading page http://xkcd.com/158...\n",
      "Downloading image http://imgs.xkcd.com/comics/orbitals.png...\n",
      "Downloading image http://imgs.xkcd.com/comics/first.png...\n",
      "Downloading image http://imgs.xkcd.com/comics/orbital_mechanics.png...\n",
      "Downloading image http://imgs.xkcd.com/comics/online_communities_small.png...\n",
      "Downloading image http://imgs.xkcd.com/comics/development.png...\n",
      "Downloading image http://imgs.xkcd.com/comics/3x9.png...\n",
      "Downloading image http://imgs.xkcd.com/comics/1000_times.png...\n",
      "Downloading image http://imgs.xkcd.com/comics/conditioning.png...\n",
      "Downloading page http://xkcd.com/855...\n",
      "Downloading image http://imgs.xkcd.com/comics/nerd_sniping.png...\n",
      "Downloading page http://xkcd.com/760...\n",
      "Downloading page http://xkcd.com/1259...\n",
      "Downloading page http://xkcd.com/659...\n",
      "Downloading page http://xkcd.com/1357...\n",
      "Downloading image http://imgs.xkcd.com/comics/small_moon.png...\n",
      "Downloading image http://imgs.xkcd.com/comics/six_months.png...\n",
      "Downloading page http://xkcd.com/958...\n",
      "Downloading image http://imgs.xkcd.com/comics/felidae.png...\n",
      "Downloading page http://xkcd.com/1157...\n",
      "Downloading page http://xkcd.com/559...\n",
      "Downloading image http://imgs.xkcd.com/comics/1999.png...\n",
      "Downloading page http://xkcd.com/1459...\n",
      "Downloading page http://xkcd.com/357...\n",
      "Downloading page http://xkcd.com/159...\n",
      "Downloading image http://imgs.xkcd.com/comics/moria.png...\n",
      "Downloading image http://imgs.xkcd.com/comics/free_speech.png...\n",
      "Downloading image http://imgs.xkcd.com/comics/lego.png...\n",
      "Downloading image http://imgs.xkcd.com/comics/bee_orchid.png...\n",
      " Downloading page http://xkcd.com/1057...\n",
      "Downloading page http://xkcd.com/856...\n",
      "Downloading image http://imgs.xkcd.com/comics/hotels.png...\n",
      "Downloading image http://imgs.xkcd.com/comics/sick_day.png...\n",
      "Downloading image http://imgs.xkcd.com/comics/no_pun_intended.png...\n",
      "Downloading image http://imgs.xkcd.com/comics/new_horizons.png...\n",
      "Downloading page http://xkcd.com/761...\n",
      "Downloading image http://imgs.xkcd.com/comics/boombox.png...\n",
      "Downloading image http://imgs.xkcd.com/comics/flies.png...\n",
      "Downloading page http://xkcd.com/1358...\n",
      "Downloading image http://imgs.xkcd.com/comics/documents.png...\n",
      "Downloading page http://xkcd.com/257...\n",
      "Downloading page http://xkcd.com/1158...\n",
      "Downloading page http://xkcd.com/560...\n",
      "Downloading page http://xkcd.com/660...\n",
      "Downloading image http://imgs.xkcd.com/comics/klout.png...\n",
      "Downloading page http://xkcd.com/959...\n",
      "Downloading image http://imgs.xkcd.com/comics/trochee_fixation.png...\n",
      "Downloading page http://xkcd.com/160...\n",
      "Downloading image http://imgs.xkcd.com/comics/dfs.png...\n",
      "Downloading page http://xkcd.com/1460...\n",
      "Downloading page http://xkcd.com/1533...\n",
      "Downloading page http://xkcd.com/358...\n",
      "Downloading image http://imgs.xkcd.com/comics/nro.png...\n",
      "Downloading page http://xkcd.com/1058...\n",
      "Downloading page http://xkcd.com/1260...\n",
      "Downloading image http://imgs.xkcd.com/comics/lithium_batteries.png...\n",
      "Downloading image http://imgs.xkcd.com/comics/code_talkers.png...\n",
      "Downloading image http://imgs.xkcd.com/comics/rubber_sheet.png...\n",
      "Downloading page http://xkcd.com/857...\n",
      "Downloading image http://imgs.xkcd.com/comics/sympathy.png...\n",
      "Downloading image http://imgs.xkcd.com/comics/caroling.png...\n",
      "Downloading page http://xkcd.com/762...\n",
      "Downloading image http://imgs.xkcd.com/comics/penny_arcade_parody.png...\n",
      "Downloading image http://imgs.xkcd.com/comics/smfw.png...\n",
      "Downloading image http://imgs.xkcd.com/comics/loud_party.png...\n",
      "Downloading page http://xkcd.com/1359...\n",
      "Downloading page http://xkcd.com/561...\n",
      "Downloading page http://xkcd.com/1159...\n",
      "Downloading image http://imgs.xkcd.com/comics/ld50.png...\n",
      "Downloading image http://imgs.xkcd.com/comics/old_timers.png...\n",
      "Downloading page http://xkcd.com/258...\n",
      "Downloading page http://xkcd.com/1461...\n",
      "Downloading page http://xkcd.com/960...\n",
      "Downloading page http://xkcd.com/661...\n",
      "Downloading image http://imgs.xkcd.com/comics/analogies.png...\n",
      "Downloading image http://imgs.xkcd.com/comics/archimedes.png...\n",
      "Downloading image http://imgs.xkcd.com/comics/phone_alarm.png...\n",
      "Downloading image http://imgs.xkcd.com/comics/well.png...\n",
      "Downloading image http://imgs.xkcd.com/comics/countdown.png...\n",
      "Downloading page http://xkcd.com/1261...\n",
      "Downloading page http://xkcd.com/1059...\n",
      "Downloading image http://imgs.xkcd.com/comics/payloads.png...\n",
      "Downloading page http://xkcd.com/858...\n",
      "Downloading page http://xkcd.com/1360...\n",
      "Downloading page http://xkcd.com/763...\n",
      "Downloading page http://xkcd.com/161...\n",
      "Downloading image http://imgs.xkcd.com/comics/conspiracy_theories.png...\n",
      "Downloading image http://imgs.xkcd.com/comics/antique_factory.png...\n",
      "Downloading image http://imgs.xkcd.com/comics/subliminal.png...\n",
      "Downloading image http://imgs.xkcd.com/comics/two_party_system.png...\n",
      "Downloading page http://xkcd.com/562...\n",
      "Downloading page http://xkcd.com/359...\n",
      "Downloading image http://imgs.xkcd.com/comics/shake_that.png...\n",
      "Downloading page http://xkcd.com/1160...\n",
      "Downloading image http://imgs.xkcd.com/comics/bel_air.png...\n",
      "Downloading page http://xkcd.com/1462...\n",
      "Downloading image http://imgs.xkcd.com/comics/milk.png...\n",
      "Downloading image http://imgs.xkcd.com/comics/old_files.png...\n",
      "Downloading image http://imgs.xkcd.com/comics/workaround.png...\n",
      "Downloading page http://xkcd.com/1534...\n",
      "Downloading page http://xkcd.com/961...\n",
      " Downloading page http://xkcd.com/662...\n",
      "Downloading image http://imgs.xkcd.com/comics/accident.png...\n",
      "Downloading page http://xkcd.com/1060...\n",
      "Downloading page http://xkcd.com/259...\n",
      "Downloading image http://imgs.xkcd.com/comics/parking.png...\n",
      "Downloading image http://imgs.xkcd.com/comics/rock_band.png...\n",
      "Downloading image http://imgs.xkcd.com/comics/drop_those_pounds.png...\n",
      "Downloading page http://xkcd.com/1262...\n",
      "Downloading page http://xkcd.com/859...\n",
      "Downloading image http://imgs.xkcd.com/comics/blind_trials.png...\n",
      "Downloading page http://xkcd.com/162...\n",
      "Downloading page http://xkcd.com/764...\n",
      "Downloading page http://xkcd.com/1361...\n",
      "Downloading page http://xkcd.com/360...\n",
      "Downloading page http://xkcd.com/1161...\n",
      "Downloading image http://imgs.xkcd.com/comics/eternal_flame.gif...\n",
      "Downloading image http://imgs.xkcd.com/comics/iphone_or_droid.png...\n",
      "Downloading page http://xkcd.com/1463...\n",
      "Downloading image http://imgs.xkcd.com/comics/cliched_exchanges.png...\n",
      "Downloading image http://imgs.xkcd.com/comics/crowdsourcing.png...\n",
      "Downloading page http://xkcd.com/563...\n",
      "Downloading image http://imgs.xkcd.com/comics/unquote.png...\n",
      "Downloading image http://imgs.xkcd.com/comics/(.png...\n",
      "Downloading image http://imgs.xkcd.com/comics/angular_momentum.jpg...\n",
      "Downloading page http://xkcd.com/962...\n",
      "Downloading image http://imgs.xkcd.com/comics/one_two.png...\n",
      "Downloading image http://imgs.xkcd.com/comics/google_announcement.png...\n",
      "Downloading page http://xkcd.com/260...\n",
      "Downloading page http://xkcd.com/860...\n",
      "Downloading page http://xkcd.com/663...\n",
      "Downloading page http://xkcd.com/1061...\n",
      "Downloading image http://imgs.xkcd.com/comics/writers_strike.png...\n",
      "Downloading page http://xkcd.com/1263...\n",
      "Downloading image http://imgs.xkcd.com/comics/hand_sanitizer.png...\n",
      "Downloading image http://imgs.xkcd.com/comics/fermirotica.png...\n",
      "Downloading image http://imgs.xkcd.com/comics/altitude.png...\n",
      "Downloading page http://xkcd.com/163...\n",
      "Downloading page http://xkcd.com/765...\n",
      "Downloading page http://xkcd.com/1362...\n",
      "Downloading page http://xkcd.com/1162...\n",
      "Downloading image http://imgs.xkcd.com/comics/the_corliss_resolution.png...\n",
      "Downloading image http://imgs.xkcd.com/comics/sagan-man.png...\n",
      "Downloading image http://imgs.xkcd.com/comics/the_glass_necklace.png...\n",
      "Downloading page http://xkcd.com/564...\n",
      "Downloading page http://xkcd.com/361...\n",
      "Downloading image http://imgs.xkcd.com/comics/reassuring.png...\n",
      "Downloading image http://imgs.xkcd.com/comics/never_do_this.png...\n",
      " Downloading page http://xkcd.com/1464...\n",
      "Downloading image http://imgs.xkcd.com/comics/est.png...\n",
      "Downloading image http://imgs.xkcd.com/comics/beer.png...\n",
      "Downloading image http://imgs.xkcd.com/comics/donald_knuth.png...\n",
      "Downloading image http://imgs.xkcd.com/comics/dilution.png...\n",
      "Downloading page http://xkcd.com/963...\n",
      "Downloading image http://imgs.xkcd.com/comics/morse_code.png...\n",
      "Downloading image http://imgs.xkcd.com/comics/log_scale.png...\n",
      "Downloading image http://imgs.xkcd.com/comics/crossbows.png...\n",
      "Downloading image http://imgs.xkcd.com/comics/christmas_back_home.png...\n",
      "Downloading page http://xkcd.com/664...\n",
      "Downloading page http://xkcd.com/1264...\n",
      "Downloading page http://xkcd.com/861...\n",
      "Downloading page http://xkcd.com/766...\n",
      "Downloading image http://imgs.xkcd.com/comics/santa.png...\n",
      "Downloading page http://xkcd.com/164...\n",
      "Downloading page http://xkcd.com/261...\n",
      "Downloading page http://xkcd.com/1163...\n",
      " Downloading page http://xkcd.com/1535...\n",
      "Downloading page http://xkcd.com/1062...\n",
      "Downloading page http://xkcd.com/1363...\n",
      "Downloading image http://imgs.xkcd.com/comics/x11.png...\n",
      "Downloading page http://xkcd.com/565...\n",
      "Downloading page http://xkcd.com/964...\n",
      "Downloading page http://xkcd.com/362...\n",
      "Downloading page http://xkcd.com/1465...\n",
      "Downloading image http://imgs.xkcd.com/comics/academia_vs_business.png...\n",
      "Downloading image http://imgs.xkcd.com/comics/slideshow.gif...\n",
      "Downloading image http://imgs.xkcd.com/comics/green_flash.png...\n",
      "Downloading image http://imgs.xkcd.com/comics/global_warming.png...\n",
      "Downloading image http://imgs.xkcd.com/comics/wisdom_teeth.png...\n",
      "Downloading image http://imgs.xkcd.com/comics/regarding_mussolini.png...\n",
      "Downloading image http://imgs.xkcd.com/comics/debugger.png...\n",
      "Downloading image http://imgs.xkcd.com/comics/budget_news.png...\n",
      "Downloading image http://imgs.xkcd.com/comics/security_question.png...\n",
      "Downloading image http://imgs.xkcd.com/comics/xkcd_phone.png...\n",
      "Downloading image http://imgs.xkcd.com/comics/dorm_poster.png...\n",
      "Downloading image http://imgs.xkcd.com/comics/blade_runner.png...\n",
      "Downloading page http://xkcd.com/665...\n",
      "Downloading image http://imgs.xkcd.com/comics/xkcd_phone_2.png...\n",
      "Downloading page http://xkcd.com/262...\n",
      "Exception in thread Thread-16:\n",
      "Traceback (most recent call last):\n",
      "  File \"/System/Library/Frameworks/Python.framework/Versions/2.7/lib/python2.7/threading.py\", line 810, in __bootstrap_inner\n",
      "    self.run()\n",
      "  File \"/System/Library/Frameworks/Python.framework/Versions/2.7/lib/python2.7/threading.py\", line 763, in run\n",
      "    self.__target(*self.__args, **self.__kwargs)\n",
      "  File \"multidownloadXkcd.py\", line 16, in downloadXkcd\n",
      "    res.raise_for_status()\n",
      "  File \"/Users/re4lfl0w/.virtualenvs/general/lib/python2.7/site-packages/requests/models.py\", line 831, in raise_for_status\n",
      "    raise HTTPError(http_error_msg, response=self)\n",
      "HTTPError: 404 Client Error: Not Found\n",
      "\n",
      "Downloading page http://xkcd.com/165...\n",
      "Downloading page http://xkcd.com/1063...\n",
      "Downloading page http://xkcd.com/1164...\n",
      "Downloading page http://xkcd.com/566...\n",
      "Downloading page http://xkcd.com/1364...\n",
      "Downloading page http://xkcd.com/862...\n",
      "Downloading image http://imgs.xkcd.com/comics/prudence.png...\n",
      "Downloading page http://xkcd.com/363...\n",
      "Downloading page http://xkcd.com/1466...\n",
      "Downloading page http://xkcd.com/965...\n",
      "Downloading page http://xkcd.com/767...\n",
      "Downloading image http://imgs.xkcd.com/comics/turn_signals.png...\n",
      "Downloading image http://imgs.xkcd.com/comics/kill_hitler.png...\n",
      "Downloading image http://imgs.xkcd.com/comics/in_ur_reality.png...\n",
      "Downloading image http://imgs.xkcd.com/comics/home_alone.png...\n",
      "Downloading image http://imgs.xkcd.com/comics/matrix_revisited.png...\n",
      "Downloading page http://xkcd.com/666...\n",
      "Downloading image http://imgs.xkcd.com/comics/let_go.png...\n",
      "Downloading image http://imgs.xkcd.com/comics/like_im_five.png...\n",
      "Downloading image http://imgs.xkcd.com/comics/reset.png...\n",
      "Downloading image http://imgs.xkcd.com/comics/phone_checking.png...\n",
      "Downloading page http://xkcd.com/263...\n",
      "Downloading page http://xkcd.com/1165...\n",
      "Downloading image http://imgs.xkcd.com/comics/temper.png...\n",
      "Downloading page http://xkcd.com/1064...\n",
      "Downloading image http://imgs.xkcd.com/comics/elements.png...\n",
      "Downloading page http://xkcd.com/166...\n",
      "Downloading image http://imgs.xkcd.com/comics/silent_hammer.png...\n",
      "Downloading page http://xkcd.com/1365...\n",
      "Downloading page http://xkcd.com/364...\n",
      "Downloading page http://xkcd.com/1467...\n",
      "Downloading page http://xkcd.com/567...\n",
      "Downloading page http://xkcd.com/768...\n",
      "Downloading image http://imgs.xkcd.com/comics/amazon.png...\n",
      "Downloading page http://xkcd.com/863...\n",
      "Downloading image http://imgs.xkcd.com/comics/certainty.png...\n",
      "Downloading page http://xkcd.com/966...\n",
      "Downloading image http://imgs.xkcd.com/comics/front_door.png...\n",
      "Downloading page http://xkcd.com/667...\n",
      "Downloading image http://imgs.xkcd.com/comics/misusing_slang.png...\n",
      "Downloading image http://imgs.xkcd.com/comics/inflation.png...\n",
      "Downloading page http://xkcd.com/1265...\n",
      "Downloading image http://imgs.xkcd.com/comics/responsible_behavior.png...\n",
      "Downloading image http://imgs.xkcd.com/comics/email.png...\n",
      "Downloading page http://xkcd.com/1166...\n",
      "Downloading image http://imgs.xkcd.com/comics/1996.png...\n",
      "Downloading image http://imgs.xkcd.com/comics/urgent_mission.png...\n",
      "Downloading page http://xkcd.com/167...\n",
      "Downloading image http://imgs.xkcd.com/comics/major_in_the_universe.png...\n",
      "Downloading image http://imgs.xkcd.com/comics/jet_fuel.png...\n",
      "Downloading page http://xkcd.com/264...\n",
      "Downloading page http://xkcd.com/1065...\n",
      "Downloading page http://xkcd.com/365...\n",
      "Downloading image http://imgs.xkcd.com/comics/skifree.png...\n",
      "Downloading image http://imgs.xkcd.com/comics/juicer.png...\n",
      "Downloading page http://xkcd.com/1468...\n",
      "Downloading image http://imgs.xkcd.com/comics/argument.png...\n",
      "Downloading page http://xkcd.com/967...\n",
      "Downloading page http://xkcd.com/568...\n",
      "Downloading page http://xkcd.com/769...\n",
      "Downloading page http://xkcd.com/864...Downloading image http://imgs.xkcd.com/comics/nihilism.png...\n",
      "\n",
      "Downloading page http://xkcd.com/1266...\n",
      "Downloading image http://imgs.xkcd.com/comics/choices_part_1.jpg...\n",
      "Downloading page http://xkcd.com/668...\n",
      "Downloading page http://xkcd.com/1167...\n",
      "Downloading image http://imgs.xkcd.com/comics/shoes.png...\n",
      "Downloading image http://imgs.xkcd.com/comics/slides.png...\n",
      "Downloading image http://imgs.xkcd.com/comics/worrying.png...\n",
      "Downloading image http://imgs.xkcd.com/comics/prairie.png...\n",
      "Downloading image http://imgs.xkcd.com/comics/well_2.png...\n",
      "Downloading page http://xkcd.com/1366...\n",
      "Downloading image http://imgs.xkcd.com/comics/war.png...\n",
      "Downloading image http://imgs.xkcd.com/comics/halting_problem.png...\n",
      "Downloading image http://imgs.xkcd.com/comics/flying_cars.png...\n",
      "Downloading page http://xkcd.com/168...\n",
      "Downloading page http://xkcd.com/1066...\n",
      "Downloading page http://xkcd.com/1469...\n",
      "Downloading page http://xkcd.com/366...\n",
      "Downloading image http://imgs.xkcd.com/comics/pandora.png...\n",
      "Downloading image http://imgs.xkcd.com/comics/star_trek_into_darkness.png...\n",
      "Downloading page http://xkcd.com/1267...\n",
      "Downloading page http://xkcd.com/265...\n",
      "Downloading page http://xkcd.com/569...\n",
      "Downloading image http://imgs.xkcd.com/comics/train.png...\n",
      "Downloading page http://xkcd.com/865...\n",
      "Downloading image http://imgs.xkcd.com/comics/reverse_euphemisms.png...\n",
      "Downloading page http://xkcd.com/770...\n",
      "Downloading page http://xkcd.com/669...\n",
      "Downloading image http://imgs.xkcd.com/comics/your_mom.png...\n",
      "Downloading page http://xkcd.com/1168...\n",
      "Downloading image http://imgs.xkcd.com/comics/uv.png...\n",
      "Downloading image http://imgs.xkcd.com/comics/mess.png...\n",
      "Downloading page http://xkcd.com/1367...\n",
      "Downloading image http://imgs.xkcd.com/comics/choices_part_2.jpg...\n",
      "Downloading page http://xkcd.com/169...\n",
      "Downloading image http://imgs.xkcd.com/comics/borders.png...\n",
      "Downloading page http://xkcd.com/968...\n",
      "Downloading image http://imgs.xkcd.com/comics/nanobots.png...\n",
      "Downloading page http://xkcd.com/367...\n",
      "Downloading image http://imgs.xkcd.com/comics/all_the_girls.png...\n",
      "Downloading image http://imgs.xkcd.com/comics/experiment.png...\n",
      "Downloading page http://xkcd.com/1268...\n",
      "Downloading image http://imgs.xkcd.com/comics/tar.png...\n",
      "Downloading page http://xkcd.com/1470...\n",
      "Downloading image http://imgs.xkcd.com/comics/installing.png...\n",
      "Downloading image http://imgs.xkcd.com/comics/words_that_end_in_gry.png...\n",
      "Downloading image http://imgs.xkcd.com/comics/everything.png...\n",
      "Downloading page http://xkcd.com/866...\n",
      "Downloading page http://xkcd.com/771...\n",
      "Downloading page http://xkcd.com/670...\n",
      "Downloading page http://xkcd.com/1169...\n",
      "Downloading page http://xkcd.com/570...\n",
      "Downloading image http://imgs.xkcd.com/comics/fandom.png...\n",
      "Downloading page http://xkcd.com/266...\n",
      "Downloading image http://imgs.xkcd.com/comics/alternate_universe.png...\n",
      "Downloading page http://xkcd.com/1368...\n",
      "Downloading image http://imgs.xkcd.com/comics/kix.png...\n",
      "Downloading page http://xkcd.com/969...\n",
      "Downloading image http://imgs.xkcd.com/comics/compass_and_straightedge.png...\n",
      "Downloading page http://xkcd.com/170...\n",
      "Downloading page http://xkcd.com/1269...\n",
      "Downloading image http://imgs.xkcd.com/comics/period_speech.png...\n",
      "Downloading image http://imgs.xkcd.com/comics/spinal_tap_amps.png...\n",
      "Downloading page http://xkcd.com/368...\n",
      "Downloading image http://imgs.xkcd.com/comics/expedition.png...\n",
      "Downloading page http://xkcd.com/1471...\n",
      "Downloading image http://imgs.xkcd.com/comics/one_of_the.png...\n",
      "Downloading image http://imgs.xkcd.com/comics/new_car.png...\n",
      "Downloading image http://imgs.xkcd.com/comics/choices_part_3.jpg...\n",
      "Downloading page http://xkcd.com/867...\n",
      "Downloading image http://imgs.xkcd.com/comics/delta_p.png...\n",
      "Downloading image http://imgs.xkcd.com/comics/laundry.png...\n",
      "Downloading page http://xkcd.com/772...\n",
      "Downloading page http://xkcd.com/1170...\n",
      "Downloading page http://xkcd.com/671...\n",
      "Downloading image http://imgs.xkcd.com/comics/turn_back.png...\n",
      "Downloading image http://imgs.xkcd.com/comics/privacy_opinions.png...\n",
      "Downloading page http://xkcd.com/571...\n",
      "Downloading page http://xkcd.com/1369...\n",
      "Downloading image http://imgs.xkcd.com/comics/bass.png...\n",
      "Downloading image http://imgs.xkcd.com/comics/gut_fauna.png...\n",
      "Downloading page http://xkcd.com/970...\n",
      "Downloading image http://imgs.xkcd.com/comics/herpetology.png...\n",
      "Downloading page http://xkcd.com/1067...\n",
      "Downloading page http://xkcd.com/267...\n",
      "Downloading image http://imgs.xkcd.com/comics/frogger.png...\n",
      "Downloading image http://imgs.xkcd.com/comics/bridge.png...\n",
      "Downloading image http://imgs.xkcd.com/comics/stephen_and_me.png...\n",
      "Downloading page http://xkcd.com/1472...\n",
      "Downloading image http://imgs.xkcd.com/comics/cant_sleep.png...\n",
      "Downloading page http://xkcd.com/1270...\n",
      "Downloading page http://xkcd.com/369...\n",
      "Downloading image http://imgs.xkcd.com/comics/tmi.png...\n",
      " Downloading page http://xkcd.com/171...\n",
      "Downloading page http://xkcd.com/868...\n",
      "Downloading image http://imgs.xkcd.com/comics/the_important_field.png...\n",
      "Downloading page http://xkcd.com/773...\n",
      "Downloading page http://xkcd.com/1171...\n",
      "Downloading page http://xkcd.com/672...\n",
      "Downloading image http://imgs.xkcd.com/comics/choices_part_4.jpg...\n",
      "Downloading page http://xkcd.com/572...\n",
      "Downloading image http://imgs.xkcd.com/comics/geography.png...\n",
      "Downloading page http://xkcd.com/1370...\n",
      "Downloading image http://imgs.xkcd.com/comics/dangers.png...\n",
      "Downloading image http://imgs.xkcd.com/comics/functional.png...\n",
      "Downloading image http://imgs.xkcd.com/comics/string_theory.png...\n",
      "Downloading image http://imgs.xkcd.com/comics/nolan_chart.png...\n",
      "Downloading page http://xkcd.com/971...\n",
      "Downloading image http://imgs.xkcd.com/comics/university_website.png...\n",
      "Downloading image http://imgs.xkcd.com/comics/perl_problems.png...\n",
      "Downloading image http://imgs.xkcd.com/comics/suggestions.png...\n",
      "Downloading page http://xkcd.com/1271...\n",
      "Downloading image http://imgs.xkcd.com/comics/together.png...\n",
      "Downloading page http://xkcd.com/1473...\n",
      "Downloading page http://xkcd.com/172...\n",
      "Downloading image http://imgs.xkcd.com/comics/president.png...\n",
      "Downloading page http://xkcd.com/869...\n",
      "Downloading page http://xkcd.com/370...\n",
      "Downloading page http://xkcd.com/1172...\n",
      "Downloading page http://xkcd.com/268...\n",
      "Downloading page http://xkcd.com/774...\n",
      "Downloading image http://imgs.xkcd.com/comics/alternative_literature.png...\n",
      "Downloading image http://imgs.xkcd.com/comics/hilighting.png...\n",
      "Downloading page http://xkcd.com/673...\n",
      "Downloading page http://xkcd.com/1371...\n",
      "Downloading image http://imgs.xkcd.com/comics/pressures.png...\n",
      "Downloading image http://imgs.xkcd.com/comics/location_sharing.png...\n",
      "Downloading page http://xkcd.com/573...\n",
      "Downloading image http://imgs.xkcd.com/comics/server_attention_span.png...\n",
      "Downloading image http://imgs.xkcd.com/comics/skateboarding_is_not_a_crime.png...\n",
      "Downloading page http://xkcd.com/972...\n",
      "Downloading image http://imgs.xkcd.com/comics/redwall.png...\n",
      "Downloading image http://imgs.xkcd.com/comics/choices_part_5.png...\n",
      "Downloading image http://imgs.xkcd.com/comics/workflow.png...\n",
      "Downloading image http://imgs.xkcd.com/comics/atheists.png...\n",
      "Downloading page http://xkcd.com/1272...\n",
      "Downloading page http://xkcd.com/1068...\n",
      "Downloading page http://xkcd.com/1474...\n",
      "Downloading image http://imgs.xkcd.com/comics/the_sun.png...\n",
      "Downloading image http://imgs.xkcd.com/comics/brightness.png...\n",
      "Downloading image http://imgs.xkcd.com/comics/parental_trolling.png...\n",
      "Downloading page http://xkcd.com/269...\n",
      "Downloading page http://xkcd.com/870...\n",
      "Downloading page http://xkcd.com/775...\n",
      "Downloading page http://xkcd.com/1173...\n",
      "Downloading image http://imgs.xkcd.com/comics/november.png...\n",
      "Downloading page http://xkcd.com/371...\n",
      "Downloading page http://xkcd.com/674...\n",
      "Downloading page http://xkcd.com/1372...\n",
      " Downloading page http://xkcd.com/173...\n",
      "Downloading page http://xkcd.com/574...\n",
      "Downloading image http://imgs.xkcd.com/comics/shadowfacts.png...\n",
      "Downloading image http://imgs.xkcd.com/comics/screws.png...\n",
      "Downloading image http://imgs.xkcd.com/comics/tcmp.png...\n",
      "Downloading image http://imgs.xkcd.com/comics/mathematically_annoying.png...\n",
      "Downloading image http://imgs.xkcd.com/comics/savannah_ancestry.png...\n",
      "Downloading image http://imgs.xkcd.com/comics/steroids.png...\n",
      "Downloading page http://xkcd.com/973...\n",
      "Downloading page http://xkcd.com/1273...\n",
      "Downloading page http://xkcd.com/1475...\n",
      "Downloading image http://imgs.xkcd.com/comics/smartwatches.png...\n",
      "Downloading image http://imgs.xkcd.com/comics/compiler_complaint.png...\n",
      "Downloading image http://imgs.xkcd.com/comics/movie_seating.png...\n",
      "Downloading image http://imgs.xkcd.com/comics/swine_flu.png...\n",
      "Downloading page http://xkcd.com/270...\n",
      "Downloading page http://xkcd.com/871...\n",
      "Downloading page http://xkcd.com/776...\n",
      "Downloading page http://xkcd.com/1174...\n",
      "Downloading image http://imgs.xkcd.com/comics/mtv_generation.png...\n",
      "Downloading image http://imgs.xkcd.com/comics/tall_infographics.png...\n",
      "Downloading page http://xkcd.com/372...\n",
      "Downloading image http://imgs.xkcd.com/comics/technically.png...\n",
      "Downloading image http://imgs.xkcd.com/comics/merlin.png...\n",
      "Downloading page http://xkcd.com/174...\n",
      "Downloading image http://imgs.xkcd.com/comics/charity.png...\n",
      "Downloading image http://imgs.xkcd.com/comics/still_no_sleep.png...\n",
      "Downloading page http://xkcd.com/1373...\n",
      "Downloading page http://xkcd.com/974...\n",
      "Downloading image http://imgs.xkcd.com/comics/app.png...\n",
      "Downloading page http://xkcd.com/575...\n",
      "Downloading page http://xkcd.com/1274...\n",
      "Downloading page http://xkcd.com/1476...\n",
      "Downloading image http://imgs.xkcd.com/comics/to_be_wanted.png...\n",
      "Downloading page http://xkcd.com/271...\n",
      "Downloading page http://xkcd.com/872...\n",
      "Downloading page http://xkcd.com/777...\n",
      "Downloading image http://imgs.xkcd.com/comics/thats_what_she_said.png...\n",
      "Downloading page http://xkcd.com/1175...\n",
      "Downloading image http://imgs.xkcd.com/comics/swiftkey.png...\n",
      "Downloading image http://imgs.xkcd.com/comics/screenshot.png...\n",
      "Downloading image http://imgs.xkcd.com/comics/the_general_problem.png...\n",
      "Downloading image http://imgs.xkcd.com/comics/natural_parenting.png...\n",
      "Downloading image http://imgs.xkcd.com/comics/tag_combination.png...\n",
      "Downloading image http://imgs.xkcd.com/comics/open_letter.png...\n",
      "Downloading page http://xkcd.com/175...\n",
      "Downloading image http://imgs.xkcd.com/comics/powers_of_one.png...\n",
      "Downloading image http://imgs.xkcd.com/comics/pore_strips.png...\n",
      "Downloading image http://imgs.xkcd.com/comics/fairy_tales.png...\n",
      "Downloading page http://xkcd.com/1069...\n",
      "Downloading page http://xkcd.com/975...\n",
      "Downloading page http://xkcd.com/1374...\n",
      "Downloading image http://imgs.xkcd.com/comics/moving_sidewalks.png...\n",
      "Downloading page http://xkcd.com/373...\n",
      "Downloading page http://xkcd.com/675...\n",
      "Downloading page http://xkcd.com/576...\n",
      "Downloading page http://xkcd.com/1275...\n",
      "Downloading page http://xkcd.com/778...\n",
      "Downloading page http://xkcd.com/272...\n",
      "Downloading page http://xkcd.com/873...\n",
      "Downloading image http://imgs.xkcd.com/comics/automatic_doors.png...\n",
      "Downloading page http://xkcd.com/1176...\n",
      "Downloading image http://imgs.xkcd.com/comics/urn.png...\n",
      "Downloading image http://imgs.xkcd.com/comics/occulting_telescope.png...\n",
      "Downloading image http://imgs.xkcd.com/comics/ceres.png...\n",
      "Downloading image http://imgs.xkcd.com/comics/the_data_so_far.png...\n",
      "Downloading image http://imgs.xkcd.com/comics/packages.png...\n",
      "Downloading image http://imgs.xkcd.com/comics/scheduling.png...\n",
      "Downloading page http://xkcd.com/176...\n",
      "Downloading image http://imgs.xkcd.com/comics/int_pi.png...\n",
      "Downloading page http://xkcd.com/1375...\n",
      "Downloading page http://xkcd.com/374...\n",
      "Downloading image http://imgs.xkcd.com/comics/fps_mod.png...\n",
      "Downloading image http://imgs.xkcd.com/comics/linux_user_at_best_buy.png...\n",
      "Downloading page http://xkcd.com/976...\n",
      "Downloading image http://imgs.xkcd.com/comics/those_not_present.png...\n",
      "Downloading page http://xkcd.com/1276...\n",
      "Downloading page http://xkcd.com/1477...\n",
      "Downloading page http://xkcd.com/577...\n",
      "Downloading page http://xkcd.com/779...\n",
      "Downloading image http://imgs.xkcd.com/comics/before_sunrise.png...\n",
      "Downloading page http://xkcd.com/874...\n",
      "Downloading page http://xkcd.com/273...\n",
      "Downloading image http://imgs.xkcd.com/comics/journal.png...\n",
      "Downloading image http://imgs.xkcd.com/comics/astronaut_vandalism.png...\n",
      "Downloading image http://imgs.xkcd.com/comics/sail.png...\n",
      "Downloading image http://imgs.xkcd.com/comics/revolutionary.png...\n",
      "Downloading image http://imgs.xkcd.com/comics/angular_size.png...\n",
      "Downloading page http://xkcd.com/1177...\n",
      "Downloading image http://imgs.xkcd.com/comics/alphabet.png...\n",
      "Downloading image http://imgs.xkcd.com/comics/anxiety.png...\n",
      "Downloading page http://xkcd.com/177...\n",
      "Downloading image http://imgs.xkcd.com/comics/time_management.png...\n",
      "Downloading image http://imgs.xkcd.com/comics/star_wars.png...\n",
      "Downloading image http://imgs.xkcd.com/comics/electromagnetic_spectrum_small.png...\n",
      "Downloading page http://xkcd.com/1376...\n",
      "Downloading image http://imgs.xkcd.com/comics/the_race_part_1.png...\n",
      "Downloading page http://xkcd.com/977...\n",
      "Downloading page http://xkcd.com/375...\n",
      "Downloading image http://imgs.xkcd.com/comics/time_robot.png...\n",
      "Downloading page http://xkcd.com/676...\n",
      "Downloading page http://xkcd.com/780...\n",
      "Downloading page http://xkcd.com/1070...\n",
      "Downloading image http://imgs.xkcd.com/comics/alice_and_bob.png...\n",
      "Downloading image http://imgs.xkcd.com/comics/jump.png...\n",
      "Downloading page http://xkcd.com/875...\n",
      "Downloading page http://xkcd.com/1478...\n",
      "Downloading image http://imgs.xkcd.com/comics/map_projections.png...\n",
      "Downloading page http://xkcd.com/578...\n",
      "Downloading page http://xkcd.com/1277...\n",
      "Downloading page http://xkcd.com/1178...\n",
      "Downloading image http://imgs.xkcd.com/comics/sample.png...\n",
      "Downloading page http://xkcd.com/274...\n",
      "Downloading page http://xkcd.com/1377...\n",
      "Downloading image http://imgs.xkcd.com/comics/2009_called.png...\n",
      "Downloading page http://xkcd.com/178...\n",
      "Downloading image http://imgs.xkcd.com/comics/ayn_random.png...\n",
      "Downloading image http://imgs.xkcd.com/comics/pickup_artists.png...\n",
      "Downloading page http://xkcd.com/781...\n",
      "Downloading page http://xkcd.com/876...\n",
      "Downloading image http://imgs.xkcd.com/comics/with_apologies_to_the_who.png...\n",
      "Downloading image http://imgs.xkcd.com/comics/fish.png...\n",
      "Downloading image http://imgs.xkcd.com/comics/not_really_into_pokemon.png...\n",
      "Downloading page http://xkcd.com/1278...\n",
      "Downloading page http://xkcd.com/1179...\n",
      "Downloading image http://imgs.xkcd.com/comics/ahead_stop.png...\n",
      "Downloading image http://imgs.xkcd.com/comics/trapped.png...\n",
      "Downloading page http://xkcd.com/179...\n",
      "Downloading page http://xkcd.com/978...\n",
      "Downloading page http://xkcd.com/275...\n",
      "Downloading page http://xkcd.com/1378...\n",
      "Downloading page http://xkcd.com/782...\n",
      "Downloading image http://imgs.xkcd.com/comics/giraffes.png...\n",
      "Downloading image http://imgs.xkcd.com/comics/iso_8601.png...\n",
      "Downloading image http://imgs.xkcd.com/comics/e_to_the_pi_times_i.png...\n",
      "Downloading page http://xkcd.com/877...\n",
      "Downloading page http://xkcd.com/1279...\n",
      "Downloading image http://imgs.xkcd.com/comics/thoughts.png...\n",
      "Downloading image http://imgs.xkcd.com/comics/citogenesis.png...\n",
      "Downloading image http://imgs.xkcd.com/comics/turbine.png...\n",
      "Downloading page http://xkcd.com/1180...\n",
      "Downloading image http://imgs.xkcd.com/comics/pod_bay_doors.png...\n",
      "Downloading image http://imgs.xkcd.com/comics/desecration.png...\n",
      "Downloading page http://xkcd.com/180...\n",
      "Downloading image http://imgs.xkcd.com/comics/beauty.png...\n",
      "Downloading image http://imgs.xkcd.com/comics/reverse_identity_theft.png...\n",
      "Downloading page http://xkcd.com/1379...\n",
      "Downloading image http://imgs.xkcd.com/comics/words_for_small_sets.png...\n",
      "Downloading image http://imgs.xkcd.com/comics/abstraction.png...\n",
      "Downloading page http://xkcd.com/276...\n",
      "Downloading image http://imgs.xkcd.com/comics/the_race_part_2.png...\n",
      "Downloading image http://imgs.xkcd.com/comics/virus_venn_diagram.png...\n",
      "Downloading page http://xkcd.com/783...\n",
      "Downloading image http://imgs.xkcd.com/comics/canada.png...\n",
      "Downloading page http://xkcd.com/1280...\n",
      "Downloading page http://xkcd.com/1071...\n",
      "Downloading image http://imgs.xkcd.com/comics/p_values.png...\n",
      "Downloading page http://xkcd.com/979...\n",
      "Downloading image http://imgs.xkcd.com/comics/4_5_degrees.png...\n",
      "Downloading image http://imgs.xkcd.com/comics/fixed_width.png...\n",
      "Downloading page http://xkcd.com/677...\n",
      "Downloading page http://xkcd.com/878...\n",
      "Downloading page http://xkcd.com/1181...\n",
      "Downloading page http://xkcd.com/376...\n",
      "Downloading image http://imgs.xkcd.com/comics/i_dont_want_directions.png...\n",
      "Downloading page http://xkcd.com/579...\n",
      "Downloading page http://xkcd.com/181...\n",
      "Downloading image http://imgs.xkcd.com/comics/mystery_news.png...\n",
      "Downloading page http://xkcd.com/1479...\n",
      "Downloading image http://imgs.xkcd.com/comics/wisdom_of_the_ancients.png...\n",
      "Downloading page http://xkcd.com/277...\n",
      "Downloading image http://imgs.xkcd.com/comics/pgp.png...\n",
      "Downloading image http://imgs.xkcd.com/comics/model_rail.png...\n",
      "Downloading page http://xkcd.com/1380...\n",
      "Downloading page http://xkcd.com/1281...\n",
      "Downloading page http://xkcd.com/784...\n",
      "Downloading image http://imgs.xkcd.com/comics/interblag.png...\n",
      "Downloading page http://xkcd.com/980...\n",
      "Downloading image http://imgs.xkcd.com/comics/long_light.png...\n",
      "Downloading page http://xkcd.com/1182...\n",
      "Downloading page http://xkcd.com/182...\n",
      "Downloading page http://xkcd.com/879...\n",
      "Downloading image http://imgs.xkcd.com/comics/manual_for_civilization.png...\n",
      "Downloading image http://imgs.xkcd.com/comics/falling_asleep.png...\n",
      "Downloading image http://imgs.xkcd.com/comics/minifigs.png...\n",
      "Downloading image http://imgs.xkcd.com/comics/money.png...\n",
      "Downloading image http://imgs.xkcd.com/comics/rembrandt_photo.png...\n",
      "Downloading image http://imgs.xkcd.com/comics/asshole.png...\n",
      "Downloading image http://imgs.xkcd.com/comics/nash.png...\n",
      "Downloading page http://xkcd.com/278...\n",
      "Downloading image http://imgs.xkcd.com/comics/lamp.png...\n",
      "Downloading page http://xkcd.com/1282...\n",
      "Downloading page http://xkcd.com/1183...\n",
      "Downloading page http://xkcd.com/1381...\n",
      "Downloading image http://imgs.xkcd.com/comics/troubleshooting.png...\n",
      "Downloading page http://xkcd.com/785...\n",
      "Downloading page http://xkcd.com/880...\n",
      "Downloading page http://xkcd.com/678...\n",
      "Downloading image http://imgs.xkcd.com/comics/bug.png...\n",
      "Downloading image http://imgs.xkcd.com/comics/black_hat_support.png...\n",
      "Downloading page http://xkcd.com/183...\n",
      "Downloading image http://imgs.xkcd.com/comics/monty_hall.png...\n",
      "Downloading image http://imgs.xkcd.com/comics/rose_petals.png...\n",
      "Downloading page http://xkcd.com/1480...\n",
      "Downloading page http://xkcd.com/377...\n",
      "Downloading image http://imgs.xkcd.com/comics/open_mic_night.png...\n",
      "Downloading image http://imgs.xkcd.com/comics/margin.png...\n",
      "Downloading image http://imgs.xkcd.com/comics/exoplanets.png...\n",
      "Downloading page http://xkcd.com/981...\n",
      "Downloading page http://xkcd.com/279...\n",
      "Downloading page http://xkcd.com/1283...\n",
      "Downloading image http://imgs.xkcd.com/comics/researcher_translation.png...\n",
      " Downloading image http://imgs.xkcd.com/comics/snacktime_rules.png...\n",
      "Downloading image http://imgs.xkcd.com/comics/headache.png...\n",
      "Downloading image http://imgs.xkcd.com/comics/the_race_part_3.png...\n",
      "Downloading page http://xkcd.com/1184...\n",
      "Downloading page http://xkcd.com/1382...\n",
      "Downloading page http://xkcd.com/786...\n",
      "Downloading image http://imgs.xkcd.com/comics/porn_folder.png...\n",
      "Downloading page http://xkcd.com/184...\n",
      "Downloading page http://xkcd.com/881...\n",
      "Downloading image http://imgs.xkcd.com/comics/pickup_lines.png...\n",
      "Downloading page http://xkcd.com/580...\n",
      "Downloading page http://xkcd.com/679...\n",
      "Downloading image http://imgs.xkcd.com/comics/headlines.png...\n",
      "Downloading page http://xkcd.com/1072...\n",
      "Downloading page http://xkcd.com/982...\n",
      "Downloading image http://imgs.xkcd.com/comics/circumference_formula.png...\n",
      "Downloading image http://imgs.xkcd.com/comics/rocket_packs.png...\n",
      "Downloading image http://imgs.xkcd.com/comics/exoplanets_2010.png...\n",
      "Downloading image http://imgs.xkcd.com/comics/journal_2.png...\n",
      "Downloading image http://imgs.xkcd.com/comics/matrix_transform.png...\n",
      "Downloading image http://imgs.xkcd.com/comics/probability.png...\n",
      "Downloading page http://xkcd.com/280...\n",
      "Downloading page http://xkcd.com/1185...\n",
      "Downloading page http://xkcd.com/1383...\n",
      "Downloading image http://imgs.xkcd.com/comics/set_theory.png...\n",
      "Downloading page http://xkcd.com/185...\n",
      "Downloading page http://xkcd.com/1284...\n",
      "Downloading page http://xkcd.com/787...\n",
      "Downloading page http://xkcd.com/882...\n",
      "Downloading image http://imgs.xkcd.com/comics/librarians.png...\n",
      "Downloading page http://xkcd.com/983...\n",
      "Downloading page http://xkcd.com/378...\n",
      "Downloading image http://imgs.xkcd.com/comics/magic_words.png...\n",
      "Downloading image http://imgs.xkcd.com/comics/super_bowl.png...\n",
      "Downloading image http://imgs.xkcd.com/comics/ineffective_sorts.png...\n",
      "Downloading image http://imgs.xkcd.com/comics/seventies.png...\n",
      "Downloading image http://imgs.xkcd.com/comics/christmas_plans.png...\n",
      "Downloading image http://imgs.xkcd.com/comics/wikifriends.png...\n",
      "Downloading image http://imgs.xkcd.com/comics/improved_keyboard.png...\n",
      "Downloading image http://imgs.xkcd.com/comics/orbiter.png...\n",
      "Downloading image http://imgs.xkcd.com/comics/significant.png...\n",
      "Downloading page http://xkcd.com/281...\n",
      "Downloading image http://imgs.xkcd.com/comics/the_race_part_4.png...\n",
      "Downloading image http://imgs.xkcd.com/comics/privacy.png...\n",
      "Downloading page http://xkcd.com/1384...\n",
      "Downloading page http://xkcd.com/1481...\n",
      "Downloading page http://xkcd.com/186...Downloading page http://xkcd.com/1073...\n",
      "\n",
      "Downloading page http://xkcd.com/1285...\n",
      "Downloading page http://xkcd.com/1186...\n",
      "Downloading page http://xkcd.com/680...\n",
      "Downloading page http://xkcd.com/788...\n",
      "Downloading image http://imgs.xkcd.com/comics/online_package_tracking.png...\n",
      "Downloading image http://imgs.xkcd.com/comics/krypton.png...\n",
      "Downloading image http://imgs.xkcd.com/comics/real_programmers.png...\n",
      "Downloading page http://xkcd.com/282...\n",
      "Downloading image http://imgs.xkcd.com/comics/the_carriage.png...\n",
      "Downloading image http://imgs.xkcd.com/comics/bumblebees.png...\n",
      "Downloading page http://xkcd.com/984...\n",
      "Downloading page http://xkcd.com/581...\n",
      "Downloading page http://xkcd.com/1385...\n",
      "Downloading page http://xkcd.com/883...\n",
      "Downloading image http://imgs.xkcd.com/comics/organic_fuel.png...\n",
      "Downloading page http://xkcd.com/1187...\n",
      "Downloading image http://imgs.xkcd.com/comics/space_launch_system.png...\n",
      "Downloading page http://xkcd.com/379...\n",
      "Downloading page http://xkcd.com/789...\n",
      "Downloading image http://imgs.xkcd.com/comics/throwing_rocks.png...\n",
      "Downloading page http://xkcd.com/283...\n",
      "Downloading image http://imgs.xkcd.com/comics/console_lines.png...\n",
      "Downloading image http://imgs.xkcd.com/comics/third_way.png...\n",
      "Downloading image http://imgs.xkcd.com/comics/pain_rating.png...\n",
      "Downloading image http://imgs.xkcd.com/comics/aspect_ratio.png...\n",
      "Downloading page http://xkcd.com/1386...\n",
      "Downloading image http://imgs.xkcd.com/comics/showdown.png...\n",
      "Downloading page http://xkcd.com/985...\n",
      "Downloading image http://imgs.xkcd.com/comics/projection.png...\n",
      "Downloading page http://xkcd.com/1286...\n",
      "Downloading page http://xkcd.com/187...\n",
      "Downloading page http://xkcd.com/1188...\n",
      "Downloading page http://xkcd.com/884...\n",
      "Downloading image http://imgs.xkcd.com/comics/december_25th.png...\n",
      "Downloading image http://imgs.xkcd.com/comics/people_are_stupid.png...\n",
      "Exception in thread Thread-13:\n",
      "Traceback (most recent call last):\n",
      "  File \"/System/Library/Frameworks/Python.framework/Versions/2.7/lib/python2.7/threading.py\", line 810, in __bootstrap_inner\n",
      "    self.run()\n",
      "  File \"/System/Library/Frameworks/Python.framework/Versions/2.7/lib/python2.7/threading.py\", line 763, in run\n",
      "    self.__target(*self.__args, **self.__kwargs)\n",
      "  File \"multidownloadXkcd.py\", line 15, in downloadXkcd\n",
      "    res = requests.get('http://xkcd.com/{}'.format(urlNumber))\n",
      "  File \"/Users/re4lfl0w/.virtualenvs/general/lib/python2.7/site-packages/requests/api.py\", line 65, in get\n",
      "    return request('get', url, **kwargs)\n",
      "  File \"/Users/re4lfl0w/.virtualenvs/general/lib/python2.7/site-packages/requests/api.py\", line 49, in request\n",
      "    response = session.request(method=method, url=url, **kwargs)\n",
      "  File \"/Users/re4lfl0w/.virtualenvs/general/lib/python2.7/site-packages/requests/sessions.py\", line 461, in request\n",
      "    resp = self.send(prep, **send_kwargs)\n",
      "  File \"/Users/re4lfl0w/.virtualenvs/general/lib/python2.7/site-packages/requests/sessions.py\", line 573, in send\n",
      "    r = adapter.send(request, **kwargs)\n",
      "  File \"/Users/re4lfl0w/.virtualenvs/general/lib/python2.7/site-packages/requests/adapters.py\", line 415, in send\n",
      "    raise ConnectionError(err, request=request)\n",
      "ConnectionError: ('Connection aborted.', error(54, 'Connection reset by peer'))\n",
      "\n",
      "Downloading page http://xkcd.com/790...\n",
      "Downloading image http://imgs.xkcd.com/comics/percentage_points.png...\n",
      "Downloading image http://imgs.xkcd.com/comics/the_familiar.png...\n",
      "Downloading page http://xkcd.com/284...\n",
      "Downloading image http://imgs.xkcd.com/comics/control.png...\n",
      "Downloading image http://imgs.xkcd.com/comics/rogers_st.png...\n",
      "Downloading image http://imgs.xkcd.com/comics/bonding.png...\n",
      "Downloading page http://xkcd.com/1387...\n",
      "Downloading page http://xkcd.com/681...\n",
      "Downloading page http://xkcd.com/188...\n",
      "Downloading page http://xkcd.com/986...\n",
      "Downloading image http://imgs.xkcd.com/comics/tape_measure.png...\n",
      "Downloading image http://imgs.xkcd.com/comics/forgetting.png...\n",
      "Downloading page http://xkcd.com/791...\n",
      "Downloading page http://xkcd.com/1189...\n",
      " Downloading page http://xkcd.com/885...\n",
      "Downloading image http://imgs.xkcd.com/comics/reload.png...\n",
      "Downloading image http://imgs.xkcd.com/comics/drinking_fountains.png...\n",
      "Downloading image http://imgs.xkcd.com/comics/clumsy_foreshadowing.png...\n",
      "Downloading image http://imgs.xkcd.com/comics/the_race_part_5.png...\n",
      "Downloading image http://imgs.xkcd.com/comics/weekend.png...\n",
      "Downloading image http://imgs.xkcd.com/comics/api.png...\n",
      "Downloading page http://xkcd.com/380...\n",
      "Downloading page http://xkcd.com/285...\n",
      "Downloading image http://imgs.xkcd.com/comics/recycling.png...\n",
      "Downloading image http://imgs.xkcd.com/comics/voyager_1.png...\n",
      "Downloading image http://imgs.xkcd.com/comics/leaving.png...\n",
      "Downloading page http://xkcd.com/987...\n",
      "Downloading page http://xkcd.com/1482...\n",
      "Downloading page http://xkcd.com/1074...\n",
      "Downloading page http://xkcd.com/1388...\n",
      "Downloading page http://xkcd.com/189...\n",
      "Downloading page http://xkcd.com/1190...\n",
      "Downloading image http://imgs.xkcd.com/comics/gravity_wells.png...\n",
      "Downloading image http://imgs.xkcd.com/comics/wikipedian_protester.png...\n",
      "Downloading page http://xkcd.com/582...\n",
      "Downloading page http://xkcd.com/886...\n",
      "Downloading page http://xkcd.com/792...\n",
      "Downloading image http://imgs.xkcd.com/comics/subduction_license.png...\n",
      "Downloading image http://imgs.xkcd.com/comics/potential.png...\n",
      "Downloading page http://xkcd.com/286...\n",
      "Downloading image http://imgs.xkcd.com/comics/exercise.png...\n",
      "Downloading image http://imgs.xkcd.com/comics/time.png...\n",
      "Downloading page http://xkcd.com/682...\n",
      "Downloading image http://imgs.xkcd.com/comics/craigslist_apartments.png...\n",
      "Downloading image http://imgs.xkcd.com/comics/password_reuse.png...\n",
      "Downloading image http://imgs.xkcd.com/comics/emoticon.png...\n",
      "Downloading page http://xkcd.com/1389...\n",
      "Downloading page http://xkcd.com/190...\n",
      "Downloading image http://imgs.xkcd.com/comics/all_your_base.png...\n",
      "Downloading page http://xkcd.com/988...\n",
      "Downloading page http://xkcd.com/381...\n",
      "Downloading image http://imgs.xkcd.com/comics/surface_area.png...\n",
      "Downloading image http://imgs.xkcd.com/comics/ipod.png...\n",
      "Downloading page http://xkcd.com/287...\n",
      "Downloading image http://imgs.xkcd.com/comics/brakes.png...\n",
      "Downloading image http://imgs.xkcd.com/comics/nowplaying.png...\n",
      "Downloading image http://imgs.xkcd.com/comics/tradition.png...\n",
      "Downloading page http://xkcd.com/793...\n",
      "Downloading image http://imgs.xkcd.com/comics/moon_landing.png...\n",
      "Exception in thread Thread-2:\n",
      "Traceback (most recent call last):\n",
      "  File \"/System/Library/Frameworks/Python.framework/Versions/2.7/lib/python2.7/threading.py\", line 810, in __bootstrap_inner\n",
      "    self.run()\n",
      "  File \"/System/Library/Frameworks/Python.framework/Versions/2.7/lib/python2.7/threading.py\", line 763, in run\n",
      "    self.__target(*self.__args, **self.__kwargs)\n",
      "  File \"multidownloadXkcd.py\", line 31, in downloadXkcd\n",
      "    res = requests.get(comicUrl)\n",
      "  File \"/Users/re4lfl0w/.virtualenvs/general/lib/python2.7/site-packages/requests/api.py\", line 65, in get\n",
      "    return request('get', url, **kwargs)\n",
      "  File \"/Users/re4lfl0w/.virtualenvs/general/lib/python2.7/site-packages/requests/api.py\", line 49, in request\n",
      "    response = session.request(method=method, url=url, **kwargs)\n",
      "  File \"/Users/re4lfl0w/.virtualenvs/general/lib/python2.7/site-packages/requests/sessions.py\", line 461, in request\n",
      "    resp = self.send(prep, **send_kwargs)\n",
      "  File \"/Users/re4lfl0w/.virtualenvs/general/lib/python2.7/site-packages/requests/sessions.py\", line 573, in send\n",
      "    r = adapter.send(request, **kwargs)\n",
      "  File \"/Users/re4lfl0w/.virtualenvs/general/lib/python2.7/site-packages/requests/adapters.py\", line 415, in send\n",
      "    raise ConnectionError(err, request=request)\n",
      "ConnectionError: ('Connection aborted.', error(54, 'Connection reset by peer'))\n",
      "\n",
      "Exception in thread Thread-14:\n",
      "Traceback (most recent call last):\n",
      "  File \"/System/Library/Frameworks/Python.framework/Versions/2.7/lib/python2.7/threading.py\", line 810, in __bootstrap_inner\n",
      "    self.run()\n",
      "  File \"/System/Library/Frameworks/Python.framework/Versions/2.7/lib/python2.7/threading.py\", line 763, in run\n",
      "    self.__target(*self.__args, **self.__kwargs)\n",
      "  File \"multidownloadXkcd.py\", line 31, in downloadXkcd\n",
      "    res = requests.get(comicUrl)\n",
      "  File \"/Users/re4lfl0w/.virtualenvs/general/lib/python2.7/site-packages/requests/api.py\", line 65, in get\n",
      "    return request('get', url, **kwargs)\n",
      "  File \"/Users/re4lfl0w/.virtualenvs/general/lib/python2.7/site-packages/requests/api.py\", line 49, in request\n",
      "    response = session.request(method=method, url=url, **kwargs)\n",
      "  File \"/Users/re4lfl0w/.virtualenvs/general/lib/python2.7/site-packages/requests/sessions.py\", line 461, in request\n",
      "    resp = self.send(prep, **send_kwargs)\n",
      "  File \"/Users/re4lfl0w/.virtualenvs/general/lib/python2.7/site-packages/requests/sessions.py\", line 573, in send\n",
      "    r = adapter.send(request, **kwargs)\n",
      "  File \"/Users/re4lfl0w/.virtualenvs/general/lib/python2.7/site-packages/requests/adapters.py\", line 415, in send\n",
      "    raise ConnectionError(err, request=request)\n",
      "ConnectionError: ('Connection aborted.', error(54, 'Connection reset by peer'))\n",
      "\n",
      "Downloading page http://xkcd.com/887...\n",
      "Downloading page http://xkcd.com/1191...\n",
      "Downloading image http://imgs.xkcd.com/comics/np_complete.png...\n",
      "Downloading page http://xkcd.com/1483...\n",
      "Downloading image http://imgs.xkcd.com/comics/physicists.png...\n",
      "Downloading page http://xkcd.com/1075...\n",
      "Downloading page http://xkcd.com/989...\n",
      "Downloading image http://imgs.xkcd.com/comics/future_timeline.png...\n",
      "Downloading image http://imgs.xkcd.com/comics/the_past.png...\n",
      "Downloading image http://imgs.xkcd.com/comics/force.png...\n",
      "Downloading image http://imgs.xkcd.com/comics/mobius_battle.png...\n",
      "Downloading page http://xkcd.com/794...\n",
      "Downloading page http://xkcd.com/583...\n",
      "Downloading page http://xkcd.com/1192...\n",
      "Downloading image http://imgs.xkcd.com/comics/cryogenics.png...\n",
      "Downloading page http://xkcd.com/288...\n",
      "Downloading page http://xkcd.com/683...\n",
      "Downloading page http://xkcd.com/382...\n",
      "Downloading image http://imgs.xkcd.com/comics/inside_joke.png...\n",
      "Downloading image http://imgs.xkcd.com/comics/humming.png...\n",
      "Downloading image http://imgs.xkcd.com/comics/elevator.jpg...\n",
      "Downloading page http://xkcd.com/990...\n",
      "Downloading page http://xkcd.com/795...\n",
      "Downloading page http://xkcd.com/1193...\n",
      "Downloading image http://imgs.xkcd.com/comics/plastic_bags.png...\n",
      "Downloading page http://xkcd.com/888...\n",
      "Downloading image http://imgs.xkcd.com/comics/conditional_risk.png...\n",
      "Downloading page http://xkcd.com/289...\n",
      "Downloading image http://imgs.xkcd.com/comics/quotative_like.png...\n",
      "Downloading image http://imgs.xkcd.com/comics/externalities.png...\n",
      "Downloading image http://imgs.xkcd.com/comics/heaven.png...\n",
      "Downloading page http://xkcd.com/991...\n",
      "Downloading page http://xkcd.com/796...\n",
      "Downloading page http://xkcd.com/1194...\n",
      "Downloading image http://imgs.xkcd.com/comics/alone.png...\n",
      "Downloading image http://imgs.xkcd.com/comics/warning.png...\n",
      "Downloading page http://xkcd.com/1484...\n",
      "Downloading image http://imgs.xkcd.com/comics/cnr.png...\n",
      "Downloading image http://imgs.xkcd.com/comics/bad_ex.png...\n",
      "Downloading image http://imgs.xkcd.com/comics/phantom_menace.png...\n",
      "Downloading page http://xkcd.com/889...\n",
      "Downloading page http://xkcd.com/1076...\n",
      "Downloading image http://imgs.xkcd.com/comics/stratigraphic_record.png...\n",
      "Downloading page http://xkcd.com/290...\n",
      "Downloading page http://xkcd.com/584...\n",
      "Downloading image http://imgs.xkcd.com/comics/trebuchet.png...\n",
      "Downloading image http://imgs.xkcd.com/comics/turtles.png...\n",
      "Downloading page http://xkcd.com/797...\n",
      "Downloading image http://imgs.xkcd.com/comics/fucking_blue_shells.png...\n",
      "Downloading page http://xkcd.com/992...\n",
      "Downloading page http://xkcd.com/1195...\n",
      "Downloading image http://imgs.xkcd.com/comics/science_montage.png...\n",
      "Downloading page http://xkcd.com/383...\n",
      "Downloading page http://xkcd.com/890...\n",
      "Downloading image http://imgs.xkcd.com/comics/debian_main.png...\n",
      "Downloading page http://xkcd.com/291...\n",
      "Downloading image http://imgs.xkcd.com/comics/mnemonics.png...\n",
      "Downloading image http://imgs.xkcd.com/comics/flowchart.png...\n",
      "Downloading page http://xkcd.com/684...\n",
      "Downloading page http://xkcd.com/798...\n",
      "Downloading image http://imgs.xkcd.com/comics/etymology.png...\n",
      "Downloading image http://imgs.xkcd.com/comics/apollo_speeches.png...\n",
      "Downloading page http://xkcd.com/1196...\n",
      "Downloading image http://imgs.xkcd.com/comics/dignified.png...\n",
      "Downloading image http://imgs.xkcd.com/comics/groundhog_day.png...\n",
      "Downloading image http://imgs.xkcd.com/comics/adjectives.png...\n",
      "Downloading page http://xkcd.com/993...\n",
      "Downloading image http://imgs.xkcd.com/comics/subways.png...\n",
      "Downloading page http://xkcd.com/891...\n",
      "Downloading page http://xkcd.com/292...\n",
      "Downloading page http://xkcd.com/1077...\n",
      "Downloading image http://imgs.xkcd.com/comics/brand_identity.png...\n",
      "Downloading image http://imgs.xkcd.com/comics/movie_ages.png...\n",
      "Downloading image http://imgs.xkcd.com/comics/helping.png...\n",
      "Downloading image http://imgs.xkcd.com/comics/goto.png...\n",
      "Downloading page http://xkcd.com/799...\n",
      "Downloading page http://xkcd.com/1485...\n",
      "Downloading page http://xkcd.com/293...\n",
      "Downloading image http://imgs.xkcd.com/comics/we_get_it.png...\n",
      "Downloading page http://xkcd.com/1197...\n",
      "Downloading image http://imgs.xkcd.com/comics/unsatisfied.png...\n",
      "Downloading image http://imgs.xkcd.com/comics/stephen_hawking.png...\n",
      "Downloading page http://xkcd.com/384...\n",
      "Downloading page http://xkcd.com/892...\n",
      "Downloading page http://xkcd.com/685...\n",
      "Downloading image http://imgs.xkcd.com/comics/all_adobe_updates.png...\n",
      "Downloading image http://imgs.xkcd.com/comics/rtfm.png...\n",
      "Downloading page http://xkcd.com/994...\n",
      "Downloading page http://xkcd.com/585...\n",
      "Downloading image http://imgs.xkcd.com/comics/null_hypothesis.png...\n",
      "Downloading page http://xkcd.com/1198...\n",
      "Downloading image http://imgs.xkcd.com/comics/advent_calendar.png...\n",
      "Downloading page http://xkcd.com/294...\n",
      "Downloading page http://xkcd.com/893...\n",
      "Downloading image http://imgs.xkcd.com/comics/geologist.png...\n",
      "Downloading image http://imgs.xkcd.com/comics/bookstore.png...\n",
      "Downloading page http://xkcd.com/995...\n",
      "Downloading image http://imgs.xkcd.com/comics/65_years.png...\n",
      "Downloading image http://imgs.xkcd.com/comics/home_organization.png...\n",
      "Downloading page http://xkcd.com/1199...\n",
      "Downloading page http://xkcd.com/894...\n",
      "Downloading image http://imgs.xkcd.com/comics/coinstar.png...\n",
      "Downloading page http://xkcd.com/1078...\n",
      "Downloading page http://xkcd.com/295...\n",
      "Downloading image http://imgs.xkcd.com/comics/the_drake_equation.png...\n",
      "Downloading image http://imgs.xkcd.com/comics/outreach.png...\n",
      "Downloading image http://imgs.xkcd.com/comics/silence.png...\n",
      "Downloading image http://imgs.xkcd.com/comics/friendship.png...\n",
      "Downloading image http://imgs.xkcd.com/comics/g-spot.png...\n",
      "Downloading image http://imgs.xkcd.com/comics/progeny.png...\n",
      "Downloading page http://xkcd.com/996...\n",
      "Downloading image http://imgs.xkcd.com/comics/dne.png...\n",
      "Downloading image http://imgs.xkcd.com/comics/knights.png...\n",
      "Downloading page http://xkcd.com/385...\n",
      "Downloading image http://imgs.xkcd.com/comics/making_things_difficult.png...\n",
      "Downloading page http://xkcd.com/1079...\n",
      "Downloading page http://xkcd.com/686...\n",
      "Downloading page http://xkcd.com/895...\n",
      "Downloading page http://xkcd.com/586...\n",
      "Downloading page http://xkcd.com/997...\n",
      "Downloading page http://xkcd.com/296...\n",
      "Downloading image http://imgs.xkcd.com/comics/teaching_physics.png...\n",
      "Downloading page http://xkcd.com/1486...\n",
      "Downloading image http://imgs.xkcd.com/comics/wait_wait.png...\n",
      "Downloading image http://imgs.xkcd.com/comics/tony_hawk.png...\n",
      "Downloading page http://xkcd.com/896...\n",
      "Downloading image http://imgs.xkcd.com/comics/how_it_works.png...\n",
      "Downloading page http://xkcd.com/297...\n",
      "Downloading image http://imgs.xkcd.com/comics/marie_curie.png...\n",
      "Downloading page http://xkcd.com/386...\n",
      "Downloading page http://xkcd.com/998...\n",
      "Downloading image http://imgs.xkcd.com/comics/lisp_cycles.png...\n",
      "Downloading page http://xkcd.com/897...\n",
      "Downloading image http://imgs.xkcd.com/comics/2012.png...\n",
      "Downloading page http://xkcd.com/298...\n",
      "Downloading image http://imgs.xkcd.com/comics/elevator_inspection.png...\n",
      "Downloading image http://imgs.xkcd.com/comics/admin_mourning.png...\n",
      "Downloading image http://imgs.xkcd.com/comics/duty_calls.png...\n",
      "Downloading page http://xkcd.com/999...\n",
      "Downloading image http://imgs.xkcd.com/comics/united_shapes.png...\n",
      "Downloading image http://imgs.xkcd.com/comics/tesla_coil.png...\n",
      "Downloading page http://xkcd.com/387...\n",
      "Downloading page http://xkcd.com/898...\n",
      "Downloading image http://imgs.xkcd.com/comics/cougars.png...\n",
      "Downloading page http://xkcd.com/687...\n",
      "Downloading image http://imgs.xkcd.com/comics/mission_to_culture.png...\n",
      "Downloading image http://imgs.xkcd.com/comics/vacuum.png...\n",
      " Downloading page http://xkcd.com/299...\n",
      "Downloading image http://imgs.xkcd.com/comics/chain_of_command.png...\n",
      "Downloading page http://xkcd.com/1080...\n",
      "Downloading page http://xkcd.com/587...\n",
      "Downloading image http://imgs.xkcd.com/comics/aeris_dies.png...\n",
      "Downloading page http://xkcd.com/899...\n",
      "Downloading page http://xkcd.com/1487...\n",
      "Downloading image http://imgs.xkcd.com/comics/number_line.png...\n",
      "Downloading image http://imgs.xkcd.com/comics/advanced_technology.png...\n",
      "Downloading image http://imgs.xkcd.com/comics/dimensional_analysis.png...\n",
      "Downloading page http://xkcd.com/388...\n",
      "Downloading image http://imgs.xkcd.com/comics/crime_scene.png...\n",
      "Downloading page http://xkcd.com/688...\n",
      "Downloading image http://imgs.xkcd.com/comics/tornado.png...\n",
      "Downloading page http://xkcd.com/588...\n",
      "Downloading image http://imgs.xkcd.com/comics/visual_field.png...\n",
      "Downloading page http://xkcd.com/1488...\n",
      "Downloading page http://xkcd.com/1081...\n",
      "Downloading image http://imgs.xkcd.com/comics/self_description.png...\n",
      "Downloading page http://xkcd.com/689...\n",
      "Downloading image http://imgs.xkcd.com/comics/flowcharts.png...\n",
      "Downloading image http://imgs.xkcd.com/comics/fuck_grapefruit.png...\n",
      "Downloading image http://imgs.xkcd.com/comics/pep_rally.png...\n",
      "Downloading page http://xkcd.com/1489...\n",
      "Downloading page http://xkcd.com/589...\n",
      "Downloading page http://xkcd.com/389...\n",
      "Downloading image http://imgs.xkcd.com/comics/argument_victory.png...\n",
      "Downloading image http://imgs.xkcd.com/comics/first_design.png...\n",
      "Downloading page http://xkcd.com/1082...\n",
      "Downloading page http://xkcd.com/690...\n",
      "Downloading image http://imgs.xkcd.com/comics/fundamental_forces.png...\n",
      "Downloading page http://xkcd.com/1490...\n",
      "Downloading image http://imgs.xkcd.com/comics/keeping_time.png...\n",
      "Downloading image http://imgs.xkcd.com/comics/designated_drivers.png...\n",
      "Downloading page http://xkcd.com/390...\n",
      "Downloading page http://xkcd.com/590...\n",
      "Downloading image http://imgs.xkcd.com/comics/semicontrolled_demolition.png...\n",
      "Downloading image http://imgs.xkcd.com/comics/geology.png...\n",
      "Downloading page http://xkcd.com/691...\n",
      "Downloading image http://imgs.xkcd.com/comics/atoms.png...\n",
      "Downloading page http://xkcd.com/1083...\n",
      "Downloading image http://imgs.xkcd.com/comics/nightmares.png...\n",
      "Downloading page http://xkcd.com/1491...\n",
      "Downloading page http://xkcd.com/391...\n",
      "Downloading image http://imgs.xkcd.com/comics/microsd.png...\n",
      "Downloading page http://xkcd.com/692...\n",
      "Downloading image http://imgs.xkcd.com/comics/writing_styles.png...\n",
      "Downloading image http://imgs.xkcd.com/comics/papyrus.png...\n",
      "Downloading page http://xkcd.com/1084...\n",
      "Downloading page http://xkcd.com/591...\n",
      "Downloading image http://imgs.xkcd.com/comics/stories_of_the_past_and_future.png...\n",
      "Downloading image http://imgs.xkcd.com/comics/anti_mind_virus.png...\n",
      "Downloading page http://xkcd.com/392...\n",
      "Downloading page http://xkcd.com/1492...\n",
      "Downloading image http://imgs.xkcd.com/comics/server_problem.png...\n",
      "Downloading image http://imgs.xkcd.com/comics/troll_slayer.png...\n",
      "Downloading image http://imgs.xkcd.com/comics/dirty_harry.png...\n",
      "Downloading image http://imgs.xkcd.com/comics/making_rules.png...\n",
      "Downloading page http://xkcd.com/693...\n",
      "Downloading image http://imgs.xkcd.com/comics/dress_color.png...\n",
      "Downloading page http://xkcd.com/1085...\n",
      "Downloading page http://xkcd.com/592...\n",
      "Downloading page http://xkcd.com/393...\n",
      "Downloading page http://xkcd.com/1493...\n",
      "Downloading image http://imgs.xkcd.com/comics/ultimate_game.png...\n",
      "Downloading image http://imgs.xkcd.com/comics/contextbot.png...\n",
      "Downloading page http://xkcd.com/394...\n",
      "Downloading image http://imgs.xkcd.com/comics/meeting.png...\n",
      "Downloading image http://imgs.xkcd.com/comics/childrens_fantasy.png...\n",
      "Downloading image http://imgs.xkcd.com/comics/drama.png...\n",
      "Downloading page http://xkcd.com/1086...\n",
      "Downloading page http://xkcd.com/1494...\n",
      "Downloading page http://xkcd.com/593...\n",
      "Downloading page http://xkcd.com/694...\n",
      "Downloading image http://imgs.xkcd.com/comics/kilobyte.png...\n",
      "Downloading image http://imgs.xkcd.com/comics/insurance.png...\n",
      "Downloading page http://xkcd.com/395...\n",
      "Downloading page http://xkcd.com/1495...\n",
      "Downloading image http://imgs.xkcd.com/comics/eyelash_wish_log.png...\n",
      "Downloading image http://imgs.xkcd.com/comics/voynich_manuscript.png...\n",
      "Downloading image http://imgs.xkcd.com/comics/retro_virus.png...\n",
      "Downloading image http://imgs.xkcd.com/comics/morning.png...\n",
      "Downloading page http://xkcd.com/1087...\n",
      "Downloading page http://xkcd.com/594...\n",
      "Downloading page http://xkcd.com/695...\n",
      "Downloading image http://imgs.xkcd.com/comics/hard_reboot.png...\n",
      "Downloading page http://xkcd.com/396...\n",
      "Downloading page http://xkcd.com/1496...\n",
      "Downloading image http://imgs.xkcd.com/comics/spirit.png...\n",
      "Downloading image http://imgs.xkcd.com/comics/cirith_ungol.png...\n",
      "Downloading image http://imgs.xkcd.com/comics/the_ring.png...\n",
      "Downloading image http://imgs.xkcd.com/comics/period.png...\n",
      "Downloading image http://imgs.xkcd.com/comics/art_project.png...\n",
      "Downloading page http://xkcd.com/1497...\n",
      "Downloading page http://xkcd.com/696...\n",
      "Downloading page http://xkcd.com/1088...\n",
      "Downloading page http://xkcd.com/595...\n",
      "Downloading page http://xkcd.com/397...\n",
      "Downloading image http://imgs.xkcd.com/comics/new_products.png...\n",
      "Downloading page http://xkcd.com/1498...\n",
      "Downloading image http://imgs.xkcd.com/comics/unscientific.png...\n",
      "Downloading image http://imgs.xkcd.com/comics/strip_games.png...\n",
      "Downloading page http://xkcd.com/697...\n",
      "Downloading page http://xkcd.com/398...\n",
      "Downloading image http://imgs.xkcd.com/comics/five_years.png...\n",
      "Downloading image http://imgs.xkcd.com/comics/android_girlfriend.png...\n",
      "Downloading page http://xkcd.com/1089...\n",
      "Downloading image http://imgs.xkcd.com/comics/terry_pratchett.png...\n",
      "Downloading page http://xkcd.com/596...\n",
      "Downloading page http://xkcd.com/1499...\n",
      "Downloading image http://imgs.xkcd.com/comics/latitude.png...\n",
      "Downloading image http://imgs.xkcd.com/comics/tap_that_ass.png...\n",
      "Downloading image http://imgs.xkcd.com/comics/tensile_vs_shear_strength.png...\n",
      "Downloading image http://imgs.xkcd.com/comics/arbitrage.png...\n",
      "Downloading page http://xkcd.com/399...\n",
      "Downloading page http://xkcd.com/698...\n",
      "Downloading page http://xkcd.com/597...\n",
      "Downloading image http://imgs.xkcd.com/comics/internal_monologue.png...\n",
      "Downloading page http://xkcd.com/1090...\n",
      "Downloading image http://imgs.xkcd.com/comics/travelling_salesman_problem.png...\n",
      "Downloading image http://imgs.xkcd.com/comics/formal_languages.png...\n",
      "Downloading image http://imgs.xkcd.com/comics/you_hang_up_first.png...\n",
      "Downloading image http://imgs.xkcd.com/comics/addiction.png...\n",
      "Downloading page http://xkcd.com/1091...\n",
      "Downloading page http://xkcd.com/598...\n",
      "Downloading page http://xkcd.com/699...\n",
      "Downloading image http://imgs.xkcd.com/comics/curiosity.png...\n",
      "Downloading image http://imgs.xkcd.com/comics/porn.png...\n",
      "Downloading page http://xkcd.com/1092...\n",
      "Downloading page http://xkcd.com/599...\n",
      "Downloading image http://imgs.xkcd.com/comics/trimester.png...\n",
      "Downloading image http://imgs.xkcd.com/comics/michael_phelps.png...\n",
      "Downloading page http://xkcd.com/1093...\n",
      "Downloading image http://imgs.xkcd.com/comics/apocalypse.png...\n",
      "Downloading image http://imgs.xkcd.com/comics/forget.png...\n",
      "Downloading page http://xkcd.com/1094...\n",
      "Downloading image http://imgs.xkcd.com/comics/interview.png...\n",
      "Downloading page http://xkcd.com/1095...\n",
      "Downloading image http://imgs.xkcd.com/comics/crazy_straws.png...\n",
      "Downloading page http://xkcd.com/1096...\n",
      "Downloading image http://imgs.xkcd.com/comics/clinically_studied_ingredient.png...\n",
      "Downloading page http://xkcd.com/1097...\n",
      "Downloading image http://imgs.xkcd.com/comics/a_hypochondriacs_nightmare.png...\n",
      "Downloading page http://xkcd.com/1098...\n",
      "Downloading image http://imgs.xkcd.com/comics/star_ratings.png...\n",
      "Downloading page http://xkcd.com/1099...\n",
      "Downloading image http://imgs.xkcd.com/comics/tuesdays.png...\n",
      "Done.\n"
     ]
    }
   ],
   "source": [
    "!python multidownloadXkcd.py"
   ]
  },
  {
   "cell_type": "code",
   "execution_count": 145,
   "metadata": {
    "collapsed": false
   },
   "outputs": [
    {
     "name": "stdout",
     "output_type": "stream",
     "text": [
      "    1165\r\n"
     ]
    }
   ],
   "source": [
    "!ls -l xkcd | wc -l"
   ]
  },
  {
   "cell_type": "code",
   "execution_count": 151,
   "metadata": {
    "collapsed": false
   },
   "outputs": [
    {
     "name": "stdout",
     "output_type": "stream",
     "text": [
      "    1337\r\n"
     ]
    }
   ],
   "source": [
    "!ls -l xkcd | wc -l"
   ]
  },
  {
   "cell_type": "markdown",
   "metadata": {},
   "source": [
    "## Launching Other Programs from Python\n",
    "\n",
    "- Python으로 다른 프로그램을 실행할 수 있다. Popen(Process open)을 사용하면 된다."
   ]
  },
  {
   "cell_type": "code",
   "execution_count": 152,
   "metadata": {
    "collapsed": true
   },
   "outputs": [],
   "source": [
    "!open /Applications/Calculator.app/Contents/MacOS/Calculator"
   ]
  },
  {
   "cell_type": "code",
   "execution_count": 153,
   "metadata": {
    "collapsed": true
   },
   "outputs": [],
   "source": [
    "import subprocess"
   ]
  },
  {
   "cell_type": "code",
   "execution_count": 154,
   "metadata": {
    "collapsed": false
   },
   "outputs": [
    {
     "data": {
      "text/plain": [
       "<subprocess.Popen at 0x10e54a690>"
      ]
     },
     "execution_count": 154,
     "metadata": {},
     "output_type": "execute_result"
    }
   ],
   "source": [
    "subprocess.Popen('/Applications/Calculator.app/Contents/MacOS/Calculator')"
   ]
  },
  {
   "cell_type": "code",
   "execution_count": 155,
   "metadata": {
    "collapsed": false
   },
   "outputs": [
    {
     "data": {
      "text/plain": [
       "<subprocess.Popen at 0x10e016d10>"
      ]
     },
     "execution_count": 155,
     "metadata": {},
     "output_type": "execute_result"
    }
   ],
   "source": [
    "subprocess.Popen('/Applications/Calculator.app/Contents/MacOS/Calculator')"
   ]
  },
  {
   "cell_type": "code",
   "execution_count": 156,
   "metadata": {
    "collapsed": false
   },
   "outputs": [
    {
     "data": {
      "text/plain": [
       "<subprocess.Popen at 0x10c06b850>"
      ]
     },
     "execution_count": 156,
     "metadata": {},
     "output_type": "execute_result"
    }
   ],
   "source": [
    "subprocess.Popen(['open', '/Applications/Calculator.app/'])"
   ]
  },
  {
   "cell_type": "code",
   "execution_count": 162,
   "metadata": {
    "collapsed": false
   },
   "outputs": [
    {
     "data": {
      "text/plain": [
       "<subprocess.Popen at 0x10e7d8b50>"
      ]
     },
     "execution_count": 162,
     "metadata": {},
     "output_type": "execute_result"
    }
   ],
   "source": [
    "subprocess.Popen(['open', './census2010.py'])"
   ]
  },
  {
   "cell_type": "markdown",
   "metadata": {},
   "source": [
    "#### 유용한 poll() 과 wait()\n",
    "\n",
    "- poll(): 실행하는 코드가 끝났는지 친구에게 물어본다. 아직 프로그램이 실행하고 있을 때 poll()을 호출하게 되면 None을 돌려준다.\n",
    "  - 프로그램을 종료하게 되면 integer exit code를 돌려준다.\n",
    "  - exit code of 0: 에러 x. 에러 여부를 알려준다.\n",
    "  - 보통 1이면 에러 발생. 그러나 프로그램들에 따라서 바뀐다.\n",
    "- wait(): 프로그램이 종료될 때까지 기다린다. wait()의 리턴값은 프로세스의 integer exit code다.\n",
    "- [python \\- Difference between Popen.poll() and Popen.wait() \\- Stack Overflow](http://stackoverflow.com/questions/13832734/difference-between-popen-poll-and-popen-wait)\n",
    "- [python \\- Using subprocess wait() and poll() \\- Stack Overflow](http://stackoverflow.com/questions/2995983/using-subprocess-wait-and-poll)\n"
   ]
  },
  {
   "cell_type": "code",
   "execution_count": 20,
   "metadata": {
    "collapsed": true
   },
   "outputs": [],
   "source": [
    "calcProc = subprocess.Popen(['open', '/Applications/Calculator.app/'])"
   ]
  },
  {
   "cell_type": "code",
   "execution_count": 21,
   "metadata": {
    "collapsed": false
   },
   "outputs": [
    {
     "data": {
      "text/plain": [
       "0"
      ]
     },
     "execution_count": 21,
     "metadata": {},
     "output_type": "execute_result"
    }
   ],
   "source": [
    "calcProc.poll()"
   ]
  },
  {
   "cell_type": "code",
   "execution_count": 22,
   "metadata": {
    "collapsed": false
   },
   "outputs": [
    {
     "data": {
      "text/plain": [
       "False"
      ]
     },
     "execution_count": 22,
     "metadata": {},
     "output_type": "execute_result"
    }
   ],
   "source": [
    "calcProc.poll() == None"
   ]
  },
  {
   "cell_type": "code",
   "execution_count": 23,
   "metadata": {
    "collapsed": false
   },
   "outputs": [
    {
     "data": {
      "text/plain": [
       "0"
      ]
     },
     "execution_count": 23,
     "metadata": {},
     "output_type": "execute_result"
    }
   ],
   "source": [
    "calcProc.wait()"
   ]
  },
  {
   "cell_type": "code",
   "execution_count": 24,
   "metadata": {
    "collapsed": false
   },
   "outputs": [
    {
     "data": {
      "text/plain": [
       "0"
      ]
     },
     "execution_count": 24,
     "metadata": {},
     "output_type": "execute_result"
    }
   ],
   "source": [
    "calcProc.poll()"
   ]
  },
  {
   "cell_type": "code",
   "execution_count": 1,
   "metadata": {
    "collapsed": false
   },
   "outputs": [
    {
     "name": "stdout",
     "output_type": "stream",
     "text": [
      "('Process ended, ret code:', 0)\n"
     ]
    }
   ],
   "source": [
    "import time\n",
    "import subprocess\n",
    "\n",
    "p = subprocess.Popen(\"sleep 30\", shell=True)\n",
    "# Better: p = subprocess.Popen([\"sleep\", \"30\"])\n",
    "\n",
    "# Wait until process terminates\n",
    "while p.poll() is None:\n",
    "    time.sleep(0.5)\n",
    "\n",
    "# It's done\n",
    "print(\"Process ended, ret code:\", p.returncode)"
   ]
  },
  {
   "cell_type": "code",
   "execution_count": 4,
   "metadata": {
    "collapsed": false,
    "scrolled": true
   },
   "outputs": [
    {
     "name": "stdout",
     "output_type": "stream",
     "text": [
      "Still working...None\n",
      "Still working...None\n",
      "Still working...None\n",
      "Still working...None\n",
      "Still working...None\n",
      "Still working...None\n",
      "Still working...None\n",
      "Still working...None\n",
      "Still working...None\n",
      "Still working...None\n",
      "Still working...None\n",
      "Still working...None\n",
      "Still working...None\n",
      "Still working...None\n",
      "Still working...None\n",
      "Still working...None\n",
      "Still working...None\n",
      "Still working...None\n",
      "Still working...None\n",
      "Still working...None\n",
      "Done.\n",
      "0\n"
     ]
    }
   ],
   "source": [
    "p = subprocess.Popen(\"sleep 10\", shell=True)\n",
    "while p.poll() is None:\n",
    "    print(\"Still working...{}\".format(p.poll()))\n",
    "    time.sleep(0.5)\n",
    "print('Done.')\n",
    "print(p.poll())"
   ]
  },
  {
   "cell_type": "code",
   "execution_count": 7,
   "metadata": {
    "collapsed": false
   },
   "outputs": [],
   "source": [
    "p = subprocess.Popen(\"sleep 10\", shell=True)\n",
    "while p.wait() is None:\n",
    "    print(\"Still working...\")\n",
    "    time.sleep(0.5)"
   ]
  },
  {
   "cell_type": "code",
   "execution_count": 10,
   "metadata": {
    "collapsed": false
   },
   "outputs": [
    {
     "data": {
      "text/plain": [
       "0"
      ]
     },
     "execution_count": 10,
     "metadata": {},
     "output_type": "execute_result"
    }
   ],
   "source": [
    "# wait는 sleep 10이 끝날때까지 기다린 후에 결과값으로 0을 돌려주네.\n",
    "# 완전 block 이잖아..?\n",
    "p = subprocess.Popen(\"sleep 10\", shell=True)\n",
    "p.wait()"
   ]
  },
  {
   "cell_type": "markdown",
   "metadata": {},
   "source": [
    "### Passing Command Line Arguments to Popen()"
   ]
  },
  {
   "cell_type": "markdown",
   "metadata": {},
   "source": [
    "### Mac os X Task Scheduler\n",
    "\n",
    "- [10 Apps \\- iPhone 실전 프로젝트 따라하기 :: launchd를 사용해서 원하는 서비스 실행시키기](http://10apps.tistory.com/116)\n",
    "- [Tech Blog :: Mac에서 정해진 시간에 자동으로 프로그램 실행하는 법](http://techblog.tistory.com/entry/launchd)\n",
    "- [Lingon \\- Peter Borg Apps](https://www.peterborgapps.com/lingon/): 유료 버전으로 구매를 해야되서 보류\n",
    "- [soma\\-zone: LaunchControl](http://www.soma-zone.com/LaunchControl/): 이게 무료로 쓸 수 있는 것인듯. GUI도 지원"
   ]
  },
  {
   "cell_type": "code",
   "execution_count": 14,
   "metadata": {
    "collapsed": false
   },
   "outputs": [
    {
     "name": "stdout",
     "output_type": "stream",
     "text": [
      "<?xml version=\"1.0\" encoding=\"UTF-8\"?>\n",
      "<!DOCTYPE plist PUBLIC \"-//Apple//DTD PLIST 1.0//EN\" \"http://www.apple.com/DTDs/PropertyList-1.0.dtd\">\n",
      "<plist version=\"1.0\">\n",
      "<dict>\n",
      "\t<key>KeepAlive</key>\n",
      "\t<false/>\n",
      "\t<key>Label</key>\n",
      "\t<string>com.jinni.ipfwd.ftp</string>\n",
      "\t<key>ProgramArguments</key>\n",
      "\t<array>\n",
      "\t\t<string>/sbin/ipfw</string>\n",
      "\t\t<string>add</string>\n",
      "\t\t<string>100</string>\n",
      "\t\t<string>forward</string>\n",
      "\t\t<string>127.0.0.1,2121</string>\n",
      "\t\t<string>ip</string>\n",
      "\t\t<string>from</string>\n",
      "\t\t<string>any</string>\n",
      "\t\t<string>to</string>\n",
      "\t\t<string>any</string>\n",
      "\t\t<string>21</string>\n",
      "\t\t<string>in</string>\n",
      "\t</array>\n",
      "\t<key>RunAtLoad</key>\n",
      "\t<true/>\n",
      "</dict>\n",
      "</plist>\n",
      "None\n"
     ]
    }
   ],
   "source": [
    "import sys\n",
    "import plistlib\n",
    "\n",
    "root = {}\n",
    "root['Label'] = 'com.jinni.ipfwd.ftp'\n",
    "root['ProgramArguments'] = '/sbin/ipfw add 100 forward 127.0.0.1,2121 ip from any to any 21 in'.split()\n",
    "root['KeepAlive'] = False\n",
    "root['RunAtLoad'] = True\n",
    "\n",
    "print plistlib.writePlist(root, sys.stdout)"
   ]
  },
  {
   "cell_type": "code",
   "execution_count": 13,
   "metadata": {
    "collapsed": false,
    "scrolled": true
   },
   "outputs": [
    {
     "data": {
      "text/plain": [
       "<subprocess.Popen at 0x10afd3450>"
      ]
     },
     "execution_count": 13,
     "metadata": {},
     "output_type": "execute_result"
    }
   ],
   "source": [
    "d = subprocess.Popen(['python', 'census2010.py'])\n",
    "d"
   ]
  },
  {
   "cell_type": "markdown",
   "metadata": {},
   "source": [
    "### Opening Files with Default Applications\n",
    "\n",
    "- depending on your system"
   ]
  },
  {
   "cell_type": "code",
   "execution_count": 38,
   "metadata": {
    "collapsed": true
   },
   "outputs": [],
   "source": [
    "import platform"
   ]
  },
  {
   "cell_type": "code",
   "execution_count": 41,
   "metadata": {
    "collapsed": false
   },
   "outputs": [
    {
     "data": {
      "text/plain": [
       "'Darwin'"
      ]
     },
     "execution_count": 41,
     "metadata": {},
     "output_type": "execute_result"
    }
   ],
   "source": [
    "platform.system()"
   ]
  },
  {
   "cell_type": "code",
   "execution_count": 53,
   "metadata": {
    "collapsed": false
   },
   "outputs": [
    {
     "data": {
      "text/plain": [
       "('64bit', '')"
      ]
     },
     "execution_count": 53,
     "metadata": {},
     "output_type": "execute_result"
    }
   ],
   "source": [
    "platform.architecture()"
   ]
  },
  {
   "cell_type": "code",
   "execution_count": 51,
   "metadata": {
    "collapsed": false
   },
   "outputs": [
    {
     "data": {
      "text/plain": [
       "2"
      ]
     },
     "execution_count": 51,
     "metadata": {},
     "output_type": "execute_result"
    }
   ],
   "source": [
    "int(platform.python_version_tuple()[0])"
   ]
  },
  {
   "cell_type": "code",
   "execution_count": 46,
   "metadata": {
    "collapsed": false
   },
   "outputs": [
    {
     "data": {
      "text/plain": [
       "'x86_64'"
      ]
     },
     "execution_count": 46,
     "metadata": {},
     "output_type": "execute_result"
    }
   ],
   "source": [
    "platform.machine()"
   ]
  },
  {
   "cell_type": "code",
   "execution_count": 68,
   "metadata": {
    "collapsed": false
   },
   "outputs": [
    {
     "name": "stdout",
     "output_type": "stream",
     "text": [
      "Overwriting tmp/test_hello.py\n"
     ]
    }
   ],
   "source": [
    "%%writefile tmp/test_hello.py\n",
    "fileObj = open('hello.txt', 'w')\n",
    "fileObj.write('Hello world!')\n",
    "fileObj.close()\n",
    "\n",
    "import subprocess\n",
    "import platform\n",
    "\n",
    "plat = platform.system()\n",
    "\n",
    "if plat == 'Darwin':\n",
    "    subprocess.Popen(['open', 'hello.txt'])\n",
    "elif plat == 'Linux':\n",
    "    subprocess.Popen(['open', 'hello.txt'])\n",
    "elif plat == 'Windows':\n",
    "    subprocess.Popen(['start', 'hello.txt'])"
   ]
  },
  {
   "cell_type": "markdown",
   "metadata": {},
   "source": [
    "- [cross platform \\- How can I find the current OS in Python? \\- Stack Overflow](http://stackoverflow.com/questions/110362/how-can-i-find-the-current-os-in-python): platform 사용해서 구분"
   ]
  },
  {
   "cell_type": "code",
   "execution_count": 70,
   "metadata": {
    "collapsed": false
   },
   "outputs": [
    {
     "name": "stdout",
     "output_type": "stream",
     "text": [
      "Python version: ['2.7.6 (default, Sep  9 2014, 15:04:36) ', '[GCC 4.2.1 Compatible Apple LLVM 6.0 (clang-600.0.39)]']\n",
      "dist: ('', '', '')\n",
      "linux_distribution: ('', '', '')\n",
      "system: Darwin\n",
      "machine: x86_64\n",
      "platform: Darwin-14.3.0-x86_64-i386-64bit\n",
      "uname: ('Darwin', 're4lfl0wui-MacBook-Pro.local', '14.3.0', 'Darwin Kernel Version 14.3.0: Mon Mar 23 11:59:05 PDT 2015; root:xnu-2782.20.48~5/RELEASE_X86_64', 'x86_64', 'i386')\n",
      "version: Darwin Kernel Version 14.3.0: Mon Mar 23 11:59:05 PDT 2015; root:xnu-2782.20.48~5/RELEASE_X86_64\n",
      "mac_ver: ('10.10.3', ('', '', ''), 'x86_64')\n",
      "\n"
     ]
    }
   ],
   "source": [
    "import platform\n",
    "import sys\n",
    "\n",
    "def linux_distribution():\n",
    "    try:\n",
    "        return platform.linux_distribution()\n",
    "    except:\n",
    "        return \"N/A\"\n",
    "\n",
    "print(\"\"\"Python version: %s\n",
    "dist: %s\n",
    "linux_distribution: %s\n",
    "system: %s\n",
    "machine: %s\n",
    "platform: %s\n",
    "uname: %s\n",
    "version: %s\n",
    "mac_ver: %s\n",
    "\"\"\" % (\n",
    "sys.version.split('\\n'),\n",
    "str(platform.dist()),\n",
    "linux_distribution(),\n",
    "platform.system(),\n",
    "platform.machine(),\n",
    "platform.platform(),\n",
    "platform.uname(),\n",
    "platform.version(),\n",
    "platform.mac_ver(),\n",
    "))"
   ]
  },
  {
   "cell_type": "markdown",
   "metadata": {},
   "source": [
    "## Project: Simple Countdown Program\n",
    "\n",
    "- 간단한 stopwatch application을 찾는건 어렵다.\n",
    "- countdown 프로그램의 끝에 알람이 울리게 한다.\n",
    "\n",
    "### High Level Logic\n",
    "\n",
    "- Count down from 60\n",
    "- Play a sound file(alarm.wav) when the countdown reaches zero.\n",
    "\n",
    "### Code Level Logic\n",
    "\n",
    "- 1개의 숫자가 줄어들 때마다 time.sleep() 함수를 사용한다.\n",
    "- subprocess.Popen() 으로 sound file을 default application으로 실행한다."
   ]
  },
  {
   "cell_type": "markdown",
   "metadata": {},
   "source": [
    "### Step 1: Count Down"
   ]
  },
  {
   "cell_type": "code",
   "execution_count": 73,
   "metadata": {
    "collapsed": true
   },
   "outputs": [],
   "source": [
    "from __future__ import print_function"
   ]
  },
  {
   "cell_type": "code",
   "execution_count": 74,
   "metadata": {
    "collapsed": false
   },
   "outputs": [
    {
     "name": "stdout",
     "output_type": "stream",
     "text": [
      "6059585756555453"
     ]
    },
    {
     "ename": "KeyboardInterrupt",
     "evalue": "",
     "output_type": "error",
     "traceback": [
      "\u001b[0;31m---------------------------------------------------------------------------\u001b[0m",
      "\u001b[0;31mKeyboardInterrupt\u001b[0m                         Traceback (most recent call last)",
      "\u001b[0;32m<ipython-input-74-a712a99639b3>\u001b[0m in \u001b[0;36m<module>\u001b[0;34m()\u001b[0m\n\u001b[1;32m      5\u001b[0m \u001b[0;32mwhile\u001b[0m \u001b[0mtimeLeft\u001b[0m \u001b[0;34m>\u001b[0m \u001b[0;36m0\u001b[0m\u001b[0;34m:\u001b[0m\u001b[0;34m\u001b[0m\u001b[0m\n\u001b[1;32m      6\u001b[0m     \u001b[0;32mprint\u001b[0m\u001b[0;34m(\u001b[0m\u001b[0mtimeLeft\u001b[0m\u001b[0;34m,\u001b[0m \u001b[0mend\u001b[0m\u001b[0;34m=\u001b[0m\u001b[0;34m''\u001b[0m\u001b[0;34m)\u001b[0m\u001b[0;34m\u001b[0m\u001b[0m\n\u001b[0;32m----> 7\u001b[0;31m     \u001b[0mtime\u001b[0m\u001b[0;34m.\u001b[0m\u001b[0msleep\u001b[0m\u001b[0;34m(\u001b[0m\u001b[0;36m1\u001b[0m\u001b[0;34m)\u001b[0m\u001b[0;34m\u001b[0m\u001b[0m\n\u001b[0m\u001b[1;32m      8\u001b[0m     \u001b[0mtimeLeft\u001b[0m \u001b[0;34m=\u001b[0m \u001b[0mtimeLeft\u001b[0m \u001b[0;34m-\u001b[0m \u001b[0;36m1\u001b[0m\u001b[0;34m\u001b[0m\u001b[0m\n\u001b[1;32m      9\u001b[0m \u001b[0;34m\u001b[0m\u001b[0m\n",
      "\u001b[0;31mKeyboardInterrupt\u001b[0m: "
     ]
    }
   ],
   "source": [
    "import time\n",
    "import subprocess\n",
    "\n",
    "timeLeft = 60\n",
    "while timeLeft > 0:\n",
    "    print(timeLeft, end='')\n",
    "    time.sleep(1)\n",
    "    timeLeft = timeLeft - 1\n",
    "    \n",
    "# TODO: At the end of the countdown, play a sound file."
   ]
  },
  {
   "cell_type": "markdown",
   "metadata": {},
   "source": [
    "### Step 2: Play the Sound File"
   ]
  },
  {
   "cell_type": "code",
   "execution_count": 77,
   "metadata": {
    "collapsed": false
   },
   "outputs": [
    {
     "name": "stdout",
     "output_type": "stream",
     "text": [
      "10 9 8 7 6 5 4 3 2 1 "
     ]
    },
    {
     "data": {
      "text/plain": [
       "<subprocess.Popen at 0x10c898250>"
      ]
     },
     "execution_count": 77,
     "metadata": {},
     "output_type": "execute_result"
    }
   ],
   "source": [
    "import time\n",
    "import subprocess\n",
    "\n",
    "timeLeft = 10\n",
    "while timeLeft > 0:\n",
    "    print(timeLeft, end=' ')\n",
    "    time.sleep(1)\n",
    "    timeLeft = timeLeft - 1\n",
    "    \n",
    "subprocess.Popen(['open', 'src/alarm.wav'])"
   ]
  },
  {
   "cell_type": "markdown",
   "metadata": {},
   "source": [
    "### Ideas for Similar Programs\n",
    "\n",
    "- time.sleep() 을 사용한다. 유저에게 이 행동을 취소할 수 있는 기회를 준다. ctrl-C를 눌러서\n",
    "- KeyboardInterrupt exceptions은 try와 except 문장을 사용해서 해라\n",
    "- 긴시간을 카운트다운 한다면 timedelta를 사용해서 해라. days, hours, minutes, and seconds"
   ]
  },
  {
   "cell_type": "markdown",
   "metadata": {},
   "source": [
    "## Summary\n",
    "\n",
    "- Unix epoch(January 1, 1970, at midnight, UTC)\n",
    "- time.sleep()은 몇 초간 행동을 멈추게 한다.\n",
    "- 그러나 프로그램을 스케쥴에 맞게끔 실행시키려면 네 운영체제에 맞는 스케줄러를 사용해라.\n",
    "- threading module은 여러개의 threads를 만들 수 있다. 여러개의 파일을 동시에 다운로드 받는데 좋다. 오직 로컬 변수만 사용해라. 동시성 문제가 발생할 수 있다.\n",
    "- subprocess.Popen() 을 사용하면 커맨드라인으로 몇개의 인자를 넘길 수 있다. \n",
    "- start, open 등을 사용하면 운영체제에 기본 설정되어있는 애플리케이션으로 실행한다."
   ]
  },
  {
   "cell_type": "markdown",
   "metadata": {},
   "source": [
    "## Practice Projects\n",
    "\n",
    "### Prettfied Stopwatch\n",
    "\n",
    "- rjust(), ljust()\n",
    "- [2.13 텍스트 정렬 - Python Cookbook](http://nbviewer.ipython.org/github/re4lfl0w/ipython/blob/master/books/python_cookbook/ch02_02.ipynb)"
   ]
  },
  {
   "cell_type": "code",
   "execution_count": 268,
   "metadata": {
    "collapsed": true
   },
   "outputs": [],
   "source": [
    "import pyperclip"
   ]
  },
  {
   "cell_type": "code",
   "execution_count": 270,
   "metadata": {
    "collapsed": true
   },
   "outputs": [],
   "source": [
    "a = 10"
   ]
  },
  {
   "cell_type": "code",
   "execution_count": 271,
   "metadata": {
    "collapsed": true
   },
   "outputs": [],
   "source": [
    "pyperclip.copy(a)"
   ]
  },
  {
   "cell_type": "code",
   "execution_count": 274,
   "metadata": {
    "collapsed": false
   },
   "outputs": [
    {
     "name": "stdout",
     "output_type": "stream",
     "text": [
      "Overwriting tmp/stopWatch_pretty.py\n"
     ]
    }
   ],
   "source": [
    "%%writefile tmp/stopWatch_pretty.py\n",
    "import time\n",
    "import pyperclip\n",
    "\n",
    "# Display the program's instructions.\n",
    "print('Press ENTER to begin. Afeterwards, press ENTER to \"click\" the stopwatch.')\n",
    "print('Press Ctrl-C to quit.')\n",
    "raw_input() # press Enter to begin\n",
    "print('Started.')\n",
    "startTime = time.time() # get the first lap's start time\n",
    "lastTime = startTime\n",
    "lapNum = 1\n",
    "\n",
    "# TODO: Start tracking the lap times.\n",
    "try:\n",
    "    while True:\n",
    "        raw_input()\n",
    "        lapTime = round(time.time() - lastTime, 2)\n",
    "        totalTime = round(time.time() - startTime, 2)\n",
    "        print('Lap #{:>5}: {:>7} ({:>7})'.format(lapNum, \n",
    "                                                   '{:>.2f}'.format(totalTime),\n",
    "                                                   '{:>.2f}'.format(lapTime)))\n",
    "        lapNum += 1\n",
    "        lastTime = time.time() # reset the last lap time\n",
    "        pyperclip.copy(totalTime)\n",
    "except KeyboardInterrupt:\n",
    "    # Handle the Ctrl-C exception to keep its error message from displaying.\n",
    "    print('\\nDone.')"
   ]
  },
  {
   "cell_type": "code",
   "execution_count": 275,
   "metadata": {
    "collapsed": false
   },
   "outputs": [
    {
     "name": "stdout",
     "output_type": "stream",
     "text": [
      "Press ENTER to begin. Afeterwards, press ENTER to \"click\" the stopwatch.\n",
      "Press Ctrl-C to quit.\n",
      "\n",
      "Started.\n",
      "\n",
      "Lap #    1:    0.58 (   0.58)\n",
      "\n",
      "Lap #    2:    3.37 (   2.79)\n",
      "\n",
      "Lap #    3:   10.46 (   7.09)\n",
      "\n",
      "Lap #    4:   19.80 (   9.34)\n",
      "\n",
      "Done.\n"
     ]
    }
   ],
   "source": [
    "%run tmp/stopWatch_pretty.py"
   ]
  },
  {
   "cell_type": "markdown",
   "metadata": {},
   "source": [
    "- 19.8"
   ]
  },
  {
   "cell_type": "markdown",
   "metadata": {},
   "source": [
    "### Scheduled Web Comic Downloader\n",
    "\n",
    "- 마지막 방문 후에 업데이트가 되었다면 여러개의 웹 코믹을 체크하고 자동으로 다운로드 받는다.\n",
    "- 그렇게 되면 업데이트가 되었는지 계속 확인되는 것에서 자유로워질 수 있다."
   ]
  }
 ],
 "metadata": {
  "kernelspec": {
   "display_name": "Python 2",
   "language": "python",
   "name": "python2"
  },
  "language_info": {
   "codemirror_mode": {
    "name": "ipython",
    "version": 2
   },
   "file_extension": ".py",
   "mimetype": "text/x-python",
   "name": "python",
   "nbconvert_exporter": "python",
   "pygments_lexer": "ipython2",
   "version": "2.7.6"
  }
 },
 "nbformat": 4,
 "nbformat_minor": 0
}
