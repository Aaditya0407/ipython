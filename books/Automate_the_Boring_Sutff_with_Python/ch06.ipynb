{
 "cells": [
  {
   "cell_type": "markdown",
   "metadata": {},
   "source": [
    "# ch06 - Manipulating Strings\n",
    "\n",
    "- 텍스트 파트에서는 몇 개 건질만한 게 있었네"
   ]
  },
  {
   "cell_type": "markdown",
   "metadata": {},
   "source": [
    "### 동일한 레이아웃을 만들기\n",
    "\n",
    "- ljust, rjust를 잘 활용하면 텍스트로 예쁜 메뉴판을 만들 수 있다."
   ]
  },
  {
   "cell_type": "code",
   "execution_count": 15,
   "metadata": {
    "collapsed": false
   },
   "outputs": [
    {
     "name": "stdout",
     "output_type": "stream",
     "text": [
      "---PICNIC ITEMS--\n",
      "sandwiches..    4\n",
      "apples......   12\n",
      "cups........    4\n",
      "cookies..... 8000\n",
      "-------PICNIC ITEMS-------\n",
      "sandwiches..........     4\n",
      "apples..............    12\n",
      "cups................     4\n",
      "cookies.............  8000\n"
     ]
    }
   ],
   "source": [
    "def printPicnic(itemsDict, leftWidth, rightWidth):\n",
    "    print('PICNIC ITEMS'.center(leftWidth + rightWidth, '-'))\n",
    "    for k, v in itemsDict.items():\n",
    "        print(k.ljust(leftWidth, '.') + str(v).rjust(rightWidth))\n",
    "picnicItems = {'sandwiches': 4, 'apples': 12, 'cups': 4, 'cookies': 8000}\n",
    "printPicnic(picnicItems, 12, 5)\n",
    "printPicnic(picnicItems, 20, 6)"
   ]
  },
  {
   "cell_type": "code",
   "execution_count": 25,
   "metadata": {
    "collapsed": false
   },
   "outputs": [
    {
     "name": "stdout",
     "output_type": "stream",
     "text": [
      "nice......    150000\n"
     ]
    }
   ],
   "source": [
    "print('nice'.ljust(10, '.') + '150000'.rjust(10))"
   ]
  },
  {
   "cell_type": "markdown",
   "metadata": {},
   "source": [
    "### 클립보드 활용하기 with python\n",
    "\n",
    "- mac의 pbcopy를 이용한다.\n",
    "- 클립보드와 파이썬을 유기적으로 활용할 수 있어서 좋은듯\n",
    "- 조금만 더 머리 굴리면 더 좋을것 같은데?\n",
    "- Keyboard Maestro 와 어떻게 연계를 하면 참 좋을듯 한데.."
   ]
  },
  {
   "cell_type": "code",
   "execution_count": 34,
   "metadata": {
    "collapsed": true
   },
   "outputs": [],
   "source": [
    "pyperclip?"
   ]
  },
  {
   "cell_type": "markdown",
   "metadata": {},
   "source": [
    "    Lists of animals\n",
    "    Lists of aquarium life\n",
    "    Lists of biologists by author abbreviation\n",
    "    Lists of cultivars"
   ]
  },
  {
   "cell_type": "markdown",
   "metadata": {},
   "source": [
    "### 라인 앞에 - 붙이기"
   ]
  },
  {
   "cell_type": "code",
   "execution_count": 44,
   "metadata": {
    "collapsed": true
   },
   "outputs": [],
   "source": [
    "import pyperclip\n",
    "text = pyperclip.paste()\n",
    "\n",
    "# Separate lines and add stars.\n",
    "lines = text.split('\\n')\n",
    "for i, line in enumerate(lines):    # loop through all indexes for \"lines\" list\n",
    "    lines[i] = '- ' + line # add star to each string in \"lines\" list\n",
    "text = '\\n'.join(lines)\n",
    "pyperclip.copy(text)"
   ]
  },
  {
   "cell_type": "markdown",
   "metadata": {},
   "source": [
    "    - Lists of animals\n",
    "    - Lists of aquarium life\n",
    "    - Lists of biologists by author abbreviation\n",
    "    - Lists of cultivars"
   ]
  },
  {
   "cell_type": "markdown",
   "metadata": {},
   "source": [
    "### ' ' -> '\\_' 변환\n",
    "\n",
    "- 여러줄 처리\n",
    "- 여러 스페이스를 1개로 처리"
   ]
  },
  {
   "cell_type": "markdown",
   "metadata": {},
   "source": [
    "    Lists of animals\n",
    "    Lists of aquarium   life\n",
    "    Lists of biologists    by author abbreviation\n",
    "    Lists    of cultivars"
   ]
  },
  {
   "cell_type": "code",
   "execution_count": 62,
   "metadata": {
    "collapsed": true
   },
   "outputs": [],
   "source": [
    "re.split?"
   ]
  },
  {
   "cell_type": "code",
   "execution_count": 69,
   "metadata": {
    "collapsed": false
   },
   "outputs": [
    {
     "data": {
      "text/plain": [
       "'Lists of animals\\nLists of aquarium   life\\nLists of biologists    by author abbreviation\\nLists    of cultivars'"
      ]
     },
     "execution_count": 69,
     "metadata": {},
     "output_type": "execute_result"
    }
   ],
   "source": [
    "import re\n",
    "import pyperclip\n",
    "from pprint import pprint\n",
    "\n",
    "text = pyperclip.paste()\n",
    "\n",
    "lines = text.split('\\n')\n",
    "newlines = []\n",
    "for line in lines:\n",
    "    words = re.split('\\s+', line)\n",
    "    newlines.append('_'.join(words))\n",
    "text = '\\n'.join(newlines)\n",
    "pyperclip.copy(text)"
   ]
  },
  {
   "cell_type": "markdown",
   "metadata": {},
   "source": [
    "    Lists_of_animals\n",
    "    Lists_of_aquarium_life\n",
    "    Lists_of_biologists_by_author_abbreviation\n",
    "    Lists_of_cultivars"
   ]
  },
  {
   "cell_type": "markdown",
   "metadata": {},
   "source": [
    "## Practice Project\n",
    "\n",
    "- 행, 열 바꾸기\n",
    "- 직접 짜봐야 되는데 꼼수로 numpy 써서 했다."
   ]
  },
  {
   "cell_type": "code",
   "execution_count": 70,
   "metadata": {
    "collapsed": true
   },
   "outputs": [],
   "source": [
    "tableData = [['apples', 'oranges', 'cherries', 'banana'],\n",
    "             ['Alice', 'Bob', 'Carol', 'David'],\n",
    "             ['dogs', 'cats', 'moose', 'goose']]"
   ]
  },
  {
   "cell_type": "code",
   "execution_count": 71,
   "metadata": {
    "collapsed": false
   },
   "outputs": [
    {
     "data": {
      "text/plain": [
       "3"
      ]
     },
     "execution_count": 71,
     "metadata": {},
     "output_type": "execute_result"
    }
   ],
   "source": [
    "len(tableData)"
   ]
  },
  {
   "cell_type": "code",
   "execution_count": 72,
   "metadata": {
    "collapsed": false
   },
   "outputs": [
    {
     "data": {
      "text/plain": [
       "[0, 0, 0]"
      ]
     },
     "execution_count": 72,
     "metadata": {},
     "output_type": "execute_result"
    }
   ],
   "source": [
    "[0] * 3"
   ]
  },
  {
   "cell_type": "code",
   "execution_count": 73,
   "metadata": {
    "collapsed": false
   },
   "outputs": [
    {
     "data": {
      "text/plain": [
       "['apples', 'oranges', 'cherries', 'banana']"
      ]
     },
     "execution_count": 73,
     "metadata": {},
     "output_type": "execute_result"
    }
   ],
   "source": [
    "tableData[0]"
   ]
  },
  {
   "cell_type": "code",
   "execution_count": 88,
   "metadata": {
    "collapsed": false
   },
   "outputs": [],
   "source": [
    "import numpy as np"
   ]
  },
  {
   "cell_type": "code",
   "execution_count": 89,
   "metadata": {
    "collapsed": false
   },
   "outputs": [
    {
     "data": {
      "text/plain": [
       "array([[0, 1],\n",
       "       [2, 3]])"
      ]
     },
     "execution_count": 89,
     "metadata": {},
     "output_type": "execute_result"
    }
   ],
   "source": [
    "x = np.arange(4).reshape((2,2))\n",
    "x"
   ]
  },
  {
   "cell_type": "code",
   "execution_count": 96,
   "metadata": {
    "collapsed": false,
    "scrolled": true
   },
   "outputs": [
    {
     "data": {
      "text/plain": [
       "array([['apples', 'oranges', 'cherries', 'banana'],\n",
       "       ['Alice', 'Bob', 'Carol', 'David'],\n",
       "       ['dogs', 'cats', 'moose', 'goose']], \n",
       "      dtype='<U8')"
      ]
     },
     "execution_count": 96,
     "metadata": {},
     "output_type": "execute_result"
    }
   ],
   "source": [
    "x = np.array(tableData)\n",
    "x"
   ]
  },
  {
   "cell_type": "code",
   "execution_count": 97,
   "metadata": {
    "collapsed": false,
    "scrolled": true
   },
   "outputs": [
    {
     "data": {
      "text/plain": [
       "array([['apples', 'Alice', 'dogs'],\n",
       "       ['oranges', 'Bob', 'cats'],\n",
       "       ['cherries', 'Carol', 'moose'],\n",
       "       ['banana', 'David', 'goose']], \n",
       "      dtype='<U8')"
      ]
     },
     "execution_count": 97,
     "metadata": {},
     "output_type": "execute_result"
    }
   ],
   "source": [
    "x.T"
   ]
  },
  {
   "cell_type": "code",
   "execution_count": 101,
   "metadata": {
    "collapsed": false
   },
   "outputs": [
    {
     "data": {
      "text/plain": [
       "[['apples', 'Alice', 'dogs'],\n",
       " ['oranges', 'Bob', 'cats'],\n",
       " ['cherries', 'Carol', 'moose'],\n",
       " ['banana', 'David', 'goose']]"
      ]
     },
     "execution_count": 101,
     "metadata": {},
     "output_type": "execute_result"
    }
   ],
   "source": [
    "x.T.tolist()"
   ]
  },
  {
   "cell_type": "markdown",
   "metadata": {},
   "source": [
    "- 각 행을 다 돌면서 0번째것 추출해서 저장\n",
    "- 다음 행을 돌면서 1번째것 추출해서 저장"
   ]
  },
  {
   "cell_type": "code",
   "execution_count": null,
   "metadata": {
    "collapsed": true
   },
   "outputs": [],
   "source": []
  }
 ],
 "metadata": {
  "kernelspec": {
   "display_name": "Python 3",
   "language": "python",
   "name": "python3"
  },
  "language_info": {
   "codemirror_mode": {
    "name": "ipython",
    "version": 3
   },
   "file_extension": ".py",
   "mimetype": "text/x-python",
   "name": "python",
   "nbconvert_exporter": "python",
   "pygments_lexer": "ipython3",
   "version": "3.4.2"
  }
 },
 "nbformat": 4,
 "nbformat_minor": 0
}
