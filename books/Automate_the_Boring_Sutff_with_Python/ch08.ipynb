{
 "cells": [
  {
   "cell_type": "markdown",
   "metadata": {},
   "source": [
    "# ch08 Reading and Writing Files"
   ]
  },
  {
   "cell_type": "markdown",
   "metadata": {},
   "source": [
    "- 내가 이미 알고있는 정보들은 과감히 skip 하였고 필요한 정보만 정리하였음을 알려 드립니다.\n",
    "- 나중에 써먹을 수 있겠다 싶은것만 문제를 풀어 보았습니다."
   ]
  },
  {
   "cell_type": "markdown",
   "metadata": {},
   "source": [
    "## Files and File Paths\n",
    "\n",
    "### Backslash on Windows and Forward Slash on OS X and Linux\n"
   ]
  },
  {
   "cell_type": "markdown",
   "metadata": {},
   "source": [
    "### The Current Working Directory"
   ]
  },
  {
   "cell_type": "code",
   "execution_count": 1,
   "metadata": {
    "collapsed": true
   },
   "outputs": [],
   "source": [
    "import os"
   ]
  },
  {
   "cell_type": "code",
   "execution_count": 2,
   "metadata": {
    "collapsed": false
   },
   "outputs": [
    {
     "data": {
      "text/plain": [
       "'/Users/re4lfl0w/Documents/ipython/books/Automate_the_Boring_Sutff_with_Python'"
      ]
     },
     "execution_count": 2,
     "metadata": {},
     "output_type": "execute_result"
    }
   ],
   "source": [
    "os.getcwd()"
   ]
  },
  {
   "cell_type": "code",
   "execution_count": 3,
   "metadata": {
    "collapsed": false
   },
   "outputs": [
    {
     "data": {
      "text/plain": [
       "u'/Users/re4lfl0w/Documents/ipython/books/Automate_the_Boring_Sutff_with_Python'"
      ]
     },
     "execution_count": 3,
     "metadata": {},
     "output_type": "execute_result"
    }
   ],
   "source": [
    "os.getcwdu()"
   ]
  },
  {
   "cell_type": "code",
   "execution_count": 4,
   "metadata": {
    "collapsed": true
   },
   "outputs": [],
   "source": [
    "os.chdir('/tmp')"
   ]
  },
  {
   "cell_type": "code",
   "execution_count": 5,
   "metadata": {
    "collapsed": false
   },
   "outputs": [
    {
     "data": {
      "text/plain": [
       "'/private/tmp'"
      ]
     },
     "execution_count": 5,
     "metadata": {},
     "output_type": "execute_result"
    }
   ],
   "source": [
    "os.getcwd()"
   ]
  },
  {
   "cell_type": "markdown",
   "metadata": {},
   "source": [
    "### Absolute Vs. Relative Paths"
   ]
  },
  {
   "cell_type": "markdown",
   "metadata": {},
   "source": [
    "### Creating New Folders with os.makedirs()"
   ]
  },
  {
   "cell_type": "code",
   "execution_count": 6,
   "metadata": {
    "collapsed": true
   },
   "outputs": [],
   "source": [
    "import os\n",
    "os.makedirs('/tmp/folder/subfolder')"
   ]
  },
  {
   "cell_type": "code",
   "execution_count": 8,
   "metadata": {
    "collapsed": false
   },
   "outputs": [
    {
     "name": "stdout",
     "output_type": "stream",
     "text": [
      "folder/\r\n",
      "└── subfolder\r\n",
      "\r\n",
      "1 directory, 0 files\r\n"
     ]
    }
   ],
   "source": [
    "!tree folder/"
   ]
  },
  {
   "cell_type": "code",
   "execution_count": 10,
   "metadata": {
    "collapsed": false
   },
   "outputs": [
    {
     "data": {
      "text/plain": [
       "'/private/tmp'"
      ]
     },
     "execution_count": 10,
     "metadata": {},
     "output_type": "execute_result"
    }
   ],
   "source": [
    "os.path.abspath('.')"
   ]
  },
  {
   "cell_type": "code",
   "execution_count": 11,
   "metadata": {
    "collapsed": false
   },
   "outputs": [
    {
     "data": {
      "text/plain": [
       "'/private/tmp/folder'"
      ]
     },
     "execution_count": 11,
     "metadata": {},
     "output_type": "execute_result"
    }
   ],
   "source": [
    "os.path.abspath('./folder/')"
   ]
  },
  {
   "cell_type": "code",
   "execution_count": 12,
   "metadata": {
    "collapsed": false
   },
   "outputs": [
    {
     "data": {
      "text/plain": [
       "False"
      ]
     },
     "execution_count": 12,
     "metadata": {},
     "output_type": "execute_result"
    }
   ],
   "source": [
    "os.path.isabs('.')"
   ]
  },
  {
   "cell_type": "code",
   "execution_count": 13,
   "metadata": {
    "collapsed": false
   },
   "outputs": [
    {
     "data": {
      "text/plain": [
       "True"
      ]
     },
     "execution_count": 13,
     "metadata": {},
     "output_type": "execute_result"
    }
   ],
   "source": [
    "os.path.isabs(os.path.abspath('.'))"
   ]
  },
  {
   "cell_type": "code",
   "execution_count": 16,
   "metadata": {
    "collapsed": false
   },
   "outputs": [
    {
     "data": {
      "text/plain": [
       "'Windows'"
      ]
     },
     "execution_count": 16,
     "metadata": {},
     "output_type": "execute_result"
    }
   ],
   "source": [
    "os.path.relpath('/Windows', '/')"
   ]
  },
  {
   "cell_type": "code",
   "execution_count": 17,
   "metadata": {
    "collapsed": false
   },
   "outputs": [
    {
     "data": {
      "text/plain": [
       "'../../Windows'"
      ]
     },
     "execution_count": 17,
     "metadata": {},
     "output_type": "execute_result"
    }
   ],
   "source": [
    "# 뒤의 것을 기준으로 앞의 폴더와 관계가 어떻게 되느냐?\n",
    "os.path.relpath('/Windows', '/tmp/folder')"
   ]
  },
  {
   "cell_type": "markdown",
   "metadata": {},
   "source": [
    "#### dir name + base name\n",
    "\n",
    "- c:\\Windows\\System32/calc.exe\n",
    "- Dir name----------------Base name"
   ]
  },
  {
   "cell_type": "code",
   "execution_count": 18,
   "metadata": {
    "collapsed": true
   },
   "outputs": [],
   "source": [
    "path = '/tmp/folder/nice'"
   ]
  },
  {
   "cell_type": "code",
   "execution_count": 19,
   "metadata": {
    "collapsed": false
   },
   "outputs": [
    {
     "data": {
      "text/plain": [
       "'nice'"
      ]
     },
     "execution_count": 19,
     "metadata": {},
     "output_type": "execute_result"
    }
   ],
   "source": [
    "os.path.basename(path)"
   ]
  },
  {
   "cell_type": "code",
   "execution_count": 20,
   "metadata": {
    "collapsed": false
   },
   "outputs": [
    {
     "data": {
      "text/plain": [
       "'/tmp/folder'"
      ]
     },
     "execution_count": 20,
     "metadata": {},
     "output_type": "execute_result"
    }
   ],
   "source": [
    "os.path.dirname(path)"
   ]
  },
  {
   "cell_type": "code",
   "execution_count": 21,
   "metadata": {
    "collapsed": true
   },
   "outputs": [],
   "source": [
    "calcFilePath = '/tmp/folder/nice'"
   ]
  },
  {
   "cell_type": "code",
   "execution_count": 22,
   "metadata": {
    "collapsed": false
   },
   "outputs": [
    {
     "data": {
      "text/plain": [
       "('/tmp/folder', 'nice')"
      ]
     },
     "execution_count": 22,
     "metadata": {},
     "output_type": "execute_result"
    }
   ],
   "source": [
    "os.path.split(calcFilePath)"
   ]
  },
  {
   "cell_type": "code",
   "execution_count": 23,
   "metadata": {
    "collapsed": false
   },
   "outputs": [
    {
     "data": {
      "text/plain": [
       "('/tmp/folder', 'nice')"
      ]
     },
     "execution_count": 23,
     "metadata": {},
     "output_type": "execute_result"
    }
   ],
   "source": [
    "(os.path.dirname(calcFilePath), os.path.basename(calcFilePath))"
   ]
  },
  {
   "cell_type": "code",
   "execution_count": 24,
   "metadata": {
    "collapsed": false
   },
   "outputs": [
    {
     "data": {
      "text/plain": [
       "['', 'tmp', 'folder', 'nice']"
      ]
     },
     "execution_count": 24,
     "metadata": {},
     "output_type": "execute_result"
    }
   ],
   "source": [
    "calcFilePath.split(os.path.sep)"
   ]
  },
  {
   "cell_type": "code",
   "execution_count": 25,
   "metadata": {
    "collapsed": false
   },
   "outputs": [
    {
     "data": {
      "text/plain": [
       "'/'"
      ]
     },
     "execution_count": 25,
     "metadata": {},
     "output_type": "execute_result"
    }
   ],
   "source": [
    "os.path.sep"
   ]
  },
  {
   "cell_type": "markdown",
   "metadata": {},
   "source": [
    "### Finding File Sizes and Folder Contents"
   ]
  },
  {
   "cell_type": "code",
   "execution_count": 27,
   "metadata": {
    "collapsed": false
   },
   "outputs": [
    {
     "data": {
      "text/plain": [
       "13305674"
      ]
     },
     "execution_count": 27,
     "metadata": {},
     "output_type": "execute_result"
    }
   ],
   "source": [
    "os.path.getsize('/tmp/AlTest1.err')"
   ]
  },
  {
   "cell_type": "code",
   "execution_count": 28,
   "metadata": {
    "collapsed": false
   },
   "outputs": [
    {
     "data": {
      "text/plain": [
       "['.s.PGSQL.5432',\n",
       " '.s.PGSQL.5432.lock',\n",
       " '20150220.txt',\n",
       " 'AlTest1.err',\n",
       " 'AlTest1.out',\n",
       " 'com.apple.launchd.dNR24lgdt5',\n",
       " 'com.apple.launchd.Sd9UGURQOV',\n",
       " 'com.apple.launchd.xIhpMeHrpH',\n",
       " 'fish.re4lfl0w',\n",
       " 'fishd.socket.re4lfl0w',\n",
       " 'folder',\n",
       " 'KSOutOfProcessFetcher.501.IW-ShwaXJwmHlkfc5wb2ZMHOaJY=',\n",
       " 'VMwareDnD']"
      ]
     },
     "execution_count": 28,
     "metadata": {},
     "output_type": "execute_result"
    }
   ],
   "source": [
    "os.listdir('/tmp')"
   ]
  },
  {
   "cell_type": "code",
   "execution_count": 29,
   "metadata": {
    "collapsed": false
   },
   "outputs": [
    {
     "data": {
      "text/plain": [
       "13311853"
      ]
     },
     "execution_count": 29,
     "metadata": {},
     "output_type": "execute_result"
    }
   ],
   "source": [
    "totalSize = 0\n",
    "for filename in os.listdir('/tmp'):\n",
    "    totalSize += os.path.getsize(os.path.join('/tmp', filename))\n",
    "totalSize"
   ]
  },
  {
   "cell_type": "markdown",
   "metadata": {},
   "source": [
    "### Checking Path Validity"
   ]
  },
  {
   "cell_type": "code",
   "execution_count": 30,
   "metadata": {
    "collapsed": false
   },
   "outputs": [
    {
     "data": {
      "text/plain": [
       "True"
      ]
     },
     "execution_count": 30,
     "metadata": {},
     "output_type": "execute_result"
    }
   ],
   "source": [
    "os.path.exists('/tmp')"
   ]
  },
  {
   "cell_type": "code",
   "execution_count": 31,
   "metadata": {
    "collapsed": false
   },
   "outputs": [
    {
     "data": {
      "text/plain": [
       "False"
      ]
     },
     "execution_count": 31,
     "metadata": {},
     "output_type": "execute_result"
    }
   ],
   "source": [
    "os.path.exists('/some_made_up_folder')"
   ]
  },
  {
   "cell_type": "code",
   "execution_count": 32,
   "metadata": {
    "collapsed": false
   },
   "outputs": [
    {
     "data": {
      "text/plain": [
       "False"
      ]
     },
     "execution_count": 32,
     "metadata": {},
     "output_type": "execute_result"
    }
   ],
   "source": [
    "os.path.isfile('/tmp')"
   ]
  },
  {
   "cell_type": "code",
   "execution_count": 33,
   "metadata": {
    "collapsed": false
   },
   "outputs": [
    {
     "data": {
      "text/plain": [
       "True"
      ]
     },
     "execution_count": 33,
     "metadata": {},
     "output_type": "execute_result"
    }
   ],
   "source": [
    "os.path.isfile('/tmp/AlTest1.err')"
   ]
  },
  {
   "cell_type": "code",
   "execution_count": 34,
   "metadata": {
    "collapsed": false
   },
   "outputs": [
    {
     "data": {
      "text/plain": [
       "True"
      ]
     },
     "execution_count": 34,
     "metadata": {},
     "output_type": "execute_result"
    }
   ],
   "source": [
    "os.path.isdir('/tmp')"
   ]
  },
  {
   "cell_type": "code",
   "execution_count": 35,
   "metadata": {
    "collapsed": false
   },
   "outputs": [
    {
     "data": {
      "text/plain": [
       "False"
      ]
     },
     "execution_count": 35,
     "metadata": {},
     "output_type": "execute_result"
    }
   ],
   "source": [
    "os.path.isdir('/tmp/AlTest1.err')"
   ]
  },
  {
   "cell_type": "markdown",
   "metadata": {},
   "source": [
    "## The File Reading/Writing Process"
   ]
  },
  {
   "cell_type": "markdown",
   "metadata": {},
   "source": [
    "### Saving Variables with the shelve Module"
   ]
  },
  {
   "cell_type": "code",
   "execution_count": 36,
   "metadata": {
    "collapsed": true
   },
   "outputs": [],
   "source": [
    "import shelve"
   ]
  },
  {
   "cell_type": "code",
   "execution_count": 37,
   "metadata": {
    "collapsed": true
   },
   "outputs": [],
   "source": [
    "shelfFile = shelve.open('mydata')"
   ]
  },
  {
   "cell_type": "code",
   "execution_count": 38,
   "metadata": {
    "collapsed": true
   },
   "outputs": [],
   "source": [
    "cats = ['Zophie', 'Pooka', 'Simon']"
   ]
  },
  {
   "cell_type": "code",
   "execution_count": 39,
   "metadata": {
    "collapsed": true
   },
   "outputs": [],
   "source": [
    "shelfFile['cats'] = cats"
   ]
  },
  {
   "cell_type": "code",
   "execution_count": 40,
   "metadata": {
    "collapsed": true
   },
   "outputs": [],
   "source": [
    "shelfFile.close()"
   ]
  },
  {
   "cell_type": "code",
   "execution_count": 41,
   "metadata": {
    "collapsed": true
   },
   "outputs": [],
   "source": [
    "shelfFile = shelve.open('mydata')"
   ]
  },
  {
   "cell_type": "code",
   "execution_count": 42,
   "metadata": {
    "collapsed": false
   },
   "outputs": [
    {
     "data": {
      "text/plain": [
       "instance"
      ]
     },
     "execution_count": 42,
     "metadata": {},
     "output_type": "execute_result"
    }
   ],
   "source": [
    "type(shelfFile)"
   ]
  },
  {
   "cell_type": "code",
   "execution_count": 43,
   "metadata": {
    "collapsed": false
   },
   "outputs": [
    {
     "data": {
      "text/plain": [
       "['Zophie', 'Pooka', 'Simon']"
      ]
     },
     "execution_count": 43,
     "metadata": {},
     "output_type": "execute_result"
    }
   ],
   "source": [
    "shelfFile['cats']"
   ]
  },
  {
   "cell_type": "code",
   "execution_count": 44,
   "metadata": {
    "collapsed": true
   },
   "outputs": [],
   "source": [
    "shelfFile.close()"
   ]
  },
  {
   "cell_type": "code",
   "execution_count": 45,
   "metadata": {
    "collapsed": true
   },
   "outputs": [],
   "source": [
    "shelfFile = shelve.open('mydata')"
   ]
  },
  {
   "cell_type": "code",
   "execution_count": 46,
   "metadata": {
    "collapsed": false
   },
   "outputs": [
    {
     "data": {
      "text/plain": [
       "['cats']"
      ]
     },
     "execution_count": 46,
     "metadata": {},
     "output_type": "execute_result"
    }
   ],
   "source": [
    "list(shelfFile.keys())"
   ]
  },
  {
   "cell_type": "code",
   "execution_count": 47,
   "metadata": {
    "collapsed": false
   },
   "outputs": [
    {
     "data": {
      "text/plain": [
       "[['Zophie', 'Pooka', 'Simon']]"
      ]
     },
     "execution_count": 47,
     "metadata": {},
     "output_type": "execute_result"
    }
   ],
   "source": [
    "list(shelfFile.values())"
   ]
  },
  {
   "cell_type": "code",
   "execution_count": 48,
   "metadata": {
    "collapsed": true
   },
   "outputs": [],
   "source": [
    "shelfFile.close()"
   ]
  },
  {
   "cell_type": "markdown",
   "metadata": {},
   "source": [
    "### Saving Variables with the pprint.pformat() Function"
   ]
  },
  {
   "cell_type": "code",
   "execution_count": 49,
   "metadata": {
    "collapsed": true
   },
   "outputs": [],
   "source": [
    "import pprint"
   ]
  },
  {
   "cell_type": "code",
   "execution_count": 50,
   "metadata": {
    "collapsed": true
   },
   "outputs": [],
   "source": [
    "cats = [{'name': 'Zophie', 'desc': 'chubby'}, \n",
    "        {'name': 'Pooka', 'desc':'fluffy'}]"
   ]
  },
  {
   "cell_type": "code",
   "execution_count": 51,
   "metadata": {
    "collapsed": false
   },
   "outputs": [
    {
     "data": {
      "text/plain": [
       "\"[{'desc': 'chubby', 'name': 'Zophie'}, {'desc': 'fluffy', 'name': 'Pooka'}]\""
      ]
     },
     "execution_count": 51,
     "metadata": {},
     "output_type": "execute_result"
    }
   ],
   "source": [
    "pprint.pformat(cats)"
   ]
  },
  {
   "cell_type": "code",
   "execution_count": 52,
   "metadata": {
    "collapsed": true
   },
   "outputs": [],
   "source": [
    "fileObj = open('myCats.py', 'w')"
   ]
  },
  {
   "cell_type": "code",
   "execution_count": 53,
   "metadata": {
    "collapsed": true
   },
   "outputs": [],
   "source": [
    "fileObj.write('cats = ' + pprint.pformat(cats) + '\\n')"
   ]
  },
  {
   "cell_type": "code",
   "execution_count": 54,
   "metadata": {
    "collapsed": true
   },
   "outputs": [],
   "source": [
    "fileObj.close()"
   ]
  },
  {
   "cell_type": "code",
   "execution_count": 55,
   "metadata": {
    "collapsed": true
   },
   "outputs": [],
   "source": [
    "import myCats"
   ]
  },
  {
   "cell_type": "code",
   "execution_count": 56,
   "metadata": {
    "collapsed": false
   },
   "outputs": [
    {
     "data": {
      "text/plain": [
       "[{'desc': 'chubby', 'name': 'Zophie'}, {'desc': 'fluffy', 'name': 'Pooka'}]"
      ]
     },
     "execution_count": 56,
     "metadata": {},
     "output_type": "execute_result"
    }
   ],
   "source": [
    "myCats.cats"
   ]
  },
  {
   "cell_type": "code",
   "execution_count": 58,
   "metadata": {
    "collapsed": false
   },
   "outputs": [
    {
     "data": {
      "text/plain": [
       "{'desc': 'chubby', 'name': 'Zophie'}"
      ]
     },
     "execution_count": 58,
     "metadata": {},
     "output_type": "execute_result"
    }
   ],
   "source": [
    "myCats.cats[0]"
   ]
  },
  {
   "cell_type": "code",
   "execution_count": 59,
   "metadata": {
    "collapsed": false
   },
   "outputs": [
    {
     "data": {
      "text/plain": [
       "'Zophie'"
      ]
     },
     "execution_count": 59,
     "metadata": {},
     "output_type": "execute_result"
    }
   ],
   "source": [
    "myCats.cats[0]['name']"
   ]
  },
  {
   "cell_type": "markdown",
   "metadata": {},
   "source": [
    "## Project: Generating Random Quiz Files\n",
    "\n",
    "- Creates 35 different quizzes.\n",
    "- Creates 50 multiple-choice questions for each quiz, in random order.\n",
    "- Provides the correct answer and three random wrong answers for each question, in random order.\n",
    "- Writes the quizzes to 35 text files.\n",
    "- Writes the answer keys to 35 text files.\n",
    "- Store the staes and their capitals in a dictionary\n",
    "- Call open(), write(), and close() for the quiz and answer key text files.\n",
    "- Use random.shuffle() to randomize the order of the questions and multiple-choice options."
   ]
  },
  {
   "cell_type": "markdown",
   "metadata": {},
   "source": [
    "### Step 1: Store the Quiz Data in Dictionary"
   ]
  },
  {
   "cell_type": "code",
   "execution_count": 61,
   "metadata": {
    "collapsed": false
   },
   "outputs": [],
   "source": [
    "import random\n",
    "\n",
    "capitals = {'Alabama': 'Montgomery', 'Alaska': 'Juneau', 'Arizona': 'Phoenix',\n",
    "'Arkansas': 'Little Rock', 'California': 'Sacramento', 'Colorado': 'Denver',\n",
    "'Connecticut': 'Hartford', 'Delaware': 'Dover', 'Florida': 'Tallahassee',\n",
    "'Georgia': 'Atlanta', 'Hawaii': 'Honolulu', 'Idaho': 'Boise', 'Illinois':\n",
    "'Springfield', 'Indiana': 'Indianapolis', 'Iowa': 'Des Moines', 'Kansas':\n",
    "'Topeka', 'Kentucky': 'Frankfort', 'Louisiana': 'Baton Rouge', 'Maine':\n",
    "'Augusta', 'Maryland': 'Annapolis', 'Massachusetts': 'Boston', 'Michigan':\n",
    "'Lansing', 'Minnesota': 'Saint Paul', 'Mississippi': 'Jackson', 'Missouri':\n",
    "'Jefferson City', 'Montana': 'Helena', 'Nebraska': 'Lincoln', 'Nevada':\n",
    "'Carson City', 'New Hampshire': 'Concord', 'New Jersey': 'Trenton', 'New Mexico': 'Santa Fe', 'New York': 'Albany', 'North Carolina': 'Raleigh',\n",
    "'North Dakota': 'Bismarck', 'Ohio': 'Columbus', 'Oklahoma': 'Oklahoma City',\n",
    "'Oregon': 'Salem', 'Pennsylvania': 'Harrisburg', 'Rhode Island': 'Providence',\n",
    "'South Carolina': 'Columbia', 'South Dakota': 'Pierre', 'Tennessee':\n",
    "'Nashville', 'Texas': 'Austin', 'Utah': 'Salt Lake City', 'Vermont':\n",
    "'Montpelier', 'Virginia': 'Richmond', 'Washington': 'Olympia', 'West Virginia': 'Charleston', 'Wisconsin': 'Madison', 'Wyoming': 'Cheyenne'}"
   ]
  },
  {
   "cell_type": "code",
   "execution_count": 63,
   "metadata": {
    "collapsed": true
   },
   "outputs": [],
   "source": [
    "# Generate 35 quiz files.\n",
    "for quizNum in range(35):\n",
    "    pass\n",
    "    # TODO: Create the quiz and answer key files.\n",
    "    \n",
    "    # TODO: Write out the header for the quiz.\n",
    "    \n",
    "    # TODO: Shuffle the order of the states.\n",
    "    \n",
    "    # TODO: Loop through all 50 states, making a question for each."
   ]
  },
  {
   "cell_type": "markdown",
   "metadata": {},
   "source": [
    "### Step 2: Create the Quiz File and Shuffle the Question Order"
   ]
  },
  {
   "cell_type": "code",
   "execution_count": 64,
   "metadata": {
    "collapsed": false
   },
   "outputs": [
    {
     "name": "stdout",
     "output_type": "stream",
     "text": [
      "total 29080\r\n",
      "-rw-r--r--  1 re4lfl0w  wheel         0  5 11 00:39 20150220.txt\r\n",
      "-rw-r--r--  1 re4lfl0w  wheel  14860408  5 11 00:39 AlTest1.err\r\n",
      "-rw-r--r--  1 re4lfl0w  wheel         0  5  8 07:05 AlTest1.out\r\n",
      "drwx------  3 re4lfl0w  wheel       102  5 10 23:29 \u001b[34mKSOutOfProcessFetcher.501.IW-ShwaXJwmHlkfc5wb2ZMHOaJY=\u001b[m\u001b[m\r\n",
      "drwxrwxrwt  3 re4lfl0w  wheel       102  5  4 05:56 \u001b[30m\u001b[42mVMwareDnD\u001b[m\u001b[m\r\n",
      "drwx------  3 re4lfl0w  wheel       102  5  3 13:22 \u001b[34mcom.apple.launchd.Sd9UGURQOV\u001b[m\u001b[m\r\n",
      "drwx------  3 re4lfl0w  wheel       102  5  3 13:22 \u001b[34mcom.apple.launchd.dNR24lgdt5\u001b[m\u001b[m\r\n",
      "drwx------  3 re4lfl0w  wheel       102  5  3 13:22 \u001b[34mcom.apple.launchd.xIhpMeHrpH\u001b[m\u001b[m\r\n",
      "drwx------  3 re4lfl0w  wheel       102  5  8 07:05 \u001b[34mfish.re4lfl0w\u001b[m\u001b[m\r\n",
      "srwxr-xr-x  2 re4lfl0w  wheel         0  5  3 13:22 \u001b[32mfishd.socket.re4lfl0w\u001b[m\u001b[m\r\n",
      "drwxr-xr-x  3 re4lfl0w  wheel       102  5 10 12:30 \u001b[34mfolder\u001b[m\u001b[m\r\n",
      "-rw-r--r--  1 re4lfl0w  wheel        83  5 11 00:29 myCats.py\r\n",
      "-rw-r--r--  1 re4lfl0w  wheel       206  5 11 00:29 myCats.pyc\r\n",
      "-rw-r--r--  1 re4lfl0w  wheel     16384  5 11 00:27 mydata.db\r\n"
     ]
    }
   ],
   "source": [
    "!ls -l"
   ]
  },
  {
   "cell_type": "code",
   "execution_count": null,
   "metadata": {
    "collapsed": true
   },
   "outputs": [],
   "source": [
    "# Generate 35 quiz files.\n",
    "for quizNum in range(35):\n",
    "    # TODO: Create the quiz and answer key files.\n",
    "    quizFile = open('capitalsquiz%s.txt' % (quizNum + 1), 'w')\n",
    "    answerKeyFile = open('capitalsquiz_answers%s.txt' % (quizNum + 1), 'w')\n",
    "    \n",
    "    # TODO: Write out the header for the quiz.\n",
    "    quizFile.write('Name:\\n\\nDate:\\n\\nPeriod:\\n\\n')\n",
    "    quizFile.write((' ' * 20) + 'State Capitals Quiz (Form %s)' % (quizNum + 1))\n",
    "    quizFile.write('\\n\\n')\n",
    "    \n",
    "    # TODO: Shuffle the order of the states.\n",
    "    states = list(capitals.keys())\n",
    "    random.shuffle(states)\n",
    "    \n",
    "    # TODO: Loop through all 50 states, making a question for each."
   ]
  },
  {
   "cell_type": "markdown",
   "metadata": {},
   "source": [
    "### Step 3: Create the Answer Options"
   ]
  },
  {
   "cell_type": "code",
   "execution_count": null,
   "metadata": {
    "collapsed": true
   },
   "outputs": [],
   "source": [
    "# Generate 35 quiz files.\n",
    "for quizNum in range(35):\n",
    "    # TODO: Create the quiz and answer key files.\n",
    "    quizFile = open('capitalsquiz%s.txt' % (quizNum + 1), 'w')\n",
    "    answerKeyFile = open('capitalsquiz_answers%s.txt' % (quizNum + 1), 'w')\n",
    "    \n",
    "    # TODO: Write out the header for the quiz.\n",
    "    quizFile.write('Name:\\n\\nDate:\\n\\nPeriod:\\n\\n')\n",
    "    quizFile.write((' ' * 20) + 'State Capitals Quiz (Form %s)' % (quizNum + 1))\n",
    "    quizFile.write('\\n\\n')\n",
    "    \n",
    "    # TODO: Shuffle the order of the states.\n",
    "    states = list(capitals.keys())\n",
    "    random.shuffle(states)\n",
    "    \n",
    "    # TODO: Loop through all 50 states, making a question for each.\n",
    "    \n",
    "    # Get right and wrong answers.\n",
    "    correctAnswer = capitals[states[questionNum]]\n",
    "    wrongAnswer = list(capitals.values())\n",
    "    del wrongAnswer[wrongAnswer.index(correctAnswer)]\n",
    "    wrongAnswer = random.sample(wrongAnswer, 3)\n",
    "    answerOptions = wrongAnswer + [correctAnswer]\n",
    "    random.shuffle(answerOptions)\n",
    "    \n",
    "    # TODO: Write the question and answer options to the quiz file.\n",
    "    \n",
    "    # TODO: Write the answer key to a file."
   ]
  },
  {
   "cell_type": "markdown",
   "metadata": {},
   "source": [
    "### Step 4: Write Content to the Quiz and Answer Key Files\n",
    "\n"
   ]
  },
  {
   "cell_type": "code",
   "execution_count": 75,
   "metadata": {
    "collapsed": false
   },
   "outputs": [],
   "source": [
    "import random\n",
    "\n",
    "capitals = {'Alabama': 'Montgomery', 'Alaska': 'Juneau', 'Arizona': 'Phoenix',\n",
    "'Arkansas': 'Little Rock', 'California': 'Sacramento', 'Colorado': 'Denver',\n",
    "'Connecticut': 'Hartford', 'Delaware': 'Dover', 'Florida': 'Tallahassee',\n",
    "'Georgia': 'Atlanta', 'Hawaii': 'Honolulu', 'Idaho': 'Boise', 'Illinois':\n",
    "'Springfield', 'Indiana': 'Indianapolis', 'Iowa': 'Des Moines', 'Kansas':\n",
    "'Topeka', 'Kentucky': 'Frankfort', 'Louisiana': 'Baton Rouge', 'Maine':\n",
    "'Augusta', 'Maryland': 'Annapolis', 'Massachusetts': 'Boston', 'Michigan':\n",
    "'Lansing', 'Minnesota': 'Saint Paul', 'Mississippi': 'Jackson', 'Missouri':\n",
    "'Jefferson City', 'Montana': 'Helena', 'Nebraska': 'Lincoln', 'Nevada':\n",
    "'Carson City', 'New Hampshire': 'Concord', 'New Jersey': 'Trenton', 'New Mexico': 'Santa Fe', 'New York': 'Albany', 'North Carolina': 'Raleigh',\n",
    "'North Dakota': 'Bismarck', 'Ohio': 'Columbus', 'Oklahoma': 'Oklahoma City',\n",
    "'Oregon': 'Salem', 'Pennsylvania': 'Harrisburg', 'Rhode Island': 'Providence',\n",
    "'South Carolina': 'Columbia', 'South Dakota': 'Pierre', 'Tennessee':\n",
    "'Nashville', 'Texas': 'Austin', 'Utah': 'Salt Lake City', 'Vermont':\n",
    "'Montpelier', 'Virginia': 'Richmond', 'Washington': 'Olympia', 'West Virginia': 'Charleston', 'Wisconsin': 'Madison', 'Wyoming': 'Cheyenne'}\n",
    "\n",
    "# Generate 35 quiz files.\n",
    "for questionNum in range(35):\n",
    "    # TODO: Create the quiz and answer key files.\n",
    "    quizFile = open('capitalsquiz%s.txt' % (questionNum + 1), 'w')\n",
    "    answerKeyFile = open('capitalsquiz_answers%s.txt' % (questionNum + 1), 'w')\n",
    "    \n",
    "    # TODO: Write out the header for the quiz.\n",
    "    quizFile.write('Name:\\n\\nDate:\\n\\nPeriod:\\n\\n')\n",
    "    quizFile.write((' ' * 20) + 'State Capitals Quiz (Form %s)' % (questionNum + 1))\n",
    "    quizFile.write('\\n\\n')\n",
    "    \n",
    "    # TODO: Shuffle the order of the states.\n",
    "    states = list(capitals.keys())\n",
    "    random.shuffle(states)\n",
    "    \n",
    "    # TODO: Loop through all 50 states, making a question for each.\n",
    "    \n",
    "    # Get right and wrong answers.\n",
    "    correctAnswer = capitals[states[questionNum]]\n",
    "    wrongAnswer = list(capitals.values())\n",
    "    del wrongAnswer[wrongAnswer.index(correctAnswer)]\n",
    "    wrongAnswer = random.sample(wrongAnswer, 3)\n",
    "    answerOptions = wrongAnswer + [correctAnswer]\n",
    "    random.shuffle(answerOptions)\n",
    "    \n",
    "    # TODO: Write the question and answer options to the quiz file.\n",
    "    \n",
    "    # TODO: Write the questions and the answer options to the quiz file.\n",
    "    quizFile.write('%s. What is the capital of %s?\\n' % \n",
    "                   (questionNum + 1, states[questionNum]))\n",
    "    for i in range(4):\n",
    "        quizFile.write(' %s. %s\\n' % ('ABCD'[i], answerOptions[i]))\n",
    "    quizFile.write('\\n')\n",
    "    \n",
    "    # Write the answer key to a file.\n",
    "    answerKeyFile.write('%s. %s\\n' % (questionNum + 1, \n",
    "                                      'ABCD'[answerOptions.index(correctAnswer)]))\n",
    "    quizFile.close()\n",
    "    answerKeyFile.close()"
   ]
  },
  {
   "cell_type": "code",
   "execution_count": 81,
   "metadata": {
    "collapsed": false
   },
   "outputs": [
    {
     "data": {
      "text/plain": [
       "'Ohio'"
      ]
     },
     "execution_count": 81,
     "metadata": {},
     "output_type": "execute_result"
    }
   ],
   "source": [
    "states[0]"
   ]
  },
  {
   "cell_type": "code",
   "execution_count": 82,
   "metadata": {
    "collapsed": false
   },
   "outputs": [
    {
     "data": {
      "text/plain": [
       "'Columbus'"
      ]
     },
     "execution_count": 82,
     "metadata": {},
     "output_type": "execute_result"
    }
   ],
   "source": [
    "capitals[states[0]]"
   ]
  },
  {
   "cell_type": "code",
   "execution_count": 85,
   "metadata": {
    "collapsed": false
   },
   "outputs": [
    {
     "data": {
      "text/plain": [
       "['Madison', 'Bismarck', 'Augusta']"
      ]
     },
     "execution_count": 85,
     "metadata": {},
     "output_type": "execute_result"
    }
   ],
   "source": [
    "random.sample(wrongAnswer, 3)"
   ]
  },
  {
   "cell_type": "code",
   "execution_count": 86,
   "metadata": {
    "collapsed": false
   },
   "outputs": [
    {
     "data": {
      "text/plain": [
       "['Madison', 'Bismarck', 'Cheyenne', 'Augusta']"
      ]
     },
     "execution_count": 86,
     "metadata": {},
     "output_type": "execute_result"
    }
   ],
   "source": [
    "answerOptions"
   ]
  },
  {
   "cell_type": "code",
   "execution_count": 87,
   "metadata": {
    "collapsed": true
   },
   "outputs": [],
   "source": [
    "random.shuffle(answerOptions)"
   ]
  },
  {
   "cell_type": "code",
   "execution_count": 88,
   "metadata": {
    "collapsed": false
   },
   "outputs": [
    {
     "data": {
      "text/plain": [
       "['Bismarck', 'Madison', 'Augusta', 'Cheyenne']"
      ]
     },
     "execution_count": 88,
     "metadata": {},
     "output_type": "execute_result"
    }
   ],
   "source": [
    "answerOptions"
   ]
  },
  {
   "cell_type": "code",
   "execution_count": 80,
   "metadata": {
    "collapsed": false
   },
   "outputs": [
    {
     "data": {
      "text/plain": [
       "['Ohio',\n",
       " 'California',\n",
       " 'Virginia',\n",
       " 'Montana',\n",
       " 'Vermont',\n",
       " 'New York',\n",
       " 'Rhode Island',\n",
       " 'Oregon',\n",
       " 'Oklahoma',\n",
       " 'Arizona',\n",
       " 'Mississippi',\n",
       " 'Louisiana',\n",
       " 'Idaho',\n",
       " 'Arkansas',\n",
       " 'Maryland',\n",
       " 'Nevada',\n",
       " 'Texas',\n",
       " 'New Mexico',\n",
       " 'Kentucky',\n",
       " 'South Carolina',\n",
       " 'North Dakota',\n",
       " 'New Jersey',\n",
       " 'Wisconsin',\n",
       " 'Kansas',\n",
       " 'Alabama',\n",
       " 'Tennessee',\n",
       " 'Colorado',\n",
       " 'North Carolina',\n",
       " 'Maine',\n",
       " 'Pennsylvania',\n",
       " 'South Dakota',\n",
       " 'Alaska',\n",
       " 'Michigan',\n",
       " 'Utah',\n",
       " 'Wyoming',\n",
       " 'Minnesota',\n",
       " 'Georgia',\n",
       " 'Massachusetts',\n",
       " 'Nebraska',\n",
       " 'Illinois',\n",
       " 'Washington',\n",
       " 'Iowa',\n",
       " 'New Hampshire',\n",
       " 'West Virginia',\n",
       " 'Hawaii',\n",
       " 'Indiana',\n",
       " 'Florida',\n",
       " 'Missouri',\n",
       " 'Connecticut',\n",
       " 'Delaware']"
      ]
     },
     "execution_count": 80,
     "metadata": {},
     "output_type": "execute_result"
    }
   ],
   "source": [
    "states"
   ]
  },
  {
   "cell_type": "code",
   "execution_count": 79,
   "metadata": {
    "collapsed": false
   },
   "outputs": [
    {
     "data": {
      "text/plain": [
       "50"
      ]
     },
     "execution_count": 79,
     "metadata": {},
     "output_type": "execute_result"
    }
   ],
   "source": [
    "len(capitals)"
   ]
  },
  {
   "cell_type": "code",
   "execution_count": 76,
   "metadata": {
    "collapsed": false
   },
   "outputs": [
    {
     "name": "stdout",
     "output_type": "stream",
     "text": [
      "total 29872\r\n",
      "-rw-r--r--  1 re4lfl0w  wheel         0  5 11 00:58 20150220.txt\r\n",
      "-rw-r--r--  1 re4lfl0w  wheel  14980751  5 11 00:58 AlTest1.err\r\n",
      "-rw-r--r--  1 re4lfl0w  wheel         0  5  8 07:05 AlTest1.out\r\n",
      "drwx------  3 re4lfl0w  wheel       102  5 10 23:29 \u001b[34mKSOutOfProcessFetcher.501.IW-ShwaXJwmHlkfc5wb2ZMHOaJY=\u001b[m\u001b[m\r\n",
      "drwxrwxrwt  3 re4lfl0w  wheel       102  5  4 05:56 \u001b[30m\u001b[42mVMwareDnD\u001b[m\u001b[m\r\n",
      "-rw-r--r--  1 re4lfl0w  wheel       160  5 11 00:58 capitalsquiz1.txt\r\n",
      "-rw-r--r--  1 re4lfl0w  wheel       170  5 11 00:58 capitalsquiz10.txt\r\n",
      "-rw-r--r--  1 re4lfl0w  wheel       171  5 11 00:58 capitalsquiz11.txt\r\n",
      "-rw-r--r--  1 re4lfl0w  wheel       166  5 11 00:58 capitalsquiz12.txt\r\n",
      "-rw-r--r--  1 re4lfl0w  wheel       167  5 11 00:58 capitalsquiz13.txt\r\n",
      "-rw-r--r--  1 re4lfl0w  wheel       172  5 11 00:58 capitalsquiz14.txt\r\n",
      "-rw-r--r--  1 re4lfl0w  wheel       163  5 11 00:58 capitalsquiz15.txt\r\n",
      "-rw-r--r--  1 re4lfl0w  wheel       172  5 11 00:58 capitalsquiz16.txt\r\n",
      "-rw-r--r--  1 re4lfl0w  wheel       156  5 11 00:58 capitalsquiz17.txt\r\n",
      "-rw-r--r--  1 re4lfl0w  wheel       160  5 11 00:58 capitalsquiz18.txt\r\n",
      "-rw-r--r--  1 re4lfl0w  wheel       174  5 11 00:58 capitalsquiz19.txt\r\n",
      "-rw-r--r--  1 re4lfl0w  wheel       166  5 11 00:58 capitalsquiz2.txt\r\n",
      "-rw-r--r--  1 re4lfl0w  wheel       175  5 11 00:58 capitalsquiz20.txt\r\n",
      "-rw-r--r--  1 re4lfl0w  wheel       162  5 11 00:58 capitalsquiz21.txt\r\n",
      "-rw-r--r--  1 re4lfl0w  wheel       167  5 11 00:58 capitalsquiz22.txt\r\n",
      "-rw-r--r--  1 re4lfl0w  wheel       164  5 11 00:58 capitalsquiz23.txt\r\n",
      "-rw-r--r--  1 re4lfl0w  wheel       160  5 11 00:58 capitalsquiz24.txt\r\n",
      "-rw-r--r--  1 re4lfl0w  wheel       154  5 11 00:58 capitalsquiz25.txt\r\n",
      "-rw-r--r--  1 re4lfl0w  wheel       170  5 11 00:58 capitalsquiz26.txt\r\n",
      "-rw-r--r--  1 re4lfl0w  wheel       153  5 11 00:58 capitalsquiz27.txt\r\n",
      "-rw-r--r--  1 re4lfl0w  wheel       172  5 11 00:58 capitalsquiz28.txt\r\n",
      "-rw-r--r--  1 re4lfl0w  wheel       179  5 11 00:58 capitalsquiz29.txt\r\n",
      "-rw-r--r--  1 re4lfl0w  wheel       160  5 11 00:58 capitalsquiz3.txt\r\n",
      "-rw-r--r--  1 re4lfl0w  wheel       171  5 11 00:58 capitalsquiz30.txt\r\n",
      "-rw-r--r--  1 re4lfl0w  wheel       166  5 11 00:58 capitalsquiz31.txt\r\n",
      "-rw-r--r--  1 re4lfl0w  wheel       167  5 11 00:58 capitalsquiz32.txt\r\n",
      "-rw-r--r--  1 re4lfl0w  wheel       170  5 11 00:58 capitalsquiz33.txt\r\n",
      "-rw-r--r--  1 re4lfl0w  wheel       161  5 11 00:58 capitalsquiz34.txt\r\n",
      "-rw-r--r--  1 re4lfl0w  wheel       161  5 11 00:58 capitalsquiz35.txt\r\n",
      "-rw-r--r--  1 re4lfl0w  wheel       162  5 11 00:58 capitalsquiz4.txt\r\n",
      "-rw-r--r--  1 re4lfl0w  wheel       167  5 11 00:58 capitalsquiz5.txt\r\n",
      "-rw-r--r--  1 re4lfl0w  wheel       156  5 11 00:58 capitalsquiz6.txt\r\n",
      "-rw-r--r--  1 re4lfl0w  wheel       162  5 11 00:58 capitalsquiz7.txt\r\n",
      "-rw-r--r--  1 re4lfl0w  wheel       163  5 11 00:58 capitalsquiz8.txt\r\n",
      "-rw-r--r--  1 re4lfl0w  wheel       158  5 11 00:58 capitalsquiz9.txt\r\n",
      "-rw-r--r--  1 re4lfl0w  wheel         5  5 11 00:58 capitalsquiz_answers1.txt\r\n",
      "-rw-r--r--  1 re4lfl0w  wheel         6  5 11 00:58 capitalsquiz_answers10.txt\r\n",
      "-rw-r--r--  1 re4lfl0w  wheel         6  5 11 00:58 capitalsquiz_answers11.txt\r\n",
      "-rw-r--r--  1 re4lfl0w  wheel         6  5 11 00:58 capitalsquiz_answers12.txt\r\n",
      "-rw-r--r--  1 re4lfl0w  wheel         6  5 11 00:58 capitalsquiz_answers13.txt\r\n",
      "-rw-r--r--  1 re4lfl0w  wheel         6  5 11 00:58 capitalsquiz_answers14.txt\r\n",
      "-rw-r--r--  1 re4lfl0w  wheel         6  5 11 00:58 capitalsquiz_answers15.txt\r\n",
      "-rw-r--r--  1 re4lfl0w  wheel         6  5 11 00:58 capitalsquiz_answers16.txt\r\n",
      "-rw-r--r--  1 re4lfl0w  wheel         6  5 11 00:58 capitalsquiz_answers17.txt\r\n",
      "-rw-r--r--  1 re4lfl0w  wheel         6  5 11 00:58 capitalsquiz_answers18.txt\r\n",
      "-rw-r--r--  1 re4lfl0w  wheel         6  5 11 00:58 capitalsquiz_answers19.txt\r\n",
      "-rw-r--r--  1 re4lfl0w  wheel         5  5 11 00:58 capitalsquiz_answers2.txt\r\n",
      "-rw-r--r--  1 re4lfl0w  wheel         6  5 11 00:58 capitalsquiz_answers20.txt\r\n",
      "-rw-r--r--  1 re4lfl0w  wheel         6  5 11 00:58 capitalsquiz_answers21.txt\r\n",
      "-rw-r--r--  1 re4lfl0w  wheel         6  5 11 00:58 capitalsquiz_answers22.txt\r\n",
      "-rw-r--r--  1 re4lfl0w  wheel         6  5 11 00:58 capitalsquiz_answers23.txt\r\n",
      "-rw-r--r--  1 re4lfl0w  wheel         6  5 11 00:58 capitalsquiz_answers24.txt\r\n",
      "-rw-r--r--  1 re4lfl0w  wheel         6  5 11 00:58 capitalsquiz_answers25.txt\r\n",
      "-rw-r--r--  1 re4lfl0w  wheel         6  5 11 00:58 capitalsquiz_answers26.txt\r\n",
      "-rw-r--r--  1 re4lfl0w  wheel         6  5 11 00:58 capitalsquiz_answers27.txt\r\n",
      "-rw-r--r--  1 re4lfl0w  wheel         6  5 11 00:58 capitalsquiz_answers28.txt\r\n",
      "-rw-r--r--  1 re4lfl0w  wheel         6  5 11 00:58 capitalsquiz_answers29.txt\r\n",
      "-rw-r--r--  1 re4lfl0w  wheel         5  5 11 00:58 capitalsquiz_answers3.txt\r\n",
      "-rw-r--r--  1 re4lfl0w  wheel         6  5 11 00:58 capitalsquiz_answers30.txt\r\n",
      "-rw-r--r--  1 re4lfl0w  wheel         6  5 11 00:58 capitalsquiz_answers31.txt\r\n",
      "-rw-r--r--  1 re4lfl0w  wheel         6  5 11 00:58 capitalsquiz_answers32.txt\r\n",
      "-rw-r--r--  1 re4lfl0w  wheel         6  5 11 00:58 capitalsquiz_answers33.txt\r\n",
      "-rw-r--r--  1 re4lfl0w  wheel         6  5 11 00:58 capitalsquiz_answers34.txt\r\n",
      "-rw-r--r--  1 re4lfl0w  wheel         6  5 11 00:58 capitalsquiz_answers35.txt\r\n",
      "-rw-r--r--  1 re4lfl0w  wheel         5  5 11 00:58 capitalsquiz_answers4.txt\r\n",
      "-rw-r--r--  1 re4lfl0w  wheel         5  5 11 00:58 capitalsquiz_answers5.txt\r\n",
      "-rw-r--r--  1 re4lfl0w  wheel         5  5 11 00:58 capitalsquiz_answers6.txt\r\n",
      "-rw-r--r--  1 re4lfl0w  wheel         5  5 11 00:58 capitalsquiz_answers7.txt\r\n",
      "-rw-r--r--  1 re4lfl0w  wheel         5  5 11 00:58 capitalsquiz_answers8.txt\r\n",
      "-rw-r--r--  1 re4lfl0w  wheel         5  5 11 00:58 capitalsquiz_answers9.txt\r\n",
      "drwx------  3 re4lfl0w  wheel       102  5  3 13:22 \u001b[34mcom.apple.launchd.Sd9UGURQOV\u001b[m\u001b[m\r\n",
      "drwx------  3 re4lfl0w  wheel       102  5  3 13:22 \u001b[34mcom.apple.launchd.dNR24lgdt5\u001b[m\u001b[m\r\n",
      "drwx------  3 re4lfl0w  wheel       102  5  3 13:22 \u001b[34mcom.apple.launchd.xIhpMeHrpH\u001b[m\u001b[m\r\n",
      "drwx------  3 re4lfl0w  wheel       102  5  8 07:05 \u001b[34mfish.re4lfl0w\u001b[m\u001b[m\r\n",
      "srwxr-xr-x  2 re4lfl0w  wheel         0  5  3 13:22 \u001b[32mfishd.socket.re4lfl0w\u001b[m\u001b[m\r\n",
      "drwxr-xr-x  3 re4lfl0w  wheel       102  5 10 12:30 \u001b[34mfolder\u001b[m\u001b[m\r\n",
      "-rw-r--r--  1 re4lfl0w  wheel        83  5 11 00:29 myCats.py\r\n",
      "-rw-r--r--  1 re4lfl0w  wheel       206  5 11 00:29 myCats.pyc\r\n",
      "-rw-r--r--  1 re4lfl0w  wheel     16384  5 11 00:27 mydata.db\r\n"
     ]
    }
   ],
   "source": [
    "!ls -l"
   ]
  },
  {
   "cell_type": "code",
   "execution_count": 77,
   "metadata": {
    "collapsed": false
   },
   "outputs": [
    {
     "name": "stdout",
     "output_type": "stream",
     "text": [
      "Name:\r\n",
      "\r\n",
      "Date:\r\n",
      "\r\n",
      "Period:\r\n",
      "\r\n",
      "                    State Capitals Quiz (Form 1)\r\n",
      "\r\n",
      "1. What is the capital of North Dakota?\r\n",
      " A. Bismarck\r\n",
      " B. Topeka\r\n",
      " C. Lincoln\r\n",
      " D. Boise\r\n",
      "\r\n"
     ]
    }
   ],
   "source": [
    "!cat capitalsquiz1.txt"
   ]
  },
  {
   "cell_type": "code",
   "execution_count": 78,
   "metadata": {
    "collapsed": false
   },
   "outputs": [
    {
     "name": "stdout",
     "output_type": "stream",
     "text": [
      "1. A\r\n"
     ]
    }
   ],
   "source": [
    "!cat capitalsquiz_answers1.txt"
   ]
  },
  {
   "cell_type": "code",
   "execution_count": 101,
   "metadata": {
    "collapsed": false
   },
   "outputs": [
    {
     "name": "stdout",
     "output_type": "stream",
     "text": [
      "Overwriting mcb.py\n"
     ]
    }
   ],
   "source": [
    "%%writefile mcb.py\n",
    "# mcb.pyw - Saves and loads pieces of text to the clipboard.\n",
    "# Usage: py.exe mcb.pyw save <keyword> - Saves clipboard to keyword.\n",
    "#        py.exe mcb.pyw <keyword> - Loads keyword to clipboard.\n",
    "#        py.exe mcb.pyw list - Loads all keywords to clipboard.\n",
    "\n",
    "import shelve\n",
    "import pyperclip\n",
    "import sys\n",
    "\n",
    "mcbShelf = shelve.open('mcb')\n",
    "\n",
    "# TODO: Save clipboard content.\n",
    "if len(sys.argv) == 3 and sys.argv[1].lower() == 'save':\n",
    "    mcbShelf[sys.argv[2]] = pyperclip.paste()\n",
    "elif len(sys.argv) == 2:\n",
    "    # TODO: List keywords and load content.\n",
    "    if sys.argv[1].lower() == 'list':\n",
    "        pyperclip.copy(str(list(mcbShelf.keys())))\n",
    "    # Add delete command.\n",
    "    elif sys.argv[1].lower() == 'delete':\n",
    "        for ele in mcbShelf.keys():\n",
    "            del mcbShelf[ele]\n",
    "    elif sys.argv[1] in mcbShelf:\n",
    "        pyperclip.copy(mcbShelf[sys.argv[1]])\n",
    "\n",
    "mcbShelf.close()"
   ]
  },
  {
   "cell_type": "code",
   "execution_count": 102,
   "metadata": {
    "collapsed": false
   },
   "outputs": [],
   "source": [
    "%run mcb.py save nice"
   ]
  },
  {
   "cell_type": "code",
   "execution_count": 103,
   "metadata": {
    "collapsed": true
   },
   "outputs": [],
   "source": [
    "%run mcb.py list"
   ]
  },
  {
   "cell_type": "markdown",
   "metadata": {},
   "source": [
    "['nice']"
   ]
  },
  {
   "cell_type": "code",
   "execution_count": 97,
   "metadata": {
    "collapsed": false
   },
   "outputs": [],
   "source": [
    "%run mcb.py save good"
   ]
  },
  {
   "cell_type": "code",
   "execution_count": 98,
   "metadata": {
    "collapsed": true
   },
   "outputs": [],
   "source": [
    "%run mcb.py list"
   ]
  },
  {
   "cell_type": "markdown",
   "metadata": {},
   "source": [
    "['nice', 'good']"
   ]
  },
  {
   "cell_type": "code",
   "execution_count": 99,
   "metadata": {
    "collapsed": true
   },
   "outputs": [],
   "source": [
    "%run mcb.py nice"
   ]
  },
  {
   "cell_type": "markdown",
   "metadata": {},
   "source": [
    "If there is only one command"
   ]
  },
  {
   "cell_type": "code",
   "execution_count": 100,
   "metadata": {
    "collapsed": true
   },
   "outputs": [],
   "source": [
    "%run mcb.py good"
   ]
  },
  {
   "cell_type": "markdown",
   "metadata": {},
   "source": [
    "check whether it"
   ]
  },
  {
   "cell_type": "code",
   "execution_count": 104,
   "metadata": {
    "collapsed": true
   },
   "outputs": [],
   "source": [
    "%run mcb.py delete"
   ]
  },
  {
   "cell_type": "code",
   "execution_count": 105,
   "metadata": {
    "collapsed": true
   },
   "outputs": [],
   "source": [
    "%run mcb.py list"
   ]
  },
  {
   "cell_type": "markdown",
   "metadata": {},
   "source": [
    "[]"
   ]
  },
  {
   "cell_type": "markdown",
   "metadata": {},
   "source": [
    "### Mad Libs"
   ]
  },
  {
   "cell_type": "code",
   "execution_count": 161,
   "metadata": {
    "collapsed": true
   },
   "outputs": [],
   "source": [
    "example = 'The ADJECTIVE panda wlked to the NOUN and then VERB. A nearby NOUN was unaffected by these events.'"
   ]
  },
  {
   "cell_type": "code",
   "execution_count": 108,
   "metadata": {
    "collapsed": true
   },
   "outputs": [],
   "source": [
    "import re"
   ]
  },
  {
   "cell_type": "code",
   "execution_count": 127,
   "metadata": {
    "collapsed": false
   },
   "outputs": [
    {
     "data": {
      "text/plain": [
       "['ADJECTIVE', 'NOUN', 'VERB', 'NOUN']"
      ]
     },
     "execution_count": 127,
     "metadata": {},
     "output_type": "execute_result"
    }
   ],
   "source": [
    "replace_lst = re.findall(r'\\b[A-Z]{2,}\\b', example)\n",
    "replace_lst"
   ]
  },
  {
   "cell_type": "code",
   "execution_count": 162,
   "metadata": {
    "collapsed": false
   },
   "outputs": [
    {
     "name": "stdout",
     "output_type": "stream",
     "text": [
      "The ADJECTIVE panda wlked to the NOUN and then VERB. A nearby NOUN was unaffected by these events.\n"
     ]
    }
   ],
   "source": [
    "print example"
   ]
  },
  {
   "cell_type": "code",
   "execution_count": 154,
   "metadata": {
    "collapsed": true
   },
   "outputs": [],
   "source": [
    "def input_value(explain):\n",
    "    input_ = raw_input(explain)\n",
    "    if input_:\n",
    "        return input_\n",
    "    input_value(explain)"
   ]
  },
  {
   "cell_type": "code",
   "execution_count": 163,
   "metadata": {
    "collapsed": false
   },
   "outputs": [
    {
     "name": "stdout",
     "output_type": "stream",
     "text": [
      "Enter an adjective: adjective\n"
     ]
    }
   ],
   "source": [
    "input_ = input_value('Enter an adjective: ')\n",
    "example = re.sub(r'ADJECTIVE', input_, example)"
   ]
  },
  {
   "cell_type": "code",
   "execution_count": 164,
   "metadata": {
    "collapsed": false
   },
   "outputs": [
    {
     "name": "stdout",
     "output_type": "stream",
     "text": [
      "Enter a noun: noun\n"
     ]
    }
   ],
   "source": [
    "input_ = input_value('Enter a noun: ')\n",
    "example = re.sub(r'NOUN', input_, example)"
   ]
  },
  {
   "cell_type": "code",
   "execution_count": 165,
   "metadata": {
    "collapsed": false
   },
   "outputs": [
    {
     "name": "stdout",
     "output_type": "stream",
     "text": [
      "Enter a verb: verb\n"
     ]
    }
   ],
   "source": [
    "input_ = input_value('Enter a verb: ')\n",
    "example = re.sub(r'VERB', input_, example)"
   ]
  },
  {
   "cell_type": "code",
   "execution_count": 166,
   "metadata": {
    "collapsed": false
   },
   "outputs": [
    {
     "name": "stdout",
     "output_type": "stream",
     "text": [
      "Enter a noun: noun\n"
     ]
    }
   ],
   "source": [
    "input_ = input_value('Enter a noun: ')\n",
    "example = re.sub(r'NOUN', input_, example)"
   ]
  },
  {
   "cell_type": "code",
   "execution_count": 167,
   "metadata": {
    "collapsed": false
   },
   "outputs": [
    {
     "data": {
      "text/plain": [
       "'The adjective panda wlked to the noun and then verb. A nearby noun was unaffected by these events.'"
      ]
     },
     "execution_count": 167,
     "metadata": {},
     "output_type": "execute_result"
    }
   ],
   "source": [
    "example"
   ]
  },
  {
   "cell_type": "markdown",
   "metadata": {},
   "source": [
    "### Regex Search\n",
    "\n",
    "- [5) 하위디렉토리 검색 \\- 점프 투 파이썬](https://wikidocs.net/39): os.walk 쓰려면 항상 참고하는 사이트\n",
    "- [15.1. os — Miscellaneous operating system interfaces — Python 2.7.10rc1 documentation](https://docs.python.org/2/library/os.html#os.walk): os.walk에 dirpath, dirnames, filenames 라고 정의해준다. 항상 이대로 쓰자. 다른것을 겹쳐서 쓰면 헷깔린다."
   ]
  },
  {
   "cell_type": "code",
   "execution_count": 168,
   "metadata": {
    "collapsed": true
   },
   "outputs": [],
   "source": [
    "import os"
   ]
  },
  {
   "cell_type": "code",
   "execution_count": 194,
   "metadata": {
    "collapsed": true
   },
   "outputs": [],
   "source": [
    "def search_text(search, dir_='.', ext='.txt'):\n",
    "    for dirpath, dirnames, filenames  in os.walk(dir_):\n",
    "        for fname in filenames:\n",
    "            try:\n",
    "                fullpath = os.path.join(dirpath, fname)\n",
    "                with open(fullpath, 'r') as f:\n",
    "                    for i, line in enumerate(f):\n",
    "                        if re.search(search, line):\n",
    "                            print('{0}:{1}: {2}'.format(fullpath, i+1, line))\n",
    "            except Exception as e:\n",
    "                print e"
   ]
  },
  {
   "cell_type": "code",
   "execution_count": 188,
   "metadata": {
    "collapsed": false
   },
   "outputs": [],
   "source": [
    "!echo 'nice\\ngood\\nabc\\n' > a.txt"
   ]
  },
  {
   "cell_type": "code",
   "execution_count": 180,
   "metadata": {
    "collapsed": false
   },
   "outputs": [
    {
     "name": "stdout",
     "output_type": "stream",
     "text": [
      "nice\r\n",
      "good\r\n",
      "abc\r\n",
      "\r\n"
     ]
    }
   ],
   "source": [
    "!cat a.txt"
   ]
  },
  {
   "cell_type": "code",
   "execution_count": 195,
   "metadata": {
    "collapsed": false,
    "scrolled": true
   },
   "outputs": [
    {
     "name": "stdout",
     "output_type": "stream",
     "text": [
      "/Users/re4lfl0w/Documents/_tmp/2/a.txt:2: good\n",
      "\n"
     ]
    }
   ],
   "source": [
    "search_text('good', '/Users/re4lfl0w/Documents/_tmp/2/', '.txt')"
   ]
  },
  {
   "cell_type": "code",
   "execution_count": null,
   "metadata": {
    "collapsed": true
   },
   "outputs": [],
   "source": []
  }
 ],
 "metadata": {
  "kernelspec": {
   "display_name": "Python 2",
   "language": "python",
   "name": "python2"
  },
  "language_info": {
   "codemirror_mode": {
    "name": "ipython",
    "version": 2
   },
   "file_extension": ".py",
   "mimetype": "text/x-python",
   "name": "python",
   "nbconvert_exporter": "python",
   "pygments_lexer": "ipython2",
   "version": "2.7.6"
  }
 },
 "nbformat": 4,
 "nbformat_minor": 0
}
