{
 "cells": [
  {
   "cell_type": "markdown",
   "metadata": {},
   "source": [
    "# ch11 Web Scraping"
   ]
  },
  {
   "cell_type": "code",
   "execution_count": 1,
   "metadata": {
    "collapsed": true
   },
   "outputs": [],
   "source": [
    "import pyperclip"
   ]
  },
  {
   "cell_type": "code",
   "execution_count": 3,
   "metadata": {
    "collapsed": false
   },
   "outputs": [
    {
     "data": {
      "text/plain": [
       "u'http://localhost:8888/notebooks/books/Automate_the_Boring_Sutff_with_Python/ch11.ipynb'"
      ]
     },
     "execution_count": 3,
     "metadata": {},
     "output_type": "execute_result"
    }
   ],
   "source": [
    "pyperclip.paste()"
   ]
  },
  {
   "cell_type": "code",
   "execution_count": 4,
   "metadata": {
    "collapsed": false
   },
   "outputs": [
    {
     "data": {
      "text/plain": [
       "unicode"
      ]
     },
     "execution_count": 4,
     "metadata": {},
     "output_type": "execute_result"
    }
   ],
   "source": [
    "pyperclip.text_type"
   ]
  },
  {
   "cell_type": "code",
   "execution_count": 9,
   "metadata": {
    "collapsed": false
   },
   "outputs": [
    {
     "data": {
      "text/plain": [
       "u'870 Valencia St, San Francisco, CA 94110'"
      ]
     },
     "execution_count": 9,
     "metadata": {},
     "output_type": "execute_result"
    }
   ],
   "source": [
    "address = pyperclip.paste()\n",
    "address"
   ]
  },
  {
   "cell_type": "code",
   "execution_count": 10,
   "metadata": {
    "collapsed": true
   },
   "outputs": [],
   "source": [
    "import webbrowser"
   ]
  },
  {
   "cell_type": "code",
   "execution_count": 11,
   "metadata": {
    "collapsed": false
   },
   "outputs": [],
   "source": [
    "url = 'https://www.google.com/maps/place/' + address"
   ]
  },
  {
   "cell_type": "code",
   "execution_count": 12,
   "metadata": {
    "collapsed": false
   },
   "outputs": [
    {
     "data": {
      "text/plain": [
       "True"
      ]
     },
     "execution_count": 12,
     "metadata": {},
     "output_type": "execute_result"
    }
   ],
   "source": [
    "webbrowser.open(url)"
   ]
  },
  {
   "cell_type": "markdown",
   "metadata": {},
   "source": [
    "### Downloading a Web Page with the requests.get() Function"
   ]
  },
  {
   "cell_type": "code",
   "execution_count": 13,
   "metadata": {
    "collapsed": true
   },
   "outputs": [],
   "source": [
    "import requests"
   ]
  },
  {
   "cell_type": "code",
   "execution_count": 14,
   "metadata": {
    "collapsed": true
   },
   "outputs": [],
   "source": [
    "res = requests.get('https://automatetheboringstuff.com/files/RomeoAndJuliet.txt')"
   ]
  },
  {
   "cell_type": "code",
   "execution_count": 15,
   "metadata": {
    "collapsed": false
   },
   "outputs": [
    {
     "data": {
      "text/plain": [
       "requests.models.Response"
      ]
     },
     "execution_count": 15,
     "metadata": {},
     "output_type": "execute_result"
    }
   ],
   "source": [
    "type(res)"
   ]
  },
  {
   "cell_type": "code",
   "execution_count": 17,
   "metadata": {
    "collapsed": false
   },
   "outputs": [
    {
     "data": {
      "text/plain": [
       "200"
      ]
     },
     "execution_count": 17,
     "metadata": {},
     "output_type": "execute_result"
    }
   ],
   "source": [
    "res.status_code"
   ]
  },
  {
   "cell_type": "code",
   "execution_count": 19,
   "metadata": {
    "collapsed": false
   },
   "outputs": [
    {
     "data": {
      "text/plain": [
       "200"
      ]
     },
     "execution_count": 19,
     "metadata": {},
     "output_type": "execute_result"
    }
   ],
   "source": [
    "requests.codes.ok"
   ]
  },
  {
   "cell_type": "code",
   "execution_count": 20,
   "metadata": {
    "collapsed": false
   },
   "outputs": [
    {
     "data": {
      "text/plain": [
       "400"
      ]
     },
     "execution_count": 20,
     "metadata": {},
     "output_type": "execute_result"
    }
   ],
   "source": [
    "requests.codes.BAD"
   ]
  },
  {
   "cell_type": "code",
   "execution_count": 18,
   "metadata": {
    "collapsed": false
   },
   "outputs": [
    {
     "data": {
      "text/plain": [
       "True"
      ]
     },
     "execution_count": 18,
     "metadata": {},
     "output_type": "execute_result"
    }
   ],
   "source": [
    "res.status_code == requests.codes.ok"
   ]
  },
  {
   "cell_type": "code",
   "execution_count": 25,
   "metadata": {
    "collapsed": false
   },
   "outputs": [
    {
     "data": {
      "text/plain": [
       "174130"
      ]
     },
     "execution_count": 25,
     "metadata": {},
     "output_type": "execute_result"
    }
   ],
   "source": [
    "len(res.text)"
   ]
  },
  {
   "cell_type": "code",
   "execution_count": 26,
   "metadata": {
    "collapsed": false
   },
   "outputs": [
    {
     "name": "stdout",
     "output_type": "stream",
     "text": [
      "ï»¿The Project Gutenberg EBook of Romeo and Juliet, by William Shakespeare\n",
      "\n",
      "This eBook is for the use of anyone anywhere at no cost and with\n",
      "almost no restrictions whatsoever.  You may copy it, give it away or\n",
      "re-use it under the terms of the Project\n"
     ]
    }
   ],
   "source": [
    "print(res.text[:250])"
   ]
  },
  {
   "cell_type": "markdown",
   "metadata": {},
   "source": [
    "### Checking for Errors\n",
    "\n",
    "- Response object는 status_code 를 가지고 있음"
   ]
  },
  {
   "cell_type": "code",
   "execution_count": 27,
   "metadata": {
    "collapsed": true
   },
   "outputs": [],
   "source": [
    "res.raise_for_status()"
   ]
  },
  {
   "cell_type": "code",
   "execution_count": 28,
   "metadata": {
    "collapsed": true
   },
   "outputs": [],
   "source": [
    "res = requests.get('http://inventwithpython.com/page_that_does_not_exist')"
   ]
  },
  {
   "cell_type": "code",
   "execution_count": 29,
   "metadata": {
    "collapsed": false
   },
   "outputs": [
    {
     "ename": "HTTPError",
     "evalue": "404 Client Error: Not Found",
     "output_type": "error",
     "traceback": [
      "\u001b[0;31m---------------------------------------------------------------------------\u001b[0m",
      "\u001b[0;31mHTTPError\u001b[0m                                 Traceback (most recent call last)",
      "\u001b[0;32m<ipython-input-29-6ec835a6a98f>\u001b[0m in \u001b[0;36m<module>\u001b[0;34m()\u001b[0m\n\u001b[0;32m----> 1\u001b[0;31m \u001b[0mres\u001b[0m\u001b[0;34m.\u001b[0m\u001b[0mraise_for_status\u001b[0m\u001b[0;34m(\u001b[0m\u001b[0;34m)\u001b[0m\u001b[0;34m\u001b[0m\u001b[0m\n\u001b[0m",
      "\u001b[0;32m/Users/re4lfl0w/.virtualenvs/general/lib/python2.7/site-packages/requests/models.pyc\u001b[0m in \u001b[0;36mraise_for_status\u001b[0;34m(self)\u001b[0m\n\u001b[1;32m    829\u001b[0m \u001b[0;34m\u001b[0m\u001b[0m\n\u001b[1;32m    830\u001b[0m         \u001b[0;32mif\u001b[0m \u001b[0mhttp_error_msg\u001b[0m\u001b[0;34m:\u001b[0m\u001b[0;34m\u001b[0m\u001b[0m\n\u001b[0;32m--> 831\u001b[0;31m             \u001b[0;32mraise\u001b[0m \u001b[0mHTTPError\u001b[0m\u001b[0;34m(\u001b[0m\u001b[0mhttp_error_msg\u001b[0m\u001b[0;34m,\u001b[0m \u001b[0mresponse\u001b[0m\u001b[0;34m=\u001b[0m\u001b[0mself\u001b[0m\u001b[0;34m)\u001b[0m\u001b[0;34m\u001b[0m\u001b[0m\n\u001b[0m\u001b[1;32m    832\u001b[0m \u001b[0;34m\u001b[0m\u001b[0m\n\u001b[1;32m    833\u001b[0m     \u001b[0;32mdef\u001b[0m \u001b[0mclose\u001b[0m\u001b[0;34m(\u001b[0m\u001b[0mself\u001b[0m\u001b[0;34m)\u001b[0m\u001b[0;34m:\u001b[0m\u001b[0;34m\u001b[0m\u001b[0m\n",
      "\u001b[0;31mHTTPError\u001b[0m: 404 Client Error: Not Found"
     ]
    }
   ],
   "source": [
    "res.raise_for_status()"
   ]
  },
  {
   "cell_type": "code",
   "execution_count": 31,
   "metadata": {
    "collapsed": false
   },
   "outputs": [
    {
     "name": "stdout",
     "output_type": "stream",
     "text": [
      "<!DOCTYPE HTML PUBLIC \"-//IETF//DTD HTML 2.0//EN\">\n",
      "<html><head>\n",
      "<title>404 Not Found</title>\n",
      "</head><body>\n",
      "<h1>Not Found</h1>\n",
      "<p>The requested URL /page_that_does_not_exist was not found on this server.</p>\n",
      "<p>Additionally, a 404 Not Found\n",
      "error was encountered while trying to use an ErrorDocument to handle the request.</p>\n",
      "</body></html>\n",
      "\n"
     ]
    }
   ],
   "source": [
    "print res.text"
   ]
  },
  {
   "cell_type": "code",
   "execution_count": 32,
   "metadata": {
    "collapsed": false
   },
   "outputs": [
    {
     "data": {
      "text/plain": [
       "404"
      ]
     },
     "execution_count": 32,
     "metadata": {},
     "output_type": "execute_result"
    }
   ],
   "source": [
    "res.status_code"
   ]
  },
  {
   "cell_type": "code",
   "execution_count": 33,
   "metadata": {
    "collapsed": false
   },
   "outputs": [
    {
     "name": "stdout",
     "output_type": "stream",
     "text": [
      "There was a problem: 404 Client Error: Not Found\n"
     ]
    }
   ],
   "source": [
    "import requests\n",
    "res = requests.get('http://inventwithpython.com/page_that_does_not_exist')\n",
    "try:\n",
    "    res.raise_for_status()\n",
    "except Exception as exc:\n",
    "    print('There was a problem: %s' % (exc))"
   ]
  },
  {
   "cell_type": "markdown",
   "metadata": {},
   "source": [
    "#### res.iter_content(10000) vs res.content\n",
    "\n",
    "- 무슨 차이일까?\n",
    "- 그냥 딱 느낌상 10000 단위로 나눠서 처리하는 것과 한 번에 처리하는 것과의 차이??\n",
    "- 그렇게 처리해서 얻는 이득은 무엇일까?\n",
    "- but it’s to ensure that the requests module doesn’t eat up too much memory even if you download massive files.\n",
    "- 크기가 큰 파일을 조금씩 저장하니까 메모리가 많이 필요하지 않아도 된다."
   ]
  },
  {
   "cell_type": "code",
   "execution_count": 81,
   "metadata": {
    "collapsed": false
   },
   "outputs": [
    {
     "name": "stdout",
     "output_type": "stream",
     "text": [
      "Writing requests_iter_content.py\n"
     ]
    }
   ],
   "source": [
    "%%writefile requests_iter_content.py\n",
    "import requests\n",
    "res = requests.get('https://automatetheboringstuff.com/files/RomeoAndJuliet.txt')\n",
    "\n",
    "res.raise_for_status()\n",
    "\n",
    "playFile = open('src/RomeoAndJuliet.txt', 'wb')\n",
    "for chunk in res.iter_content(100000):\n",
    "    playFile.write(chunk)\n",
    "playFile.close()"
   ]
  },
  {
   "cell_type": "code",
   "execution_count": 82,
   "metadata": {
    "collapsed": true
   },
   "outputs": [],
   "source": [
    "!python requests_iter_content.py"
   ]
  },
  {
   "cell_type": "code",
   "execution_count": 83,
   "metadata": {
    "collapsed": true
   },
   "outputs": [],
   "source": [
    "import requests\n",
    "res = requests.get('https://automatetheboringstuff.com/files/RomeoAndJuliet.txt')\n",
    "\n",
    "res.raise_for_status()\n",
    "\n",
    "playFile = open('src/RomeoAndJuliet_res_content.txt', 'wb')\n",
    "playFile.write(res.content)\n",
    "playFile.close()"
   ]
  },
  {
   "cell_type": "code",
   "execution_count": 76,
   "metadata": {
    "collapsed": true
   },
   "outputs": [],
   "source": [
    "import requests\n",
    "res = requests.get('https://automatetheboringstuff.com/files/RomeoAndJuliet.txt')"
   ]
  },
  {
   "cell_type": "code",
   "execution_count": 77,
   "metadata": {
    "collapsed": true
   },
   "outputs": [],
   "source": [
    "res.raise_for_status()"
   ]
  },
  {
   "cell_type": "code",
   "execution_count": 78,
   "metadata": {
    "collapsed": true
   },
   "outputs": [],
   "source": [
    "playFile = open('src/RomeoAndJuliet.txt', 'wb')"
   ]
  },
  {
   "cell_type": "code",
   "execution_count": 79,
   "metadata": {
    "collapsed": false
   },
   "outputs": [],
   "source": [
    "for chunk in res.iter_content(100000):\n",
    "    playFile.write(chunk)"
   ]
  },
  {
   "cell_type": "code",
   "execution_count": 80,
   "metadata": {
    "collapsed": true
   },
   "outputs": [],
   "source": [
    "playFile.close()"
   ]
  },
  {
   "cell_type": "code",
   "execution_count": 44,
   "metadata": {
    "collapsed": false
   },
   "outputs": [
    {
     "data": {
      "text/plain": [
       "<Response [200]>"
      ]
     },
     "execution_count": 44,
     "metadata": {},
     "output_type": "execute_result"
    }
   ],
   "source": [
    "res"
   ]
  },
  {
   "cell_type": "code",
   "execution_count": 47,
   "metadata": {
    "collapsed": false
   },
   "outputs": [
    {
     "data": {
      "text/plain": [
       "174130"
      ]
     },
     "execution_count": 47,
     "metadata": {},
     "output_type": "execute_result"
    }
   ],
   "source": [
    "len(res.text)"
   ]
  },
  {
   "cell_type": "code",
   "execution_count": 48,
   "metadata": {
    "collapsed": false
   },
   "outputs": [
    {
     "data": {
      "text/plain": [
       "174130"
      ]
     },
     "execution_count": 48,
     "metadata": {},
     "output_type": "execute_result"
    }
   ],
   "source": [
    "len(res.content)"
   ]
  },
  {
   "cell_type": "code",
   "execution_count": 51,
   "metadata": {
    "collapsed": false
   },
   "outputs": [
    {
     "data": {
      "text/plain": [
       "<<class 'requests.cookies.RequestsCookieJar'>[]>"
      ]
     },
     "execution_count": 51,
     "metadata": {},
     "output_type": "execute_result"
    }
   ],
   "source": [
    "res.cookies"
   ]
  },
  {
   "cell_type": "code",
   "execution_count": 52,
   "metadata": {
    "collapsed": false
   },
   "outputs": [
    {
     "data": {
      "text/plain": [
       "<requests.adapters.HTTPAdapter at 0x10e428a90>"
      ]
     },
     "execution_count": 52,
     "metadata": {},
     "output_type": "execute_result"
    }
   ],
   "source": [
    "res.connection"
   ]
  },
  {
   "cell_type": "code",
   "execution_count": 53,
   "metadata": {
    "collapsed": false
   },
   "outputs": [
    {
     "ename": "TypeError",
     "evalue": "'HTTPAdapter' object is not callable",
     "output_type": "error",
     "traceback": [
      "\u001b[0;31m---------------------------------------------------------------------------\u001b[0m",
      "\u001b[0;31mTypeError\u001b[0m                                 Traceback (most recent call last)",
      "\u001b[0;32m<ipython-input-53-bc2baf1c18e2>\u001b[0m in \u001b[0;36m<module>\u001b[0;34m()\u001b[0m\n\u001b[0;32m----> 1\u001b[0;31m \u001b[0mres\u001b[0m\u001b[0;34m.\u001b[0m\u001b[0mconnection\u001b[0m\u001b[0;34m(\u001b[0m\u001b[0;34m)\u001b[0m\u001b[0;34m\u001b[0m\u001b[0m\n\u001b[0m",
      "\u001b[0;31mTypeError\u001b[0m: 'HTTPAdapter' object is not callable"
     ]
    }
   ],
   "source": [
    "res.connection()"
   ]
  },
  {
   "cell_type": "code",
   "execution_count": 54,
   "metadata": {
    "collapsed": false
   },
   "outputs": [
    {
     "data": {
      "text/plain": [
       "'ISO-8859-1'"
      ]
     },
     "execution_count": 54,
     "metadata": {},
     "output_type": "execute_result"
    }
   ],
   "source": [
    "res.encoding"
   ]
  },
  {
   "cell_type": "code",
   "execution_count": 55,
   "metadata": {
    "collapsed": false
   },
   "outputs": [
    {
     "data": {
      "text/plain": [
       "u'https://automatetheboringstuff.com/files/RomeoAndJuliet.txt'"
      ]
     },
     "execution_count": 55,
     "metadata": {},
     "output_type": "execute_result"
    }
   ],
   "source": [
    "res.url"
   ]
  },
  {
   "cell_type": "code",
   "execution_count": 56,
   "metadata": {
    "collapsed": false
   },
   "outputs": [
    {
     "data": {
      "text/plain": [
       "200"
      ]
     },
     "execution_count": 56,
     "metadata": {},
     "output_type": "execute_result"
    }
   ],
   "source": [
    "res.status_code"
   ]
  },
  {
   "cell_type": "code",
   "execution_count": 57,
   "metadata": {
    "collapsed": false
   },
   "outputs": [
    {
     "data": {
      "text/plain": [
       "<PreparedRequest [GET]>"
      ]
     },
     "execution_count": 57,
     "metadata": {},
     "output_type": "execute_result"
    }
   ],
   "source": [
    "res.request"
   ]
  },
  {
   "cell_type": "code",
   "execution_count": 59,
   "metadata": {
    "collapsed": false
   },
   "outputs": [
    {
     "data": {
      "text/plain": [
       "'OK'"
      ]
     },
     "execution_count": 59,
     "metadata": {},
     "output_type": "execute_result"
    }
   ],
   "source": [
    "res.reason"
   ]
  },
  {
   "cell_type": "code",
   "execution_count": 62,
   "metadata": {
    "collapsed": false
   },
   "outputs": [
    {
     "data": {
      "text/plain": [
       "<requests.packages.urllib3.response.HTTPResponse at 0x10e410910>"
      ]
     },
     "execution_count": 62,
     "metadata": {},
     "output_type": "execute_result"
    }
   ],
   "source": [
    "res.raw"
   ]
  },
  {
   "cell_type": "code",
   "execution_count": 63,
   "metadata": {
    "collapsed": false
   },
   "outputs": [
    {
     "data": {
      "text/plain": [
       "True"
      ]
     },
     "execution_count": 63,
     "metadata": {},
     "output_type": "execute_result"
    }
   ],
   "source": [
    "res.ok"
   ]
  },
  {
   "cell_type": "code",
   "execution_count": 64,
   "metadata": {
    "collapsed": false
   },
   "outputs": [
    {
     "data": {
      "text/plain": [
       "{}"
      ]
     },
     "execution_count": 64,
     "metadata": {},
     "output_type": "execute_result"
    }
   ],
   "source": [
    "res.links"
   ]
  },
  {
   "cell_type": "code",
   "execution_count": 65,
   "metadata": {
    "collapsed": false
   },
   "outputs": [
    {
     "data": {
      "text/plain": [
       "<bound method Response.json of <Response [200]>>"
      ]
     },
     "execution_count": 65,
     "metadata": {},
     "output_type": "execute_result"
    }
   ],
   "source": [
    "res.json"
   ]
  },
  {
   "cell_type": "code",
   "execution_count": 67,
   "metadata": {
    "collapsed": false
   },
   "outputs": [
    {
     "data": {
      "text/plain": [
       "False"
      ]
     },
     "execution_count": 67,
     "metadata": {},
     "output_type": "execute_result"
    }
   ],
   "source": [
    "res.is_permanent_redirect"
   ]
  },
  {
   "cell_type": "code",
   "execution_count": 68,
   "metadata": {
    "collapsed": false
   },
   "outputs": [
    {
     "data": {
      "text/plain": [
       "[]"
      ]
     },
     "execution_count": 68,
     "metadata": {},
     "output_type": "execute_result"
    }
   ],
   "source": [
    "res.history"
   ]
  },
  {
   "cell_type": "code",
   "execution_count": 69,
   "metadata": {
    "collapsed": false
   },
   "outputs": [
    {
     "data": {
      "text/plain": [
       "datetime.timedelta(0, 1, 301650)"
      ]
     },
     "execution_count": 69,
     "metadata": {},
     "output_type": "execute_result"
    }
   ],
   "source": [
    "res.elapsed"
   ]
  },
  {
   "cell_type": "code",
   "execution_count": 70,
   "metadata": {
    "collapsed": false
   },
   "outputs": [
    {
     "data": {
      "text/plain": [
       "<<class 'requests.cookies.RequestsCookieJar'>[]>"
      ]
     },
     "execution_count": 70,
     "metadata": {},
     "output_type": "execute_result"
    }
   ],
   "source": [
    "res.cookies"
   ]
  },
  {
   "cell_type": "code",
   "execution_count": 71,
   "metadata": {
    "collapsed": false
   },
   "outputs": [
    {
     "data": {
      "text/plain": [
       "<requests.adapters.HTTPAdapter at 0x10e428a90>"
      ]
     },
     "execution_count": 71,
     "metadata": {},
     "output_type": "execute_result"
    }
   ],
   "source": [
    "res.connection"
   ]
  },
  {
   "cell_type": "code",
   "execution_count": 72,
   "metadata": {
    "collapsed": false
   },
   "outputs": [
    {
     "data": {
      "text/plain": [
       "'UTF-8-SIG'"
      ]
     },
     "execution_count": 72,
     "metadata": {},
     "output_type": "execute_result"
    }
   ],
   "source": [
    "res.apparent_encoding"
   ]
  },
  {
   "cell_type": "code",
   "execution_count": null,
   "metadata": {
    "collapsed": true
   },
   "outputs": [],
   "source": []
  },
  {
   "cell_type": "code",
   "execution_count": 85,
   "metadata": {
    "collapsed": false
   },
   "outputs": [
    {
     "data": {
      "text/plain": [
       "5"
      ]
     },
     "execution_count": 85,
     "metadata": {},
     "output_type": "execute_result"
    }
   ],
   "source": [
    "min(5, 10)"
   ]
  },
  {
   "cell_type": "markdown",
   "metadata": {},
   "source": [
    "## Project: Downloading All XKCD Comics"
   ]
  },
  {
   "cell_type": "markdown",
   "metadata": {},
   "source": [
    "### Step 1: Design the Program"
   ]
  },
  {
   "cell_type": "code",
   "execution_count": 89,
   "metadata": {
    "collapsed": true
   },
   "outputs": [],
   "source": [
    "import requests, os, bs4"
   ]
  },
  {
   "cell_type": "code",
   "execution_count": 90,
   "metadata": {
    "collapsed": true
   },
   "outputs": [],
   "source": [
    "url = 'http://xkcd.com'"
   ]
  },
  {
   "cell_type": "code",
   "execution_count": 96,
   "metadata": {
    "collapsed": false
   },
   "outputs": [
    {
     "name": "stdout",
     "output_type": "stream",
     "text": [
      "Help on function makedirs in module os:\n",
      "\n",
      "makedirs(name, mode=511)\n",
      "    makedirs(path [, mode=0777])\n",
      "    \n",
      "    Super-mkdir; create a leaf directory and all intermediate ones.\n",
      "    Works like mkdir, except that any intermediate path segment (not\n",
      "    just the rightmost) will be created if it does not exist.  This is\n",
      "    recursive.\n",
      "\n"
     ]
    }
   ],
   "source": [
    "help(os.makedirs)"
   ]
  },
  {
   "cell_type": "code",
   "execution_count": 95,
   "metadata": {
    "collapsed": false
   },
   "outputs": [
    {
     "ename": "OSError",
     "evalue": "[Errno 17] File exists: 'xkcd'",
     "output_type": "error",
     "traceback": [
      "\u001b[0;31m---------------------------------------------------------------------------\u001b[0m",
      "\u001b[0;31mOSError\u001b[0m                                   Traceback (most recent call last)",
      "\u001b[0;32m<ipython-input-95-68116fd8eaf9>\u001b[0m in \u001b[0;36m<module>\u001b[0;34m()\u001b[0m\n\u001b[0;32m----> 1\u001b[0;31m \u001b[0mos\u001b[0m\u001b[0;34m.\u001b[0m\u001b[0mmakedirs\u001b[0m\u001b[0;34m(\u001b[0m\u001b[0;34m'xkcd'\u001b[0m\u001b[0;34m)\u001b[0m\u001b[0;34m\u001b[0m\u001b[0m\n\u001b[0m",
      "\u001b[0;32m/Users/re4lfl0w/.virtualenvs/general/lib/python2.7/os.pyc\u001b[0m in \u001b[0;36mmakedirs\u001b[0;34m(name, mode)\u001b[0m\n\u001b[1;32m    155\u001b[0m         \u001b[0;32mif\u001b[0m \u001b[0mtail\u001b[0m \u001b[0;34m==\u001b[0m \u001b[0mcurdir\u001b[0m\u001b[0;34m:\u001b[0m           \u001b[0;31m# xxx/newdir/. exists if xxx/newdir exists\u001b[0m\u001b[0;34m\u001b[0m\u001b[0m\n\u001b[1;32m    156\u001b[0m             \u001b[0;32mreturn\u001b[0m\u001b[0;34m\u001b[0m\u001b[0m\n\u001b[0;32m--> 157\u001b[0;31m     \u001b[0mmkdir\u001b[0m\u001b[0;34m(\u001b[0m\u001b[0mname\u001b[0m\u001b[0;34m,\u001b[0m \u001b[0mmode\u001b[0m\u001b[0;34m)\u001b[0m\u001b[0;34m\u001b[0m\u001b[0m\n\u001b[0m\u001b[1;32m    158\u001b[0m \u001b[0;34m\u001b[0m\u001b[0m\n\u001b[1;32m    159\u001b[0m \u001b[0;32mdef\u001b[0m \u001b[0mremovedirs\u001b[0m\u001b[0;34m(\u001b[0m\u001b[0mname\u001b[0m\u001b[0;34m)\u001b[0m\u001b[0;34m:\u001b[0m\u001b[0;34m\u001b[0m\u001b[0m\n",
      "\u001b[0;31mOSError\u001b[0m: [Errno 17] File exists: 'xkcd'"
     ]
    }
   ],
   "source": [
    "os.makedirs('xkcd')"
   ]
  },
  {
   "cell_type": "code",
   "execution_count": 94,
   "metadata": {
    "collapsed": false
   },
   "outputs": [
    {
     "name": "stdout",
     "output_type": "stream",
     "text": [
      "total 576\r\n",
      "-rw-r--r--  1 re4lfl0w  staff   9528  5  7 13:21 ch06.ipynb\r\n",
      "-rw-r--r--  1 re4lfl0w  staff  46037  5 10 12:04 ch07.ipynb\r\n",
      "-rw-r--r--  1 re4lfl0w  staff  50998  5 11 21:04 ch08.ipynb\r\n",
      "-rw-r--r--  1 re4lfl0w  staff  57221  6  1 16:52 ch09.ipynb\r\n",
      "-rw-r--r--  1 re4lfl0w  staff  34256  6  2 19:03 ch10.ipynb\r\n",
      "-rw-r--r--  1 re4lfl0w  staff  22173  6  3 08:22 ch11.ipynb\r\n",
      "-rw-r--r--  1 re4lfl0w  staff    184  6  1 17:19 errorInfo.txt\r\n",
      "-rw-r--r--  1 re4lfl0w  staff    229  6  2 17:51 myProgramLog.txt\r\n",
      "-rw-r--r--  1 re4lfl0w  staff    252  6  2 20:31 requests_iter_content.py\r\n",
      "drwxr-xr-x  4 re4lfl0w  staff    136  6  2 20:38 \u001b[34msrc\u001b[m\u001b[m\r\n",
      "-rw-r--r--  1 re4lfl0w  staff    555  6  2 18:50 test_debug.py\r\n",
      "-rw-r--r--  1 re4lfl0w  staff    417  6  2 18:34 test_guess.py\r\n",
      "-rw-r--r--  1 re4lfl0w  staff    463  6  2 17:22 test_logging.py\r\n",
      "-rw-r--r--  1 re4lfl0w  staff    350  6  2 17:32 test_logging2.py\r\n",
      "-rw-r--r--  1 re4lfl0w  staff    350  6  2 17:32 test_logging_debug.py\r\n",
      "-rw-r--r--  1 re4lfl0w  staff    279  6  2 17:38 test_logging_disable.py\r\n",
      "-rw-r--r--  1 re4lfl0w  staff    277  6  2 17:39 test_logging_disable2.py\r\n",
      "-rw-r--r--  1 re4lfl0w  staff    273  6  2 17:39 test_logging_disable3.py\r\n",
      "-rw-r--r--  1 re4lfl0w  staff    274  6  2 17:39 test_logging_disable4.py\r\n",
      "-rw-r--r--  1 re4lfl0w  staff    350  6  2 17:33 test_logging_error.py\r\n",
      "-rw-r--r--  1 re4lfl0w  staff    317  6  2 17:51 test_logging_file.py\r\n",
      "-rw-r--r--  1 re4lfl0w  staff    349  6  2 17:33 test_logging_info.py\r\n",
      "drwxr-xr-x  2 re4lfl0w  staff     68  6  3 08:24 \u001b[34mxkcd\u001b[m\u001b[m\r\n"
     ]
    }
   ],
   "source": [
    "!ls -l"
   ]
  },
  {
   "cell_type": "code",
   "execution_count": null,
   "metadata": {
    "collapsed": true
   },
   "outputs": [],
   "source": [
    "\n",
    "import urlparse\n",
    "urlparse.urljoin('http://xkcd.com', '/1525/bg.png')"
   ]
  },
  {
   "cell_type": "code",
   "execution_count": 111,
   "metadata": {
    "collapsed": false,
    "scrolled": true
   },
   "outputs": [
    {
     "name": "stdout",
     "output_type": "stream",
     "text": [
      "Downloading page http://xkcd.com/119...\n",
      "Downloading image http://imgs.xkcd.com/comics/hedgeclipper.jpg...\n",
      "Downloading page http://xkcd.com/118/...\n",
      "Downloading image http://imgs.xkcd.com/comics/50_ways.png...\n",
      "Downloading page http://xkcd.com/117/...\n",
      "Downloading image http://imgs.xkcd.com/comics/pong.png...\n",
      "Downloading page http://xkcd.com/116/...\n",
      "Downloading image http://imgs.xkcd.com/comics/city.jpg...\n",
      "Downloading page http://xkcd.com/115/...\n",
      "Downloading image http://imgs.xkcd.com/comics/meerkat.jpg...\n",
      "Downloading page http://xkcd.com/114/...\n",
      "Downloading image http://imgs.xkcd.com/comics/computational_linguists.png...\n",
      "Downloading page http://xkcd.com/113/...\n",
      "Downloading image http://imgs.xkcd.com/comics/riemann-zeta.jpg...\n",
      "Downloading page http://xkcd.com/112/...\n",
      "Downloading image http://imgs.xkcd.com/comics/baring_my_heart.png...\n",
      "Downloading page http://xkcd.com/111/...\n",
      "Downloading image http://imgs.xkcd.com/comics/firefox_wicca.png...\n",
      "Downloading page http://xkcd.com/110/...\n",
      "Downloading image http://imgs.xkcd.com/comics/clark_gable.jpg...\n",
      "Downloading page http://xkcd.com/109/...\n",
      "Downloading image http://imgs.xkcd.com/comics/spoiler_alert.png...\n",
      "Downloading page http://xkcd.com/108/...\n",
      "Downloading image http://imgs.xkcd.com/comics/mc_hammer_slide.png...\n",
      "Downloading page http://xkcd.com/107/...\n",
      "Downloading image http://imgs.xkcd.com/comics/snakes_on_a_plane_2.jpg...\n",
      "Downloading page http://xkcd.com/106/...\n",
      "Downloading image http://imgs.xkcd.com/comics/wright_brothers.png...\n",
      "Downloading page http://xkcd.com/105/...\n",
      "Downloading image http://imgs.xkcd.com/comics/parallel_universe.jpg...\n",
      "Downloading page http://xkcd.com/104/...\n",
      "Downloading image http://imgs.xkcd.com/comics/find_you.jpg...\n",
      "Downloading page http://xkcd.com/103/...\n",
      "Downloading image http://imgs.xkcd.com/comics/moral_relativity.jpg...\n",
      "Downloading page http://xkcd.com/102/...\n",
      "Downloading image http://imgs.xkcd.com/comics/back_to_the_future.jpg...\n",
      "Downloading page http://xkcd.com/101/...\n",
      "Downloading image http://imgs.xkcd.com/comics/laser_scope.jpg...\n",
      "Downloading page http://xkcd.com/100/...\n",
      "Downloading image http://imgs.xkcd.com/comics/family_circus.jpg...\n",
      "Downloading page http://xkcd.com/99/...\n",
      "Downloading image http://imgs.xkcd.com/comics/binary_heart.jpg...\n",
      "Downloading page http://xkcd.com/98/...\n",
      "Downloading image http://imgs.xkcd.com/comics/fall_apart.jpg...\n",
      "Downloading page http://xkcd.com/97/...\n",
      "Downloading image http://imgs.xkcd.com/comics/a_simple_plan.jpg...\n",
      "Downloading page http://xkcd.com/96/...\n",
      "Downloading image http://imgs.xkcd.com/comics/mail.png...\n",
      "Downloading page http://xkcd.com/95/...\n",
      "Downloading image http://imgs.xkcd.com/comics/the_sierpinski_penis_game.jpg...\n",
      "Downloading page http://xkcd.com/94/...\n",
      "Downloading image http://imgs.xkcd.com/comics/profile_flowchart.jpg...\n",
      "Downloading page http://xkcd.com/93/...\n",
      "Downloading image http://imgs.xkcd.com/comics/jeremy_irons.jpg...\n",
      "Downloading page http://xkcd.com/92/...\n",
      "Downloading image http://imgs.xkcd.com/comics/sunrise.jpg...\n",
      "Downloading page http://xkcd.com/91/...\n",
      "Downloading image http://imgs.xkcd.com/comics/pwned.png...\n",
      "Downloading page http://xkcd.com/90/...\n",
      "Downloading image http://imgs.xkcd.com/comics/jacket.jpg...\n",
      "Downloading page http://xkcd.com/89/...\n",
      "Downloading image http://imgs.xkcd.com/comics/gravitational_mass.jpg...\n",
      "Downloading page http://xkcd.com/88/...\n",
      "Downloading image http://imgs.xkcd.com/comics/escher_wristband.jpg...\n",
      "Downloading page http://xkcd.com/87/...\n",
      "Downloading image http://imgs.xkcd.com/comics/velociraptors.jpg...\n",
      "Downloading page http://xkcd.com/86/...\n",
      "Downloading image http://imgs.xkcd.com/comics/sony_microsoft_mpaa_riaa_apple.jpg...\n",
      "Downloading page http://xkcd.com/85/...\n",
      "Downloading image http://imgs.xkcd.com/comics/paths.jpg...\n",
      "Downloading page http://xkcd.com/84/...\n",
      "Downloading image http://imgs.xkcd.com/comics/national_language.jpg...\n",
      "Downloading page http://xkcd.com/83/...\n",
      "Downloading image http://imgs.xkcd.com/comics/katamari.jpg...\n",
      "Downloading page http://xkcd.com/82/...\n",
      "Downloading image http://imgs.xkcd.com/comics/frame.jpg...\n",
      "Downloading page http://xkcd.com/81/...\n",
      "Downloading image http://imgs.xkcd.com/comics/attention_shopper.jpg...\n",
      "Downloading page http://xkcd.com/80/...\n",
      "Downloading image http://imgs.xkcd.com/comics/other_car.jpg...\n",
      "Downloading page http://xkcd.com/79/...\n",
      "Downloading image http://imgs.xkcd.com/comics/iambic_pentameter.jpg...\n",
      "Downloading page http://xkcd.com/78/...\n",
      "Downloading image http://imgs.xkcd.com/comics/garfield.jpg...\n",
      "Downloading page http://xkcd.com/77/...\n",
      "Downloading image http://imgs.xkcd.com/comics/bored_with_the_internet.jpg...\n",
      "Downloading page http://xkcd.com/76/...\n",
      "Downloading image http://imgs.xkcd.com/comics/familiar.jpg...\n",
      "Downloading page http://xkcd.com/75/...\n",
      "Downloading image http://imgs.xkcd.com/comics/curse_levels.jpg...\n",
      "Downloading page http://xkcd.com/74/...\n",
      "Downloading image http://imgs.xkcd.com/comics/su_doku.jpg...\n",
      "Downloading page http://xkcd.com/73/...\n",
      "Downloading image http://imgs.xkcd.com/comics/zeppelin.jpg...\n",
      "Downloading page http://xkcd.com/72/...\n",
      "Downloading image http://imgs.xkcd.com/comics/classhole.jpg...\n",
      "Downloading page http://xkcd.com/71/...\n",
      "Downloading image http://imgs.xkcd.com/comics/in_the_trees.jpg...\n",
      "Downloading page http://xkcd.com/70/...\n",
      "Downloading image http://imgs.xkcd.com/comics/guitar_hero.jpg...\n",
      "Downloading page http://xkcd.com/69/...\n",
      "Downloading image http://imgs.xkcd.com/comics/pillow_talk.jpg...\n",
      "Downloading page http://xkcd.com/68/...\n",
      "Downloading image http://imgs.xkcd.com/comics/five_thirty.jpg...\n",
      "Downloading page http://xkcd.com/67/...\n",
      "Downloading image http://imgs.xkcd.com/comics/nerd_girls.jpg...\n",
      "Downloading page http://xkcd.com/66/...\n",
      "Downloading image http://imgs.xkcd.com/comics/abusive_astronomy.jpg...\n",
      "Downloading page http://xkcd.com/65/...\n",
      "Downloading image http://imgs.xkcd.com/comics/banter.jpg...\n",
      "Downloading page http://xkcd.com/64/...\n",
      "Downloading image http://imgs.xkcd.com/comics/solar_plexus.jpg...\n",
      "Downloading page http://xkcd.com/63/...\n",
      "Downloading image http://imgs.xkcd.com/comics/valentine.jpg...\n",
      "Downloading page http://xkcd.com/62/...\n",
      "Downloading image http://imgs.xkcd.com/comics/karnaugh.jpg...\n",
      "Downloading page http://xkcd.com/61/...\n",
      "Downloading image http://imgs.xkcd.com/comics/staceys_dad.jpg...\n",
      "Downloading page http://xkcd.com/60/...\n",
      "Downloading image http://imgs.xkcd.com/comics/super_bowl.jpg...\n",
      "Downloading page http://xkcd.com/59/...\n",
      "Downloading image http://imgs.xkcd.com/comics/graduation.jpg...\n",
      "Downloading page http://xkcd.com/58/...\n",
      "Downloading image http://imgs.xkcd.com/comics/why_do_you_love_me.jpg...\n",
      "Downloading page http://xkcd.com/57/...\n",
      "Downloading image http://imgs.xkcd.com/comics/wait_for_me.jpg...\n",
      "Downloading page http://xkcd.com/56/...\n",
      "Downloading image http://imgs.xkcd.com/comics/the_cure.jpg...\n",
      "Downloading page http://xkcd.com/55/...\n",
      "Downloading image http://imgs.xkcd.com/comics/useless.jpg...\n",
      "Downloading page http://xkcd.com/54/...\n",
      "Downloading image http://imgs.xkcd.com/comics/science.jpg...\n",
      "Downloading page http://xkcd.com/53/...\n",
      "Downloading image http://imgs.xkcd.com/comics/hobby.jpg...\n",
      "Downloading page http://xkcd.com/52/...\n",
      "Downloading image http://imgs.xkcd.com/comics/secret_worlds.jpg...\n",
      "Downloading page http://xkcd.com/51/...\n",
      "Downloading image http://imgs.xkcd.com/comics/malaria.jpg...\n",
      "Downloading page http://xkcd.com/50/...\n",
      "Downloading image http://imgs.xkcd.com/comics/penny_arcade.jpg...\n",
      "Downloading page http://xkcd.com/49/...\n",
      "Downloading image http://imgs.xkcd.com/comics/want.jpg...\n",
      "Downloading page http://xkcd.com/48/...\n",
      "Downloading image http://imgs.xkcd.com/comics/found.jpg...\n",
      "Downloading page http://xkcd.com/47/...\n",
      "Downloading image http://imgs.xkcd.com/comics/counter-red-spiders.jpg...\n",
      "Downloading page http://xkcd.com/46/...\n",
      "Downloading image http://imgs.xkcd.com/comics/secrets.jpg...\n",
      "Downloading page http://xkcd.com/45/...\n",
      "Downloading image http://imgs.xkcd.com/comics/schrodinger.jpg...\n",
      "Downloading page http://xkcd.com/44/...\n",
      "Downloading image http://imgs.xkcd.com/comics/love.jpg...\n",
      "Downloading page http://xkcd.com/43/...\n",
      "Downloading image http://imgs.xkcd.com/comics/red_spiders_2.jpg...\n",
      "Downloading page http://xkcd.com/42/...\n",
      "Downloading image http://imgs.xkcd.com/comics/geico.jpg...\n",
      "Downloading page http://xkcd.com/41/...\n",
      "Downloading image http://imgs.xkcd.com/comics/unspeakable_pun.jpg...\n",
      "Downloading page http://xkcd.com/40/...\n",
      "Downloading image http://imgs.xkcd.com/comics/light.jpg...\n",
      "Downloading page http://xkcd.com/39/...\n",
      "Downloading image http://imgs.xkcd.com/comics/bowl.jpg...\n",
      "Downloading page http://xkcd.com/38/...\n",
      "Downloading image http://imgs.xkcd.com/comics/apple_jacks.jpg...\n",
      "Downloading page http://xkcd.com/37/...\n",
      "Downloading image http://imgs.xkcd.com/comics/hyphen.jpg...\n",
      "Downloading page http://xkcd.com/36/...\n",
      "Downloading image http://imgs.xkcd.com/comics/scientists.jpg...\n",
      "Downloading page http://xkcd.com/35/...\n",
      "Downloading image http://imgs.xkcd.com/comics/sheep.jpg...\n",
      "Downloading page http://xkcd.com/34/...\n",
      "Downloading image http://imgs.xkcd.com/comics/flowers.jpg...\n",
      "Downloading page http://xkcd.com/33/...\n",
      "Downloading image http://imgs.xkcd.com/comics/self-reference.jpg...\n",
      "Downloading page http://xkcd.com/32/...\n",
      "Downloading image http://imgs.xkcd.com/comics/pillar.jpg...\n",
      "Downloading page http://xkcd.com/31/...\n",
      "Downloading image http://imgs.xkcd.com/comics/barrel_part_5.jpg...\n",
      "Downloading page http://xkcd.com/30/...\n",
      "Downloading image http://imgs.xkcd.com/comics/donner.jpg...\n",
      "Downloading page http://xkcd.com/29/...\n",
      "Downloading image http://imgs.xkcd.com/comics/hitler.jpg...\n",
      "Downloading page http://xkcd.com/28/...\n",
      "Downloading image http://imgs.xkcd.com/comics/elefino.jpg...\n",
      "Downloading page http://xkcd.com/27/...\n",
      "Downloading image http://imgs.xkcd.com/comics/meat_cereals.jpg...\n",
      "Downloading page http://xkcd.com/26/...\n",
      "Downloading image http://imgs.xkcd.com/comics/fourier.jpg...\n",
      "Downloading page http://xkcd.com/25/...\n",
      "Downloading image http://imgs.xkcd.com/comics/barrel_part_4.jpg...\n",
      "Downloading page http://xkcd.com/24/...\n",
      "Downloading image http://imgs.xkcd.com/comics/godel_escher_kurthalsey.jpg...\n",
      "Downloading page http://xkcd.com/23/...\n",
      "Downloading image http://imgs.xkcd.com/comics/t-shirts.jpg...\n",
      "Downloading page http://xkcd.com/22/...\n",
      "Downloading image http://imgs.xkcd.com/comics/barrel_whirlpool.jpg...\n",
      "Downloading page http://xkcd.com/21/...\n",
      "Downloading image http://imgs.xkcd.com/comics/kepler.jpg...\n",
      "Downloading page http://xkcd.com/20/...\n",
      "Downloading image http://imgs.xkcd.com/comics/ferret.jpg...\n",
      "Downloading page http://xkcd.com/19/...\n",
      "Downloading image http://imgs.xkcd.com/comics/george_clinton.jpg...\n",
      "Downloading page http://xkcd.com/18/...\n",
      "Downloading image http://imgs.xkcd.com/comics/snapple.jpg...\n",
      "Downloading page http://xkcd.com/17/...\n",
      "Downloading image http://imgs.xkcd.com/comics/what_if.jpg...\n",
      "Downloading page http://xkcd.com/16/...\n",
      "Downloading image http://imgs.xkcd.com/comics/monty_python.jpg...\n",
      "Downloading page http://xkcd.com/15/...\n",
      "Downloading image http://imgs.xkcd.com/comics/just_alerting_you.jpg...\n",
      "Downloading page http://xkcd.com/14/...\n",
      "Downloading image http://imgs.xkcd.com/comics/copyright.jpg...\n",
      "Downloading page http://xkcd.com/13/...\n",
      "Downloading image http://imgs.xkcd.com/comics/canyon_small.jpg...\n",
      "Downloading page http://xkcd.com/12/...\n",
      "Downloading image http://imgs.xkcd.com/comics/poisson.jpg...\n",
      "Downloading page http://xkcd.com/11/...\n",
      "Downloading image http://imgs.xkcd.com/comics/barrel_mommies.jpg...\n",
      "Downloading page http://xkcd.com/10/...\n",
      "Downloading image http://imgs.xkcd.com/comics/pi.jpg...\n",
      "Downloading page http://xkcd.com/9/...\n",
      "Downloading image http://imgs.xkcd.com/comics/firefly.jpg...\n",
      "Downloading page http://xkcd.com/8/...\n",
      "Downloading image http://imgs.xkcd.com/comics/red_spiders_small.jpg...\n",
      "Downloading page http://xkcd.com/7/...\n",
      "Downloading image http://imgs.xkcd.com/comics/girl_sleeping_noline_(1).jpg...\n",
      "Downloading page http://xkcd.com/6/...\n",
      "Downloading image http://imgs.xkcd.com/comics/irony_color.jpg...\n",
      "Downloading page http://xkcd.com/5/...\n",
      "Downloading image http://imgs.xkcd.com/comics/blownapart_color.jpg...\n",
      "Downloading page http://xkcd.com/4/...\n",
      "Downloading image http://imgs.xkcd.com/comics/landscape_cropped_(1).jpg...\n",
      "Downloading page http://xkcd.com/3/...\n",
      "Downloading image http://imgs.xkcd.com/comics/island_color.jpg...\n",
      "Downloading page http://xkcd.com/2/...\n",
      "Downloading image http://imgs.xkcd.com/comics/tree_cropped_(1).jpg...\n",
      "Downloading page http://xkcd.com/1/...\n",
      "Downloading image http://imgs.xkcd.com/comics/barrel_cropped_(1).jpg...\n",
      "Done\n"
     ]
    }
   ],
   "source": [
    "import requests, os, bs4\n",
    "import re\n",
    "import urlparse\n",
    "\n",
    "url = 'http://xkcd.com/119'              # starting url\n",
    "# os.makedirs('xkcd')   # store comics in ./xkcd\n",
    "while not url.endswith('#'):\n",
    "    # Download the page.\n",
    "    print('Downloading page %s...' % url)\n",
    "    try:\n",
    "        res = requests.get(url)\n",
    "        res.raise_for_status()\n",
    "    except Exception as e:\n",
    "        print(e)\n",
    "    \n",
    "    soup = bs4.BeautifulSoup(res.text)\n",
    "    \n",
    "    # TODO: Find the URL of the comic image.\n",
    "    comicElem = soup.select('#comic img')\n",
    "    if comicElem == []:\n",
    "        print('Could not find comic image.')\n",
    "    else:\n",
    "        comicUrl = comicElem[0].get('src')\n",
    "        if comicUrl.startswith('/') or not 'http' in comicUrl:\n",
    "            comicUrl = urlparse.urljoin('http://xkcd.com', comicUrl)\n",
    "            \n",
    "        # TODO: Download the image.\n",
    "        print('Downloading image %s...' % (comicUrl))\n",
    "        res = requests.get(comicUrl)\n",
    "        res.raise_for_status()\n",
    "    \n",
    "        # TODO: Save the image to ./xkcd.\n",
    "        with open(os.path.join('xkcd', os.path.basename(comicUrl)), 'wb') as imageFile:\n",
    "            for chunk in res.iter_content(100000):\n",
    "                imageFile.write(chunk)\n",
    "    \n",
    "    # TODO: Get the Prev button's url.\n",
    "    prevLink = soup.select('a[rel=\"prev\"]')[0]\n",
    "    url = 'http://xkcd.com' + prevLink.get('href')\n",
    "    \n",
    "print('Done')"
   ]
  },
  {
   "cell_type": "code",
   "execution_count": 112,
   "metadata": {
    "collapsed": false
   },
   "outputs": [
    {
     "name": "stdout",
     "output_type": "stream",
     "text": [
      "    1529\r\n"
     ]
    }
   ],
   "source": [
    "!ls -l xkcd/ | wc -l"
   ]
  },
  {
   "cell_type": "markdown",
   "metadata": {},
   "source": [
    "### Ideas for Similar Programs\n",
    "\n",
    "- 모든 링크를 따라가서 전체 사이트를 백업한다\n",
    "- web forum에서 모든 메시지를 복사한다.\n",
    "- 온라인 스토어에서 아이템의 카탈로그를 복사해온다."
   ]
  },
  {
   "cell_type": "markdown",
   "metadata": {},
   "source": [
    "## Controlling the Browser with the selenium Module"
   ]
  },
  {
   "cell_type": "code",
   "execution_count": 86,
   "metadata": {
    "collapsed": true
   },
   "outputs": [],
   "source": [
    "from selenium import webdriver"
   ]
  },
  {
   "cell_type": "markdown",
   "metadata": {},
   "source": [
    "### Finding Elements on the Page\n",
    "\n",
    "#### Table 11-4 WebElement Attributes and methods\n",
    "\n",
    "Attribute or method | Description\n",
    "--- | ---\n",
    "tag_name | The tag name, such as 'a' for an < a> element\n",
    "get_attribute(name) | The value for the element's name attribute\n",
    "text | The text within the element, such as 'hello' in < span>hello< /span>\n",
    "clear() | For text field or text area elements, clears the text typed into it\n",
    "is_displayed() | Returns True if the element is visible; otherwise returns False\n",
    "is_enabled() | For input elements, returns True if the element is enabled; otherwise returns False\n",
    "is_selected() | For checkbox or radio button elements, returns True if the element is selected; otherwise returns False\n",
    "location | A dictionary with keys 'x' and 'y' for the position of the element in the page"
   ]
  },
  {
   "cell_type": "code",
   "execution_count": 114,
   "metadata": {
    "collapsed": false
   },
   "outputs": [
    {
     "name": "stdout",
     "output_type": "stream",
     "text": [
      "Found <img> element with that class name!\n"
     ]
    }
   ],
   "source": [
    "from selenium import webdriver\n",
    "browser = webdriver.Chrome()\n",
    "browser.get('http://inventwithpython.com')\n",
    "try:\n",
    "    elem = browser.find_element_by_class_name('bookcover')\n",
    "    print('Found <%s> element with that class name!' % (elem.tag_name))\n",
    "except:\n",
    "    print('Was not able to find an element with that name.')"
   ]
  },
  {
   "cell_type": "code",
   "execution_count": 119,
   "metadata": {
    "collapsed": false
   },
   "outputs": [],
   "source": [
    ">>> from selenium import webdriver\n",
    ">>> browser = webdriver.Chrome()\n",
    ">>> browser.get('http://inventwithpython.com')\n",
    ">>> linkElem = browser.find_element_by_link_text('Read It Online')\n",
    ">>> linkElem.click() # follows the \"Read It Online\" link"
   ]
  },
  {
   "cell_type": "code",
   "execution_count": 118,
   "metadata": {
    "collapsed": false
   },
   "outputs": [
    {
     "data": {
      "text/plain": [
       "selenium.webdriver.remote.webelement.WebElement"
      ]
     },
     "execution_count": 118,
     "metadata": {},
     "output_type": "execute_result"
    }
   ],
   "source": [
    "type(linkElem)"
   ]
  },
  {
   "cell_type": "code",
   "execution_count": 121,
   "metadata": {
    "collapsed": false
   },
   "outputs": [
    {
     "data": {
      "text/plain": [
       "['_execute',\n",
       " '_id',\n",
       " '_parent',\n",
       " '_upload',\n",
       " 'clear',\n",
       " 'click',\n",
       " 'find_element',\n",
       " 'find_element_by_class_name',\n",
       " 'find_element_by_css_selector',\n",
       " 'find_element_by_id',\n",
       " 'find_element_by_link_text',\n",
       " 'find_element_by_name',\n",
       " 'find_element_by_partial_link_text',\n",
       " 'find_element_by_tag_name',\n",
       " 'find_element_by_xpath',\n",
       " 'find_elements',\n",
       " 'find_elements_by_class_name',\n",
       " 'find_elements_by_css_selector',\n",
       " 'find_elements_by_id',\n",
       " 'find_elements_by_link_text',\n",
       " 'find_elements_by_name',\n",
       " 'find_elements_by_partial_link_text',\n",
       " 'find_elements_by_tag_name',\n",
       " 'find_elements_by_xpath',\n",
       " 'get_attribute',\n",
       " 'id',\n",
       " 'is_displayed',\n",
       " 'is_enabled',\n",
       " 'is_selected',\n",
       " 'location',\n",
       " 'location_once_scrolled_into_view',\n",
       " 'parent',\n",
       " 'rect',\n",
       " 'send_keys',\n",
       " 'size',\n",
       " 'submit',\n",
       " 'tag_name',\n",
       " 'text',\n",
       " 'value_of_css_property']"
      ]
     },
     "execution_count": 121,
     "metadata": {},
     "output_type": "execute_result"
    }
   ],
   "source": [
    "[attr for attr in dir(linkElem) if not '__' in attr]"
   ]
  },
  {
   "cell_type": "markdown",
   "metadata": {},
   "source": [
    "### Filling Out and Submitting Forms\n",
    "\n",
    "- gmail.com 양식이 바뀌었음\n",
    "- id 입력하고 pw 입력해야 됨\n",
    "- 근데 id만 알면 그 사람 이름을 알 수 있는 취약점이 존재하는데 왜 이렇게 만들었을까??"
   ]
  },
  {
   "cell_type": "code",
   "execution_count": 1,
   "metadata": {
    "collapsed": false
   },
   "outputs": [],
   "source": [
    ">>> from selenium import webdriver\n",
    ">>> browser = webdriver.Chrome()\n",
    ">>> browser.get('http://gmail.com')\n",
    ">>> emailElem = browser.find_element_by_id('Email')\n",
    ">>> emailElem.send_keys('not_my_real_email@gmail.com')\n",
    ">>> passwordElem = browser.find_element_by_id('Passwd')\n",
    ">>> passwordElem.send_keys('12345')\n",
    ">>> passwordElem.submit()"
   ]
  },
  {
   "cell_type": "markdown",
   "metadata": {},
   "source": [
    "### Sending Special Keys\n",
    "\n",
    "#### Table 11-5. Commonly Used Variables in the selenium.webdriver.common.keys Module\n",
    "\n",
    "Attributes | Meanings\n",
    "--- | ---\n",
    "Keys.DOWN, Keys.UP, Keys.LEFT, Keys.RIGHT | The keyboard arrow keys\n",
    "Keys.ENTER, Keys.RETURN | The ENTER and RETURN keys\n",
    "Keys.HOME, Keys.END, Keys.PAGE_DOWN, Keys.PAGE_UP | The home, end, pagedown, and pageup keys\n",
    "Keys.ESCAPE, Keys.BACK_SPACE, Keys.DELETE | The ESC, BACKSPACE, and DELETE keys\n",
    "Keys.F1, Keys.F2, ⋯, Keys.F12 | The F1 to F12 keys at the top of the keyboard\n",
    "Keys.TAB | The TAB key"
   ]
  },
  {
   "cell_type": "code",
   "execution_count": 149,
   "metadata": {
    "collapsed": true
   },
   "outputs": [],
   "source": [
    "webdriver.Firefox?"
   ]
  },
  {
   "cell_type": "code",
   "execution_count": 161,
   "metadata": {
    "collapsed": false
   },
   "outputs": [
    {
     "ename": "WebDriverException",
     "evalue": "Message: unknown error: cannot focus element\n  (Session info: chrome=43.0.2357.81)\n  (Driver info: chromedriver=2.9.248307,platform=Mac OS X 10.10.3 x86_64)\n",
     "output_type": "error",
     "traceback": [
      "\u001b[0;31m---------------------------------------------------------------------------\u001b[0m",
      "\u001b[0;31mWebDriverException\u001b[0m                        Traceback (most recent call last)",
      "\u001b[0;32m<ipython-input-161-6a2496ba346a>\u001b[0m in \u001b[0;36m<module>\u001b[0;34m()\u001b[0m\n\u001b[1;32m      4\u001b[0m \u001b[0mbrowser\u001b[0m\u001b[0;34m.\u001b[0m\u001b[0mget\u001b[0m\u001b[0;34m(\u001b[0m\u001b[0;34m'http://nostarch.com'\u001b[0m\u001b[0;34m)\u001b[0m\u001b[0;34m\u001b[0m\u001b[0m\n\u001b[1;32m      5\u001b[0m \u001b[0mhtmlElem\u001b[0m \u001b[0;34m=\u001b[0m \u001b[0mbrowser\u001b[0m\u001b[0;34m.\u001b[0m\u001b[0mfind_element_by_tag_name\u001b[0m\u001b[0;34m(\u001b[0m\u001b[0;34m'html'\u001b[0m\u001b[0;34m)\u001b[0m\u001b[0;34m\u001b[0m\u001b[0m\n\u001b[0;32m----> 6\u001b[0;31m \u001b[0mhtmlElem\u001b[0m\u001b[0;34m.\u001b[0m\u001b[0msend_keys\u001b[0m\u001b[0;34m(\u001b[0m\u001b[0mKeys\u001b[0m\u001b[0;34m.\u001b[0m\u001b[0mEND\u001b[0m\u001b[0;34m)\u001b[0m     \u001b[0;31m# scrolls to bottom\u001b[0m\u001b[0;34m\u001b[0m\u001b[0m\n\u001b[0m\u001b[1;32m      7\u001b[0m \u001b[0;31m# >>> htmlElem.send_keys(Keys.HOME)    # scrolls to top\u001b[0m\u001b[0;34m\u001b[0m\u001b[0;34m\u001b[0m\u001b[0m\n",
      "\u001b[0;32m/Users/re4lfl0w/.virtualenvs/general/lib/python2.7/site-packages/selenium/webdriver/remote/webelement.pyc\u001b[0m in \u001b[0;36msend_keys\u001b[0;34m(self, *value)\u001b[0m\n\u001b[1;32m    301\u001b[0m                 \u001b[0;32mfor\u001b[0m \u001b[0mi\u001b[0m \u001b[0;32min\u001b[0m \u001b[0mrange\u001b[0m\u001b[0;34m(\u001b[0m\u001b[0mlen\u001b[0m\u001b[0;34m(\u001b[0m\u001b[0mval\u001b[0m\u001b[0;34m)\u001b[0m\u001b[0;34m)\u001b[0m\u001b[0;34m:\u001b[0m\u001b[0;34m\u001b[0m\u001b[0m\n\u001b[1;32m    302\u001b[0m                     \u001b[0mtyping\u001b[0m\u001b[0;34m.\u001b[0m\u001b[0mappend\u001b[0m\u001b[0;34m(\u001b[0m\u001b[0mval\u001b[0m\u001b[0;34m[\u001b[0m\u001b[0mi\u001b[0m\u001b[0;34m]\u001b[0m\u001b[0;34m)\u001b[0m\u001b[0;34m\u001b[0m\u001b[0m\n\u001b[0;32m--> 303\u001b[0;31m         \u001b[0mself\u001b[0m\u001b[0;34m.\u001b[0m\u001b[0m_execute\u001b[0m\u001b[0;34m(\u001b[0m\u001b[0mCommand\u001b[0m\u001b[0;34m.\u001b[0m\u001b[0mSEND_KEYS_TO_ELEMENT\u001b[0m\u001b[0;34m,\u001b[0m \u001b[0;34m{\u001b[0m\u001b[0;34m'value'\u001b[0m\u001b[0;34m:\u001b[0m \u001b[0mtyping\u001b[0m\u001b[0;34m}\u001b[0m\u001b[0;34m)\u001b[0m\u001b[0;34m\u001b[0m\u001b[0m\n\u001b[0m\u001b[1;32m    304\u001b[0m \u001b[0;34m\u001b[0m\u001b[0m\n\u001b[1;32m    305\u001b[0m     \u001b[0;31m# RenderedWebElement Items\u001b[0m\u001b[0;34m\u001b[0m\u001b[0;34m\u001b[0m\u001b[0m\n",
      "\u001b[0;32m/Users/re4lfl0w/.virtualenvs/general/lib/python2.7/site-packages/selenium/webdriver/remote/webelement.pyc\u001b[0m in \u001b[0;36m_execute\u001b[0;34m(self, command, params)\u001b[0m\n\u001b[1;32m    383\u001b[0m             \u001b[0mparams\u001b[0m \u001b[0;34m=\u001b[0m \u001b[0;34m{\u001b[0m\u001b[0;34m}\u001b[0m\u001b[0;34m\u001b[0m\u001b[0m\n\u001b[1;32m    384\u001b[0m         \u001b[0mparams\u001b[0m\u001b[0;34m[\u001b[0m\u001b[0;34m'id'\u001b[0m\u001b[0;34m]\u001b[0m \u001b[0;34m=\u001b[0m \u001b[0mself\u001b[0m\u001b[0;34m.\u001b[0m\u001b[0m_id\u001b[0m\u001b[0;34m\u001b[0m\u001b[0m\n\u001b[0;32m--> 385\u001b[0;31m         \u001b[0;32mreturn\u001b[0m \u001b[0mself\u001b[0m\u001b[0;34m.\u001b[0m\u001b[0m_parent\u001b[0m\u001b[0;34m.\u001b[0m\u001b[0mexecute\u001b[0m\u001b[0;34m(\u001b[0m\u001b[0mcommand\u001b[0m\u001b[0;34m,\u001b[0m \u001b[0mparams\u001b[0m\u001b[0;34m)\u001b[0m\u001b[0;34m\u001b[0m\u001b[0m\n\u001b[0m\u001b[1;32m    386\u001b[0m \u001b[0;34m\u001b[0m\u001b[0m\n\u001b[1;32m    387\u001b[0m     \u001b[0;32mdef\u001b[0m \u001b[0mfind_element\u001b[0m\u001b[0;34m(\u001b[0m\u001b[0mself\u001b[0m\u001b[0;34m,\u001b[0m \u001b[0mby\u001b[0m\u001b[0;34m=\u001b[0m\u001b[0mBy\u001b[0m\u001b[0;34m.\u001b[0m\u001b[0mID\u001b[0m\u001b[0;34m,\u001b[0m \u001b[0mvalue\u001b[0m\u001b[0;34m=\u001b[0m\u001b[0mNone\u001b[0m\u001b[0;34m)\u001b[0m\u001b[0;34m:\u001b[0m\u001b[0;34m\u001b[0m\u001b[0m\n",
      "\u001b[0;32m/Users/re4lfl0w/.virtualenvs/general/lib/python2.7/site-packages/selenium/webdriver/remote/webdriver.pyc\u001b[0m in \u001b[0;36mexecute\u001b[0;34m(self, driver_command, params)\u001b[0m\n\u001b[1;32m    171\u001b[0m         \u001b[0mresponse\u001b[0m \u001b[0;34m=\u001b[0m \u001b[0mself\u001b[0m\u001b[0;34m.\u001b[0m\u001b[0mcommand_executor\u001b[0m\u001b[0;34m.\u001b[0m\u001b[0mexecute\u001b[0m\u001b[0;34m(\u001b[0m\u001b[0mdriver_command\u001b[0m\u001b[0;34m,\u001b[0m \u001b[0mparams\u001b[0m\u001b[0;34m)\u001b[0m\u001b[0;34m\u001b[0m\u001b[0m\n\u001b[1;32m    172\u001b[0m         \u001b[0;32mif\u001b[0m \u001b[0mresponse\u001b[0m\u001b[0;34m:\u001b[0m\u001b[0;34m\u001b[0m\u001b[0m\n\u001b[0;32m--> 173\u001b[0;31m             \u001b[0mself\u001b[0m\u001b[0;34m.\u001b[0m\u001b[0merror_handler\u001b[0m\u001b[0;34m.\u001b[0m\u001b[0mcheck_response\u001b[0m\u001b[0;34m(\u001b[0m\u001b[0mresponse\u001b[0m\u001b[0;34m)\u001b[0m\u001b[0;34m\u001b[0m\u001b[0m\n\u001b[0m\u001b[1;32m    174\u001b[0m             response['value'] = self._unwrap_value(\n\u001b[1;32m    175\u001b[0m                 response.get('value', None))\n",
      "\u001b[0;32m/Users/re4lfl0w/.virtualenvs/general/lib/python2.7/site-packages/selenium/webdriver/remote/errorhandler.pyc\u001b[0m in \u001b[0;36mcheck_response\u001b[0;34m(self, response)\u001b[0m\n\u001b[1;32m    164\u001b[0m         \u001b[0;32melif\u001b[0m \u001b[0mexception_class\u001b[0m \u001b[0;34m==\u001b[0m \u001b[0mUnexpectedAlertPresentException\u001b[0m \u001b[0;32mand\u001b[0m \u001b[0;34m'alert'\u001b[0m \u001b[0;32min\u001b[0m \u001b[0mvalue\u001b[0m\u001b[0;34m:\u001b[0m\u001b[0;34m\u001b[0m\u001b[0m\n\u001b[1;32m    165\u001b[0m             \u001b[0;32mraise\u001b[0m \u001b[0mexception_class\u001b[0m\u001b[0;34m(\u001b[0m\u001b[0mmessage\u001b[0m\u001b[0;34m,\u001b[0m \u001b[0mscreen\u001b[0m\u001b[0;34m,\u001b[0m \u001b[0mstacktrace\u001b[0m\u001b[0;34m,\u001b[0m \u001b[0mvalue\u001b[0m\u001b[0;34m[\u001b[0m\u001b[0;34m'alert'\u001b[0m\u001b[0;34m]\u001b[0m\u001b[0;34m.\u001b[0m\u001b[0mget\u001b[0m\u001b[0;34m(\u001b[0m\u001b[0;34m'text'\u001b[0m\u001b[0;34m)\u001b[0m\u001b[0;34m)\u001b[0m\u001b[0;34m\u001b[0m\u001b[0m\n\u001b[0;32m--> 166\u001b[0;31m         \u001b[0;32mraise\u001b[0m \u001b[0mexception_class\u001b[0m\u001b[0;34m(\u001b[0m\u001b[0mmessage\u001b[0m\u001b[0;34m,\u001b[0m \u001b[0mscreen\u001b[0m\u001b[0;34m,\u001b[0m \u001b[0mstacktrace\u001b[0m\u001b[0;34m)\u001b[0m\u001b[0;34m\u001b[0m\u001b[0m\n\u001b[0m\u001b[1;32m    167\u001b[0m \u001b[0;34m\u001b[0m\u001b[0m\n\u001b[1;32m    168\u001b[0m     \u001b[0;32mdef\u001b[0m \u001b[0m_value_or_default\u001b[0m\u001b[0;34m(\u001b[0m\u001b[0mself\u001b[0m\u001b[0;34m,\u001b[0m \u001b[0mobj\u001b[0m\u001b[0;34m,\u001b[0m \u001b[0mkey\u001b[0m\u001b[0;34m,\u001b[0m \u001b[0mdefault\u001b[0m\u001b[0;34m)\u001b[0m\u001b[0;34m:\u001b[0m\u001b[0;34m\u001b[0m\u001b[0m\n",
      "\u001b[0;31mWebDriverException\u001b[0m: Message: unknown error: cannot focus element\n  (Session info: chrome=43.0.2357.81)\n  (Driver info: chromedriver=2.9.248307,platform=Mac OS X 10.10.3 x86_64)\n"
     ]
    }
   ],
   "source": [
    ">>> from selenium import webdriver\n",
    ">>> from selenium.webdriver.common.keys import Keys\n",
    ">>> browser = webdriver.Chrome()\n",
    ">>> browser.get('http://nostarch.com')\n",
    ">>> htmlElem = browser.find_element_by_tag_name('html')\n",
    ">>> htmlElem.send_keys(Keys.END)     # scrolls to bottom\n",
    "# >>> htmlElem.send_keys(Keys.HOME)    # scrolls to top"
   ]
  },
  {
   "cell_type": "code",
   "execution_count": 162,
   "metadata": {
    "collapsed": false
   },
   "outputs": [
    {
     "ename": "WebDriverException",
     "evalue": "Message: unknown error: cannot focus element\n  (Session info: chrome=43.0.2357.81)\n  (Driver info: chromedriver=2.9.248307,platform=Mac OS X 10.10.3 x86_64)\n",
     "output_type": "error",
     "traceback": [
      "\u001b[0;31m---------------------------------------------------------------------------\u001b[0m",
      "\u001b[0;31mWebDriverException\u001b[0m                        Traceback (most recent call last)",
      "\u001b[0;32m<ipython-input-162-9384055ca083>\u001b[0m in \u001b[0;36m<module>\u001b[0;34m()\u001b[0m\n\u001b[0;32m----> 1\u001b[0;31m \u001b[0mhtmlElem\u001b[0m\u001b[0;34m.\u001b[0m\u001b[0msend_keys\u001b[0m\u001b[0;34m(\u001b[0m\u001b[0mKeys\u001b[0m\u001b[0;34m.\u001b[0m\u001b[0mEND\u001b[0m\u001b[0;34m)\u001b[0m\u001b[0;34m\u001b[0m\u001b[0m\n\u001b[0m",
      "\u001b[0;32m/Users/re4lfl0w/.virtualenvs/general/lib/python2.7/site-packages/selenium/webdriver/remote/webelement.pyc\u001b[0m in \u001b[0;36msend_keys\u001b[0;34m(self, *value)\u001b[0m\n\u001b[1;32m    301\u001b[0m                 \u001b[0;32mfor\u001b[0m \u001b[0mi\u001b[0m \u001b[0;32min\u001b[0m \u001b[0mrange\u001b[0m\u001b[0;34m(\u001b[0m\u001b[0mlen\u001b[0m\u001b[0;34m(\u001b[0m\u001b[0mval\u001b[0m\u001b[0;34m)\u001b[0m\u001b[0;34m)\u001b[0m\u001b[0;34m:\u001b[0m\u001b[0;34m\u001b[0m\u001b[0m\n\u001b[1;32m    302\u001b[0m                     \u001b[0mtyping\u001b[0m\u001b[0;34m.\u001b[0m\u001b[0mappend\u001b[0m\u001b[0;34m(\u001b[0m\u001b[0mval\u001b[0m\u001b[0;34m[\u001b[0m\u001b[0mi\u001b[0m\u001b[0;34m]\u001b[0m\u001b[0;34m)\u001b[0m\u001b[0;34m\u001b[0m\u001b[0m\n\u001b[0;32m--> 303\u001b[0;31m         \u001b[0mself\u001b[0m\u001b[0;34m.\u001b[0m\u001b[0m_execute\u001b[0m\u001b[0;34m(\u001b[0m\u001b[0mCommand\u001b[0m\u001b[0;34m.\u001b[0m\u001b[0mSEND_KEYS_TO_ELEMENT\u001b[0m\u001b[0;34m,\u001b[0m \u001b[0;34m{\u001b[0m\u001b[0;34m'value'\u001b[0m\u001b[0;34m:\u001b[0m \u001b[0mtyping\u001b[0m\u001b[0;34m}\u001b[0m\u001b[0;34m)\u001b[0m\u001b[0;34m\u001b[0m\u001b[0m\n\u001b[0m\u001b[1;32m    304\u001b[0m \u001b[0;34m\u001b[0m\u001b[0m\n\u001b[1;32m    305\u001b[0m     \u001b[0;31m# RenderedWebElement Items\u001b[0m\u001b[0;34m\u001b[0m\u001b[0;34m\u001b[0m\u001b[0m\n",
      "\u001b[0;32m/Users/re4lfl0w/.virtualenvs/general/lib/python2.7/site-packages/selenium/webdriver/remote/webelement.pyc\u001b[0m in \u001b[0;36m_execute\u001b[0;34m(self, command, params)\u001b[0m\n\u001b[1;32m    383\u001b[0m             \u001b[0mparams\u001b[0m \u001b[0;34m=\u001b[0m \u001b[0;34m{\u001b[0m\u001b[0;34m}\u001b[0m\u001b[0;34m\u001b[0m\u001b[0m\n\u001b[1;32m    384\u001b[0m         \u001b[0mparams\u001b[0m\u001b[0;34m[\u001b[0m\u001b[0;34m'id'\u001b[0m\u001b[0;34m]\u001b[0m \u001b[0;34m=\u001b[0m \u001b[0mself\u001b[0m\u001b[0;34m.\u001b[0m\u001b[0m_id\u001b[0m\u001b[0;34m\u001b[0m\u001b[0m\n\u001b[0;32m--> 385\u001b[0;31m         \u001b[0;32mreturn\u001b[0m \u001b[0mself\u001b[0m\u001b[0;34m.\u001b[0m\u001b[0m_parent\u001b[0m\u001b[0;34m.\u001b[0m\u001b[0mexecute\u001b[0m\u001b[0;34m(\u001b[0m\u001b[0mcommand\u001b[0m\u001b[0;34m,\u001b[0m \u001b[0mparams\u001b[0m\u001b[0;34m)\u001b[0m\u001b[0;34m\u001b[0m\u001b[0m\n\u001b[0m\u001b[1;32m    386\u001b[0m \u001b[0;34m\u001b[0m\u001b[0m\n\u001b[1;32m    387\u001b[0m     \u001b[0;32mdef\u001b[0m \u001b[0mfind_element\u001b[0m\u001b[0;34m(\u001b[0m\u001b[0mself\u001b[0m\u001b[0;34m,\u001b[0m \u001b[0mby\u001b[0m\u001b[0;34m=\u001b[0m\u001b[0mBy\u001b[0m\u001b[0;34m.\u001b[0m\u001b[0mID\u001b[0m\u001b[0;34m,\u001b[0m \u001b[0mvalue\u001b[0m\u001b[0;34m=\u001b[0m\u001b[0mNone\u001b[0m\u001b[0;34m)\u001b[0m\u001b[0;34m:\u001b[0m\u001b[0;34m\u001b[0m\u001b[0m\n",
      "\u001b[0;32m/Users/re4lfl0w/.virtualenvs/general/lib/python2.7/site-packages/selenium/webdriver/remote/webdriver.pyc\u001b[0m in \u001b[0;36mexecute\u001b[0;34m(self, driver_command, params)\u001b[0m\n\u001b[1;32m    171\u001b[0m         \u001b[0mresponse\u001b[0m \u001b[0;34m=\u001b[0m \u001b[0mself\u001b[0m\u001b[0;34m.\u001b[0m\u001b[0mcommand_executor\u001b[0m\u001b[0;34m.\u001b[0m\u001b[0mexecute\u001b[0m\u001b[0;34m(\u001b[0m\u001b[0mdriver_command\u001b[0m\u001b[0;34m,\u001b[0m \u001b[0mparams\u001b[0m\u001b[0;34m)\u001b[0m\u001b[0;34m\u001b[0m\u001b[0m\n\u001b[1;32m    172\u001b[0m         \u001b[0;32mif\u001b[0m \u001b[0mresponse\u001b[0m\u001b[0;34m:\u001b[0m\u001b[0;34m\u001b[0m\u001b[0m\n\u001b[0;32m--> 173\u001b[0;31m             \u001b[0mself\u001b[0m\u001b[0;34m.\u001b[0m\u001b[0merror_handler\u001b[0m\u001b[0;34m.\u001b[0m\u001b[0mcheck_response\u001b[0m\u001b[0;34m(\u001b[0m\u001b[0mresponse\u001b[0m\u001b[0;34m)\u001b[0m\u001b[0;34m\u001b[0m\u001b[0m\n\u001b[0m\u001b[1;32m    174\u001b[0m             response['value'] = self._unwrap_value(\n\u001b[1;32m    175\u001b[0m                 response.get('value', None))\n",
      "\u001b[0;32m/Users/re4lfl0w/.virtualenvs/general/lib/python2.7/site-packages/selenium/webdriver/remote/errorhandler.pyc\u001b[0m in \u001b[0;36mcheck_response\u001b[0;34m(self, response)\u001b[0m\n\u001b[1;32m    164\u001b[0m         \u001b[0;32melif\u001b[0m \u001b[0mexception_class\u001b[0m \u001b[0;34m==\u001b[0m \u001b[0mUnexpectedAlertPresentException\u001b[0m \u001b[0;32mand\u001b[0m \u001b[0;34m'alert'\u001b[0m \u001b[0;32min\u001b[0m \u001b[0mvalue\u001b[0m\u001b[0;34m:\u001b[0m\u001b[0;34m\u001b[0m\u001b[0m\n\u001b[1;32m    165\u001b[0m             \u001b[0;32mraise\u001b[0m \u001b[0mexception_class\u001b[0m\u001b[0;34m(\u001b[0m\u001b[0mmessage\u001b[0m\u001b[0;34m,\u001b[0m \u001b[0mscreen\u001b[0m\u001b[0;34m,\u001b[0m \u001b[0mstacktrace\u001b[0m\u001b[0;34m,\u001b[0m \u001b[0mvalue\u001b[0m\u001b[0;34m[\u001b[0m\u001b[0;34m'alert'\u001b[0m\u001b[0;34m]\u001b[0m\u001b[0;34m.\u001b[0m\u001b[0mget\u001b[0m\u001b[0;34m(\u001b[0m\u001b[0;34m'text'\u001b[0m\u001b[0;34m)\u001b[0m\u001b[0;34m)\u001b[0m\u001b[0;34m\u001b[0m\u001b[0m\n\u001b[0;32m--> 166\u001b[0;31m         \u001b[0;32mraise\u001b[0m \u001b[0mexception_class\u001b[0m\u001b[0;34m(\u001b[0m\u001b[0mmessage\u001b[0m\u001b[0;34m,\u001b[0m \u001b[0mscreen\u001b[0m\u001b[0;34m,\u001b[0m \u001b[0mstacktrace\u001b[0m\u001b[0;34m)\u001b[0m\u001b[0;34m\u001b[0m\u001b[0m\n\u001b[0m\u001b[1;32m    167\u001b[0m \u001b[0;34m\u001b[0m\u001b[0m\n\u001b[1;32m    168\u001b[0m     \u001b[0;32mdef\u001b[0m \u001b[0m_value_or_default\u001b[0m\u001b[0;34m(\u001b[0m\u001b[0mself\u001b[0m\u001b[0;34m,\u001b[0m \u001b[0mobj\u001b[0m\u001b[0;34m,\u001b[0m \u001b[0mkey\u001b[0m\u001b[0;34m,\u001b[0m \u001b[0mdefault\u001b[0m\u001b[0;34m)\u001b[0m\u001b[0;34m:\u001b[0m\u001b[0;34m\u001b[0m\u001b[0m\n",
      "\u001b[0;31mWebDriverException\u001b[0m: Message: unknown error: cannot focus element\n  (Session info: chrome=43.0.2357.81)\n  (Driver info: chromedriver=2.9.248307,platform=Mac OS X 10.10.3 x86_64)\n"
     ]
    }
   ],
   "source": [
    "htmlElem.send_keys(Keys.END)"
   ]
  },
  {
   "cell_type": "markdown",
   "metadata": {},
   "source": [
    "## Summary\n",
    "\n",
    "- 너의 컴퓨터에서 지겨운 작업은 제한되어 있지 않다.\n",
    "- 프로그램적으로 웹페이지를 다운로드 하는 것을 인터넷으로 확장한다.\n",
    "- requests가 다운할 수 있게 만들어 주고, HTML 기본 컨셉과 selector에 대한 것을 알아야 한다.\n",
    "- BeautifulSoup으로 페이지를 파싱할 수 있다.\n",
    "- 어떤 웹기반의 작업을 하려면 web brower를 제어할 수 있는 selenium을 사용해야 한다.\n",
    "- 프로그래머 툴킷으로 아주 좋다."
   ]
  },
  {
   "cell_type": "markdown",
   "metadata": {},
   "source": [
    "## Practice Projects\n",
    "\n",
    "### Command Line Emailer\n",
    "\n",
    "### Images Site Downloader\n",
    "\n",
    "### 2048\n",
    "\n",
    "### Link Verification"
   ]
  }
 ],
 "metadata": {
  "kernelspec": {
   "display_name": "Python 2",
   "language": "python",
   "name": "python2"
  },
  "language_info": {
   "codemirror_mode": {
    "name": "ipython",
    "version": 2
   },
   "file_extension": ".py",
   "mimetype": "text/x-python",
   "name": "python",
   "nbconvert_exporter": "python",
   "pygments_lexer": "ipython2",
   "version": "2.7.6"
  }
 },
 "nbformat": 4,
 "nbformat_minor": 0
}
