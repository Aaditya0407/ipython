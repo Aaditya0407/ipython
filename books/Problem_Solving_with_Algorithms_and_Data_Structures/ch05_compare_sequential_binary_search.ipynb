{
 "metadata": {
  "name": "",
  "signature": "sha256:0e50e7c5c1f18384d1f75b860f40b1b8df5ec7e4d4caa6bdc6e05c0edcd442de"
 },
 "nbformat": 3,
 "nbformat_minor": 0,
 "worksheets": [
  {
   "cells": [
    {
     "cell_type": "markdown",
     "metadata": {},
     "source": [
      "# Sequential Search & Binary Search \ube44\uad50\n",
      "\n",
      "- [\uc774\uacbd\ubb38 \\- \uc77c\ubc18\uc801\uc73c\ub85c binary search\uac00 sequential search\ubcf4\ub2e4 \ube60\ub974\ub2e4. \ud558\uc9c0\ub9cc \uadf8... | Facebook](https://www.facebook.com/gilgil1973/posts/10204538553038045): \uc9dc\ubcf4\uac8c \ub41c \uacc4\uae30\n",
      "- [gist:74bfb22f2bf03ca1004c](https://gist.github.com/minjang/74bfb22f2bf03ca1004c): \uace0\uc218\ub2d8\uc758 \ucf54\ub4dc..\n",
      "- [clang\uc73c\ub85c \ucef4\ud30c\uc77c, LLVM -O3 \ube44\ud2b8\ucf54\ub4dc, 900\ub77c\uc778 gist:529342cf436aa498b55b](https://gist.github.com/minjang/529342cf436aa498b55b)\n"
     ]
    },
    {
     "cell_type": "code",
     "collapsed": false,
     "input": [
      "def sequentialSearch(alist, item):\n",
      "    pos = 0\n",
      "    found = False\n",
      "    count = len(alist)\n",
      "    while pos < count and not found:\n",
      "        if alist[pos] == item:\n",
      "            found = True\n",
      "        else:\n",
      "            pos = pos + 1\n",
      "    return found"
     ],
     "language": "python",
     "metadata": {},
     "outputs": [],
     "prompt_number": 94
    },
    {
     "cell_type": "code",
     "collapsed": false,
     "input": [
      "def sequentialSearch_release(alist, item):\n",
      "    pos = 0\n",
      "    found = False\n",
      "\n",
      "    return alist[0] == item or alist[1] == item or alist[2] == item"
     ],
     "language": "python",
     "metadata": {},
     "outputs": [],
     "prompt_number": 95
    },
    {
     "cell_type": "code",
     "collapsed": false,
     "input": [
      "def binarySearch(alist, item):\n",
      "    alist.sort()\n",
      "    \n",
      "    first = 0\n",
      "    last = len(alist) - 1\n",
      "    found = False\n",
      "\n",
      "    while first <= last and not found:\n",
      "        midpoint = (first + last) // 2\n",
      "        if alist[midpoint] == item:\n",
      "            found = True\n",
      "        else:\n",
      "            if item < alist[midpoint]:\n",
      "                last = midpoint - 1\n",
      "            else:\n",
      "                first = midpoint + 1\n",
      "    return found"
     ],
     "language": "python",
     "metadata": {},
     "outputs": [],
     "prompt_number": 120
    },
    {
     "cell_type": "code",
     "collapsed": false,
     "input": [
      "import random"
     ],
     "language": "python",
     "metadata": {},
     "outputs": [],
     "prompt_number": 97
    },
    {
     "cell_type": "code",
     "collapsed": false,
     "input": [
      "def create_rand(length):\n",
      "    return [random.randint(0, 100) for i in range(length)]"
     ],
     "language": "python",
     "metadata": {},
     "outputs": [],
     "prompt_number": 98
    },
    {
     "cell_type": "code",
     "collapsed": false,
     "input": [
      "def rand_init_val(alist):\n",
      "    alist2 = alist[:]\n",
      "    random.shuffle(alist2)\n",
      "    return alist2[0]"
     ],
     "language": "python",
     "metadata": {},
     "outputs": [],
     "prompt_number": 99
    },
    {
     "cell_type": "markdown",
     "metadata": {},
     "source": [
      "## 3\uac1c, \ubabb \ucc3e\uc740 \uacbd\uc6b0"
     ]
    },
    {
     "cell_type": "code",
     "collapsed": false,
     "input": [
      "alist = create_rand(3)\n",
      "alist"
     ],
     "language": "python",
     "metadata": {},
     "outputs": [
      {
       "metadata": {},
       "output_type": "pyout",
       "prompt_number": 143,
       "text": [
        "[74, 39, 98]"
       ]
      }
     ],
     "prompt_number": 143
    },
    {
     "cell_type": "code",
     "collapsed": false,
     "input": [
      "%timeit sequentialSearch(alist, 101)"
     ],
     "language": "python",
     "metadata": {},
     "outputs": [
      {
       "output_type": "stream",
       "stream": "stdout",
       "text": [
        "1000000 loops, best of 3: 861 ns per loop\n"
       ]
      }
     ],
     "prompt_number": 144
    },
    {
     "cell_type": "code",
     "collapsed": false,
     "input": [
      "%timeit sequentialSearch_release(alist, 101)"
     ],
     "language": "python",
     "metadata": {},
     "outputs": [
      {
       "output_type": "stream",
       "stream": "stdout",
       "text": [
        "1000000 loops, best of 3: 344 ns per loop\n"
       ]
      }
     ],
     "prompt_number": 145
    },
    {
     "cell_type": "code",
     "collapsed": false,
     "input": [
      "%timeit binarySearch(alist, 101)"
     ],
     "language": "python",
     "metadata": {},
     "outputs": [
      {
       "output_type": "stream",
       "stream": "stdout",
       "text": [
        "1000000 loops, best of 3: 1.24 \u00b5s per loop\n"
       ]
      }
     ],
     "prompt_number": 146
    },
    {
     "cell_type": "markdown",
     "metadata": {},
     "source": [
      "## 3\uac1c, \ucc3e\uc740 \uacbd\uc6b0"
     ]
    },
    {
     "cell_type": "code",
     "collapsed": false,
     "input": [
      "%timeit sequentialSearch(alist, rand_init_val(alist))"
     ],
     "language": "python",
     "metadata": {},
     "outputs": [
      {
       "output_type": "stream",
       "stream": "stdout",
       "text": [
        "100000 loops, best of 3: 3.26 \u00b5s per loop\n"
       ]
      }
     ],
     "prompt_number": 147
    },
    {
     "cell_type": "code",
     "collapsed": false,
     "input": [
      "%timeit sequentialSearch_release(alist, rand_init_val(alist))"
     ],
     "language": "python",
     "metadata": {},
     "outputs": [
      {
       "output_type": "stream",
       "stream": "stdout",
       "text": [
        "100000 loops, best of 3: 2.79 \u00b5s per loop\n"
       ]
      }
     ],
     "prompt_number": 148
    },
    {
     "cell_type": "code",
     "collapsed": false,
     "input": [
      "%timeit binarySearch(alist, rand_init_val(alist))"
     ],
     "language": "python",
     "metadata": {},
     "outputs": [
      {
       "output_type": "stream",
       "stream": "stdout",
       "text": [
        "100000 loops, best of 3: 3.78 \u00b5s per loop\n"
       ]
      }
     ],
     "prompt_number": 149
    },
    {
     "cell_type": "markdown",
     "metadata": {},
     "source": [
      "## 5\uac1c, \ucc3e\uc740 \uacbd\uc6b0"
     ]
    },
    {
     "cell_type": "code",
     "collapsed": false,
     "input": [
      "alist = create_rand(5)\n",
      "alist"
     ],
     "language": "python",
     "metadata": {},
     "outputs": [
      {
       "metadata": {},
       "output_type": "pyout",
       "prompt_number": 137,
       "text": [
        "[35, 33, 27, 44, 91]"
       ]
      }
     ],
     "prompt_number": 137
    },
    {
     "cell_type": "code",
     "collapsed": false,
     "input": [
      "%timeit sequentialSearch(alist, rand_init_val(alist))"
     ],
     "language": "python",
     "metadata": {},
     "outputs": [
      {
       "output_type": "stream",
       "stream": "stdout",
       "text": [
        "100000 loops, best of 3: 4.32 \u00b5s per loop\n"
       ]
      }
     ],
     "prompt_number": 138
    },
    {
     "cell_type": "code",
     "collapsed": false,
     "input": [
      "%timeit binarySearch(alist, rand_init_val(alist))"
     ],
     "language": "python",
     "metadata": {},
     "outputs": [
      {
       "output_type": "stream",
       "stream": "stdout",
       "text": [
        "100000 loops, best of 3: 4.86 \u00b5s per loop\n"
       ]
      }
     ],
     "prompt_number": 139
    },
    {
     "cell_type": "markdown",
     "metadata": {},
     "source": [
      "## 10\uac1c, \ucc3e\uc740 \uacbd\uc6b0"
     ]
    },
    {
     "cell_type": "code",
     "collapsed": false,
     "input": [
      "alist = create_rand(10)\n",
      "alist"
     ],
     "language": "python",
     "metadata": {},
     "outputs": [
      {
       "metadata": {},
       "output_type": "pyout",
       "prompt_number": 140,
       "text": [
        "[78, 80, 64, 23, 85, 34, 61, 57, 14, 76]"
       ]
      }
     ],
     "prompt_number": 140
    },
    {
     "cell_type": "code",
     "collapsed": false,
     "input": [
      "%timeit sequentialSearch(alist, rand_init_val(alist))"
     ],
     "language": "python",
     "metadata": {},
     "outputs": [
      {
       "output_type": "stream",
       "stream": "stdout",
       "text": [
        "100000 loops, best of 3: 6.75 \u00b5s per loop\n"
       ]
      }
     ],
     "prompt_number": 141
    },
    {
     "cell_type": "code",
     "collapsed": false,
     "input": [
      "%timeit binarySearch(alist, rand_init_val(alist))"
     ],
     "language": "python",
     "metadata": {},
     "outputs": [
      {
       "output_type": "stream",
       "stream": "stdout",
       "text": [
        "100000 loops, best of 3: 7.27 \u00b5s per loop\n"
       ]
      }
     ],
     "prompt_number": 142
    },
    {
     "cell_type": "markdown",
     "metadata": {},
     "source": []
    }
   ],
   "metadata": {}
  }
 ]
}