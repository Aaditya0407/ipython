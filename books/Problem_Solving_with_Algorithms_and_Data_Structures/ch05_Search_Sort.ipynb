{
 "metadata": {
  "name": "",
  "signature": "sha256:fd4b3974d43eceb5aca2221705f9846c15cedb99ff5aa0ce60ded8f833ad6d45"
 },
 "nbformat": 3,
 "nbformat_minor": 0,
 "worksheets": [
  {
   "cells": [
    {
     "cell_type": "markdown",
     "metadata": {},
     "source": [
      "# Search & Sort\n",
      "\n",
      "- [Assignments \u2014 Problem Solving with Algorithms and Data Structures](http://interactivepython.org/runestone/static/pythonds/index.html): \uc5ec\uae30\uc5d0\uc11c Sorting and Searching \ubc1c\ud45c\ub97c \ub9e1\uac8c \ub418\uc5b4 \ubd80\ubd84 \ubc88\uc5ed \ubc0f \ub0b4\uc6a9 \uc815\ub9ac\ud588\uc2b5\ub2c8\ub2e4.\n",
      "- \ubc1c\ubc88\uc5ed\uc774\ub77c \uc601\uc5b4 \ub418\uc2dc\ub294 \ubd84\uc740 \uc6d0\ubb38 \uc77d\ub294\uac78 \ucd94\ucc9c \ub4dc\ub9bd\ub2c8\ub2e4.\n",
      "\n",
      "## The Sequential Search\n",
      "\n",
      "### \uc815\ub82c\ub418\uc9c0 \uc54a\uc740 \uc21c\ucc28 \uac80\uc0c9\n",
      "\n",
      "- found: \uc77c\uce58\ud558\ub294 \uac12\uc744 \ucc3e\uc558\ub294\uc9c0?\n",
      "- \uc815\ub82c\ub418\uc9c0 \uc54a\uc740 \ub9ac\uc2a4\ud2b8\uc5d0\uc11c \uc21c\ucc28 \uac80\uc0c9\uc5d0\uc11c\ub294 \ubaa8\ub450 \ub05d\uae4c\uc9c0 \ud655\uc778\uc744 \ud574\uc57c\ub9cc \ud55c\ub2e4.\n",
      "- \uc815\ub82c\ub418\uc9c0 \uc54a\uc558\uc73c\ub2c8 \ub300\uc18c \uad00\uacc4\ub97c \ud655\uc778\ud560 \uc218 \uc5c6\uae30 \ub54c\ubb38\uc5d0 \ub05d\uae4c\uc9c0 \ub8e8\ud504\uac00 \ub3cc\uc544\uc57c \ud55c\ub2e4.\n",
      "\n",
      "#### \uc815\ub82c\ub418\uc9c0 \uc54a\uc740 \uc21c\ucc28 \uac80\uc0c9 \uc2dc\uac04 \ubcf5\uc7a1\ub3c4\n",
      "\n",
      "- O(n)\n",
      "\n",
      "### \uc815\ub82c\ub41c \uc21c\ucc28 \uac80\uc0c9\n",
      "\n",
      "- found: \uc77c\uce58\ud558\ub294 \uac12\uc744 \ucc3e\uc558\ub294\uc9c0?\n",
      "- stop: \uc815\ub82c\ub418\uc5b4 \uc788\uc73c\ub2c8 \ub0b4\uac00 \ucc3e\ub294\uac12 \uc774\uc0c1\uc774 \uc788\ub2e4\uba74 \uadf8 \ub4a4\ub85c\ub294 \uc4f8\ub370\uc5c6\ub294 \uac80\uc0c9\uc774\uae30 \ub54c\ubb38\uc5d0 \ubc14\ub85c \uc885\ub8cc\ud558\uae30 \uc704\ud55c \ubcc0\uc218\n",
      "- \uc815\ub82c\ub41c \uc21c\ucc28 \uac80\uc0c9\uc5d0\uc11c\ub294 \ucc3e\uc73c\ub824\uace0 \ud558\ub294 \uac12\uc774 \uc77c\uce58\ud558\uba74 found = True\uac00 \ub418\uace0 alist\uc758 \uac12\uc774 \ucc3e\ub294 \uac12\ubcf4\ub2e4 \ud06c\ub2e4\uba74 stop \ubcc0\uc218\uac00 \uc138\ud305\ub418\uc5b4 \ubc14\ub85c \uc885\ub8cc\n",
      "- **\uc815\ub82c**\ub418\uc5b4 \uc788\ub2e4\uace0 \uac00\uc815\n",
      "\n",
      "#### \uc815\ub82c\ub41c \uc21c\ucc28 \uac80\uc0c9 \uc2dc\uac04 \ubcf5\uc7a1\ub3c4\n",
      "\n",
      "- O(n)"
     ]
    },
    {
     "cell_type": "markdown",
     "metadata": {},
     "source": [
      "## The Binary Search\n",
      "\n",
      "### \uac1c\ub150 \uc815\uc758\n",
      "\n",
      "- **\uc815\ub82c**\ub418\uc5b4(\uc911\uc694, **\uc815\ub82c\ud558\ub294 \uac83\ub3c4 \uc2dc\uac04 \uc18c\ubaa8\ub428**) \uc788\ub294 \uac83\uc744 Binary Search \ud558\uae30 \ub54c\ubb38\uc5d0 \ud55c \ubc88 \uac80\uc0c9\ud560 \ub54c\ub9c8\ub2e4 \ub0b4\uac00 \uc6d0\ud558\uc9c0 \uc54a\ub294 \uac12 \uc808\ubc18\uc744 \uc5c6\uc560\ubc84\ub9b4 \uc218 \uc788\ub2e4.\n",
      "- \ub0b4\uac00 \ucc3e\ub294 \uac12\uc774 \uadf8\uac83\ubcf4\ub2e4 \ud06c\ub2e4\uba74 \uc791\uc740\uac83\uc740 \ubaa8\ub450 \ub0a0\ub824\ubc84\ub9ac\uace0 \ud070 \uac12\uc5d0\uc11c \ucc3e\ub294\ub2e4. \ud070 \uac12\uc911\uc5d0\uc11c \uc911\uac04\uac12\uc744 \ucde8\ud574\uc11c \ub0b4\uac00 \ucc3e\ub294\uac12\uacfc \ube44\uad50\ud574\uc11c \ud070\uc9c0 \uc791\uc740\uc9c0 \ube44\uad50\ud55c\ub2e4. \ubb34\ud55c \ubc18\ubcf5\ud574\uc11c \ucd5c\uc885\uc801\uc73c\ub85c \uac12 \ucc3e\uc544\ub0b4\uae30\n",
      "\n",
      "### \ub85c\uc9c1\n",
      "\n",
      "1. first = 0\n",
      "2. last = \uc804\uccb4 \uae38\uc774\n",
      "3. found \ubcc0\uc218 \uc120\uc5b8\n",
      "4. last\uac00 first\ubcf4\ub2e4 \ud070\uc9c0 \ud655\uc778, found\uac00 false\uc778\uc9c0 \ud655\uc778\n",
      "5. first\uc640 last\uc758 \uc911\uac04\uac12\uc744 \ucc3e\ub294\ub2e4. (\ub098\ub204\ub294\ub370 \ubaab\uc744 \ucde8\ud55c\ub2e4.)\n",
      "6. \ucc3e\uc73c\uba74 \ub05d\ub098\uc9c0\ub9cc \ubabb \ucc3e\uc73c\uba74 \uadf8 \uc911\uac04\uac12\uc774 \ub0b4\uac00 \ucc3e\ub294 \uac12\ubcf4\ub2e4 \ud06c\ub2e4\uba74 last\uc5d0 midpoint\uc5d0 -1\uc744 \ud55c\ub2e4. \uc791\ub2e4\uba74 first\uc5d0 midpoint + 1\uc744 \ud55c\ub2e4.\n",
      "  - \ucc98\uc74c\uc5d0 midpoint\uac00 4\uc77c\ub54c \uac12\uc774 13\uc774\ub2e4. \ub0b4\uac00 \ucc3e\ub294\uac12\uc740 3. \uadf8\ub7ec\ub2c8 last\uc758 \uac12\uc744 midpoint -1\ub85c \ud574\uc57c 13\ubcf4\ub2e4 \uc791\uc740\uac12\uc5d0\uc11c \ub0b4\uac00 \uc6d0\ud558\ub294 \uac12\uc778 3\uc744 \ucc3e\uc744 \uc218 \uc788\ub2e4.\n",
      "  \n",
      "### \uc7ac\uadc0\uc801 Binary Search\n",
      "\n",
      "- base case: alist \uac2f\uc218\uac00 0\uc77c\ub54c\ub294 return False\n",
      "- \uc7ac\uadc0\uc801\uc73c\ub85c \ud480 \ub54c\ub294 \uaf2d base case\uac00 \uc788\uc5b4\uc57c \ud55c\ub2e4.\n",
      "- binarySearch()\uc5d0 \ub2e4\uc2dc \ub118\uaca8\uc904 \ub54c **\ucc3e\uc740 \uc911\uac04\uac12\uc774 \ub0b4\uac00 \ucc3e\ub294 \uac12\ubcf4\ub2e4 \ud06c\ub2e4\uba74** alist[:midpoint]\ub97c \ud574\uc11c(\uc911\uac04\uac12\ubcf4\ub2e4 \uc791\uc740\uac12\ub4e4\uc758 list\ub9cc \ub2e4\uc2dc \ub118\uae34\ub2e4) **\uc791\uc740\uac12\uc5d0\uc11c \ub2e4\uc2dc \ucc3e\ub294\ub2e4.**\n",
      "\n",
      "### Binary Search\uc758 \uc2dc\uac04 \ubcf5\uc7a1\ub3c4\n",
      "\n",
      "- O(log n)\n",
      "- 4\uac1c\uac00 \uc788\ub2e4\uba74 2\ubc88\uc5d0 \ucc3e\uc744 \uac83\uc774\uace0, \n",
      "- 8\uac1c\uac00 \uc788\ub2e4\uba74 3\ubc88\uc5d0 \ucc3e\uc744 \uac83\n",
      "- 16\uac1c\uac00 \uc788\ub2e4\uba74 4\ubc88\uc5d0 \ucc3e\uc744 \uac83\n",
      "\n",
      "### Binary Search \uc8fc\uc758\ud574\uc57c \ud560 \uc810\n",
      "\n",
      "- \ubcf4\ud1b5 \uc21c\ucc28 \uac80\uc0c9\ubcf4\ub2e4\ub294 \uc88b\ub2e4. \uc911\uc694\ud55c \uac83\uc740 n\uc774 \uc791\uc744 \ub54c\ub294 \uadf8\ub807\uac8c \ud6a8\uacfc\uc801\uc774\uc9c0 \uc54a\ub2e4. \uc6b0\ub9ac\ub294 \ud56d\uc0c1 \uace0\ubbfc\uc744 \ud574\uc57c \ud55c\ub2e4. \uc5b4\ub5a4\uac8c \ube44\uc6a9\uc744 \uc801\uac8c \uc0ac\uc6a9\ud560\uc9c0.\n",
      "- \ud55c \ubc88 \uc815\ub82c\ud558\uace0 \ub9ce\uc740 \uc2dc\uac04 \ucc3e\uc73c\ub824\uace0 \ud55c\ub2e4\uba74 \uc815\ub82c\uc740 \uc911\uc694\ud55c \uc694\uc18c\uac00 \uc544\ub2c8\ub2e4.\n",
      "- \uadf8\ub807\uc9c0\ub9cc \ud070 \ub9ac\uc2a4\ud2b8\ub294 \uc815\ub82c\uc744 \ud558\ub824\uace0 \ud574\ub3c4 \uaf64 \ub9ce\uc740 \ube44\uc6a9\uc774 \uc18c\ubaa8\ub41c\ub2e4. \uadf8\ub7ec\ub2c8 \uac04\ub2e8\ud55c \uc21c\ucc28 \uac80\uc0c9\uc774 \uac00\uc7a5 \uc88b\uc740 \uc120\ud0dd\uc774 \ub420 \uac83\uc774\ub2e4.\n",
      "- \uc5ec\uae30\uc5d0\uc11c \uc911\uc694\ud55c \uc0ac\ud56d **\uc5b4\ub5a4 \ub370\uc774\ud130\uc778\uc9c0 \ud655\uc778**(\ud070\uc9c0, \uc791\uc740\uc9c0) \ud6c4\uc5d0 \uc21c\ucc28 \uac80\uc0c9\uc774\ub4e0, Binary \uac80\uc0c9\uc774\ub4e0 \uc801\uc6a9\uc744 \ud574\ub77c. \uc54c\uace0 \uc368\uc57c\uc9c0 \ubaa8\ub974\uace0 Binary Search\uac00 \uc88b\ub2e4\uace0 \ubb34\uc870\uac74 \uc4f0\uba74 \ub9ce\uc740 \uc591\uc758 \ub9ac\uc2a4\ud2b8\uc77c \ub584\ub294 \uc815\ub82c\ud558\ub294\ub370 \ube44\uc6a9\uc774 \ub9ce\uc774 \uc18c\ubaa8\ub418\uae30 \ub54c\ubb38\uc5d0 \uc88b\uc9c0 \uc54a\ub2e4."
     ]
    },
    {
     "cell_type": "markdown",
     "metadata": {},
     "source": [
      "## Hashing\n",
      "\n",
      "- \uc6b0\ub9ac\ub294 \uc0dd\uac01\ud569\ub2c8\ub2e4? \uc544 \uc544\ubb34\ub9ac \ube60\ub978 Binary Search\ub97c \ud574\ub3c4 log n\uc774 \uac78\ub9ac\ub124? \n",
      "- \uc5b4\ub5bb\uac8c \uc880 \ub354 \ube60\ub974\uac8c \uac80\uc0c9\ud560 \uc218 \uc5c6\uc744\uae4c?\n",
      "- **\ub9c8\ubc95\uc758 \uc2dc\uac04\ubcf5\uc7a1\ub3c4** \uc0c1\uc218 \uc2dc\uac04\uc5d0 \ucc3e\uae30 O(1)\n",
      "- hash table: item\ub4e4\uc758 \uc218\uc9d1\ubb3c\uc740 \ub098\uc911\uc5d0 \uadf8\uac83\ub4e4\uc744 \uc27d\uac8c \ucc3e\uae30 \uc704\ud574 \uc800\uc7a5\ub41c\ub2e4. \uac01 hash table\uc758 position\uc740 \uc790\uc8fc slot \uc774\ub77c\uace0 \ubd88\ub9b0\ub2e4. \n",
      "- hash function: item\uacfc slot\uac04\uc758 \ub9f5\ud551. \n",
      "- \uc6b0\ub9ac\uc758 \uccab\ubc88\uc9f8 \ud574\uc26c \ud391\uc158\uc740 \ub098\uba38\uc9c0 \uba54\uc18c\ub4dc\n",
      "- load factor: \ub78c\ub2e4= numberofitems/tablesize. \ub78c\ub2e4 = 6/11, \ube48\uc790\ub9ac\uc758 \ube44\uc728(\uad6c\uc885\ub9cc\ub2d8 \uc790\ub8cc \ucc38\uace0)\n",
      "- \uadf8\ub807\ub2e4\uba74 \uac19\uc740 \uc790\ub9ac\uc5d0 \uc800\uc7a5\ub418\ub294 \uc22b\uc790\ub4e4\uc774 \ud544\uc5f0\uc801\uc73c\ub85c \ubc1c\uc0dd\ud560\ud150\ub370 \uadf8\uac78 \uc5b4\ub5bb\uac8c \ud574\uacb0\ud560 \uac83\uc778\uac00?\n",
      "  - (44%11 == 0) 77\ub3c4 0. \n",
      "  - \uc774\ub807\uac8c \uacb9\uce5c\ub290\uac78 collision\n",
      "  - \uacb9\uce58\ub294 \uc22b\uc790\ub97c \uc904\uc774\uae30 \uc704\ud574\uc11c\ub294 \uc5b4\ub5a4 \uc22b\uc790\ub85c \ub098\ub20c \uac83\uc778\uac00?(\uc18c\uc218\ub85c \ub098\ub204\uae30)\n",
      "  - \uc21c\ucc28\uc801 \uc99d\uac00\ub85c \uc800\uc7a5\n",
      "\n",
      "### Hash Functions\n",
      "\n",
      "- \uc544\uc774\ud15c\ub4e4\uc758 \ubaa9\ub85d\uc744 \uc8fc\uc5c8\uc744 \ub54c hash function\uc740 \uac01 \uc544\uc774\ud15c\uc744 \uc720\uc77c\ud55c slot\uc5d0 \ucc38\uc870\ud558\ub294\uac78 perfect hash function \uc774\ub77c\uace0 \ud55c\ub2e4.\n",
      "\n",
      "#### \uad6c\uc885\ub9cc\ub2d8 Speaker Deck\n",
      "\n",
      "- \uc774 Hash Function \uc790\ub8cc\ub294 \uad6c\uc885\ub9cc\ub2d8 \uc790\ub8cc\uc5d0 \uc788\uc74c \n",
      "- [2014 PyCon KR: \uc704\ub300\ud55c dict \uc774\ud574\ud558\uace0 \uc0ac\uc6a9\ud558\uae30 // Speaker Deck](https://speakerdeck.com/jongman/2014-pycon-kr-widaehan-dict-ihaehago-sayonghagi): \ud30c\uc774\uc36c\uc758 dict\ub97c \uc124\uba85\ud55c\ub2e4. \uadf8 \uc774\uba74\uc5d0\ub294 Hash Function\uc744 \uc0ac\uc6a9\ud558\uae30 \ub54c\ubb38\uc5d0 \uc774 \ucc45\uacfc \ube44\uc2b7\ud55c \ubd80\ubd84\uc744 \ud55c.\uae00 \uc790\ub8cc\ub85c \uc5b8\uae09\ud558\uae30 \ub54c\ubb38\uc5d0 \uc774\ud574\ud558\uae30 \uc88b\ub2e4.\n",
      "- [\uad6c\uc885\ub9cc \\- \uc54c\uace0\ub9ac\uc998: \uae30\uc220 \uc0ac\ud68c\uc758 \uc5f0\uae08\uc220](http://www.slideshare.net/skoopmedia/10-39955766)\n",
      "- [Writing Correct Code // Speaker Deck](https://speakerdeck.com/jongman/writing-correct-code)\n",
      "- [Presentations by jongman // Speaker Deck](https://speakerdeck.com/jongman): 4\uac1c \uc815\ub3c4 Speaker Deck \uc788\uc74c\n",
      "\n",
      "\n",
      "- folding method: hash function\uc744 \uad6c\uc131\ud558\ub294 \uac83. item\uc744 \ub098\ub220 \uac19\uc740 \uc0ac\uc774\uc988 \uc870\uac01\uc5d0 \ub123\ub294\ub2e4.(\ub9c8\uc9c0\ub9c9 \uc870\uac01\uc740 \uac19\uc740 \uc0ac\uc774\uc988\uac00 \uc544\ub2d0 \uc218 \uc788\ub2e4.)\n",
      "- 436-555-4601 \uac19\uc740 \uacbd\uc6b0, (43, 65, 55, 46, 01). 210. 11\uc2ac\ub86f\uc73c\ub85c \ub098\ub204\uba74 200 % 11 = 1\n",
      "- \uac01 \uc870\uac01\uc744 \ubc14\uafbc \ub2e4\uc74c\uc5d0 \ub354\ud558\ub294 \uac83\uc740 43 + 56 + 55 + 64 + 01 = 219, 219 % 11 = 10\n",
      "- mid-square method: \ub610 \ub2e4\ub978 \uad6c\uc131\ud558\ub294 hash function\uc744 \uc704\ud574 numerical technique\uc740 mid-square method\ub77c\uace0 \ubd88\ub9b0\ub2e4.\n",
      "- item\uc744 \uccab\ubc88\uc9f8\ub85c square \ud55c\ub2e4. \uc5bb\uc5b4\uc9c4 \uc22b\uc790\uc758 \uc704\uce58\ub294 \ucd94\ucd9c\ub41c\ub2e4. 44 \\*\\* 2 = 1936. \uadf8 \uc911\uac04 \uc22b\uc790\ub294 93\uc774\ub2e4. \ub098\uba38\uc9c0 \uc5f0\uc0b0\uc744 \uc218\ud589\ud558\uac8c \ub418\uba74 5\ub97c \uc5bb\ub294\ub2e4(93 % 11)\n",
      "- \ub610\ud55c character-based item\uc73c\ub85c hash function\uc744 \ub9cc\ub4e4 \uc218 \uc788\ub2e4."
     ]
    },
    {
     "cell_type": "code",
     "collapsed": false,
     "input": [
      "def hash_(astring, tablesize):\n",
      "    sum_ = 0\n",
      "    for i, pos in enumerate(astring):\n",
      "        sum_ += ord(pos) * (i+1)\n",
      "    return sum_ % tablesize"
     ],
     "language": "python",
     "metadata": {},
     "outputs": [],
     "prompt_number": 63
    },
    {
     "cell_type": "code",
     "collapsed": false,
     "input": [
      "hash_('cat', 11)"
     ],
     "language": "python",
     "metadata": {},
     "outputs": [
      {
       "metadata": {},
       "output_type": "pyout",
       "prompt_number": 75,
       "text": [
        "3"
       ]
      }
     ],
     "prompt_number": 75
    },
    {
     "cell_type": "markdown",
     "metadata": {},
     "source": [
      "- weight factor: position\uc5d0 \uac00\uc911\uce58\ub97c \uc900 \uac83\n",
      "- \ucc45 \uc18c\uc2a4\uc5d0\ub294 wegith factor(i+1)\uc744 \uc8fc\uc9c0 \uc54a\uc558\ub2e4. \ucd94\uac00\ud574 \uc90c"
     ]
    },
    {
     "cell_type": "markdown",
     "metadata": {},
     "source": [
      "- \uc218\uc9d1\ub41c \uc544\uc774\ud15c\ub4e4\uc744 \uc704\ud55c \ud574\uc26c\uac12\uc744 \uacc4\uc0b0\ud558\uae30 \uc704\ud55c \ucd94\uac00\uc801\uc778 \ubc29\ubc95\ub4e4\uc758 \uc22b\uc790\ub294 \uc5ec\ub7ec\uac1c\uac00 \uc788\ub2e4.\n",
      "- \uc911\uc694\ud55c \uc0ac\ud56d: hash function\uc740 \uc800\uc7a5\uc18c\uc758 \uc9c0\ubc30\uc801\uc778 \ubd80\ubd84\uacfc \uac80\uc0c9 \ucc98\ub9ac\uc5d0\ub294 \ud6a8\uacfc\uc801\uc774\uc9c0 \uc54a\ub2e4.\n",
      "- hash function \uc774 \ubcf5\uc7a1\ud574\uc9c4\ub2e4\uba74 slow name\uc744 \uacc4\uc0b0\ud558\uae30 \uc704\ud574 \uac04\ub2e8\ud55c \uae30\ubcf8\uc801\uc778 \uc21c\ucc28\ub098 binary search\ubcf4\ub2e4 \uc880 \ub354 \ub9ce\uc740 \uc5ed\ud560\uc744 \ud574\uc57c \ud55c\ub2e4. \uc774\uac83\uc740 hashing\uc758 \ubaa9\uc801\uc744 \ud574\uce58\ub294 \uac83\uc774\ub2e4."
     ]
    },
    {
     "cell_type": "markdown",
     "metadata": {},
     "source": [
      "## Collision Resolution\n",
      "\n",
      "- \uc774\uc81c \ub2e4\uc2dc collision \ubb38\uc81c\ub85c \ub3cc\uc544\uc624\uc790.\n",
      "- \uc2dc\uc2a4\ud15c\uc801\uc73c\ub85c hash table\uc5d0\uc11c 2\ubc88\uc9f8 \uc544\uc774\ud15c\uc744 \uc704\uce58\uc2dc\ucf1c\uc57c \ud55c\ub2e4.\n",
      "- hash function\uc774 \uc644\ubcbd\ud558\ub2e4\uba74 collision\uc740 \ubc1c\uc0dd\ud558\uc9c0 \uc54a\ub294\ub2e4. \uadf8\ub7ec\ub098 \uc774\uac83\uc740 \uac70\uc758 \uac00\ub2a5\ud55c \uc77c\uc774 \uc544\ub2c8\ub2e4. collision resolution\uc740 hashing \ubd80\ubd84\uc5d0\uc11c \ub9e4\uc6b0 \uc911\uc694\ud55c \ubd80\ubd84\uc73c\ub85c \ub2e4\uac00\uc628\ub2e4.\n",
      "- open addressing: \ub2e4\uc74c\uc758 \uc5f4\ub9b0 \uc8fc\uc18c\ub97c \ucc3e\ub294 \uac83\n",
      "- linear probing: \uac01 \uc2ac\ub86f\uc744 \ud55c \ubc88\uc5d0 \ud55c \ubc88\uc529 \ubc29\ubb38\ud560 \ub54c. \uc120\ud615\uc801\uc73c\ub85c \uc811\uadfc\n",
      "- 54, 26, 93, 17, 77, 31\uc774 \uc6d0\ub798\n",
      "- \ucd94\uac00\ub41c\uac8c 44, 55, 20\n",
      "- \ucd94\uac00\ub41c \uac83\ub4e4\uc740 \ubaa8\ub450 collision \uc774 \ubc1c\uc0dd\ud558\uae30 \ub54c\ubb38\uc5d0 \ube48 \uc2ac\ub86f\uc774 \ub098\uc62c \ub54c\uae4c\uc9c0 \uc120\ud615\uc801\uc73c\ub85c \ub2e4\uc74c \uc790\ub9ac\ub97c \ucc3e\uac8c \ub428\n",
      "- linear probing\uc740 \ud074\ub7ec\uc2a4\ud130\ub9c1 \ud558\ub294 \ub2e8\uc810\uc774 \uc788\ub2e4. \n",
      "- \uac19\uc740 \uac12\uc5d0 \ub9ce\uc740 \ucda9\ub3cc\uc774 \ubc1c\uc0dd\ud558\uba74 linear probing resolution\uc5d0 \uc758\ud574 \uc8fc\ubcc0 \uc2ac\ub86f\ub4e4\uc774 \ucc44\uc6cc\uc9c8 \uac83\uc774\ub2e4.\n",
      "- 77, 44, 55\uac00 \ud074\ub7ec\uc2a4\ud130\ub9c1\uc774 \ub410\ub2e4.\n",
      "- \uc774\uac83\uc744 \uc904\uc774\uae30 \uc704\ud574\uc11c plus 3 \ub2e8\uc704\ub85c \ud0d0\uc0c9\uc744 \ud55c\ub2e4. \n",
      "  - 44\ub294 0\ubc88\uc9f8 -> 3\ubc88\uc9f8 \n",
      "  - 55\ub294 0\ubc88\uc9f8 -> 3\ubc88\uc9f8 -> 6\ubc88\uc9f8 -> 9\ubc88\uc9f8 -> 1\ubc88\uc9f8\n",
      "  - 20\uc740 9\ubc88\uc9f8 -> 1\ubc88\uc9f8 -> 4\ubc88\uc9f8 -> 7\ubc88\uc9f8\n",
      "- quardratic probing: 1, 3, 5, 7, 9 \ub2e8\uc704\ub85c \uc99d\uac00\n",
      "  - 44\ub294 +1\n",
      "  - 55\ub294 +3\n",
      "  - 20\uc740 +4(\uc65c? 4\ubc88\uc9f8\uc9c0, 9\ubc88\uc9f8\uac00 \ud574\ub2f9\ub418\uc5b4 8\ubc88 \uc2ac\ub86f\uc5d0 \uc800\uc7a5\ub418\uc5b4\uc57c \ud558\ub294\ub370?)\n",
      "  - \uc2a4\ud130\ub514 \ud558\uba74\uc11c \ud574\uacb0\ub410\ub2e4. \ucc98\uc74c\ubd80\ud130 1, 3, 5, 7, 9 \ub2e8\uc704\ub85c \uc99d\uac00\uc2dc\ud0a4\uba74 \ub9de\uac8c \ub41c\ub2e4.\n",
      "  - \uc5ec\uae30\uc5d0\uc11c\ub294 \ucda9\ub3cc\uc774 \ub9ce\uc774 \ubc1c\uc0dd\ud558\ub294 \uac83 \uac19\uc9c0\ub9cc load factor\uac00 \ud06c\uae30 \ub54c\ubb38\uc5d0(6/11) collision\uc774 \ub9ce\uc774 \ubc1c\uc0dd\ud560 \uc218 \ubc16\uc5d0 \uc5c6\ub294 \uc0c1\ud669\uc774\ub2e4.\n",
      "- chaning: \ub9ce\uc740 \uc544\uc774\ud15c\uc774 \uac19\uc740 \uc704\uce58\uc5d0 \ud5c8\ub77d\ub41c\ub2e4. collision\uc774 \ubc1c\uc0dd\ud558\uba74 \uc544\uc774\ud15c\uc740 \uadf8 \uc704\uce58\uc5d0 \uc788\ub2e4. item\uc5d0 \ub300\ud574 \uac80\uc0c9\ud558\ub294 \uc5b4\ub824\uc6c0\uc774 \uc788\ub2e4.(\uc99d\uac00\ub428)\n",
      "- \uc6b0\ub9ac\uac00 item\uc744 \uc704\ud574 \uac80\uc0c9\ud558\uace0\uc790 \ud560\ub54c slot\uc744 \ub9cc\ub4e4\uae30 \uc704\ud574\uc11c hash function\uc744 \uc0ac\uc6a9\ud560 \uc218 \uc788\ub2e4.\n",
      "- \uac01 \uc2ac\ub86f\uc740 collection\uc744 \uac00\uc9c0\uace0 \uc788\ub2e4. \n",
      "- \uc544\uc774\ud15c\uc774 \uc874\uc7ac\ud558\ub294\uc9c0 \uad6c\ubd84\ud558\uae30 \uc704\ud574 \uac80\uc0c9 \uae30\uc220\uc744 \uc0ac\uc6a9\ud55c\ub2e4.\n",
      "- \uc7a5\uc810\uc740 \uac01 \uc2ac\ub86f\uc5d0 \ud3c9\uade0\uc801\uc73c\ub85c \uc801\uc740 \uc218\uc758 \uc544\uc774\ud15c\uc774 \uc704\uce58\ud55c\ub2e4. \uadf8\ub798\uc11c \uac80\uc0c9\uc740 \ub9e4\uc6b0 \ud6a8\uacfc\uc801\uc774\ub2e4. hasing\uc744 \uc704\ud55c \ubd84\uc11d\uc740 \uc774 \uc7a5\uc758 \ub9c8\uc9c0\ub9c9\uc5d0\uc11c \ubcfc \uac83\uc774\ub2e4."
     ]
    },
    {
     "cell_type": "markdown",
     "metadata": {},
     "source": [
      "## Implementing the Map Abstract Data Type\n",
      "\n",
      "- \ud6a8\uacfc\uc801\uc778 \ud30c\uc774\uc36c \uc218\uc9d1\uc740 dictionary \ub2e4. dictionary\ub294 \uc5f0\uad00\ub41c \ub370\uc774\ud130 \ud0c0\uc785\uc774 \uc788\ub2e4. key-data pair\ub85c \uc800\uc7a5\ud560 \ub54c. \uc6b0\ub9ac\ub294 \uc774\uac78 map \uc774\ub77c\uace0 \ubd80\ub978\ub2e4.\n",
      "- map \ucd94\uc0c1 \ub370\uc774\ud130 \ud0c0\uc785\uc740 follow\uc5d0 \uc815\uc758\ub418\uc5b4 \uc788\ub2e4.\n",
      "- \uad6c\uc870\ub294 \uc5f0\uad00\ub41c \uc815\ub82c\ub418\uc9c0 \uc54a\uc740 \uc218\uc9d1\uc774\ub2e4.  key\uc640 data \uac12 \uc0ac\uc774\uc5d0.\n",
      "- one to one \uad00\uacc4. \n",
      "- Map()\uc740 \uc5c6\ub294 map\uc744 \ub9cc\ub4e6\n",
      "- put(key, val)\n",
      "- get(key)\n",
      "- del\n",
      "- len()\n",
      "- in Return True\n",
      "- "
     ]
    },
    {
     "cell_type": "markdown",
     "metadata": {},
     "source": [
      "## Analysis of Hashing\n",
      "\n",
      "- O(1) \uc774\ub77c\ub294 \ud658\uc0c1\uc801\uc778 \uc18d\ub3c4\n",
      "- collision\uc774 \ubc1c\uc0dd\ud55c\ub2e4. \uac04\ub2e8\ud558\uc9c0 \uc54a\uc740 \ubb38\uc81c\ub2e4.\n",
      "- \uc644\ubcbd\ud55c hash \ubd84\uc11d\uc740 \uc774 \ucc45\uc758 \ubc94\uc704\ub97c \ubc97\uc5b4\ub09c \ubb38\uc81c\ub2e4.\n",
      "- \uc911\uc694\ud55c \uac83\uc740 hash table\uc744 \ubd84\uc11d\ud558\uae30 \uc704\ud574 load factor\uac00 \ud544\uc694\ud558\ub2e4.\n",
      "- \ub78c\ub2e4\uac00 \uc791\ub2e4\uba74 collision \uc774 \uc77c\uc5b4\ub0a0 \ud655\ub960\uc774 \uc791\ub2e4. (\ub78c\ub2e4 = numberofitems /tableofsize) \uc774\uae30 \ub54c\ubb38\uc5d0. \n",
      "- \ubd84\ubaa8\uac00 \ud06c\ub2e4\uba74(20\ud3c9 \uc9d1\uc5d0 \ucc45 10\uac1c \ub193\ub294\uac83\uacfc 3\ud3c9 \uc9d1\uc5d0 \ucc45 10\uac1c \ub193\ub294\uac83\uacfc\uc758 \ucc28\uc774\ub97c \uc0dd\uac01\ud558\uba74 \ub428) \ucda9\ub3cc \ubc1c\uc0dd \ube44\uc728\uc774 \uc791\ub2e4.\n",
      "- \ub78c\ub2e4\uac00 \ud06c\ub2e4\uba74 \ub9ce\uc740 \uc218\uc758 \ucda9\ub3cc\uc774 \ubc1c\uc0dd\ud55c\ub2e4. \ucda9\ub3cc \ud574\uacb0\ucc45\uc740 \ub9e4\uc6b0 \uc5b4\ub835\ub2e4. \ube48 \uc2ac\ub86f\uc744 \ucc3e\uae30 \uc704\ud574 \ub9ce\uc740 \uc218\uc758 \ube44\uad50\uac00 \ud544\uc694\ud558\ub2e4.\n",
      "- \uccb4\uc774\ub2dd\uc744 \uc0ac\uc6a9\ud558\uba74 \ucda9\ub3cc\uc774 \uc99d\uac00\ub41c\ub2e4\ub294 \ub9d0\uc774\ub2e4.\n",
      "- \uc131\uacf5\uc801\uc778 \uac80\uc0c9\uc744 \uc704\ud574\uc11c\ub294 linear probing\uacfc \ud568\uaed8 open addressing\uc744 \uc0ac\uc6a9\n",
      "- \uc218\uc2dd\uc774 \ub098\uc654\ub294\ub370 \uc74c.. \uc774\ud574\uac00 \uc5b4\ub835\ub124...\n",
      "- [hello world \u00bb  Java HashMap\uc740 \uc5b4\ub5bb\uac8c \ub3d9\uc791\ud558\ub294\uac00?](http://helloworld.naver.com/helloworld/textyle/831311): \uc870\uae08 \ub354 \uace0\uae09 \uc8fc\uc81c"
     ]
    },
    {
     "cell_type": "markdown",
     "metadata": {},
     "source": [
      "## The Bubble Sort\n",
      "\n",
      "- \ubaa8\ub450 \ud558\ub098\uc529 \uc21c\ucc28\uc801\uc73c\ub85c \uc9c4\ud589\n",
      "- O(n\\*\\*2)\n",
      "\n",
      "### Short Bubble Sort\n",
      "\n",
      "- exchanges\ub294 \uad50\ud658\uc774 \ubc1c\uc0dd\ud588\ub294\uc9c0 \ud655\uc778. \uc774\uac8c \ubc1c\uc0dd\ud558\uc9c0 \uc54a\uc73c\uba74 \ub354 \uc774\uc0c1 \uc5f0\uc0b0\uc744 \ud574\ubcf4\uc9c0 \uc54a\uc544\ub3c4 \ub428. \uc65c\ub0d0\ud558\uba74 \ubaa8\ub450 \uc81c\ub300\ub85c \uc815\ub82c\uc774 \ub418\uc5b4 \uc788\uae30 \ub54c\ubb38\uc5d0..\n"
     ]
    },
    {
     "cell_type": "markdown",
     "metadata": {},
     "source": [
      "## The Selection Sort\n",
      "\n",
      "- \uac00\uc7a5 \ud070 \uc22b\uc790\ub97c \uc120\ud0dd\ud574\uc11c \uac00\uc7a5 \ub05d\uc73c\ub85c \ubcf4\ub0b4 \ubc84\ub9b0\ub2e4.\n",
      "- \uadf8 \ub2e4\uc74c \ud070 \uc22b\uc790\ub294 \ub9c8\uc9c0\ub9c9\uc5d0\uc11c 2\ubc88\uc9f8\ub85c \uc704\uce58\uc2dc\ud0b4\n",
      "- \ubaa8\ub450 \ub3cc\uba74\uc11c \uac00\uc7a5 \ud070 \uc544\uc774\ud15c\uc744 \ucc3e\uc544\uc11c positionofMax\ub85c \uc800\uc7a5 \uc2dc\ud0a4\uace0 \uadf8 \ucc3e\uc740\uac12\uacfc \ubaa8\ub4e0 \uc544\uc774\ud15c\uc744 \ub3cc\uba74\uc11c \ube44\uad50\ud55c\ub2e4.\n",
      "- \uadf8\ub9ac\uace0 for\ubb38\uc744 \ub3cc\uba74\uc11c 1\uce78\uc529 \uc904\uc774\uba74\uc11c \uc5f0\uc0b0\uc744 \ud558\uac8c\ub418\uba74 \ucc98\uc74c\uc5d0 10\ubc88\uc744 \ud55c\ub2e4\uce58\uba74 1\ubc88\uc529 \ub8e8\ud504\uac00 \uac10\uc18c\ud560 \ub54c\ub9c8\ub2e4 9\ubc88\uc758 \ube44\uad50\ub9cc \ud55c\ub2e4.\n",
      "- O(n\\*\\*2)"
     ]
    },
    {
     "cell_type": "markdown",
     "metadata": {},
     "source": [
      "## The Insertion Sort\n",
      "\n",
      "- O(n\\*\\*2)\n",
      "- \uc790\uc2e0\uc758 \uc815\ub82c\ub41c \uc601\uc5ed\uc744 \ub9cc\ub4e4\uc5b4 \ub193\uace0 \uadf8 \uc548\uc5d0 \uadf8 \ub2e4\uc74c\uac12\uc744 \ub123\ub294\ub2e4. \ub2e8 \uc815\ub82c\ub41c \uc601\uc5ed\uc5d0 \uac12\uc744 \ub123\uc5b4\uc57c \ud558\ub2c8 \uc774 \uac12\ub4e4\uc744 \ub2e4\uc2dc \ud55c \ubc88 \uc815\ub82c\ud55c\ub2e4."
     ]
    },
    {
     "cell_type": "markdown",
     "metadata": {},
     "source": [
      "## The Shell Sort\n",
      "\n",
      "- \uc99d\uac00\ud558\ub294 \uc815\ub82c\uc744 \uc904\uc774\uae30\n",
      "- \uac01 \ubd80\ubd84\ub2e8\uc704\ub85c \ub098\ub208 \ub2e4\uc74c\uc5d0\n",
      "- \uac01 \ubd80\ubd84\uc73c\ub85c \uc815\ub82c\ud55c\ub2e4.\n",
      "- \uadf8\ub9ac\uace0 \ud569\uce5c\ub2e4.\n"
     ]
    },
    {
     "cell_type": "markdown",
     "metadata": {},
     "source": [
      "## The Merge Sort\n",
      "\n",
      "- divde and conquer(\ubd84\ud560\ud558\uace0 \uc815\ubcf5\ud55c\ub2e4.)\n",
      "- 54,26,93,17\uc744 54,26\uc73c\ub85c \ub098\ub204\uace0 54\ub85c \ub098\ub208\ub2e4.\n",
      "- \uadf8 \ub2e4\uc74c\uc5d0 \ub098\ub208 \uac83\ub4e4\uc744 \uae30\uc900\uc73c\ub85c \uc815\ub82c\uc744 \ud55c \ub2e4\uc74c\uc5d0 \ud55c \ub2e8\uacc4 \uc62c\ub77c\uac08 \ub54c\ub9c8\ub2e4 \ub2e4\uc2dc \ud558\ub098\ub85c \ud569\uce5c\ub2e4.\n",
      "- O(n log n)"
     ]
    },
    {
     "cell_type": "markdown",
     "metadata": {},
     "source": [
      "## The Quick Sort\n",
      "\n",
      "- divde and conqer\ub97c \uc4f0\uc9c0\ub9cc \ucd94\uac00\uc801\uc778 \uacf5\uac04\uc744 \uc0ac\uc6a9\ud558\uc9c0 \uc54a\ub294\ub2e4.\n",
      "- \uadf8 \uc911\uac04\uc744 \uc120\ud0dd\ud574\uc11c \uc11c\ub85c \uc67c\ucabd, \uc624\ub978\ucabd\uc73c\ub85c \uc654\ub2e4\uac14\ub2e4 \ud55c\ub2e4.\n",
      "- [\ud035 \uc18c\ud2b8 \uc54c\uace0\ub9ac\uc998 ( \ud035 \uc815\ub82c) \\- YouTube](https://www.youtube.com/watch?v=zGqf9FzIcxY): \uc544\uc8fc \uc798 \uc124\uba85\uc774 \ub418\uc5b4 \uc788\ub2e4. \ucc45\uacfc\ub294 \uc57d\uac04 \ub2e4\ub978 \ubc29\ubc95\uc73c\ub85c \uc124\uba85. pivot \uc7a1\ub294\uac8c \uc57d\uac04 \ub2e4\ub984"
     ]
    },
    {
     "cell_type": "markdown",
     "metadata": {},
     "source": [
      "## Summary\n",
      "\n",
      "- \uc21c\ucc28 \uac80\uc0c9\uc740 \uc815\ub82c\ub41c \ub9ac\uc2a4\ud2b8\uc640 \uc815\ub82c\ub418\uc9c0 \uc54a\uc740 \ub9ac\uc2a4\ud2b8\uc758 \uc2dc\uac04\ubcf5\uc7a1\ub3c4\ub294 O(n)\n",
      "- binary search\ub294 \uc815\ub82c\ub41c \ub9ac\uc2a4\ud2b8\uc5d0\uc11c \uac00\uc7a5 \uc548\uc88b\uc740 \ucf00\uc774\uc2a4\ub85c O(log n)\n",
      "- Hash table\uc740 \uc0c1\uc218 \uc2dc\uac04\uc758 \uac80\uc0c9 \uc2dc\uac04\uc744 \uc81c\uacf5\n",
      "- bubble sort, selection sort, insertion sort\ub294 O(n\\*\\*2) \uc54c\uace0\ub9ac\uc998\n",
      "- shell sort\ub294 insrtion sort\ub97c \uc99d\uac00\uc2dc\ud0a8 \uac83. \uc2dc\uac04 \ubcf5\uc7a1\ub3c4\ub294 O(n)\uacfc O(n\\*\\*2) \uc0ac\uc774\uc5d0 \uc704\uce58\ud55c\ub2e4.\n",
      "- merge sort\ub294 O(n log n). \uadf8\ub7ec\ub098 \ud569\uce58\uae30 \uc704\ud55c \ucd94\uac00\uc801\uc778 \uacf5\uac04\uc774 \ud544\uc694\ud558\ub2e4.\n",
      "- quick sort\ub294 O(n log n). \uadf8\ub7ec\ub098 \uc911\uac04\uc758 \uc704\uce58\ub97c \ub098\ub204\ub294\uac8c \ud3ec\uc778\ud2b8\ub2e4. \ucd94\uac00\uc801\uc778 \uacf5\uac04\uc740 \ud544\uc694\ud558\uc9c0 \uc54a\ub2e4."
     ]
    },
    {
     "cell_type": "markdown",
     "metadata": {},
     "source": [
      "## \ucd94\uac00\uc801\uc73c\ub85c \uc2a4\ud130\ub514\uc5d0\uc11c \ub098\uc654\ub358 \uc774\uc57c\uae30\n",
      "\n",
      "- [Cyclomatic complexity \\- Wikipedia, the free encyclopedia](http://en.wikipedia.org/wiki/Cyclomatic_complexity)\n",
      "  - \ubb38\uc81c \ud480\uc774 \uc2dc\uac04\uc5d0 \uacf5\uc720\ud574\uc8fc\uc2e0 \ub0b4\uc6a9\n",
      "  - \ubcf5\uc7a1\uc131\uc744 \uce21\uc815\ud560 \uc218 \uc788\ub294 \ud504\ub85c\uadf8\ub7a8\n",
      "  \n",
      "### Docker, CI, TDD, BDD, Code Coverage\n",
      "\n",
      "- TDD\ub294 \uaf2d \ud544\uc694\ud558\uc9c0\ub9cc \uc694\uc998 \ub4e4\uc5b4\uc11c \ub290\ub07c\ub294 \uac83\uc740 BDD\ub97c \uc798\ud558\ub294\uac8c \uac00\uc7a5 \uc88b\uc740\uac8c \uc544\ub2cc\uac00?\n",
      "- \ubb38\uc11c\ub97c \uc798 \uc791\uc131\ud574 \ub193\ub294\ub2e4\uba74\n",
      "  - \ud568\uc218\uc758 \uc785\ub825, \ub9ac\ud134\uac12, \ud074\ub798\uc2a4\uc758 \uc0c1\ud558\uc704 \ud3ec\ud568 \uad00\uacc4 \ub4f1\n",
      "  - \uc774\uac78 \ucf54\ub4dc\ub97c \uc9dc\uc9c0 \uc54a\uace0\ub3c4 \ubb38\uc11c\ub85c \ubbf8\ub9ac \ub9cc\ub4e4\uc5b4 \ub193\ub294\ub2e4\uba74 \ud6e8\uc52c \ub354 \uc720\uc5f0\ud55c \uc0dd\uac01\uc744 \ud560 \uc218 \uc788\uac8c\ub41c\ub2e4. \ucf54\ub4dc\ub97c \ud55c \uc904\ub3c4 \uc9dc\uc9c0 \uc54a\uc558\uae30 \ub54c\ubb38\uc5d0 \ubb38\uc11c\uc5d0\uc11c \uc2a4\ud399\uc744 \ubc14\uafb8\uae30\ub780 \ub9e4\uc6b0 \uc27d\ub2e4. \ud558\uc9c0\ub9cc \ubc18\ub300\ub85c \uc0dd\uac01\ud574\ubcf4\uba74 \ubaa8\ub4e0\uac78 \ubb38\uc11c\ub85c \ud45c\ud604\uc744 \ud574\uc57c \ub418\ub294\ub370 \ubb38\uc11c\ub85c \ud45c\ud604\ud558\uae30 \uc704\ud574\uc11c\ub294 \uba3c\uc800 \ubc31\uadf8\ub77c\uc6b4\ub4dc \uc9c0\uc2dd\uc774 \ub9ce\uc544\uc11c \ubaa8\ub4e0 \uac00\ub2a5\uc131\uc744 \uc0dd\uac01\ud558\uace0 \ubb38\uc11c\ub85c \ubcc0\ud658\uc744 \ud574\uc57c \ub418\uae30 \ub54c\ubb38\uc5d0 \ud558\uae30\uac00 \uc5b4\ub835\ub2e4. \ubc30\uacbd \uc9c0\uc2dd\uc774 \ub9ce\uc774 \ud544\uc694\ud558\ub2e4.\n",
      "- Docker\ub97c \ub9cc\ub4e4\uba74 TDD\ub97c \ud560 \ub54c\ub3c4 Mock\uc744 \uc0ac\uc6a9\ud558\uc9c0 \uc54a\uace0\ub3c4 \ubc14\ub85c Docker\ub97c \ub744\uc6cc\uc11c DB \uc811\uc18d TDD\ub97c \ud560 \uc218 \uc788\uae30 \ub54c\ubb38\uc5d0 \uad49\uc7a5\ud788 \ud3b8\ud558\ub2e4.\n",
      "- Docker\ub97c \uc0ac\uc6a9\ud55c Fabric\uc744 \ucd94\ucc9c\ud55c\ub2e4.\n",
      "- [Coveralls \\- Test Coverage History & Statistics](https://coveralls.io/): \uc624\ub978\ucabd \ud558\ub2e8\uc5d0 \ubcf4\uba74 Hero\uac00 \uc788\uc5b4\uc11c 100%\uc758 Code Coverage\ub97c \ub2ec\uc131\ud558\uac8c \ub418\ub294 \uad34\ubb3c\ub4e4\ub3c4 \uc874\uc7ac\ud55c\ub2e4.\n",
      "- \uc5ec\ub7ec\uac00\uc9c0 CI\ub97c \uac00\ub2a5\ud558\uac8c \ud558\ub294 \uae30\ub2a5\ub4e4\uc774 \uc788\ub2e4.\n",
      "- \ud604\uc7ac \uae30\uc220 \ud750\ub984\ub4e4\uc744 \uc798 \uc0b4\ud3b4\ubcf4\uace0 \uc62c\ub77c\ud0c8 \uc218 \uc788\ub294\uac74 \uc62c\ub77c\ud0c0\ub294\uac8c \uc88b\ub2e4. \uc9c0\uae08\uae4c\uc9c0 \ucd94\uc138\ub97c \ubcfc \ub54c 70% \uc815\ub3c4\ub294 \uc4f8\ubaa8\uc788\ub294 \uc798 \ubd10\uc57c\ub420 \ub0b4\uc6a9\uc774\uc5c8\uace0 30% \uc815\ub3c4\ub294 \ud544\uc694\uc5c6\ub294 \ub0b4\uc6a9\uc774\uc5c8\ub2e4. \ud544\uc694\ud55c \uac83\uacfc \ud544\uc694\ud558\uc9c0 \uc54a\uc740 \uac83\uc744 \uc798 \uad6c\ubd84\ud574\uc11c \uc0ac\uc6a9\ud574\ub77c."
     ]
    },
    {
     "cell_type": "code",
     "collapsed": false,
     "input": [
      "77 % 11"
     ],
     "language": "python",
     "metadata": {},
     "outputs": [
      {
       "metadata": {},
       "output_type": "pyout",
       "prompt_number": 70,
       "text": [
        "0"
       ]
      }
     ],
     "prompt_number": 70
    },
    {
     "cell_type": "code",
     "collapsed": false,
     "input": [
      "44 % 11"
     ],
     "language": "python",
     "metadata": {},
     "outputs": [
      {
       "metadata": {},
       "output_type": "pyout",
       "prompt_number": 71,
       "text": [
        "0"
       ]
      }
     ],
     "prompt_number": 71
    },
    {
     "cell_type": "code",
     "collapsed": false,
     "input": [
      "210 % 11"
     ],
     "language": "python",
     "metadata": {},
     "outputs": [
      {
       "metadata": {},
       "output_type": "pyout",
       "prompt_number": 72,
       "text": [
        "1"
       ]
      }
     ],
     "prompt_number": 72
    },
    {
     "cell_type": "code",
     "collapsed": false,
     "input": [
      "44**2"
     ],
     "language": "python",
     "metadata": {},
     "outputs": [
      {
       "metadata": {},
       "output_type": "pyout",
       "prompt_number": 73,
       "text": [
        "1936"
       ]
      }
     ],
     "prompt_number": 73
    },
    {
     "cell_type": "code",
     "collapsed": false,
     "input": [
      "93 % 11"
     ],
     "language": "python",
     "metadata": {},
     "outputs": [
      {
       "metadata": {},
       "output_type": "pyout",
       "prompt_number": 74,
       "text": [
        "5"
       ]
      }
     ],
     "prompt_number": 74
    },
    {
     "cell_type": "code",
     "collapsed": false,
     "input": [
      "(99*1 + 97*2 + 116*3) % 11"
     ],
     "language": "python",
     "metadata": {},
     "outputs": [
      {
       "metadata": {},
       "output_type": "pyout",
       "prompt_number": 35,
       "text": [
        "3"
       ]
      }
     ],
     "prompt_number": 35
    },
    {
     "cell_type": "code",
     "collapsed": false,
     "input": [
      "ord('c') + ord('a') + ord('t')"
     ],
     "language": "python",
     "metadata": {},
     "outputs": [
      {
       "metadata": {},
       "output_type": "pyout",
       "prompt_number": 22,
       "text": [
        "312"
       ]
      }
     ],
     "prompt_number": 22
    },
    {
     "cell_type": "code",
     "collapsed": false,
     "input": [
      "(ord('c') + ord('a') + ord('t')) % 11"
     ],
     "language": "python",
     "metadata": {},
     "outputs": [
      {
       "metadata": {},
       "output_type": "pyout",
       "prompt_number": 24,
       "text": [
        "4"
       ]
      }
     ],
     "prompt_number": 24
    },
    {
     "cell_type": "code",
     "collapsed": false,
     "input": [
      "54 ** 2"
     ],
     "language": "python",
     "metadata": {},
     "outputs": [
      {
       "metadata": {},
       "output_type": "pyout",
       "prompt_number": 18,
       "text": [
        "2916"
       ]
      }
     ],
     "prompt_number": 18
    },
    {
     "cell_type": "code",
     "collapsed": false,
     "input": [
      "int(str(54 ** 2)[1:3]) % 11"
     ],
     "language": "python",
     "metadata": {},
     "outputs": [
      {
       "metadata": {},
       "output_type": "pyout",
       "prompt_number": 20,
       "text": [
        "3"
       ]
      }
     ],
     "prompt_number": 20
    },
    {
     "cell_type": "code",
     "collapsed": false,
     "input": [
      "93 ** 2"
     ],
     "language": "python",
     "metadata": {},
     "outputs": [
      {
       "metadata": {},
       "output_type": "pyout",
       "prompt_number": 21,
       "text": [
        "8649"
       ]
      }
     ],
     "prompt_number": 21
    },
    {
     "cell_type": "code",
     "collapsed": false,
     "input": [
      "hash('jan')"
     ],
     "language": "python",
     "metadata": {},
     "outputs": [
      {
       "metadata": {},
       "output_type": "pyout",
       "prompt_number": 1,
       "text": [
        "-8681419883224622032"
       ]
      }
     ],
     "prompt_number": 1
    },
    {
     "cell_type": "code",
     "collapsed": false,
     "input": [
      "hash('feb')"
     ],
     "language": "python",
     "metadata": {},
     "outputs": [
      {
       "metadata": {},
       "output_type": "pyout",
       "prompt_number": 2,
       "text": [
        "-4177197833201190620"
       ]
      }
     ],
     "prompt_number": 2
    },
    {
     "cell_type": "code",
     "collapsed": false,
     "input": [
      "hash('jan') % 8"
     ],
     "language": "python",
     "metadata": {},
     "outputs": [
      {
       "metadata": {},
       "output_type": "pyout",
       "prompt_number": 3,
       "text": [
        "0"
       ]
      }
     ],
     "prompt_number": 3
    },
    {
     "cell_type": "code",
     "collapsed": false,
     "input": [
      "hash('feb') % 8"
     ],
     "language": "python",
     "metadata": {},
     "outputs": [
      {
       "metadata": {},
       "output_type": "pyout",
       "prompt_number": 4,
       "text": [
        "4"
       ]
      }
     ],
     "prompt_number": 4
    },
    {
     "cell_type": "code",
     "collapsed": false,
     "input": [
      "hash('mar') % 8"
     ],
     "language": "python",
     "metadata": {},
     "outputs": [
      {
       "metadata": {},
       "output_type": "pyout",
       "prompt_number": 5,
       "text": [
        "3"
       ]
      }
     ],
     "prompt_number": 5
    },
    {
     "cell_type": "markdown",
     "metadata": {},
     "source": [
      "## \ucda9\ub3cc: \ubb38\uc81c"
     ]
    },
    {
     "cell_type": "code",
     "collapsed": false,
     "input": [
      "hash('jan') % 8"
     ],
     "language": "python",
     "metadata": {},
     "outputs": [
      {
       "metadata": {},
       "output_type": "pyout",
       "prompt_number": 6,
       "text": [
        "0"
       ]
      }
     ],
     "prompt_number": 6
    },
    {
     "cell_type": "code",
     "collapsed": false,
     "input": [
      "hash('apr') % 8"
     ],
     "language": "python",
     "metadata": {},
     "outputs": [
      {
       "metadata": {},
       "output_type": "pyout",
       "prompt_number": 7,
       "text": [
        "0"
       ]
      }
     ],
     "prompt_number": 7
    },
    {
     "cell_type": "markdown",
     "metadata": {},
     "source": [
      "### \uc601\ud5a5: \uc21c\uc11c\uac00 \ub2ec\ub77c\uc694"
     ]
    },
    {
     "cell_type": "code",
     "collapsed": false,
     "input": [
      "a = {'jan': 1, 'apr': 4}"
     ],
     "language": "python",
     "metadata": {},
     "outputs": [],
     "prompt_number": 8
    },
    {
     "cell_type": "code",
     "collapsed": false,
     "input": [
      "b = {'apr': 4, 'jan': 1}"
     ],
     "language": "python",
     "metadata": {},
     "outputs": [],
     "prompt_number": 9
    },
    {
     "cell_type": "code",
     "collapsed": false,
     "input": [
      "print a, b"
     ],
     "language": "python",
     "metadata": {},
     "outputs": [
      {
       "output_type": "stream",
       "stream": "stdout",
       "text": [
        "{'jan': 1, 'apr': 4} {'apr': 4, 'jan': 1}\n"
       ]
      }
     ],
     "prompt_number": 10
    },
    {
     "cell_type": "code",
     "collapsed": false,
     "input": [
      "print a == b"
     ],
     "language": "python",
     "metadata": {},
     "outputs": [
      {
       "output_type": "stream",
       "stream": "stdout",
       "text": [
        "True\n"
       ]
      }
     ],
     "prompt_number": 11
    },
    {
     "cell_type": "code",
     "collapsed": false,
     "input": [
      "a"
     ],
     "language": "python",
     "metadata": {},
     "outputs": [
      {
       "metadata": {},
       "output_type": "pyout",
       "prompt_number": 15,
       "text": [
        "{'apr': 4, 'jan': 1}"
       ]
      }
     ],
     "prompt_number": 15
    },
    {
     "cell_type": "code",
     "collapsed": false,
     "input": [
      "b"
     ],
     "language": "python",
     "metadata": {},
     "outputs": [
      {
       "metadata": {},
       "output_type": "pyout",
       "prompt_number": 16,
       "text": [
        "{'apr': 4, 'jan': 1}"
       ]
      }
     ],
     "prompt_number": 16
    },
    {
     "cell_type": "code",
     "collapsed": false,
     "input": [
      "print a.items() == b.items()"
     ],
     "language": "python",
     "metadata": {},
     "outputs": [
      {
       "output_type": "stream",
       "stream": "stdout",
       "text": [
        "False\n"
       ]
      }
     ],
     "prompt_number": 12
    },
    {
     "cell_type": "code",
     "collapsed": false,
     "input": [
      "a.items()"
     ],
     "language": "python",
     "metadata": {},
     "outputs": [
      {
       "metadata": {},
       "output_type": "pyout",
       "prompt_number": 13,
       "text": [
        "[('jan', 1), ('apr', 4)]"
       ]
      }
     ],
     "prompt_number": 13
    },
    {
     "cell_type": "code",
     "collapsed": false,
     "input": [
      "b.items()"
     ],
     "language": "python",
     "metadata": {},
     "outputs": [
      {
       "metadata": {},
       "output_type": "pyout",
       "prompt_number": 14,
       "text": [
        "[('apr', 4), ('jan', 1)]"
       ]
      }
     ],
     "prompt_number": 14
    },
    {
     "cell_type": "code",
     "collapsed": false,
     "input": [
      "210 % 11"
     ],
     "language": "python",
     "metadata": {},
     "outputs": [
      {
       "metadata": {},
       "output_type": "pyout",
       "prompt_number": 17,
       "text": [
        "1"
       ]
      }
     ],
     "prompt_number": 17
    }
   ],
   "metadata": {}
  }
 ]
}