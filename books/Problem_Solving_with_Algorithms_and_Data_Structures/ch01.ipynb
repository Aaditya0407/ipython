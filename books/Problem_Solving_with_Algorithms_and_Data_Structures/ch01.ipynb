{
 "metadata": {
  "name": "",
  "signature": "sha256:0f03e381ce1950cc264ba012cfca51cfdafe7a8c1c5b6401cd5ad9c6b555e2fb"
 },
 "nbformat": 3,
 "nbformat_minor": 0,
 "worksheets": [
  {
   "cells": [
    {
     "cell_type": "markdown",
     "metadata": {},
     "source": [
      "# Introduction\n",
      "\n",
      "## Objectives\n",
      "\n",
      "- To review the ideas of computer science, programming, and problem-solving.\n",
      "- To understand abstraction and the role it plays in the problem-solving process.\n",
      "- To understand and implement the notation of an abstract data type.\n",
      "- To review the Python programming language.\n",
      "\n",
      "## Getting Started\n",
      "\n",
      "- These topics helps us to become better problem solvers\n",
      "- we review the Python programming language"
     ]
    },
    {
     "cell_type": "markdown",
     "metadata": {},
     "source": [
      "## What Is Computer Science?\n",
      "\n",
      "- the study of problems\n",
      "- problem-solving\n",
      "- the solutions that come out of the problem-solving process\n",
      "- goal: to develop an **algorithm**\n",
      "- Algorithms are solutions.\n",
      "- computable: problem is comptable if an algorithms exists for solving it\n",
      "- abstraction: Abstration allows us to view the problem and solution in such a way as to separate the so-called logical and physical perspectives\n",
      "- interface: You are using the functions provided by the car designers for the purpose of transporting you from one location to another. These functions are sometimes also referred to as the inrerface"
     ]
    },
    {
     "cell_type": "code",
     "collapsed": false,
     "input": [
      "import math"
     ],
     "language": "python",
     "metadata": {},
     "outputs": [],
     "prompt_number": 1
    },
    {
     "cell_type": "code",
     "collapsed": false,
     "input": [
      "math.sqrt(16)"
     ],
     "language": "python",
     "metadata": {},
     "outputs": [
      {
       "metadata": {},
       "output_type": "pyout",
       "prompt_number": 2,
       "text": [
        "4.0"
       ]
      }
     ],
     "prompt_number": 2
    },
    {
     "cell_type": "markdown",
     "metadata": {},
     "source": [
      "- procedural abstraction: We do not necessarily know how the square root is being calculated, but we know what the function is called and how to use it\n",
      "- square root\uac00 \uc5b4\ub5bb\uac8c \uacc4\uc0b0\ub418\ub294\uc9c0 \ubab0\ub77c\ub3c4 \ub41c\ub2e4. \ud568\uc218\uac00 \ubb34\uc5c7\uc744 \ubd88\ub824\uc9c4 \uac83\uacfc \uc5b4\ub5bb\uac8c \uc0ac\uc6a9\ud558\ub294\uc9c0\ub294 \uc548\ub2e4.\n",
      "\n",
      "![procedural_abstraction](images/procedural_abstraction.png)"
     ]
    },
    {
     "cell_type": "markdown",
     "metadata": {},
     "source": [
      "## What Is Programming?\n",
      "\n",
      "- Programming: process of taking an algorithms and encoding it into a notation, a programming language, so that it can be executed by a computer\n",
      "- languages provide control constructs and data types\n",
      "- All data items in the computer are represented as strings of binary digits. we need to have **data types**"
     ]
    },
    {
     "cell_type": "markdown",
     "metadata": {},
     "source": [
      "## Why Study Data Structures and Abstract Data Types?\n",
      "\n",
      "- data abstraction\n",
      "- Abstract Data Type(ADT): ADT is logical description of how we view the data and the operations that are allowed without regard to how they will be implemented.\n",
      "- encapsulation\n",
      "- information hiding\n",
      "\n",
      "![adt](http://interactivepython.org/courselib/static/pythonds/_images/adt.png)\n",
      "\n",
      "- data structure\n",
      "- implementation-independent"
     ]
    },
    {
     "cell_type": "markdown",
     "metadata": {},
     "source": [
      "## Why Study Algorithms?\n",
      "\n",
      "- Computer scientists learn by experience\n",
      "- We learn by seeing others solve problems and by solving problems by ourselves.\n",
      "- We might suggest that one is more efficient or that one simply works faster or uses less memory\n",
      "- As we study algorithms, we can learn analysis techniques that allow us to compare and contrast solutions based solely on their own characteristics, not the characteristics of the program or computer used to implement them"
     ]
    },
    {
     "cell_type": "markdown",
     "metadata": {},
     "source": [
      "## Review of Basic Python"
     ]
    },
    {
     "cell_type": "code",
     "collapsed": false,
     "input": [
      "print('Algorithms and Data Structures')"
     ],
     "language": "python",
     "metadata": {},
     "outputs": [
      {
       "output_type": "stream",
       "stream": "stdout",
       "text": [
        "Algorithms and Data Structures\n"
       ]
      }
     ],
     "prompt_number": 1
    },
    {
     "cell_type": "markdown",
     "metadata": {},
     "source": [
      "## Getting Started with Data\n",
      "\n",
      "### Built-in Atomic Data Types"
     ]
    },
    {
     "cell_type": "code",
     "collapsed": false,
     "input": [
      "print 2+3*4\n",
      "print (2+3)*4\n",
      "print 2**10\n",
      "print 6/3\n",
      "print 7/3\n",
      "print 7//3\n",
      "print 7%3\n",
      "print 3/6\n",
      "print 3//6\n",
      "print 3%6\n",
      "print 2**100\n"
     ],
     "language": "python",
     "metadata": {},
     "outputs": [
      {
       "output_type": "stream",
       "stream": "stdout",
       "text": [
        "14\n",
        "20\n",
        "1024\n",
        "2\n",
        "2\n",
        "2\n",
        "1\n",
        "0\n",
        "0\n",
        "3\n",
        "1267650600228229401496703205376\n"
       ]
      }
     ],
     "prompt_number": 2
    },
    {
     "cell_type": "code",
     "collapsed": false,
     "input": [
      "True"
     ],
     "language": "python",
     "metadata": {},
     "outputs": [
      {
       "metadata": {},
       "output_type": "pyout",
       "prompt_number": 3,
       "text": [
        "True"
       ]
      }
     ],
     "prompt_number": 3
    },
    {
     "cell_type": "code",
     "collapsed": false,
     "input": [
      "False"
     ],
     "language": "python",
     "metadata": {},
     "outputs": [
      {
       "metadata": {},
       "output_type": "pyout",
       "prompt_number": 4,
       "text": [
        "False"
       ]
      }
     ],
     "prompt_number": 4
    },
    {
     "cell_type": "code",
     "collapsed": false,
     "input": [
      "False or True"
     ],
     "language": "python",
     "metadata": {},
     "outputs": [
      {
       "metadata": {},
       "output_type": "pyout",
       "prompt_number": 5,
       "text": [
        "True"
       ]
      }
     ],
     "prompt_number": 5
    },
    {
     "cell_type": "code",
     "collapsed": false,
     "input": [
      "not (False or True)"
     ],
     "language": "python",
     "metadata": {},
     "outputs": [
      {
       "metadata": {},
       "output_type": "pyout",
       "prompt_number": 6,
       "text": [
        "False"
       ]
      }
     ],
     "prompt_number": 6
    },
    {
     "cell_type": "code",
     "collapsed": false,
     "input": [
      "True and True"
     ],
     "language": "python",
     "metadata": {},
     "outputs": [
      {
       "metadata": {},
       "output_type": "pyout",
       "prompt_number": 7,
       "text": [
        "True"
       ]
      }
     ],
     "prompt_number": 7
    },
    {
     "cell_type": "markdown",
     "metadata": {},
     "source": [
      "#### Table 1: Relational and Logical Operators\n",
      "\n",
      "Operation Name |\tOperator |\tExplanation\n",
      "--- | --- | ---\n",
      "less than |\t< |\tLess than operator\n",
      "greater than |\t> |\tGreater than operator\n",
      "less than or equal |\t<= |\tLess than or equal to operator\n",
      "greater than or equal |\t>= |\tGreater than or equal to operator\n",
      "equal |\t== |\tEquality operator\n",
      "not equal |\t!= |\tNot equal operator\n",
      "logical and |\tand |\tBoth operands True for result to be True\n",
      "logical or |\tor |\tOne or the other operand is True for the result to be True\n",
      "logical not |\tnot |\tNegates the truth value, False becomes True, True becomes False"
     ]
    },
    {
     "cell_type": "code",
     "collapsed": false,
     "input": [
      "theSum = 0\n",
      "theSum"
     ],
     "language": "python",
     "metadata": {},
     "outputs": [
      {
       "metadata": {},
       "output_type": "pyout",
       "prompt_number": 11,
       "text": [
        "0"
       ]
      }
     ],
     "prompt_number": 11
    },
    {
     "cell_type": "code",
     "collapsed": false,
     "input": [
      "theSum = theSum + 1\n",
      "theSum"
     ],
     "language": "python",
     "metadata": {},
     "outputs": [
      {
       "metadata": {},
       "output_type": "pyout",
       "prompt_number": 12,
       "text": [
        "1"
       ]
      }
     ],
     "prompt_number": 12
    },
    {
     "cell_type": "code",
     "collapsed": false,
     "input": [
      "theSum = True\n",
      "theSum"
     ],
     "language": "python",
     "metadata": {},
     "outputs": [
      {
       "metadata": {},
       "output_type": "pyout",
       "prompt_number": 13,
       "text": [
        "True"
       ]
      }
     ],
     "prompt_number": 13
    },
    {
     "cell_type": "markdown",
     "metadata": {},
     "source": [
      "![Variables Hold References to Data Objects](http://interactivepython.org/courselib/static/pythonds/_images/assignment1.png)\n",
      "- Figure 3: Variables Hold References to Data Objects\n",
      "\n",
      "![Assignment Changes the Reference](http://interactivepython.org/courselib/static/pythonds/_images/assignment2.png)\n",
      "- Figure 4: Assignment Changes the Reference"
     ]
    },
    {
     "cell_type": "markdown",
     "metadata": {},
     "source": [
      "### Built-in Collection Data Types"
     ]
    },
    {
     "cell_type": "code",
     "collapsed": false,
     "input": [
      "[1, 3, True, 6.5]"
     ],
     "language": "python",
     "metadata": {},
     "outputs": [
      {
       "metadata": {},
       "output_type": "pyout",
       "prompt_number": 14,
       "text": [
        "[1, 3, True, 6.5]"
       ]
      }
     ],
     "prompt_number": 14
    },
    {
     "cell_type": "code",
     "collapsed": false,
     "input": [
      "myList = [1, 3, True, 6.5]\n",
      "myList"
     ],
     "language": "python",
     "metadata": {},
     "outputs": [
      {
       "metadata": {},
       "output_type": "pyout",
       "prompt_number": 3,
       "text": [
        "[1, 3, True, 6.5]"
       ]
      }
     ],
     "prompt_number": 3
    },
    {
     "cell_type": "markdown",
     "metadata": {},
     "source": [
      "#### Table 2: Operations on Any Sequence in Python\n",
      "\n",
      "Operation Name | Operator | Explanation\n",
      "--- | --- | ---\n",
      "indexing | [] | Access an element of a sequence\n",
      "concatenation | + | Combine sequences together\n",
      "repetition | * | Concatenate a repeated number of times\n",
      "membership | in | Ask whether an item is in a sequence\n",
      "length | len | Ask the number of items in the sequence\n",
      "slicing | [:] | Extract a part of a sequence"
     ]
    },
    {
     "cell_type": "code",
     "collapsed": false,
     "input": [
      "myList = [0] * 6\n",
      "myList"
     ],
     "language": "python",
     "metadata": {},
     "outputs": [
      {
       "metadata": {},
       "output_type": "pyout",
       "prompt_number": 4,
       "text": [
        "[0, 0, 0, 0, 0, 0]"
       ]
      }
     ],
     "prompt_number": 4
    },
    {
     "cell_type": "code",
     "collapsed": false,
     "input": [
      "myList = [1,2,3,4]\n",
      "A = [myList] * 3\n",
      "print(A)"
     ],
     "language": "python",
     "metadata": {},
     "outputs": [
      {
       "output_type": "stream",
       "stream": "stdout",
       "text": [
        "[[1, 2, 3, 4], [1, 2, 3, 4], [1, 2, 3, 4]]\n"
       ]
      }
     ],
     "prompt_number": 5
    },
    {
     "cell_type": "code",
     "collapsed": false,
     "input": [
      "# 2\ubc88\uc9f8 \ub370\uc774\ud130\ub97c \ubc14\uafe8\ub354\ub2c8 \uc804\ubd80 \ubc14\ub00c\uc5c8\ub2e4.\n",
      "# three references to the original list called myList\n",
      "myList[2] = 45\n",
      "print(A)"
     ],
     "language": "python",
     "metadata": {},
     "outputs": [
      {
       "output_type": "stream",
       "stream": "stdout",
       "text": [
        "[[1, 2, 45, 4], [1, 2, 45, 4], [1, 2, 45, 4]]\n"
       ]
      }
     ],
     "prompt_number": 6
    },
    {
     "cell_type": "markdown",
     "metadata": {},
     "source": [
      "#### Table3: Methods Provided by Lists in Python\n",
      "\n",
      "Method Name |\tUse |\tExplanation\n",
      "--- | --- | ---\n",
      "append |\talist.append(item) |\tAdds a new item to the end of a list\n",
      "insert |\talist.insert(i,item) |\tInserts an item at the ith position in a list\n",
      "pop |\talist.pop() |\tRemoves and returns the last item in a list\n",
      "pop |\talist.pop(i) |\tRemoves and returns the ith item in a list\n",
      "sort |\talist.sort() |\tModifies a list to be sorted\n",
      "reverse |\talist.reverse() |\tModifies a list to be in reverse order\n",
      "del |\tdel alist[i] |\tDeletes the item in the ith position\n",
      "index |\talist.index(item) |\tReturns the index of the first occurrence of item\n",
      "count |\talist.count(item) |\tReturns the number of occurrences of item\n",
      "remove |\talist.remove(item) |\tRemoves the first occurrence of item"
     ]
    },
    {
     "cell_type": "code",
     "collapsed": false,
     "input": [
      "(54).__add__(21)"
     ],
     "language": "python",
     "metadata": {},
     "outputs": [
      {
       "metadata": {},
       "output_type": "pyout",
       "prompt_number": 21,
       "text": [
        "75"
       ]
      }
     ],
     "prompt_number": 21
    },
    {
     "cell_type": "code",
     "collapsed": false,
     "input": [
      "(100).__mul__(10)"
     ],
     "language": "python",
     "metadata": {},
     "outputs": [
      {
       "metadata": {},
       "output_type": "pyout",
       "prompt_number": 22,
       "text": [
        "1000"
       ]
      }
     ],
     "prompt_number": 22
    },
    {
     "cell_type": "code",
     "collapsed": false,
     "input": [
      "(-100).__abs__()"
     ],
     "language": "python",
     "metadata": {},
     "outputs": [
      {
       "metadata": {},
       "output_type": "pyout",
       "prompt_number": 24,
       "text": [
        "100"
       ]
      }
     ],
     "prompt_number": 24
    },
    {
     "cell_type": "code",
     "collapsed": false,
     "input": [
      "(100).__abs__()"
     ],
     "language": "python",
     "metadata": {},
     "outputs": [
      {
       "metadata": {},
       "output_type": "pyout",
       "prompt_number": 25,
       "text": [
        "100"
       ]
      }
     ],
     "prompt_number": 25
    },
    {
     "cell_type": "code",
     "collapsed": false,
     "input": [
      "# \uc774 \uac1d\uccb4\uc5d0\uc11c \uc0ac\uc6a9\ud560 \uc218 \uc788\ub294 \uba54\uc18c\ub4dc\ub4e4\n",
      "# \ud30c\uc774\uc36c\uc740 \ubaa8\ub4e0\uac8c \uac1d\uccb4(\uc22b\uc790\ub3c4 \uac1d\uccb4)\n",
      "dir(100)"
     ],
     "language": "python",
     "metadata": {},
     "outputs": [
      {
       "metadata": {},
       "output_type": "pyout",
       "prompt_number": 23,
       "text": [
        "['__abs__',\n",
        " '__add__',\n",
        " '__and__',\n",
        " '__class__',\n",
        " '__cmp__',\n",
        " '__coerce__',\n",
        " '__delattr__',\n",
        " '__div__',\n",
        " '__divmod__',\n",
        " '__doc__',\n",
        " '__float__',\n",
        " '__floordiv__',\n",
        " '__format__',\n",
        " '__getattribute__',\n",
        " '__getnewargs__',\n",
        " '__hash__',\n",
        " '__hex__',\n",
        " '__index__',\n",
        " '__init__',\n",
        " '__int__',\n",
        " '__invert__',\n",
        " '__long__',\n",
        " '__lshift__',\n",
        " '__mod__',\n",
        " '__mul__',\n",
        " '__neg__',\n",
        " '__new__',\n",
        " '__nonzero__',\n",
        " '__oct__',\n",
        " '__or__',\n",
        " '__pos__',\n",
        " '__pow__',\n",
        " '__radd__',\n",
        " '__rand__',\n",
        " '__rdiv__',\n",
        " '__rdivmod__',\n",
        " '__reduce__',\n",
        " '__reduce_ex__',\n",
        " '__repr__',\n",
        " '__rfloordiv__',\n",
        " '__rlshift__',\n",
        " '__rmod__',\n",
        " '__rmul__',\n",
        " '__ror__',\n",
        " '__rpow__',\n",
        " '__rrshift__',\n",
        " '__rshift__',\n",
        " '__rsub__',\n",
        " '__rtruediv__',\n",
        " '__rxor__',\n",
        " '__setattr__',\n",
        " '__sizeof__',\n",
        " '__str__',\n",
        " '__sub__',\n",
        " '__subclasshook__',\n",
        " '__truediv__',\n",
        " '__trunc__',\n",
        " '__xor__',\n",
        " 'bit_length',\n",
        " 'conjugate',\n",
        " 'denominator',\n",
        " 'imag',\n",
        " 'numerator',\n",
        " 'real']"
       ]
      }
     ],
     "prompt_number": 23
    },
    {
     "cell_type": "code",
     "collapsed": false,
     "input": [
      "# \ucc45\uc740 python3\ub97c \uc368\uc11c generator\ub97c \ub3cc\ub824\uc90c\n",
      "range(10)"
     ],
     "language": "python",
     "metadata": {},
     "outputs": [
      {
       "metadata": {},
       "output_type": "pyout",
       "prompt_number": 26,
       "text": [
        "[0, 1, 2, 3, 4, 5, 6, 7, 8, 9]"
       ]
      }
     ],
     "prompt_number": 26
    },
    {
     "cell_type": "code",
     "collapsed": false,
     "input": [
      "range(5, 10)"
     ],
     "language": "python",
     "metadata": {},
     "outputs": [
      {
       "metadata": {},
       "output_type": "pyout",
       "prompt_number": 27,
       "text": [
        "[5, 6, 7, 8, 9]"
       ]
      }
     ],
     "prompt_number": 27
    },
    {
     "cell_type": "code",
     "collapsed": false,
     "input": [
      "range(5, 10, 2)"
     ],
     "language": "python",
     "metadata": {},
     "outputs": [
      {
       "metadata": {},
       "output_type": "pyout",
       "prompt_number": 28,
       "text": [
        "[5, 7, 9]"
       ]
      }
     ],
     "prompt_number": 28
    },
    {
     "cell_type": "code",
     "collapsed": false,
     "input": [
      "range(10, 1, -1)"
     ],
     "language": "python",
     "metadata": {},
     "outputs": [
      {
       "metadata": {},
       "output_type": "pyout",
       "prompt_number": 29,
       "text": [
        "[10, 9, 8, 7, 6, 5, 4, 3, 2]"
       ]
      }
     ],
     "prompt_number": 29
    },
    {
     "cell_type": "code",
     "collapsed": false,
     "input": [
      "\"David\""
     ],
     "language": "python",
     "metadata": {},
     "outputs": [
      {
       "metadata": {},
       "output_type": "pyout",
       "prompt_number": 30,
       "text": [
        "'David'"
       ]
      }
     ],
     "prompt_number": 30
    },
    {
     "cell_type": "code",
     "collapsed": false,
     "input": [
      "myName = \"David\""
     ],
     "language": "python",
     "metadata": {},
     "outputs": [],
     "prompt_number": 10
    },
    {
     "cell_type": "code",
     "collapsed": false,
     "input": [
      "myName[3]"
     ],
     "language": "python",
     "metadata": {},
     "outputs": [
      {
       "metadata": {},
       "output_type": "pyout",
       "prompt_number": 32,
       "text": [
        "'i'"
       ]
      }
     ],
     "prompt_number": 32
    },
    {
     "cell_type": "code",
     "collapsed": false,
     "input": [
      "myName * 2"
     ],
     "language": "python",
     "metadata": {},
     "outputs": [
      {
       "metadata": {},
       "output_type": "pyout",
       "prompt_number": 33,
       "text": [
        "'DavidDavid'"
       ]
      }
     ],
     "prompt_number": 33
    },
    {
     "cell_type": "code",
     "collapsed": false,
     "input": [
      "len(myName)"
     ],
     "language": "python",
     "metadata": {},
     "outputs": [
      {
       "metadata": {},
       "output_type": "pyout",
       "prompt_number": 34,
       "text": [
        "5"
       ]
      }
     ],
     "prompt_number": 34
    },
    {
     "cell_type": "code",
     "collapsed": false,
     "input": [
      "myName"
     ],
     "language": "python",
     "metadata": {},
     "outputs": [
      {
       "metadata": {},
       "output_type": "pyout",
       "prompt_number": 35,
       "text": [
        "'David'"
       ]
      }
     ],
     "prompt_number": 35
    },
    {
     "cell_type": "code",
     "collapsed": false,
     "input": [
      "myName.upper()"
     ],
     "language": "python",
     "metadata": {},
     "outputs": [
      {
       "metadata": {},
       "output_type": "pyout",
       "prompt_number": 36,
       "text": [
        "'DAVID'"
       ]
      }
     ],
     "prompt_number": 36
    },
    {
     "cell_type": "code",
     "collapsed": false,
     "input": [
      "myName.center(10)"
     ],
     "language": "python",
     "metadata": {},
     "outputs": [
      {
       "metadata": {},
       "output_type": "pyout",
       "prompt_number": 37,
       "text": [
        "'  David   '"
       ]
      }
     ],
     "prompt_number": 37
    },
    {
     "cell_type": "code",
     "collapsed": false,
     "input": [
      "myName.find('v')"
     ],
     "language": "python",
     "metadata": {},
     "outputs": [
      {
       "metadata": {},
       "output_type": "pyout",
       "prompt_number": 38,
       "text": [
        "2"
       ]
      }
     ],
     "prompt_number": 38
    },
    {
     "cell_type": "code",
     "collapsed": false,
     "input": [
      "myName.split('v')"
     ],
     "language": "python",
     "metadata": {},
     "outputs": [
      {
       "metadata": {},
       "output_type": "pyout",
       "prompt_number": 39,
       "text": [
        "['Da', 'id']"
       ]
      }
     ],
     "prompt_number": 39
    },
    {
     "cell_type": "markdown",
     "metadata": {},
     "source": [
      "#### Table 4: Methods Provided by Strings in Python\n",
      "\n",
      "Method | Name |\tUse\tExplanation\n",
      "--- | --- | ---\n",
      "center |\tastring.center(w) |\tReturns a string centered in a field of size w\n",
      "count |\tastring.count(item) |\tReturns the number of occurrences of item in the string\n",
      "ljust |\tastring.ljust(w) |\tReturns a string left-justified in a field of size w\n",
      "lower |\tastring.lower() |\tReturns a string in all lowercase\n",
      "rjust |\tastring.rjust(w) |\tReturns a string right-justified in a field of size w\n",
      "find |\tastring.find(item) |\tReturns the index of the first occurrence of item\n",
      "split |\tastring.split(schar) |\tSplits a string into substrings at schar"
     ]
    },
    {
     "cell_type": "code",
     "collapsed": false,
     "input": [
      "myList = [1, 3, True, 6.5]\n",
      "myList"
     ],
     "language": "python",
     "metadata": {},
     "outputs": [
      {
       "metadata": {},
       "output_type": "pyout",
       "prompt_number": 8,
       "text": [
        "[1, 3, True, 6.5]"
       ]
      }
     ],
     "prompt_number": 8
    },
    {
     "cell_type": "code",
     "collapsed": false,
     "input": [
      "# List is mutable\n",
      "myList[0] = 2 ** 10\n",
      "myList"
     ],
     "language": "python",
     "metadata": {},
     "outputs": [
      {
       "metadata": {},
       "output_type": "pyout",
       "prompt_number": 14,
       "text": [
        "[1024, 3, True, 6.5]"
       ]
      }
     ],
     "prompt_number": 14
    },
    {
     "cell_type": "code",
     "collapsed": false,
     "input": [
      "myName"
     ],
     "language": "python",
     "metadata": {},
     "outputs": [
      {
       "metadata": {},
       "output_type": "pyout",
       "prompt_number": 15,
       "text": [
        "'David'"
       ]
      }
     ],
     "prompt_number": 15
    },
    {
     "cell_type": "code",
     "collapsed": false,
     "input": [
      "# String is immutable\n",
      "myName[0] = 'X'"
     ],
     "language": "python",
     "metadata": {},
     "outputs": [
      {
       "ename": "TypeError",
       "evalue": "'str' object does not support item assignment",
       "output_type": "pyerr",
       "traceback": [
        "\u001b[0;31m---------------------------------------------------------------------------\u001b[0m\n\u001b[0;31mTypeError\u001b[0m                                 Traceback (most recent call last)",
        "\u001b[0;32m<ipython-input-16-fdb2394629ed>\u001b[0m in \u001b[0;36m<module>\u001b[0;34m()\u001b[0m\n\u001b[1;32m      1\u001b[0m \u001b[0;31m# String is immutable\u001b[0m\u001b[0;34m\u001b[0m\u001b[0;34m\u001b[0m\u001b[0m\n\u001b[0;32m----> 2\u001b[0;31m \u001b[0mmyName\u001b[0m\u001b[0;34m[\u001b[0m\u001b[0;36m0\u001b[0m\u001b[0;34m]\u001b[0m \u001b[0;34m=\u001b[0m \u001b[0;34m'X'\u001b[0m\u001b[0;34m\u001b[0m\u001b[0m\n\u001b[0m",
        "\u001b[0;31mTypeError\u001b[0m: 'str' object does not support item assignment"
       ]
      }
     ],
     "prompt_number": 16
    },
    {
     "cell_type": "code",
     "collapsed": false,
     "input": [
      "myTuple = (2, True, 4.96)\n",
      "myTuple"
     ],
     "language": "python",
     "metadata": {},
     "outputs": [
      {
       "metadata": {},
       "output_type": "pyout",
       "prompt_number": 18,
       "text": [
        "(2, True, 4.96)"
       ]
      }
     ],
     "prompt_number": 18
    },
    {
     "cell_type": "code",
     "collapsed": false,
     "input": [
      "len(myTuple)"
     ],
     "language": "python",
     "metadata": {},
     "outputs": [
      {
       "metadata": {},
       "output_type": "pyout",
       "prompt_number": 19,
       "text": [
        "3"
       ]
      }
     ],
     "prompt_number": 19
    },
    {
     "cell_type": "code",
     "collapsed": false,
     "input": [
      "myTuple[0]"
     ],
     "language": "python",
     "metadata": {},
     "outputs": [
      {
       "metadata": {},
       "output_type": "pyout",
       "prompt_number": 20,
       "text": [
        "2"
       ]
      }
     ],
     "prompt_number": 20
    },
    {
     "cell_type": "code",
     "collapsed": false,
     "input": [
      "myTuple * 3"
     ],
     "language": "python",
     "metadata": {},
     "outputs": [
      {
       "metadata": {},
       "output_type": "pyout",
       "prompt_number": 21,
       "text": [
        "(2, True, 4.96, 2, True, 4.96, 2, True, 4.96)"
       ]
      }
     ],
     "prompt_number": 21
    },
    {
     "cell_type": "code",
     "collapsed": false,
     "input": [
      "myTuple[0:2]"
     ],
     "language": "python",
     "metadata": {},
     "outputs": [
      {
       "metadata": {},
       "output_type": "pyout",
       "prompt_number": 22,
       "text": [
        "(2, True)"
       ]
      }
     ],
     "prompt_number": 22
    },
    {
     "cell_type": "code",
     "collapsed": false,
     "input": [
      "myTuple[1] = False"
     ],
     "language": "python",
     "metadata": {},
     "outputs": [
      {
       "ename": "TypeError",
       "evalue": "'tuple' object does not support item assignment",
       "output_type": "pyerr",
       "traceback": [
        "\u001b[0;31m---------------------------------------------------------------------------\u001b[0m\n\u001b[0;31mTypeError\u001b[0m                                 Traceback (most recent call last)",
        "\u001b[0;32m<ipython-input-23-eb935a311b80>\u001b[0m in \u001b[0;36m<module>\u001b[0;34m()\u001b[0m\n\u001b[0;32m----> 1\u001b[0;31m \u001b[0mmyTuple\u001b[0m\u001b[0;34m[\u001b[0m\u001b[0;36m1\u001b[0m\u001b[0;34m]\u001b[0m \u001b[0;34m=\u001b[0m \u001b[0mFalse\u001b[0m\u001b[0;34m\u001b[0m\u001b[0m\n\u001b[0m",
        "\u001b[0;31mTypeError\u001b[0m: 'tuple' object does not support item assignment"
       ]
      }
     ],
     "prompt_number": 23
    },
    {
     "cell_type": "code",
     "collapsed": false,
     "input": [
      "{3, 6, 'cat', 4.5, False}"
     ],
     "language": "python",
     "metadata": {},
     "outputs": [
      {
       "metadata": {},
       "output_type": "pyout",
       "prompt_number": 24,
       "text": [
        "{False, 3, 4.5, 6, 'cat'}"
       ]
      }
     ],
     "prompt_number": 24
    },
    {
     "cell_type": "code",
     "collapsed": false,
     "input": [
      "mySet = {3, 6, 'cat', 4.5, False}\n",
      "mySet"
     ],
     "language": "python",
     "metadata": {},
     "outputs": [
      {
       "metadata": {},
       "output_type": "pyout",
       "prompt_number": 26,
       "text": [
        "{False, 3, 4.5, 6, 'cat'}"
       ]
      }
     ],
     "prompt_number": 26
    },
    {
     "cell_type": "markdown",
     "metadata": {},
     "source": [
      "#### Table 5: Operations on a Set in Python\n",
      "\n",
      "Operation Name | Operator | Explanation\n",
      "--- | --- | ---\n",
      "membership | in | Set membership\n",
      "length | len | Returns the cardinality of the set\n",
      "bar | aset bar otherset | Returns a new set with all elements from both sets\n",
      "& | aset & otherset | Returns a new set with only those elements common to both sets\n",
      "- | aset - otherset | Returns a new set with all items from the first set not in second\n",
      "<= | aset <= otherset | Asks whether all elements of the first set are in the second"
     ]
    },
    {
     "cell_type": "code",
     "collapsed": false,
     "input": [
      "mySet"
     ],
     "language": "python",
     "metadata": {},
     "outputs": [
      {
       "metadata": {},
       "output_type": "pyout",
       "prompt_number": 27,
       "text": [
        "{False, 3, 4.5, 6, 'cat'}"
       ]
      }
     ],
     "prompt_number": 27
    },
    {
     "cell_type": "code",
     "collapsed": false,
     "input": [
      "len(mySet)"
     ],
     "language": "python",
     "metadata": {},
     "outputs": [
      {
       "metadata": {},
       "output_type": "pyout",
       "prompt_number": 28,
       "text": [
        "5"
       ]
      }
     ],
     "prompt_number": 28
    },
    {
     "cell_type": "code",
     "collapsed": false,
     "input": [
      "False in mySet"
     ],
     "language": "python",
     "metadata": {},
     "outputs": [
      {
       "metadata": {},
       "output_type": "pyout",
       "prompt_number": 29,
       "text": [
        "True"
       ]
      }
     ],
     "prompt_number": 29
    },
    {
     "cell_type": "code",
     "collapsed": false,
     "input": [
      "'dog' in mySet"
     ],
     "language": "python",
     "metadata": {},
     "outputs": [
      {
       "metadata": {},
       "output_type": "pyout",
       "prompt_number": 30,
       "text": [
        "False"
       ]
      }
     ],
     "prompt_number": 30
    },
    {
     "cell_type": "markdown",
     "metadata": {},
     "source": [
      "#### Table 6: Methods Provided by Sets in Python\n",
      "\n",
      "Method Name | Use | Explanation\n",
      "--- | --- | ---\n",
      "union | aset.union(otherset) | Returns a new set with all elements from both sets\n",
      "intersection | aset.intersection(otherset) | Returns a new set with only those elements common to both sets\n",
      "difference | aset.difference(otherset) | Returns a new set with all items from first set not in second\n",
      "issubset | aset.issubset(otherset) | Asks whether all elements of one set are in the other\n",
      "add | aset.add(item) | Adds item to the set\n",
      "remove | aset.remove(item) | Removes item from the set\n",
      "pop | aset.pop() | Removes an arbitrary element from the set\n",
      "clear | aset.clear() | Removes all elements from the set"
     ]
    },
    {
     "cell_type": "code",
     "collapsed": false,
     "input": [
      "mySet"
     ],
     "language": "python",
     "metadata": {},
     "outputs": [
      {
       "metadata": {},
       "output_type": "pyout",
       "prompt_number": 31,
       "text": [
        "{False, 3, 4.5, 6, 'cat'}"
       ]
      }
     ],
     "prompt_number": 31
    },
    {
     "cell_type": "code",
     "collapsed": false,
     "input": [
      "yourSet = {99, 3, 100}"
     ],
     "language": "python",
     "metadata": {},
     "outputs": [],
     "prompt_number": 32
    },
    {
     "cell_type": "code",
     "collapsed": false,
     "input": [
      "mySet.union(yourSet)"
     ],
     "language": "python",
     "metadata": {},
     "outputs": [
      {
       "metadata": {},
       "output_type": "pyout",
       "prompt_number": 33,
       "text": [
        "{False, 3, 4.5, 6, 99, 100, 'cat'}"
       ]
      }
     ],
     "prompt_number": 33
    },
    {
     "cell_type": "code",
     "collapsed": false,
     "input": [
      "mySet | yourSet"
     ],
     "language": "python",
     "metadata": {},
     "outputs": [
      {
       "metadata": {},
       "output_type": "pyout",
       "prompt_number": 34,
       "text": [
        "{False, 3, 4.5, 6, 99, 100, 'cat'}"
       ]
      }
     ],
     "prompt_number": 34
    },
    {
     "cell_type": "code",
     "collapsed": false,
     "input": [
      "mySet.intersection(yourSet)"
     ],
     "language": "python",
     "metadata": {},
     "outputs": [
      {
       "metadata": {},
       "output_type": "pyout",
       "prompt_number": 36,
       "text": [
        "{3}"
       ]
      }
     ],
     "prompt_number": 36
    },
    {
     "cell_type": "code",
     "collapsed": false,
     "input": [
      "mySet & yourSet"
     ],
     "language": "python",
     "metadata": {},
     "outputs": [
      {
       "metadata": {},
       "output_type": "pyout",
       "prompt_number": 35,
       "text": [
        "{3}"
       ]
      }
     ],
     "prompt_number": 35
    },
    {
     "cell_type": "code",
     "collapsed": false,
     "input": [
      "mySet.difference(yourSet)"
     ],
     "language": "python",
     "metadata": {},
     "outputs": [
      {
       "metadata": {},
       "output_type": "pyout",
       "prompt_number": 37,
       "text": [
        "{False, 4.5, 6, 'cat'}"
       ]
      }
     ],
     "prompt_number": 37
    },
    {
     "cell_type": "code",
     "collapsed": false,
     "input": [
      "mySet - yourSet"
     ],
     "language": "python",
     "metadata": {},
     "outputs": [
      {
       "metadata": {},
       "output_type": "pyout",
       "prompt_number": 38,
       "text": [
        "{False, 4.5, 6, 'cat'}"
       ]
      }
     ],
     "prompt_number": 38
    },
    {
     "cell_type": "code",
     "collapsed": false,
     "input": [
      "{3, 100}.issubset(yourSet)"
     ],
     "language": "python",
     "metadata": {},
     "outputs": [
      {
       "metadata": {},
       "output_type": "pyout",
       "prompt_number": 39,
       "text": [
        "True"
       ]
      }
     ],
     "prompt_number": 39
    },
    {
     "cell_type": "code",
     "collapsed": false,
     "input": [
      "{3, 100} <= yourSet"
     ],
     "language": "python",
     "metadata": {},
     "outputs": [
      {
       "metadata": {},
       "output_type": "pyout",
       "prompt_number": 40,
       "text": [
        "True"
       ]
      }
     ],
     "prompt_number": 40
    },
    {
     "cell_type": "code",
     "collapsed": false,
     "input": [
      "mySet.add('house')"
     ],
     "language": "python",
     "metadata": {},
     "outputs": [],
     "prompt_number": 41
    },
    {
     "cell_type": "code",
     "collapsed": false,
     "input": [
      "mySet"
     ],
     "language": "python",
     "metadata": {},
     "outputs": [
      {
       "metadata": {},
       "output_type": "pyout",
       "prompt_number": 42,
       "text": [
        "{False, 3, 4.5, 6, 'cat', 'house'}"
       ]
      }
     ],
     "prompt_number": 42
    },
    {
     "cell_type": "code",
     "collapsed": false,
     "input": [
      "mySet.remove(4.5)"
     ],
     "language": "python",
     "metadata": {},
     "outputs": [],
     "prompt_number": 43
    },
    {
     "cell_type": "code",
     "collapsed": false,
     "input": [
      "mySet"
     ],
     "language": "python",
     "metadata": {},
     "outputs": [
      {
       "metadata": {},
       "output_type": "pyout",
       "prompt_number": 44,
       "text": [
        "{False, 3, 6, 'cat', 'house'}"
       ]
      }
     ],
     "prompt_number": 44
    },
    {
     "cell_type": "code",
     "collapsed": false,
     "input": [
      "mySet.pop()"
     ],
     "language": "python",
     "metadata": {},
     "outputs": [
      {
       "metadata": {},
       "output_type": "pyout",
       "prompt_number": 45,
       "text": [
        "False"
       ]
      }
     ],
     "prompt_number": 45
    },
    {
     "cell_type": "code",
     "collapsed": false,
     "input": [
      "mySet"
     ],
     "language": "python",
     "metadata": {},
     "outputs": [
      {
       "metadata": {},
       "output_type": "pyout",
       "prompt_number": 46,
       "text": [
        "{3, 6, 'cat', 'house'}"
       ]
      }
     ],
     "prompt_number": 46
    },
    {
     "cell_type": "code",
     "collapsed": false,
     "input": [
      "mySet.pop()"
     ],
     "language": "python",
     "metadata": {},
     "outputs": [
      {
       "metadata": {},
       "output_type": "pyout",
       "prompt_number": 47,
       "text": [
        "3"
       ]
      }
     ],
     "prompt_number": 47
    },
    {
     "cell_type": "code",
     "collapsed": false,
     "input": [
      "mySet.clear()"
     ],
     "language": "python",
     "metadata": {},
     "outputs": [],
     "prompt_number": 48
    },
    {
     "cell_type": "code",
     "collapsed": false,
     "input": [
      "mySet"
     ],
     "language": "python",
     "metadata": {},
     "outputs": [
      {
       "metadata": {},
       "output_type": "pyout",
       "prompt_number": 49,
       "text": [
        "set()"
       ]
      }
     ],
     "prompt_number": 49
    },
    {
     "cell_type": "markdown",
     "metadata": {},
     "source": [
      "#### Dictionary"
     ]
    },
    {
     "cell_type": "code",
     "collapsed": false,
     "input": [
      "capitals = {'Iowa': 'DesMoines', 'Wisconsin': 'Madison'}\n",
      "capitals"
     ],
     "language": "python",
     "metadata": {},
     "outputs": [
      {
       "metadata": {},
       "output_type": "pyout",
       "prompt_number": 51,
       "text": [
        "{'Iowa': 'DesMoines', 'Wisconsin': 'Madison'}"
       ]
      }
     ],
     "prompt_number": 51
    },
    {
     "cell_type": "code",
     "collapsed": false,
     "input": [
      "print(capitals['Iowa'])"
     ],
     "language": "python",
     "metadata": {},
     "outputs": [
      {
       "output_type": "stream",
       "stream": "stdout",
       "text": [
        "DesMoines\n"
       ]
      }
     ],
     "prompt_number": 52
    },
    {
     "cell_type": "code",
     "collapsed": false,
     "input": [
      "capitals['Utah'] = 'SaltLakeCity'\n",
      "capitals"
     ],
     "language": "python",
     "metadata": {},
     "outputs": [
      {
       "metadata": {},
       "output_type": "pyout",
       "prompt_number": 53,
       "text": [
        "{'Iowa': 'DesMoines', 'Utah': 'SaltLakeCity', 'Wisconsin': 'Madison'}"
       ]
      }
     ],
     "prompt_number": 53
    },
    {
     "cell_type": "code",
     "collapsed": false,
     "input": [
      "capitals['California'] = 'Sacramento'\n",
      "len(capitals)"
     ],
     "language": "python",
     "metadata": {},
     "outputs": [
      {
       "metadata": {},
       "output_type": "pyout",
       "prompt_number": 54,
       "text": [
        "4"
       ]
      }
     ],
     "prompt_number": 54
    },
    {
     "cell_type": "code",
     "collapsed": false,
     "input": [
      "for k in capitals:\n",
      "    print(capitals[k], \" is the capital of \", k)"
     ],
     "language": "python",
     "metadata": {},
     "outputs": [
      {
       "output_type": "stream",
       "stream": "stdout",
       "text": [
        "('Madison', ' is the capital of ', 'Wisconsin')\n",
        "('SaltLakeCity', ' is the capital of ', 'Utah')\n",
        "('DesMoines', ' is the capital of ', 'Iowa')\n",
        "('Sacramento', ' is the capital of ', 'California')\n"
       ]
      }
     ],
     "prompt_number": 55
    },
    {
     "cell_type": "markdown",
     "metadata": {},
     "source": [
      "#### Table 7: Operators Provided by Dictionaries in Python\n",
      "\n",
      "Operator | Use | Explanation\n",
      "--- | --- | ---\n",
      "[] | myDict[k] | Returns the value associated with k, otherwise its an error\n",
      "in | key in adict | Returns True if keys is in the dictionary, False otherwise\n",
      "del | del adict[key] | Removes the entry from the dictionary"
     ]
    },
    {
     "cell_type": "code",
     "collapsed": false,
     "input": [
      "phoneext = {'david':1410, 'brad':1137}\n",
      "phoneext"
     ],
     "language": "python",
     "metadata": {},
     "outputs": [
      {
       "metadata": {},
       "output_type": "pyout",
       "prompt_number": 56,
       "text": [
        "{'brad': 1137, 'david': 1410}"
       ]
      }
     ],
     "prompt_number": 56
    },
    {
     "cell_type": "code",
     "collapsed": false,
     "input": [
      "phoneext.keys()"
     ],
     "language": "python",
     "metadata": {},
     "outputs": [
      {
       "metadata": {},
       "output_type": "pyout",
       "prompt_number": 57,
       "text": [
        "['brad', 'david']"
       ]
      }
     ],
     "prompt_number": 57
    },
    {
     "cell_type": "code",
     "collapsed": false,
     "input": [
      "list(phoneext.keys())"
     ],
     "language": "python",
     "metadata": {},
     "outputs": [
      {
       "metadata": {},
       "output_type": "pyout",
       "prompt_number": 58,
       "text": [
        "['brad', 'david']"
       ]
      }
     ],
     "prompt_number": 58
    },
    {
     "cell_type": "code",
     "collapsed": false,
     "input": [
      "phoneext.values()"
     ],
     "language": "python",
     "metadata": {},
     "outputs": [
      {
       "metadata": {},
       "output_type": "pyout",
       "prompt_number": 59,
       "text": [
        "[1137, 1410]"
       ]
      }
     ],
     "prompt_number": 59
    },
    {
     "cell_type": "code",
     "collapsed": false,
     "input": [
      "list(phoneext.values())"
     ],
     "language": "python",
     "metadata": {},
     "outputs": [
      {
       "metadata": {},
       "output_type": "pyout",
       "prompt_number": 60,
       "text": [
        "[1137, 1410]"
       ]
      }
     ],
     "prompt_number": 60
    },
    {
     "cell_type": "code",
     "collapsed": false,
     "input": [
      "phoneext.items()"
     ],
     "language": "python",
     "metadata": {},
     "outputs": [
      {
       "metadata": {},
       "output_type": "pyout",
       "prompt_number": 61,
       "text": [
        "[('brad', 1137), ('david', 1410)]"
       ]
      }
     ],
     "prompt_number": 61
    },
    {
     "cell_type": "code",
     "collapsed": false,
     "input": [
      "list(phoneext.items())"
     ],
     "language": "python",
     "metadata": {},
     "outputs": [
      {
       "metadata": {},
       "output_type": "pyout",
       "prompt_number": 62,
       "text": [
        "[('brad', 1137), ('david', 1410)]"
       ]
      }
     ],
     "prompt_number": 62
    },
    {
     "cell_type": "code",
     "collapsed": false,
     "input": [
      "phoneext.get('kent')"
     ],
     "language": "python",
     "metadata": {},
     "outputs": [],
     "prompt_number": 64
    },
    {
     "cell_type": "code",
     "collapsed": false,
     "input": [
      "phoneext.get('kent', 'NO ENTRY')"
     ],
     "language": "python",
     "metadata": {},
     "outputs": [
      {
       "metadata": {},
       "output_type": "pyout",
       "prompt_number": 65,
       "text": [
        "'NO ENTRY'"
       ]
      }
     ],
     "prompt_number": 65
    },
    {
     "cell_type": "markdown",
     "metadata": {},
     "source": [
      "#### Table 8: Methods Provided by Dictionaries in Python\n",
      "\n",
      "Method Name | Use | Explanation\n",
      "--- | --- | ---\n",
      "keys | adict.keys() | Returns the keys of the dictionary in a dict_keys object\n",
      "values | adict.values() | Returns the values of the dictionary in a dict_values object\n",
      "items | adict.items() | Returns the key-value pairs in a dict_items object\n",
      "get | adict.get(k) | Returns the value associated with k, None otherwise\n",
      "get | adict.get(k, alt) | Returns the value associated with k, alt otherwise"
     ]
    },
    {
     "cell_type": "markdown",
     "metadata": {},
     "source": [
      "> Note: \uc774\ub7f0 \uae30\ucd08\ub294 \ub108\ubb34 \ub9ce\uc774 \ud574\uc11c \uc774\ub9cc \ud328\uc2a4\ud574\uc57c\uaca0\ub2e4. \uc54c\uace0\ub9ac\uc998\uc5d0 \uc9d1\uc911\ud558\uba74\uc11c \ubcf4\uc790"
     ]
    },
    {
     "cell_type": "code",
     "collapsed": false,
     "input": [],
     "language": "python",
     "metadata": {},
     "outputs": []
    }
   ],
   "metadata": {}
  }
 ]
}