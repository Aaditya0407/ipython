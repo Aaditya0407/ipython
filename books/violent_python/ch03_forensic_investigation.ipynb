{
 "metadata": {
  "name": "",
  "signature": "sha256:f464b30913101586146065f544c0156802fcc395153b90c0e640ae8d56ce9535"
 },
 "nbformat": 3,
 "nbformat_minor": 0,
 "worksheets": [
  {
   "cells": [
    {
     "cell_type": "markdown",
     "metadata": {},
     "source": [
      "# 3. \ud3ec\ub80c\uc2dd \uc218\uc0ac\n",
      "\n",
      "## \uc774 \uc7a5\uc5d0\uc11c \ub2e4\ub8e8\ub294 \ub0b4\uc6a9\n",
      "\n",
      "- \uc708\ub3c4\uc6b0 \ub808\uc9c0\uc2a4\ud2b8\ub97c \ud1b5\ud55c \ubb3c\ub9ac\uc801 \uc704\uce58 \ud30c\uc545\n",
      "- \ud734\uc9c0\ud1b5 \uc870\uc0ac\n",
      "- PDF\uc640 \ub9c8\uc774\ud06c\ub85c\uc18c\ud504\ud2b8 \ubb38\uc11c \ud30c\uc77c\uc758 \uba54\ud0c0\ub370\uc774\ud130\n",
      "- Exif \uba54\ud0c0\ub370\uc774\ud130\uc5d0\uc11c GPS \uc88c\ud45c \uac00\uc838\uc624\uae30\n",
      "- \uc2a4\uce74\uc774\ud504 \uc0ac\uc6a9\ud754\uc801 \uc870\uc0ac\n",
      "- \ud30c\uc774\uc5b4\ud3ed\uc2a4 \uc0ac\uc6a9\ud754\uc801 \uc870\uc0ac\n",
      "- \ubaa8\ubc14\uc77c \uae30\uae30 \uc0ac\uc6a9\ud754\uc801 \uc870\uc0ac\n",
      "\n",
      "#### \ub9c8\uc9c0\ub9c9\uc5d0\ub294 \ud14c\ud06c\ub2c9\uc774\ub77c\ub294 \uac83 \uc790\uccb4\ub97c \uc644\uc804\ud788 \uc78a\uc5b4\ubc84\ub824\uc57c \ud55c\ub2e4. \ub354 \ubc1c\uc804\ud558\uba74 \ud560\uc218\ub85d \uac00\ub974\uccd0\uc904 \uc218 \uc788\ub294 \uac83\ub4e4\uc740 \uc904\uc5b4\ub4e4\uac8c \ub41c\ub2e4. \uac00\uc7a5 \ud6cc\ub96d\ud55c \uae38\uc740 \uc544\ubb34\ub3c4 \uac00\uc9c0 \uc54a\uc740 \uae38\uc744 \uac00\ub294 \uac83\uc774\ub2e4."
     ]
    },
    {
     "cell_type": "code",
     "collapsed": false,
     "input": [
      "python_experience = 1\n",
      "\n",
      "if do_you_understand():\n",
      "    print 'wow'\n",
      "else:\n",
      "    print \"I'll study python\""
     ],
     "language": "python",
     "metadata": {},
     "outputs": [],
     "prompt_number": 1
    },
    {
     "cell_type": "code",
     "collapsed": false,
     "input": [
      "import random"
     ],
     "language": "python",
     "metadata": {},
     "outputs": [],
     "prompt_number": 2
    },
    {
     "cell_type": "code",
     "collapsed": false,
     "input": [
      "random.randint(1, 5)"
     ],
     "language": "python",
     "metadata": {},
     "outputs": [
      {
       "metadata": {},
       "output_type": "pyout",
       "prompt_number": 13,
       "text": [
        "4"
       ]
      }
     ],
     "prompt_number": 13
    },
    {
     "cell_type": "code",
     "collapsed": false,
     "input": [],
     "language": "python",
     "metadata": {},
     "outputs": []
    }
   ],
   "metadata": {}
  }
 ]
}