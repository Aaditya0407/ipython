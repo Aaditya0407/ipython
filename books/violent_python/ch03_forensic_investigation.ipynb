{
 "metadata": {
  "name": "",
  "signature": "sha256:b73d9abbfcbba7090da041e600c83e951cc6e414519cd1a9a288d2bdaa044120"
 },
 "nbformat": 3,
 "nbformat_minor": 0,
 "worksheets": [
  {
   "cells": [
    {
     "cell_type": "markdown",
     "metadata": {},
     "source": [
      "# 3. \ud3ec\ub80c\uc2dd \uc218\uc0ac\n",
      "\n",
      "### \uc774 \uc7a5\uc5d0\uc11c \ub2e4\ub8e8\ub294 \ub0b4\uc6a9\n",
      "\n",
      "- \uc708\ub3c4\uc6b0 \ub808\uc9c0\uc2a4\ud2b8\ub9ac\ub97c \ud1b5\ud55c **\ubb3c\ub9ac\uc801 \uc704\uce58 \ud30c\uc545**\n",
      "- **\ud734\uc9c0\ud1b5** \uc870\uc0ac\n",
      "- **PDF**\uc640 **\ub9c8\uc774\ud06c\ub85c\uc18c\ud504\ud2b8 \ubb38\uc11c** \ud30c\uc77c\uc758 **\uba54\ud0c0\ub370\uc774\ud130**\n",
      "- **Exif \uba54\ud0c0\ub370\uc774\ud130**\uc5d0\uc11c **GPS** \uc88c\ud45c \uac00\uc838\uc624\uae30\n",
      "- **\uc2a4\uce74\uc774\ud504** \uc0ac\uc6a9\ud754\uc801 \uc870\uc0ac\n",
      "- **\ud30c\uc774\uc5b4\ud3ed\uc2a4** \uc0ac\uc6a9\ud754\uc801 \uc870\uc0ac\n",
      "- **\ubaa8\ubc14\uc77c \uae30\uae30** \uc0ac\uc6a9\ud754\uc801 \uc870\uc0ac\n",
      "\n",
      "#### \ub9c8\uc9c0\ub9c9\uc5d0\ub294 \ud14c\ud06c\ub2c9\uc774\ub77c\ub294 \uac83 \uc790\uccb4\ub97c \uc644\uc804\ud788 \uc78a\uc5b4\ubc84\ub824\uc57c \ud55c\ub2e4. \ub354 \ubc1c\uc804\ud558\uba74 \uac00\ub974\uccd0\uc904 \uc218 \uc788\ub294 \uac83\ub4e4\uc740 \uc904\uc5b4\ub4e4\uac8c \ub41c\ub2e4. \uac00\uc7a5 \ud6cc\ub96d\ud55c \uae38\uc740 \uc544\ubb34\ub3c4 \uac00\uc9c0 \uc54a\uc740 \uae38\uc744 \uac00\ub294 \uac83\uc774\ub2e4.\n",
      "\n",
      "## \uc18c\uac1c: BTK \uc0b4\uc778 \uc0ac\uac74\uc758 \ud575\uc2ec\uc801 \uc5f4\uc1e0\uac00 \ub41c \ud3ec\ub80c\uc2dd \uc218\uc0ac\n",
      "\n",
      "- 2005\ub144 2\uc6d4 \uc704\uce58\ud0c0 \uacbd\ucc30\uad6d\uc758 \ud3ec\ub80c\uc2dd \uc218\uc0ac\uad00\uc778 Randy Stone\uc740 30\ub144 \ubb35\uc740 \ubbf8\uc2a4\ud130\ub9ac\uc758 \ub9c8\uc9c0\ub9c9 \uc2e4\ub9c8\ub9ac\ub97c \ud30c\ud5e4\uce58\ub294\ub370 \uc131\uacf5\n",
      "- \uc774\ud2c0 \uc804\uc5d0 KSAS \ubc29\uc18d\uad6d\uc740 \uc545\uba85 \ub192\uc740 BTK(BTK\ub294 Bind, Torture, Kill\uc758 \uc57d\uc790. \ubb36\uc5b4\ub193\uace0 \uace0\ubb38\ud558\uc5ec \uc0b4\ud574\ud55c\ub2e4\ub294 \uc758\ubbf8) \uc5f0\uc1c4 \uc0b4\uc778\ubc94\uc73c\ub85c\ubd80\ud130 3.5\uc778\uce58 \ud50c\ub85c\ud53c \ub514\uc2a4\ucf13\uc744 \ubc1b\uc558\uace0, \uc774 \ub514\uc2a4\ucf13\uc744 \uacbd\ucc30\uc5d0 \uc804\ub2ec\n",
      "- 2005\ub144 6\uc6d4 BTK \uc0b4\uc778\ubc94\uc740 \uad50\uc2e0 \uc9c0\uc2dc\uac00 \ub2f4\uae34 3.5\uc778\uce58 \ub514\uc2a4\ucf13\uc744 \ubc29\uc1a1\uad6d\uc5d0 \ubcf4\ub0c8\uace0, \ub514\uc2a4\ucf13 \uc548\uc5d0\ub294 Test.A.rtf\ub77c\ub294 \ud30c\uc77c\uc774 \uc788\uc5c8\ub2e4.(Regan, 2006).\n",
      "- \ud30c\uc77c\uc5d0\ub294 BTK \uc0b4\uc778\ubc94\uc73c\ub85c\ubd80\ud130\uc758 \uc9c0\uc2dc\uac00 \ub2f4\uaca8\uc788\uc5c8\uc9c0\ub9cc \uadf8\uac83\uc774 \uc804\ubd80\uac00 \uc544\ub2c8\uc5c8\ub2e4. \ubc14\ub85c \uc0ac\uac74\uc758 \uc2e4\ub9c8\ub9ac\uac00 \ub41c \uba54\ud0c0\ub370\uc774\ud130\ub3c4 \ud3ec\ud568\ub418\uc5b4 \uc788\uc5c8\ub358 \uac83.\n",
      "- RTF(Rich Text Format)\ub294 \ub9c8\uc774\ud06c\ub85c\uc18c\ud504\ud2b8\uc758 \uc790\uccb4 \ud14d\uc2a4\ud2b8 \ud30c\uc77c \ud615\uc2dd\uc73c\ub85c, \uc0b4\uc778\ubc94\uc774 \uc791\uc131\ud55c \ud30c\uc77c\uc758 \uba54\ud0c0\ub370\uc774\ud130\uc5d0\ub294 \uc0b4\uc778\ubc94\uc758 \uc774\ub984\uacfc \ub9c8\uc9c0\ub9c9\uc73c\ub85c \ud30c\uc77c\uc744 \uc800\uc7a5\ud55c \ubb3c\ub9ac\uc801 \uc704\uce58\uac00 \ud3ec\ud568\ub418\uc5b4 \uc788\uc5c8\uc74c.\n",
      "\n",
      "- \uc774\ub97c \uae30\ubc18\uc73c\ub85c \uacbd\ucc30\uc740 ' \uc704\uce58\ud0c0 \uadf8\ub9ac\uc2a4\ub3c4 \ub8e8\ud130 \uad50\ud68c\uc5d0 \uc788\ub294 \ub370\ub2c8\uc2a4'\ub77c\ub294 \uc0ac\ub78c\uc758 \uc774\ub984\uc73c\ub85c \uc218\uc0ac\ub97c \uc881\ud600\ub098\uac08 \uc218 \uc788\uc5c8\uc74c\n",
      "- \uacbd\ucc30\uc740 \uc774 \uc815\ubcf4\ub97c \uac00\uc9c0\uace0 \ub370\ub2c8\uc2a4 \ub808\uc774\ub354\uc758 \ub538\uc758 \uc758\ub8cc \uae30\ub85d\uc5d0 \uc788\ub294 DNA \uc0d8\ud50c\uc5d0 \ub300\ud55c \uc601\uc7a5\uc744 \uc694\uccad\ud588\ub2e4.(Shapiro, 2007).\n",
      "- DNA \uc0d8\ud50c\uc740 \uc2a4\ud1a4\uc774 \uc758\uc2ec\ud558\uc600\ub358 \ubc14\ub85c \uadf8 \uc0ac\uc2e4\uc744 \uc785\uc99d\ud574\uc8fc\uc5c8\ub2e4. \uc989, \ub370\ub2c8\uc2a4 \ub808\uc774\ub354\uac00 BTK \uc5f0\uc1c4 \uc0b4\uc778\ubc94\uc774\uc5c8\ub358 \uac83\n",
      "- \uc9c0\ub09c 31\ub144\uac04 \uc5c4\uccad\ub09c \uc778\ub825\uacfc \uc2dc\uac04\uc744 \ud22c\uc785\ud558\uc5ec \uc870\uc0ac\ud588\ub358 \uac83\uc774 \uba54\ud0c0\ub370\uc774\ud130\uc5d0 \uc788\ub358 \uc2e4\ub9c8\ub9ac \ud558\ub098\ub85c \uc885\uacb0\ub418\ub294 \uc21c\uac04(Regan, 2006)\n",
      "\n",
      "- \ucef4\ud4e8\ud130 \ud3ec\ub80c\uc2dd \uc218\uc0ac\uc758 \uc131\uacfc\ub294 \uc218\uc0ac\uad00\uacfc \uadf8\uac00 \uac00\uc9c0\uace0 \uc788\ub294 \ud234\uc5d0 \uc758\ud574 \uc88c\uc6b0\ub428\n",
      "- \ud558\uc9c0\ub9cc \uc218\uc0ac\uad00\uc774 \uac00\uc9c0\uace0 \uc788\ub294 \uc9c8\ubb38\uc5d0 \ub2f5\uc744 \ud558\uae30\uc5d0\ub294 \ud234\uc774 \ub108\ubb34\ub098\ub3c4 \ubd80\uc871\ud55c \uacbd\uc6b0\uac00 \ub9ce\uc74c\n",
      "- \ubc14\ub85c \uc5ec\uae30\uc11c \ud30c\uc774\uc36c\uc774 \uadf8 \ube5b\uc744 \ub610 \ud55c \ubc88 \ubc1c\ud55c\ub2e4.\n",
      "- \ucd5c\uc18c\ud55c\uc758 \ucf54\ub4dc\ub85c \ubcf5\uc7a1\ud55c \ubb38\uc81c\ub97c \ud574\uacb0\ud558\ub294 \uac83\uc774 \ud30c\uc774\uc36c \uc5b8\uc5b4\uc758 \uc8fc\uc694 \uc7a5\uc810\n",
      "\n",
      "## \uc5b4\uc81c \ubc24\uc5d0 \ub2f9\uc2e0\uc774 \uc788\uc5c8\ub358 \uacf3\uc740? - \ub808\uc9c0\uc2a4\ud2b8\ub9ac\uc758 \ubb34\uc120 AP \ubd84\uc11d\n",
      "\n",
      "- \uc708\ub3c4\uc6b0 \ub808\uc9c0\uc2a4\ud2b8\ub9ac: \uc6b4\uc601\uccb4\uc81c\uc758 \uc124\uc815\uc744 \uc800\uc7a5\ud558\ub294 \ub370\uc774\ud130\ubca0\uc774\uc2a4\n",
      "- \ubb34\uc120 \ub124\ud2b8\uc6cc\ud06c\uc758 \ub3c4\ub798\ub85c \uc778\ud574 \uc708\ub3c4\uc6b0 \ub808\uc9c0\uc2a4\ud2b8\ub9ac\uc5d0\ub3c4 \ubb34\uc120 \ud1b5\uc2e0\uacfc \uad00\ub828\ub41c \uc815\ubcf4\uac00 \uc800\uc7a5\ub418\uae30 \uc2dc\uc791\n",
      "- \ub808\uc9c0\uc2a4\ud2b8\ub9ac \ud0a4\uc758 \uc704\uce58\uc640 \uc758\ubbf8\uc5d0 \ub300\ud55c \uc774\ud574\ub97c \ud558\uba74 \uc2e4\uc81c \ub178\ud2b8\ubd81 \ucef4\ud4e8\ud130\uac00 \uc5b4\ub514\uc5d0 \uc788\uc5c8\ub294 \uc9c0 \ud655\uc778\ud560 \uc218 \uc788\ub294 \uc88b\uc740 \uc815\ubcf4\n",
      "- \uac01\uac01\uc758 \ub124\ud2b8\uc6cc\ud06c\ub97c HKLM\\SOFTWARE\\Microsoft\\Windows NT\\CurrentVersion|NetworkList\\Signatures\\Unmanaged \ubc11\uc758 \uc11c\ube0c\ud0a4\uc5d0 \uc800\uc7a5\ub428\n",
      "- \uc774 \uac12\uc740 \uc708\ub3c4\uc6b0 \ucee4\ub9e8\ub4dc \ud504\ub86c\ud504\ud2b8\uc5d0\uc11c \uc5f4\uac70\ud560 \uc218 \uc788\uc74c\n",
      "- Guid, \ub124\ud2b8\uc6cc\ud06c \uc124\uba85, \ub124\ud2b8\uc6cc\ud06c \uc774\ub984, \uac8c\uc774\ud2b8\uc6e8\uc5b4 MAC \uc8fc\uc18c \ub4f1\uc758 \uc815\ubcf4\ub97c \ubcfc \uc218 \uc788\uc74c\n",
      "- [\ub808\uc9c0\uc2a4\ud2b8\ub9ac \ud3ec\ub80c\uc2dd&\ubcf4\uc548 - forensic-proof](http://forensic-proof.com/wp-content/uploads/2013/07/FP-%EB%A0%88%EC%A7%80%EC%8A%A4%ED%8A%B8%EB%A6%AC-%ED%8F%AC%EB%A0%8C%EC%8B%9D%EA%B3%BC-%EB%B3%B4%EC%95%88.pdf)"
     ]
    },
    {
     "cell_type": "markdown",
     "metadata": {},
     "source": [
      "    reg query \"HKEY_LOCAL_MACHINE\\SOFTWARE\\Microsoft\\Windows NT\\CurrentVersion\\Networklist\\Signatures\\Unmanaged\"\n",
      "    \n",
      "<img src=\"files/images/reg_query.png\" />\n",
      "\n",
      "### WinReg\ub85c \uc708\ub3c4\uc6b0 \ub808\uc9c0\uc2a4\ud2b8\ub9ac \uc77d\uae30\n",
      "\n",
      "- \ub808\uc9c0\uc2a4\ud2b8\ub9ac\ub294 \uac8c\uc774\ud2b8\uc6e8\uc774 MAC \uc8fc\uc18c\ub97c REG_BINARY \ud0c0\uc785\uc73c\ub85c \uc800\uc7a5\n",
      "- \ud5e5\uc2a4 \ubc14\uc774\ud2b8\uc778 \\x00\\x11\\x50\\x24\\x68\\x7F\\x00\\x00 \uc740 \uc2e4\uc81c \uc8fc\uc18c\uc778 00:11:50:24:68:7F\ub97c \ub098\ud0c0\ub0c4\n",
      "\n",
      "### \uaf2d!! \uad00\ub9ac\uc790 \uad8c\ud55c\uc73c\ub85c \uc2e4\ud589\n",
      "\n",
      "<img src=\"files/images/admin_authority.png\" />"
     ]
    },
    {
     "cell_type": "code",
     "collapsed": false,
     "input": [
      "def val2addr(val):\n",
      "    addr = ''\n",
      "    for ch in val:\n",
      "        addr += ('%02x ' % ord(ch))\n",
      "    addr = addr.strip(' ').replace(' ', ':')[0:17]\n",
      "    return addr"
     ],
     "language": "python",
     "metadata": {},
     "outputs": [],
     "prompt_number": 8
    },
    {
     "cell_type": "code",
     "collapsed": false,
     "input": [
      "help(ord)"
     ],
     "language": "python",
     "metadata": {},
     "outputs": [
      {
       "output_type": "stream",
       "stream": "stdout",
       "text": [
        "Help on built-in function ord in module __builtin__:\n",
        "\n",
        "ord(...)\n",
        "    ord(c) -> integer\n",
        "    \n",
        "    Return the integer ordinal of a one-character string.\n",
        "\n"
       ]
      }
     ],
     "prompt_number": 18
    },
    {
     "cell_type": "code",
     "collapsed": false,
     "input": [
      "ord('A'), hex(ord('A'))"
     ],
     "language": "python",
     "metadata": {},
     "outputs": [
      {
       "metadata": {},
       "output_type": "pyout",
       "prompt_number": 48,
       "text": [
        "(65, '0x41')"
       ]
      }
     ],
     "prompt_number": 48
    },
    {
     "cell_type": "code",
     "collapsed": false,
     "input": [
      "print '%02x ' % ord('c')"
     ],
     "language": "python",
     "metadata": {},
     "outputs": [
      {
       "output_type": "stream",
       "stream": "stdout",
       "text": [
        "63 \n"
       ]
      }
     ],
     "prompt_number": 45
    },
    {
     "cell_type": "markdown",
     "metadata": {},
     "source": [
      "- \uc708\ub3c4\uc6b0 \ub808\uc9c0\uc2a4\ud2b8\ub808 \uc788\ub294 \ud0a4\ub85c\ubd80\ud130 \uc5bb\uc740 \uc815\ubcf4\ub97c \uac00\uc9c0\uace0 \ud574\ub2f9 \ub124\ud2b8\uc6cc\ud06c \ud504\ub85c\ud30c\uc77c\uc5d0 \ub300\ud55c \ub124\ud2b8\uc6cc\ud06c \uc774\ub984\uacfc MAC \uc8fc\uc18c\ub97c \uac00\uc838\uc624\ub294 \ud568\uc218\ub97c \ub9cc\ub4e4\uac83\n",
      "- \\_winreg \ub77c\uc774\ube0c\ub7ec\ub9ac \ud65c\uc6a9\n",
      "- \uc774 \ub77c\uc774\ube0c\ub7ec\ub9ac\ub294 \uc708\ub3c4\uc6b0 \ub514\ud3f4\ud2b8 \ud30c\uc774\uc36c \uc124\uce58\uc2dc\uc5d0 \ub514\ud3f4\ud2b8\ub85c \uc124\uce58\ub418\ub294 \uac83\n",
      "- \ub808\uc9c0\uc2a4\ud2b8\ub9ac\uc5d0 \uc5f0\uacb0\ud55c \ud6c4\uc5d0\ub294 OpenKey() \ud568\uc218\ub85c \ud0a4\ub97c \uc5f4\uc5b4\uc11c \uc774 \ud0a4\uc5d0 \uc788\ub294 \ub124\ud2b8\uc6cc\ud06c \ud504\ub85c\ud30c\uc77c \uc815\ubcf4\ub97c \uac00\uc838\uc62c \uc218 \uc788\uc74c\n",
      "- \uac01\uac01\uc758 \ud504\ub85c\ud30c\uc77c\uc5d0\ub294 **ProfileGuid**, **Description**, **Source**, **DnsSuffix**, **FirstNetwork**, **DefaultGatewayMac** \ub4f1\uc758 \uc11c\ube0c\ud0a4\uac00 \uc874\uc7ac\n",
      "- \ub808\uc9c0\uc2a4\ud2b8\ub9ac \ud0a4\ub294 \ub124\ud2b8\uc6cc\ud06c \uc774\ub984\uacfc DefaultGatewayMAC\uc744 \ubc30\uc5f4\uc758 **\ub124\ubc88\uc9f8**\uc640 **\ub2e4\uc12f\ubc88\uc9f8** \uac12\uc73c\ub85c \uc778\ub371\uc2a4 \ud568\n",
      "\n",
      "<img src=\"files/images/reg_network.png\" />"
     ]
    },
    {
     "cell_type": "markdown",
     "metadata": {},
     "source": [
      "- \ubb54 \uae30\uc900\uc73c\ub85c \uc815\ub82c\ub418\ub294 \uac70\uc9c0?\n",
      "\n",
      "\n",
      "    5, DefaultGatewayMac\n",
      "    4, FirstNetwork\n",
      "    3, DnsSuffix\n",
      "    2, Source\n",
      "    1, Description\n",
      "    0, ProfileGuid"
     ]
    },
    {
     "cell_type": "code",
     "collapsed": false,
     "input": [
      "%%writefile ch03/00_printnets.py\n",
      "from _winreg import *\n",
      "import sys\n",
      "reload(sys)\n",
      "sys.setdefaultencoding = 'utf-8'\n",
      "\n",
      "def val2addr(val):\n",
      "    addr = ''\n",
      "    for ch in val:\n",
      "        addr += '%02x ' % ord(ch)\n",
      "    addr = addr.strip(' ').replace(' ', ':')[0:17]\n",
      "    return addr\n",
      "\n",
      "def printNets():\n",
      "    net = (\"SOFTWARE\\Microsoft\\Windows NT\\CurrentVersion\"\n",
      "    \"\\NetworkList\\Signatures\\Unmanaged\")\n",
      "    key = OpenKey(HKEY_LOCAL_MACHINE, net)\n",
      "    print '\\n[*] Networks You have Joined.'\n",
      "    for i in range(100):\n",
      "        try:\n",
      "            guid = EnumKey(key, i)\n",
      "            netKey = OpenKey(key, str(guid))\n",
      "            (n, addr, t) = EnumValue(netKey, 5)\n",
      "            (n, name, t) = EnumValue(netKey, 4)\n",
      "            macAddr = val2addr(addr)\n",
      "            name = name.encode('utf-8')\n",
      "            netName = str(name)\n",
      "            print '[+] ' + netName + ' ' + macAddr\n",
      "            CloseKey(netKey)\n",
      "        except:\n",
      "            break\n",
      "\n",
      "def main():\n",
      "    printNets()\n",
      "\n",
      "if __name__ == '__main__':\n",
      "    main()"
     ],
     "language": "python",
     "metadata": {},
     "outputs": [
      {
       "output_type": "stream",
       "stream": "stdout",
       "text": [
        "Writing ch03/00_printnets.py\n"
       ]
      }
     ],
     "prompt_number": 2
    },
    {
     "cell_type": "code",
     "collapsed": false,
     "input": [
      "# !python ch03/00_printnets.py"
     ],
     "language": "python",
     "metadata": {},
     "outputs": [],
     "prompt_number": 3
    },
    {
     "cell_type": "markdown",
     "metadata": {},
     "source": [
      "    [*] Networks You have Joined.\n",
      "    [+] \ub124\ud2b8\uc6cc\ud06c 00:50:56:e6:0d:23"
     ]
    },
    {
     "cell_type": "markdown",
     "metadata": {},
     "source": [
      "----\n",
      "#### [64bit \uc6b4\uc601\uccb4\uc81c\ub97c \uc0ac\uc6a9\ud558\ub294 \uacbd\uc6b0 OpenKey \ud568\uc218 \uc8fc\uc758\uc0ac\ud56d](http://stackoverflow.com/questions/9348951/python-winreg-woes)\n",
      "\n",
      "- key = OpenKey(HKEY_LOCAL_MACHINE, net,0, (KEY_WOW64_64KEY + KEY_ALL_ACCESS))\n",
      "- \uc774\ub7f0 \ud615\ud0dc\ub85c \uc778\uc790 2\uac1c\uac00 \ucd94\uac00\ub418\uc5b4\uc57c \uc815\uc0c1\uc801\uc73c\ub85c \ub3d9\uc791\ud569\ub2c8\ub2e4.\n",
      "\n",
      "----"
     ]
    },
    {
     "cell_type": "markdown",
     "metadata": {},
     "source": [
      "### MAC \uc8fc\uc18c\ub85c AP\uc758 \ubb3c\ub9ac\uc801 \uc704\uce58 \ud30c\uc545\ud558\uae30\n",
      "\n",
      "- \ubb34\uc120AP\uc758 MAC \uc8fc\uc18c\ub97c \uac00\uc9c0\uace0 AP\uc758 \ubb3c\ub9ac\uc801 \uc704\uce58\ub97c \ucd9c\ub825 \uac00\ub2a5\n",
      "- \uc774\ubbf8 \uc5ec\ub7ec \uc624\ud508\uc18c\uc2a4\uc640 \uc0c1\uc6a9 \ub370\uc774\ud130\ubca0\uc774\uc2a4\uc5d0\uc11c\ub294 \ubb34\uc120 AP\uc640 \ud574\ub2f9 AP\uc758 \ubb3c\ub9ac\uc801 \uc704\uce58\ub97c \ub9e4\ud551\n",
      "- \ud734\ub300\uc804\ud654 \uac19\uc740 \uc81c\ud488\uc740 GPS\ub97c \uc0ac\uc6a9\ud558\uc9c0\ub3c4 \uc54a\uace0\ub3c4 \uc774\ub7ec\ud55c \ub370\uc774\ud130\ubca0\uc774\uc2a4\ub85c \ud604\uc7ac \uc704\uce58\ub97c \ud30c\uc545\n",
      "- \uc704\uae00\ub2f7\ub137 \uac19\uc740 \uc624\ud508\uc18c\uc2a4 \ud504\ub85c\uc81d\ud2b8\ub294 \uc0ac\uc6a9\uc790\uac00 AP \uc8fc\uc18c\ub97c \uac00\uc9c0\uace0 \uc2e4\uc81c \ubb3c\ub9ac\uc801 \uc704\uce58\ub97c \uac80\uc0c9\ud560 \uc218 \uc788\ub3c4\ub85d \ud558\uace0 \uc788\uc74c\n",
      "- \uc0ac\uc6a9\uc790\uac00 \uc0ac\uc774\ud2b8\uc5d0\uc11c \uba3c\uc800 \uacc4\uc815\uc744 \ub4f1\ub85d\ud558\uba74 \ud30c\uc774\uc36c\uc73c\ub85c \uc774 \uc0ac\uc774\ud2b8\uc5d0 \uc811\uadfc \uac00\ub2a5\n",
      "\n",
      "\n",
      "1. \uc0ac\uc6a9\uc790\ub294 http://wigle.net \uc811\uc18d\n",
      "2. https://wigle.net/gps/gps/main/login \uc744 \ud1b5\ud574 \uc704\uae00 \ub85c\uadf8\uc778\n",
      "3. https://wigle.net/gps/gps/main/confirmquery/ \uc5d0\uc11c \ud2b9\uc815 \ubb34\uc120 SSID MAC \uc8fc\uc18c \ucffc\ub9ac"
     ]
    },
    {
     "cell_type": "markdown",
     "metadata": {},
     "source": [
      "#### Wigle Query1\n",
      "\n",
      "<img src=\"files/images/wigle_query1.png\">\n",
      "\n",
      "#### Wigle Query2\n",
      "\n",
      "<img src=\"files/images/wigle_query2.png\">\n",
      "\n",
      "#### Wigle Response\n",
      "\n",
      "<img src=\"files/images/wigle_output.png\">"
     ]
    },
    {
     "cell_type": "markdown",
     "metadata": {},
     "source": [
      "- mechanize \ub77c\uc774\ube0c\ub7ec\ub9ac: \ud30c\uc774\uc36c\uc5d0\uc11c \uc0c1\ud0dc\ub97c \uc720\uc9c0\ud558\ub294 \uc6f9 \ud504\ub85c\uadf8\ub798\ubc0d\uc744 \ud560 \uc218 \uc788\ub3c4\ub85d \ud574\uc90c\n",
      "- \uc989, \uc77c\ub2e8 Wigle \uc11c\ube44\uc2a4\uc5d0 \ub85c\uadf8\uc778\ud558\uba74 \uc778\uc99d \ucfe0\ud0a4\ub97c \uc800\uc7a5\ud558\uc5ec \uc7ac\uc0ac\uc6a9\ud55c\ub2e4\ub294 \uc758\ubbf8\n",
      "\n",
      "#### \uc18c\uc2a4 \ub85c\uc9c1 \ubd84\uc11d\n",
      "\n",
      "1. mechanize \ube0c\ub77c\uc6b0\uc800\uc758 \uc2e4\uccb4\ub97c \ub9cc\ub4e6\n",
      "2. \uc704\uae00\ub2f7\ub137\uc758 \uc2dc\uc791 \ud398\uc774\uc988\ub97c \uc5f0\ub2e4.\n",
      "3. \uc0ac\uc6a9\uc790 \uc774\ub984\uacfc \ud328\uc2a4\uc6cc\ub4dc\ub97c \ud30c\ub77c\ubbf8\ud130\ub85c \uc778\ucf54\ub529\n",
      "4. \uc704\uae00 \ub85c\uadf8\uc778 \ud398\uc774\uc9c0\uc5d0\uc11c \ub85c\uadf8\uc778 \uc694\uccad\n",
      "5. \ub85c\uadf8\uc778 \uc131\uacf5\ud55c \ud6c4 \ub370\uc774\ud130\ubca0\uc774\uc2a4\ub97c \uac80\uc0c9\ud560 \uc218 \uc788\ub3c4\ub85d netid \ud30c\ub77c\ubbf8\ud130\ub97c MAC \uc8fc\uc18c\ub85c \uc0ac\uc6a9\ud558\uc5ec HTTP POST\ub97c \uc804\uc1a1\n",
      "6. \uac80\uc0c9 \uacb0\uacfc \uc911\uc5d0\uc11c maplat=\uacfc maplon= \ubd80\ubd84\uc744 \ucc3e\uc544\uc11c \uc704\ub3c4\uc640 \uacbd\ub3c4\ub97c \uc5bb\uc74c"
     ]
    },
    {
     "cell_type": "code",
     "collapsed": false,
     "input": [
      "import mechanize, urllib, re, urlparse\n",
      "\n",
      "def wiglePrint(username, password, netid):\n",
      "    browser = mechanize.Browser()\n",
      "    reqData = urllib.urlencode({'credential_0': username,\n",
      "                                'credential_1': password})\n",
      "    browser.open('https://wigle.net/gps/gps/main/login', reqData)\n",
      "    params = {}\n",
      "    params['netid'] = netid\n",
      "    reqParams = urllib.urlencode(params)\n",
      "    # s(http -> https) falls in book.\n",
      "    respURL = 'https://wigle.net/gps/gps/main/confirmquery/'\n",
      "    resp = browser.open(respURL, reqParams).read()\n",
      "    mapLat = 'N/A'\n",
      "    mapLon = 'N/A'\n",
      "    # \uc815\uaddc\uc2dd: maplat= \ubd80\ud130 &\uae4c\uc9c0\uc758 \ubaa8\ub4e0 \ubb38\uc790\ub97c \ucd94\ucd9c\n",
      "    rLat = re.search(r'maplat=([^&]*)&', resp)\n",
      "    if rLat:\n",
      "        mapLat = rLat.group(1)\n",
      "    rLon = re.search(r'maplon=([^&]*)&', resp)\n",
      "    if rLon:\n",
      "        mapLon = rLon.group(1)\n",
      "    print '[-] Lat: ' + mapLat + ', Lon: ' + mapLon\n",
      "\n",
      "# wiglePrint('id', 'password', '0A:2C:EF:3D:25:1B')"
     ],
     "language": "python",
     "metadata": {},
     "outputs": [],
     "prompt_number": 5
    },
    {
     "cell_type": "markdown",
     "metadata": {},
     "source": [
      "    [-] Lat: 47.25264359, Lon: -87.25624084"
     ]
    },
    {
     "cell_type": "markdown",
     "metadata": {},
     "source": [
      "#### \ubb34\uc120 AP \uc2e4\uc81c \uc8fc\uc18c \ucc3e\uae30 \ucd5c\uc885 \ucf54\ub4dc"
     ]
    },
    {
     "cell_type": "code",
     "collapsed": false,
     "input": [
      "%%writefile ch03/discoverNetworks.py\n",
      "# -*- coding: utf-8\n",
      "import optparse\n",
      "import mechanize\n",
      "import urllib\n",
      "import re\n",
      "from _winreg import *\n",
      "\n",
      "import sys\n",
      "reload(sys)\n",
      "sys.setdefaultencoding = 'utf-8'\n",
      "\n",
      "def val2addr(val):\n",
      "    addr = ''\n",
      "    for ch in val:\n",
      "        addr += '%02x ' % ord(ch)\n",
      "    addr = addr.strip(' ').replace(' ', ':')[0:17]\n",
      "    return addr\n",
      "\n",
      "def wiglePrint(username, password, netid):\n",
      "    browser = mechanize.Browser()\n",
      "    reqData = urllib.urlencode({'credential_0': username,\n",
      "                                'credential_1': password})\n",
      "    browser.open('https://wigle.net/gps/gps/main/login', reqData)\n",
      "    params = {}\n",
      "    params['netid'] = netid\n",
      "    reqParams = urllib.urlencode(params)\n",
      "    respURL = 'https://wigle.net/gps/gps/main/confirmquery/'\n",
      "    resp = browser.open(respURL, reqParams).read()\n",
      "    mapLat = 'N/A'\n",
      "    mapLon = 'N/A'\n",
      "    rLat = re.search(r'maplat=([^&]*)&', resp)\n",
      "    if rLat:\n",
      "        mapLat = rLat.group(1)\n",
      "    rLon = re.search(r'maplon=([^&]*)&', resp)\n",
      "    if rLon:\n",
      "        mapLon = rLon.group(1)\n",
      "    print '[-] Lat: ' + mapLat + ', Lon: ' + mapLon\n",
      "\n",
      "def printNets(username, password):\n",
      "    net = (\"SOFTWARE\\Microsoft\\Windows NT\\CurrentVersion\"\n",
      "    \"\\NetworkList\\Signatures\\Unmanaged\")\n",
      "    key = OpenKey(HKEY_LOCAL_MACHINE, net)\n",
      "    print '\\n[*] Networks You have Joined.'\n",
      "    for i in range(100):\n",
      "        try:\n",
      "            guid = EnumKey(key, i)\n",
      "            netKey = OpenKey(key, str(guid))\n",
      "            (n, addr, t) = EnumValue(netKey, 5)\n",
      "            (n, name, t) = EnumValue(netKey, 4)\n",
      "            macAddr = val2addr(addr)\n",
      "            name = name.encode('utf-8')\n",
      "            netName = str(name)\n",
      "            print '[+] ' + netName + ' ' + macAddr\n",
      "            wiglePrint(username, password, macAddr)\n",
      "            CloseKey(netKey)\n",
      "        except:\n",
      "            break\n",
      "\n",
      "def main():\n",
      "    parser = optparse.OptionParser('usage %prog ' +\\\n",
      "                                   '-u <wigle username> -p <wigle password>')\n",
      "    parser.add_option('-u', dest='username', type='string',\n",
      "                      help='specify wigle username')\n",
      "    parser.add_option('-p', dest='password', type='string',\n",
      "                      help='specify wigle password')\n",
      "    (options, args) = parser.parse_args()\n",
      "    username = options.username\n",
      "    password = options.password\n",
      "    if username == None or password == None:\n",
      "        print parser.usage\n",
      "        exit(0)\n",
      "    else:\n",
      "        printNets(username, password)\n",
      "\n",
      "if __name__ == '__main__':\n",
      "    main()"
     ],
     "language": "python",
     "metadata": {},
     "outputs": [
      {
       "output_type": "stream",
       "stream": "stdout",
       "text": [
        "Writing ch03/discoverNetworks.py\n"
       ]
      }
     ],
     "prompt_number": 6
    },
    {
     "cell_type": "code",
     "collapsed": false,
     "input": [
      "# !python ch03/discoverNetworks.py -u id -p password"
     ],
     "language": "python",
     "metadata": {},
     "outputs": [],
     "prompt_number": 7
    },
    {
     "cell_type": "markdown",
     "metadata": {},
     "source": [
      "- \uac00\uc0c1\ub79c\uce74\ub4dc \ub9e5\uc8fc\uc18c\ub77c \ucc3e\uc744 \uc218 \uc5c6\ub294\ub4ef\n",
      "- \ub610\ud55c \ub9ce\uc740 \ubd84\ub4e4\uc774 \uc2e4\uc81c \ub9e5\uc8fc\uc18c\uac00 \uc788\ub294\ub370 N/A \ub77c\uace0 \ub72c\ub2e4\uace0 \ud558\uc2dc\ub294\ub370. \ub2f9\uc5f0\ud55c \uacb0\uacfc\uc785\ub2c8\ub2e4.\n",
      "- wigle.net DB\uc5d0 \uc800\uc7a5\ub418\uc5b4 \uc788\ub294 \ub370\uc774\ud130\ub97c \uac00\uc9c0\uace0 \uacb0\uacfc\ub97c \ucd9c\ub825\ud574\uc8fc\uae30 \ub54c\ubb38\uc5d0 \uc5c6\ub294 MAC \uc8fc\uc18c\ub294 N/A\ub77c\uace0 \ub728\ub294\uac8c \uc815\uc0c1\uc785\ub2c8\ub2e4.\n",
      "\n",
      "\n",
      "    [*] Networks You have Joined.\n",
      "    [+] \ub124\ud2b8\uc6cc\ud06c 00:50:56:e6:0d:23\n",
      "    [-] Lat: N/A, Lon: N/A"
     ]
    },
    {
     "cell_type": "markdown",
     "metadata": {},
     "source": [
      "## \ud30c\uc774\uc36c\uc73c\ub85c \ud734\uc9c0\ud1b5\uc5d0\uc11c \uc0ad\uc81c\ub41c \uc544\uc774\ud15c \ubcf5\uad6c\ud558\uae30\n",
      "\n",
      "- \ud734\uc9c0\ud1b5: \ud2b9\uc218 \ud3f4\ub354\uc5d0 \uc0ad\uc81c\ub41c \ud30c\uc77c\uc744 \ubcf4\uad00\n",
      "- \uc0ac\uc6a9\uc790\uac00 \uc708\ub3c4\uc6b0 \ud0d0\uc0c9\uae30\uc5d0\uc11c \ud30c\uc77c\uc744 \uc0ad\uc81c\ud558\uba74 \uc708\ub3c4\uc6b0\ub294 \uc774\ub7ec\ud55c \ud30c\uc77c\uc744 \ud734\uc9c0\ud1b5\uc5d0 \ubcf4\uad00\n",
      "- \ud734\uc9c0\ud1b5\uc5d0 \ubcf4\uad00\ub418\uc5b4 \uc788\ub294 \ud30c\uc77c\uc740 \uc0ad\uc81c\uac00 \ub41c \uac83\uc774\uc9c0\ub9cc, \uc2e4\uc81c\ub85c \uc0ad\uc81c\ub418\uc9c0\ub294 \uc54a\uc74c\n",
      "- \uc708\ub3c4\uc6b098\uacfc \uadf8 \uc774\uc804\uc758 \uc708\ub3c4\uc6b0 \ubc84\uc804: C:\\Recycled\\\uc774\ub2e4.\n",
      "- \uc708\ub3c4\uc6b0 NT, 2000, Xp\ub97c \ud3ec\ud568\ud558\uc5ec NTFS\ub97c \uc9c0\uc6d0\ud558\ub294 \uc6b4\uc601\uccb4\uc81c: C:\\Recycler\\\n",
      "- \uc708\ub3c4\uc6b0 \ube44\uc2a4\ud0c0\uc640 7\uc740 C:\\$Recycle.Bin\uc5d0 \ubcf4\uad00\n",
      "\n",
      "### OS \ubaa8\ub4c8\ub85c \uc0ad\uc81c\ub41c \uc544\uc774\ud15c \ucc3e\uae30\n",
      "\n",
      "- \uc2a4\ud06c\ub9bd\ud2b8\uac00 \uc6b4\uc601\uccb4\uc81c\uc640 \ub3c5\ub9bd\uc801\uc73c\ub85c \uc791\ub3d9\ud558\uac8c \ub9cc\ub4e4\uae30 \uc704\ud558\uc5ec \ud734\uc9c0\ud1b5\uc774 \uc788\uc744\ub9cc\ud55c \ub514\ub809\ud1a0\ub9ac\uac00 \uc874\uc7ac\ud558\ub294\uc9c0 \ud14c\uc2a4\ud2b8\ud558\uc5ec \uc2e4\uc81c \uc874\uc7ac\ud558\ub294 \ub514\ub809\ud1a0\ub9ac\ub97c \ubc18\ud658\ud558\ub294 \ud568\uc218\ub97c \ub9cc\ub4e4\uc5b4\ubcf4\uc790.\n",
      "\n",
      "\n",
      "#### \uc0ad\uc81c\ub41c \ud30c\uc77c \ud655\uc778\ud560 \ub54c\ub294 \uad00\ub9ac\uc790 \uad8c\ud55c\uc73c\ub85c \uc2e4\ud589!!\n",
      "\n",
      "- \ub2e4\ub978 \uad00\ub9ac\uc790 \uacc4\uc815\uc758 \uc0ad\uc81c\ub41c \ud30c\uc77c\ub3c4 \ud655\uc778\ud574\uc57c \ud558\uae30 \ub54c\ubb38"
     ]
    },
    {
     "cell_type": "code",
     "collapsed": false,
     "input": [
      "import os\n",
      "\n",
      "def returnDir():\n",
      "    dirs = ['C:\\\\Recycler\\\\', 'C:\\\\Recycled\\\\', 'C:\\\\$Recycle.Bin']\n",
      "    for recycleDir in dirs:\n",
      "        if os.path.isdir(recycleDir):\n",
      "            return recycleDir\n",
      "    return None"
     ],
     "language": "python",
     "metadata": {},
     "outputs": [],
     "prompt_number": 14
    },
    {
     "cell_type": "markdown",
     "metadata": {},
     "source": [
      "- \ud734\uc9c0\ud1b5 \ub514\ub809\ud130\ub9ac\ub97c \ubc1c\uacac\ud55c \ud6c4\uc5d0\ub294 \ud734\uc9c0\ud1b5\uc5d0 \uc788\ub294 \ub0b4\uc6a9\ubb3c\uc744 \uc0b4\ud3b4\ubd10\uc57c \ud568\n",
      "- 2\uac1c\uc758 \uc11c\ube0c \ub514\ub809\ud130\ub9ac\uac00 \uc788\ub294 \uac83\uc5d0 \uc8fc\ubaa9\n",
      "- S\\-1\\-5\\-21\\-1275210071\\-1715567821\\-725345543\\- \ub77c\ub294 \ubb38\uc790\uc5f4\uc744 \uac00\uc9c0\uace0 \uc788\uace0 ~~1005~~\ub098 500\uc73c\ub85c \ub05d\ub09c\ub2e4. \uc774 \ubb38\uc790\uc5f4\uc740 \uc0ac\uc6a9\uc790 SID\ub97c \ub098\ud0c0\ub0c4(**1000\uc778\ub4ef**)\n",
      "- SID\ub294 \uc0ac\uc6a9\uc790 \uacc4\uc815\ub9c8\ub2e4 \uac00\uc9c0\uace0 \uc788\ub294 \uace0\uc720\uc758 \ubc88\ud638"
     ]
    },
    {
     "cell_type": "markdown",
     "metadata": {},
     "source": [
      "- Windows7 \uae30\uc900\n",
      "\n",
      "\n",
      "     c:\\$Recycle.Bin> dir /a\n",
      "     \n",
      "     C \ub4dc\ub77c\uc774\ube0c\uc758 \ubcfc\ub968\uc5d0\ub294 \uc774\ub984\uc774 \uc5c6\uc2b5\ub2c8\ub2e4.\n",
      "     \ubcfc\ub968 \uc77c\ub828 \ubc88\ud638: 34C4-3205\n",
      "\n",
      "     c:\\$Recycle.Bin \ub514\ub809\ud130\ub9ac\n",
      "\n",
      "    2014-07-16  \uc624\uc804 06:19    <DIR>          .\n",
      "    2014-07-16  \uc624\uc804 06:19    <DIR>          ..\n",
      "    2014-07-16  \uc624\uc804 06:19                 0 1.txt\n",
      "    2014-07-15  \uc624\ud6c4 12:43    <DIR>          S-1-5-21-497669566-682097494-454413966-1000\n",
      "                   1\uac1c \ud30c\uc77c                   0 \ubc14\uc774\ud2b8\n",
      "                   3\uac1c \ub514\ub809\ud130\ub9ac  53,325,127,680 \ubc14\uc774\ud2b8 \ub0a8\uc74c\n"
     ]
    },
    {
     "cell_type": "markdown",
     "metadata": {},
     "source": [
      "### \ud30c\uc774\uc36c\uc73c\ub85c [SID(Security IDentify)](http://pcsupport.about.com/od/termss/g/security-identifier.htm)\ub97c \uc0ac\uc6a9\uc790 \uacc4\uc815\uc73c\ub85c \ub9e4\ud551\ud558\uae30\n",
      "\n",
      "- \uc708\ub3c4\uc6b0 \ub808\uc9c0\uc2a4\ud2b8\ub9ac\ub97c \uc0ac\uc6a9\ud558\uc5ec \uc774 SID\ub97c \uc2e4\uc81c \uc0ac\uc6a9\uc790 \uc774\ub984\uc73c\ub85c \ubcc0\ud658\ud560 \uac83\n",
      "- HKEY_LOCAL_MACHINE\\SOFTWARE\\Microsoft\\Windows NT\\CurrentVersion\\ProfileList\\<SID>\\ProfileImagePath\uc5d0 \uc788\ub294 \uc708\ub3c4\uc6b0 \ub808\uc9c0\uc2a4\ud2b8\ub9ac \ud0a4\ub97c \uc798 \uc0b4\ud3b4\ubcf4\uba74 %SystemDrive%\\Documents and Settings\\<USERID> \uac12\uc744 \ubc18\ud658\ud558\ub294 \uac83\uc744 \ubcfc \uc218 \uc788\uc74c\n",
      "- \uc774 \uc815\ubcf4\ub85c SID S-1-5-21-1275210071-1715567821-725345543-1005\ub97c \uc9c1\uc811 'alex'\ub85c \ubcc0\ud658\ud560 \uc218 \uc788\ub2e4\ub294 \uac83\uc744 \uc54c \uc218 \uc788\uc74c\n",
      "\n",
      "<img src=\"files/images/reg_sid.png\" />\n",
      "\n",
      "- \ud3ec\ub80c\uc2dd \uc218\uc0ac\uc5d0\uc11c\ub294 \ub204\uac00 \ubb34\uc2a8 \ud30c\uc77c\uc744 \uc0ad\uc81c\ud588\ub294\uc9c0 \uc54c\uace0 \uc2f6\uc744 \uc218\ub3c4 \uc788\uae30 \ub54c\ubb38\uc5d0 \ud568\uc218\ub97c \uc791\uc131\ud558\uc5ec SID\ub97c \uc0ac\uc6a9\uc790 \uc774\ub984\uc73c\ub85c \ubcc0\ud658\ud560 \uac83\n",
      "- \uc774\ub807\uac8c \ud558\uba74 \ud734\uc9c0\ud1b5\uc5d0\uc11c \uc0ad\uc81c\ub41c \uc544\uc774\ud15c\uc744 \ubcf5\uad6c\ud588\uc744 \ub54c \ub204\uac00 \ud574\ub2f9 \uc544\uc774\ud15c\uc744 \uc0ad\uc81c\ud588\ub294\uc9c0\uc5d0 \ub300\ud55c \uc815\ubcf4\ub97c \ucd9c\ub825\ud560 \uc218 \uc788\uac8c \ub428\n",
      "- \uc774 \ud568\uc218\ub294 \ub808\uc9c0\uc2a4\ud2b8\ub9ac\ub97c \uc5f4\uc5b4\uc11c ProfileImagePath \ud0a4\ub97c \uc0b4\ud3b4\ubcfc \uac83\n",
      "- \uadf8\ub9ac\uace0 \uac12\uc744 \ucc3e\uc544\uc11c userpath\uc5d0 \uc788\ub294 \uac12 \uc911\uc5d0 \ub9c8\uc9c0\ub9c9 \ubc31 \uc2ac\ub798\uc2dc \ub4a4\uc5d0 \uc788\ub294 \uc774\ub984\uc744 \ubc18\ud658\ud560 \uac83"
     ]
    },
    {
     "cell_type": "code",
     "collapsed": false,
     "input": [
      "%%writefile ch03/dumpRecycleBin.py\n",
      "#!/usr/bin/python\n",
      "# -*- coding: utf-8 -*-\n",
      "\n",
      "import os\n",
      "import optparse\n",
      "from _winreg import *\n",
      "\n",
      "\n",
      "def sid2user(sid):\n",
      "    try:\n",
      "        key = OpenKey(HKEY_LOCAL_MACHINE,\n",
      "       \"SOFTWARE\\Microsoft\\Windows NT\\CurrentVersion\\ProfileList\"\n",
      "       + '\\\\' + sid)\n",
      "        (value, type) = QueryValueEx(key, 'ProfileImagePath')\n",
      "        user = value.split('\\\\')[-1]\n",
      "        return user\n",
      "    except:\n",
      "        return sid\n",
      "\n",
      "\n",
      "def returnDir():\n",
      "    dirs=['C:\\\\Recycler\\\\','C:\\\\Recycled\\\\','C:\\\\$Recycle.Bin\\\\']\n",
      "    for recycleDir in dirs:\n",
      "        if os.path.isdir(recycleDir):\n",
      "            return recycleDir\n",
      "    return None\n",
      "\n",
      "\n",
      "def findRecycled(recycleDir):\n",
      "    dirList = os.listdir(recycleDir)\n",
      "    print dirList\n",
      "    for sid in dirList:\n",
      "        files = os.listdir(recycleDir + sid)\n",
      "        user = sid2user(sid)\n",
      "        print '\\n[*] Listing Files For User: ' + str(user)\n",
      "        for file in files:\n",
      "            print '[+] Found File: ' + str(file)\n",
      "\n",
      "\n",
      "def main():\n",
      "    recycledDir = returnDir()\n",
      "    findRecycled(recycledDir)\n",
      "\n",
      "\n",
      "if __name__ == '__main__':\n",
      "    main()"
     ],
     "language": "python",
     "metadata": {},
     "outputs": [
      {
       "output_type": "stream",
       "stream": "stdout",
       "text": [
        "Writing ch03/dumpRecycleBin.py\n"
       ]
      }
     ],
     "prompt_number": 9
    },
    {
     "cell_type": "code",
     "collapsed": false,
     "input": [
      "# !python ch03/dumpRecycleBin.py"
     ],
     "language": "python",
     "metadata": {},
     "outputs": [],
     "prompt_number": 10
    },
    {
     "cell_type": "markdown",
     "metadata": {},
     "source": [
      "### Windows XP recycle\n",
      "\n",
      "<img src=\"files/images/recycle.png\" />\n",
      "\n",
      "- \uacc4\uc815 \uc774\ub984 \ucd9c\ub825\n",
      "- File \uc774\ub984\uc774 \uc81c\ub300\ub85c \ub098\uc624\uc9c0 \uc54a\ub294\ub2e4. \ud558\uc9c0\ub9cc \ud655\uc7a5\uc790\ub294 \uc815\ud655\ud788 \ub098\uc628\ub2e4.\n",
      "- \ub2e4\ub978 \uad00\ub9ac\uc790 \uacc4\uc815\uc758 \uac83\ub3c4 \uac80\uc0c9\ud558\ub824\uba74 \uad00\ub9ac\uc790 \uad8c\ud55c\uc774 \uc788\uc5b4\uc57c \ud568\n",
      "\n",
      "### Windows 7 recycle\n",
      "\n",
      "<img src=\"files/images/recycle7.png\" />\n",
      "\n",
      "- \uacc4\uc815 \uc774\ub984 \ucd9c\ub825\n",
      "- 1\uac1c\uc758 \ud30c\uc77c\uc774 2\uac1c\ub85c \ubd84\ub9ac\ub418\uc5b4 \uc788\ub2e4. I, R\ub85c \uc2dc\uc791\ub41c\ub2e4.\n",
      "- \ub2e4\ub978 \uad00\ub9ac\uc790 \uacc4\uc815\uc758 \uac83\ub3c4 \uac80\uc0c9\ud558\ub824\uba74 \uad00\ub9ac\uc790 \uad8c\ud55c\uc774 \uc788\uc5b4\uc57c \ud568"
     ]
    },
    {
     "cell_type": "markdown",
     "metadata": {},
     "source": [
      "## \uba54\ud0c0\ub370\uc774\ud130\n",
      "\n",
      "- \ud30c\uc77c\uc5d0\uc11c \uba54\ud0c0\ub370\uc774\ud130\ub97c \uac00\uc838\uc624\ub294 \uc2a4\ud06c\ub9bd\ud2b8\ub97c \uc791\uc131\ud560 \uac83\n",
      "- \ud30c\uc77c\uc5d0\uc11c \uba54\ud0c0\ub370\uc774\ud130\ub97c \uc9c1\uc811 \ubcfc \uc218 \uc788\ub294 \uac83\uc740 \uc544\ub2c8\uc9c0\ub9cc, \uba54\ud0c0\ub370\uc774\ud130\ub294 \ubb38\uc11c, \uc2a4\ud504\ub808\ub4dc\uc2dc\ud2b8, \uc774\ubbf8\uc9c0, \uc624\ub514\uc624, \ube44\ub514\uc624 \ud30c\uc77c \ub4f1\uc5d0 \uc800\uc7a5\ub418\uc5b4 \uc788\uc74c\n",
      "- \ubb38\uc0ac \uc791\uc131 \uc560\ud50c\ub9ac\ucf00\uc774\uc158\uc740 \ud30c\uc77c\uc758 \uc800\uc790, \uc0dd\uc131 \ubc0f \uc218\uc815 \uc77c\uc2dc, \ubc84\uc804 \uadf8\ub9ac\uace0 \ud30c\uc77c\uc5d0 \ub300\ud55c \uc124\uba85\uacfc \uac19\uc740 \uc138\ubd80\uc815\ubcf4\ub97c \ud30c\uc77c\uc5d0 \uc800\uc7a5\ud560 \uc218\ub3c4 \uc788\uc74c\n",
      "- \uce74\uba54\ub77c\ud3f0\uc758 \uacbd\uc6b0 \uc0ac\uc9c4\uc758 GPS \uc704\uce58\ub97c \ud30c\uc77c\uc5d0 \uc800\uc7a5\ud560 \uc218\ub3c4 \uc788\uace0\n",
      "- \ub9c8\uc774\ud06c\ub85c\uc18c\ud504\ud2b8 \uc6cc\ub4dc \uac19\uc740 \uacbd\uc6b0\ub294 \uc6cc\ub4dc \ubb38\uc11c\uc758 \uc791\uc131\uc790\uc5d0 \ub300\ud55c \uc815\ubcf4\ub97c \uc800\uc7a5\ud560 \uc218\ub3c4 \uc788\uc74c\n",
      "- \ubb3c\ub860 \ubaa8\ub4e0 \ud30c\uc77c\uc744 \uc77c\uc77c\uc774 \ud655\uc778\ud558\ub294 \uac83\uc740 \uace0\ub2e8\ud55c \uc791\uc5c5\uc774\uae30\ub294 \ud558\uc9c0\ub9cc, \ud30c\uc774\uc36c\uc73c\ub85c \uc774 \uc791\uc5c5\uc744 \uc790\ub3d9\ud654\ud560 \uc218 \uc788\uc74c\n",
      "\n",
      "### PyPDF\ub85c PDF \uba54\ud0c0\ub370\uc774\ud130 \ubd84\uc11d\ud558\uae30\n",
      "\n",
      "- \ubb38\uc11c \ud3ec\ub80c\uc2dd \uc218\uc0ac\n",
      "- Wired.com\uc5d0\uc11c\ub294 \uc544\uc9c1\ub3c4 [ANONOPS_The_Press_Release.pdf](http://www.wired.com/images_blogs/threatlevel/2010/12/ANONOPS_The_Press_Release.pdf) \ub77c\ub294 \uc5b4\ub098\ub2c8\uba38\uc2a4\uc758 \ubb38\uc11c\ub97c \ubbf8\ub7ec\ub9c1\ud558\uace0 \uc788\uc74c\n",
      "\n",
      "#### \ud604\uc7a5\uc5d0\uc11c \uc5b4\ub098\ub2c8\uba38\uc2a4\uc758 \uba54\ud0c0\ub370\uc774\ud130\n",
      "\n",
      "- 2010\ub144 12\uc6d4 10\uc77c Anonymous \ub77c\ub294 \ud574\ucee4 \uadf8\ub8f9\uc740 Operation Payback \uc774\ub77c\ub294 \uacf5\uaca9\uc758 \uc758\ub3c4\uc5d0 \ub300\ud55c \ubc1c\ud45c\ubb38\uc744 \ud3ec\uc2a4\ud305\ud588\ub2e4.(Prefect, 2010).\n",
      "- \uc5b4\ub098\ub2c8\uba38\uc2a4\ub294 \uc704\ud0a4\ub9ad\uc2a4\uc758 \uc9c0\uc6d0\uc774 \uc911\ub2e8\ub418\uc790 \uad00\ub828\ub418\uc5b4 \uc788\ub294 \uadf8\ub8f9\uc5d0 \ub300\ud55c DDoS \uacf5\uaca9\uc744 \uac10\ud589\ud588\ub2e4.\n",
      "- \uc5b4\ub098\ub2c8\uba38\uc2a4\uc758 \ud574\ucee4\ub294 \ubc1c\ud45c\ubb38\uc744 \uc544\ubb34\ub7f0 \uc18d\uc131\uc5c6\uc774 \ud3ec\uc2a4\ud305\ud588\ub2e4.\n",
      "- \ubc1c\ud45c\ubb38\uc740 PDF(Portable Document Format) \ud30c\uc77c\ub85c \ubc30\ud3ec\ub418\uc5c8\ub294\ub370, \uba54\ud0c0\ub370\uc774\ud130\uac00 \ud3ec\ud568\ub418\uc5b4 \uc788\uc5c8\ub2e4.\n",
      "- \ubb38\uc11c\ub97c \uc0dd\uc131\ud558\ub294\ub370 \uc0ac\uc6a9\ub41c \ud504\ub85c\uadf8\ub7a8\uc740 PDF \uba54\ud0c0\ub370\uc774\ud130\uc5d0 \ub300\ud55c \ubb38\uc11c\uc758 \uc791\uc131\uc790\uc778 Alex Tapanaris\uc758 \uc774\ub984\uc744 \ud3ec\ud568\uc2dc\ucf30\ub2e4.\n",
      "- \uadf8\ub9ac\uace0 \uba70\uce60\uc774 \ub418\uc9c0 \uc54a\uc544 \uadf8\ub9ac\uc2a4 \uacbd\ucc30\uc740 \ud0c0\ud30c\uce74\ub9ac\uc2a4\ub97c \uccb4\ud3ec\ud588\ub2e4.(Leyden, 2010)"
     ]
    },
    {
     "cell_type": "markdown",
     "metadata": {},
     "source": [
      "- PYPDF\ub294 PDF \ubb38\uc11c\ub97c \uad00\ub9ac\ud558\ub294 \ub370 \ub9e4\uc6b0 \ud6cc\ub96d\ud55c \uc720\ud2f8\ub9ac\ud2f0\uc774\uba70 http://pybrary.net/pyPdf/ \uc5d0\uc11c \ub2e4\uc6b4\ub85c\ub4dc \uac00\ub2a5\n",
      "- PYPDF\ub294 \ubb38\uc11c \uc815\ubcf4\ub97c \ucd94\ucd9c\ud558\ub294 \uae30\ub2a5\ubfd0\ub9cc \uc544\ub2c8\ub77c \ubb38\uc11c\ub97c \ubd84\ud560, \ud1b5\ud569, \uc798\ub77c\ub0b4\uae30(crop), \uc554\ud638\ud654, \ud574\ub3c5\ud558\ub294 \uae30\ub2a5\ub3c4 \uc81c\uacf5\n",
      "- \uba54\ud0c0\ub370\uc774\ud130\ub97c \uac00\uc838\uc624\uae30 \uc704\ud574 .getDocumentInfo() \uba54\uc11c\ub4dc\ub97c \uc0ac\uc6a9\ud560 \uac83\n",
      "- \uc774 \uba54\uc11c\ub4dc\ub294 tuple\uc758 \ubc30\uc5f4\uc744 \ubc18\ud658\n",
      "- \uac01 \ud29c\ud50c\uc5d0\ub294 \uba54\ud0c0\ub370\uc774\ud130 \uc694\uc18c\uc758 \uc124\uba85\uacfc \uac12\uc774 \ud3ec\ud568\ub418\uc5b4 \uc788\uc74c\n",
      "- \uc774 \ubc30\uc5f4\uc758 \uc694\uc18c\ub4e4\uc744 \ubaa8\ub450 \uc0b4\ud3b4\ubcf4\uba74 PDF \ubb38\uc11c\uc758 \ubaa8\ub4e0 \uba54\ud0c0\ub370\uc774\ud130\ub97c \ucd9c\ub825\ud560 \uc218 \uc788\uc74c"
     ]
    },
    {
     "cell_type": "code",
     "collapsed": false,
     "input": [
      "import pyPdf\n",
      "from pyPdf import PdfFileReader"
     ],
     "language": "python",
     "metadata": {},
     "outputs": [],
     "prompt_number": 20
    },
    {
     "cell_type": "code",
     "collapsed": false,
     "input": [
      "def printMeta(fileName):\n",
      "    pdfFile = PdfFileReader( file(fileName, 'rb'))\n",
      "    docInfo = pdfFile.getDocumentInfo()\n",
      "    print '[*] PDF MetaData For: ' + str(fileName)\n",
      "    # docInfo\uac00 dictionary\ub77c \uc18c\uc2a4 \uc218\uc815\n",
      "    for metaItem, value in docInfo.items():\n",
      "        print '[+] ' + metaItem + ':' + value\n",
      "\n",
      "printMeta('ch03/ANONOPS_The_Press_Release.pdf')"
     ],
     "language": "python",
     "metadata": {},
     "outputs": [
      {
       "output_type": "stream",
       "stream": "stdout",
       "text": [
        "[*] PDF MetaData For: ch03/ANONOPS_The_Press_Release.pdf\n",
        "[+] /Author:Alex Tapanaris\n",
        "[+] /Producer:OpenOffice.org 3.2\n",
        "[+] /Creator:Writer\n",
        "[+] /CreationDate:D:20101210031827+02'00'\n"
       ]
      }
     ],
     "prompt_number": 22
    },
    {
     "cell_type": "markdown",
     "metadata": {},
     "source": [
      "- \ud2b9\uc815 \ud30c\uc77c\uc744 \uc2dd\ubcc4\ud560 \uc218 \uc788\ub3c4\ub85d \uc635\uc158 \ucc98\ub9ac\ub97c \ucd94\uac00\ud568\uc73c\ub85c\uc368 PDF \ubb38\uc11c\uc5d0 \uc788\ub294 \uba54\ud0c0\ub370\uc774\ud130\ub97c \uc2dd\ubcc4\ud560 \uc218 \uc788\ub294 \ud234\uc774 \uc644\uc131\n",
      "- \ud2b9\uc815 \uba54\ud0c0\ub370\uc774\ud130\ub97c \ud14c\uc2a4\ud2b8\ud560 \uc218 \uc788\ub3c4\ub85d \uc2a4\ud06c\ub9bd\ud2b8\ub97c \uc218\uc815\ud560 \uc218\ub3c4 \uc788\ub2e4.\n",
      "- \ubb3c\ub860 \uc2a4\ud06c\ub9bd\ud2b8\ub97c \uc218\uc815\ud558\uba74 \ub204\uac00 \ubb38\uc11c\ub97c \uc791\uc131\ud588\ub294\uc9c0 \ucd9c\ub825\ud558\ub3c4\ub85d \ud558\uc5ec \ubc94\uc778\uc744 \uccb4\ud3ec\ud558\ub294\ub370 \ub3c4\uc6c0\uc774 \ub420 \uc218\ub3c4 \uc788\uc744 \uac83"
     ]
    },
    {
     "cell_type": "markdown",
     "metadata": {},
     "source": [
      "----\n",
      "\n",
      "#### pyPdf\ub97c \uc774\uc6a9\ud574\uc11c PDF \uba54\ud0c0\ub370\uc774\ud130\ub97c \ubd84\uc11d\ud558\ub294 \uacbd\uc6b0 \uc815\uc0c1\uc801\uc778 PDF \ud30c\uc77c\uc778 \uacbd\uc6b0\uc778\ub370\ub3c4 EOF marker not found \ub77c\ub294 \uc624\ub958\uac00 \ucd9c\ub825\ub418\ub294 \uacbd\uc6b0\n",
      "\n",
      "- [Merge non-standard PDFs with pyPdf](http://stackoverflow.com/questions/15177587/merge-non-standard-pdfs-with-pypdf)"
     ]
    },
    {
     "cell_type": "markdown",
     "metadata": {},
     "source": [
      "#### from:"
     ]
    },
    {
     "cell_type": "markdown",
     "metadata": {},
     "source": [
      "    def read(self, stream):\n",
      "        # start at the end:\n",
      "        stream.seek(-1, 2)\n",
      "        line = ''\n",
      "        while not line:\n",
      "            line = self.readNextEndLine(stream)\n",
      "        if line[:5] != \"%%EOF\":\n",
      "            raise utils.PdfReadError, \"EOF marker not found\"\n",
      "\n",
      "    ... etc"
     ]
    },
    {
     "cell_type": "markdown",
     "metadata": {},
     "source": [
      "#### to:"
     ]
    },
    {
     "cell_type": "markdown",
     "metadata": {},
     "source": [
      "    def read(self, stream):\n",
      "        # start at the end:\n",
      "        stream.seek(-1, 2)\n",
      "        line = ''\n",
      "        # read stream backwards while watching for end-of-file marker\n",
      "        while line[:5] != \"%%EOF\":\n",
      "            line = self.readNextEndLine(stream)\n",
      "\n",
      "    ... etc\n",
      "    \n",
      "<img src=\"files/images/pypdf_eof.jpg\" />"
     ]
    },
    {
     "cell_type": "markdown",
     "metadata": {},
     "source": [
      "----"
     ]
    },
    {
     "cell_type": "code",
     "collapsed": false,
     "input": [
      "%%writefile ch03/pdfRead.py\n",
      "import pyPdf\n",
      "import optparse\n",
      "from pyPdf import PdfFileReader\n",
      "\n",
      "def printMeta(fileName):\n",
      "    pdfFile = PdfFileReader( file(fileName, 'rb'))\n",
      "    docInfo = pdfFile.getDocumentInfo()\n",
      "    print '[*] PDF MetaData For: ' + str(fileName)\n",
      "    # docInfo is dictionary type in Python.\n",
      "    for metaItem, value in docInfo.items():\n",
      "        print '[+] ' + metaItem + ':' + value\n",
      "        \n",
      "def main():\n",
      "    parser = optparse.OptionParser('usage %prog ' + '-F <PDF file name>')\n",
      "    parser.add_option('-F', dest='fileName', type='string', \n",
      "                      help = 'specify PDF file name')\n",
      "    (options, args) = parser.parse_args()\n",
      "    fileName = options.fileName\n",
      "    if fileName == None:\n",
      "        print parser.usage\n",
      "    else:\n",
      "        printMeta(fileName)\n",
      "\n",
      "if __name__ == '__main__':\n",
      "    main()"
     ],
     "language": "python",
     "metadata": {},
     "outputs": [
      {
       "output_type": "stream",
       "stream": "stdout",
       "text": [
        "Overwriting ch03/pdfRead.py\n"
       ]
      }
     ],
     "prompt_number": 26
    },
    {
     "cell_type": "code",
     "collapsed": false,
     "input": [
      "!python ch03/pdfRead.py -F \"ch03/ANONOPS_The_Press_Release.pdf\""
     ],
     "language": "python",
     "metadata": {},
     "outputs": [
      {
       "output_type": "stream",
       "stream": "stdout",
       "text": [
        "[*] PDF MetaData For: ch03/ANONOPS_The_Press_Release.pdf\r\n",
        "[+] /Author:Alex Tapanaris\r\n",
        "[+] /Producer:OpenOffice.org 3.2\r\n",
        "[+] /Creator:Writer\r\n",
        "[+] /CreationDate:D:20101210031827+02'00'\r\n"
       ]
      }
     ],
     "prompt_number": 27
    },
    {
     "cell_type": "markdown",
     "metadata": {},
     "source": [
      "### Exif \uba54\ud0c0\ub370\uc774\ud130 \uc774\ud574\ud558\uae30\n",
      "\n",
      "- \uad50\ud658 \uc774\ubbf8\uc9c0 \ud30c\uc77c \ud615\uc2dd(Exchange Image File Format, \uc774\ud558 Exif) \ud45c\uc900\uc740 \uc774\ubbf8\uc9c0 \ubc0f \uc624\ub514\uc624 \ud30c\uc77c\uc744 \uc800\uc7a5\ud558\ub294 \ubc29\ubc95\uc5d0 \ub300\ud574\uc11c \uc815\uc758\n",
      "- \ub514\uc9c0\ud138 \uce74\uba54\ub77c, \uc2a4\ub9c8\ud2b8\ud3f0, \uc2a4\uce90\ub108\uc640 \uac19\uc740 \uae30\uae30\ub4e4\uc740 \ubc14\ub85c \uc774 \ud45c\uc900\uc744 \uc0ac\uc6a9\ud558\uc5ec \uc624\ub514\uc624\ub098 \uc774\ubbf8\uc9c0 \ud30c\uc77c\uc744 \uc800\uc7a5\ud568\n",
      "- Exif \ud45c\uc900\uc5d0\ub294 \ud3ec\ub80c\uc2dd \uc218\uc0ac\uc5d0 \uc720\uc6a9\ud55c \uc5ec\ub7ec\uac00\uc9c0 \ud0dc\uadf8\uac00 \uc788\uc74c\n",
      "- Phil Harvey\ub294 [exiftool](http://www.sno.phy.queensu.ca/~phil/exiftool/) \ub77c\ub294 \ud234\uc744 \ub9cc\ub4e4\uc5c8\ub2e4.\n",
      "- \uc774 \ud234\ub85c exif \ud0dc\uadf8\ub4e4\uc744 \ubd84\uc11d \uac00\ub2a5\n",
      "- \uc0ac\uc9c4\uc5d0 \uc788\ub294 \ubaa8\ub4e0 Exif \ud0dc\uadf8\ub97c \uc870\uc0ac\ud558\ub824\uba74 \uba87 \ud398\uc774\uc9c0 \ubd84\ub7c9\uc758 \uc815\ubcf4\uac00 \ub098\uc62c \uc218 \uc788\uae30 \ub54c\ubb38\uc5d0 \ubaa8\ub4e0 \ud0dc\uadf8\ub97c \ubcf4\ub294 \ub300\uc2e0\uc5d0 \ucd95\uc57d\ub41c \ubc84\uc804\uc744 \uc0b4\ud3b4\ubcfc \uac83\n",
      "- \uc5ec\uae30\uc11c \uc8fc\ubaa9\ud560 \uc810\uc740 Exif \ud0dc\uadf8\uc758 \uce74\uba54\ub77c \ubaa8\ub378 \uc774\ub984\uc774 iPhone 4S\uc774\uba70, \uc2e4\uc81c \uc774\ubbf8\uc9c0\uc758 GPS **\uc704\ub3c4**\uc640 **\uacbd\ub3c4**\uac00 \ud3ec\ud568\ub418\uc5b4 \uc788\ub2e4\ub294 \uac83\n",
      "- \uc774\ub7ec\ud55c \uc815\ubcf4\ub294 \uc774\ubbf8\uc9c0\ub97c \uc815\ub9ac\ud558\ub294\ub370 \uc720\uc6a9\n",
      "- Mac OS X \uc560\ud50c\ub9ac\ucf00\uc774\uc158\uc740 iPhoto\ub294 \uc704\uce58 \uc815\ubcf4\ub97c \uc0ac\uc6a9\ud558\uc5ec \uc0ac\uc9c4\uc744 \uc138\uacc4\uc9c0\ub3c4 \uc704\uc5d0 \uae54\ub054\ud558\uac8c \ubc30\uce58\ud558\uc9c0\ub9cc \uc774 \uc815\ubcf4\ub294 \uc545\uc758\uc801\uc778 \uc6a9\ub3c4\ub85c\ub3c4 \uc0ac\uc6a9\uc774 \uac00\ub2a5\n",
      "- \ub9cc\uc57d\uc5d0 Exif \ud0dc\uadf8\uac00 \uc788\ub294 \uc0ac\uc9c4\uc744 \ube14\ub85c\uadf8\ub098 \uc6f9 \uc0ac\uc774\ud2b8\uc5d0 \uc62c\ub9ac\ub294 \ubcd1\uc0ac\uac00 \uc788\ub2e4\uace0 \uac00\uc815\ud574\ubcf4\uc790. \uc801\uad70\uc740 **\uc0ac\uc9c4\uc744 \ubaa8\ub450 \ub2e4\uc6b4\ub85c\ub4dc**\ud574\uc11c **\ud574\ub2f9 \ubcd1\uc0ac\uac00 \uc5b4\ub514\uc5d0 \uc788\ub294\uc9c0** \uadf8\ub9ac\uace0 **\uc5b4\ub514\ub97c \ubc29\ubb38\ud588\ub294\uc9c0** \uc54c \uc218 \uc788\uac8c \ub41c\ub2e4.\n",
      "- \uc6f9 \uc0ac\uc774\ud2b8\ub97c \uc5f0\uacb0\ud558\ub294 \uc2a4\ud06c\ub9bd\ud2b8\ub97c \ub9cc\ub4e4\uc5b4\uc11c \uadf8 \uc0ac\uc774\ud2b8\uc5d0 \uc788\ub294 \ubaa8\ub4e0 \uc774\ubbf8\uc9c0\ub97c \ub2e4\uc6b4\ub85c\ub4dc\ud558\uc5ec **Exif \uba54\ud0c0\ub370\uc774\ud130\uac00 \uc788\ub294\uc9c0** \ud655\uc778\ud560 \uac83"
     ]
    },
    {
     "cell_type": "markdown",
     "metadata": {},
     "source": [
      "### BeautifulSoup\uc73c\ub85c \uc774\ubbf8\uc9c0 \ub2e4\uc6b4\ub85c\ub4dc\ud558\uae30\n",
      "\n",
      "- http://www.crummy.com/software/BeautifulSoup/ \uc5d0\uc11c \ub2e4\uc6b4\ub85c\ub4dc\ud560 \uc218 \uc788\ub294 Beautiful Soup\uc740 HTML\uacfc XMl \ubb38\uc11c\ub97c \ube60\ub974\uac8c \uad6c\ubb38\ubd84\uc11d\ud560 \uc218 \uc788\ub3c4\ub85d \ud574\uc90c\n",
      "- \uc6f9 \ud398\uc774\uc9c0\uc5d0 \uc788\ub294 \ubaa8\ub4e0 \uc774\ubbf8\uc9c0\ub97c \uac00\uc838\uc624\uae30 \uc704\ud574 \uba3c\uc800 HTML \ubb38\uc11c\uc758 \ucf58\ud150\uce20\ub97c \ubaa8\ub450 \"\uae01\uc5b4\"\uc62c \uac83\n",
      "\n",
      "\n",
      "1. \uc5ec\uae30\uc11c \uc720\uc758\ud560 \uc810\uc740 urllib2 \ub77c\uc774\ube0c\ub7ec\ub9ac\ub97c \uc0ac\uc6a9\ud558\uc5ec \ubb38\uc11c\ub97c \uc5f4\uace0 \uc77d\ub294\ub2e4\ub294 \uac83\n",
      "2. Beautiful Soup \uac1d\uccb4\ub97c \uc0dd\uc131\n",
      "3. \uc774 \uac1d\uccb4\uc5d0\uc11c \uc6b0\ub9ac\ub294 .findall('img') \uba54\uc11c\ub4dc\ub97c \uc0ac\uc6a9\ud558\uc5ec \ubaa8\ub4e0 \uc774\ubbf8\uc9c0 \ud0dc\uadf8\ub97c \ucd94\ucd9c\ud560 \uac83\n",
      "4. \uc774 \uba54\uc11c\ub4dc\ub294 \uc774\ubbf8\uc9c0 \ud0dc\uadf8\uac00 \uc800\uc7a5\ub418\uc5b4 \uc788\ub294 \ubaa8\ub4e0 \ubd80\ubd84\uc744 \ubc30\uc5f4\ub85c \ubc18\ud658\ud558\uba70, \uc6b0\ub9ac\ub294 \uc774\uac83\uc744 \ub2e4\uc2dc \ubc18\ud658\n",
      "\n",
      "- \ub2e4\uc74c\uc73c\ub85c, \ub2e4\ub978 \ud568\uc218\uc5d0\uc11c \ud30c\uc77c\uc744 \uc0b4\ud3b4\ubcf4\uae30 \uc704\ud574 \uc0ac\uc774\ud2b8\uc5d0\uc11c \uac01 \ud30c\uc77c\uc744 \ub2e4\uc6b4\ub85c\ub4dc\ud574\uc57c \ud568\n",
      "- \uc774\ubbf8\uc9c0\ub97c \ub2e4\uc6b4\ub85c\ub4dc \ud558\uae30 \uc704\ud574\uc11c\ub294 urllib2, urlparse \uadf8\ub9ac\uace0 os \ub77c\uc774\ube0c\ub7ec\ub9ac\uc5d0 \uc788\ub294 \uae30\ub2a5\ub4e4\uc744 \uc0ac\uc6a9\ud560 \uac83\n",
      "- \uba3c\uc800 \uc774\ubbf8\uc9c0 \ud0dc\uadf8\uc5d0\uc11c \uc18c\uc2a4 \uc8fc\uc18c\ub97c \uac00\uc838\uc62c \uac83\n",
      "- \uc774\ubbf8\uc9c0\uc758 \ubc14\uc774\ub108\ub9ac \ucf58\ud150\uce20\ub97c \ubcc0\uc218\ub85c \ubd88\ub7ec\ub4e4\uc77c \uac83\n",
      "- \ub9c8\uc9c0\ub9c9\uc73c\ub85c \"write-binary\" \ubaa8\ub4dc\ub85c \ud30c\uc77c\uc744 \uc5f4\uc5b4\uc11c \uc774\ubbf8\uc9c0\uc758 \ucf58\ud150\uce20\ub97c \ud30c\uc77c\ub85c \uc4f8 \uac83"
     ]
    },
    {
     "cell_type": "code",
     "collapsed": false,
     "input": [
      "import urllib2\n",
      "from urlparse import urlsplit\n",
      "from os.path import basename\n",
      "\n",
      "def downloadImage(imgTag):\n",
      "    try:\n",
      "        print '[+] Downloading image...'\n",
      "        imgSrc = imgTag['src']\n",
      "        imgContent = urllib2.urlopen(imgSrc).read()\n",
      "        imgFileName = basename(urlsplit(imgSrc)[2])\n",
      "        imgFile = open(imgFileName, 'wb')\n",
      "        imgFile.write(imgContent)\n",
      "        imgFile.close()\n",
      "        return imgFileName\n",
      "    except:\n",
      "        return ''"
     ],
     "language": "python",
     "metadata": {},
     "outputs": [],
     "prompt_number": 28
    },
    {
     "cell_type": "markdown",
     "metadata": {},
     "source": [
      "### \ud30c\uc774\uc36c \uc774\ubbf8\uc9c0 \ub77c\uc774\ube0c\ub7ec\ub9ac\ub85c \uc774\ubbf8\uc9c0\uc758 Exif \uba54\ud0c0\ub370\uc774\ud130 \uc77d\uc5b4\uc624\uae30\n",
      "\n",
      "- \ud30c\uc774\uc36c \uc774\ubbf8\uc9c0 \ub77c\uc774\ube0c\ub7ec\ub9ac(Python Imaging Library)\ub97c \uc0ac\uc6a9\ud558\uc5ec Exif \uba54\ud0c0\ub370\uc774\ud130\uac00 \uc788\ub294\uc9c0 \uc774\ubbf8\uc9c0 \ud30c\uc77c\uc758 \ucf58\ud150\uce20\ub97c \ud655\uc778\ud560 \uac83\n",
      "- [PIL](http://www.pythonware.com/products/pil/) \uc5d0\uc11c \ub2e4\uc6b4 \uac00\ub2a5\n",
      "- \ud30c\uc774\uc36c\uc5d0 \uc774\ubbf8\uc9c0 \ucc98\ub9ac \uae30\ub2a5 \uc81c\uacf5\n",
      "- \uc774\ubbf8\uc9c0 \ud30c\uc77c\uc5d0 \uc788\ub294 \uc704\uce58 \uc815\ubcf4\uc640 \uad00\ub828\uc788\ub294 \uba54\ud0c0\ub370\uc774\ud130\ub97c \uc27d\uac8c \uac00\uc838\uc62c \uc218 \uc788\uac8c \ud574\uc90c\n",
      "- \ud30c\uc77c\uc5d0 \uc788\ub294 \uba54\ud0c0\ub370\uc774\ud130\ub97c \ud14c\uc2a4\ud2b8\ud558\uae30 \uc704\ud574 \uac1d\uccb4\ub97c PIL \uc774\ubbf8\uc9c0\ub85c \uc5f4\uc5b4\uc11c \\_getexif() \uba54\uc11c\ub4dc\ub97c \uc0ac\uc6a9\ud560 \uac83\n",
      "- Exif \ub370\uc774\ud130\ub97c \ubc30\uc5f4\ub85c \ucc98\ub9ac\ud558\uae30 \uba54\ud0c0\ub370\uc774\ud130 \ud0c0\uc785\uc73c\ub85c \uc778\ub371\uc2a4\ud654 \ud55c\ub2e4.\n",
      "- \ubc30\uc5f4\uc774 \uc644\ub8cc\ub418\uba74 GPSInfo\uac00 \uc788\ub294 Exif \ud0dc\uadf8\uac00 \uc788\ub294\uc9c0 \ubc30\uc5f4\uc744 \uac80\uc0c9\n",
      "- GPS \uba54\ud0c0\ub370\uc774\ud130\uc758 \uc874\uc7ac \uc5ec\ubd80\ub97c \uc54c \uc218 \uc788\uace0, \uadf8 \uacb0\uacfc\ub97c \ud654\uba74\uc5d0 \ucd9c\ub825\ud560 \uc218 \uc788\uc74c"
     ]
    },
    {
     "cell_type": "code",
     "collapsed": false,
     "input": [
      "from PIL import *"
     ],
     "language": "python",
     "metadata": {},
     "outputs": [],
     "prompt_number": 31
    },
    {
     "cell_type": "code",
     "collapsed": false,
     "input": [
      "from PIL.ExifTags import TAGS"
     ],
     "language": "python",
     "metadata": {},
     "outputs": [],
     "prompt_number": 41
    },
    {
     "cell_type": "code",
     "collapsed": false,
     "input": [
      "def testForExif(imgFileName):\n",
      "    try:\n",
      "        exifData = {}\n",
      "        imgFile = Image.open(imgFileName)\n",
      "        info = imgFile._getexif()\n",
      "        if info:\n",
      "            for (tag, value) in info.items():\n",
      "                decoded = TAGS.get(tag, tag)\n",
      "                exifData[decoded] = value\n",
      "            exifGPS = exifData['GPSInfo']\n",
      "            if exifGPS:\n",
      "                print '[*] ' + imgFileName + ' contains GPS MetaData'\n",
      "    except:\n",
      "        pass"
     ],
     "language": "python",
     "metadata": {},
     "outputs": [],
     "prompt_number": 42
    },
    {
     "cell_type": "markdown",
     "metadata": {},
     "source": [
      "- \ubaa8\ub450 \uc870\ud569\ud558\uba74, \uc774\uc81c \uc2a4\ud06c\ub9bd\ud2b8\ub294 URL \uc8fc\uc18c\uc5d0 \uc5f0\uacb0\ud558\uc5ec \ubaa8\ub4e0 \uc774\ubbf8\uc9c0 \ud30c\uc77c\uc744 \uad6c\ubb38\ubd84\uc11d \ubc0f \ub2e4\uc6b4\ub85c\ub4dc \ud55c \ud6c4\uc5d0 Exif \uba54\ud0c0\ub370\uc774\ud130\uc758 \uc874\uc7ac \uc5ec\ubd80\ub97c \uac01 \ud30c\uc77c\uc744 \ub300\uc0c1\uc73c\ub85c \ud14c\uc2a4\ud2b8 \ud560 \uc218 \uc788\uac8c \ub428\n",
      "- Main \ud568\uc218\ub97c \ubcf4\uba74 \uc2a4\ud06c\ub9bd\ud2b8\ub294 \uc0ac\uc774\ud2b8\uc5d0 \uc788\ub294 \ubaa8\ub4e0 \uc774\ubbf8\uc9c0\uc758 \ubaa9\ub85d\uc744 \uac00\uc838\uc628\ub2e4.\n",
      "- \ubc30\uc5f4\uc5d0 \uc788\ub294 \uac01 \uc774\ubbf8\uc9c0\ub9c8\ub2e4 \ud30c\uc77c\uc744 \ub2e4\uc6b4\ub85c\ub4dc\ud558\uc5ec GPS \uba54\ud0c0\ub370\uc774\ud130\uac00 \uc788\ub294 \ud14c\uc2a4\ud2b8"
     ]
    },
    {
     "cell_type": "code",
     "collapsed": false,
     "input": [
      "testForExif('images/gps_test.jpg')"
     ],
     "language": "python",
     "metadata": {},
     "outputs": [
      {
       "output_type": "stream",
       "stream": "stdout",
       "text": [
        "[*] images/gps_test.jpg contains GPS MetaData\n"
       ]
      }
     ],
     "prompt_number": 44
    },
    {
     "cell_type": "code",
     "collapsed": false,
     "input": [
      "!exiftool images/gps_test.jpg"
     ],
     "language": "python",
     "metadata": {},
     "outputs": [
      {
       "output_type": "stream",
       "stream": "stdout",
       "text": [
        "ExifTool Version Number         : 9.67\r\n",
        "File Name                       : gps_test.jpg\r\n",
        "Directory                       : images\r\n",
        "File Size                       : 610 kB\r\n",
        "File Modification Date/Time     : 2014:07:16 10:42:53+09:00\r\n",
        "File Access Date/Time           : 2014:07:16 10:50:27+09:00\r\n",
        "File Inode Change Date/Time     : 2014:07:16 10:42:57+09:00\r\n",
        "File Permissions                : rw-r--r--\r\n",
        "File Type                       : JPEG\r\n",
        "MIME Type                       : image/jpeg\r\n",
        "JFIF Version                    : 1.02\r\n",
        "Exif Byte Order                 : Little-endian (Intel, II)\r\n",
        "Make                            : Canon\r\n",
        "Camera Model Name               : Canon PowerShot A80\r\n",
        "Orientation                     : Horizontal (normal)\r\n",
        "X Resolution                    : 180\r\n",
        "Y Resolution                    : 180\r\n",
        "Resolution Unit                 : inches\r\n",
        "Software                        : Adobe Photoshop Elements 2.0\r\n",
        "Modify Date                     : 2006:03:02 11:07:04\r\n",
        "Y Cb Cr Positioning             : Centered\r\n",
        "Exposure Time                   : 1/500\r\n",
        "F Number                        : 6.3\r\n",
        "Exif Version                    : 0220\r\n",
        "Date/Time Original              : 2006:02:11 11:06:37\r\n",
        "Create Date                     : 2006:02:11 11:06:37\r\n",
        "Components Configuration        : Y, Cb, Cr, -\r\n",
        "Compressed Bits Per Pixel       : 5\r\n",
        "Shutter Speed Value             : 1/501\r\n",
        "Aperture Value                  : 6.3\r\n",
        "Exposure Compensation           : 0\r\n",
        "Max Aperture Value              : 4.9\r\n",
        "Metering Mode                   : Multi-segment\r\n",
        "Flash                           : Auto, Did not fire\r\n",
        "Focal Length                    : 23.4 mm\r\n",
        "User Comment                    : \r\n",
        "Flashpix Version                : 0100\r\n",
        "Color Space                     : Uncalibrated\r\n",
        "Exif Image Width                : 1136\r\n",
        "Exif Image Height               : 852\r\n",
        "Focal Plane X Resolution        : 8114.285714\r\n",
        "Focal Plane Y Resolution        : 8114.285714\r\n",
        "Focal Plane Resolution Unit     : inches\r\n",
        "Sensing Method                  : One-chip color area\r\n",
        "File Source                     : Digital Camera\r\n",
        "Custom Rendered                 : Normal\r\n",
        "Exposure Mode                   : Auto\r\n",
        "White Balance                   : Auto\r\n",
        "Digital Zoom Ratio              : 1\r\n",
        "Scene Capture Type              : Standard\r\n",
        "GPS Version ID                  : 2.0.0.0\r\n",
        "GPS Latitude Ref                : North\r\n",
        "GPS Longitude Ref               : West\r\n",
        "GPS Altitude Ref                : Above Sea Level\r\n",
        "GPS Map Datum                   : WGS-84\r\n",
        "Compression                     : JPEG (old-style)\r\n",
        "Thumbnail Offset                : 1280\r\n",
        "Thumbnail Length                : 0\r\n",
        "Current IPTC Digest             : ef650e6ae4c8b959dcb9a06f25cc0d95\r\n",
        "Application Record Version      : 2\r\n",
        "Province-State                  : California\r\n",
        "Country-Primary Location Name   : United States\r\n",
        "IPTC Digest                     : ef650e6ae4c8b959dcb9a06f25cc0d95\r\n",
        "Displayed Units X               : inches\r\n",
        "Displayed Units Y               : inches\r\n",
        "Global Angle                    : 30\r\n",
        "Global Altitude                 : 30\r\n",
        "Copyright Flag                  : False\r\n",
        "Photoshop Quality               : 11\r\n",
        "Photoshop Format                : Standard\r\n",
        "Progressive Scans               : 3 Scans\r\n",
        "XMP Toolkit                     : XMP toolkit 2.8.2-33, framework 1.5\r\n",
        "About                           : uuid:4dd5c600-ab6e-11da-9542-bfb44dc3b46e\r\n",
        "City                            : 18 km NE of Cathedral City\r\n",
        "State                           : California\r\n",
        "Country                         : United States\r\n",
        "Creator Tool                    : Adobe Photoshop Elements for Macintosh, version 2.0\r\n",
        "Document ID                     : adobe:docid:photoshop:4dd5c5ff-ab6e-11da-9542-bfb44dc3b46e\r\n",
        "Profile CMM Type                : appl\r\n",
        "Profile Version                 : 2.2.0\r\n",
        "Profile Class                   : Input Device Profile\r\n",
        "Color Space Data                : RGB\r\n",
        "Profile Connection Space        : XYZ\r\n",
        "Profile Date Time               : 2003:07:01 00:00:00\r\n",
        "Profile File Signature          : acsp\r\n",
        "Primary Platform                : Apple Computer Inc.\r\n",
        "CMM Flags                       : Not Embedded, Independent\r\n",
        "Device Manufacturer             : appl\r\n",
        "Device Model                    : \r\n",
        "Device Attributes               : Reflective, Glossy, Positive, Color\r\n",
        "Rendering Intent                : Perceptual\r\n",
        "Connection Space Illuminant     : 0.9642 1 0.82491\r\n",
        "Profile Creator                 : appl\r\n",
        "Profile ID                      : 0\r\n",
        "Red Matrix Column               : 0.45427 0.24263 0.01482\r\n",
        "Green Matrix Column             : 0.35332 0.67441 0.09042\r\n",
        "Blue Matrix Column              : 0.15662 0.08336 0.71953\r\n",
        "Media White Point               : 0.95047 1 1.0891\r\n",
        "Chromatic Adaptation            : 1.04788 0.02292 -0.0502 0.02957 0.99049 -0.01706 -0.00923 0.01508 0.75165\r\n",
        "Red Tone Reproduction Curve     : (Binary data 14 bytes, use -b option to extract)\r\n",
        "Green Tone Reproduction Curve   : (Binary data 14 bytes, use -b option to extract)\r\n",
        "Blue Tone Reproduction Curve    : (Binary data 14 bytes, use -b option to extract)\r\n",
        "Profile Description             : Camera RGB Profile\r\n",
        "Profile Copyright               : Copyright 2003 Apple Computer Inc., all rights reserved.\r\n",
        "Profile Description ML          : Camera RGB Profile\r\n",
        "Profile Description ML (es-ES)  : Perfil RGB para C\u00e1mara\r\n",
        "Profile Description ML (da-DK)  : RGB-beskrivelse til Kamera\r\n",
        "Profile Description ML (de-DE)  : RGB-Profil f\u00fcr Kameras\r\n",
        "Profile Description ML (fi-FI)  : Kameran RGB-profiili\r\n",
        "Profile Description ML (fr-FU)  : Profil RVB de l\u2019appareil-photo\r\n",
        "Profile Description ML (it-IT)  : Profilo RGB Fotocamera\r\n",
        "Profile Description ML (nl-NL)  : RGB-profiel Camera\r\n",
        "Profile Description ML (no-NO)  : RGB-kameraprofil\r\n",
        "Profile Description ML (pt-BR)  : Perfil RGB de C\u00e2mera\r\n",
        "Profile Description ML (sv-SE)  : RGB-profil f\u00f6r Kamera\r\n",
        "Profile Description ML (ja-JP)  : \u30ab\u30e1\u30e9 RGB \u30d7\u30ed\u30d5\u30a1\u30a4\u30eb\r\n",
        "Profile Description ML (ko-KR)  : \uce74\uba54\ub77c RGB \ud504\ub85c\ud30c\uc77c\r\n",
        "Profile Description ML (zh-TW)  : \u6578\u4f4d\u76f8\u6a5f RGB \u8272\u5f69\u63cf\u8ff0\r\n",
        "Profile Description ML (zh-CN)  : \u76f8\u673a RGB \u63cf\u8ff0\u6587\u4ef6\r\n",
        "DCT Encode Version              : 100\r\n",
        "APP14 Flags 0                   : [14]\r\n",
        "APP14 Flags 1                   : (none)\r\n",
        "Color Transform                 : YCbCr\r\n",
        "Image Width                     : 1136\r\n",
        "Image Height                    : 852\r\n",
        "Encoding Process                : Baseline DCT, Huffman coding\r\n",
        "Bits Per Sample                 : 8\r\n",
        "Color Components                : 3\r\n",
        "Y Cb Cr Sub Sampling            : YCbCr4:4:4 (1 1)\r\n",
        "Aperture                        : 6.3\r\n",
        "GPS Altitude                    : 304 m Above Sea Level\r\n",
        "GPS Latitude                    : 33 deg 52' 31.66\" N\r\n",
        "GPS Longitude                   : 116 deg 18' 5.83\" W\r\n",
        "GPS Position                    : 33 deg 52' 31.66\" N, 116 deg 18' 5.83\" W\r\n",
        "Image Size                      : 1136x852\r\n",
        "Scale Factor To 35 mm Equivalent: 4.9\r\n",
        "Shutter Speed                   : 1/500\r\n",
        "Circle Of Confusion             : 0.006 mm\r\n",
        "Field Of View                   : 18.0 deg\r\n",
        "Focal Length                    : 23.4 mm (35 mm equivalent: 113.9 mm)\r\n",
        "Hyperfocal Distance             : 14.09 m\r\n"
       ]
      }
     ],
     "prompt_number": 45
    },
    {
     "cell_type": "markdown",
     "metadata": {},
     "source": [
      "- \ubaa8\ub450 \uc870\ud569\ud558\uba74, \uc774\uc81c \uc2a4\ud06c\ub9bd\ud2b8\ub294 URL \uc8fc\uc18c\uc5d0 \uc5f0\uacb0\ud558\uc5ec \ubaa8\ub4e0 \uc774\ubbf8\uc9c0 \ud30c\uc77c\uc744 \uad6c\ubb38\ubd84\uc11d \ubc0f \ub2e4\uc6b4\ub85c\ub4dc \ud55c \ud6c4\uc5d0 Exif \uba54\ud0c0 \ub370\uc774\ud130\uc758 \uc874\uc7ac \uc5ec\ubd80\ub97c \uac01 \ud30c\uc77c\uc744 \ub300\uc0c1\uc73c\ub85c \ud14c\uc2a4\ud2b8 \ud560 \uc218 \uc788\uac8c \ub418\uc5c8\ub2e4.\n",
      "- Main \ud568\uc218\ub97c \ubcf4\uba74 \uc2a4\ud06c\ub9bd\ud2b8\ub294 \uc0ac\uc774\ud2b8\uc5d0 \uc788\ub294 \ubaa8\ub4e0 \uc774\ubbf8\uc9c0\uc758 \ubaa9\ub85d\uc744 \uac00\uc838\uc628\ub2e4.\n",
      "- \ubc30\uc5f4\uc5d0 \uc788\ub294 \uac01 \uc774\ubbf8\uc9c0\ub9c8\ub2e4 \ud30c\uc77c\uc744 \ub2e4\uc6b4\ub85c\ub4dc\ud558\uc5ec GPS \uba54\ud0c0\ub370\uc774\ud130\uac00 \uc788\ub294\uc9c0 \ud14c\uc2a4\ud2b8"
     ]
    },
    {
     "cell_type": "code",
     "collapsed": false,
     "input": [
      "%%writefile ch03/exifFetch.py\n",
      "import urllib2\n",
      "import optparse\n",
      "from urlparse import urlsplit\n",
      "from os.path import basename\n",
      "from bs4 import BeautifulSoup\n",
      "from PIL import Image\n",
      "from PIL.ExifTags import TAGS\n",
      "\n",
      "def findImages(url):\n",
      "    print '[+] Finding images on ' + url\n",
      "    urlContent = urllib2.urlopen(url).read()\n",
      "    soup = BeautifulSoup(urlContent)\n",
      "    imgTags = soup.findAll('img')\n",
      "    return imgTags\n",
      "\n",
      "def downloadImage(imgTag):\n",
      "    try:\n",
      "        print '[+] Downloading image...'\n",
      "        imgSrc = imgTag['src']\n",
      "        imgContent = urllib2.urlopen(imgSrc).read()\n",
      "        imgFileName = basename(urlsplit(imgSrc)[2])\n",
      "        imgFile = open(imgFileName, 'wb')\n",
      "        imgFile.write(imgContent)\n",
      "        imgFile.close()\n",
      "        return imgFileName\n",
      "    except:\n",
      "        return ''\n",
      "    \n",
      "def testForExif(imgFileName):\n",
      "    try:\n",
      "        exifData = {}\n",
      "        imgFile = Image.open(imgFileName)\n",
      "        info = imgFile._getexif()\n",
      "        if info:\n",
      "            for (tag, value) in info.items():\n",
      "                decoded = TAGS.get(tag, tag)\n",
      "                exifData[decoded] = value\n",
      "            exifGPS = exifData['GPSInfo']\n",
      "            if exifGPS:\n",
      "                print '[*] ' + imgFileName + ' contains GPS MetaData'\n",
      "    except:\n",
      "        pass\n",
      "    \n",
      "def main():\n",
      "    parser = optparse.OptionParser('usage %prog ' + '-u <target url>')\n",
      "    parser.add_option('-u', dest='url', type='string', \n",
      "                      help='specify url address')\n",
      "    (options, args) = parser.parse_args()\n",
      "    url = options.url\n",
      "    if url == None:\n",
      "        print parser.usage\n",
      "    else:\n",
      "        imgTags = findImages(url)\n",
      "        for imgTag in imgTags:\n",
      "            imgFileName = downloadImage(imgTag)\n",
      "            testForExif(imgFileName)\n",
      "            \n",
      "if __name__ == '__main__':\n",
      "    main()"
     ],
     "language": "python",
     "metadata": {},
     "outputs": [
      {
       "output_type": "stream",
       "stream": "stdout",
       "text": [
        "Overwriting ch03/exifFetch.py\n"
       ]
      }
     ],
     "prompt_number": 54
    },
    {
     "cell_type": "code",
     "collapsed": false,
     "input": [
      "!python ch03/exifFetch.py -u http://www.flickr.com/photos/dvids/4999001925/sizes/o"
     ],
     "language": "python",
     "metadata": {},
     "outputs": [
      {
       "output_type": "stream",
       "stream": "stdout",
       "text": [
        "[+] Finding images on http://www.flickr.com/photos/dvids/4999001925/sizes/o\r\n"
       ]
      },
      {
       "output_type": "stream",
       "stream": "stdout",
       "text": [
        "[+] Downloading image...\r\n"
       ]
      },
      {
       "output_type": "stream",
       "stream": "stdout",
       "text": [
        "[+] Downloading image...\r\n"
       ]
      },
      {
       "output_type": "stream",
       "stream": "stdout",
       "text": [
        "[+] Downloading image...\r\n"
       ]
      },
      {
       "output_type": "stream",
       "stream": "stdout",
       "text": [
        "[*] 4999001925_ab6da92710_o.jpg contains GPS MetaData\r\n",
        "[+] Downloading image...\r\n"
       ]
      },
      {
       "output_type": "stream",
       "stream": "stdout",
       "text": [
        "[+] Downloading image...\r\n"
       ]
      }
     ],
     "prompt_number": 55
    },
    {
     "cell_type": "markdown",
     "metadata": {},
     "source": [
      "## \ud30c\uc774\uc36c\uc73c\ub85c \uc560\ud50c\ub9ac\ucf00\uc774\uc158 \uc0ac\uc6a9\ud754\uc801 \uc218\uc0ac\ud558\uae30\n",
      "\n",
      "- \uc560\ud50c\ub9ac\ucf00\uc774\uc158 \uc0ac\uc6a9\ud754\uc801(artifact)\uc5d0 \ub300\ud574\uc11c \uc0b4\ud3b4\ubcfc \uac83\n",
      "- \uc774\ub4e4 \uc560\ud50c\ub9ac\ucf00\uc774\uc158\uc740 \ubaa8\ub450 SQLite \ub370\uc774\ud130\ubca0\uc774\uc2a4\ub97c \uc0ac\uc6a9\n",
      "- SQLite \ub370\uc774\ud130\ubca0\uc774\uc2a4\ub294 \ud504\ub85c\uadf8\ub798\ubc0d \uc5b8\uc5b4\ub85c\ubd80\ud130 \ub3c5\ub9bd\uc801\uc73c\ub85c \ubc14\uc778\ub529\ud558\uae30 \ub54c\ubb38\uc5d0 \ub9ce\uc740 \uc560\ud50c\ub9ac\ucf00\uc774\uc158, \ud2b9\ud788 \uc6f9 \ube0c\ub77c\uc6b0\uc800\uc758 \ub85c\uceec/\ud074\ub77c\uc774\uc5b8\ud2b8 \uc2a4\ud1a0\ub9ac\uc9c0\ub85c\uc368 \uc778\uae30 \ub9ce\uc74c\n",
      "- \ud074\ub77c\uc774\uc5b8\ud2b8/\uc11c\ubc84 \uad00\uacc4\ub97c \uc720\uc9c0\ud558\ub294 \ub2e4\ub978 \ub370\uc774\ud130\ubca0\uc774\uc2a4\uc640\ub294 \ub2e4\ub974\uac8c SQLite\ub294 \ub370\uc774\ud130\ubca0\uc774\uc2a4 \uc804\uccb4\ub97c \ud558\ub098\uc758 \ud30c\uc77c\ub85c \ud638\uc2a4\ud2b8\uc5d0 \uc800\uc7a5\n",
      "- \uc560\ud50c, \ubaa8\uc9c8\ub77c, \uad6c\uae00, \ub9e5\uc544\ud53c, \ub9c8\uc774\ud06c\ub85c\uc18c\ud504\ud2b8, \uc778\ud22c\uc787, GE, \ub4dc\ub78d\ubc15\uc2a4, \uc5b4\ub3c4\ube44, \uc5d0\uc5b4\ubc84\uc2a4\uae4c\uc9c0 SQLite \ud65c\uc6a9\n",
      "- \uc5b4\ub5bb\uac8c \uad6c\ubb38\ubd84\uc11d\ud558\ub294\uc9c0 \uc774\ud574\ud558\uace0, \uadf8 \uacfc\uc815\uc744 \ud30c\uc774\uc36c\uc73c\ub85c \uc790\ub3d9\ud654\ud558\ub294 \uac83\uc740 \ud3ec\ub80c\uc2dd \uc218\uc0ac\uc5d0 \uc788\uc5b4\uc11c \ub9e4\uc6b0 \uc720\uc6a9\n",
      "- VOIP \ucc44\ud305 \ud074\ub77c\uc774\uc5b8\ud2b8\uc778 \uc2a4\uce74\uc774\ud504\uc5d0\uc11c \uc0ac\uc6a9\ud558\uace0 \uc788\ub294 SQLite \ub370\uc774\ud130\ubca0\uc774\uc2a4 \ud615\uc2dd\uc744 \uc0b4\ud3b4\ubcf4\ub294 \uac83\uc73c\ub85c \uc2dc\uc791\ud560 \uac83\n",
      "\n",
      "### \uc2a4\uce74\uc774\ud504 Sqlite3 \ub370\uc774\ud130\ubca0\uc774\uc2a4 \uc774\ud574\ud558\uae30\n",
      "\n",
      "- Skype\ub294 \ubc84\uc804 4.0\ubd80\ud130 SQLite\ub97c \ub0b4\ubd80 \ub370\uc774\ud130\ubca0\uc774\uc2a4\ub85c \uc0ac\uc6a9\ud558\uae30 \uc2dc\uc791\n",
      "- \uc708\ub3c4\uc6b0\uc758 \uacbd\uc6b0 C:\\Documents and Settings\\<User>\\Application Data\\Skype\\\\<Skype-account\\> \ub514\ub809\ud1a0\ub9ac\uc758 main.db \ub77c\ub294 \ud30c\uc77c\uc5d0 \ub370\uc774\ud130\ubca0\uc774\uc2a4 \uc800\uc7a5\n",
      "- MAC OS X: /Users/\\<User\\>/Library/Application/Support/Skype/\\<Skepeaccount\\>\uc5d0 \uc704\uce58\n",
      "- \uc2a4\uce74\uc774\ud504\ub294 \uc774 \ub370\uc774\ud130\ubca0\uc774\uc2a4\uc5d0 \ubb34\uc5c7\uc744 \uc800\uc7a5\ud558\ub294 \uac83\uc77c\uae4c?\n",
      "- \uc2a4\uce74\uc774\ud504 SQLite \ub370\uc774\ud130\ubca0\uc774\uc2a4\uc758 \uad6c\uc870\ub97c \uc880 \ub354 \uc798 \uc774\ud574\ud558\uae30 \uc704\ud574 sqlite3 \uba85\ub839\uc5b4 \ud234\uc744 \uc0ac\uc6a9\ud558\uc5ec \ub370\uc774\ud130\ubca0\uc774\uc2a4\uc5d0 \uc5f0\uacb0\n",
      "\n",
      "#### Skype install\n",
      "\n",
      "- [Skype](http://www.skype.com/)\n",
      "\n",
      "#### [Skype Main.db](http://betrayedspousesclub.blogspot.kr/2012/07/skype-maindb.html): \uc5b4\ub5a4 \uad6c\uc870\ub85c \ub418\uc5b4 \uc788\ub294\uc9c0 \uc124\uba85\ub418\uc5b4 \uc788\uc74c\n",
      "\n",
      "#### [SQLite tutorial](http://www.tutorialspoint.com/sqlite/index.htm)"
     ]
    },
    {
     "cell_type": "markdown",
     "metadata": {},
     "source": [
      "    SELECT tbl_name FROM sqlite_master WHERE type == 'table'"
     ]
    },
    {
     "cell_type": "markdown",
     "metadata": {},
     "source": [
      "- SQLite \ub370\uc774\ud130\ubca0\uc774\uc2a4\uc5d0\ub294 sqlite_master \ub77c\ub294 \ud14c\uc774\ube14\uc774 \uc788\uc73c\uba70, \uc774 \ud14c\uc774\ube14\uc5d0\ub294 tbl_name \uc774\ub77c\ub294 \uceec\ub7fc \uc874\uc7ac\n",
      "- \ub370\uc774\ud130\ubca0\uc774\uc2a4\uc5d0 \uc788\ub294 \uac01\uac01\uc758 \ud14c\uc774\ube14 \ubb18\uc0ac\n",
      "- \uc55e\uc758 SELECT\ubb38\uc744 \uc2e4\ud589\ud558\uba74 \uc2a4\uce74\uc774\ud504\uc758 main.db \ub370\uc774\ud130\ubca0\uc774\uc2a4\uc5d0 \uc788\ub294 \ubaa8\ub4e0 \ud14c\uc774\ube14\ub4e4\uc744 \ubcfc \uc218 \uc788\uac8c \ub41c\ub2e4.\n",
      "- \uc774 \ud14c\uc774\ube14 \uc911\uc5d0\ub294 \uc5f0\ub77d\ucc98, \ud1b5\ud654\uae30\ub85d, \uacc4\uc815\uc815\ubcf4, \ubb38\uc790 \uba54\uc2dc\uc9c0 \ub4f1\uc758 \uc815\ubcf4\uac00 \ub2f4\uae34 \ud14c\uc774\ube14\ub3c4 \uc874\uc7ac"
     ]
    },
    {
     "cell_type": "markdown",
     "metadata": {},
     "source": [
      "<img src=\"files/images/skype_db1.png\" />\n",
      "<img src=\"files/images/skype_db2.png\" />"
     ]
    },
    {
     "cell_type": "markdown",
     "metadata": {},
     "source": [
      "### \ud30c\uc774\uc36c\uacfc Sqlite3 \uc73c\ub85c \uc2a4\uce74\uc774\ud504 \ub370\uc774\ud130\ubca0\uc774\uc2a4 \ucffc\ub9ac \uc790\ub3d9\ud654\ud558\uae30\n",
      "\n",
      "- \ubb3c\ub860 \ub370\uc774\ud130\ubca0\uc774\uc2a4\uc5d0 \uc5f0\uacb0\ud558\uc5ec SELECT \ubb38\uc744 \uc2e4\ud589\ud558\ub294 \uac83\uc774 \uc5b4\ub835\uc9c0\ub294 \uc54a\uc9c0\ub9cc \uc774 \uacfc\uc815\uc744 **\uc790\ub3d9\ud654** \ud558\ub824\uba74 \ub354 \ub9ce\uc740 \uceec\ub7fc\uacfc \ud14c\uc774\ube14 \uc815\ubcf4\ub97c \uac00\uc838\uc62c \uc218 \uc788\uc74c\n",
      "- printProfile() \ud568\uc218\ub97c \uc0b4\ud3b4\ubcf4\uc790\n",
      "- \uc774 \ud568\uc218\ub294 main.db \ub370\uc774\ud130\ubca0\uc774\uc2a4\ub85c\uc758 \uc5f0\uacb0\uc744 \uc0dd\uc131\n",
      "- \uc5f0\uacb0\uc774 \ub418\uba74 \ud504\ub86c\ud504\ud2b8\ub97c \uc694\uad6c\ud558\uace0, \uc55e\uc758 SELECT \ubb38\uc744 \uc2e4\ud589\n",
      "- SELECT\ubb38\uc758 \uacb0\uacfc\ub294 array of arrays\uc744 \ubc18\ud658\n",
      "- \ubc18\ud658\ub41c \uac01 \uacb0\uacfc\ub9c8\ub2e4 \uc0ac\uc6a9\uc790, \uc2a4\uce74\uc774\ud504 \uc0ac\uc6a9\uc790\uc774\ub984, \uc704\uce58 \uadf8\ub9ac\uace0 \ud504\ub85c\ud30c\uc77c \ub0a0\uc9dc\uc5d0 \ub300\ud55c \uceec\ub7fc\uc774 \uc778\ub371\uc2a4\ud654\ub418\uc5b4 \uc800\uc7a5\ub418\uc5b4 \uc788\uc74c\n",
      "- \uc774 \uacb0\uacfc\ub97c \ud574\uc11d\ud558\uc5ec \uc77d\uae30 \ud3b8\ud558\uac8c \ud654\uba74\uc5d0 \ucd9c\ub825"
     ]
    },
    {
     "cell_type": "code",
     "collapsed": false,
     "input": [
      "import sqlite3\n",
      "\n",
      "def printProfile(skypeDB):\n",
      "    conn = sqlite3.connect(skypeDB)\n",
      "    c = conn.cursor()\n",
      "    c.execute(\"SELECT fullname, skypename, city, country, \\\n",
      "        datetime(profile_timestamp, 'unixepoch') FROM accounts;\")\n",
      "    \n",
      "    for row in c:\n",
      "        print '[*] -- Found Account --'\n",
      "        print '[+] User: ' + str(row[0])\n",
      "        print '[+] Skype Username: ' + str(row[1])\n",
      "        print '[+] Location: ' + str(row[2]) + ',' + str(row[3])\n",
      "        print '[+] Profile Date: ' + str(row[4])\n",
      "    \n",
      "def main():\n",
      "    skypeDB = '/Users/<accountname>/Library/Application Support \\\n",
      "    /Skype/<accountname>/main.db'\n",
      "    printProfile(skypeDB)\n",
      "    \n",
      "if __name__ == '__main__':\n",
      "    pass\n",
      "#     main()"
     ],
     "language": "python",
     "metadata": {},
     "outputs": [],
     "prompt_number": 80
    },
    {
     "cell_type": "markdown",
     "metadata": {},
     "source": [
      "    [*] -- Found Account --\n",
      "    [+] User: geun young\n",
      "    [+] Skype Username: <accountname>\n",
      "    [+] Location: Seoul,kr\n",
      "    [+] Profile Date: 2014-07-16 03:15:17"
     ]
    },
    {
     "cell_type": "markdown",
     "metadata": {},
     "source": [
      "- \uc800\uc7a5\ub418\uc5b4 \uc788\ub294 \uc8fc\uc18c\ub85d\uc744 \uc0b4\ud3b4\ubd04\uc73c\ub85c\uc368 \uc2a4\uce74\uc774\ud504 \ub370\uc774\ud130\ubca0\uc774\uc2a4\uc5d0 \ub300\ud574\uc11c \uc880 \ub354 \uae4a\uac8c \uc870\uc0ac\ud574\ubcf4\uc790\n",
      "- Contacts \ud14c\uc774\ube14\uc740 \ud654\uba74\uc5d0 \ud45c\uc2dc\ub418\ub294 \uc774\ub984, \uc2a4\uce74\uc774\ud504 \uc0ac\uc6a9\uc790 \uc774\ub984, \uc704\uce58, \ud734\ub300\uc804\ud654 \uadf8\ub9ac\uace0 \uc0dd\uc77c\uae4c\uc9c0 \ub9ce\uc740 \uc815\ubcf4\ub97c \uc800\uc7a5\n",
      "- \uc774\ub7ec\ud55c \ubaa8\ub4e0 \uac1c\uc778 \uc815\ubcf4\ub4e4\uc740 \uc218\uc0ac\ub098 \uacf5\uaca9\uc744 \ud560 \ub54c \ub9e4\uc6b0 \uc720\uc6a9\ud558\uac8c \ud65c\uc6a9\ud560 \uc218 \uc788\uae30 \ub54c\ubb38\uc5d0 \uc2a4\ud06c\ub9bd\ud2b8\uc5d0\uc11c \uc218\uc9d1\ud574 \ubcf4\ub3c4\ub85d \ud55c\ub2e4.\n",
      "- \uc774\uc81c SELECT \ubb38\uc5d0\uc11c \ubc18\ud658\ub418\ub294 \uc815\ubcf4\ub97c \ucd9c\ub825\ud558\uc790.\n",
      "- \uc5ec\uae30\uc11c \uc720\uc758\ud560 \uc810\uc740 \uc0dd\uc77c \ub4f1 \ub9ce\uc740 \ud544\ub4dc\uc758 \uac12\uc774 \uc5c6\uc744 \uc218\ub3c4 \uc788\ub2e4\ub294 \uac83\n",
      "- \uc774 \uacbd\uc6b0\uc5d0\ub294 IF\ubb38\uc744 \uc0ac\uc6a9\ud558\uc5ec \"None\"\uc774 \uc544\ub2cc \uac12\ub9cc \ucd9c\ub825\ud558\ub3c4\ub85d"
     ]
    },
    {
     "cell_type": "code",
     "collapsed": false,
     "input": [
      "def printContacts(skypeDB):\n",
      "    conn = sqlite3.connect(skypeDB)\n",
      "    c = conn.cursor()\n",
      "    c.execute(\"SELECT displayname, skypename, city, country, \\\n",
      "                phone_mobile, birthday FROM Contacts;\")\n",
      "    \n",
      "    for row in c:\n",
      "        print '\\n[*] -- Found Contact --'\n",
      "        print '[+] User : ' + str(row[0])\n",
      "        print '[+] Skype Username : ' + str(row[1])\n",
      "        if str(row[2]) != '' and str(row[2]) != 'None':\n",
      "            print '[+] Location : ' + str(row[2]) + ', ' + str(row[3])\n",
      "        if str(row[4]) != 'None':\n",
      "            print '[+] Mobile Number : ' + str(row[4])\n",
      "        if str(row[5]) != 'None':\n",
      "            print '[+] Birthday : ' + str(row[5])"
     ],
     "language": "python",
     "metadata": {},
     "outputs": [],
     "prompt_number": 85
    },
    {
     "cell_type": "markdown",
     "metadata": {},
     "source": [
      "- \uc9c0\uae08\uae4c\uc9c0\ub294 \ud2b9\uc815 \ud14c\uc774\ube14\uc5d0\uc11c \ud2b9\uc815 \uceec\ub7fc\uc744 \ucd94\ucd9c\ud558\ub294 \uac83\ub9cc \uc0b4\ud3b4\ubd04\n",
      "- \ud558\uc9c0\ub9cc \ub9cc\uc57d \ub3d9\uc2dc\uc5d0 \ucd9c\ub825\ud558\uace0 \uc2f6\uc740 \ub0b4\uc6a9\uc774 2\uac1c\uc758 \ud14c\uc774\ube14\uc5d0 \ub098\ub220\uc838 \uc788\uc744 \ub54c\uc5d0\ub294 \uc5b4\ub5bb\uac8c \ud574\uc57c \ud558\ub294\uac00?\n",
      "- \uc774 \uacbd\uc6b0 \uac01 \uacb0\uacfc\ub97c \uace0\uc720\ud558\uac8c \uc2dd\ubcc4\ud558\ub294 \uac12\uc744 \uac00\uc9c0\uace0 \ub370\uc774\ud130\ubca0\uc774\uc2a4 \ud14c\uc774\ube14\uc744 \uc870\uc778(join)\ud574\uc57c \ud55c\ub2e4.\n",
      "- \uc774\ub97c \uc124\uba85\ud558\uae30 \uc704\ud558\uc5ec \uc2a4\uce74\uc774\ud504 \ub370\uc774\ud130\ubca0\uc774\uc2a4\uc5d0 \uc800\uc7a5\ub418\uc5b4 \uc788\ub294 \ud1b5\ud654\uae30\ub85d\uc744 \uc5b4\ub5bb\uac8c \ucd9c\ub825\ud558\ub294\uc9c0 \uc0b4\ud3b4\ubcf4\uc790.\n",
      "- \uc138\ubd80\uc801\uc778 \uc2a4\uce74\uc774\ud504 \ud1b5\ud654\ub0b4\uc5ed\uc744 \ucd9c\ub825\ud558\uae30 \uc704\ud574\uc11c\ub294 Calls \ud14c\uc774\ube14\uacfc Conversations \ud14c\uc774\ube14\uc744 \ubaa8\ub450 \uc0ac\uc6a9\ud574\uc57c \ud568\n",
      "- Calls \ud14c\uc774\ube14\uc740 \ud1b5\ud654\uc758 \uc2dc\uac04 \uc815\ubcf4\ub97c \uc720\uc9c0\ud558\uba70 \uac01 \ud1b5\ud654\ub97c conv_dbid \ub77c\ub294 \uc774\ub984\uc758 \uceec\ub7fc\uc73c\ub85c \uc778\ub371\uc2a4\ud654\n",
      "- Conversations \ud14c\uc774\ube14\uc740 \ud1b5\ud654\uc790\uc758 \uc2e0\ubd84\uc744 \uc720\uc9c0\ud558\uace0 id\ub77c\ub294 \uceec\ub7fc\uc73c\ub85c \uac01 \ud1b5\ud654\ub97c \uc778\ub371\uc2a4\ud654\n",
      "- \ub530\ub77c\uc11c 2\uac1c\uc758 \ud14c\uc774\ube14\uc744 \uc870\uc778\ud558\uae30 \uc704\ud574\uc11c\ub294 SELECT\ubb38\uc5d0 \ucd94\uac00\uc801\uc73c\ub85c WHERE calls.conv_dbid = conversations.id\ub97c \uc785\ub825\ud574\uc57c \ud568\n",
      "- \uc774 \uad6c\ubb38\uc758 \uacb0\uacfc\ub294 \uacf5\uaca9\ub300\uc0c1 \uc2a4\uce74\uc774\ud504 \ub370\uc774\ud130\ubca0\uc774\uc2a4\uc5d0 \uc788\ub294 \ubaa8\ub4e0 \uc2a4\uce74\uc774\ud504 \ud1b5\ud654\ub0b4\uc5ed\uacfc \uc2dc\uac04\uc5d0 \ub300\ud55c \uacb0\uacfc\ub97c \ubc18\ud658\ud568"
     ]
    },
    {
     "cell_type": "code",
     "collapsed": false,
     "input": [
      "def printCallLog(skypeDB):\n",
      "    conn = sqlite3.connect(skypeDB)\n",
      "    c = conn.cursor()\n",
      "    c.execute(\"SELECT datetime(begin_timestamp, 'unixepoch'), \\\n",
      "    identity FROM calls, conversations WHERE \\\n",
      "    calls.conv_dbid = conversations.id;\")\n",
      "    print '\\n[*] -- FOund Calls --'\n",
      "    for row in c:\n",
      "        print '[+] Time: ' + str(row[0]) + \\\n",
      "        ' | Partner: ' + str(row[1])"
     ],
     "language": "python",
     "metadata": {},
     "outputs": [],
     "prompt_number": 87
    },
    {
     "cell_type": "markdown",
     "metadata": {},
     "source": [
      "- \uc2a4\uce74\uc774\ud504 \ub370\uc774\ud130\ubca0\uc774\uc2a4 \uc2a4\ud06c\ub9bd\ud2b8\uc5d0 \ub9c8\uc9c0\ub9c9 \ud568\uc218\ub97c \ud558\ub098 \ub354 \ub354\ud574\ubcf4\uc790.\n",
      "- \uc2a4\uce74\uc774\ud504 \ud504\ub85c\ud30c\uc77c \ub370\uc774\ud130\ubca0\uc774\uc2a4\ub294 \ub514\ud3f4\ud2b8\ub85c \uc0ac\uc6a9\uc790\uac00 \uc1a1\uc218\uc2e0\ud55c \ubaa8\ub4e0 \uba54\uc2dc\uc9c0\ub97c \uc800\uc7a5\ud558\uace0 \uc788\uc74c\n",
      "- \uc774\ub294 \ud3ec\ub80c\uc2dd\uc801\uc73c\ub85c \ub9e4\uc6b0 \uc720\uc6a9\ud55c \ub370\uc774\ud130\n",
      "- \ub370\uc774\ud130\ubca0\uc774\uc2a4\ub294 \uc774 \uc815\ubcf4\ub97c Messages\ub77c\ub294 \ud14c\uc774\ube14\uc5d0 \uc800\uc7a5\n",
      "- \uc6b0\ub9ac\ub294 \uc774 \ud14c\uc774\ube14\uc5d0\uc11c timestamp, dialog_parner, author, body_xml(\uba54\uc2dc\uc9c0 \uc6d0\ubb38) \uceec\ub7fc\uc744 \uc77d\uc5b4\uc62c \uac83\n",
      "- \uc5ec\uae30\uc11c \uc720\uc758\ud560 \uc810\uc740 \ub9cc\uc57d author\uac00 dialog_partner\uc640 \ub2e4\ub974\uba74 \ub370\uc774\ud130\ubca0\uc774\uc2a4\uc758 \uc18c\uc720\uc790\uac00 dialog_parner\uc640\uc758 \uba54\uc2dc\uc9c0\ub97c \uc2dc\uc791\ud55c \uac83\n",
      "- \uadf8\ub807\uc9c0 \uc54a\uc73c\uba74, \uadf8\ub7ec\ub2c8\uae4c author\uac00 dialog_partner\uc640 \ub3d9\uc77c\ud558\uba74 dialog_partner\uac00 \uba54\uc2dc\uc9c0\ub97c \uc2dc\uc791\ud55c \uac83\uc774\uace0 dialog_partnr\ub97c \ucd9c\ub825\ud560 \uac83"
     ]
    },
    {
     "cell_type": "code",
     "collapsed": false,
     "input": [
      "def printMessages(skypeDB):\n",
      "    conn = sqlite3.connect(skypeDB)\n",
      "    c = conn.cursor()\n",
      "    c.execute(\"SELECT datetime(timestamp, 'unixepoch'), \\\n",
      "        dialog_partner, author, body_xml FROM Messages:\")\n",
      "    print '\\n[*] -- Found Messages --'\n",
      "    for row in c:\n",
      "        try:\n",
      "            if 'partlist' not in str(row[3]):\n",
      "                if str(row[1]) != str(row[2]):\n",
      "                    msgDirection = 'To ' + str(row[1]) + ': '\n",
      "            else:\n",
      "                msgDirection = 'From ' + str(row[2]) + ': '\n",
      "            print 'Time: ' + str(row[0]) + ' ' + \\\n",
      "            msgDirection + str(row[3])\n",
      "        except:\n",
      "            pass"
     ],
     "language": "python",
     "metadata": {},
     "outputs": [],
     "prompt_number": 88
    },
    {
     "cell_type": "markdown",
     "metadata": {},
     "source": [
      "#### \uc2a4\uce74\uc774\ud504 \ud504\ub85c\ud30c\uc77c \uc218\uc0ac \ubaa8\ub4e0 \uac83 \uc870\ud569"
     ]
    },
    {
     "cell_type": "markdown",
     "metadata": {},
     "source": [
      "#### [Parsing XML](https://docs.python.org/3/library/xml.etree.elementtree.html): extract 'encoded_body'"
     ]
    },
    {
     "cell_type": "code",
     "collapsed": false,
     "input": [
      "%%writefile ch03/skype-parse.py\n",
      "# -*- coding: utf-8\n",
      "import sqlite3\n",
      "import optparse\n",
      "import os\n",
      "import xml.etree.ElementTree as ET\n",
      "from xml.etree.ElementTree import fromstring\n",
      "import sys\n",
      "reload(sys)\n",
      "sys.setdefaultencoding('utf-8')\n",
      "\n",
      "def printProfile(skypeDB):\n",
      "    conn = sqlite3.connect(skypeDB)\n",
      "    c = conn.cursor()\n",
      "    c.execute(\"SELECT fullname, skypename, city, country, \\\n",
      "        datetime(profile_timestamp, 'unixepoch') FROM accounts;\")\n",
      "    \n",
      "    for row in c:\n",
      "        print '[*] -- Found Account --'\n",
      "        print '[+] User: ' + str(row[0])\n",
      "        print '[+] Skype Username: ' + str(row[1])\n",
      "        print '[+] Location: ' + str(row[2]) + ',' + str(row[3])\n",
      "        print '[+] Profile Date: ' + str(row[4])\n",
      "        \n",
      "def printContacts(skypeDB):\n",
      "    conn = sqlite3.connect(skypeDB)\n",
      "    c = conn.cursor()\n",
      "    c.execute(\"SELECT displayname, skypename, city, country, \\\n",
      "                phone_mobile, birthday FROM Contacts;\")\n",
      "    \n",
      "    for row in c:\n",
      "        print '\\n[*] -- Found Contact --'\n",
      "        print '[+] User : ' + str(row[0])\n",
      "        print '[+] Skype Username : ' + str(row[1])\n",
      "        if str(row[2]) != '' and str(row[2]) != 'None':\n",
      "            print '[+] Location : ' + str(row[2]) + ', ' + str(row[3])\n",
      "        if str(row[4]) != 'None':\n",
      "            print '[+] Mobile Number : ' + str(row[4])\n",
      "        if str(row[5]) != 'None':\n",
      "            print '[+] Birthday : ' + str(row[5])\n",
      "            \n",
      "def printCallLog(skypeDB):\n",
      "    conn = sqlite3.connect(skypeDB)\n",
      "    c = conn.cursor()\n",
      "    c.execute(\"SELECT datetime(begin_timestamp, 'unixepoch'), \\\n",
      "    identity FROM calls, conversations WHERE \\\n",
      "    calls.conv_dbid = conversations.id;\")\n",
      "    print '\\n[*] -- Found Calls --'\n",
      "    for row in c:\n",
      "        print '[+] Time: ' + str(row[0]) + \\\n",
      "        ' | Partner: ' + str(row[1])\n",
      "        \n",
      "def printMessages(skypeDB):\n",
      "    conn = sqlite3.connect(skypeDB)\n",
      "    c = conn.cursor()\n",
      "    c.execute(\"SELECT datetime(timestamp, 'unixepoch'), \\\n",
      "        dialog_partner, author, body_xml FROM Messages;\")\n",
      "    print '\\n[*] -- Found Messages --'\n",
      "    for row in c:\n",
      "        try:\n",
      "            if 'partlist' not in str(row[3]):\n",
      "                if str(row[1]) != str(row[2]):\n",
      "                    msgDirection = 'To ' + str(row[1]) + ': '\n",
      "                else:\n",
      "                    msgDirection = 'From ' + str(row[2]) + ': '\n",
      "                    \n",
      "                # parse row[3] in xml.\n",
      "                root = ET.fromstring(row[3])\n",
      "                encoded_body = root.findtext('encoded_body')\n",
      "                print 'Time: ' + str(row[0]) + ' ' + \\\n",
      "                msgDirection + encoded_body\n",
      "        except:\n",
      "            pass\n",
      "        \n",
      "def main():\n",
      "    parser = optparse.OptionParser('usage %prog ' + \\\n",
      "                                   '-p <skype profile path> ')\n",
      "    parser.add_option('-p', dest='pathName', type='string', \\\n",
      "                     help='specify skype profile path')\n",
      "    (options, args) = parser.parse_args()\n",
      "    pathName = options.pathName\n",
      "    if pathName == None:\n",
      "        print parser.usage\n",
      "    elif os.path.isdir(pathName) == False:\n",
      "        print '[!] Path Does Not Exist: ' + pathName\n",
      "    else:\n",
      "        skypeDB = os.path.join(pathName, 'main.db')\n",
      "        if os.path.isfile(skypeDB):\n",
      "            printProfile(skypeDB)\n",
      "            printContacts(skypeDB)\n",
      "            printCallLog(skypeDB)\n",
      "            printMessages(skypeDB)\n",
      "        else:\n",
      "            print '[!] Skype Database ' +\\\n",
      "            'does not exist: ' + skypeDB\n",
      "            \n",
      "if __name__ == '__main__':\n",
      "    main()"
     ],
     "language": "python",
     "metadata": {},
     "outputs": [
      {
       "output_type": "stream",
       "stream": "stdout",
       "text": [
        "Overwriting ch03/skype-parse.py\n"
       ]
      }
     ],
     "prompt_number": 88
    },
    {
     "cell_type": "markdown",
     "metadata": {},
     "source": [
      "- \\-p \uc635\uc158\uc744 \uc0ac\uc6a9\ud558\uc5ec \uc2a4\uce74\uc774\ud504 \ud504\ub85c\ud30c\uc77c\uc774 \uc788\ub294 \uacbd\ub85c\ub97c \ucd94\uac00\ud55c\ub2e4.\n",
      "- \uacc4\uc815 \ud504\ub85c\ud30c\uc77c, \ud1b5\ud654\uae30\ub85d, \uc800\uc7a5\ub418\uc5b4 \uc788\ub294 \uba54\uc2dc\uc9c0 \ucd9c\ub825"
     ]
    },
    {
     "cell_type": "code",
     "collapsed": false,
     "input": [
      "# !python ch03/skype-parse.py -p \"/Users/<accountname>/Library/Application Support/Skype/<accountname>/\""
     ],
     "language": "python",
     "metadata": {},
     "outputs": [],
     "prompt_number": 22
    },
    {
     "cell_type": "markdown",
     "metadata": {},
     "source": [
      "    [*] -- Found Account --\n",
      "    [+] User: geun young\n",
      "    [+] Skype Username: <account name>\n",
      "    [+] Location: Seoul,kr\n",
      "    [+] Profile Date: 2014-07-16 03:15:17\n",
      "\n",
      "    [*] -- Found Contact --\n",
      "    [+] User : Echo / Sound Test Service\n",
      "    [+] Skype Username : nice123\n",
      "\n",
      "    [*] -- Found Contact --\n",
      "    [+] User : some user\n",
      "    [+] Skype Username : None\n",
      "\n",
      "    [*] -- Found Calls --\n",
      "    [+] Time: 2014-07-16 03:34:12 | Partner: +821080008000\n",
      "\n",
      "    [*] -- Found Messages --\n",
      "    Time: 2014-07-16 03:35:09 To +821080008000: hi\n",
      "    Time: 2014-07-17 22:14:03 To +821080008000: hi. erry python. test body_xml"
     ]
    },
    {
     "cell_type": "markdown",
     "metadata": {},
     "source": [
      "### \ucd94\uac00 \uc815\ubcf4(\uae30\ud0c0 \uc720\uc6a9\ud55c \uc2a4\uce74\uc774\ud504 \ucffc\ub9ac\ub4e4)\n",
      "\n",
      "- \uc2a4\uce74\uc774\ud504 \ub370\uc774\ud130\ubca0\uc774\uc2a4\ub97c \uc880 \ub354 \uc870\uc0ac\ud558\uc5ec \uc0c8\ub85c\uc6b4 \uc2a4\ud06c\ub9bd\ud2b8\ub97c \ub9cc\ub4e0\ub2e4\uba74 \ub3c4\uc6c0\uc774 \ub420 \uac83\n",
      "- \ub2e4\uc74c\uacfc \uac19\uc740 \uc720\uc6a9\ud55c \ucffc\ub9ac\ub3c4 \uc0b4\ud3b4\ubcf4\uc790\n",
      "\n",
      "#### \uc5f0\ub77d\ucc98 \uc911\uc5d0 \uc0dd\uc77c\uc774 \uc785\ub825\ub418\uc5b4 \uc788\ub294 \uac83\ub9cc \ucd9c\ub825\ud558\uace0 \uc2f6\uc744 \ub54c,\n",
      "\n",
      "- SELECT fullname, birthday FROM contacts WHERE birthday > 0;\n",
      "\n",
      "#### \ud2b9\uc815 < SKYPE-PARTNER\\>\uc640\uc758 \ub300\ud654 \uae30\ub85d\uc744 \ucd9c\ub825\ud558\uace0 \uc2f6\uc744 \ub54c,\n",
      "\n",
      "- SELECT datetime(timestamp, 'unixepoch'), dialog_partner, author, body_xml FROM Messages WHERE dialog_partner='< SKYPE=PARTNER>'\n",
      "\n",
      "#### \ud2b9\uc815 < SKYPE-PARTNER\\>\uc640\uc758 \ub300\ud654 \uae30\ub85d\uc744 \uc0ad\uc81c\ud558\uace0 \uc2f6\uc744 \ub54c,\n",
      "\n",
      "- DELETE FROM messages WHERE skypename = '< SKYPE-PARTNER\\>'"
     ]
    },
    {
     "cell_type": "markdown",
     "metadata": {},
     "source": [
      "### \ud30c\uc774\uc36c\uc73c\ub85c \ud30c\uc774\uc5b4\ud3ed\uc2a4 Sqlite3 \ub370\uc774\ud130\ubca0\uc774\uc2a4 \uad6c\ubb38\ubd84\uc11d\ud558\uae30\n",
      "\n",
      "- \uc2a4\uce74\uc774\ud504 \uc560\ud50c\ub9ac\ucf00\uc774\uc158\uc5d0 \uc800\uc7a5\ub418\uc5b4 \uc788\ub294 \ub370\uc774\ud130\ubca0\uc774\uc2a4\n",
      "- [The Places database](https://developer.mozilla.org/en-US/docs/Mozilla/Tech/Places/Database)\n",
      "- [SQLite Manager](https://addons.mozilla.org/en-US/firefox/addon/sqlite-manager/): GUI\ub85c \ubcfc \uc218 \uc788\ub2e4. Firefox Add-on\n",
      "\n",
      "<img src=\"files/images/places-erd.png\" />\n",
      "\n",
      "#### \ud30c\uc774\uc5b4\ud3ed\uc2a4 sqlite \uc704\uce58\n",
      "\n",
      "    \uc708\ub3c4\uc6b0: C:\\Documents and Settings\\<USER>\\Application Data\\Mozilla\\Firefox\\Profiles\\<profile folder>\\\n",
      "    MAC OS X: /Users/<USER>/Library/Application/Support/Firefox/Profiles/<profile folder>\n",
      "    \n",
      "### Mozilla Firefox Forensics\n",
      "\n",
      "- [Mozilla Firefox Forensics Part1](http://www.dfinews.com/articles/2012/09/mozilla-firefox-forensics)\n",
      "- [Mozilla Firefox Forensics Part2](http://www.forensicmag.com/articles/2012/12/mozilla-firefox-forensics-part-2)\n",
      "- [Mozilla Firefox Forensics Part3](http://www.forensicmag.com/articles/2013/02/mozilla-firefox-forensics-part-3)\n",
      "- [Mozilla Firefox Forensics Part4](http://www.forensicmag.com/articles/2013/04/mozilla-firefox-forensics-part-4)\n",
      "- [Firefox Forensics and SQLite Tables for Computer Forensics Analysis](http://resources.infosecinstitute.com/firefox-and-sqlite-forensics/)\n",
      "- [Mozilla Firefox Forensic Investigator's Reference Manual](http://cryptocomb.org/Mozilla%20Ref%20Manual.pdf)\n",
      "- [Computer Forensic Software for Windows](http://www.nirsoft.net/computer_forensic_software.html)"
     ]
    },
    {
     "cell_type": "code",
     "collapsed": false,
     "input": [
      "# !ls \"/Users/<accountname>/Library/Application Support/Firefox/Profiles/i1g4ftw6.default\" | grep sqlite"
     ],
     "language": "python",
     "metadata": {},
     "outputs": [],
     "prompt_number": 23
    },
    {
     "cell_type": "markdown",
     "metadata": {},
     "source": [
      "    content-prefs.sqlite\n",
      "    cookies.sqlite\n",
      "    formhistory.sqlite\n",
      "    healthreport.sqlite\n",
      "    permissions.sqlite\n",
      "    places.sqlite\n",
      "    webappsstore.sqlite"
     ]
    },
    {
     "cell_type": "markdown",
     "metadata": {},
     "source": [
      "- \uba3c\uc800 downloads.sqlite \ub370\uc774\ud130\ubca0\uc774\uc2a4\ubd80\ud130 \uc2dc\uc791(**DB\uac00 \uc218\uc815\uc774 \ub418\uc5b4\uc11c downloads.sqlite\uac00 \uc5c6\uc5b4\uc9d0**)\n",
      "- moz_downloads \ub77c\ub294 \ud14c\uc774\ube14 \ub2e8 \ud558\ub098\ub9cc \uc800\uc7a5\ub418\uc5b4 \uc788\uc74c\n",
      "- \ud30c\uc77c \uc774\ub984, \ub2e4\uc6b4\ub85c\ub4dc\ud55c \uc0ac\uc774\ud2b8, \ub2e4\uc6b4\ub85c\ub4dc\ud55c \ub0a0\uc9dc, \ud30c\uc77c \ud06c\uae30, \uc800\uc7a5\ud55c \uc704\uce58\n",
      "- \uc6b0\ub9ac\ub294 \uc2a4\ud06c\ub9bd\ud2b8\ub97c \uc0ac\uc6a9\ud558\uc5ec \uc774\ub984, \uc18c\uc2a4, \uc2dc\uac04\uc5d0 \ub300\ud55c SQLite SELECT \ubb38\uc744 \uc2e4\ud589\n",
      "- \uc720\ub2c9\uc2a4 epoch \uc2dc\uac04\uc744 \ud30c\uc774\uc5b4\ud3ed\uc2a4\uac00 \ub9e4\uc6b0 \ud2b9\uc774\ud558\uac8c \ucc98\ub9ac\n",
      "- \ud30c\uc774\uc5b4\ud3ed\uc2a4\ub294 \uc720\uc9c1\uc2a4 epoch \uc2dc\uac04\uc744 \ub370\uc774\ud130\ubca0\uc774\uc2a4\uc5d0 \uc800\uc7a5\ud560 \ub54c \uc720\ub2c9\uc2a4 epoch \uc2dc\uac04\uc5d0 \ubc31\ub9cc\uc774\ub77c\ub294 \uc218\ub97c \uacf1\ud55c\ub2e4.\n",
      "- \ub530\ub77c\uc11c \uc815\ud655\ud558\uac8c \uc2dc\uac04\uc744 \uacc4\uc0b0\ud558\uae30 \uc704\ud574\uc11c\ub294 \ubc31\ub9cc\uc73c\ub85c \uc774 \uc22b\uc790\ub97c \ub098\ub220\uc57c \ud55c\ub2e4."
     ]
    },
    {
     "cell_type": "code",
     "collapsed": false,
     "input": [
      "import sqlite3\n",
      "\n",
      "def printDownloads(downloadDB):\n",
      "    conn = sqlite3.connect(downloadDB)\n",
      "    c = conn.cursor()\n",
      "    c.execute(\"SELECT content FROM moz_annos, moz_places WHERE \\\n",
      "    moz_annos.place_id == moz_places.id\")\n",
      "    print '\\n[*] --- Files DOwnloaded ---'\n",
      "    for row in c:\n",
      "        print '[+] File: ' + str(row[0]) + ' from source: ' \\\n",
      "        + str(row[1]) + ' at: ' + str(row[2])"
     ],
     "language": "python",
     "metadata": {},
     "outputs": [],
     "prompt_number": 24
    },
    {
     "cell_type": "markdown",
     "metadata": {},
     "source": [
      "    SELECT url, datetime(visit_date/1000000, 'unixepoch') FROM moz_places, moz_historyvisits WHERE visit_count > 0 and moz_places.id == moz_historyvisits.place_id\n",
      "\n",
      "\n",
      "    SELECT url, content FROM moz_annos, moz_places WHERE moz_annos.place_id == moz_places.id and moz_annos.anno_attribute_id == 4\n",
      "\n",
      "    SELECT url, content FROM moz_annos, moz_places WHERE moz_annos.place_id == moz_places.id and moz_annos.anno_attribute_id == 5\n",
      "\n",
      "    SELECT distinct moz_places.id FROM moz_annos, moz_places WHERE moz_annos.place_id == moz_places.id"
     ]
    },
    {
     "cell_type": "markdown",
     "metadata": {},
     "source": [
      "- \uc774\uc81c \uc0ac\uc6a9\uc790\uac00 \ud30c\uc774\uc5b4\ud3ed\uc2a4\ub85c \uc5b8\uc81c \ud2b9\uc815 \ud30c\uc77c\uc744 \ub2e4\uc6b4\ub85c\ub4dc \ud588\ub294\uc9c0 \uc54c \uc218 \uc788\uc74c\n",
      "- \ud558\uc9c0\ub9cc \uc218\uc0ac\uad00\uc774 \uc778\uc99d\uc774 \ud544\uc694\ud55c \uc0ac\uc774\ud2b8\ub85c \ub2e4\uc2dc \ub85c\uadf8\uc778\ud558\uace0 \uc2f6\uc744 \ub54c\ub294 \uc5b4\ub5bb\uac8c \ud574\uc57c \ud558\ub294\uac00?\n",
      "- \ub9cc\uc57d \uacbd\ucc30\uad00\uc774 \uc0ac\uc6a9\uc790\uac00 \uc544\ub3d9\uc744 \ud559\ub300\ud558\ub294 \uc0ac\uc9c4\uc744 \uc6f9 \uae30\ubc18 \uc774\uba54\uc77c \uc0ac\uc774\ud2b8\ub85c\ubd80\ud130 \ub2e4\uc6b4\ub85c\ub4dc\ud588\ub2e4\uace0 \ud310\ub2e8\ud588\ub2e4\uba74 \uc5b4\ub5bb\uac8c \ud574\uc57c \ud560\uae4c?\n",
      "- \uacbd\ucc30\uad00\uc740 (\ud569\ubc95\uc801\uc73c\ub85c) \uc6f9 \uae30\ubc18\uc758 \uc774\uba54\uc77c\ub85c \ub2e4\uc2dc \ub85c\uadf8\uc778\ud558\uace0 \uc2f6\uc5b4\ud568\n",
      "- HTTP \ud504\ub85c\ud1a0\ucf5c\uc740 \uc124\uacc4\uc801\uc73c\ub85c \uc0c1\ud0dc\ub97c \uc720\uc9c0 \uc54a\uae30 \ub584\ubb38\uc5d0 \uc6f9 \uc0ac\uc774\ud2b8\ub4e4\uc740 \ucfe0\ud0a4\ub97c \ud65c\uc6a9\ud558\uc5ec \uc0c1\ud0dc\ub97c \uc720\uc9c0 \ud568\n",
      "- \uc6f9 \uae30\ubc18\uc758 \uc774\uba54\uc77c\uc5d0 \ub85c\uadf8\uc778 \uac00\uc815. \ub9cc\uc57d \ube0c\ub77c\uc6b0\uc800\uac00 \ucfe0\ud0a4\ub97c \uc720\uc9c0\ud558\uc9c0 \uc54a\uace0 \uc788\ub2e4\uba74 \uc0ac\uc6a9\uc790\ub294 \uc774\uba54\uc77c\uc744 \uc77d\uae30 \uc704\ud574 \ub85c\uadf8\uc778\uc744 \ud574\uc57c \ud568\n",
      "- \uc218\uc0ac\uad00\uc774 \uc774\ub7ec\ud55c \ucfe0\ud0a4\ub97c \uac00\uc838\uc640\uc11c \ub2e4\uc2dc \uc0ac\uc6a9\ud558\uba74 \uc778\uc99d\uc774 \ud544\uc694\ud55c \uc0ac\uc774\ud2b8\uc5d0 **\uc778\uc99d \uc5c6\uc774\ub3c4 \ub85c\uadf8\uc778 \uac00\ub2a5**\n",
      "- \ud604\uc7ac \uc870\uc0ac\uc911\uc778 \uc0ac\uc6a9\uc790\ub85c\ubd80\ud130 \ucfe0\ud0a4\ub97c \ucd94\ucd9c\ud558\ub294 \ud30c\uc774\uc36c \uc2a4\ud06c\ub9bd\ud2b8\n",
      "- \ub370\uc774\ud130\ubca0\uc774\uc2a4\uc5d0 \uc5f0\uacb0\ud558\uc5ec SELECT \ubb38\uc744 \uc2e4\ud589\n",
      "- moz_cookies\ub294 \ucfe0\ud0a4\uc640 \uad00\ub828\ub41c \ub370\uc774\ud130\ub97c \uc720\uc9c0\n",
      "- cookies.sqlite \ub370\uc774\ud130\ubca0\uc774\uc2a4\uc758 moz_cookies \ud14c\uc774\ube14\uc5d0\uc11c \ud638\uc2a4\ud2b8, \uc774\ub984, \ucfe0\ud0a4\uac12\uacfc \uad00\ub828\ub41c \uceec\ub7fc\uc744 \ucffc\ub9ac\ud558\uace0 \uadf8\uac83\uc744 \ud654\uba74\uc5d0 \ucd9c\ub825\ud560 \uac83"
     ]
    },
    {
     "cell_type": "code",
     "collapsed": false,
     "input": [
      "import sqlite3"
     ],
     "language": "python",
     "metadata": {},
     "outputs": [],
     "prompt_number": 90
    },
    {
     "cell_type": "code",
     "collapsed": false,
     "input": [
      "def printCookies(cookiesDB):\n",
      "    try:\n",
      "        conn = sqlite3.connect(cookiesDB)\n",
      "        c = conn.cursor()\n",
      "        c.execute('SELECT host, name, value FROM moz_cookies')\n",
      "        print '\\n[*] -- Found Cookies --'\n",
      "        for row in c:\n",
      "            host = str(row[0])\n",
      "            name = str(row[1])\n",
      "            value = str(row[2])\n",
      "            print '[+] Host: ' + host + ', Cookie: ' + name +\\\n",
      "            ', Value: ' + value\n",
      "    except Exception, e:\n",
      "        if 'encrypted' in str(e):\n",
      "            print '\\n[*] Error reading your cookies database.'\n",
      "            print '[*] Upgrade your Python-Sqlite3 Library'"
     ],
     "language": "python",
     "metadata": {},
     "outputs": [],
     "prompt_number": 91
    },
    {
     "cell_type": "code",
     "collapsed": false,
     "input": [
      "default_dir = \"/Users/<accountname>/Library/Application Support/Firefox/Profiles/i1g4ftw6.default/\""
     ],
     "language": "python",
     "metadata": {},
     "outputs": [],
     "prompt_number": 118
    },
    {
     "cell_type": "code",
     "collapsed": false,
     "input": [
      "# printCookies(default_dir + 'cookies.sqlite')"
     ],
     "language": "python",
     "metadata": {},
     "outputs": [],
     "prompt_number": 25
    },
    {
     "cell_type": "markdown",
     "metadata": {},
     "source": [
      "    [*] -- Found Cookies --\n",
      "    [+] Host: .google.com, Cookie: PREF, Value: ID=151d351736484ffc:FF=0:LD=ko:TM=1405675418:LM=140567418:GM=1:S=vJuzxCXAx4xl8zXE\n",
      "    [+] Host: .google.com, Cookie: PREF, Value: ID=dd2d00afc367fea0:TM=1405675439:LM=1405675439:S=X7UI0pyZRMtf4Tht\n",
      "    [+] Host: apis.google.com, Cookie: OTZ, Value: 238925_20_20__20_\n",
      "    [+] Host: .forensicmag.com, Cookie: __gads, Value: ID=d32a5df2c0ac2778:T=1405727500:S=ALNI_MYIEo0d_QeG30LzSSDGtZsolvf7FA\n",
      "    [+] Host: .doubleclick.net, Cookie: id, Value: 225d3d6b30030033||t=1405727501|et=730|cs=002213fd4873d6e89f88654\n",
      "    [+] Host: www.forensicmag.com, Cookie: PermModalWindow, Value: ModalSubAd\n",
      "    [+] Host: www.forensicmag.com, Cookie: ModalWindow, Value: ModalSubAd\n",
      "    [+] Host: .addthis.com, Cookie: uit, Value: 1\n",
      "    [+] Host: .forensicmag.com, Cookie: __qca, Value: P0-1773929356-1405727503504\n",
      "    [+] Host: .quantserve.com, Cookie: mc, Value: 53cb30f-684b5-14740-91658\n",
      "    [+] Host: .addthis.com, Cookie: di2, Value: N8XMA7.UYM\n",
      "    [+] Host: .addthis.com, Cookie: dt, Value: X\n",
      "    [+] Host: .linkedin.com, Cookie: bcookie, Value: \"v=2&d7671b6-d494-4458-8ba6-61f3d0270815\""
     ]
    },
    {
     "cell_type": "markdown",
     "metadata": {},
     "source": [
      "- \ube0c\ub77c\uc6b0\uc800\uc758 \ubc29\ubb38\uae30\ub85d: places.sqlite\n",
      "- moz_places \ud14c\uc774\ube14: date, address \uc0ac\uc774\ud2b8\ub97c \ubc29\ubb38\ud588\ub294\uc9c0 \uc54c\ub824\uc90c\n",
      "- \ud604\uc7ac \uc6b0\ub9ac \uc2a4\ud06c\ub9bd\ud2b8\uc758 printHistory()\ub294 moz_places \ud14c\uc774\ube14\ub9cc \uace0\ub824\ud558\uc9c0\ub9cc, \ud3ec\ub80c\uc2dd\uc704\ud0a4(ForensicWiki) \uc0ac\uc774\ud2b8\ub294 moz_places, moz_historyvisits \ud14c\uc774\ube14\uc5d0 \uc788\ub294 \ub370\uc774\ud130\ub97c \uc0ac\uc6a9\ud558\uc5ec \ube0c\ub77c\uc6b0\uc800 \ubc29\ubb38 \uae30\ub85d\uc744 \uac00\uc838\uc624\ub294 \uac83\uc744 \uad8c\uace0(Forensics Wiki, 2011)"
     ]
    },
    {
     "cell_type": "code",
     "collapsed": false,
     "input": [
      "def printHistory(placesDB):\n",
      "    try:\n",
      "        conn = sqlite3.connect(placesDB)\n",
      "        c = conn.cursor()\n",
      "        c.execute(\"SELECT url, datetime(visit_date/1000000, 'unixepoch') \\\n",
      "        FROM moz_places, moz_historyvisits WHERE visit_count > 0 and \\\n",
      "        moz_places.id == moz_historyvisits.place_id\"\n",
      "        )\n",
      "        print '\\n[*] -- Found History --'\n",
      "        for row in c:\n",
      "            url = str(row[0])\n",
      "            date = str(row[1])\n",
      "            print '[+] ' + date + ' - Visited: ' + url\n",
      "    except Exception, e:\n",
      "        if 'encrypted' in str(e):\n",
      "            print '\\n[*] Error reading your places database.'\n",
      "            print '[*] Upgrade your Python-Sqlite3 Library'"
     ],
     "language": "python",
     "metadata": {},
     "outputs": [],
     "prompt_number": 109
    },
    {
     "cell_type": "code",
     "collapsed": false,
     "input": [
      "# printHistory(default_dir + 'places.sqlite')"
     ],
     "language": "python",
     "metadata": {},
     "outputs": [],
     "prompt_number": 26
    },
    {
     "cell_type": "markdown",
     "metadata": {},
     "source": [
      "    [*] -- Found History --\n",
      "    [+] 2014-07-16 08:47:39 - Visited: https://www.mozilla.org/ko/firefox/30.0/firstrun/\n",
      "    [+] 2014-07-16 08:47:49 - Visited: http://google.com/\n",
      "    [+] 2014-07-16 08:47:49 - Visited: http://www.google.co.kr/?gfe_rd=cr&ei=NTzGU6jkIuLM8gfQi4GIDA\n",
      "    [+] 2014-07-16 08:47:50 - Visited: https://www.google.co.kr/?gfe_rd=cr&ei=NTzGU6jkIuLM8gfQi4GIDA&gws_rd=ssl\n",
      "    [+] 2014-07-16 08:47:52 - Visited: https://www.google.co.kr/?gfe_rd=cr&ei=NTzGU6jkIuLM8gfQi4GIDA&gws_rd=ssl#newwindow=1&q=hi\n",
      "    [+] 2014-07-16 08:48:00 - Visited: https://www.google.com/search?q=hello&ie=utf-8&oe=utf-8&aq=t&rls=org.mozilla:ko:official&client=firefox-a&channel=sb\n",
      "    [+] 2014-07-16 08:48:00 - Visited: https://www.google.co.kr/search?q=hello&ie=utf-8&oe=utf-8&aq=t&rls=org.mozilla:ko:official&client=firefox-a&channel=sb&gfe_rd=cr&ei=QDzGU9T4GunM8gfErICQCg\n",
      "    [+] 2014-07-16 08:48:04 - Visited: https://www.google.com/search?q=good&ie=utf-8&oe=utf-8&aq=t&rls=org.mozilla:ko:official&client=firefox-a&channel=fflb\n",
      "    [+] 2014-07-16 08:48:04 - Visited: https://www.google.co.kr/search?q=good&ie=utf-8&oe=utf-8&aq=t&rls=org.mozilla:ko:official&client=firefox-a&channel=fflb&gfe_rd=cr&ei=RDzGU82-IOnM8gfErICQCg\n",
      "    [+] 2014-07-16 08:54:04 - Visited: https://www.google.com/search?q=firefox&ie=utf-8&oe=utf-8&aq=t&rls=org.mozilla:ko:official&client=firefox-a&channel=fflb\n",
      "    [+] 2014-07-16 08:54:05 - Visited: https://www.google.co.kr/search?q=firefox&ie=utf-8&oe=utf-8&aq=t&rls=org.mozilla:ko:official&client=firefox-a&channel=fflb&gfe_rd=cr&ei=rD3GU4DlOOjM8gfnh4G4Bg\n",
      "    [+] 2014-07-16 08:54:07 - Visited: http://www.google.co.kr/url?sa=t&rct=j&q=&esrc=s&source=web&cd=1&ved=0CCMQFjAA&url=http%3A%2F%2Fwww.mozilla.org%2Fko%2Ffirefox%2Fnew%2F&ei=rT3GU7q_F5WE8gXV_oLIAQ&usg=AFQjCNHaHq9Hf17r4LICd4T-xbeMGuBhxw&bvm=bv.71126742,d.dGc&cad=rjt\n",
      "    [+] 2014-07-16 08:54:07 - Visited: http://www.mozilla.org/ko/firefox/new/\n",
      "    [+] 2014-07-16 08:54:08 - Visited: https://www.mozilla.org/ko/firefox/new/\n",
      "    [+] 2014-07-16 08:54:14 - Visited: https://www.mozilla.org/ko/firefox/all/\n",
      "    [+] 2014-07-16 08:54:14 - Visited: https://www.mozilla.org/en-US/firefox/all/\n",
      "    [+] 2014-07-16 08:54:29 - Visited: https://download.mozilla.org/?product=firefox-30.0-SSL&os=osx&lang=ko\n",
      "    [+] 2014-07-16 08:56:20 - Visited: https://www.google.com/search?q=anonops_the_press_release&ie=utf-8&oe=utf-8&aq=t&rls=org.mozilla:ko:official&client=firefox-a&channel=fflb\n",
      "    [+] 2014-07-16 08:56:20 - Visited: https://www.google.co.kr/search?q=anonops_the_press_release&ie=utf-8&oe=utf-8&aq=t&rls=org.mozilla:ko:official&client=firefox-a&channel=fflb&gfe_rd=cr&ei=ND7GU7eABeTM8gfwqYDoCw\n",
      "    [+] 2014-07-16 08:56:23 - Visited: http://www.google.co.kr/url?sa=t&rct=j&q=&esrc=s&source=web&cd=1&ved=0CCAQFjAA&url=http%3A%2F%2Fwww.wired.com%2Fimages_blogs%2Fthreatlevel%2F2010%2F12%2FANONOPS_The_Press_Release.pdf&ei=ND7GU_XxGM6A8gXm_YDAAQ&usg=AFQjCNFXbiunDG_ydqAPSGx3JytiyT2rZg&bvm=bv.71126742,d.dGc&cad=rjt"
     ]
    },
    {
     "cell_type": "code",
     "collapsed": false,
     "input": [
      "import sqlite3\n",
      "import re\n",
      "from urllib import unquote\n",
      "\n",
      "def printGoogle(placesDB):\n",
      "    conn = sqlite3.connect(placesDB)\n",
      "    c = conn.cursor()\n",
      "    c.execute(\"SELECT url, datetime(visit_date/1000000, 'unixepoch') \\\n",
      "    FROM moz_places, moz_historyvisits WHERE visit_count > 0 and \\\n",
      "    moz_places.id == moz_historyvisits.place_id;\")\n",
      "    print '\\n[*] -- Found Google --'\n",
      "    for row in c:\n",
      "        url = str(row[0])\n",
      "        date = str(row[1])\n",
      "        if 'google' in url.lower():\n",
      "            r = re.search(r'q=([^&]*)&', url)\n",
      "            if r:\n",
      "                search = r.group(1)\n",
      "                search = search.replace('+', ' ')\n",
      "                print '[+] ' + date + ' - Searched For: ' + search\n",
      "\n",
      "def printNaver(placesDB):\n",
      "    conn = sqlite3.connect(placesDB)\n",
      "    c = conn.cursor()\n",
      "    c.execute(\"SELECT url, datetime(visit_date/1000000, 'unixepoch') \\\n",
      "    FROM moz_places, moz_historyvisits WHERE visit_count > 0 and \\\n",
      "    moz_places.id == moz_historyvisits.place_id;\")\n",
      "    print '\\n[*] -- Found Google --'\n",
      "    for row in c:\n",
      "        url = str(row[0])\n",
      "        date = str(row[1])\n",
      "        if 'naver' in url.lower():\n",
      "            r = re.search(r'query=([^&]*)&', url)\n",
      "            if r:\n",
      "                search = r.group(1)\n",
      "                search = search.replace('+', ' ')\n",
      "                print '[+] ' + date + ' - Searched For: ' + search\n",
      "\n",
      "# Refactoring combine search engine both Google and Naver.\n",
      "# \ud55c \ub2e8\uacc4 \ub354 \ub098\uac00\uba74 naver, google\uc744 if, elif\ub85c \ud558\ub294\uac8c \uc544\ub2c8\ub77c \uc774\uc804\uc7a5\uc5d0 \ub098\uc654\ub4ef\uc774 text\n",
      "# \ud30c\uc77c\ub85c \uc800\uc7a5\ud55c \ub2e4\uc74c\uc5d0 \ubd88\ub7ec\uc624\uba74 \ud6e8\uc52c \uc27d\uac8c Refactoring \ud560 \uc218 \uc788\uaca0\ub2e4.\n",
      "def printQuery(placesDB, engine='google'):\n",
      "    conn = sqlite3.connect(placesDB)\n",
      "    c = conn.cursor()\n",
      "    c.execute(\"SELECT url, datetime(visit_date/1000000, 'unixepoch') \\\n",
      "    FROM moz_places, moz_historyvisits WHERE visit_count > 0 and \\\n",
      "    moz_places.id == moz_historyvisits.place_id;\")\n",
      "    print '\\n[*] -- Found %s --' % engine\n",
      "    for row in c:\n",
      "        url = str(row[0])\n",
      "        date = str(row[1])\n",
      "        if engine in url.lower():\n",
      "            if 'naver' in engine:\n",
      "                r = re.search(r'query=([^&]*)&', url)\n",
      "            elif 'google' in engine:\n",
      "                r = re.search(r'q=([^&]*)&', url)\n",
      "            if r:\n",
      "                search = r.group(1)\n",
      "                search = unquote(search).decode('utf-8')\n",
      "                search = search.replace('+', ' ')\n",
      "                print '[+] ' + date + ' - Searched For: ' + search"
     ],
     "language": "python",
     "metadata": {},
     "outputs": [],
     "prompt_number": 176
    },
    {
     "cell_type": "markdown",
     "metadata": {},
     "source": [
      "#### \uc774 \ud568\uc218 \uad6c\ud604\ud558\uba74\uc11c \ubb38\uc81c\uc810\n",
      "\n",
      "1. \uc778\ucf54\ub529 \uad00\ub828 \ubb38\uc81c: \ud30c\uc774\uc36c\uc740 \uc778\ucf54\ub529 \ubb38\uc81c\uac00 \uc815\ub9d0 \ud798\ub4e4\ub2e4.\n",
      "  - [Unicode HOWTO - using codecs to write text](https://docs.python.org/2/howto/unicode.html)\n",
      "2. \ub098\uc911\uc5d0 \ud655\uc7a5 \uac00\ub2a5\uc131: \uc5b4\ucc28\ud53c \ub300\ubd80\ubd84 \ub611\uac19\uc740 \uae30\ub2a5\uc774\uace0 \ucd9c\ub825\ud574\uc8fc\ub294 \uacf3\uacfc \ud30c\uc2f1\ud558\ub294 \uacf3 \uc77c\ubd80\ub9cc \ub2e4\ub974\uae30\uc5d0 \uacb0\uc815\uac12\uc744 \uc778\uc790\ub85c \ub118\uae30\ub294\uac8c \ud568\uc218 \ud655\uc7a5\ud558\uae30\uc5d0 \uc880 \ub354 \uc6a9\uc774. \ub9cc\uc57d \uc870\uae08\ub2e4\uace0 \ud568\uc218\ub97c \ubcf5\uc0ac, \ubd99\uc5ec\ub123\uae30 \ud558\uba74 \uc18c\uc2a4\ucf54\ub4dc\uac00 \uaf64 \uae38\uc5b4\uc9d0"
     ]
    },
    {
     "cell_type": "code",
     "collapsed": false,
     "input": [
      "# printGoogle(default_dir+ 'places.sqlite')"
     ],
     "language": "python",
     "metadata": {},
     "outputs": [],
     "prompt_number": 28
    },
    {
     "cell_type": "markdown",
     "metadata": {},
     "source": [
      "    [*] -- Found Google --\n",
      "    [+] 2014-07-16 08:48:00 - Searched For: hello\n",
      "    [+] 2014-07-16 08:48:00 - Searched For: hello\n",
      "    [+] 2014-07-16 08:48:04 - Searched For: good\n",
      "    [+] 2014-07-16 08:48:04 - Searched For: good\n",
      "    [+] 2014-07-16 08:54:04 - Searched For: firefox\n",
      "    [+] 2014-07-16 08:54:05 - Searched For: firefox\n",
      "    [+] 2014-07-16 08:54:07 - Searched For: \n",
      "    [+] 2014-07-16 08:56:20 - Searched For: anonops_the_press_release\n",
      "    [+] 2014-07-16 08:56:20 - Searched For: anonops_the_press_release\n",
      "    [+] 2014-07-16 08:56:23 - Searched For: \n",
      "    [+] 2014-07-16 08:57:50 - Searched For: sqlmanager\n",
      "    [+] 2014-07-16 08:57:50 - Searched For: sqlmanager\n",
      "    [+] 2014-07-16 08:57:55 - Searched For: sqlmanager\n",
      "    [+] 2014-07-16 08:57:57 - Searched For: \n",
      "    [+] 2014-07-16 12:29:31 - Searched For: forensic wiki\n",
      "    [+] 2014-07-16 12:29:32 - Searched For: forensic wiki\n",
      "    [+] 2014-07-16 12:29:50 - Searched For: \n",
      "    [+] 2014-07-16 12:34:06 - Searched For: forensic wiki\n",
      "    [+] 2014-07-16 12:34:08 - Searched For: "
     ]
    },
    {
     "cell_type": "code",
     "collapsed": false,
     "input": [
      "# printNaver(default_dir+ 'places.sqlite')"
     ],
     "language": "python",
     "metadata": {},
     "outputs": [],
     "prompt_number": 29
    },
    {
     "cell_type": "markdown",
     "metadata": {},
     "source": [
      "    [*] -- Found Google --\n",
      "    [+] 2014-07-19 03:01:53 - Searched For: %EC%A7%84%EC%A7%9C %ED%8F%AC%EB%A0%8C%EC%8B%9D %EB%90%A0%EA%B9%8C%3F\n",
      "    [+] 2014-07-19 03:02:06 - Searched For: forensic ff test"
     ]
    },
    {
     "cell_type": "markdown",
     "metadata": {},
     "source": [
      "------\n",
      "#### Encoding test"
     ]
    },
    {
     "cell_type": "code",
     "collapsed": false,
     "input": [
      "s = '''%EC%A7%84%EC%A7%9C %ED%8F%AC%EB%A0%8C%EC%8B%9D %EB%90%A0%EA%B9%8C%3F'''"
     ],
     "language": "python",
     "metadata": {},
     "outputs": [],
     "prompt_number": 33
    },
    {
     "cell_type": "code",
     "collapsed": false,
     "input": [
      "print urllib.unquote(s).decode('utf-8')"
     ],
     "language": "python",
     "metadata": {},
     "outputs": [
      {
       "output_type": "stream",
       "stream": "stdout",
       "text": [
        "\uc9c4\uc9dc \ud3ec\ub80c\uc2dd \ub420\uae4c?\n"
       ]
      }
     ],
     "prompt_number": 172
    },
    {
     "cell_type": "code",
     "collapsed": false,
     "input": [
      "s1 = '''forensic ff test'''"
     ],
     "language": "python",
     "metadata": {},
     "outputs": [],
     "prompt_number": 174
    },
    {
     "cell_type": "code",
     "collapsed": false,
     "input": [
      "print urllib.unquote(s1).decode('utf-8')"
     ],
     "language": "python",
     "metadata": {},
     "outputs": [
      {
       "output_type": "stream",
       "stream": "stdout",
       "text": [
        "forensic ff test\n"
       ]
      }
     ],
     "prompt_number": 175
    },
    {
     "cell_type": "code",
     "collapsed": false,
     "input": [
      "# printQuery(default_dir + 'places.sqlite', 'google')"
     ],
     "language": "python",
     "metadata": {},
     "outputs": [],
     "prompt_number": 30
    },
    {
     "cell_type": "markdown",
     "metadata": {},
     "source": [
      "    [*] -- Found google --\n",
      "    [+] 2014-07-16 08:48:00 - Searched For: hello\n",
      "    [+] 2014-07-16 08:48:00 - Searched For: hello\n",
      "    [+] 2014-07-16 08:48:04 - Searched For: good\n",
      "    [+] 2014-07-16 08:48:04 - Searched For: good\n",
      "    [+] 2014-07-16 08:54:04 - Searched For: firefox\n",
      "    [+] 2014-07-16 08:54:05 - Searched For: firefox\n",
      "    [+] 2014-07-16 08:54:07 - Searched For: \n",
      "    [+] 2014-07-16 08:56:20 - Searched For: anonops_the_press_release\n",
      "    [+] 2014-07-16 08:56:20 - Searched For: anonops_the_press_release\n",
      "    [+] 2014-07-16 08:56:23 - Searched For: \n",
      "    [+] 2014-07-16 08:57:50 - Searched For: sqlmanager\n",
      "    [+] 2014-07-16 08:57:50 - Searched For: sqlmanager\n",
      "    [+] 2014-07-16 08:57:55 - Searched For: sqlmanager\n",
      "    [+] 2014-07-16 08:57:57 - Searched For: \n",
      "    [+] 2014-07-16 12:29:31 - Searched For: forensic wiki\n",
      "    [+] 2014-07-16 12:29:32 - Searched For: forensic wiki\n",
      "    [+] 2014-07-16 12:29:50 - Searched For: \n",
      "    [+] 2014-07-16 12:34:06 - Searched For: forensic wiki\n",
      "    [+] 2014-07-16 12:34:08 - Searched For: "
     ]
    },
    {
     "cell_type": "code",
     "collapsed": false,
     "input": [
      "# printQuery(default_dir + 'places.sqlite', 'naver')"
     ],
     "language": "python",
     "metadata": {},
     "outputs": [],
     "prompt_number": 31
    },
    {
     "cell_type": "markdown",
     "metadata": {},
     "source": [
      "    [*] -- Found naver --\n",
      "    [+] 2014-07-19 03:01:53 - Searched For: \uc9c4\uc9dc \ud3ec\ub80c\uc2dd \ub420\uae4c?\n",
      "    [+] 2014-07-19 03:02:06 - Searched For: forensic ff test"
     ]
    },
    {
     "cell_type": "markdown",
     "metadata": {},
     "source": [
      "------"
     ]
    },
    {
     "cell_type": "markdown",
     "metadata": {},
     "source": [
      "-----\n",
      "#### How to 'utf-8' document"
     ]
    },
    {
     "cell_type": "code",
     "collapsed": false,
     "input": [
      "import codecs\n",
      "f = codecs.open('ch03/test_hangul.txt', 'w', encoding='utf-8')\n",
      "s = '''%EC%A7%84%EC%A7%9C %ED%8F%AC%EB%A0%8C%EC%8B%9D %EB%90%A0%EA%B9%8C%3F'''\n",
      "f.write(urllib.unquote(s).decode('utf-8'))\n",
      "f.close()\n",
      "!open ch03/test_hangul.txt"
     ],
     "language": "python",
     "metadata": {},
     "outputs": [],
     "prompt_number": 35
    },
    {
     "cell_type": "markdown",
     "metadata": {},
     "source": [
      "-------"
     ]
    },
    {
     "cell_type": "code",
     "collapsed": false,
     "input": [
      "%%writefile ch03/firefox_final.py\n",
      "import re\n",
      "import optparse\n",
      "import os\n",
      "import sqlite3\n",
      "from urllib import unquote\n",
      "\n",
      "def printDownloads(downloadDB):\n",
      "    conn = sqlite3.connect(downloadDB)\n",
      "    c = conn.cursor()\n",
      "    c.execute(\"SELECT name, source, datetime(endTime/1000000, 'unixepoch') \\\n",
      "    FROM moz_downloads;\")\n",
      "    print '\\n[*] --- Files Downloaded ---'\n",
      "    for row in c:\n",
      "        print '[+] File: ' + str(row[0]) + ' from source: ' \\\n",
      "        + str(row[1]) + ' at: ' + str(row[2])\n",
      "        \n",
      "def printCookies(cookiesDB):\n",
      "    try:\n",
      "        conn = sqlite3.connect(cookiesDB)\n",
      "        c = conn.cursor()\n",
      "        c.execute('SELECT host, name, value FROM moz_cookies')\n",
      "        print '\\n[*] -- Found Cookies --'\n",
      "        for row in c:\n",
      "            host = str(row[0])\n",
      "            name = str(row[1])\n",
      "            value = str(row[2])\n",
      "            print '[+] Host: ' + host + ', Cookie: ' + name +\\\n",
      "            ', Value: ' + value\n",
      "    except Exception, e:\n",
      "        if 'encrypted' in str(e):\n",
      "            print '\\n[*] Error reading your cookies database.'\n",
      "            print '[*] Upgrade your Python-Sqlite3 Library'\n",
      "\n",
      "def printHistory(placesDB):\n",
      "    try:\n",
      "        conn = sqlite3.connect(placesDB)\n",
      "        c = conn.cursor()\n",
      "        c.execute(\"SELECT url, datetime(visit_date/1000000, 'unixepoch') \\\n",
      "        FROM moz_places, moz_historyvisits WHERE visit_count > 0 and \\\n",
      "        moz_places.id == moz_historyvisits.place_id\"\n",
      "        )\n",
      "        print '\\n[*] -- Found History --'\n",
      "        for row in c:\n",
      "            url = str(row[0])\n",
      "            date = str(row[1])\n",
      "            print '[+] ' + date + ' - Visited: ' + url\n",
      "    except Exception, e:\n",
      "        if 'encrypted' in str(e):\n",
      "            print '\\n[*] Error reading your places database.'\n",
      "            print '[*] Upgrade your Python-Sqlite3 Library'\n",
      "            \n",
      "def printQuery(placesDB, engine='google'):\n",
      "    conn = sqlite3.connect(placesDB)\n",
      "    c = conn.cursor()\n",
      "    c.execute(\"SELECT url, datetime(visit_date/1000000, 'unixepoch') \\\n",
      "    FROM moz_places, moz_historyvisits WHERE visit_count > 0 and \\\n",
      "    moz_places.id == moz_historyvisits.place_id;\")\n",
      "    print '\\n[*] -- Found %s --' % engine\n",
      "    for row in c:\n",
      "        url = str(row[0])\n",
      "        date = str(row[1])\n",
      "        if engine in url.lower():\n",
      "            if 'naver' in engine:\n",
      "                r = re.search(r'query=([^&]*)&', url)\n",
      "            elif 'google' in engine:\n",
      "                r = re.search(r'q=([^&]*)&', url)\n",
      "            if r:\n",
      "                search = r.group(1)\n",
      "                search = unquote(search).decode('utf-8')\n",
      "                search = search.replace('+', ' ')\n",
      "                print '[+] ' + date + ' - Searched For: ' + search\n",
      "                \n",
      "def main():\n",
      "    parser = optparse.OptionParser(\"usage %prog \" +\\\n",
      "                                   \"-p <firefox profile path>\")\n",
      "    parser.add_option('-p', dest='pathName', type='string', \\\n",
      "                      help='specify skype profile path')\n",
      "    (options, args) = parser.parse_args()\n",
      "    pathName = options.pathName\n",
      "    if pathName == None:\n",
      "        print parser.usage\n",
      "        exit(0)\n",
      "    elif os.path.isdir(pathName) == False:\n",
      "        print '[!] Path Does Not Exist: ' + pathName\n",
      "        exit(0)\n",
      "    else:\n",
      "        downloadDB = os.path.join(pathName, 'downloads.sqlite')\n",
      "        if os.path.isfile(downloadDB):\n",
      "            printDownloads(downloadDB)\n",
      "        else:\n",
      "            print '[!] Downloads DB does not exist: ' + downloadDB\n",
      "        cookiesDB = os.path.join(pathName, 'cookies.sqlite')\n",
      "        if os.path.isfile(cookiesDB):\n",
      "            printCookies(cookiesDB)\n",
      "        else:\n",
      "            print '[!] Cookies DB does not exist: ' + cookiesDB\n",
      "        placesDB = os.path.join(pathName, 'places.sqlite')\n",
      "        if os.path.isfile(placesDB):\n",
      "            printHistory(placesDB)\n",
      "            printQuery(placesDB, 'naver')\n",
      "        else:\n",
      "            print '[!] PlacesDB does not exist: ' + placesDB\n",
      "            \n",
      "if __name__ == '__main__':\n",
      "    main()"
     ],
     "language": "python",
     "metadata": {},
     "outputs": [
      {
       "output_type": "stream",
       "stream": "stdout",
       "text": [
        "Overwriting ch03/firefox_final.py\n"
       ]
      }
     ],
     "prompt_number": 246
    },
    {
     "cell_type": "code",
     "collapsed": false,
     "input": [
      "# !python ch03/firefox_final.py -p \"$default_dir\""
     ],
     "language": "python",
     "metadata": {},
     "outputs": [],
     "prompt_number": 36
    },
    {
     "cell_type": "markdown",
     "metadata": {},
     "source": [
      "    [!] Downloads DB does not exist: /Users/<accountname>/Library/Application Support/Firefox/Profiles/i1g4ftw6.default/downloads.sqlite\n",
      "\n",
      "    [*] -- Found Cookies --\n",
      "    [+] Host: .google.com, Cookie: PREF, Value: ID=151d351736484ffc:FF=0:LD=ko:TM=1405675418:LM=140567418:GM=1:S=vJuzxCXAx4xl8zXE\n",
      "    [+] Host: .google.com, Cookie: PREF, Value: ID=dd2d00afc367fea0:TM=1405675439:LM=1405675439:S=X7UI0pyZRMtf4Tht\n",
      "    [+] Host: apis.google.com, Cookie: OTZ, Value: 238925_20_20__20_\n",
      "    [+] Host: .forensicmag.com, Cookie: __gads, Value: ID=d32a5df2c0ac2778:T=1405727500:S=ALNI_MYIEo0d_QeG30LzSSDGtZsolvf7FA\n",
      "    [+] Host: .doubleclick.net, Cookie: id, Value: 225d3d6b30030033||t=1405727501|et=730|cs=002213fd4873d6e89f88654\n",
      "    [+] Host: www.forensicmag.com, Cookie: PermModalWindow, Value: ModalSubAd\n",
      "    [+] Host: www.forensicmag.com, Cookie: ModalWindow, Value: ModalSubAd\n",
      "    [+] Host: .addthis.com, Cookie: uit, Value: 1\n",
      "    [+] Host: .forensicmag.com, Cookie: __qca, Value: P0-1773929356-1405727503504\n",
      "    [+] Host: .quantserve.com, Cookie: mc, Value: 53cb30f-684b5-14740-91658\n",
      "    [+] Host: .addthis.com, Cookie: di2, Value: N8XMA7.UYM\n",
      "    [+] Host: .addthis.com, Cookie: dt, Value: X\n",
      "    [+] Host: .linkedin.com, Cookie: bcookie, Value: \"v=2&d7671b6-d494-4458-8ba6-61f3d0270815\"\n",
      "    \n",
      "    [*] -- Found History --\n",
      "    [+] 2014-07-16 08:47:39 - Visited: https://www.mozilla.org/ko/firefox/30.0/firstrun/\n",
      "    [+] 2014-07-16 08:47:49 - Visited: http://google.com/\n",
      "    [+] 2014-07-16 08:47:49 - Visited: http://www.google.co.kr/?gfe_rd=cr&ei=NTzGU6jkIuLM8gfQi4GIDA\n",
      "    [+] 2014-07-16 08:47:50 - Visited: https://www.google.co.kr/?gfe_rd=cr&ei=NTzGU6jkIuLM8gfQi4GIDA&gws_rd=ssl\n",
      "    [+] 2014-07-16 08:47:52 - Visited: https://www.google.co.kr/?gfe_rd=cr&ei=NTzGU6jkIuLM8gfQi4GIDA&gws_rd=ssl#newwindow=1&q=hi\n",
      "    [+] 2014-07-16 08:48:00 - Visited: https://www.google.com/search?q=hello&ie=utf-8&oe=utf-8&aq=t&rls=org.mozilla:ko:official&client=firefox-a&channel=sb\n",
      "    [+] 2014-07-16 08:48:00 - Visited: https://www.google.co.kr/search?q=hello&ie=utf-8&oe=utf-8&aq=t&rls=org.mozilla:ko:official&client=firefox-a&channel=sb&gfe_rd=cr&ei=QDzGU9T4GunM8gfErICQCg\n",
      "    [+] 2014-07-16 08:48:04 - Visited: https://www.google.com/search?q=good&ie=utf-8&oe=utf-8&aq=t&rls=org.mozilla:ko:official&client=firefox-a&channel=fflb\n",
      "    [+] 2014-07-16 08:48:04 - Visited: https://www.google.co.kr/search?q=good&ie=utf-8&oe=utf-8&aq=t&rls=org.mozilla:ko:official&client=firefox-a&channel=fflb&gfe_rd=cr&ei=RDzGU82-IOnM8gfErICQCg\n",
      "    [+] 2014-07-16 08:54:04 - Visited: https://www.google.com/search?q=firefox&ie=utf-8&oe=utf-8&aq=t&rls=org.mozilla:ko:official&client=firefox-a&channel=fflb\n",
      "    [+] 2014-07-16 08:54:05 - Visited: https://www.google.co.kr/search?q=firefox&ie=utf-8&oe=utf-8&aq=t&rls=org.mozilla:ko:official&client=firefox-a&channel=fflb&gfe_rd=cr&ei=rD3GU4DlOOjM8gfnh4G4Bg\n",
      "    [+] 2014-07-16 08:54:07 - Visited: http://www.google.co.kr/url?sa=t&rct=j&q=&esrc=s&source=web&cd=1&ved=0CCMQFjAA&url=http%3A%2F%2Fwww.mozilla.org%2Fko%2Ffirefox%2Fnew%2F&ei=rT3GU7q_F5WE8gXV_oLIAQ&usg=AFQjCNHaHq9Hf17r4LICd4T-xbeMGuBhxw&bvm=bv.71126742,d.dGc&cad=rjt\n",
      "    [+] 2014-07-16 08:54:07 - Visited: http://www.mozilla.org/ko/firefox/new/\n",
      "    [+] 2014-07-16 08:54:08 - Visited: https://www.mozilla.org/ko/firefox/new/\n",
      "    [+] 2014-07-16 08:54:14 - Visited: https://www.mozilla.org/ko/firefox/all/\n",
      "    [+] 2014-07-16 08:54:14 - Visited: https://www.mozilla.org/en-US/firefox/all/\n",
      "    [+] 2014-07-16 08:54:29 - Visited: https://download.mozilla.org/?product=firefox-30.0-SSL&os=osx&lang=ko\n",
      "    [+] 2014-07-16 08:56:20 - Visited: https://www.google.com/search?q=anonops_the_press_release&ie=utf-8&oe=utf-8&aq=t&rls=org.mozilla:ko:official&client=firefox-a&channel=fflb\n",
      "    [+] 2014-07-16 08:56:20 - Visited: https://www.google.co.kr/search?q=anonops_the_press_release&ie=utf-8&oe=utf-8&aq=t&rls=org.mozilla:ko:official&client=firefox-a&channel=fflb&gfe_rd=cr&ei=ND7GU7eABeTM8gfwqYDoCw\n",
      "    [+] 2014-07-16 08:56:23 - Visited: http://www.google.co.kr/url?sa=t&rct=j&q=&esrc=s&source=web&cd=1&ved=0CCAQFjAA&url=http%3A%2F%2Fwww.wired.com%2Fimages_blogs%2Fthreatlevel%2F2010%2F12%2FANONOPS_The_Press_Release.pdf&ei=ND7GU_XxGM6A8gXm_YDAAQ&usg=AFQjCNFXbiunDG_ydqAPSGx3JytiyT2rZg&bvm=bv.71126742,d.dGc&cad=rjt\n",
      "    \n",
      "    [*] -- Found naver --\n",
      "    [+] 2014-07-19 03:01:53 - Searched For: \uc9c4\uc9dc \ud3ec\ub80c\uc2dd \ub420\uae4c?\n",
      "    [+] 2014-07-19 03:02:06 - Searched For: forensic ff test"
     ]
    },
    {
     "cell_type": "markdown",
     "metadata": {},
     "source": [
      "## \ud30c\uc774\uc36c\uc73c\ub85c iTunes \ubc31\uc5c5 \uc870\uc0ac\ud558\uae30\n",
      "\n",
      "- Pete Warden\uc740 \uc544\uc774\ud3f0\uacfc \uc544\uc774\ud328\ub4dc\uc5d0\uc11c \uc0ac\uc6a9\ud558\ub294 iOS \uc6b4\uc601\uccb4\uc81c\uc758 \ud504\ub77c\uc774\ubc84\uc2dc \ubb38\uc81c \uacf5\uac1c(Warden, 2011)\n",
      "- \uc6cc\ub4e0\uc740 \uc560\ud50c\uc758 iOS \uc6b4\uc601\uccb4\uc81c\uac00 \uc2e4\uc81c\ub85c \uae30\uae30\uc758 GPS \uc88c\ud45c\ub97c \ucd94\uc801\ud558\uace0 \uae30\ub85d\ud558\uace0 \uc788\uc73c\uba70, \uc774 \ud30c\uc77c\uc744 consolidated.db \ub77c\uace0 \ubd88\ub9ac\ub294 \uc804\ud654\uae30 \uc548\uc758 \ub370\uc774\ud130\ubca0\uc774\uc2a4\uc5d0 \uc800\uc7a5\ud558\uace0 \uc788\ub2e4\ub294 \uc99d\uac70\ub97c \ucc3e\uc544\ub0c4\n",
      "- \ub370\uc774\ud130\ubca0\uc774\uc2a4 \uc548\uc758 Cell-Location \uc774\ub77c\ub294 \ud14c\uc774\ube14\uc5d0\ub294 \uc804\ud654\uae30\uac00 \uc218\uc9d1\ud55c GPS \ud3ec\uc778\ud2b8\uac00 \uc800\uc7a5\ub428\n",
      "- \uae30\uae30\ub294 \uc8fc\ubcc0\uc5d0 \uc788\ub294 \ud734\ub300\uc804\ud654 \uc1a1\uc218\uc2e0 \ud0c0\uc6cc\ub97c \uae30\ubc18\uc73c\ub85c \uc0bc\uac01 \uce21\ub7c9 \uc2e4\uc2dc\n",
      "- \uc545\uc758\uc801\uc778 \ubaa9\uc801\uc73c\ub85c \uc0ac\uc6a9\uc2dc \ubaa8\ub4e0 \uc6c0\uc9c1\uc784\uc744 \ucd94\uc801\ud558\ub294\ub370 \uc0ac\uc6a9\n",
      "- \uc560\ud50c\uc758 iOS \uc6b4\uc601\uccb4\uc81c\ub294 \uc704\uce58 \uae30\ub85d \uc815\ubcf4\ub97c \uc800\uc7a5\ud558\ub294 \uae30\ub2a5\uc774 \uc81c\uac70\ub418\uae30\ub294 \ud588\uc9c0\ub9cc \uc6cc\ub4e0\uc774 \ub370\uc774\ud130\ub97c \ubc1c\uacac\ud558\uae30 \uc704\ud574 \uc0ac\uc6a9\ud55c \ubc29\ubc95\uc740 \uc544\uc9c1\ub3c4 \uc720\ud6a8\ud558\ub2e4.\n",
      "- \uc774 \uc808\uc5d0\uc11c\ub294 iOS \ubc31\uc5c5\uc5d0 \uc788\ub294 \uc815\ubcf4\ub97c \ucd94\ucd9c\ud558\ub294 \ub370 \uc0ac\uc6a9\ub41c \ubc29\ubc95\uc744 \uc7ac\ud604\ud574\ubcfc \uac83\n",
      "- \ud30c\uc774\uc36c \uc2a4\ud06c\ub9bd\ud2b8\ub85c iOS \ubc31\uc5c5\uc5d0 \uc788\ub294 \ubb38\uc790 \uba54\uc2dc\uc9c0\ub97c \ubaa8\ub450 \uac00\uc838\uc62c \uac83\n",
      "\n",
      "### \uc544\uc774\ud3f0, \uc544\uc774\ud328\ub4dc \ubc31\uc5c5 \uacbd\ub85c\n",
      "\n",
      "    - Windows: C:\\Documents And Settins\\<USERNAME>\\Application Data\\AppleComputer\\MobileSync\\Backup\n",
      "    - MAC OS X: /Users/<USERNAME>/LIbrary/Application Support/MobileSync/Backup/\n",
      "    \n",
      "- \ubc31\uc5c5 \ub514\ub809\ud1a0\ub9ac\ub97c \uc0b4\ud3b4\ubcf4\uba74 1,000\uac1c \uc774\uc0c1\uc758 \uc804\ud600 \ub3c4\uc6c0\uc774 \uc548\ub418\ub294 \uc774\ub984\uc758 \ud30c\uc77c\uc774 \uc788\uc74c\n",
      "- \uac01 \ud30c\uc77c\uc5d0\ub294 40\uac1c\uc758 \ubb38\uc790\ub85c \ub418\uc5b4 \uc788\ub294 \uace0\uc720 \uc2dd\ubcc4\uc790\uac00 \uc788\uc73c\uba70, \ud574\ub2f9 \ud30c\uc77c\uc5d0 \ub300\ud55c \uc124\uba85\uc740 \uadf8 \uc5b4\ub290 \uac83\ub3c4 \uc5c6\ub2e4."
     ]
    },
    {
     "cell_type": "code",
     "collapsed": false,
     "input": [
      "# !ls -l \"/Users/<accountname>/Library/Application Support/MobileSync/Backup\""
     ],
     "language": "python",
     "metadata": {},
     "outputs": [],
     "prompt_number": 38
    },
    {
     "cell_type": "markdown",
     "metadata": {},
     "source": [
      "    total 0\n",
      "    drwxr-xr-x  2708 good  staff   92072 Jul  9 08:44 5927d529301e0b4564c68a2ab7c3e7b870165b66\n",
      "    drwxr-xr-x  6237 good  staff  212058 May 21 13:17 fb54f407fcf22027967d22940c2abaa8d41ef54a"
     ]
    },
    {
     "cell_type": "markdown",
     "metadata": {},
     "source": [
      "#### \uac01 \ud30c\uc77c\uc5d0 \ub300\ud55c \ub354 \ub9ce\uc740 \uc815\ubcf4\ub294 file \uc0ac\uc6a9\n",
      "\n",
      "- \ud30c\uc77c\uc758 \ud5e4\ub354\uc640 \ud478\ud130\uc758 \uc2dd\ubcc4 \ubc14\uc774\ud2b8\ub97c \uc0ac\uc6a9\ud558\uc5ec \ud30c\uc77c \uc885\ub958 \ud310\ub2e8\n",
      "- sqlite \ub370\uc774\ud130\ubca0\uc774\uc2a4, JPEG \uc774\ubbf8\uc9c0, \uc6d0\ubcf8 \ub370\uc774\ud130, ASCII \ud14d\uc2a4\ud2b8 \ud30c\uc77c \ub4f1\uc774 \uc788\uc74c"
     ]
    },
    {
     "cell_type": "code",
     "collapsed": false,
     "input": [
      "# file *"
     ],
     "language": "python",
     "metadata": {},
     "outputs": [],
     "prompt_number": 210
    },
    {
     "cell_type": "markdown",
     "metadata": {},
     "source": [
      "    0be464f2d06054da5145ca1624d44f6070ec0a85: empty\n",
      "    0beb1ae6951cd18835cca62a12bbdbae0e5ba9a4: AppleDouble encoded Macintosh file\n",
      "    0bf6d0d4ad3844856e3511c070900e68619433c0: Apple binary property list\n",
      "    0bfcb74cdba900cbbed1328388bfff3176b64c63: PDF document, version 1.4\n",
      "    0c0bef41e57f512730b6e201337aefb66809256f: data\n",
      "    0c1815c639b532215689eef12f9974ccb3ba9a0d: data\n",
      "    0c1cff9642686f0b6c3fe8b75c2f81b373bd0612: PNG image data, 141 x 38, 8-bit/color RGBA, non-interlaced\n",
      "    0c695c448939828d2468a9d8034f88f4c37d46c7: XML  document text\n",
      "    0c988f74678ee57585f438584f8082681bdb5b04: AppleDouble encoded Macintosh file\n",
      "    0cac3f03a64a82a304c900a97fc6daf94bc97c98: JPEG image data, JFIF standard 1.01\n",
      "    0caebc01b7e0ff7cc2439336d27870f1f06d22fc: SQLite 3.x database\n",
      "    0cbcbfa50c8d50b4a410789f5179b75a86155974: ISO Media, MPEG v4 system, version 2\n",
      "    0cbd86377b84c7b610eae3ebfeda5db0b2c449e0: Apple binary property list\n",
      "    0cbdb1c33a60cbeec4a2881d4b09453583ed447d: JPEG image data, JFIF standard 1.01\n",
      "    0cce8dffaf0c108d17d791a193f39ad9da971083: Apple binary property list\n",
      "    0cf02da72a68a9098e1a4bcb08d7c7b5d9fec09a: JPEG image data, JFIF standard 1.01\n",
      "    0cfa2973c99008a925fe0128a29fd479dc92b10d: empty\n",
      "    0d02372ff4a35dc6873b26947f5b03970d446969: empty\n",
      "    0d1a384c1e762ecd83f8d911f9cc9ded08f8e0c6: JPEG image data, JFIF standard 1.01\n",
      "    0d21c1e635544d1e0ff2839e9afacdd459c09def: XML  document text\n",
      "    0d40a8df0819547a2d45e538ec220fc6b993672c: JPEG image data, JFIF standard 1.01"
     ]
    },
    {
     "cell_type": "markdown",
     "metadata": {},
     "source": [
      "- file \uba85\ub839\uc5b4\uac00 \uc77c\ubd80 \ud30c\uc77c\uc5d0 \ub300\ud55c \uc800\uc635\ub97c \uc8fc\uae30\ub294 \ud558\uc9c0\ub9cc, \uac01 \ub370\uc774\ud130\ubca0\uc774\uc2a4\uac00 \uc5b4\ub5a4 \uac83\uc778\uc9c0 \uc544\ub294\ub370\ub294 \uc804\ud600 \ub3c4\uc6c0\uc774 \ub418\uc9c0 \uc54a\uc74c\n",
      "- \ud30c\uc774\uc36c \uc2a4\ud06c\ub9bd\ud2b8\ub97c \uc0ac\uc6a9\ud558\uc5ec \ubaa8\ubc14\uc77c \ubc31\uc5c5 \ub514\ub809\ud1a0\ub9ac\uc5d0 \uc788\ub294 \uac01 \ub370\uc774\ud130\ubca0\uc774\uc2a4 \ud14c\uc774\ube14\uc744 \ubaa8\ub450 \uc5f4\uac70\ud560 \uac83\n",
      "- \ub2e4\uc2dc \ud55c \ubc88 sqlite3 \ud30c\uc774\uc36c \ubc14\uc778\ub529\uc744 \uc0ac\uc6a9\ud560 \uac83\n",
      "- \uc2a4\ud06c\ub9bd\ud2b8\ub294 \ud604\uc7ac \ub514\ub809\ud1a0\ub9ac\uc758 \ucee8\ud150\uce20\ub97c \uc5f4\uac70\ud558\uace0 \uac01 \ud30c\uc77c\uc5d0 \ub370\uc774\ud130\ubca0\uc774\uc2a4 \uc5f0\uacb0\uc744 \uc2dc\ub3c4\n",
      "- \uc5f0\uacb0\uc774 \uc131\uacf5\ud558\uba74 SELECT tbl_name FROM sqlite_master WHERE type='table' \uc774\ub77c\ub294 \uba85\ub839\uc5b4 \uc2e4\ud589\n",
      "\n",
      "\n",
      "- \uac01 SQLite \ub370\uc774\ud130\ubca0\uc774\uc2a4\ub294 sqlite_master\ub77c\ub294 \ud14c\uc774\ube14\uc744 \uc720\uc9c0\n",
      "- \uc774 \ud14c\uc774\ube14\uc740 \uc804\ubc18\uc801\uc778 \ub370\uc774\ud130\ubca0\uc774\uc2a4 \uad6c\uc870\uc5d0 \ub300\ud55c \ub0b4\uc6a9\uc744 \uc800\uc7a5\ud558\uace0 \uc788\uc74c\n",
      "- \ub530\ub77c\uc11c \ub370\uc774\ud130\ubca0\uc774\uc2a4\uc758 \uc804\ubc18\uc801\uc778 \uccb4\uacc4\uc5d0 \ub300\ud574 \uc54c \uc218 \uc788\uac8c \ub428\n",
      "- SQL\ubb38\uc740 \ub370\uc774\ud130\ubca0\uc774\uc2a4 \uad6c\uc870\ub97c \uc5f4\uac70\ud560 \uc218 \uc788\ub3c4\ub85d \ud574\uc90c"
     ]
    },
    {
     "cell_type": "code",
     "collapsed": false,
     "input": [
      "import os\n",
      "import sqlite3\n",
      "\n",
      "def printTables(iphoneDB):\n",
      "    try:\n",
      "        conn = sqlite3.connect(iphoneDB)\n",
      "        c = conn.cursor()\n",
      "        c.execute(\"SELECT tbl_name FROM sqlite_master WHERE type = 'table';\")\n",
      "        print '\\n[*] Database: ' + iphoneDB\n",
      "        for row in c:\n",
      "            print '[-] Table: ' + str(row)\n",
      "    except Exception, e:\n",
      "        pass\n",
      "    finally:\n",
      "        conn.close()\n",
      "        \n",
      "\n",
      "s = \"/Users/<accountname>/Library/Application Support/MobileSync/Backup/5927d529301e0b4564c68a2ab7c3e7b870165b66/\"\n",
      "s = \"/Users/<accountname>/Library/Application Support/MobileSync/Backup/fb54f407fcf22027967d22940c2abaa8d41ef54a/\"\n",
      "# dirList = os.listdir(s)\n",
      "for fileName in dirList:\n",
      "    pass\n",
      "#     printTables(s + fileName)"
     ],
     "language": "python",
     "metadata": {},
     "outputs": [],
     "prompt_number": 42
    },
    {
     "cell_type": "markdown",
     "metadata": {},
     "source": [
      "    [*] Database: /Users/<accountname>/Library/Application Support/MobileSync/Backup/fb54f407fcf22027967d22940c2abaa8d41ef54a/ee1c5681cab338de199a9656c57f7b27d099b993\n",
      "    [-] Table: (u'hashes',)\n",
      "    [-] Table: (u'urls',)\n",
      "    [-] Table: (u'asset_ids',)\n",
      "\n",
      "    [*] Database: /Users/<accoutname>/Library/Application Support/MobileSync/Backup/fb54f407fcf22027967d22940c2abaa8d41ef54a/ef39c265a26270e9a4ffb6c48760e8bc0acf38a2\n",
      "    [-] Table: (u'meta',)\n",
      "    [-] Table: (u'thumbnails',)\n",
      "\n",
      "    [*] Database: /Users/<accountname>/Library/Application Support/MobileSync/Backup/fb54f407fcf22027967d22940c2abaa8d41ef54a/efbde2cdcab6efb6a3c0d58c4515a18660423639\n",
      "    [-] Table: (u'QNA_SEARCH',)\n",
      "    [-] Table: (u'android_metadata',)\n",
      "    [-] Table: (u'Favorite',)\n",
      "    [-] Table: (u'PDF_SEARCH',)"
     ]
    },
    {
     "cell_type": "code",
     "collapsed": false,
     "input": [
      "def isMessageTable(iphoneDB):\n",
      "    try:\n",
      "        conn = sqlite3.connect(iphoneDB)\n",
      "        c = conn.cursor()\n",
      "        c.execute(\"SELECT tbl_name FROM sqlite_master WHERE type='table';\")\n",
      "        for row in c:\n",
      "#             print str(row)\n",
      "            if 'message' in str(row):\n",
      "                print iphoneDB\n",
      "                print row\n",
      "                return True\n",
      "    except:\n",
      "        return False\n",
      "    \n",
      "s = \"/Users/<accountname>/Library/Application Support/MobileSync/Backup/5927d529301e0b4564c68a2ab7c3e7b870165b66/\"\n",
      "# s = \"/Users/<accoutname>/Library/Application Support/MobileSync/Backup/fb54f407fcf22027967d22940c2abaa8d41ef54a/\"\n",
      "# dirList = os.listdir(s)\n",
      "for fileName in dirList:\n",
      "    pass\n",
      "#     isMessageTable(s + fileName)"
     ],
     "language": "python",
     "metadata": {},
     "outputs": [],
     "prompt_number": 43
    },
    {
     "cell_type": "markdown",
     "metadata": {},
     "source": [
      "    /Users/<accountname>/Library/Application Support/MobileSync/Backup/5927d529301e0b4564c68a2ab7c3e7b870165b66/3d0d7e5fb2ce288813306e4d4636395e047a3d28\n",
      "    (u'message',)"
     ]
    },
    {
     "cell_type": "markdown",
     "metadata": {},
     "source": [
      "- \ubb38\uc790 \uba54\uc2dc\uc9c0 \ub370\uc774\ud130\ubca0\uc774\uc2a4\uac00 \uc5b4\ub514\uc5d0 \uc788\ub294\uc9c0 \uc54c\uac8c \ub418\uc5c8\uc73c\ub2c8 \ub370\uc774\ud130\ubca0\uc774\uc2a4\uc5d0 \uc800\uc7a5\ub418\uc5b4 \uc788\ub294 \ub370\uc774\ud130\ub97c \ucd9c\ub825\ud560 \uac83\n",
      "- \ub0a0\uc9dc, \uc8fc\uc18c, \ubb38\uc790 \uba54\uc2dc\uc9c0 \ucd9c\ub825\n",
      "- \"SELECT datetime(date, 'unixepoch'), address, text from message WHERE address > 0;\"\n",
      "- \uc774 \ucffc\ub9ac\uc758 \uacb0\uacfc\ub97c \ud654\uba74\uc5d0 \ucd9c\ub825. \uc5ec\uae30\uc11c\ub294 \uc57d\uac04\uc758 \uc608\uc678\ucc98\ub9ac \uc0ac\uc6a9\ud560 \uac83\n",
      "- isMessageTable()\uac00 \ubc18\ud658\ub418\uc5c8\uc744 \uacbd\uc6b0\uc758 \ub370\uc774\ud130\ubca0\uc774\uc2a4\ub294 \uc6b0\ub9ac\uc758 \uc2e4\uc81c \ubb38\uc790 \uba54\uc2dc\uc9c0 \ub370\uc774\ud130\ubca0\uc774\uc2a4\uac00 \uc544\ub2c8\ub2e4.\n",
      "- \ub370\uc774\ud130, \uc8fc\uc18c, \ud14d\uc2a4\ud2b8 \ub4f1 \ud544\uc694\ud55c \ub370\uc774\ud130\uac00 \ud3ec\ud568\ub418\uc5b4 \uc788\uc9c0 \uc54a\ub2e4.\n",
      "- \uc2e4\uc218\ub85c \uc798\ubabb\ub41c \ub370\uc774\ud130\ubca0\uc774\uc2a4\ub97c \uac00\uc838\uc654\ub2e4\uba74 \uc2a4\ud06c\ub9bd\ud2b8\uac00 \uc608\uc678\ub97c \ucc98\ub9ac\ud558\uc5ec \uc815\ud655\ud55c \ub370\uc774\ud130\ubca0\uc774\uc2a4\ub97c \ucc3e\uc744 \ub54c\uae4c\uc9c0 \uc9c0\uc18d\ud558\uc5ec \uc2e4\ud589\ud558\ub3c4\ub85d \ud568"
     ]
    },
    {
     "cell_type": "markdown",
     "metadata": {},
     "source": [
      "- try: \ub9cc \uc678\ud1a8\uc774\ub85c \ub0a8\uaca8\ub450\uba74 \uc5d0\ub7ec \ubc1c\uc0dd\ud568. \n",
      "- \uaf2d except: \ub3c4 \uac19\uc774 \ub123\uc790."
     ]
    },
    {
     "cell_type": "code",
     "collapsed": false,
     "input": [
      "def printMessage(msgDB):\n",
      "    try:\n",
      "        conn = sqlite3.connect(msgDB)\n",
      "        c = conn.cursor()\n",
      "        c.execute(\"SELECT datetime(date, 'unixepoch'), address, text \\\n",
      "        FROM message WHERE address > 0;\")\n",
      "        for row in c:\n",
      "            date = str(row[0])\n",
      "            addr = str(row[1])\n",
      "            text = row([2])\n",
      "    except:\n",
      "        pass"
     ],
     "language": "python",
     "metadata": {},
     "outputs": [],
     "prompt_number": 245
    },
    {
     "cell_type": "markdown",
     "metadata": {},
     "source": [
      "- isMessageTable()\uc640 printMessage() \ud568\uc218\ub97c \ub354\ud558\uba74 \ucd5c\uc885 \uc2a4\ud06c\ub9bd\ud2b8\uac00 \ub9cc\ub4e4\uc5b4\uc9d0\n",
      "- \uc774\uc81c \uc635\uc158 \ucc98\ub9ac\ub97c \uc2a4\ud06c\ub9bd\ud2b8\uc5d0 \ucd94\uac00\ud558\uc5ec \uc544\uc774\ud3f0 \ubc31\uc5c5 \ub514\ub809\ud1a0\ub9ac\ub97c \uc635\uc158\uc5d0 \ud3ec\ud568\ud560 \uc218 \uc788\uac8c \ud568\n",
      "- \ub2e4\uc74c\uc73c\ub85c, \uc774 \ub514\ub809\ud1a0\ub9ac\uc758 \ucee8\ud150\uce20\ub97c \uc5f4\uac70\ud558\uace0 \ubb38\uc790 \uba54\uc2dc\uc9c0 \ub370\uc774\ud130\ubca0\uc774\uc2a4\ub97c \ucc3e\uc744 \ub54c\uae4c\uc9c0 \uac01 \ud30c\uc77c\uc744 \ud14c\uc2a4\ud2b8 \ud560 \uac83\n",
      "- \uc77c\ub2e8 \uc774 \ud30c\uc77c\uc744 \ucc3e\uc73c\uba74 \ub370\uc774\ud130\ubca0\uc774\uc2a4\uc758 \ucee8\ud150\uce20\ub97c \ud654\uba74\uc5d0 \ucd9c\ub825\ud560 \uc218 \uc788\uc74c"
     ]
    },
    {
     "cell_type": "code",
     "collapsed": false,
     "input": [
      "%%writefile ch03/iphoneMessages.py\n",
      "# -*- coding: utf-8\n",
      "import os\n",
      "import sqlite3\n",
      "import optparse\n",
      "from urllib import unquote\n",
      "import sys\n",
      "reload(sys)\n",
      "sys.setdefaultencoding = 'utf-8'\n",
      "\n",
      "def isMessageTable(iphoneDB):\n",
      "    try:\n",
      "        conn = sqlite3.connect(iphoneDB)\n",
      "        c = conn.cursor()\n",
      "        c.execute(\"SELECT tbl_name FROM sqlite_master WHERE type='table';\")\n",
      "        for row in c:\n",
      "            if 'message' in str(row):\n",
      "                return True\n",
      "    except:\n",
      "        return False\n",
      "\n",
      "def printMessage(msgDB):\n",
      "    try:\n",
      "        conn = sqlite3.connect(msgDB)\n",
      "        c = conn.cursor()\n",
      "        c.execute(\"SELECT datetime(date, 'unixepoch'), text \\\n",
      "        FROM message;\")\n",
      "        for row in c:\n",
      "            date = str(row[0])\n",
      "            try:\n",
      "                text1 = unquote(row[1])\n",
      "            except Exception, e:\n",
      "                print e\n",
      "            # text = unquote(row[1]).decode('utf-8')\n",
      "            print text1\n",
      "#             print date, text\n",
      "#             print '\\n[+] Date: ' + date + ', Addr: ' + addr +\\\n",
      "#             ' Message: ' + text\n",
      "    except Exception, e:\n",
      "        print e\n",
      "    \n",
      "def main():\n",
      "    parser = optparse.OptionParser(\"usage %prog \" +\\\n",
      "                                   \"-p <iPhone Backup Directory>\")\n",
      "    parser.add_option('-p', dest='pathName', type='string', \\\n",
      "                      help='specify iphone backup path')\n",
      "    (options, args) = parser.parse_args()\n",
      "    pathName = options.pathName\n",
      "    if pathName == None:\n",
      "        print parser.usage\n",
      "        exit(0)\n",
      "    elif os.path.isdir(pathName) == False:\n",
      "        print '[!] Path Does Not Exist: ' + pathName\n",
      "        exit(0)\n",
      "    else:\n",
      "        dirList = os.listdir(pathName)\n",
      "        for fileName in dirList:\n",
      "            iphoneDB = os.path.join(pathName, fileName)\n",
      "            if isMessageTable(iphoneDB):\n",
      "                try:\n",
      "                    print '\\n[*] --- Found Messages ---'\n",
      "                    print iphoneDB\n",
      "                    printMessage(iphoneDB)\n",
      "                except:\n",
      "                    pass\n",
      "            \n",
      "if __name__ == '__main__':\n",
      "    main()"
     ],
     "language": "python",
     "metadata": {},
     "outputs": [
      {
       "output_type": "stream",
       "stream": "stdout",
       "text": [
        "Overwriting ch03/iphoneMessages.py\n"
       ]
      }
     ],
     "prompt_number": 13
    },
    {
     "cell_type": "code",
     "collapsed": false,
     "input": [
      "# iphone_default = \"/Users/<accountname>/Library/Application Support/MobileSync/Backup/5927d529301e0b4564c68a2ab7c3e7b870165b66/\""
     ],
     "language": "python",
     "metadata": {},
     "outputs": [],
     "prompt_number": 333
    },
    {
     "cell_type": "code",
     "collapsed": false,
     "input": [
      "iphone_default = \"/Users/<accoutname>/Library/Application Support/MobileSync/Backup/fb54f407fcf22027967d22940c2abaa8d41ef54a/\""
     ],
     "language": "python",
     "metadata": {},
     "outputs": [],
     "prompt_number": 14
    },
    {
     "cell_type": "code",
     "collapsed": false,
     "input": [
      "# !python ch03/iphoneMessages.py -p \"$iphone_default\""
     ],
     "language": "python",
     "metadata": {},
     "outputs": [],
     "prompt_number": 44
    },
    {
     "cell_type": "markdown",
     "metadata": {},
     "source": [
      "\n",
      "    \uc608. \uc2e0\uacbd \uc368\uc8fc\uc154\uc11c \uac10\uc0ac\ud569\ub2c8\ub2e4. \n",
      "    \ubaa9\ucc28\ub294 \uc5b8\uc81c\uae4c\uc9c0 \ubcf4\ub0b4 \ub4dc\ub824\uc57c \ud558\ub098\uc694?\n",
      "    \uae09\ud55c\uac74 \uc544\ub2d9\ub2c8\ub2e4 \ud558\uc9c0\ub9cc \ub108\ubb34 \ub2a6\ucdb0\uc838\ub3c4 \uadf8\ub7f4\uac83 \uac19\uc73c\ub2c8, \ub2f4\uc8fc \ub9d0\uc744 \ubaa9\ud45c\ub85c \uc791\uc5c5\ud574\uc8fc\uc2dc\uba74 \ub420\uac83 \uac19\uc2b5\ub2c8\ub2e4~\n",
      "    [\uc54c\ub77c\ub518]\uad6c\ub9e4\ud558\uc2e0 \uc911\uace0\uc0c1\ud488 \uc8fc\ubb38\uc870\ud68c \ucf54\ub108\uc5d0\uc11c \uc218\ub839\ud655\uc778 \ubc84\ud2bc \ud074\ub9ad \uc694\ub9dd\n",
      "    [\uc54c\ub77c\ub518]\uad6c\ub9e4\ud558\uc2e0 \uc911\uace0\uc0c1\ud488 \uc8fc\ubb38\uc870\ud68c \ucf54\ub108\uc5d0\uc11c \uc218\ub839\ud655\uc778 \ubc84\ud2bc \ud074\ub9ad \uc694\ub9dd"
     ]
    },
    {
     "cell_type": "markdown",
     "metadata": {},
     "source": [
      "### SQLite3 \uc0ac\uc6a9\ud558\uba74\uc11c \uc8fc\uc758\uc0ac\ud56d\n",
      "\n",
      "- \ubc18\ub4dc\uc2dc \uad6c\uc870\ub97c \uba3c\uc800 \ud655\uc778\n",
      "- \ub418\ub3c4\ub85d\uc774\uba74 GUI\ub85c \ud655\uc778\uc744 \ud558\ub294\uac8c \uba38\ub9ac\uc18d\uc73c\ub85c \uad6c\uc870\ub97c \ub5a0\uc62c\ub9ac\ub294\uac8c \ud6e8\uc52c \uc88b\ub2e4.\n",
      "- \ub418\ub294 \ud234\uc774 \uc788\uace0 \uc548\ub418\ub294 \ud234\uc774 \uc788\uc73c\ub2c8 \uadf8\uac83\ub3c4 \ud655\uc778\ud558\uace0 \ub118\uc5b4\uac00\uc790\n",
      "- \ud55c\uae00 \ucc98\ub9ac\ub3c4 \uc911\uc694\ud55c \ubb38\uc81c\uc911\uc758 \ud558\ub098\n",
      "\n",
      "### Forensic \ub290\ub080\uc810\n",
      "\n",
      "- \uc78a\ud600\uc84c\ub358 1\ub144\uc804\uc758 \ubb38\uc790\ub97c \ubcf4\uba74\uc11c \ubb34\uc11c\uc6b4 \ub290\ub08c\uc774 \ub4e4\uc5c8\ub2e4.\n",
      "- \uc218\uc0ac\uc0c1\uc73c\ub85c \ud544\uc694\ud55c \uc815\ubcf4\uc77c\uc9c0\ub294 \ubaa8\ub974\uc9c0\ub9cc \ub0b4 \uc800\uc7a5\ub41c \uc815\ubcf4\ub97c \ub2e4\ub978 \uc0ac\ub78c\ub4e4\uc774 \ubcf8\ub2e4\ub294\uac8c \uaed8\ub984\uc9c1\ud558\ub2e4.\n",
      "- \uadf8\uac83\ub3c4 \uc554\ud638\ub97c \ubb3c\uc5b4\ubcf4\ub294 \uac83\ub3c4 \uc544\ub2c8\uace0 \ub2e8\uc21c Query\ub9cc \ub0a0\ub838\ub294\ub370 \uc800\uc7a5\ub418\uc5b4 \uc788\ub358 \uc815\ubcf4\ub97c \ubaa8\ub450 \ubc49\uc5b4\uc900\ub2e4.\n",
      "- \uc554\ud638\ud654\uac00 \ub418\uc5b4 \uc788\ub2e4\uace0 \ud574\ub3c4 \uc5b4\ucc28\ud53c \uae68\uc9c0\uaca0\uc9c0\ub9cc \uc544\uc608 \ubb3c\uc5b4\ubcf4\uc9c0 \uc54a\uace0 \uc815\ubcf4\ub97c \uc54c\ub824\uc900\ub2e4\ub294 \uc810\uc5d0\uc11c \uad49\uc7a5\ud55c \ucda9\uaca9\uc774\ub2e4.\n",
      "\n",
      "#### SQL Cipher\n",
      "\n",
      "<img src=\"files/images/sqlite_ciper.png\" />\n",
      "\n",
      "- \uc774\ub7f0 \uc554\ud638\ud654 \ud234\uc744 \uaf2d \uc0ac\uc6a9\ud574\uc57c\uaca0\ub2e4."
     ]
    },
    {
     "cell_type": "markdown",
     "metadata": {},
     "source": [
      "## [About my IPython in github](https://github.com/re4lfl0w/ipython)\n",
      "\n",
      "## [\uc73c\uc73c\ub9ac \ub9ac\ubc84\uc2f1 \ud30c\uc73c\ub9ac\uc36c \uc6f9\ud574\uc73c\ud0b9 \ud398\uc774\uc2a4\ubd81](https://www.facebook.com/groups/1512856868944848/)"
     ]
    }
   ],
   "metadata": {}
  }
 ]
}