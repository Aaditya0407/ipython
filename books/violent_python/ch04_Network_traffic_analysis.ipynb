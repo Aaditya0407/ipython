{
 "metadata": {
  "name": "",
  "signature": "sha256:12404fa3526510f34904117e4364298edbd7079ccbd4241f33c578d424073bde"
 },
 "nbformat": 3,
 "nbformat_minor": 0,
 "worksheets": [
  {
   "cells": [
    {
     "cell_type": "markdown",
     "metadata": {},
     "source": [
      "# 4. \ub124\ud2b8\uc6cc\ud06c \ud2b8\ub798\ud53d \ubd84\uc11d\n",
      "\n",
      "## \uc774 \uc7a5\uc5d0\uc11c \ub2e4\ub8e8\ub294 \ub0b4\uc6a9\n",
      "\n",
      "- IP \ud2b8\ub798\ud53d\uc758 \ubb3c\ub9ac\uc801 \uc704\uce58 \ud30c\uc545\ud558\uae30\n",
      "- \uc545\uc758\uc801\uc778 DDoS \ud234 \ucc3e\uae30\n",
      "- \ub514\ucf54\uc774 \ub124\ud2b8\uc6cc\ud06c \uc2a4\uce90\ub2dd \ud30c\ud5e4\uce58\uae30\n",
      "- \uc2a4\ud1b0\uc758 \ud328\uc2a4\ud2b8 \ud50c\ub7ed\uc2a4\uc640 \ucee8\ud53c\ucee4\uc758 \ub3c4\uba54\uc778 \ud50c\ub7ed\uc2a4 \ubd84\uc11d\ud558\uae30\n",
      "- TCP \uc77c\ub828\ubc88\ud638 \uc608\uce21 \uacf5\uaca9 \uc774\ud574\ud558\uae30\n",
      "- \uc9c1\uc811 \uc0dd\uc131\ud55c \ud328\ud0b7\uc73c\ub85c IDS \uacf5\uaca9\ud558\uae30\n",
      "\n",
      "#### \ubb34\uc220\uc774\ub77c\ub294 \uac83\uc740 \ub2e4\ub978 \uc138\uc0c1\uc758 \uc774\uc57c\uae30\ub77c\uae30\ubcf4\ub2e4\ub294 \uc6b0\ub9ac \uc0b6, \uc6b0\ub9ac\uc758 \ucca0\ud559, \uc6b0\ub9ac \uc790\ub140\ub4e4\uc758 \uad50\uc721 \ubc29\ubc95, \uc6b0\ub9ac\uac00 \ub9ce\uc740 \uc2dc\uac04\uc744 \ud560\uc560\ud558\ub294 \uc6b0\ub9ac\uc758 \uc77c, \uc6b0\ub9ac\uac00 \uc18c\uc911\uc774 \uc5ec\uae30\ub294 \uad00\uacc4\ub4e4 \uadf8\ub9ac\uace0 \uc6b0\ub9ac\uac00 \ub0a0\ub9c8\ub2e4 \ud558\ub294 \uacb0\uc815\ub4e4\uc758 \ud655\uc7a5\uc120\uc774\ub77c\uace0 \ubd10\uc57c \ud55c\ub2e4. - \ub370\ub2c8\uc624 \ubcfc\ub808\ub9ac (\ucff5\ud478 4\ub2e8)\uc758 \uc800\uc790\n",
      "\n",
      "## \uc18c\uac1c: \uc624\ud37c\ub808\uc774\uc158 \uc624\ub85c\ub77c\uc640 \ub2f9\uc5f0\ud55c \uac83\uc744 \ub193\uce5c \uc774\uc720\n",
      "\n",
      "- 2010\ub144 1\uc6d4 14\uc77c \uad6c\uae00, \uc5b4\ub514\ube44\ub97c \ud3ec\ud568\ud558\uc5ec \ud3ec\ucd98 100 \ud68c\uc0ac\uc911 30\uac1c \uc774\uc0c1\uc744 \ub300\uc0c1\uc73c\ub85c \ud55c \uce58\ubc00\ud558\uace0, \uacc4\ud68d\ub418\uace0, \uc815\uad50\ud55c \uacf5\uaca9\uc5d0 \ub300\ud574\uc11c \uc54c\uac8c \ub428(Binde, McRee, & O'Connor, 2011)\n",
      "- \uc774 \uacf5\uaca9\uc740 \uac10\uc5fc\ub41c \ucef4\ud4e8\ud130\uc5d0\uc11c \ud3f4\ub354\uac00 \ucc3e\uc544\uc9c4 \uc774\ud6c4\ub85c Operation Aurora\ub85c \uba85\uba85\ub428\n",
      "- \uc624\ud37c\ub808\uc774\uc158 \uc624\ub85c\ub77c\ub294 \uc774\uc804\uc5d0 \ubcf4\uc9c0 \ubabb\ud55c \ucde8\uc57d\uc810\uc744 \uacf5\uaca9\n",
      "- \ub9c8\uc774\ud06c\ub85c\uc18c\ud504\ud2b8\ub294 \uc774 \uacf5\uaca9\uc5d0\uc11c \uc0ac\uc6a9\ud558\ub294 \ucde8\uc57d\uc810\uc5d0 \ub300\ud574 \uc778\uc9c0\ud558\uace0\ub294 \uc788\uc5c8\uc73c\ub098 \ub2e4\ub978 \uc0ac\ub78c\uc774 \ud574\ub2f9 \ucde8\uc57d\uc810\uc744 \uc54c\uc9c0 \ubabb\ud560 \uac83\uc774\ub77c\uace0 \uc798\ubabb \uc0dd\uac01\ud558\uc600\uc73c\uba70, \ub530\ub77c\uc11c \uc774 \uacf5\uaca9\uc744 \ud0d0\uc9c0\ud560 \uc218 \uc788\ub294 \ubc29\ubc95\uc774 \uc874\uc7ac\ud558\uc9c0 \uc54a\uc74c\n",
      "\n",
      "### \uacf5\uaca9 \uc2dc\ub098\ub9ac\uc624\n",
      "\n",
      "1. \uacf5\uaca9\uc790\ub294 \ub300\ub9cc\uc758 \ud55c \uc6f9\uc0ac\uc774\ud2b8\ub85c \uc5f0\uacb0\ub418\uc5b4 \uc788\ub294, \uc545\uc131 \uc790\ubc14\uc2a4\ud06c\ub9bd\ud2b8\uac00 \uc0bd\uc785\ub41c \ub9c1\ud06c\uac00 \uc788\ub294 \uc774\uba54\uc77c\uc744 \ud53c\ud574\uc790\ub4e4\uc5d0\uac8c \uc804\uc1a1(Binde, McRee, & O'Connor, 2011)\n",
      "2. \ub9c1\ud06c\ub97c \ud074\ub9ad\ud558\uac8c \ub418\uba74 \uc911\uad6d\uc5d0 \uc788\ub294 \uacf5\uaca9\uba85\ub839(Command & Control) \uc11c\ubc84\ub85c \uc5f0\uacb0\ud558\ub294 \uc545\uc131\ucf54\ub4dc\uac00 \ube0c\ub77c\uc6b0\uc800\ub97c \ud1b5\ud574 \ub2e4\uc6b4\ub85c\ub4dc\ub418\uc5c8\ub2e4.(Zetter, 2010)\n",
      "3. \uc774 \uc545\uc131\ucf54\ub4dc\ub97c \uc0ac\uc6a9\ud558\uc5ec \uacf5\uaca9\uc790\ub4e4\uc740 \ud53c\ud574\uc790\ub4e4\uc758 \uc2dc\uc2a4\ud15c\uc5d0 \ub300\ud55c \uc811\uadfc\uad8c\ud55c\uc744 \ud68d\ub4dd\n",
      "\n",
      "- \uc218\uac1c\uc6d4 \ub3d9\uc548 \ud0d0\uc9c0\ub418\uc9c0 \uc54a\uace0 \ud3ec\ucd98 100 \uc5c5\uccb4\uc758 \uc18c\uc2a4\ucf54\ub4dc \uc800\uc7a5\uc18c\uc5d0 \uc131\uacf5\uc801\uc73c\ub85c \uce68\ud22c\n",
      "- \uac00\uc7a5 \uae30\ucd08\uc801\uc778 \ub124\ud2b8\uc6cc\ud06c \uc2dc\uac01\ud654 \uc18c\ud504\ud2b8\uc6e8\uc5b4\ub97c \uc0ac\uc6a9\ud588\uc5b4\ub3c4 \uc774\ub7ec\ud55c \uacf5\uaca9\uc744 \uc2dd\ubcc4\ud560 \uc218 \uc788\uc5c8\uc74c\n",
      "- \ubbf8\uad6d\uc5d0 \uae30\ubc18\uc744 \ub450\uace0 \uc788\ub294 \ud3ec\ucd98 100 \uc5c5\uccb4\ub4e4\uc758 \uc0ac\uc6a9\uc790\ub4e4\uc774 \ub300\ub9cc\uc5d0 \uc788\ub294 \uc6f9 \uc0ac\uc774\ud2b8\uc5d0 \uc5f0\uacb0\ud558\uc5ec \ub2e4\uc2dc \uc911\uad6d\uc5d0 \uc788\ub294 \ud2b9\uc815 \uc11c\ubc84\ub85c \uc5f0\uacb0\ud560 \ud544\uc694\uac00 \uc804\ud600\uc5c6\uae30 \ub54c\ubb38\n",
      "- \ub9cc\uc57d \uc0ac\uc6a9\uc790\ub4e4\uc774 \ube44\uc815\uc0c1\uc801\uc73c\ub85c \ub108\ubb34 \uc790\uc8fc \ub300\ub9cc\uacfc \uc911\uad6d\uc73c\ub85c \uc5f0\uacb0\ub418\ub294 \uac83\uc744 \ubcf4\uc5ec\uc8fc\ub294 \uc2dc\uac01\uc801\uc778 \uc9c0\ub3c4\uac00 \uc788\uc5c8\ub2e4\uba74 \ub124\ud2b8\uc6cc\ud06c \uad00\ub9ac\uc790\ub4e4\uc774 \uc774 \uacf5\uaca9\uc5d0 \ub300\ud574 \ub354 \ube68\ub9ac \uc870\uc0ac\ub97c \ud558\uace0 \uc8fc\uc694 \uc815\ubcf4\uac00 \uc720\ucd9c\ub418\ub294 \uac83\uc744 \ubc29\uc9c0\ud560 \uc218 \uc788\uc5c8\uc744 \uac83\n",
      "\n",
      "- \ud30c\uc774\uc36c\uc744 \uc774\uc6a9\ud558\uc5ec \uc11c\ub85c \ub2e4\ub978 \uacf5\uaca9\uc744 \ubd84\uc11d\ud574\uc11c \uc5c4\uccad\ub09c \uc591\uc758 \uc11c\ub85c \ub2e4\ub978 \ub370\uc774\ud130\ub4e4\uc744 \uc5bc\ub9c8\ub098 \ube68\ub9ac \ucc98\ub9ac\ud560 \uc218 \uc788\ub294\uc9c0 \uc0b4\ud3b4\ubcfc \uac83\n",
      "- \uba3c\uc800 \ub124\ud2b8\uc6cc\ud06c \ud2b8\ub798\ud53d\uc744 \uc2dc\uac01\uc801\uc73c\ub85c \ubd84\uc11d\ud560 \uc218 \uc788\ub294 \uc2a4\ud06c\ub9bd\ud2b8\ubd80\ud130 \ub9cc\ub4e4\uc5b4\ubcf4\uc790."
     ]
    },
    {
     "cell_type": "code",
     "collapsed": false,
     "input": [
      "# Purpose: debugging\n",
      "def set_trace():\n",
      "    from IPython.core.debugger import Pdb\n",
      "    Pdb(color_scheme='Linux').set_trace(sys._getframe().f_back)\n",
      "    \n",
      "def debug(f, *args, **kwargs):\n",
      "    from IPython.core.debugger import Pdb\n",
      "    pdb = Pdb(color_scheme='Linux')\n",
      "    return pdb.runcall(f, *args, **kwargs)"
     ],
     "language": "python",
     "metadata": {},
     "outputs": [],
     "prompt_number": 24
    },
    {
     "cell_type": "markdown",
     "metadata": {},
     "source": [
      "## IP \ud2b8\ub798\ud53d\uc758 \ubaa9\uc801\uc9c0\ub294? - \ud30c\uc774\uc36c \ubc29\uc2dd\n",
      "\n",
      "- \uc2dc\uc791\ud558\uae30 \uc804\uc5d0 \uba3c\uc800 IP \uc8fc\uc18c\uac00 \uc2e4\uc81c\ub85c \ubb3c\ub9ac\uc801\uc73c\ub85c \uc5b4\ub514\uc5d0 \uc704\uce58\ud558\uace0 \uc788\ub294\uc9c0 \ub9e4\ud551\ud560 \uc218 \uc788\uc5b4\uc57c \ud568\n",
      "- \uc774\ub97c \uc704\ud574 MaxMind \uc5d0\uc11c \uc81c\uacf5\ud558\ub294 \ubb34\ub8cc \ub370\uc774\ud130\ubca0\uc774\uc2a4\ub97c \uc0ac\uc6a9\ud560 \uac83\n",
      "- [GeoLiteCity](http://www.maxmind.com/app/geolitecity)\ub97c \ud1b5\ud574 IP \uc8fc\uc18c\ub97c \ud2b9\uc815 \ub3c4\uc2dc\ub85c \ub9e4\ud551\ud558\ub294\ub370 \ucda9\ubd84\ud788 \uc815\ud655\ud55c \uc815\ubcf4\ub97c \uc81c\uacf5\ud558\uae30 \ub54c\ubb38\uc5d0 \uad73\uc774 \uc0c1\uc5c5\uc6a9 \ubc84\uc804\uc744 \uc0ac\uc6a9\ud560 \ud544\uc694\ub294 \uc5c6\uc74c\n",
      "- GeoLiteCity \ub370\uc774\ud130\ubca0\uc774\uc2a4\uac00 \uc788\uc73c\uba74 IP \uc8fc\uc18c\ub97c \uc8fc, \uc6b0\ud3b8\ubc88\ud638, \uad6d\uac00\uc774\ub984, \uc704\ub3c4 \ubc0f \uacbd\ub3c4 \uac19\uc740 \uc88c\ud45c\ub85c \ud45c\uc2dc \uac00\ub2a5\n",
      "- \uc774 \ubaa8\ub4e0 \uac83\uc774 **IP \ud2b8\ub798\ud53d**\uc744 **\ubd84\uc11d**\ud558\ub294\ub370 \ub3c4\uc6c0\uc774 \ub420 \uac83"
     ]
    },
    {
     "cell_type": "code",
     "collapsed": false,
     "input": [
      "# !curl -o ch04/GeoLiteCity.dat.gz http://geolite.maxmind.com/download/geoip/database/GeoLiteCity.dat.gz"
     ],
     "language": "python",
     "metadata": {},
     "outputs": [],
     "prompt_number": 21
    },
    {
     "cell_type": "code",
     "collapsed": false,
     "input": [
      "# %cd ch04"
     ],
     "language": "python",
     "metadata": {},
     "outputs": [],
     "prompt_number": 22
    },
    {
     "cell_type": "code",
     "collapsed": false,
     "input": [
      "# !gunzip GeoLiteCity.dat.gz"
     ],
     "language": "python",
     "metadata": {},
     "outputs": [],
     "prompt_number": 23
    },
    {
     "cell_type": "code",
     "collapsed": false,
     "input": [
      "# !mkdir ch04/GeoIP"
     ],
     "language": "python",
     "metadata": {},
     "outputs": [],
     "prompt_number": 187
    },
    {
     "cell_type": "code",
     "collapsed": false,
     "input": [
      "# !sudo mv GeoLiteCity.dat ./GeoIP/Geo.dat"
     ],
     "language": "python",
     "metadata": {},
     "outputs": [],
     "prompt_number": 186
    },
    {
     "cell_type": "code",
     "collapsed": false,
     "input": [
      "# %cd .."
     ],
     "language": "python",
     "metadata": {},
     "outputs": [],
     "prompt_number": 26
    },
    {
     "cell_type": "markdown",
     "metadata": {},
     "source": [
      "### [PyGeoIP](http://code.google.com/p/pygeoip/)\ub85c IP\uc8fc\uc18c\ub97c \ubb3c\ub9ac\uc801 \uc704\uce58\ub85c \ud45c\uc2dc\ud558\uae30\n",
      "\n",
      "- Jennifer Ennis\ub294 GeoLiteCity \ub370\uc774\ud130\ubca0\uc774\uc2a4\ub97c \ucffc\ub9ac\ud560 \uc218 \uc788\uac8c \ud574\uc8fc\ub294 \ud30c\uc774\uc36c \ub77c\uc774\ube0c\ub7ec\ub9ac\ub97c \uac1c\ubc1c\n",
      "\n",
      "#### PyGeoIP \ub85c\uc9c1\n",
      "\n",
      "1. GeoIP \ud074\ub798\uc2a4\ub97c \uc555\ucd95 \ud574\uc81c\ud55c \ub370\uc774\ud130\ubca0\uc774\uc2a4\uac00 \uc788\ub294 \uc704\uce58\uc5d0\uc11c instantiate \ud568\n",
      "2. IP \uc8fc\uc18c\ub97c \uc785\ub825\ud558\uace0 \ud2b9\uc815 \uae30\ub85d\uc774 \uc788\ub294\uc9c0 \ub370\uc774\ud130\ubca0\uc774\uc2a4\ub97c \ucffc\ub9ac\n",
      "3. \ub2e4\ub978 \uc815\ubcf4\ub4e4\uacfc \ud568\uaed8 \ub3c4\uc2dc, \uc9c0\uc5ed\uc774\ub984, \uc6b0\ud3b8\ubc88\ud638, \uad6d\uac00\uc774\ub984, \uc704\ub3c4 \ubc0f \uacbd\ub3c4 \ub4f1\uc758 \ud544\ub4dc \ub370\uc774\ud130\uac00 \ubc18\ud658"
     ]
    },
    {
     "cell_type": "code",
     "collapsed": false,
     "input": [
      "import pygeoip"
     ],
     "language": "python",
     "metadata": {},
     "outputs": [],
     "prompt_number": 4
    },
    {
     "cell_type": "code",
     "collapsed": false,
     "input": [
      "import pygeoip\n",
      "gi = pygeoip.GeoIP('ch04/GeoIP/Geo.dat')\n",
      "\n",
      "def printRecord(tgt):\n",
      "    rec = gi.record_by_name(tgt)\n",
      "    for key, value in rec.items():\n",
      "        print key,': ', value\n",
      "        \n",
      "tgt = '173.255.226.98'\n",
      "printRecord(tgt)"
     ],
     "language": "python",
     "metadata": {},
     "outputs": [
      {
       "output_type": "stream",
       "stream": "stdout",
       "text": [
        "city :  Absecon\n",
        "region_code :  NJ\n",
        "area_code :  609\n",
        "time_zone :  America/New_York\n",
        "dma_code :  504\n",
        "metro_code :  Philadelphia, PA\n",
        "country_code3 :  USA\n",
        "latitude :  39.4899\n",
        "postal_code :  08205\n",
        "longitude :  -74.4773\n",
        "country_code :  US\n",
        "country_name :  United States\n",
        "continent :  NA\n"
       ]
      }
     ],
     "prompt_number": 5
    },
    {
     "cell_type": "code",
     "collapsed": false,
     "input": [
      "pwd"
     ],
     "language": "python",
     "metadata": {},
     "outputs": [
      {
       "metadata": {},
       "output_type": "pyout",
       "prompt_number": 6,
       "text": [
        "u'/Users/re4lfl0w/Documents/ipython/books/violent_python'"
       ]
      }
     ],
     "prompt_number": 6
    },
    {
     "cell_type": "code",
     "collapsed": false,
     "input": [
      "import pygeoip\n",
      "# You will use the corrected Geo.dat path\n",
      "gi = pygeoip.GeoIP('ch04/GeoIP/Geo.dat')\n",
      "\n",
      "def printRecord(tgt):\n",
      "    rec = gi.record_by_name(tgt)\n",
      "    city = rec['city']\n",
      "    # region = rec['region_name']\n",
      "    region = rec['region_code']\n",
      "    country = rec['country_name']\n",
      "    long = rec['longitude']\n",
      "    lat = rec['latitude']\n",
      "    print '[*] Target: ' + tgt + ' Geo-located.'\n",
      "    print '[+] ' + str(city) + ', ' + str(region) + ', ' + str(country)\n",
      "    print '[+] Latitude: ' + str(lat) + ', Longitude: ' + str(long)\n",
      "\n",
      "tgt = '173.255.226.98'\n",
      "printRecord(tgt)"
     ],
     "language": "python",
     "metadata": {},
     "outputs": [
      {
       "output_type": "stream",
       "stream": "stdout",
       "text": [
        "[*] Target: 173.255.226.98 Geo-located.\n",
        "[+] Absecon, NJ, United States\n",
        "[+] Latitude: 39.4899, Longitude: -74.4773\n"
       ]
      }
     ],
     "prompt_number": 7
    },
    {
     "cell_type": "markdown",
     "metadata": {},
     "source": [
      "### Dpkt\ub85c \ud328\ud0b7 \ubd84\uc11d\ud558\uae30\n",
      "\n",
      "- \ub2e4\uc74c \uc7a5\uc5d0\uc11c\ub294 \ud328\ud0b7\uc744 \ubd84\uc11d\ud558\uace0 \uc0dd\uc131\ud560 \ub54c \uc8fc\ub85c Scapy\ub97c \uc0ac\uc6a9\ud560 \uac83\uc774\uc9c0\ub9cc, \uc774 \uc808\uc5d0\uc11c\ub294 \ub610 \ub2e4\ub978 \ud234\uc778 dpkt\ub85c \ud328\ud0b7\uc744 \ubd84\uc11d\ud560 \uac83\n",
      "- Scapy\ub294 \ub180\ub77c\uc6b8 \uc815\ub3c4\ub85c \ub9ce\uc740 \uae30\ub2a5\uc744 \uc81c\uacf5\ud558\uae30\ub294 \ud558\uc9c0\ub9cc, \ucd08\ubcf4\uc790\ub4e4\uc740 \ucef4\ud4e8\ud130\uc5d0 Scapy\ub97c \uc124\uce58\ud560 \ub54c \ub9ce\uc740 \uc5b4\ub824\uc6c0\uc744 \ub290\ub08c\n",
      "- \uadf8\uc5d0 \ubc18\ud574 [dpkt](http://code.google.com/p/dpkt/)\ub294 \ub2e8\uc21c\n",
      "- \ub450\uac00\uc9c0 \ud234 \ubaa8\ub450 \ube44\uc2b7\ud55c \uae30\ub2a5\uc744 \uc81c\uacf5\ud558\uae30\ub294 \ud558\uc9c0\ub9cc, \ube44\uc2b7\ud55c \ud234\uc744 \uc5ec\ub7ec \uac1c \uc0ac\uc6a9\ud560 \uc904 \uc544\ub294 \uac83\uc774 \ud56d\uc0c1 \ub354 \uc720\uc6a9\n",
      "- Dug Song\uc774 dpkt\ub97c \uac1c\ubc1c\ud55c \ud6c4\uc5d0 Jon Oberheide\uac00 FTP, H.225, SCTP, BPG \uadf8\ub9ac\uace0 IPv6\uc640 \uac19\uc774 \uc5ec\ub7ec \ub2e4\ub978 \ud504\ub85c\ud1a0\ucf5c\uc744 \ubd84\uc11d\ud558\ub294 \uae30\ub2a5\uc744 \ucd94\uac00\n",
      "\n",
      "\n",
      "- \uc774 \uc608\uc5d0\uc11c\ub294 \uc6b0\ub9ac\uac00 \ubd84\uc11d\ud558\ub824\ub294 \ud2b8\ub798\ud53d\uc744 pcap \ub124\ud2b8\uc6cc\ud06c \ucea1\uccd0\ud588\ub2e4\uace0 \uac00\uc815\n",
      "- Dpkt\uc740 \ucea1\uccd0\uc5d0 \uc788\ub294 \uac01 \ud328\ud0b7\uc744 \uc77d\uc5b4\uc640\uc11c \ud328\ud0b7\uc758 \ud504\ub85c\ud1a0\ucf5c \uce35\uc744 \uc0b4\ud3b4\ubcfc \uc218 \uc788\ub3c4\ub85d \ud574\uc90c\n",
      "- \uc774\ubbf8 \ucea1\uccd0\ud55c PCAP\uc744 \ub2e8\uc21c\ud788 \uc77d\uc5b4 \ub4e4\uc774\uae30\ub9cc \ud558\uc9c0\ub9cc, http://code.google.com/p/pypcap/ \uc5d0 \uc788\ub294 pypcap\uc73c\ub85c \uc2e4\uc81c \ud2b8\ub798\ud53d\uc744 \uc190\uc27d\uac8c \ubd84\uc11d \uac00\ub2a5\n",
      "\n",
      "#### How to install Dpkt in Mac\n",
      "\n",
      "- [dpkt-1.8tar.gz](https://code.google.com/p/dpkt/downloads/detail?name=dpkt-1.8.tar.gz&can=2&q=) download \ubc1b\uace0 \uc555\ucd95 \ud480\uace0\n",
      "\n",
      "> python setup.py install\n",
      "\n",
      "### printPcap \ud568\uc218 \ub85c\uc9c1\n",
      "\n",
      "\n",
      "1. pcap \ud30c\uc77c\uc744 \uc77d\uae30 \uc704\ud574\uc11c\ub294 \ud30c\uc77c\uc744 \uc2e4\uccb4\ud654\ud558\uace0, pcap.reader \ud074\ub798\uc2a4 \uac1d\uccb4\ub97c \uc0dd\uc131\ud55c \ub2e4\uc74c\uc5d0 \uc774 \uac1d\uccb4\ub97c printPcap() \ud568\uc218\uc5d0 \uc804\ub2ec. pcap \uac1d\uccb4\uc5d0\ub294 \ubc30\uc5f4\uc774 \uc788\ub294\ub370, \uc774 \ubc30\uc5f4\uc5d0\ub294 [timestamp, packet] \uae30\ub85d\uc774 \uc800\uc7a5\ub418\uc5b4 \uc788\uc74c\n",
      "2. \uac01 \ud328\ud0b7\uc744 \uc774\ub354\ub137\uacfc IP \ub808\uc774\uc5b4\ub85c \ubd84\ub9ac \uac00\ub2a5. \n",
      "3. \uc5ec\uae30\uc11c\ub294 \uc608\uc678\ucc98\ub9ac\ub97c \ub9e4\uc6b0 \ub290\uc2a8\ud558\uac8c \ud568. 2\uacc4\uce35 \ud504\ub808\uc784\uc774 \ucea1\uccd0\ub420 \uc218\ub3c4 \uc788\uae30 \ub54c\ubb38\uc5d0 \uc608\uc678\uac00 \ubc1c\uc0dd\ud560 \uc218\ub3c4 \uc788\uae30 \ub54c\ubb38. \uc774 \uacbd\uc6b0 \uc608\uc678 \ucc98\ub9ac\ub85c \uc608\uc678\ub97c \ucc98\ub9ac\ud558\uace0 \ub2e4\uc74c \ud328\ud0b7\uc73c\ub85c \ub118\uc5b4\uac10\n",
      "4. \uc6b0\ub9ac\ub294 socket \ub77c\uc774\ube0c\ub7ec\ub9ac\ub97c \uc0ac\uc6a9\ud558\uc5ec inet\uc5d0 \uc800\uc7a5\ub418\uc5b4 \uc788\ub294 IP \uc8fc\uc18c\ub97c \ub2e8\uc21c\ud55c \ubb38\uc790\uc5f4\ub85c \ubcc0\ud658\n",
      "5. \ucd5c\uc885\uc801\uc73c\ub85c, \uac01 \ud328\ud0b7\uc5d0 \ub300\ud55c \uc18c\uc2a4\uc640 \ubaa9\uc801\uc9c0\ub97c \ud654\uba74\uc5d0 \ucd9c\ub825"
     ]
    },
    {
     "cell_type": "markdown",
     "metadata": {},
     "source": [
      "#### TCP/IP \uacc4\uce35 \uad6c\uc870\n",
      "\n",
      "<img src=\"files/images/tcp_ip.gif\" />\n",
      "\n",
      "- [How TCP/IP Works](http://technet.microsoft.com/en-us/library/cc786128.aspx)\n",
      "\n",
      "#### TCP/IP Data Encapsulation\n",
      "\n",
      "- [TCP/IP Encapsulation](http://ecomputernotes.com/computernetworkingnotes/computer-network/tcpip-encapsulation)\n",
      "- [TCP/IP Data Encapsulation and Decapsulation](http://www.omnisecu.com/tcpip/tcpip-encapsulation-decapsulation.php)\n",
      "\n",
      "<img src=\"files/images/data_encapsulation.jpg\" />\n",
      "\n",
      "#### Encapsulation vs Decapsulation\n",
      "<img src=\"files/images/tcp_ip_header.jpg\" />\n"
     ]
    },
    {
     "cell_type": "code",
     "collapsed": false,
     "input": [
      "import dpkt\n",
      "import socket\n",
      "\n",
      "def printPcap(pcap):\n",
      "#     set_trace()\n",
      "    for(ts, buf) in pcap:        \n",
      "        try:\n",
      "            eth = dpkt.ethernet.Ethernet(buf)\n",
      "            ip = eth.data\n",
      "            src = socket.inet_ntoa(ip.src)\n",
      "            dst = socket.inet_ntoa(ip.dst)\n",
      "            print '[+] Src: ' + src + ' --> Dst: ' + dst\n",
      "        except:\n",
      "            pass\n",
      "        \n",
      "def main():\n",
      "    f = open('ch04/geotest.pcap')\n",
      "    pcap = dpkt.pcap.Reader(f)\n",
      "    printPcap(pcap)\n",
      "    \n",
      "if __name__ == '__main__':\n",
      "    main()"
     ],
     "language": "python",
     "metadata": {},
     "outputs": [
      {
       "output_type": "stream",
       "stream": "stdout",
       "text": [
        "[+] Src: 110.8.88.36 --> Dst: 188.39.7.79\n",
        "[+] Src: 28.38.166.8 --> Dst: 21.133.59.224\n",
        "[+] Src: 153.117.22.211 --> Dst: 138.88.201.132\n",
        "[+] Src: 1.103.102.104 --> Dst: 5.246.3.148\n",
        "[+] Src: 166.123.95.157 --> Dst: 219.173.149.77\n",
        "[+] Src: 8.155.194.116 --> Dst: 215.60.119.128\n",
        "[+] Src: 133.115.139.226 --> Dst: 137.153.2.196\n",
        "[+] Src: 217.30.118.1 --> Dst: 63.77.163.212\n",
        "[+] Src: 57.70.59.157 --> Dst: 89.233.181.180\n"
       ]
      }
     ],
     "prompt_number": 8
    },
    {
     "cell_type": "markdown",
     "metadata": {},
     "source": [
      "    ipdb> p ip.src\n",
      "    'n\\x08X$'\n",
      "    ipdb> p ip.dst\n",
      "    \"\\xbc'\\x07O\"\n",
      "    ipdb> p dst\n",
      "    '188.39.7.79'"
     ]
    },
    {
     "cell_type": "code",
     "collapsed": false,
     "input": [
      "help(socket.inet_ntoa)"
     ],
     "language": "python",
     "metadata": {},
     "outputs": [
      {
       "output_type": "stream",
       "stream": "stdout",
       "text": [
        "Help on built-in function inet_ntoa in module _socket:\n",
        "\n",
        "inet_ntoa(...)\n",
        "    inet_ntoa(packed_ip) -> ip_address_string\n",
        "    \n",
        "    Convert an IP address from 32-bit packed binary format to string format\n",
        "\n"
       ]
      }
     ],
     "prompt_number": 9
    },
    {
     "cell_type": "markdown",
     "metadata": {},
     "source": [
      "----\n",
      "### inet_ntoa, inet_aton \uc0bd\uc9c8\uae30"
     ]
    },
    {
     "cell_type": "code",
     "collapsed": false,
     "input": [
      "import socket\n",
      "s = '188.39.7.79'\n",
      "dst = socket.inet_aton(s)\n",
      "dst"
     ],
     "language": "python",
     "metadata": {},
     "outputs": [
      {
       "metadata": {},
       "output_type": "pyout",
       "prompt_number": 11,
       "text": [
        "\"\\xbc'\\x07O\""
       ]
      }
     ],
     "prompt_number": 11
    },
    {
     "cell_type": "code",
     "collapsed": false,
     "input": [
      "print dst"
     ],
     "language": "python",
     "metadata": {},
     "outputs": [
      {
       "output_type": "stream",
       "stream": "stdout",
       "text": [
        "\ufffd'\u0007O\n"
       ]
      }
     ],
     "prompt_number": 12
    },
    {
     "cell_type": "code",
     "collapsed": false,
     "input": [
      "print "
     ],
     "language": "python",
     "metadata": {},
     "outputs": [
      {
       "ename": "NameError",
       "evalue": "name 'raw' is not defined",
       "output_type": "pyerr",
       "traceback": [
        "\u001b[0;31m---------------------------------------------------------------------------\u001b[0m\n\u001b[0;31mNameError\u001b[0m                                 Traceback (most recent call last)",
        "\u001b[0;32m<ipython-input-13-0023d3df0dba>\u001b[0m in \u001b[0;36m<module>\u001b[0;34m()\u001b[0m\n\u001b[0;32m----> 1\u001b[0;31m \u001b[0;32mprint\u001b[0m \u001b[0mraw\u001b[0m\u001b[0;34m(\u001b[0m\u001b[0mdst\u001b[0m\u001b[0;34m)\u001b[0m\u001b[0;34m\u001b[0m\u001b[0m\n\u001b[0m",
        "\u001b[0;31mNameError\u001b[0m: name 'raw' is not defined"
       ]
      }
     ],
     "prompt_number": 13
    },
    {
     "cell_type": "code",
     "collapsed": false,
     "input": [
      "# ASCII\ub85c \ud574\uc11d\uc774 \uc548\ub418\ub294\uac74 Hex\ub85c \ucd9c\ub825\ub418\uace0\n",
      "# ASCII\ub85c \ud574\uc11d\uc774 \ub418\ub294\uac74 ASCII \ubb38\uc790\ub85c \ubcc0\ud658\ub418\uc11c \ucd9c\ub825\ub41c\ub2e4.\n",
      "print repr(dst)"
     ],
     "language": "python",
     "metadata": {},
     "outputs": [
      {
       "output_type": "stream",
       "stream": "stdout",
       "text": [
        "\"\\xbc'\\x07O\"\n"
       ]
      }
     ],
     "prompt_number": 117
    },
    {
     "cell_type": "code",
     "collapsed": false,
     "input": [
      "socket.inet_ntoa(dst)"
     ],
     "language": "python",
     "metadata": {},
     "outputs": [
      {
       "metadata": {},
       "output_type": "pyout",
       "prompt_number": 118,
       "text": [
        "'188.39.7.79'"
       ]
      }
     ],
     "prompt_number": 118
    },
    {
     "cell_type": "code",
     "collapsed": false,
     "input": [
      "ord('c')"
     ],
     "language": "python",
     "metadata": {},
     "outputs": [
      {
       "metadata": {},
       "output_type": "pyout",
       "prompt_number": 119,
       "text": [
        "99"
       ]
      }
     ],
     "prompt_number": 119
    },
    {
     "cell_type": "code",
     "collapsed": false,
     "input": [
      "hex(38)"
     ],
     "language": "python",
     "metadata": {},
     "outputs": [
      {
       "metadata": {},
       "output_type": "pyout",
       "prompt_number": 120,
       "text": [
        "'0x26'"
       ]
      }
     ],
     "prompt_number": 120
    },
    {
     "cell_type": "code",
     "collapsed": false,
     "input": [
      "print '\\x4F'"
     ],
     "language": "python",
     "metadata": {},
     "outputs": [
      {
       "output_type": "stream",
       "stream": "stdout",
       "text": [
        "O\n"
       ]
      }
     ],
     "prompt_number": 121
    },
    {
     "cell_type": "code",
     "collapsed": false,
     "input": [
      "def my_ntoa(st):\n",
      "    ''' \uc9c1\uc811 \uc18c\uc2a4\ub97c \uc9dc\ubcf4\ub2c8\uae4c \ud6e8\uc52c \ud3b8\ud558\uac8c \uc774\ud574\uac00 \ub418\ub124 \n",
      "    \uc18c\uc2a4 \uc9dc\ub294\uac8c \uc5b4\ub835\uc9c0\ub3c4 \uc54a\uace0.\n",
      "    \uadf8\ub0e5 \ud758\ub7ec\uac00\ub294 \ub85c\uc9c1\uc744 \uc0dd\uac01\ud558\uace0 \uadf8\uc5d0 \ub9de\ub294 \ubb38\ubc95\ub9cc \ub123\uc73c\uba74 \ub428'''\n",
      "    import re\n",
      "    hexs = ''\n",
      "    for ch in st:\n",
      "        hexs += str(ord(ch)) + '.'\n",
      "    hexs = re.sub('\\.$', '', hexs)\n",
      "    return hexs\n",
      "\n",
      "decoded_dst = my_ntoa(dst)\n",
      "print decoded_dst"
     ],
     "language": "python",
     "metadata": {},
     "outputs": [
      {
       "output_type": "stream",
       "stream": "stdout",
       "text": [
        "188.39.7.79\n"
       ]
      }
     ],
     "prompt_number": 134
    },
    {
     "cell_type": "code",
     "collapsed": false,
     "input": [
      "socket.inet_aton(decoded_dst)"
     ],
     "language": "python",
     "metadata": {},
     "outputs": [
      {
       "metadata": {},
       "output_type": "pyout",
       "prompt_number": 148,
       "text": [
        "\"\\xbc'\\x07O\""
       ]
      }
     ],
     "prompt_number": 148
    },
    {
     "cell_type": "code",
     "collapsed": false,
     "input": [
      "print repr(socket.inet_aton(decoded_dst))"
     ],
     "language": "python",
     "metadata": {},
     "outputs": [
      {
       "output_type": "stream",
       "stream": "stdout",
       "text": [
        "\"\\xbc'\\x07O\"\n"
       ]
      }
     ],
     "prompt_number": 153
    },
    {
     "cell_type": "code",
     "collapsed": false,
     "input": [
      "hex(65)"
     ],
     "language": "python",
     "metadata": {},
     "outputs": [
      {
       "metadata": {},
       "output_type": "pyout",
       "prompt_number": 142,
       "text": [
        "'0x41'"
       ]
      }
     ],
     "prompt_number": 142
    },
    {
     "cell_type": "code",
     "collapsed": false,
     "input": [
      "print '\\x41', '0x41'"
     ],
     "language": "python",
     "metadata": {},
     "outputs": [
      {
       "output_type": "stream",
       "stream": "stdout",
       "text": [
        "A 0x41\n"
       ]
      }
     ],
     "prompt_number": 155
    },
    {
     "cell_type": "markdown",
     "metadata": {},
     "source": [
      "#### 0x -> \\x\ub85c \ubcc0\uacbd \uc0bd\uc9c8\n",
      "\n",
      "- string \uc5d0\uc11c \ubcc0\uacbd\ud558\ub294 \uac83\uc740 \ud798\ub4e4\uc5b4 \ubcf4\uc784\n",
      "- \uadf8\ub798\uc11c struct \ubaa8\ub4c8\uc744 \uc368\uc11c \ubcc0\ud658\ud588\uc74c\n",
      "- struct \ubaa8\ub4c8 \uc0ac\uc6a9\ud558\uc9c0 \uc54a\uc558\uc73c\uba74 \uc5c4\uccad\ub09c \uc0bd\uc9c8\uc744 \ud588\uc744\uac83\uc73c\ub85c \uc0dd\uac01\ub428"
     ]
    },
    {
     "cell_type": "code",
     "collapsed": false,
     "input": [
      "re.sub('0x', '\\x', '0x41')"
     ],
     "language": "python",
     "metadata": {},
     "outputs": [
      {
       "ename": "ValueError",
       "evalue": "invalid \\x escape",
       "output_type": "pyerr",
       "traceback": [
        "\u001b[0;31mValueError\u001b[0m\u001b[0;31m:\u001b[0m invalid \\x escape\n"
       ]
      }
     ],
     "prompt_number": 182
    },
    {
     "cell_type": "code",
     "collapsed": false,
     "input": [
      "re.sub('0x', '\\\\x', '0x41')"
     ],
     "language": "python",
     "metadata": {},
     "outputs": [
      {
       "metadata": {},
       "output_type": "pyout",
       "prompt_number": 159,
       "text": [
        "'\\\\x41'"
       ]
      }
     ],
     "prompt_number": 159
    },
    {
     "cell_type": "code",
     "collapsed": false,
     "input": [
      "print hex(65)"
     ],
     "language": "python",
     "metadata": {},
     "outputs": [
      {
       "output_type": "stream",
       "stream": "stdout",
       "text": [
        "0x41\n"
       ]
      }
     ],
     "prompt_number": 147
    },
    {
     "cell_type": "markdown",
     "metadata": {},
     "source": [
      "- [struct](https://docs.python.org/2/library/struct.html)"
     ]
    },
    {
     "cell_type": "code",
     "collapsed": false,
     "input": [
      "from struct import *\n",
      "\n",
      "def my_aton(st):\n",
      "    ''' 188.39.7.79 -> \\xbc\\x27\\x07\\x4f'''\n",
      "    import re\n",
      "    chars = st.split('.')\n",
      "    result = ''\n",
      "    hex_values = ''\n",
      "    for ch in chars:\n",
      "        ch = int(ch)\n",
      "        hex_values += hex(ch)\n",
      "        # >: big endian\n",
      "        # B: Unsigned char\n",
      "        result += pack('>B', ch)\n",
      "#     result = re.sub('0x', '\\\\x', result)\n",
      "#     result.replace('0x', '\\\\x')\n",
      "    return result\n",
      "\n",
      "decoded_dst = '188.39.7.79'\n",
      "my_aton(decoded_dst)"
     ],
     "language": "python",
     "metadata": {},
     "outputs": [
      {
       "metadata": {},
       "output_type": "pyout",
       "prompt_number": 135,
       "text": [
        "\"\\xbc'\\x07O\""
       ]
      }
     ],
     "prompt_number": 135
    },
    {
     "cell_type": "code",
     "collapsed": false,
     "input": [
      "from struct import *"
     ],
     "language": "python",
     "metadata": {},
     "outputs": [],
     "prompt_number": 164
    },
    {
     "cell_type": "code",
     "collapsed": false,
     "input": [
      "pack('>B', 188)"
     ],
     "language": "python",
     "metadata": {},
     "outputs": [
      {
       "metadata": {},
       "output_type": "pyout",
       "prompt_number": 175,
       "text": [
        "'\\xbc'"
       ]
      }
     ],
     "prompt_number": 175
    },
    {
     "cell_type": "code",
     "collapsed": false,
     "input": [
      "type(pack('>B', 188))"
     ],
     "language": "python",
     "metadata": {},
     "outputs": [
      {
       "metadata": {},
       "output_type": "pyout",
       "prompt_number": 176,
       "text": [
        "str"
       ]
      }
     ],
     "prompt_number": 176
    },
    {
     "cell_type": "code",
     "collapsed": false,
     "input": [
      "print pack('>B', 188)"
     ],
     "language": "python",
     "metadata": {},
     "outputs": [
      {
       "output_type": "stream",
       "stream": "stdout",
       "text": [
        "\ufffd\n"
       ]
      }
     ],
     "prompt_number": 177
    },
    {
     "cell_type": "markdown",
     "metadata": {},
     "source": [
      "----"
     ]
    },
    {
     "cell_type": "markdown",
     "metadata": {},
     "source": [
      "#### hex\uac12\uc73c\ub85c \ub4e4\uc5b4\uac14\ub294\ub370\ub3c4 \ubd88\uad6c\ud558\uace0 print\ub97c \ud558\uba74 ASCII \ucf54\ub4dc\ub85c \ubcc0\uacbd\ud574\uc11c \ubcf4\uc5ec\uc90c"
     ]
    },
    {
     "cell_type": "code",
     "collapsed": false,
     "input": [
      "src = '\\x6e\\x08\\x58\\x24'"
     ],
     "language": "python",
     "metadata": {},
     "outputs": [],
     "prompt_number": 70
    },
    {
     "cell_type": "code",
     "collapsed": false,
     "input": [
      "print src"
     ],
     "language": "python",
     "metadata": {},
     "outputs": [
      {
       "output_type": "stream",
       "stream": "stdout",
       "text": [
        "n\bX$\n"
       ]
      }
     ],
     "prompt_number": 71
    },
    {
     "cell_type": "code",
     "collapsed": false,
     "input": [
      "print repr(src)"
     ],
     "language": "python",
     "metadata": {},
     "outputs": [
      {
       "output_type": "stream",
       "stream": "stdout",
       "text": [
        "'n\\x08X$'\n"
       ]
      }
     ],
     "prompt_number": 64
    },
    {
     "cell_type": "code",
     "collapsed": false,
     "input": [
      "socket.inet_ntoa(src)"
     ],
     "language": "python",
     "metadata": {},
     "outputs": [
      {
       "metadata": {},
       "output_type": "pyout",
       "prompt_number": 73,
       "text": [
        "'110.8.88.36'"
       ]
      }
     ],
     "prompt_number": 73
    },
    {
     "cell_type": "markdown",
     "metadata": {},
     "source": [
      "#### IP \ubcc0\ud658 in Wireshark\n",
      "\n",
      "- [\ub124\ud2b8\uc6cc\ud06c \uc8fc\uc18c \ubcc0\ud658 - inet_ntoa()](http://mintnlatte.tistory.com/272)\n",
      "\n",
      "<img src=\"files/images/ip_src.png\" />\n",
      "\n",
      "\n",
      "<img src=\"files/images/ip_dst.png\" />"
     ]
    },
    {
     "cell_type": "markdown",
     "metadata": {},
     "source": [
      "#### Socket Functions\n",
      "\n",
      "    socket() -- create a new socket object\n",
      "    socketpair() -- create a pair of new socket objects [*]\n",
      "    fromfd() -- create a socket object from an open file descriptor [*]\n",
      "    gethostname() -- return the current hostname\n",
      "    gethostbyname() -- map a hostname to its IP number\n",
      "    gethostbyaddr() -- map an IP number or hostname to DNS info\n",
      "    getservbyname() -- map a service name and a protocol name to a port number\n",
      "    getprotobyname() -- map a protocol name (e.g. 'tcp') to a number\n",
      "    ntohs(), ntohl() -- convert 16, 32 bit int from network to host byte order\n",
      "    htons(), htonl() -- convert 16, 32 bit int from host to network byte order\n",
      "    inet_aton() -- convert IP addr string (123.45.67.89) to 32-bit packed format\n",
      "    inet_ntoa() -- convert 32-bit packed format IP to string (123.45.67.89)\n",
      "    ssl() -- secure socket layer support (only available if configured)\n",
      "    socket.getdefaulttimeout() -- get the default timeout value\n",
      "    socket.setdefaulttimeout() -- set the default timeout value\n",
      "    create_connection() -- connects to an address, with an optional timeout and\n",
      "                           optional source address."
     ]
    },
    {
     "cell_type": "markdown",
     "metadata": {},
     "source": [
      "-----"
     ]
    },
    {
     "cell_type": "markdown",
     "metadata": {},
     "source": [
      "- \uc774\uc81c retGeoStr() \uc774\ub77c\ub294 \ud568\uc218\ub97c \ud558\ub098 \ub354 \ucd94\uac00\ud574\ubcf4\uc790.\n",
      "- \uc774 \ud568\uc218\ub294 IP \uc8fc\uc18c\uc5d0 \ub300\ud55c \uc2e4\uc81c \ubb3c\ub9ac\uc801 \uc704\uce58\ub97c \ubc18\ud658\n",
      "- \ub3c4\uc2dc\uc640 3\uc790\ub9ac \uad6d\uac00 \ucf54\ub4dc\ub97c \ubcc0\ud658\ud558\uace0 \ud654\uba74\uc5d0 \ucd9c\ub825\ud560 \uac83\n",
      "- \ub9cc\uc57d \ud568\uc218\uc5d0\uc11c \uc608\uc678\uac00 \ubc1c\uc0dd\ud558\uba74 \uc774 \uc8fc\uc18c\uac00 \ub4f1\ub85d\ub418\uc5b4 \uc788\uc9c0 \uc54a\ub2e4\ub294 \uba54\uc2dc\uc9c0\ub97c \ubc18\ud658\n",
      "- \uc774\ub807\uac8c \ud558\uba74 \uc8fc\uc18c\uac00 GeoLiteCity \ub370\uc774\ud130\ubca0\uc774\uc2a4\uc5d0 \uc5c6\ub294 \uacbd\uc6b0\ub098 \uc544\ub2c8\uba74 \uc608\uc81c\uc758 192.168.1.3\uacfc \uac19\uc774 \uc0ac\uc124 IP\uc77c \uacbd\uc6b0\ub97c \ucc98\ub9ac"
     ]
    },
    {
     "cell_type": "code",
     "collapsed": false,
     "input": [
      "import dpkt, socket, pygeoip, optparse\n",
      "\n",
      "gi = pygeoip.GeoIP('ch04/GeoIP/Geo.dat')\n",
      "    \n",
      "def retGeoStr(ip):\n",
      "    try:\n",
      "        rec = gi.record_by_name(ip)\n",
      "        city = rec['city']\n",
      "        country = rec['country_code3']\n",
      "        \n",
      "        if(city != ''):\n",
      "            geoLoc = city + ', ' + country\n",
      "        else:\n",
      "            geoLoc = country\n",
      "        return geoLoc\n",
      "    except:\n",
      "        return 'Unregistered'"
     ],
     "language": "python",
     "metadata": {},
     "outputs": [],
     "prompt_number": 185
    },
    {
     "cell_type": "markdown",
     "metadata": {},
     "source": [
      "- retGeoStr \ud568\uc218\ub97c \uc2a4\ud06c\ub9bd\ud2b8\uc5d0 \ucd94\uac00\ud558\uba74 \uc774\uc81c \uac01 \ud328\ud0b7\uc758 \ubb3c\ub9ac\uc801 \uc704\uce58\ub3c4 \ubcfc \uc218 \uc788\uc74c"
     ]
    },
    {
     "cell_type": "code",
     "collapsed": false,
     "input": [
      "%%writefile ch04/geoPrint.py\n",
      "import dpkt\n",
      "import socket\n",
      "import pygeoip\n",
      "import optparse\n",
      "\n",
      "gi = pygeoip.GeoIP('ch04/GeoIP/Geo.dat')\n",
      "\n",
      "def retGeoStr(ip):\n",
      "    try:\n",
      "        rec = gi.record_by_name(ip)\n",
      "        city = rec['city']\n",
      "        country = rec['country_code3']\n",
      "        \n",
      "        if(city != ''):\n",
      "            geoLoc = city + ', ' + country\n",
      "        else:\n",
      "            geoLoc = country\n",
      "        return geoLoc\n",
      "    except:\n",
      "        return 'Unregistered'\n",
      "    \n",
      "def printPcap(pcap):\n",
      "    for(ts, buf) in pcap:        \n",
      "        try:\n",
      "            eth = dpkt.ethernet.Ethernet(buf)\n",
      "            ip = eth.data\n",
      "            src = socket.inet_ntoa(ip.src)\n",
      "            dst = socket.inet_ntoa(ip.dst)\n",
      "            print '[+] Src: ' + src + ' --> Dst: ' + dst\n",
      "            print '[+] Src: ' + retGeoStr(src) \\\n",
      "            + ' --> Dst: ' + retGeoStr(dst)\n",
      "        except:\n",
      "            pass\n",
      "        \n",
      "def main():\n",
      "    parser = optparse.OptionParser('usage %prog -p <pcap file>')\n",
      "    parser.add_option('-p', dest='pcapFile', type='string', \\\n",
      "                      help='specify pcap filename')\n",
      "    (options, args) = parser.parse_args()\n",
      "    if options.pcapFile == None:\n",
      "        print parser.usage\n",
      "        exit(0)\n",
      "    pcapFile = options.pcapFile\n",
      "    \n",
      "    f = open(pcapFile)\n",
      "    pcap = dpkt.pcap.Reader(f)\n",
      "    printPcap(pcap)\n",
      "    \n",
      "if __name__ == '__main__':\n",
      "    main()"
     ],
     "language": "python",
     "metadata": {},
     "outputs": [
      {
       "output_type": "stream",
       "stream": "stdout",
       "text": [
        "Overwriting ch04/geoPrint.py\n"
       ]
      }
     ],
     "prompt_number": 200
    },
    {
     "cell_type": "markdown",
     "metadata": {},
     "source": [
      "- gi \ud30c\uc77c \uc778\uc790\ub85c \ubc1b\uae30\n",
      "- \ud55c\uad6d IP \ub300\uc5ed \ud655\uc778"
     ]
    },
    {
     "cell_type": "code",
     "collapsed": false,
     "input": [
      "!python ch04/geoPrint.py -p ch04/geotest.pcap"
     ],
     "language": "python",
     "metadata": {},
     "outputs": [
      {
       "output_type": "stream",
       "stream": "stdout",
       "text": [
        "[+] Src: 110.8.88.36 --> Dst: 188.39.7.79\r\n",
        "[+] Src: Seoul, KOR --> Dst: Unregistered\r\n",
        "[+] Src: 28.38.166.8 --> Dst: 21.133.59.224\r\n",
        "[+] Src: Columbus, USA --> Dst: Columbus, USA\r\n",
        "[+] Src: 153.117.22.211 --> Dst: 138.88.201.132\r\n",
        "[+] Src: Wichita, USA --> Dst: Unregistered\r\n",
        "[+] Src: 1.103.102.104 --> Dst: 5.246.3.148\r\n",
        "[+] Src: Seoul, KOR --> Dst: Unregistered\r\n",
        "[+] Src: 166.123.95.157 --> Dst: 219.173.149.77\r\n",
        "[+] Src: Washington, USA --> Dst: Tokyo, JPN\r\n",
        "[+] Src: 8.155.194.116 --> Dst: 215.60.119.128\r\n",
        "[+] Src: Unregistered --> Dst: Columbus, USA\r\n",
        "[+] Src: 133.115.139.226 --> Dst: 137.153.2.196\r\n",
        "[+] Src: Unregistered --> Dst: Unregistered\r\n",
        "[+] Src: 217.30.118.1 --> Dst: 63.77.163.212\r\n",
        "[+] Src: Unregistered --> Dst: Unregistered\r\n",
        "[+] Src: 57.70.59.157 --> Dst: 89.233.181.180\r\n",
        "[+] Src: Unregistered --> Dst: Prague, CZE\r\n"
       ]
      }
     ],
     "prompt_number": 201
    },
    {
     "cell_type": "markdown",
     "metadata": {},
     "source": [
      "### \ud30c\uc774\uc36c\uc73c\ub85c \uad6c\uae00 \uc9c0\ub3c4 \ub9cc\ub4e4\uae30\n",
      "\n",
      "- \uad6c\uae00 \uc5b4\uc2a4\ub294 \uac00\uc0c1 \uc9c0\uad6c, \uc9c0\ub3c4 \uadf8\ub9ac\uace0 \uc9c0\ub9ac\uc801 \uc815\ubcf4 \uc81c\uacf5\n",
      "- \uc0ac\uc6a9\uc790\uac00 KML \ud655\uc7a5\uc790\ub85c \ud14d\uc2a4\ud2b8 \ud30c\uc77c\uc744 \ub9cc\ub4e4\uba74 \ub2e4\uc591\ud55c \ud45c\uc2dc\ub97c \uad6c\uae00 \uc5b4\uc2a4\uc5d0 \ud1b5\ud569 \uac00\ub2a5\n",
      "- KML \ud30c\uc77c\uc740 \ub2e4\uc74c \uc608\uc640 \uac19\uc774 \ud2b9\uc815 XML \uad6c\uc870\ub97c \uac00\uc9c0\uace0 \uc788\uc74c\n",
      "- \uc6b0\ub9ac\uac00 \uc6d0\ud558\ub294 \uc774\ub984\uacfc \uc88c\ud45c 2\uac1c\ub97c \uad6c\uae00 \uc5b4\uc2a4\uc5d0\uc11c \ud45c\uc2dc\ud558\uac8c \ub9cc\ub4e4 \uac83\n",
      "- \uc774\ubbf8 IP \uc8fc\uc18c, \uc704\ub3c4\uc640 \uacbd\ub3c4\ub97c \uac00\uc9c0\uace0 \uc788\uae30 \ub54c\ubb38\n",
      "- KML \ud30c\uc77c\uc744 \ub9cc\ub4e4\uae30 \uc704\ud574 \uc6b0\ub9ac\uac00 \ub9cc\ub4e0 \uc2a4\ud06c\ub9bd\ud2b8\ub97c \uc190\uc27d\uac8c \ud1b5\ud569\ud560 \uc218 \uc788\uc744 \uac83\n",
      "\n",
      "#### About KML\n",
      "\n",
      "- [\ud0a4\ud640 \ub9c8\ud06c\uc5c5 \uc5b8\uc5b4](http://ko.wikipedia.org/wiki/%ED%82%A4%ED%99%80_%EB%A7%88%ED%81%AC%EC%97%85_%EC%96%B8%EC%96%B4)\n",
      "- [KML \uac00\uc774\ub4dc](https://developers.google.com/kml/documentation/kml_tut?hl=ko)\n",
      "- [Create & Open KML KMZ Files With Google Maps & Google](http://www.youtube.com/watch?v=w1sWRlMQD3U)"
     ]
    },
    {
     "cell_type": "code",
     "collapsed": false,
     "input": [
      "%%writefile ch04/kml.xml\n",
      "<?xml version=\"1.0\" encoding=\"UTF-8\"?>\n",
      "<kml xmlns=\"http://www.opengis.net/kml/2.2\">\n",
      "    <Document>\n",
      "        <Placemark>\n",
      "            <name>93.170.52.30</name>\n",
      "            <Point>\n",
      "                <coordinates>5.750000, 52.500000</coordinates>\n",
      "            </Point>\n",
      "        </Placemark>\n",
      "        <Placemark>\n",
      "            <name>208.73.210.87</name>\n",
      "            <Point>\n",
      "                <coordinates>-122.393300,37.769700</coordinates>\n",
      "            </Point>\n",
      "        </Placemark>\n",
      "    </Document>\n",
      "</kml>"
     ],
     "language": "python",
     "metadata": {},
     "outputs": [
      {
       "output_type": "stream",
       "stream": "stdout",
       "text": [
        "Writing ch04/kml.xml\n"
       ]
      }
     ],
     "prompt_number": 202
    },
    {
     "cell_type": "markdown",
     "metadata": {},
     "source": [
      "- retKML() \ud568\uc218\ub97c \ub9cc\ub4e4\uc5b4\ubcf4\uc790.\n",
      "- \uc774 \ud568\uc218\ub294 IP \uc8fc\uc18c\ub97c \uc785\ub825 \ubc1b\uc544\uc11c \ud574\ub2f9 \uc704\uce58\uc5d0 \ub300\ud55c \ud2b9\uc815 KML \uad6c\uc870\ub97c \ubc18\ud658\n",
      "- \uc5ec\uae30\uc11c \uc720\uc758\ud560 \uc810\uc740 pygeoip\ub97c \uc774\uc6a9\ud558\uc5ec IP\uc8fc\uc18c\ub97c \uc704\ub3c4\uc640 \uacbd\ub3c4\ub85c \uba3c\uc800 \ubcc0\ud658\ud558\ub294 \uac83\n",
      "- \ud574\ub2f9 \uc704\uce58\uc5d0 \ub300\ud55c KML\uc744 \ub9cc\ub4e0\ub2e4.\n",
      "- \ub9cc\uc57d \"location not found\"\uc640 \uac19\uc740 \uc608\uc678\uac00 \ubc1c\uc0dd\ud558\uba74 \ube48 \ubb38\uc790\uc5f4\uc744 \ubc18\ud658\ud568"
     ]
    },
    {
     "cell_type": "code",
     "collapsed": false,
     "input": [
      "def retKML(ip):\n",
      "    rec = gi.record_by_name(ip)\n",
      "    try:\n",
      "        longitude = rec['longitude']\n",
      "        latitude = rec['latitude']\n",
      "        kml = (\n",
      "            '<Placemark>\\n'\n",
      "            '<name>%s</name>\\n'\n",
      "            '<Point>\\n'\n",
      "            '<coordinates>%6f, %6f</coordinates>\\n'\n",
      "            '</Point>\\n'\n",
      "            '</Placemark>\\n') % (ip, longitude, latitude)\n",
      "        return kml\n",
      "    except Exception, e:\n",
      "        return ''"
     ],
     "language": "python",
     "metadata": {},
     "outputs": [],
     "prompt_number": 203
    },
    {
     "cell_type": "markdown",
     "metadata": {},
     "source": [
      "- \uc2a4\ud06c\ub9bd\ud2b8\uc5d0 \ud568\uc218\ub97c \ud1b5\ud569\ud558\uba74\uc11c \ud544\uc694\ud55c KML \ud5e4\ub354\uc640 \ud478\ud130\ub97c \ucd94\uac00\ud560 \uc218 \uc788\uac8c \ub418\uc5c8\uc74c\n",
      "- \uac01 \ud328\ud0b7\ub9c8\ub2e4 \uc18c\uc2a4 IP\uc640 \ubaa9\uc801\uc9c0 IP\ub97c \uc704\ud55c KML \ud45c\uc2dc\ub97c \uc0dd\uc131\ud558\uace0 \uc9c0\ub3c4\uc5d0 \ud45c\uc2dc\n",
      "- \ub124\ud2b8\uc6cc\ud06c \ud2b8\ub798\ud53d\uc744 \uc2dc\uac01\ud654\ud560 \uc218 \uc788\uac8c \ub428\n",
      "- \uc774\uac83\uc744 \ud68c\uc0ac\uc758 \ubaa9\uc801\uc5d0 \ub530\ub77c \ud655\uc7a5\ud558\uac8c \ub418\uba74 \ub9e4\uc6b0 \uc720\uc6a9\ud55c \uc790\uc0b0\uc774 \ub420 \uac83\n",
      "- \uc544\ub9c8 \uc18c\uc2a4\uc640 \ubaa9\uc801\uc9c0 TCP \ud3ec\ud2b8\ub85c \uad6c\ubd84\ud558\uc5ec \uc11c\ub85c \ub2e4\ub978 \uc885\ub958\uc758 \ud2b8\ub798\ud53d\uc5d0 \ub2e4\ub978 \uc544\uc774\ucf58\uc744 \uc0ac\uc6a9\ud560 \uc218\ub3c4 \uc788\uc74c(\uc608\ub85c 80:\uc6f9, 25: \uba54\uc77c)\n",
      "- https://developers.google.com/kml/documentation/ \uc5d0 \uc788\ub294 \uad6c\uae00 KML \ubb38\uc11c\ub97c \uc77d\uace0 \ud68c\uc0ac\uc758 \ubaa9\uc801\uc5d0 \ub9de\uac8c \uc774 \uc2a4\ud06c\ub9bd\ud2b8\ub97c \ud655\uc7a5\ud558\uba74 \ub428"
     ]
    },
    {
     "cell_type": "code",
     "collapsed": false,
     "input": [
      "%%writefile ch04/kml_test.py\n",
      "import dpkt\n",
      "import socket\n",
      "import pygeoip\n",
      "import optparse\n",
      "\n",
      "gi = pygeoip.GeoIP('ch04/GeoIP/Geo.dat')\n",
      "\n",
      "def retKML(ip):\n",
      "    rec = gi.record_by_name(ip)\n",
      "    try:\n",
      "        longitude = rec['longitude']\n",
      "        latitude = rec['latitude']\n",
      "        kml = (\n",
      "            '<Placemark>\\n'\n",
      "            '<name>%s</name>\\n'\n",
      "            '<Point>\\n'\n",
      "            '<coordinates>%6f,%6f</coordinates>\\n'\n",
      "            '</Point>\\n'\n",
      "            '</Placemark>\\n') % (ip, longitude, latitude)\n",
      "        return kml\n",
      "    except Exception, e:\n",
      "        return ''\n",
      "    \n",
      "def plotIPs(pcap):\n",
      "    kmlPts = ''\n",
      "    for (ts, buf) in pcap:\n",
      "        try:\n",
      "            eth = dpkt.ethernet.Ethernet(buf)\n",
      "            ip = eth.data\n",
      "            src = socket.inet_ntoa(ip.src)\n",
      "            srcKML = retKML(src)\n",
      "            dst = socket.inet_ntoa(ip.dst)\n",
      "            dstKML = retKML(dst)\n",
      "            kmlPts = kmlPts + srcKML + dstKML\n",
      "        except:\n",
      "            pass\n",
      "    return kmlPts\n",
      "\n",
      "def main():\n",
      "    parser = optparse.OptionParser('usage %prog -p <pcap file>')\n",
      "    parser.add_option('-p', dest='pcapFile', type='string', \\\n",
      "                      help='specify pcap filename')\n",
      "    (options, args) = parser.parse_args()\n",
      "    if options.pcapFile == None:\n",
      "        print parser.usage\n",
      "        exit(0)\n",
      "    pcapFile = options.pcapFile\n",
      "    f = open(pcapFile)\n",
      "    pcap = dpkt.pcap.Reader(f)\n",
      "    kmlheader = '<?xml version=\"1.0\" encoding=\"UTF-8\"?>\\\n",
      "    \\n<kml xmlns=\"http://www.opengis.net/kml/2.2\">\\n<Document>\\n'\n",
      "    kmlfooter = '</Document>\\n</kml>\\n'\n",
      "    kmldoc = kmlheader + plotIPs(pcap) + kmlfooter\n",
      "    print kmldoc\n",
      "    \n",
      "if __name__ == '__main__':\n",
      "    main()"
     ],
     "language": "python",
     "metadata": {},
     "outputs": [
      {
       "output_type": "stream",
       "stream": "stdout",
       "text": [
        "Overwriting ch04/kml_test.py\n"
       ]
      }
     ],
     "prompt_number": 138
    },
    {
     "cell_type": "code",
     "collapsed": false,
     "input": [
      "!python ch04/kml_test.py -p ch04/geotest.pcap"
     ],
     "language": "python",
     "metadata": {},
     "outputs": [
      {
       "output_type": "stream",
       "stream": "stdout",
       "text": [
        "<?xml version=\"1.0\" encoding=\"UTF-8\"?>    \r\n",
        "<kml xmlns=\"http://www.opengis.net/kml/2.2\">\r\n",
        "<Document>\r\n",
        "<Placemark>\r\n",
        "<name>110.8.88.36</name>\r\n",
        "<Point>\r\n",
        "<coordinates>126.978300,37.598500</coordinates>\r\n",
        "</Point>\r\n",
        "</Placemark>\r\n",
        "<Placemark>\r\n",
        "<name>188.39.7.79</name>\r\n",
        "<Point>\r\n",
        "<coordinates>-0.130000,51.500000</coordinates>\r\n",
        "</Point>\r\n",
        "</Placemark>\r\n",
        "<Placemark>\r\n",
        "<name>28.38.166.8</name>\r\n",
        "<Point>\r\n",
        "<coordinates>-82.998800,39.961200</coordinates>\r\n",
        "</Point>\r\n",
        "</Placemark>\r\n",
        "<Placemark>\r\n",
        "<name>21.133.59.224</name>\r\n",
        "<Point>\r\n",
        "<coordinates>-82.998800,39.961200</coordinates>\r\n",
        "</Point>\r\n",
        "</Placemark>\r\n",
        "<Placemark>\r\n",
        "<name>153.117.22.211</name>\r\n",
        "<Point>\r\n",
        "<coordinates>-97.278200,37.752100</coordinates>\r\n",
        "</Point>\r\n",
        "</Placemark>\r\n",
        "<Placemark>\r\n",
        "<name>138.88.201.132</name>\r\n",
        "<Point>\r\n",
        "<coordinates>-97.000000,38.000000</coordinates>\r\n",
        "</Point>\r\n",
        "</Placemark>\r\n",
        "<Placemark>\r\n",
        "<name>1.103.102.104</name>\r\n",
        "<Point>\r\n",
        "<coordinates>126.978300,37.598500</coordinates>\r\n",
        "</Point>\r\n",
        "</Placemark>\r\n",
        "<Placemark>\r\n",
        "<name>5.246.3.148</name>\r\n",
        "<Point>\r\n",
        "<coordinates>45.000000,25.000000</coordinates>\r\n",
        "</Point>\r\n",
        "</Placemark>\r\n",
        "<Placemark>\r\n",
        "<name>166.123.95.157</name>\r\n",
        "<Point>\r\n",
        "<coordinates>-77.041700,38.897900</coordinates>\r\n",
        "</Point>\r\n",
        "</Placemark>\r\n",
        "<Placemark>\r\n",
        "<name>219.173.149.77</name>\r\n",
        "<Point>\r\n",
        "<coordinates>139.751400,35.685000</coordinates>\r\n",
        "</Point>\r\n",
        "</Placemark>\r\n",
        "<Placemark>\r\n",
        "<name>8.155.194.116</name>\r\n",
        "<Point>\r\n",
        "<coordinates>-97.000000,38.000000</coordinates>\r\n",
        "</Point>\r\n",
        "</Placemark>\r\n",
        "<Placemark>\r\n",
        "<name>215.60.119.128</name>\r\n",
        "<Point>\r\n",
        "<coordinates>-82.998800,39.961200</coordinates>\r\n",
        "</Point>\r\n",
        "</Placemark>\r\n",
        "<Placemark>\r\n",
        "<name>133.115.139.226</name>\r\n",
        "<Point>\r\n",
        "<coordinates>139.690000,35.690000</coordinates>\r\n",
        "</Point>\r\n",
        "</Placemark>\r\n",
        "<Placemark>\r\n",
        "<name>137.153.2.196</name>\r\n",
        "<Point>\r\n",
        "<coordinates>139.690000,35.690000</coordinates>\r\n",
        "</Point>\r\n",
        "</Placemark>\r\n",
        "<Placemark>\r\n",
        "<name>217.30.118.1</name>\r\n",
        "<Point>\r\n",
        "<coordinates>-0.130000,51.500000</coordinates>\r\n",
        "</Point>\r\n",
        "</Placemark>\r\n",
        "<Placemark>\r\n",
        "<name>63.77.163.212</name>\r\n",
        "<Point>\r\n",
        "<coordinates>-97.000000,38.000000</coordinates>\r\n",
        "</Point>\r\n",
        "</Placemark>\r\n",
        "<Placemark>\r\n",
        "<name>57.70.59.157</name>\r\n",
        "<Point>\r\n",
        "<coordinates>133.000000,-27.000000</coordinates>\r\n",
        "</Point>\r\n",
        "</Placemark>\r\n",
        "<Placemark>\r\n",
        "<name>89.233.181.180</name>\r\n",
        "<Point>\r\n",
        "<coordinates>14.466700,50.083300</coordinates>\r\n",
        "</Point>\r\n",
        "</Placemark>\r\n",
        "</Document>\r\n",
        "</kml>\r\n",
        "\r\n"
       ]
      }
     ],
     "prompt_number": 139
    },
    {
     "cell_type": "code",
     "collapsed": false,
     "input": [
      "from IPython.display import YouTubeVideo"
     ],
     "language": "python",
     "metadata": {},
     "outputs": [],
     "prompt_number": 209
    },
    {
     "cell_type": "code",
     "collapsed": false,
     "input": [
      "# Learn Google Earth: Importing KML, KMZ and GPS Data\n",
      "YouTubeVideo('gaH993pN4cg')"
     ],
     "language": "python",
     "metadata": {},
     "outputs": [
      {
       "html": [
        "\n",
        "        <iframe\n",
        "            width=\"400\"\n",
        "            height=300\"\n",
        "            src=\"https://www.youtube.com/embed/gaH993pN4cg\"\n",
        "            frameborder=\"0\"\n",
        "            allowfullscreen\n",
        "        ></iframe>\n",
        "        "
       ],
       "metadata": {},
       "output_type": "pyout",
       "prompt_number": 211,
       "text": [
        "<IPython.lib.display.YouTubeVideo at 0x10e53cdd0>"
       ]
      }
     ],
     "prompt_number": 211
    },
    {
     "cell_type": "markdown",
     "metadata": {},
     "source": [
      "-------\n",
      "\n",
      "#### Using Google Earth\n",
      "\n",
      "- \ub09c [Digital Attack Map](http://www.digitalattackmap.com/) \ucc98\ub7fc \uacf5\uaca9\uc744 \ubcfc \uc218 \uc788\uc744\uc904 \uc54c\uc558\ub354\ub2c8 \uadf8\ub7f0\uac74 \uc544\ub2c8\ub124\n",
      "- \uadf8\ub0e5 \uc704\uce58\ub97c Google Earth\uc5d0 \ud45c\ud604\ud574\uc8fc\ub294 \uac83\uc77c\ubfd0\n",
      "- Source -> Destination \uc73c\ub85c \ud45c\uc2dc\ud574\uc8fc\ub294 \uac83\ub3c4 \uc544\ub2c8\uc5b4\uc11c \uadf8\ub2e4\uc9c0 \ud65c\uc6a9 \uac00\ub2a5\uc131\uc740 \uc5c6\uc5b4\ubcf4\uc774\ub294\ub370 \ub0b4\uac00 \uc124\uc815\uc744 \ubabb\ud574\uc11c \uadf8\ub7f0\uac00? \uc5b4\uca0c\ub4e0 \uc2dc\uac01\uc801\uc73c\ub85c \ubcf4\uc5ec\uc8fc\ub294\uac74 \ub9e4\ub825\uc801\n",
      "\n",
      "<img src=\"files/images/kml1.png\" />\n",
      "<img src=\"files/images/kml2.png\" />\n",
      "\n",
      "----"
     ]
    },
    {
     "cell_type": "markdown",
     "metadata": {},
     "source": [
      "## \uc5b4\ub098\ub2c8\uba38\uc2a4\uac00 \uc815\ub9d0 \uc775\uba85\uc778 \uac83\uc77c\uae4c? LOIC \ud2b8\ub798\ud53d \ubd84\uc11d\n",
      "\n",
      "- Anonymous: \ud574\ucee4\uadf8\ub8f9\uc758 \uc774\ub984. \uc0ac\uc804\uc801\uc73c\ub85c\ub294 \uc775\uba85\uc774\ub77c\ub294 \uc758\ubbf8\ub97c \uac00\uc9d0\n",
      "\n",
      "<img src=\"files/images/loic.jpg\" />\n",
      "\n",
      "- 2010\ub144 12\uc6d4 \ub124\ub35c\ub780\ub4dc \uacbd\ucc30\uc740 WikiLeaks\ub97c \ubc18\ub300\ud558\ub294 \ud68c\uc0ac\ub97c \uacf5\uaca9\ud558\uae30 \uc704\ud55c \ud65c\ub3d9\uc758 \uc77c\ud658\uc73c\ub85c \ube44\uc790, \ub9c8\uc2a4\ud130\uce74\ub4dc, \ud398\uc774\ud314 \ub4f1\uc5d0 \ub300\ud55c DDoS \uacf5\uaca9\uc5d0 \ucc38\uc5ec\ud55c \uc8c4\ub85c \ud55c 10\ub300\ub97c \uccb4\ud3ec\n",
      "- \ud55c \ub2ec\uc774 \ucc44 \ub418\uc9c0 \uc54a\uc544\uc11c FBI\ub294 40\uac1c \uac00\ub7c9\uc758 \uc218\uc0c9\uc601\uc7a5\uc744 \ubc30\ud3ec\ud588\uace0 \uc601\uad6d \uacbd\ucc30\uc5d0\uc11c\ub3c4 5\uba85\uc744 \uccb4\ud3ec\n",
      "- \uc774\ub4e4\uc740 \ub2e8\uc21c\ud788 \uc5b4\ub098\ub2c8\uba38\uc2a4 \ud574\ucee4 \uadf8\ub8f9\uc774 \uac1c\ubc1c\ud55c DDoS \ud504\ub85c\uadf8\ub7a8\uc778 Low Orbit Ion Cannon(LOIC)\uc744 \ub2e4\uc6b4\ub85c\ub4dc\ud558\uc5ec \uc0ac\uc6a9\ud588\uc744 \ubfd0\n",
      "\n",
      "\n",
      "- LOIC\ub294 \uacf5\uaca9\ub300\uc0c1\uc5d0 \ub300\ub7c9\uc758 UDP\uc640 TCP \ud2b8\ub798\ud53d\uc744 \uc804\uc1a1\n",
      "- \ub2e8 \ud558\ub098\uc758 LOIC\ub85c\ub294 \uacf5\uaca9\ub300\uc0c1\uc758 \uc790\uc6d0\uc744 \uae09\uaca9\ud788 \uace0\uac08\uc2dc\ud0a4\uc9c0 \ubabb\ud568\n",
      "- \ud558\uc9c0\ub9cc \uc218\uc2ed\ub9cc \uba85\uc774 \ub3d9\uc2dc\uc5d0 LOIC\ub97c \uc0ac\uc6a9\ud558\uac8c \ub418\uba74 \uacf5\uaca9\ub300\uc0c1\uc758 \uc790\uc6d0\uc744 \uae09\uc18d\ud788 \uace0\uac08\uc2dc\ud0a4\uace0 \uc11c\ube44\uc2a4\uc5d0 \ucee4\ub2e4\ub780 \uc601\ud5a5\uc744 \uc8fc\uac8c \ub428\n",
      "\n",
      "\n",
      "- LOIC\ub294 2\uac00\uc9c0 \ubaa8\ub4dc\ub97c \uc81c\uacf5\n",
      "- \uccab\ubc88\uc9f8 \ubaa8\ub4dc\uc5d0\uc11c \uc0ac\uc6a9\uc790\ub294 \uacf5\uaca9\ub300\uc0c1 \uc8fc\uc18c\ub97c \uc785\ub825 \uac00\ub2a5\n",
      "- \ub450\ubc88\uc9f8 \ubaa8\ub4dc\ub294 HIVEMIND \ub77c\uace0\ub3c4 \ubd88\ub9bc. \uc0ac\uc6a9\uc790\uac00 LOIC\ub97c IRC \uc11c\ubc84\ub85c \uc5f0\uacb0\uc2dc\ud0b4\n",
      "- \uc0ac\uc6a9\uc790\ub4e4\uc740 IRC\uc5d0 \uc5f0\uacb0\ub41c \uc0ac\uc6a9\uc790\ub4e4\uc774 \uc790\ub3d9\uc73c\ub85c \uacf5\uaca9\ud560 \uc218 \uc788\ub294 \uacf5\uaca9\ub300\uc0c1\uc744 \uc120\uc815\n",
      "\n",
      "### Dpkt\ub85c LOIC \ub2e4\uc6b4\ub85c\ub4dc \ud655\uc778\ud558\uae30\n",
      "\n",
      "- Operation Payback \ub2f9\uc2dc\uc5d0 \uc5b4\ub098\ub2c8\uba38\uc2a4\uc758 \ud55c \uba64\ubc84\ub294 \uadf8\ub4e4\uc774 \uc81c\uc791\ud55c \ud234\uc778 LOIC\uc5d0 \ub300\ud55c FAQ\uac00 \ub2f4\uae34 \ubb38\uc11c\ub97c \ud3ec\uc2a4\ud305 \ud568\n",
      "- FAQ\uc5d0\ub294 \"\uc774 \ud504\ub85c\uadf8\ub7a8\uc744 \uc0ac\uc6a9\ud558\uba74 \uacbd\ucc30\uc5d0 \uc7a1\ud790 \uc77c\uc774 \uc788\uc744\uae4c? \uc7a1\ud790 \ud655\ub960\uc740 0\uc5d0 \uac00\uae5d\ub2e4\uace0 \ubcf4\uba74 \ub428. \uc7a1\ud788\uba74 \uadf8\ub0e5 \ubc14\uc774\ub7ec\uc2a4\uc5d0 \uac78\ub838\ub2e4\ub4e0\uc9c0 \uc544\ub2c8\uba74 \uc774\ub7ec\ud55c \ud234\uc744 \uc124\uce58\ud55c \uc801\uc774 \uc5c6\ub2e4\uace0 \uc7a1\uc544\ub54c\uba74 \ub428\n",
      "- \ud328\ud0b7 \ubd84\uc11d\uc5d0 \ub300\ud55c \ucda9\ubd84\ud55c \uc9c0\uc2dd\uc744 \uc5bb\uc5b4\uc11c \uc774 \ub0b4\uc6a9\uc774 \uac70\uc9d3\uc774\ub77c\ub294 \uac83\uc744 \uc99d\uba85\ud558\uace0, \uc2e4\uc81c \uc0ac\uc6a9\uc790\uac00 \ud234\uc744 \ub2e4\uc6b4\ub85c\ub4dc\ud558\uc5ec \uc0ac\uc6a9\ud588\ub2e4\ub294 \uac83\uc744 \uc99d\uba85\ud560 \uc218 \uc788\ub294 \ud234\uc744 \ub9cc\ub4e4\uc5b4\ubcf4\uc790\n",
      "\n",
      "- \uc778\ud130\ub137 \uc5ec\ub7ec \uc0ac\uc774\ud2b8\uc5d0\uc11c LOIC \ub2e4\uc6b4\ub85c\ub4dc \uac00\ub2a5\n",
      "- \uc2e0\ub8b0\ud560 \ub9cc\ud55c \uc0ac\uc774\ud2b8\ub3c4 \uc788\uace0, \uadf8\ub807\uc9c0 \ubabb\ud55c \uc0ac\uc774\ud2b8\ub3c4 \uc788\uc74c\n",
      "- [sourceforge](http://sourceforge.net/projects/loic/) \uc5d0\uc11c \ud638\uc2a4\ud305\uc744 \ud558\uace0 \uc788\uc73c\ub2c8, \uc6b0\ub9ac\ub294 \uc5ec\uae30\uc11c \ub2e4\uc6b4\ub85c\ub4dc\n",
      "- \ub2e4\uc6b4\ub85c\ub4dc \ud558\uae30 \uc804\uc5d0 tcpdump \uc138\uc158\uc744 \uc5f4\uc5b4\uc11c \ud3ec\ud2b8 80\ubc88\uc744 \ud544\ud130\ub9c1\ud558\uace0 \uacb0\uacfc\ub97c ASCII \ud615\uc2dd\uc73c\ub85c \ucd9c\ub825\n",
      "- \ud234\uc744 \ub2e4\uc6b4\ub85c\ub4dc\ud558\uba74 HTTP GET \uc694\uccad\uc744 \uac00\uc7a5 \ucd5c\uc2e0 \ubc84\uc804\uc778 /project/loic/loic/loic-1.0.7/LOIC_1.0.7.42binary.zip \uc73c\ub85c \uc694\uccad\uc744 \uc804\uc1a1\ud558\ub294 \uac83\uc744 \ubcfc \uc218 \uc788\uc74c\n",
      "\n",
      "#### [tcpdump](http://originalchoi.tistory.com/18)"
     ]
    },
    {
     "cell_type": "markdown",
     "metadata": {},
     "source": [
      "#### find 'loic' in pcap\n",
      "\n",
      "<img src=\"files/images/pcap_loic.png\" />"
     ]
    },
    {
     "cell_type": "code",
     "collapsed": false,
     "input": [
      "# !tcpdump -i en0 -A -w ch04/loic_down.pcap port 80"
     ],
     "language": "python",
     "metadata": {},
     "outputs": [],
     "prompt_number": 212
    },
    {
     "cell_type": "markdown",
     "metadata": {},
     "source": [
      "#### LOIC download top-down logic\n",
      "\n",
      "1. LOIC \uc2dd\ubcc4 \ud234\uc758 \uccab \ubd80\ubd84\uc5d0\uc11c\ub294 HTTP \ud2b8\ub798\ud53d\uc744 \ucc98\ub9ac\n",
      "2. HTTP GET\uc744 \uac80\uc0ac\ud558\uc5ec \uc555\ucd95\ub41c LOIC \ubc14\uc774\ub108\ub9ac\ub97c \ub2e4\uc6b4\ub85c\ub4dc\ud588\ub294\uc9c0 \ud655\uc778\n",
      "\n",
      "#### LOIC download detailed logic\n",
      "\n",
      "- HTTP \ud2b8\ub798\ud53d\uc744 \uc0b4\ud3b4\ubcf4\uae30 \uc704\ud574\uc11c \uc6b0\ub9ac\ub294 \ubc18\ub4dc\uc2dc \uc774\ub354\ub137, IP \uadf8\ub9ac\uace0 TCP\uce35\uc744 \ucd94\ucd9c\ud574\uc57c \ud568\n",
      "- HTTP \ud504\ub85c\ud1a0\ucf5c\uc740 TCP \ud504\ub85c\ud1a0\ucf5c \uce35 \uc704\uc5d0 \uc874\uc7ac\n",
      "- \ub9cc\uc57d HTTP\uce35\uc774 GET \uba54\uc18c\ub4dc\ub97c \uc0ac\uc6a9\ud558\uba74 HTTP GET\uc774 \uc694\uccad\ud55c URI\ub97c \ucc98\ub9ac\n",
      "- \uc774 URI\uc758 \uc774\ub984\uc5d0 .zip\uacfc LOIC\uac00 \ud3ec\ud568\ub418\uc5b4 \uc788\uc73c\uba74 \uc774 \uba54\uc2dc\uc9c0\ub97c LOIC\ub97c \ub2e4\uc6b4\ub85c\ub4dc \ud55c IP\uc640 \ud568\uaed8 \ud654\uba74\uc5d0 \ucd9c\ub825\n",
      "- \uc0ac\uc6a9\uc790\uac00 \ubc14\uc774\ub7ec\uc2a4\uc5d0 \uac10\uc5fc\ub418\uc9c0 \uc54a\uace0 \uc2e4\uc81c\ub85c \uc9c1\uc811 \ub2e4\uc6b4\ub85c\ub4dc \ud588\ub2e4\ub294 \uac83\uc744 \uad00\ub9ac\uc790\uac00 \uc99d\uba85\ud558\ub294\ub370 \ub3c4\uc6c0\uc774 \ub420 \uac83\n",
      "- 3\uc7a5\uc5d0\uc11c \ubcf4\uc5ec\uc900 \ud3ec\ub80c\uc2dd \ubd84\uc11d \ud234\uacfc \ud568\uaed8 \uc0ac\uc6a9\ud558\uba74 \uc0ac\uc6a9\uc790\uac00 \uc815\ub9d0 LOIC\ub97c \ub2e4\uc6b4\ub85c\ub4dc\ud588\ub2e4\ub294 \uac83\uc744 \uc99d\uba85\ud560 \uc218 \uc788\uc74c"
     ]
    },
    {
     "cell_type": "code",
     "collapsed": false,
     "input": [
      "import dpkt\n",
      "import socket\n",
      "\n",
      "def findDownload(pcap):\n",
      "    for (ts, buf) in pcap:\n",
      "        try:\n",
      "            eth = dpkt.ethernet.Ethernet(buf)\n",
      "            ip = eth.data\n",
      "            src = socket.inet_ntoa(ip.src)\n",
      "            tcp = ip.data\n",
      "            http = dpkt.http.Request(tcp.data)\n",
      "            if http.method == 'GET':\n",
      "                uri = http.uri.lower()\n",
      "                if '.zip' in uri and 'loic' in uri:\n",
      "                    print '[!] ' + src + ' Downloaded LOIC.'\n",
      "                    print uri\n",
      "        except:\n",
      "            pass\n",
      "        \n",
      "# p = 'ch04/loic_down.pcap'\n",
      "p = 'ch04/download.pcap'\n",
      "f = open(p)\n",
      "pcap = dpkt.pcap.Reader(f)\n",
      "findDownload(pcap)"
     ],
     "language": "python",
     "metadata": {},
     "outputs": [
      {
       "output_type": "stream",
       "stream": "stdout",
       "text": [
        "[!] 192.168.95.172 Downloaded LOIC.\n",
        "/project/loic/loic/loic-1.0.7/loic-1.0.7.42-binary.zip\n"
       ]
      }
     ],
     "prompt_number": 240
    },
    {
     "cell_type": "markdown",
     "metadata": {},
     "source": [
      "----\n",
      "\n",
      "#### \uc0dd\uac01\ud574 \ubcfc \uc810\n",
      "\n",
      "- \uc774\uac78 \uc5b4\ub5bb\uac8c \ud65c\uc6a9\ud560 \uc218 \uc788\ub2e4\ub294\uac70\uc9c0?\n",
      "- \uacbd\ucc30\uc774 \ucd94\uc801\ud558\ub294\uac74 \uc0ac\ud6c4 \ucd94\uc801\uc778\ub370..\n",
      "- \uc774 \uc815\ubcf4\ub294 \ub124\ud2b8\uc6cc\ud06c \uad00\ub9ac\uc790\uac00 \ud328\ud0b7\uc744 \uc2e4\uc2dc\uac04\uc73c\ub85c \ucd94\uc801\ud574\uc11c \ucc3e\uc544\ub0bc \uc218\ub294 \uc788\uc9c0\ub9cc \uacbd\ucc30\uc774 \uc0ac\ud6c4\uc801\uc73c\ub85c \ucc3e\uc544\ub0b4\uae30\ub294 \uc27d\uc9c0 \uc54a\uc744\ud150\ub370\n",
      "- \ubaa8\ub4e0 \ud328\ud0b7 \uc815\ubcf4\ub97c \uc800\uc7a5\ud558\uc9c0\ub3c4 \uc54a\uc744\ud14c\uace0. \uc2e4\uc2dc\uac04\uc73c\ub85c \uc774\ub3d9\ud558\ub294 \ud328\ud0b7\uc774 \uc5bc\ub9c8\ub098 \ub9ce\uc740\ub370? \uadf8\uac78 \ub2e4 \uc800\uc7a5\ud574.\n",
      "\n",
      "----"
     ]
    },
    {
     "cell_type": "markdown",
     "metadata": {},
     "source": [
      "### IRC \uba85\ub839\uc5b4\ub97c Hive\uc5d0 \ud30c\uc2f1\ud558\uae30\n",
      "\n",
      "- \ub2e8\uc21c\ud788 LOIC\ub97c \ub2e4\uc6b4\ub85c\ub4dc\ud558\ub294 \uac83 \uc790\uccb4\ub294 \ubd88\ubc95\uc774 \uc544\ub2d8(\uadf8\ub807\uc9c0 \uc54a\uc73c\uba74 \uc774 \ucc45\uc758 \uc800\uc790 \ub610\ud55c \uccb4\ud3ec\ub418\uc5b4\uc57c \ud560 \uac83)\n",
      "- \ud558\uc9c0\ub9cc \uc5b4\ub098\ub2c8\uba38\uc2a4 HIVE\uc5d0 \uc5f0\uacb0\ud558\uc5ec \ud2b9\uc815 \uc0ac\uc774\ud2b8\uc758 \uc11c\ube44\uc2a4\uc5d0 \uc601\ud5a5\uc744 \ubbf8\uce60 \ubaa9\uc801\uc73c\ub85c \uc0ac\uc6a9\ud55c\ub2e4\uba74 \uc5ec\ub7ec \uad6d\uac00\uc758 \ubc95\uc5d0 \uc704\ubc18\ub418\ub294 \uc0ac\ud56d\n",
      "- \uc5b4\ub098\ub2c8\uba38\uc2a4\ub294 \ud2b9\uc815 \uc9c0\ub3c4\uc790 \uc544\ub798 \uacb0\uc9d1\ud55c \uadf8\ub8f9\uc774 \uc544\ub2c8\ub77c \ube44\uc2b7\ud55c \uc0dd\uac01\uc744 \uac00\uc9c4 \uc0ac\ub78c\ub4e4\uc774 \ubaa8\uc5ec\uc11c \ub9cc\ub4e4\uc5b4\uc9c4 \ube44\uacf5\uc2dd\uc801\uc778 \uc9d1\ub2e8\uc774\uae30 \ub54c\ubb38\uc5d0 \uadf8 \ub204\uad6c\ub3c4 \uacf5\uaca9\uc758 \ub300\uc0c1\uc744 \uc81c\uc548\ud560 \uc218 \uc788\uc74c\n",
      "- \uacf5\uaca9\uc744 \uc2dc\uc791\ud558\uae30 \uc704\ud574\uc11c \uc5b4\ub098\ub2c8\uba38\uc2a4 \uba64\ubc84\ub294 \ud2b9\uc815 IRC(Internet Repay Chat) \uc11c\ubc84\ub85c \uc5f0\uacb0\ud558\uc5ec !lazor targetip=66.211.169.66 message=test_test port=80 method=tcp wait=false random=true start\uc640 \uac19\uc774 \uacf5\uaca9 \uba85\ub839\uc744 \uc785\ub825\n",
      "- \uadf8\ub7ec\uba74 HIVEMIND \ubaa8\ub4dc\ub85c LOIC\uac00 IRC\uc5d0 \uc5f0\uacb0\ub418\uc5b4 \ubaa8\ub4e0 \uc5b4\ub098\ub2c8\uba38\uc2a4 \uba64\ubc84\ub294 \uc989\uc2dc \uacf5\uaca9\ub300\uc0c1\uc5d0 \uacf5\uaca9\uc744 \uc2dc\uc791\ud560 \uc218 \uc788\uac8c \ub428\n",
      "- 66.211.169.66: paypal.com\n",
      "- \uc624\ud37c\ub808\uc774\uc158 \ud398\uc774\ubc31 \uc911\uc5d0 \uacf5\uaca9\uc744 \ub2f9\ud55c \uc0ac\uc774\ud2b8 \uc911\uc758 \ud558\ub098\n",
      "\n",
      "- \uacf5\uaca9 \uba54\uc2dc\uc9c0 \ud2b8\ub798\ud53d\uc744 \uc0b4\ud3b4\ubcf4\uba74 \ud2b9\uc815 \uc0ac\uc6a9\uc790(anonOps)\uac00 IRC \uc11c\ubc84\uc5d0\uc11c \uacf5\uaca9\uc744 \uc2e4\ud589\ud558\uae30 \uc704\ud574 \uba85\ub839\uc744 \ub0b4\ub838\ub2e4\ub294 \uac83\uc744 \uc54c \uc218 \uc788\uc74c\n",
      "- \ub2e4\uc74c\uc73c\ub85c, IRC \uc11c\ubc84\uac00 \uc5f0\uacb0\ub418\uc5b4 \uc788\ub294 LOIC \ud074\ub77c\uc774\uc5b8\ud2b8\uc5d0\uac8c \uacf5\uaca9\uc744 \uc2dc\uc791\ud558\ub77c\ub294 \uba85\ub839\uc744 \ub0b4\ub9bc\n",
      "- \ubb3c\ub860 \uc5ec\uae30\uc11c\ub294 \uc774 \ud2b9\uc815 \ud328\ud0b7 2\uac1c\ub97c \ubcf4\uace0 \uc27d\uac8c \uc99d\uba85\ud560 \uc218 \uc788\uc9c0\ub9cc, \uba70\uce60 \ub610\ub294 \uba87 \uc2dc\uac04\uc774\ub098 \uac78\uccd0 \ucea1\uccd0\ud55c PCAP \ud30c\uc77c\uc5d0\uc11c\ub294 \uc99d\uba85\ud558\ub294 \uac83\uc774 \uc5bc\ub9c8\ub098 \ud798\ub4e4\uc9c0 \ud55c \ubc88 \uc0dd\uac01\ud574 \ubcf4\uc790\n",
      "\n",
      "#### [HTTP-Botnets: The Dark Side of an Standard Protocol!](http://securityaffairs.co/wordpress/13747/cyber-crime/http-botnets-the-dark-side-of-an-standard-protocol.html)\n",
      "\n",
      "<img src=\"files/images/irc_cnc.png\" />"
     ]
    },
    {
     "cell_type": "code",
     "collapsed": false,
     "input": [
      "# !tcpdump -i en0 -w ch04/findHive.pcap 'port 6667'"
     ],
     "language": "python",
     "metadata": {},
     "outputs": [],
     "prompt_number": 226
    },
    {
     "cell_type": "markdown",
     "metadata": {},
     "source": [
      "- \ub300\ubd80\ubd84\uc758 \uacbd\uc6b0 IRC \uc11c\ubc84\ub294 TCP \ud3ec\ud2b8 6667\ubc88 \uc0ac\uc6a9\n",
      "- IRC \uc11c\ubc84\ub85c \uc804\uc1a1\ub418\ub294 \uba54\uc2dc\uc9c0\uc758 \ubaa9\uc801\uc9c0\ub294 TCP \uc18c\uc2a4 \ud3ec\ud2b8 6667\n",
      "- \ubc14\ub85c \uc774 \uc9c0\uc2dd\uc744 HIVEMIND \ucc98\ub9ac \ud568\uc218\uc778 findHivemind()\ub97c \ub9cc\ub4e4 \ub54c \uc0ac\uc6a9\n",
      "- \uc774\ub354\ub137, IP, TCP\uce35\uc744 \ucd94\ucd9c\ud560 \uac83\n",
      "- TCP\uce35\uc744 \ucd94\ucd9c\ud55c \ud6c4\uc5d0 \ud2b9\uc815 \uc18c\uc2a4\uc640 \ubaa9\uc801\uc9c0 \ud3ec\ud2b8\ub97c \uac80\uc0ac\n",
      "- \ub9cc\uc57d !lazor \ub77c\ub294 \uba85\ub839\uc5b4\uc640 \ud568\uaed8 \ubaa9\uc801\uc9c0\uc758 \ud3ec\ud2b8 \ubc88\ud638\uac00 6667 \uc774\uba74 \uacf5\uaca9 \uba85\ub839\uc744 \ub0b4\ub9ac\ub294 \uba64\ubc84\ub97c \uc2dd\ubcc4\ud560 \uc218 \uc788\uc74c\n",
      "- \ub9cc\uc57d !lazor \ub77c\ub294 \uba85\ub839\uc5b4\uac00 \uc18c\uc2a4 \ud3ec\ud2b8 6667\ubc88\uc5d0\uc11c \ubcf4\uc774\uba74 \uacf5\uaca9 \uba85\ub839\uc744 \ub0b4\ub9ac\ub294 \uc11c\ubc84\ub97c \uc2dd\ubcc4\ud560 \uc218 \uc788\uc74c\n",
      "\n",
      "-----\n",
      "\n",
      "#### \uc18c\uc2a4, \ubaa9\uc801\uc9c0 \ud3ec\ud2b8 \uacb0\ub860\n",
      "\n",
      "- IRC \uc11c\ubc84\uac00 TCP \ud3ec\ud2b8 6667\ubc88\uc73c\ub85c \uc0ac\uc6a9\ub428\n",
      "- \uadf8\ub807\uae30 \ub54c\ubb38\uc5d0 \uc18c\uc2a4 \ud3ec\ud2b8\uac00 6667\ubc88\uc774 \uc544\ub2cc \ub2e4\ub978 \ubc88\ud638\uc5d0\uc11c \ubaa9\uc801\uc9c0 \ud3ec\ud2b8 6667\ubc88\uc73c\ub85c \uac00\ub294 \uac83\uc740 Client -> IRC \uc11c\ubc84\ub85c \uba85\ub839\uc744 \ub0b4\ub9ac\ub294 \uac83(!lazor\uac00 \ud3ec\ud568\ub420\uc2dc)\n",
      "- \uc18c\uc2a4\ud3ec\ud2b8 6667\ubc88\uc774 \ub2e4\ub978 \ubaa9\uc801\uc9c0 \ud3ec\ud2b8\ub85c \uba85\ub839\uc744 \uc804\ub2ec\ud568(\uc774\ub54c IRC \ud2b9\uc815 \ucc44\ub110\uc774 C&C \uc11c\ubc84 \uc5ed\ud560)\n",
      "\n",
      "-----"
     ]
    },
    {
     "cell_type": "code",
     "collapsed": false,
     "input": [
      "import dpkt\n",
      "import socket\n",
      "\n",
      "def findHivemind(pcap):\n",
      "    for (ts, buf) in pcap:\n",
      "        try:\n",
      "            eth = dpkt.ethernet.Ethernet(buf)\n",
      "            ip = eth.data\n",
      "            src = socket.inet_ntoa(ip.src)\n",
      "            dst = socket.inet_ntoa(ip.dst)\n",
      "            tcp = ip.data\n",
      "            dport = tcp.dport\n",
      "            sport = tcp.sport\n",
      "            if dport == 6667:\n",
      "                if '!lazor' in tcp.data.lower():\n",
      "                    print '[!] DDoS Hivemind issued by: ' + src\n",
      "                    print '[+] Target CMD: ' + tcp.data\n",
      "            if sport == 6667:\n",
      "                if '!lazor' in tcp.data.lower():\n",
      "                    print '[!] DDoS Hivemind issued to: ' + src\n",
      "                    print '[+] Target CMD: ' + tcp.data\n",
      "        except:\n",
      "            pass"
     ],
     "language": "python",
     "metadata": {},
     "outputs": [],
     "prompt_number": 230
    },
    {
     "cell_type": "code",
     "collapsed": false,
     "input": [
      "f = open('ch04/hivemind.pcap')\n",
      "pcap = dpkt.pcap.Reader(f)\n",
      "findHivemind(pcap)"
     ],
     "language": "python",
     "metadata": {},
     "outputs": [
      {
       "output_type": "stream",
       "stream": "stdout",
       "text": [
        "[!] DDoS Hivemind issued by: 192.168.95.1\n",
        "[+] Target CMD: TOPIC #loic :#LOIC \"!lazor targetip=66.211.169.66 message=test_test port=80 method=tcp wait=false\"\r\n",
        "\n",
        "[!] DDoS Hivemind issued to: 192.168.95.144\n",
        "[+] Target CMD: :cypher!cypher@192.168.95.1 TOPIC #loic :#LOIC \"!lazor targetip=66.211.169.66 message=test_test port=80 method=tcp wait=false\"\r\n",
        "\n"
       ]
      }
     ],
     "prompt_number": 232
    },
    {
     "cell_type": "markdown",
     "metadata": {},
     "source": [
      "- dport == 6667: \uc18c\uc2a4 \ud3ec\ud2b8\ub294 1024 ~ 65535, \ubaa9\uc801\uc9c0 \ud3ec\ud2b8\ub294 6667 \uc774\ubbc0\ub85c \uc18c\uc2a4 ip\uac00 \uba85\ub839\uc744 \ub0b4\ub9ac\ub294 \uc11c\ubc84\ub77c\ub294 \uac83\uc744 \uc54c \uc218 \uc788\ub2e4. \ubaa9\uc801\uc9c0 \ud3ec\ud2b8\uac00 6667 \uc73c\ub85c listen \ud558\ubbc0\ub85c.\n",
      "- sport == 6667: \uc18c\uc2a4 \ud3ec\ud2b8\ub294 6667, \ubaa9\uc801\uc9c0 \ud3ec\ud2b8\ub294 1024 ~ 65535 \uc774\ubbc0\ub85c \uc18c\uc2a4 ip\ub294 \uba85\ub839\uc744 \ubc1b\ub294 \uc11c\ubc84\ub77c\ub294 \uac83\uc744 \uc54c \uc218 \uc788\ub2e4.\n",
      "\n",
      "<img src=\"files/images/pcap_hive1.png\" />\n",
      "<img src=\"files/images/pcap_hive2.png\" />"
     ]
    },
    {
     "cell_type": "markdown",
     "metadata": {},
     "source": [
      "### \uc9c4\ud589 \uc911\uc778 DDoS \uacf5\uaca9 \uc2dd\ubcc4\ud558\uae30\n",
      "\n",
      "- LOIC\ub97c \ub2e4\uc6b4\ub85c\ub4dc\ud558\uace0 HIVE \uba85\ub839\uc5b4\ub97c \ub0b4\ub9b0 \uc11c\ubc84\ub97c \ucc3e\ub294 \ud568\uc218 \uc644\uc131\n",
      "- \uc9c4\ud589\uc911\uc778 \uacf5\uaca9\uc744 \uc2dd\ubcc4\ud558\ub294 \uac83\n",
      "- \uc0ac\uc6a9\uc790\uac00 LOIC \uacf5\uaca9\uc744 \uc2dc\uc791\ud558\uba74 \ucef4\ud4e8\ud130\uc5d0\uc11c \uc5c4\uccad\ub09c \uc591\uc758 TCP \ud328\ud0b7\uc744 \uacf5\uaca9\ub300\uc0c1\uc73c\ub85c \uc804\uc1a1\n",
      "- \uc774\ub4e4 \ud328\ud0b7\uc740 HIVE\uc5d0 \uc788\ub294 \ub2e4\ub978 \ud328\ud0b7\ub4e4\uacfc \ud798\uc744 \ud569\uccd0 \uacb0\uad6d \uacf5\uaca9\ub300\uc0c1\uc758 \uc790\uc6d0\uc744 \ubaa8\ub450 \uace0\uac08\uc2dc\ucf1c \ubc84\ub9bc\n",
      "- tcpdump \uc138\uc158\uc744 \uc2dc\uc791\ud558\uba74 \ub9e4 0.00005\ucd08\ub9c8\ub2e4 \uc9e7\uc740(\uae38\uc774 12) TCP \ud328\ud0b7\uc744 \uc5ec\ub7ec \uac1c \uc804\uc1a1\ud558\ub294 \uac83\uc744 \ubcfc \uc218 \uc788\uc74c\n",
      "- \uc774 \ud589\ub3d9\uc740 \uacf5\uaca9\uc774 \uc885\ub8cc\ub420 \ub54c\uae4c\uc9c0 \uc9c0\uc18d\ub428\n",
      "- \uc5ec\uae30\uc11c \uc8fc\ubaa9\ud560 \uc810\uc740 \uacf5\uaca9\ub300\uc0c1\uc774 \ubaa8\ub4e0 \ud328\ud0b7\uc744 \ucc98\ub9ac\ud558\uc9c0 \ubabb\ud558\uace0, 5\uac1c\uc758 \ud328\ud0b7 \uc911 \ud558\ub098 \uc815\ub3c4\ub9cc \ucc98\ub9ac\ud55c\ub2e4\ub294 \uac83"
     ]
    },
    {
     "cell_type": "markdown",
     "metadata": {},
     "source": [
      "- \ud604\uc7ac \uc9c4\ud589\uc911\uc778 DDoS \uacf5\uaca9\uc744 \uc2dd\ubcc4\ud558\ub294 \ud568\uc218 \ub9cc\ub4e4\uae30\n",
      "- \uacf5\uaca9\uc744 \ud0d0\uc9c0\ud558\uae30 \uc704\ud574\uc11c \ud328\ud0b7\uc758 \uc784\uacc4\uce58\ub97c \uc124\uc815\ud560 \uac83\n",
      "- \ub9cc\uc57d \ud2b9\uc815 \uc8fc\uc18c\ub97c \uc0ac\uc6a9\ud558\uace0 \uc788\ub294 \uc0ac\uc6a9\uc790\ub85c\ubd80\ud130 \uc774 \ud328\ud0b7\uc758 \uc22b\uc790\uac00 \ub118\uc73c\uba74 \uacf5\uaca9\uc744 \uc5fc\ub450\uc5d0 \ub450\uace0 \uc880 \ub354 \uc870\uc0ac\ud574\uc57c \ud55c\ub2e4\ub294 \uac83\uc744 \uc758\ubbf8\n",
      "- \ubb3c\ub860 \uc774 \uc218\uce58\ub97c \ub118\uc5c8\ub2e4\uace0 \ud574\uc11c \uc0ac\uc6a9\uc790\uac00 \uacf5\uaca9\uc744 \ud558\uace0 \uc788\ub2e4\uace0 100% \ub2e8\uc815\uc9c0\uc744 \uc218\ub294 \uc5c6\uc74c\n",
      "- \ud558\uc9c0\ub9cc \uc774 \uc99d\uac70\uc640 \ub354\ubd88\uc5b4, \ucd94\uac00\uc801\uc73c\ub85c \uc0ac\uc6a9\uc790\uac00 LOIC\ub97c \ub2e4\uc6b4\ub85c\ub4dc\ud588\uace0 HIVE \uba85\ub839\uc5b4\ub97c \uc218\uc6a9\ud55c \ud6c4\uc5d0 \uc2e4\uc81c \uacf5\uaca9\uc774 \uc788\uc5c8\ub2e4\uba74 \uc5b4\ub098\ub2c8\uba38\uc2a4\uac00 \uc8fc\ub3c4\ud558\ub294 DDoS \uacf5\uaca9\uc5d0 \uc0ac\uc6a9\uc790\uac00 \ucc38\uc5ec\ud588\ub2e4\ub294 \ucda9\ubd84\ud55c \uc99d\uac70\uac00 \ub428"
     ]
    },
    {
     "cell_type": "code",
     "collapsed": false,
     "input": [
      "import dpkt\n",
      "import socket\n",
      "THRESH = 10000\n",
      "\n",
      "def findAttack(pcap):\n",
      "    pktCount = {}\n",
      "    for (ts, buf) in pcap:\n",
      "        try:\n",
      "            eth = dpkt.ethernet.Ethernet(buf)\n",
      "            ip = eth.data\n",
      "            src = socket.inet_ntoa(ip.src)\n",
      "            dst = socket.inet_ntoa(ip.dst)\n",
      "            tcp = ip.data\n",
      "            dport = tcp.dport\n",
      "            if dport == 80:\n",
      "                stream = src + ':' + dst\n",
      "                if pktCount.has_key(stream):\n",
      "                    pktCount[stream] = pktCount[stream] + 1\n",
      "                else:\n",
      "                    pktCount[stream] = 1\n",
      "        except:\n",
      "            pass\n",
      "    \n",
      "    for stream in pktCount:\n",
      "        pktsSent = pktCount[stream]\n",
      "        if pktsSent > THRESH:\n",
      "            src = stream.split(':')[0]\n",
      "            dst = stream.split(':')[1]\n",
      "            print '[+] ' + src + ' attacked ' + dst + ' with ' \\\n",
      "            + str(pktsSent) + ' pkts.'\n",
      "            \n",
      "pcapFile = 'ch04/attack.pcap'\n",
      "f = open(pcapFile)\n",
      "pcap = dpkt.pcap.Reader(f)\n",
      "findAttack(pcap)"
     ],
     "language": "python",
     "metadata": {},
     "outputs": [
      {
       "output_type": "stream",
       "stream": "stdout",
       "text": [
        "[+] 192.168.95.130 attacked 192.168.95.144 with 16105 pkts.\n"
       ]
      }
     ],
     "prompt_number": 244
    },
    {
     "cell_type": "markdown",
     "metadata": {},
     "source": [
      "- \ucf54\ub4dc\ub4e4\uc744 \ubaa8\ub450 \uc870\ud569\ud558\uace0 \uc635\uc158 \ucc98\ub9ac \ucf54\ub4dc\ub97c \ub354\ud558\uba74 \uc2a4\ud06c\ub9bd\ud2b8\ub294 \uc774\uc81c \ub2e4\uc6b4\ub85c\ub4dc\ub97c \ud0d0\uc9c0\ud558\uace0 HIVE \uba85\ub839\uc5b4\ub97c \uc778\uc9c0\ud558\uba70 \uacf5\uaca9\uc744 \ud0d0\uc9c0"
     ]
    },
    {
     "cell_type": "markdown",
     "metadata": {},
     "source": [
      "-----\n",
      "#### pktCount.has_key(stream) vs pktCount[stream]\n",
      "\n",
      "- has_key\ub294 if \ubb38\uc5d0\uc11c \uc0ac\uc6a9\ub418\uae30 \ub54c\ubb38\uc5d0 bool \uac12\uc744 \ub9ac\ud134\ubc1b\uc544\uc634. \uadf8\ub798\uc11c True, False\uc5d0 \ub300\uc751 \uac00\ub2a5\ud568\n",
      "- \uadf8\uc5d0 \ubc18\ud574 pktCount[stream]\uc740 stream key\uac12\uc774 \uc5c6\uc73c\uba74 \ubc14\ub85c Error \ucd9c\ub825\uc774 \ub418\uae30 \ub54c\ubb38\uc5d0 \ud504\ub85c\uadf8\ub7a8\uc774 \uc885\ub8cc\uac00 \ub41c\ub2e4. \uc989, except \ucc98\ub9ac\ub97c \ud574\uc918\uc57c \ud55c\ub2e4\ub294 \uc774\uc57c\uae30. \n",
      "- \uc7a5\u2219\ub2e8\uc810\uc774 \uc788\uc73c\ub2c8 \uc0ac\uc6a9\uc790\uac00 \uc798 \ud310\ub2e8\n",
      "\n",
      "----"
     ]
    },
    {
     "cell_type": "code",
     "collapsed": false,
     "input": [
      "%%writefile ch04/findDDoS.py\n",
      "import dpkt\n",
      "import optparse\n",
      "import socket\n",
      "\n",
      "THRESH = 1000\n",
      "\n",
      "def findDownload(pcap):\n",
      "    for (ts, buf) in pcap:\n",
      "        try:\n",
      "            eth = dpkt.ethernet.Ethernet(buf)\n",
      "            ip = eth.data\n",
      "            src = socket.inet_ntoa(ip.src)\n",
      "            tcp = ip.data\n",
      "            http = dpkt.http.Request(tcp.data)\n",
      "            if http.method == 'GET':\n",
      "                uri = http.uri.lower()\n",
      "                if '.zip' in uri and 'loic' in uri:\n",
      "                    print '[!] ' + src + ' Downloaded LOIC.'\n",
      "                    print uri\n",
      "        except:\n",
      "            pass\n",
      "        \n",
      "def findHivemind(pcap):\n",
      "    for (ts, buf) in pcap:\n",
      "        try:\n",
      "            eth = dpkt.ethernet.Ethernet(buf)\n",
      "            ip = eth.data\n",
      "            src = socket.inet_ntoa(ip.src)\n",
      "            dst = socket.inet_ntoa(ip.dst)\n",
      "            tcp = ip.data\n",
      "            dport = tcp.dport\n",
      "            sport = tcp.sport\n",
      "            if dport == 6667:\n",
      "                if '!lazor' in tcp.data.lower():\n",
      "                    print '[!] DDoS Hivemind issued by: ' + src\n",
      "                    print '[+] Target CMD: ' + tcp.data\n",
      "            if sport == 6667:\n",
      "                if '!lazor' in tcp.data.lower():\n",
      "                    print '[!] DDoS Hivemind issued to: ' + src\n",
      "                    print '[+] Target CMD: ' + tcp.data\n",
      "        except:\n",
      "            pass\n",
      "        \n",
      "def findAttack(pcap):\n",
      "    pktCount = {}\n",
      "    for (ts, buf) in pcap:\n",
      "        try:\n",
      "            eth = dpkt.ethernet.Ethernet(buf)\n",
      "            ip = eth.data\n",
      "            src = socket.inet_ntoa(ip.src)\n",
      "            dst = socket.inet_ntoa(ip.dst)\n",
      "            tcp = ip.data\n",
      "            dport = tcp.dport\n",
      "            if dport == 80:\n",
      "                stream = src + ':' + dst\n",
      "                if pktCount.has_key(stream):\n",
      "                    pktCount[stream] = pktCount[stream] + 1\n",
      "                else:\n",
      "                    pktCount[stream] = 1\n",
      "        except:\n",
      "            pass\n",
      "        \n",
      "    for stream in pktCount:\n",
      "        pktsSent = pktCount[stream]\n",
      "        if pktsSent > THRESH:\n",
      "            src = stream.split(':')[0]\n",
      "            dst = stream.split(':')[1]\n",
      "            print '[+] ' + src + ' attacked ' + dst + ' with '\\\n",
      "            + str(pktsSent) + ' pkts.'\n",
      "            \n",
      "def main():\n",
      "    parser = optparse.OptionParser('usage %prog ' +\\\n",
      "                                   '-p <pcap file> -t <thresh>')\n",
      "    parser.add_option('-p', dest='pcapFile', type='string', \\\n",
      "                      help='specify pcap filename')\n",
      "    parser.add_option('-t', dest='thresh', type='int', \\\n",
      "                      help='specify threshold count')\n",
      "    (options, args) = parser.parse_args()\n",
      "    if options.pcapFile == None:\n",
      "        print parser.usage\n",
      "        exit(0)\n",
      "    if options.thresh != None:\n",
      "        THRESH = options.thresh\n",
      "    pcapFile = options.pcapFile\n",
      "    f = open(pcapFile)\n",
      "    pcap = dpkt.pcap.Reader(f)\n",
      "    findDownload(pcap)\n",
      "    findHivemind(pcap)\n",
      "    findAttack(pcap)\n",
      "    \n",
      "if __name__ == '__main__':\n",
      "    main()"
     ],
     "language": "python",
     "metadata": {},
     "outputs": [
      {
       "output_type": "stream",
       "stream": "stdout",
       "text": [
        "Overwriting ch04/findDDoS.py\n"
       ]
      }
     ],
     "prompt_number": 247
    },
    {
     "cell_type": "code",
     "collapsed": false,
     "input": [
      "!python ch04/findDDoS.py -p ch04/download.pcap"
     ],
     "language": "python",
     "metadata": {},
     "outputs": [
      {
       "output_type": "stream",
       "stream": "stdout",
       "text": [
        "[!] 192.168.95.172 Downloaded LOIC.\r\n",
        "/project/loic/loic/loic-1.0.7/loic-1.0.7.42-binary.zip\r\n"
       ]
      }
     ],
     "prompt_number": 248
    },
    {
     "cell_type": "code",
     "collapsed": false,
     "input": [
      "!python ch04/findDDoS.py -p ch04/hivemind.pcap"
     ],
     "language": "python",
     "metadata": {},
     "outputs": [
      {
       "output_type": "stream",
       "stream": "stdout",
       "text": [
        "[!] DDoS Hivemind issued by: 192.168.95.1\r\n",
        "[+] Target CMD: TOPIC #loic :#LOIC \"!lazor targetip=66.211.169.66 message=test_test port=80 method=tcp wait=false\"\r",
        "\r\n",
        "\r\n",
        "[!] DDoS Hivemind issued to: 192.168.95.144\r\n",
        "[+] Target CMD: :cypher!cypher@192.168.95.1 TOPIC #loic :#LOIC \"!lazor targetip=66.211.169.66 message=test_test port=80 method=tcp wait=false\"\r",
        "\r\n",
        "\r\n"
       ]
      }
     ],
     "prompt_number": 249
    },
    {
     "cell_type": "code",
     "collapsed": false,
     "input": [
      "!python ch04/findDDoS.py -p ch04/attack.pcap"
     ],
     "language": "python",
     "metadata": {},
     "outputs": [
      {
       "output_type": "stream",
       "stream": "stdout",
       "text": [
        "[+] 192.168.95.130 attacked 192.168.95.144 with 16105 pkts.\r\n"
       ]
      }
     ],
     "prompt_number": 250
    },
    {
     "cell_type": "markdown",
     "metadata": {},
     "source": [
      "## \ubb34\uc5b4\uac00 \ubbf8 \uad6d\ubc29\ubd80\uc758 \ub51c\ub808\ub9c8\ub97c \ud574\uacb0\ud588\ub358 \ubc29\ubc95\n",
      "\n",
      "- 1999\ub144\ub9d0 \ubbf8 \uad6d\ubc29\ubd80\ub294 \uc2ec\uac01\ud55c \ucef4\ud4e8\ud130 \ub124\ud2b8\uc6cc\ud06c \ubb38\uc81c\uc5d0 \uc9c1\uba74\n",
      "- \uc5ec\ub7ec \uc815\uad50\ud55c \uacf5\uaca9\uc744 \ubc1b\uace0 \uc788\ub2e4\uace0 \ubc1c\ud45c(CIO Institute bulletin on computer security, 1999)\n",
      "- \uc0c8\ub85c \ubc1c\ud45c\ub41c Nmap\uc73c\ub85c \uc778\ud574 \uac70\uc758 \ubaa8\ub4e0 \uc0ac\ub78c\uc774 \ub124\ud2b8\uc6cc\ud06c \uc11c\ube44\uc2a4\uc640 \ucde8\uc57d\uc810\uc744 \uc2a4\uce90\ub2dd \uac00\ub2a5\n",
      "- \uc77c\ubd80 \uacf5\uaca9\uc790\uac00 Nmap\uc744 \uc0ac\uc6a9\ud558\uc5ec \uad6d\ubc29\ubd80\uc758 \ub300\uaddc\ubaa8 \ucef4\ud4e8\ud130 \ub124\ud2b8\uc6cc\ud06c\ub97c \uc2a4\uce94\ud558\uace0 \ucde8\uc57d\uc810\uc744 \ub9e4\ud551\ud558\ub294 \ub370 \uc0ac\uc6a9\ud560 \uac83 \uc5fc\ub824\n",
      "\n",
      "\n",
      "- Nmap \uc2a4\uce94\uc740 \uc0dd\uac01\ubcf4\ub2e4 \ud6e8\uc52c \ud0c0\ubc0e\ud558\uae30 \uc26c\uc6c0\n",
      "- \uacf5\uaca9\uc790\uc758 IP \uc8fc\uc18c\uc640 \uc2e4\uc81c \ubb3c\ub9ac\uc801 \uc8fc\uc18c\ub97c \ube44\uad50\ud558\uba74 \ub428. \ud558\uc9c0\ub9cc \uacf5\uaca9\uc790\ub4e4\uc740 Nmap\uc758 \uace0\uae09 \uae30\ub2a5 \uc0ac\uc6a9\n",
      "- \uacf5\uaca9\uc790\ub4e4\uc740 \ud2b9\uc815 \uc8fc\uc18c\uc5d0\uc11c \uc2a4\uce94\uc744 \uc804\uc1a1\ud558\ub294 \ub300\uc2e0 \uc138\uacc4 \uc5ec\ub7ec \uacf3\uc5d0\uc11c \ubc1c\uc0dd\ud558\ub294 \uac83\ucc98\ub7fc \ubcf4\uc774\ub294 decoy(\uc720\uc778) \uc2a4\uce94\ub3c4 \ud3ec\ud568(CIO, 1999)\n",
      "- \uc2dd\ubcc4 \uc5b4\ub824\uc6c0\n",
      "\n",
      "\n",
      "- \ubbf8\uad6d \ud14d\uc2a4\uc2a4 \uc8fc\uc758 \uc624\uc2a4\ud2f4\uc774\ub77c\ub294 \ub3c4\uc2dc\uc758 \ud55c 17\uc0b4 \uc9dc\ub9ac \uc18c\ub144\uc774 \ud574\ub2f5\uc744 \ucc3e\uc74c\n",
      "- \uba54\ud0c0\uc2a4\ud50c\ub85c\uc787 \uacf5\uaca9 \ud504\ub808\uc784\uc6cc\ud06c\uc758 \ucc3d\uc2dc\uc790 H.D \ubb34\uc5b4\ub2e4.\n",
      "- \ubb34\uc5b4\ub294 \ubbf8 \ud574\uad70\uc758 Shadow \ud504\ub85c\uc81d\ud2b8\uc758 Stephen Northcutt\uacfc \ub9cc\ub0a8\n",
      "- Nmap \uc2a4\uce94\uc73c\ub85c \uc804\uc1a1\ub418\ub294 \ubaa8\ub4e0 \ud328\ud0b7\uc5d0 **TTL \ud544\ub4dc** \uc0ac\uc6a9\ud560 \uac83 \uad8c\uace0(Verton, 2002)\n",
      "- IP \uc8fc\uc18c\uc758 TTL(time-to-live) \ud544\ub4dc\ub294 **\ud328\ud0b7\uc774 \ucd5c\uc885 \ubaa9\uc801\uc9c0\uc5d0 \ub3c4\ucc29\ud558\uae30 \uc804\uae4c\uc9c0** \uc5bc\ub9c8\ub098 \ub9ce\uc740 **\ud649(hop)**\uc744 \uc0ac\uc6a9\ud560 \uc218 \uc788\ub294\uc9c0 \uacb0\uc815, \ud328\ud0b7\uc774 **\ub77c\uc6b0\ud305 \uae30\uae30\ub97c \uc9c0\ub0a0 \ub54c\ub9c8\ub2e4** \ub77c\uc6b0\ud130\ub294 **TTL \ud544\ub4dc\uc758 \uac12\uc744 \ud558\ub098 \uac10\uc18c**\n",
      "- \ubb34\uc5b4\ub294 \uc774 \uc18d\uc131\uc744 \ud65c\uc6a9\ud558\uba74 **\uc2a4\uce90\ub2dd\uc758 \ucd9c\ucc98\ub97c \ud310\ub2e8**\ud560 \uc218 \uc788\ub2e4\ub294 \uac83\uc744 \uc54c\uace0 \uc788\uc5c8\uc74c\n",
      "- Nmap \uc2a4\uce90\ub2dd\uc73c\ub85c \ub85c\uadf8\uc5d0 \ub0a8\uc740 \uc18c\uc2a4 \uc8fc\uc18c\ub9c8\ub2e4 \ud558\ub098\uc758 ICMP \ud328\ud0b7\uc744 \ubcf4\ub0b4 **\uc18c\uc2a4 \uc8fc\uc18c**\uc640 **\uc2a4\uce90\ub2dd\uc774 \ub41c \ucef4\ud4e8\ud130 \uc0ac\uc774**\uc758 **\ud649\uc758 \uc22b\uc790 \ube44\uad50**\n",
      "- \uc774 \uc815\ubcf4\ub97c \ud65c\uc6a9\ud558\uc5ec \ub514\ucf54\uc774\uc640 \uc2e4\uc81c \uacf5\uaca9\uc790\ub97c \uad6c\ubd84\ud558\ub294\ub370 \uc0ac\uc6a9(\uac00\uae5d\uac8c \uc704\uce58\ud558\uace0 \uc788\uc9c0 \uc54a\ub294 \ud55c) \ub514\ucf54\uc774\uc758 TTL \uac12\uc740 \uc815\ud655\ud558\uc9c0 \uc54a\uace0 \uacf5\uaca9\uc790\ub9cc\uc774 \uc815\ud655\ud788 TTL\uc744 \uac00\uc9c0\uace0 \uc788\ub294 \uac83\n",
      "- \ubb34\uc5b4\ub294 \uadf8\uc758 \ud234\uc744 Nlog\ub77c\uace0 \uba85\uba85. \uadf8 \uc774\uc720\ub294 Nmap \uc2a4\uce90\ub2dd\uc758 \uc5ec\ub7ec \uc815\ubcf4\ub4e4\uc744 \ub85c\uae45\ud558\uc600\uae30 \ub54c\ubb38\n",
      "\n",
      "\n",
      "- \ud30c\uc774\uc36c\uc744 \uc0ac\uc6a9\ud574\uc11c \ubb34\uc5b4\uc758 \ubd84\uc11d \uae30\ubc95\uacfc Nlog \ud234\uc744 \uc7ac\ud604\ud560 \uac83\n",
      "- 10\ub144 \uc804\uc5d0 17\uc0b4 \uc18c\ub144\uc774 \ubc1c\uacac\ud55c \ubc29\ubc95\uc744 \ucda9\ubd84\ud788 \uc774\ud574\ud560 \uc218 \uc788\uc744 \uac83\n",
      "- \uacf5\uaca9\uc790\ub97c \ud0d0\uc9c0\ud558\ub294, \ub9e4\uc6b0 \ub2e8\uc21c\ud558\uc9c0\ub9cc \uc6b0\uc544\ud55c \ubc29\ubc95"
     ]
    },
    {
     "cell_type": "markdown",
     "metadata": {},
     "source": [
      "### TTL \ud544\ub4dc \uc774\ud574\ud558\uae30\n",
      "\n",
      "<img src=\"files/images/ttl1.jpg\" />\n",
      "<img src=\"files/images/ttl2.jpeg\" />\n",
      "\n",
      "- IP \ud328\ud0b7\uc758 TTL \ud544\ub4dc\n",
      "- TTL \ud544\ub4dc\ub294 8\ube44\ud2b8 \uac12. \ub530\ub77c\uc11c 0\ubd80\ud130 255\uae4c\uc9c0\uc758 \uac12\uc744 \uac00\uc9c0\uac8c \ub428\n",
      "- IP \ud328\ud0b7\uc744 \uc804\uc1a1\ud560 \ub54c \ucef4\ud4e8\ud130\ub294 TTL \ud544\ub4dc\ub97c \uc124\uc815\ud558\uc5ec \ud328\ud0b7\uc774 \ubaa9\uc801\uc9c0\uae4c\uc9c0 \uac08 \ub54c\uae4c\uc9c0 \ucd5c\ub300 \uba87 \ubc88\uc758 \ud649\uc744 \ud560 \uc218 \uc788\ub294\uc9c0 \uc124\uc815\n",
      "- \ud328\ud0b7\uc774 \uac70\uce58\ub294 \ubaa8\ub4e0 \ub77c\uc6b0\ud305 \uc7a5\ube44\uc5d0\uc11c\ub294 TTL\uac12\uc744 1\ub9cc\ud07c \uac10\uc18c\uc2dc\ud0b4\n",
      "- \ud544\ub4dc\uc758 \uac12\uc774 0\uc774 \ub418\uba74 \ub77c\uc6b0\ud130\ub294 \ubb34\ud55c \ub77c\uc6b0\ud305 loop\uc744 \ubc29\uc9c0\ud558\uae30 \uc704\ud574 \ud328\ud0b7\uc744 \ubc84\ub9ac\uac8c \ub428\n",
      "- \ub9cc\uc57d \uc800\uc790\uac00 8.8.8.8 \uc774\ub77c\ub294 \uc8fc\uc18c\uc5d0 TTL \uac12 64\ub97c \uac00\uc9c0\uace0 ping\uc744 \uc804\uc1a1\ud588\ub294\ub370 \ub3cc\uc544\uc628 \uac12\uc744 \ubcf4\ub2c8 TTL\uc758 \uac12\uc774 53\uc774\uc5c8\ub2e4\uba74 \ud574\ub2f9 \ud328\ud0b7\uc774 11\uac1c\uc758 \ub77c\uc6b0\ud305 \uae30\uae30\ub97c \uac70\uce5c \uac83\n",
      "\n",
      "\n",
      "### TTL \ucc38\uace0 \uc790\ub8cc\n",
      "\n",
      "- [Network Mapping Through A Firewall - Part 1](http://www.chrisbrenton.org/2009/08/network-mapping-through-a-firewall-part-1/)\n",
      "- [TTL Expiry Attack Identification and Mitigation](http://www.cisco.com/web/about/security/intelligence/ttl-expiry.html)\n",
      "- [Security Tip: Avoid Detection with nmap Port Scan Decoys](http://www.cyberciti.biz/tips/nmap-hide-ipaddress-with-decoy-ideal-scan.html)\n",
      "- [Firewall/IDS Evasion and Spoofing](http://nmap.org/book/man-bypass-firewalls-ids.html)\n",
      "\n",
      "#### didn't manipulate TTL field in IP Header.\n",
      "\n",
      "- \uc77c\ub2e8 \ub118\uc5b4\uac00\ubcf4\uc790.\n",
      "- \ub098\uc911\uc5d0 scapy\ub098 dpkt\ub85c ICMP Field \uc870\uc791\ud558\ub294\uac70 \uc54c\uc544\ub0b4\uace0 \ud655\uc778\ud574 \ubcf4\uc790.\n",
      "\n",
      "<img src=\"files/images/ping_ttl.png\" />"
     ]
    },
    {
     "cell_type": "code",
     "collapsed": false,
     "input": [
      "!ping -c 3 -m 128 8.8.8.8 "
     ],
     "language": "python",
     "metadata": {},
     "outputs": [
      {
       "output_type": "stream",
       "stream": "stdout",
       "text": [
        "PING 8.8.8.8 (8.8.8.8): 56 data bytes\r\n"
       ]
      },
      {
       "output_type": "stream",
       "stream": "stdout",
       "text": [
        "64 bytes from 8.8.8.8: icmp_seq=0 ttl=44 time=78.803 ms\r\n"
       ]
      },
      {
       "output_type": "stream",
       "stream": "stdout",
       "text": [
        "64 bytes from 8.8.8.8: icmp_seq=1 ttl=44 time=78.808 ms\r\n"
       ]
      },
      {
       "output_type": "stream",
       "stream": "stdout",
       "text": [
        "64 bytes from 8.8.8.8: icmp_seq=2 ttl=44 time=76.488 ms\r\n",
        "\r\n",
        "--- 8.8.8.8 ping statistics ---\r\n",
        "3 packets transmitted, 3 packets received, 0.0% packet loss\r\n",
        "round-trip min/avg/max/stddev = 76.488/78.033/78.808/1.092 ms\r\n"
       ]
      }
     ],
     "prompt_number": 252
    },
    {
     "cell_type": "markdown",
     "metadata": {},
     "source": [
      "- Nmap 1.60 \uc5d0\uc11c \ub514\ucf54\uc774 \uc2a4\uce94\uc744 \ucd5c\ucd08\ub85c \uc18c\uac1c\ud588\uc744 \ub54c\uc5d0\ub294 TTL\uc774 \ub79c\ub364\ud654\ub418\uc9c0\ub3c4 \uc54a\uc558\uc73c\uba70 \ub514\ucf54\uc774 \ud328\ud0b7\uc758 TTL\uc744 \uc815\ud655\ud788 \uacc4\uc0b0\ud558\uc9c0\ub3c4 \uc54a\uc74c\n",
      "- TTL\uc744 \uc815\ud655\ud788 \uacc4\uc0b0\ud558\uc9c0 \uc54a\uc558\uae30 \ub54c\ubb38\uc5d0 \ubb34\uc5b4\ub294 \uc774\ub7ec\ud55c \ud328\ud0b7\uc744 \uc2dd\ubcc4\ud560 \uc218 \uc788\uc5c8\ub358 \uac83\n",
      "- \ubb3c\ub860 Nmap\uc758 \uc18c\uc2a4\ucf54\ub4dc\ub294 1999\ub144\ubcf4\ub2e4 \ud6e8\uc52c \uac70\ub300\ud574\uc84c\uc73c\uba70, \uc624\ub298\ub0a0\uc5d0\ub3c4 \ubc1c\uc804\n",
      "- \ud604\uc7ac \ucf54\ub4dc \uae30\ubc18\uc5d0\uc11c Nmap\uc740 \ub2e4\uc74c \uc54c\uace0\ub9ac\uc998\uc73c\ub85c TTL\uc744 \ub79c\ub364\ud654\ud55c\ub2e4.\n",
      "- \uc774 \uc54c\uace0\ub9ac\uc998\uc740 \ub79c\ub364 TTL\uc744 \uc0dd\uc131\ud558\uba70, \ud3c9\uade0\uc801\uc73c\ub85c\ub294 48\n",
      "- \uc0ac\uc6a9\uc790\ub294 \ub610\ud55c \ud50c\ub798\uadf8\ub97c \uc124\uc815\ud558\uc5ec \uace0\uc815\ub41c TTL \uc124\uc815 \uac00\ub2a5"
     ]
    },
    {
     "cell_type": "markdown",
     "metadata": {},
     "source": [
      "    /* Time to live */\n",
      "    if (ttl == -1) {\n",
      "        myttl = (get_random_uint() % 23) + 37;\n",
      "    } else {\n",
      "        myttl = ttl;\n",
      "    }"
     ]
    },
    {
     "cell_type": "markdown",
     "metadata": {},
     "source": [
      "- Nmap \ub514\ucf54\uc774 \uc2a4\uce94\uc744 \uc2e4\ud589\ud558\uae30 \uc704\ud574\uc11c -D \ud50c\ub798\uadf8 \uc124\uc815, \uadf8 \ub4a4\uc5d0 IP\uc8fc\uc18c\ub97c \uc785\ub825\n",
      "- \uc774 \uacbd\uc6b0 8.8.8.8\uc744 \ub514\ucf54\uc774 \uc8fc\uc18c\ub85c \uc0ac\uc6a9\ud560 \uac83\n",
      "- \\-ttl\uc744 \uc0ac\uc6a9\ud558\uc5ec TTL\uc744 13\uc73c\ub85c \ud558\ub4dc\ucf54\ub529 \ud560 \uac83\n",
      "- \ub530\ub77c\uc11c \uc6b0\ub9ac\uc758 \uba85\ub839\uc5b4\ub294 192.168.1.7\uc744 8.8.8.8 \uc774\ub77c\ub294 \ub514\ucf54\uc774 \uc8fc\uc18c\ub85c \uadf8\ub9ac\uace0 \ud558\ub4dc \ucf54\ub529\ub41c TTL 13\uc73c\ub85c \uc2a4\uce90\ub2dd\ud560 \uac83"
     ]
    },
    {
     "cell_type": "code",
     "collapsed": false,
     "input": [
      "!nmap 192.168.0.94 -D 8.8.8.8 -ttl 13"
     ],
     "language": "python",
     "metadata": {},
     "outputs": [
      {
       "output_type": "stream",
       "stream": "stdout",
       "text": [
        "\r\n",
        "Starting Nmap 6.40-2 ( http://nmap.org ) at 2014-07-31 03:49 KST\r\n"
       ]
      },
      {
       "output_type": "stream",
       "stream": "stdout",
       "text": [
        "Note: Host seems down. If it is really up, but blocking our ping probes, try -Pn\r\n",
        "Nmap done: 1 IP address (0 hosts up) scanned in 0.49 seconds\r\n"
       ]
      }
     ],
     "prompt_number": 81
    },
    {
     "cell_type": "markdown",
     "metadata": {},
     "source": [
      "#### \"Host seems down. If it is really up, but blocking our ping probes, try -Pn\n",
      "\n",
      "- [Host seems down](http://nmap.org/bennieston-tutorial/)\n",
      "- backtrack\uc73c\ub85c decoy \ud328\ud0b7\uc744 \ubcf4\ub0b4\ub824\uace0 \ud5c0\ub354\ub2c8 host down \ub410\ub2e4\uace0 \ub728\uae38\ub798 backtrack\uc5d0\uc11c real\ub85c decoy \ud328\ud0b7 \ubcf4\ub0b4\ub2c8 \ud574\uacb0 \ub428\n",
      "- \uadfc\ub370 decoy \ud328\ud0b7\uc774 \uc81c\ub300\ub85c Capture\uac00 \uc548\ub418\ub124"
     ]
    },
    {
     "cell_type": "markdown",
     "metadata": {},
     "source": [
      "### Scapy\ub85c TTL \ud544\ub4dc \ucc98\ub9ac\ud558\uae30\n",
      "\n",
      "- \uc18c\uc2a4 IP \uc8fc\uc18c\uc640 \uc804\uc1a1 \ubc1b\uc740 \ud328\ud0b7\uc758 TTL\uc744 \ucd9c\ub825\ud558\ub294 \uc2a4\ud06c\ub9bd\ud2b8\ubd80\ud130 \uc791\uc131\n",
      "- \uc774\uc7a5\uc758 \ub9c8\uc9c0\ub9c9\uae4c\uc9c0\ub294 Scapy\ub97c \uc0ac\uc6a9\ud560 \uac83\n",
      "- Dpkt\ub97c \uc0ac\uc6a9\ud574\ub3c4 \uc27d\uac8c \ub3d9\uc77c\ud55c \ucf54\ub4dc\ub97c \uc791\uc131 \uac00\ub2a5\n",
      "- \uc5ec\uae30\uc11c\ub294 \uac01 \ud328\ud0b7\uc744 \uc2a4\ub2c8\ud551\ud558\uace0 testTTL() \ud568\uc218\ub85c \uc804\ub2ec\ud558\ub294 \ud568\uc218\ub97c \ub9cc\ub4e4 \uac83\n",
      "- testTTL() \ud568\uc218\ub294 IP\uce35\uc758 \ud328\ud0b7\uc744 \uac80\uc0ac\ud558\uace0, IP \uc18c\uc2a4 \uc8fc\uc18c\uc640 TTL \ud544\ub4dc\ub97c \ucd94\ucd9c\ud558\uc5ec \uc774\ub4e4 \ud544\ub4dc\ub97c \ud654\uba74\uc5d0 \ucd9c\ub825\n",
      "\n",
      "### Scapy install in mac\n",
      "\n",
      "- [Download and Installation](http://www.secdev.org/projects/scapy/doc/installation.html)\n",
      "- \uba87\uba87 \ub9c1\ud06c\ub4e4\uc774 \uc8fd\uc5b4 \uc788\ub2e4.\n"
     ]
    },
    {
     "cell_type": "code",
     "collapsed": false,
     "input": [
      "import scapy"
     ],
     "language": "python",
     "metadata": {},
     "outputs": [],
     "prompt_number": 257
    },
    {
     "cell_type": "code",
     "collapsed": false,
     "input": [
      "from scapy.all import *"
     ],
     "language": "python",
     "metadata": {},
     "outputs": [
      {
       "output_type": "stream",
       "stream": "stderr",
       "text": [
        "WARNING: No route found for IPv6 destination :: (no default route?)\n"
       ]
      },
      {
       "output_type": "stream",
       "stream": "stderr",
       "text": [
        "WARNING:scapy.runtime:No route found for IPv6 destination :: (no default route?)\n"
       ]
      }
     ],
     "prompt_number": 1
    },
    {
     "cell_type": "markdown",
     "metadata": {},
     "source": [
      "#### Scapy encounted error situation in mac\n",
      "\n",
      "- [Howto: Install scapy in Mac OSX](http://www.r00tsec.com/2013/11/howto-install-scapy-in-mac-osx.html): libdnet \uc124\uce58\ud574\uc11c scapy\ub294 \uc81c\ub300\ub85c \ub3d9\uc791\ud558\uac8c \ub410\uc74c\n",
      "- [Installing Scapy for Mac OS X](http://juhalaaksonen.com/blog/2013/12/11/installing-scapy-for-mac-os-x/)\n",
      "\n",
      "- [libpcap](http://www.tcpdump.org/#documentation)\n",
      "- [pcap](https://github.com/CoreSecurity/pcapy)\n",
      "- [pcapy2](http://corelabs.coresecurity.com/index.php?module=Wiki&action=view&type=tool&name=Pcapy)\n",
      "- [libdnet](http://libdnet.sourceforge.net/)\n",
      "\n",
      "\n",
      "- pypcap: \uc774\uac8c \uc548 \uae54\ub824\uc11c \uc5c4\uccad \uc0bd\uc9c8\ud588\ub124..\n",
      "> sudo pip install pypcap"
     ]
    },
    {
     "cell_type": "code",
     "collapsed": false,
     "input": [
      "from scapy.all import *\n",
      "\n",
      "def testTTL(pkt):\n",
      "    try:\n",
      "        if pkt.haslayer(IP):\n",
      "            ipsrc = pkt.getlayer(IP).src\n",
      "            ttl = str(pkt.ttl)\n",
      "            print '[+] Pkt Received From: ' + ipsrc + ' with TTL: ' + ttl\n",
      "    except:\n",
      "        pass\n",
      "    \n",
      "def main():\n",
      "    sniff(prn=testTTL, store=0)\n",
      "    \n",
      "if __name__ == '__main__':\n",
      "    main()"
     ],
     "language": "python",
     "metadata": {},
     "outputs": [
      {
       "output_type": "stream",
       "stream": "stdout",
       "text": [
        "[+] Pkt Received From: 192.168.0.164 with TTL: 64\n",
        "[+] Pkt Received From: 192.168.0.164 with TTL: 64"
       ]
      },
      {
       "output_type": "stream",
       "stream": "stdout",
       "text": [
        "\n",
        "[+] Pkt Received From: 173.231.146.227 with TTL: 107\n",
        "[+] Pkt Received From: 173.231.146.227 with TTL: 107"
       ]
      },
      {
       "output_type": "stream",
       "stream": "stdout",
       "text": [
        "\n",
        "[+] Pkt Received From: 192.168.0.164 with TTL: 64\n",
        "[+] Pkt Received From: 192.168.0.164 with TTL: 255\n",
        "[+] Pkt Received From: 173.194.127.182 with TTL: 50"
       ]
      },
      {
       "output_type": "stream",
       "stream": "stdout",
       "text": [
        "\n",
        "[+] Pkt Received From: 192.168.0.164 with TTL: 64\n",
        "[+] Pkt Received From: 8.8.8.8 with TTL: 43\n",
        "[+] Pkt Received From: 173.194.72.189 with TTL: 44"
       ]
      },
      {
       "output_type": "stream",
       "stream": "stdout",
       "text": [
        "\n",
        "[+] Pkt Received From: 192.168.0.164 with TTL: 64\n",
        "[+] Pkt Received From: 192.168.0.164 with TTL: 64"
       ]
      },
      {
       "output_type": "stream",
       "stream": "stdout",
       "text": [
        "\n",
        "[+] Pkt Received From: 173.194.127.181 with TTL: 50"
       ]
      },
      {
       "output_type": "stream",
       "stream": "stdout",
       "text": [
        "\n",
        "[+] Pkt Received From: 192.168.0.164 with TTL: 64\n",
        "[+] Pkt Received From: 192.168.0.164 with TTL: 64\n",
        "[+] Pkt Received From: 173.194.127.181 with TTL: 51"
       ]
      },
      {
       "output_type": "stream",
       "stream": "stdout",
       "text": [
        "\n",
        "[+] Pkt Received From: 173.194.127.181 with TTL: 51\n",
        "[+] Pkt Received From: 173.194.127.181 with TTL: 51\n",
        "[+] Pkt Received From: 192.168.0.164 with TTL: 64\n",
        "[+] Pkt Received From: 173.194.127.181 with TTL: 51\n",
        "[+] Pkt Received From: 192.168.0.164 with TTL: 64\n",
        "[+] Pkt Received From: 192.168.0.164 with TTL: 64\n",
        "[+] Pkt Received From: 192.168.0.164 with TTL: 64"
       ]
      },
      {
       "output_type": "stream",
       "stream": "stdout",
       "text": [
        "\n",
        "[+] Pkt Received From: 192.168.0.164 with TTL: 64\n",
        "[+] Pkt Received From: 173.194.127.181 with TTL: 51\n",
        "[+] Pkt Received From: 173.194.127.181 with TTL: 51"
       ]
      },
      {
       "output_type": "stream",
       "stream": "stdout",
       "text": [
        "\n",
        "[+] Pkt Received From: 192.168.0.164 with TTL: 64\n",
        "[+] Pkt Received From: 192.168.0.164 with TTL: 64\n",
        "[+] Pkt Received From: 192.168.0.164 with TTL: 64\n",
        "[+] Pkt Received From: 192.168.0.164 with TTL: 64\n",
        "[+] Pkt Received From: 173.194.127.181 with TTL: 51\n",
        "[+] Pkt Received From: 173.194.127.181 with TTL: 51\n",
        "[+] Pkt Received From: 192.168.0.164 with TTL: 64"
       ]
      },
      {
       "output_type": "stream",
       "stream": "stdout",
       "text": [
        "\n",
        "[+] Pkt Received From: 192.168.0.164 with TTL: 64\n",
        "[+] Pkt Received From: 173.194.127.181 with TTL: 51"
       ]
      },
      {
       "output_type": "stream",
       "stream": "stdout",
       "text": [
        "\n",
        "[+] Pkt Received From: 173.194.127.181 with TTL: 51\n",
        "[+] Pkt Received From: 173.194.127.181 with TTL: 51\n",
        "[+] Pkt Received From: 192.168.0.164 with TTL: 64\n",
        "[+] Pkt Received From: 192.168.0.164 with TTL: 64\n",
        "[+] Pkt Received From: 173.194.127.181 with TTL: 51\n",
        "[+] Pkt Received From: 192.168.0.164 with TTL: 64"
       ]
      },
      {
       "output_type": "stream",
       "stream": "stdout",
       "text": [
        "\n",
        "[+] Pkt Received From: 192.168.0.164 with TTL: 64\n",
        "[+] Pkt Received From: 192.168.0.164 with TTL: 64"
       ]
      },
      {
       "output_type": "stream",
       "stream": "stdout",
       "text": [
        "\n",
        "[+] Pkt Received From: 173.231.146.227 with TTL: 107\n",
        "[+] Pkt Received From: 173.231.146.227 with TTL: 107"
       ]
      },
      {
       "output_type": "stream",
       "stream": "stdout",
       "text": [
        "\n",
        "[+] Pkt Received From: 192.168.0.164 with TTL: 64\n",
        "[+] Pkt Received From: 192.168.0.164 with TTL: 255\n",
        "[+] Pkt Received From: 8.8.8.8 with TTL: 44"
       ]
      },
      {
       "output_type": "stream",
       "stream": "stdout",
       "text": [
        "\n"
       ]
      }
     ],
     "prompt_number": 82
    },
    {
     "cell_type": "markdown",
     "metadata": {},
     "source": [
      "- \ucf54\ub4dc\ub97c \uc2e4\ud589\ud574\ubcf4\uba74 \ub9ce\uc740 \ud328\ud0b7\uc744 \uc11c\ub85c \ub2e4\ub978 \uc18c\uc2a4 \uc8fc\uc18c\uc640 \uc11c\ub85c \ub2e4\ub978 TTL\ub85c\ubd80\ud130 \ubc1b\uc740 \uac83\uc744 \uc54c \uc218 \uc788\uc74c\n",
      "- \uc774 \uacb0\uacfc\uc5d0\ub294 8.8.8.8 \uc8fc\uc18c\uc5d0\uc11c TTL 13\uc73c\ub85c \uc804\uc1a1\ud55c \ub514\ucf54\uc774 \uc2a4\uce94\ub3c4 \ud3ec\ud568\ub418\uc5b4 \uc788\uc74c\n",
      "- \uc774\ubbf8 \uc54c\uace0 \uc788\ub4ef\uc774 TTL\uc740 64-11, \uc989 53\uc774\uc5b4\uc57c \ud568\n",
      "- \uc5ec\uae30\uc11c \uc720\uc758\ud560 \uc810\uc740 \ub9ac\ub205\uc2a4/\uc720\ub2c9\uc2a4 \uacc4\uc5f4\uc758 \uc2dc\uc2a4\ud15c\uc740 \ubcf4\ud1b5 TTL\uc758 \ucd08\uae30\uac12\uc744 64\ub85c \uc124\uc815\ud558\uace0 \uc2dc\uc791\ud558\uc9c0\ub9cc, \uc708\ub3c4\uc6b0 \uae30\ubc18\uc758 \uc2dc\uc2a4\ud15c\ub4e4\uc740 128\ub85c \uc124\uc815\ud55c\ub2e4\ub294 \uac83\n",
      "- \uc2a4\ud06c\ub9bd\ud2b8\uc758 \ubaa9\uc801\uc0c1 \ub9ac\ub205\uc2a4 \ucef4\ud4e8\ud130\uc5d0\uc11c \uacf5\uaca9\ub300\uc0c1\uc744 \uc2a4\uce90\ub2dd\ud558\uace0 \uc788\ub2e4\uace0 \uac00\uc815\ud558\uace0 IP \ud328\ud0b7\uc744 \ubd84\uc11d\ud560 \uac83\n",
      "- \ubc1b\uc740 TTL\uc744 \uc2e4\uc81c TTL\uacfc \ube44\uad50\ud558\ub294 \ud568\uc218\ub97c \ub9cc\ub4e4\uc5b4 \ubcf4\uc790.\n",
      "\n",
      "\n",
      "- checkTTL() \ud568\uc218\ub294 IP \uc18c\uc2a4 \uc8fc\uc18c\uc640 TTL\uc744 \uc785\ub825 \ubc1b\uc544\uc11c \uc720\ud6a8\ud558\uc9c0 \uc54a\uc740 TTL\uc5d0 \ub300\ud55c \uba54\uc2dc\uc9c0\ub97c \ucd9c\ub825\n",
      "\n",
      "#### \ud568\uc218 \ub85c\uc9c1\n",
      "\n",
      "1. \uc870\uac74\ubb38\uc73c\ub85c \uc0ac\uc124 IP \uc8fc\uc18c\uc5d0\uc11c \uc624\ub294 \ud328\ud0b7 \uc81c\uac70\n",
      "  - 10.0.0.0 - 10.255.255.255\n",
      "  - 172.16.0.0 - 172.31.255.255\n",
      "  - 192.168.0.0 - 192.168.255.255\n",
      "2. \uc774\ub97c \uc704\ud574 IPy\ub77c\uc774\ube0c\ub7ec\ub9ac import\n",
      "3. \ud074\ub798\uc2a4 IP\uac00 Scapy \ud074\ub798\uc2a4 IP\uc640 \ucda9\ub3cc\ud558\ub294 \uac83\uc744 \ubc29\uc9c0\ud558\uae30 \uc704\ud574 IPTEST\ub77c\uace0 \ubd84\ub958\n",
      "4. IPTEST(ipsrc).iptype()\uac00 'PRIVATE'\uc744 \ubc18\ud658\ud558\uba74 checkTTL \ud568\uc218\uc5d0\uc11c \ubc18\ud658\ud558\uc5ec \ud328\ud0b7 \uac80\uc0ac\ub97c \ubb34\uc2dc\n",
      "\n",
      "\n",
      "- \ub3d9\uc77c\ud55c \uc18c\uc2a4 \uc8fc\uc18c\uc5d0\uc11c \uba87 \uac1c\uc758 \ud328\ud0b7\uc744 \uc804\uc1a1 \ubc1b\ub294\ub2e4. \uc5ec\uae30\uc11c\ub294 \uc18c\uc2a4 \uc8fc\uc18c\ub97c \ud55c \ubc88\ub9cc \ud655\uc778\ud560 \uac83\n",
      "- \ub9cc\uc57d \uc55e\uc5d0\uc11c \uc18c\uc2a4 \uc8fc\uc18c\ub97c \ubcf4\uc9c0 \ubabb\ud588\ub2e4\uba74 \uc18c\uc2a4\uc640 \ub3d9\uc77c\ud55c \uc8fc\uc18c\ub97c \ubaa9\uc801\uc9c0 \uc8fc\uc18c\ub85c \ud558\ub294 IP \ud328\ud0b7\uc744 \uc0dd\uc131\ud55c\ub2e4.\n",
      "- \ucd94\uac00\uc801\uc73c\ub85c, \ud328\ud0b7\uc744 ICMP \uc5d0\ucf54 \uc694\uccad\uc73c\ub85c \ub9cc\ub4e4\uc5b4\uc11c \ubaa9\uc801\uc9c0\uc5d0\uc11c \uc751\ub2f5\uc744 \ud558\ub3c4\ub85d \ud568\n",
      "- \ubaa9\uc801\uc9c0 \uc8fc\uc18c\uc5d0\uc11c \uc751\ub2f5\uc744 \ud558\uba74 TTL \uac12\uc744 \ub515\uc154\ub108\ub9ac\uc5d0 \uc800\uc7a5\ud558\uace0 IP \uc18c\uc2a4 \uc8fc\uc18c\ub85c \uc778\ub371\uc2a4\ud654 \ud568\n",
      "- \uc2e4\uc81c \ubc1b\uc740 TTL\uacfc \uc6d0\ubcf8 \ud328\ud0b7\uc5d0 \uc788\ub294 TTL\uc758 \uac12\uc758 \ucc28\uc774\ub97c \ube44\uad50\n",
      "- \ud328\ud0b7\uc740 \uc11c\ub85c \ub2e4\ub978 \uacbd\ub85c\ub97c \uc0ac\uc6a9\ud558\uc5ec \ubaa9\uc801\uc9c0\uc5d0 \ub3c4\ucc29\ud560 \uc218 \uc788\uae30 \ub54c\ubb38\uc5d0 TTL\uc774 \ub2e4\ub97c \uc218\ub3c4 \uc788\ub2e4.\n",
      "- \ud558\uc9c0\ub9cc \ud649\uc758 \uac12\uc774 5 \uc774\uc0c1\uc774\ub77c\uba74 TTL\uc774 \uc2a4\ud478\ud551 \ub418\uc5c8\ub2e4\uace0 \uc0dd\uac01\ud560 \uc218 \uc788\uc74c. \ub530\ub77c\uc11c \uc774 \uac12\uc744 \ud654\uba74\uc5d0 \ucd9c\ub825"
     ]
    },
    {
     "cell_type": "markdown",
     "metadata": {},
     "source": [
      "#### IPy install in mac\n",
      "\n",
      "> sudo pip install IPy"
     ]
    },
    {
     "cell_type": "code",
     "collapsed": false,
     "input": [
      "from scapy.all import *\n",
      "from IPy import IP as IPTEST\n",
      "ttlValues = {}\n",
      "THRESH = 5\n",
      "\n",
      "def checkTTL(ipsrc, ttl):\n",
      "    if IPTEST(ipsrc).iptype() == 'PRIVATE':\n",
      "        return\n",
      "    if not ttlValues[ipsrc]:\n",
      "        pkt = sr1(IP(dst=ipsrc) / ICMP(), retry=0, timeout=1, verbose=0)\n",
      "        ttlValues[ipsrc] = pkt.ttl\n",
      "    \n",
      "    if abs(int(ttl) - int(ttlValues[ipsrc])) > THRESH:\n",
      "        print '\\n[!] Detected Possible Spoofed Packet From: ' + ipsrc\n",
      "        print '[!] TTL: ' + ttl + ', Actual TTL: ' + str(ttlValues[ipsrc])"
     ],
     "language": "python",
     "metadata": {},
     "outputs": [],
     "prompt_number": 4
    },
    {
     "cell_type": "markdown",
     "metadata": {},
     "source": [
      "- \ub2e4\uc74c\uc5d0\ub294 \ub9ac\uc2a4\ub2dd\ud560 \uc8fc\uc18c\ub97c \uc704\ud55c \uc635\uc158\uc744 \ucc98\ub9ac\ud558\ub294 \ubd80\ubd84\uc744 \ucd94\uac00\n",
      "- \uc784\uacc4\uce58\ub97c \uc124\uc815\ud558\uae30 \uc704\ud55c \uc635\uc158\ub3c4 \ucd94\uac00\n",
      "- 50\uc904\ub3c4 \uc548\ub418\ub294 \ucf54\ub4dc\ub85c 10\ub144 \uc804\uc5d0 \ubbf8 \uad6d\ubc29\ubd80\uc758 \ub51c\ub808\ub9c8\ub97c \ud574\uacb0\ud558\uc600\ub358 \ubb34\uc5b4\uc758 \ucf54\ub4dc\uac00 \uc644\uc131"
     ]
    },
    {
     "cell_type": "markdown",
     "metadata": {},
     "source": [
      "-----\n",
      "#### None\n",
      "\n",
      "- None\ub294 \uaf2d is\ub97c \uc0ac\uc6a9\ud558\uc790\n",
      "- options.thresh != None: \uc774\ub807\uac8c \uc4f0\uc9c0\ub9d0\uc790. \ub3c5\ud574\ub9cc \uc5b4\ub835\uac8c \ub9cc\ub4e0\ub2e4.\n",
      "\n",
      "#### sr1\n",
      "\n",
      "- \ub0b4\ubd80 \ub124\ud2b8\uc6cc\ud06c\ub85c\ub294 \ud328\ud0b7\uc744 \ubcf4\ub0bc \uc218\uac00 \uc5c6\ub2e4. mac address\ub97c \ucc3e\uc744 \uc218 \uc5c6\ub2e4\uace0 \ud55c\ub2e4.\n",
      "- \uc678\ubd80 \ub124\ud2b8\uc6cc\ud06c\uc778 8.8.8.8 \ub85c\ub294 \uc815\uc0c1\uc801\uc73c\ub85c \ud328\ud0b7\uc744 \ubcf4\ub0b4\uace0 \ubc1b\ub294\ub2e4.\n",
      "\n",
      "-----"
     ]
    },
    {
     "cell_type": "code",
     "collapsed": false,
     "input": [
      "%%writefile ch04/spoofDetect.py\n",
      "import time\n",
      "import optparse\n",
      "from scapy.all import *\n",
      "from IPy import IP as IPTEST\n",
      "\n",
      "ttlValues = {}\n",
      "THRESH = 5\n",
      "\n",
      "def checkTTL(ipsrc, ttl):\n",
      "    if IPTEST(ipsrc).iptype() == 'PRIVATE':\n",
      "        return\n",
      "    if not ttlValues[ipsrc]:\n",
      "#         pkt = sr1(IP(dst=ipsrc) / ICMP(), retry=0, timeout=1, verbose=0)\n",
      "        pkt = sr1(IP(dst=ipsrc) / ICMP())\n",
      "#         print 'pkt.ttl ', pkt.ttl\n",
      "        ttlValues[ipsrc] = pkt.ttl\n",
      "    # ttl: original ttl\n",
      "    # ttlValues[ipsrc]: resend packet ttl\n",
      "    if abs(int(ttl) - int(ttlValues[ipsrc])) > THRESH:\n",
      "        print '\\n[!] Detected Possible Spoofed Packet From: ' + ipsrc\n",
      "        print '[!] TTL: ' + ttl + ', Actual TTL: ' + str(ttlValues[ipsrc])\n",
      "        \n",
      "def testTTL(pkt):\n",
      "    try:\n",
      "        if pkt.haslayer(IP):\n",
      "            ipsrc = pkt.getlayer(IP).src\n",
      "            # why str?? int is right.\n",
      "            ttl = str(pkt.ttl)\n",
      "            print '[+] Pkt Received From: ' + ipsrc + ' with TTL: ' + ttl\n",
      "            checkTTL(ipsrc, ttl)\n",
      "    except Exception, e:\n",
      "        print 'err', e\n",
      "    \n",
      "def main():\n",
      "    parser = optparse.OptionParser('usage %prog ' \\\n",
      "                                   + '-i <interface> -t <thresh>')\n",
      "    parser.add_option('-i', dest='iface', type='string',\n",
      "                      help='specify network interface')\n",
      "    parser.add_option('-t', dest='thresh', type='int',\n",
      "                      help='specify threshold count')\n",
      "    (options, args) = parser.parse_args()\n",
      "    if options.iface is None:\n",
      "        conf.iface = 'eth0'\n",
      "    else:\n",
      "        conf.iface = options.iface\n",
      "    if options.thresh:\n",
      "        THRESH = options.thresh\n",
      "    else:\n",
      "        THRESH = 5\n",
      "    sniff(prn=testTTL, store=0)\n",
      "    \n",
      "if __name__ == '__main__':\n",
      "    main()"
     ],
     "language": "python",
     "metadata": {},
     "outputs": [
      {
       "output_type": "stream",
       "stream": "stdout",
       "text": [
        "Overwriting ch04/spoofDetect.py\n"
       ]
      }
     ],
     "prompt_number": 67
    },
    {
     "cell_type": "code",
     "collapsed": false,
     "input": [
      "!python ch04/spoofDetect.py -i en0 -t 5"
     ],
     "language": "python",
     "metadata": {},
     "outputs": [
      {
       "output_type": "stream",
       "stream": "stdout",
       "text": [
        "WARNING: No route found for IPv6 destination :: (no default route?)\r\n"
       ]
      },
      {
       "output_type": "stream",
       "stream": "stdout",
       "text": [
        "[+] Pkt Received From: 173.194.72.125 with TTL: 43\r\n",
        "err '173.194.72.125'\r\n",
        "[+] Pkt Received From: 192.168.0.164 with TTL: 64\r\n"
       ]
      },
      {
       "output_type": "stream",
       "stream": "stdout",
       "text": [
        "[+] Pkt Received From: 192.168.0.17 with TTL: 1\r\n"
       ]
      },
      {
       "output_type": "stream",
       "stream": "stdout",
       "text": [
        "^C\r\n"
       ]
      }
     ],
     "prompt_number": 72
    },
    {
     "cell_type": "code",
     "collapsed": false,
     "input": [
      "from scapy.all import *\n",
      "\n",
      "ipsrc='192.168.32.72'\n",
      "print sr(IP(dst=ipsrc) / ICMP(), retry=0, timeout=1, verbose=0)"
     ],
     "language": "python",
     "metadata": {},
     "outputs": [
      {
       "output_type": "stream",
       "stream": "stdout",
       "text": [
        "(<Results: TCP:0 UDP:0 ICMP:0 Other:0>, <Unanswered: TCP:0 UDP:0 ICMP:1 Other:0>)\n"
       ]
      }
     ],
     "prompt_number": 73
    },
    {
     "cell_type": "code",
     "collapsed": false,
     "input": [
      "sr1(IP(dst='8.8.8.8') / ICMP())"
     ],
     "language": "python",
     "metadata": {},
     "outputs": [
      {
       "output_type": "stream",
       "stream": "stdout",
       "text": [
        "Begin emission:\n",
        "Finished to send 1 packets.\n"
       ]
      },
      {
       "output_type": "stream",
       "stream": "stderr",
       "text": [
        "WARNING: Mac address to reach destination not found. Using broadcast.\n",
        "WARNING:scapy.runtime:Mac address to reach destination not found. Using broadcast.\n"
       ]
      },
      {
       "ename": "KeyboardInterrupt",
       "evalue": "",
       "output_type": "pyerr",
       "traceback": [
        "\u001b[0;31m---------------------------------------------------------------------------\u001b[0m\n\u001b[0;31mKeyboardInterrupt\u001b[0m                         Traceback (most recent call last)",
        "\u001b[0;32m<ipython-input-71-4f3df3bc8c48>\u001b[0m in \u001b[0;36m<module>\u001b[0;34m()\u001b[0m\n\u001b[0;32m----> 1\u001b[0;31m \u001b[0msr1\u001b[0m\u001b[0;34m(\u001b[0m\u001b[0mIP\u001b[0m\u001b[0;34m(\u001b[0m\u001b[0mdst\u001b[0m\u001b[0;34m=\u001b[0m\u001b[0;34m'8.8.8.8'\u001b[0m\u001b[0;34m)\u001b[0m \u001b[0;34m/\u001b[0m \u001b[0mICMP\u001b[0m\u001b[0;34m(\u001b[0m\u001b[0;34m)\u001b[0m\u001b[0;34m)\u001b[0m\u001b[0;34m\u001b[0m\u001b[0m\n\u001b[0m",
        "\u001b[0;32m/Users/re4lfl0w/Library/Enthought/Canopy_64bit/User/lib/python2.7/site-packages/scapy/sendrecv.pyc\u001b[0m in \u001b[0;36msr1\u001b[0;34m(x, filter, iface, nofilter, *args, **kargs)\u001b[0m\n\u001b[1;32m    326\u001b[0m         \u001b[0mkargs\u001b[0m\u001b[0;34m[\u001b[0m\u001b[0;34m\"timeout\"\u001b[0m\u001b[0;34m]\u001b[0m \u001b[0;34m=\u001b[0m \u001b[0;34m-\u001b[0m\u001b[0;36m1\u001b[0m\u001b[0;34m\u001b[0m\u001b[0m\n\u001b[1;32m    327\u001b[0m     \u001b[0ms\u001b[0m\u001b[0;34m=\u001b[0m\u001b[0mconf\u001b[0m\u001b[0;34m.\u001b[0m\u001b[0mL3socket\u001b[0m\u001b[0;34m(\u001b[0m\u001b[0mfilter\u001b[0m\u001b[0;34m=\u001b[0m\u001b[0mfilter\u001b[0m\u001b[0;34m,\u001b[0m \u001b[0mnofilter\u001b[0m\u001b[0;34m=\u001b[0m\u001b[0mnofilter\u001b[0m\u001b[0;34m,\u001b[0m \u001b[0miface\u001b[0m\u001b[0;34m=\u001b[0m\u001b[0miface\u001b[0m\u001b[0;34m)\u001b[0m\u001b[0;34m\u001b[0m\u001b[0m\n\u001b[0;32m--> 328\u001b[0;31m     \u001b[0ma\u001b[0m\u001b[0;34m,\u001b[0m\u001b[0mb\u001b[0m\u001b[0;34m=\u001b[0m\u001b[0msndrcv\u001b[0m\u001b[0;34m(\u001b[0m\u001b[0ms\u001b[0m\u001b[0;34m,\u001b[0m\u001b[0mx\u001b[0m\u001b[0;34m,\u001b[0m\u001b[0;34m*\u001b[0m\u001b[0margs\u001b[0m\u001b[0;34m,\u001b[0m\u001b[0;34m**\u001b[0m\u001b[0mkargs\u001b[0m\u001b[0;34m)\u001b[0m\u001b[0;34m\u001b[0m\u001b[0m\n\u001b[0m\u001b[1;32m    329\u001b[0m     \u001b[0ms\u001b[0m\u001b[0;34m.\u001b[0m\u001b[0mclose\u001b[0m\u001b[0;34m(\u001b[0m\u001b[0;34m)\u001b[0m\u001b[0;34m\u001b[0m\u001b[0m\n\u001b[1;32m    330\u001b[0m     \u001b[0;32mif\u001b[0m \u001b[0mlen\u001b[0m\u001b[0;34m(\u001b[0m\u001b[0ma\u001b[0m\u001b[0;34m)\u001b[0m \u001b[0;34m>\u001b[0m \u001b[0;36m0\u001b[0m\u001b[0;34m:\u001b[0m\u001b[0;34m\u001b[0m\u001b[0m\n",
        "\u001b[0;32m/Users/re4lfl0w/Library/Enthought/Canopy_64bit/User/lib/python2.7/site-packages/scapy/sendrecv.pyc\u001b[0m in \u001b[0;36msndrcv\u001b[0;34m(pks, pkt, timeout, inter, verbose, chainCC, retry, multi)\u001b[0m\n\u001b[1;32m    121\u001b[0m                                 \u001b[0minp\u001b[0m\u001b[0;34m,\u001b[0m \u001b[0mout\u001b[0m\u001b[0;34m,\u001b[0m \u001b[0merr\u001b[0m \u001b[0;34m=\u001b[0m \u001b[0mselect\u001b[0m\u001b[0;34m(\u001b[0m\u001b[0minmask\u001b[0m\u001b[0;34m,\u001b[0m\u001b[0;34m[\u001b[0m\u001b[0;34m]\u001b[0m\u001b[0;34m,\u001b[0m\u001b[0;34m[\u001b[0m\u001b[0;34m]\u001b[0m\u001b[0;34m,\u001b[0m \u001b[0;36m0.05\u001b[0m\u001b[0;34m)\u001b[0m\u001b[0;34m\u001b[0m\u001b[0m\n\u001b[1;32m    122\u001b[0m                                 \u001b[0;32mif\u001b[0m \u001b[0mlen\u001b[0m\u001b[0;34m(\u001b[0m\u001b[0minp\u001b[0m\u001b[0;34m)\u001b[0m \u001b[0;34m==\u001b[0m \u001b[0;36m0\u001b[0m \u001b[0;32mor\u001b[0m \u001b[0mpks\u001b[0m \u001b[0;32min\u001b[0m \u001b[0minp\u001b[0m\u001b[0;34m:\u001b[0m\u001b[0;34m\u001b[0m\u001b[0m\n\u001b[0;32m--> 123\u001b[0;31m                                     \u001b[0mr\u001b[0m \u001b[0;34m=\u001b[0m \u001b[0mpks\u001b[0m\u001b[0;34m.\u001b[0m\u001b[0mnonblock_recv\u001b[0m\u001b[0;34m(\u001b[0m\u001b[0;34m)\u001b[0m\u001b[0;34m\u001b[0m\u001b[0m\n\u001b[0m\u001b[1;32m    124\u001b[0m                             \u001b[0;32melse\u001b[0m\u001b[0;34m:\u001b[0m\u001b[0;34m\u001b[0m\u001b[0m\n\u001b[1;32m    125\u001b[0m                                 \u001b[0minp\u001b[0m\u001b[0;34m,\u001b[0m \u001b[0mout\u001b[0m\u001b[0;34m,\u001b[0m \u001b[0merr\u001b[0m \u001b[0;34m=\u001b[0m \u001b[0mselect\u001b[0m\u001b[0;34m(\u001b[0m\u001b[0minmask\u001b[0m\u001b[0;34m,\u001b[0m\u001b[0;34m[\u001b[0m\u001b[0;34m]\u001b[0m\u001b[0;34m,\u001b[0m\u001b[0;34m[\u001b[0m\u001b[0;34m]\u001b[0m\u001b[0;34m,\u001b[0m \u001b[0mremaintime\u001b[0m\u001b[0;34m)\u001b[0m\u001b[0;34m\u001b[0m\u001b[0m\n",
        "\u001b[0;31mKeyboardInterrupt\u001b[0m: "
       ]
      }
     ],
     "prompt_number": 71
    },
    {
     "cell_type": "code",
     "collapsed": false,
     "input": [
      "from IPy import IP as IPTEST"
     ],
     "language": "python",
     "metadata": {},
     "outputs": [],
     "prompt_number": 60
    },
    {
     "cell_type": "code",
     "collapsed": false,
     "input": [
      "IPTEST('192.168.32.72').iptype()"
     ],
     "language": "python",
     "metadata": {},
     "outputs": [
      {
       "metadata": {},
       "output_type": "pyout",
       "prompt_number": 62,
       "text": [
        "'PRIVATE'"
       ]
      }
     ],
     "prompt_number": 62
    },
    {
     "cell_type": "markdown",
     "metadata": {},
     "source": [
      "- \uc65c \uc548\ub3fc\ub294\uc9c0 \ubaa8\ub974\uaca0\ub2e4.\n",
      "- \uc0ac\uc124 IP\ub3c4 \uc77c\ub2e8\uc740 \ub418\uac8c\ub054 \ud574\ub193\uace0..\n",
      "- \uac70\uae30\uc5d0 \ud328\ud0b7\uc744 \ubcf4\ub0b4\ub294 sr1 \uc774 \uc81c\ub300\ub85c \ub3d9\uc791\uc744 \uc548\ud55c\ub2e4.\n",
      "- \uacc4\uc18d \ub9e5 \uc5b4\ub4dc\ub808\uc2a4\ub97c \ucc3e\uc744 \uc218 \uc5c6\ub2e4\uace0 \ub728\ub294\ub370..\n",
      "\n",
      "- WARNING: Mac address to reach destination not found. Using broadcast.\n",
      "- WARNING:scapy.runtime:Mac address to reach destination not found. Using broadcast."
     ]
    },
    {
     "cell_type": "markdown",
     "metadata": {},
     "source": [
      "## \uc2a4\ud1b0\uc758 \ud328\uc2a4\ud2b8 \ud50c\ub7ed\uc2a4\uc640 \ucee8\ud53c\ucee4\uc758 \ub3c4\uba54\uc778 \ud50c\ub7ed\uc2a4\n",
      "\n",
      "- 2007\ub144 Storm botnet\uc774 \uc0ac\uc6a9\ud558\ub294 \uc0c8\ub85c\uc6b4 \uae30\ubc95\uc744 \uc2dd\ubcc4\ud588\ub2e4(Higgins, 2007)\n",
      "- \uc774 \uae30\ubc95\uc740 fast-flux \ub77c\uace0 \uba85\uba85\n",
      "- DNS\uc758 \uae30\ub85d\uc744 \uc0ac\uc6a9\ud558\uc5ec \uc2a4\ud1b0 \ubd07\ub137\uc744 \uc81c\uc5b4\ud558\ub294 \uacf5\uaca9 \uba85\ub839 \uc11c\ubc84\ub97c \uc228\uacbc\ub2e4.\n",
      "- \uc77c\ubc18\uc801\uc73c\ub85c DNS \uae30\ub85d\uc740 \ub3c4\uba54\uc778 \uc774\ub984\uc744 IP \uc8fc\uc18c\ub85c \ubcc0\ud658\n",
      "- DNS \uc11c\ubc84\uac00 \uacb0\uacfc\ub97c \ubc18\ud658\ud558\uba74 \ud638\uc2a4\ud2b8\uac00 \ub2e4\uc2dc \uc810\uac80\ud558\uae30 \uc804\uc5d0\ub294 IP \uc8fc\uc18c\uac00 \uc720\ud6a8\ud55c TTL\uc744 \uc124\uc815\ud558\uac8c \ub428\n",
      "\n",
      "\n",
      "- \uc2a4\ud1b0 \ubd07\ub137 \uacf5\uaca9\uc790\ub294 \uacf5\uaca9 \uba85\ub839 \uc11c\ubc84\uc758 DNS \uae30\ub85d\uc744 \uc790\uc8fc \ubc14\uafe8\ub2e4.\n",
      "- \uc0ac\uc2e4 \uadf8\ub4e4\uc740 50\uc5ec\uac1c\uad6d\uc758 384\uac1c\uc758 \uc81c\uacf5\uc5c5\uccb4\uc758 2,000\uac1c\uac00 \ub118\ub294 \ud638\uc2a4\ud2b8\ub97c \uc0ac\uc6a9(Lemos, 2007)\n",
      "- \uacf5\uaca9\uc790\ub294 \uacf5\uaca9 \uba85\ub839 \uc11c\ubc84\uc758 IP \uc8fc\uc18c\ub97c \uc790\uc8fc \ubc14\uafe8\uc73c\uba70, DNS \uacb0\uacfc\uac00 \ub9e4\uc6b0 \uc9e7\uc740 TTL\uc744 \ubc18\ud658\ud558\ub3c4\ub85d \ubcf4\uc7a5\n",
      "- \uc774\ub7ec\ud55c IP \uc8fc\uc18c\uc758 \ud328\uc2a4\ud2b8 \ud50c\ub7ed\uc2a4 \ub54c\ubb38\uc5d0 \ubcf4\uc548 \uc5f0\uad6c\uc6d0\ub4e4\uc774 \ubd07\ub137\uc758 \uacf5\uaca9 \uba85\ub839 \uc11c\ubc84\ub97c \uc2dd\ubcc4\ud558\uae30\uac00 \ub9e4\uc6b0 \uc5b4\ub824\uc6e0\uace0, \uc774\ub97c \ud3d0\uc1c4\uc2dc\ud0a4\uae30\ub294 \ub354\ub354\uc6b1 \uc5b4\ub824\uc6e0\uc74c\n",
      "\n",
      "\n",
      "- \uc2a4\ud1b0 \ubd07\ub137\uc744 \uc81c\uac70\ud560 \ub54c\ub294 \ud328\uc2a4\ud2b8 \ud50c\ub7ed\uc2a4 \ub54c\ubb38\uc5d0 \uc560\ub97c \uba39\uc5c8\uc9c0\ub9cc, \uadf8 \ub2e4\uc74c \ud574\uc5d0 \ub610 \ub2e4\ub978 \uc6dc\uc774 \uc774\uc640 \uc720\uc0ac\ud55c \uae30\ubc95\uc744 \uc0ac\uc6a9\ud558\uc5ec 200\uc5ec\uac1c\uad6d\uc758 7\ubc31\ub9cc \ucef4\ud4e8\ud130\ub97c \uac10\uc5fc\uc2dc\ud0b4(Binde et al., 2011). \uc774\uac83\uc774 \ubc14\ub85c \ucee8\ud53c\ucee4\n",
      "- Conficker\ub294 \uc624\ub298\ub0a0\uae4c\uc9c0\ub3c4 \uac00\uc7a5 \uc131\uacf5\uc801\uc778 \ucef4\ud4e8\ud130 \uc6dc\uc73c\ub85c \uae30\ub85d\ub428\n",
      "- Conficker\ub294 \uc708\ub3c4\uc6b0\uc758 Service Message Block(SMB) \ud504\ub85c\ud1a0\ucf5c\uc5d0 \uc788\ub294 \ucde8\uc57d\uc810\uc744 \uacf5\uaca9\ud568\uc73c\ub85c\uc368 \uc804\ud30c\ub428\n",
      "- \uc77c\ub2e8 \uac10\uc5fc\ub418\uba74 \ucde8\uc57d\ud55c \ucef4\ud4e8\ud130\ub294 \uacf5\uaca9 \uba85\ub839 \uc11c\ubc84\uc5d0 \uc811\uc18d\ud558\uc5ec \ucd94\uac00 \uba85\ub839\uc744 \ubc1b\ub294\ub2e4.\n",
      "- \ub530\ub77c\uc11c **\uacf5\uaca9\uc744 \uc911\ub2e8**\uc2dc\ud0a4\uae30 \uc704\ud574\uc11c\ub294 **\uacf5\uaca9 \uba85\ub839 \uc11c\ubc84\ub97c \uc2dd\ubcc4**\ud558\uace0 **\uc774 \uc11c\ubc84\uc640\uc758 \ud1b5\uc2e0\uc744 \ucc28\ub2e8**\ud558\ub294 \uac83\uc774 **\ubc18\ub4dc\uc2dc \ud544\uc694**\n",
      "- \ud558\uc9c0\ub9cc \ucee8\ud53c\ucee4\ub294 UTC\uc758 \uc2dc\uac04\uacfc \ub0a0\uc9dc\ub97c \uc0ac\uc6a9\ud558\uc5ec \ub2e4\ub978 \ub3c4\uba54\uc778 \uc774\ub984\uc744 3\uc2dc\uac04\ub9c8\ub2e4 \uc0dd\uc131\ud568\n",
      "- \ucee8\ud53c\ucee4\uc758 \ub9e4 3\uc2dc\uac04\ub9c8\ub2e4, 5\ub9cc\uc5ec\uac1c\uc758 \ub3c4\uba54\uc778\uc774 \uc0dd\uc131\ub41c\ub2e4\ub294 \uac83\uc744 \uc758\ubbf8\n",
      "- \uacf5\uaca9\uc790\ub294 \uc774 \uc911\uc5d0\uc11c \uc77c\ubd80\ub9cc\uc744 \uc2e4\uc81c \uacf5\uaca9 \uba85\ub839 \uc11c\ubc84\uc758 IP \uc8fc\uc18c\ub85c \ub4f1\ub85d\n",
      "- \uc774\ub7ec\ud55c \uc774\uc720 \ub54c\ubb38\uc5d0 \uacf5\uaca9 \uba85\ub839 \uc11c\ubc84\uc640\uc758 \ud2b8\ub798\ud53d\uc744 \ud30c\uc545\ud558\uc5ec \ucc28\ub2e8\ud558\ub294 \uac83\uc774 \ub9e4\uc6b0 \uc5b4\ub824\uc6c0\n",
      "- \ub3c4\uba54\uc778 \uc774\ub984\uc744 \ub3cc\uc544\uac00\uba74\uc11c \uc0ac\uc6a9\ud588\uae30 \ub54c\ubb38\uc5d0 \ubcf4\uc548 \uc804\ubb38\uac00\ub4e4\uc740 \uc774\ub97c \ub3c4\uba54\uc778 \ud50c\ub7ed\uc2a4\ub77c\uace0 \uba85\uba85"
     ]
    },
    {
     "cell_type": "markdown",
     "metadata": {},
     "source": [
      "### DNS\uc5d0 \uc228\uaca8\uc788\ub294 \uc815\ubcf4\n",
      "\n",
      "- \uc2e4\uc81c \ud658\uacbd\uc5d0\uc11c \ud328\uc2a4\ud2b8 \ud50c\ub7ed\uc2a4\uc640 \ub3c4\uba54\uc778 \ud50c\ub7ed\uc2a4\ub97c \uc2dd\ubcc4\ud558\uae30 \uc804\uc5d0, **\uba3c\uc800 DNS\uc5d0 \ub300\ud574 \uac04\ub2e8\ud788 \uac80\ud1a0**\n",
      "- \uc774\ub97c \uc774\ud574\ud558\uae30 \uc704\ud574\uc11c whitehouse.com \uc744 \ub300\uc0c1\uc73c\ub85c \ub3c4\uba54\uc778 \uc774\ub984\uc744 \uac80\uc0c9\n",
      "- 192.168.1.1 \uc5d0 \uc788\ub294 DNS \uc11c\ubc84\uac00 whitehouse.com \uc744 IP\uc8fc\uc18c 74.117.114.119(192.64.147.150\uc73c\ub85c \ubcc0\uacbd\ub428)\ub85c \ubcc0\ud658\n",
      "\n",
      "----\n",
      "\n",
      "### \uad6c\uc870\uac00 \uac00\uc7a5 \uc911\uc694\n",
      "\n",
      "- \ubb54\uac00\ub97c \ub6ab\uae30 \uc704\ud574\uc11c\ub294 \ud574\ub2f9 \ud504\ub85c\ud1a0\ucf5c\uc758 \uad6c\uc870\ub97c \uac00\uc7a5 \uba3c\uc800 \ud30c\uc545\ud558\ub294 \uac83\uc774 \uba3c\uc800\ub2e4.\n",
      "- \uad6c\uc870\ub97c \uc54c\uac8c \ub418\uba74 \uc5b4\ub290 \uacf3\uc5d0\uc11c \ucde8\uc57d\uc810\uc774 \ubc1c\uc0dd\ud560 \uc218 \uc788\ub294\uc9c0 \uc774\ud574\ud560 \uc218 \uc788\ub2e4.\n",
      "- DNS \ud504\ub85c\ud1a0\ucf5c\ub3c4 \ubaa8\ub974\ub294\ub370 \ucde8\uc57d\uc810 \ucc3e\ub294\ub2e4\ub294\uac74 \uc5b4\ubd88\uc131\uc124\n",
      "----"
     ]
    },
    {
     "cell_type": "code",
     "collapsed": false,
     "input": [
      "!dig whitehouse.com"
     ],
     "language": "python",
     "metadata": {},
     "outputs": [
      {
       "output_type": "stream",
       "stream": "stdout",
       "text": [
        "\r\n",
        "; <<>> DiG 9.8.5-P1 <<>> whitehouse.com\r\n",
        ";; global options: +cmd\r\n",
        ";; Got answer:\r\n",
        ";; ->>HEADER<<- opcode: QUERY, status: NOERROR, id: 30646\r\n",
        ";; flags: qr rd ra; QUERY: 1, ANSWER: 1, AUTHORITY: 0, ADDITIONAL: 0\r\n",
        "\r\n",
        ";; QUESTION SECTION:\r\n",
        ";whitehouse.com.\t\t\tIN\tA\r\n",
        "\r\n",
        ";; ANSWER SECTION:\r\n",
        "whitehouse.com.\t\t1508\tIN\tA\t192.64.147.150\r\n",
        "\r\n",
        ";; Query time: 147 msec\r\n",
        ";; SERVER: 8.8.8.8#53(8.8.8.8)\r\n",
        ";; WHEN: Thu Jul 31 05:03:02 KST 2014\r\n",
        ";; MSG SIZE  rcvd: 48\r\n",
        "\r\n"
       ]
      }
     ],
     "prompt_number": 83
    },
    {
     "cell_type": "markdown",
     "metadata": {},
     "source": [
      "- tcpdump\ub85c DNS lookup\uc744 \uc0b4\ud3b4\ubcf4\uba74 \ud074\ub77c\uc774\uc5b8\ud2b8\uac00 8.8.8.8(\uad6c\uae00 DNS) \uc5d0 \uc788\ub294 DNS \uc11c\ubc84\ub85c \uc694\uccad\uc744 \uc804\uc1a1\ud558\ub294 \uac83\uc744 \ubcfc \uc218 \uc788\uc74c\n",
      "- \ud2b9\ud788 \ud074\ub77c\uc774\uc5b8\ud2b8\ub294 DNS Question Record(DNSQR) \uc0dd\uc131\ud558\uc5ec whitehouse.com\uc758 IPv4 \uc8fc\uc18c\ub97c \uc694\uad6c\n",
      "- \uc11c\ubc84\ub294 DNS Resource Record(DNSRR)\ub97c \ucd94\uac00\ud568\uc73c\ub85c\uc368 \uc751\ub2f5. whitehouse.com \uc758 IP\uc8fc\uc18c \uc81c\uacf5"
     ]
    },
    {
     "cell_type": "markdown",
     "metadata": {},
     "source": [
      "    $ tcpdump -i en0 -nn 'udp port 53'\n",
      "    tcpdump: verbose output suppressed, use -v or -vv for full protocol decode\n",
      "    listening on en0, link-type EN10MB (Ethernet), capture size 65535 bytes\n",
      "    05:04:14.473992 IP 192.168.0.164.54004 > 8.8.8.8.53: 22009+ A? whitehouse.com. (32)\n",
      "    05:04:14.709724 IP 8.8.8.8.53 > 192.168.0.164.54004: 22009 1/0/0 A 192.64.147.150 (48)\n",
      "    \n",
      "<img src=\"files/images/tcpdump_dns.png\" />"
     ]
    },
    {
     "cell_type": "markdown",
     "metadata": {},
     "source": [
      "### Scapy\ub85c DNS \ud2b8\ub798\ud53d \ucc98\ub9ac\ud558\uae30\n",
      "\n",
      "- DNS \ud504\ub85c\ud1a0\ucf5c \uc694\uccad\uc744 Scapy\ub85c \ubcf4\uba74 \uac01\uac01\uc5d0 \ud3ec\ud568\ub418\uc5b4 \uc788\ub294 \ud544\ub4dc\ub4e4\uc744 \ubcfc \uc218 \uc788\uc74c\n",
      "- DNSQR\uc740 qname, qtype, qclass \ub4f1\uc744 \ud3ec\ud568\n",
      "- \uc55e\uc758 \uc608\uc5d0\uc11c\ub294 whitehouse.com\uc758 IPv4 \uc8fc\uc18c\ub97c \uc694\uccad\n",
      "- \ub530\ub77c\uc11c qname \ud544\ub4dc\ub294 whitehouse.com \uc774 \ub428\n",
      "- DNS \uc11c\ubc84\ub294 \uc751\ub2f5\uc5d0 DNSRR\uc744 \ucd94\uac00\ud568\uc73c\ub85c\uc368 \uc751\ub2f5\n",
      "- DNSRR \uc5d0\ub294 \ub9ac\uc18c\uc2a4 \uae30\ub85d \uc774\ub984(rrname), \uc885\ub958(type), \ub9ac\uc18c\uc2a4 \uae30\ub85d \ud074\ub798\uc2a4(rclass) \uadf8\ub9ac\uace0 TTL\uc774 \ud3ec\ud568\ub428\n",
      "- \ud328\uc2a4\ud2b8 \ud50c\ub7ed\uc2a4\uc640 \ub3c4\uba54\uc778 \ud50c\ub7ed\uc2a4\uc758 \uc791\ub3d9\uc6d0\ub9ac\ub97c \uc54c\uc558\uc73c\ub2c8, \uc774\uc81c \uc6b0\ub9ac\ub294 DNS \ud2b8\ub798\ud53d\uc744 \ubd84\uc11d\ud558\uace0 \uc758\uc2ec\uc2a4\ub7ec\uc6b4 \ubd80\ubd84\uc744 \uc2dd\ubcc4\ud558\ub294 \ud30c\uc774\uc36c \uc2a4\ud06c\ub9bd\ud2b8\ub97c \uc791\uc131\ud560 \uc218 \uc788\uc74c"
     ]
    },
    {
     "cell_type": "code",
     "collapsed": false,
     "input": [
      "ls(DNSQR)"
     ],
     "language": "python",
     "metadata": {},
     "outputs": [
      {
       "output_type": "stream",
       "stream": "stdout",
       "text": [
        "qname      : DNSStrField          = ('')\n",
        "qtype      : ShortEnumField       = (1)\n",
        "qclass     : ShortEnumField       = (1)\n"
       ]
      }
     ],
     "prompt_number": 84
    },
    {
     "cell_type": "code",
     "collapsed": false,
     "input": [
      "ls(DNSRR)"
     ],
     "language": "python",
     "metadata": {},
     "outputs": [
      {
       "output_type": "stream",
       "stream": "stdout",
       "text": [
        "rrname     : DNSStrField          = ('')\n",
        "type       : ShortEnumField       = (1)\n",
        "rclass     : ShortEnumField       = (1)\n",
        "ttl        : IntField             = (0)\n",
        "rdlen      : RDLenField           = (None)\n",
        "rdata      : RDataField           = ('')\n"
       ]
      }
     ],
     "prompt_number": 85
    },
    {
     "cell_type": "markdown",
     "metadata": {},
     "source": [
      "- \uc720\ub7fd\ub124\ud2b8\uc6cc\ud06c\uc815\ubcf4\ubcf4\ud638\uc6d0(European Network and Information Security Agency, ENISA)\uc740 \ub124\ud2b8\uc6cc\ud06c \ud2b8\ub798\ud53d\uc744 \ubd84\uc11d\ud560 \ub54c \ub9e4\uc6b0 \uc720\uc6a9\ud55c \uc790\uc6d0\uc744 \uc81c\uacf5\n",
      "- ENISA\ub294 \uc5ec\ub7ec \ub124\ud2b8\uc6cc\ud06c \ucea1\uccd0\uc640 \uc2e4\uc2b5\uc744 \ud3ec\ud568\ud558\uace0 \uc788\ub294 \ub77c\uc774\ube0c DVD ISO \uc774\ubbf8\uc9c0 \uc81c\uacf5\n",
      "- \uc774 \uc774\ubbf8\uc9c0\ub294 http://www.enisa.europa.eu/activities/cert/support/exercise/live-dvdiso-images \uc5d0\uc11c \ub2e4\uc6b4\ub85c\ub4dc \uac00\ub2a5\n",
      "- Exercise \\#7\uc744 \ubcf4\uba74 \ud328\uc2a4\ud2b8 \ud50c\ub7ed\uc2a4\uac00 \uacf5\uaca9\uc744 \ucea1\ucc98\ud55c pcap\uc774 \uc81c\uacf5\ub428\n",
      "- \ucd94\uac00\uc801\uc73c\ub85c \uc2dc\uc791\ud558\uae30\uc5d0 \uc55e\uc11c \uac00\uc0c1 \uba38\uc2e0\uc744 \uc124\uce58\ud558\uc5ec \uc2a4\ud30c\uc774\uc6e8\uc5b4\ub098 \uc545\uc131\ucf54\ub4dc\ub85c \uac10\uc5fc\uc2dc\ud0a4\uace0, \ud1b5\uc81c\ub418\uc5b4 \uc788\ub294 \ub7a9 \ud658\uacbd\uc5d0\uc11c \ud2b8\ub798\ud53d\uc744 \uc548\uc804\ud558\uac8c \uc0b4\ud3b4\ubcfc \uc218 \uc788\ub3c4\ub85d \ud558\ub294 \uac83\ub3c4 \uc88b\uc740 \ubc29\ubc95\n",
      "- \uc774 \ucc45\uc758 \ubaa9\uc801\uc740 \uc774\ubbf8 \uc5ec\ub7ec\ubd84\uc774 \ubd84\uc11d\ud558\uace0 \uc2f6\uc5b4\ud558\ub294 DNS \ud2b8\ub798\ud53d\uc744 \uc800\uc7a5\ud558\uace0 \uc788\ub294 fastFlux.pcap \ud30c\uc77c\uc774 \uc788\ub2e4\uace0 \uac00\uc815\n",
      "\n",
      "### Scapy\ub85c \ud328\uc2a4\ud2b8 \ud50c\ub7ed\uc2a4 \ud2b8\ub798\ud53d \ud0d0\uc9c0\ud558\uae30\n",
      "\n",
      "- pcap\uc744 \uc77d\uc5b4\ub4e4\uc5ec DNSRR \uac00 \ud3ec\ud568\ub41c \ud328\ud0b7\uc744 \ucc98\ub9ac\ud558\ub294 \ud30c\uc774\uc36c \uc2a4\ud06c\ub9bd\ud2b8\ub97c \uc791\uc131\n",
      "- scapy\uc5d0\ub294 .haslayer() \ub77c\ub294 \uac15\ub825\ud55c \ud568\uc218\uac00 \ud3ec\ud568\ub418\uc5b4 \uc788\uc74c\n",
      "- \uc774 \ud568\uc218\ub294 \ud504\ub85c\ud1a0\ucf5c \ud0c0\uc785\uc744 \uc785\ub825 \ubc1b\uc544\uc11c \ubd88\ub9ac\uc5b8\uc744 \ubc18\ud658\n",
      "- \ud328\ud0b7\uc774 DNSRR\uc744 \ud3ec\ud568\ud558\uace0 \uc788\uc73c\uba74 \ub3c4\uba54\uc778 \uc774\ub984\uacfc IP\uc8fc\uc18c\ub97c \ud3ec\ud568\ud558\uace0 \uc788\ub294 rrname\uacfc rdata \ubcc0\uc218\ub97c \uc77d\uc5b4\uc62c \uac83\n",
      "- \uadf8\ub9ac\uace0 \ub098\uc11c \ub3c4\uba54\uc778 \uc774\ub984\uc744 \uc778\ub371\uc2a4\ud654\ud574\uc11c \ub9cc\ub4e4\uc5b4\ub193\uc740 \ub515\uc154\ub108\ub9ac\uc5d0\uc11c \uc774 \ub3c4\uba54\uc778 \uc774\ub984\uc744 \ud655\uc778\ud560 \uc218 \uc788\uc74c\n",
      "- \ub9cc\uc57d \ub3c4\uba54\uc778 \uc774\ub984\uc744 \ubcf8 \uc801\uc774 \uc788\ub2e4\uba74 \uad00\ub828\ub41c IP\uc8fc\uc18c\uac00 \uc788\uc5c8\ub294\uc9c0 \ud655\uc778\n",
      "- \ub9cc\uc57d \uae30\uc874\uc758 IP\uc8fc\uc18c\uac00 \ub2e4\ub974\uba74 \uc0c8\ub85c\uc6b4 \uc8fc\uc18c\ub97c \ub515\uc154\ub108\ub9ac\uc5d0 \ud3ec\ud568\n",
      "- \ub9cc\uc57d \uc0c8\ub85c\uc6b4 \ub3c4\uba54\uc778\uc744 \uc2dd\ubcc4\ud558\uba74 \ub515\uc154\ub108\ub9ac\uc5d0 \ucd94\uac00\n",
      "- \ub515\uc154\ub108\ub9ac \uac12\uc5d0 \uc800\uc7a5\ub418\uc5b4 \uc788\ub294 \ubc30\uc5f4\uc758 \uccab\ubc88\uc9f8 \uc694\uc18c\ub85c \ub3c4\uba54\uc778\uc758 IP\uc8fc\uc18c\ub97c \ucd94\uac00\ud568\n",
      "\n",
      "\n",
      "- \uc870\uae08 \ubcf5\uc7a1\ud574 \ubcf4\uc774\uae30\ub294 \ud558\uc9c0\ub9cc \ubaa8\ub4e0 \ub3c4\uba54\uc778 \uc774\ub984\uacfc \uc774\uc640 \uad00\ub828\ub41c \ub2e4\uc591\ud55c IP \uc8fc\uc18c\ub97c \uc800\uc7a5\ud560 \uac83\n",
      "- \ud328\uc2a4\ud2b8 \ud50c\ub7ed\uc2a4\ub97c \ud0d0\uc9c0\ud558\uae30 \uc704\ud574 \uc5b4\ub5a4 \ub3c4\uba54\uc778\uc5d0 \uc5ec\ub7ec \uac1c\uc758 \uc8fc\uc18c\uac00 \uc788\ub294\uc9c0 \uc54c\uc544\uc57c \ud568\n",
      "- \ubaa8\ub4e0 \ud328\ud0b7\uc744 \uac80\uc0ac\ud55c \ud6c4\uc5d0 \ubaa8\ub4e0 \ub3c4\uba54\uc778 \uc774\ub984\uacfc \ud574\ub2f9 \ub3c4\uba54\uc778 \uc774\ub984\ub9c8\ub2e4 \uace0\uc720\ud55c IP \uc8fc\uc18c\uac00 \uba87 \uac1c\uac00 \uc788\ub294\uc9c0 \ucd9c\ub825\ud568"
     ]
    },
    {
     "cell_type": "code",
     "collapsed": false,
     "input": [
      "from scapy.all import *\n",
      "\n",
      "dnsRecords = {}\n",
      "\n",
      "def handlePkt(pkt):\n",
      "    if pkt.haslayer(DNSRR):\n",
      "        rrname = pkt.getlayer(DNSRR).rrname\n",
      "        rdata = pkt.getlayer(DNSRR).rdata\n",
      "#         print rrname, type(rrname)\n",
      "#         print rdata, type(rdata)\n",
      "#         print dnsRecords\n",
      "#         if dnsRecords[rrname]:\n",
      "        if dnsRecords.has_key(rrname):\n",
      "            if rdata not in dnsRecords[rrname]:\n",
      "                dnsRecords[rrname].append(rdata)\n",
      "        else:\n",
      "            dnsRecords.setdefault(rrname, []).append(rdata)\n",
      "            \n",
      "def main():\n",
      "    pkts = rdpcap('ch04/fastFlux.pcap')\n",
      "    for pkt in pkts:\n",
      "        handlePkt(pkt)\n",
      "    for item in dnsRecords:\n",
      "        print '[+] ' + item + ' has ' + str(len(dnsRecords[item])) \\\n",
      "        + ' unique IPs.'\n",
      "        \n",
      "if __name__ == '__main__':\n",
      "    main()"
     ],
     "language": "python",
     "metadata": {},
     "outputs": [
      {
       "output_type": "stream",
       "stream": "stdout",
       "text": [
        "[+] 24.228.108.127.in-addr.arpa. has 1 unique IPs.\n",
        "[+] www.allyourbasesarebelongto.cn. has 26 unique IPs.\n",
        "[+] 101.10.10.10.in-addr.arpa. has 2 unique IPs.\n",
        "[+] www.hackes.ru. has 11 unique IPs.\n"
       ]
      }
     ],
     "prompt_number": 109
    },
    {
     "cell_type": "code",
     "collapsed": false,
     "input": [
      "d = {}"
     ],
     "language": "python",
     "metadata": {},
     "outputs": [],
     "prompt_number": 86
    },
    {
     "cell_type": "code",
     "collapsed": false,
     "input": [
      "d.setdefault(rrname, []).append(rdata)"
     ],
     "language": "python",
     "metadata": {},
     "outputs": [
      {
       "ename": "NameError",
       "evalue": "name 'rrname' is not defined",
       "output_type": "pyerr",
       "traceback": [
        "\u001b[0;31m---------------------------------------------------------------------------\u001b[0m\n\u001b[0;31mNameError\u001b[0m                                 Traceback (most recent call last)",
        "\u001b[0;32m<ipython-input-89-3700b3e30942>\u001b[0m in \u001b[0;36m<module>\u001b[0;34m()\u001b[0m\n\u001b[0;32m----> 1\u001b[0;31m \u001b[0md\u001b[0m\u001b[0;34m.\u001b[0m\u001b[0msetdefault\u001b[0m\u001b[0;34m(\u001b[0m\u001b[0mrrname\u001b[0m\u001b[0;34m,\u001b[0m \u001b[0;34m[\u001b[0m\u001b[0;34m]\u001b[0m\u001b[0;34m)\u001b[0m\u001b[0;34m.\u001b[0m\u001b[0mappend\u001b[0m\u001b[0;34m(\u001b[0m\u001b[0mrdata\u001b[0m\u001b[0;34m)\u001b[0m\u001b[0;34m\u001b[0m\u001b[0m\n\u001b[0m",
        "\u001b[0;31mNameError\u001b[0m: name 'rrname' is not defined"
       ]
      }
     ],
     "prompt_number": 89
    },
    {
     "cell_type": "markdown",
     "metadata": {},
     "source": [
      "----\n",
      "\n",
      "#### d['cc']\uc640 d.has_key('cc')\uc758 \ucc28\uc774\uc810\n",
      "\n",
      "- d['cc']\ub85c \ud588\uc744 \uacbd\uc6b0\ub294 Key\uac00 \uc5c6\uc744 \ub54c \ubc14\ub85c KeyError\ub97c \ucd9c\ub825\ud55c\ub2e4.\n",
      "- d.has_key\ub85c \ud588\uc744 \ub54c\ub294 False\uac00 \ucd9c\ub825\ub418\uc5b4 if\ubb38\uc5d0\uc11c \uc6d0\ud558\ub358 boolean \uac12\uc744 \ucd9c\ub825\ud574 \uc900\ub2e4.\n",
      "- \uc65c \uacc4\uc18d error\uac00 \ucd9c\ub825\ub418\ub294\uc9c0 \uad81\uae08\ud588\ub294\ub370 \uc774 \ucc28\uc774\uad70..\n",
      "- \uc774 \ubd80\ubd84 \uac04\uacfc\ud558\uae30 \uc26c\uc6b0\ub2c8 \ub2e4\uc74c\ubd80\ud130 \uc8fc\uc758\ub97c \ud574\uc57c\uaca0\ub2e4.\n",
      "- [Code like a Pythonista](http://python.net/~goodger/projects/pycon/2007/idiomatic/handout.html) \ubcf4\uace0 \ub530\ub77c\ud588\ub354\ub2c8 \uc774\ub7f0 \uc2e4\uc218\ub97c \ud558\uac8c \ub418\ub294\uad70. \ub0b4\uac00 \uc798\ubabb \uc801\uc6a9\ud55c \uc0ac\ub840\n",
      "\n",
      "#### d['cc'], d.has_key('cc') \uc0bd\uc9c8\uae30"
     ]
    },
    {
     "cell_type": "code",
     "collapsed": false,
     "input": [
      "d = {1: 'nice', 2:'good', 'www.allyourbasesarebelongto.cn.': '19.185.141.241'}"
     ],
     "language": "python",
     "metadata": {},
     "outputs": [],
     "prompt_number": 97
    },
    {
     "cell_type": "code",
     "collapsed": false,
     "input": [
      "d[1]"
     ],
     "language": "python",
     "metadata": {},
     "outputs": [
      {
       "metadata": {},
       "output_type": "pyout",
       "prompt_number": 98,
       "text": [
        "'nice'"
       ]
      }
     ],
     "prompt_number": 98
    },
    {
     "cell_type": "code",
     "collapsed": false,
     "input": [
      "d.has_key(1)"
     ],
     "language": "python",
     "metadata": {},
     "outputs": [
      {
       "metadata": {},
       "output_type": "pyout",
       "prompt_number": 99,
       "text": [
        "True"
       ]
      }
     ],
     "prompt_number": 99
    },
    {
     "cell_type": "code",
     "collapsed": false,
     "input": [
      "d['www.allyourbasesarebelongto.cn.']"
     ],
     "language": "python",
     "metadata": {},
     "outputs": [
      {
       "metadata": {},
       "output_type": "pyout",
       "prompt_number": 100,
       "text": [
        "'19.185.141.241'"
       ]
      }
     ],
     "prompt_number": 100
    },
    {
     "cell_type": "code",
     "collapsed": false,
     "input": [
      "d.has_key('www.allyourbasesarebelongto.cn.')"
     ],
     "language": "python",
     "metadata": {},
     "outputs": [
      {
       "metadata": {},
       "output_type": "pyout",
       "prompt_number": 101,
       "text": [
        "True"
       ]
      }
     ],
     "prompt_number": 101
    },
    {
     "cell_type": "code",
     "collapsed": false,
     "input": [
      "d['cc']"
     ],
     "language": "python",
     "metadata": {},
     "outputs": [
      {
       "ename": "KeyError",
       "evalue": "'cc'",
       "output_type": "pyerr",
       "traceback": [
        "\u001b[0;31m---------------------------------------------------------------------------\u001b[0m\n\u001b[0;31mKeyError\u001b[0m                                  Traceback (most recent call last)",
        "\u001b[0;32m<ipython-input-103-eff15fa32fb6>\u001b[0m in \u001b[0;36m<module>\u001b[0;34m()\u001b[0m\n\u001b[0;32m----> 1\u001b[0;31m \u001b[0md\u001b[0m\u001b[0;34m[\u001b[0m\u001b[0;34m'cc'\u001b[0m\u001b[0;34m]\u001b[0m\u001b[0;34m\u001b[0m\u001b[0m\n\u001b[0m",
        "\u001b[0;31mKeyError\u001b[0m: 'cc'"
       ]
      }
     ],
     "prompt_number": 103
    },
    {
     "cell_type": "code",
     "collapsed": false,
     "input": [
      "d.has_key('cc')"
     ],
     "language": "python",
     "metadata": {},
     "outputs": [
      {
       "metadata": {},
       "output_type": "pyout",
       "prompt_number": 106,
       "text": [
        "False"
       ]
      }
     ],
     "prompt_number": 106
    },
    {
     "cell_type": "markdown",
     "metadata": {},
     "source": [
      "------"
     ]
    },
    {
     "cell_type": "markdown",
     "metadata": {},
     "source": [
      "~ing"
     ]
    },
    {
     "cell_type": "markdown",
     "metadata": {},
     "source": [
      "## [About my IPython in github](https://github.com/re4lfl0w/ipython)"
     ]
    }
   ],
   "metadata": {}
  }
 ]
}