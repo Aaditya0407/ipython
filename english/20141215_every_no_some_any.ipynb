{
 "metadata": {
  "name": "",
  "signature": "sha256:024025934d005e2e5456a893db07d86e38878884f1ae8818c5f50826cc8f3c74"
 },
 "nbformat": 3,
 "nbformat_minor": 0,
 "worksheets": [
  {
   "cells": [
    {
     "cell_type": "markdown",
     "metadata": {},
     "source": [
      "# Every, No, Some, Any\n",
      "\n",
      "Every | No | Some | Any\n",
      "--- | --- | --- | ---\n",
      "Everybody | Nobody | Somebody | Anybody\n",
      "Everyone | No one | Someone | Anyone\n",
      "Everything | Nothing | Something | Anything\n",
      "Every time/Always | Never | Sometime | Anytime\n",
      "Everywhere | Nowhere | Somewhere | Anywhere"
     ]
    },
    {
     "cell_type": "markdown",
     "metadata": {},
     "source": [
      "## Some and any\n",
      "\n",
      "We use **some** in **statements**,\n",
      "\n",
      "and **any** in **questions** and **negative statements**:\n",
      "\n",
      "- There is some water in the fridge.\n",
      "  - + some. \ub0c9\uc7a5\uace0\uc5d0 \uc57d\uac04\uc758 \ubb3c\uc774 \uc788\ub294\uc9c0 \uc54c\uace0 \uc788\uc744 \ub54c\n",
      "- Is there any water in the fridge?\n",
      "  - ? any. \ub0c9\uc7a5\uace0\uc5d0 \ubb3c\uc774 \uc788\ub294\uc9c0 \ubaa8\ub97c \ub54c\n",
      "- There isn't any water in the fridge\n",
      "  - \\- any. \n",
      "  \n",
      "We can use **some in questions** too, but only if we know/think that the thing we are asking for is present.\n",
      "\n",
      "- Do you want some tea?\n",
      "- Can you give me some sugar?\n",
      "- Are you waiting for someone?\n",
      "\n",
      "We use **some** for talking about a **limited** number or amount,\n",
      "We use **any** for an **unlimited** number or amount.\n",
      "\n",
      "For example, imagine you are talking about different kinds of cake. All these sentences are possible:\n",
      "\n",
      "- A: I like any kind of cake. (= all kinds of cake, unlimited)\n",
      "- B: I don't like any kind of cake. (= 0 kinds of cake, unlimited)\n",
      "- C: I like some kinds of cake. (= a limited number of kinds of cake)\n",
      "- D: I don't like some kinds of cake. (= a limited number of kinds of cake)\n",
      "\n",
      "### Choose the right answer:\n",
      "\n",
      "You have to do **something**/**anything** to stop it!\n",
      "\n",
      "I would do something/**anything** to become rich."
     ]
    },
    {
     "cell_type": "markdown",
     "metadata": {},
     "source": [
      "## Every and Any\n",
      "\n",
      "How do \"any\" and \"every\" differ from each other?\n",
      "\n",
      "**Any** can be 1, but the **choice** does not matter, because any choice will be fine.\n",
      "\n",
      "**Every** means **100%**\n",
      "\n",
      "- He kisses any girl. It does not matter what kind of girl: tall, short, old, young, skinny, fat.\n",
      "- He kisses every girl. This means that hi kisses 100% of the girls.\n",
      "\n",
      "### Choose the right answer:\n",
      "\n",
      "- A genie in a bottle can fulfill every/**any** wish.\n",
      "- **Everyone**/Anyone deserves to be happy."
     ]
    },
    {
     "cell_type": "markdown",
     "metadata": {},
     "source": [
      "## Any and Every in negative statements\n",
      "\n",
      "**any + negative = 0%**\n",
      "\n",
      "**every + negative = 1% ~ 99%** not every means '**not 100%**'\n",
      "\n",
      "- We don't understand anything We understand 0%.\n",
      "- We don't understand everything There are things that we do not understand too."
     ]
    },
    {
     "cell_type": "markdown",
     "metadata": {},
     "source": [
      "## No in positive and negative statements:\n",
      "\n",
      "- No in positive statements -> negative meaning\n",
      "  - No\uac00 \uae0d\uc815\uc801 \ubb38\uc7a5\uc5d0 \uc4f0\uc77c \ub54c\ub294 \ubd80\uc815\uc801 \uc758\ubbf8\n",
      "- No in negative statements -> positive meaning\n",
      "  - No\uac00 \ubd80\uc815\uc801 \ubb38\uc7a5\uc5d0 \uc4f0\uc77c \ub54c\ub294 \uae0d\uc815\uc801 \uc758\ubbf8\n",
      "  \n",
      "Imagine that there are two rooms, a red room and a blue room.\n",
      "\n",
      "If 100% of the people are in the red room, then 0% is in the blue room, so;\n",
      "\n",
      "Everyone is in the red room.\n",
      "\n",
      "No one is in the blue room.\n",
      "\n",
      "Read the following sentences:\n",
      "\n",
      "- There is nothing that she does not like to eat.\n",
      "- What does she not like to eat?\n",
      "- Answer: nothing. (0%)\n",
      "- If we make a list of the things that she does not like to eat, we would have an empty list.\n",
      "- This means that she does like to eat anything.\n",
      "\n",
      "\n",
      "- How often does she come late?\n",
      "- Always\n",
      "- She always(100% of the time) comes late.\n",
      "\n",
      "\n",
      "- How often does she come on time?\n",
      "- Answer: never\n",
      "- She never comes on time.\n",
      "\n",
      "\n",
      "- Then how often does she not come late?\n",
      "- Answer: Never\n",
      "- She never(0%) does not come on late."
     ]
    },
    {
     "cell_type": "markdown",
     "metadata": {},
     "source": [
      "## Questions\n",
      "\n",
      "1. You don't need to pay **everything**/nothing/something/anything, I will pay too.\n",
      "  - everything: 50:50 \uc73c\ub85c \ub0b8\ub2e4\ub294 \uc774\uc57c\uae30. \uc5ec\uc790\uac00 \ub0a8\uc790\uc5d0\uac8c \"\ub124\uac00 \uc804\ubd80 \ub0bc \ud544\uc694\ub294 \uc5c6\uc5b4. \ub098\ub3c4 \ub0bc\uaed8\"\n",
      "  - anything: 0% \ub0b8\ub2e4\ub294 \uc774\uc57c\uae30. \"\ub10c \uc544\ubb34\uac83\ub3c4 \ub0b4\uc9c0\ub9c8. \ub0b4\uac00 \ub0bc\uaed8\"\n",
      "2. \"Did you believe **everything**/nothing/something/**anything** that he said?\"\n",
      "  - everything: \uadf8\uac00 \ub9d0\ud55c \uc804\ubd80\ub97c \ubbff\ub294\uac70\uc57c?\n",
      "  - anything: \uadf8\uac00 \ub9d0\ud55c \uc5b4\ub5a4\uac78 \ubbff\ub294\uac70\uc57c?(\ub9de\ub098??)\n",
      "  - \"Hmm. I'm not sure.. everything/nothing/**something**/anything seemed weird.\"\n",
      "  - something: \ud655\uc2e4\ud558\uc9c0 \uc54a\uc544. \uba87 \uac1c\uac00 \uc774\uc0c1\ud574\n",
      "  - \"I didn't believe everything/nothing/something/**anything**, he is such a liar.\"\n",
      "  - he is such a liar\uac00 \uadf8\ub294 \uac70\uc9d3\ub9d0\uc7c1\uc774\uc57c. \ub098\ub294 \uc5b4\ub5a4 \uac83\ub3c4 \ubbff\uc9c0 \uc54a\ub294\ub2e4.\n",
      "3. I'm so busy, I don't have every time/no time/sometime/**anytime** to clean my room.\n",
      "  - any + negative = 0% \uc774\uae30\uc5d0 \"**\ub09c \ubc14\uc058\ub2e4** \ub09c \ub0b4 \ubc29\uc744 \uccad\uc18c\ud558\ub294 \uc2dc\uac04\ub3c4 \uc5c6\ub2e4.\"\n",
      "4. I have a really flexible working schedule, so we can meet every time/no time/sometime/**anytime**.\n",
      "  - \ub098\ub294 \ub9e4\uc6b0 \uc720\uc5f0\ud55c \uc77c\ud558\ub294 \uc2dc\uac04\uc744 \uac00\uc9c0\uace0 \uc788\ub2e4. \uadf8\ub798\uc11c \uc6b0\ub9ac\ub294 \uc5b4\ub5a4 \uc2dc\uac04\uc774\ub4e0 \ub9cc\ub0a0 \uc218 \uc788\ub2e4.\n",
      "5. If you invite a lot of people there is a big chance that not **everyone**/no one/someone/~~anyone~~ will have time to come.\n",
      "  - \ub9cc\uc57d \ub9ce\uc740 \uc0ac\ub78c\uc744 \ucd08\ub300\ud560 \uc218 \uc788\ub2e4\uba74 \uadf8\uac83\uc740 \ub9e4\uc6b0 \ud070 \uae30\ud68c\uc77c \uac83\uc774\ub2e4. \ubaa8\ub4e0 \uc0ac\ub78c\uc774 \uc62c \uc218\ub294 \uc5c6\uc744 \uac83\uc774\ub2e4.\n",
      "  - not\uc774 \uc788\uae30 \ub54c\ubb38\uc5d0 \ubd80\uc815\ubb38. every + negative = 1% ~ 99% \uc774\uae30 \ub54c\ubb38. \uadf8 \ub9ce\uc740 \uc0ac\ub78c\ub4e4\uc774 \ubaa8\ub450 \uc62c \uc218\ub294 \uc5c6\uc796\uc544\n",
      "6. I'm sorry, there is everything/**nothing**/something/anything we can do to help you.\n",
      "  - \ubbf8\uc548\ud574. \uc544\ubb34\uac83\ub3c4 \ub108\ub97c \ub3c4\uc640\uc904 \uc218\uac00 \uc5c6\uc5b4.\n",
      "7. Is there everywhere/nowhere/somewhere/**anywhere** to smoke in this airport?\n",
      "  - \uc774 \uacf5\ud56d\uc5d0\uc11c \ub2f4\ubc30\ub97c \ud544 \uc218 \uc788\ub294 \uacf3\uc774 \uc5b4\ub514 \uc788\uc2b5\ub2c8\uae4c?\n",
      "  - ? any: \uc788\ub294\uc9c0 \uc5c6\ub294\uc9c0 \ubaa8\ub97c \ub54c\n",
      "8. Where are my keys? I can't find them everywhere/nowhere/somewhere/**anywhere**.\n",
      "  - \ub0b4 \ud0a4\ub4e4\uc774 \uc5b4\ub514\uc5d0 \uc788\uc5b4? \ub09c \uc5b4\ub5a4 \uacf3\uc5d0\uc11c\ub3c4 \uadf8\uac83\ub4e4\uc744 \ubabb \ucc3e\uaca0\uc5b4.\n",
      "  - not + negative = 0%\n",
      "9. There will never be peace **everywhere**/nowhere/somewhere/anywhere.\n",
      "  - \uc5b4\ub290 \uacf3\ub3c4 \ud3c9\ud654\ub86d\uc9c0 \uc54a\ub2e4.\n",
      "  - every + negative(never): 1% ~ 99% \uc774\uae30 \ub54c\ubb38\n",
      "10. I want to eat every/no/**some**/**any** chocolate cookies.\n",
      "  - \ub09c \uc57d\uac04\uc758 \ucd08\ucf5c\ub9bf \ucfe0\ud0a4\ub97c \uba39\uace0 \uc2f6\ub2e4.\n",
      "  - \ub09c \uc5b4\ub5a4 \ucd08\ucf5c\ub9bf \ucfe0\ud0a4\ub4e0 \uba39\uace0 \uc2f6\ub2e4.(\uc544\ubb34\uac70\ub098 \ucd08\ucf5c\ub9bf, \uc6b0\uc720, \ub538\uae30 \ub4f1)"
     ]
    },
    {
     "cell_type": "markdown",
     "metadata": {},
     "source": [
      "## Epilogue\n",
      "\n",
      "- Every, No, Some, Any \ubaa8\ub450 \ube44\uc2b7\ud574\uc11c \ud5f7\uac08\ub9b0\ub2e4. \n",
      "- \uc2dc\uac04\ub0a0 \ub54c\ub9c8\ub2e4 \ud55c \ubc88\uc529 \ud6d1\uc5b4\ubcf4\uace0 \ub2e4\uc2dc \uc774\ud574\ud558\ub294 \uc2dc\uac04\uc744 \uac16\uc790."
     ]
    }
   ],
   "metadata": {}
  }
 ]
}