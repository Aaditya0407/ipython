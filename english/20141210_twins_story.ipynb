{
 "metadata": {
  "name": "",
  "signature": "sha256:356a0fdeb544da9c1db66c12f7e2e8ffffdc7b0265b8963c7b7161acddad8fbb"
 },
 "nbformat": 3,
 "nbformat_minor": 0,
 "worksheets": [
  {
   "cells": [
    {
     "cell_type": "markdown",
     "metadata": {},
     "source": [
      "# Twins story\n",
      "\n",
      "- \uc2a4\ud06c\ub9bd\ud2b8\ub97c \uc77d\uc744 \uc218 \uc788\uc5b4\uc11c \uad49\uc7a5\ud788 \uc88b\uc558\ub2e4\n",
      "- \uc2a4\ud06c\ub9bd\ud2b8\ub97c \uc77d\uace0 \uc5b4\ub5a4 \ub73b\uc778\uc9c0 \uc774\ud574\ud560 \uc218 \uc788\uc5c8\ub2e4.\n",
      "\n",
      "## Original Youtube\n",
      "\n",
      "- [Identical Twin Sisters Who Share Boyfriend & Bed (FULL Interview) - YouTube](http://www.youtube.com/watch?v=ITH0XcqwvaA)"
     ]
    },
    {
     "cell_type": "code",
     "collapsed": false,
     "input": [
      "from IPython.display import YouTubeVideo\n",
      "YouTubeVideo('ITH0XcqwvaA')"
     ],
     "language": "python",
     "metadata": {},
     "outputs": [
      {
       "html": [
        "\n",
        "        <iframe\n",
        "            width=\"400\"\n",
        "            height=300\"\n",
        "            src=\"https://www.youtube.com/embed/ITH0XcqwvaA\"\n",
        "            frameborder=\"0\"\n",
        "            allowfullscreen\n",
        "        ></iframe>\n",
        "        "
       ],
       "metadata": {},
       "output_type": "pyout",
       "prompt_number": 1,
       "text": [
        "<IPython.lib.display.YouTubeVideo at 0x10dea29d0>"
       ]
      }
     ],
     "prompt_number": 1
    },
    {
     "cell_type": "markdown",
     "metadata": {},
     "source": [
      "## Script\n",
      "\n",
      "## Script 01\n",
      "\n",
      "Hi, can we please have two hot chocolates?\n",
      "\n",
      "Double or nothing, that's the rule the identical twins Ana and Lucy live by.\n",
      "\n",
      "Whatever she eas I eat, the same exactly the same, we like the same food the same drinks. Umm while I come with her we get exactly the same.\n",
      "\n",
      "They also share everything.\n",
      "\n",
      "We share facebook account, a bed, a job.\n",
      "\n",
      "And when they say everything they mean everything.\n",
      "\n",
      "We share everything, even a boyfriend we share.\n",
      "\n",
      "A year ago Ana and Lucy met their boyfriend Ben through facebook, the twins say he was everything they both wanted.\n",
      "A twin himself the girl say he understands their need to be together 24/7.\n",
      "\n",
      "He knows the closeness, our bond, he understands us, he just gets us and we are a threesome now, like a tribe you now.\n",
      "And we don't find it weird at all, we love it.\n",
      "\n",
      "The three way relationship made international hitlines, online articles tell personal details about this bizarre love triangle.\n",
      "\n",
      "He is just so nice, he has been there for us from the beginning, before all of this happens, he is so supportice of what we are doing, and he has always been there for us."
     ]
    },
    {
     "cell_type": "markdown",
     "metadata": {},
     "source": [
      "### Script 02 - blond hair says\n",
      "\n",
      "Most men struggle to keep one woman happy and satisfied, how does he deal with two?\n",
      "\n",
      "I think double the attention to him, I think any guy would want double the attention of two women.\n",
      "I mean people come up to him and say to him you are so lucky! I mean how does it work how did it happen?\n",
      "He gets handshakes all the time, damn you are a lucky guy, you have two women now wow!\n",
      "\n",
      "It does seem to me that it is more based on fantasy than on really getting to know and understanding each other.\n",
      "\n",
      "Relationship expert Nicole Carboni says it could all end very badly.\n",
      "\n",
      "They are adults and they can make their own choices but you know I do wonder about privacy and own space and why aren't there any within tese two sisters? And I guess that build up vulnerability.\n",
      "\n",
      "But what about when you fight? Is it every two against one?\n",
      "\n",
      "It's always two against one, yeah.\n",
      "\n",
      "When they are not hanging out with Ben the girl's focus is on their appearance.\n",
      "\n",
      "So girls ramming through your wardrobe how do you choose what you are going to wear every day?\n",
      "\n",
      "Umm we have a lot of short dresses. We love bright colors, we love gold with black."
     ]
    },
    {
     "cell_type": "markdown",
     "metadata": {},
     "source": [
      "### Script 03\n",
      "\n",
      "It's not all glitter and glamour for the twins. They dedicate their day to care and comfort. \n",
      "\n",
      "A lot of people think we are an isolation, like why we still want to be together so much.\n",
      "And where we work now, we work in IHK, no one would pick that. I think people think we are in fashion or beauty but you know we love the old, we love where we work.\n",
      "\n",
      "Four years ago the twins lost their dad to cancer, it's while they were caring for him they discovered their love for helping the frail and elderly. And now they work in a nursing home.\n",
      "\n",
      "We love to sit down and have a chat, how their days are going and they ask us what is happening in our lives. It is good to have that close bond with them and we are a family. And that makes them feel good and it makes them feel happy and it makes us feel happy to know we can make someone's day special. We think of them as family now.\n",
      "\n",
      "Can I tell you apart?\n",
      "\n",
      "No, I think not. We are double all the time."
     ]
    },
    {
     "cell_type": "markdown",
     "metadata": {},
     "source": [
      "### Script 04\n",
      "\n",
      "Lucy and Ana admit they have not always looked identical. Growing up they had different hairstyle and personalities. It was until after high school they decided to take it to the extreme and have plastic surgery. They have admitted to have spent close to 200,000 dollar on surgery to look as similar as possible.\n",
      "\n",
      "We were always identical but we have got just some work done and we now look the same. I think actually as we grew up we have come to look more alike.\n",
      "\n",
      "It's a look that turns head whereever they are going.\n",
      "The twins lifestyle divides opinion and attracts many critics but Ana and Lucy say they ignore the trolls and focus on being happy.\n",
      "\n",
      "Some people are judgemental but what we have always said don't judge a book by it's cover.\n",
      "Yes get to know us before you judge us.\n",
      "\n",
      "Spending all day every day together would strain any relationship and the twins admit they have their disagreements but it never lasts long.\n",
      "\n",
      "Everyday everyday, over ridiculous stuff, clothes, what we are going to do today, what's the plan, food, what are we going to buy. Day to day plans but we just get over it.\n",
      "\n",
      "But there is never a time in which you say for example Lucy you are watching TV and Anne you are in the bathroom.\n",
      "\n",
      "Never, never, we are never separated. We are going to the bathroom together or we just watch tv, we are just always together.\n",
      "I think it would be like, I think when we are being away it feels like we are lost without each other, I mean we come as a package you know. If she is not around I feel as if I don't exist really.|"
     ]
    },
    {
     "cell_type": "markdown",
     "metadata": {},
     "source": [
      "## Questions\n",
      "\n",
      "<a name=\"ex1\"></a>\n",
      "<a href=\"#ex1answer\">Answer to Question 1</a>\n",
      "1. Where do the twins come from and what are their names?\n",
      "2. What is the rule of the twins?\n",
      "3. They drink and eat the same? True/False\n",
      "4. but one eats omre that the other one.\n",
      "5. What do the girls share?(5 way)\n",
      "6. How and when did the girls meet their boyfriend?\n",
      "7. How does it come that their boyfriend understands their need to be together all the time?\n",
      "8. The woman who interview the twins thinks that having two girlfriends must be great? True/False\n",
      "9. Why do people tell their boyfriend that he is the luckiest guy?\n",
      "10. What do the twins mean by 'It is always two aginst one.'?\n",
      "11. What are the three rules of dressing that the girls have?(3 way)\n",
      "12. where do the girls work?\n",
      "13. Their father recommended them where to work? True/False\n",
      "14. Why have the girls spend so much money on plastic surgery?\n",
      "    A. They wanted big boobs\n",
      "    B. They were not happy about the result, so they wanted to have more operations\n",
      "    C. To look more similar to each other\n",
      "15. HOw much money have they spend on plastic surgery?\n",
      "16. What do the twins say about people who judge them?\n",
      "    A. They don't care about them\n",
      "    B. They think that people shouldn't judge other people they don't know\n",
      "    C. They think of it as a negative aspect that comes along with their fame\n",
      "17. They always want to do the same thing, eat the same thing and wear the same thing.\n",
      "18. How do the twins feel when they are not together?\n",
      "19. What do the girls hope to do?"
     ]
    },
    {
     "cell_type": "markdown",
     "metadata": {},
     "source": [
      "## Talk\n",
      "\n",
      "### What do you think about\n",
      "\n",
      "1. Their need to be together 24 hours a day?\n",
      "2. The fact that they share a boyfirend? Do you think their boyfriend is a lucky guy?\n",
      "3. Their appearances?\n",
      "4. Their fashion?\n",
      "5. How they looked before they did plastic surgery? When did they look better?\n",
      "6. People who judge them without knowing them?\n",
      "7. Could you be 24 hours together with someone all day long?\n",
      "  - What would be the longest amount of time that you could be together with someone?\n",
      "  - Who would you choose to spend 24 hours with if you had to?\n",
      "8. What kind of personality do the girls have?"
     ]
    },
    {
     "cell_type": "markdown",
     "metadata": {},
     "source": [
      "<a name=\"ex1answer\">Answer to Question1</a>\n",
      "\n",
      "- Anna, Lucy\n",
      "\n",
      "<a href=\"#ex1\">Back to Question 1</a>"
     ]
    }
   ],
   "metadata": {}
  }
 ]
}