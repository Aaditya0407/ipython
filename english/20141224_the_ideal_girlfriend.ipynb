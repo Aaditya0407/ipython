{
 "metadata": {
  "name": "",
  "signature": "sha256:8f2a061efecb0a34613a5f0879839dcc82ed07577c66a33968a8df2a725ca5f8"
 },
 "nbformat": 3,
 "nbformat_minor": 0,
 "worksheets": [
  {
   "cells": [
    {
     "cell_type": "markdown",
     "metadata": {},
     "source": [
      "# The ideal girlfriend\n",
      "\n",
      "\n",
      "<img src=\"http://upload.enews24.net/News/Contents/20130616/83075089.JPG\" width=400>"
     ]
    },
    {
     "cell_type": "markdown",
     "metadata": {},
     "source": [
      "## Choose the idiom meaning\n",
      "\n",
      "No | Idiom | Meaning\n",
      "--- | --- | ---\n",
      "1 | to come across something | to find something by chance(\uc6b0\uc5f0\ud788)\n",
      "2 | actually | in, fact, as the truth\n",
      "3 | to contain | to have something within\n",
      "4 | to sum up | give a summary of something\n",
      "5 | to be broad | to be wide, big\n",
      "6 | to go nuts | to go crazy\n",
      "7 | to be into | to like something\n",
      "8 | to be ridiculous | silly, absurd, funny\n",
      "9 | to occupy | to keep someone/thing busy\n",
      "10 | racial segregation(\uc624\ud0c0 \uc218\uc815) | separating people based on race(\uc778\uc885)\n",
      "11 | variety | diverse, many different kind of\n",
      "12 | unique | special, one of a kind, only one\n",
      "13 | incredibly | in a great amount, very strong\n",
      "14 | to steal the show | to get all the attention(\ub108\uc758 \ubb34\ub300\ub97c \ube7c\uc557\ub2e4. \uc758\uc778\ud654)\n",
      "15 | occasionally | sometimes, so now and then\n",
      "16 | frequently | often, with much frequency\n",
      "17 | [to flirt](http://endic.naver.com/enkrEntry.nhn?sLn=kr&entryId=b5448388de0645d09cc23a9b3a9fdcd3&query=flirt) | to behave in a ceratin way in order to attract someone\n",
      "18 | booze | alcohol\n",
      "19 | to be overwhelming | extremely, to a great degree\n",
      "20 | insecurities | lack of confidence in oneself\n",
      "21 | in general | common, mainstream\n",
      "22 | to be the last thing \"someone\" wants | to absolutely not want \"something\" to happen\n",
      "23 | to be stunning | to be impressive, attractive\n",
      "\n",
      "### Learn idiom from image\n",
      "\n",
      "\n",
      "\n",
      "8. to be ridiculous\n",
      "<img src=\"images/words/ridiculous.jpg\" width=400>\n",
      "\n",
      "\n",
      "9. to occupy\n",
      "<img src=\"images/words/occupy.jpg\" width=400>\n",
      "\n",
      "\n",
      "10. racial segregation\n",
      "<img src=\"images/words/racial_segregation.jpg\" width=400>\n",
      "\n",
      "\n",
      "13. incredibly\n",
      "<img src=\"images/words/incredibly.jpg\" width=400>\n",
      "\n",
      "\n",
      "18. to flirt\n",
      "<img src=\"images/words/flirt.jpg\" width=400>\n",
      "\n",
      "\n",
      "19. to be overwhelming\n",
      "<img src=\"images/words/overwhelming.jpg\" width=400>\n",
      "\n",
      "\n",
      "20. insecurities\n",
      "<img src=\"images/words/insecurities.png\" width=400>\n",
      "\n",
      "\n",
      "22. to be the last thing \"someone\" wants\n",
      "<img src=\"images/words/to_be_the_last_thing.jpg\" width=400>\n",
      "\n",
      "\n",
      "23. to be stunning\n",
      "<img src=\"images/words/stunning1.jpg\" width=400>\n",
      "\n",
      "### Idiom Questions\n",
      "\n",
      "- incredibly\uacfc to be overwhelming\uc758 \ucc28\uc774\uc810\uc774 \ubb50\ub0d0?\n",
      "  - to be overwhelming\uc740 negative expression"
     ]
    },
    {
     "cell_type": "markdown",
     "metadata": {},
     "source": [
      "## Context\n",
      "\n",
      "- Every week I come across a lot of articles about the ideal partner. Some of these are generalized lists about attractive points in the opposite sex, while others actually tell men or women what they should look like and do. In fact, I recently read a list that contained necessary boyfriend qualities. The girl described the man she's searching for. To sum it up, she wants \"a guy who's [gorgeous](http://endic.naver.com/enkrEntry.nhn?sLn=kr&entryId=9169ecc47a6143d69831180ff86c57ed&query=gorgeous) in every area and as [obsessed](http://endic.naver.com/enkrEntry.nhn?sLn=kr&entryId=73df645ad68147869b44c64031419c1b&query=obsessed) with Harry Potter as I am.\" Good luck hun!(hunny)\n",
      "\n",
      "\n",
      "- I don't have very high standards since my definition of \"attractive\" is very broad. But here's a list of things that I'm looking for in my way better-half.\n",
      "\n",
      "\n",
      ">Words\n",
      "- opposite sex: \uc774\uc131\n",
      "- gorgeous: \uc544\uc8fc \uba4b\uc9c4\n",
      "- obsessed: \uc9d1\ucc29\ud558\ub2e4\n",
      "- in my way better-half: \uc790\uae30 \ubc18\ucabd"
     ]
    },
    {
     "cell_type": "markdown",
     "metadata": {},
     "source": [
      "### 1. Nice Hair\n",
      "\n",
      "- In fact I consider most women's hair to be nice. There are two major 'dos which I don't think of as cute, however. One is the partly [shaved](http://endic.naver.com/enkrEntry.nhn?sLn=kr&entryId=7bb80855aa5843428871ad6abc2ebf51&query=shaved+look) look, it looks as if the girl **has gone nuts**. Next is the [unkempt](http://endic.naver.com/enkrEntry.nhn?sLn=kr&entryId=37b48d9dd49d4d4f923e48b9b55cdb6b&query=unkempt), down-to-the waist hair.\n",
      "\n",
      ">Words\n",
      "- shaved: \ubc18\uc0ad\n",
      "<img src=\"images/words/shaved_look.jpg\" width=400>\n",
      "\n",
      "- unkempt: \ubd80\uc2dc\uc2dc\ud55c\n",
      "<img src=\"images/words/unkempt.jpg\" width=400>"
     ]
    },
    {
     "cell_type": "markdown",
     "metadata": {},
     "source": [
      "### 2. Well-dressed\n",
      "\n",
      "- I'm very into clothes and shoes, so I would prefer the girl I'm dating to also be. Many different styles are okay with me. As long as a girl knows her style and wears it well I'm a fan. I'm not into the t-shirt, yoga pants and sneaker everyday look. Did you just wake up and decide to go out in public? \"But it's comfortable!\" Yeah, dress better next time though."
     ]
    },
    {
     "cell_type": "markdown",
     "metadata": {},
     "source": [
      "### 3. Able to hold a good conversation\n",
      "\n",
      "- Sorry, I can't talk about weather, celebrities and the struggles of daily life forever. I desire meaningful discussions in which we share our viewpoints, passions, fears and all the **ridiculous** thoughts [occupying](http://endic.naver.com/enkrEntry.nhn?sLn=kr&entryId=c145395327b545f2a0f4df27311c7211&query=occupy) our minds. At some point I might deeply desire to know your opinion on chocolate cake or **cacial segregation**. The lady I spend my life with must be able to talk about these views.\n",
      "\n",
      "\n",
      ">Words:\n",
      "- struggle: \ud798\ub4e0 \uc2dc\uac04\n",
      "<img src=\"images/words/struggle.jpg\" width=400>"
     ]
    },
    {
     "cell_type": "markdown",
     "metadata": {},
     "source": [
      "### 4. Passionate about things\n",
      "\n",
      "- No, the beach and getting drinks are not a part of things you're passionate about. I'm very passionate about everything that interests me. I do stand-up and write comedy. As a matter of fact, I write a great variety of stuff. I'm even interested in rap music and hip-hop culture. I love old horror and thriller films. The list could continue for a while. Clearly I have a lot going on in this obsessive brain of mine. I need a girl with unique interests who is incredibly [spirited](http://endic.naver.com/enkrEntry.nhn?sLn=kr&entryId=6f6a5e78761544a6b97751f4989dd490&query=spirited) about them.\n",
      "\n",
      ">Words:\n",
      "- spirited: \ud65c\ubc1c\ud55c"
     ]
    },
    {
     "cell_type": "markdown",
     "metadata": {},
     "source": [
      "### 5. Not afraid to dance\n",
      "\n",
      "- I'm not asking for someone who steals the show fo the night. I just want somebody who isn't afraid to get out there and enjoy dancing with me. Something beyond plainly grinding your ass into me, obviously.\n",
      "\n",
      ">Words:\n",
      "- plainly: basic\n",
      "- grinding: \ub04a\uc784\uc5c6\uc774"
     ]
    },
    {
     "cell_type": "markdown",
     "metadata": {},
     "source": [
      "### 6. Not a partier\n",
      "\n",
      "- I don't drink, but naturally don't have any problem with someone who does **occasionally**. What I can't accept is a girl who feels the need to go out and get drunk weekly, or even more **frequently**. It indicates you haven't found any real meaning in life. I'm not here to drag you haven't found any real meaning in life. I'm not here to drag you home from the bar where you probably just **flirted** with many other men. I want a girl who can have a wonderful time without the **booze**."
     ]
    },
    {
     "cell_type": "markdown",
     "metadata": {},
     "source": [
      "### 7. Capable of making femal friends\n",
      "\n",
      "- Due to negative experiences in the past I have been avoiding the \"I just make better freinds with guys,\" girl. \"I have mostly guy friends.\" Let me guess, it is LESS DRAMA? It's always the same justifications with these ladies. They believe girls cause DRAMAAAA. Perhaps I'm a bit of a jealous guy, although it's not an **overwhelming** jealousy. Admittedly my **insecurities** likely play into this."
     ]
    },
    {
     "cell_type": "markdown",
     "metadata": {},
     "source": [
      "### 8. Open to new things\n",
      "\n",
      "- I'm not referring to stuff in the bedroom like putting spiders on each other's butts, or whatever freaky people do. I mean anything **in general**. Something one or neither of us have experienced before. For example, I've never gone camping. The very idea of it makes me sick, but I'd be willing to give it a try if my partner wanted to.\n",
      "\n",
      ">Words:\n",
      "- willing: \uc790\ubc1c\uc801\uc778"
     ]
    },
    {
     "cell_type": "markdown",
     "metadata": {},
     "source": [
      "### 9. Compassion and warmth\n",
      "\n",
      "- Making myself look needy is the **last thing I want**. When I have feelings for someone, I'll inform the girl what makes her **stunning** inside and out, and share with her the emotions she brings out in me. Honestly, I would hope for at least a little bit of that as well. I am not a pussy but I need to feel special and desired at times, too.\n",
      "\n",
      ">Words:\n",
      "- inform: \uc54c\ub9ac\ub2e4.\n",
      "- compassion: \ub3d9\uc815\uc2ec\n",
      "- warmth: \ub530\ub73b\ud568"
     ]
    }
   ],
   "metadata": {}
  }
 ]
}