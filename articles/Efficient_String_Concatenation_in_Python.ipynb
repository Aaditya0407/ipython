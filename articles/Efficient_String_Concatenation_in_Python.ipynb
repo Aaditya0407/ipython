{
 "metadata": {
  "name": "",
  "signature": "sha256:fdaec2cf30ba8509c707d9cc6c45cf011e793afa5fda8b3a29918556ae9238fe"
 },
 "nbformat": 3,
 "nbformat_minor": 0,
 "worksheets": [
  {
   "cells": [
    {
     "cell_type": "markdown",
     "metadata": {},
     "source": [
      "# Efficient String Concatenation in Python\n",
      "\n",
      "## \uc6d0\ubcf8 \uc790\ub8cc\n",
      "\n",
      "- [Efficient String Concatenation in Python](http://www.skymind.com/~ocrow/python_string/)\n"
     ]
    },
    {
     "cell_type": "markdown",
     "metadata": {},
     "source": [
      "## Introduction\n",
      "\n",
      "- long strings in the Python programming language can sometimes result in very slow running code\n",
      "- In Python the **string** object is **immutable**: **each time** a string is **assigned** to a variable a new object is created in memory to represent the **new value**\n",
      "- \ub9e4\ubc88 \ubb38\uc790\uc5f4 \ub9c8\uc9c0\ub9c9\uc5d0 \uc0c8\ub85c\uc6b4 \ubb38\uc790\uc5f4\uc744 \ubd99\uc774\uac8c \ub418\uba74 \ub9e4\ubc88 \ubb38\uc790\uc5f4\uc744 \uc0c8\ub85c \uc0dd\uc131\ud55c\ub2e4.\n",
      "- \ub611\uac19\uc740 \uac78 \ub610 \ubcf5\uc0ac\ud558\uace0 \uadf8 \ub4a4\uc5d0 \ucd94\uac00\ud558\uac8c \ub41c\ub2e4. \uadf8\ub798\uc11c \ub9ce\uc740 string\uc744 \ub2e4\ub8f0 \ub54c \ub290\ub824\uc9c0\uac8c \ub41c\ub2e4."
     ]
    },
    {
     "cell_type": "markdown",
     "metadata": {},
     "source": [
      "## Six Method\n",
      "\n",
      "### Method 1: Naive appending\n",
      "\n",
      "- backticks(``): int -> str, str()\uacfc \uac19\uc740 \uc5ed\ud560"
     ]
    },
    {
     "cell_type": "code",
     "collapsed": false,
     "input": [
      "!python --version"
     ],
     "language": "python",
     "metadata": {},
     "outputs": [
      {
       "output_type": "stream",
       "stream": "stdout",
       "text": [
        "Python 2.7.6\r\n"
       ]
      }
     ],
     "prompt_number": 102
    },
    {
     "cell_type": "code",
     "collapsed": false,
     "input": [
      "loop_count = 100"
     ],
     "language": "python",
     "metadata": {},
     "outputs": [],
     "prompt_number": 50
    },
    {
     "cell_type": "code",
     "collapsed": false,
     "input": [
      "def method1():\n",
      "    out_str = ''\n",
      "    for num in xrange(loop_count):\n",
      "        out_str += `num`\n",
      "    return out_str"
     ],
     "language": "python",
     "metadata": {},
     "outputs": [],
     "prompt_number": 225
    },
    {
     "cell_type": "code",
     "collapsed": false,
     "input": [
      "# backticks: int -> str\n",
      "`10`"
     ],
     "language": "python",
     "metadata": {},
     "outputs": [
      {
       "metadata": {},
       "output_type": "pyout",
       "prompt_number": 52,
       "text": [
        "'10'"
       ]
      }
     ],
     "prompt_number": 52
    },
    {
     "cell_type": "code",
     "collapsed": false,
     "input": [
      "str(10)"
     ],
     "language": "python",
     "metadata": {},
     "outputs": [
      {
       "metadata": {},
       "output_type": "pyout",
       "prompt_number": 53,
       "text": [
        "'10'"
       ]
      }
     ],
     "prompt_number": 53
    },
    {
     "cell_type": "code",
     "collapsed": false,
     "input": [
      "method1()"
     ],
     "language": "python",
     "metadata": {},
     "outputs": [
      {
       "metadata": {},
       "output_type": "pyout",
       "prompt_number": 54,
       "text": [
        "'0123456789101112131415161718192021222324252627282930313233343536373839404142434445464748495051525354555657585960616263646566676869707172737475767778798081828384858687888990919293949596979899'"
       ]
      }
     ],
     "prompt_number": 54
    },
    {
     "cell_type": "code",
     "collapsed": false,
     "input": [
      "%timeit?"
     ],
     "language": "python",
     "metadata": {},
     "outputs": [],
     "prompt_number": 30
    },
    {
     "cell_type": "code",
     "collapsed": false,
     "input": [
      "%timeit method1()"
     ],
     "language": "python",
     "metadata": {},
     "outputs": [
      {
       "output_type": "stream",
       "stream": "stdout",
       "text": [
        "1000000 loops, best of 3: 1.25 \u00b5s per loop\n"
       ]
      }
     ],
     "prompt_number": 37
    },
    {
     "cell_type": "code",
     "collapsed": false,
     "input": [
      "%timeit -n 1000 -r 10 method1()"
     ],
     "language": "python",
     "metadata": {},
     "outputs": [
      {
       "output_type": "stream",
       "stream": "stdout",
       "text": [
        "1000 loops, best of 10: 9.94 \u00b5s per loop\n"
       ]
      }
     ],
     "prompt_number": 55
    },
    {
     "cell_type": "code",
     "collapsed": false,
     "input": [
      "%timeit -n 1000 -r 10 -p 3 -o method1()"
     ],
     "language": "python",
     "metadata": {},
     "outputs": [
      {
       "output_type": "stream",
       "stream": "stdout",
       "text": [
        "1000 loops, best of 10: 10.1 \u00b5s per loop\n"
       ]
      },
      {
       "metadata": {},
       "output_type": "pyout",
       "prompt_number": 56,
       "text": [
        "<TimeitResult : 1000 loops, best of 10: 10.1 \u00b5s per loop>"
       ]
      }
     ],
     "prompt_number": 56
    },
    {
     "cell_type": "code",
     "collapsed": false,
     "input": [
      "%timeit -n 1000 method1()"
     ],
     "language": "python",
     "metadata": {},
     "outputs": [
      {
       "output_type": "stream",
       "stream": "stdout",
       "text": [
        "1000 loops, best of 3: 10.1 \u00b5s per loop\n"
       ]
      }
     ],
     "prompt_number": 57
    },
    {
     "cell_type": "code",
     "collapsed": false,
     "input": [
      "%%timeit?"
     ],
     "language": "python",
     "metadata": {},
     "outputs": [],
     "prompt_number": 31
    },
    {
     "cell_type": "markdown",
     "metadata": {},
     "source": [
      "### Method 2: MutableString class\n",
      "\n",
      "- [string - Why is MutableString deprecated in Python? - Stack Overflow](http://stackoverflow.com/questions/4651344/why-is-mutablestring-deprecated-in-python)\n",
      "- Mutablestring \ud074\ub798\uc2a4\uac00 \uc5c6\ub2e4. \uc0ac\ub77c\uc9d0"
     ]
    },
    {
     "cell_type": "code",
     "collapsed": false,
     "input": [
      "def method2():\n",
      "    from UserString import MutableString\n",
      "    out_str = MutableString()\n",
      "    for num in xrange(loop_count):\n",
      "        out_str += `num`\n",
      "    return out_str"
     ],
     "language": "python",
     "metadata": {},
     "outputs": [],
     "prompt_number": 226
    },
    {
     "cell_type": "markdown",
     "metadata": {},
     "source": [
      "### Method 3: Character arrays\n",
      "\n",
      "- c\uc758 array\ub85c \ub9cc\ub4e4\uace0\n",
      "- fromstring\uc73c\ub85c string\uc73c\ub85c \uac00\uc838\uc640\uc11c \ubc30\uc5f4\uc758 \ub05d\uc5d0 \ucd94\uac00\ud55c\ub2e4.\n",
      "- \ub9c8\uc9c0\ub9c9\uc73c\ub85c tostring() \ud574\uc11c string\uc73c\ub85c \ub9cc\ub4e0\ub2e4.\n",
      "\n",
      "\n",
      "- Arryas are mutable in python. \uadf8\ub798\uc11c \uc6d0\ub798 \uc788\ub358 \ubb38\uc790\uc5f4\uc740 \ubcf5\uc0ac\ud558\uc9c0 \uc54a\ub294\ub2e4."
     ]
    },
    {
     "cell_type": "code",
     "collapsed": false,
     "input": [
      "def method3():\n",
      "    from array import array\n",
      "    char_array = array('c')\n",
      "    for num in xrange(loop_count):\n",
      "        char_array.fromstring(`num`)\n",
      "    return char_array.tostring()"
     ],
     "language": "python",
     "metadata": {},
     "outputs": [],
     "prompt_number": 227
    },
    {
     "cell_type": "code",
     "collapsed": false,
     "input": [
      "method3()"
     ],
     "language": "python",
     "metadata": {},
     "outputs": [
      {
       "metadata": {},
       "output_type": "pyout",
       "prompt_number": 59,
       "text": [
        "'0123456789101112131415161718192021222324252627282930313233343536373839404142434445464748495051525354555657585960616263646566676869707172737475767778798081828384858687888990919293949596979899'"
       ]
      }
     ],
     "prompt_number": 59
    },
    {
     "cell_type": "code",
     "collapsed": false,
     "input": [
      "from array import array"
     ],
     "language": "python",
     "metadata": {},
     "outputs": [],
     "prompt_number": 60
    },
    {
     "cell_type": "code",
     "collapsed": false,
     "input": [
      "char_array = array('c')"
     ],
     "language": "python",
     "metadata": {},
     "outputs": [],
     "prompt_number": 61
    },
    {
     "cell_type": "code",
     "collapsed": false,
     "input": [
      "char_array"
     ],
     "language": "python",
     "metadata": {},
     "outputs": [
      {
       "metadata": {},
       "output_type": "pyout",
       "prompt_number": 62,
       "text": [
        "array('c')"
       ]
      }
     ],
     "prompt_number": 62
    },
    {
     "cell_type": "code",
     "collapsed": false,
     "input": [
      "char_array.fromstring(`5`)"
     ],
     "language": "python",
     "metadata": {},
     "outputs": [],
     "prompt_number": 63
    },
    {
     "cell_type": "code",
     "collapsed": false,
     "input": [
      "char_array"
     ],
     "language": "python",
     "metadata": {},
     "outputs": [
      {
       "metadata": {},
       "output_type": "pyout",
       "prompt_number": 64,
       "text": [
        "array('c', '5')"
       ]
      }
     ],
     "prompt_number": 64
    },
    {
     "cell_type": "code",
     "collapsed": false,
     "input": [
      "char_array.fromstring(`6`)\n",
      "char_array"
     ],
     "language": "python",
     "metadata": {},
     "outputs": [
      {
       "metadata": {},
       "output_type": "pyout",
       "prompt_number": 65,
       "text": [
        "array('c', '56')"
       ]
      }
     ],
     "prompt_number": 65
    },
    {
     "cell_type": "code",
     "collapsed": false,
     "input": [
      "char_array.tostring()"
     ],
     "language": "python",
     "metadata": {},
     "outputs": [
      {
       "metadata": {},
       "output_type": "pyout",
       "prompt_number": 66,
       "text": [
        "'56'"
       ]
      }
     ],
     "prompt_number": 66
    },
    {
     "cell_type": "markdown",
     "metadata": {},
     "source": [
      "### Method 4: Build a list of strings, then join it\n",
      "\n",
      "- \uc774 \ubc29\ubc95\uc744 \ucd94\ucc9c\ud55c\ub2e4. \ub9e4\uc6b0 \ud30c\uc774\uc36c\uc2a4\ub7fd\ub2e4."
     ]
    },
    {
     "cell_type": "code",
     "collapsed": false,
     "input": [
      "def method4():\n",
      "    str_list = []\n",
      "    for num in xrange(loop_count):\n",
      "        str_list.append(`num`)\n",
      "    out_str = ''.join(str_list)\n",
      "    return out_str"
     ],
     "language": "python",
     "metadata": {},
     "outputs": [],
     "prompt_number": 228
    },
    {
     "cell_type": "markdown",
     "metadata": {},
     "source": [
      "### Method 5: Write to a pseudo file\n",
      "\n",
      "- \ud30c\uc77c\ucc98\ub7fc \uc800\uc7a5\ub41c\ub2e4. \ud558\uc9c0\ub9cc \uc800\uc7a5\ub418\ub294 \uac83\uc740 string.\n",
      "- \uba85\ud655\ud558\uac8c \ud30c\uc77c\uc5d0 \ucd94\uac00\ud558\ub294 \uac83\uc740 \ub9e4\uc6b0 \uc27d\ub2e4."
     ]
    },
    {
     "cell_type": "code",
     "collapsed": false,
     "input": [
      "def method5():\n",
      "    from cStringIO import StringIO\n",
      "    file_str = StringIO()\n",
      "    for num in xrange(loop_count):\n",
      "        file_str.write(`num`)\n",
      "    out_str = file_str.getvalue()\n",
      "    return out_str"
     ],
     "language": "python",
     "metadata": {},
     "outputs": [],
     "prompt_number": 229
    },
    {
     "cell_type": "markdown",
     "metadata": {},
     "source": [
      "### Method 6: List comprehensions\n",
      "\n",
      "- Method4\uc640 \uac19\uc740\ub370 list.append()\ub97c \uac01 loop\uc5d0\uc11c \ubd80\ub974\uc9c0 \uc54a\uae30 \ub54c\ubb38\uc5d0 \uc18d\ub3c4 \ud5a5\uc0c1\uc774 \uc788\ub2e4.\n",
      "- \ub9e4\uc6b0 \uc9e7\uc740 \ucf54\ub4dc\ub2e4.\n",
      "- join, list comprehension\uc744 \ub3d9\uc2dc\uc5d0 \uc0ac\uc6a9\ud588\ub2e4"
     ]
    },
    {
     "cell_type": "code",
     "collapsed": false,
     "input": [
      "def method6():\n",
      "    out_str = ''.join([`num` for num in xrange(loop_count)])\n",
      "    return out_str"
     ],
     "language": "python",
     "metadata": {},
     "outputs": [],
     "prompt_number": 230
    },
    {
     "cell_type": "markdown",
     "metadata": {},
     "source": [
      "## Results\n",
      "\n",
      "### Results: Twenty thousand integers(20,000)"
     ]
    },
    {
     "cell_type": "code",
     "collapsed": false,
     "input": [
      "loop_count = 20000"
     ],
     "language": "python",
     "metadata": {},
     "outputs": [],
     "prompt_number": 233
    },
    {
     "cell_type": "code",
     "collapsed": false,
     "input": [
      "%timeit method1()"
     ],
     "language": "python",
     "metadata": {},
     "outputs": [
      {
       "output_type": "stream",
       "stream": "stdout",
       "text": [
        "100 loops, best of 3: 2.56 ms per loop\n"
       ]
      }
     ],
     "prompt_number": 234
    },
    {
     "cell_type": "code",
     "collapsed": false,
     "input": [
      "%timeit method2()"
     ],
     "language": "python",
     "metadata": {},
     "outputs": []
    },
    {
     "cell_type": "code",
     "collapsed": false,
     "input": [
      "%timeit method3()"
     ],
     "language": "python",
     "metadata": {},
     "outputs": [
      {
       "output_type": "stream",
       "stream": "stdout",
       "text": [
        "100 loops, best of 3: 6.4 ms per loop\n"
       ]
      }
     ],
     "prompt_number": 235
    },
    {
     "cell_type": "code",
     "collapsed": false,
     "input": [
      "%timeit method4()"
     ],
     "language": "python",
     "metadata": {},
     "outputs": [
      {
       "output_type": "stream",
       "stream": "stdout",
       "text": [
        "100 loops, best of 3: 2.82 ms per loop\n"
       ]
      }
     ],
     "prompt_number": 236
    },
    {
     "cell_type": "code",
     "collapsed": false,
     "input": [
      "%timeit method5()"
     ],
     "language": "python",
     "metadata": {},
     "outputs": [
      {
       "output_type": "stream",
       "stream": "stdout",
       "text": [
        "100 loops, best of 3: 7.57 ms per loop\n"
       ]
      }
     ],
     "prompt_number": 237
    },
    {
     "cell_type": "code",
     "collapsed": false,
     "input": [
      "%timeit method6()"
     ],
     "language": "python",
     "metadata": {},
     "outputs": [
      {
       "output_type": "stream",
       "stream": "stdout",
       "text": [
        "1000 loops, best of 3: 1.74 ms per loop\n"
       ]
      }
     ],
     "prompt_number": 238
    },
    {
     "cell_type": "markdown",
     "metadata": {},
     "source": [
      ">timeit: 100, 1000 loops \uc774\ub4e0 \uc5b4\uc9dc\ud53c best 3\uc758 \uacb0\uacfc\ub9cc \ubcf4\uba74 \ub41c\ub2e4."
     ]
    },
    {
     "cell_type": "markdown",
     "metadata": {},
     "source": [
      "### \uc6d0\ub798 \ube14\ub85c\uadf8\uc5d0 \uc788\ub294 Image(\ub0b4 \uc2e4\ud5d8 \uacb0\uacfc\uc640 \ub2e4\ub984)\n",
      "\n",
      "![Concatenations per second(thousands)](http://www.skymind.com/~ocrow/python_string/test_20k.gif)"
     ]
    },
    {
     "cell_type": "markdown",
     "metadata": {},
     "source": [
      "### \uacb0\uacfc\uac00 \uc774\uc0c1\ud55c\ub370?\n",
      "\n",
      "1. method6: list comprehension\n",
      "2. method1: string concatenating\n",
      "3. method4: list append\n",
      "\n",
      "\n",
      "- \uc6d0\ub798 \ube14\ub85c\uadf8\uc5d0\uc11c \ubcf4\uc5ec\uc900 \uac83\uacfc \ub2e4\ub978 \uacb0\uacfc\uac00 \ub098\ud0c0\ub09c\ub2e4.\n",
      "- method1\uc774 method4\ubcf4\ub2e4 \ube60\ub978\uac8c \uc774\ud574\uac00 \uc548\ub41c\ub2e4. string\uc774 \ubcc0\uacbd\ub418\uc9c0 \uc54a\ub294 \uac1d\uccb4\uc774\uae30 \ub54c\ubb38\uc5d0 \ub9e4\ubc88 \uc0dd\uc131\ub418\uc11c \ub290\ub9b4\uac83 \uac19\uc740\ub370 \uacb0\uacfc\ub294 \ub354 \ube60\ub974\ub124?(**\uac00\uc7a5 \uc774\ud574 \uc548\ub418\ub294 \uacb0\uacfc**)\n",
      "- method5 \uac19\uc740 \uacbd\uc6b0\uc5d0\ub294 memory\uc5d0 \uc4f8\uac83 \uac19\uc740\ub370 \uc2e4\uc81c temp \ud30c\uc77c\ub85c \uc4f0\ub098? \uc65c \uc774\ub9ac \uc18d\ub3c4\uac00 \ub290\ub9ac\uc9c0?\n",
      "- \ucc38\uace0\ub85c \ub0b4 \ucef4\ud4e8\ud130\ub294 \ub9e5\ubd81 \ud504\ub85c \ub808\ud2f0\ub098\uc784"
     ]
    },
    {
     "cell_type": "code",
     "collapsed": false,
     "input": [
      "loop_count = 500000"
     ],
     "language": "python",
     "metadata": {},
     "outputs": [],
     "prompt_number": 96
    },
    {
     "cell_type": "code",
     "collapsed": false,
     "input": [
      "%timeit method1()"
     ],
     "language": "python",
     "metadata": {},
     "outputs": [
      {
       "output_type": "stream",
       "stream": "stdout",
       "text": [
        "10 loops, best of 3: 84.7 ms per loop\n"
       ]
      }
     ],
     "prompt_number": 97
    },
    {
     "cell_type": "code",
     "collapsed": false,
     "input": [
      "%timeit method2()"
     ],
     "language": "python",
     "metadata": {},
     "outputs": []
    },
    {
     "cell_type": "code",
     "collapsed": false,
     "input": [
      "%timeit method3()"
     ],
     "language": "python",
     "metadata": {},
     "outputs": [
      {
       "output_type": "stream",
       "stream": "stdout",
       "text": [
        "1 loops, best of 3: 178 ms per loop\n"
       ]
      }
     ],
     "prompt_number": 98
    },
    {
     "cell_type": "code",
     "collapsed": false,
     "input": [
      "%timeit method4()"
     ],
     "language": "python",
     "metadata": {},
     "outputs": [
      {
       "output_type": "stream",
       "stream": "stdout",
       "text": [
        "10 loops, best of 3: 90 ms per loop\n"
       ]
      }
     ],
     "prompt_number": 99
    },
    {
     "cell_type": "code",
     "collapsed": false,
     "input": [
      "%timeit method5()"
     ],
     "language": "python",
     "metadata": {},
     "outputs": [
      {
       "output_type": "stream",
       "stream": "stdout",
       "text": [
        "1 loops, best of 3: 197 ms per loop\n"
       ]
      }
     ],
     "prompt_number": 100
    },
    {
     "cell_type": "code",
     "collapsed": false,
     "input": [
      "%timeit method6()"
     ],
     "language": "python",
     "metadata": {},
     "outputs": [
      {
       "output_type": "stream",
       "stream": "stdout",
       "text": [
        "10 loops, best of 3: 62.8 ms per loop\n"
       ]
      }
     ],
     "prompt_number": 101
    },
    {
     "cell_type": "markdown",
     "metadata": {},
     "source": [
      "### timeit\uc774 \uc798\ubabb\ub410\ub098? \ub0b4\uac00 \uc9c1\uc811 \uc9dc\ubcf4\uc790"
     ]
    },
    {
     "cell_type": "code",
     "collapsed": false,
     "input": [
      "import time\n",
      "def check_time(func):\n",
      "    def inner(*args, **kwargs):\n",
      "        start = time.time()\n",
      "        for i in range(10):\n",
      "            ret = func(*args, **kwargs)\n",
      "        end = time.time()\n",
      "        print '%.8f' % (end - start)\n",
      "        return ret\n",
      "    return inner"
     ],
     "language": "python",
     "metadata": {},
     "outputs": [],
     "prompt_number": 123
    },
    {
     "cell_type": "code",
     "collapsed": false,
     "input": [
      "@check_time\n",
      "def method1():\n",
      "    out_str = ''\n",
      "    for num in xrange(loop_count):\n",
      "        out_str += `num`\n",
      "#     return out_str"
     ],
     "language": "python",
     "metadata": {},
     "outputs": [],
     "prompt_number": 135
    },
    {
     "cell_type": "code",
     "collapsed": false,
     "input": [
      "@check_time\n",
      "def method3():\n",
      "    from array import array\n",
      "    char_array = array('c')\n",
      "    for num in xrange(loop_count):\n",
      "        char_array.fromstring(`num`)\n",
      "    char_array.tostring()"
     ],
     "language": "python",
     "metadata": {},
     "outputs": [],
     "prompt_number": 136
    },
    {
     "cell_type": "code",
     "collapsed": false,
     "input": [
      "@check_time\n",
      "def method4():\n",
      "    str_list = []\n",
      "    for num in xrange(loop_count):\n",
      "        str_list.append(`num`)\n",
      "    ''.join(str_list)"
     ],
     "language": "python",
     "metadata": {},
     "outputs": [],
     "prompt_number": 137
    },
    {
     "cell_type": "code",
     "collapsed": false,
     "input": [
      "@check_time\n",
      "def method5():\n",
      "    from cStringIO import StringIO\n",
      "    file_str = StringIO()\n",
      "    for num in xrange(loop_count):\n",
      "        file_str.write(`num`)\n",
      "    file_str.getvalue()"
     ],
     "language": "python",
     "metadata": {},
     "outputs": [],
     "prompt_number": 138
    },
    {
     "cell_type": "code",
     "collapsed": false,
     "input": [
      "@check_time\n",
      "def method6():\n",
      "    ''.join([`num` for num in xrange(loop_count)])"
     ],
     "language": "python",
     "metadata": {},
     "outputs": [],
     "prompt_number": 139
    },
    {
     "cell_type": "code",
     "collapsed": false,
     "input": [
      "method1()"
     ],
     "language": "python",
     "metadata": {},
     "outputs": [
      {
       "output_type": "stream",
       "stream": "stdout",
       "text": [
        "0.87336206\n"
       ]
      }
     ],
     "prompt_number": 140
    },
    {
     "cell_type": "code",
     "collapsed": false,
     "input": [
      "method3()"
     ],
     "language": "python",
     "metadata": {},
     "outputs": [
      {
       "output_type": "stream",
       "stream": "stdout",
       "text": [
        "1.85140491\n"
       ]
      }
     ],
     "prompt_number": 141
    },
    {
     "cell_type": "code",
     "collapsed": false,
     "input": [
      "method4()"
     ],
     "language": "python",
     "metadata": {},
     "outputs": [
      {
       "output_type": "stream",
       "stream": "stdout",
       "text": [
        "0.94222403\n"
       ]
      }
     ],
     "prompt_number": 142
    },
    {
     "cell_type": "code",
     "collapsed": false,
     "input": [
      "method5()"
     ],
     "language": "python",
     "metadata": {},
     "outputs": [
      {
       "output_type": "stream",
       "stream": "stdout",
       "text": [
        "2.01019597\n"
       ]
      }
     ],
     "prompt_number": 143
    },
    {
     "cell_type": "code",
     "collapsed": false,
     "input": [
      "method6()"
     ],
     "language": "python",
     "metadata": {},
     "outputs": [
      {
       "output_type": "stream",
       "stream": "stdout",
       "text": [
        "0.66609311\n"
       ]
      }
     ],
     "prompt_number": 144
    },
    {
     "cell_type": "markdown",
     "metadata": {},
     "source": [
      "## \ucd5c\uc885 \uacb0\ub860\n",
      "\n",
      "- %timeit\uacfc \ub611\uac19\uc740 \uacb0\uacfc\uac00 \ub098\uc624\ub124\n",
      "- list comprehension\uc744 \uc0ac\uc6a9\ud55c method6\uc774 \ud56d\uc0c1 win"
     ]
    },
    {
     "cell_type": "code",
     "collapsed": false,
     "input": [
      "!pwd"
     ],
     "language": "python",
     "metadata": {},
     "outputs": [
      {
       "output_type": "stream",
       "stream": "stdout",
       "text": [
        "/Users/re4lfl0w/Documents/ipython/articles\r\n"
       ]
      }
     ],
     "prompt_number": 145
    },
    {
     "cell_type": "code",
     "collapsed": false,
     "input": [
      "!ls -l"
     ],
     "language": "python",
     "metadata": {},
     "outputs": [
      {
       "output_type": "stream",
       "stream": "stdout",
       "text": [
        "total 2336\r\n",
        "-rw-r--r--   1 re4lfl0w  staff    7918  7 25 16:47 Code_Like_a_Pythonista_Idiomatic_Python.ipynb\r\n",
        "-rw-------   1 re4lfl0w  staff   23504 12  1 10:42 Efficient_String_Concatenation_in_Python.ipynb\r\n",
        "-rw-r--r--   1 re4lfl0w  staff     845 10 31 05:42 README.md\r\n",
        "-rw-r--r--   1 re4lfl0w  staff  202353  7 26 05:43 Selenium_sapzil.ipynb\r\n",
        "-rw-r--r--   1 re4lfl0w  staff  128902 12  1 09:16 Transforming_code_into_Beautiful_Idiomatic_Python.ipynb\r\n",
        "-rw-r--r--   1 re4lfl0w  staff     181  8 26 23:03 Untitled0.ipynb\r\n",
        "drwxr-xr-x   3 re4lfl0w  staff     102  8 31 11:27 \u001b[34mconference\u001b[m\u001b[m\r\n",
        "drwxr-xr-x   4 re4lfl0w  staff     136 11 26 08:25 \u001b[34meng_ara\u001b[m\u001b[m\r\n",
        "drwxr-xr-x   3 re4lfl0w  staff     102  7 23 21:55 \u001b[34mimages\u001b[m\u001b[m\r\n",
        "drwxr-xr-x  13 re4lfl0w  staff     442  7 24 20:07 \u001b[34mpcap\u001b[m\u001b[m\r\n",
        "drwxr-xr-x   6 re4lfl0w  staff     204  8 27 07:23 \u001b[34mpiddler\u001b[m\u001b[m\r\n",
        "drwxr-xr-x   3 re4lfl0w  staff     102  7  1 06:26 \u001b[34mpython_challenge\u001b[m\u001b[m\r\n",
        "-rw-r--r--   1 re4lfl0w  staff  553483  8  8 12:47 recursive_function.ipynb\r\n",
        "drwxr-xr-x   4 re4lfl0w  staff     136 10 31 11:21 \u001b[34mreview\u001b[m\u001b[m\r\n",
        "-rw-r--r--   1 re4lfl0w  staff  191116  7 25 08:23 scapy_tutorial_packetinside.ipynb\r\n",
        "-rw-------   1 re4lfl0w  staff   42913 10 27 04:55 staticmethod_vs_classmethod.ipynb\r\n",
        "drwxr-xr-x   4 re4lfl0w  staff     136  9 23 09:04 \u001b[34mtmp\u001b[m\u001b[m\r\n",
        "-rw-r--r--   1 re4lfl0w  staff   21215 10  1 06:54 variable_pattern.ipynb\r\n"
       ]
      }
     ],
     "prompt_number": 147
    },
    {
     "cell_type": "markdown",
     "metadata": {},
     "source": [
      "### Original source(\ube14\ub85c\uadf8 \uc8fc\uc778\uc7a5)"
     ]
    },
    {
     "cell_type": "code",
     "collapsed": false,
     "input": [
      "%%writefile tmp/original_str_performance.py\n",
      "\n",
      "\n",
      "from cStringIO import StringIO\n",
      "import time, commands, os\n",
      "from sys import argv\n",
      "\n",
      "def method1():\n",
      "\tout_str = ''\n",
      "\tfor num in xrange(loop_count):\n",
      "\t\tout_str += `num`\n",
      "\tps_stats()\n",
      "\treturn out_str\n",
      "\n",
      "def method2():\n",
      "\tfrom UserString import MutableString\n",
      "\tout_str = MutableString()\n",
      "\tfor num in xrange(loop_count):\n",
      "\t\tout_str += `num`\n",
      "\tps_stats()\n",
      "\treturn out_str\n",
      "\n",
      "def method3():\n",
      "\tfrom array import array\n",
      "\tchar_array = array('c')\n",
      "\tfor num in xrange(loop_count):\n",
      "\t\tchar_array.fromstring(`num`)\n",
      "\tps_stats()\n",
      "\treturn char_array.tostring()\n",
      "\n",
      "def method4():\n",
      "\tstr_list = []\n",
      "\tfor num in xrange(loop_count):\n",
      "\t\tstr_list.append(`num`)\n",
      "\tout_str = ''.join(str_list)\n",
      "\tps_stats()\n",
      "\treturn out_str\n",
      "\n",
      "def method5():\n",
      "\tfile_str = StringIO()\n",
      "\tfor num in xrange(loop_count):\n",
      "\t\tfile_str.write(`num`)\n",
      "\tout_str = file_str.getvalue()\n",
      "\tps_stats()\n",
      "\treturn out_str\n",
      "\n",
      "def method6():\n",
      "\tout_str = ''.join([`num` for num in xrange(loop_count)])\n",
      "\tps_stats()\n",
      "\treturn out_str\n",
      "\n",
      "\n",
      "def ps_stats():\n",
      "\tglobal process_size\n",
      "\tps = commands.getoutput('ps -l ' + `pid`)\n",
      "\tprocess_size = ps.split()[23]\n",
      "    \n",
      "\n",
      "def call_method(num):\n",
      "\tglobal process_size\n",
      "\tstart = time.time()\n",
      "\tz = eval('method' + str(num))()\n",
      "\tend = time.time()\n",
      "\tprint \"method\", num\n",
      "\tprint \"time\", float(end-start) * 100\n",
      "\tprint \"output size \", len(z) / 1024, \"kb\"\n",
      "\tprint \"process size\", process_size, \"kb\"\n",
      "\tprint\n",
      "\t\n",
      "loop_count = 100000\n",
      "pid = os.getpid()\n",
      "\n",
      "if len(argv) == 2:\n",
      "\tcall_method(argv[1])\n",
      "else:\n",
      "\tprint \"Usage: python stest.py <n>\\n\" \\\n",
      "\t\t\"  where n is the method number to test\"\n",
      "\n"
     ],
     "language": "python",
     "metadata": {},
     "outputs": [
      {
       "output_type": "stream",
       "stream": "stdout",
       "text": [
        "Overwriting tmp/original_str_performance.py\n"
       ]
      }
     ],
     "prompt_number": 217
    },
    {
     "cell_type": "code",
     "collapsed": false,
     "input": [
      "!python tmp/original_str_performance.py 1"
     ],
     "language": "python",
     "metadata": {},
     "outputs": [
      {
       "output_type": "stream",
       "stream": "stdout",
       "text": [
        "method 1\r\n",
        "time 2.24301815033\r\n",
        "output size  477 kb\r\n",
        "process size 4860 kb\r\n",
        "\r\n"
       ]
      }
     ],
     "prompt_number": 253
    },
    {
     "cell_type": "code",
     "collapsed": false,
     "input": [
      "%run tmp/original_str_performance.py 1"
     ],
     "language": "python",
     "metadata": {},
     "outputs": [
      {
       "output_type": "stream",
       "stream": "stdout",
       "text": [
        "method 1\n",
        "time 2.36761569977\n",
        "output size  477 kb\n",
        "process size 55540 kb\n",
        "\n"
       ]
      }
     ],
     "prompt_number": 254
    },
    {
     "cell_type": "code",
     "collapsed": false,
     "input": [
      "%run tmp/original_str_performance.py 2"
     ],
     "language": "python",
     "metadata": {},
     "outputs": [
      {
       "output_type": "stream",
       "stream": "stdout",
       "text": [
        "method 2\n",
        "time 184.970784187\n",
        "output size  477 kb\n",
        "process size 55724 kb\n",
        "\n"
       ]
      }
     ],
     "prompt_number": 255
    },
    {
     "cell_type": "code",
     "collapsed": false,
     "input": [
      "%run tmp/original_str_performance.py 3"
     ],
     "language": "python",
     "metadata": {},
     "outputs": [
      {
       "output_type": "stream",
       "stream": "stdout",
       "text": [
        "method 3\n",
        "time 4.56790924072\n",
        "output size  477 kb\n",
        "process size 54212 kb\n",
        "\n"
       ]
      }
     ],
     "prompt_number": 256
    },
    {
     "cell_type": "code",
     "collapsed": false,
     "input": [
      "!python tmp/original_str_performance.py 4"
     ],
     "language": "python",
     "metadata": {},
     "outputs": [
      {
       "output_type": "stream",
       "stream": "stdout",
       "text": [
        "method 4\r\n",
        "time 2.39241123199\r\n",
        "output size  477 kb\r\n",
        "process size 10304 kb\r\n",
        "\r\n"
       ]
      }
     ],
     "prompt_number": 257
    },
    {
     "cell_type": "code",
     "collapsed": false,
     "input": [
      "%run tmp/original_str_performance.py 4"
     ],
     "language": "python",
     "metadata": {},
     "outputs": [
      {
       "output_type": "stream",
       "stream": "stdout",
       "text": [
        "method 4\n",
        "time 2.71439552307\n",
        "output size  477 kb\n",
        "process size 56408 kb\n",
        "\n"
       ]
      }
     ],
     "prompt_number": 258
    },
    {
     "cell_type": "code",
     "collapsed": false,
     "input": [
      "%run tmp/original_str_performance.py 5"
     ],
     "language": "python",
     "metadata": {},
     "outputs": [
      {
       "output_type": "stream",
       "stream": "stdout",
       "text": [
        "method 5\n",
        "time 5.48570156097\n",
        "output size  477 kb\n",
        "process size 55140 kb\n",
        "\n"
       ]
      }
     ],
     "prompt_number": 259
    },
    {
     "cell_type": "code",
     "collapsed": false,
     "input": [
      "%run tmp/original_str_performance.py 6"
     ],
     "language": "python",
     "metadata": {},
     "outputs": [
      {
       "output_type": "stream",
       "stream": "stdout",
       "text": [
        "method 6\n",
        "time 1.90780162811\n",
        "output size  477 kb\n",
        "process size 55324 kb\n",
        "\n"
       ]
      }
     ],
     "prompt_number": 260
    },
    {
     "cell_type": "markdown",
     "metadata": {},
     "source": [
      "### xrange vs range\n",
      "\n",
      "- xrange\uac00 \uba54\ubaa8\ub9ac \uc801\uac8c \uc18c\ubaa8\n",
      "- python 3.0 \ubc84\uc804\uc5d0\uc11c\ub294 range\ub3c4 xrange\ub85c \ubcc0\uacbd\ub418\uc11c iterator\uac00 \ub428"
     ]
    }
   ],
   "metadata": {}
  }
 ]
}