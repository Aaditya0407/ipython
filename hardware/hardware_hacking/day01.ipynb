{
 "cells": [
  {
   "cell_type": "markdown",
   "metadata": {},
   "source": [
    "# 하드웨어해킹 - Day01"
   ]
  },
  {
   "cell_type": "markdown",
   "metadata": {},
   "source": [
    "## LED 켜기"
   ]
  },
  {
   "cell_type": "code",
   "execution_count": 3,
   "metadata": {
    "collapsed": true
   },
   "outputs": [],
   "source": [
    "V = 9.0"
   ]
  },
  {
   "cell_type": "code",
   "execution_count": 4,
   "metadata": {
    "collapsed": true
   },
   "outputs": [],
   "source": [
    "R = 1800"
   ]
  },
  {
   "cell_type": "code",
   "execution_count": 5,
   "metadata": {
    "collapsed": false
   },
   "outputs": [
    {
     "data": {
      "text/plain": [
       "0.005"
      ]
     },
     "execution_count": 5,
     "metadata": {},
     "output_type": "execute_result"
    }
   ],
   "source": [
    "I = V/R\n",
    "I"
   ]
  },
  {
   "cell_type": "markdown",
   "metadata": {},
   "source": [
    "- ~: 교류\n",
    "- --: 직류\n",
    "- 통전 테스트: 리드봉이 전기적으로 연결됐을 때 스피커에 소리가 남"
   ]
  },
  {
   "cell_type": "markdown",
   "metadata": {},
   "source": [
    "## 혀로 체험하기"
   ]
  },
  {
   "cell_type": "code",
   "execution_count": 7,
   "metadata": {
    "collapsed": true
   },
   "outputs": [],
   "source": [
    "V = 9.0"
   ]
  },
  {
   "cell_type": "code",
   "execution_count": 8,
   "metadata": {
    "collapsed": true
   },
   "outputs": [],
   "source": [
    "R = 50000"
   ]
  },
  {
   "cell_type": "code",
   "execution_count": 9,
   "metadata": {
    "collapsed": false
   },
   "outputs": [
    {
     "data": {
      "text/plain": [
       "0.00018"
      ]
     },
     "execution_count": 9,
     "metadata": {},
     "output_type": "execute_result"
    }
   ],
   "source": [
    "I = V/R\n",
    "I"
   ]
  },
  {
   "cell_type": "markdown",
   "metadata": {},
   "source": [
    "## mAh?\n",
    "\n",
    "- 밀리엄페어 시\n",
    "- 전하의 용량을 표시한는 단위, 주로 배터리의 단위 표시"
   ]
  },
  {
   "cell_type": "markdown",
   "metadata": {},
   "source": [
    "## 정전압 어댑터의 용량\n",
    "\n",
    "- 전압: 일정 ex> 항상 5v\n",
    "- 전류: 제품차이 ex) 2A(=2000mA) <= 최대 2A 공급 가능"
   ]
  },
  {
   "cell_type": "markdown",
   "metadata": {},
   "source": [
    "# 3. AVR 프로그래밍"
   ]
  },
  {
   "cell_type": "markdown",
   "metadata": {},
   "source": [
    "## 개요\n",
    "\n",
    "- 주변에 산재한 전자장비들에 대한 분석능력 함양\n",
    "  - 유무선공유기, IPTV, 홈 네트워크, 스마트폰, 전자사전\n",
    "  - 구성요소와 작동방식의 이해도 향상\n",
    "- 원하는 제품/Tool을 직접 제작할 수 있는 능력 개발\n",
    "  - 장난감, 아이디어 제품\n",
    "  - 하드웨어 기반 해킹도구\n",
    "    - Eletronic Sniffer\n",
    "    - Firmware Dumper\n",
    "    - JTAG"
   ]
  },
  {
   "cell_type": "markdown",
   "metadata": {},
   "source": [
    "## 마이크로 컨트롤러 소개\n",
    "\n",
    "- Micro Controller Unit\n",
    "- 주로 C언어를 이용하여 프로그래밍\n",
    "- 칩 내부에 RAM과 ROM 등을 포함\n",
    "  - System on a chip(SoC)"
   ]
  },
  {
   "cell_type": "markdown",
   "metadata": {},
   "source": [
    "## MCU의 구조\n",
    "\n",
    "- CPU, FLASH, SRAM, ROM, I/O\n",
    "- 하나의 칩에 모든 기본 기능이 내장됨\n",
    "- MCU 하나만으로 동작 가능"
   ]
  },
  {
   "cell_type": "markdown",
   "metadata": {},
   "source": [
    "## AVR의 장점\n",
    "\n",
    "- AVR은 하드웨어 프로그래밍 분야의 C언어이다!\n",
    "  - 가장 먼저, 그리고 필수적으로 학습하기를 추천\n",
    "  - Low Level의 지식들을 학습할 수 있음"
   ]
  },
  {
   "cell_type": "markdown",
   "metadata": {},
   "source": [
    "## Atmega128A 소개\n",
    "\n",
    "- RISC 아키텍쳐 기반\n",
    "- 8비트 마이크로 컨트롤러\n",
    "- 최대 16Mhz의 속도\n",
    "- 128Kbytes의 플래쉬 메모리 내장\n",
    "- 4Kbytes의 SRAM 내장\n",
    "\n",
    "- 3.3v, 5v, 12v의 차이점\n",
    "- 3.3v 어댑터를 쓸 수 있느냐? 없느냐?\n",
    "- 독립적으로 작동하느냐? 아니면 통신을 해야되는 상황이 오게되면 기준 전압이 맞기 때문에 통신이 된다.\n",
    "- 주변장치와 통신할 때 장점"
   ]
  },
  {
   "cell_type": "markdown",
   "metadata": {},
   "source": [
    "## LED DOT MATRIX"
   ]
  },
  {
   "cell_type": "markdown",
   "metadata": {},
   "source": [
    "## 입출력 포트의 이해\n",
    "\n",
    "- 하드웨어 분야에서 포트란, 전기적 신호 데이터가 오가는 통로를 의미\n",
    "- Atmega128\n",
    "  - 총 64개의 핀 노출\n",
    "  - 총 7개의 포트\n",
    "  - Port A: PA0 ~ PA7\n",
    "  - [Atmega128A Data sheet](http://www.atmel.com/Images/Atmel-8151-8-bit-AVR-ATmega128A_Datasheet.pdf)"
   ]
  },
  {
   "cell_type": "markdown",
   "metadata": {},
   "source": [
    "- ddrB가 00 이 되면 안됨 0xff 이어야 함\n",
    "- DDRA = 0xff; DDRB = 0xff;"
   ]
  },
  {
   "cell_type": "markdown",
   "metadata": {},
   "source": [
    "### PA3번만 LED 점등\n",
    "\n",
    "```c\n",
    "#include <avr/io.h>\n",
    "\n",
    "int main(void)\n",
    "{\n",
    "\tDDRA = 0xff;\n",
    "\t//DDRA = 0b11111111;\n",
    "\tPORTA = 0b00001000;\n",
    "\t\n",
    "\treturn 0;\n",
    "}\n",
    "```"
   ]
  },
  {
   "cell_type": "markdown",
   "metadata": {},
   "source": [
    "### 1초씩 점등\n",
    "\n",
    "```c\n",
    "#define F_CPU 8000000UL\n",
    "#include <avr/io.h>\n",
    "#include <util/delay.h>\n",
    "\n",
    "int main(void)\n",
    "{\n",
    "\tDDRA = 0xff;\n",
    "\twhile(1)\n",
    "\t{\n",
    "\t\tPORTA = 0xff; \n",
    "\t\t_delay_ms(1000); \n",
    "\t\tPORTA = 0x00; \n",
    "\t\t_delay_ms(1000);\n",
    "\t} \n",
    "}\n",
    "```"
   ]
  },
  {
   "cell_type": "markdown",
   "metadata": {},
   "source": [
    "### 홀수번째 LED 켜기\n",
    "\n",
    "```c\n",
    "#include <avr/io.h>\n",
    "\n",
    "int main(void)\n",
    "{\n",
    "\tDDRA = 0xff;\n",
    "\t//DDRA = 0b11111111;\n",
    "\t//PORTA = 0b00001000;\n",
    "\tPORTA = 0b01010101;\n",
    "\t\n",
    "\treturn 0;\n",
    "}\n",
    "```"
   ]
  },
  {
   "cell_type": "markdown",
   "metadata": {},
   "source": [
    "## 스위치\n",
    "\n",
    "- 왼쪽으로 했을 때 켜짐 가정\n",
    "- 아무것도 넣지 않으면 0V 겠네 라고 생각할 수 있는데...\n",
    "- 입력핀에는 5V를 확실히 넣어주거나 0V를 확실히 넣어줘야 됨\n",
    "\n",
    "\n",
    "- 오늘 책 사서 봐야할 것은?"
   ]
  },
  {
   "cell_type": "markdown",
   "metadata": {},
   "source": [
    "```c\n",
    "#include <avr/io.h>\n",
    "\n",
    "int main(void)\n",
    "{\n",
    "    int Input = 0;\n",
    "    DDRA = 0xff;\n",
    "    DDRB = 0x00;\n",
    "    DDRC = 0xff;\n",
    "    \n",
    "    PORTC = 0xff;\n",
    "    \n",
    "    while(1)\n",
    "    {\n",
    "        Input = PINB;\n",
    "        if(Input & 0x01)\n",
    "            PORTA = 0xff;\n",
    "        else\n",
    "            PORTA = 0x00;\n",
    "    }\n",
    "}\n",
    "```"
   ]
  },
  {
   "cell_type": "markdown",
   "metadata": {},
   "source": [
    "## UART 프로그래밍\n",
    "\n",
    "- 통신 프로토콜 중 하나\n",
    "- USART(Universal Synchronous and Asynchronous Receiver/Transmitter)\n",
    "- 특히 디버깅 메시지 출력 용도로 많이 쓰임"
   ]
  },
  {
   "cell_type": "markdown",
   "metadata": {},
   "source": [
    "- ISP, UART 차이점?\n",
    "- ISP: In-System Programming: 플래쉬롬을 탈착하지 않고 프로그램 기록 가능한 형태를 의미"
   ]
  },
  {
   "cell_type": "markdown",
   "metadata": {},
   "source": [
    "```c\n",
    "#define F_CPU 8000000UL \n",
    "#include <avr/io.h> \n",
    "#include <util/delay.h>\n",
    "\n",
    "int main(void)\n",
    "{\n",
    "\t/* Status Register 0A */ \n",
    "\tUCSR0A = 0x00;\n",
    "\t\n",
    "\t/* Status Register 0B */\n",
    "\t/* RX/TX Enable = 10011000 */ \n",
    "\tUCSR0B = 0x98;\n",
    "\t\n",
    "\t/* Status Register 0C */\n",
    "\t/* No parity, 8bit = 0110 */ \n",
    "\tUCSR0C = 0x06;\n",
    "\t\n",
    "\t/* 중요 : Baud Rate 설정 */ /* BPS = 9600 */\n",
    "\tUBRR0H = 0;\n",
    "\tUBRR0L = 47;\n",
    "\twhile(1)\n",
    "\t{\n",
    "\t\tUDR0 = 'A';\n",
    "\t\t_delay_ms(1000); \n",
    "\t}\n",
    "}\n",
    "```"
   ]
  },
  {
   "cell_type": "markdown",
   "metadata": {},
   "source": [
    "- UCSR: Control and Status Register\n",
    "- UART: 소켓을 왜 쓰느냐는 질문과 같다."
   ]
  }
 ],
 "metadata": {
  "kernelspec": {
   "display_name": "Python 2",
   "language": "python",
   "name": "python2"
  },
  "language_info": {
   "codemirror_mode": {
    "name": "ipython",
    "version": 2
   },
   "file_extension": ".py",
   "mimetype": "text/x-python",
   "name": "python",
   "nbconvert_exporter": "python",
   "pygments_lexer": "ipython2",
   "version": "2.7.6"
  }
 },
 "nbformat": 4,
 "nbformat_minor": 0
}
