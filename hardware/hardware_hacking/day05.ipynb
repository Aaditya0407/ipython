{
 "cells": [
  {
   "cell_type": "markdown",
   "metadata": {},
   "source": [
    "# Day05 JTAG Hacking"
   ]
  },
  {
   "cell_type": "markdown",
   "metadata": {},
   "source": [
    "- 중간 보스급\n",
    "- JTAG 기초 설명\n",
    "- TAPC 상태도의 이해\n",
    "- Atmega128 JTAG 해킹 실습\n"
   ]
  },
  {
   "cell_type": "markdown",
   "metadata": {},
   "source": [
    "## JTAG 개요\n",
    "\n",
    "- 하드웨어 디버깅 표준인 JTAG의 개념에 대해 이해한다\n",
    "- AVR을 이용하여 JTAG을 직접 제어하는 도구를 개발해 봄으로써 작동원리를 이해한다\n",
    "- 동적 디버깅, Flash Memory Dump 등 각종 JTAG 활용 예제에 대해 알아본다"
   ]
  },
  {
   "cell_type": "markdown",
   "metadata": {},
   "source": [
    "## JTAG의 개념\n",
    "\n",
    "- marionette(꼭두각시)\n",
    "- CPU를 마음대로 조정할 수 있음\n"
   ]
  },
  {
   "cell_type": "markdown",
   "metadata": {},
   "source": [
    "## 하드웨어 디버깅\n",
    "\n",
    "- 일반적인 디버깅 방법\n",
    "  - 멀티 테스터를 이용하여 일일이 확인해 본다\n",
    "  - 간단한 테스트 프로그램을 만들어 확인해 본다\n",
    "  - Logic Analyzer로 신호를 분석해 본다\n",
    "- 문제점\n",
    "  - 핀 간격이 너무 촘촘해서 멀티 테스터를 사용하기 어려운 경우\n",
    "  - BGA 타입과 같이 포인트를 잡을 수 없는 경우"
   ]
  },
  {
   "cell_type": "markdown",
   "metadata": {},
   "source": [
    "## JTAG의 발명\n",
    "\n",
    "- Joint Test Action Group\n",
    "  - 기술이름이자 동시에 그룹이름\n",
    "  - 하드웨어 디벅ㅇ의 표준\n",
    "  - 1990년: IEEE에서 표준화\n",
    "- 기능\n",
    "  - Pin 접촉 상태 테스트\n",
    "  - Firmware 코들르 line by line으로 디버깅 가능\n",
    "  - Firmware dump, writing 가능\n",
    "  - 그 외 하드웨어적인 모든 것 가능"
   ]
  },
  {
   "cell_type": "markdown",
   "metadata": {},
   "source": [
    "## 기본 아이디어\n",
    "\n",
    "- MCU의 각각의 핀을 하나씩 더 빼낸다\n",
    "- 해당 핀의 현재 상태를 모니터링하기 위한 목적의 작은 회로를 추가한다.\n",
    "- 이것을 JTAG에서는 CELL 이라고 한다."
   ]
  },
  {
   "cell_type": "markdown",
   "metadata": {},
   "source": [
    "## IR과 DR\n",
    "\n",
    "- Instruction Register\n",
    "  - 4비트 크기\n",
    "  - JTAG을 어떤 모드로 작동시킬 것인가?(이것만 신경쓰면 나머지는 자동으로 결정됨)\n",
    "  - 외부로 노출된 TDI와 TDO를 내부의 어디에 연결시킬지 결정한다\n",
    "  - 연결 대상: 내부 Boundary Cell 혹은 특정 레지스트\n",
    "- Data Register\n",
    "  - 실제 데이터 전송을 위한 레지스터\n",
    "  - 위 IR에 의해 연결된 대상의 값이 DR에 저장된다."
   ]
  },
  {
   "cell_type": "markdown",
   "metadata": {},
   "source": [
    "## bypass\n",
    "\n",
    "- 내가 보낸게 정확히 나온지\n",
    "- 얘 jtag과 다른 jtag과 연동할 수 있다. 2개는 안 쓰고 1개는 쓰고 하면 됨"
   ]
  },
  {
   "cell_type": "markdown",
   "metadata": {},
   "source": [
    "- clock: portA0\n",
    "- pa0 -> tck\n",
    "- pb0 -> td5\n",
    "\n",
    "\n",
    "- PORTA = TCK\n",
    "- PORTB = TDO\n",
    "- PORTC = TMS\n",
    "- PORTD = TDI\n",
    "- GND = GND\n",
    "- rabbit보드의 전원은 usb\n",
    "\n",
    "### 용어 정리\n",
    "\n",
    "- TCK: Test Clock, 이동\n",
    "- TDO: Test Data Out\n",
    "- TMS: Test Mode Select, 방향 전환\n",
    "- TDI: Test Data In\n",
    "- TMS와 TCK는 TAPC의 상태를 변화시킨다.\n",
    "\n",
    "\n",
    "- TCK: Clock 제공(해커 -> 대상 장비)"
   ]
  },
  {
   "cell_type": "markdown",
   "metadata": {},
   "source": [
    "## 팁\n",
    "\n",
    "- SHIFT IR을 할 때 \n",
    "- 값을 보낼 때는 rising edge\n",
    "- 받는 것은 것은 falling edge\n",
    "- 딜레이도 주는 것이 좋음. 나중에 줄여나가면 됨"
   ]
  },
  {
   "cell_type": "markdown",
   "metadata": {},
   "source": [
    "## 시나리오\n",
    "\n",
    "- 목표: JTAG ID 코드 읽기\n",
    "- 제일 처음 시작이 test logic reset 이기 때문에 여기에서 tms = 0 으로 run test idle\n",
    "- run test idle에서 tms = 1로 세팅해서 다음으로 진행\n",
    "- select DR scan에서 tms = 0으로 세팅해서 다음으로 진행\n",
    "- capture DR에서 tms = 0으로 세팅해서 다음으로 진행\n",
    "- shift DR에서 id값을 읽어올만큼 반복한다."
   ]
  },
  {
   "cell_type": "markdown",
   "metadata": {},
   "source": [
    "- TMS의 모드가 어떤게 있는지 알아야? IR로 선택할지 DR로 선택할지 알 수가 있지?\n",
    "- JTAG을 어떤 모드로 작동시킬 것인가???\n",
    "- Instruction의 종류: 0000"
   ]
  },
  {
   "cell_type": "markdown",
   "metadata": {},
   "source": [
    "## IDCODE 읽기 과정 요약\n",
    "\n",
    "- IR에 IDCODE 명령 패턴을 집어 넣는다.\n",
    "  - SHIFT-IR, Update-IR 이용\n",
    "- DR 값을 읽어서 꺼내온다.\n",
    "\n",
    "### ID 레지스터란?\n",
    "\n",
    "- Identification Register\n",
    "- 32비트\n",
    "- 비트 0: IDCODE 존재 여부\n",
    "- 비트 1~11: 제조사\n",
    "- 비트 12~26: 부품 번호\n",
    "- 비트 27~31: 버전 번호\n",
    "- 32비트만 읽어와서 4개로 쪼갠 후에 뿌려주면 될 것 같음\n",
    "\n",
    "### IDCODE 요청\n",
    "\n",
    "- IR 레지스터\n",
    "  - 0001 이 되어야 함\n",
    "  - 즉, JTAG의 명령 모드를 0001로 바꾸어야 함\n",
    "- 어떻게?\n",
    "  - TAPC의 상태를 Shift-IR까지 옮긴 후,\n",
    "  - TDI에 0001을 순서대로 입력한다.\n",
    "    - 최하위 비트부터 입력, 즉 반대로 1000\n",
    "- 그럼 DR 레지스터에 IDCODE가 담긴다\n",
    "\n",
    "### IDCODE 획득\n",
    "\n",
    "- SHIFT-DR로 이동\n",
    "  - DR <-> TDI/TDO 연결\n",
    "- TCK가 1 -> 0으로 변할 때 값이 나옴(falling edge에서 값을 얻는다..? 그럼 이걸 어떻게 체크하지?)\n",
    "- TDI에 아무값(그냥 0)을 32번 밀어 넣어줘서 32비트의 IDCODE가 나온게 만든다."
   ]
  },
  {
   "cell_type": "markdown",
   "metadata": {},
   "source": [
    "## SHIFT-IR과 SHIFT-DR\n",
    "\n",
    "- TMS=0일 때 자신을 다시 실행한다.\n",
    "- 즉, 자신을 다시 실행할 때마다 값이 shift 된다.\n",
    "- 이 때 새로운 값을 넣어주면(TDI) 동시에 기존 값이 밖으로(TDO) 출력됨"
   ]
  },
  {
   "cell_type": "markdown",
   "metadata": {},
   "source": [
    "## 무엇을 어디로 Shift 시키는가?\n",
    "\n",
    "### SHIFT-IR\n",
    "\n",
    "- TDI가 IR로 연결된다.\n",
    "- 즉, 우리가 보내는 입력이 IR로 전달된다.\n",
    "- 동시에 기존값이 TDO로 나온다.\n",
    "\n",
    "### SHIFT-DR\n",
    "\n",
    "- TDI가 DR로 연결된다.\n",
    "- 즉, 우리가 보내는 입력이 DR로 전달된다.\n",
    "- 동시에 기존값이 TDO로 나온다."
   ]
  },
  {
   "cell_type": "markdown",
   "metadata": {},
   "source": [
    "- msb와 lsb를 먼저 보낼지 데이터 시트를 확인해 봐야 한다. lsb 부터 넣어야 한다.(반대로)"
   ]
  },
  {
   "cell_type": "markdown",
   "metadata": {},
   "source": [
    "- data 레지스터가 실제는 가상의 레지스터. 셀제로는 존재하지 않는"
   ]
  },
  {
   "cell_type": "code",
   "execution_count": 1,
   "metadata": {
    "collapsed": false
   },
   "outputs": [
    {
     "name": "stdout",
     "output_type": "stream",
     "text": [
      "--2015-05-01 12:38:20--  http://grayhash.com/training/jtag.c\n",
      "Resolving grayhash.com... 54.65.63.9\n",
      "Connecting to grayhash.com|54.65.63.9|:80... connected.\n",
      "HTTP request sent, awaiting response... 200 OK\n",
      "Length: 2637 (2.6K) [text/x-csrc]\n",
      "Saving to: 'jtag.c'\n",
      "\n",
      "100%[======================================>] 2,637       --.-K/s   in 0s      \n",
      "\n",
      "2015-05-01 12:38:21 (16.5 MB/s) - 'jtag.c' saved [2637/2637]\n",
      "\n"
     ]
    }
   ],
   "source": [
    "!wget http://grayhash.com/training/jtag.c"
   ]
  },
  {
   "cell_type": "markdown",
   "metadata": {},
   "source": [
    "```c\n",
    "#define F_CPU 16000000UL\n",
    "#include <avr/io.h>\n",
    "#include <string.h>\n",
    "#include <util/delay.h>\n",
    "#include <avr/interrupt.h>\n",
    "\n",
    "void Puts(char *data){\n",
    "\tint i;\n",
    "\tfor(i=0; i<strlen(data); i++)\t{\n",
    "\t\twhile((UCSR0A & 0x20) == 0);\n",
    "\t\tUDR0 = data[i];\n",
    "\t}\n",
    "}\n",
    "\n",
    "/*\n",
    "\tPORTA = tck\n",
    "\tPORTB = TDO\n",
    "\tPORTC = TMS\n",
    "\tPORTD = TDI\n",
    "\t\n",
    "\t\n",
    "\t1. 래빗 보드를 껐다가 킨다. (RESET으로는 JTAG 초기화가 안 되더라)\n",
    "\t2. JMOD를 리셋한다.\n",
    "\t3. IDCODE를 확인한다.\n",
    "\t\n",
    "\t\n",
    "*/\n",
    "\n",
    "\n",
    "int main(void)\n",
    "{\n",
    "\tint i, readBit;\n",
    "\tchar str[80];\n",
    "\t\n",
    "\tDDRA = 0xFF;\n",
    "\tDDRB = 0x00;\n",
    "\tDDRC = 0xFF;\n",
    "\tDDRD = 0xFF;\n",
    "\t\n",
    "\t// UART 초기화\n",
    "\tUCSR0A = 0x00; UCSR0B = 0x98; UCSR0C = 0x06; UBRR0H = 0;UBRR0L = 8; // bps == 115200\n",
    "\t\n",
    "\tPuts(\"start!\\r\\n\");\n",
    "\t\n",
    "\n",
    "\tPORTA = 0x00;  // ___\n",
    "\t\n",
    "\t// to RUN TEST IDLE STATE\n",
    "\tPORTC = 0x00;\n",
    "\tPORTA = 0xFF;  // ___---\n",
    "\tPORTA = 0x00;  // ___---___\n",
    "\t\n",
    "\t////////////////////////////////////// SHIFT-IR ///////////////////\n",
    "\t\n",
    "\t// select DR SCAN STATE\n",
    "\tPORTC = 0x01;\n",
    "\tPORTA = 0xFF;  // ___---\n",
    "\tPORTA = 0x00;  // ___---___\n",
    "\t\n",
    "\t// to select IR\tSTATE\n",
    "\tPORTC = 0x01;\n",
    "\tPORTA = 0xFF;  // ___---\n",
    "\tPORTA = 0x00;  // ___---___\n",
    "\t\n",
    "\t// to CAPTURE-IR STATE\n",
    "\tPORTC = 0x00;\n",
    "\tPORTA = 0xFF;  // ___---\n",
    "\tPORTA = 0x00;  // ___---___\n",
    "\t\n",
    "\t// to SHIFT-RO STATE\n",
    "\tPORTC = 0x00;\n",
    "\tPORTA = 0xFF;  // ___---\n",
    "\tPORTA = 0x00;  // ___---___\n",
    "\n",
    "\n",
    "\t////////////////////////////////////// INSERT INSTRUCTION ///////////////////\n",
    "\t\t\n",
    "\t// LSB\n",
    "\tPORTD = 0x01;\n",
    "\tPORTC = 0x00;\n",
    "\tPORTA = 0xFF;  // ___---\n",
    "\tPORTA = 0x00;  // ___---___\n",
    "\t\n",
    "\t// LSB\n",
    "\tPORTD = 0x00;\n",
    "\tPORTC = 0x00;\n",
    "\tPORTA = 0xFF;  // ___---\n",
    "\tPORTA = 0x00;  // ___---___\n",
    "\t\n",
    "\t// LSB\n",
    "\tPORTD = 0x00;\n",
    "\tPORTC = 0x00;\n",
    "\tPORTA = 0xFF;  // ___---\n",
    "\tPORTA = 0x00;  // ___---___\n",
    "\t\n",
    "\t// LSB + EXTI-IR\n",
    "\tPORTD = 0x00;\n",
    "\tPORTC = 0xFF;\n",
    "\tPORTA = 0xFF;  // ___---\n",
    "\tPORTA = 0x00;  // ___---___\n",
    "\t\n",
    "\t/////////////////////////////////////////////////////////  TO RUN AGAIN\n",
    "\t\n",
    "\t\n",
    "\t// to UPDATE-IR STATE\n",
    "\tPORTC = 0xFF;\n",
    "\tPORTA = 0xFF;  // ___---\n",
    "\tPORTA = 0x00;  // ___---___\n",
    "\t\n",
    "\t// to RUN STATE\n",
    "\tPORTC = 0x00;\n",
    "\tPORTA = 0xFF;  // ___---\n",
    "\tPORTA = 0x00;  // ___---___\n",
    "\t\t\n",
    "\t\n",
    "\t//////////////////////////////////////////////////////////\n",
    "\t\n",
    "\t// select DR SCAN STATE\n",
    "\tPORTC = 0x01;\n",
    "\tPORTA = 0xFF;  // ___---\n",
    "\tPORTA = 0x00;  // ___---___\n",
    "\t\n",
    "\t// to CAPTURE DR STATE\n",
    "\tPORTC = 0x00;\n",
    "\tPORTA = 0xFF;  // ___---\n",
    "\tPORTA = 0x00;  // ___---___\n",
    "\t\n",
    "\t// to SHIFT-DR STATE\n",
    "\tPORTC = 0x00;\n",
    "\tPORTA = 0xFF;  // ___---\n",
    "\tPORTA = 0x00;  // ___---___\n",
    "\t\n",
    "\treadBit = PINB & 1;\n",
    "\tsprintf(str, \"readbit : %d\\r\\n\", readBit);\n",
    "\tPuts(str);\n",
    "\n",
    "\tfor(i=0; i<31; i++)\n",
    "\t{\n",
    "\t\t// to SHIFT-DR STATE\n",
    "\t\tPORTC = 0x00;\n",
    "\t\tPORTA = 0xFF;  // ___---\n",
    "\t\tPORTA = 0x00;  // ___---___\n",
    "\t\t\n",
    "\t\treadBit = PINB & 1;\n",
    "\t\t\n",
    "\t\tsprintf(str, \"readbit : %d\\r\\n\", readBit);\n",
    "\t\tPuts(str);\n",
    "\t}\n",
    "}\n",
    "```"
   ]
  },
  {
   "cell_type": "code",
   "execution_count": 6,
   "metadata": {
    "collapsed": true
   },
   "outputs": [],
   "source": [
    "s = '''11111000000010000001110100110101'''"
   ]
  },
  {
   "cell_type": "code",
   "execution_count": 9,
   "metadata": {
    "collapsed": false
   },
   "outputs": [],
   "source": [
    "ss = ''"
   ]
  },
  {
   "cell_type": "code",
   "execution_count": 10,
   "metadata": {
    "collapsed": true
   },
   "outputs": [],
   "source": [
    "for i in reversed(s):\n",
    "    ss += i"
   ]
  },
  {
   "cell_type": "code",
   "execution_count": 13,
   "metadata": {
    "collapsed": false
   },
   "outputs": [
    {
     "data": {
      "text/plain": [
       "'10101100101110000001000000011111'"
      ]
     },
     "execution_count": 13,
     "metadata": {},
     "output_type": "execute_result"
    }
   ],
   "source": [
    "ss"
   ]
  },
  {
   "cell_type": "code",
   "execution_count": 15,
   "metadata": {
    "collapsed": false
   },
   "outputs": [
    {
     "ename": "TypeError",
     "evalue": "ord() expected string of length 1, but int found",
     "output_type": "error",
     "traceback": [
      "\u001b[0;31m---------------------------------------------------------------------------\u001b[0m",
      "\u001b[0;31mTypeError\u001b[0m                                 Traceback (most recent call last)",
      "\u001b[0;32m<ipython-input-15-541ea8626949>\u001b[0m in \u001b[0;36m<module>\u001b[0;34m()\u001b[0m\n\u001b[0;32m----> 1\u001b[0;31m \u001b[0mhex\u001b[0m\u001b[0;34m(\u001b[0m\u001b[0mord\u001b[0m\u001b[0;34m(\u001b[0m\u001b[0;36m0b10101100101110000001000000011111\u001b[0m\u001b[0;34m)\u001b[0m\u001b[0;34m)\u001b[0m\u001b[0;34m\u001b[0m\u001b[0m\n\u001b[0m",
      "\u001b[0;31mTypeError\u001b[0m: ord() expected string of length 1, but int found"
     ]
    }
   ],
   "source": [
    "hex(ord(0b10101100101110000001000000011111))"
   ]
  },
  {
   "cell_type": "code",
   "execution_count": null,
   "metadata": {
    "collapsed": true
   },
   "outputs": [],
   "source": []
  },
  {
   "cell_type": "markdown",
   "metadata": {},
   "source": [
    "## 주의사항\n",
    "\n",
    "- JMOD 3.3v로 바뀌었는지 확인할 것\n",
    "- ISP 모드인지 UART 모드인지 확인할 것\n",
    "- "
   ]
  },
  {
   "cell_type": "code",
   "execution_count": null,
   "metadata": {
    "collapsed": true
   },
   "outputs": [],
   "source": []
  }
 ],
 "metadata": {
  "kernelspec": {
   "display_name": "Python 2",
   "language": "python",
   "name": "python2"
  },
  "language_info": {
   "codemirror_mode": {
    "name": "ipython",
    "version": 2
   },
   "file_extension": ".py",
   "mimetype": "text/x-python",
   "name": "python",
   "nbconvert_exporter": "python",
   "pygments_lexer": "ipython2",
   "version": "2.7.6"
  }
 },
 "nbformat": 4,
 "nbformat_minor": 0
}
