{
 "cells": [
  {
   "cell_type": "markdown",
   "metadata": {},
   "source": [
    "# day02"
   ]
  },
  {
   "cell_type": "markdown",
   "metadata": {},
   "source": [
    "## VCC와 GND\n",
    "\n",
    "### VCC\n",
    "\n",
    "- VCC와 VDD(TTL/CMOS에 따라서 달라짐)는 같음\n",
    "\n",
    "### GND\n",
    "\n",
    "- Ground\n",
    "- 기준 전압, 0v\n",
    "- Vss라고도 함"
   ]
  },
  {
   "cell_type": "markdown",
   "metadata": {},
   "source": [
    "## 쇼트란?\n",
    "\n",
    "- Short == short-circuit == 단락\n",
    "- +와 -가 바로 연결되거나, 저항값이 0에 가까운 경우"
   ]
  },
  {
   "cell_type": "markdown",
   "metadata": {},
   "source": [
    "## AC와 DC\n",
    "\n",
    "- 직류: 항상 같은 방향으로 전류 이동\n",
    "- 교류: 시간의 경과에 따라 흐르는 방향이 바뀜\n",
    "  - 이유: 발전기의 회전 운동의 영향\n",
    "  - 발전기의 회전수: 60hz\n",
    "  - 장점: 멀리 송신 가능"
   ]
  },
  {
   "cell_type": "markdown",
   "metadata": {},
   "source": [
    "## 풀업 저항\n",
    "\n",
    "- 입력 핀에는 항상 HIGH 혹은\n",
    "- 전위를 하위 레벨로 확실히 끌어올려주기 때문에 풀업 저항\n",
    "- 전류 낭비를 막기 위해서 풀업으로 함"
   ]
  },
  {
   "cell_type": "markdown",
   "metadata": {},
   "source": [
    "## Hi-Z\n",
    "\n",
    "- High Impedance == 저항\n",
    "- 마치 선이 끊어진 것 같은 상태(절연 상태)\n",
    "- High나 Low가 아닌 제3의 상태\n",
    "- 출력저항이 큰 상태\n",
    "  - 저항이 많다는 것은 부도체가 됐다는 것\n",
    "  - 부도체가 됐다는 것은 전기가 안 통한다는 것\n",
    "  - 출력 상태를 제어하지 않음\n",
    "- SS로 구분한다."
   ]
  },
  {
   "cell_type": "markdown",
   "metadata": {},
   "source": [
    "## 삼상(3-state)\n",
    "\n",
    "- 0, 1, HI-Z라는 3가지 상태를 표현\n",
    "  - 이 3가지 표현\n",
    "- 포트를 사용하지 않을 때 HIGH-Z 상태로 둔다.\n",
    "- 입력에 반응하지 않는다.\n",
    "- 언제 접하게 되나?\n",
    "  - JTAG 핀(PORTF)"
   ]
  },
  {
   "cell_type": "markdown",
   "metadata": {},
   "source": [
    "## Active Low\n",
    "\n",
    "- 0(Logic Low)인 상태를 \"참\"으로 보는 상태"
   ]
  },
  {
   "cell_type": "markdown",
   "metadata": {},
   "source": [
    "## 문의\n",
    "\n",
    "- 리셋은 원래 0으로 되어 있고 우리가 스위치를 눌렀을 때 1이 되는거 아닌가요?"
   ]
  },
  {
   "cell_type": "markdown",
   "metadata": {},
   "source": [
    "## Rising Edge와 Falling Edge\n",
    "\n",
    "- 전기 신호의 Logic이 변하는 시점\n",
    "- Rising Edge: 0v -> 5v로 올라가는 시점\n",
    "- Falling Edge: 5v -> 0v로 떨어지는 시점\n",
    "- 데이터 동기화 작업에 사용 됨"
   ]
  },
  {
   "cell_type": "markdown",
   "metadata": {},
   "source": [
    "## Datasheet?\n",
    "\n",
    "- 전자 부품의 스펙, 특성, 사용법이 정리된 문서\n",
    "- 즉, 특정 부품에 대한 사용 매뉴얼\n",
    "- 모델명 datasheet 라고 검색하면 됨 "
   ]
  },
  {
   "cell_type": "markdown",
   "metadata": {},
   "source": [
    "## 전기 관련 단위 체계\n",
    "\n",
    "Abbreviation | Means | Multiply unit by | Or\n",
    "--- | --- | --- | ---\n",
    "p | pico | .000000000001 | 10^-12"
   ]
  },
  {
   "cell_type": "markdown",
   "metadata": {},
   "source": [
    "## 온도 센서 사용 실습\n",
    "\n",
    "- Analog to Digital Convert의 약자"
   ]
  },
  {
   "cell_type": "markdown",
   "metadata": {},
   "source": [
    "```c\n",
    "#define F_CPU 8000000UL \n",
    "#include <avr/io.h> \n",
    "#include <util/delay.h>\n",
    "\n",
    "void Puts(char *data) {\n",
    "\tint i;\n",
    "\tfor(i=0; i< strlen(data); i++) {\n",
    "\t\twhile((UCSR0A & 0x20) == 0);\n",
    "        UDR0 = data[i]; \n",
    "\t}\n",
    "}\n",
    "\n",
    "int main(void) {\n",
    "\tchar result[20]; \n",
    "\tint value;\n",
    "\tDDRA = 0xff; \n",
    "\tPORTA = 0xff;\n",
    "\tUCSR0A = 0x00; \n",
    "\tUCSR0B = 0x98; \n",
    "\tUCSR0C = 0x06; \n",
    "\tUBRR0H = 0; \n",
    "\tUBRR0L = 47;\n",
    "\t\n",
    "\twhile(1)\n",
    "\t// bps == 9600\n",
    "\t{\n",
    "\t\tADMUX=0; //ADC설정초기화시작 ADCH = 0;\n",
    "\t\tADCL = 0;\n",
    "\t\tADCSRA = 0xc7;\n",
    "\t\t\n",
    "\t\t// 설정이 완료될 때까지 기다림 \n",
    "\t\twhile((ADCSRA & 0x10) == 0);\n",
    "\t\t\n",
    "\t\t// ADC0의 상하위 바이트 값을 이용하여 데이터 복원 \n",
    "\t\tvalue = ADCL | (ADCH << 8);\n",
    "\t\t\n",
    "\t\tmemset(result, 0, 20);\n",
    "\t\tsprintf(result, \"Temporature : %d\\r\\n\", (value*100/205)); \n",
    "\t\tPuts(result);\n",
    "\t\t_delay_ms(1000);\n",
    "\t} \n",
    "}\n",
    "```"
   ]
  },
  {
   "cell_type": "markdown",
   "metadata": {},
   "source": [
    "- ADMUX: 기본 세팅\n",
    "- ADCSRA: ADC 변환을 시작하는 단계\n",
    "- 분주비: 분해 능력\n",
    "- (value * 100/205)\n",
    "  - 100도 일때 205로 매치가 됨\n",
    "  - 100: 205 = x : value\n",
    "  - 205x = value * 100\n",
    "  - x = value * 100/205"
   ]
  },
  {
   "cell_type": "markdown",
   "metadata": {},
   "source": [
    "```c\n",
    "#include <avr/io.h> \n",
    "#include <avr/interrupt.h>\n",
    "\n",
    "ISR(INT0_vect)\n",
    "{\n",
    "    PORTA = 0xff;\n",
    "}\n",
    "\n",
    "int main(void)\n",
    "{\n",
    "    DDRA = 0xff;\n",
    "    DDRC = 0xff;\n",
    "    PORTC = 0xff;\n",
    "    \n",
    "    EIMSK = 0b00000001; /* INT0 ENABLE */\n",
    "    EICRA = 0b00000011; /* INT0 -> rising edge로 설정 */\n",
    "    EIFR = = 0b00000000; /* flag clear */\n",
    "    sei(); // 인터럽트 기능 활성화\n",
    "    \n",
    "    while(1) { // 다른 일 ⋯ \n",
    "    }\n",
    "}\n",
    "```"
   ]
  },
  {
   "cell_type": "markdown",
   "metadata": {},
   "source": [
    "- EIMSK: MCU의 INT0 인터럽트 기능을 활성화 시킴"
   ]
  },
  {
   "cell_type": "markdown",
   "metadata": {},
   "source": [
    "## 타이머로 숫자 세기\n",
    "\n",
    "- 타이머란?\n",
    "- TIMSK(Timer Interrupt Mask Register)\n",
    "- TCCR0("
   ]
  },
  {
   "cell_type": "markdown",
   "metadata": {},
   "source": [
    "## 분주기(Prescaler)\n",
    "\n",
    "- 여러 클럭을 묶어서 가상의 클럭을 만드는 것\n",
    "- 결과적으로 클럭이 느려지는 효과를 얻을 수 있음"
   ]
  },
  {
   "cell_type": "markdown",
   "metadata": {},
   "source": [
    "## PWM(Pulse Width Modulation)\n",
    "\n",
    "- LED의 밝기를 반으로 줄일 수는 없을까?\n",
    "  - PWM을 이용하면 가능"
   ]
  },
  {
   "cell_type": "markdown",
   "metadata": {},
   "source": [
    "## 무선통신 실습"
   ]
  },
  {
   "cell_type": "markdown",
   "metadata": {},
   "source": [
    "```c\n",
    "#define F_CPU 16000000UL \n",
    "#include <avr/io.h> \n",
    "#include <string.h> \n",
    "#include <util/delay.h> \n",
    "#include <avr/interrupt.h>\n",
    "\n",
    "void Puts(char *data){\n",
    "    int i;\n",
    "    for(i=0; i<strlen(data); i++) { \n",
    "        while((UCSR0A & 0x20) == 0); \n",
    "        UDR0 = data[i];\n",
    "    } \n",
    "}\n",
    "\n",
    "ISR(INT0_vect){\n",
    "    Puts(\"IR signal received\\r\\n\");\n",
    "}\n",
    "\n",
    "int main(void) {\n",
    "    DDRA = 0xff; \n",
    "    PORTA = 0xff; \n",
    "    DDRB = 0xff; \n",
    "    PORTB = 0xff;\n",
    "    \n",
    "    UCSR0A = 0x00; UCSR0B = 0x98; UCSR0C = 0x06; UBRR0H = 0;UBRR0L = 103; // bps == 9600\n",
    "    \n",
    "    EIMSK = 0b00000001; /* INT0 ENABLE */\n",
    "    EICRA = 0b00000010; /* INT0 -> falling edge로 설정 */\n",
    "    EIFR = 0b00000000; /* flag clear */\n",
    "    sei();\n",
    "    \n",
    "    while(1) {} \n",
    "}\n",
    "    \n",
    "    \n",
    "    \n",
    "```"
   ]
  },
  {
   "cell_type": "markdown",
   "metadata": {},
   "source": [
    "- 첫번째 비트는 무조건 떨어지게 만들고 나머지 8비트를 의미있는 것으로 본다\n",
    "- "
   ]
  },
  {
   "cell_type": "markdown",
   "metadata": {},
   "source": [
    "# 2일차 하드웨어 통신"
   ]
  },
  {
   "cell_type": "markdown",
   "metadata": {},
   "source": [
    "## 하드웨어 통신이 필요한 경우\n",
    "\n",
    "- 주변 장치와의 통신\n",
    "  - CAMERA 모듈\n",
    "  - Zigbee 무선 통신 모듈\n",
    "- MCU와 MCU 통신\n",
    "- 무엇으로 \"Interfacing\" 할 것인가?"
   ]
  },
  {
   "cell_type": "markdown",
   "metadata": {},
   "source": [
    "## 동기와 비동기\n",
    "\n",
    "- 동기\n",
    "  - Clock을 기준으로 데이터 참조\n",
    "  - 최소 2회선 필요\n",
    "  - 시작/종료 시그널 불필요\n",
    "- 비동기\n",
    "  - 시간을 기준으로 데이터 참조\n",
    "  - 최소 1회선 필요\n",
    "  - 시작/종료 시그널 필요"
   ]
  },
  {
   "cell_type": "markdown",
   "metadata": {},
   "source": [
    "## 1. UART\n",
    "\n",
    "- Universial asynchronous receiver/transmitter\n",
    "  - 범용 비동기 송/수신기\n",
    "- 가장 오래 된 하드웨어 통신 프로토콜 중 하나\n",
    "- 직렬 통신 프로토콜\n",
    "  - 데이터 송신/수신 시 각각 하나의 LINE만 이용\n",
    "- 2개의 라인 사용\n",
    "- Baud rate로 ㄴㅏ눔\n",
    "- 디버깅"
   ]
  },
  {
   "cell_type": "markdown",
   "metadata": {},
   "source": [
    "## 2. I2C\n",
    "\n",
    "- Inter-Integrated Circuit"
   ]
  },
  {
   "cell_type": "markdown",
   "metadata": {},
   "source": [
    "## 3. SPI\n",
    "\n",
    "- Serial Peripheral Interface\n",
    "- 1:N 통신 가능\n",
    "- 3개의 라인 사용\n",
    "  - MISO, MOSI, SCK\n",
    "- MISO: Master-In, Slave-Out\n",
    "- MOSI: Master-Out, Slave-In\n",
    "- Socket의 server/client와 비슷한 개념"
   ]
  },
  {
   "cell_type": "markdown",
   "metadata": {},
   "source": [
    "- [WormFood's AVR Baud Rate Calculator Ver. 1.3.2](http://wormfood.net/avrbaudcalc.php)\n",
    "- [Logic Analyzer Downloads](https://www.saleae.com/downloads)\n"
   ]
  },
  {
   "cell_type": "markdown",
   "metadata": {},
   "source": [
    "```c\n",
    "#define F_CPU 16000000UL \n",
    "#include <avr/io.h> \n",
    "#include <util/delay.h>\n",
    "\n",
    "int main(void)\n",
    "{\n",
    "\t/* Status Register 0A */ \n",
    "\tUCSR0A = 0x00;\n",
    "\t\n",
    "\t/* Status Register 0B */\n",
    "\t/* RX/TX Enable = 10011000 */ \n",
    "\tUCSR0B = 0x98;\n",
    "\t\n",
    "\t/* Status Register 0C */\n",
    "\t/* No parity, 8bit = 0110 */ \n",
    "\tUCSR0C = 0x06;\n",
    "\t\n",
    "\t/* 중요 : Baud Rate 설정 */ /* BPS = 9600 */\n",
    "\tUBRR0H = 0;\n",
    "\tUBRR0L = 103;\n",
    "\t\n",
    "\twhile(1) {\n",
    "\t\tUDR0 = 'A';\n",
    "\t\t_delay_ms(1000); \n",
    "\t}\n",
    "}\n",
    "```"
   ]
  },
  {
   "cell_type": "markdown",
   "metadata": {},
   "source": [
    "## 데이터 비트 분석\n",
    "\n",
    "- LSB가 먼저 지나가게 약속이 되어 있음\n",
    "- 가장 낮은 비트가 먼저 나오게 되어 있음\n",
    "- LSB, MSB"
   ]
  },
  {
   "cell_type": "markdown",
   "metadata": {},
   "source": [
    "## 해커가 UART를 통해 얻을 수 있는 것들\n",
    "\n",
    "- 커널, OS 메시지\n",
    "  - 취약점 공략에 필요한 각종 정보 획득\n",
    "- 디버그 메시지\n",
    "  - ex) printf(\"initializing network adaptor ok\\n\");\n",
    "- 오류 메시지\n",
    "  - ex) Segmentation fault, command not found\n",
    "- Hidden or Setting Menu\n",
    "- 부트로더(Bootloader)\n",
    "  - 펌웨어 획득\n",
    "  - 새로운 펌웨어 Writing\n",
    "- 커맨드 쉘(Command Shell)\n",
    "  - 펌웨어, 바이너리 획득\n",
    "  - 동적 분석 가능"
   ]
  },
  {
   "cell_type": "markdown",
   "metadata": {},
   "source": [
    "## 쇼단 검색\n",
    "\n",
    "- 웹 포트가 열려져 있어야 하고\n",
    "- UART는 뜯어서 눈으로 봐야 한다."
   ]
  },
  {
   "cell_type": "markdown",
   "metadata": {},
   "source": [
    "## jmod 에서 vcc 하는 방법?"
   ]
  },
  {
   "cell_type": "markdown",
   "metadata": {},
   "source": [
    "## UART 연결 절차 요약\n",
    "\n",
    "- CP2102, PL2303, \n",
    "- 1: VCC\n",
    "- 2: TX\n",
    "- 3: RX\n",
    "- 4: GND\n",
    "- 보레이트: 38400"
   ]
  },
  {
   "cell_type": "markdown",
   "metadata": {},
   "source": [
    "- 통신이 안될 때 어떻게 하는가? "
   ]
  },
  {
   "cell_type": "markdown",
   "metadata": {},
   "source": [
    "## 스마트폰 JIG\n",
    "\n",
    "- JIG? 다른 무언가를 연결하기 위한 틀\n",
    "- USB 핀의 저항값을 체크하여 구분"
   ]
  },
  {
   "cell_type": "markdown",
   "metadata": {},
   "source": [
    "### adb shell\n",
    "\n",
    "- adb shell이 활성화가 안 되어 있으면 안됨\n",
    "- 핸드폰 키면 패턴 걸려져 있는 폰 해킹 못하는데 패턴이 걸려져 있어도 할 수 있음\n",
    "- 5초 안에 백도어 설치\n",
    "- 제스쳐.db 크랙. 제스쳐.db 지우면 된다고 함"
   ]
  },
  {
   "cell_type": "markdown",
   "metadata": {},
   "source": [
    "## 후기\n",
    "\n",
    "- 1일차에 모두 진행하지 못했던 부분부터 진행\n",
    "- 정전압 어댑터의 용량에서 알려주신 것처럼 2A는 엄청 큰 전류!!\n",
    "- 전기의 위험성\n",
    "- 전압 차이의 중요성: 서로 전위 차이가 발생하면 전류가 흐르게 된다. 전위 차이만 발생하지 않으면 고압 전선을 만져도 상관이 없지만 직접 실험은 비추\n",
    "- 풀업(Pull-Up) 저항: 입력 핀에는 항상 HIGH 혹은 LOW 신호를 주어야 함\n",
    "  - 신호가 없다면 HIGH도 LOW도 아닌 Floating 상태가 됨\n",
    "  - Pull-Up의 의미: 전위를 High 레벨로 확실하게 끌어 올려줌\n",
    "- 풀다운(Pull-Down) 저항: 전위를 Low 레벨로 확실하게 끌어 내려줌\n",
    "- 풀업/풀다운의 중요성\n",
    "  - HIGH와 LOW를 명확히 하기 위하여(Floating 상태 방지)\n",
    "- 전류 소모 방지\n",
    "  - 풀업 상태일 때 불필요한 전류 흐름 차단\n",
    "  - 기본 풀다운 상태로 놔두면 전류가 계속 GND로 흐름\n",
    "- 오작동 방지\n",
    "  - 만약 어떤 핀이 외부 메모리나 센서에 연결되어 있다고 가정할 때, 풀업/풀다운 처리가 되어있지 않다면 초기화 작업 전까지 어떤 짓을 할지 모른다."
   ]
  },
  {
   "cell_type": "markdown",
   "metadata": {},
   "source": [
    "## 키보드 key값"
   ]
  },
  {
   "cell_type": "code",
   "execution_count": 6,
   "metadata": {
    "collapsed": false
   },
   "outputs": [
    {
     "data": {
      "text/plain": [
       "28"
      ]
     },
     "execution_count": 6,
     "metadata": {},
     "output_type": "execute_result"
    }
   ],
   "source": [
    "a = 0b00011100\n",
    "a"
   ]
  },
  {
   "cell_type": "code",
   "execution_count": 7,
   "metadata": {
    "collapsed": false
   },
   "outputs": [
    {
     "data": {
      "text/plain": [
       "'0x1c'"
      ]
     },
     "execution_count": 7,
     "metadata": {},
     "output_type": "execute_result"
    }
   ],
   "source": [
    "hex(a)"
   ]
  },
  {
   "cell_type": "code",
   "execution_count": 10,
   "metadata": {
    "collapsed": false
   },
   "outputs": [
    {
     "data": {
      "text/plain": [
       "'A'"
      ]
     },
     "execution_count": 10,
     "metadata": {},
     "output_type": "execute_result"
    }
   ],
   "source": [
    "chr(0x41)"
   ]
  },
  {
   "cell_type": "markdown",
   "metadata": {},
   "source": [
    "## 키보드\n",
    "\n",
    "- CLOCK/DATA 확대\n",
    "- 첫번째 A, 세번째 A, 두번째가 뗀다는 신호\n",
    "- 0, 10번째는 start, 종료 비트\n",
    "- 낮은 비트가 먼저 가지 않았을까? 그래서 우리가 볼 때는 뒤집어서 봐야한다.\n",
    "- ascii 코드 A, 소프트웨어에 디파인되어 있는 것. 하드웨어라 아스키코드의 개념이 없는 공간이다.\n",
    "- 키맵 테이블을 검색해보면 됨\n",
    "- 데이터: PORTA\n",
    "- 클럭: 인터럽트로 처리할 것이기 때문에 PD0\n",
    "- 인터럽트를 falling edge에 건다. 인터럽트가 뜰 때마다 1비트씩 가져와서 화면에 출력까지\n",
    "- timer를 써서 1초에 몇 번씩 반복해서 뿌려준다?\n",
    "- 새로운 key를 받을 수 없을 때는 clock을 내려버린다.\n",
    "- 비트를 모아서 처리를 할 시간이 필요하다. 처리를 해야되기 때문에 시간이 필요하다. 그래서 clock을 0으로 내려버림\n",
    "- 키보드의 임시 버퍼에 잠깐 머물러 있다가 보내주게 된다. 1024바이트가 있다.\n"
   ]
  },
  {
   "cell_type": "markdown",
   "metadata": {},
   "source": [
    "- 전원이 들어 와 있는 상태라면 vcc 불필요\n",
    "- [Interfacing the PC's Keyboard.](http://retired.beyondlogic.org/keyboard/keybrd.htm)\n"
   ]
  },
  {
   "cell_type": "markdown",
   "metadata": {},
   "source": [
    "## AVR을 이용하여 키보드 신호 스니퍼 실습 문제\n",
    "\n",
    "- 힌트: 인터럽트 사용\n",
    "- 목표1: DATA 신호를 0과 1로 UART 출력\n",
    "- 목표2: DATA 신호를 분석하여 문자로 출력"
   ]
  },
  {
   "cell_type": "markdown",
   "metadata": {},
   "source": [
    "```c\n",
    "#define F_CPU 16000000UL\n",
    "#include <avr/io.h>\n",
    "#include <util/delay.h>\n",
    "#include <avr/interrupt.h>\n",
    "\n",
    "void Puts(char *data)\n",
    "{\n",
    "\tint i;\n",
    "\tfor(i=0; i<strlen(data); i++)\n",
    "\t{\n",
    "\t\twhile((UCSR0A & 0x20) == 0);\n",
    "\t\tUDR0 = data[i];\n",
    "\t}\n",
    "}\n",
    "\n",
    "ISR(INT0_vect)\n",
    "{\n",
    "\tif(PINA & 0x01)\n",
    "\tPuts(\"1\");\n",
    "\telse\n",
    "\tPuts(\"0\");\n",
    "}\n",
    "\n",
    "\n",
    "int main(void)\n",
    "{\n",
    "\t\n",
    "\tDDRA = 0x00;\n",
    "\n",
    "\tUCSR0A = 0x00;\n",
    "\tUCSR0B = 0x18;\n",
    "\tUCSR0C = 0x06;\n",
    "\tUBRR0H = 0;\n",
    "\tUBRR0L = 8;\n",
    "\n",
    "\tPuts(\"KEYBOARD SNIFFING START!\\r\\n\");\n",
    "\n",
    "\n",
    "\tEIMSK = 0b00000001;    /* INT0 ENABLE */\n",
    "\tEICRA = 0b00000010;    /* INT0 -> falling edge로 설정 */\n",
    "\tEIFR = 0b00000000;     /* flag clear */\n",
    "\tsei();\n",
    "\n",
    "\n",
    "\twhile(1)\n",
    "\t{\n",
    "\t}\n",
    "}\n",
    "```"
   ]
  },
  {
   "cell_type": "code",
   "execution_count": 12,
   "metadata": {
    "collapsed": true
   },
   "outputs": [],
   "source": [
    "string = '''000111000011000001111111000111000011'''"
   ]
  },
  {
   "cell_type": "code",
   "execution_count": 17,
   "metadata": {
    "collapsed": false
   },
   "outputs": [
    {
     "data": {
      "text/plain": [
       "36"
      ]
     },
     "execution_count": 17,
     "metadata": {},
     "output_type": "execute_result"
    }
   ],
   "source": [
    "len(string)"
   ]
  },
  {
   "cell_type": "code",
   "execution_count": 27,
   "metadata": {
    "collapsed": false
   },
   "outputs": [
    {
     "data": {
      "text/plain": [
       "520"
      ]
     },
     "execution_count": 27,
     "metadata": {},
     "output_type": "execute_result"
    }
   ],
   "source": [
    "0x41 << 3"
   ]
  },
  {
   "cell_type": "markdown",
   "metadata": {},
   "source": [
    "### 키 입력 받아서 출력"
   ]
  },
  {
   "cell_type": "markdown",
   "metadata": {},
   "source": [
    "```c\n",
    "\n",
    "\n",
    "#define F_CPU 16000000UL\n",
    "#include <avr/io.h>\n",
    "#include <util/delay.h>\n",
    "\n",
    "void Puts(char *data)\n",
    "{\n",
    "\tint i;\n",
    "\tfor(i=0; i<strlen(data); i++)\n",
    "\t{\n",
    "\t\twhile((UCSR0A & 0x20) == 0);\n",
    "\t\tUDR0 = data[i];\n",
    "\t}\n",
    "}\n",
    "\n",
    "\n",
    "char key_value = 0;\n",
    "int count = 0;\n",
    "\n",
    "ISR(INT0_vect)\n",
    "{\n",
    "\tint bit;\n",
    "\n",
    "\tif(count > 0 && count < 9)\n",
    "\t{\n",
    "\n",
    "\t\tbit = PINA & 0x01;\n",
    "\n",
    "\t\tkey_value = key_value | bit << (count - 1);\n",
    "\n",
    "\n",
    "\t/*\n",
    "\t\t\t받은 값\n",
    "\t\t\t0 0 1 1 1 0 0 0\n",
    "\n",
    "\t\t\tcount 1 : 00000000\n",
    "\t\t\tcount 2 : 00000000\n",
    "\t\t\tcount 3 : 00000100\n",
    "\t\t\tcount 4 : 00001100\n",
    "\t\t\tcount 5 : 00011100\n",
    "\t\t\tcount 6 : 00011100\n",
    "\t\t\tcount 7 : 00011100\n",
    "\t\t\tcount 8 : 00011100\n",
    "\t\t\n",
    "\t\t\t최종 값\n",
    "\t\t\t0 0 0 1 1 1 0 0\n",
    "\t*/\n",
    "\n",
    "\t\t\n",
    "\t}\n",
    "\n",
    "\tcount++;\n",
    "\n",
    "\tif(count == 9)\n",
    "\t{\n",
    "\t\tsprintf(message, \"key %x is pressed\\r\\n\", key_value);\n",
    "\t\tPuts(message);\n",
    "\n",
    "\t\t/*\n",
    "\t\tif(key_value == 0x1c)\n",
    "\t\t\tPuts(\"Key 'A' is pressed\\r\\n\");\n",
    "\n",
    "\t\t*/\n",
    "\n",
    "\t\tcount = 0;\n",
    "\t\tkey_value = 0;\n",
    "\t}\n",
    "}\n",
    "\n",
    "\n",
    "int main(void)\n",
    "{\n",
    "\t\n",
    "\tDDRA = 0x00;\n",
    "\n",
    "\tUCSR0A = 0x00;\n",
    "\tUCSR0B = 0x18;\n",
    "\tUCSR0C = 0x06;\n",
    "\tUBRR0H = 0;\n",
    "\tUBRR0L = 8;\n",
    "\n",
    "\tPuts(\"KEYBOARD SNIFFING START!\\r\\n\");\n",
    "\n",
    "    EIMSK = 0b00000001;    /* INT0 ENABLE */\n",
    "    EICRA = 0b00000010;    /* INT0 -> falling edge濡� �ㅼ젙 */\n",
    "    EIFR = 0b00000000;     /* flag clear */\n",
    "    sei();\n",
    "\n",
    "\twhile(1)\n",
    "\t{\n",
    "\t}\n",
    "}\n",
    "\n",
    "```"
   ]
  },
  {
   "cell_type": "code",
   "execution_count": null,
   "metadata": {
    "collapsed": true
   },
   "outputs": [],
   "source": []
  }
 ],
 "metadata": {
  "kernelspec": {
   "display_name": "Python 2",
   "language": "python",
   "name": "python2"
  },
  "language_info": {
   "codemirror_mode": {
    "name": "ipython",
    "version": 2
   },
   "file_extension": ".py",
   "mimetype": "text/x-python",
   "name": "python",
   "nbconvert_exporter": "python",
   "pygments_lexer": "ipython2",
   "version": "2.7.6"
  }
 },
 "nbformat": 4,
 "nbformat_minor": 0
}
