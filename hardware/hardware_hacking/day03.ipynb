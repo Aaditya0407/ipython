{
 "cells": [
  {
   "cell_type": "markdown",
   "metadata": {},
   "source": [
    "# day03 유무선 공유기 해킹"
   ]
  },
  {
   "cell_type": "markdown",
   "metadata": {},
   "source": [
    "- 시스템 해킹, ARM Exploit\n",
    "\n",
    "\n",
    "- 국내에서 가장 많이 사용되는 공유기로 선정\n",
    "- 최신 모델로 선정(?)\n",
    "- OS나 서비스의 취약점보단, 제조사에서 개발한 프로그램들을 대상으로 취약점 탐색\n",
    "  - ex) CGI, 모듈"
   ]
  },
  {
   "cell_type": "markdown",
   "metadata": {},
   "source": [
    "## 유무선 공유기의 공격 벡터들\n",
    "\n",
    "- 공유기 관리페이지\n",
    "  - 웹 해킹(Shell command execution)\n",
    "  - CGI 해킹(Memory corruption)\n",
    "- 공유기 원격 서비스 공격\n",
    "  - dhcpd, webserver, ftpserver, VPN\n",
    "- Malformed packet\n",
    "  - kernel의 network stack 공격"
   ]
  },
  {
   "cell_type": "markdown",
   "metadata": {},
   "source": [
    "- 중요한건 CPU, Flash Memory"
   ]
  },
  {
   "cell_type": "markdown",
   "metadata": {},
   "source": [
    "## Firmware 획득하기\n",
    "\n",
    "- firmware\\_획득하기\n",
    "- 업데이트 파일 다운받기\n",
    "- "
   ]
  },
  {
   "cell_type": "markdown",
   "metadata": {},
   "source": [
    "- tp-link, netgear: uPnP 막힘\n",
    "- 52.68.40.9 training/training"
   ]
  },
  {
   "cell_type": "markdown",
   "metadata": {},
   "source": [
    "# 3. ARM Exploitation\n",
    "\n",
    "- run.bat 만 실행하면 됨\n",
    "- pdf 들어있을텐데 거기 설명서도 있음\n",
    "- Cross Compiler 이용\n",
    "  - "
   ]
  },
  {
   "cell_type": "markdown",
   "metadata": {},
   "source": [
    "- 한번에 나와있는 내용들을 저것들의 비밀들이 밝혀지게 된다.\n",
    "- mips용 크로스 컴파일러를 받아서 mips용 gdb로 분석하면 됨\n",
    "- bl(branch with link): call\n",
    "- arm은 stack에 여러개를 한 번에 넣을 수도 있다. 뒤에 있는 것이 먼저 들어간다.\n",
    "- bx lr(Link Register)"
   ]
  }
 ],
 "metadata": {
  "kernelspec": {
   "display_name": "Python 2",
   "language": "python",
   "name": "python2"
  },
  "language_info": {
   "codemirror_mode": {
    "name": "ipython",
    "version": 2
   },
   "file_extension": ".py",
   "mimetype": "text/x-python",
   "name": "python",
   "nbconvert_exporter": "python",
   "pygments_lexer": "ipython2",
   "version": "2.7.6"
  }
 },
 "nbformat": 4,
 "nbformat_minor": 0
}
