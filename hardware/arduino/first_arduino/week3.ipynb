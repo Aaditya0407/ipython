{
 "metadata": {
  "name": "",
  "signature": "sha256:68926504af900268c2ff3a9142b7652266361f940b1f10cc10815159ed930bc8"
 },
 "nbformat": 3,
 "nbformat_minor": 0,
 "worksheets": [
  {
   "cells": [
    {
     "cell_type": "markdown",
     "metadata": {},
     "source": [
      "# Week3 RGB"
     ]
    },
    {
     "cell_type": "markdown",
     "metadata": {},
     "source": [
      "## 3\uac1c LED \uc5f0\uc18d\uc73c\ub85c \ub3cc\uae30"
     ]
    },
    {
     "cell_type": "markdown",
     "metadata": {},
     "source": [
      "```c\n",
      "int blue = 9;\n",
      "int green = 10;\n",
      "int red = 11;\n",
      "\n",
      "#define SIZE 255\n",
      "\n",
      "void setup() {\n",
      "}\n",
      "\n",
      "void loop() {\n",
      "  \n",
      "  for(int i=255; i>=0; i--)\n",
      "  {\n",
      "    analogWrite(red, i);\n",
      "    delay(10);\n",
      "  }\n",
      "  \n",
      "  for(int i=0; i<=255; i++)\n",
      "  {\n",
      "    analogWrite(red, i);\n",
      "    delay(10);\n",
      "  }\n",
      "  \n",
      "  \n",
      "  for(int i=255; i>=0; i--)\n",
      "  {\n",
      "    analogWrite(green, i);\n",
      "    delay(10);\n",
      "  }\n",
      "  \n",
      "  for(int i=0; i<=255; i++)\n",
      "  {\n",
      "    analogWrite(green, i);\n",
      "    delay(10);\n",
      "  }\n",
      "  \n",
      "  \n",
      "  for(int i=255; i>=0; i--)\n",
      "  {\n",
      "    analogWrite(blue, i);\n",
      "    delay(10);\n",
      "  }\n",
      "  \n",
      "  for(int i=0; i<=255; i++)\n",
      "  {\n",
      "    analogWrite(blue, i);\n",
      "    delay(10);\n",
      "  }\n",
      "  \n",
      "  \n",
      "}\n",
      "```"
     ]
    },
    {
     "cell_type": "markdown",
     "metadata": {},
     "source": [
      "### RGB \uc11c\uc11c\ud788 \ubc14\ub00c\ub294\uac70"
     ]
    },
    {
     "cell_type": "markdown",
     "metadata": {},
     "source": [
      "```c\n",
      "int blue = 9;\n",
      "int green = 10;\n",
      "int red = 11;\n",
      "\n",
      "#define SIZE 255\n",
      "\n",
      "void setup() {\n",
      "}\n",
      "\n",
      "void loop() {\n",
      "  for(int i=255; i>=0; i--)\n",
      "  {\n",
      "    analogWrite(red, i);\n",
      "    analogWrite(blue, 255-i);\n",
      "    delay(10);\n",
      "  }\n",
      "\n",
      "  for(int i=255; i>=0; i--)\n",
      "  {\n",
      "    analogWrite(green, i);\n",
      "    analogWrite(red, 255-i);\n",
      "    delay(10);\n",
      "  }\n",
      "\n",
      "  for(int i=255; i>=0; i--)\n",
      "  {\n",
      "    analogWrite(blue, i);\n",
      "    analogWrite(green, 255-i);\n",
      "    delay(10);\n",
      "  }\n",
      "}\n",
      "```"
     ]
    },
    {
     "cell_type": "markdown",
     "metadata": {},
     "source": [
      "## RGB\uc640 LED \uc5f0\ub3d9\ud574\uc11c \ubc1d\uae30 \uc870\uc808\ud558\uae30"
     ]
    },
    {
     "cell_type": "markdown",
     "metadata": {},
     "source": [
      "```c\n",
      "int red = 11;\n",
      "int value;\n",
      "\n",
      "void setup() {\n",
      "  // put your setup code here, to run once:\n",
      "  Serial.begin(9600);\n",
      "}\n",
      "\n",
      "void loop() {\n",
      "  // put your main code here, to run repeatedly: \n",
      "  value = analogRead(A3);\n",
      "  Serial.println( value );\n",
      "  analogWrite(red, value/4);\n",
      "  delay(10);\n",
      "}\n",
      "```"
     ]
    },
    {
     "cell_type": "markdown",
     "metadata": {},
     "source": [
      "### map \ud568\uc218 \uc801\uc6a9"
     ]
    },
    {
     "cell_type": "markdown",
     "metadata": {},
     "source": [
      "```c\n",
      "int red = 11;\n",
      "int value;\n",
      "\n",
      "void setup() {\n",
      "  // put your setup code here, to run once:\n",
      "  Serial.begin(9600);\n",
      "}\n",
      "\n",
      "void loop() {\n",
      "  // put your main code here, to run repeatedly: \n",
      "  value = analogRead(A3);\n",
      "  Serial.print( value );\n",
      "  value = map(value, 0, 1023, 0, 255);\n",
      "  Serial.print(\" : \");\n",
      "  Serial.println( value );\n",
      "  analogWrite(red, value);\n",
      "  delay(10);\n",
      "}\n",
      "```"
     ]
    }
   ],
   "metadata": {}
  }
 ]
}