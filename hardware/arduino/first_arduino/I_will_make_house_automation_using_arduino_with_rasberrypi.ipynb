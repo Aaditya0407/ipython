{
 "metadata": {
  "celltoolbar": "Slideshow",
  "name": "",
  "signature": "sha256:56805fe12cf44458601e58f363a66dfddff65f5424252c7ac19528bcf234cecd"
 },
 "nbformat": 3,
 "nbformat_minor": 0,
 "worksheets": [
  {
   "cells": [
    {
     "cell_type": "markdown",
     "metadata": {
      "slideshow": {
       "slide_type": "slide"
      }
     },
     "source": [
      "# I will make house automation using arduino with rasberrypi"
     ]
    },
    {
     "cell_type": "markdown",
     "metadata": {
      "slideshow": {
       "slide_type": "slide"
      }
     },
     "source": [
      "## \uac1c\uc694\n",
      "\n",
      "1. \ubaa9\uc801\n",
      "2. \uac1c\ub150\ub3c4\n",
      "3. \uad6c\uc131\ub3c4\n",
      "4. \uc900\ube44\ubb3c\n",
      "5. \ub2e8\uacc4\n",
      "6. \ub370\ubaa8\n",
      "7. \ucc38\uace0\uc790\ub8cc"
     ]
    },
    {
     "cell_type": "markdown",
     "metadata": {
      "slideshow": {
       "slide_type": "slide"
      }
     },
     "source": [
      "### \ubaa9\uc801\n",
      "\n",
      "- \ube44\ub2d0 \ud558\uc6b0\uc2a4\uc758 \uac1c\ud3d0\uae30 \uc2a4\ub9c8\ud2b8\ud3f0\uc73c\ub85c \uc81c\uc5b4 -> \uc4f8\ub370\uc5c6\uc774 \uc6c0\uc9c1\uc774\ub294 \uc2dc\uac04 \uc904\uc774\uae30\n",
      "- \uc880 \ub354 \uc9c4\ub3c4 \ub098\uac00\uc790\uba74 DB\uc5d0 \uc628\ub3c4, \uc5f4\uace0 \ub2eb\uc740 \uc2dc\uac04 \uc800\uc7a5\n",
      "  - \uc77c\uad11 \uc2dc\uac04\n",
      "  - \ucd5c\uc801 \uc628\ub3c4 \ucc3e\uae30\n",
      "\n",
      "\n",
      "1. \ube44\ub2d0 \ud558\uc6b0\uc2a4 \uc2a4\ub9c8\ud2b8\ud3f0\uc73c\ub85c \uac1c\ud3d0\n",
      "2. \ucee4\ud150\uc744 \uc77c\uc815 \uc2dc\uac04\uc5d0 \uc790\ub3d9\uc73c\ub85c \ub2eb\uae30\n",
      "3. \uc2dd\ubb3c\uc5d0\uac8c \ubb3c\uc744 \uc790\ub3d9\uc73c\ub85c \uc8fc\uae30\n",
      "  - \uc790\ub3d9 \ubc38\ube0c \uc5f4\uace0 \ub2eb\uae30\n",
      "  - \ud0c0\uc774\uba38\uc5d0 \ub530\ub77c \uc77c\uc815 \uc2dc\uac04 \ubb3c \uc8fc\uae30"
     ]
    },
    {
     "cell_type": "markdown",
     "metadata": {
      "slideshow": {
       "slide_type": "slide"
      }
     },
     "source": [
      "### \uac1c\ub150\ub3c4\n",
      "\n",
      "<img src=\"images/concept.png\" />"
     ]
    },
    {
     "cell_type": "markdown",
     "metadata": {
      "slideshow": {
       "slide_type": "slide"
      }
     },
     "source": [
      "### \uad6c\uc131\ub3c4\n",
      "\n",
      "<img src=\"images/structure.png\" />"
     ]
    },
    {
     "cell_type": "markdown",
     "metadata": {
      "slideshow": {
       "slide_type": "slide"
      }
     },
     "source": [
      "### \uc6f9 \ud398\uc774\uc9c0\n",
      "\n",
      "<img src=\"images/smart_control.png\" />"
     ]
    },
    {
     "cell_type": "markdown",
     "metadata": {
      "slideshow": {
       "slide_type": "slide"
      }
     },
     "source": [
      "### Operation1\n",
      "\n",
      "<img src=\"images/operation1.png\" />"
     ]
    },
    {
     "cell_type": "markdown",
     "metadata": {
      "slideshow": {
       "slide_type": "slide"
      }
     },
     "source": [
      "### Operation2\n",
      "\n",
      "<img src=\"images/operation2.png\" />"
     ]
    },
    {
     "cell_type": "markdown",
     "metadata": {
      "slideshow": {
       "slide_type": "slide"
      }
     },
     "source": [
      "### \uc900\ube44\ubb3c\n",
      "\n",
      "1. \uc13c\uc11c\n",
      "  - \uc2b5\ub3c4 \uc13c\uc11c\n",
      "  - \ud48d\ud5a5 \uc13c\uc11c\n",
      "  - \ube57\ubb3c \uc13c\uc11c\n",
      "  - \ubc1d\uae30 \uc13c\uc11c?\n",
      "  - \ub3cc\ud48d \uc13c\uc11c?  \n",
      "2. \uc2a4\ub9c8\ud2b8\ud3f0\n",
      "3. \uc6f9 \uc11c\ubc84\n",
      "4. \uc804\uc6a9\uc120 \ub77c\uc778"
     ]
    },
    {
     "cell_type": "markdown",
     "metadata": {
      "slideshow": {
       "slide_type": "slide"
      }
     },
     "source": [
      "### \ub2e8\uacc4\n",
      "\n",
      "- \uc6f9\uc11c\ubc84 \uc81c\uc791\ud558\uc5ec \uc6d0\uaca9\uc5d0\uc11c \uc811\uadfc\n",
      "  - \uace0\uc815 ip\ub098 DDNS \uc124\uc815\n",
      "- \uac01 \uc815\ubcf4\ub4e4 \ubc1b\uc544\uc11c \uc2dc\uac01\ud654\n",
      "  - \uc2dc\uac04\uc5d0 \ub530\ub77c\n",
      "- \uc544\ub450\uc774\ub178: \uc13c\uc11c\n",
      "- \ub77c\uc988\ubca0\ub9ac\ud30c\uc774: \uc6f9\uc11c\ubc84"
     ]
    },
    {
     "cell_type": "markdown",
     "metadata": {
      "slideshow": {
       "slide_type": "slide"
      }
     },
     "source": [
      "### \ub370\ubaa8"
     ]
    },
    {
     "cell_type": "code",
     "collapsed": false,
     "input": [
      "from IPython.display import YouTubeVideo\n",
      "YouTubeVideo('QU86DW1ehkM')"
     ],
     "language": "python",
     "metadata": {
      "slideshow": {
       "slide_type": "fragment"
      }
     },
     "outputs": [
      {
       "html": [
        "\n",
        "        <iframe\n",
        "            width=\"400\"\n",
        "            height=300\"\n",
        "            src=\"https://www.youtube.com/embed/QU86DW1ehkM\"\n",
        "            frameborder=\"0\"\n",
        "            allowfullscreen\n",
        "        ></iframe>\n",
        "        "
       ],
       "metadata": {},
       "output_type": "pyout",
       "prompt_number": 2,
       "text": [
        "<IPython.lib.display.YouTubeVideo at 0x1127ede10>"
       ]
      }
     ],
     "prompt_number": 2
    },
    {
     "cell_type": "markdown",
     "metadata": {
      "slideshow": {
       "slide_type": "slide"
      }
     },
     "source": [
      "### \ucc38\uace0\uc790\ub8cc"
     ]
    }
   ],
   "metadata": {}
  }
 ]
}