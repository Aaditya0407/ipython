{
 "metadata": {
  "name": "",
  "signature": "sha256:9ebda7f6e4f36a6efb8936f8aa1f4194ddcef843ff2041547bd5f9bbcf253549"
 },
 "nbformat": 3,
 "nbformat_minor": 0,
 "worksheets": [
  {
   "cells": [
    {
     "cell_type": "markdown",
     "metadata": {},
     "source": [
      "# Arduino debugging in Eclipse\n",
      "\n",
      "## \ubaa9\uc801\n",
      "\n",
      "- \uc544\ub450\uc774\ub178\ub97c \ud65c\uc6a9\ud558\uc5ec LED\uc5d0 \ubd88\uc774 \ub4e4\uc5b4\uc624\uac8c \ud558\ub294\uac74\ub370 Logic\uc774 \uc798\ubabb\ub410\ub294\uc9c0 \ub9c8\uc9c0\ub9c9\uc5d0 \ubd88\uc774 \uacc4\uc18d \ud55c \ubc88\uc529 \ub354 \ub4e4\uc5b4\uc624\uac8c \ub410\ub2e4. \uc774\uac78 \ub514\ubc84\uac70 \ubb3c\ub824\uc11c \ud55c\uc904\uc529 \ub530\ub77c\uac00\uba74 \uc27d\uac8c \uc774\ud574\ud560 \uc218 \uc788\uc744\uac70\ub77c \uc0dd\uac01\ud574\uc11c \ucc3e\uc544\ubcf4\uac8c \ub410\ub2e4.\n",
      "- \uacb0\ub860\uc740 \uc548\ub418\ub294\uac74\uac00?\n",
      "\n",
      "## \ucc38\uace0 \uc0ac\uc774\ud2b8\n",
      "\n",
      "- [Tutorial: Using Arduino In Eclipse - YouTube](http://www.youtube.com/watch?v=bmBrGRLOn98): \ub3d9\uc601\uc0c1\uc73c\ub85c \uc798 \ub530\ub77c\ud560 \uc218 \uc788\uac8c \ud574\ub1a8\ub2e4. Windows\uc6a9\uc774\ub77c \uc57d\uac04 \uc0c1\uc774\ud558\ub2e4. \uc911\uac04\uc5d0 Arduino \uacbd\ub85c \uc124\uc815\ud558\ub294 \ubd80\ubd84\uc5d0\uc11c Arduino.app\uc774 \uc120\ud0dd\ub418\uc9c0 \uc54a\uc544\uc11c \ud3ec\uae30\n",
      "\n",
      "## How to install Arduino Eclipse plugin?\n",
      "\n",
      "### \uc124\uce58 \uacfc\uc815\n",
      "\n",
      "- [Arduino Eclipse plugin: Which version to install?](http://www.baeyens.it/eclipse/installAdvice.shtml): \uc5ec\uae30\uc5d0 \uc798 \uc815\ub9ac\ub418\uc5b4 \uc788\uc74c\n",
      "\n",
      "### \ud544\uc694\ud55c \uac83\ub4e4\n",
      "\n",
      "- eclipse \uc124\uce58\ud558\uc9c0 \uc54a\uc544\ub3c4 \ub41c\ub2e4.\n",
      "- \uc54c\ud30c \ud14c\uc2a4\ud305?\n",
      "- [JDK \ucd5c\uc2e0 \ubc84\uc804](http://www.oracle.com/technetwork/java/javase/downloads/index.html)\n",
      "\n",
      "### \uc124\uce58 \uc21c\uc11c\n",
      "\n",
      "1. [Arduino - OldSoftwareReleases ](http://arduino.cc/en/Main/OldSoftwareReleases): Arduino IDE 1.5.2 beta \ubc84\uc804 \ubc1b\uae30\n",
      "2. [Arduino Eclipse plugin product download page](http://eclipse.baeyens.it/download.php): V2.2 \ubc84\uc804 \ubc1b\uae30\n",
      "3. Arduino Eclipse \uc5d0\uc11c \ud658\uacbd \uc124\uc815\uc5d0 \ub4e4\uc5b4\uac00\uc11c Arduino path\uc5d0 \ub0b4 Arduino \uacbd\ub85c\ub97c \uc124\uc815\ud55c\ub2e4.\n",
      "\n",
      "![arduino_path](images/arduino_path.png)\n",
      "\n",
      "### \ubb38\uc81c\uc810\n",
      "\n",
      "- [Serial port already in use \u00b7 Issue #129 \u00b7 jantje/arduino-eclipse-plugin \u00b7 GitHub](https://github.com/jantje/arduino-eclipse-plugin/issues/129)\n",
      "- [The Eclipse Serial Monitor on Mac OSX | trippy lighting](http://trippylighting.com/teensy-arduino-ect/arduino-eclipse-plugin/the-serial-monitor-on-mac-osx/)\n",
      "- [java - RxTx on Mac - Serial port already in use - Stack Overflow](http://stackoverflow.com/questions/12866572/rxtx-on-mac-serial-port-already-in-use): already in use \ubc1c\uc0dd\uc2dc lock \uc744 \ub9cc\ub4e4\uc5b4\uc8fc\uace0 \uc77d\uace0 \uc4f0\uae30 \uad8c\ud55c \uc8fc\uba74 \ub428\n",
      "\n",
      ">- sudo mkdir /var/lock\n",
      "- sudo chmod a+rw /var/lock\n",
      "\n",
      "- [Debugging Arduino with the Eclipse IDE - Stack Overflow](http://stackoverflow.com/questions/19121966/debugging-arduino-with-the-eclipse-ide): \ub514\ubc84\uae45\uc774 \uc548\ub41c\ub2e4\ub124... \uadf8\ub0e5 IDE \uc5ed\ud560\ub85c\ub9cc \uc0ac\uc6a9\ud574\uc57c \ud560\ub4ef\ud558\ub2e4."
     ]
    }
   ],
   "metadata": {}
  }
 ]
}