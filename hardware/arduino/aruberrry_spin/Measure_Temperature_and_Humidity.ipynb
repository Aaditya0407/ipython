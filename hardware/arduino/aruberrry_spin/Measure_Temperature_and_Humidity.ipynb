{
 "metadata": {
  "name": "",
  "signature": "sha256:03062412a471b9b3a1779915af55c03a287cfcca7f8795a534b871c037f4feb7"
 },
 "nbformat": 3,
 "nbformat_minor": 0,
 "worksheets": [
  {
   "cells": [
    {
     "cell_type": "markdown",
     "metadata": {},
     "source": [
      "# Measure Temperature and Humidity\n",
      "\n",
      "## \uc6d0\ubcf8 \uc790\ub8cc\n",
      "\n",
      "- [\uc544\ub450\uc774\ub178 \ub85c\ubd07\uc744 \uc7ac\ubbf8\uc0bc\uc544 \uc2e4\uc2b5\ud558\ub294 \ubc29\ubc95 : \ub124\uc774\ubc84 \ube14\ub85c\uadf8](http://fribot.blog.me/60202616422)"
     ]
    },
    {
     "cell_type": "markdown",
     "metadata": {},
     "source": [
      "### \uc2e4\ud5d8 \uc21c\uc11c\n",
      "\n",
      "1. \ub2e4\uc6b4\ubc1b\uc740 \ud3f4\ub354\ub97c \uc544\ub450\uc774\ub178 \ud504\ub85c\uadf8\ub7a8\uc774 \uc124\uce58\ub41c \ub514\ub809\ud1a0\ub9ac \uc911 libraries\uc5d0 \ubcf5\uc0ac/\ubd99\uc5ec\ub123\uae30 \ud55c\ub2e4.(mac \uae30\uc900 ~/Documents/Arduino/libraries)\n",
      "  - \uc6b0\ub9ac\uac00 \ub77c\uc774\ube0c\ub7ec\ub9ac\ub97c \uc0ac\uc6a9\ud558\uae30 \uc704\ud574\uc11c\ub294 \ud544\uc694\ud558\ub2e4.\n",
      "2. \uc544\ub450\uc774\ub178 IDE\uac00 \uc5f4\ub824\uc838 \uc788\ub2e4\uba74 \ub2e4\uc2dc \ub2eb\uc740 \ud6c4\uc5d0 \uc5f4\uc5b4\uc57c SHT1\uc774 \ud30c\uc77c-\uc608\uc800 \ud3f4\ub354\uc5d0\uc11c \uc81c\ub300\ub85c \ubcf4\uc778\ub2e4.\n",
      "3. \uc628/\uc2b5\ub3c4 \uc13c\uc11c\ub97c \ubcf4\uba74 \uad6c\uba4d\uc774 \ud68c\ub85c\uac00 \uc5f0\uacb0\ub41c \ucabd\uc5d0 \uc788\ub2e4. \uadf8\uacf3\uc774 \uae30\uc900\n",
      "  - \uc704\uc5d0\uc11c\ubd80\ud130 VDD: \uc544\ub450\uc774\ub178 Vin, SCK: \uc544\ub450\uc774\ub178 Data 11, DATA: \uc544\ub450\uc774\ub178 Data 10, GND: \uc544\ub450\uc774\ub178 GND"
     ]
    },
    {
     "cell_type": "markdown",
     "metadata": {},
     "source": [
      "### Source Code\n",
      "\n",
      "```c\n",
      "#include <SHT1x.h>\n",
      "#define dataPin 10\n",
      "#define clockPin 11\n",
      "SHT1x sht1x(dataPin, clockPin);\n",
      "void setup() {\n",
      "  Serial.begin(9600);\n",
      "}\n",
      "void loop() {\n",
      "  float tempC = sht1x.readTemperatureC();\n",
      "  Serial.print(tempC);\n",
      "  Serial.print(\" C | \");\n",
      "  \n",
      "  float humidity = sht1x.readHumidity();\n",
      "  Serial.print(humidity);\n",
      "  Serial.println(\" %\");\n",
      "}\n",
      "```\n",
      "\n",
      "- sht1x.readTemperatureC\ub85c \uc628\ub3c4\uac12 \uc77d\uc5b4\uc11c \ubfcc\ub824\uc8fc\uace0\n",
      "- sht1x.readHumidity\ub85c \uc2b5\ub3c4\uac12 \uc77d\uc5b4\uc11c \ubfcc\ub9ac\uae30"
     ]
    },
    {
     "cell_type": "markdown",
     "metadata": {},
     "source": [
      "### Output and Source Code\n",
      "\n",
      "<img src=\"images/temperature_humidity.png\" width=300 />\n",
      "<img src=\"images/temperature_humidity2.png\" width=500 />"
     ]
    },
    {
     "cell_type": "markdown",
     "metadata": {},
     "source": [
      "### IC\uc758 \ubc18\ub2ec \ubaa8\uc591\n",
      "\n",
      "- IC\uc758 \ubc29\ud5a5\uc744 \ub098\ud0c0\ub0c4\n",
      "- 1\ubc88 \ud540\uc758 \uc704\uce58\ub97c \uc54c\uc544\ub0bc \uc218 \uc788\uc74c\n",
      "- \ubc88\ud638\ub294 \uc77c\ubc18\uc801\uc73c\ub85c \ubc18\uc2dc\uacc4 \ubc29\ud5a5\uc73c\ub85c \uc138\uac8c \ub428\n",
      "- [\ubc18\ub3c4\uccb4, \uc804\uc790\ubd80\ud488 \uce74\ud398, \uc5d4\uc9c0\ub2c8\uc5b4 \uce74\ud398, \uc784\ubca0\ub514\ub4dc, \ub85c\ubd07, \uba54\ubaa8\ub9ac -IC\ubc45\ud050(ICbanQ)](http://www.icbanq.com/cafe_net/board_View.aspx?number=1667&boardNum=4)\n",
      "- \uc13c\uc11c\uc758 \uacbd\uc6b0\ub294 \uad6c\uba4d\uc73c\ub85c \ud310\ub2e8(\uc5f0\uacb0\ub418\uc5b4 \uc788\ub294 \uc120 \uae30\uc900)"
     ]
    },
    {
     "cell_type": "markdown",
     "metadata": {},
     "source": [
      "### \uc544\ub450\uc774\ub178 \ubb38\uc81c \ubc1c\uc0dd\ud588\uc73c\ub098 \uace0\uccd0\uc9d0\n",
      "\n",
      "- \uc544\ub450\uc774\ub178\uc5d0 \uc2b5\ub3c4 \uc13c\uc11c\ub97c \uc5f0\uacb0\ud558\uace0 \uc2e4\ud5d8\ud558\ub358 \uc911 usb cable\uc744 \uac15\uc81c \ud0c8\ucc29\uc744 \ud558\ub294 \uacfc\uc815\uc5d0\uc11c \ubb38\uc81c\uac00 \ubc1c\uc0dd\ud588\uc5c8\ub358\ub4ef. \uadf8\ub798\uc11c \uc9c0\uc18d\uc801\uc73c\ub85c \uc544\ub450\uc774\ub178\uac00 \uc2dc\ub9ac\uc5bc \ud3ec\ud2b8\ub85c \uc778\uc2dd\ub418\uc9c0 \uc54a\uc558\uc74c\n",
      "- \uacc4\uc18d usb \ud3ec\ud2b8\ub97c \ubc14\uafd4 \ubcf4\uace0 \uc7ac\ubd80\ud305\ub3c4 \ud574\ubcf4\uc558\uc73c\ub098 \ud574\uacb0\ub418\uc9c0 \uc54a\uc74c\n",
      "- \uc2ec\uc9c0\uc5b4 \ub2e4\ub978 \ub178\ud2b8\ubd81\uc5d0 \uc544\ub450\uc774\ub178\ub97c \uc5f0\uacb0\ud574 \ubcf4\uc558\uc73c\ub098 \uc2e4\ud328\n",
      "- \uc544\ub450\uc774\ub178 \ubcf4\ub4dc\uac00 \ud0c4 \uac83\uc73c\ub85c \uc778\uc2dd\ud588\uc73c\ub098 \uc9d1\uc5d0 \uc640\uc11c \ub2e4\uc2dc \ud55c \ubc88 \uc2e4\uc2b5\uc744 \ud574\ubcf4\ub2c8 \uc815\uc0c1\uc801\uc73c\ub85c \uc5f0\uacb0. \uc774\ub54c \ube75\ud310\uc5d0 \uc5b4\uc9c0\ub7fd\uac8c \ubd99\uc5b4\uc788\ub358 \uac83\ub4e4\uc740 \ubaa8\ub450 \uc81c\uac70 \ud6c4 \ub2e4\uc2dc \uc2dc\ub3c4\ud588\uc74c\n",
      "- USB cable\ub3c4 \ubcc0\uacbd\ud574 \ubcf4\uc558\uc73c\ub098 \ub611\uac19\uc774 \uc798 \ub428.\n",
      "- \uacb0\ub860: \uc548\ub418\uba74 \ucef4\ud4e8\ud130 \uc7ac\ubd80\ud305, usb \ubcc0\uacbd, \uc77c\uc815\uc2dc\uac04 \uc9c0\ub09c \ud6c4 \uc7ac\uc2dc\ub3c4\ub97c \ud558\uc790!\n",
      "- \uc544\ub450\uc774\ub178 \ud68c\ub85c\uac00 \ud0d4\ub2e4\uba74 ON LED\uc5d0 \ubd88\ub3c4 \ub4e4\uc5b4\uc624\uc9c0 \uc54a\uc558\uc744\ub4ef.. \ub0b4 \uae30\uc5b5\uc73c\ub85c\ub294 ON LED\uc5d0 \ubd88\uc774 \uacc4\uc18d \ub4e4\uc5b4\uc640 \uc788\uc5c8\uc74c"
     ]
    }
   ],
   "metadata": {}
  }
 ]
}